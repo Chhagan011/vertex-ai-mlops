{
 "cells": [
  {
   "cell_type": "markdown",
   "id": "0053848f",
   "metadata": {},
   "source": [
    "![tracker](https://us-central1-vertex-ai-mlops-369716.cloudfunctions.net/pixel-tracking?path=statmike%2Fvertex-ai-mlops%2FApplied+Optimization&file=Vertex+AI+Vizier+-+Getting+Started.ipynb)\n",
    "<!--- header table --->\n",
    "<table align=\"left\">\n",
    "  <td style=\"text-align: center\">\n",
    "    <a href=\"https://colab.research.google.com/github/statmike/vertex-ai-mlops/blob/main/Applied%20Optimization/Vertex%20AI%20Vizier%20-%20Getting%20Started.ipynb\">\n",
    "      <img src=\"https://cloud.google.com/ml-engine/images/colab-logo-32px.png\" alt=\"Google Colaboratory logo\">\n",
    "      <br>Run in<br>Colab\n",
    "    </a>\n",
    "  </td>\n",
    "  <td style=\"text-align: center\">\n",
    "    <a href=\"https://console.cloud.google.com/vertex-ai/colab/import/https%3A%2F%2Fraw.githubusercontent.com%2Fstatmike%2Fvertex-ai-mlops%2Fmain%2FApplied%2520Optimization%2FVertex%2520AI%2520Vizier%2520-%2520Getting%2520Started.ipynb\">\n",
    "      <img width=\"32px\" src=\"https://lh3.googleusercontent.com/JmcxdQi-qOpctIvWKgPtrzZdJJK-J3sWE1RsfjZNwshCFgE_9fULcNpuXYTilIR2hjwN\" alt=\"Google Cloud Colab Enterprise logo\">\n",
    "      <br>Run in<br>Colab Enterprise\n",
    "    </a>\n",
    "  </td>      \n",
    "  <td style=\"text-align: center\">\n",
    "    <a href=\"https://github.com/statmike/vertex-ai-mlops/blob/main/Applied%20Optimization/Vertex%20AI%20Vizier%20-%20Getting%20Started.ipynb\">\n",
    "      <img src=\"https://cloud.google.com/ml-engine/images/github-logo-32px.png\" alt=\"GitHub logo\">\n",
    "      <br>View on<br>GitHub\n",
    "    </a>\n",
    "  </td>\n",
    "  <td style=\"text-align: center\">\n",
    "    <a href=\"https://console.cloud.google.com/vertex-ai/workbench/deploy-notebook?download_url=https://raw.githubusercontent.com/statmike/vertex-ai-mlops/main/Applied%20Optimization/Vertex%20AI%20Vizier%20-%20Getting%20Started.ipynb\">\n",
    "      <img src=\"https://lh3.googleusercontent.com/UiNooY4LUgW_oTvpsNhPpQzsstV5W8F7rYgxgGBD85cWJoLmrOzhVs_ksK_vgx40SHs7jCqkTkCk=e14-rj-sc0xffffff-h130-w32\" alt=\"Vertex AI logo\">\n",
    "      <br>Open in<br>Vertex AI Workbench\n",
    "    </a>\n",
    "  </td>\n",
    "</table>"
   ]
  },
  {
   "cell_type": "markdown",
   "id": "55664f4e-5d97-49d9-aa65-f3fb37a2b51c",
   "metadata": {},
   "source": [
    "# Vertex AI Vizier - Getting Started\n"
   ]
  },
  {
   "cell_type": "markdown",
   "id": "aac80f68-d3e8-4ed5-b01e-7be3480b0cc3",
   "metadata": {
    "id": "od_UkDpvRmgD",
    "tags": []
   },
   "source": [
    "---\n",
    "## Colab Setup\n",
    "\n",
    "To run this notebook in Colab run the cells in this section.  Otherwise, skip this section.\n",
    "\n",
    "This cell will authenticate to GCP (follow prompts in the popup)."
   ]
  },
  {
   "cell_type": "code",
   "execution_count": null,
   "id": "a9c441d9-6973-492b-9386-3ba523016abb",
   "metadata": {
    "executionInfo": {
     "elapsed": 195,
     "status": "ok",
     "timestamp": 1683726184843,
     "user": {
      "displayName": "Mike Henderson",
      "userId": "07691629187611687318"
     },
     "user_tz": 240
    },
    "id": "8UO9FnqyKBlF",
    "tags": []
   },
   "outputs": [],
   "source": [
    "PROJECT_ID = 'statmike-mlops-349915' # replace with project ID"
   ]
  },
  {
   "cell_type": "code",
   "execution_count": null,
   "id": "a100e3d1-c92e-47af-b008-8c29bcc9d0f8",
   "metadata": {
    "colab": {
     "base_uri": "https://localhost:8080/"
    },
    "executionInfo": {
     "elapsed": 68869,
     "status": "ok",
     "timestamp": 1683726253709,
     "user": {
      "displayName": "Mike Henderson",
      "userId": "07691629187611687318"
     },
     "user_tz": 240
    },
    "id": "N98-KK7LRkjm",
    "outputId": "09ec5008-0def-4e1a-c349-c598ee752f78",
    "tags": []
   },
   "outputs": [],
   "source": [
    "try:\n",
    "    from google.colab import auth\n",
    "    auth.authenticate_user()\n",
    "    !gcloud config set project {PROJECT_ID}\n",
    "    print('Colab authorized to GCP')\n",
    "except Exception:\n",
    "    print('Not a Colab Environment')\n",
    "    pass"
   ]
  },
  {
   "cell_type": "markdown",
   "id": "aad346e8-9e32-4bba-90a3-e55463bbb84d",
   "metadata": {},
   "source": [
    "---\n",
    "## Installs\n",
    "\n",
    "The list `packages` contains tuples of package import names and install names.  If the import name is not found then the install name is used to install quitely for the current user."
   ]
  },
  {
   "cell_type": "code",
   "execution_count": null,
   "id": "62f20424-1e62-4f36-871f-7cc80f3068e7",
   "metadata": {
    "tags": []
   },
   "outputs": [],
   "source": [
    "# tuples of (import name, install name, min_version)\n",
    "packages = [\n",
    "    ('numpy', 'numpy'),\n",
    "    ('plotly', 'plotly'),\n",
    "    ('scipy', 'scipy'),\n",
    "    ('matplotlib', 'matplotlib'),\n",
    "    ('google.cloud.aiplatform', 'google-cloud-aiplatform')\n",
    "]\n",
    "\n",
    "import importlib\n",
    "install = False\n",
    "for package in packages:\n",
    "    if not importlib.util.find_spec(package[0]):\n",
    "        print(f'installing package {package[1]}')\n",
    "        install = True\n",
    "        !pip install {package[1]} -U -q --user\n",
    "    elif len(package) == 3:\n",
    "        if importlib.metadata.version(package[0]) < package[2]:\n",
    "            print(f'updating package {package[1]}')\n",
    "            install = True\n",
    "            !pip install {package[1]} -U -q --user"
   ]
  },
  {
   "cell_type": "markdown",
   "id": "c97b583e-f9ff-4728-b91b-6c57baff3928",
   "metadata": {},
   "source": [
    "### Restart Kernel (If Installs Occured)\n",
    "\n",
    "After a kernel restart the code submission can start with the next cell after this one."
   ]
  },
  {
   "cell_type": "code",
   "execution_count": null,
   "id": "7e2bd749-88e6-4822-9090-cd7a3b17d472",
   "metadata": {
    "tags": []
   },
   "outputs": [],
   "source": [
    "if install:\n",
    "    import IPython\n",
    "    app = IPython.Application.instance()\n",
    "    app.kernel.do_shutdown(True)\n",
    "    IPython.display.display(IPython.display.Markdown(\"\"\"<div class=\\\"alert alert-block alert-warning\\\">\n",
    "        <b>⚠️ The kernel is going to restart. Please wait until it is finished before continuing to the next step. The previous cells do not need to be run again⚠️</b>\n",
    "        </div>\"\"\"))"
   ]
  },
  {
   "cell_type": "markdown",
   "id": "5a4e1e31-f74b-4529-805a-d048b37560fd",
   "metadata": {},
   "source": [
    "---\n",
    "## Setup"
   ]
  },
  {
   "cell_type": "markdown",
   "id": "f7c9db9c-6b18-45cf-b376-a7713a897b5d",
   "metadata": {},
   "source": [
    "inputs:"
   ]
  },
  {
   "cell_type": "code",
   "execution_count": null,
   "id": "943476ac-6d6b-4e37-ab80-0417826e55ea",
   "metadata": {
    "tags": []
   },
   "outputs": [],
   "source": [
    "project = !gcloud config get-value project\n",
    "PROJECT_ID = project[0]\n",
    "PROJECT_ID"
   ]
  },
  {
   "cell_type": "code",
   "execution_count": null,
   "id": "ac0b13cf-0f28-4ec5-9e4d-0367a6215395",
   "metadata": {
    "tags": []
   },
   "outputs": [],
   "source": [
    "REGION = 'us-central1'\n",
    "SERIES = 'applied-optimizaton'\n",
    "EXPERIMENT = 'vizier-getting-started'"
   ]
  },
  {
   "cell_type": "markdown",
   "id": "31096f84-8733-4d97-968e-6cdfb835a4de",
   "metadata": {},
   "source": [
    "packages:"
   ]
  },
  {
   "cell_type": "code",
   "execution_count": null,
   "id": "7dbac20e-5972-4650-be84-c38deaaa1029",
   "metadata": {
    "tags": []
   },
   "outputs": [],
   "source": [
    "from google.cloud import aiplatform\n",
    "\n",
    "import scipy.optimize\n",
    "\n",
    "import plotly.graph_objects as go\n",
    "from plotly.subplots import make_subplots\n",
    "import numpy as np"
   ]
  },
  {
   "cell_type": "markdown",
   "id": "530482c8-e70f-4398-bb84-81b582949e29",
   "metadata": {},
   "source": [
    "clients:\n",
    "\n",
    "The [Vizier Clients](https://cloud.google.com/python/docs/reference/aiplatform/latest/google.cloud.aiplatform_v1.services.vizier_service)."
   ]
  },
  {
   "cell_type": "code",
   "execution_count": null,
   "id": "acc1bc74-36e4-47bc-9403-158eaa2afb74",
   "metadata": {},
   "outputs": [],
   "source": [
    "vizier = aiplatform.gapic.VizierServiceClient(\n",
    "    client_options = {\"api_endpoint\" : f\"{REGION}-aiplatform.googleapis.com\"}\n",
    ")"
   ]
  },
  {
   "cell_type": "markdown",
   "id": "5deab2f2-e65e-4d84-9990-49500e6533b6",
   "metadata": {},
   "source": [
    "Parameters:"
   ]
  },
  {
   "cell_type": "code",
   "execution_count": null,
   "id": "61ebd9c7-7c02-4e70-a0fe-8c3dfb53c384",
   "metadata": {
    "tags": []
   },
   "outputs": [],
   "source": [
    "PARENT = f\"projects/{PROJECT_ID}/locations/{REGION}\""
   ]
  },
  {
   "cell_type": "markdown",
   "id": "b63c940e-ea26-4a35-8b01-888ee841fd2c",
   "metadata": {},
   "source": [
    "---\n",
    "## The Problem\n",
    "\n",
    "In real-world scenarios we have parameters we can control or atleast monitor.  But we don't always know the underlying system.  Why does this matter?  Well, that leaves us guessing what the best parameter values are to meet an objective, like minimum or maximum output.  Some scenarios like this:\n",
    "- ML Hyperparameters\n",
    "    - Best setting for hyperparameters to optimize accuracy (and minimize complexity...)\n",
    "- AutoML\n",
    "    - Best model type and setting for a given dataset\n",
    "- System Design\n",
    "    - Maximize speed while minimizing resource consumption\n",
    "- Hardware Design\n",
    "    - Minimize power consumption while maximizing performance\n",
    "- Business Insights - The Pareto Frontier\n",
    "    - optimal solution for minimizing cost while maximizing revenue"
   ]
  },
  {
   "cell_type": "markdown",
   "id": "56893eca-b3f8-4743-8457-1a1badde03a6",
   "metadata": {},
   "source": [
    "### The Knobs\n",
    "\n",
    "Imagine we have two knobs (or 100) that can be adjusted:\n",
    "- `knob_1` is [-5, 5]\n",
    "- `knob_2` is [-5, 5]"
   ]
  },
  {
   "cell_type": "code",
   "execution_count": null,
   "id": "8e1e5b1d-b3e1-4a13-b3fa-e448517a8078",
   "metadata": {
    "tags": []
   },
   "outputs": [],
   "source": [
    "knob_1 = np.arange(-5, 5, 0.1)\n",
    "knob_2 = np.arange(-5, 5, 0.1)"
   ]
  },
  {
   "cell_type": "markdown",
   "id": "46a34e11-5309-4c97-8dd5-54c0c7db0de9",
   "metadata": {},
   "source": [
    "### The Hidden Process(es)\n",
    "\n",
    "We don't know the hidden processes but image we do in this case.  Here, functions defines a process.  If we knew these function then we could use calculus or numerical optimization to find the minimum/maximum values - but remember we dont know these functions."
   ]
  },
  {
   "cell_type": "code",
   "execution_count": null,
   "id": "8616984e-cd20-49b4-98d4-208c20273924",
   "metadata": {},
   "outputs": [],
   "source": [
    "def hidden_1(knob_1, knob_2):\n",
    "    \"\"\"\n",
    "    This function has a global maximum and several local maxima.\n",
    "    \"\"\"\n",
    "    x = knob_1\n",
    "    y = knob_2\n",
    "    return -(x**2 + y**2) * np.sin(x) * np.cos(0.5 * y) + 2\n",
    "\n",
    "def hidden_2(knob_1, knob_2):\n",
    "    \"\"\"\n",
    "    This function has a global maximum and a few local maxima.\n",
    "    \"\"\"\n",
    "    x = knob_1\n",
    "    y = knob_2\n",
    "    return -(x**2 + y**2) * np.cos(0.5 * x) * np.sin(y) - 1\n",
    "\n",
    "def hidden_3(knob_1, knob_2):\n",
    "    \"\"\"\n",
    "    This function has a global minimum and several local minima.\n",
    "    \"\"\"\n",
    "    x = knob_1\n",
    "    y = knob_2\n",
    "    return (x**2 + y**2) * np.sin(x) * np.sin(y)"
   ]
  },
  {
   "cell_type": "markdown",
   "id": "f661badb-da3f-401d-a3e2-c763cca7f840",
   "metadata": {},
   "source": [
    "### Numerical Optimization: What We Wish We Could Do In Real Life!"
   ]
  },
  {
   "cell_type": "code",
   "execution_count": null,
   "id": "4fc9e6cf-3927-4b0f-941e-dc6812fa0867",
   "metadata": {
    "tags": []
   },
   "outputs": [],
   "source": [
    "answer_1 = scipy.optimize.minimize(lambda x: hidden_1(x[0], x[1]), x0 = [0, 0], bounds = [(-5, 5), (-5, 5)]).fun\n",
    "answer_1"
   ]
  },
  {
   "cell_type": "code",
   "execution_count": null,
   "id": "8a5cccbe-fb5b-4886-b570-ae2e16ea02a8",
   "metadata": {
    "tags": []
   },
   "outputs": [],
   "source": [
    "answer_2 = -1*scipy.optimize.minimize(lambda x: -1*hidden_2(x[0], x[1]), x0 = [0, 0], bounds = [(-5, 5), (-5, 5)]).fun\n",
    "answer_2"
   ]
  },
  {
   "cell_type": "code",
   "execution_count": null,
   "id": "b025cd8b-98c0-4704-a371-f4f8ec17129d",
   "metadata": {
    "tags": []
   },
   "outputs": [],
   "source": [
    "answer_3 = -1*scipy.optimize.minimize(lambda x: -1*hidden_3(x[0], x[1]), x0 = [0, 0], bounds = [(-5, 5), (-5, 5)]).fun\n",
    "answer_3"
   ]
  },
  {
   "cell_type": "markdown",
   "id": "de8f5657-d8b7-4022-bc6c-31fae4c2147a",
   "metadata": {},
   "source": [
    "### Visualize The Hidden Process(es): If Only We Could!"
   ]
  },
  {
   "cell_type": "code",
   "execution_count": null,
   "id": "a41c25af-40aa-4d55-bfb8-e9d7357c63a7",
   "metadata": {
    "tags": []
   },
   "outputs": [],
   "source": [
    "# Create the meshgrid\n",
    "X, Y = np.meshgrid(knob_1, knob_2)\n",
    "\n",
    "# Create the surface plots\n",
    "surface1 = go.Surface(x=X, y=Y, z=hidden_1(X, Y), colorscale=\"reds\", name=\"Hidden 1 (Min)\", visible=True, showscale=False)\n",
    "surface2 = go.Surface(x=X, y=Y, z=hidden_2(X, Y), colorscale=\"blues\", name=\"Hidden 2 (Max)\", visible=True, showscale=False)\n",
    "surface3 = go.Surface(x=X, y=Y, z=hidden_3(X, Y), colorscale=\"greens\", name=\"Hidden 3 (Max)\", visible=True, showscale=False)"
   ]
  },
  {
   "cell_type": "code",
   "execution_count": null,
   "id": "56dc0ad5-a0fe-4faf-bd0f-37cd9174fba3",
   "metadata": {
    "tags": []
   },
   "outputs": [],
   "source": [
    "# Create the figure with subplots\n",
    "fig = make_subplots(\n",
    "    rows=1, cols=3,\n",
    "    specs=[[{\"is_3d\": True}, {\"is_3d\": True}, {\"is_3d\": True}]],\n",
    "    subplot_titles=(\"Hidden 1 (Min)\", \"Hidden 2 (Max)\", \"Hidden 3 (Max)\"),\n",
    ")\n",
    "\n",
    "# Create the surface plots and add them to the subplots\n",
    "fig.add_trace(surface1, row=1, col=1)\n",
    "fig.add_trace(surface2, row=1, col=2)\n",
    "fig.add_trace(surface3, row=1, col=3)\n",
    "\n",
    "# Update layout to add color bars to each subplot\n",
    "fig.update_layout(\n",
    "    scene1=dict(xaxis_title=\"Knob 1\", yaxis_title=\"Knob 2\", zaxis_title=\"Result\"),\n",
    "    scene2=dict(xaxis_title=\"Knob 1\", yaxis_title=\"Knob 2\", zaxis_title=\"Result\"),\n",
    "    scene3=dict(xaxis_title=\"Knob 1\", yaxis_title=\"Knob 2\", zaxis_title=\"Result\"),\n",
    "    autosize=False,\n",
    "    width=1200,  # Adjust width as needed\n",
    "    height=500,  # Adjust height as needed\n",
    ")\n",
    "\n",
    "# Display the plot\n",
    "fig.show()"
   ]
  },
  {
   "cell_type": "code",
   "execution_count": null,
   "id": "e8b7a1d3-c09d-4bc0-a788-27c0125f7756",
   "metadata": {
    "tags": []
   },
   "outputs": [],
   "source": [
    "fig.show('png')"
   ]
  },
  {
   "cell_type": "markdown",
   "id": "a3a1a049-888b-424e-8251-89882e2c6a90",
   "metadata": {},
   "source": [
    "### Competing Objectives\n",
    "\n",
    "To make things more difficult we might even need to simultaneously balance these hidden systems to find a combined minimum and maximum.   \n",
    "Once these process are overlaid it show that their is a lot of nuiance in the combine solution:"
   ]
  },
  {
   "cell_type": "code",
   "execution_count": null,
   "id": "89e1c4e9-8976-42c9-9b95-4e8a13205574",
   "metadata": {
    "tags": []
   },
   "outputs": [],
   "source": [
    "# Create the figure and add the surfaces\n",
    "fig = go.Figure(data=[surface1, surface2, surface3])\n",
    "\n",
    "# Add dropdown menu for toggling visibility\n",
    "fig.update_layout(\n",
    "    showlegend=False,  # Hide the legend\n",
    "    autosize=False,\n",
    "    width=1200,\n",
    "    height=800,\n",
    "    scene=dict(xaxis_title=\"Knob 1\", yaxis_title=\"Knob 2\", zaxis_title=\"Result\"),\n",
    "    title=\"Interactive Plot Competing Hidden Processes<br><sup>Red (Min), Blue (Max), Green (Max)</sup>\",    \n",
    ")\n",
    "\n",
    "# Display the plot\n",
    "fig.show()"
   ]
  },
  {
   "cell_type": "code",
   "execution_count": null,
   "id": "17dc8689-b835-4646-97c1-dbca0683bbd4",
   "metadata": {
    "tags": []
   },
   "outputs": [],
   "source": [
    "fig.show('png')"
   ]
  },
  {
   "cell_type": "markdown",
   "id": "378d562c-9757-43a2-a49a-f6f220088682",
   "metadata": {
    "tags": []
   },
   "source": [
    "### Brute Force Exploration\n",
    "\n",
    "We have the knobs that we can adjust.  Maybe we can 'get lucky' and find a good answer by adjusting them?"
   ]
  },
  {
   "cell_type": "markdown",
   "id": "582d15d5-ebe2-49c0-8286-f6bdb23c82df",
   "metadata": {},
   "source": [
    "Build a function to evaluate parameter suggestions:"
   ]
  },
  {
   "cell_type": "code",
   "execution_count": null,
   "id": "6e67ec3e-116d-41b9-94cc-0cfd5c8e062c",
   "metadata": {
    "tags": []
   },
   "outputs": [],
   "source": [
    "def process_evaluation(knob_1, knob_2):\n",
    "    results = []\n",
    "    results.append(dict(metric_id = 'red', value = hidden_1(knob_1, knob_2)))\n",
    "    results.append(dict(metric_id = 'blue', value = hidden_2(knob_1, knob_2)))\n",
    "    results.append(dict(metric_id = 'green', value = hidden_3(knob_1, knob_2)))\n",
    "    return results"
   ]
  },
  {
   "cell_type": "code",
   "execution_count": null,
   "id": "d8624371-1371-45e5-8e33-42e1f90e81ce",
   "metadata": {
    "tags": []
   },
   "outputs": [],
   "source": [
    "process_evaluation(0, 0)"
   ]
  },
  {
   "cell_type": "markdown",
   "id": "1eb22152-4bcd-4c33-beba-73e39387197d",
   "metadata": {},
   "source": [
    "---\n",
    "## Vertex AI Vizier: Intelligent Exploration"
   ]
  },
  {
   "cell_type": "markdown",
   "id": "7ba74bb4-56df-4768-b1bb-19b8e7ffcafe",
   "metadata": {},
   "source": [
    "### Design A Study\n",
    "\n",
    "Studies are are defined by a [StudySpec](https://cloud.google.com/python/docs/reference/aiplatform/latest/google.cloud.aiplatform_v1.types.StudySpec):\n",
    "- [parameters](https://cloud.google.com/python/docs/reference/aiplatform/latest/google.cloud.aiplatform_v1.types.StudySpec.ParameterSpec)\n",
    "- [metrics](https://cloud.google.com/python/docs/reference/aiplatform/latest/google.cloud.aiplatform_v1.types.StudySpec.MetricSpec)\n",
    "- [algorithm](https://cloud.google.com/python/docs/reference/aiplatform/latest/google.cloud.aiplatform_v1.types.StudySpec.Algorithm) (Vizier, Grid, Random)\n",
    "- more:\n",
    "    - study stopping configuration\n",
    "    - observation noise (if objective is reproducible (LOW) or variable (HIGH))\n",
    "    - measurement selection type (last(default) or best)\n",
    "    - stopic spec: decay curve, median, convex\n"
   ]
  },
  {
   "cell_type": "code",
   "execution_count": null,
   "id": "95aebee7-c0f0-4aa6-b91c-8cbb22545163",
   "metadata": {
    "tags": []
   },
   "outputs": [],
   "source": [
    "parameter_spec = [\n",
    "    dict(\n",
    "        parameter_id = 'knob_1',\n",
    "        double_value_spec = dict(min_value = np.min(knob_1), max_value = np.max(knob_1))\n",
    "    ),\n",
    "    dict(\n",
    "        parameter_id = 'knob_2',\n",
    "        double_value_spec = dict(min_value = np.min(knob_2), max_value = np.max(knob_2))\n",
    "    )\n",
    "]"
   ]
  },
  {
   "cell_type": "code",
   "execution_count": null,
   "id": "b7bf9cbf-18ca-4960-8474-2632f07b96a7",
   "metadata": {
    "tags": []
   },
   "outputs": [],
   "source": [
    "metric_spec = [\n",
    "    dict(metric_id = 'red', goal = 'MINIMIZE'),\n",
    "    dict(metric_id = 'blue', goal = 'MAXIMIZE'),\n",
    "    dict(\n",
    "        metric_id = 'green',\n",
    "        goal = 'MAXIMIZE',\n",
    "        safety_config = dict(safety_threshold = 0, desired_min_safe_trials_fraction = 0.9)\n",
    "    ),\n",
    "]"
   ]
  },
  {
   "cell_type": "code",
   "execution_count": null,
   "id": "9fd287a5-4177-4243-9113-8ccd9e6ba44c",
   "metadata": {
    "tags": []
   },
   "outputs": [],
   "source": [
    "study_spec = dict(\n",
    "    display_name = f'{SERIES}-{EXPERIMENT}'.replace('-', '_'),\n",
    "    study_spec = dict(\n",
    "        algorithm = 'ALGORITHM_UNSPECIFIED',\n",
    "        parameters = parameter_spec,\n",
    "        metrics = metric_spec\n",
    "    )\n",
    ")"
   ]
  },
  {
   "cell_type": "code",
   "execution_count": null,
   "id": "e3f06928-9f97-44c0-a1d0-a27a46fc5560",
   "metadata": {
    "tags": []
   },
   "outputs": [],
   "source": [
    "study_spec"
   ]
  },
  {
   "cell_type": "markdown",
   "id": "a212f55a-9dd2-44c7-bbb0-128f2930a15d",
   "metadata": {},
   "source": [
    "### Create A Vertex AI Vizier Study"
   ]
  },
  {
   "cell_type": "markdown",
   "id": "c1a3b60e-23b4-4c56-9431-1f4ef537ce10",
   "metadata": {},
   "source": [
    "Check for existing study:"
   ]
  },
  {
   "cell_type": "code",
   "execution_count": null,
   "id": "3bb85c12-d587-4dfb-b801-1243bbd30d54",
   "metadata": {
    "tags": []
   },
   "outputs": [],
   "source": [
    "study = None\n",
    "for s in vizier.list_studies(parent = PARENT):\n",
    "    if s.display_name == study_spec['display_name']:\n",
    "        study = s\n",
    "        break"
   ]
  },
  {
   "cell_type": "markdown",
   "id": "8c8ba273-bca4-4787-b5ba-15d5aa26352d",
   "metadata": {},
   "source": [
    "Create (or Retrieve) study:"
   ]
  },
  {
   "cell_type": "code",
   "execution_count": null,
   "id": "55c0c175-2b5d-4fd3-a213-b8bc5e2bc259",
   "metadata": {
    "tags": []
   },
   "outputs": [],
   "source": [
    "if not study:\n",
    "    study = vizier.create_study(parent = PARENT, study = study_spec)\n",
    "study.name, study.display_name, study.state, study.create_time.strftime(\"%m-%d-%Y-%H:%M:%S\")"
   ]
  },
  {
   "cell_type": "markdown",
   "id": "5f1fb9d3-f934-48b5-ac55-a994fee0eb78",
   "metadata": {},
   "source": [
    "View the study in the console:"
   ]
  },
  {
   "cell_type": "code",
   "execution_count": null,
   "id": "6304c54c-2f08-483b-915d-039c647074b0",
   "metadata": {
    "tags": []
   },
   "outputs": [],
   "source": [
    "print(f\"https://console.cloud.google.com/vertex-ai/experiments/locations/{REGION}/studies/{study.name.split('/')[-1]}?project={PROJECT_ID}\")"
   ]
  },
  {
   "cell_type": "markdown",
   "id": "aa1f655d-f8e6-4546-9717-9fba0bd9c815",
   "metadata": {},
   "source": [
    "### Get A Suggestion: Trial"
   ]
  },
  {
   "cell_type": "code",
   "execution_count": null,
   "id": "41508b28-8f1f-4f43-a175-1e05c69cc2ad",
   "metadata": {
    "tags": []
   },
   "outputs": [],
   "source": [
    "suggestions = vizier.suggest_trials(\n",
    "    dict(\n",
    "        parent = study.name,\n",
    "        suggestion_count = 1,\n",
    "        client_id = 'client_1'\n",
    "    )\n",
    ").result()"
   ]
  },
  {
   "cell_type": "markdown",
   "id": "aee6ce24-9070-45b6-a68b-5726de947ba0",
   "metadata": {},
   "source": [
    "Format suggestions:"
   ]
  },
  {
   "cell_type": "code",
   "execution_count": null,
   "id": "0c83dde3-6f12-4aa0-ac38-23bfe5ea166b",
   "metadata": {
    "tags": []
   },
   "outputs": [],
   "source": [
    "trial_inputs = []\n",
    "for s in suggestions.trials:\n",
    "    parms = dict(name = s.name)\n",
    "    for p in s.parameters:\n",
    "        parms[p.parameter_id] = p.value\n",
    "    trial_inputs.append(parms)\n",
    "trial_inputs"
   ]
  },
  {
   "cell_type": "markdown",
   "id": "af090e19-c5cf-4bb0-863c-53e7e600771a",
   "metadata": {},
   "source": [
    "### Evaluate The Trial Suggestions\n",
    "\n",
    "Turn the knobs to the suggestion and measure the outcome!  In this case we need the output from each function representing the hidden process to return to the Vizier service as measurements."
   ]
  },
  {
   "cell_type": "code",
   "execution_count": null,
   "id": "77fc079d-e92f-46b4-ac5c-c81f8f9d202e",
   "metadata": {
    "tags": []
   },
   "outputs": [],
   "source": [
    "trial_results = [\n",
    "    dict(\n",
    "        name = trial['name'],\n",
    "        final_measurement = dict(\n",
    "            metrics = process_evaluation(trial['knob_1'], trial['knob_2'])\n",
    "        )\n",
    "    ) for trial in trial_inputs\n",
    "]\n",
    "trial_results"
   ]
  },
  {
   "cell_type": "markdown",
   "id": "4611dd5d-7ed1-4032-be08-857cc85d1815",
   "metadata": {},
   "source": [
    "### Return The Measurement To The Study"
   ]
  },
  {
   "cell_type": "code",
   "execution_count": null,
   "id": "a1f19a9f-531c-4227-9883-2113b2ac6064",
   "metadata": {
    "tags": []
   },
   "outputs": [],
   "source": [
    "responses = [vizier.complete_trial(trial) for trial in trial_results]"
   ]
  },
  {
   "cell_type": "code",
   "execution_count": null,
   "id": "c3e1423f-c19d-495f-bc38-a80d8ce90807",
   "metadata": {
    "tags": []
   },
   "outputs": [],
   "source": [
    "responses[0].state"
   ]
  },
  {
   "cell_type": "markdown",
   "id": "825f0b97-7fe4-4c6c-921f-484b5f4b0f10",
   "metadata": {},
   "source": [
    "### Iterate Up To 100 Trials"
   ]
  },
  {
   "cell_type": "code",
   "execution_count": null,
   "id": "e479f60f-a47a-493a-9188-187fdef19607",
   "metadata": {
    "tags": []
   },
   "outputs": [],
   "source": [
    "trial_count = 100\n",
    "n_trials = 1 # complete 1 above\n",
    "batch_size = 1\n",
    "\n",
    "while n_trials < trial_count:\n",
    "    # get suggestion(s)\n",
    "    suggestions = vizier.suggest_trials(\n",
    "        dict(\n",
    "            parent = study.name,\n",
    "            suggestion_count = batch_size,\n",
    "            client_id = 'client_1'\n",
    "        )\n",
    "    ).result()\n",
    "\n",
    "    # format suggestion\n",
    "    trial_inputs = []\n",
    "    for s in suggestions.trials:\n",
    "        parms = dict(name = s.name)\n",
    "        for p in s.parameters:\n",
    "            parms[p.parameter_id] = p.value\n",
    "        trial_inputs.append(parms)\n",
    "\n",
    "    # evaluate suggestion\n",
    "    trial_results = [\n",
    "        dict(\n",
    "            name = trial['name'],\n",
    "            final_measurement = dict(\n",
    "                metrics = process_evaluation(trial['knob_1'], trial['knob_2'])\n",
    "            )\n",
    "        ) for trial in trial_inputs\n",
    "    ]\n",
    "\n",
    "    # register result to study\n",
    "    responses = [vizier.complete_trial(trial) for trial in trial_results]\n",
    "\n",
    "    # increment counter\n",
    "    n_trials += batch_size"
   ]
  },
  {
   "cell_type": "markdown",
   "id": "f8484285-dcf5-495d-9d3d-70fa234de943",
   "metadata": {},
   "source": [
    "### Get Optimal Trials"
   ]
  },
  {
   "cell_type": "code",
   "execution_count": null,
   "id": "651de000-1cc3-47ff-a6d1-f0153dd7ae50",
   "metadata": {
    "tags": []
   },
   "outputs": [],
   "source": [
    "optimal_trials = vizier.list_optimal_trials(dict(parent = study.name))"
   ]
  },
  {
   "cell_type": "code",
   "execution_count": null,
   "id": "51c410b9-0917-4238-9d33-834450ffd34f",
   "metadata": {
    "tags": []
   },
   "outputs": [],
   "source": [
    "len(optimal_trials.optimal_trials)"
   ]
  },
  {
   "cell_type": "code",
   "execution_count": null,
   "id": "9fb717cb-b0be-48bf-a01e-dd77721ed581",
   "metadata": {
    "tags": []
   },
   "outputs": [],
   "source": [
    "optimal_values = dict(\n",
    "    names = [trial.name for trial in optimal_trials.optimal_trials],\n",
    "    knob_1 = [trial.parameters[0].value for trial in optimal_trials.optimal_trials],\n",
    "    knob_2 = [trial.parameters[1].value  for trial in optimal_trials.optimal_trials],\n",
    "    red = [trial.final_measurement.metrics[0].value for trial in optimal_trials.optimal_trials],\n",
    "    blue = [trial.final_measurement.metrics[0].value for trial in optimal_trials.optimal_trials],\n",
    "    green = [trial.final_measurement.metrics[0].value for trial in optimal_trials.optimal_trials]\n",
    ")"
   ]
  },
  {
   "cell_type": "markdown",
   "id": "965df2bc-34e8-43de-b898-17cb928767d5",
   "metadata": {},
   "source": [
    "### Get All Trails"
   ]
  },
  {
   "cell_type": "code",
   "execution_count": null,
   "id": "c8033e45-a2d8-4777-a4d1-1e1fe649d91b",
   "metadata": {
    "tags": []
   },
   "outputs": [],
   "source": [
    "all_trials = vizier.list_trials(dict(parent = study.name))"
   ]
  },
  {
   "cell_type": "code",
   "execution_count": null,
   "id": "ccbe8356-fbbf-4abc-b2da-d3524aea31c3",
   "metadata": {
    "tags": []
   },
   "outputs": [],
   "source": [
    "len(all_trials.trials)"
   ]
  },
  {
   "cell_type": "code",
   "execution_count": null,
   "id": "d6a78956-e9b1-40b4-8504-44339c9a71e3",
   "metadata": {
    "tags": []
   },
   "outputs": [],
   "source": [
    "non_optimal_values = dict(\n",
    "    names = [trial.name for trial in all_trials.trials if trial.name not in optimal_values['names']],\n",
    "    knob_1 = [trial.parameters[0].value for trial in all_trials.trials if trial.name not in optimal_values['names']],\n",
    "    knob_2 = [trial.parameters[1].value  for trial in all_trials.trials if trial.name not in optimal_values['names']],\n",
    "    red = [trial.final_measurement.metrics[0].value for trial in all_trials.trials if trial.name not in optimal_values['names']],\n",
    "    blue = [trial.final_measurement.metrics[0].value for trial in all_trials.trials if trial.name not in optimal_values['names']],\n",
    "    green = [trial.final_measurement.metrics[0].value for trial in all_trials.trials if trial.name not in optimal_values['names']]    \n",
    ")"
   ]
  },
  {
   "cell_type": "code",
   "execution_count": null,
   "id": "36b3bbb7-b904-4848-b2d6-7fa385551b43",
   "metadata": {
    "tags": []
   },
   "outputs": [],
   "source": [
    "len(non_optimal_values['names'])"
   ]
  },
  {
   "cell_type": "markdown",
   "id": "a6b58856-7f49-43a7-9a15-5d7683a2c11c",
   "metadata": {},
   "source": [
    "### Add Trials To Visualization"
   ]
  },
  {
   "cell_type": "code",
   "execution_count": null,
   "id": "eb5043c8-ebfa-4285-8ec1-d7fa9d6f5fb9",
   "metadata": {
    "tags": []
   },
   "outputs": [],
   "source": [
    "# Create the surface plots with transparency\n",
    "surface1 = go.Surface(x=X, y=Y, z=hidden_1(X, Y), colorscale=\"reds\", name=\"Hidden 1 (Min)\", visible=True, showscale=False)#, opacity = 0.95)\n",
    "surface2 = go.Surface(x=X, y=Y, z=hidden_2(X, Y), colorscale=\"blues\", name=\"Hidden 2 (Max)\", visible=True, showscale=False)#, opacity = 0.95)\n",
    "surface3 = go.Surface(x=X, y=Y, z=hidden_3(X, Y), colorscale=\"greens\", name=\"Hidden 3 (Max)\", visible=True, showscale=False)#, opacity = 0.95)\n",
    "\n",
    "# Create the figure and add the surfaces\n",
    "fig = go.Figure(data=[surface1, surface2, surface3])\n",
    "\n",
    "# add trials: optimal\n",
    "for k1, k2, r, b, g in zip(optimal_values['knob_1'], optimal_values['knob_2'], optimal_values['red'], optimal_values['blue'], optimal_values['green']):\n",
    "    fig.add_trace(go.Scatter3d(x = [k1, k1, k1], y = [k2, k2, k2], z = [r, b, g], mode = 'lines+markers', line = dict(color = \"#00ff00\"), marker = dict(size = 5)))\n",
    "\n",
    "# add trials: non-optimal\n",
    "for k1, k2, r, b, g in zip(non_optimal_values['knob_1'], non_optimal_values['knob_2'], non_optimal_values['red'], non_optimal_values['blue'], non_optimal_values['green']):\n",
    "    fig.add_trace(go.Scatter3d(x = [k1, k1, k1], y = [k2, k2, k2], z = [r, b, g], mode = 'lines+markers', line = dict(color = \"#000000\"), marker = dict(size = 5)))\n",
    "\n",
    "# Add dropdown menu for toggling visibility\n",
    "fig.update_layout(\n",
    "    showlegend=False,  # Hide the legend\n",
    "    autosize=False,\n",
    "    width=1200,\n",
    "    height=800,\n",
    "    scene=dict(xaxis_title=\"Knob 1\", yaxis_title=\"Knob 2\", zaxis_title=\"Result\"),\n",
    "    title=\"Interactive Plot Competing Hidden Processes<br><sup>Red (Min), Blue (Max), Green (Max)</sup>\",    \n",
    ")\n",
    "\n",
    "# Display the plot\n",
    "fig.show()"
   ]
  },
  {
   "cell_type": "code",
   "execution_count": null,
   "id": "80428e27-b24f-4bbf-a2a7-d50efa2070c0",
   "metadata": {
    "tags": []
   },
   "outputs": [],
   "source": [
    "fig.show('png')"
   ]
  },
  {
   "cell_type": "markdown",
   "id": "7e6fa57a-9aad-48c1-b1cf-c03554f25af4",
   "metadata": {},
   "source": [
    "---\n",
    "## Continue The Study"
   ]
  },
  {
   "cell_type": "markdown",
   "id": "5d6056b7-125c-4d09-b83c-4580400f422c",
   "metadata": {},
   "source": [
    "### Iterate Up To 150 Trials\n",
    "\n",
    "Continue in batches of 5 up to 150 total trials:"
   ]
  },
  {
   "cell_type": "code",
   "execution_count": null,
   "id": "00d1e2b7-d1cc-440e-8b16-1cdd959c070e",
   "metadata": {
    "tags": []
   },
   "outputs": [],
   "source": [
    "n_trials"
   ]
  },
  {
   "cell_type": "code",
   "execution_count": null,
   "id": "1085986b-74d6-4ae0-a9e4-f1124fd6ea5d",
   "metadata": {
    "tags": []
   },
   "outputs": [],
   "source": [
    "trial_count = 150\n",
    "batch_size = 5\n",
    "\n",
    "while n_trials < trial_count:\n",
    "    # get suggestion(s)\n",
    "    suggestions = vizier.suggest_trials(\n",
    "        dict(\n",
    "            parent = study.name,\n",
    "            suggestion_count = batch_size,\n",
    "            client_id = 'client_1'\n",
    "        )\n",
    "    ).result()\n",
    "\n",
    "    # format suggestion\n",
    "    trial_inputs = []\n",
    "    for s in suggestions.trials:\n",
    "        parms = dict(name = s.name)\n",
    "        for p in s.parameters:\n",
    "            parms[p.parameter_id] = p.value\n",
    "        trial_inputs.append(parms)\n",
    "\n",
    "    # evaluate suggestion\n",
    "    trial_results = [\n",
    "        dict(\n",
    "            name = trial['name'],\n",
    "            final_measurement = dict(\n",
    "                metrics = process_evaluation(trial['knob_1'], trial['knob_2'])\n",
    "            )\n",
    "        ) for trial in trial_inputs\n",
    "    ]\n",
    "\n",
    "    # register result to study\n",
    "    responses = [vizier.complete_trial(trial) for trial in trial_results]\n",
    "\n",
    "    # increment counter\n",
    "    n_trials += batch_size"
   ]
  },
  {
   "cell_type": "markdown",
   "id": "18166d72-01b8-4e87-92ef-587c6253f8dd",
   "metadata": {},
   "source": [
    "### Get Optimal Trials"
   ]
  },
  {
   "cell_type": "code",
   "execution_count": null,
   "id": "da73ca02-c737-475a-b60d-52a17d958384",
   "metadata": {
    "tags": []
   },
   "outputs": [],
   "source": [
    "optimal_trials = vizier.list_optimal_trials(dict(parent = study.name))"
   ]
  },
  {
   "cell_type": "code",
   "execution_count": null,
   "id": "ec555f1b-4866-40ae-8ee7-385c0b84e88a",
   "metadata": {
    "tags": []
   },
   "outputs": [],
   "source": [
    "len(optimal_trials.optimal_trials)"
   ]
  },
  {
   "cell_type": "code",
   "execution_count": null,
   "id": "ac422ac1-2d02-4aa2-9ecc-ce83a8572ec0",
   "metadata": {
    "tags": []
   },
   "outputs": [],
   "source": [
    "optimal_values = dict(\n",
    "    names = [trial.name for trial in optimal_trials.optimal_trials],\n",
    "    knob_1 = [trial.parameters[0].value for trial in optimal_trials.optimal_trials],\n",
    "    knob_2 = [trial.parameters[1].value  for trial in optimal_trials.optimal_trials],\n",
    "    red = [trial.final_measurement.metrics[0].value for trial in optimal_trials.optimal_trials],\n",
    "    blue = [trial.final_measurement.metrics[0].value for trial in optimal_trials.optimal_trials],\n",
    "    green = [trial.final_measurement.metrics[0].value for trial in optimal_trials.optimal_trials]\n",
    ")"
   ]
  },
  {
   "cell_type": "markdown",
   "id": "6f638a12-c403-4f74-b762-76ee133207d2",
   "metadata": {},
   "source": [
    "### Get All Trails"
   ]
  },
  {
   "cell_type": "code",
   "execution_count": null,
   "id": "3d6c033b-84cb-46b1-a2fd-3e37af72cf64",
   "metadata": {
    "tags": []
   },
   "outputs": [],
   "source": [
    "all_trials = vizier.list_trials(dict(parent = study.name))"
   ]
  },
  {
   "cell_type": "code",
   "execution_count": null,
   "id": "621590e0-1302-48a5-9cb9-fed412a22120",
   "metadata": {
    "tags": []
   },
   "outputs": [],
   "source": [
    "len(all_trials.trials)"
   ]
  },
  {
   "cell_type": "code",
   "execution_count": null,
   "id": "daa17c1e-b225-49b1-8041-13a135364ec5",
   "metadata": {
    "tags": []
   },
   "outputs": [],
   "source": [
    "non_optimal_values = dict(\n",
    "    names = [trial.name for trial in all_trials.trials if trial.name not in optimal_values['names']],\n",
    "    knob_1 = [trial.parameters[0].value for trial in all_trials.trials if trial.name not in optimal_values['names']],\n",
    "    knob_2 = [trial.parameters[1].value  for trial in all_trials.trials if trial.name not in optimal_values['names']],\n",
    "    red = [trial.final_measurement.metrics[0].value for trial in all_trials.trials if trial.name not in optimal_values['names']],\n",
    "    blue = [trial.final_measurement.metrics[0].value for trial in all_trials.trials if trial.name not in optimal_values['names']],\n",
    "    green = [trial.final_measurement.metrics[0].value for trial in all_trials.trials if trial.name not in optimal_values['names']]    \n",
    ")"
   ]
  },
  {
   "cell_type": "code",
   "execution_count": null,
   "id": "34518242-7c46-4693-8de8-f0fceb5b3707",
   "metadata": {
    "tags": []
   },
   "outputs": [],
   "source": [
    "len(non_optimal_values['names'])"
   ]
  },
  {
   "cell_type": "markdown",
   "id": "f0aaf0b0-3fde-4b87-b155-21714bd204af",
   "metadata": {},
   "source": [
    "### Add Trials To Visualization"
   ]
  },
  {
   "cell_type": "code",
   "execution_count": null,
   "id": "5890462a-f38a-4853-9e23-56ea0251bd50",
   "metadata": {
    "tags": []
   },
   "outputs": [],
   "source": [
    "# Create the surface plots with transparency\n",
    "surface1 = go.Surface(x=X, y=Y, z=hidden_1(X, Y), colorscale=\"reds\", name=\"Hidden 1 (Min)\", visible=True, showscale=False)#, opacity = 0.95)\n",
    "surface2 = go.Surface(x=X, y=Y, z=hidden_2(X, Y), colorscale=\"blues\", name=\"Hidden 2 (Max)\", visible=True, showscale=False)#, opacity = 0.95)\n",
    "surface3 = go.Surface(x=X, y=Y, z=hidden_3(X, Y), colorscale=\"greens\", name=\"Hidden 3 (Max)\", visible=True, showscale=False)#, opacity = 0.95)\n",
    "\n",
    "# Create the figure and add the surfaces\n",
    "fig = go.Figure(data=[surface1, surface2, surface3])\n",
    "\n",
    "# add trials: optimal\n",
    "for k1, k2, r, b, g in zip(optimal_values['knob_1'], optimal_values['knob_2'], optimal_values['red'], optimal_values['blue'], optimal_values['green']):\n",
    "    fig.add_trace(go.Scatter3d(x = [k1, k1, k1], y = [k2, k2, k2], z = [r, b, g], mode = 'lines+markers', line = dict(color = \"#00ff00\"), marker = dict(size = 5)))\n",
    "\n",
    "# add trials: non-optimal\n",
    "for k1, k2, r, b, g in zip(non_optimal_values['knob_1'], non_optimal_values['knob_2'], non_optimal_values['red'], non_optimal_values['blue'], non_optimal_values['green']):\n",
    "    fig.add_trace(go.Scatter3d(x = [k1, k1, k1], y = [k2, k2, k2], z = [r, b, g], mode = 'lines+markers', line = dict(color = \"#000000\"), marker = dict(size = 5)))\n",
    "\n",
    "# Add dropdown menu for toggling visibility\n",
    "fig.update_layout(\n",
    "    showlegend=False,  # Hide the legend\n",
    "    autosize=False,\n",
    "    width=1200,\n",
    "    height=800,\n",
    "    scene=dict(xaxis_title=\"Knob 1\", yaxis_title=\"Knob 2\", zaxis_title=\"Result\"),\n",
    "    title=\"Interactive Plot Competing Hidden Processes<br><sup>Red (Min), Blue (Max), Green (Max)</sup>\",    \n",
    ")\n",
    "\n",
    "# Display the plot\n",
    "fig.show()"
   ]
  },
  {
   "cell_type": "code",
   "execution_count": null,
   "id": "2621afcb-acf5-4210-bfaa-49235d33f193",
   "metadata": {
    "tags": []
   },
   "outputs": [],
   "source": [
    "fig.show('png')"
   ]
  },
  {
   "cell_type": "markdown",
   "id": "b0cf36d8-c755-44f4-80e1-d3ee14e34bc3",
   "metadata": {},
   "source": [
    "---\n",
    "## Delete Study\n",
    "\n",
    "Uncomment this section to delete the study from Vertex AI."
   ]
  },
  {
   "cell_type": "code",
   "execution_count": null,
   "id": "606e2241-a565-4ea9-8865-005048f9357a",
   "metadata": {
    "tags": []
   },
   "outputs": [],
   "source": [
    "#vizier.delete_study(dict(name = study.name))"
   ]
  },
  {
   "cell_type": "code",
   "execution_count": null,
   "id": "c37c279b-bd4f-4a99-b794-65fc362a9ec6",
   "metadata": {},
   "outputs": [],
   "source": []
  }
 ],
 "metadata": {
  "environment": {
   "kernel": "conda-base-py",
   "name": "workbench-notebooks.m125",
   "type": "gcloud",
   "uri": "us-docker.pkg.dev/deeplearning-platform-release/gcr.io/workbench-notebooks:m125"
  },
  "kernelspec": {
   "display_name": "Python 3 (ipykernel)",
   "language": "python",
   "name": "conda-base-py"
  },
  "language_info": {
   "codemirror_mode": {
    "name": "ipython",
    "version": 3
   },
   "file_extension": ".py",
   "mimetype": "text/x-python",
   "name": "python",
   "nbconvert_exporter": "python",
   "pygments_lexer": "ipython3",
   "version": "3.10.15"
  }
 },
 "nbformat": 4,
 "nbformat_minor": 5
}
