{
 "cells": [
  {
   "cell_type": "markdown",
   "id": "87111ddc",
   "metadata": {},
   "source": [
    "![tracker](https://us-central1-vertex-ai-mlops-369716.cloudfunctions.net/pixel-tracking?path=statmike%2Fvertex-ai-mlops%2FApplied+GenAI&file=Grounding+Overview+-+Vertex+AI+Search.ipynb)\n",
    "<!--- header table --->\n",
    "<table align=\"left\">\n",
    "  <td style=\"text-align: center\">\n",
    "    <a href=\"https://colab.research.google.com/github/statmike/vertex-ai-mlops/blob/main/Applied%20GenAI/Grounding%20Overview%20-%20Vertex%20AI%20Search.ipynb\">\n",
    "      <img src=\"https://cloud.google.com/ml-engine/images/colab-logo-32px.png\" alt=\"Google Colaboratory logo\">\n",
    "      <br>Run in<br>Colab\n",
    "    </a>\n",
    "  </td>\n",
    "  <td style=\"text-align: center\">\n",
    "    <a href=\"https://console.cloud.google.com/vertex-ai/colab/import/https%3A%2F%2Fraw.githubusercontent.com%2Fstatmike%2Fvertex-ai-mlops%2Fmain%2FApplied%2520GenAI%2FGrounding%2520Overview%2520-%2520Vertex%2520AI%2520Search.ipynb\">\n",
    "      <img width=\"32px\" src=\"https://lh3.googleusercontent.com/JmcxdQi-qOpctIvWKgPtrzZdJJK-J3sWE1RsfjZNwshCFgE_9fULcNpuXYTilIR2hjwN\" alt=\"Google Cloud Colab Enterprise logo\">\n",
    "      <br>Run in<br>Colab Enterprise\n",
    "    </a>\n",
    "  </td>      \n",
    "  <td style=\"text-align: center\">\n",
    "    <a href=\"https://github.com/statmike/vertex-ai-mlops/blob/main/Applied%20GenAI/Grounding%20Overview%20-%20Vertex%20AI%20Search.ipynb\">\n",
    "      <img src=\"https://cloud.google.com/ml-engine/images/github-logo-32px.png\" alt=\"GitHub logo\">\n",
    "      <br>View on<br>GitHub\n",
    "    </a>\n",
    "  </td>\n",
    "  <td style=\"text-align: center\">\n",
    "    <a href=\"https://console.cloud.google.com/vertex-ai/workbench/deploy-notebook?download_url=https://raw.githubusercontent.com/statmike/vertex-ai-mlops/main/Applied%20GenAI/Grounding%20Overview%20-%20Vertex%20AI%20Search.ipynb\">\n",
    "      <img src=\"https://lh3.googleusercontent.com/UiNooY4LUgW_oTvpsNhPpQzsstV5W8F7rYgxgGBD85cWJoLmrOzhVs_ksK_vgx40SHs7jCqkTkCk=e14-rj-sc0xffffff-h130-w32\" alt=\"Vertex AI logo\">\n",
    "      <br>Open in<br>Vertex AI Workbench\n",
    "    </a>\n",
    "  </td>\n",
    "</table>"
   ]
  },
  {
   "cell_type": "markdown",
   "id": "2b317061-a4d0-4cd1-b07f-9a42429cc40e",
   "metadata": {},
   "source": [
    "# Grounding Overview - Vertex AI Search\n",
    "\n",
    "\n",
    "todo:\n",
    "- test search app\n",
    "- include console links\n",
    "- note on managing metadata files\n",
    "- include cleanup section for app and datastore\n",
    "\n",
    "\n",
    "**SPECIAL NOTES**\n",
    "\n",
    "This workflow using Vertex AI Agent Builder To Build a search experience with Vertesx AI Search.  If this tool has not bee previously used the part of the setup may need to be completed in the console prior to running this notebook. See [Before you begin](https://cloud.google.com/generative-ai-app-builder/docs/before-you-begin).\n"
   ]
  },
  {
   "cell_type": "markdown",
   "id": "5dbfcf0c-3e72-4625-9ff3-2942dec76bbc",
   "metadata": {
    "id": "od_UkDpvRmgD"
   },
   "source": [
    "---\n",
    "## Colab Setup\n",
    "\n",
    "When running this notebook in [Colab](https://colab.google/) or [Colab Enterprise](https://cloud.google.com/colab/docs/introduction), this section will authenticate to GCP (follow prompts in the popup) and set the current project for the session."
   ]
  },
  {
   "cell_type": "code",
   "execution_count": 1,
   "id": "bb3b96d5-badd-4ac7-940b-dcfd15c2924e",
   "metadata": {
    "executionInfo": {
     "elapsed": 195,
     "status": "ok",
     "timestamp": 1683726184843,
     "user": {
      "displayName": "Mike Henderson",
      "userId": "07691629187611687318"
     },
     "user_tz": 240
    },
    "id": "8UO9FnqyKBlF",
    "tags": []
   },
   "outputs": [],
   "source": [
    "PROJECT_ID = 'statmike-mlops-349915' # replace with project ID"
   ]
  },
  {
   "cell_type": "code",
   "execution_count": 2,
   "id": "afc25dc6-9b90-49f6-a5fa-343336d39a2d",
   "metadata": {
    "colab": {
     "base_uri": "https://localhost:8080/"
    },
    "executionInfo": {
     "elapsed": 68869,
     "status": "ok",
     "timestamp": 1683726253709,
     "user": {
      "displayName": "Mike Henderson",
      "userId": "07691629187611687318"
     },
     "user_tz": 240
    },
    "id": "N98-KK7LRkjm",
    "outputId": "09ec5008-0def-4e1a-c349-c598ee752f78",
    "tags": []
   },
   "outputs": [],
   "source": [
    "try:\n",
    "    from google.colab import auth\n",
    "    auth.authenticate_user()\n",
    "    !gcloud config set project {PROJECT_ID}\n",
    "except Exception:\n",
    "    pass"
   ]
  },
  {
   "cell_type": "markdown",
   "id": "a693b199-35cc-48bb-a0e2-c49cf1aca5f6",
   "metadata": {},
   "source": [
    "---\n",
    "## Installs and API Enablement\n",
    "\n",
    "The clients packages may need installing in this environment. "
   ]
  },
  {
   "cell_type": "markdown",
   "id": "04b81e66-b0ba-400f-ac9e-b074b81d6a08",
   "metadata": {},
   "source": [
    "### Installs (If Needed)"
   ]
  },
  {
   "cell_type": "code",
   "execution_count": 3,
   "id": "8f607198-71e3-4c52-ac3b-2e9025c5c62f",
   "metadata": {
    "tags": []
   },
   "outputs": [],
   "source": [
    "# tuples of (import name, install name, min_version)\n",
    "packages = [\n",
    "    ('google.cloud.storage', 'google-cloud-storage'),\n",
    "    ('google.cloud.discoveryengine', 'google-cloud-discoveryengine')\n",
    "]\n",
    "\n",
    "import importlib\n",
    "install = False\n",
    "for package in packages:\n",
    "    if not importlib.util.find_spec(package[0]):\n",
    "        print(f'installing package {package[1]}')\n",
    "        install = True\n",
    "        !pip install {package[1]} -U -q --user\n",
    "    elif len(package) == 3:\n",
    "        if importlib.metadata.version(package[0]) < package[2]:\n",
    "            print(f'updating package {package[1]}')\n",
    "            install = True\n",
    "            !pip install {package[1]} -U -q --user"
   ]
  },
  {
   "cell_type": "markdown",
   "id": "62128b3c-2067-44e7-86e9-647fdc205b97",
   "metadata": {},
   "source": [
    "### API Enablement"
   ]
  },
  {
   "cell_type": "code",
   "execution_count": 5,
   "id": "af185814-fd51-40b9-9011-918b3866b568",
   "metadata": {
    "tags": []
   },
   "outputs": [],
   "source": [
    "!gcloud services enable discoveryengine.googleapis.com"
   ]
  },
  {
   "cell_type": "markdown",
   "id": "14e79bba-79b9-462a-a407-632816116a53",
   "metadata": {},
   "source": [
    "### Restart Kernel (If Installs Occured)\n",
    "\n",
    "After a kernel restart the code submission can start with the next cell after this one."
   ]
  },
  {
   "cell_type": "code",
   "execution_count": 6,
   "id": "831f9192-1e50-4250-b897-84d16f138543",
   "metadata": {
    "tags": []
   },
   "outputs": [],
   "source": [
    "if install:\n",
    "    import IPython\n",
    "    app = IPython.Application.instance()\n",
    "    app.kernel.do_shutdown(True)"
   ]
  },
  {
   "cell_type": "markdown",
   "id": "fa2603c5-64d3-4d8f-acd4-27c2bbf64790",
   "metadata": {
    "id": "appt8-yVRtJ1"
   },
   "source": [
    "---\n",
    "## Setup"
   ]
  },
  {
   "cell_type": "markdown",
   "id": "d5052921-9d60-415f-97f8-7cd89308d6f9",
   "metadata": {
    "id": "63mx2EozRxFP"
   },
   "source": [
    "Inputs"
   ]
  },
  {
   "cell_type": "code",
   "execution_count": 7,
   "id": "932be11f-a647-4da7-88c0-e57445e42b04",
   "metadata": {
    "colab": {
     "base_uri": "https://localhost:8080/",
     "height": 35
    },
    "executionInfo": {
     "elapsed": 2124,
     "status": "ok",
     "timestamp": 1683726390544,
     "user": {
      "displayName": "Mike Henderson",
      "userId": "07691629187611687318"
     },
     "user_tz": 240
    },
    "id": "xzcoXjM5Rky5",
    "outputId": "b3bdcbc1-70d5-472e-aea2-42c74a42efde",
    "tags": []
   },
   "outputs": [
    {
     "data": {
      "text/plain": [
       "'statmike-mlops-349915'"
      ]
     },
     "execution_count": 7,
     "metadata": {},
     "output_type": "execute_result"
    }
   ],
   "source": [
    "project = !gcloud config get-value project\n",
    "PROJECT_ID = project[0]\n",
    "PROJECT_ID"
   ]
  },
  {
   "cell_type": "code",
   "execution_count": 10,
   "id": "15994a0a-b882-47ef-a154-afe441208b21",
   "metadata": {
    "executionInfo": {
     "elapsed": 2,
     "status": "ok",
     "timestamp": 1683726390712,
     "user": {
      "displayName": "Mike Henderson",
      "userId": "07691629187611687318"
     },
     "user_tz": 240
    },
    "id": "IxWrFtqYMfku",
    "tags": []
   },
   "outputs": [],
   "source": [
    "REGION = 'us-central1'\n",
    "SERIES = 'applied-genai'\n",
    "EXPERIMENT = 'grounding-overview'\n",
    "\n",
    "# make this the gcs bucket for storing files\n",
    "GCS_BUCKET = PROJECT_ID \n",
    "\n",
    "# vertex search location\n",
    "VS_LOCATION = 'global'"
   ]
  },
  {
   "cell_type": "markdown",
   "id": "ce02aea0-bc89-412a-ab2c-62c8fab4148b",
   "metadata": {
    "id": "LuajVwCiO6Yg"
   },
   "source": [
    "Packages"
   ]
  },
  {
   "cell_type": "code",
   "execution_count": 27,
   "id": "8f3d7274-034b-4e4f-918a-a1e934bf1e4e",
   "metadata": {
    "executionInfo": {
     "elapsed": 17761,
     "status": "ok",
     "timestamp": 1683726409304,
     "user": {
      "displayName": "Mike Henderson",
      "userId": "07691629187611687318"
     },
     "user_tz": 240
    },
    "id": "LVC7zzSLRk2C",
    "tags": []
   },
   "outputs": [],
   "source": [
    "import requests\n",
    "import base64\n",
    "import json\n",
    "import hashlib\n",
    "\n",
    "from google.cloud import storage\n",
    "\n",
    "import google.cloud.discoveryengine_v1 as discoveryengine\n",
    "import google.cloud.discoveryengine_v1alpha as discoveryengine_alpha"
   ]
  },
  {
   "cell_type": "markdown",
   "id": "73e69e3d-2302-4936-bdba-bae1b986a0d8",
   "metadata": {
    "id": "EyAVFG9TO9H-"
   },
   "source": [
    "Clients"
   ]
  },
  {
   "cell_type": "code",
   "execution_count": 61,
   "id": "6035882f-b31f-4bf1-aea7-59922d6785a4",
   "metadata": {
    "executionInfo": {
     "elapsed": 19,
     "status": "ok",
     "timestamp": 1683726409306,
     "user": {
      "displayName": "Mike Henderson",
      "userId": "07691629187611687318"
     },
     "user_tz": 240
    },
    "id": "L0RPE13LOZce",
    "tags": []
   },
   "outputs": [],
   "source": [
    "# vertex ai agent builder\n",
    "API_ENDPOINT = dict(api_endpoint = (f'{VS_LOCATION}-' if VS_LOCATION != 'global' else '') + 'discoveryengine.googleapis.com')\n",
    "datastore_client = discoveryengine.DataStoreServiceClient(client_options = API_ENDPOINT)\n",
    "document_client = discoveryengine.DocumentServiceClient(client_options = API_ENDPOINT)\n",
    "engine_client = discoveryengine.EngineServiceClient(client_options = API_ENDPOINT)\n",
    "search_client = discoveryengine.SearchServiceClient(client_options = API_ENDPOINT)\n",
    "\n",
    "# gcs client: assumes bucket already exists\n",
    "gcs = storage.Client(project = PROJECT_ID)\n",
    "bucket = gcs.bucket(GCS_BUCKET)"
   ]
  },
  {
   "cell_type": "markdown",
   "id": "9353ba08-e45f-4cfc-9b0d-0b404d161dcc",
   "metadata": {},
   "source": [
    "---\n",
    "## Prompt And Context\n",
    "\n",
    "The [official rules of baseball](https://img.mlbstatic.com/mlb-images/image/upload/mlb/wqn5ah4c3qtivwx3jatm.pdf), a pdf that is updated annually with the latest changes to the game and published by MLB.\n"
   ]
  },
  {
   "cell_type": "code",
   "execution_count": 12,
   "id": "c91b306e-638d-479d-ab5e-bceb057e90fa",
   "metadata": {
    "tags": []
   },
   "outputs": [],
   "source": [
    "prompt = \"what are the dimensions of first base in baseball?\""
   ]
  },
  {
   "cell_type": "code",
   "execution_count": 16,
   "id": "68fe43d1-c751-4877-8c9c-9b702744943c",
   "metadata": {
    "tags": []
   },
   "outputs": [],
   "source": [
    "url = 'https://img.mlbstatic.com/mlb-images/image/upload/mlb/wqn5ah4c3qtivwx3jatm.pdf'\n",
    "# get the pdf\n",
    "context_bytes = requests.get(url).content\n",
    "context_base64 = base64.b64encode(context_bytes).decode('utf-8')"
   ]
  },
  {
   "cell_type": "markdown",
   "id": "610db345-6bea-481a-973e-4132c30ecec4",
   "metadata": {},
   "source": [
    "---\n",
    "## Store Document(s) In GCS"
   ]
  },
  {
   "cell_type": "code",
   "execution_count": 106,
   "id": "3dfa024e-ad07-4035-9b4f-8fbc02417305",
   "metadata": {},
   "outputs": [],
   "source": [
    "# store pdf in gcs\n",
    "file_blob = bucket.blob(f\"{SERIES}/{EXPERIMENT}/{url.split('/')[-1]}\")\n",
    "file_blob.upload_from_string(context_bytes, content_type = 'application/pdf')"
   ]
  },
  {
   "cell_type": "markdown",
   "id": "1ed7ce9c-38c6-4384-bd48-4bfbeb880dc9",
   "metadata": {
    "tags": []
   },
   "source": [
    "---\n",
    "## Prepare Document(s) For The Vertex Agent Builder Data Store\n",
    "\n",
    "There are multiple ways to [prepare data for ingesting](https://cloud.google.com/generative-ai-app-builder/docs/prepare-data) depending on location, volume, how often it will change, and type (website, unstructured, strutred, media, third-party (Slack, ServiceNow, ...), Healthcare FHIR, ....).\n",
    "\n",
    "Here, the data will be prepared as **Unstructured data in GCS storage**.  Files an be imported as:\n",
    "- **single file** at GCS URI\n",
    "- **multiple files** in a GCS 'folder'.  Note that import is nnot recursive so subfolder will not be imported.  For this case or even multiple buckets see the next option:\n",
    "- **Any number of files** at a single or multiple folders and buckets can be imported with a **metadata** file.  A JSON lines file with one line per file that include the document id and uri as well as optional metadata.\n"
   ]
  },
  {
   "cell_type": "code",
   "execution_count": 107,
   "id": "010e0abd-15ae-4e4b-92a1-be606483e2c2",
   "metadata": {},
   "outputs": [
    {
     "name": "stdout",
     "output_type": "stream",
     "text": [
      "applied-genai/grounding-overview/wqn5ah4c3qtivwx3jatm.pdf\n"
     ]
    }
   ],
   "source": [
    "for blob in bucket.list_blobs(prefix = f\"{SERIES}/{EXPERIMENT}/{url.split('/')[-1]}\"):\n",
    "    print(blob.name)"
   ]
  },
  {
   "cell_type": "markdown",
   "id": "08a97a83-16e6-4692-9cbf-d93321e35635",
   "metadata": {},
   "source": [
    "### Document ID's\n",
    "\n",
    "The name of a file could make a great id.  But what happens if multiple file names exist but in different folders?  To make this managable across files, folders and buckets, adopting a hash of the full file path could be a great practice.  This function is designed to convert the full file path into a hash of length 63."
   ]
  },
  {
   "cell_type": "code",
   "execution_count": 108,
   "id": "50b60263-4fae-401e-880c-ed53c419794e",
   "metadata": {
    "tags": []
   },
   "outputs": [],
   "source": [
    "def generate_id(name):\n",
    "    hasher =hashlib.sha256()\n",
    "    hasher.update(name.encode('utf-8'))\n",
    "    return hasher.hexdigest()[0:63]"
   ]
  },
  {
   "cell_type": "code",
   "execution_count": 110,
   "id": "befc1025-f8d7-4cab-b6e4-2415a86a4b90",
   "metadata": {
    "tags": []
   },
   "outputs": [
    {
     "data": {
      "text/plain": [
       "'b48b4704ced27a1e9bdee5b1d90479abdb488b2df9fa0b93d554ea250039e18'"
      ]
     },
     "execution_count": 110,
     "metadata": {},
     "output_type": "execute_result"
    }
   ],
   "source": [
    "generate_id(bucket.name+'/'+blob.name)"
   ]
  },
  {
   "cell_type": "markdown",
   "id": "1574c432-e324-4119-99e4-b07a1183747e",
   "metadata": {},
   "source": [
    "### Create Metadata\n",
    "\n",
    "At a minimum the document `id` and the `content` needs to be provided but optional metadata can also provided as shown here with `structData`:"
   ]
  },
  {
   "cell_type": "code",
   "execution_count": 111,
   "id": "119a87b5-6963-458c-8b39-2eb0b3cb5d58",
   "metadata": {},
   "outputs": [],
   "source": [
    "metadata = []\n",
    "file_types = ['pdf', 'docx', 'txt', 'html', 'pptx']\n",
    "content_type = dict(\n",
    "  pdf = 'application/pdf',\n",
    "  txt = 'text/plain',\n",
    "  html = 'text/html',\n",
    "  docx = 'application/vnd.openxmlformats-officedocument.wordprocessingml.document',\n",
    "  pptx = 'application/vnd.openxmlformats-officedocument.presentationml.presentation'\n",
    ")\n",
    "for blob in bucket.list_blobs(prefix = f\"{SERIES}/{EXPERIMENT}/{url.split('/')[-1]}\"):\n",
    "    folder = blob.name.split('/')[0]\n",
    "    filename = blob.name.split('/')[-1]\n",
    "    filetype = blob.name.split('.')[-1].lower()\n",
    "    filepath = '/'.join(blob.name.split('/')[0:-1])\n",
    "    if filetype in file_types:\n",
    "        json_data = dict(\n",
    "            id = generate_id(blob.name),\n",
    "            structData = dict(\n",
    "                title= filename,\n",
    "                path = filepath,\n",
    "                location = bucket.name\n",
    "            ),\n",
    "            content = dict(\n",
    "                mimeType = content_type[filetype],\n",
    "                uri = f'gs://{blob.bucket.name}/{blob.name}'\n",
    "            )\n",
    "        )\n",
    "        metadata.append(json.dumps(json_data))   \n"
   ]
  },
  {
   "cell_type": "code",
   "execution_count": 112,
   "id": "8e45ee94-01eb-4b30-9e89-01e8b99c0ec9",
   "metadata": {},
   "outputs": [
    {
     "data": {
      "text/plain": [
       "['{\"id\": \"73bee30d37112e8e829720fe2f4a3ff0b450c2a51cd9fe03b5beeea277eed67\", \"structData\": {\"title\": \"wqn5ah4c3qtivwx3jatm.pdf\", \"path\": \"applied-genai/grounding-overview\", \"location\": \"statmike-mlops-349915\"}, \"content\": {\"mimeType\": \"application/pdf\", \"uri\": \"gs://statmike-mlops-349915/applied-genai/grounding-overview/wqn5ah4c3qtivwx3jatm.pdf\"}}']"
      ]
     },
     "execution_count": 112,
     "metadata": {},
     "output_type": "execute_result"
    }
   ],
   "source": [
    "metadata"
   ]
  },
  {
   "cell_type": "markdown",
   "id": "083b5a3f-5eca-46ce-977c-058f49e9c009",
   "metadata": {},
   "source": [
    "### Write Metadata File To GCS"
   ]
  },
  {
   "cell_type": "code",
   "execution_count": 113,
   "id": "2d2b9481-d58e-492b-b93b-2043c1ad665b",
   "metadata": {},
   "outputs": [],
   "source": [
    "metadata_blob = bucket.blob(f'{SERIES}/{EXPERIMENT}/{SERIES}-{EXPERIMENT}.json')\n",
    "with metadata_blob.open('w') as f:\n",
    "    for m in metadata:\n",
    "        f.write(m + '\\n')"
   ]
  },
  {
   "cell_type": "code",
   "execution_count": 114,
   "id": "1fb8c2fc-8b60-4d28-80ad-8a38f61cfcd1",
   "metadata": {
    "tags": []
   },
   "outputs": [
    {
     "data": {
      "text/plain": [
       "'gs://statmike-mlops-349915/applied-genai/grounding-overview/wqn5ah4c3qtivwx3jatm.pdf'"
      ]
     },
     "execution_count": 114,
     "metadata": {},
     "output_type": "execute_result"
    }
   ],
   "source": [
    "f\"gs://{bucket.name}/{blob.name}\""
   ]
  },
  {
   "cell_type": "markdown",
   "id": "86f6d454-3526-4ce0-9314-c843a07e9ff9",
   "metadata": {},
   "source": [
    "---\n",
    "## Create A Search Data Store\n",
    "\n",
    "[Creating a search data store](https://cloud.google.com/generative-ai-app-builder/docs/create-data-store-es) depends on the type of data, in this case an [import from cloud storage](https://cloud.google.com/generative-ai-app-builder/docs/create-data-store-es#cloud-storage) using a metadata file in JSON lines format. \n",
    "\n",
    "- [Discoveryengine Python Data Store Client](https://cloud.google.com/python/docs/reference/discoveryengine/latest/google.cloud.discoveryengine_v1.services.data_store_service.DataStoreServiceClient)"
   ]
  },
  {
   "cell_type": "code",
   "execution_count": 115,
   "id": "a785a320-d11c-410a-9654-f3f73ea252f1",
   "metadata": {
    "tags": []
   },
   "outputs": [],
   "source": [
    "VS_DATASTORE_ID = f\"{SERIES}-{EXPERIMENT}\""
   ]
  },
  {
   "cell_type": "markdown",
   "id": "72ecfeb9-5f5d-456f-9719-4a4205dca0e1",
   "metadata": {},
   "source": [
    "### Check For Existing Data Store (and retrieve)"
   ]
  },
  {
   "cell_type": "code",
   "execution_count": 116,
   "id": "10129a4f-0d3f-463b-824e-1d48e098e64a",
   "metadata": {
    "tags": []
   },
   "outputs": [
    {
     "data": {
      "text/plain": [
       "True"
      ]
     },
     "execution_count": 116,
     "metadata": {},
     "output_type": "execute_result"
    }
   ],
   "source": [
    "try:\n",
    "    datastore = datastore_client.get_data_store(\n",
    "        name = datastore_client.collection_path(\n",
    "            project = PROJECT_ID,\n",
    "            location = VS_LOCATION,\n",
    "            collection = 'default_collection'\n",
    "        ) + f'/dataStores/{VS_DATASTORE_ID}'\n",
    "    )\n",
    "    ds_exist = True\n",
    "except Exception as err:\n",
    "    ds_exist = False\n",
    "    \n",
    "ds_exist"
   ]
  },
  {
   "cell_type": "markdown",
   "id": "41b4a7fd-4bb4-4f4f-9b53-07e13df750c8",
   "metadata": {},
   "source": [
    "### Create New Data Store (if needed)"
   ]
  },
  {
   "cell_type": "code",
   "execution_count": 117,
   "id": "dd48ff1b-1afe-408a-b0cd-800f3f3a53f0",
   "metadata": {},
   "outputs": [],
   "source": [
    "if not ds_exist:\n",
    "    ds_create = datastore_client.create_data_store(\n",
    "        parent = datastore_client.collection_path(\n",
    "            project = PROJECT_ID,\n",
    "            location = VS_LOCATION,\n",
    "            collection = 'default_collection'\n",
    "        ),\n",
    "        data_store = discoveryengine.DataStore(\n",
    "            display_name = f\"{SERIES}-{EXPERIMENT}\",\n",
    "            industry_vertical = discoveryengine.IndustryVertical.GENERIC,\n",
    "            solution_types = [discoveryengine.SolutionType.SOLUTION_TYPE_SEARCH],\n",
    "            content_config = discoveryengine.DataStore.ContentConfig.CONTENT_REQUIRED,\n",
    "            #document_processing_config = discoveryengine.DocumentProcessingConfig(\n",
    "            #    #chunking_config = ,\n",
    "            #    default_parsing_config = discoveryengine.DocumentProcessingConfig.ParsingConfig.DigitalParsingConfig,\n",
    "            #    parsing_config_overrides = [\n",
    "            #        {'pdf' :discoveryengine.DocumentProcessingConfig.ParsingConfig.LayoutParsingConfig}\n",
    "            #    ]\n",
    "            #)\n",
    "        ),\n",
    "        data_store_id = VS_DATASTORE_ID\n",
    "    )\n",
    "    response = ds_create.result()\n",
    "    print(ds_create.operation.name)"
   ]
  },
  {
   "cell_type": "markdown",
   "id": "abdb9e76-ff1d-48ab-b904-4b820e804c0f",
   "metadata": {},
   "source": [
    "### Get The Data Store ID"
   ]
  },
  {
   "cell_type": "code",
   "execution_count": 118,
   "id": "8663e141-9540-4b8c-b14d-f22291acd9e1",
   "metadata": {
    "tags": []
   },
   "outputs": [
    {
     "data": {
      "text/plain": [
       "name: \"projects/1026793852137/locations/global/collections/default_collection/dataStores/applied-genai-grounding-overview\"\n",
       "display_name: \"applied-genai-grounding-overview\"\n",
       "industry_vertical: GENERIC\n",
       "solution_types: SOLUTION_TYPE_SEARCH\n",
       "default_schema_id: \"default_schema\"\n",
       "content_config: CONTENT_REQUIRED\n",
       "create_time {\n",
       "  seconds: 1724189228\n",
       "  nanos: 173562000\n",
       "}"
      ]
     },
     "execution_count": 118,
     "metadata": {},
     "output_type": "execute_result"
    }
   ],
   "source": [
    "datastore = datastore_client.get_data_store(\n",
    "    name = datastore_client.collection_path(\n",
    "        project = PROJECT_ID,\n",
    "        location = VS_LOCATION,\n",
    "        collection = 'default_collection'\n",
    "    ) + f'/dataStores/{VS_DATASTORE_ID}'\n",
    ")\n",
    "datastore"
   ]
  },
  {
   "cell_type": "code",
   "execution_count": 119,
   "id": "3e870847-46f5-48f4-8e70-b332cbf9fbd1",
   "metadata": {
    "tags": []
   },
   "outputs": [
    {
     "data": {
      "text/plain": [
       "'projects/1026793852137/locations/global/collections/default_collection/dataStores/applied-genai-grounding-overview'"
      ]
     },
     "execution_count": 119,
     "metadata": {},
     "output_type": "execute_result"
    }
   ],
   "source": [
    "datastore.name"
   ]
  },
  {
   "cell_type": "code",
   "execution_count": 121,
   "id": "dfecf3f6-7dda-4cbf-b44b-8657d94b41fe",
   "metadata": {
    "tags": []
   },
   "outputs": [
    {
     "data": {
      "text/plain": [
       "{'project': '1026793852137',\n",
       " 'location': 'global/collections/default_collection',\n",
       " 'data_store': 'applied-genai-grounding-overview'}"
      ]
     },
     "execution_count": 121,
     "metadata": {},
     "output_type": "execute_result"
    }
   ],
   "source": [
    "datastore_id = datastore_client.parse_data_store_path(datastore.name)\n",
    "datastore_id"
   ]
  },
  {
   "cell_type": "markdown",
   "id": "7d238cae-fe67-407a-b37a-5039afd99945",
   "metadata": {},
   "source": [
    "### List Documents If Prior Data Store"
   ]
  },
  {
   "cell_type": "code",
   "execution_count": 125,
   "id": "ad5929c4-98f9-4061-b0d4-e1caa2b653d8",
   "metadata": {
    "tags": []
   },
   "outputs": [
    {
     "name": "stdout",
     "output_type": "stream",
     "text": [
      "gs://statmike-mlops-349915/applied-genai/grounding-overview/wqn5ah4c3qtivwx3jatm.pdf\n"
     ]
    },
    {
     "data": {
      "text/plain": [
       "True"
      ]
     },
     "execution_count": 125,
     "metadata": {},
     "output_type": "execute_result"
    }
   ],
   "source": [
    "if ds_exist:\n",
    "    doc_exist = False\n",
    "    for doc in document_client.list_documents(\n",
    "        parent = document_client.branch_path(\n",
    "            project = PROJECT_ID,\n",
    "            location = VS_LOCATION,\n",
    "            data_store = datastore_id['data_store'],\n",
    "            branch = 'default_branch'\n",
    "        )\n",
    "    ):\n",
    "        print(doc.content.uri)\n",
    "        if doc.content.uri == f\"gs://{bucket.name}/{file_blob.name}\":\n",
    "            doc_exist = True\n",
    "            break\n",
    "\n",
    "doc_exist"
   ]
  },
  {
   "cell_type": "markdown",
   "id": "c37c8303-13ca-4092-a5f1-e93ac195730e",
   "metadata": {},
   "source": [
    "### Import Documents (if missing)\n",
    "\n",
    "- [Discoveryengine Python Document Service Client](https://cloud.google.com/python/docs/reference/discoveryengine/latest/google.cloud.discoveryengine_v1.services.document_service.DocumentServiceClient)"
   ]
  },
  {
   "cell_type": "code",
   "execution_count": 127,
   "id": "4decce45-ee04-4e40-8cc5-709bc1b9b68e",
   "metadata": {},
   "outputs": [],
   "source": [
    "if not doc_exist:\n",
    "    doc_import = document_client.import_documents(\n",
    "        request = discoveryengine.ImportDocumentsRequest(\n",
    "            parent = document_client.branch_path(\n",
    "                project = PROJECT_ID,\n",
    "                location = VS_LOCATION,\n",
    "                data_store = datastore_id['data_store'],\n",
    "                branch = 'default_branch'\n",
    "            ),\n",
    "            gcs_source = discoveryengine.GcsSource(\n",
    "                input_uris = [f\"gs://{bucket.name}/{metadata_blob.name}\"],\n",
    "                data_schema = 'document'\n",
    "            ),\n",
    "            reconciliation_mode = discoveryengine.ImportDocumentsRequest.ReconciliationMode.INCREMENTAL\n",
    "        )\n",
    "    )\n",
    "    response = doc_import.result()\n",
    "    operation_metadata = discoveryengine.ImportDocumentsMetadata(doc_import.metadata)\n",
    "    print(operation_metadata)"
   ]
  },
  {
   "cell_type": "markdown",
   "id": "656c737f-bd2d-441d-b2e4-ec4024c2479c",
   "metadata": {},
   "source": [
    "---\n",
    "## Create A Search App\n",
    "\n",
    "The [Relationship between apps and data stores](https://cloud.google.com/generative-ai-app-builder/docs/create-datastore-ingest#app-store-relationship) allows one or more apps to search and retrieve from or more (blended search) data stores.\n",
    "\n",
    "Here we [creatre an app](https://cloud.google.com/generative-ai-app-builder/docs/create-engine-es) that uses the data store created above.\n",
    "\n",
    "- [Discoveryengine Python Engine Service Client](https://cloud.google.com/python/docs/reference/discoveryengine/latest/google.cloud.discoveryengine_v1.services.engine_service.EngineServiceClient)"
   ]
  },
  {
   "cell_type": "code",
   "execution_count": 82,
   "id": "c653a5f7-77c7-4047-84d2-0dba6e931e81",
   "metadata": {
    "tags": []
   },
   "outputs": [],
   "source": [
    "VS_APP_ID = f\"{SERIES}-{EXPERIMENT}\""
   ]
  },
  {
   "cell_type": "markdown",
   "id": "ad251d07-6210-49ed-a69c-f56f42788388",
   "metadata": {},
   "source": [
    "### Check For Existing Search App"
   ]
  },
  {
   "cell_type": "code",
   "execution_count": 130,
   "id": "8f082484-73ac-4237-a686-8df1959855d8",
   "metadata": {
    "tags": []
   },
   "outputs": [
    {
     "data": {
      "text/plain": [
       "True"
      ]
     },
     "execution_count": 130,
     "metadata": {},
     "output_type": "execute_result"
    }
   ],
   "source": [
    "try:\n",
    "    app = engine_client.get_engine(\n",
    "        name = engine_client.engine_path(\n",
    "            project = PROJECT_ID,\n",
    "            location = VS_LOCATION,\n",
    "            collection = 'default_collection',\n",
    "            engine = VS_APP_ID\n",
    "        )\n",
    "    )\n",
    "    app_exist = True\n",
    "except Exception as err:\n",
    "    app_exist = False\n",
    "    \n",
    "app_exist"
   ]
  },
  {
   "cell_type": "markdown",
   "id": "4068fec7-7e1c-40b8-b41f-9082e5f01a03",
   "metadata": {},
   "source": [
    "### Create New Search App (if needed)"
   ]
  },
  {
   "cell_type": "code",
   "execution_count": 132,
   "id": "9da5b351-40e4-4481-bff7-3738eb4998bd",
   "metadata": {
    "tags": []
   },
   "outputs": [],
   "source": [
    "if not app_exist:\n",
    "    app_create = engine_client.create_engine(\n",
    "        parent = engine_client.collection_path(\n",
    "            project = PROJECT_ID,\n",
    "            location = VS_LOCATION,\n",
    "            collection = 'default_collection'\n",
    "        ),\n",
    "        engine = discoveryengine.Engine(\n",
    "            display_name = VS_APP_ID,\n",
    "            industry_vertical = discoveryengine.IndustryVertical.GENERIC,\n",
    "            solution_type = discoveryengine.SolutionType.SOLUTION_TYPE_SEARCH,\n",
    "            search_engine_config = discoveryengine.Engine.SearchEngineConfig(\n",
    "                search_tier = discoveryengine.SearchTier.SEARCH_TIER_ENTERPRISE,\n",
    "                search_add_ons = [discoveryengine.SearchAddOn.SEARCH_ADD_ON_LLM],\n",
    "            ),\n",
    "            data_store_ids = [datastore_id['data_store']],\n",
    "        ),\n",
    "        engine_id = VS_APP_ID\n",
    "    )\n",
    "    response = app_create.result()\n",
    "    operation_metadata = discoveryengine.CreateEngineMetadata(app_create.metadata)\n",
    "    print(operation_metadata)\n",
    "    print(app_create.operation.name)"
   ]
  },
  {
   "cell_type": "markdown",
   "id": "ec362ac9-7b66-4906-abe0-f100c41c4bce",
   "metadata": {},
   "source": [
    "---\n",
    "## Get Search Results \n",
    "\n",
    "[Get search results](https://cloud.google.com/generative-ai-app-builder/docs/preview-search-results) using the API."
   ]
  },
  {
   "cell_type": "code",
   "execution_count": null,
   "id": "b05e21cd-ac43-4730-925c-f53232784a85",
   "metadata": {},
   "outputs": [],
   "source": []
  },
  {
   "cell_type": "code",
   "execution_count": null,
   "id": "12994023-2350-4030-a7cc-a768632b10dc",
   "metadata": {},
   "outputs": [],
   "source": []
  },
  {
   "cell_type": "markdown",
   "id": "3a9f5f90-7794-432f-838c-d1fd004f9b6a",
   "metadata": {},
   "source": [
    "---\n",
    "## Get Answers With Follow-Ups\n",
    "\n",
    "[Get answers and follow-ups](https://cloud.google.com/generative-ai-app-builder/docs/answer)"
   ]
  },
  {
   "cell_type": "code",
   "execution_count": null,
   "id": "5e3256ae-8c04-4678-a267-353f191397b0",
   "metadata": {},
   "outputs": [],
   "source": []
  },
  {
   "cell_type": "code",
   "execution_count": null,
   "id": "662b79e5-fc6e-481c-a422-db3dcd05be5b",
   "metadata": {},
   "outputs": [],
   "source": []
  },
  {
   "cell_type": "markdown",
   "id": "3255a70e-9b08-4071-a8c3-983e1d907575",
   "metadata": {},
   "source": [
    "---\n",
    "## Get Snippets And Extractive Segments\n",
    "\n",
    "[Get Snippets And Extractive Segments](https://cloud.google.com/generative-ai-app-builder/docs/snippets)"
   ]
  },
  {
   "cell_type": "code",
   "execution_count": null,
   "id": "3d37a0aa-67f6-4387-935f-3dac70d63fdb",
   "metadata": {},
   "outputs": [],
   "source": []
  },
  {
   "cell_type": "code",
   "execution_count": null,
   "id": "5462773c-fde7-4506-8aa3-c48fdd5bb45f",
   "metadata": {},
   "outputs": [],
   "source": []
  },
  {
   "cell_type": "markdown",
   "id": "21c5c34f-6874-4a21-9900-4107f665b77c",
   "metadata": {},
   "source": [
    "---\n",
    "## Get Search Summaries\n",
    "\n",
    "[Get Search Summaries](https://cloud.google.com/generative-ai-app-builder/docs/get-search-summaries)"
   ]
  },
  {
   "cell_type": "code",
   "execution_count": null,
   "id": "95b1b4bd-218c-4452-9ff2-8b36d7be4dce",
   "metadata": {},
   "outputs": [],
   "source": []
  }
 ],
 "metadata": {
  "environment": {
   "kernel": "conda-base-py",
   "name": "workbench-notebooks.m124",
   "type": "gcloud",
   "uri": "us-docker.pkg.dev/deeplearning-platform-release/gcr.io/workbench-notebooks:m124"
  },
  "kernelspec": {
   "display_name": "Python 3 (ipykernel)",
   "language": "python",
   "name": "conda-base-py"
  },
  "language_info": {
   "codemirror_mode": {
    "name": "ipython",
    "version": 3
   },
   "file_extension": ".py",
   "mimetype": "text/x-python",
   "name": "python",
   "nbconvert_exporter": "python",
   "pygments_lexer": "ipython3",
   "version": "3.10.14"
  }
 },
 "nbformat": 4,
 "nbformat_minor": 5
}
