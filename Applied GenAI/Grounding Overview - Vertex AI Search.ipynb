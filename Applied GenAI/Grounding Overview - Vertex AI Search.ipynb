{
 "cells": [
  {
   "cell_type": "markdown",
   "id": "87111ddc",
   "metadata": {},
   "source": [
    "![tracker](https://us-central1-vertex-ai-mlops-369716.cloudfunctions.net/pixel-tracking?path=statmike%2Fvertex-ai-mlops%2FApplied+GenAI&file=Grounding+Overview+-+Vertex+AI+Search.ipynb)\n",
    "<!--- header table --->\n",
    "<table align=\"left\">\n",
    "  <td style=\"text-align: center\">\n",
    "    <a href=\"https://colab.research.google.com/github/statmike/vertex-ai-mlops/blob/main/Applied%20GenAI/Grounding%20Overview%20-%20Vertex%20AI%20Search.ipynb\">\n",
    "      <img src=\"https://cloud.google.com/ml-engine/images/colab-logo-32px.png\" alt=\"Google Colaboratory logo\">\n",
    "      <br>Run in<br>Colab\n",
    "    </a>\n",
    "  </td>\n",
    "  <td style=\"text-align: center\">\n",
    "    <a href=\"https://console.cloud.google.com/vertex-ai/colab/import/https%3A%2F%2Fraw.githubusercontent.com%2Fstatmike%2Fvertex-ai-mlops%2Fmain%2FApplied%2520GenAI%2FGrounding%2520Overview%2520-%2520Vertex%2520AI%2520Search.ipynb\">\n",
    "      <img width=\"32px\" src=\"https://lh3.googleusercontent.com/JmcxdQi-qOpctIvWKgPtrzZdJJK-J3sWE1RsfjZNwshCFgE_9fULcNpuXYTilIR2hjwN\" alt=\"Google Cloud Colab Enterprise logo\">\n",
    "      <br>Run in<br>Colab Enterprise\n",
    "    </a>\n",
    "  </td>      \n",
    "  <td style=\"text-align: center\">\n",
    "    <a href=\"https://github.com/statmike/vertex-ai-mlops/blob/main/Applied%20GenAI/Grounding%20Overview%20-%20Vertex%20AI%20Search.ipynb\">\n",
    "      <img src=\"https://cloud.google.com/ml-engine/images/github-logo-32px.png\" alt=\"GitHub logo\">\n",
    "      <br>View on<br>GitHub\n",
    "    </a>\n",
    "  </td>\n",
    "  <td style=\"text-align: center\">\n",
    "    <a href=\"https://console.cloud.google.com/vertex-ai/workbench/deploy-notebook?download_url=https://raw.githubusercontent.com/statmike/vertex-ai-mlops/main/Applied%20GenAI/Grounding%20Overview%20-%20Vertex%20AI%20Search.ipynb\">\n",
    "      <img src=\"https://lh3.googleusercontent.com/UiNooY4LUgW_oTvpsNhPpQzsstV5W8F7rYgxgGBD85cWJoLmrOzhVs_ksK_vgx40SHs7jCqkTkCk=e14-rj-sc0xffffff-h130-w32\" alt=\"Vertex AI logo\">\n",
    "      <br>Open in<br>Vertex AI Workbench\n",
    "    </a>\n",
    "  </td>\n",
    "</table>"
   ]
  },
  {
   "cell_type": "markdown",
   "id": "2b317061-a4d0-4cd1-b07f-9a42429cc40e",
   "metadata": {},
   "source": [
    "# Grounding Overview - Vertex AI Search\n",
    "\n",
    "This workflow uses [Vertex AI Agent Builder](https://cloud.google.com/generative-ai-app-builder/docs/introduction) To build a search experience with [Vertex AI Search](https://cloud.google.com/generative-ai-app-builder/docs/enterprise-search-introduction).  \n",
    "\n",
    "Why Vertex AI Search? Building a search application, or a retrieval augmented generation (RAG) application for context and grounding requires steps like:\n",
    "- process, annotate, and break content into chunks\n",
    "- generate embeddings of chunks\n",
    "- store, index, and retrieve chunks\n",
    "- rank, rerank retrieval based on query/question/prompt\n",
    "- generation of answer with grounding\n",
    "- verifying groundeness and identifying contradiction\n",
    "\n",
    "Vertex AI Search does all of this, and much more, a service within the solution and provides APIs and client for interaction as use in this workflow.\n",
    "\n",
    "The alternative of building a search or retrieval application can be done with many other Vertex AI and GCP offerings but there are also easy to use APIs to make this fast and simple.  Read more about these offerings [here](https://cloud.google.com/generative-ai-app-builder/docs/builder-apis#build-rag).\n",
    "\n",
    "This workflow will walk through:\n",
    "- Preparing unstructured data for input\n",
    "    - This workflow shows how to make a metadata file so that any number of files can be store in any number of GCS locations (buckets and folders).\n",
    "- How to create and work with a data store\n",
    "    - retrieve/create data stores\n",
    "    - list documents in data stores\n",
    "    - immport documents\n",
    "- How to create a search app\n",
    "    - retrieve/create a search app\n",
    "- Get search results\n",
    "    - results = related documents\n",
    "    - snippets = brief extract that previews documents relationship to the search\n",
    "    - extrative answers = short verbatim text extract meant to answer the search\n",
    "    - extrative segments = longer verbatim text extract meant to answer the search or be used as context for LLMs.\n",
    "    - summaries = automatic LLM summaries of the search results\n",
    "- Get Answers\n",
    "    - control the query and answer phase as well and follow-up questions\n",
    "\n",
    "\n",
    ">**NOTE:**\n",
    ">If Vertex AI Agent Builder has not been previously used then part of the setup may need to be completed in the console prior to running this notebook which primarily uses the Python SDK. See [Before you begin](https://cloud.google.com/generative-ai-app-builder/docs/before-you-begin).\n",
    "\n",
    "todo:\n",
    "- include answer method examples\n",
    "- include cleanup section for app and datastore\n",
    "- screenshots of console views\n",
    "\n",
    "\n"
   ]
  },
  {
   "cell_type": "markdown",
   "id": "5dbfcf0c-3e72-4625-9ff3-2942dec76bbc",
   "metadata": {
    "id": "od_UkDpvRmgD"
   },
   "source": [
    "---\n",
    "## Colab Setup\n",
    "\n",
    "When running this notebook in [Colab](https://colab.google/) or [Colab Enterprise](https://cloud.google.com/colab/docs/introduction), this section will authenticate to GCP (follow prompts in the popup) and set the current project for the session."
   ]
  },
  {
   "cell_type": "code",
   "execution_count": 1,
   "id": "bb3b96d5-badd-4ac7-940b-dcfd15c2924e",
   "metadata": {
    "executionInfo": {
     "elapsed": 195,
     "status": "ok",
     "timestamp": 1683726184843,
     "user": {
      "displayName": "Mike Henderson",
      "userId": "07691629187611687318"
     },
     "user_tz": 240
    },
    "id": "8UO9FnqyKBlF",
    "tags": []
   },
   "outputs": [],
   "source": [
    "PROJECT_ID = 'statmike-mlops-349915' # replace with project ID"
   ]
  },
  {
   "cell_type": "code",
   "execution_count": 2,
   "id": "afc25dc6-9b90-49f6-a5fa-343336d39a2d",
   "metadata": {
    "colab": {
     "base_uri": "https://localhost:8080/"
    },
    "executionInfo": {
     "elapsed": 68869,
     "status": "ok",
     "timestamp": 1683726253709,
     "user": {
      "displayName": "Mike Henderson",
      "userId": "07691629187611687318"
     },
     "user_tz": 240
    },
    "id": "N98-KK7LRkjm",
    "outputId": "09ec5008-0def-4e1a-c349-c598ee752f78",
    "tags": []
   },
   "outputs": [],
   "source": [
    "try:\n",
    "    from google.colab import auth\n",
    "    auth.authenticate_user()\n",
    "    !gcloud config set project {PROJECT_ID}\n",
    "except Exception:\n",
    "    pass"
   ]
  },
  {
   "cell_type": "markdown",
   "id": "a693b199-35cc-48bb-a0e2-c49cf1aca5f6",
   "metadata": {},
   "source": [
    "---\n",
    "## Installs and API Enablement\n",
    "\n",
    "The clients packages may need installing in this environment. "
   ]
  },
  {
   "cell_type": "markdown",
   "id": "04b81e66-b0ba-400f-ac9e-b074b81d6a08",
   "metadata": {},
   "source": [
    "### Installs (If Needed)"
   ]
  },
  {
   "cell_type": "code",
   "execution_count": 3,
   "id": "8f607198-71e3-4c52-ac3b-2e9025c5c62f",
   "metadata": {
    "tags": []
   },
   "outputs": [],
   "source": [
    "# tuples of (import name, install name, min_version)\n",
    "packages = [\n",
    "    ('google.cloud.storage', 'google-cloud-storage'),\n",
    "    ('google.cloud.discoveryengine', 'google-cloud-discoveryengine')\n",
    "]\n",
    "\n",
    "import importlib\n",
    "install = False\n",
    "for package in packages:\n",
    "    if not importlib.util.find_spec(package[0]):\n",
    "        print(f'installing package {package[1]}')\n",
    "        install = True\n",
    "        !pip install {package[1]} -U -q --user\n",
    "    elif len(package) == 3:\n",
    "        if importlib.metadata.version(package[0]) < package[2]:\n",
    "            print(f'updating package {package[1]}')\n",
    "            install = True\n",
    "            !pip install {package[1]} -U -q --user"
   ]
  },
  {
   "cell_type": "markdown",
   "id": "62128b3c-2067-44e7-86e9-647fdc205b97",
   "metadata": {},
   "source": [
    "### API Enablement"
   ]
  },
  {
   "cell_type": "code",
   "execution_count": 5,
   "id": "af185814-fd51-40b9-9011-918b3866b568",
   "metadata": {
    "tags": []
   },
   "outputs": [],
   "source": [
    "!gcloud services enable discoveryengine.googleapis.com"
   ]
  },
  {
   "cell_type": "markdown",
   "id": "14e79bba-79b9-462a-a407-632816116a53",
   "metadata": {},
   "source": [
    "### Restart Kernel (If Installs Occured)\n",
    "\n",
    "After a kernel restart the code submission can start with the next cell after this one."
   ]
  },
  {
   "cell_type": "code",
   "execution_count": 6,
   "id": "831f9192-1e50-4250-b897-84d16f138543",
   "metadata": {
    "tags": []
   },
   "outputs": [],
   "source": [
    "if install:\n",
    "    import IPython\n",
    "    app = IPython.Application.instance()\n",
    "    app.kernel.do_shutdown(True)"
   ]
  },
  {
   "cell_type": "markdown",
   "id": "fa2603c5-64d3-4d8f-acd4-27c2bbf64790",
   "metadata": {
    "id": "appt8-yVRtJ1"
   },
   "source": [
    "---\n",
    "## Setup"
   ]
  },
  {
   "cell_type": "markdown",
   "id": "d5052921-9d60-415f-97f8-7cd89308d6f9",
   "metadata": {
    "id": "63mx2EozRxFP"
   },
   "source": [
    "Inputs"
   ]
  },
  {
   "cell_type": "code",
   "execution_count": 7,
   "id": "932be11f-a647-4da7-88c0-e57445e42b04",
   "metadata": {
    "colab": {
     "base_uri": "https://localhost:8080/",
     "height": 35
    },
    "executionInfo": {
     "elapsed": 2124,
     "status": "ok",
     "timestamp": 1683726390544,
     "user": {
      "displayName": "Mike Henderson",
      "userId": "07691629187611687318"
     },
     "user_tz": 240
    },
    "id": "xzcoXjM5Rky5",
    "outputId": "b3bdcbc1-70d5-472e-aea2-42c74a42efde",
    "tags": []
   },
   "outputs": [
    {
     "data": {
      "text/plain": [
       "'statmike-mlops-349915'"
      ]
     },
     "execution_count": 7,
     "metadata": {},
     "output_type": "execute_result"
    }
   ],
   "source": [
    "project = !gcloud config get-value project\n",
    "PROJECT_ID = project[0]\n",
    "PROJECT_ID"
   ]
  },
  {
   "cell_type": "code",
   "execution_count": 10,
   "id": "15994a0a-b882-47ef-a154-afe441208b21",
   "metadata": {
    "executionInfo": {
     "elapsed": 2,
     "status": "ok",
     "timestamp": 1683726390712,
     "user": {
      "displayName": "Mike Henderson",
      "userId": "07691629187611687318"
     },
     "user_tz": 240
    },
    "id": "IxWrFtqYMfku",
    "tags": []
   },
   "outputs": [],
   "source": [
    "REGION = 'us-central1'\n",
    "SERIES = 'applied-genai'\n",
    "EXPERIMENT = 'grounding-overview'\n",
    "\n",
    "# make this the gcs bucket for storing files\n",
    "GCS_BUCKET = PROJECT_ID \n",
    "\n",
    "# vertex search location\n",
    "VS_LOCATION = 'global'"
   ]
  },
  {
   "cell_type": "markdown",
   "id": "ce02aea0-bc89-412a-ab2c-62c8fab4148b",
   "metadata": {
    "id": "LuajVwCiO6Yg"
   },
   "source": [
    "Packages"
   ]
  },
  {
   "cell_type": "code",
   "execution_count": 27,
   "id": "8f3d7274-034b-4e4f-918a-a1e934bf1e4e",
   "metadata": {
    "executionInfo": {
     "elapsed": 17761,
     "status": "ok",
     "timestamp": 1683726409304,
     "user": {
      "displayName": "Mike Henderson",
      "userId": "07691629187611687318"
     },
     "user_tz": 240
    },
    "id": "LVC7zzSLRk2C",
    "tags": []
   },
   "outputs": [],
   "source": [
    "import requests\n",
    "import base64\n",
    "import json\n",
    "import hashlib\n",
    "\n",
    "from google.cloud import storage\n",
    "\n",
    "import google.cloud.discoveryengine_v1 as discoveryengine\n",
    "import google.cloud.discoveryengine_v1alpha as discoveryengine_alpha"
   ]
  },
  {
   "cell_type": "markdown",
   "id": "73e69e3d-2302-4936-bdba-bae1b986a0d8",
   "metadata": {
    "id": "EyAVFG9TO9H-"
   },
   "source": [
    "Clients"
   ]
  },
  {
   "cell_type": "code",
   "execution_count": 61,
   "id": "6035882f-b31f-4bf1-aea7-59922d6785a4",
   "metadata": {
    "executionInfo": {
     "elapsed": 19,
     "status": "ok",
     "timestamp": 1683726409306,
     "user": {
      "displayName": "Mike Henderson",
      "userId": "07691629187611687318"
     },
     "user_tz": 240
    },
    "id": "L0RPE13LOZce",
    "tags": []
   },
   "outputs": [],
   "source": [
    "# vertex ai agent builder\n",
    "API_ENDPOINT = dict(api_endpoint = (f'{VS_LOCATION}-' if VS_LOCATION != 'global' else '') + 'discoveryengine.googleapis.com')\n",
    "datastore_client = discoveryengine.DataStoreServiceClient(client_options = API_ENDPOINT)\n",
    "document_client = discoveryengine.DocumentServiceClient(client_options = API_ENDPOINT)\n",
    "engine_client = discoveryengine.EngineServiceClient(client_options = API_ENDPOINT)\n",
    "search_client = discoveryengine.SearchServiceClient(client_options = API_ENDPOINT)\n",
    "\n",
    "# gcs client: assumes bucket already exists\n",
    "gcs = storage.Client(project = PROJECT_ID)\n",
    "bucket = gcs.bucket(GCS_BUCKET)"
   ]
  },
  {
   "cell_type": "markdown",
   "id": "9353ba08-e45f-4cfc-9b0d-0b404d161dcc",
   "metadata": {},
   "source": [
    "---\n",
    "## Prompt And Context\n",
    "\n",
    "The [official rules of baseball](https://img.mlbstatic.com/mlb-images/image/upload/mlb/wqn5ah4c3qtivwx3jatm.pdf), a pdf that is updated annually with the latest changes to the game and published by MLB.\n"
   ]
  },
  {
   "cell_type": "code",
   "execution_count": 12,
   "id": "c91b306e-638d-479d-ab5e-bceb057e90fa",
   "metadata": {
    "tags": []
   },
   "outputs": [],
   "source": [
    "prompt = \"what are the dimensions of first base in baseball?\""
   ]
  },
  {
   "cell_type": "code",
   "execution_count": 16,
   "id": "68fe43d1-c751-4877-8c9c-9b702744943c",
   "metadata": {
    "tags": []
   },
   "outputs": [],
   "source": [
    "url = 'https://img.mlbstatic.com/mlb-images/image/upload/mlb/wqn5ah4c3qtivwx3jatm.pdf'\n",
    "# get the pdf\n",
    "context_bytes = requests.get(url).content\n",
    "context_base64 = base64.b64encode(context_bytes).decode('utf-8')"
   ]
  },
  {
   "cell_type": "markdown",
   "id": "610db345-6bea-481a-973e-4132c30ecec4",
   "metadata": {},
   "source": [
    "---\n",
    "## Store Document(s) In GCS"
   ]
  },
  {
   "cell_type": "code",
   "execution_count": 106,
   "id": "3dfa024e-ad07-4035-9b4f-8fbc02417305",
   "metadata": {},
   "outputs": [],
   "source": [
    "# store pdf in gcs\n",
    "file_blob = bucket.blob(f\"{SERIES}/{EXPERIMENT}/{url.split('/')[-1]}\")\n",
    "file_blob.upload_from_string(context_bytes, content_type = 'application/pdf')"
   ]
  },
  {
   "cell_type": "markdown",
   "id": "1ed7ce9c-38c6-4384-bd48-4bfbeb880dc9",
   "metadata": {
    "tags": []
   },
   "source": [
    "---\n",
    "## Prepare Document(s) For The Vertex Agent Builder Data Store\n",
    "\n",
    "There are multiple ways to [prepare data for ingesting](https://cloud.google.com/generative-ai-app-builder/docs/prepare-data) depending on location, volume, how often it will change, and type (website, unstructured, strutred, media, third-party (Slack, ServiceNow, ...), Healthcare FHIR, ....).\n",
    "\n",
    "Here, the data will be prepared as **Unstructured data in GCS storage**.  Files an be imported as:\n",
    "- **single file** at GCS URI\n",
    "- **multiple files** in a GCS 'folder'.  Note that import is nnot recursive so subfolder will not be imported.  For this case or even multiple buckets see the next option:\n",
    "- **Any number of files** at a single or multiple folders and buckets can be imported with a **metadata** file.  A JSON lines file with one line per file that include the document id and uri as well as optional metadata.\n"
   ]
  },
  {
   "cell_type": "code",
   "execution_count": 107,
   "id": "010e0abd-15ae-4e4b-92a1-be606483e2c2",
   "metadata": {},
   "outputs": [
    {
     "name": "stdout",
     "output_type": "stream",
     "text": [
      "applied-genai/grounding-overview/wqn5ah4c3qtivwx3jatm.pdf\n"
     ]
    }
   ],
   "source": [
    "for blob in bucket.list_blobs(prefix = f\"{SERIES}/{EXPERIMENT}/{url.split('/')[-1]}\"):\n",
    "    print(blob.name)"
   ]
  },
  {
   "cell_type": "markdown",
   "id": "08a97a83-16e6-4692-9cbf-d93321e35635",
   "metadata": {},
   "source": [
    "### Document ID's\n",
    "\n",
    "The name of a file could make a great id.  But what happens if multiple file names exist but in different folders?  To make this managable across files, folders and buckets, adopting a hash of the full file path could be a great practice.  This function is designed to convert the full file path into a hash of length 63."
   ]
  },
  {
   "cell_type": "code",
   "execution_count": 108,
   "id": "50b60263-4fae-401e-880c-ed53c419794e",
   "metadata": {
    "tags": []
   },
   "outputs": [],
   "source": [
    "def generate_id(name):\n",
    "    hasher =hashlib.sha256()\n",
    "    hasher.update(name.encode('utf-8'))\n",
    "    return hasher.hexdigest()[0:63]"
   ]
  },
  {
   "cell_type": "code",
   "execution_count": 110,
   "id": "befc1025-f8d7-4cab-b6e4-2415a86a4b90",
   "metadata": {
    "tags": []
   },
   "outputs": [
    {
     "data": {
      "text/plain": [
       "'b48b4704ced27a1e9bdee5b1d90479abdb488b2df9fa0b93d554ea250039e18'"
      ]
     },
     "execution_count": 110,
     "metadata": {},
     "output_type": "execute_result"
    }
   ],
   "source": [
    "generate_id(bucket.name+'/'+blob.name)"
   ]
  },
  {
   "cell_type": "markdown",
   "id": "1574c432-e324-4119-99e4-b07a1183747e",
   "metadata": {},
   "source": [
    "### Create Metadata\n",
    "\n",
    "At a minimum the document `id` and the `content` needs to be provided but optional metadata can also provided as shown here with `structData`:"
   ]
  },
  {
   "cell_type": "code",
   "execution_count": 111,
   "id": "119a87b5-6963-458c-8b39-2eb0b3cb5d58",
   "metadata": {},
   "outputs": [],
   "source": [
    "metadata = []\n",
    "file_types = ['pdf', 'docx', 'txt', 'html', 'pptx']\n",
    "content_type = dict(\n",
    "  pdf = 'application/pdf',\n",
    "  txt = 'text/plain',\n",
    "  html = 'text/html',\n",
    "  docx = 'application/vnd.openxmlformats-officedocument.wordprocessingml.document',\n",
    "  pptx = 'application/vnd.openxmlformats-officedocument.presentationml.presentation'\n",
    ")\n",
    "for blob in bucket.list_blobs(prefix = f\"{SERIES}/{EXPERIMENT}/{url.split('/')[-1]}\"):\n",
    "    folder = blob.name.split('/')[0]\n",
    "    filename = blob.name.split('/')[-1]\n",
    "    filetype = blob.name.split('.')[-1].lower()\n",
    "    filepath = '/'.join(blob.name.split('/')[0:-1])\n",
    "    if filetype in file_types:\n",
    "        json_data = dict(\n",
    "            id = generate_id(blob.name),\n",
    "            structData = dict(\n",
    "                title= filename,\n",
    "                path = filepath,\n",
    "                location = bucket.name\n",
    "            ),\n",
    "            content = dict(\n",
    "                mimeType = content_type[filetype],\n",
    "                uri = f'gs://{blob.bucket.name}/{blob.name}'\n",
    "            )\n",
    "        )\n",
    "        metadata.append(json.dumps(json_data))   \n"
   ]
  },
  {
   "cell_type": "code",
   "execution_count": 112,
   "id": "8e45ee94-01eb-4b30-9e89-01e8b99c0ec9",
   "metadata": {},
   "outputs": [
    {
     "data": {
      "text/plain": [
       "['{\"id\": \"73bee30d37112e8e829720fe2f4a3ff0b450c2a51cd9fe03b5beeea277eed67\", \"structData\": {\"title\": \"wqn5ah4c3qtivwx3jatm.pdf\", \"path\": \"applied-genai/grounding-overview\", \"location\": \"statmike-mlops-349915\"}, \"content\": {\"mimeType\": \"application/pdf\", \"uri\": \"gs://statmike-mlops-349915/applied-genai/grounding-overview/wqn5ah4c3qtivwx3jatm.pdf\"}}']"
      ]
     },
     "execution_count": 112,
     "metadata": {},
     "output_type": "execute_result"
    }
   ],
   "source": [
    "metadata"
   ]
  },
  {
   "cell_type": "markdown",
   "id": "083b5a3f-5eca-46ce-977c-058f49e9c009",
   "metadata": {},
   "source": [
    "### Write Metadata File To GCS"
   ]
  },
  {
   "cell_type": "code",
   "execution_count": 113,
   "id": "2d2b9481-d58e-492b-b93b-2043c1ad665b",
   "metadata": {},
   "outputs": [],
   "source": [
    "metadata_blob = bucket.blob(f'{SERIES}/{EXPERIMENT}/{SERIES}-{EXPERIMENT}.json')\n",
    "with metadata_blob.open('w') as f:\n",
    "    for m in metadata:\n",
    "        f.write(m + '\\n')"
   ]
  },
  {
   "cell_type": "code",
   "execution_count": 114,
   "id": "1fb8c2fc-8b60-4d28-80ad-8a38f61cfcd1",
   "metadata": {
    "tags": []
   },
   "outputs": [
    {
     "data": {
      "text/plain": [
       "'gs://statmike-mlops-349915/applied-genai/grounding-overview/wqn5ah4c3qtivwx3jatm.pdf'"
      ]
     },
     "execution_count": 114,
     "metadata": {},
     "output_type": "execute_result"
    }
   ],
   "source": [
    "f\"gs://{bucket.name}/{blob.name}\""
   ]
  },
  {
   "cell_type": "markdown",
   "id": "86f6d454-3526-4ce0-9314-c843a07e9ff9",
   "metadata": {},
   "source": [
    "---\n",
    "## Create A Search Data Store\n",
    "\n",
    "[Creating a search data store](https://cloud.google.com/generative-ai-app-builder/docs/create-data-store-es) depends on the type of data, in this case an [import from cloud storage](https://cloud.google.com/generative-ai-app-builder/docs/create-data-store-es#cloud-storage) using a metadata file in JSON lines format. \n",
    "\n",
    "- [Discoveryengine Python Data Store Client](https://cloud.google.com/python/docs/reference/discoveryengine/latest/google.cloud.discoveryengine_v1.services.data_store_service.DataStoreServiceClient)"
   ]
  },
  {
   "cell_type": "code",
   "execution_count": 115,
   "id": "a785a320-d11c-410a-9654-f3f73ea252f1",
   "metadata": {
    "tags": []
   },
   "outputs": [],
   "source": [
    "VS_DATASTORE_ID = f\"{SERIES}-{EXPERIMENT}\""
   ]
  },
  {
   "cell_type": "markdown",
   "id": "72ecfeb9-5f5d-456f-9719-4a4205dca0e1",
   "metadata": {},
   "source": [
    "### Check For Existing Data Store (and retrieve)"
   ]
  },
  {
   "cell_type": "code",
   "execution_count": 116,
   "id": "10129a4f-0d3f-463b-824e-1d48e098e64a",
   "metadata": {
    "tags": []
   },
   "outputs": [
    {
     "data": {
      "text/plain": [
       "True"
      ]
     },
     "execution_count": 116,
     "metadata": {},
     "output_type": "execute_result"
    }
   ],
   "source": [
    "try:\n",
    "    datastore = datastore_client.get_data_store(\n",
    "        name = datastore_client.collection_path(\n",
    "            project = PROJECT_ID,\n",
    "            location = VS_LOCATION,\n",
    "            collection = 'default_collection'\n",
    "        ) + f'/dataStores/{VS_DATASTORE_ID}'\n",
    "    )\n",
    "    ds_exist = True\n",
    "except Exception as err:\n",
    "    ds_exist = False\n",
    "    \n",
    "ds_exist"
   ]
  },
  {
   "cell_type": "markdown",
   "id": "41b4a7fd-4bb4-4f4f-9b53-07e13df750c8",
   "metadata": {},
   "source": [
    "### Create New Data Store (if needed)"
   ]
  },
  {
   "cell_type": "code",
   "execution_count": 117,
   "id": "dd48ff1b-1afe-408a-b0cd-800f3f3a53f0",
   "metadata": {},
   "outputs": [],
   "source": [
    "if not ds_exist:\n",
    "    ds_create = datastore_client.create_data_store(\n",
    "        parent = datastore_client.collection_path(\n",
    "            project = PROJECT_ID,\n",
    "            location = VS_LOCATION,\n",
    "            collection = 'default_collection'\n",
    "        ),\n",
    "        data_store = discoveryengine.DataStore(\n",
    "            display_name = f\"{SERIES}-{EXPERIMENT}\",\n",
    "            industry_vertical = discoveryengine.IndustryVertical.GENERIC,\n",
    "            solution_types = [discoveryengine.SolutionType.SOLUTION_TYPE_SEARCH],\n",
    "            content_config = discoveryengine.DataStore.ContentConfig.CONTENT_REQUIRED,\n",
    "            #document_processing_config = discoveryengine.DocumentProcessingConfig(\n",
    "            #    #chunking_config = ,\n",
    "            #    default_parsing_config = discoveryengine.DocumentProcessingConfig.ParsingConfig.DigitalParsingConfig,\n",
    "            #    parsing_config_overrides = [\n",
    "            #        {'pdf' :discoveryengine.DocumentProcessingConfig.ParsingConfig.LayoutParsingConfig}\n",
    "            #    ]\n",
    "            #)\n",
    "        ),\n",
    "        data_store_id = VS_DATASTORE_ID\n",
    "    )\n",
    "    response = ds_create.result()\n",
    "    print(ds_create.operation.name)"
   ]
  },
  {
   "cell_type": "markdown",
   "id": "abdb9e76-ff1d-48ab-b904-4b820e804c0f",
   "metadata": {},
   "source": [
    "### Get The Data Store ID"
   ]
  },
  {
   "cell_type": "code",
   "execution_count": 118,
   "id": "8663e141-9540-4b8c-b14d-f22291acd9e1",
   "metadata": {
    "tags": []
   },
   "outputs": [
    {
     "data": {
      "text/plain": [
       "name: \"projects/1026793852137/locations/global/collections/default_collection/dataStores/applied-genai-grounding-overview\"\n",
       "display_name: \"applied-genai-grounding-overview\"\n",
       "industry_vertical: GENERIC\n",
       "solution_types: SOLUTION_TYPE_SEARCH\n",
       "default_schema_id: \"default_schema\"\n",
       "content_config: CONTENT_REQUIRED\n",
       "create_time {\n",
       "  seconds: 1724189228\n",
       "  nanos: 173562000\n",
       "}"
      ]
     },
     "execution_count": 118,
     "metadata": {},
     "output_type": "execute_result"
    }
   ],
   "source": [
    "datastore = datastore_client.get_data_store(\n",
    "    name = datastore_client.collection_path(\n",
    "        project = PROJECT_ID,\n",
    "        location = VS_LOCATION,\n",
    "        collection = 'default_collection'\n",
    "    ) + f'/dataStores/{VS_DATASTORE_ID}'\n",
    ")\n",
    "datastore"
   ]
  },
  {
   "cell_type": "code",
   "execution_count": 119,
   "id": "3e870847-46f5-48f4-8e70-b332cbf9fbd1",
   "metadata": {
    "tags": []
   },
   "outputs": [
    {
     "data": {
      "text/plain": [
       "'projects/1026793852137/locations/global/collections/default_collection/dataStores/applied-genai-grounding-overview'"
      ]
     },
     "execution_count": 119,
     "metadata": {},
     "output_type": "execute_result"
    }
   ],
   "source": [
    "datastore.name"
   ]
  },
  {
   "cell_type": "code",
   "execution_count": 121,
   "id": "dfecf3f6-7dda-4cbf-b44b-8657d94b41fe",
   "metadata": {
    "tags": []
   },
   "outputs": [
    {
     "data": {
      "text/plain": [
       "{'project': '1026793852137',\n",
       " 'location': 'global/collections/default_collection',\n",
       " 'data_store': 'applied-genai-grounding-overview'}"
      ]
     },
     "execution_count": 121,
     "metadata": {},
     "output_type": "execute_result"
    }
   ],
   "source": [
    "datastore_id = datastore_client.parse_data_store_path(datastore.name)\n",
    "datastore_id"
   ]
  },
  {
   "cell_type": "markdown",
   "id": "7d238cae-fe67-407a-b37a-5039afd99945",
   "metadata": {},
   "source": [
    "### List Documents If Prior Data Store"
   ]
  },
  {
   "cell_type": "code",
   "execution_count": 125,
   "id": "ad5929c4-98f9-4061-b0d4-e1caa2b653d8",
   "metadata": {
    "tags": []
   },
   "outputs": [
    {
     "name": "stdout",
     "output_type": "stream",
     "text": [
      "gs://statmike-mlops-349915/applied-genai/grounding-overview/wqn5ah4c3qtivwx3jatm.pdf\n"
     ]
    },
    {
     "data": {
      "text/plain": [
       "True"
      ]
     },
     "execution_count": 125,
     "metadata": {},
     "output_type": "execute_result"
    }
   ],
   "source": [
    "if ds_exist:\n",
    "    doc_exist = False\n",
    "    for doc in document_client.list_documents(\n",
    "        parent = document_client.branch_path(\n",
    "            project = PROJECT_ID,\n",
    "            location = VS_LOCATION,\n",
    "            data_store = datastore_id['data_store'],\n",
    "            branch = 'default_branch'\n",
    "        )\n",
    "    ):\n",
    "        print(doc.content.uri)\n",
    "        if doc.content.uri == f\"gs://{bucket.name}/{file_blob.name}\":\n",
    "            doc_exist = True\n",
    "            break\n",
    "\n",
    "doc_exist"
   ]
  },
  {
   "cell_type": "markdown",
   "id": "c37c8303-13ca-4092-a5f1-e93ac195730e",
   "metadata": {},
   "source": [
    "### Import Documents (if missing)\n",
    "\n",
    "- [Discoveryengine Python Document Service Client](https://cloud.google.com/python/docs/reference/discoveryengine/latest/google.cloud.discoveryengine_v1.services.document_service.DocumentServiceClient)"
   ]
  },
  {
   "cell_type": "code",
   "execution_count": 127,
   "id": "4decce45-ee04-4e40-8cc5-709bc1b9b68e",
   "metadata": {},
   "outputs": [],
   "source": [
    "if not doc_exist:\n",
    "    doc_import = document_client.import_documents(\n",
    "        request = discoveryengine.ImportDocumentsRequest(\n",
    "            parent = document_client.branch_path(\n",
    "                project = PROJECT_ID,\n",
    "                location = VS_LOCATION,\n",
    "                data_store = datastore_id['data_store'],\n",
    "                branch = 'default_branch'\n",
    "            ),\n",
    "            gcs_source = discoveryengine.GcsSource(\n",
    "                input_uris = [f\"gs://{bucket.name}/{metadata_blob.name}\"],\n",
    "                data_schema = 'document'\n",
    "            ),\n",
    "            reconciliation_mode = discoveryengine.ImportDocumentsRequest.ReconciliationMode.INCREMENTAL\n",
    "        )\n",
    "    )\n",
    "    response = doc_import.result()\n",
    "    operation_metadata = discoveryengine.ImportDocumentsMetadata(doc_import.metadata)\n",
    "    print(operation_metadata)"
   ]
  },
  {
   "cell_type": "markdown",
   "id": "8d0f698c-d879-4084-b0bb-8625737d1d86",
   "metadata": {},
   "source": [
    "### Console View Of Data Store"
   ]
  },
  {
   "cell_type": "code",
   "execution_count": 134,
   "id": "043f086b-f565-478f-92c8-4adbf80e8044",
   "metadata": {
    "tags": []
   },
   "outputs": [
    {
     "name": "stdout",
     "output_type": "stream",
     "text": [
      "Review the data store in the console:\n",
      "\n",
      "https://console.cloud.google.com/gen-app-builder/locations/global/collections/default_collection/data-stores/applied-genai-grounding-overview/data/documents?project=statmike-mlops-349915\n"
     ]
    }
   ],
   "source": [
    "print(f\"Review the data store in the console:\\n\\nhttps://console.cloud.google.com/gen-app-builder/locations/{VS_LOCATION}/collections/{'default_collection'}/data-stores/{datastore_id['data_store']}/data/documents?project=statmike-mlops-349915\")"
   ]
  },
  {
   "cell_type": "markdown",
   "id": "656c737f-bd2d-441d-b2e4-ec4024c2479c",
   "metadata": {},
   "source": [
    "---\n",
    "## Create A Search App\n",
    "\n",
    "The [Relationship between apps and data stores](https://cloud.google.com/generative-ai-app-builder/docs/create-datastore-ingest#app-store-relationship) allows one or more apps to search and retrieve from or more (blended search) data stores.\n",
    "\n",
    "Here we [creatre an app](https://cloud.google.com/generative-ai-app-builder/docs/create-engine-es) that uses the data store created above.\n",
    "\n",
    "- [Discoveryengine Python Engine Service Client](https://cloud.google.com/python/docs/reference/discoveryengine/latest/google.cloud.discoveryengine_v1.services.engine_service.EngineServiceClient)"
   ]
  },
  {
   "cell_type": "code",
   "execution_count": 82,
   "id": "c653a5f7-77c7-4047-84d2-0dba6e931e81",
   "metadata": {
    "tags": []
   },
   "outputs": [],
   "source": [
    "VS_APP_ID = f\"{SERIES}-{EXPERIMENT}\""
   ]
  },
  {
   "cell_type": "markdown",
   "id": "ad251d07-6210-49ed-a69c-f56f42788388",
   "metadata": {},
   "source": [
    "### Check For Existing Search App"
   ]
  },
  {
   "cell_type": "code",
   "execution_count": 130,
   "id": "8f082484-73ac-4237-a686-8df1959855d8",
   "metadata": {
    "tags": []
   },
   "outputs": [
    {
     "data": {
      "text/plain": [
       "True"
      ]
     },
     "execution_count": 130,
     "metadata": {},
     "output_type": "execute_result"
    }
   ],
   "source": [
    "try:\n",
    "    app = engine_client.get_engine(\n",
    "        name = engine_client.engine_path(\n",
    "            project = PROJECT_ID,\n",
    "            location = VS_LOCATION,\n",
    "            collection = 'default_collection',\n",
    "            engine = VS_APP_ID\n",
    "        )\n",
    "    )\n",
    "    app_exist = True\n",
    "except Exception as err:\n",
    "    app_exist = False\n",
    "    \n",
    "app_exist"
   ]
  },
  {
   "cell_type": "markdown",
   "id": "4068fec7-7e1c-40b8-b41f-9082e5f01a03",
   "metadata": {},
   "source": [
    "### Create New Search App (if needed)"
   ]
  },
  {
   "cell_type": "code",
   "execution_count": 132,
   "id": "9da5b351-40e4-4481-bff7-3738eb4998bd",
   "metadata": {
    "tags": []
   },
   "outputs": [],
   "source": [
    "if not app_exist:\n",
    "    app_create = engine_client.create_engine(\n",
    "        parent = engine_client.collection_path(\n",
    "            project = PROJECT_ID,\n",
    "            location = VS_LOCATION,\n",
    "            collection = 'default_collection'\n",
    "        ),\n",
    "        engine = discoveryengine.Engine(\n",
    "            display_name = VS_APP_ID,\n",
    "            industry_vertical = discoveryengine.IndustryVertical.GENERIC,\n",
    "            solution_type = discoveryengine.SolutionType.SOLUTION_TYPE_SEARCH,\n",
    "            search_engine_config = discoveryengine.Engine.SearchEngineConfig(\n",
    "                search_tier = discoveryengine.SearchTier.SEARCH_TIER_ENTERPRISE,\n",
    "                search_add_ons = [discoveryengine.SearchAddOn.SEARCH_ADD_ON_LLM],\n",
    "            ),\n",
    "            data_store_ids = [datastore_id['data_store']],\n",
    "        ),\n",
    "        engine_id = VS_APP_ID\n",
    "    )\n",
    "    response = app_create.result()\n",
    "    operation_metadata = discoveryengine.CreateEngineMetadata(app_create.metadata)\n",
    "    print(operation_metadata)\n",
    "    print(app_create.operation.name)"
   ]
  },
  {
   "cell_type": "markdown",
   "id": "8766f88c-1e33-43a0-bc51-b0553d0a005d",
   "metadata": {},
   "source": [
    "### Console View Of Search App\n",
    "\n",
    "Opens to the preview tab for easy testing:"
   ]
  },
  {
   "cell_type": "code",
   "execution_count": 135,
   "id": "1ba19512-8719-4df4-b31d-b74d858a32b8",
   "metadata": {
    "tags": []
   },
   "outputs": [
    {
     "name": "stdout",
     "output_type": "stream",
     "text": [
      "Review the search app in the console:\n",
      "\n",
      "https://console.cloud.google.com/gen-app-builder/locations/global/engines/applied-genai-grounding-overview/preview/search?project=statmike-mlops-349915\n"
     ]
    }
   ],
   "source": [
    "print(f\"Review the search app in the console:\\n\\nhttps://console.cloud.google.com/gen-app-builder/locations/{VS_LOCATION}/engines/{datastore_id['data_store']}/preview/search?project=statmike-mlops-349915\")"
   ]
  },
  {
   "cell_type": "markdown",
   "id": "5fad546d-f37b-4145-93be-fd466c30d1f8",
   "metadata": {},
   "source": [
    "---\n",
    "## Search: Multiple Methods\n",
    "\n",
    "The search app can be used to retrieve layers of increasing detailed information, including LLM generated summaries that answer the input question.  This section shows how to use use the SDK to do each type of search.\n",
    "\n",
    "- [Discoveryengine Python Search Service Client](https://cloud.google.com/python/docs/reference/discoveryengine/latest/google.cloud.discoveryengine_v1.services.search_service)"
   ]
  },
  {
   "cell_type": "code",
   "execution_count": 139,
   "id": "82c76a0f-6d6c-41b1-a88e-f22d7918fce4",
   "metadata": {
    "tags": []
   },
   "outputs": [],
   "source": [
    "serving_config = search_client.serving_config_path(\n",
    "    project = PROJECT_ID,\n",
    "    location = VS_LOCATION,\n",
    "    data_store = VS_DATASTORE_ID,\n",
    "    serving_config = 'default_config'\n",
    ")"
   ]
  },
  {
   "cell_type": "markdown",
   "id": "ec362ac9-7b66-4906-abe0-f100c41c4bce",
   "metadata": {},
   "source": [
    "---\n",
    "### Get Search Results \n",
    "\n",
    "[Get search results](https://cloud.google.com/generative-ai-app-builder/docs/preview-search-results) using the API.  This approach returns a list of documents that match the search/query, and nothing more."
   ]
  },
  {
   "cell_type": "code",
   "execution_count": 146,
   "id": "b05e21cd-ac43-4730-925c-f53232784a85",
   "metadata": {
    "tags": []
   },
   "outputs": [],
   "source": [
    "search_response = search_client.search(\n",
    "    request = discoveryengine.SearchRequest(\n",
    "        query = prompt, # pass the user search/question\n",
    "        page_size = 10, # max documents to return\n",
    "        serving_config = serving_config,\n",
    "        # search behavior:\n",
    "        content_search_spec = discoveryengine.SearchRequest.ContentSearchSpec(\n",
    "            snippet_spec = discoveryengine.SearchRequest.ContentSearchSpec.SnippetSpec(\n",
    "                return_snippet = False\n",
    "            ),\n",
    "        ),\n",
    "        # how queries and spelling are handled:\n",
    "        query_expansion_spec = discoveryengine.SearchRequest.QueryExpansionSpec(\n",
    "            condition = discoveryengine.SearchRequest.QueryExpansionSpec.Condition.AUTO\n",
    "        ),\n",
    "        spell_correction_spec = discoveryengine.SearchRequest.SpellCorrectionSpec(\n",
    "            mode = discoveryengine.SearchRequest.SpellCorrectionSpec.Mode.AUTO\n",
    "        )\n",
    "    )\n",
    ")"
   ]
  },
  {
   "cell_type": "code",
   "execution_count": 155,
   "id": "12994023-2350-4030-a7cc-a768632b10dc",
   "metadata": {
    "tags": []
   },
   "outputs": [],
   "source": [
    "#search_response"
   ]
  },
  {
   "cell_type": "markdown",
   "id": "0b8e6cee-9835-4a3d-8575-a977da6be478",
   "metadata": {},
   "source": [
    "Gather results:"
   ]
  },
  {
   "cell_type": "code",
   "execution_count": 158,
   "id": "a13b0656-4616-4131-862a-dc42a3e157f7",
   "metadata": {
    "tags": []
   },
   "outputs": [],
   "source": [
    "search_results = []\n",
    "for result in search_response.results:\n",
    "    document = dict(result.document.derived_struct_data) |  dict(result.document.struct_data)\n",
    "    search_results.append(document)"
   ]
  },
  {
   "cell_type": "code",
   "execution_count": 160,
   "id": "92f8eb39-c693-460b-b608-24a2931f20c9",
   "metadata": {
    "tags": []
   },
   "outputs": [],
   "source": [
    "#search_results"
   ]
  },
  {
   "cell_type": "markdown",
   "id": "126c9c73-c0d0-4147-ac42-56e30de3ee06",
   "metadata": {},
   "source": [
    "Format and Print results:"
   ]
  },
  {
   "cell_type": "code",
   "execution_count": 172,
   "id": "cfc502ad-a4b7-4c5d-8743-17b532d2df15",
   "metadata": {
    "tags": []
   },
   "outputs": [
    {
     "name": "stdout",
     "output_type": "stream",
     "text": [
      "\n",
      "Source Document 1:\n",
      "\tName: wqn5ah4c3qtivwx3jatm.pdf\n",
      "\tLink: gs://statmike-mlops-349915/applied-genai/grounding-overview/wqn5ah4c3qtivwx3jatm.pdf"
     ]
    }
   ],
   "source": [
    "for r, result in enumerate(search_results):\n",
    "    print(f\"\\nSource Document {r+1}:\", end = \"\")\n",
    "    print(f\"\\n\\tName: {result['title']}\", end = \"\")\n",
    "    print(f\"\\n\\tLink: {result['link']}\", end = \"\")"
   ]
  },
  {
   "cell_type": "markdown",
   "id": "3255a70e-9b08-4071-a8c3-983e1d907575",
   "metadata": {},
   "source": [
    "---\n",
    "### Get Search Results - Including Snippets\n",
    "\n",
    "In addition to search results you can also request **snippets**, brief extracts from the matched documents that serve as a preview of the content. Read more here: [Get Snippets And Extractive Segments](https://cloud.google.com/generative-ai-app-builder/docs/snippets)."
   ]
  },
  {
   "cell_type": "code",
   "execution_count": 178,
   "id": "3d37a0aa-67f6-4387-935f-3dac70d63fdb",
   "metadata": {
    "tags": []
   },
   "outputs": [],
   "source": [
    "search_response = search_client.search(\n",
    "    request = discoveryengine.SearchRequest(\n",
    "        query = prompt, # pass the user search/question\n",
    "        page_size = 10, # max documents to return\n",
    "        serving_config = serving_config,\n",
    "        # search behavior:\n",
    "        content_search_spec = discoveryengine.SearchRequest.ContentSearchSpec(\n",
    "            snippet_spec = discoveryengine.SearchRequest.ContentSearchSpec.SnippetSpec(\n",
    "                return_snippet = True\n",
    "            ),\n",
    "        ),\n",
    "        # how queries and spelling are handled:\n",
    "        query_expansion_spec = discoveryengine.SearchRequest.QueryExpansionSpec(\n",
    "            condition = discoveryengine.SearchRequest.QueryExpansionSpec.Condition.AUTO\n",
    "        ),\n",
    "        spell_correction_spec = discoveryengine.SearchRequest.SpellCorrectionSpec(\n",
    "            mode = discoveryengine.SearchRequest.SpellCorrectionSpec.Mode.AUTO\n",
    "        )\n",
    "    )\n",
    ")"
   ]
  },
  {
   "cell_type": "code",
   "execution_count": 179,
   "id": "5462773c-fde7-4506-8aa3-c48fdd5bb45f",
   "metadata": {
    "tags": []
   },
   "outputs": [],
   "source": [
    "#search_response"
   ]
  },
  {
   "cell_type": "markdown",
   "id": "3f997142-560c-40a8-989e-21baea6a6c68",
   "metadata": {},
   "source": [
    "Gather results:"
   ]
  },
  {
   "cell_type": "code",
   "execution_count": 180,
   "id": "586e020d-6ce7-4100-aec2-456258ce1df6",
   "metadata": {
    "tags": []
   },
   "outputs": [],
   "source": [
    "search_results = []\n",
    "for result in search_response.results:\n",
    "    document = dict(result.document.derived_struct_data) |  dict(result.document.struct_data)\n",
    "    if 'snippets' in document.keys():\n",
    "        document['snippets'] = [dict(snippet) for snippet in document['snippets'] if snippet['snippet_status'] == 'SUCCESS']\n",
    "    search_results.append(document)"
   ]
  },
  {
   "cell_type": "code",
   "execution_count": 181,
   "id": "4587d23c-c8c5-4ad1-aa86-c0f916b55f10",
   "metadata": {
    "tags": []
   },
   "outputs": [],
   "source": [
    "#search_results"
   ]
  },
  {
   "cell_type": "markdown",
   "id": "6b1773ce-2e71-4583-82f4-c1a6abd18a24",
   "metadata": {},
   "source": [
    "Format and Print results:"
   ]
  },
  {
   "cell_type": "code",
   "execution_count": 182,
   "id": "4d507f6e-d87c-4c16-abe0-6228f42e8bac",
   "metadata": {
    "tags": []
   },
   "outputs": [
    {
     "name": "stdout",
     "output_type": "stream",
     "text": [
      "\n",
      "Source Document 1:\n",
      "\tName: wqn5ah4c3qtivwx3jatm.pdf\n",
      "\tLink: gs://statmike-mlops-349915/applied-genai/grounding-overview/wqn5ah4c3qtivwx3jatm.pdf\n",
      "\tSnippet 1: All <b>measurements</b> from home <b>base</b> shall be taken from the point where the <b>first</b> and third <b>base</b> lines intersect. The catcher&#39;s box, the <b>batters</b>&#39; boxes, the coaches&nbsp;..."
     ]
    }
   ],
   "source": [
    "for r, result in enumerate(search_results):\n",
    "    print(f\"\\nSource Document {r+1}:\", end = \"\")\n",
    "    print(f\"\\n\\tName: {result['title']}\", end = \"\")\n",
    "    print(f\"\\n\\tLink: {result['link']}\", end = \"\")\n",
    "    if 'snippets' in result.keys():\n",
    "        for s, snippet in enumerate(result['snippets']):\n",
    "            print(f\"\\n\\tSnippet {s+1}: {snippet['snippet']}\", end = \"\")"
   ]
  },
  {
   "cell_type": "markdown",
   "id": "6228f0c8-2df6-4f8d-b6d4-33e4c53a1d63",
   "metadata": {},
   "source": [
    "---\n",
    "### Get Search Results - Including Extrative Answers\n",
    "\n",
    "In addition to search results you can also request **Extractive Answers**, a short verbatim text extracted from the document for use as a brief answer. Read more here: [Get Snippets And Extractive Segments](https://cloud.google.com/generative-ai-app-builder/docs/snippets)."
   ]
  },
  {
   "cell_type": "code",
   "execution_count": 194,
   "id": "45aa1715-ca17-4af2-9480-a027d66bdd60",
   "metadata": {
    "tags": []
   },
   "outputs": [],
   "source": [
    "search_response = search_client.search(\n",
    "    request = discoveryengine.SearchRequest(\n",
    "        query = prompt, # pass the user search/question\n",
    "        page_size = 10, # max documents to return\n",
    "        serving_config = serving_config,\n",
    "        # search behavior:\n",
    "        content_search_spec = discoveryengine.SearchRequest.ContentSearchSpec(\n",
    "            snippet_spec = discoveryengine.SearchRequest.ContentSearchSpec.SnippetSpec(\n",
    "                return_snippet = False\n",
    "            ),\n",
    "            extractive_content_spec = discoveryengine.SearchRequest.ContentSearchSpec.ExtractiveContentSpec(\n",
    "                max_extractive_answer_count = 2\n",
    "            )\n",
    "        ),\n",
    "        # how queries and spelling are handled:\n",
    "        query_expansion_spec = discoveryengine.SearchRequest.QueryExpansionSpec(\n",
    "            condition = discoveryengine.SearchRequest.QueryExpansionSpec.Condition.AUTO\n",
    "        ),\n",
    "        spell_correction_spec = discoveryengine.SearchRequest.SpellCorrectionSpec(\n",
    "            mode = discoveryengine.SearchRequest.SpellCorrectionSpec.Mode.AUTO\n",
    "        )\n",
    "    )\n",
    ")"
   ]
  },
  {
   "cell_type": "code",
   "execution_count": 195,
   "id": "4dfc98a8-2141-4bd6-b49e-7a5e6cda898e",
   "metadata": {
    "tags": []
   },
   "outputs": [],
   "source": [
    "#search_response"
   ]
  },
  {
   "cell_type": "markdown",
   "id": "4815db14-1b02-4997-99ce-f32ecb29b455",
   "metadata": {},
   "source": [
    "Gather results:"
   ]
  },
  {
   "cell_type": "code",
   "execution_count": 196,
   "id": "5f1afa70-f2c3-45b9-a0ec-62fb05a2a1d8",
   "metadata": {
    "tags": []
   },
   "outputs": [],
   "source": [
    "search_results = []\n",
    "for result in search_response.results:\n",
    "    document = dict(result.document.derived_struct_data) |  dict(result.document.struct_data)\n",
    "    if 'extractive_answers' in document.keys():\n",
    "        document['extrative_answers'] = [dict(answer) for answer in document['extractive_answers']]\n",
    "    search_results.append(document)"
   ]
  },
  {
   "cell_type": "code",
   "execution_count": 197,
   "id": "b2ceb810-0a97-401e-b26c-58aee4ae9a35",
   "metadata": {
    "tags": []
   },
   "outputs": [],
   "source": [
    "#search_results"
   ]
  },
  {
   "cell_type": "markdown",
   "id": "81480c37-344e-464f-a687-bcd9db20d176",
   "metadata": {},
   "source": [
    "Format and Print results:"
   ]
  },
  {
   "cell_type": "code",
   "execution_count": 198,
   "id": "08364b4b-e630-4277-8485-49ebb1ac7ebb",
   "metadata": {
    "tags": []
   },
   "outputs": [
    {
     "name": "stdout",
     "output_type": "stream",
     "text": [
      "\n",
      "Source Document 1:\n",
      "\tName: wqn5ah4c3qtivwx3jatm.pdf\n",
      "\tLink: gs://statmike-mlops-349915/applied-genai/grounding-overview/wqn5ah4c3qtivwx3jatm.pdf\n",
      "\tAnswer 1 (page = 14): See Appendix 1. When location of home base is determined, with a steel tape measure 127 feet, 33 ⁄8 inches in desired direction to establish second base. From home base, measure 90 feet toward first base; from second base, measure 90 feet toward first base; the intersection of these lines establishes first base.\n",
      "\tAnswer 2 (page = 15): 2.02 Home Base Home base shall be marked by a five-sided slab of whitened rubber. It shall be a <b>17-inch square with two of the corners removed so that one edge is 17 inches long, two adjacent sides are 8½ inches and the remaining two sides are 12 inches</b> and set at an angle to make a point."
     ]
    }
   ],
   "source": [
    "for r, result in enumerate(search_results):\n",
    "    print(f\"\\nSource Document {r+1}:\", end = \"\")\n",
    "    print(f\"\\n\\tName: {result['title']}\", end = \"\")\n",
    "    print(f\"\\n\\tLink: {result['link']}\", end = \"\")\n",
    "    if 'extractive_answers' in result.keys():\n",
    "        for a, answer in enumerate(result['extrative_answers']):\n",
    "            print(f\"\\n\\tAnswer {a+1} (page = {answer['pageNumber']}): {answer['content']}\", end = \"\")"
   ]
  },
  {
   "cell_type": "markdown",
   "id": "6e3d8a7b-5e0e-4da0-a2bf-1a3ea87c7357",
   "metadata": {},
   "source": [
    "---\n",
    "### Get Search Results - Including Extrative Segments\n",
    "\n",
    "In addition to search results you can also request **Extractive Segments**, a longer verbatim text (than extrative answers) extracted from the document for use as a brief answer or post-processing like context for an LLM. Read more here: [Get Snippets And Extractive Segments](https://cloud.google.com/generative-ai-app-builder/docs/snippets)."
   ]
  },
  {
   "cell_type": "code",
   "execution_count": 200,
   "id": "21eda673-afc2-41d9-a7ca-4f30f10a5d1c",
   "metadata": {
    "tags": []
   },
   "outputs": [],
   "source": [
    "search_response = search_client.search(\n",
    "    request = discoveryengine.SearchRequest(\n",
    "        query = prompt, # pass the user search/question\n",
    "        page_size = 10, # max documents to return\n",
    "        serving_config = serving_config,\n",
    "        # search behavior:\n",
    "        content_search_spec = discoveryengine.SearchRequest.ContentSearchSpec(\n",
    "            snippet_spec = discoveryengine.SearchRequest.ContentSearchSpec.SnippetSpec(\n",
    "                return_snippet = False\n",
    "            ),\n",
    "            extractive_content_spec = discoveryengine.SearchRequest.ContentSearchSpec.ExtractiveContentSpec(\n",
    "                max_extractive_segment_count = 2,\n",
    "                return_extractive_segment_score = True,\n",
    "                #num_previous_segments = 1,\n",
    "                #num_next_segments = 1\n",
    "            )\n",
    "        ),\n",
    "        # how queries and spelling are handled:\n",
    "        query_expansion_spec = discoveryengine.SearchRequest.QueryExpansionSpec(\n",
    "            condition = discoveryengine.SearchRequest.QueryExpansionSpec.Condition.AUTO\n",
    "        ),\n",
    "        spell_correction_spec = discoveryengine.SearchRequest.SpellCorrectionSpec(\n",
    "            mode = discoveryengine.SearchRequest.SpellCorrectionSpec.Mode.AUTO\n",
    "        )\n",
    "    )\n",
    ")"
   ]
  },
  {
   "cell_type": "code",
   "execution_count": 201,
   "id": "ed74b519-d0d1-4ee0-bf7b-cd84ac6b034d",
   "metadata": {
    "tags": []
   },
   "outputs": [],
   "source": [
    "#search_response"
   ]
  },
  {
   "cell_type": "markdown",
   "id": "3af7c8ca-6d92-4d92-993f-7ccb70907afe",
   "metadata": {},
   "source": [
    "Gather results:"
   ]
  },
  {
   "cell_type": "code",
   "execution_count": 204,
   "id": "cd221f95-04d4-4b9c-b4d3-5976233ddf5e",
   "metadata": {
    "tags": []
   },
   "outputs": [],
   "source": [
    "search_results = []\n",
    "for result in search_response.results:\n",
    "    document = dict(result.document.derived_struct_data) |  dict(result.document.struct_data)\n",
    "    if 'extractive_segments' in document.keys():\n",
    "        document['extractive_segments'] = [dict(segment) for segment in document['extractive_segments']]\n",
    "    search_results.append(document)"
   ]
  },
  {
   "cell_type": "code",
   "execution_count": 209,
   "id": "d18c971e-ec35-477f-835f-c5476e42f87b",
   "metadata": {
    "tags": []
   },
   "outputs": [],
   "source": [
    "#search_results"
   ]
  },
  {
   "cell_type": "markdown",
   "id": "980d7fbb-eb09-4719-95eb-9f9cdb42870e",
   "metadata": {},
   "source": [
    "Format and Print results:"
   ]
  },
  {
   "cell_type": "code",
   "execution_count": 212,
   "id": "22df16ac-c819-4240-ac10-853b6d05d567",
   "metadata": {
    "tags": []
   },
   "outputs": [
    {
     "name": "stdout",
     "output_type": "stream",
     "text": [
      "\n",
      "Source Document 1:\n",
      "\tName: wqn5ah4c3qtivwx3jatm.pdf\n",
      "\tLink: gs://statmike-mlops-349915/applied-genai/grounding-overview/wqn5ah4c3qtivwx3jatm.pdf\n",
      "\tSegment 1 (page = 14, relevance score = 0.831): 2  Rule 2.01  2.00–THE PLAYING FIELD  2.01 Layout  ... (2120 more characters)\n",
      "\tSegment 2 (page = 15, relevance score = 0.814): 3  Rule 2.01 to 2.02  The foul lines and all other ... (1994 more characters)"
     ]
    }
   ],
   "source": [
    "for r, result in enumerate(search_results):\n",
    "    print(f\"\\nSource Document {r+1}:\", end = \"\")\n",
    "    print(f\"\\n\\tName: {result['title']}\", end = \"\")\n",
    "    print(f\"\\n\\tLink: {result['link']}\", end = \"\")\n",
    "    if 'extractive_segments' in result.keys():\n",
    "        for s, segment in enumerate(result['extractive_segments']):\n",
    "            len_content = len(segment['content'])\n",
    "            content = segment['content'][0:min(50, len_content)]\n",
    "            if len_content > 50:\n",
    "                content += f' ... ({len_content - 50} more characters)'\n",
    "            content = content.replace(\"\\n\", \" \")\n",
    "            print(f\"\\n\\tSegment {s+1} (page = {segment['pageNumber']}, relevance score = {segment['relevanceScore']:.3f}): {content}\", end = \"\")"
   ]
  },
  {
   "cell_type": "markdown",
   "id": "21c5c34f-6874-4a21-9900-4107f665b77c",
   "metadata": {},
   "source": [
    "---\n",
    "### Get Search Results - Including Summaries\n",
    "\n",
    "Going a step farther than search results is a search summary.  This request that parts of the results be interpreted by an LLM and summarized as an answer.\n",
    "\n",
    "- [Get Search Summaries](https://cloud.google.com/generative-ai-app-builder/docs/get-search-summaries)\n",
    "- [Available Model Versions and Lifecycle](https://cloud.google.com/generative-ai-app-builder/docs/answer-generation-models)"
   ]
  },
  {
   "cell_type": "code",
   "execution_count": 217,
   "id": "2563fd83-93bc-4e0f-a7e4-753c15e1c17d",
   "metadata": {
    "tags": []
   },
   "outputs": [],
   "source": [
    "search_response = search_client.search(\n",
    "    request = discoveryengine.SearchRequest(\n",
    "        query = prompt, # pass the user search/question\n",
    "        page_size = 10, # max documents to return\n",
    "        serving_config = serving_config,\n",
    "        # search behavior:\n",
    "        content_search_spec = discoveryengine.SearchRequest.ContentSearchSpec(\n",
    "            snippet_spec = discoveryengine.SearchRequest.ContentSearchSpec.SnippetSpec(\n",
    "                return_snippet = False\n",
    "            ),\n",
    "            summary_spec = discoveryengine.SearchRequest.ContentSearchSpec.SummarySpec(\n",
    "                summary_result_count = 5, # how many of page_size to use\n",
    "                include_citations = True,\n",
    "                ignore_adversarial_query = True,\n",
    "                ignore_non_summary_seeking_query = False,\n",
    "                model_spec = discoveryengine.SearchRequest.ContentSearchSpec.SummarySpec.ModelSpec(\n",
    "                    version = 'stable' # see link above for all options, including specific models/versions\n",
    "                )\n",
    "            ),            \n",
    "        ),\n",
    "        # how queries and spelling are handled:\n",
    "        query_expansion_spec = discoveryengine.SearchRequest.QueryExpansionSpec(\n",
    "            condition = discoveryengine.SearchRequest.QueryExpansionSpec.Condition.AUTO\n",
    "        ),\n",
    "        spell_correction_spec = discoveryengine.SearchRequest.SpellCorrectionSpec(\n",
    "            mode = discoveryengine.SearchRequest.SpellCorrectionSpec.Mode.AUTO\n",
    "        )\n",
    "    )\n",
    ")"
   ]
  },
  {
   "cell_type": "code",
   "execution_count": 219,
   "id": "761987fd-6f8f-45f6-8008-0a279dd8c148",
   "metadata": {
    "tags": []
   },
   "outputs": [],
   "source": [
    "#search_response"
   ]
  },
  {
   "cell_type": "code",
   "execution_count": 221,
   "id": "7c7102b6-fc38-4e09-b5a1-2bf1338c6b95",
   "metadata": {
    "tags": []
   },
   "outputs": [
    {
     "data": {
      "text/plain": [
       "\"First base in baseball is located 90 feet from home plate and 90 feet from second base. The intersection of these lines establishes first base. Home base is marked by a five-sided slab of whitened rubber. The slab is a 17-inch square with two corners removed, leaving one edge 17 inches long, two adjacent sides 8.5 inches, and the remaining two sides 12 inches. The distance between the pitcher's plate and home base is 60 feet, 6 inches. \\n\""
      ]
     },
     "execution_count": 221,
     "metadata": {},
     "output_type": "execute_result"
    }
   ],
   "source": [
    "search_response.summary.summary_text"
   ]
  },
  {
   "cell_type": "markdown",
   "id": "b7dad995-4ccf-4b92-989a-e3a3cb4f96e1",
   "metadata": {},
   "source": [
    "---\n",
    "### Get Search Results - Including combinations of snipppets, answers, segments, and summaries\n",
    "\n",
    "While the section above introduced the individual search results components, this section shows that mutliple types or even all types can be combined in a single request."
   ]
  },
  {
   "cell_type": "code",
   "execution_count": 222,
   "id": "f2d0a947-21ef-4e7a-a636-45def36dc75b",
   "metadata": {
    "tags": []
   },
   "outputs": [],
   "source": [
    "search_response = search_client.search(\n",
    "    request = discoveryengine.SearchRequest(\n",
    "        query = prompt, # pass the user search/question\n",
    "        page_size = 10, # max documents to return\n",
    "        serving_config = serving_config,\n",
    "        # search behavior:\n",
    "        content_search_spec = discoveryengine.SearchRequest.ContentSearchSpec(\n",
    "            snippet_spec = discoveryengine.SearchRequest.ContentSearchSpec.SnippetSpec(\n",
    "                return_snippet = True\n",
    "            ),\n",
    "            extractive_content_spec = discoveryengine.SearchRequest.ContentSearchSpec.ExtractiveContentSpec(\n",
    "                max_extractive_answer_count = 2,\n",
    "                max_extractive_segment_count = 2,\n",
    "                return_extractive_segment_score = True,\n",
    "                #num_previous_segments = 1,\n",
    "                #num_next_segments = 1\n",
    "            ),\n",
    "            summary_spec = discoveryengine.SearchRequest.ContentSearchSpec.SummarySpec(\n",
    "                summary_result_count = 5, # how many of page_size to use\n",
    "                include_citations = True,\n",
    "                ignore_adversarial_query = True,\n",
    "                ignore_non_summary_seeking_query = False,\n",
    "                model_spec = discoveryengine.SearchRequest.ContentSearchSpec.SummarySpec.ModelSpec(\n",
    "                    version = 'stable' # see link above for all options, including specific models/versions\n",
    "                )\n",
    "            ), \n",
    "        ),\n",
    "        # how queries and spelling are handled:\n",
    "        query_expansion_spec = discoveryengine.SearchRequest.QueryExpansionSpec(\n",
    "            condition = discoveryengine.SearchRequest.QueryExpansionSpec.Condition.AUTO\n",
    "        ),\n",
    "        spell_correction_spec = discoveryengine.SearchRequest.SpellCorrectionSpec(\n",
    "            mode = discoveryengine.SearchRequest.SpellCorrectionSpec.Mode.AUTO\n",
    "        )\n",
    "    )\n",
    ")"
   ]
  },
  {
   "cell_type": "code",
   "execution_count": 223,
   "id": "307bcb5a-4ceb-45b5-9e5b-4ba0f2de2405",
   "metadata": {
    "tags": []
   },
   "outputs": [],
   "source": [
    "#search_response"
   ]
  },
  {
   "cell_type": "markdown",
   "id": "dd4953f9-e645-4c78-b0d8-b87445d137a8",
   "metadata": {},
   "source": [
    "Gather results:"
   ]
  },
  {
   "cell_type": "code",
   "execution_count": 224,
   "id": "1afde57f-0a15-49a5-8409-2e1ca54fb097",
   "metadata": {
    "tags": []
   },
   "outputs": [],
   "source": [
    "search_results = []\n",
    "for result in search_response.results:\n",
    "    document = dict(result.document.derived_struct_data) |  dict(result.document.struct_data)\n",
    "    if 'snippets' in document.keys():\n",
    "        document['snippets'] = [dict(snippet) for snippet in document['snippets'] if snippet['snippet_status'] == 'SUCCESS']\n",
    "    if 'extractive_answers' in document.keys():\n",
    "        document['extrative_answers'] = [dict(answer) for answer in document['extractive_answers']]\n",
    "    if 'extractive_segments' in document.keys():\n",
    "        document['extractive_segments'] = [dict(segment) for segment in document['extractive_segments']]\n",
    "    search_results.append(document)"
   ]
  },
  {
   "cell_type": "code",
   "execution_count": 225,
   "id": "a3317985-8ef0-4b38-b030-7314d1319212",
   "metadata": {
    "tags": []
   },
   "outputs": [],
   "source": [
    "#search_results"
   ]
  },
  {
   "cell_type": "markdown",
   "id": "10583e45-2d20-48a7-94d4-efd9ef199d2d",
   "metadata": {},
   "source": [
    "Format and Print results:"
   ]
  },
  {
   "cell_type": "code",
   "execution_count": 226,
   "id": "8f1d577f-9dcb-48f8-8e25-20a06d7e9083",
   "metadata": {
    "tags": []
   },
   "outputs": [
    {
     "name": "stdout",
     "output_type": "stream",
     "text": [
      "\n",
      "Source Document 1:\n",
      "\tName: wqn5ah4c3qtivwx3jatm.pdf\n",
      "\tLink: gs://statmike-mlops-349915/applied-genai/grounding-overview/wqn5ah4c3qtivwx3jatm.pdf\n",
      "\tSnippet 1: All <b>measurements</b> from home <b>base</b> shall be taken from the point where the <b>first</b> and third <b>base</b> lines intersect. The catcher&#39;s box, the <b>batters</b>&#39; boxes, the coaches&nbsp;...\n",
      "\tAnswer 1 (page = 14): See Appendix 1. When location of home base is determined, with a steel tape measure 127 feet, 33 ⁄8 inches in desired direction to establish second base. From home base, measure 90 feet toward first base; from second base, measure 90 feet toward first base; the intersection of these lines establishes first base.\n",
      "\tAnswer 2 (page = 15): 2.02 Home Base Home base shall be marked by a five-sided slab of whitened rubber. It shall be a <b>17-inch square with two of the corners removed so that one edge is 17 inches long, two adjacent sides are 8½ inches and the remaining two sides are 12 inches</b> and set at an angle to make a point.\n",
      "\tSegment 1 (page = 14, relevance score = 0.831): 2  Rule 2.01  2.00–THE PLAYING FIELD  2.01 Layout  ... (2120 more characters)\n",
      "\tSegment 2 (page = 15, relevance score = 0.814): 3  Rule 2.01 to 2.02  The foul lines and all other ... (1994 more characters)\n",
      "\n",
      "Summary:\n",
      "\tFirst base in baseball is located 90 feet from home plate and 90 feet from second base. The intersection of these lines establishes first base. Home base is marked by a five-sided slab of whitened rubber. The slab is a 17-inch square with two corners removed. The remaining sides are 8.5 inches and 12 inches. \n",
      "\n"
     ]
    }
   ],
   "source": [
    "for r, result in enumerate(search_results):\n",
    "    print(f\"\\nSource Document {r+1}:\", end = \"\")\n",
    "    print(f\"\\n\\tName: {result['title']}\", end = \"\")\n",
    "    print(f\"\\n\\tLink: {result['link']}\", end = \"\")\n",
    "    if 'snippets' in result.keys():\n",
    "        for s, snippet in enumerate(result['snippets']):\n",
    "            print(f\"\\n\\tSnippet {s+1}: {snippet['snippet']}\", end = \"\")\n",
    "    if 'extractive_answers' in result.keys():\n",
    "        for a, answer in enumerate(result['extrative_answers']):\n",
    "            print(f\"\\n\\tAnswer {a+1} (page = {answer['pageNumber']}): {answer['content']}\", end = \"\")\n",
    "    if 'extractive_segments' in result.keys():\n",
    "        for s, segment in enumerate(result['extractive_segments']):\n",
    "            len_content = len(segment['content'])\n",
    "            content = segment['content'][0:min(50, len_content)]\n",
    "            if len_content > 50:\n",
    "                content += f' ... ({len_content - 50} more characters)'\n",
    "            content = content.replace(\"\\n\", \" \")\n",
    "            print(f\"\\n\\tSegment {s+1} (page = {segment['pageNumber']}, relevance score = {segment['relevanceScore']:.3f}): {content}\", end = \"\")\n",
    "            \n",
    "print(f\"\\n\\nSummary:\\n\\t{search_response.summary.summary_text}\")"
   ]
  },
  {
   "cell_type": "markdown",
   "id": "7d573362-4888-44de-ac42-d42dc36cafaa",
   "metadata": {},
   "source": [
    "---\n",
    "## Answers: Get Answers With Follow-Ups\n",
    "\n",
    "Another search method is `answer` and this section covers the `answer method` using the [Answer API](https://cloud.google.com/generative-ai-app-builder/docs/reference/rest/v1/projects.locations.dataStores.servingConfigs/answer) directly via REST.\n",
    "\n",
    "The answer method gives control over the query phase, the answer phase, and ability to configure follow-up questions.  For a breakdown of the methods and information on which scenarios to use, or not use, a method check out [Get answers and follow-ups](https://cloud.google.com/generative-ai-app-builder/docs/answer)."
   ]
  },
  {
   "cell_type": "code",
   "execution_count": null,
   "id": "5e3256ae-8c04-4678-a267-353f191397b0",
   "metadata": {},
   "outputs": [],
   "source": []
  },
  {
   "cell_type": "code",
   "execution_count": null,
   "id": "662b79e5-fc6e-481c-a422-db3dcd05be5b",
   "metadata": {},
   "outputs": [],
   "source": [
    "#search_response"
   ]
  },
  {
   "cell_type": "markdown",
   "id": "02b721e5-49ac-4c3c-998c-e98b12300169",
   "metadata": {},
   "source": [
    "Gather results:"
   ]
  },
  {
   "cell_type": "code",
   "execution_count": null,
   "id": "d89bb4e6-fdb8-41c4-b708-495bca6c0068",
   "metadata": {},
   "outputs": [],
   "source": []
  },
  {
   "cell_type": "markdown",
   "id": "c37968f5-6b51-4c29-a883-34dd18d030d0",
   "metadata": {},
   "source": [
    "Format and Print results:"
   ]
  },
  {
   "cell_type": "code",
   "execution_count": null,
   "id": "320cf693-38db-4abe-9d83-a160af40b334",
   "metadata": {},
   "outputs": [],
   "source": []
  }
 ],
 "metadata": {
  "environment": {
   "kernel": "conda-base-py",
   "name": "workbench-notebooks.m124",
   "type": "gcloud",
   "uri": "us-docker.pkg.dev/deeplearning-platform-release/gcr.io/workbench-notebooks:m124"
  },
  "kernelspec": {
   "display_name": "Python 3 (ipykernel)",
   "language": "python",
   "name": "conda-base-py"
  },
  "language_info": {
   "codemirror_mode": {
    "name": "ipython",
    "version": 3
   },
   "file_extension": ".py",
   "mimetype": "text/x-python",
   "name": "python",
   "nbconvert_exporter": "python",
   "pygments_lexer": "ipython3",
   "version": "3.10.14"
  }
 },
 "nbformat": 4,
 "nbformat_minor": 5
}
