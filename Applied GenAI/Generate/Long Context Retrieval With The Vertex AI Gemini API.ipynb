{
 "cells": [
  {
   "cell_type": "markdown",
   "id": "e37b4076",
   "metadata": {},
   "source": [
    "![tracker](https://us-central1-vertex-ai-mlops-369716.cloudfunctions.net/pixel-tracking?path=statmike%2Fvertex-ai-mlops%2FApplied+GenAI%2FGenerate&file=Long+Context+Retrieval+With+The+Vertex+AI+Gemini+API.ipynb)\n",
    "<!--- header table --->\n",
    "<table align=\"left\">\n",
    "  <td style=\"text-align: center\">\n",
    "    <a href=\"https://colab.research.google.com/github/statmike/vertex-ai-mlops/blob/main/Applied%20GenAI/Generate/Long%20Context%20Retrieval%20With%20The%20Vertex%20AI%20Gemini%20API.ipynb\">\n",
    "      <img src=\"https://cloud.google.com/ml-engine/images/colab-logo-32px.png\" alt=\"Google Colaboratory logo\">\n",
    "      <br>Run in<br>Colab\n",
    "    </a>\n",
    "  </td>\n",
    "  <td style=\"text-align: center\">\n",
    "    <a href=\"https://console.cloud.google.com/vertex-ai/colab/import/https%3A%2F%2Fraw.githubusercontent.com%2Fstatmike%2Fvertex-ai-mlops%2Fmain%2FApplied%2520GenAI%2FGenerate%2FLong%2520Context%2520Retrieval%2520With%2520The%2520Vertex%2520AI%2520Gemini%2520API.ipynb\">\n",
    "      <img width=\"32px\" src=\"https://lh3.googleusercontent.com/JmcxdQi-qOpctIvWKgPtrzZdJJK-J3sWE1RsfjZNwshCFgE_9fULcNpuXYTilIR2hjwN\" alt=\"Google Cloud Colab Enterprise logo\">\n",
    "      <br>Run in<br>Colab Enterprise\n",
    "    </a>\n",
    "  </td>      \n",
    "  <td style=\"text-align: center\">\n",
    "    <a href=\"https://github.com/statmike/vertex-ai-mlops/blob/main/Applied%20GenAI/Generate/Long%20Context%20Retrieval%20With%20The%20Vertex%20AI%20Gemini%20API.ipynb\">\n",
    "      <img src=\"https://cloud.google.com/ml-engine/images/github-logo-32px.png\" alt=\"GitHub logo\">\n",
    "      <br>View on<br>GitHub\n",
    "    </a>\n",
    "  </td>\n",
    "  <td style=\"text-align: center\">\n",
    "    <a href=\"https://console.cloud.google.com/vertex-ai/workbench/deploy-notebook?download_url=https://raw.githubusercontent.com/statmike/vertex-ai-mlops/main/Applied%20GenAI/Generate/Long%20Context%20Retrieval%20With%20The%20Vertex%20AI%20Gemini%20API.ipynb\">\n",
    "      <img src=\"https://lh3.googleusercontent.com/UiNooY4LUgW_oTvpsNhPpQzsstV5W8F7rYgxgGBD85cWJoLmrOzhVs_ksK_vgx40SHs7jCqkTkCk=e14-rj-sc0xffffff-h130-w32\" alt=\"Vertex AI logo\">\n",
    "      <br>Open in<br>Vertex AI Workbench\n",
    "    </a>\n",
    "  </td>\n",
    "</table>"
   ]
  },
  {
   "cell_type": "markdown",
   "id": "04f1a5be-feee-4a70-a927-8abfbd4cc98c",
   "metadata": {},
   "source": [
    "# Long Context Retrieval With The Vertex AI Gemini API\n",
    "\n",
    "**Retrieval - the task of retrieving information as context for an LLM**, like the Gemini family on Vertex AI. Retrieval augmented generation (RAG) is the task of retrieving relevant context and then providing it along with the prompt to the LLM. \n",
    "\n",
    "[Long context](https://cloud.google.com/vertex-ai/generative-ai/docs/long-context) is a way of providing full-length sources to the LLM, which can then perform its own retrieval.  Gemini 1.5 Flash (1M) and Gemini 1.5 Pro (2M) have incredible input context windows (1M and 2M tokens respectively) and have shown [near-perfect retrieval of > 99%](https://storage.googleapis.com/deepmind-media/gemini/gemini_v1_5_report.pdf).\n",
    "\n",
    "For a complete overview of the Gemini API, check out the companion workflow [Vertex AI Gemini API](./Vertex%20AI%20Gemini%20API.ipynb).\n",
    "\n",
    "**Use Case Exploration**\n",
    "\n",
    "Buying a home usually involves borrowing money from a lending institution, typically through a mortgage secured by the home's value. But how do these institutions manage the risks associated with such large loans, and how are lending standards established?\n",
    "\n",
    "In the United States, two government-sponsored enterprises (GSEs) play a vital role in the housing market:\n",
    "- Federal National Mortgage Association ([Fannie Mae](https://www.fanniemae.com/))\n",
    "- Federal Home Loan Mortgage Corporation ([Freddie Mac](https://www.freddiemac.com/))\n",
    "\n",
    "These GSEs purchase mortgages from lenders, enabling those lenders to offer more loans. This process also allows Fannie Mae and Freddie Mac to set standards for mortgages, ensuring they are responsible and borrowers are more likely to repay them. This system makes homeownership more affordable and stabilizes the housing market by maintaining a steady flow of liquidity for lenders and keeping interest rates controlled.\n",
    "\n",
    "However, navigating the complexities of these GSEs and their extensive servicing guides can be challenging. What if you could directly query these guides and get precise answers without needing to design a complex RAG architecture?\n",
    "\n",
    "This workflow leverages the long context capabilities of Vertex AI Gemini models and the efficiency of context caching to provide low-latency and cost-effective access to these comprehensive documents. Explore the implementation below!\n",
    "\n",
    "**References**\n",
    "- [Retrieval Augmented Generation or Long-Context LLMs? A Comprehensive Study and Hybrid Approach](https://arxiv.org/pdf/2407.16833)\n"
   ]
  },
  {
   "cell_type": "markdown",
   "id": "60ece663-3016-4501-aa23-8a88c530067f",
   "metadata": {
    "id": "od_UkDpvRmgD",
    "tags": []
   },
   "source": [
    "---\n",
    "## Colab Setup\n",
    "\n",
    "To run this notebook in Colab run the cells in this section.  Otherwise, skip this section.\n",
    "\n",
    "This cell will authenticate to GCP (follow prompts in the popup)."
   ]
  },
  {
   "cell_type": "code",
   "execution_count": 2,
   "id": "7c40dc09-e248-402d-a350-5de4f2c00f49",
   "metadata": {
    "executionInfo": {
     "elapsed": 195,
     "status": "ok",
     "timestamp": 1683726184843,
     "user": {
      "displayName": "Mike Henderson",
      "userId": "07691629187611687318"
     },
     "user_tz": 240
    },
    "id": "8UO9FnqyKBlF",
    "tags": []
   },
   "outputs": [],
   "source": [
    "PROJECT_ID = 'statmike-mlops-349915' # replace with project ID"
   ]
  },
  {
   "cell_type": "code",
   "execution_count": 3,
   "id": "15d1d8ef-591c-4f22-8e3b-95d1ea01485e",
   "metadata": {
    "colab": {
     "base_uri": "https://localhost:8080/"
    },
    "executionInfo": {
     "elapsed": 68869,
     "status": "ok",
     "timestamp": 1683726253709,
     "user": {
      "displayName": "Mike Henderson",
      "userId": "07691629187611687318"
     },
     "user_tz": 240
    },
    "id": "N98-KK7LRkjm",
    "outputId": "09ec5008-0def-4e1a-c349-c598ee752f78",
    "tags": []
   },
   "outputs": [
    {
     "name": "stdout",
     "output_type": "stream",
     "text": [
      "Not a Colab Environment\n"
     ]
    }
   ],
   "source": [
    "try:\n",
    "    from google.colab import auth\n",
    "    auth.authenticate_user()\n",
    "    !gcloud config set project {PROJECT_ID}\n",
    "    print('Colab authorized to GCP')\n",
    "except Exception:\n",
    "    print('Not a Colab Environment')\n",
    "    pass"
   ]
  },
  {
   "cell_type": "markdown",
   "id": "d751709b-5c77-4a9d-8db7-59a1e31a57f5",
   "metadata": {},
   "source": [
    "---\n",
    "## Installs\n",
    "\n",
    "The list `packages` contains tuples of package import names and install names.  If the import name is not found then the install name is used to install quitely for the current user."
   ]
  },
  {
   "cell_type": "code",
   "execution_count": 4,
   "id": "6bfb1c54-be62-4842-9134-63296ccf5461",
   "metadata": {
    "tags": []
   },
   "outputs": [],
   "source": [
    "# tuples of (import name, install name, min_version)\n",
    "packages = [\n",
    "    ('google.cloud.aiplatform', 'google-cloud-aiplatform', '1.69.0'),\n",
    "    ('google.cloud.storage', 'google-cloud-storage')\n",
    "]\n",
    "\n",
    "import importlib\n",
    "install = False\n",
    "for package in packages:\n",
    "    if not importlib.util.find_spec(package[0]):\n",
    "        print(f'installing package {package[1]}')\n",
    "        install = True\n",
    "        !pip install {package[1]} -U -q --user\n",
    "    elif len(package) == 3:\n",
    "        if importlib.metadata.version(package[0]) < package[2]:\n",
    "            print(f'updating package {package[1]}')\n",
    "            install = True\n",
    "            !pip install {package[1]} -U -q --user"
   ]
  },
  {
   "cell_type": "markdown",
   "id": "767959a6-0f26-426c-b8d5-ee2d9aebba9b",
   "metadata": {},
   "source": [
    "### API Enablement"
   ]
  },
  {
   "cell_type": "code",
   "execution_count": 5,
   "id": "7c6dca7d-8e41-41a3-bcf8-778a94a139b3",
   "metadata": {
    "tags": []
   },
   "outputs": [],
   "source": [
    "!gcloud services enable aiplatform.googleapis.com"
   ]
  },
  {
   "cell_type": "markdown",
   "id": "d2e79a0d-00f1-4f24-b7c6-654afc2a01dd",
   "metadata": {},
   "source": [
    "### Restart Kernel (If Installs Occured)\n",
    "\n",
    "After a kernel restart the code submission can start with the next cell after this one."
   ]
  },
  {
   "cell_type": "code",
   "execution_count": 6,
   "id": "e226fcb9-6300-44ff-be3f-969b4e5ff8ae",
   "metadata": {
    "tags": []
   },
   "outputs": [],
   "source": [
    "if install:\n",
    "    import IPython\n",
    "    app = IPython.Application.instance()\n",
    "    app.kernel.do_shutdown(True)\n",
    "    IPython.display.display(IPython.display.Markdown(\"\"\"<div class=\\\"alert alert-block alert-warning\\\">\n",
    "        <b>⚠️ The kernel is going to restart. Please wait until it is finished before continuing to the next step. The previous cells do not need to be run again⚠️</b>\n",
    "        </div>\"\"\"))"
   ]
  },
  {
   "cell_type": "markdown",
   "id": "1615f583-88f8-4d42-b1e4-f5c328fd6470",
   "metadata": {},
   "source": [
    "---\n",
    "## Setup"
   ]
  },
  {
   "cell_type": "markdown",
   "id": "cdc2c040-7f2d-4bc8-af61-e37e9742bbb1",
   "metadata": {},
   "source": [
    "inputs:"
   ]
  },
  {
   "cell_type": "code",
   "execution_count": 7,
   "id": "ad7450a4-b673-43c6-8073-09254f159e82",
   "metadata": {
    "tags": []
   },
   "outputs": [
    {
     "data": {
      "text/plain": [
       "'statmike-mlops-349915'"
      ]
     },
     "execution_count": 7,
     "metadata": {},
     "output_type": "execute_result"
    }
   ],
   "source": [
    "project = !gcloud config get-value project\n",
    "PROJECT_ID = project[0]\n",
    "PROJECT_ID"
   ]
  },
  {
   "cell_type": "code",
   "execution_count": 8,
   "id": "5230593b-33a8-4b59-afd4-8ffb4e319715",
   "metadata": {
    "tags": []
   },
   "outputs": [],
   "source": [
    "REGION = 'us-central1'\n",
    "SERIES = 'applied-genai'\n",
    "EXPERIMENT = 'long-context'\n",
    "\n",
    "BUCKET = PROJECT_ID # change to Bucket name if not the same as the Project ID"
   ]
  },
  {
   "cell_type": "markdown",
   "id": "f2cfe0fe-2965-474a-be2b-d2b6ec610390",
   "metadata": {},
   "source": [
    "packages:"
   ]
  },
  {
   "cell_type": "code",
   "execution_count": 9,
   "id": "efcba1ba-2e39-40b9-8464-5851121c62ed",
   "metadata": {
    "tags": []
   },
   "outputs": [],
   "source": [
    "# Python standard library imports:\n",
    "import os, io, base64, json\n",
    "\n",
    "# package imports\n",
    "from IPython.display import Markdown\n",
    "import IPython.display\n",
    "\n",
    "# vertex ai imports\n",
    "from google.cloud import aiplatform\n",
    "import vertexai\n",
    "import vertexai.generative_models # for Gemini Models\n",
    "\n",
    "# preview imports for vertex ai api:\n",
    "from vertexai.preview import caching\n",
    "import vertexai.preview.generative_models\n",
    "import vertexai.preview.batch_prediction\n",
    "\n",
    "# google cloud imports\n",
    "from google.cloud import storage\n",
    "import google.auth"
   ]
  },
  {
   "cell_type": "code",
   "execution_count": 10,
   "id": "81cc0fdc-2b00-4cb9-b789-9543f51bc988",
   "metadata": {
    "tags": []
   },
   "outputs": [
    {
     "data": {
      "text/plain": [
       "'1.69.0'"
      ]
     },
     "execution_count": 10,
     "metadata": {},
     "output_type": "execute_result"
    }
   ],
   "source": [
    "aiplatform.__version__"
   ]
  },
  {
   "cell_type": "markdown",
   "id": "12939dcc-9376-424f-bd8a-db25e14bc4ef",
   "metadata": {},
   "source": [
    "clients:"
   ]
  },
  {
   "cell_type": "code",
   "execution_count": 11,
   "id": "4bb530fa-7633-46ec-ae22-2e4a5e81e99c",
   "metadata": {
    "tags": []
   },
   "outputs": [],
   "source": [
    "vertexai.init(project = PROJECT_ID, location = REGION)\n",
    "gcs = storage.Client(project = PROJECT_ID)"
   ]
  },
  {
   "cell_type": "markdown",
   "id": "84d99693-f3d8-48d1-80f5-619d01301353",
   "metadata": {},
   "source": [
    "---\n",
    "## Gemini Models\n",
    "\n",
    "Select one of the [supported Gemini models](https://cloud.google.com/vertex-ai/generative-ai/docs/model-reference/inference#supported-models) and read more about the characteristics of each [here](https://cloud.google.com/vertex-ai/generative-ai/docs/learn/models#gemini-models).\n"
   ]
  },
  {
   "cell_type": "markdown",
   "id": "7fff7672-a1e8-4844-a1b1-4daffef1441e",
   "metadata": {},
   "source": [
    "### Setup Model\n",
    "\n",
    "Here the [Gemini 1.5 Flash model with version 002](https://cloud.google.com/vertex-ai/generative-ai/docs/learn/models#gemini-1.5-flash) is selected. It has these characteristics (to name a few):\n",
    "- Max Input Tokens: 1,048,576\n",
    "- Max Output Tokens: 8,192\n",
    "- Max image:\n",
    "    - raw size 20MB\n",
    "    - base64 encoded size 7MB\n",
    "    - number per prompt 3000\n",
    "- Max video:\n",
    "    - length 1 hour\n",
    "    - number per prompt 10\n",
    "- Max audio:\n",
    "    - length 8.4 hours\n",
    "    - number per prompt 1\n",
    "- Max PDF:\n",
    "    - size 30 MB\n",
    "- 102 [Languages](https://cloud.google.com/vertex-ai/generative-ai/docs/learn/models#languages-gemini) for understanding and responding\n"
   ]
  },
  {
   "cell_type": "code",
   "execution_count": 12,
   "id": "2afb7060-ab49-44f4-a6d2-bab2805f61ca",
   "metadata": {
    "tags": []
   },
   "outputs": [],
   "source": [
    "gemini = vertexai.generative_models.GenerativeModel(\"gemini-1.5-pro-002\")"
   ]
  },
  {
   "cell_type": "markdown",
   "id": "8b078403-3e54-4d1d-81d5-d6bd18ec5abc",
   "metadata": {},
   "source": [
    "### **Prompt With Text**"
   ]
  },
  {
   "cell_type": "code",
   "execution_count": 14,
   "id": "135842da-0f68-420e-85c6-f1824ce126a4",
   "metadata": {
    "tags": []
   },
   "outputs": [
    {
     "data": {
      "text/markdown": [
       "Getting a mortgage involves a multi-step process. Here's a breakdown of the key steps:\n",
       "\n",
       "**1. Check Your Credit Score and Report:**\n",
       "\n",
       "* **Request your credit report:** Get your free annual credit report from each of the three major credit bureaus (Equifax, Experian, and TransUnion) at AnnualCreditReport.com.  Review them for errors and dispute any inaccuracies.\n",
       "* **Check your credit score:**  Your credit score plays a significant role in mortgage approval and interest rates.  Many credit card companies and banks provide free FICO scores.  Aim for a score of 620 or higher, although higher scores will qualify you for better rates.\n",
       "\n",
       "**2. Determine How Much You Can Afford:**\n",
       "\n",
       "* **Use online calculators:** Many mortgage calculators are available online to help you estimate how much you can borrow based on your income, debts, and down payment.\n",
       "* **Consider your debt-to-income ratio (DTI):**  Lenders look at your DTI, which compares your monthly debt payments to your gross monthly income.  A DTI of 43% or less is generally preferred.\n",
       "* **Factor in additional costs:** Remember to include property taxes, homeowner's insurance, private mortgage insurance (PMI if your down payment is less than 20%), and potential HOA fees in your budget.\n",
       "\n",
       "**3. Get Pre-Approved for a Mortgage:**\n",
       "\n",
       "* **Shop around with multiple lenders:** Compare interest rates, fees, and loan terms from different banks, credit unions, and online mortgage lenders.  Getting pre-approved gives you an idea of how much you can borrow and strengthens your offer when you find a house.\n",
       "* **Provide necessary documentation:** Lenders will require documentation such as pay stubs, tax returns, bank statements, and W-2s to verify your income and financial stability.\n",
       "\n",
       "**4. Find a Real Estate Agent (Optional but Recommended):**\n",
       "\n",
       "* A real estate agent can help you navigate the home-buying process, find properties that meet your needs, and negotiate offers.\n",
       "\n",
       "**5. Shop for a Home:**\n",
       "\n",
       "* **Consider your needs and wants:** Think about location, size, amenities, and your overall lifestyle when searching for a home.\n",
       "* **Attend open houses and schedule private showings:**  Get a feel for different properties and neighborhoods.\n",
       "\n",
       "**6. Make an Offer on a Home:**\n",
       "\n",
       "* **Work with your real estate agent to draft a competitive offer:** This includes the purchase price, contingencies (e.g., home inspection, appraisal), and closing date.\n",
       "\n",
       "**7. Secure Your Financing:**\n",
       "\n",
       "* **Finalize your mortgage application:** Once your offer is accepted, you'll complete the full mortgage application with your chosen lender.\n",
       "* **Get a home appraisal:** The lender will order an appraisal to determine the fair market value of the property.\n",
       "* **Get a home inspection:** A home inspection identifies any potential problems with the property.\n",
       "\n",
       "**8. Close on Your Mortgage:**\n",
       "\n",
       "* **Review and sign closing documents:**  This includes the mortgage note, deed, and other legal documents.\n",
       "* **Pay closing costs:** These include fees for appraisal, title insurance, loan origination, and other services.\n",
       "* **Receive the keys to your new home!**\n",
       "\n",
       "**Important Considerations:**\n",
       "\n",
       "* **Down payment:** While 20% is the traditional down payment, many loan programs offer lower down payment options.  However, if you put down less than 20%, you'll likely have to pay PMI.\n",
       "* **Loan type:**  Different loan types exist, including fixed-rate mortgages, adjustable-rate mortgages (ARMs), FHA loans, VA loans, and USDA loans.  Each has its own eligibility requirements, terms, and benefits.\n",
       "* **Interest rates:** Interest rates fluctuate and can significantly impact your monthly payments.\n",
       "\n",
       "\n",
       "This process can seem daunting, but breaking it down into these manageable steps can make it less overwhelming.  Don't hesitate to ask questions throughout the process and seek professional advice from lenders, real estate agents, and financial advisors.\n"
      ],
      "text/plain": [
       "<IPython.core.display.Markdown object>"
      ]
     },
     "execution_count": 14,
     "metadata": {},
     "output_type": "execute_result"
    }
   ],
   "source": [
    "response = gemini.generate_content('How do I get a mortgage?')\n",
    "Markdown(response.text)"
   ]
  },
  {
   "cell_type": "code",
   "execution_count": null,
   "id": "9db93e9b-2fc0-489d-81c5-7c917f6c3a56",
   "metadata": {},
   "outputs": [],
   "source": []
  },
  {
   "cell_type": "code",
   "execution_count": null,
   "id": "772a322c-83fb-443b-b380-497ea8cdf69f",
   "metadata": {},
   "outputs": [],
   "source": []
  },
  {
   "cell_type": "code",
   "execution_count": null,
   "id": "17702779-2554-4d3f-9659-b011d2cd2cc0",
   "metadata": {},
   "outputs": [],
   "source": []
  },
  {
   "cell_type": "code",
   "execution_count": null,
   "id": "ff1a3a84-0a5f-4e7b-8358-f1bd182f321f",
   "metadata": {},
   "outputs": [],
   "source": []
  },
  {
   "cell_type": "code",
   "execution_count": null,
   "id": "a6f7312d-0b84-4f9b-9ac0-999def72b056",
   "metadata": {},
   "outputs": [],
   "source": []
  },
  {
   "cell_type": "code",
   "execution_count": null,
   "id": "6b56c108-1a2f-44ba-b084-77be48c816f4",
   "metadata": {},
   "outputs": [],
   "source": []
  },
  {
   "cell_type": "code",
   "execution_count": null,
   "id": "b28b5f94-2bda-4eda-914c-61b0059bf491",
   "metadata": {},
   "outputs": [],
   "source": []
  },
  {
   "cell_type": "code",
   "execution_count": null,
   "id": "9b16bf53-7bba-42f6-996c-6fd692d79f08",
   "metadata": {},
   "outputs": [],
   "source": []
  },
  {
   "cell_type": "code",
   "execution_count": null,
   "id": "0c40917e-e591-4706-8125-8b8f3e64cfee",
   "metadata": {},
   "outputs": [],
   "source": []
  },
  {
   "cell_type": "code",
   "execution_count": null,
   "id": "346080d6-b0b5-4f65-bb6e-92daa6bc0173",
   "metadata": {},
   "outputs": [],
   "source": []
  },
  {
   "cell_type": "code",
   "execution_count": null,
   "id": "a4538fa9-cbc7-4ea8-90f5-2d101e803295",
   "metadata": {},
   "outputs": [],
   "source": []
  },
  {
   "cell_type": "code",
   "execution_count": null,
   "id": "f4389c74-cbb4-4557-939f-76841a5f19f7",
   "metadata": {},
   "outputs": [],
   "source": []
  },
  {
   "cell_type": "markdown",
   "id": "af99d003-a6ac-4e7e-a690-4b86cd78f8a3",
   "metadata": {},
   "source": [
    "Fannie:\n",
    "https://selling-guide.fanniemae.com/\n",
    "Freddie:\n",
    "https://guide.freddiemac.com/ci/okcsFattach/get/1002095_2"
   ]
  },
  {
   "cell_type": "code",
   "execution_count": null,
   "id": "34d6db5a-f93a-4ac2-bc77-57684c5049ad",
   "metadata": {},
   "outputs": [],
   "source": []
  }
 ],
 "metadata": {
  "environment": {
   "kernel": "conda-base-py",
   "name": "workbench-notebooks.m125",
   "type": "gcloud",
   "uri": "us-docker.pkg.dev/deeplearning-platform-release/gcr.io/workbench-notebooks:m125"
  },
  "kernelspec": {
   "display_name": "Python 3 (ipykernel) (Local)",
   "language": "python",
   "name": "conda-base-py"
  },
  "language_info": {
   "codemirror_mode": {
    "name": "ipython",
    "version": 3
   },
   "file_extension": ".py",
   "mimetype": "text/x-python",
   "name": "python",
   "nbconvert_exporter": "python",
   "pygments_lexer": "ipython3",
   "version": "3.10.15"
  }
 },
 "nbformat": 4,
 "nbformat_minor": 5
}
