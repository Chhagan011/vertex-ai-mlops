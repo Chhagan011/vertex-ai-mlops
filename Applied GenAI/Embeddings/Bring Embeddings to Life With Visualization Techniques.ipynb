{
 "cells": [
  {
   "cell_type": "markdown",
   "id": "370e0645-a85f-42e0-84b1-617780b32616",
   "metadata": {},
   "source": [
    "# Bring Embeddings to Life With Visualization Techniques\n",
    "\n",
    "\n",
    "- single\n",
    "- spaces\n",
    "    - tsne\n",
    "    - embeddings projector"
   ]
  },
  {
   "cell_type": "code",
   "execution_count": null,
   "id": "92cdc770-982a-4da7-bd8d-41928fcda9b0",
   "metadata": {},
   "outputs": [],
   "source": []
  }
 ],
 "metadata": {
  "environment": {
   "kernel": "",
   "name": "workbench-notebooks.m124",
   "type": "gcloud",
   "uri": "us-docker.pkg.dev/deeplearning-platform-release/gcr.io/workbench-notebooks:m124"
  },
  "kernelspec": {
   "display_name": "",
   "name": ""
  },
  "language_info": {
   "name": ""
  }
 },
 "nbformat": 4,
 "nbformat_minor": 5
}
