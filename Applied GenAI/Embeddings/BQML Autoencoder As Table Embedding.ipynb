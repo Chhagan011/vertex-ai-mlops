{
 "cells": [
  {
   "cell_type": "markdown",
   "id": "db40517c",
   "metadata": {},
   "source": [
    "![tracker](https://us-central1-vertex-ai-mlops-369716.cloudfunctions.net/pixel-tracking?path=statmike%2Fvertex-ai-mlops%2FWorking+With%2FEmbeddings&file=BQML+Autoencoder+As+Table+Embedding.ipynb)\n",
    "<!--- header table --->\n",
    "<table align=\"left\">\n",
    "  <td style=\"text-align: center\">\n",
    "    <a href=\"https://colab.research.google.com/github/statmike/vertex-ai-mlops/blob/main/Working%20With/Embeddings/BQML%20Autoencoder%20As%20Table%20Embedding.ipynb\">\n",
    "      <img src=\"https://cloud.google.com/ml-engine/images/colab-logo-32px.png\" alt=\"Google Colaboratory logo\">\n",
    "      <br>Run in<br>Colab\n",
    "    </a>\n",
    "  </td>\n",
    "  <td style=\"text-align: center\">\n",
    "    <a href=\"https://console.cloud.google.com/vertex-ai/colab/import/https%3A%2F%2Fraw.githubusercontent.com%2Fstatmike%2Fvertex-ai-mlops%2Fmain%2FWorking%2520With%2FEmbeddings%2FBQML%2520Autoencoder%2520As%2520Table%2520Embedding.ipynb\">\n",
    "      <img width=\"32px\" src=\"https://lh3.googleusercontent.com/JmcxdQi-qOpctIvWKgPtrzZdJJK-J3sWE1RsfjZNwshCFgE_9fULcNpuXYTilIR2hjwN\" alt=\"Google Cloud Colab Enterprise logo\">\n",
    "      <br>Run in<br>Colab Enterprise\n",
    "    </a>\n",
    "  </td>      \n",
    "  <td style=\"text-align: center\">\n",
    "    <a href=\"https://github.com/statmike/vertex-ai-mlops/blob/main/Working%20With/Embeddings/BQML%20Autoencoder%20As%20Table%20Embedding.ipynb\">\n",
    "      <img src=\"https://cloud.google.com/ml-engine/images/github-logo-32px.png\" alt=\"GitHub logo\">\n",
    "      <br>View on<br>GitHub\n",
    "    </a>\n",
    "  </td>\n",
    "  <td style=\"text-align: center\">\n",
    "    <a href=\"https://console.cloud.google.com/vertex-ai/workbench/deploy-notebook?download_url=https://raw.githubusercontent.com/statmike/vertex-ai-mlops/main/Working%20With/Embeddings/BQML%20Autoencoder%20As%20Table%20Embedding.ipynb\">\n",
    "      <img src=\"https://lh3.googleusercontent.com/UiNooY4LUgW_oTvpsNhPpQzsstV5W8F7rYgxgGBD85cWJoLmrOzhVs_ksK_vgx40SHs7jCqkTkCk=e14-rj-sc0xffffff-h130-w32\" alt=\"Vertex AI logo\">\n",
    "      <br>Open in<br>Vertex AI Workbench\n",
    "    </a>\n",
    "  </td>\n",
    "</table>"
   ]
  },
  {
   "cell_type": "markdown",
   "id": "895e8e82-c091-460a-8158-abf47ce25f0a",
   "metadata": {},
   "source": [
    "# BigQuery ML Autoencoder As Table Embedding\n",
    "\n",
    "Autoencoders are a type of neural network designed for unsupervised learning. They learn efficient representations (encodings) of input data by compressing it into a smaller representation called the \"latent space.\" This latent space captures the most essential features of the input.\n",
    "\n",
    "> The autoencoder also learns to reconstruct the original input data from this compressed representation using a decoder. The training process involves minimizing the difference (loss) between the original input and the reconstructed output. This comparison between input and reconstructed output serves as a form of supervision, even though the task itself is considered unsupervised.\n",
    "\n",
    "With [BigQuery ML](https://cloud.google.com/bigquery/docs/bqml-introduction) you can train an [autoencoder](https://cloud.google.com/bigquery/docs/reference/standard-sql/bigqueryml-syntax-create-autoencoder) on tabular data.  Prediction with the [`ML.PREDICT`](https://cloud.google.com/bigquery/docs/reference/standard-sql/bigqueryml-syntax-predict#autoencoder_models) function will return the latent space, encoder result, from the trained model.  These representations can be used as embeddings to do tasks like matching similar rows to a query row.\n",
    "\n",
    "For a detailed review of BigQuery ML Autoencoders, check out the end-to-end workflow in this repository: [BQML Autoencoder with Anomaly Detection](../../03%20-%20BigQuery%20ML%20%28BQML%29/03i%20-%20BQML%20Autoencoder%20with%20Anomaly%20Detection.ipynb)\n",
    "\n",
    "**Prerequisites:**\n",
    "-  [01 - BigQuery - Table Data Source](../../01%20-%20Data%20Sources/01%20-%20BigQuery%20-%20Table%20Data%20Source.ipynb)"
   ]
  },
  {
   "cell_type": "markdown",
   "id": "e2ed4c4d-f2b6-44d3-af59-b41a17bff62b",
   "metadata": {
    "id": "od_UkDpvRmgD",
    "tags": []
   },
   "source": [
    "---\n",
    "## Colab Setup\n",
    "\n",
    "When running this notebook in [Colab](https://colab.google/) or [Colab Enterprise](https://cloud.google.com/colab/docs/introduction), this section will authenticate to GCP (follow prompts in the popup) and set the current project for the session."
   ]
  },
  {
   "cell_type": "code",
   "execution_count": 1,
   "id": "f92baaef-f972-41e6-8757-d3d3f7e00db6",
   "metadata": {
    "executionInfo": {
     "elapsed": 195,
     "status": "ok",
     "timestamp": 1683726184843,
     "user": {
      "displayName": "Mike Henderson",
      "userId": "07691629187611687318"
     },
     "user_tz": 240
    },
    "id": "8UO9FnqyKBlF",
    "tags": []
   },
   "outputs": [],
   "source": [
    "PROJECT_ID = 'statmike-mlops-349915' # replace with project ID"
   ]
  },
  {
   "cell_type": "code",
   "execution_count": 2,
   "id": "23203dc4-5e0f-45dc-bd7c-5e96d40b3269",
   "metadata": {
    "colab": {
     "base_uri": "https://localhost:8080/"
    },
    "executionInfo": {
     "elapsed": 68869,
     "status": "ok",
     "timestamp": 1683726253709,
     "user": {
      "displayName": "Mike Henderson",
      "userId": "07691629187611687318"
     },
     "user_tz": 240
    },
    "id": "N98-KK7LRkjm",
    "outputId": "09ec5008-0def-4e1a-c349-c598ee752f78",
    "tags": []
   },
   "outputs": [
    {
     "name": "stdout",
     "output_type": "stream",
     "text": [
      "Not a Colab Environment\n"
     ]
    }
   ],
   "source": [
    "try:\n",
    "    from google.colab import auth\n",
    "    auth.authenticate_user(project_id = PROJECT_ID)\n",
    "    print('Colab authorized to GCP')\n",
    "except Exception:\n",
    "    print('Not a Colab Environment')\n",
    "    pass"
   ]
  },
  {
   "cell_type": "markdown",
   "id": "a3bb27f9-055c-492c-aec0-fec8c99a2feb",
   "metadata": {},
   "source": [
    "---\n",
    "## Installs\n",
    "\n",
    "The list `packages` contains tuples of package import names and install names.  If the import name is not found then the install name is used to install quitely for the current user."
   ]
  },
  {
   "cell_type": "code",
   "execution_count": 3,
   "id": "287cf518-363f-4598-b609-f7e182c28e0b",
   "metadata": {
    "tags": []
   },
   "outputs": [],
   "source": [
    "# tuples of (import name, install name)\n",
    "packages = [\n",
    "    ('google.cloud.bigquery', 'google-cloud-bigquery'),\n",
    "    ('bigframes', 'bigframes'),\n",
    "]\n",
    "\n",
    "import importlib\n",
    "install = False\n",
    "for package in packages:\n",
    "    if not importlib.util.find_spec(package[0]):\n",
    "        print(f'installing package {package[1]}')\n",
    "        install = True\n",
    "        !pip install {package[1]} -U -q --user"
   ]
  },
  {
   "cell_type": "markdown",
   "id": "4183965b-3a75-4acd-9fcb-55f61fa82ce5",
   "metadata": {},
   "source": [
    "### Restart Kernel (If Installs Occured)\n",
    "\n",
    "After a kernel restart the code submission can start with the next cell after this one."
   ]
  },
  {
   "cell_type": "code",
   "execution_count": 4,
   "id": "923628b2-ddbe-4075-9a26-af41af8cf51b",
   "metadata": {
    "tags": []
   },
   "outputs": [],
   "source": [
    "if install:\n",
    "    import IPython\n",
    "    app = IPython.Application.instance()\n",
    "    app.kernel.do_shutdown(True)"
   ]
  },
  {
   "cell_type": "markdown",
   "id": "0c852da5-23df-474e-863d-93dbc69133e9",
   "metadata": {},
   "source": [
    "---\n",
    "## Setup"
   ]
  },
  {
   "cell_type": "markdown",
   "id": "5b1d7e26-1750-48da-83ed-fb34572f713c",
   "metadata": {},
   "source": [
    "inputs:"
   ]
  },
  {
   "cell_type": "code",
   "execution_count": 12,
   "id": "8acaff9e-d8bb-4f5e-b23a-862de29ae12a",
   "metadata": {
    "tags": []
   },
   "outputs": [
    {
     "data": {
      "text/plain": [
       "'statmike-mlops-349915'"
      ]
     },
     "execution_count": 12,
     "metadata": {},
     "output_type": "execute_result"
    }
   ],
   "source": [
    "project = !gcloud config get-value project\n",
    "PROJECT_ID = project[0]\n",
    "PROJECT_ID"
   ]
  },
  {
   "cell_type": "code",
   "execution_count": 26,
   "id": "82f63a08-f3d1-41b5-9115-ca56fd3db64d",
   "metadata": {
    "tags": []
   },
   "outputs": [],
   "source": [
    "REGION = 'us-central1'\n",
    "EXPERIMENT = 'bqml-autoencoder'\n",
    "SERIES = 'working-with-embeddings'\n",
    "\n",
    "# source data\n",
    "BQ_PROJECT = PROJECT_ID\n",
    "BQ_DATASET = 'fraud'\n",
    "BQ_TABLE = 'fraud_prepped'\n",
    "\n",
    "BQ_MODEL = f'{SERIES}-{EXPERIMENT}'"
   ]
  },
  {
   "cell_type": "markdown",
   "id": "957af7fa-4b20-40ff-92a1-e6493b2fce48",
   "metadata": {},
   "source": [
    "packages:"
   ]
  },
  {
   "cell_type": "code",
   "execution_count": 18,
   "id": "5a921965-1066-482a-9e98-0e3b784e672a",
   "metadata": {
    "tags": []
   },
   "outputs": [],
   "source": [
    "import numpy as np\n",
    "from google.cloud import bigquery\n",
    "import bigframes.pandas as bpd"
   ]
  },
  {
   "cell_type": "markdown",
   "id": "35478ea5-08c4-493d-8514-374e71ee167d",
   "metadata": {},
   "source": [
    "clients:"
   ]
  },
  {
   "cell_type": "code",
   "execution_count": 19,
   "id": "71cc7268-005f-42c9-9ee3-fc9959b8a543",
   "metadata": {
    "tags": []
   },
   "outputs": [],
   "source": [
    "bq = bigquery.Client(project = PROJECT_ID)"
   ]
  },
  {
   "cell_type": "markdown",
   "id": "5869b86a-4bed-445d-a49f-080d55d7db81",
   "metadata": {},
   "source": [
    "---\n",
    "## Review Source Data\n",
    "\n",
    "The data source here was prepared in [01 - BigQuery - Table Data Source](../../01%20-%20Data%20Sources/01%20-%20BigQuery%20-%20Table%20Data%20Source.ipynb).\n",
    "\n",
    "This is a table of 284,807 credit card transactions classified as fradulant or normal in the column `Class`.  In order protect confidentiality, the original features have been transformed using [principle component analysis (PCA)](https://en.wikipedia.org/wiki/Principal_component_analysis) into 28 features named `V1, V2, ... V28` (float).  Two descriptive features are provided without transformation by PCA:\n",
    "- `Time` (integer) is the seconds elapsed between the transaction and the earliest transaction in the table\n",
    "- `Amount` (float) is the value of the transaction\n",
    "\n",
    "The data preparation included added splits for machine learning with a column named `splits` with 80% for training (`TRAIN`), 10% for validation (`VALIDATE`) and 10% for testing (`TEST`).  Additionally, a unique identifier was added to each transaction, `transaction_id`.  "
   ]
  },
  {
   "cell_type": "markdown",
   "id": "723ee77b-637e-46e4-b626-0363e3066db0",
   "metadata": {},
   "source": [
    "### Review BigQuery table:"
   ]
  },
  {
   "cell_type": "code",
   "execution_count": 23,
   "id": "0d395d7e-a485-4be7-bec3-f60fb6eaf1e9",
   "metadata": {
    "tags": []
   },
   "outputs": [
    {
     "data": {
      "text/html": [
       "<div>\n",
       "<style scoped>\n",
       "    .dataframe tbody tr th:only-of-type {\n",
       "        vertical-align: middle;\n",
       "    }\n",
       "\n",
       "    .dataframe tbody tr th {\n",
       "        vertical-align: top;\n",
       "    }\n",
       "\n",
       "    .dataframe thead th {\n",
       "        text-align: right;\n",
       "    }\n",
       "</style>\n",
       "<table border=\"1\" class=\"dataframe\">\n",
       "  <thead>\n",
       "    <tr style=\"text-align: right;\">\n",
       "      <th></th>\n",
       "      <th>Time</th>\n",
       "      <th>V1</th>\n",
       "      <th>V2</th>\n",
       "      <th>V3</th>\n",
       "      <th>V4</th>\n",
       "      <th>V5</th>\n",
       "      <th>V6</th>\n",
       "      <th>V7</th>\n",
       "      <th>V8</th>\n",
       "      <th>V9</th>\n",
       "      <th>...</th>\n",
       "      <th>V23</th>\n",
       "      <th>V24</th>\n",
       "      <th>V25</th>\n",
       "      <th>V26</th>\n",
       "      <th>V27</th>\n",
       "      <th>V28</th>\n",
       "      <th>Amount</th>\n",
       "      <th>Class</th>\n",
       "      <th>transaction_id</th>\n",
       "      <th>splits</th>\n",
       "    </tr>\n",
       "  </thead>\n",
       "  <tbody>\n",
       "    <tr>\n",
       "      <th>0</th>\n",
       "      <td>35337</td>\n",
       "      <td>1.092844</td>\n",
       "      <td>-0.013230</td>\n",
       "      <td>1.359829</td>\n",
       "      <td>2.731537</td>\n",
       "      <td>-0.707357</td>\n",
       "      <td>0.873837</td>\n",
       "      <td>-0.796130</td>\n",
       "      <td>0.437707</td>\n",
       "      <td>0.396770</td>\n",
       "      <td>...</td>\n",
       "      <td>-0.167647</td>\n",
       "      <td>0.027557</td>\n",
       "      <td>0.592115</td>\n",
       "      <td>0.219695</td>\n",
       "      <td>0.036970</td>\n",
       "      <td>0.010984</td>\n",
       "      <td>0.0</td>\n",
       "      <td>0</td>\n",
       "      <td>a1b10547-d270-48c0-b902-7a0f735dadc7</td>\n",
       "      <td>TEST</td>\n",
       "    </tr>\n",
       "    <tr>\n",
       "      <th>1</th>\n",
       "      <td>60481</td>\n",
       "      <td>1.238973</td>\n",
       "      <td>0.035226</td>\n",
       "      <td>0.063003</td>\n",
       "      <td>0.641406</td>\n",
       "      <td>-0.260893</td>\n",
       "      <td>-0.580097</td>\n",
       "      <td>0.049938</td>\n",
       "      <td>-0.034733</td>\n",
       "      <td>0.405932</td>\n",
       "      <td>...</td>\n",
       "      <td>-0.057718</td>\n",
       "      <td>0.104983</td>\n",
       "      <td>0.537987</td>\n",
       "      <td>0.589563</td>\n",
       "      <td>-0.046207</td>\n",
       "      <td>-0.006212</td>\n",
       "      <td>0.0</td>\n",
       "      <td>0</td>\n",
       "      <td>814c62c8-ade4-47d5-bf83-313b0aafdee5</td>\n",
       "      <td>TEST</td>\n",
       "    </tr>\n",
       "    <tr>\n",
       "      <th>2</th>\n",
       "      <td>139587</td>\n",
       "      <td>1.870539</td>\n",
       "      <td>0.211079</td>\n",
       "      <td>0.224457</td>\n",
       "      <td>3.889486</td>\n",
       "      <td>-0.380177</td>\n",
       "      <td>0.249799</td>\n",
       "      <td>-0.577133</td>\n",
       "      <td>0.179189</td>\n",
       "      <td>-0.120462</td>\n",
       "      <td>...</td>\n",
       "      <td>0.180776</td>\n",
       "      <td>-0.060226</td>\n",
       "      <td>-0.228979</td>\n",
       "      <td>0.080827</td>\n",
       "      <td>0.009868</td>\n",
       "      <td>-0.036997</td>\n",
       "      <td>0.0</td>\n",
       "      <td>0</td>\n",
       "      <td>d08a1bfa-85c5-4f1b-9537-1c5a93e6afd0</td>\n",
       "      <td>TEST</td>\n",
       "    </tr>\n",
       "    <tr>\n",
       "      <th>3</th>\n",
       "      <td>162908</td>\n",
       "      <td>-3.368339</td>\n",
       "      <td>-1.980442</td>\n",
       "      <td>0.153645</td>\n",
       "      <td>-0.159795</td>\n",
       "      <td>3.847169</td>\n",
       "      <td>-3.516873</td>\n",
       "      <td>-1.209398</td>\n",
       "      <td>-0.292122</td>\n",
       "      <td>0.760543</td>\n",
       "      <td>...</td>\n",
       "      <td>-1.171627</td>\n",
       "      <td>0.214333</td>\n",
       "      <td>-0.159652</td>\n",
       "      <td>-0.060883</td>\n",
       "      <td>1.294977</td>\n",
       "      <td>0.120503</td>\n",
       "      <td>0.0</td>\n",
       "      <td>0</td>\n",
       "      <td>802f3307-8e5a-4475-b795-5d5d8d7d0120</td>\n",
       "      <td>TEST</td>\n",
       "    </tr>\n",
       "    <tr>\n",
       "      <th>4</th>\n",
       "      <td>165236</td>\n",
       "      <td>2.180149</td>\n",
       "      <td>0.218732</td>\n",
       "      <td>-2.637726</td>\n",
       "      <td>0.348776</td>\n",
       "      <td>1.063546</td>\n",
       "      <td>-1.249197</td>\n",
       "      <td>0.942021</td>\n",
       "      <td>-0.547652</td>\n",
       "      <td>-0.087823</td>\n",
       "      <td>...</td>\n",
       "      <td>-0.176957</td>\n",
       "      <td>0.563779</td>\n",
       "      <td>0.730183</td>\n",
       "      <td>0.707494</td>\n",
       "      <td>-0.131066</td>\n",
       "      <td>-0.090428</td>\n",
       "      <td>0.0</td>\n",
       "      <td>0</td>\n",
       "      <td>c8a5b93a-1598-4689-80be-4f9f5df0b8ce</td>\n",
       "      <td>TEST</td>\n",
       "    </tr>\n",
       "  </tbody>\n",
       "</table>\n",
       "<p>5 rows × 33 columns</p>\n",
       "</div>"
      ],
      "text/plain": [
       "     Time        V1        V2        V3        V4        V5        V6  \\\n",
       "0   35337  1.092844 -0.013230  1.359829  2.731537 -0.707357  0.873837   \n",
       "1   60481  1.238973  0.035226  0.063003  0.641406 -0.260893 -0.580097   \n",
       "2  139587  1.870539  0.211079  0.224457  3.889486 -0.380177  0.249799   \n",
       "3  162908 -3.368339 -1.980442  0.153645 -0.159795  3.847169 -3.516873   \n",
       "4  165236  2.180149  0.218732 -2.637726  0.348776  1.063546 -1.249197   \n",
       "\n",
       "         V7        V8        V9  ...       V23       V24       V25       V26  \\\n",
       "0 -0.796130  0.437707  0.396770  ... -0.167647  0.027557  0.592115  0.219695   \n",
       "1  0.049938 -0.034733  0.405932  ... -0.057718  0.104983  0.537987  0.589563   \n",
       "2 -0.577133  0.179189 -0.120462  ...  0.180776 -0.060226 -0.228979  0.080827   \n",
       "3 -1.209398 -0.292122  0.760543  ... -1.171627  0.214333 -0.159652 -0.060883   \n",
       "4  0.942021 -0.547652 -0.087823  ... -0.176957  0.563779  0.730183  0.707494   \n",
       "\n",
       "        V27       V28  Amount  Class                        transaction_id  \\\n",
       "0  0.036970  0.010984     0.0      0  a1b10547-d270-48c0-b902-7a0f735dadc7   \n",
       "1 -0.046207 -0.006212     0.0      0  814c62c8-ade4-47d5-bf83-313b0aafdee5   \n",
       "2  0.009868 -0.036997     0.0      0  d08a1bfa-85c5-4f1b-9537-1c5a93e6afd0   \n",
       "3  1.294977  0.120503     0.0      0  802f3307-8e5a-4475-b795-5d5d8d7d0120   \n",
       "4 -0.131066 -0.090428     0.0      0  c8a5b93a-1598-4689-80be-4f9f5df0b8ce   \n",
       "\n",
       "   splits  \n",
       "0    TEST  \n",
       "1    TEST  \n",
       "2    TEST  \n",
       "3    TEST  \n",
       "4    TEST  \n",
       "\n",
       "[5 rows x 33 columns]"
      ]
     },
     "execution_count": 23,
     "metadata": {},
     "output_type": "execute_result"
    }
   ],
   "source": [
    "source_data = bq.query(f'SELECT * FROM {BQ_PROJECT}.{BQ_DATASET}.{BQ_TABLE} LIMIT 5').to_dataframe()\n",
    "source_data"
   ]
  },
  {
   "cell_type": "code",
   "execution_count": 24,
   "id": "a280c1ee-7742-4b6a-8bf8-a5475b55ddd3",
   "metadata": {
    "tags": []
   },
   "outputs": [
    {
     "data": {
      "text/plain": [
       "Time                Int64\n",
       "V1                float64\n",
       "V2                float64\n",
       "V3                float64\n",
       "V4                float64\n",
       "V5                float64\n",
       "V6                float64\n",
       "V7                float64\n",
       "V8                float64\n",
       "V9                float64\n",
       "V10               float64\n",
       "V11               float64\n",
       "V12               float64\n",
       "V13               float64\n",
       "V14               float64\n",
       "V15               float64\n",
       "V16               float64\n",
       "V17               float64\n",
       "V18               float64\n",
       "V19               float64\n",
       "V20               float64\n",
       "V21               float64\n",
       "V22               float64\n",
       "V23               float64\n",
       "V24               float64\n",
       "V25               float64\n",
       "V26               float64\n",
       "V27               float64\n",
       "V28               float64\n",
       "Amount            float64\n",
       "Class               Int64\n",
       "transaction_id     object\n",
       "splits             object\n",
       "dtype: object"
      ]
     },
     "execution_count": 24,
     "metadata": {},
     "output_type": "execute_result"
    }
   ],
   "source": [
    "source_data.dtypes"
   ]
  },
  {
   "cell_type": "markdown",
   "id": "52e6473b-3aa0-42a7-9ef5-5bb0064db3ff",
   "metadata": {},
   "source": [
    "### Review the number of records for each level of Class (VAR_TARGET) for each of the data splits:"
   ]
  },
  {
   "cell_type": "code",
   "execution_count": 25,
   "id": "e9747bde-8369-4009-b91b-98aa76227b2b",
   "metadata": {
    "tags": []
   },
   "outputs": [
    {
     "data": {
      "text/html": [
       "<div>\n",
       "<style scoped>\n",
       "    .dataframe tbody tr th:only-of-type {\n",
       "        vertical-align: middle;\n",
       "    }\n",
       "\n",
       "    .dataframe tbody tr th {\n",
       "        vertical-align: top;\n",
       "    }\n",
       "\n",
       "    .dataframe thead th {\n",
       "        text-align: right;\n",
       "    }\n",
       "</style>\n",
       "<table border=\"1\" class=\"dataframe\">\n",
       "  <thead>\n",
       "    <tr style=\"text-align: right;\">\n",
       "      <th></th>\n",
       "      <th>splits</th>\n",
       "      <th>class</th>\n",
       "      <th>count</th>\n",
       "    </tr>\n",
       "  </thead>\n",
       "  <tbody>\n",
       "    <tr>\n",
       "      <th>0</th>\n",
       "      <td>TEST</td>\n",
       "      <td>0</td>\n",
       "      <td>28455</td>\n",
       "    </tr>\n",
       "    <tr>\n",
       "      <th>1</th>\n",
       "      <td>TEST</td>\n",
       "      <td>1</td>\n",
       "      <td>47</td>\n",
       "    </tr>\n",
       "    <tr>\n",
       "      <th>2</th>\n",
       "      <td>TRAIN</td>\n",
       "      <td>0</td>\n",
       "      <td>227664</td>\n",
       "    </tr>\n",
       "    <tr>\n",
       "      <th>3</th>\n",
       "      <td>TRAIN</td>\n",
       "      <td>1</td>\n",
       "      <td>397</td>\n",
       "    </tr>\n",
       "    <tr>\n",
       "      <th>4</th>\n",
       "      <td>VALIDATE</td>\n",
       "      <td>0</td>\n",
       "      <td>28196</td>\n",
       "    </tr>\n",
       "    <tr>\n",
       "      <th>5</th>\n",
       "      <td>VALIDATE</td>\n",
       "      <td>1</td>\n",
       "      <td>48</td>\n",
       "    </tr>\n",
       "  </tbody>\n",
       "</table>\n",
       "</div>"
      ],
      "text/plain": [
       "     splits  class   count\n",
       "0      TEST      0   28455\n",
       "1      TEST      1      47\n",
       "2     TRAIN      0  227664\n",
       "3     TRAIN      1     397\n",
       "4  VALIDATE      0   28196\n",
       "5  VALIDATE      1      48"
      ]
     },
     "execution_count": 25,
     "metadata": {},
     "output_type": "execute_result"
    }
   ],
   "source": [
    "bq.query(f'SELECT splits, class, count(*) as count FROM {BQ_PROJECT}.{BQ_DATASET}.{BQ_TABLE} GROUP BY splits, class').to_dataframe()"
   ]
  },
  {
   "cell_type": "markdown",
   "id": "cfaaacc8-c995-4622-9816-d4e32d71cb38",
   "metadata": {},
   "source": [
    "---\n",
    "## Train Model\n",
    "\n",
    "Use BigQuery ML to train unsupervised autoencoder model:\n",
    "- [Autoencoder](https://cloud.google.com/bigquery-ml/docs/reference/standard-sql/bigqueryml-syntax-create-autoencoder) with BigQuery ML (BQML)\n",
    "- This uses the `splits` column that notebook `01` created to subset to the training data\n",
    "    - not directly used by the `AUTOENCODER` training but used to subset to the `splits = 'TRAIN'` data for training\n",
    "    \n",
    "This example includes the [training options](https://cloud.google.com/bigquery-ml/docs/create_vertex) to register the resulting model in the [Vertex AI Model Registry](https://cloud.google.com/vertex-ai/docs/model-registry/introduction)."
   ]
  },
  {
   "cell_type": "code",
   "execution_count": 41,
   "id": "5d964acc-457e-42c4-97fb-f6f166ba3628",
   "metadata": {
    "tags": []
   },
   "outputs": [
    {
     "name": "stdout",
     "output_type": "stream",
     "text": [
      "\n",
      "CREATE OR REPLACE MODEL `statmike-mlops-349915.fraud.working-with-embeddings-bqml-autoencoder`\n",
      "OPTIONS (\n",
      "        model_type = 'AUTOENCODER',\n",
      "        activation_fn = 'RELU',\n",
      "        batch_size = 30,\n",
      "        dropout = .5,\n",
      "        early_stop = TRUE,\n",
      "        hidden_units = [128, 64, 8, 64, 128],\n",
      "        max_iterations = 30,\n",
      "        min_rel_progress = 0.001,\n",
      "        optimizer = 'ADAM'\n",
      "    ) AS\n",
      "SELECT * EXCEPT(Class, splits, transaction_id),\n",
      "FROM `statmike-mlops-349915.fraud.fraud_prepped`\n",
      "WHERE splits = 'TRAIN'\n",
      "\n"
     ]
    }
   ],
   "source": [
    "query = f\"\"\"\n",
    "CREATE OR REPLACE MODEL `{BQ_PROJECT}.{BQ_DATASET}.{BQ_MODEL}`\n",
    "OPTIONS (\n",
    "        model_type = 'AUTOENCODER',\n",
    "        activation_fn = 'RELU',\n",
    "        batch_size = 30,\n",
    "        dropout = .5,\n",
    "        early_stop = TRUE,\n",
    "        hidden_units = [128, 64, 8, 64, 128],\n",
    "        max_iterations = 30,\n",
    "        min_rel_progress = 0.001,\n",
    "        optimizer = 'ADAM'\n",
    "    ) AS\n",
    "SELECT * EXCEPT(Class, splits, transaction_id),\n",
    "FROM `{BQ_PROJECT}.{BQ_DATASET}.{BQ_TABLE}`\n",
    "WHERE splits = 'TRAIN'\n",
    "\"\"\"\n",
    "print(query)"
   ]
  },
  {
   "cell_type": "code",
   "execution_count": 42,
   "id": "880fbabf-957a-4290-a8e1-f8220edab9d4",
   "metadata": {
    "tags": []
   },
   "outputs": [
    {
     "data": {
      "text/plain": [
       "1497.002"
      ]
     },
     "execution_count": 42,
     "metadata": {},
     "output_type": "execute_result"
    }
   ],
   "source": [
    "job = bq.query(query = query)\n",
    "job.result()\n",
    "(job.ended-job.started).total_seconds()"
   ]
  },
  {
   "cell_type": "code",
   "execution_count": 45,
   "id": "cc70c00a-9578-422d-bf99-736e4fb81aca",
   "metadata": {
    "tags": []
   },
   "outputs": [
    {
     "data": {
      "text/plain": [
       "36225.650368"
      ]
     },
     "execution_count": 45,
     "metadata": {},
     "output_type": "execute_result"
    }
   ],
   "source": [
    "job.total_bytes_processed/1e6 #mb"
   ]
  },
  {
   "cell_type": "markdown",
   "id": "bdb96247-2d42-452b-b653-027a2d5ec9d6",
   "metadata": {},
   "source": [
    "### Evaluate Model\n",
    "\n",
    "Calcuate evaluation statistics with [ML.EVALUATE](https://cloud.google.com/bigquery-ml/docs/reference/standard-sql/bigqueryml-syntax-evaluate):"
   ]
  },
  {
   "cell_type": "code",
   "execution_count": 47,
   "id": "ac49f543-1f96-423d-a2fc-3aa681e512ba",
   "metadata": {
    "tags": []
   },
   "outputs": [
    {
     "data": {
      "text/html": [
       "<div>\n",
       "<style scoped>\n",
       "    .dataframe tbody tr th:only-of-type {\n",
       "        vertical-align: middle;\n",
       "    }\n",
       "\n",
       "    .dataframe tbody tr th {\n",
       "        vertical-align: top;\n",
       "    }\n",
       "\n",
       "    .dataframe thead th {\n",
       "        text-align: right;\n",
       "    }\n",
       "</style>\n",
       "<table border=\"1\" class=\"dataframe\">\n",
       "  <thead>\n",
       "    <tr style=\"text-align: right;\">\n",
       "      <th></th>\n",
       "      <th>mean_absolute_error</th>\n",
       "      <th>mean_squared_error</th>\n",
       "      <th>mean_squared_log_error</th>\n",
       "    </tr>\n",
       "  </thead>\n",
       "  <tbody>\n",
       "    <tr>\n",
       "      <th>0</th>\n",
       "      <td>0.446546</td>\n",
       "      <td>0.613318</td>\n",
       "      <td>0.029254</td>\n",
       "    </tr>\n",
       "  </tbody>\n",
       "</table>\n",
       "</div>"
      ],
      "text/plain": [
       "   mean_absolute_error  mean_squared_error  mean_squared_log_error\n",
       "0             0.446546            0.613318                0.029254"
      ]
     },
     "execution_count": 47,
     "metadata": {},
     "output_type": "execute_result"
    }
   ],
   "source": [
    "bq.query(\n",
    "    query = f\"\"\"\n",
    "        SELECT *\n",
    "        FROM ML.EVALUATE(\n",
    "            MODEL `{BQ_PROJECT}.{BQ_DATASET}.{BQ_MODEL}`,\n",
    "            (SELECT * FROM `{BQ_PROJECT}.{BQ_DATASET}.{BQ_TABLE}` WHERE splits = 'TRAIN')\n",
    "        )\n",
    "        \"\"\"\n",
    ").to_dataframe()"
   ]
  },
  {
   "cell_type": "code",
   "execution_count": 50,
   "id": "aac0a509-3d69-4794-b265-587c46f27deb",
   "metadata": {
    "tags": []
   },
   "outputs": [
    {
     "data": {
      "text/html": [
       "<div>\n",
       "<style scoped>\n",
       "    .dataframe tbody tr th:only-of-type {\n",
       "        vertical-align: middle;\n",
       "    }\n",
       "\n",
       "    .dataframe tbody tr th {\n",
       "        vertical-align: top;\n",
       "    }\n",
       "\n",
       "    .dataframe thead th {\n",
       "        text-align: right;\n",
       "    }\n",
       "</style>\n",
       "<table border=\"1\" class=\"dataframe\">\n",
       "  <thead>\n",
       "    <tr style=\"text-align: right;\">\n",
       "      <th></th>\n",
       "      <th>mean_absolute_error</th>\n",
       "      <th>mean_squared_error</th>\n",
       "      <th>mean_squared_log_error</th>\n",
       "    </tr>\n",
       "  </thead>\n",
       "  <tbody>\n",
       "    <tr>\n",
       "      <th>0</th>\n",
       "      <td>0.443835</td>\n",
       "      <td>0.611037</td>\n",
       "      <td>0.028819</td>\n",
       "    </tr>\n",
       "  </tbody>\n",
       "</table>\n",
       "</div>"
      ],
      "text/plain": [
       "   mean_absolute_error  mean_squared_error  mean_squared_log_error\n",
       "0             0.443835            0.611037                0.028819"
      ]
     },
     "execution_count": 50,
     "metadata": {},
     "output_type": "execute_result"
    }
   ],
   "source": [
    "bq.query(\n",
    "    query = f\"\"\"\n",
    "        SELECT *\n",
    "        FROM ML.EVALUATE(\n",
    "            MODEL `{BQ_PROJECT}.{BQ_DATASET}.{BQ_MODEL}`,\n",
    "            (SELECT * FROM `{BQ_PROJECT}.{BQ_DATASET}.{BQ_TABLE}` WHERE splits = 'VALIDATE')\n",
    "        )\n",
    "        \"\"\"\n",
    ").to_dataframe()"
   ]
  },
  {
   "cell_type": "code",
   "execution_count": 49,
   "id": "a187ce45-fd4f-4c0e-a9b6-b6ec00504fbd",
   "metadata": {
    "tags": []
   },
   "outputs": [
    {
     "data": {
      "text/html": [
       "<div>\n",
       "<style scoped>\n",
       "    .dataframe tbody tr th:only-of-type {\n",
       "        vertical-align: middle;\n",
       "    }\n",
       "\n",
       "    .dataframe tbody tr th {\n",
       "        vertical-align: top;\n",
       "    }\n",
       "\n",
       "    .dataframe thead th {\n",
       "        text-align: right;\n",
       "    }\n",
       "</style>\n",
       "<table border=\"1\" class=\"dataframe\">\n",
       "  <thead>\n",
       "    <tr style=\"text-align: right;\">\n",
       "      <th></th>\n",
       "      <th>mean_absolute_error</th>\n",
       "      <th>mean_squared_error</th>\n",
       "      <th>mean_squared_log_error</th>\n",
       "    </tr>\n",
       "  </thead>\n",
       "  <tbody>\n",
       "    <tr>\n",
       "      <th>0</th>\n",
       "      <td>0.4462</td>\n",
       "      <td>0.59642</td>\n",
       "      <td>0.029364</td>\n",
       "    </tr>\n",
       "  </tbody>\n",
       "</table>\n",
       "</div>"
      ],
      "text/plain": [
       "   mean_absolute_error  mean_squared_error  mean_squared_log_error\n",
       "0               0.4462             0.59642                0.029364"
      ]
     },
     "execution_count": 49,
     "metadata": {},
     "output_type": "execute_result"
    }
   ],
   "source": [
    "bq.query(\n",
    "    query = f\"\"\"\n",
    "        SELECT *\n",
    "        FROM ML.EVALUATE(\n",
    "            MODEL `{BQ_PROJECT}.{BQ_DATASET}.{BQ_MODEL}`,\n",
    "            (SELECT * FROM `{BQ_PROJECT}.{BQ_DATASET}.{BQ_TABLE}` WHERE splits = 'TEST')\n",
    "        )\n",
    "        \"\"\"\n",
    ").to_dataframe()"
   ]
  },
  {
   "cell_type": "markdown",
   "id": "b2cfb2f5-e1e1-4bf8-973f-3380ba7a9711",
   "metadata": {},
   "source": [
    "### Predictions\n",
    "\n",
    "Retrieve the latent space prediction with [ML.PREDICT](https://cloud.google.com/bigquery-ml/docs/reference/standard-sql/bigqueryml-syntax-predict)."
   ]
  },
  {
   "cell_type": "code",
   "execution_count": 54,
   "id": "f6a8ee5c-158a-4a0d-b01a-bbde702f62b4",
   "metadata": {
    "tags": []
   },
   "outputs": [
    {
     "data": {
      "text/html": [
       "<div>\n",
       "<style scoped>\n",
       "    .dataframe tbody tr th:only-of-type {\n",
       "        vertical-align: middle;\n",
       "    }\n",
       "\n",
       "    .dataframe tbody tr th {\n",
       "        vertical-align: top;\n",
       "    }\n",
       "\n",
       "    .dataframe thead th {\n",
       "        text-align: right;\n",
       "    }\n",
       "</style>\n",
       "<table border=\"1\" class=\"dataframe\">\n",
       "  <thead>\n",
       "    <tr style=\"text-align: right;\">\n",
       "      <th></th>\n",
       "      <th>embedding</th>\n",
       "      <th>transaction_id</th>\n",
       "    </tr>\n",
       "  </thead>\n",
       "  <tbody>\n",
       "    <tr>\n",
       "      <th>0</th>\n",
       "      <td>[4.121513843536377, 0.0, 3.663341999053955, 1....</td>\n",
       "      <td>a1b10547-d270-48c0-b902-7a0f735dadc7</td>\n",
       "    </tr>\n",
       "    <tr>\n",
       "      <th>1</th>\n",
       "      <td>[2.5058867931365967, 0.0, 5.8338775634765625, ...</td>\n",
       "      <td>814c62c8-ade4-47d5-bf83-313b0aafdee5</td>\n",
       "    </tr>\n",
       "    <tr>\n",
       "      <th>2</th>\n",
       "      <td>[3.6094603538513184, 0.0, 1.5513304471969604, ...</td>\n",
       "      <td>d08a1bfa-85c5-4f1b-9537-1c5a93e6afd0</td>\n",
       "    </tr>\n",
       "    <tr>\n",
       "      <th>3</th>\n",
       "      <td>[9.577651977539062, 0.0, 4.330973148345947, 7....</td>\n",
       "      <td>802f3307-8e5a-4475-b795-5d5d8d7d0120</td>\n",
       "    </tr>\n",
       "    <tr>\n",
       "      <th>4</th>\n",
       "      <td>[1.8276915550231934, 0.0, 3.39656925201416, 3....</td>\n",
       "      <td>c8a5b93a-1598-4689-80be-4f9f5df0b8ce</td>\n",
       "    </tr>\n",
       "  </tbody>\n",
       "</table>\n",
       "</div>"
      ],
      "text/plain": [
       "                                           embedding  \\\n",
       "0  [4.121513843536377, 0.0, 3.663341999053955, 1....   \n",
       "1  [2.5058867931365967, 0.0, 5.8338775634765625, ...   \n",
       "2  [3.6094603538513184, 0.0, 1.5513304471969604, ...   \n",
       "3  [9.577651977539062, 0.0, 4.330973148345947, 7....   \n",
       "4  [1.8276915550231934, 0.0, 3.39656925201416, 3....   \n",
       "\n",
       "                         transaction_id  \n",
       "0  a1b10547-d270-48c0-b902-7a0f735dadc7  \n",
       "1  814c62c8-ade4-47d5-bf83-313b0aafdee5  \n",
       "2  d08a1bfa-85c5-4f1b-9537-1c5a93e6afd0  \n",
       "3  802f3307-8e5a-4475-b795-5d5d8d7d0120  \n",
       "4  c8a5b93a-1598-4689-80be-4f9f5df0b8ce  "
      ]
     },
     "execution_count": 54,
     "metadata": {},
     "output_type": "execute_result"
    }
   ],
   "source": [
    "query = f\"\"\"\n",
    "SELECT [latent_col_1, latent_col_2, latent_col_3, latent_col_4, latent_col_5, latent_col_6, latent_col_7, latent_col_8] as embedding, transaction_id\n",
    "FROM ML.PREDICT (\n",
    "    MODEL `{BQ_PROJECT}.{BQ_DATASET}.{BQ_MODEL}`,\n",
    "    (SELECT *\n",
    "    FROM `{BQ_PROJECT}.{BQ_DATASET}.{BQ_TABLE}`\n",
    "    WHERE splits = 'TEST'\n",
    "    LIMIT 5)\n",
    ")\n",
    "\"\"\"\n",
    "pred = bq.query(query = query).to_dataframe()\n",
    "pred"
   ]
  },
  {
   "cell_type": "markdown",
   "id": "5d24b26a-778d-4031-874b-867fbf2f9c8a",
   "metadata": {},
   "source": [
    "---\n",
    "## Embeddings\n",
    "\n",
    "Use the predicted latent space as embeddings and add this back to the data for use in vector search. Use [`ML.NORMALIZER`](https://cloud.google.com/bigquery/docs/reference/standard-sql/bigqueryml-syntax-normalizer) function to normalize the embeddings. \n",
    "\n",
    "With BigQuery vector indexes we can [create vector indexes](https://cloud.google.com/bigquery/docs/vector-index) and search these with the [VECTOR_SEARCH](https://cloud.google.com/bigquery/docs/vector-search#use_the_vector_search_function_with_an_index) function."
   ]
  },
  {
   "cell_type": "code",
   "execution_count": 105,
   "id": "ebd8bb33-15a3-437d-9b23-0b06b5151384",
   "metadata": {
    "tags": []
   },
   "outputs": [
    {
     "data": {
      "text/plain": [
       "<google.cloud.bigquery.table._EmptyRowIterator at 0x7f391f7c66b0>"
      ]
     },
     "execution_count": 105,
     "metadata": {},
     "output_type": "execute_result"
    }
   ],
   "source": [
    "query = f'''\n",
    "CREATE OR REPLACE TABLE `{BQ_PROJECT}.{BQ_DATASET}.{BQ_TABLE}_embedding` AS\n",
    "WITH embed AS (\n",
    "    SELECT ML.NORMALIZER([latent_col_1, latent_col_2, latent_col_3, latent_col_4, latent_col_5, latent_col_6, latent_col_7, latent_col_8]) as embedding, transaction_id\n",
    "    FROM ML.PREDICT (\n",
    "        MODEL `{BQ_PROJECT}.{BQ_DATASET}.{BQ_MODEL}`,\n",
    "        (SELECT *\n",
    "        FROM `{BQ_PROJECT}.{BQ_DATASET}.{BQ_TABLE}`)\n",
    "    )\n",
    ")\n",
    "SELECT * FROM `{BQ_PROJECT}.{BQ_DATASET}.{BQ_TABLE}`\n",
    "LEFT JOIN embed\n",
    "USING (transaction_id)\n",
    "'''\n",
    "job = bq.query(query)\n",
    "job.result()"
   ]
  },
  {
   "cell_type": "code",
   "execution_count": 106,
   "id": "0c891a8c-d8df-45dc-97dc-6cca7cdf96fb",
   "metadata": {
    "tags": []
   },
   "outputs": [
    {
     "data": {
      "text/html": [
       "<div>\n",
       "<style scoped>\n",
       "    .dataframe tbody tr th:only-of-type {\n",
       "        vertical-align: middle;\n",
       "    }\n",
       "\n",
       "    .dataframe tbody tr th {\n",
       "        vertical-align: top;\n",
       "    }\n",
       "\n",
       "    .dataframe thead th {\n",
       "        text-align: right;\n",
       "    }\n",
       "</style>\n",
       "<table border=\"1\" class=\"dataframe\">\n",
       "  <thead>\n",
       "    <tr style=\"text-align: right;\">\n",
       "      <th></th>\n",
       "      <th>transaction_id</th>\n",
       "      <th>Time</th>\n",
       "      <th>V1</th>\n",
       "      <th>V2</th>\n",
       "      <th>V3</th>\n",
       "      <th>V4</th>\n",
       "      <th>V5</th>\n",
       "      <th>V6</th>\n",
       "      <th>V7</th>\n",
       "      <th>V8</th>\n",
       "      <th>...</th>\n",
       "      <th>V23</th>\n",
       "      <th>V24</th>\n",
       "      <th>V25</th>\n",
       "      <th>V26</th>\n",
       "      <th>V27</th>\n",
       "      <th>V28</th>\n",
       "      <th>Amount</th>\n",
       "      <th>Class</th>\n",
       "      <th>splits</th>\n",
       "      <th>embedding</th>\n",
       "    </tr>\n",
       "  </thead>\n",
       "  <tbody>\n",
       "    <tr>\n",
       "      <th>0</th>\n",
       "      <td>c8a5b93a-1598-4689-80be-4f9f5df0b8ce</td>\n",
       "      <td>165236</td>\n",
       "      <td>2.180149</td>\n",
       "      <td>0.218732</td>\n",
       "      <td>-2.637726</td>\n",
       "      <td>0.348776</td>\n",
       "      <td>1.063546</td>\n",
       "      <td>-1.249197</td>\n",
       "      <td>0.942021</td>\n",
       "      <td>-0.547652</td>\n",
       "      <td>...</td>\n",
       "      <td>-0.176957</td>\n",
       "      <td>0.563779</td>\n",
       "      <td>0.730183</td>\n",
       "      <td>0.707494</td>\n",
       "      <td>-0.131066</td>\n",
       "      <td>-0.090428</td>\n",
       "      <td>0.0</td>\n",
       "      <td>0</td>\n",
       "      <td>TEST</td>\n",
       "      <td>[0.1768796040377733, 0.0, 0.32871182379322017,...</td>\n",
       "    </tr>\n",
       "    <tr>\n",
       "      <th>1</th>\n",
       "      <td>a92e2777-3576-49ef-93c4-039d8dae0b5c</td>\n",
       "      <td>87579</td>\n",
       "      <td>-0.785344</td>\n",
       "      <td>1.741169</td>\n",
       "      <td>1.346336</td>\n",
       "      <td>3.179615</td>\n",
       "      <td>0.844314</td>\n",
       "      <td>1.683495</td>\n",
       "      <td>-0.260267</td>\n",
       "      <td>-1.369504</td>\n",
       "      <td>...</td>\n",
       "      <td>0.059226</td>\n",
       "      <td>0.190115</td>\n",
       "      <td>-0.505865</td>\n",
       "      <td>0.169853</td>\n",
       "      <td>0.179458</td>\n",
       "      <td>0.227019</td>\n",
       "      <td>0.0</td>\n",
       "      <td>0</td>\n",
       "      <td>TEST</td>\n",
       "      <td>[0.5155690327565788, 0.0, 0.15862668183034437,...</td>\n",
       "    </tr>\n",
       "    <tr>\n",
       "      <th>2</th>\n",
       "      <td>1259d8f5-8b63-49c1-96e3-a7c4acc11d0d</td>\n",
       "      <td>82965</td>\n",
       "      <td>-2.873991</td>\n",
       "      <td>0.246882</td>\n",
       "      <td>0.096170</td>\n",
       "      <td>0.840097</td>\n",
       "      <td>-0.349486</td>\n",
       "      <td>-0.862593</td>\n",
       "      <td>-0.676568</td>\n",
       "      <td>1.253418</td>\n",
       "      <td>...</td>\n",
       "      <td>-0.444221</td>\n",
       "      <td>0.138491</td>\n",
       "      <td>0.339719</td>\n",
       "      <td>0.694393</td>\n",
       "      <td>-0.447539</td>\n",
       "      <td>-0.490653</td>\n",
       "      <td>0.0</td>\n",
       "      <td>0</td>\n",
       "      <td>TEST</td>\n",
       "      <td>[0.2800952872260901, 0.0, 0.5907896504687579, ...</td>\n",
       "    </tr>\n",
       "    <tr>\n",
       "      <th>3</th>\n",
       "      <td>1bba1447-cda1-4112-8489-9fee0e43f35e</td>\n",
       "      <td>121735</td>\n",
       "      <td>1.828342</td>\n",
       "      <td>0.291645</td>\n",
       "      <td>0.211882</td>\n",
       "      <td>4.272862</td>\n",
       "      <td>-0.544540</td>\n",
       "      <td>-0.356532</td>\n",
       "      <td>-0.214252</td>\n",
       "      <td>0.007353</td>\n",
       "      <td>...</td>\n",
       "      <td>0.202234</td>\n",
       "      <td>0.914020</td>\n",
       "      <td>-0.044820</td>\n",
       "      <td>0.080333</td>\n",
       "      <td>-0.007181</td>\n",
       "      <td>-0.040065</td>\n",
       "      <td>0.0</td>\n",
       "      <td>0</td>\n",
       "      <td>TEST</td>\n",
       "      <td>[0.360851194137567, 0.0, 0.17919098323425908, ...</td>\n",
       "    </tr>\n",
       "    <tr>\n",
       "      <th>4</th>\n",
       "      <td>c14fad8a-6f28-475f-8bb7-902d63d44f50</td>\n",
       "      <td>63268</td>\n",
       "      <td>-0.845755</td>\n",
       "      <td>1.339517</td>\n",
       "      <td>1.930412</td>\n",
       "      <td>1.170314</td>\n",
       "      <td>0.865342</td>\n",
       "      <td>-0.067552</td>\n",
       "      <td>0.953945</td>\n",
       "      <td>0.073735</td>\n",
       "      <td>...</td>\n",
       "      <td>-0.432091</td>\n",
       "      <td>0.013305</td>\n",
       "      <td>0.610580</td>\n",
       "      <td>-0.047337</td>\n",
       "      <td>-0.002520</td>\n",
       "      <td>0.049496</td>\n",
       "      <td>0.0</td>\n",
       "      <td>0</td>\n",
       "      <td>TEST</td>\n",
       "      <td>[0.5457825525180773, 0.0, 0.41189690122358213,...</td>\n",
       "    </tr>\n",
       "  </tbody>\n",
       "</table>\n",
       "<p>5 rows × 34 columns</p>\n",
       "</div>"
      ],
      "text/plain": [
       "                         transaction_id    Time        V1        V2        V3  \\\n",
       "0  c8a5b93a-1598-4689-80be-4f9f5df0b8ce  165236  2.180149  0.218732 -2.637726   \n",
       "1  a92e2777-3576-49ef-93c4-039d8dae0b5c   87579 -0.785344  1.741169  1.346336   \n",
       "2  1259d8f5-8b63-49c1-96e3-a7c4acc11d0d   82965 -2.873991  0.246882  0.096170   \n",
       "3  1bba1447-cda1-4112-8489-9fee0e43f35e  121735  1.828342  0.291645  0.211882   \n",
       "4  c14fad8a-6f28-475f-8bb7-902d63d44f50   63268 -0.845755  1.339517  1.930412   \n",
       "\n",
       "         V4        V5        V6        V7        V8  ...       V23       V24  \\\n",
       "0  0.348776  1.063546 -1.249197  0.942021 -0.547652  ... -0.176957  0.563779   \n",
       "1  3.179615  0.844314  1.683495 -0.260267 -1.369504  ...  0.059226  0.190115   \n",
       "2  0.840097 -0.349486 -0.862593 -0.676568  1.253418  ... -0.444221  0.138491   \n",
       "3  4.272862 -0.544540 -0.356532 -0.214252  0.007353  ...  0.202234  0.914020   \n",
       "4  1.170314  0.865342 -0.067552  0.953945  0.073735  ... -0.432091  0.013305   \n",
       "\n",
       "        V25       V26       V27       V28  Amount  Class  splits  \\\n",
       "0  0.730183  0.707494 -0.131066 -0.090428     0.0      0    TEST   \n",
       "1 -0.505865  0.169853  0.179458  0.227019     0.0      0    TEST   \n",
       "2  0.339719  0.694393 -0.447539 -0.490653     0.0      0    TEST   \n",
       "3 -0.044820  0.080333 -0.007181 -0.040065     0.0      0    TEST   \n",
       "4  0.610580 -0.047337 -0.002520  0.049496     0.0      0    TEST   \n",
       "\n",
       "                                           embedding  \n",
       "0  [0.1768796040377733, 0.0, 0.32871182379322017,...  \n",
       "1  [0.5155690327565788, 0.0, 0.15862668183034437,...  \n",
       "2  [0.2800952872260901, 0.0, 0.5907896504687579, ...  \n",
       "3  [0.360851194137567, 0.0, 0.17919098323425908, ...  \n",
       "4  [0.5457825525180773, 0.0, 0.41189690122358213,...  \n",
       "\n",
       "[5 rows x 34 columns]"
      ]
     },
     "execution_count": 106,
     "metadata": {},
     "output_type": "execute_result"
    }
   ],
   "source": [
    "bq.query(f'SELECT * FROM `{BQ_PROJECT}.{BQ_DATASET}.{BQ_TABLE}_embedding` LIMIT 5').to_dataframe()"
   ]
  },
  {
   "cell_type": "markdown",
   "id": "35d8a95b-9e7c-4cb3-866a-12272e7ee378",
   "metadata": {},
   "source": [
    "### Create The Vector Index\n",
    "\n",
    "To efficiently do a vector search it can be helpful to create a vector index for the embedding column.  This is not required though as a [brute force search](https://cloud.google.com/bigquery/docs/vector-search#use_the_vector_search_function_with_brute_force) is possible.  "
   ]
  },
  {
   "cell_type": "code",
   "execution_count": null,
   "id": "d1bdf9ef-65fe-471e-9108-4847695945d5",
   "metadata": {
    "tags": []
   },
   "outputs": [],
   "source": [
    "query = f'''\n",
    "CREATE VECTOR INDEX row_index ON `{BQ_PROJECT}.{BQ_DATASET}.{BQ_TABLE}_embedding`(embedding)\n",
    "OPTIONS(index_type = 'IVF', distance_type = 'COSINE')\n",
    "'''\n",
    "job = bq.query(query)\n",
    "job.result()"
   ]
  },
  {
   "cell_type": "markdown",
   "id": "83e190da-7076-4164-94c4-b57ac45b36f4",
   "metadata": {},
   "source": [
    "### Check The Vector Index Status\n"
   ]
  },
  {
   "cell_type": "code",
   "execution_count": 119,
   "id": "878407a8-97e5-4b86-a24a-444fd287d38e",
   "metadata": {
    "tags": []
   },
   "outputs": [
    {
     "data": {
      "text/html": [
       "<div>\n",
       "<style scoped>\n",
       "    .dataframe tbody tr th:only-of-type {\n",
       "        vertical-align: middle;\n",
       "    }\n",
       "\n",
       "    .dataframe tbody tr th {\n",
       "        vertical-align: top;\n",
       "    }\n",
       "\n",
       "    .dataframe thead th {\n",
       "        text-align: right;\n",
       "    }\n",
       "</style>\n",
       "<table border=\"1\" class=\"dataframe\">\n",
       "  <thead>\n",
       "    <tr style=\"text-align: right;\">\n",
       "      <th></th>\n",
       "      <th>index_catalog</th>\n",
       "      <th>index_schema</th>\n",
       "      <th>table_name</th>\n",
       "      <th>index_name</th>\n",
       "      <th>index_status</th>\n",
       "      <th>creation_time</th>\n",
       "      <th>last_modification_time</th>\n",
       "      <th>last_refresh_time</th>\n",
       "      <th>disable_time</th>\n",
       "      <th>disable_reason</th>\n",
       "      <th>ddl</th>\n",
       "      <th>coverage_percentage</th>\n",
       "      <th>unindexed_row_count</th>\n",
       "      <th>total_logical_bytes</th>\n",
       "      <th>total_storage_bytes</th>\n",
       "    </tr>\n",
       "  </thead>\n",
       "  <tbody>\n",
       "    <tr>\n",
       "      <th>0</th>\n",
       "      <td>statmike-mlops-349915</td>\n",
       "      <td>fraud</td>\n",
       "      <td>fraud_prepped_embedding</td>\n",
       "      <td>row_index</td>\n",
       "      <td>ACTIVE</td>\n",
       "      <td>2024-05-02 19:23:59.785000+00:00</td>\n",
       "      <td>2024-05-02 19:23:59.785000+00:00</td>\n",
       "      <td>2024-05-04 01:43:46.419000+00:00</td>\n",
       "      <td>NaT</td>\n",
       "      <td>None</td>\n",
       "      <td>CREATE VECTOR INDEX `row_index` ON `statmike-m...</td>\n",
       "      <td>100</td>\n",
       "      <td>0</td>\n",
       "      <td>27921310</td>\n",
       "      <td>25426651</td>\n",
       "    </tr>\n",
       "  </tbody>\n",
       "</table>\n",
       "</div>"
      ],
      "text/plain": [
       "           index_catalog index_schema               table_name index_name  \\\n",
       "0  statmike-mlops-349915        fraud  fraud_prepped_embedding  row_index   \n",
       "\n",
       "  index_status                    creation_time  \\\n",
       "0       ACTIVE 2024-05-02 19:23:59.785000+00:00   \n",
       "\n",
       "            last_modification_time                last_refresh_time  \\\n",
       "0 2024-05-02 19:23:59.785000+00:00 2024-05-04 01:43:46.419000+00:00   \n",
       "\n",
       "  disable_time disable_reason  \\\n",
       "0          NaT           None   \n",
       "\n",
       "                                                 ddl  coverage_percentage  \\\n",
       "0  CREATE VECTOR INDEX `row_index` ON `statmike-m...                  100   \n",
       "\n",
       "   unindexed_row_count  total_logical_bytes  total_storage_bytes  \n",
       "0                    0             27921310             25426651  "
      ]
     },
     "execution_count": 119,
     "metadata": {},
     "output_type": "execute_result"
    }
   ],
   "source": [
    "query = f'''\n",
    "SELECT *\n",
    "FROM `{BQ_PROJECT}.{BQ_DATASET}.INFORMATION_SCHEMA.VECTOR_INDEXES`\n",
    "WHERE index_status = 'ACTIVE'\n",
    "    AND table_name = '{BQ_TABLE}_embedding'\n",
    "'''\n",
    "bq.query(query).to_dataframe()"
   ]
  },
  {
   "cell_type": "markdown",
   "id": "944ea8f4-b1ce-498f-9bb1-49d67df27074",
   "metadata": {},
   "source": [
    "### Get Matches With Vector Search"
   ]
  },
  {
   "cell_type": "code",
   "execution_count": 135,
   "id": "0160a680-c1c3-4756-93a5-c4e766a0b004",
   "metadata": {
    "tags": []
   },
   "outputs": [
    {
     "data": {
      "text/html": [
       "<div>\n",
       "<style scoped>\n",
       "    .dataframe tbody tr th:only-of-type {\n",
       "        vertical-align: middle;\n",
       "    }\n",
       "\n",
       "    .dataframe tbody tr th {\n",
       "        vertical-align: top;\n",
       "    }\n",
       "\n",
       "    .dataframe thead th {\n",
       "        text-align: right;\n",
       "    }\n",
       "</style>\n",
       "<table border=\"1\" class=\"dataframe\">\n",
       "  <thead>\n",
       "    <tr style=\"text-align: right;\">\n",
       "      <th></th>\n",
       "      <th>transaction_id</th>\n",
       "      <th>match</th>\n",
       "      <th>distance</th>\n",
       "    </tr>\n",
       "  </thead>\n",
       "  <tbody>\n",
       "    <tr>\n",
       "      <th>0</th>\n",
       "      <td>c8a5b93a-1598-4689-80be-4f9f5df0b8ce</td>\n",
       "      <td>c8a5b93a-1598-4689-80be-4f9f5df0b8ce</td>\n",
       "      <td>0.000000</td>\n",
       "    </tr>\n",
       "    <tr>\n",
       "      <th>1</th>\n",
       "      <td>c8a5b93a-1598-4689-80be-4f9f5df0b8ce</td>\n",
       "      <td>f0854157-86dc-469e-9100-7b0298776b82</td>\n",
       "      <td>0.000042</td>\n",
       "    </tr>\n",
       "    <tr>\n",
       "      <th>2</th>\n",
       "      <td>c8a5b93a-1598-4689-80be-4f9f5df0b8ce</td>\n",
       "      <td>88e42fbb-2a4d-42aa-8122-ff8718856ff4</td>\n",
       "      <td>0.000090</td>\n",
       "    </tr>\n",
       "    <tr>\n",
       "      <th>3</th>\n",
       "      <td>c8a5b93a-1598-4689-80be-4f9f5df0b8ce</td>\n",
       "      <td>8e369bc9-5778-4ad6-b24b-d7d88863058d</td>\n",
       "      <td>0.000108</td>\n",
       "    </tr>\n",
       "    <tr>\n",
       "      <th>4</th>\n",
       "      <td>c8a5b93a-1598-4689-80be-4f9f5df0b8ce</td>\n",
       "      <td>bf09fbb1-3f49-4717-8011-7df94d2b6845</td>\n",
       "      <td>0.000118</td>\n",
       "    </tr>\n",
       "    <tr>\n",
       "      <th>5</th>\n",
       "      <td>c8a5b93a-1598-4689-80be-4f9f5df0b8ce</td>\n",
       "      <td>f104c52d-0e7b-4247-923d-4b0cae01ba32</td>\n",
       "      <td>0.000139</td>\n",
       "    </tr>\n",
       "    <tr>\n",
       "      <th>6</th>\n",
       "      <td>c8a5b93a-1598-4689-80be-4f9f5df0b8ce</td>\n",
       "      <td>f8b1c30d-e862-4cb0-90eb-c66186bdfa3a</td>\n",
       "      <td>0.000154</td>\n",
       "    </tr>\n",
       "    <tr>\n",
       "      <th>7</th>\n",
       "      <td>c8a5b93a-1598-4689-80be-4f9f5df0b8ce</td>\n",
       "      <td>19f50eec-3812-4fc0-8499-b840168683ca</td>\n",
       "      <td>0.000185</td>\n",
       "    </tr>\n",
       "    <tr>\n",
       "      <th>8</th>\n",
       "      <td>c8a5b93a-1598-4689-80be-4f9f5df0b8ce</td>\n",
       "      <td>787bcbf5-3bbb-41ce-910f-0f62d341fbe8</td>\n",
       "      <td>0.000202</td>\n",
       "    </tr>\n",
       "    <tr>\n",
       "      <th>9</th>\n",
       "      <td>c8a5b93a-1598-4689-80be-4f9f5df0b8ce</td>\n",
       "      <td>a62a3b93-0380-4c59-b74e-1349cba08012</td>\n",
       "      <td>0.000207</td>\n",
       "    </tr>\n",
       "  </tbody>\n",
       "</table>\n",
       "</div>"
      ],
      "text/plain": [
       "                         transaction_id                                 match  \\\n",
       "0  c8a5b93a-1598-4689-80be-4f9f5df0b8ce  c8a5b93a-1598-4689-80be-4f9f5df0b8ce   \n",
       "1  c8a5b93a-1598-4689-80be-4f9f5df0b8ce  f0854157-86dc-469e-9100-7b0298776b82   \n",
       "2  c8a5b93a-1598-4689-80be-4f9f5df0b8ce  88e42fbb-2a4d-42aa-8122-ff8718856ff4   \n",
       "3  c8a5b93a-1598-4689-80be-4f9f5df0b8ce  8e369bc9-5778-4ad6-b24b-d7d88863058d   \n",
       "4  c8a5b93a-1598-4689-80be-4f9f5df0b8ce  bf09fbb1-3f49-4717-8011-7df94d2b6845   \n",
       "5  c8a5b93a-1598-4689-80be-4f9f5df0b8ce  f104c52d-0e7b-4247-923d-4b0cae01ba32   \n",
       "6  c8a5b93a-1598-4689-80be-4f9f5df0b8ce  f8b1c30d-e862-4cb0-90eb-c66186bdfa3a   \n",
       "7  c8a5b93a-1598-4689-80be-4f9f5df0b8ce  19f50eec-3812-4fc0-8499-b840168683ca   \n",
       "8  c8a5b93a-1598-4689-80be-4f9f5df0b8ce  787bcbf5-3bbb-41ce-910f-0f62d341fbe8   \n",
       "9  c8a5b93a-1598-4689-80be-4f9f5df0b8ce  a62a3b93-0380-4c59-b74e-1349cba08012   \n",
       "\n",
       "   distance  \n",
       "0  0.000000  \n",
       "1  0.000042  \n",
       "2  0.000090  \n",
       "3  0.000108  \n",
       "4  0.000118  \n",
       "5  0.000139  \n",
       "6  0.000154  \n",
       "7  0.000185  \n",
       "8  0.000202  \n",
       "9  0.000207  "
      ]
     },
     "execution_count": 135,
     "metadata": {},
     "output_type": "execute_result"
    }
   ],
   "source": [
    "query = f'''\n",
    "SELECT\n",
    "    query.transaction_id AS transaction_id,\n",
    "    base.transaction_id AS match,\n",
    "    distance\n",
    "FROM\n",
    "    VECTOR_SEARCH(\n",
    "        TABLE `{BQ_PROJECT}.{BQ_DATASET}.{BQ_TABLE}_embedding`,\n",
    "        'embedding',\n",
    "        (SELECT * FROM `{BQ_PROJECT}.{BQ_DATASET}.{BQ_TABLE}_embedding` WHERE splits = 'TEST' LIMIT 1),\n",
    "        top_k => 10,\n",
    "        distance_type => 'COSINE',\n",
    "        options => '{{\"fraction_lists_to_search\": 0.03}}'\n",
    "    )\n",
    "ORDER BY distance\n",
    "'''\n",
    "result = bq.query(query).to_dataframe()\n",
    "result"
   ]
  },
  {
   "cell_type": "code",
   "execution_count": 136,
   "id": "51fd11af-77da-4dc3-86cb-109d60c33cef",
   "metadata": {
    "tags": []
   },
   "outputs": [
    {
     "data": {
      "text/plain": [
       "'c8a5b93a-1598-4689-80be-4f9f5df0b8ce'"
      ]
     },
     "execution_count": 136,
     "metadata": {},
     "output_type": "execute_result"
    }
   ],
   "source": [
    "result['transaction_id'][0]"
   ]
  },
  {
   "cell_type": "code",
   "execution_count": 137,
   "id": "b46fdd66-bd55-473d-8175-cf6a7b21ec82",
   "metadata": {
    "tags": []
   },
   "outputs": [
    {
     "data": {
      "text/plain": [
       "'c8a5b93a-1598-4689-80be-4f9f5df0b8ce'"
      ]
     },
     "execution_count": 137,
     "metadata": {},
     "output_type": "execute_result"
    }
   ],
   "source": [
    "result['match'][0]"
   ]
  },
  {
   "cell_type": "markdown",
   "id": "bfe73996-32db-4c9f-bb4d-29c73325cab1",
   "metadata": {},
   "source": [
    "### Get Matches With Vector Search: Brute Force\n",
    "\n",
    "Rather than using the index, find the exact nearest neighbor by searching all of the embeddings."
   ]
  },
  {
   "cell_type": "code",
   "execution_count": 138,
   "id": "038f0675-8b0f-45a3-8aee-955bf0101acb",
   "metadata": {
    "tags": []
   },
   "outputs": [
    {
     "data": {
      "text/html": [
       "<div>\n",
       "<style scoped>\n",
       "    .dataframe tbody tr th:only-of-type {\n",
       "        vertical-align: middle;\n",
       "    }\n",
       "\n",
       "    .dataframe tbody tr th {\n",
       "        vertical-align: top;\n",
       "    }\n",
       "\n",
       "    .dataframe thead th {\n",
       "        text-align: right;\n",
       "    }\n",
       "</style>\n",
       "<table border=\"1\" class=\"dataframe\">\n",
       "  <thead>\n",
       "    <tr style=\"text-align: right;\">\n",
       "      <th></th>\n",
       "      <th>transaction_id</th>\n",
       "      <th>matches</th>\n",
       "    </tr>\n",
       "  </thead>\n",
       "  <tbody>\n",
       "    <tr>\n",
       "      <th>0</th>\n",
       "      <td>c14fad8a-6f28-475f-8bb7-902d63d44f50</td>\n",
       "      <td>[c14fad8a-6f28-475f-8bb7-902d63d44f50, 747e106...</td>\n",
       "    </tr>\n",
       "    <tr>\n",
       "      <th>1</th>\n",
       "      <td>a92e2777-3576-49ef-93c4-039d8dae0b5c</td>\n",
       "      <td>[a92e2777-3576-49ef-93c4-039d8dae0b5c, 3e32ef3...</td>\n",
       "    </tr>\n",
       "    <tr>\n",
       "      <th>2</th>\n",
       "      <td>1259d8f5-8b63-49c1-96e3-a7c4acc11d0d</td>\n",
       "      <td>[1259d8f5-8b63-49c1-96e3-a7c4acc11d0d, 466a84c...</td>\n",
       "    </tr>\n",
       "    <tr>\n",
       "      <th>3</th>\n",
       "      <td>1bba1447-cda1-4112-8489-9fee0e43f35e</td>\n",
       "      <td>[1bba1447-cda1-4112-8489-9fee0e43f35e, 427d9d2...</td>\n",
       "    </tr>\n",
       "    <tr>\n",
       "      <th>4</th>\n",
       "      <td>c8a5b93a-1598-4689-80be-4f9f5df0b8ce</td>\n",
       "      <td>[c8a5b93a-1598-4689-80be-4f9f5df0b8ce, f085415...</td>\n",
       "    </tr>\n",
       "  </tbody>\n",
       "</table>\n",
       "</div>"
      ],
      "text/plain": [
       "                         transaction_id  \\\n",
       "0  c14fad8a-6f28-475f-8bb7-902d63d44f50   \n",
       "1  a92e2777-3576-49ef-93c4-039d8dae0b5c   \n",
       "2  1259d8f5-8b63-49c1-96e3-a7c4acc11d0d   \n",
       "3  1bba1447-cda1-4112-8489-9fee0e43f35e   \n",
       "4  c8a5b93a-1598-4689-80be-4f9f5df0b8ce   \n",
       "\n",
       "                                             matches  \n",
       "0  [c14fad8a-6f28-475f-8bb7-902d63d44f50, 747e106...  \n",
       "1  [a92e2777-3576-49ef-93c4-039d8dae0b5c, 3e32ef3...  \n",
       "2  [1259d8f5-8b63-49c1-96e3-a7c4acc11d0d, 466a84c...  \n",
       "3  [1bba1447-cda1-4112-8489-9fee0e43f35e, 427d9d2...  \n",
       "4  [c8a5b93a-1598-4689-80be-4f9f5df0b8ce, f085415...  "
      ]
     },
     "execution_count": 138,
     "metadata": {},
     "output_type": "execute_result"
    }
   ],
   "source": [
    "query = f'''\n",
    "SELECT\n",
    "    query.transaction_id AS transaction_id,\n",
    "    ARRAY_AGG(base.transaction_id ORDER BY distance) AS matches\n",
    "FROM\n",
    "    VECTOR_SEARCH(\n",
    "        TABLE `{BQ_PROJECT}.{BQ_DATASET}.{BQ_TABLE}_embedding`,\n",
    "        'embedding',\n",
    "        (SELECT * FROM `{BQ_PROJECT}.{BQ_DATASET}.{BQ_TABLE}_embedding` WHERE splits = 'TEST' LIMIT 5),\n",
    "        top_k => 5,\n",
    "        options => '{{\"use_brute_force\":true}}'\n",
    "    )\n",
    "GROUP BY transaction_id\n",
    "'''\n",
    "result = bq.query(query).to_dataframe()\n",
    "result"
   ]
  },
  {
   "cell_type": "code",
   "execution_count": 139,
   "id": "f7f96d3e-c0d2-42a0-8287-86f90a242c62",
   "metadata": {
    "tags": []
   },
   "outputs": [
    {
     "data": {
      "text/plain": [
       "'c14fad8a-6f28-475f-8bb7-902d63d44f50'"
      ]
     },
     "execution_count": 139,
     "metadata": {},
     "output_type": "execute_result"
    }
   ],
   "source": [
    "result['transaction_id'][0]"
   ]
  },
  {
   "cell_type": "code",
   "execution_count": 140,
   "id": "f77ccd05-ebfd-4cd6-bbe2-2171dabc63bd",
   "metadata": {
    "tags": []
   },
   "outputs": [
    {
     "data": {
      "text/plain": [
       "array(['c14fad8a-6f28-475f-8bb7-902d63d44f50',\n",
       "       '747e1065-5f62-47ae-ba40-1cdac12e935f',\n",
       "       'ba0741b4-22ea-4dcb-bcec-3556ba75c812',\n",
       "       'd289f368-1dae-4e98-b289-0b7010362bcd',\n",
       "       '5042b5cc-6cf6-43e6-a244-aee5718522de'], dtype=object)"
      ]
     },
     "execution_count": 140,
     "metadata": {},
     "output_type": "execute_result"
    }
   ],
   "source": [
    "result['matches'][0]"
   ]
  },
  {
   "cell_type": "code",
   "execution_count": 141,
   "id": "61e4b99d-252f-4208-a4d0-4bb0ce33bf80",
   "metadata": {
    "tags": []
   },
   "outputs": [
    {
     "data": {
      "text/plain": [
       "'c14fad8a-6f28-475f-8bb7-902d63d44f50'"
      ]
     },
     "execution_count": 141,
     "metadata": {},
     "output_type": "execute_result"
    }
   ],
   "source": [
    "result['matches'][0][0]"
   ]
  },
  {
   "cell_type": "code",
   "execution_count": null,
   "id": "94503ac5-0566-42cd-becd-c9b71f406b42",
   "metadata": {},
   "outputs": [],
   "source": []
  }
 ],
 "metadata": {
  "environment": {
   "kernel": "conda-base-py",
   "name": "workbench-notebooks.m124",
   "type": "gcloud",
   "uri": "us-docker.pkg.dev/deeplearning-platform-release/gcr.io/workbench-notebooks:m124"
  },
  "kernelspec": {
   "display_name": "Python 3 (ipykernel)",
   "language": "python",
   "name": "conda-base-py"
  },
  "language_info": {
   "codemirror_mode": {
    "name": "ipython",
    "version": 3
   },
   "file_extension": ".py",
   "mimetype": "text/x-python",
   "name": "python",
   "nbconvert_exporter": "python",
   "pygments_lexer": "ipython3",
   "version": "3.10.14"
  }
 },
 "nbformat": 4,
 "nbformat_minor": 5
}
