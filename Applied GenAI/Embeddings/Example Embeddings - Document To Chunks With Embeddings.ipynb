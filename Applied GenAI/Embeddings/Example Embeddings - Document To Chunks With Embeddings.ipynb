{
 "cells": [
  {
   "cell_type": "markdown",
   "id": "c307faf4",
   "metadata": {},
   "source": [
    "![tracker](https://us-central1-vertex-ai-mlops-369716.cloudfunctions.net/pixel-tracking?path=statmike%2Fvertex-ai-mlops%2FApplied+GenAI%2FEmbeddings&file=Example+Embeddings+-+Document+To+Chunks+With+Embeddings.ipynb)\n",
    "<!--- header table --->\n",
    "<table align=\"left\">\n",
    "  <td style=\"text-align: center\">\n",
    "    <a href=\"https://colab.research.google.com/github/statmike/vertex-ai-mlops/blob/main/Applied%20GenAI/Embeddings/Example%20Embeddings%20-%20Document%20To%20Chunks%20With%20Embeddings.ipynb\">\n",
    "      <img src=\"https://cloud.google.com/ml-engine/images/colab-logo-32px.png\" alt=\"Google Colaboratory logo\">\n",
    "      <br>Run in<br>Colab\n",
    "    </a>\n",
    "  </td>\n",
    "  <td style=\"text-align: center\">\n",
    "    <a href=\"https://console.cloud.google.com/vertex-ai/colab/import/https%3A%2F%2Fraw.githubusercontent.com%2Fstatmike%2Fvertex-ai-mlops%2Fmain%2FApplied%2520GenAI%2FEmbeddings%2FExample%2520Embeddings%2520-%2520Document%2520To%2520Chunks%2520With%2520Embeddings.ipynb\">\n",
    "      <img width=\"32px\" src=\"https://lh3.googleusercontent.com/JmcxdQi-qOpctIvWKgPtrzZdJJK-J3sWE1RsfjZNwshCFgE_9fULcNpuXYTilIR2hjwN\" alt=\"Google Cloud Colab Enterprise logo\">\n",
    "      <br>Run in<br>Colab Enterprise\n",
    "    </a>\n",
    "  </td>      \n",
    "  <td style=\"text-align: center\">\n",
    "    <a href=\"https://github.com/statmike/vertex-ai-mlops/blob/main/Applied%20GenAI/Embeddings/Example%20Embeddings%20-%20Document%20To%20Chunks%20With%20Embeddings.ipynb\">\n",
    "      <img src=\"https://cloud.google.com/ml-engine/images/github-logo-32px.png\" alt=\"GitHub logo\">\n",
    "      <br>View on<br>GitHub\n",
    "    </a>\n",
    "  </td>\n",
    "  <td style=\"text-align: center\">\n",
    "    <a href=\"https://console.cloud.google.com/vertex-ai/workbench/deploy-notebook?download_url=https://raw.githubusercontent.com/statmike/vertex-ai-mlops/main/Applied%20GenAI/Embeddings/Example%20Embeddings%20-%20Document%20To%20Chunks%20With%20Embeddings.ipynb\">\n",
    "      <img src=\"https://lh3.googleusercontent.com/UiNooY4LUgW_oTvpsNhPpQzsstV5W8F7rYgxgGBD85cWJoLmrOzhVs_ksK_vgx40SHs7jCqkTkCk=e14-rj-sc0xffffff-h130-w32\" alt=\"Vertex AI logo\">\n",
    "      <br>Open in<br>Vertex AI Workbench\n",
    "    </a>\n",
    "  </td>\n",
    "</table>"
   ]
  },
  {
   "cell_type": "markdown",
   "id": "f84ce1b4-dbaf-4fd6-9636-f8d142239a3f",
   "metadata": {},
   "source": [
    "# Example Embeddings\n",
    "\n",
    "This workflow creates embeddings for document chunks to be used in embeddings workflow examples in [this series](./readme.md).\n",
    "- This document:[Official Rules of Baseball](https://img.mlbstatic.com/mlb-images/image/upload/mlb/wqn5ah4c3qtivwx3jatm.pdf)\n",
    "- Is chunked using the [Layout Parser from Document AI](https://cloud.google.com/document-ai/docs/layout-parse-chunk)\n",
    "- And chunks are embedded with the [Vertex AI Text Embedding API](https://cloud.google.com/vertex-ai/generative-ai/docs/embeddings/get-text-embeddings)\n",
    "    - With [batch test embedding predictions](https://cloud.google.com/vertex-ai/generative-ai/docs/embeddings/batch-prediction-genai-embeddings)\n",
    "- And results are stored in a local folder(`./example_data/example_embedding.jsonl`) in this repository\n"
   ]
  },
  {
   "cell_type": "markdown",
   "id": "c6ea69ed-712b-4b29-8a39-92300221d220",
   "metadata": {
    "id": "od_UkDpvRmgD"
   },
   "source": [
    "---\n",
    "## Colab Setup\n",
    "\n",
    "When running this notebook in [Colab](https://colab.google/) or [Colab Enterprise](https://cloud.google.com/colab/docs/introduction), this section will authenticate to GCP (follow prompts in the popup) and set the current project for the session."
   ]
  },
  {
   "cell_type": "code",
   "execution_count": 1,
   "id": "6e182e45-e933-419f-929b-da79a5009f5a",
   "metadata": {
    "executionInfo": {
     "elapsed": 195,
     "status": "ok",
     "timestamp": 1683726184843,
     "user": {
      "displayName": "Mike Henderson",
      "userId": "07691629187611687318"
     },
     "user_tz": 240
    },
    "id": "8UO9FnqyKBlF",
    "tags": []
   },
   "outputs": [],
   "source": [
    "PROJECT_ID = 'statmike-mlops-349915' # replace with project ID"
   ]
  },
  {
   "cell_type": "code",
   "execution_count": 2,
   "id": "7f813a45-f4b5-4c48-beca-1314eff857a1",
   "metadata": {
    "colab": {
     "base_uri": "https://localhost:8080/"
    },
    "executionInfo": {
     "elapsed": 68869,
     "status": "ok",
     "timestamp": 1683726253709,
     "user": {
      "displayName": "Mike Henderson",
      "userId": "07691629187611687318"
     },
     "user_tz": 240
    },
    "id": "N98-KK7LRkjm",
    "outputId": "09ec5008-0def-4e1a-c349-c598ee752f78",
    "tags": []
   },
   "outputs": [],
   "source": [
    "try:\n",
    "    from google.colab import auth\n",
    "    auth.authenticate_user()\n",
    "    !gcloud config set project {PROJECT_ID}\n",
    "except Exception:\n",
    "    pass"
   ]
  },
  {
   "cell_type": "markdown",
   "id": "d3f03b53-3efb-4f0f-830d-5d31d0dd32f1",
   "metadata": {},
   "source": [
    "---\n",
    "## Installs and API Enablement\n",
    "\n",
    "The clients packages may need installing in this environment. "
   ]
  },
  {
   "cell_type": "markdown",
   "id": "22df5948-9d1a-47a9-bd8c-a78ee98057b6",
   "metadata": {},
   "source": [
    "### Installs (If Needed)"
   ]
  },
  {
   "cell_type": "code",
   "execution_count": 3,
   "id": "9e07a7d8-2ef8-43e0-8563-ab11e9af294b",
   "metadata": {
    "tags": []
   },
   "outputs": [],
   "source": [
    "# tuples of (import name, install name, min_version)\n",
    "packages = [\n",
    "    ('google.cloud.aiplatform', 'google-cloud-aiplatform', '1.62.0'),\n",
    "    ('google.cloud.documentai', 'google-cloud-documentai', '2.31.0'),\n",
    "    ('google.cloud.storage', 'google-cloud-storage')\n",
    "]\n",
    "\n",
    "import importlib\n",
    "install = False\n",
    "for package in packages:\n",
    "    if not importlib.util.find_spec(package[0]):\n",
    "        print(f'installing package {package[1]}')\n",
    "        install = True\n",
    "        !pip install {package[1]} -U -q --user\n",
    "    elif len(package) == 3:\n",
    "        if importlib.metadata.version(package[0]) < package[2]:\n",
    "            print(f'updating package {package[1]}')\n",
    "            install = True\n",
    "            !pip install {package[1]} -U -q --user"
   ]
  },
  {
   "cell_type": "markdown",
   "id": "c1399a49-bac5-4559-a0dc-187bfd7103b4",
   "metadata": {},
   "source": [
    "### API Enablement"
   ]
  },
  {
   "cell_type": "code",
   "execution_count": 4,
   "id": "da977c97-b960-4a11-8d95-3fe3b4c69467",
   "metadata": {
    "tags": []
   },
   "outputs": [],
   "source": [
    "!gcloud services enable aiplatform.googleapis.com\n",
    "!gcloud services enable documentai.googleapis.com"
   ]
  },
  {
   "cell_type": "markdown",
   "id": "eadb3b8b-5380-4531-8ef4-c597bfab6291",
   "metadata": {},
   "source": [
    "### Restart Kernel (If Installs Occured)\n",
    "\n",
    "After a kernel restart the code submission can start with the next cell after this one."
   ]
  },
  {
   "cell_type": "code",
   "execution_count": 5,
   "id": "0e90e525-3b66-4972-aa59-1677c5dabdab",
   "metadata": {
    "tags": []
   },
   "outputs": [],
   "source": [
    "if install:\n",
    "    import IPython\n",
    "    app = IPython.Application.instance()\n",
    "    app.kernel.do_shutdown(True)\n",
    "    IPython.display.display(IPython.display.Markdown(\"\"\"<div class=\\\"alert alert-block alert-warning\\\">\n",
    "        <b>⚠️ The kernel is going to restart. Please wait until it is finished before continuing to the next step. The previous cells do not need to be run again⚠️</b>\n",
    "        </div>\"\"\"))"
   ]
  },
  {
   "cell_type": "markdown",
   "id": "adb022c9-da14-401c-97ec-acf141eb60e0",
   "metadata": {
    "id": "appt8-yVRtJ1"
   },
   "source": [
    "---\n",
    "## Setup"
   ]
  },
  {
   "cell_type": "markdown",
   "id": "6191fe06-9cc6-4e0d-ba26-11a19cbf7e8e",
   "metadata": {
    "id": "63mx2EozRxFP"
   },
   "source": [
    "Inputs"
   ]
  },
  {
   "cell_type": "code",
   "execution_count": 6,
   "id": "6f58c91f-4581-4360-8242-68455ed3a2d7",
   "metadata": {
    "colab": {
     "base_uri": "https://localhost:8080/",
     "height": 35
    },
    "executionInfo": {
     "elapsed": 2124,
     "status": "ok",
     "timestamp": 1683726390544,
     "user": {
      "displayName": "Mike Henderson",
      "userId": "07691629187611687318"
     },
     "user_tz": 240
    },
    "id": "xzcoXjM5Rky5",
    "outputId": "b3bdcbc1-70d5-472e-aea2-42c74a42efde",
    "tags": []
   },
   "outputs": [
    {
     "data": {
      "text/plain": [
       "'statmike-mlops-349915'"
      ]
     },
     "execution_count": 6,
     "metadata": {},
     "output_type": "execute_result"
    }
   ],
   "source": [
    "project = !gcloud config get-value project\n",
    "PROJECT_ID = project[0]\n",
    "PROJECT_ID"
   ]
  },
  {
   "cell_type": "code",
   "execution_count": 7,
   "id": "6c7b2438-1305-4db0-ae83-eee15261cf5c",
   "metadata": {
    "executionInfo": {
     "elapsed": 2,
     "status": "ok",
     "timestamp": 1683726390712,
     "user": {
      "displayName": "Mike Henderson",
      "userId": "07691629187611687318"
     },
     "user_tz": 240
    },
    "id": "IxWrFtqYMfku",
    "tags": []
   },
   "outputs": [],
   "source": [
    "REGION = 'us-central1'\n",
    "SERIES = 'embeddings'\n",
    "EXPERIMENT = 'example-data'\n",
    "\n",
    "# make this the gcs bucket for storing files\n",
    "GCS_BUCKET = PROJECT_ID "
   ]
  },
  {
   "cell_type": "markdown",
   "id": "a4f30a11-22a1-45fb-912e-90f684872362",
   "metadata": {
    "id": "LuajVwCiO6Yg"
   },
   "source": [
    "Packages"
   ]
  },
  {
   "cell_type": "code",
   "execution_count": 8,
   "id": "7628cdf8-d3f9-4e07-8a88-d1ef09df7149",
   "metadata": {
    "executionInfo": {
     "elapsed": 17761,
     "status": "ok",
     "timestamp": 1683726409304,
     "user": {
      "displayName": "Mike Henderson",
      "userId": "07691629187611687318"
     },
     "user_tz": 240
    },
    "id": "LVC7zzSLRk2C",
    "tags": []
   },
   "outputs": [],
   "source": [
    "import os\n",
    "import re\n",
    "import io\n",
    "import json\n",
    "import base64\n",
    "import requests\n",
    "import concurrent.futures\n",
    "import time\n",
    "import asyncio\n",
    "\n",
    "from google.cloud import aiplatform\n",
    "import vertexai.language_models\n",
    "from google.cloud import documentai\n",
    "from google.cloud import storage"
   ]
  },
  {
   "cell_type": "code",
   "execution_count": 9,
   "id": "fec44630-e909-433e-b935-d7f6bddd15f8",
   "metadata": {
    "tags": []
   },
   "outputs": [
    {
     "data": {
      "text/plain": [
       "'1.62.0'"
      ]
     },
     "execution_count": 9,
     "metadata": {},
     "output_type": "execute_result"
    }
   ],
   "source": [
    "aiplatform.__version__"
   ]
  },
  {
   "cell_type": "markdown",
   "id": "e828f97f-03b0-491e-a406-c78057bceb0a",
   "metadata": {
    "id": "EyAVFG9TO9H-"
   },
   "source": [
    "Clients"
   ]
  },
  {
   "cell_type": "code",
   "execution_count": 10,
   "id": "31938c2e-9a7c-4940-abec-9e4144710abd",
   "metadata": {
    "executionInfo": {
     "elapsed": 19,
     "status": "ok",
     "timestamp": 1683726409306,
     "user": {
      "displayName": "Mike Henderson",
      "userId": "07691629187611687318"
     },
     "user_tz": 240
    },
    "id": "L0RPE13LOZce",
    "tags": []
   },
   "outputs": [],
   "source": [
    "# vertex ai clients\n",
    "vertexai.init(project = PROJECT_ID, location = REGION)\n",
    "\n",
    "# document AI client\n",
    "LOCATION = REGION.split('-')[0]\n",
    "docai_client = documentai.DocumentProcessorServiceClient(\n",
    "    client_options = dict(api_endpoint = f\"{LOCATION}-documentai.googleapis.com\")\n",
    ")\n",
    "\n",
    "# gcs client: assumes bucket already exists\n",
    "gcs = storage.Client(project = PROJECT_ID)\n",
    "bucket = gcs.bucket(GCS_BUCKET)"
   ]
  },
  {
   "cell_type": "markdown",
   "id": "1e132da4-2464-42d6-97c5-4cbd00f05341",
   "metadata": {},
   "source": [
    "Parameters:"
   ]
  },
  {
   "cell_type": "code",
   "execution_count": null,
   "id": "9c35c67f-638f-4266-a3d5-a43e587e4dd2",
   "metadata": {
    "tags": []
   },
   "outputs": [],
   "source": [
    "DIR = f\"{EXPERIMENT}\""
   ]
  },
  {
   "cell_type": "markdown",
   "id": "1605b956-b49c-4ceb-97ff-c9b41e59ba2b",
   "metadata": {},
   "source": [
    "Environment:"
   ]
  },
  {
   "cell_type": "code",
   "execution_count": null,
   "id": "b9d336fa-ab10-4def-8f00-b5322ada09ad",
   "metadata": {},
   "outputs": [],
   "source": [
    "if no os.path.exists(DIR):\n",
    "    os.makedirs(DIR)"
   ]
  },
  {
   "cell_type": "markdown",
   "id": "b365c23d-3284-48a8-9ab6-467780871ac7",
   "metadata": {},
   "source": [
    "Models: [Google Models](https://cloud.google.com/vertex-ai/generative-ai/docs/learn/models#models)"
   ]
  },
  {
   "cell_type": "code",
   "execution_count": 11,
   "id": "85ee1d1b-3de7-413d-beaa-dc412acc8e30",
   "metadata": {
    "tags": []
   },
   "outputs": [],
   "source": [
    "models = dict(\n",
    "    embedding = vertexai.language_models.TextEmbeddingModel.from_pretrained('text-embedding-004')\n",
    ")"
   ]
  },
  {
   "cell_type": "markdown",
   "id": "3f09ee5e-b531-4bf1-82a1-654484711c7f",
   "metadata": {},
   "source": [
    "---\n",
    "## Document\n",
    "\n",
    "The [official rules of baseball](https://img.mlbstatic.com/mlb-images/image/upload/mlb/wqn5ah4c3qtivwx3jatm.pdf), a pdf that is updated annually with the latest changes to the game and published by MLB.\n"
   ]
  },
  {
   "cell_type": "code",
   "execution_count": 14,
   "id": "51878493-483a-480b-a14c-8a526ddf7ab7",
   "metadata": {
    "tags": []
   },
   "outputs": [],
   "source": [
    "url = 'https://img.mlbstatic.com/mlb-images/image/upload/mlb/wqn5ah4c3qtivwx3jatm.pdf'\n",
    "# get the pdf\n",
    "context_bytes = requests.get(url).content\n",
    "context_base64 = base64.b64encode(context_bytes).decode('utf-8')"
   ]
  },
  {
   "cell_type": "markdown",
   "id": "a71af1e3-1e56-4e6a-9bff-23fa9f9e9c39",
   "metadata": {
    "id": "Ydo-up2TMwo1"
   },
   "source": [
    "---\n",
    "## Get/Create Document AI Processors\n",
    "\n",
    "Document AI is comprised of multiple processors.  In this case the Layout parser is used for its ability to detect and extract paragraphs, tables, titles, heading, page headers, and page footers.  For a more thorough review of Document AI processors, including customized parsers, see the [Working With/Document AI](../Working%20With/Document%20AI/readme.md) section of this repository.  This repository includes example of processing document at larger scales and storing the data for processing and retrieval.\n",
    "\n",
    "Using the [Layout Parser](https://cloud.google.com/document-ai/docs/layout-parse-chunk)."
   ]
  },
  {
   "cell_type": "code",
   "execution_count": 15,
   "id": "eefbf384-001a-4b03-91c9-b5fc6070373f",
   "metadata": {
    "tags": []
   },
   "outputs": [
    {
     "name": "stdout",
     "output_type": "stream",
     "text": [
      "Retrieved existing parser:  projects/1026793852137/locations/us/processors/3779bd3a8f535977\n"
     ]
    }
   ],
   "source": [
    "PARSER_DISPLAY_NAME = 'my_layout_processor'\n",
    "PARSER_TYPE = 'LAYOUT_PARSER_PROCESSOR'\n",
    "PARSER_VERSION = 'pretrained-layout-parser-v1.0-2024-06-03'\n",
    "\n",
    "for p in docai_client.list_processors(parent = f'projects/{PROJECT_ID}/locations/{LOCATION}'):\n",
    "    if p.display_name == PARSER_DISPLAY_NAME:\n",
    "        parser = p\n",
    "try:\n",
    "    print('Retrieved existing parser: ', parser.name)\n",
    "except Exception:\n",
    "    parser = docai_client.create_processor(\n",
    "        parent = f'projects/{PROJECT_ID}/locations/{LOCATION}',\n",
    "        processor = dict(display_name = PARSER_DISPLAY_NAME, type_ = PARSER_TYPE, default_processor_version = PARSER_VERSION)\n",
    "    )\n",
    "    print('Created New Parser: ', parser.name)"
   ]
  },
  {
   "cell_type": "markdown",
   "id": "acf7f5da-3a30-4206-881d-ade9816f77d8",
   "metadata": {},
   "source": [
    "---\n",
    "## Process Document\n",
    "\n",
    "Document AI has online and batch processing.  These methods are subject to [limits](https://cloud.google.com/document-ai/limits#content_limits) and [qoutas](https://cloud.google.com/document-ai/quotas).  In this case online is limited to 15 pages and batch is limited to 500 pages.  The document is >100 pages so we either have to split it into smaller sections, like pages, for online processing or use batch processing.  Batch processing works for documents stored in GCS.\n",
    "\n",
    "> NOTE: The code below could be extended to many document in many locations."
   ]
  },
  {
   "cell_type": "markdown",
   "id": "9e03d587-aea0-41aa-8a9b-d44365ac2ccd",
   "metadata": {},
   "source": [
    "### Move Document To GCS"
   ]
  },
  {
   "cell_type": "code",
   "execution_count": 16,
   "id": "8aa5b800-dfc1-46fe-959c-2bf94c7c34eb",
   "metadata": {
    "tags": []
   },
   "outputs": [],
   "source": [
    "blob = bucket.blob(f'{SERIES}/{EXPERIMENT}/mlb_rules.pdf')\n",
    "blob.upload_from_string(context_bytes, content_type = 'application/pdf')"
   ]
  },
  {
   "cell_type": "markdown",
   "id": "cf11d785-7540-4f69-99ca-0a40042875ce",
   "metadata": {},
   "source": [
    "### Batch Process Document"
   ]
  },
  {
   "cell_type": "code",
   "execution_count": 17,
   "id": "d782eb32-96b3-409d-8cae-322173160eb7",
   "metadata": {
    "tags": []
   },
   "outputs": [
    {
     "name": "stdout",
     "output_type": "stream",
     "text": [
      "Waiting on batch job to complete: projects/1026793852137/locations/us/operations/6654363295788003058\n",
      "State.SUCCEEDED\n"
     ]
    }
   ],
   "source": [
    "from google.api_core.exceptions import InternalServerError\n",
    "from google.api_core.exceptions import RetryError\n",
    "\n",
    "batch_job = docai_client.batch_process_documents(\n",
    "    request = documentai.BatchProcessRequest(\n",
    "        name = parser.name,\n",
    "        input_documents = documentai.BatchDocumentsInputConfig(\n",
    "            gcs_documents = documentai.GcsDocuments(\n",
    "                documents = [\n",
    "                        documentai.GcsDocument(\n",
    "                            gcs_uri = f'gs://{GCS_BUCKET}/{SERIES}/{EXPERIMENT}/mlb_rules.pdf',\n",
    "                            mime_type = 'application/pdf'\n",
    "                    )\n",
    "                ]\n",
    "            )\n",
    "        ),\n",
    "        document_output_config = documentai.DocumentOutputConfig(\n",
    "            gcs_output_config = documentai.DocumentOutputConfig.GcsOutputConfig(\n",
    "                gcs_uri = f'gs://{GCS_BUCKET}/{SERIES}/{EXPERIMENT}/parsing'\n",
    "            )\n",
    "        ),\n",
    "        process_options = documentai.ProcessOptions(\n",
    "            layout_config = documentai.ProcessOptions.LayoutConfig(\n",
    "                chunking_config = documentai.ProcessOptions.LayoutConfig.ChunkingConfig(\n",
    "                    chunk_size = 100,\n",
    "                    include_ancestor_headings = True,\n",
    "                )\n",
    "            )\n",
    "        )\n",
    "    )\n",
    ")\n",
    "print(f'Waiting on batch job to complete: {batch_job.operation.name}')\n",
    "batch_job.result()\n",
    "        \n",
    "print(documentai.BatchProcessMetadata(batch_job.metadata).state)"
   ]
  },
  {
   "cell_type": "markdown",
   "id": "53cec6d7-79e9-4219-a138-9ad1b5714c4f",
   "metadata": {},
   "source": [
    "### Retrieve Document Parsing Results"
   ]
  },
  {
   "cell_type": "code",
   "execution_count": 18,
   "id": "eb3a84c3-1413-42b5-8f11-4ed59e9dd5ae",
   "metadata": {
    "tags": []
   },
   "outputs": [],
   "source": [
    "documents = []\n",
    "for process in documentai.BatchProcessMetadata(batch_job.metadata).individual_process_statuses:\n",
    "    matches = re.match(r\"gs://(.*?)/(.*)\", process.output_gcs_destination)\n",
    "    output_bucket, output_prefix = matches.groups()\n",
    "    output_blobs = bucket.list_blobs(prefix = output_prefix)\n",
    "    for blob in output_blobs:\n",
    "        document = documentai.Document.from_json(blob.download_as_bytes(), ignore_unknown_fields = True)\n",
    "        documents.append(document)"
   ]
  },
  {
   "cell_type": "code",
   "execution_count": 19,
   "id": "a28ff694-2f82-4dfa-a408-5aede0836c5d",
   "metadata": {
    "tags": []
   },
   "outputs": [
    {
     "data": {
      "text/plain": [
       "1"
      ]
     },
     "execution_count": 19,
     "metadata": {},
     "output_type": "execute_result"
    }
   ],
   "source": [
    "len(documents)"
   ]
  },
  {
   "cell_type": "code",
   "execution_count": 20,
   "id": "97e9527c-bafb-4bce-baf2-9458ccbb90d0",
   "metadata": {
    "tags": []
   },
   "outputs": [],
   "source": [
    "parsed_document = documentai.Document.to_dict(documents[0])"
   ]
  },
  {
   "cell_type": "code",
   "execution_count": 21,
   "id": "17f8b0ca-8988-4738-bf12-30dd8c083365",
   "metadata": {
    "tags": []
   },
   "outputs": [
    {
     "data": {
      "text/plain": [
       "dict_keys(['shard_info', 'document_layout', 'chunked_document', 'mime_type', 'text', 'text_styles', 'pages', 'entities', 'entity_relations', 'text_changes', 'revisions'])"
      ]
     },
     "execution_count": 21,
     "metadata": {},
     "output_type": "execute_result"
    }
   ],
   "source": [
    "parsed_document.keys()"
   ]
  },
  {
   "cell_type": "code",
   "execution_count": 22,
   "id": "0b1c3d4c-ebd2-4d51-8a5c-664456f494ad",
   "metadata": {
    "tags": []
   },
   "outputs": [
    {
     "data": {
      "text/plain": [
       "dict_keys(['chunks'])"
      ]
     },
     "execution_count": 22,
     "metadata": {},
     "output_type": "execute_result"
    }
   ],
   "source": [
    "parsed_document['chunked_document'].keys()"
   ]
  },
  {
   "cell_type": "markdown",
   "id": "20e0c6e4-7c23-484e-ad25-2820104d4c6c",
   "metadata": {},
   "source": [
    "### Parse Chunks\n",
    "\n",
    "Create a list of dictionaries for each chunk"
   ]
  },
  {
   "cell_type": "code",
   "execution_count": 23,
   "id": "76eadb9c-a182-4331-916e-317db837ff97",
   "metadata": {
    "tags": []
   },
   "outputs": [
    {
     "data": {
      "text/plain": [
       "867"
      ]
     },
     "execution_count": 23,
     "metadata": {},
     "output_type": "execute_result"
    }
   ],
   "source": [
    "len(parsed_document['chunked_document']['chunks'])"
   ]
  },
  {
   "cell_type": "code",
   "execution_count": 24,
   "id": "28946d21-d317-497f-8120-7c4e46582078",
   "metadata": {
    "tags": []
   },
   "outputs": [
    {
     "data": {
      "text/plain": [
       "dict_keys(['chunk_id', 'content', 'page_span', 'page_footers', 'source_block_ids', 'page_headers'])"
      ]
     },
     "execution_count": 24,
     "metadata": {},
     "output_type": "execute_result"
    }
   ],
   "source": [
    "parsed_document['chunked_document']['chunks'][0].keys()"
   ]
  },
  {
   "cell_type": "code",
   "execution_count": 25,
   "id": "af3deef2-bbcd-4a07-9317-b75fc79982ab",
   "metadata": {
    "tags": []
   },
   "outputs": [
    {
     "data": {
      "text/plain": [
       "{'chunk_id': 'c1',\n",
       " 'content': '# OFFICIAL BASEBALL RULES\\n\\n2023 Edition TM TM',\n",
       " 'page_span': {'page_start': 1, 'page_end': 7},\n",
       " 'page_footers': [{'text': 'V1',\n",
       "   'page_span': {'page_start': 6, 'page_end': 6}},\n",
       "  {'text': 'vii', 'page_span': {'page_start': 7, 'page_end': 7}}],\n",
       " 'source_block_ids': [],\n",
       " 'page_headers': []}"
      ]
     },
     "execution_count": 25,
     "metadata": {},
     "output_type": "execute_result"
    }
   ],
   "source": [
    "parsed_document['chunked_document']['chunks'][0]"
   ]
  },
  {
   "cell_type": "code",
   "execution_count": 26,
   "id": "3d7a08ef-37aa-4212-9c90-53156a735874",
   "metadata": {
    "tags": []
   },
   "outputs": [],
   "source": [
    "chunks = [\n",
    "    dict(\n",
    "        chunk_id = chunk['chunk_id'],\n",
    "        content = chunk['content'],\n",
    "    ) for chunk in parsed_document['chunked_document']['chunks']\n",
    "]"
   ]
  },
  {
   "cell_type": "code",
   "execution_count": 27,
   "id": "f2282d48-8eca-4a9e-a6fa-fcf7d0359291",
   "metadata": {
    "tags": []
   },
   "outputs": [
    {
     "data": {
      "text/plain": [
       "{'chunk_id': 'c1',\n",
       " 'content': '# OFFICIAL BASEBALL RULES\\n\\n2023 Edition TM TM'}"
      ]
     },
     "execution_count": 27,
     "metadata": {},
     "output_type": "execute_result"
    }
   ],
   "source": [
    "chunks[0]"
   ]
  },
  {
   "cell_type": "markdown",
   "id": "bb51ff15-3e5a-4377-9e63-c004961fb11c",
   "metadata": {},
   "source": [
    "---\n",
    "## Generate Embeddings For Each Chunk\n",
    "\n",
    "Add the embeddings to the chunks dictionary with the [Vertex AI Text embedding API](https://cloud.google.com/vertex-ai/generative-ai/docs/embeddings/get-text-embeddings).\n",
    "\n",
    "The following code create a [batch embeddings prediction](https://cloud.google.com/vertex-ai/generative-ai/docs/embeddings/batch-prediction-genai-embeddings) request for the chunks."
   ]
  },
  {
   "cell_type": "code",
   "execution_count": null,
   "id": "83858850-10f9-4972-b79f-a8c29dc3eced",
   "metadata": {},
   "outputs": [],
   "source": []
  },
  {
   "cell_type": "code",
   "execution_count": null,
   "id": "6e2d77c7-c3fd-44a8-8b87-eaeaa0664d95",
   "metadata": {},
   "outputs": [],
   "source": []
  },
  {
   "cell_type": "code",
   "execution_count": null,
   "id": "da8435ed-42a9-4a40-921d-3db3ac07f888",
   "metadata": {},
   "outputs": [],
   "source": []
  },
  {
   "cell_type": "code",
   "execution_count": null,
   "id": "a5bb0957-296f-451e-99c1-eb0992a22285",
   "metadata": {},
   "outputs": [],
   "source": []
  },
  {
   "cell_type": "code",
   "execution_count": null,
   "id": "c3d43385-f8f6-42a2-bb28-4319a8e395f4",
   "metadata": {},
   "outputs": [],
   "source": []
  },
  {
   "cell_type": "code",
   "execution_count": null,
   "id": "3a66817e-a152-4d01-b21a-73b09420968d",
   "metadata": {},
   "outputs": [],
   "source": []
  },
  {
   "cell_type": "code",
   "execution_count": null,
   "id": "6d69a867-84a2-4fac-ad2f-514ee5261943",
   "metadata": {},
   "outputs": [],
   "source": []
  },
  {
   "cell_type": "code",
   "execution_count": null,
   "id": "5751f98d-1466-46e6-913a-3887fb28a3f8",
   "metadata": {},
   "outputs": [],
   "source": []
  },
  {
   "cell_type": "code",
   "execution_count": null,
   "id": "dc20c60d-8312-4f0a-8fc2-8ef5dd29cd16",
   "metadata": {},
   "outputs": [],
   "source": []
  },
  {
   "cell_type": "markdown",
   "id": "df8e0cdd-8b60-4dc1-90e3-4884e124fec0",
   "metadata": {},
   "source": [
    "---\n",
    "## Save Chunks Locally"
   ]
  },
  {
   "cell_type": "code",
   "execution_count": null,
   "id": "8cd53269-4212-4293-8e79-73dc2e16c0bb",
   "metadata": {},
   "outputs": [],
   "source": []
  },
  {
   "cell_type": "code",
   "execution_count": null,
   "id": "c54b73bc-eb02-44e9-90d7-96881c047f04",
   "metadata": {},
   "outputs": [],
   "source": []
  },
  {
   "cell_type": "code",
   "execution_count": null,
   "id": "0ff0e739-1ae6-4421-9503-7a86e396239d",
   "metadata": {},
   "outputs": [],
   "source": []
  },
  {
   "cell_type": "code",
   "execution_count": null,
   "id": "76ea2719-7835-4eab-9940-f432a98c074c",
   "metadata": {},
   "outputs": [],
   "source": []
  }
 ],
 "metadata": {
  "environment": {
   "kernel": "conda-base-py",
   "name": "workbench-notebooks.m124",
   "type": "gcloud",
   "uri": "us-docker.pkg.dev/deeplearning-platform-release/gcr.io/workbench-notebooks:m124"
  },
  "kernelspec": {
   "display_name": "Python 3 (ipykernel)",
   "language": "python",
   "name": "conda-base-py"
  },
  "language_info": {
   "codemirror_mode": {
    "name": "ipython",
    "version": 3
   },
   "file_extension": ".py",
   "mimetype": "text/x-python",
   "name": "python",
   "nbconvert_exporter": "python",
   "pygments_lexer": "ipython3",
   "version": "3.10.14"
  }
 },
 "nbformat": 4,
 "nbformat_minor": 5
}
