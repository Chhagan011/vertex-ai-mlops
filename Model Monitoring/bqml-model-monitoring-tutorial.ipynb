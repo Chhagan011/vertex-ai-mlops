{
 "cells": [
  {
   "cell_type": "markdown",
   "metadata": {},
   "source": [
    "![tracker](https://us-central1-vertex-ai-mlops-369716.cloudfunctions.net/pixel-tracking?path=statmike%2Fvertex-ai-mlops%2FModel+Monitoring&file=bqml-model-monitoring-tutorial.ipynb)\n",
    "<!--- header table --->\n",
    "<table align=\"left\">\n",
    "  <td style=\"text-align: center\">\n",
    "    <a href=\"https://colab.research.google.com/github/statmike/vertex-ai-mlops/blob/main/Model%20Monitoring/bqml-model-monitoring-tutorial.ipynb\">\n",
    "      <img src=\"https://cloud.google.com/ml-engine/images/colab-logo-32px.png\" alt=\"Google Colaboratory logo\">\n",
    "      <br>Run in<br>Colab\n",
    "    </a>\n",
    "  </td>\n",
    "  <td style=\"text-align: center\">\n",
    "    <a href=\"https://console.cloud.google.com/vertex-ai/colab/import/https%3A%2F%2Fraw.githubusercontent.com%2Fstatmike%2Fvertex-ai-mlops%2Fmain%2FModel%2520Monitoring%2Fbqml-model-monitoring-tutorial.ipynb\">\n",
    "      <img width=\"32px\" src=\"https://lh3.googleusercontent.com/JmcxdQi-qOpctIvWKgPtrzZdJJK-J3sWE1RsfjZNwshCFgE_9fULcNpuXYTilIR2hjwN\" alt=\"Google Cloud Colab Enterprise logo\">\n",
    "      <br>Run in<br>Colab Enterprise\n",
    "    </a>\n",
    "  </td>      \n",
    "  <td style=\"text-align: center\">\n",
    "    <a href=\"https://github.com/statmike/vertex-ai-mlops/blob/main/Model%20Monitoring/bqml-model-monitoring-tutorial.ipynb\">\n",
    "      <img src=\"https://cloud.google.com/ml-engine/images/github-logo-32px.png\" alt=\"GitHub logo\">\n",
    "      <br>View on<br>GitHub\n",
    "    </a>\n",
    "  </td>\n",
    "  <td style=\"text-align: center\">\n",
    "    <a href=\"https://console.cloud.google.com/vertex-ai/workbench/deploy-notebook?download_url=https://raw.githubusercontent.com/statmike/vertex-ai-mlops/main/Model%20Monitoring/bqml-model-monitoring-tutorial.ipynb\">\n",
    "      <img src=\"https://lh3.googleusercontent.com/UiNooY4LUgW_oTvpsNhPpQzsstV5W8F7rYgxgGBD85cWJoLmrOzhVs_ksK_vgx40SHs7jCqkTkCk=e14-rj-sc0xffffff-h130-w32\" alt=\"Vertex AI logo\">\n",
    "      <br>Open in<br>Vertex AI Workbench\n",
    "    </a>\n",
    "  </td>\n",
    "</table>"
   ]
  },
  {
   "cell_type": "markdown",
   "metadata": {
    "id": "jwgBsT4ZeFWn"
   },
   "source": [
    "# BigQuery ML (BQML) - Model Monitoring Tutorial\n",
    "\n",
    "---\n",
    "TODO:\n",
    "- [ ] Write Overview for this notebook that matches the blog post\n",
    "- [ ] link to blog post\n",
    "- [ ] link to introduction notebook\n",
    "- [ ] links for the new functions:\n",
    "    - [ ] search for 'link here' and add links throughout\n",
    "    \n",
    "Questions/Choices:\n",
    "- this has moved from tutorial to full workshop - ok? or think about splitting up into segments?\n",
    "- removed transform only model, may still show monitoring transformed and raw values\n",
    "- removed history table for feature management - another notebook based workflow!\n",
    "---\n",
    "\n"
   ]
  },
  {
   "cell_type": "markdown",
   "metadata": {
    "id": "J_-1oCZ7oQe_"
   },
   "source": [
    "---\n",
    "## Colab Setup\n",
    "\n",
    "When running this notebook in [Colab](https://colab.google/) or [Colab Enterprise](https://cloud.google.com/colab/docs/introduction), this section will authenticate to GCP (follow prompts in the popup) and set the current project for the session."
   ]
  },
  {
   "cell_type": "code",
   "execution_count": 1,
   "metadata": {
    "executionInfo": {
     "elapsed": 178,
     "status": "ok",
     "timestamp": 1710716382256,
     "user": {
      "displayName": "Mike Henderson",
      "userId": "07691629187611687318"
     },
     "user_tz": 240
    },
    "id": "bUeb3Vz9c-cz",
    "tags": []
   },
   "outputs": [],
   "source": [
    "PROJECT_ID = 'statmike-mlops-349915' # replace with project ID"
   ]
  },
  {
   "cell_type": "code",
   "execution_count": 1,
   "metadata": {
    "colab": {
     "base_uri": "https://localhost:8080/"
    },
    "executionInfo": {
     "elapsed": 1769,
     "status": "ok",
     "timestamp": 1710716384851,
     "user": {
      "displayName": "Mike Henderson",
      "userId": "07691629187611687318"
     },
     "user_tz": 240
    },
    "id": "ztC0h14fc-fr",
    "outputId": "16d1144f-1671-4919-edba-31bc197ffc7b",
    "tags": []
   },
   "outputs": [
    {
     "name": "stdout",
     "output_type": "stream",
     "text": [
      "Not a Colab Environment\n"
     ]
    }
   ],
   "source": [
    "try:\n",
    "    from google.colab import auth\n",
    "    auth.authenticate_user(project_id = PROJECT_ID)\n",
    "    print('Colab authorized to GCP')\n",
    "except Exception:\n",
    "    print('Not a Colab Environment')\n",
    "    pass"
   ]
  },
  {
   "cell_type": "markdown",
   "metadata": {},
   "source": [
    "---\n",
    "## Installs\n",
    "\n",
    "The list `packages` contains tuples of package import names and install names.  If the import name is not found then the install name is used to install quitely for the current user."
   ]
  },
  {
   "cell_type": "code",
   "execution_count": 492,
   "metadata": {
    "tags": []
   },
   "outputs": [],
   "source": [
    "# tuples of (import name, install name, min_version)\n",
    "packages = [\n",
    "    ('tensorflow_data_validation', 'tensorflow-data-validation'),\n",
    "    ('tensorflow_metadata', 'tensorflow-metadata'),\n",
    "    ('google.cloud.aiplatform', 'google-cloud-aiplatform'),\n",
    "    ('numpy', 'numpy'),\n",
    "    ('pandas', 'pandas')\n",
    "]\n",
    "\n",
    "import importlib\n",
    "install = False\n",
    "for package in packages:\n",
    "    if not importlib.util.find_spec(package[0]):\n",
    "        print(f'installing package {package[1]}')\n",
    "        install = True\n",
    "        !pip install {package[1]} -U -q --user\n",
    "    elif len(package) == 3:\n",
    "        if importlib.metadata.version(package[0]) < package[2]:\n",
    "            print(f'updating package {package[1]}')\n",
    "            install = True\n",
    "            !pip install {package[1]} -U -q --user"
   ]
  },
  {
   "cell_type": "markdown",
   "metadata": {
    "id": "yt5uZFvRoWLp"
   },
   "source": [
    "---\n",
    "## Setup"
   ]
  },
  {
   "cell_type": "markdown",
   "metadata": {},
   "source": [
    "Packages:"
   ]
  },
  {
   "cell_type": "code",
   "execution_count": 3,
   "metadata": {
    "tags": []
   },
   "outputs": [],
   "source": [
    "import json"
   ]
  },
  {
   "cell_type": "markdown",
   "metadata": {},
   "source": [
    "Clients:"
   ]
  },
  {
   "cell_type": "code",
   "execution_count": 4,
   "metadata": {
    "colab": {
     "base_uri": "https://localhost:8080/"
    },
    "executionInfo": {
     "elapsed": 159,
     "status": "ok",
     "timestamp": 1710716582376,
     "user": {
      "displayName": "Mike Henderson",
      "userId": "07691629187611687318"
     },
     "user_tz": 240
    },
    "id": "14nUE43Oc-ip",
    "outputId": "55b2c2b1-b6ad-42cc-b3cc-d6e3afcaa071",
    "tags": []
   },
   "outputs": [
    {
     "name": "stdout",
     "output_type": "stream",
     "text": [
      "The google.cloud.bigquery extension is already loaded. To reload it, use:\n",
      "  %reload_ext google.cloud.bigquery\n"
     ]
    }
   ],
   "source": [
    "%load_ext google.cloud.bigquery"
   ]
  },
  {
   "cell_type": "markdown",
   "metadata": {},
   "source": [
    "Prepare the code below for your environment.\n",
    "\n",
    "This notebook takes advantage of the [BigQuery IPython magic](https://cloud.google.com/python/docs/reference/bigquery/latest/magics) for legibility and ease of copy/pasting to BigQuery SQL editor.  If this notebook is being used from an environment that can run notebooks it needs further preparation: Colab, Colab Enterprise, Vertex AI Workbench Instances, or BigQuery Studio with a Python Notebook.  The SQL code in these cells uses the fully qualified [BigQuery table](https://cloud.google.com/bigquery/docs/tables-intro) names in the form `projectname.datasetname.tablename`.  Prepare for your environment by:\n",
    "- Edit > Find\n",
    "    - Find: `statmike-mlops-349915`\n",
    "    - Replace: `<your project id>`\n",
    "    - Replace All"
   ]
  },
  {
   "cell_type": "markdown",
   "metadata": {},
   "source": [
    "---\n",
    "## BigQuery Source Data\n",
    "\n",
    "This project will uses the following data source as a tutorial.  It is good for examples like this because it is small, has few columns, but contains categorial and numerical data types.\n",
    "\n",
    "The source table is a BigQuery Public Dataset table.  The following cell uses the [BigQuery IPython magic](https://cloud.google.com/python/docs/reference/bigquery/latest/magics) to retrieve 5 rows of the table for review.  This data is known as [Palmer Penguins](https://allisonhorst.github.io/palmerpenguins/) data: \n",
    "\n",
    "```\n",
    "@Manual{,\n",
    "  title = {palmerpenguins: Palmer Archipelago (Antarctica) penguin data},\n",
    "  author = {Allison Marie Horst and Alison Presmanes Hill and Kristen B Gorman},\n",
    "  year = {2020},\n",
    "  note = {R package version 0.1.0},\n",
    "  doi = {10.5281/zenodo.3960218},\n",
    "  url = {https://allisonhorst.github.io/palmerpenguins/},\n",
    "}\n",
    "```\n",
    "\n",
    "\n",
    "There are 334 observations of 4 numerical features (culman length, culmen depth, flipper length, body mass) and 2  categorical features (island, sex) that represent 3 species of penguins."
   ]
  },
  {
   "cell_type": "code",
   "execution_count": 5,
   "metadata": {
    "tags": []
   },
   "outputs": [
    {
     "data": {
      "application/vnd.jupyter.widget-view+json": {
       "model_id": "e53486e8666a48a397fdcdfd89c80db9",
       "version_major": 2,
       "version_minor": 0
      },
      "text/plain": [
       "Query is running:   0%|          |"
      ]
     },
     "metadata": {},
     "output_type": "display_data"
    },
    {
     "data": {
      "application/vnd.jupyter.widget-view+json": {
       "model_id": "42d3eb280b4e436c819cc85acc68225c",
       "version_major": 2,
       "version_minor": 0
      },
      "text/plain": [
       "Downloading:   0%|          |"
      ]
     },
     "metadata": {},
     "output_type": "display_data"
    },
    {
     "data": {
      "text/html": [
       "<div>\n",
       "<style scoped>\n",
       "    .dataframe tbody tr th:only-of-type {\n",
       "        vertical-align: middle;\n",
       "    }\n",
       "\n",
       "    .dataframe tbody tr th {\n",
       "        vertical-align: top;\n",
       "    }\n",
       "\n",
       "    .dataframe thead th {\n",
       "        text-align: right;\n",
       "    }\n",
       "</style>\n",
       "<table border=\"1\" class=\"dataframe\">\n",
       "  <thead>\n",
       "    <tr style=\"text-align: right;\">\n",
       "      <th></th>\n",
       "      <th>species</th>\n",
       "      <th>island</th>\n",
       "      <th>culmen_length_mm</th>\n",
       "      <th>culmen_depth_mm</th>\n",
       "      <th>flipper_length_mm</th>\n",
       "      <th>body_mass_g</th>\n",
       "      <th>sex</th>\n",
       "    </tr>\n",
       "  </thead>\n",
       "  <tbody>\n",
       "    <tr>\n",
       "      <th>0</th>\n",
       "      <td>Adelie Penguin (Pygoscelis adeliae)</td>\n",
       "      <td>Dream</td>\n",
       "      <td>36.6</td>\n",
       "      <td>18.4</td>\n",
       "      <td>184.0</td>\n",
       "      <td>3475.0</td>\n",
       "      <td>FEMALE</td>\n",
       "    </tr>\n",
       "    <tr>\n",
       "      <th>1</th>\n",
       "      <td>Adelie Penguin (Pygoscelis adeliae)</td>\n",
       "      <td>Dream</td>\n",
       "      <td>39.8</td>\n",
       "      <td>19.1</td>\n",
       "      <td>184.0</td>\n",
       "      <td>4650.0</td>\n",
       "      <td>MALE</td>\n",
       "    </tr>\n",
       "    <tr>\n",
       "      <th>2</th>\n",
       "      <td>Adelie Penguin (Pygoscelis adeliae)</td>\n",
       "      <td>Dream</td>\n",
       "      <td>40.9</td>\n",
       "      <td>18.9</td>\n",
       "      <td>184.0</td>\n",
       "      <td>3900.0</td>\n",
       "      <td>MALE</td>\n",
       "    </tr>\n",
       "    <tr>\n",
       "      <th>3</th>\n",
       "      <td>Chinstrap penguin (Pygoscelis antarctica)</td>\n",
       "      <td>Dream</td>\n",
       "      <td>46.5</td>\n",
       "      <td>17.9</td>\n",
       "      <td>192.0</td>\n",
       "      <td>3500.0</td>\n",
       "      <td>FEMALE</td>\n",
       "    </tr>\n",
       "    <tr>\n",
       "      <th>4</th>\n",
       "      <td>Adelie Penguin (Pygoscelis adeliae)</td>\n",
       "      <td>Dream</td>\n",
       "      <td>37.3</td>\n",
       "      <td>16.8</td>\n",
       "      <td>192.0</td>\n",
       "      <td>3000.0</td>\n",
       "      <td>FEMALE</td>\n",
       "    </tr>\n",
       "  </tbody>\n",
       "</table>\n",
       "</div>"
      ],
      "text/plain": [
       "                                     species island  culmen_length_mm  \\\n",
       "0        Adelie Penguin (Pygoscelis adeliae)  Dream              36.6   \n",
       "1        Adelie Penguin (Pygoscelis adeliae)  Dream              39.8   \n",
       "2        Adelie Penguin (Pygoscelis adeliae)  Dream              40.9   \n",
       "3  Chinstrap penguin (Pygoscelis antarctica)  Dream              46.5   \n",
       "4        Adelie Penguin (Pygoscelis adeliae)  Dream              37.3   \n",
       "\n",
       "   culmen_depth_mm  flipper_length_mm  body_mass_g     sex  \n",
       "0             18.4              184.0       3475.0  FEMALE  \n",
       "1             19.1              184.0       4650.0    MALE  \n",
       "2             18.9              184.0       3900.0    MALE  \n",
       "3             17.9              192.0       3500.0  FEMALE  \n",
       "4             16.8              192.0       3000.0  FEMALE  "
      ]
     },
     "execution_count": 5,
     "metadata": {},
     "output_type": "execute_result"
    }
   ],
   "source": [
    "%%bigquery\n",
    "SELECT *\n",
    "FROM `bigquery-public-data.ml_datasets.penguins`\n",
    "LIMIT 5"
   ]
  },
  {
   "cell_type": "markdown",
   "metadata": {},
   "source": [
    "---\n",
    "## **Goal: Train, Serve, And Monitor A Model**\n",
    "\n",
    "**Train A Model**\n",
    "\n",
    "In this workflow our goal is to train and operationalize a machine leanring model that can classify unidentified penguins into the correct `species` using only measurements (`culmen_length_mm`, `culmen_depth_mm`, `flipper_length_mm`, `body_mass_g`), location (`island`) and gender (`sex`).  That means serving predictions, monitoring features, and potentially retraining the model.\n",
    "\n",
    "**Operationalize The Model**\n",
    "\n",
    "Taking a trained model to production introduces challenges. The model needs to be regularly evaluated to understand it's performance once put into production. This can be challenging as actual values used to assess the accuracy of predictions may arrive later than the predictions. Continuous monitoring bridges this gap with early signals in two key ways. First, monitoring the distributions of each of the models features for shift (called **skew**) from the training data to the current data. Then, also monitoring for any gradual **drift** in the distribution over time. Setting thresholds and getting alerts for features on each of this distribution changes gives early signals that the model needs to be carefully considered for evaluation and re-training to ensure effectiveness. If the evaluation can be automated then this can even extend to **continuous training**. "
   ]
  },
  {
   "cell_type": "markdown",
   "metadata": {},
   "source": [
    "---\n",
    "## Data Preparation"
   ]
  },
  {
   "cell_type": "markdown",
   "metadata": {
    "tags": []
   },
   "source": [
    "### Understand The Data Source With `ML.DESCRIBE_DATA`\n",
    "\n",
    "Reviewing a few records, like above, gives a good sense of how the data is arranged. Before proceeding with machine learning techniques it is important to understand more about these raw columns.  Are they ready to use a features in a model or is some form of feature engineering needed first?  For this, the distribution of values is an important starting point.  \n",
    "\n",
    "While SQL could be used to look at the distribution, it would be a time consuming process and requires different techniques for different data types like numerical, string, boolean, dates, times, array and struct version of these, and arrays of structs.\n",
    "\n",
    "To make this process fast and simple, the new [`ML.DESCRIBE_DATA`](https://cloud.google.com/bigquery/docs/reference/standard-sql/bigqueryml-syntax-describe-data)\n",
    "\n",
    "function is used to get a single row for each column the describes the data distribution:"
   ]
  },
  {
   "cell_type": "code",
   "execution_count": 6,
   "metadata": {
    "tags": []
   },
   "outputs": [
    {
     "data": {
      "application/vnd.jupyter.widget-view+json": {
       "model_id": "afb8ed0892bb4b36a756a5535fbf09fe",
       "version_major": 2,
       "version_minor": 0
      },
      "text/plain": [
       "Query is running:   0%|          |"
      ]
     },
     "metadata": {},
     "output_type": "display_data"
    },
    {
     "data": {
      "application/vnd.jupyter.widget-view+json": {
       "model_id": "fb86d6f998e648128166783ca54aa1e4",
       "version_major": 2,
       "version_minor": 0
      },
      "text/plain": [
       "Downloading:   0%|          |"
      ]
     },
     "metadata": {},
     "output_type": "display_data"
    },
    {
     "data": {
      "text/html": [
       "<div>\n",
       "<style scoped>\n",
       "    .dataframe tbody tr th:only-of-type {\n",
       "        vertical-align: middle;\n",
       "    }\n",
       "\n",
       "    .dataframe tbody tr th {\n",
       "        vertical-align: top;\n",
       "    }\n",
       "\n",
       "    .dataframe thead th {\n",
       "        text-align: right;\n",
       "    }\n",
       "</style>\n",
       "<table border=\"1\" class=\"dataframe\">\n",
       "  <thead>\n",
       "    <tr style=\"text-align: right;\">\n",
       "      <th></th>\n",
       "      <th>name</th>\n",
       "      <th>num_rows</th>\n",
       "      <th>num_nulls</th>\n",
       "      <th>num_zeros</th>\n",
       "      <th>min</th>\n",
       "      <th>max</th>\n",
       "      <th>mean</th>\n",
       "      <th>stddev</th>\n",
       "      <th>median</th>\n",
       "      <th>quantiles</th>\n",
       "      <th>unique</th>\n",
       "      <th>avg_string_length</th>\n",
       "      <th>num_values</th>\n",
       "      <th>top_values</th>\n",
       "      <th>min_array_length</th>\n",
       "      <th>max_array_length</th>\n",
       "      <th>avg_array_length</th>\n",
       "      <th>total_array_length</th>\n",
       "      <th>array_length_quantiles</th>\n",
       "      <th>dimension</th>\n",
       "    </tr>\n",
       "  </thead>\n",
       "  <tbody>\n",
       "    <tr>\n",
       "      <th>0</th>\n",
       "      <td>body_mass_g</td>\n",
       "      <td>344</td>\n",
       "      <td>2</td>\n",
       "      <td>0</td>\n",
       "      <td>2700</td>\n",
       "      <td>6300</td>\n",
       "      <td>4201.754386</td>\n",
       "      <td>800.781229</td>\n",
       "      <td>4000.0</td>\n",
       "      <td>[2700.0, 4000.0, 6300.0]</td>\n",
       "      <td>&lt;NA&gt;</td>\n",
       "      <td>NaN</td>\n",
       "      <td>342</td>\n",
       "      <td>[]</td>\n",
       "      <td>&lt;NA&gt;</td>\n",
       "      <td>&lt;NA&gt;</td>\n",
       "      <td>NaN</td>\n",
       "      <td>&lt;NA&gt;</td>\n",
       "      <td>[]</td>\n",
       "      <td>&lt;NA&gt;</td>\n",
       "    </tr>\n",
       "    <tr>\n",
       "      <th>1</th>\n",
       "      <td>culmen_depth_mm</td>\n",
       "      <td>344</td>\n",
       "      <td>2</td>\n",
       "      <td>0</td>\n",
       "      <td>13.1</td>\n",
       "      <td>21.5</td>\n",
       "      <td>17.151170</td>\n",
       "      <td>1.971904</td>\n",
       "      <td>17.3</td>\n",
       "      <td>[13.1, 17.3, 21.5]</td>\n",
       "      <td>&lt;NA&gt;</td>\n",
       "      <td>NaN</td>\n",
       "      <td>342</td>\n",
       "      <td>[]</td>\n",
       "      <td>&lt;NA&gt;</td>\n",
       "      <td>&lt;NA&gt;</td>\n",
       "      <td>NaN</td>\n",
       "      <td>&lt;NA&gt;</td>\n",
       "      <td>[]</td>\n",
       "      <td>&lt;NA&gt;</td>\n",
       "    </tr>\n",
       "    <tr>\n",
       "      <th>2</th>\n",
       "      <td>culmen_length_mm</td>\n",
       "      <td>344</td>\n",
       "      <td>2</td>\n",
       "      <td>0</td>\n",
       "      <td>32.1</td>\n",
       "      <td>59.6</td>\n",
       "      <td>43.921930</td>\n",
       "      <td>5.451596</td>\n",
       "      <td>44.1</td>\n",
       "      <td>[32.1, 44.1, 59.6]</td>\n",
       "      <td>&lt;NA&gt;</td>\n",
       "      <td>NaN</td>\n",
       "      <td>342</td>\n",
       "      <td>[]</td>\n",
       "      <td>&lt;NA&gt;</td>\n",
       "      <td>&lt;NA&gt;</td>\n",
       "      <td>NaN</td>\n",
       "      <td>&lt;NA&gt;</td>\n",
       "      <td>[]</td>\n",
       "      <td>&lt;NA&gt;</td>\n",
       "    </tr>\n",
       "    <tr>\n",
       "      <th>3</th>\n",
       "      <td>flipper_length_mm</td>\n",
       "      <td>344</td>\n",
       "      <td>2</td>\n",
       "      <td>0</td>\n",
       "      <td>172</td>\n",
       "      <td>231</td>\n",
       "      <td>200.915205</td>\n",
       "      <td>14.041141</td>\n",
       "      <td>197.0</td>\n",
       "      <td>[172.0, 197.0, 231.0]</td>\n",
       "      <td>&lt;NA&gt;</td>\n",
       "      <td>NaN</td>\n",
       "      <td>342</td>\n",
       "      <td>[]</td>\n",
       "      <td>&lt;NA&gt;</td>\n",
       "      <td>&lt;NA&gt;</td>\n",
       "      <td>NaN</td>\n",
       "      <td>&lt;NA&gt;</td>\n",
       "      <td>[]</td>\n",
       "      <td>&lt;NA&gt;</td>\n",
       "    </tr>\n",
       "    <tr>\n",
       "      <th>4</th>\n",
       "      <td>island</td>\n",
       "      <td>344</td>\n",
       "      <td>0</td>\n",
       "      <td>&lt;NA&gt;</td>\n",
       "      <td>Biscoe</td>\n",
       "      <td>Torgersen</td>\n",
       "      <td>NaN</td>\n",
       "      <td>NaN</td>\n",
       "      <td>NaN</td>\n",
       "      <td>[]</td>\n",
       "      <td>3</td>\n",
       "      <td>6.093023</td>\n",
       "      <td>344</td>\n",
       "      <td>[{'value': 'Biscoe', 'count': 168}]</td>\n",
       "      <td>&lt;NA&gt;</td>\n",
       "      <td>&lt;NA&gt;</td>\n",
       "      <td>NaN</td>\n",
       "      <td>&lt;NA&gt;</td>\n",
       "      <td>[]</td>\n",
       "      <td>&lt;NA&gt;</td>\n",
       "    </tr>\n",
       "    <tr>\n",
       "      <th>5</th>\n",
       "      <td>sex</td>\n",
       "      <td>344</td>\n",
       "      <td>10</td>\n",
       "      <td>&lt;NA&gt;</td>\n",
       "      <td>.</td>\n",
       "      <td>MALE</td>\n",
       "      <td>NaN</td>\n",
       "      <td>NaN</td>\n",
       "      <td>NaN</td>\n",
       "      <td>[]</td>\n",
       "      <td>3</td>\n",
       "      <td>4.979042</td>\n",
       "      <td>334</td>\n",
       "      <td>[{'value': 'MALE', 'count': 168}]</td>\n",
       "      <td>&lt;NA&gt;</td>\n",
       "      <td>&lt;NA&gt;</td>\n",
       "      <td>NaN</td>\n",
       "      <td>&lt;NA&gt;</td>\n",
       "      <td>[]</td>\n",
       "      <td>&lt;NA&gt;</td>\n",
       "    </tr>\n",
       "    <tr>\n",
       "      <th>6</th>\n",
       "      <td>species</td>\n",
       "      <td>344</td>\n",
       "      <td>0</td>\n",
       "      <td>&lt;NA&gt;</td>\n",
       "      <td>Adelie Penguin (Pygoscelis adeliae)</td>\n",
       "      <td>Gentoo penguin (Pygoscelis papua)</td>\n",
       "      <td>NaN</td>\n",
       "      <td>NaN</td>\n",
       "      <td>NaN</td>\n",
       "      <td>[]</td>\n",
       "      <td>3</td>\n",
       "      <td>35.465116</td>\n",
       "      <td>344</td>\n",
       "      <td>[{'value': 'Adelie Penguin (Pygoscelis adeliae...</td>\n",
       "      <td>&lt;NA&gt;</td>\n",
       "      <td>&lt;NA&gt;</td>\n",
       "      <td>NaN</td>\n",
       "      <td>&lt;NA&gt;</td>\n",
       "      <td>[]</td>\n",
       "      <td>&lt;NA&gt;</td>\n",
       "    </tr>\n",
       "  </tbody>\n",
       "</table>\n",
       "</div>"
      ],
      "text/plain": [
       "                name  num_rows  num_nulls  num_zeros  \\\n",
       "0        body_mass_g       344          2          0   \n",
       "1    culmen_depth_mm       344          2          0   \n",
       "2   culmen_length_mm       344          2          0   \n",
       "3  flipper_length_mm       344          2          0   \n",
       "4             island       344          0       <NA>   \n",
       "5                sex       344         10       <NA>   \n",
       "6            species       344          0       <NA>   \n",
       "\n",
       "                                   min                                max  \\\n",
       "0                                 2700                               6300   \n",
       "1                                 13.1                               21.5   \n",
       "2                                 32.1                               59.6   \n",
       "3                                  172                                231   \n",
       "4                               Biscoe                          Torgersen   \n",
       "5                                    .                               MALE   \n",
       "6  Adelie Penguin (Pygoscelis adeliae)  Gentoo penguin (Pygoscelis papua)   \n",
       "\n",
       "          mean      stddev  median                 quantiles  unique  \\\n",
       "0  4201.754386  800.781229  4000.0  [2700.0, 4000.0, 6300.0]    <NA>   \n",
       "1    17.151170    1.971904    17.3        [13.1, 17.3, 21.5]    <NA>   \n",
       "2    43.921930    5.451596    44.1        [32.1, 44.1, 59.6]    <NA>   \n",
       "3   200.915205   14.041141   197.0     [172.0, 197.0, 231.0]    <NA>   \n",
       "4          NaN         NaN     NaN                        []       3   \n",
       "5          NaN         NaN     NaN                        []       3   \n",
       "6          NaN         NaN     NaN                        []       3   \n",
       "\n",
       "   avg_string_length  num_values  \\\n",
       "0                NaN         342   \n",
       "1                NaN         342   \n",
       "2                NaN         342   \n",
       "3                NaN         342   \n",
       "4           6.093023         344   \n",
       "5           4.979042         334   \n",
       "6          35.465116         344   \n",
       "\n",
       "                                          top_values  min_array_length  \\\n",
       "0                                                 []              <NA>   \n",
       "1                                                 []              <NA>   \n",
       "2                                                 []              <NA>   \n",
       "3                                                 []              <NA>   \n",
       "4                [{'value': 'Biscoe', 'count': 168}]              <NA>   \n",
       "5                  [{'value': 'MALE', 'count': 168}]              <NA>   \n",
       "6  [{'value': 'Adelie Penguin (Pygoscelis adeliae...              <NA>   \n",
       "\n",
       "   max_array_length  avg_array_length  total_array_length  \\\n",
       "0              <NA>               NaN                <NA>   \n",
       "1              <NA>               NaN                <NA>   \n",
       "2              <NA>               NaN                <NA>   \n",
       "3              <NA>               NaN                <NA>   \n",
       "4              <NA>               NaN                <NA>   \n",
       "5              <NA>               NaN                <NA>   \n",
       "6              <NA>               NaN                <NA>   \n",
       "\n",
       "  array_length_quantiles  dimension  \n",
       "0                     []       <NA>  \n",
       "1                     []       <NA>  \n",
       "2                     []       <NA>  \n",
       "3                     []       <NA>  \n",
       "4                     []       <NA>  \n",
       "5                     []       <NA>  \n",
       "6                     []       <NA>  "
      ]
     },
     "execution_count": 6,
     "metadata": {},
     "output_type": "execute_result"
    }
   ],
   "source": [
    "%%bigquery\n",
    "SELECT *\n",
    "FROM ML.DESCRIBE_DATA(\n",
    "  TABLE `bigquery-public-data.ml_datasets.penguins`\n",
    ")"
   ]
  },
  {
   "cell_type": "markdown",
   "metadata": {},
   "source": [
    "Some observations:\n",
    "- All columns have `num_rows` and `num_nulls`\n",
    "- Numerical columns have `min`, `max`, `stddev`, `median`, and `quantiles` showing the distribution of the data in the column\n",
    "- Categorical (string) columns have `min`, `max` values representing the class levels and a `unique` column show how many class levels\n",
    "\n",
    "Data quality observation:\n",
    "- The column `sex` has both missing values (10 indicated in `num_nulls`) as well as a `min` values of `.`.  This appears to be a data quality issue that needs fixing."
   ]
  },
  {
   "cell_type": "markdown",
   "metadata": {
    "tags": []
   },
   "source": [
    "### Create A BigQuery Dataset\n",
    "\n",
    "Create a new [BigQuery Dataset](https://cloud.google.com/bigquery/docs/datasets) as a working location for this workflow:"
   ]
  },
  {
   "cell_type": "code",
   "execution_count": 7,
   "metadata": {
    "tags": []
   },
   "outputs": [
    {
     "data": {
      "application/vnd.jupyter.widget-view+json": {
       "model_id": "2654f734761b40279fa4f8d37733e516",
       "version_major": 2,
       "version_minor": 0
      },
      "text/plain": [
       "Query is running:   0%|          |"
      ]
     },
     "metadata": {},
     "output_type": "display_data"
    },
    {
     "data": {
      "text/html": [
       "<div>\n",
       "<style scoped>\n",
       "    .dataframe tbody tr th:only-of-type {\n",
       "        vertical-align: middle;\n",
       "    }\n",
       "\n",
       "    .dataframe tbody tr th {\n",
       "        vertical-align: top;\n",
       "    }\n",
       "\n",
       "    .dataframe thead th {\n",
       "        text-align: right;\n",
       "    }\n",
       "</style>\n",
       "<table border=\"1\" class=\"dataframe\">\n",
       "  <thead>\n",
       "    <tr style=\"text-align: right;\">\n",
       "      <th></th>\n",
       "    </tr>\n",
       "  </thead>\n",
       "  <tbody>\n",
       "  </tbody>\n",
       "</table>\n",
       "</div>"
      ],
      "text/plain": [
       "Empty DataFrame\n",
       "Columns: []\n",
       "Index: []"
      ]
     },
     "execution_count": 7,
     "metadata": {},
     "output_type": "execute_result"
    }
   ],
   "source": [
    "%%bigquery\n",
    "CREATE SCHEMA IF NOT EXISTS `statmike-mlops-349915.bqml_model_monitoring`\n",
    "    OPTIONS(\n",
    "        location = 'US'\n",
    "    )"
   ]
  },
  {
   "cell_type": "markdown",
   "metadata": {},
   "source": [
    "### Prepare The Source Data\n",
    "\n",
    "Make a copy of the table source in the new BigQuery dataset with fixes applied to the data quality issue identified for the `sex` column with values of `.`.\n",
    "\n",
    "> Note: A copy is being made in this case because the source project is `bigquery-public` which is not editable."
   ]
  },
  {
   "cell_type": "code",
   "execution_count": 8,
   "metadata": {
    "tags": []
   },
   "outputs": [
    {
     "data": {
      "application/vnd.jupyter.widget-view+json": {
       "model_id": "059e0295e28a4b4dae2bcfe8dcecd84b",
       "version_major": 2,
       "version_minor": 0
      },
      "text/plain": [
       "Query is running:   0%|          |"
      ]
     },
     "metadata": {},
     "output_type": "display_data"
    },
    {
     "data": {
      "text/html": [
       "<div>\n",
       "<style scoped>\n",
       "    .dataframe tbody tr th:only-of-type {\n",
       "        vertical-align: middle;\n",
       "    }\n",
       "\n",
       "    .dataframe tbody tr th {\n",
       "        vertical-align: top;\n",
       "    }\n",
       "\n",
       "    .dataframe thead th {\n",
       "        text-align: right;\n",
       "    }\n",
       "</style>\n",
       "<table border=\"1\" class=\"dataframe\">\n",
       "  <thead>\n",
       "    <tr style=\"text-align: right;\">\n",
       "      <th></th>\n",
       "    </tr>\n",
       "  </thead>\n",
       "  <tbody>\n",
       "  </tbody>\n",
       "</table>\n",
       "</div>"
      ],
      "text/plain": [
       "Empty DataFrame\n",
       "Columns: []\n",
       "Index: []"
      ]
     },
     "execution_count": 8,
     "metadata": {},
     "output_type": "execute_result"
    }
   ],
   "source": [
    "%%bigquery\n",
    "CREATE OR REPLACE TABLE `statmike-mlops-349915.bqml_model_monitoring.training` AS\n",
    "    SELECT * EXCEPT(sex),\n",
    "        CASE WHEN sex = '.' THEN NULL ELSE sex END AS sex\n",
    "    FROM `bigquery-public-data.ml_datasets.penguins`"
   ]
  },
  {
   "cell_type": "markdown",
   "metadata": {},
   "source": [
    "### Split The Data\n",
    "\n",
    "Depending on the ML technique, it may be desired to split the data into partitions for training, evaluation, and testing (in this case monitoring examples). \n",
    "\n",
    "The following cell creates a version with a new column column named `splits` with values [`TRAIN`, `EVAL`, `TEST`].  The data is first grouped (stratified) by the values of `species` and `island` to preserve any imbalance across the groups. "
   ]
  },
  {
   "cell_type": "code",
   "execution_count": 9,
   "metadata": {
    "tags": []
   },
   "outputs": [
    {
     "data": {
      "application/vnd.jupyter.widget-view+json": {
       "model_id": "4d849fd6d9d9458a860f37a321377c35",
       "version_major": 2,
       "version_minor": 0
      },
      "text/plain": [
       "Query is running:   0%|          |"
      ]
     },
     "metadata": {},
     "output_type": "display_data"
    },
    {
     "data": {
      "text/html": [
       "<div>\n",
       "<style scoped>\n",
       "    .dataframe tbody tr th:only-of-type {\n",
       "        vertical-align: middle;\n",
       "    }\n",
       "\n",
       "    .dataframe tbody tr th {\n",
       "        vertical-align: top;\n",
       "    }\n",
       "\n",
       "    .dataframe thead th {\n",
       "        text-align: right;\n",
       "    }\n",
       "</style>\n",
       "<table border=\"1\" class=\"dataframe\">\n",
       "  <thead>\n",
       "    <tr style=\"text-align: right;\">\n",
       "      <th></th>\n",
       "    </tr>\n",
       "  </thead>\n",
       "  <tbody>\n",
       "  </tbody>\n",
       "</table>\n",
       "</div>"
      ],
      "text/plain": [
       "Empty DataFrame\n",
       "Columns: []\n",
       "Index: []"
      ]
     },
     "execution_count": 9,
     "metadata": {},
     "output_type": "execute_result"
    }
   ],
   "source": [
    "%%bigquery\n",
    "CREATE OR REPLACE TABLE `statmike-mlops-349915.bqml_model_monitoring.training_split` AS\n",
    "    WITH\n",
    "        # randomized numbering within groups (species, island)\n",
    "        RANDOM AS (\n",
    "            SELECT *,\n",
    "                ROW_NUMBER() OVER (PARTITION BY species, island ORDER BY RAND()) AS sequence\n",
    "            FROM `statmike-mlops-349915.bqml_model_monitoring.training`\n",
    "        ),\n",
    "        # get group sizes\n",
    "        GROUP_SIZES AS (\n",
    "            SELECT species, island, COUNT(*) AS count\n",
    "            FROM `statmike-mlops-349915.bqml_model_monitoring.training`\n",
    "            GROUP BY species, island\n",
    "        )\n",
    "    SELECT\n",
    "        * EXCEPT(sequence, count),\n",
    "        CASE\n",
    "            WHEN sequence <= CEIL(.2 * count) AND species is not Null THEN 'TEST'\n",
    "            WHEN sequence <= CEIL(.3 * count) THEN 'EVAL'\n",
    "            ELSE 'TRAIN'\n",
    "        END AS splits\n",
    "    FROM RANDOM\n",
    "    LEFT OUTER JOIN GROUP_SIZES USING(species, island)"
   ]
  },
  {
   "cell_type": "markdown",
   "metadata": {},
   "source": [
    "Review the data by `splits`:"
   ]
  },
  {
   "cell_type": "code",
   "execution_count": 10,
   "metadata": {
    "tags": []
   },
   "outputs": [
    {
     "data": {
      "application/vnd.jupyter.widget-view+json": {
       "model_id": "2fc10940dcf249fab1b9372ebe7f5171",
       "version_major": 2,
       "version_minor": 0
      },
      "text/plain": [
       "Query is running:   0%|          |"
      ]
     },
     "metadata": {},
     "output_type": "display_data"
    },
    {
     "data": {
      "application/vnd.jupyter.widget-view+json": {
       "model_id": "5bac2a9508124bdda6759b21b65cf186",
       "version_major": 2,
       "version_minor": 0
      },
      "text/plain": [
       "Downloading:   0%|          |"
      ]
     },
     "metadata": {},
     "output_type": "display_data"
    },
    {
     "data": {
      "text/html": [
       "<div>\n",
       "<style scoped>\n",
       "    .dataframe tbody tr th:only-of-type {\n",
       "        vertical-align: middle;\n",
       "    }\n",
       "\n",
       "    .dataframe tbody tr th {\n",
       "        vertical-align: top;\n",
       "    }\n",
       "\n",
       "    .dataframe thead th {\n",
       "        text-align: right;\n",
       "    }\n",
       "</style>\n",
       "<table border=\"1\" class=\"dataframe\">\n",
       "  <thead>\n",
       "    <tr style=\"text-align: right;\">\n",
       "      <th></th>\n",
       "      <th>species</th>\n",
       "      <th>island</th>\n",
       "      <th>count</th>\n",
       "      <th>TRAIN_PCT</th>\n",
       "      <th>EVAL_PCT</th>\n",
       "      <th>TEST_PCT</th>\n",
       "    </tr>\n",
       "  </thead>\n",
       "  <tbody>\n",
       "    <tr>\n",
       "      <th>0</th>\n",
       "      <td>Gentoo penguin (Pygoscelis papua)</td>\n",
       "      <td>Biscoe</td>\n",
       "      <td>124</td>\n",
       "      <td>69.354839</td>\n",
       "      <td>10.483871</td>\n",
       "      <td>20.161290</td>\n",
       "    </tr>\n",
       "    <tr>\n",
       "      <th>1</th>\n",
       "      <td>Adelie Penguin (Pygoscelis adeliae)</td>\n",
       "      <td>Torgersen</td>\n",
       "      <td>52</td>\n",
       "      <td>69.230769</td>\n",
       "      <td>9.615385</td>\n",
       "      <td>21.153846</td>\n",
       "    </tr>\n",
       "    <tr>\n",
       "      <th>2</th>\n",
       "      <td>Adelie Penguin (Pygoscelis adeliae)</td>\n",
       "      <td>Dream</td>\n",
       "      <td>56</td>\n",
       "      <td>69.642857</td>\n",
       "      <td>8.928571</td>\n",
       "      <td>21.428571</td>\n",
       "    </tr>\n",
       "    <tr>\n",
       "      <th>3</th>\n",
       "      <td>Adelie Penguin (Pygoscelis adeliae)</td>\n",
       "      <td>Biscoe</td>\n",
       "      <td>44</td>\n",
       "      <td>68.181818</td>\n",
       "      <td>11.363636</td>\n",
       "      <td>20.454545</td>\n",
       "    </tr>\n",
       "    <tr>\n",
       "      <th>4</th>\n",
       "      <td>Chinstrap penguin (Pygoscelis antarctica)</td>\n",
       "      <td>Dream</td>\n",
       "      <td>68</td>\n",
       "      <td>69.117647</td>\n",
       "      <td>10.294118</td>\n",
       "      <td>20.588235</td>\n",
       "    </tr>\n",
       "  </tbody>\n",
       "</table>\n",
       "</div>"
      ],
      "text/plain": [
       "                                     species     island  count  TRAIN_PCT  \\\n",
       "0          Gentoo penguin (Pygoscelis papua)     Biscoe    124  69.354839   \n",
       "1        Adelie Penguin (Pygoscelis adeliae)  Torgersen     52  69.230769   \n",
       "2        Adelie Penguin (Pygoscelis adeliae)      Dream     56  69.642857   \n",
       "3        Adelie Penguin (Pygoscelis adeliae)     Biscoe     44  68.181818   \n",
       "4  Chinstrap penguin (Pygoscelis antarctica)      Dream     68  69.117647   \n",
       "\n",
       "    EVAL_PCT   TEST_PCT  \n",
       "0  10.483871  20.161290  \n",
       "1   9.615385  21.153846  \n",
       "2   8.928571  21.428571  \n",
       "3  11.363636  20.454545  \n",
       "4  10.294118  20.588235  "
      ]
     },
     "execution_count": 10,
     "metadata": {},
     "output_type": "execute_result"
    }
   ],
   "source": [
    "%%bigquery\n",
    "SELECT species, island,\n",
    "    COUNT(*) as count,\n",
    "    100 * COUNTIF(splits = 'TRAIN')/COUNT(*) AS TRAIN_PCT,\n",
    "    100 * COUNTIF(splits = 'EVAL')/COUNT(*) AS EVAL_PCT,\n",
    "    100 * COUNTIF(splits = 'TEST')/COUNT(*) AS TEST_PCT\n",
    "FROM `statmike-mlops-349915.bqml_model_monitoring.training_split`\n",
    "GROUP BY species, island"
   ]
  },
  {
   "cell_type": "markdown",
   "metadata": {},
   "source": [
    "### Review the Training Split With: `ML.DESCRIBE_DATA`\n",
    "\n",
    "Use [`ML.DESCRIBE_DATA`](https://cloud.google.com/bigquery/docs/reference/standard-sql/bigqueryml-syntax-describe-data) to first review the training split of the source data.  This time, some of the additional parameters of the function are useful:\n",
    "- `top_k`: get the top 3 most frequent categories for string columns (default = 1)\n",
    "- `num_quantiles`: get 4 quantiles for numerical columns (default = 2)"
   ]
  },
  {
   "cell_type": "code",
   "execution_count": 11,
   "metadata": {
    "tags": []
   },
   "outputs": [
    {
     "data": {
      "application/vnd.jupyter.widget-view+json": {
       "model_id": "4861cc00993f4848a5bdd38f7975f3c8",
       "version_major": 2,
       "version_minor": 0
      },
      "text/plain": [
       "Query is running:   0%|          |"
      ]
     },
     "metadata": {},
     "output_type": "display_data"
    },
    {
     "data": {
      "application/vnd.jupyter.widget-view+json": {
       "model_id": "01892f9e4b0d4c89aea14d3d1cfa6443",
       "version_major": 2,
       "version_minor": 0
      },
      "text/plain": [
       "Downloading:   0%|          |"
      ]
     },
     "metadata": {},
     "output_type": "display_data"
    },
    {
     "data": {
      "text/html": [
       "<div>\n",
       "<style scoped>\n",
       "    .dataframe tbody tr th:only-of-type {\n",
       "        vertical-align: middle;\n",
       "    }\n",
       "\n",
       "    .dataframe tbody tr th {\n",
       "        vertical-align: top;\n",
       "    }\n",
       "\n",
       "    .dataframe thead th {\n",
       "        text-align: right;\n",
       "    }\n",
       "</style>\n",
       "<table border=\"1\" class=\"dataframe\">\n",
       "  <thead>\n",
       "    <tr style=\"text-align: right;\">\n",
       "      <th></th>\n",
       "      <th>name</th>\n",
       "      <th>num_rows</th>\n",
       "      <th>num_nulls</th>\n",
       "      <th>num_zeros</th>\n",
       "      <th>min</th>\n",
       "      <th>max</th>\n",
       "      <th>mean</th>\n",
       "      <th>stddev</th>\n",
       "      <th>median</th>\n",
       "      <th>quantiles</th>\n",
       "      <th>unique</th>\n",
       "      <th>avg_string_length</th>\n",
       "      <th>num_values</th>\n",
       "      <th>top_values</th>\n",
       "      <th>min_array_length</th>\n",
       "      <th>max_array_length</th>\n",
       "      <th>avg_array_length</th>\n",
       "      <th>total_array_length</th>\n",
       "      <th>array_length_quantiles</th>\n",
       "      <th>dimension</th>\n",
       "    </tr>\n",
       "  </thead>\n",
       "  <tbody>\n",
       "    <tr>\n",
       "      <th>0</th>\n",
       "      <td>body_mass_g</td>\n",
       "      <td>238</td>\n",
       "      <td>2</td>\n",
       "      <td>0</td>\n",
       "      <td>2850</td>\n",
       "      <td>6050</td>\n",
       "      <td>4198.728814</td>\n",
       "      <td>766.422237</td>\n",
       "      <td>4000.0</td>\n",
       "      <td>[2850.0, 3550.0, 4000.0, 4725.0, 6050.0]</td>\n",
       "      <td>&lt;NA&gt;</td>\n",
       "      <td>NaN</td>\n",
       "      <td>236</td>\n",
       "      <td>[]</td>\n",
       "      <td>&lt;NA&gt;</td>\n",
       "      <td>&lt;NA&gt;</td>\n",
       "      <td>NaN</td>\n",
       "      <td>&lt;NA&gt;</td>\n",
       "      <td>[]</td>\n",
       "      <td>&lt;NA&gt;</td>\n",
       "    </tr>\n",
       "    <tr>\n",
       "      <th>1</th>\n",
       "      <td>culmen_depth_mm</td>\n",
       "      <td>238</td>\n",
       "      <td>2</td>\n",
       "      <td>0</td>\n",
       "      <td>13.2</td>\n",
       "      <td>21.2</td>\n",
       "      <td>17.120339</td>\n",
       "      <td>2.046310</td>\n",
       "      <td>17.3</td>\n",
       "      <td>[13.2, 15.3, 17.3, 18.8, 21.2]</td>\n",
       "      <td>&lt;NA&gt;</td>\n",
       "      <td>NaN</td>\n",
       "      <td>236</td>\n",
       "      <td>[]</td>\n",
       "      <td>&lt;NA&gt;</td>\n",
       "      <td>&lt;NA&gt;</td>\n",
       "      <td>NaN</td>\n",
       "      <td>&lt;NA&gt;</td>\n",
       "      <td>[]</td>\n",
       "      <td>&lt;NA&gt;</td>\n",
       "    </tr>\n",
       "    <tr>\n",
       "      <th>2</th>\n",
       "      <td>culmen_length_mm</td>\n",
       "      <td>238</td>\n",
       "      <td>2</td>\n",
       "      <td>0</td>\n",
       "      <td>32.1</td>\n",
       "      <td>59.6</td>\n",
       "      <td>43.995339</td>\n",
       "      <td>5.507162</td>\n",
       "      <td>44.0</td>\n",
       "      <td>[32.1, 39.5, 44.0, 48.7, 59.6]</td>\n",
       "      <td>&lt;NA&gt;</td>\n",
       "      <td>NaN</td>\n",
       "      <td>236</td>\n",
       "      <td>[]</td>\n",
       "      <td>&lt;NA&gt;</td>\n",
       "      <td>&lt;NA&gt;</td>\n",
       "      <td>NaN</td>\n",
       "      <td>&lt;NA&gt;</td>\n",
       "      <td>[]</td>\n",
       "      <td>&lt;NA&gt;</td>\n",
       "    </tr>\n",
       "    <tr>\n",
       "      <th>3</th>\n",
       "      <td>flipper_length_mm</td>\n",
       "      <td>238</td>\n",
       "      <td>2</td>\n",
       "      <td>0</td>\n",
       "      <td>174</td>\n",
       "      <td>231</td>\n",
       "      <td>200.771186</td>\n",
       "      <td>13.539591</td>\n",
       "      <td>197.0</td>\n",
       "      <td>[174.0, 190.0, 197.0, 212.0, 231.0]</td>\n",
       "      <td>&lt;NA&gt;</td>\n",
       "      <td>NaN</td>\n",
       "      <td>236</td>\n",
       "      <td>[]</td>\n",
       "      <td>&lt;NA&gt;</td>\n",
       "      <td>&lt;NA&gt;</td>\n",
       "      <td>NaN</td>\n",
       "      <td>&lt;NA&gt;</td>\n",
       "      <td>[]</td>\n",
       "      <td>&lt;NA&gt;</td>\n",
       "    </tr>\n",
       "    <tr>\n",
       "      <th>4</th>\n",
       "      <td>island</td>\n",
       "      <td>238</td>\n",
       "      <td>0</td>\n",
       "      <td>&lt;NA&gt;</td>\n",
       "      <td>Biscoe</td>\n",
       "      <td>Torgersen</td>\n",
       "      <td>NaN</td>\n",
       "      <td>NaN</td>\n",
       "      <td>NaN</td>\n",
       "      <td>[]</td>\n",
       "      <td>3</td>\n",
       "      <td>6.092437</td>\n",
       "      <td>238</td>\n",
       "      <td>[{'value': 'Biscoe', 'count': 116}, {'value': ...</td>\n",
       "      <td>&lt;NA&gt;</td>\n",
       "      <td>&lt;NA&gt;</td>\n",
       "      <td>NaN</td>\n",
       "      <td>&lt;NA&gt;</td>\n",
       "      <td>[]</td>\n",
       "      <td>&lt;NA&gt;</td>\n",
       "    </tr>\n",
       "    <tr>\n",
       "      <th>5</th>\n",
       "      <td>sex</td>\n",
       "      <td>238</td>\n",
       "      <td>9</td>\n",
       "      <td>&lt;NA&gt;</td>\n",
       "      <td>FEMALE</td>\n",
       "      <td>MALE</td>\n",
       "      <td>NaN</td>\n",
       "      <td>NaN</td>\n",
       "      <td>NaN</td>\n",
       "      <td>[]</td>\n",
       "      <td>2</td>\n",
       "      <td>4.969432</td>\n",
       "      <td>229</td>\n",
       "      <td>[{'value': 'MALE', 'count': 118}, {'value': 'F...</td>\n",
       "      <td>&lt;NA&gt;</td>\n",
       "      <td>&lt;NA&gt;</td>\n",
       "      <td>NaN</td>\n",
       "      <td>&lt;NA&gt;</td>\n",
       "      <td>[]</td>\n",
       "      <td>&lt;NA&gt;</td>\n",
       "    </tr>\n",
       "    <tr>\n",
       "      <th>6</th>\n",
       "      <td>species</td>\n",
       "      <td>238</td>\n",
       "      <td>0</td>\n",
       "      <td>&lt;NA&gt;</td>\n",
       "      <td>Adelie Penguin (Pygoscelis adeliae)</td>\n",
       "      <td>Gentoo penguin (Pygoscelis papua)</td>\n",
       "      <td>NaN</td>\n",
       "      <td>NaN</td>\n",
       "      <td>NaN</td>\n",
       "      <td>[]</td>\n",
       "      <td>3</td>\n",
       "      <td>35.462185</td>\n",
       "      <td>238</td>\n",
       "      <td>[{'value': 'Adelie Penguin (Pygoscelis adeliae...</td>\n",
       "      <td>&lt;NA&gt;</td>\n",
       "      <td>&lt;NA&gt;</td>\n",
       "      <td>NaN</td>\n",
       "      <td>&lt;NA&gt;</td>\n",
       "      <td>[]</td>\n",
       "      <td>&lt;NA&gt;</td>\n",
       "    </tr>\n",
       "  </tbody>\n",
       "</table>\n",
       "</div>"
      ],
      "text/plain": [
       "                name  num_rows  num_nulls  num_zeros  \\\n",
       "0        body_mass_g       238          2          0   \n",
       "1    culmen_depth_mm       238          2          0   \n",
       "2   culmen_length_mm       238          2          0   \n",
       "3  flipper_length_mm       238          2          0   \n",
       "4             island       238          0       <NA>   \n",
       "5                sex       238          9       <NA>   \n",
       "6            species       238          0       <NA>   \n",
       "\n",
       "                                   min                                max  \\\n",
       "0                                 2850                               6050   \n",
       "1                                 13.2                               21.2   \n",
       "2                                 32.1                               59.6   \n",
       "3                                  174                                231   \n",
       "4                               Biscoe                          Torgersen   \n",
       "5                               FEMALE                               MALE   \n",
       "6  Adelie Penguin (Pygoscelis adeliae)  Gentoo penguin (Pygoscelis papua)   \n",
       "\n",
       "          mean      stddev  median                                 quantiles  \\\n",
       "0  4198.728814  766.422237  4000.0  [2850.0, 3550.0, 4000.0, 4725.0, 6050.0]   \n",
       "1    17.120339    2.046310    17.3            [13.2, 15.3, 17.3, 18.8, 21.2]   \n",
       "2    43.995339    5.507162    44.0            [32.1, 39.5, 44.0, 48.7, 59.6]   \n",
       "3   200.771186   13.539591   197.0       [174.0, 190.0, 197.0, 212.0, 231.0]   \n",
       "4          NaN         NaN     NaN                                        []   \n",
       "5          NaN         NaN     NaN                                        []   \n",
       "6          NaN         NaN     NaN                                        []   \n",
       "\n",
       "   unique  avg_string_length  num_values  \\\n",
       "0    <NA>                NaN         236   \n",
       "1    <NA>                NaN         236   \n",
       "2    <NA>                NaN         236   \n",
       "3    <NA>                NaN         236   \n",
       "4       3           6.092437         238   \n",
       "5       2           4.969432         229   \n",
       "6       3          35.462185         238   \n",
       "\n",
       "                                          top_values  min_array_length  \\\n",
       "0                                                 []              <NA>   \n",
       "1                                                 []              <NA>   \n",
       "2                                                 []              <NA>   \n",
       "3                                                 []              <NA>   \n",
       "4  [{'value': 'Biscoe', 'count': 116}, {'value': ...              <NA>   \n",
       "5  [{'value': 'MALE', 'count': 118}, {'value': 'F...              <NA>   \n",
       "6  [{'value': 'Adelie Penguin (Pygoscelis adeliae...              <NA>   \n",
       "\n",
       "   max_array_length  avg_array_length  total_array_length  \\\n",
       "0              <NA>               NaN                <NA>   \n",
       "1              <NA>               NaN                <NA>   \n",
       "2              <NA>               NaN                <NA>   \n",
       "3              <NA>               NaN                <NA>   \n",
       "4              <NA>               NaN                <NA>   \n",
       "5              <NA>               NaN                <NA>   \n",
       "6              <NA>               NaN                <NA>   \n",
       "\n",
       "  array_length_quantiles  dimension  \n",
       "0                     []       <NA>  \n",
       "1                     []       <NA>  \n",
       "2                     []       <NA>  \n",
       "3                     []       <NA>  \n",
       "4                     []       <NA>  \n",
       "5                     []       <NA>  \n",
       "6                     []       <NA>  "
      ]
     },
     "execution_count": 11,
     "metadata": {},
     "output_type": "execute_result"
    }
   ],
   "source": [
    "%%bigquery\n",
    "SELECT *\n",
    "FROM ML.DESCRIBE_DATA(\n",
    "    (\n",
    "        SELECT * EXCEPT(splits)\n",
    "        FROM `statmike-mlops-349915.bqml_model_monitoring.training_split`\n",
    "        WHERE splits = 'TRAIN'\n",
    "    ),\n",
    "    STRUCT(3 AS top_k, 4 AS num_quantiles)\n",
    ")"
   ]
  },
  {
   "cell_type": "markdown",
   "metadata": {
    "tags": []
   },
   "source": [
    "---\n",
    "## Model Training\n",
    "\n",
    "Create a model trained to classify `species` for the traning records.  Here, directly in BigQuery, the [`CREATE MODEL` statement for random forest](https://cloud.google.com/bigquery/docs/reference/standard-sql/bigqueryml-syntax-create-random-forest) is used.  This uses the `TRANSFORM` clause within the model to embed user specified transfomations within the model for use during serving and model monitoring which will both be show later in this introduction.\n",
    "\n",
    "From reviewing the training data above, the following transformations will be tried:\n",
    "- Apply [`ML.ROBUST_SCALER`](https://cloud.google.com/bigquery/docs/reference/standard-sql/bigqueryml-syntax-robust-scaler) to `body_mass_g`\n",
    "- Apply [`ML.STANDARD_SCALER`](https://cloud.google.com/bigquery/docs/reference/standard-sql/bigqueryml-syntax-standard-scaler) to `culmen_depth_mm` and `culmen_length_mm`\n",
    "- Apply [`ML.QUANTILE_BUCKATIZE`](https://cloud.google.com/bigquery/docs/reference/standard-sql/bigqueryml-syntax-quantile-bucketize) to `flipper_length_mm`\n",
    "- Apply [`ML.IMPUTER`](https://cloud.google.com/bigquery/docs/reference/standard-sql/bigqueryml-syntax-imputer) to `island`, and `sex`"
   ]
  },
  {
   "cell_type": "code",
   "execution_count": 205,
   "metadata": {
    "tags": []
   },
   "outputs": [
    {
     "data": {
      "application/vnd.jupyter.widget-view+json": {
       "model_id": "3134f1ac7cdc40aa84b5e62abc3dd205",
       "version_major": 2,
       "version_minor": 0
      },
      "text/plain": [
       "Query is running:   0%|          |"
      ]
     },
     "metadata": {},
     "output_type": "display_data"
    },
    {
     "data": {
      "text/html": [
       "<div>\n",
       "<style scoped>\n",
       "    .dataframe tbody tr th:only-of-type {\n",
       "        vertical-align: middle;\n",
       "    }\n",
       "\n",
       "    .dataframe tbody tr th {\n",
       "        vertical-align: top;\n",
       "    }\n",
       "\n",
       "    .dataframe thead th {\n",
       "        text-align: right;\n",
       "    }\n",
       "</style>\n",
       "<table border=\"1\" class=\"dataframe\">\n",
       "  <thead>\n",
       "    <tr style=\"text-align: right;\">\n",
       "      <th></th>\n",
       "    </tr>\n",
       "  </thead>\n",
       "  <tbody>\n",
       "  </tbody>\n",
       "</table>\n",
       "</div>"
      ],
      "text/plain": [
       "Empty DataFrame\n",
       "Columns: []\n",
       "Index: []"
      ]
     },
     "execution_count": 205,
     "metadata": {},
     "output_type": "execute_result"
    }
   ],
   "source": [
    "%%bigquery\n",
    "CREATE OR REPLACE MODEL `statmike-mlops-349915.bqml_model_monitoring.classify_species_rf`\n",
    "    TRANSFORM(\n",
    "        ML.ROBUST_SCALER(body_mass_g) OVER() AS body_mass_g,\n",
    "        ML.STANDARD_SCALER(culmen_length_mm) OVER() AS culmen_length_mm,\n",
    "        ML.STANDARD_SCALER(culmen_depth_mm) OVER() AS culmen_depth_mm,\n",
    "        ML.QUANTILE_BUCKETIZE(flipper_length_mm, 3) OVER() AS flipper_length_mm,\n",
    "        ML.IMPUTER(sex, 'most_frequent') OVER() AS sex,\n",
    "        ML.IMPUTER(island, 'most_frequent') OVER() AS island,\n",
    "        species, split\n",
    "    )\n",
    "    OPTIONS(\n",
    "        MODEL_TYPE = 'RANDOM_FOREST_CLASSIFIER',\n",
    "        INPUT_LABEL_COLS = ['species'],\n",
    "        \n",
    "        # data specifics\n",
    "        DATA_SPLIT_METHOD = 'CUSTOM',\n",
    "        DATA_SPLIT_COL = 'split',\n",
    "        \n",
    "        # model specifics\n",
    "        AUTO_CLASS_WEIGHTS = FALSE,\n",
    "        NUM_PARALLEL_TREE= 150,\n",
    "        TREE_METHOD = 'HIST',\n",
    "        SUBSAMPLE = 0.85,\n",
    "        COLSAMPLE_BYTREE = 0.9,\n",
    "        ENABLE_GLOBAL_EXPLAIN = TRUE,\n",
    "        \n",
    "        # register model in Vertex AI For Online Serving\n",
    "        MODEL_REGISTRY = 'VERTEX_AI'\n",
    "    )\n",
    "AS\n",
    "    SELECT * EXCEPT(splits),\n",
    "        CASE WHEN splits = 'TRAIN' THEN FALSE\n",
    "        ELSE TRUE END AS split\n",
    "    FROM `statmike-mlops-349915.bqml_model_monitoring.training_split`\n",
    "    WHERE splits != 'TEST'"
   ]
  },
  {
   "cell_type": "code",
   "execution_count": 317,
   "metadata": {
    "tags": []
   },
   "outputs": [
    {
     "data": {
      "application/vnd.jupyter.widget-view+json": {
       "model_id": "7105d30087114a32802df54eadeae014",
       "version_major": 2,
       "version_minor": 0
      },
      "text/plain": [
       "Query is running:   0%|          |"
      ]
     },
     "metadata": {},
     "output_type": "display_data"
    },
    {
     "data": {
      "application/vnd.jupyter.widget-view+json": {
       "model_id": "39212e15ab2344bfb0b11640236713a6",
       "version_major": 2,
       "version_minor": 0
      },
      "text/plain": [
       "Downloading:   0%|          |"
      ]
     },
     "metadata": {},
     "output_type": "display_data"
    },
    {
     "data": {
      "text/html": [
       "<div>\n",
       "<style scoped>\n",
       "    .dataframe tbody tr th:only-of-type {\n",
       "        vertical-align: middle;\n",
       "    }\n",
       "\n",
       "    .dataframe tbody tr th {\n",
       "        vertical-align: top;\n",
       "    }\n",
       "\n",
       "    .dataframe thead th {\n",
       "        text-align: right;\n",
       "    }\n",
       "</style>\n",
       "<table border=\"1\" class=\"dataframe\">\n",
       "  <thead>\n",
       "    <tr style=\"text-align: right;\">\n",
       "      <th></th>\n",
       "      <th>training_run</th>\n",
       "      <th>iteration</th>\n",
       "      <th>loss</th>\n",
       "      <th>eval_loss</th>\n",
       "      <th>learning_rate</th>\n",
       "      <th>duration_ms</th>\n",
       "    </tr>\n",
       "  </thead>\n",
       "  <tbody>\n",
       "    <tr>\n",
       "      <th>0</th>\n",
       "      <td>0</td>\n",
       "      <td>1</td>\n",
       "      <td>0.249635</td>\n",
       "      <td>0.290995</td>\n",
       "      <td>1.0</td>\n",
       "      <td>83623</td>\n",
       "    </tr>\n",
       "  </tbody>\n",
       "</table>\n",
       "</div>"
      ],
      "text/plain": [
       "   training_run  iteration      loss  eval_loss  learning_rate  duration_ms\n",
       "0             0          1  0.249635   0.290995            1.0        83623"
      ]
     },
     "execution_count": 317,
     "metadata": {},
     "output_type": "execute_result"
    }
   ],
   "source": [
    "%%bigquery\n",
    "SELECT *\n",
    "FROM ML.TRAINING_INFO(MODEL `statmike-mlops-349915.bqml_model_monitoring.classify_species_rf`)\n",
    "ORDER BY iteration"
   ]
  },
  {
   "cell_type": "markdown",
   "metadata": {},
   "source": [
    "### Evaluation With `ML.EVALUATE`\n",
    "\n",
    "BigQuery ML models can be directly evaluated with the [`ML.EVALUATE` function](https://cloud.google.com/bigquery/docs/reference/standard-sql/bigqueryml-syntax-evaluate).  The evaluation of the model on evaluation data specified during training can be done by just specifying the model.  To evaluate the model on new data, like a `TEST` split or even the `TRAIN` split, the records can be specified with a query statement as seen in the following evaluations.\n",
    "\n",
    "> An evaluation split with 10% of records was created above.  This set would normally be used for tuning model hyperparameters, like `BATCH_SIZE`, `DROPOUT`, `HIDDEN_UNITS`, `LEARN_RATE`, and/or `OPTIMIZER` in the case of the DNN used here.  This could also be done directly in the BigQuery `CREATE MODEL` statement with [hyperparameter tuning](https://cloud.google.com/bigquery/docs/hp-tuning-overview)."
   ]
  },
  {
   "cell_type": "code",
   "execution_count": 318,
   "metadata": {
    "tags": []
   },
   "outputs": [
    {
     "data": {
      "application/vnd.jupyter.widget-view+json": {
       "model_id": "b66b4b478e4b47bfa9b26afd31f157ad",
       "version_major": 2,
       "version_minor": 0
      },
      "text/plain": [
       "Query is running:   0%|          |"
      ]
     },
     "metadata": {},
     "output_type": "display_data"
    },
    {
     "data": {
      "application/vnd.jupyter.widget-view+json": {
       "model_id": "16c37c4364ca49589b821fad126d4d19",
       "version_major": 2,
       "version_minor": 0
      },
      "text/plain": [
       "Downloading:   0%|          |"
      ]
     },
     "metadata": {},
     "output_type": "display_data"
    },
    {
     "data": {
      "text/html": [
       "<div>\n",
       "<style scoped>\n",
       "    .dataframe tbody tr th:only-of-type {\n",
       "        vertical-align: middle;\n",
       "    }\n",
       "\n",
       "    .dataframe tbody tr th {\n",
       "        vertical-align: top;\n",
       "    }\n",
       "\n",
       "    .dataframe thead th {\n",
       "        text-align: right;\n",
       "    }\n",
       "</style>\n",
       "<table border=\"1\" class=\"dataframe\">\n",
       "  <thead>\n",
       "    <tr style=\"text-align: right;\">\n",
       "      <th></th>\n",
       "      <th>precision</th>\n",
       "      <th>recall</th>\n",
       "      <th>accuracy</th>\n",
       "      <th>f1_score</th>\n",
       "      <th>log_loss</th>\n",
       "      <th>roc_auc</th>\n",
       "    </tr>\n",
       "  </thead>\n",
       "  <tbody>\n",
       "    <tr>\n",
       "      <th>0</th>\n",
       "      <td>0.958333</td>\n",
       "      <td>0.977778</td>\n",
       "      <td>0.971429</td>\n",
       "      <td>0.966284</td>\n",
       "      <td>0.287481</td>\n",
       "      <td>1.0</td>\n",
       "    </tr>\n",
       "  </tbody>\n",
       "</table>\n",
       "</div>"
      ],
      "text/plain": [
       "   precision    recall  accuracy  f1_score  log_loss  roc_auc\n",
       "0   0.958333  0.977778  0.971429  0.966284  0.287481      1.0"
      ]
     },
     "execution_count": 318,
     "metadata": {},
     "output_type": "execute_result"
    }
   ],
   "source": [
    "%%bigquery\n",
    "SELECT *\n",
    "FROM ML.EVALUATE (\n",
    "    MODEL `statmike-mlops-349915.bqml_model_monitoring.classify_species_rf`\n",
    ")"
   ]
  },
  {
   "cell_type": "markdown",
   "metadata": {},
   "source": [
    "### Evaluate The Model: Training Data Split (`TRAIN`)\n",
    "\n",
    "Evaluating the model on the training data is good for setting a baseline for the likely best possible performance of the model.  "
   ]
  },
  {
   "cell_type": "code",
   "execution_count": 319,
   "metadata": {
    "tags": []
   },
   "outputs": [
    {
     "data": {
      "application/vnd.jupyter.widget-view+json": {
       "model_id": "738d4d0b78a548df8ec7b58a58f3b111",
       "version_major": 2,
       "version_minor": 0
      },
      "text/plain": [
       "Query is running:   0%|          |"
      ]
     },
     "metadata": {},
     "output_type": "display_data"
    },
    {
     "data": {
      "application/vnd.jupyter.widget-view+json": {
       "model_id": "d9d76c0735ce4f6eb0671e43fe6dc9c7",
       "version_major": 2,
       "version_minor": 0
      },
      "text/plain": [
       "Downloading:   0%|          |"
      ]
     },
     "metadata": {},
     "output_type": "display_data"
    },
    {
     "data": {
      "text/html": [
       "<div>\n",
       "<style scoped>\n",
       "    .dataframe tbody tr th:only-of-type {\n",
       "        vertical-align: middle;\n",
       "    }\n",
       "\n",
       "    .dataframe tbody tr th {\n",
       "        vertical-align: top;\n",
       "    }\n",
       "\n",
       "    .dataframe thead th {\n",
       "        text-align: right;\n",
       "    }\n",
       "</style>\n",
       "<table border=\"1\" class=\"dataframe\">\n",
       "  <thead>\n",
       "    <tr style=\"text-align: right;\">\n",
       "      <th></th>\n",
       "      <th>precision</th>\n",
       "      <th>recall</th>\n",
       "      <th>accuracy</th>\n",
       "      <th>f1_score</th>\n",
       "      <th>log_loss</th>\n",
       "      <th>roc_auc</th>\n",
       "    </tr>\n",
       "  </thead>\n",
       "  <tbody>\n",
       "    <tr>\n",
       "      <th>0</th>\n",
       "      <td>0.996855</td>\n",
       "      <td>0.996124</td>\n",
       "      <td>0.995798</td>\n",
       "      <td>0.996471</td>\n",
       "      <td>0.255729</td>\n",
       "      <td>1.0</td>\n",
       "    </tr>\n",
       "  </tbody>\n",
       "</table>\n",
       "</div>"
      ],
      "text/plain": [
       "   precision    recall  accuracy  f1_score  log_loss  roc_auc\n",
       "0   0.996855  0.996124  0.995798  0.996471  0.255729      1.0"
      ]
     },
     "execution_count": 319,
     "metadata": {},
     "output_type": "execute_result"
    }
   ],
   "source": [
    "%%bigquery\n",
    "SELECT *\n",
    "FROM ML.EVALUATE (\n",
    "    MODEL `statmike-mlops-349915.bqml_model_monitoring.classify_species_rf`,\n",
    "    (\n",
    "        SELECT *\n",
    "        FROM `statmike-mlops-349915.bqml_model_monitoring.training_split`\n",
    "        WHERE splits = 'TRAIN'\n",
    "    )\n",
    ")"
   ]
  },
  {
   "cell_type": "markdown",
   "metadata": {},
   "source": [
    "### Evaluate The Model: `TEST` Data Split\n",
    "\n",
    "Evaluating the model on the `TEST` split is a good gauge of performance in general as it represents data the model was not exposed to during training: "
   ]
  },
  {
   "cell_type": "code",
   "execution_count": 320,
   "metadata": {
    "tags": []
   },
   "outputs": [
    {
     "data": {
      "application/vnd.jupyter.widget-view+json": {
       "model_id": "77dedfc8d3c94de7bd976c3a704e1faf",
       "version_major": 2,
       "version_minor": 0
      },
      "text/plain": [
       "Query is running:   0%|          |"
      ]
     },
     "metadata": {},
     "output_type": "display_data"
    },
    {
     "data": {
      "application/vnd.jupyter.widget-view+json": {
       "model_id": "396a79c6f6f54bd38fd675099e7f4b24",
       "version_major": 2,
       "version_minor": 0
      },
      "text/plain": [
       "Downloading:   0%|          |"
      ]
     },
     "metadata": {},
     "output_type": "display_data"
    },
    {
     "data": {
      "text/html": [
       "<div>\n",
       "<style scoped>\n",
       "    .dataframe tbody tr th:only-of-type {\n",
       "        vertical-align: middle;\n",
       "    }\n",
       "\n",
       "    .dataframe tbody tr th {\n",
       "        vertical-align: top;\n",
       "    }\n",
       "\n",
       "    .dataframe thead th {\n",
       "        text-align: right;\n",
       "    }\n",
       "</style>\n",
       "<table border=\"1\" class=\"dataframe\">\n",
       "  <thead>\n",
       "    <tr style=\"text-align: right;\">\n",
       "      <th></th>\n",
       "      <th>precision</th>\n",
       "      <th>recall</th>\n",
       "      <th>accuracy</th>\n",
       "      <th>f1_score</th>\n",
       "      <th>log_loss</th>\n",
       "      <th>roc_auc</th>\n",
       "    </tr>\n",
       "  </thead>\n",
       "  <tbody>\n",
       "    <tr>\n",
       "      <th>0</th>\n",
       "      <td>0.980392</td>\n",
       "      <td>0.952381</td>\n",
       "      <td>0.971831</td>\n",
       "      <td>0.964258</td>\n",
       "      <td>0.35524</td>\n",
       "      <td>0.987631</td>\n",
       "    </tr>\n",
       "  </tbody>\n",
       "</table>\n",
       "</div>"
      ],
      "text/plain": [
       "   precision    recall  accuracy  f1_score  log_loss   roc_auc\n",
       "0   0.980392  0.952381  0.971831  0.964258   0.35524  0.987631"
      ]
     },
     "execution_count": 320,
     "metadata": {},
     "output_type": "execute_result"
    }
   ],
   "source": [
    "%%bigquery\n",
    "SELECT *\n",
    "FROM ML.EVALUATE (\n",
    "    MODEL `statmike-mlops-349915.bqml_model_monitoring.classify_species_rf`,\n",
    "    (\n",
    "        SELECT *\n",
    "        FROM `statmike-mlops-349915.bqml_model_monitoring.training_split`\n",
    "        WHERE splits = 'TEST'\n",
    "    )\n",
    ")"
   ]
  },
  {
   "cell_type": "markdown",
   "metadata": {},
   "source": [
    "### Evaluate The Classification Performance with `ML.CONFUSION_MATRIX`\n",
    "\n",
    "This model is a classification model and reviewing the true versus predicted classification categories can be done with the [`ML.CONFUSION_MATRIX` function](https://cloud.google.com/bigquery/docs/reference/standard-sql/bigqueryml-syntax-confusion)."
   ]
  },
  {
   "cell_type": "code",
   "execution_count": 321,
   "metadata": {
    "tags": []
   },
   "outputs": [
    {
     "data": {
      "application/vnd.jupyter.widget-view+json": {
       "model_id": "7eb15eeaf59d43c599f1deafa8876adc",
       "version_major": 2,
       "version_minor": 0
      },
      "text/plain": [
       "Query is running:   0%|          |"
      ]
     },
     "metadata": {},
     "output_type": "display_data"
    },
    {
     "data": {
      "application/vnd.jupyter.widget-view+json": {
       "model_id": "3ba6fc1d5eac4717a9864322b31d269c",
       "version_major": 2,
       "version_minor": 0
      },
      "text/plain": [
       "Downloading:   0%|          |"
      ]
     },
     "metadata": {},
     "output_type": "display_data"
    },
    {
     "data": {
      "text/html": [
       "<div>\n",
       "<style scoped>\n",
       "    .dataframe tbody tr th:only-of-type {\n",
       "        vertical-align: middle;\n",
       "    }\n",
       "\n",
       "    .dataframe tbody tr th {\n",
       "        vertical-align: top;\n",
       "    }\n",
       "\n",
       "    .dataframe thead th {\n",
       "        text-align: right;\n",
       "    }\n",
       "</style>\n",
       "<table border=\"1\" class=\"dataframe\">\n",
       "  <thead>\n",
       "    <tr style=\"text-align: right;\">\n",
       "      <th></th>\n",
       "      <th>expected_label</th>\n",
       "      <th>Adelie_Penguin__Pygoscelis_adeliae_</th>\n",
       "      <th>Chinstrap_penguin__Pygoscelis_antarctica_</th>\n",
       "      <th>Gentoo_penguin__Pygoscelis_papua_</th>\n",
       "    </tr>\n",
       "  </thead>\n",
       "  <tbody>\n",
       "    <tr>\n",
       "      <th>0</th>\n",
       "      <td>Adelie Penguin (Pygoscelis adeliae)</td>\n",
       "      <td>14</td>\n",
       "      <td>1</td>\n",
       "      <td>0</td>\n",
       "    </tr>\n",
       "    <tr>\n",
       "      <th>1</th>\n",
       "      <td>Chinstrap penguin (Pygoscelis antarctica)</td>\n",
       "      <td>0</td>\n",
       "      <td>7</td>\n",
       "      <td>0</td>\n",
       "    </tr>\n",
       "    <tr>\n",
       "      <th>2</th>\n",
       "      <td>Gentoo penguin (Pygoscelis papua)</td>\n",
       "      <td>0</td>\n",
       "      <td>0</td>\n",
       "      <td>13</td>\n",
       "    </tr>\n",
       "  </tbody>\n",
       "</table>\n",
       "</div>"
      ],
      "text/plain": [
       "                              expected_label  \\\n",
       "0        Adelie Penguin (Pygoscelis adeliae)   \n",
       "1  Chinstrap penguin (Pygoscelis antarctica)   \n",
       "2          Gentoo penguin (Pygoscelis papua)   \n",
       "\n",
       "   Adelie_Penguin__Pygoscelis_adeliae_  \\\n",
       "0                                   14   \n",
       "1                                    0   \n",
       "2                                    0   \n",
       "\n",
       "   Chinstrap_penguin__Pygoscelis_antarctica_  \\\n",
       "0                                          1   \n",
       "1                                          7   \n",
       "2                                          0   \n",
       "\n",
       "   Gentoo_penguin__Pygoscelis_papua_  \n",
       "0                                  0  \n",
       "1                                  0  \n",
       "2                                 13  "
      ]
     },
     "execution_count": 321,
     "metadata": {},
     "output_type": "execute_result"
    }
   ],
   "source": [
    "%%bigquery\n",
    "SELECT *\n",
    "FROM ML.CONFUSION_MATRIX (\n",
    "    MODEL `statmike-mlops-349915.bqml_model_monitoring.classify_species_rf`\n",
    ")"
   ]
  },
  {
   "cell_type": "code",
   "execution_count": 322,
   "metadata": {
    "tags": []
   },
   "outputs": [
    {
     "data": {
      "application/vnd.jupyter.widget-view+json": {
       "model_id": "f030f4f6273a4805bfc955e19ba4e7ca",
       "version_major": 2,
       "version_minor": 0
      },
      "text/plain": [
       "Query is running:   0%|          |"
      ]
     },
     "metadata": {},
     "output_type": "display_data"
    },
    {
     "data": {
      "application/vnd.jupyter.widget-view+json": {
       "model_id": "db82572ce8d3446b958142467a7e5367",
       "version_major": 2,
       "version_minor": 0
      },
      "text/plain": [
       "Downloading:   0%|          |"
      ]
     },
     "metadata": {},
     "output_type": "display_data"
    },
    {
     "data": {
      "text/html": [
       "<div>\n",
       "<style scoped>\n",
       "    .dataframe tbody tr th:only-of-type {\n",
       "        vertical-align: middle;\n",
       "    }\n",
       "\n",
       "    .dataframe tbody tr th {\n",
       "        vertical-align: top;\n",
       "    }\n",
       "\n",
       "    .dataframe thead th {\n",
       "        text-align: right;\n",
       "    }\n",
       "</style>\n",
       "<table border=\"1\" class=\"dataframe\">\n",
       "  <thead>\n",
       "    <tr style=\"text-align: right;\">\n",
       "      <th></th>\n",
       "      <th>expected_label</th>\n",
       "      <th>Adelie_Penguin__Pygoscelis_adeliae_</th>\n",
       "      <th>Chinstrap_penguin__Pygoscelis_antarctica_</th>\n",
       "      <th>Gentoo_penguin__Pygoscelis_papua_</th>\n",
       "    </tr>\n",
       "  </thead>\n",
       "  <tbody>\n",
       "    <tr>\n",
       "      <th>0</th>\n",
       "      <td>Adelie Penguin (Pygoscelis adeliae)</td>\n",
       "      <td>105</td>\n",
       "      <td>0</td>\n",
       "      <td>0</td>\n",
       "    </tr>\n",
       "    <tr>\n",
       "      <th>1</th>\n",
       "      <td>Chinstrap penguin (Pygoscelis antarctica)</td>\n",
       "      <td>0</td>\n",
       "      <td>47</td>\n",
       "      <td>0</td>\n",
       "    </tr>\n",
       "    <tr>\n",
       "      <th>2</th>\n",
       "      <td>Gentoo penguin (Pygoscelis papua)</td>\n",
       "      <td>1</td>\n",
       "      <td>0</td>\n",
       "      <td>85</td>\n",
       "    </tr>\n",
       "  </tbody>\n",
       "</table>\n",
       "</div>"
      ],
      "text/plain": [
       "                              expected_label  \\\n",
       "0        Adelie Penguin (Pygoscelis adeliae)   \n",
       "1  Chinstrap penguin (Pygoscelis antarctica)   \n",
       "2          Gentoo penguin (Pygoscelis papua)   \n",
       "\n",
       "   Adelie_Penguin__Pygoscelis_adeliae_  \\\n",
       "0                                  105   \n",
       "1                                    0   \n",
       "2                                    1   \n",
       "\n",
       "   Chinstrap_penguin__Pygoscelis_antarctica_  \\\n",
       "0                                          0   \n",
       "1                                         47   \n",
       "2                                          0   \n",
       "\n",
       "   Gentoo_penguin__Pygoscelis_papua_  \n",
       "0                                  0  \n",
       "1                                  0  \n",
       "2                                 85  "
      ]
     },
     "execution_count": 322,
     "metadata": {},
     "output_type": "execute_result"
    }
   ],
   "source": [
    "%%bigquery\n",
    "SELECT *\n",
    "FROM ML.CONFUSION_MATRIX (\n",
    "    MODEL `statmike-mlops-349915.bqml_model_monitoring.classify_species_rf`,\n",
    "    (\n",
    "        SELECT *\n",
    "        FROM `statmike-mlops-349915.bqml_model_monitoring.training_split`\n",
    "        WHERE splits = 'TRAIN'\n",
    "    )\n",
    ")"
   ]
  },
  {
   "cell_type": "code",
   "execution_count": 323,
   "metadata": {
    "tags": []
   },
   "outputs": [
    {
     "data": {
      "application/vnd.jupyter.widget-view+json": {
       "model_id": "608bb28961e9422c88ffbc79de2b47ad",
       "version_major": 2,
       "version_minor": 0
      },
      "text/plain": [
       "Query is running:   0%|          |"
      ]
     },
     "metadata": {},
     "output_type": "display_data"
    },
    {
     "data": {
      "application/vnd.jupyter.widget-view+json": {
       "model_id": "70decd3f25294d9ebf03df5dba153e8d",
       "version_major": 2,
       "version_minor": 0
      },
      "text/plain": [
       "Downloading:   0%|          |"
      ]
     },
     "metadata": {},
     "output_type": "display_data"
    },
    {
     "data": {
      "text/html": [
       "<div>\n",
       "<style scoped>\n",
       "    .dataframe tbody tr th:only-of-type {\n",
       "        vertical-align: middle;\n",
       "    }\n",
       "\n",
       "    .dataframe tbody tr th {\n",
       "        vertical-align: top;\n",
       "    }\n",
       "\n",
       "    .dataframe thead th {\n",
       "        text-align: right;\n",
       "    }\n",
       "</style>\n",
       "<table border=\"1\" class=\"dataframe\">\n",
       "  <thead>\n",
       "    <tr style=\"text-align: right;\">\n",
       "      <th></th>\n",
       "      <th>expected_label</th>\n",
       "      <th>Adelie_Penguin__Pygoscelis_adeliae_</th>\n",
       "      <th>Chinstrap_penguin__Pygoscelis_antarctica_</th>\n",
       "      <th>Gentoo_penguin__Pygoscelis_papua_</th>\n",
       "    </tr>\n",
       "  </thead>\n",
       "  <tbody>\n",
       "    <tr>\n",
       "      <th>0</th>\n",
       "      <td>Adelie Penguin (Pygoscelis adeliae)</td>\n",
       "      <td>32</td>\n",
       "      <td>0</td>\n",
       "      <td>0</td>\n",
       "    </tr>\n",
       "    <tr>\n",
       "      <th>1</th>\n",
       "      <td>Chinstrap penguin (Pygoscelis antarctica)</td>\n",
       "      <td>2</td>\n",
       "      <td>12</td>\n",
       "      <td>0</td>\n",
       "    </tr>\n",
       "    <tr>\n",
       "      <th>2</th>\n",
       "      <td>Gentoo penguin (Pygoscelis papua)</td>\n",
       "      <td>0</td>\n",
       "      <td>0</td>\n",
       "      <td>25</td>\n",
       "    </tr>\n",
       "  </tbody>\n",
       "</table>\n",
       "</div>"
      ],
      "text/plain": [
       "                              expected_label  \\\n",
       "0        Adelie Penguin (Pygoscelis adeliae)   \n",
       "1  Chinstrap penguin (Pygoscelis antarctica)   \n",
       "2          Gentoo penguin (Pygoscelis papua)   \n",
       "\n",
       "   Adelie_Penguin__Pygoscelis_adeliae_  \\\n",
       "0                                   32   \n",
       "1                                    2   \n",
       "2                                    0   \n",
       "\n",
       "   Chinstrap_penguin__Pygoscelis_antarctica_  \\\n",
       "0                                          0   \n",
       "1                                         12   \n",
       "2                                          0   \n",
       "\n",
       "   Gentoo_penguin__Pygoscelis_papua_  \n",
       "0                                  0  \n",
       "1                                  0  \n",
       "2                                 25  "
      ]
     },
     "execution_count": 323,
     "metadata": {},
     "output_type": "execute_result"
    }
   ],
   "source": [
    "%%bigquery\n",
    "SELECT *\n",
    "FROM ML.CONFUSION_MATRIX (\n",
    "    MODEL `statmike-mlops-349915.bqml_model_monitoring.classify_species_rf`,\n",
    "    (\n",
    "        SELECT *\n",
    "        FROM `statmike-mlops-349915.bqml_model_monitoring.training_split`\n",
    "        WHERE splits = 'TEST'\n",
    "    )\n",
    ")"
   ]
  },
  {
   "cell_type": "markdown",
   "metadata": {
    "tags": []
   },
   "source": [
    "---\n",
    "## Model Serving\n",
    "\n",
    "Once a version of the model is trusted to serve predictions we can put it into use.  At first, this means creating and using predictions from the model.  This is quickly followed by important considerations:\n",
    "\n",
    ">Has the system that is being measured, that creates the data, or that records the data changed in a way that could impact the models ability to correctly predict/classify?\n",
    "\n",
    "It seems like a good idea to continously run evaluations to make sure the model accuracy does not degrade - and it is.  There can be a lag between new data and knowing the actual outcome which makes using using evaluations to monitor models a potentially reactive, or late signal.  To overcome this we can also monitor the model.  More on this later on below."
   ]
  },
  {
   "cell_type": "markdown",
   "metadata": {},
   "source": [
    "### Predictions With `ML.PREDICT`\n",
    "\n",
    "Use [`ML.PREDICT`](https://cloud.google.com/bigquery/docs/reference/standard-sql/bigqueryml-syntax-predict) to serve predictions with the model directly in BigQuery."
   ]
  },
  {
   "cell_type": "code",
   "execution_count": 324,
   "metadata": {
    "tags": []
   },
   "outputs": [
    {
     "data": {
      "application/vnd.jupyter.widget-view+json": {
       "model_id": "c2d917202c21430e9b07e9e628a90552",
       "version_major": 2,
       "version_minor": 0
      },
      "text/plain": [
       "Query is running:   0%|          |"
      ]
     },
     "metadata": {},
     "output_type": "display_data"
    },
    {
     "data": {
      "application/vnd.jupyter.widget-view+json": {
       "model_id": "d6d0c63d26b14eea9be07b002afedc5f",
       "version_major": 2,
       "version_minor": 0
      },
      "text/plain": [
       "Downloading:   0%|          |"
      ]
     },
     "metadata": {},
     "output_type": "display_data"
    },
    {
     "data": {
      "text/html": [
       "<div>\n",
       "<style scoped>\n",
       "    .dataframe tbody tr th:only-of-type {\n",
       "        vertical-align: middle;\n",
       "    }\n",
       "\n",
       "    .dataframe tbody tr th {\n",
       "        vertical-align: top;\n",
       "    }\n",
       "\n",
       "    .dataframe thead th {\n",
       "        text-align: right;\n",
       "    }\n",
       "</style>\n",
       "<table border=\"1\" class=\"dataframe\">\n",
       "  <thead>\n",
       "    <tr style=\"text-align: right;\">\n",
       "      <th></th>\n",
       "      <th>predicted_species</th>\n",
       "      <th>predicted_species_probs</th>\n",
       "      <th>species</th>\n",
       "      <th>island</th>\n",
       "      <th>culmen_length_mm</th>\n",
       "      <th>culmen_depth_mm</th>\n",
       "      <th>flipper_length_mm</th>\n",
       "      <th>body_mass_g</th>\n",
       "      <th>sex</th>\n",
       "      <th>splits</th>\n",
       "    </tr>\n",
       "  </thead>\n",
       "  <tbody>\n",
       "    <tr>\n",
       "      <th>0</th>\n",
       "      <td>Adelie Penguin (Pygoscelis adeliae)</td>\n",
       "      <td>[{'label': 'Gentoo penguin (Pygoscelis papua)', 'prob': 0.2835320830345154}, {'label': 'Chinstrap penguin (Pygoscelis antarctica)', 'prob': 0.24834191799163818}, {'label': 'Adelie Penguin (Pygoscelis adeliae)', 'prob': 0.46812599897384644}]</td>\n",
       "      <td>Gentoo penguin (Pygoscelis papua)</td>\n",
       "      <td>Biscoe</td>\n",
       "      <td>NaN</td>\n",
       "      <td>NaN</td>\n",
       "      <td>NaN</td>\n",
       "      <td>NaN</td>\n",
       "      <td>None</td>\n",
       "      <td>TRAIN</td>\n",
       "    </tr>\n",
       "    <tr>\n",
       "      <th>1</th>\n",
       "      <td>Gentoo penguin (Pygoscelis papua)</td>\n",
       "      <td>[{'label': 'Gentoo penguin (Pygoscelis papua)', 'prob': 0.6748941540718079}, {'label': 'Chinstrap penguin (Pygoscelis antarctica)', 'prob': 0.15350927412509918}, {'label': 'Adelie Penguin (Pygoscelis adeliae)', 'prob': 0.17159654200077057}]</td>\n",
       "      <td>Gentoo penguin (Pygoscelis papua)</td>\n",
       "      <td>Biscoe</td>\n",
       "      <td>42.7</td>\n",
       "      <td>13.7</td>\n",
       "      <td>208.0</td>\n",
       "      <td>3950.0</td>\n",
       "      <td>FEMALE</td>\n",
       "      <td>TRAIN</td>\n",
       "    </tr>\n",
       "    <tr>\n",
       "      <th>2</th>\n",
       "      <td>Gentoo penguin (Pygoscelis papua)</td>\n",
       "      <td>[{'label': 'Gentoo penguin (Pygoscelis papua)', 'prob': 0.7753146886825562}, {'label': 'Chinstrap penguin (Pygoscelis antarctica)', 'prob': 0.10591848939657211}, {'label': 'Adelie Penguin (Pygoscelis adeliae)', 'prob': 0.11876685172319412}]</td>\n",
       "      <td>Gentoo penguin (Pygoscelis papua)</td>\n",
       "      <td>Biscoe</td>\n",
       "      <td>44.0</td>\n",
       "      <td>13.6</td>\n",
       "      <td>208.0</td>\n",
       "      <td>4350.0</td>\n",
       "      <td>FEMALE</td>\n",
       "      <td>TRAIN</td>\n",
       "    </tr>\n",
       "    <tr>\n",
       "      <th>3</th>\n",
       "      <td>Gentoo penguin (Pygoscelis papua)</td>\n",
       "      <td>[{'label': 'Gentoo penguin (Pygoscelis papua)', 'prob': 0.7738954424858093}, {'label': 'Chinstrap penguin (Pygoscelis antarctica)', 'prob': 0.11030720174312592}, {'label': 'Adelie Penguin (Pygoscelis adeliae)', 'prob': 0.11579738557338715}]</td>\n",
       "      <td>Gentoo penguin (Pygoscelis papua)</td>\n",
       "      <td>Biscoe</td>\n",
       "      <td>45.3</td>\n",
       "      <td>13.8</td>\n",
       "      <td>208.0</td>\n",
       "      <td>4200.0</td>\n",
       "      <td>FEMALE</td>\n",
       "      <td>TRAIN</td>\n",
       "    </tr>\n",
       "    <tr>\n",
       "      <th>4</th>\n",
       "      <td>Gentoo penguin (Pygoscelis papua)</td>\n",
       "      <td>[{'label': 'Gentoo penguin (Pygoscelis papua)', 'prob': 0.752303957939148}, {'label': 'Chinstrap penguin (Pygoscelis antarctica)', 'prob': 0.11609087884426117}, {'label': 'Adelie Penguin (Pygoscelis adeliae)', 'prob': 0.13160516321659088}]</td>\n",
       "      <td>Gentoo penguin (Pygoscelis papua)</td>\n",
       "      <td>Biscoe</td>\n",
       "      <td>48.7</td>\n",
       "      <td>15.7</td>\n",
       "      <td>208.0</td>\n",
       "      <td>5350.0</td>\n",
       "      <td>MALE</td>\n",
       "      <td>TRAIN</td>\n",
       "    </tr>\n",
       "  </tbody>\n",
       "</table>\n",
       "</div>"
      ],
      "text/plain": [
       "                     predicted_species  \\\n",
       "0  Adelie Penguin (Pygoscelis adeliae)   \n",
       "1    Gentoo penguin (Pygoscelis papua)   \n",
       "2    Gentoo penguin (Pygoscelis papua)   \n",
       "3    Gentoo penguin (Pygoscelis papua)   \n",
       "4    Gentoo penguin (Pygoscelis papua)   \n",
       "\n",
       "                                                                                                                                                                                                                            predicted_species_probs  \\\n",
       "0  [{'label': 'Gentoo penguin (Pygoscelis papua)', 'prob': 0.2835320830345154}, {'label': 'Chinstrap penguin (Pygoscelis antarctica)', 'prob': 0.24834191799163818}, {'label': 'Adelie Penguin (Pygoscelis adeliae)', 'prob': 0.46812599897384644}]   \n",
       "1  [{'label': 'Gentoo penguin (Pygoscelis papua)', 'prob': 0.6748941540718079}, {'label': 'Chinstrap penguin (Pygoscelis antarctica)', 'prob': 0.15350927412509918}, {'label': 'Adelie Penguin (Pygoscelis adeliae)', 'prob': 0.17159654200077057}]   \n",
       "2  [{'label': 'Gentoo penguin (Pygoscelis papua)', 'prob': 0.7753146886825562}, {'label': 'Chinstrap penguin (Pygoscelis antarctica)', 'prob': 0.10591848939657211}, {'label': 'Adelie Penguin (Pygoscelis adeliae)', 'prob': 0.11876685172319412}]   \n",
       "3  [{'label': 'Gentoo penguin (Pygoscelis papua)', 'prob': 0.7738954424858093}, {'label': 'Chinstrap penguin (Pygoscelis antarctica)', 'prob': 0.11030720174312592}, {'label': 'Adelie Penguin (Pygoscelis adeliae)', 'prob': 0.11579738557338715}]   \n",
       "4   [{'label': 'Gentoo penguin (Pygoscelis papua)', 'prob': 0.752303957939148}, {'label': 'Chinstrap penguin (Pygoscelis antarctica)', 'prob': 0.11609087884426117}, {'label': 'Adelie Penguin (Pygoscelis adeliae)', 'prob': 0.13160516321659088}]   \n",
       "\n",
       "                             species  island  culmen_length_mm  \\\n",
       "0  Gentoo penguin (Pygoscelis papua)  Biscoe               NaN   \n",
       "1  Gentoo penguin (Pygoscelis papua)  Biscoe              42.7   \n",
       "2  Gentoo penguin (Pygoscelis papua)  Biscoe              44.0   \n",
       "3  Gentoo penguin (Pygoscelis papua)  Biscoe              45.3   \n",
       "4  Gentoo penguin (Pygoscelis papua)  Biscoe              48.7   \n",
       "\n",
       "   culmen_depth_mm  flipper_length_mm  body_mass_g     sex splits  \n",
       "0              NaN                NaN          NaN    None  TRAIN  \n",
       "1             13.7              208.0       3950.0  FEMALE  TRAIN  \n",
       "2             13.6              208.0       4350.0  FEMALE  TRAIN  \n",
       "3             13.8              208.0       4200.0  FEMALE  TRAIN  \n",
       "4             15.7              208.0       5350.0    MALE  TRAIN  "
      ]
     },
     "execution_count": 324,
     "metadata": {},
     "output_type": "execute_result"
    }
   ],
   "source": [
    "%%bigquery\n",
    "SELECT *\n",
    "FROM ML.PREDICT(\n",
    "    MODEL `statmike-mlops-349915.bqml_model_monitoring.classify_species_rf`,\n",
    "    (\n",
    "        SELECT *\n",
    "        FROM `statmike-mlops-349915.bqml_model_monitoring.training_split`\n",
    "        LIMIT 5\n",
    "    )\n",
    ")"
   ]
  },
  {
   "cell_type": "markdown",
   "metadata": {
    "tags": []
   },
   "source": [
    "---\n",
    "## Serving Data\n",
    "\n",
    "The data source for training and evaluation represents what is known about a system at a point-in-time.  In real world systems measurements can change for many reasons, for example:\n",
    "- training/serving skew due to measurement and data systems:\n",
    "    - the tool used for measurement may change resulting is slight shifts and variations\n",
    "    - the system reporting results might be updated and introduce errors like rearranging the order or parameters and format of the results\n",
    "    - the data processing systems might have changes that alter the calculations of measurements\n",
    "- the system, environment, or subjects being measured may:\n",
    "    - change behaviors\n",
    "    - short-term even forces change\n",
    "    - have environmental changes that impact them\n",
    "    - have seasonal changes that were not represented in the training data\n",
    "    - change in general due to upstream causes"
   ]
  },
  {
   "cell_type": "markdown",
   "metadata": {},
   "source": [
    "### Introduce Changes Over Time\n",
    "\n",
    "To illustrate the impact of change over time, the following code creates a new set of data from the test split.  It creates a series of changes to measurements for each of the past 30 days.  In each case, the values of the parameters `flipper_length_mm` and `body_mass_g` are allowed to slightly increase which can accumulate over the timespan. This might mimic a potential growth season for the penguins that might not have been represented in the training data.\n",
    "\n",
    "> **Note:** The accompanying [tutorial](link here) uses an alternative data architecture that caputures feature changes over time is used.  Check it out for an alternative way to manage changing feature values.\n",
    "\n",
    "This table of serving data could be sourced form where your features are coming from.  In the case of an online model, like [Vertex AI Prediction Endpoints](https://cloud.google.com/vertex-ai/docs/predictions/overview), then [prediction request could be logged to BigQuery](https://cloud.google.com/vertex-ai/docs/predictions/online-prediction-logging#enabling-and-disabling) for use in the model monitoring tasks below.  This online serving pattern is covered later in this tutorial."
   ]
  },
  {
   "cell_type": "code",
   "execution_count": 169,
   "metadata": {
    "tags": []
   },
   "outputs": [
    {
     "data": {
      "application/vnd.jupyter.widget-view+json": {
       "model_id": "2e0da0e077cd409782fe25c7d4469e2d",
       "version_major": 2,
       "version_minor": 0
      },
      "text/plain": [
       "Query is running:   0%|          |"
      ]
     },
     "metadata": {},
     "output_type": "display_data"
    },
    {
     "data": {
      "text/html": [
       "<div>\n",
       "<style scoped>\n",
       "    .dataframe tbody tr th:only-of-type {\n",
       "        vertical-align: middle;\n",
       "    }\n",
       "\n",
       "    .dataframe tbody tr th {\n",
       "        vertical-align: top;\n",
       "    }\n",
       "\n",
       "    .dataframe thead th {\n",
       "        text-align: right;\n",
       "    }\n",
       "</style>\n",
       "<table border=\"1\" class=\"dataframe\">\n",
       "  <thead>\n",
       "    <tr style=\"text-align: right;\">\n",
       "      <th></th>\n",
       "    </tr>\n",
       "  </thead>\n",
       "  <tbody>\n",
       "  </tbody>\n",
       "</table>\n",
       "</div>"
      ],
      "text/plain": [
       "Empty DataFrame\n",
       "Columns: []\n",
       "Index: []"
      ]
     },
     "execution_count": 169,
     "metadata": {},
     "output_type": "execute_result"
    }
   ],
   "source": [
    "%%bigquery\n",
    "DECLARE counter INT64 DEFAULT 30;\n",
    "\n",
    "# actual data as starting point - add entity_id, and feature_timestamp:\n",
    "CREATE OR REPLACE TABLE `statmike-mlops-349915.bqml_model_monitoring.serving` AS\n",
    "    SELECT * EXCEPT(flipper_length_mm, body_mass_g),\n",
    "    TIMESTAMP_SUB(TIMESTAMP(CURRENT_DATE()), INTERVAL counter DAY) AS instance_timestamp,\n",
    "    flipper_length_mm as flipper_length_mm,\n",
    "    body_mass_g as body_mass_g\n",
    "    FROM `statmike-mlops-349915.bqml_model_monitoring.training`\n",
    "    WHERE RAND() <= 0.20;\n",
    "\n",
    "LOOP\n",
    "    SET counter = counter - 1;\n",
    "    IF counter < 0 THEN LEAVE;\n",
    "    END IF;\n",
    "    INSERT `statmike-mlops-349915.bqml_model_monitoring.serving`\n",
    "        SELECT * EXCEPT(instance_timestamp, flipper_length_mm, body_mass_g),\n",
    "            TIMESTAMP_ADD(instance_timestamp, INTERVAL 1 DAY) AS instance_timestamp,\n",
    "            CASE\n",
    "                WHEN RAND() >= 0.75 THEN flipper_length_mm\n",
    "                ELSE flipper_length_mm + 6*(RAND()-0.1)\n",
    "            END AS flipper_length_mm,\n",
    "            CASE\n",
    "                WHEN RAND() >= 0.75 THEN body_mass_g\n",
    "                ELSE body_mass_g + 120*(RAND()-0.1)\n",
    "            END AS body_mass_g,\n",
    "        FROM `statmike-mlops-349915.bqml_model_monitoring.serving`\n",
    "        WHERE instance_timestamp >= (SELECT MAX(instance_timestamp) FROM `statmike-mlops-349915.bqml_model_monitoring.serving`);\n",
    "END LOOP;"
   ]
  },
  {
   "cell_type": "code",
   "execution_count": 325,
   "metadata": {
    "tags": []
   },
   "outputs": [
    {
     "data": {
      "application/vnd.jupyter.widget-view+json": {
       "model_id": "f21d7595d9f0493c8d14eb45fe866e6f",
       "version_major": 2,
       "version_minor": 0
      },
      "text/plain": [
       "Query is running:   0%|          |"
      ]
     },
     "metadata": {},
     "output_type": "display_data"
    },
    {
     "data": {
      "application/vnd.jupyter.widget-view+json": {
       "model_id": "8423bdc1ce5142afa88ffb0100492a57",
       "version_major": 2,
       "version_minor": 0
      },
      "text/plain": [
       "Downloading:   0%|          |"
      ]
     },
     "metadata": {},
     "output_type": "display_data"
    }
   ],
   "source": [
    "%%bigquery serve\n",
    "SELECT\n",
    "    DATE(instance_timestamp) AS DATE,\n",
    "    AVG(flipper_length_mm) AS flipper_length_mm,\n",
    "    AVG(body_mass_g) AS body_mass_g\n",
    "FROM `statmike-mlops-349915.bqml_model_monitoring.serving`\n",
    "GROUP BY DATE\n",
    "ORDER BY DATE"
   ]
  },
  {
   "cell_type": "code",
   "execution_count": 326,
   "metadata": {
    "tags": []
   },
   "outputs": [],
   "source": [
    "serve.set_index('DATE', inplace = True)"
   ]
  },
  {
   "cell_type": "code",
   "execution_count": 327,
   "metadata": {
    "tags": []
   },
   "outputs": [],
   "source": [
    "#serve"
   ]
  },
  {
   "cell_type": "code",
   "execution_count": 328,
   "metadata": {
    "tags": []
   },
   "outputs": [
    {
     "data": {
      "text/plain": [
       "<Axes: xlabel='DATE'>"
      ]
     },
     "execution_count": 328,
     "metadata": {},
     "output_type": "execute_result"
    },
    {
     "data": {
      "image/png": "[encoded data removed]",
      "text/plain": [
       "<Figure size 800x400 with 1 Axes>"
      ]
     },
     "metadata": {},
     "output_type": "display_data"
    }
   ],
   "source": [
    "serve['flipper_length_mm'].plot(legend = True, figsize = (8, 4))"
   ]
  },
  {
   "cell_type": "code",
   "execution_count": 329,
   "metadata": {
    "tags": []
   },
   "outputs": [
    {
     "data": {
      "text/plain": [
       "<Axes: xlabel='DATE'>"
      ]
     },
     "execution_count": 329,
     "metadata": {},
     "output_type": "execute_result"
    },
    {
     "data": {
      "image/png": "[encoded data removed]",
      "text/plain": [
       "<Figure size 800x400 with 1 Axes>"
      ]
     },
     "metadata": {},
     "output_type": "display_data"
    }
   ],
   "source": [
    "serve['body_mass_g'].plot(legend = True, figsize = (8, 4))"
   ]
  },
  {
   "cell_type": "markdown",
   "metadata": {
    "tags": []
   },
   "source": [
    "---\n",
    "## Monitoring With Evaluations\n",
    "\n",
    "It might seem like ongoing model evaluations are a great solution to model monitoring.  If the actual known values are available immediately then this could be possible to use for monitoring.  However, detecting a change in evaluation metrics means the model has realized a degradation.  It is a lagging signal.  To be more proactive we should monitor the inputs to the model, the features.  More on that in the next section.\n",
    "\n",
    "First, look at the evaluation metrics for the most recent days data which has the cumulative change of the past 30 days introduced above.  In this case, the actual known values is known. This may not be possible in many real-world examples where the actual known values are:\n",
    "- delayed by minutes, hours, days, or even longer\n",
    "- not always known for all instances\n",
    "- potentially in a different status that can change over a period of time before being confirmed as final\n",
    "\n",
    "In reviewing the evaluation for the most recent instances here, the `precision` has dropped and the `log_loss` has increased drastically.  The confusion matrix shows Chinstrap penguins's are now being misclassified much more often than when the model was trained.  \n",
    "\n",
    "The question becomes \"How soon could this have been noticed?\"."
   ]
  },
  {
   "cell_type": "code",
   "execution_count": 330,
   "metadata": {
    "tags": []
   },
   "outputs": [
    {
     "data": {
      "application/vnd.jupyter.widget-view+json": {
       "model_id": "c96314fc5b784b15bfd880fc2085f896",
       "version_major": 2,
       "version_minor": 0
      },
      "text/plain": [
       "Query is running:   0%|          |"
      ]
     },
     "metadata": {},
     "output_type": "display_data"
    },
    {
     "data": {
      "application/vnd.jupyter.widget-view+json": {
       "model_id": "db94cf16d7d3455fa7fbdee8363c5f54",
       "version_major": 2,
       "version_minor": 0
      },
      "text/plain": [
       "Downloading:   0%|          |"
      ]
     },
     "metadata": {},
     "output_type": "display_data"
    },
    {
     "data": {
      "text/html": [
       "<div>\n",
       "<style scoped>\n",
       "    .dataframe tbody tr th:only-of-type {\n",
       "        vertical-align: middle;\n",
       "    }\n",
       "\n",
       "    .dataframe tbody tr th {\n",
       "        vertical-align: top;\n",
       "    }\n",
       "\n",
       "    .dataframe thead th {\n",
       "        text-align: right;\n",
       "    }\n",
       "</style>\n",
       "<table border=\"1\" class=\"dataframe\">\n",
       "  <thead>\n",
       "    <tr style=\"text-align: right;\">\n",
       "      <th></th>\n",
       "      <th>precision</th>\n",
       "      <th>recall</th>\n",
       "      <th>accuracy</th>\n",
       "      <th>f1_score</th>\n",
       "      <th>log_loss</th>\n",
       "      <th>roc_auc</th>\n",
       "    </tr>\n",
       "  </thead>\n",
       "  <tbody>\n",
       "    <tr>\n",
       "      <th>0</th>\n",
       "      <td>0.952381</td>\n",
       "      <td>0.950231</td>\n",
       "      <td>0.945946</td>\n",
       "      <td>0.948442</td>\n",
       "      <td>0.489858</td>\n",
       "      <td>1.0</td>\n",
       "    </tr>\n",
       "  </tbody>\n",
       "</table>\n",
       "</div>"
      ],
      "text/plain": [
       "   precision    recall  accuracy  f1_score  log_loss  roc_auc\n",
       "0   0.952381  0.950231  0.945946  0.948442  0.489858      1.0"
      ]
     },
     "execution_count": 330,
     "metadata": {},
     "output_type": "execute_result"
    }
   ],
   "source": [
    "%%bigquery\n",
    "SELECT *\n",
    "FROM ML.EVALUATE (\n",
    "    MODEL `statmike-mlops-349915.bqml_model_monitoring.classify_species_rf`,\n",
    "    (\n",
    "        SELECT *\n",
    "        FROM `statmike-mlops-349915.bqml_model_monitoring.serving`\n",
    "        WHERE DATE(instance_timestamp) >= CURRENT_DATE()\n",
    "    )\n",
    ")"
   ]
  },
  {
   "cell_type": "code",
   "execution_count": 331,
   "metadata": {
    "tags": []
   },
   "outputs": [
    {
     "data": {
      "application/vnd.jupyter.widget-view+json": {
       "model_id": "8e1bb74553b048d1941937fca27623cb",
       "version_major": 2,
       "version_minor": 0
      },
      "text/plain": [
       "Query is running:   0%|          |"
      ]
     },
     "metadata": {},
     "output_type": "display_data"
    },
    {
     "data": {
      "application/vnd.jupyter.widget-view+json": {
       "model_id": "4ce04f91b4144931b575520c5e50e1eb",
       "version_major": 2,
       "version_minor": 0
      },
      "text/plain": [
       "Downloading:   0%|          |"
      ]
     },
     "metadata": {},
     "output_type": "display_data"
    },
    {
     "data": {
      "text/html": [
       "<div>\n",
       "<style scoped>\n",
       "    .dataframe tbody tr th:only-of-type {\n",
       "        vertical-align: middle;\n",
       "    }\n",
       "\n",
       "    .dataframe tbody tr th {\n",
       "        vertical-align: top;\n",
       "    }\n",
       "\n",
       "    .dataframe thead th {\n",
       "        text-align: right;\n",
       "    }\n",
       "</style>\n",
       "<table border=\"1\" class=\"dataframe\">\n",
       "  <thead>\n",
       "    <tr style=\"text-align: right;\">\n",
       "      <th></th>\n",
       "      <th>expected_label</th>\n",
       "      <th>Adelie_Penguin__Pygoscelis_adeliae_</th>\n",
       "      <th>Chinstrap_penguin__Pygoscelis_antarctica_</th>\n",
       "      <th>Gentoo_penguin__Pygoscelis_papua_</th>\n",
       "    </tr>\n",
       "  </thead>\n",
       "  <tbody>\n",
       "    <tr>\n",
       "      <th>0</th>\n",
       "      <td>Adelie Penguin (Pygoscelis adeliae)</td>\n",
       "      <td>29</td>\n",
       "      <td>0</td>\n",
       "      <td>3</td>\n",
       "    </tr>\n",
       "    <tr>\n",
       "      <th>1</th>\n",
       "      <td>Chinstrap penguin (Pygoscelis antarctica)</td>\n",
       "      <td>0</td>\n",
       "      <td>17</td>\n",
       "      <td>1</td>\n",
       "    </tr>\n",
       "    <tr>\n",
       "      <th>2</th>\n",
       "      <td>Gentoo penguin (Pygoscelis papua)</td>\n",
       "      <td>0</td>\n",
       "      <td>0</td>\n",
       "      <td>24</td>\n",
       "    </tr>\n",
       "  </tbody>\n",
       "</table>\n",
       "</div>"
      ],
      "text/plain": [
       "                              expected_label  \\\n",
       "0        Adelie Penguin (Pygoscelis adeliae)   \n",
       "1  Chinstrap penguin (Pygoscelis antarctica)   \n",
       "2          Gentoo penguin (Pygoscelis papua)   \n",
       "\n",
       "   Adelie_Penguin__Pygoscelis_adeliae_  \\\n",
       "0                                   29   \n",
       "1                                    0   \n",
       "2                                    0   \n",
       "\n",
       "   Chinstrap_penguin__Pygoscelis_antarctica_  \\\n",
       "0                                          0   \n",
       "1                                         17   \n",
       "2                                          0   \n",
       "\n",
       "   Gentoo_penguin__Pygoscelis_papua_  \n",
       "0                                  3  \n",
       "1                                  1  \n",
       "2                                 24  "
      ]
     },
     "execution_count": 331,
     "metadata": {},
     "output_type": "execute_result"
    }
   ],
   "source": [
    "%%bigquery\n",
    "SELECT *\n",
    "FROM ML.CONFUSION_MATRIX (\n",
    "    MODEL `statmike-mlops-349915.bqml_model_monitoring.classify_species_rf`,\n",
    "    (\n",
    "        SELECT *\n",
    "        FROM `statmike-mlops-349915.bqml_model_monitoring.serving`\n",
    "        WHERE DATE(instance_timestamp) >= CURRENT_DATE()\n",
    "    )\n",
    ")"
   ]
  },
  {
   "cell_type": "markdown",
   "metadata": {},
   "source": [
    "### Evaluations: Over Time\n",
    "\n",
    "In this case, we know the actual identification of the `species` and are measuring the same penguins daily.  Reviewing the evaluations daily could give a good sense of how the model is performing on a daily basis.\n",
    "\n",
    "The result of the daily evaluations below shows that the log_loss starts to increase immediately and it takes more than a week for a noticable impact on precision/recall/accuracy/f1_score. \n",
    "\n",
    "What if the actual values where only known after a lag of days or weeks?  How quickly would evaluations be able to indicate the model's accuracy is possibly questionable?  The answer is a different approach - Model Monitoring.  This is covered in the section that follows."
   ]
  },
  {
   "cell_type": "code",
   "execution_count": 332,
   "metadata": {
    "tags": []
   },
   "outputs": [
    {
     "data": {
      "application/vnd.jupyter.widget-view+json": {
       "model_id": "ccc71f8ec0db49bbbdd12f972f340afd",
       "version_major": 2,
       "version_minor": 0
      },
      "text/plain": [
       "Query is running:   0%|          |"
      ]
     },
     "metadata": {},
     "output_type": "display_data"
    },
    {
     "data": {
      "application/vnd.jupyter.widget-view+json": {
       "model_id": "d9c983a8318146139127e25c73141d21",
       "version_major": 2,
       "version_minor": 0
      },
      "text/plain": [
       "Downloading:   0%|          |"
      ]
     },
     "metadata": {},
     "output_type": "display_data"
    }
   ],
   "source": [
    "%%bigquery evaluations\n",
    "DECLARE counter INT64 DEFAULT 30;\n",
    "DECLARE result STRUCT<precision FLOAT64, recall FLOAT64, accuracy FLOAT64, f1_score FLOAT64, log_loss FLOAT64, roc_auc FLOAT64, eval_date DATE>;\n",
    "DECLARE results ARRAY<STRUCT<precision FLOAT64, recall FLOAT64, accuracy FLOAT64, f1_score FLOAT64, log_loss FLOAT64, roc_auc FLOAT64, eval_date DATE>> DEFAULT [];\n",
    "LOOP\n",
    "    IF counter < 0 THEN LEAVE;\n",
    "    END IF;\n",
    "    SET result = (\n",
    "            SELECT AS STRUCT precision, recall, accuracy, f1_score, log_loss, roc_auc, DATE_SUB(CURRENT_DATE(), INTERVAL counter DAY) AS eval_date\n",
    "            FROM ML.EVALUATE (\n",
    "                MODEL `statmike-mlops-349915.bqml_model_monitoring.classify_species_rf`,\n",
    "                (\n",
    "                    SELECT *\n",
    "                    FROM `statmike-mlops-349915.bqml_model_monitoring.serving`\n",
    "                    WHERE DATE(instance_timestamp) = DATE_SUB(CURRENT_DATE(), INTERVAL counter DAY)\n",
    "                )\n",
    "            )\n",
    "    );\n",
    "    SET results = ARRAY_CONCAT(results,[result]);\n",
    "    SET counter = counter - 1;\n",
    "END LOOP;\n",
    "SELECT * FROM UNNEST(results);"
   ]
  },
  {
   "cell_type": "code",
   "execution_count": 333,
   "metadata": {
    "tags": []
   },
   "outputs": [
    {
     "data": {
      "text/html": [
       "<div>\n",
       "<style scoped>\n",
       "    .dataframe tbody tr th:only-of-type {\n",
       "        vertical-align: middle;\n",
       "    }\n",
       "\n",
       "    .dataframe tbody tr th {\n",
       "        vertical-align: top;\n",
       "    }\n",
       "\n",
       "    .dataframe thead th {\n",
       "        text-align: right;\n",
       "    }\n",
       "</style>\n",
       "<table border=\"1\" class=\"dataframe\">\n",
       "  <thead>\n",
       "    <tr style=\"text-align: right;\">\n",
       "      <th></th>\n",
       "      <th>precision</th>\n",
       "      <th>recall</th>\n",
       "      <th>accuracy</th>\n",
       "      <th>f1_score</th>\n",
       "      <th>log_loss</th>\n",
       "      <th>roc_auc</th>\n",
       "      <th>eval_date</th>\n",
       "    </tr>\n",
       "  </thead>\n",
       "  <tbody>\n",
       "    <tr>\n",
       "      <th>0</th>\n",
       "      <td>1.000000</td>\n",
       "      <td>1.000000</td>\n",
       "      <td>1.000000</td>\n",
       "      <td>1.000000</td>\n",
       "      <td>0.259116</td>\n",
       "      <td>1.0</td>\n",
       "      <td>2024-03-12</td>\n",
       "    </tr>\n",
       "    <tr>\n",
       "      <th>1</th>\n",
       "      <td>1.000000</td>\n",
       "      <td>1.000000</td>\n",
       "      <td>1.000000</td>\n",
       "      <td>1.000000</td>\n",
       "      <td>0.260146</td>\n",
       "      <td>1.0</td>\n",
       "      <td>2024-03-13</td>\n",
       "    </tr>\n",
       "    <tr>\n",
       "      <th>2</th>\n",
       "      <td>1.000000</td>\n",
       "      <td>1.000000</td>\n",
       "      <td>1.000000</td>\n",
       "      <td>1.000000</td>\n",
       "      <td>0.262330</td>\n",
       "      <td>1.0</td>\n",
       "      <td>2024-03-14</td>\n",
       "    </tr>\n",
       "    <tr>\n",
       "      <th>3</th>\n",
       "      <td>1.000000</td>\n",
       "      <td>1.000000</td>\n",
       "      <td>1.000000</td>\n",
       "      <td>1.000000</td>\n",
       "      <td>0.271806</td>\n",
       "      <td>1.0</td>\n",
       "      <td>2024-03-15</td>\n",
       "    </tr>\n",
       "    <tr>\n",
       "      <th>4</th>\n",
       "      <td>1.000000</td>\n",
       "      <td>1.000000</td>\n",
       "      <td>1.000000</td>\n",
       "      <td>1.000000</td>\n",
       "      <td>0.279359</td>\n",
       "      <td>1.0</td>\n",
       "      <td>2024-03-16</td>\n",
       "    </tr>\n",
       "    <tr>\n",
       "      <th>5</th>\n",
       "      <td>1.000000</td>\n",
       "      <td>1.000000</td>\n",
       "      <td>1.000000</td>\n",
       "      <td>1.000000</td>\n",
       "      <td>0.287254</td>\n",
       "      <td>1.0</td>\n",
       "      <td>2024-03-17</td>\n",
       "    </tr>\n",
       "    <tr>\n",
       "      <th>6</th>\n",
       "      <td>1.000000</td>\n",
       "      <td>1.000000</td>\n",
       "      <td>1.000000</td>\n",
       "      <td>1.000000</td>\n",
       "      <td>0.295066</td>\n",
       "      <td>1.0</td>\n",
       "      <td>2024-03-18</td>\n",
       "    </tr>\n",
       "    <tr>\n",
       "      <th>7</th>\n",
       "      <td>1.000000</td>\n",
       "      <td>1.000000</td>\n",
       "      <td>1.000000</td>\n",
       "      <td>1.000000</td>\n",
       "      <td>0.310428</td>\n",
       "      <td>1.0</td>\n",
       "      <td>2024-03-19</td>\n",
       "    </tr>\n",
       "    <tr>\n",
       "      <th>8</th>\n",
       "      <td>1.000000</td>\n",
       "      <td>1.000000</td>\n",
       "      <td>1.000000</td>\n",
       "      <td>1.000000</td>\n",
       "      <td>0.317204</td>\n",
       "      <td>1.0</td>\n",
       "      <td>2024-03-20</td>\n",
       "    </tr>\n",
       "    <tr>\n",
       "      <th>9</th>\n",
       "      <td>1.000000</td>\n",
       "      <td>1.000000</td>\n",
       "      <td>1.000000</td>\n",
       "      <td>1.000000</td>\n",
       "      <td>0.336066</td>\n",
       "      <td>1.0</td>\n",
       "      <td>2024-03-21</td>\n",
       "    </tr>\n",
       "    <tr>\n",
       "      <th>10</th>\n",
       "      <td>1.000000</td>\n",
       "      <td>1.000000</td>\n",
       "      <td>1.000000</td>\n",
       "      <td>1.000000</td>\n",
       "      <td>0.344264</td>\n",
       "      <td>1.0</td>\n",
       "      <td>2024-03-22</td>\n",
       "    </tr>\n",
       "    <tr>\n",
       "      <th>11</th>\n",
       "      <td>1.000000</td>\n",
       "      <td>1.000000</td>\n",
       "      <td>1.000000</td>\n",
       "      <td>1.000000</td>\n",
       "      <td>0.356167</td>\n",
       "      <td>1.0</td>\n",
       "      <td>2024-03-23</td>\n",
       "    </tr>\n",
       "    <tr>\n",
       "      <th>12</th>\n",
       "      <td>1.000000</td>\n",
       "      <td>1.000000</td>\n",
       "      <td>1.000000</td>\n",
       "      <td>1.000000</td>\n",
       "      <td>0.367740</td>\n",
       "      <td>1.0</td>\n",
       "      <td>2024-03-24</td>\n",
       "    </tr>\n",
       "    <tr>\n",
       "      <th>13</th>\n",
       "      <td>0.986667</td>\n",
       "      <td>0.989583</td>\n",
       "      <td>0.986486</td>\n",
       "      <td>0.987906</td>\n",
       "      <td>0.383449</td>\n",
       "      <td>1.0</td>\n",
       "      <td>2024-03-25</td>\n",
       "    </tr>\n",
       "    <tr>\n",
       "      <th>14</th>\n",
       "      <td>0.986667</td>\n",
       "      <td>0.989583</td>\n",
       "      <td>0.986486</td>\n",
       "      <td>0.987906</td>\n",
       "      <td>0.390096</td>\n",
       "      <td>1.0</td>\n",
       "      <td>2024-03-26</td>\n",
       "    </tr>\n",
       "    <tr>\n",
       "      <th>15</th>\n",
       "      <td>0.986667</td>\n",
       "      <td>0.989583</td>\n",
       "      <td>0.986486</td>\n",
       "      <td>0.987906</td>\n",
       "      <td>0.404673</td>\n",
       "      <td>1.0</td>\n",
       "      <td>2024-03-27</td>\n",
       "    </tr>\n",
       "    <tr>\n",
       "      <th>16</th>\n",
       "      <td>0.986667</td>\n",
       "      <td>0.989583</td>\n",
       "      <td>0.986486</td>\n",
       "      <td>0.987906</td>\n",
       "      <td>0.412040</td>\n",
       "      <td>1.0</td>\n",
       "      <td>2024-03-28</td>\n",
       "    </tr>\n",
       "    <tr>\n",
       "      <th>17</th>\n",
       "      <td>0.986667</td>\n",
       "      <td>0.989583</td>\n",
       "      <td>0.986486</td>\n",
       "      <td>0.987906</td>\n",
       "      <td>0.415119</td>\n",
       "      <td>1.0</td>\n",
       "      <td>2024-03-29</td>\n",
       "    </tr>\n",
       "    <tr>\n",
       "      <th>18</th>\n",
       "      <td>0.986667</td>\n",
       "      <td>0.989583</td>\n",
       "      <td>0.986486</td>\n",
       "      <td>0.987906</td>\n",
       "      <td>0.419182</td>\n",
       "      <td>1.0</td>\n",
       "      <td>2024-03-30</td>\n",
       "    </tr>\n",
       "    <tr>\n",
       "      <th>19</th>\n",
       "      <td>0.986667</td>\n",
       "      <td>0.989583</td>\n",
       "      <td>0.986486</td>\n",
       "      <td>0.987906</td>\n",
       "      <td>0.424499</td>\n",
       "      <td>1.0</td>\n",
       "      <td>2024-03-31</td>\n",
       "    </tr>\n",
       "    <tr>\n",
       "      <th>20</th>\n",
       "      <td>0.986667</td>\n",
       "      <td>0.989583</td>\n",
       "      <td>0.986486</td>\n",
       "      <td>0.987906</td>\n",
       "      <td>0.428825</td>\n",
       "      <td>1.0</td>\n",
       "      <td>2024-04-01</td>\n",
       "    </tr>\n",
       "    <tr>\n",
       "      <th>21</th>\n",
       "      <td>0.974359</td>\n",
       "      <td>0.979167</td>\n",
       "      <td>0.972973</td>\n",
       "      <td>0.975914</td>\n",
       "      <td>0.436798</td>\n",
       "      <td>1.0</td>\n",
       "      <td>2024-04-02</td>\n",
       "    </tr>\n",
       "    <tr>\n",
       "      <th>22</th>\n",
       "      <td>0.962963</td>\n",
       "      <td>0.960648</td>\n",
       "      <td>0.959459</td>\n",
       "      <td>0.960116</td>\n",
       "      <td>0.446788</td>\n",
       "      <td>1.0</td>\n",
       "      <td>2024-04-03</td>\n",
       "    </tr>\n",
       "    <tr>\n",
       "      <th>23</th>\n",
       "      <td>0.962963</td>\n",
       "      <td>0.960648</td>\n",
       "      <td>0.959459</td>\n",
       "      <td>0.960116</td>\n",
       "      <td>0.451950</td>\n",
       "      <td>1.0</td>\n",
       "      <td>2024-04-04</td>\n",
       "    </tr>\n",
       "    <tr>\n",
       "      <th>24</th>\n",
       "      <td>0.962963</td>\n",
       "      <td>0.960648</td>\n",
       "      <td>0.959459</td>\n",
       "      <td>0.960116</td>\n",
       "      <td>0.459781</td>\n",
       "      <td>1.0</td>\n",
       "      <td>2024-04-05</td>\n",
       "    </tr>\n",
       "    <tr>\n",
       "      <th>25</th>\n",
       "      <td>0.952381</td>\n",
       "      <td>0.950231</td>\n",
       "      <td>0.945946</td>\n",
       "      <td>0.948442</td>\n",
       "      <td>0.465590</td>\n",
       "      <td>1.0</td>\n",
       "      <td>2024-04-06</td>\n",
       "    </tr>\n",
       "    <tr>\n",
       "      <th>26</th>\n",
       "      <td>0.952381</td>\n",
       "      <td>0.950231</td>\n",
       "      <td>0.945946</td>\n",
       "      <td>0.948442</td>\n",
       "      <td>0.466689</td>\n",
       "      <td>1.0</td>\n",
       "      <td>2024-04-07</td>\n",
       "    </tr>\n",
       "    <tr>\n",
       "      <th>27</th>\n",
       "      <td>0.952381</td>\n",
       "      <td>0.950231</td>\n",
       "      <td>0.945946</td>\n",
       "      <td>0.948442</td>\n",
       "      <td>0.469583</td>\n",
       "      <td>1.0</td>\n",
       "      <td>2024-04-08</td>\n",
       "    </tr>\n",
       "    <tr>\n",
       "      <th>28</th>\n",
       "      <td>0.952381</td>\n",
       "      <td>0.950231</td>\n",
       "      <td>0.945946</td>\n",
       "      <td>0.948442</td>\n",
       "      <td>0.481512</td>\n",
       "      <td>1.0</td>\n",
       "      <td>2024-04-09</td>\n",
       "    </tr>\n",
       "    <tr>\n",
       "      <th>29</th>\n",
       "      <td>0.952381</td>\n",
       "      <td>0.950231</td>\n",
       "      <td>0.945946</td>\n",
       "      <td>0.948442</td>\n",
       "      <td>0.485772</td>\n",
       "      <td>1.0</td>\n",
       "      <td>2024-04-10</td>\n",
       "    </tr>\n",
       "    <tr>\n",
       "      <th>30</th>\n",
       "      <td>0.952381</td>\n",
       "      <td>0.950231</td>\n",
       "      <td>0.945946</td>\n",
       "      <td>0.948442</td>\n",
       "      <td>0.489858</td>\n",
       "      <td>1.0</td>\n",
       "      <td>2024-04-11</td>\n",
       "    </tr>\n",
       "  </tbody>\n",
       "</table>\n",
       "</div>"
      ],
      "text/plain": [
       "    precision    recall  accuracy  f1_score  log_loss  roc_auc   eval_date\n",
       "0    1.000000  1.000000  1.000000  1.000000  0.259116      1.0  2024-03-12\n",
       "1    1.000000  1.000000  1.000000  1.000000  0.260146      1.0  2024-03-13\n",
       "2    1.000000  1.000000  1.000000  1.000000  0.262330      1.0  2024-03-14\n",
       "3    1.000000  1.000000  1.000000  1.000000  0.271806      1.0  2024-03-15\n",
       "4    1.000000  1.000000  1.000000  1.000000  0.279359      1.0  2024-03-16\n",
       "5    1.000000  1.000000  1.000000  1.000000  0.287254      1.0  2024-03-17\n",
       "6    1.000000  1.000000  1.000000  1.000000  0.295066      1.0  2024-03-18\n",
       "7    1.000000  1.000000  1.000000  1.000000  0.310428      1.0  2024-03-19\n",
       "8    1.000000  1.000000  1.000000  1.000000  0.317204      1.0  2024-03-20\n",
       "9    1.000000  1.000000  1.000000  1.000000  0.336066      1.0  2024-03-21\n",
       "10   1.000000  1.000000  1.000000  1.000000  0.344264      1.0  2024-03-22\n",
       "11   1.000000  1.000000  1.000000  1.000000  0.356167      1.0  2024-03-23\n",
       "12   1.000000  1.000000  1.000000  1.000000  0.367740      1.0  2024-03-24\n",
       "13   0.986667  0.989583  0.986486  0.987906  0.383449      1.0  2024-03-25\n",
       "14   0.986667  0.989583  0.986486  0.987906  0.390096      1.0  2024-03-26\n",
       "15   0.986667  0.989583  0.986486  0.987906  0.404673      1.0  2024-03-27\n",
       "16   0.986667  0.989583  0.986486  0.987906  0.412040      1.0  2024-03-28\n",
       "17   0.986667  0.989583  0.986486  0.987906  0.415119      1.0  2024-03-29\n",
       "18   0.986667  0.989583  0.986486  0.987906  0.419182      1.0  2024-03-30\n",
       "19   0.986667  0.989583  0.986486  0.987906  0.424499      1.0  2024-03-31\n",
       "20   0.986667  0.989583  0.986486  0.987906  0.428825      1.0  2024-04-01\n",
       "21   0.974359  0.979167  0.972973  0.975914  0.436798      1.0  2024-04-02\n",
       "22   0.962963  0.960648  0.959459  0.960116  0.446788      1.0  2024-04-03\n",
       "23   0.962963  0.960648  0.959459  0.960116  0.451950      1.0  2024-04-04\n",
       "24   0.962963  0.960648  0.959459  0.960116  0.459781      1.0  2024-04-05\n",
       "25   0.952381  0.950231  0.945946  0.948442  0.465590      1.0  2024-04-06\n",
       "26   0.952381  0.950231  0.945946  0.948442  0.466689      1.0  2024-04-07\n",
       "27   0.952381  0.950231  0.945946  0.948442  0.469583      1.0  2024-04-08\n",
       "28   0.952381  0.950231  0.945946  0.948442  0.481512      1.0  2024-04-09\n",
       "29   0.952381  0.950231  0.945946  0.948442  0.485772      1.0  2024-04-10\n",
       "30   0.952381  0.950231  0.945946  0.948442  0.489858      1.0  2024-04-11"
      ]
     },
     "execution_count": 333,
     "metadata": {},
     "output_type": "execute_result"
    }
   ],
   "source": [
    "evaluations"
   ]
  },
  {
   "cell_type": "code",
   "execution_count": 334,
   "metadata": {
    "tags": []
   },
   "outputs": [],
   "source": [
    "evaluations.set_index('eval_date', inplace = True)"
   ]
  },
  {
   "cell_type": "code",
   "execution_count": 335,
   "metadata": {
    "tags": []
   },
   "outputs": [
    {
     "data": {
      "text/plain": [
       "<Axes: title={'center': 'Evaluation Metrics Over Last 30 days'}, xlabel='eval_date'>"
      ]
     },
     "execution_count": 335,
     "metadata": {},
     "output_type": "execute_result"
    },
    {
     "data": {
      "image/png": "[encoded data removed]",
      "text/plain": [
       "<Figure size 800x300 with 1 Axes>"
      ]
     },
     "metadata": {},
     "output_type": "display_data"
    }
   ],
   "source": [
    "evaluations.plot(y = ['log_loss', 'f1_score', 'precision'], legend = True, title = 'Evaluation Metrics Over Last 30 days', figsize = (8, 3), grid = True)"
   ]
  },
  {
   "cell_type": "markdown",
   "metadata": {
    "tags": []
   },
   "source": [
    "---\n",
    "## **Model Monitoring**\n",
    "\n",
    "Reviewing model evaluations over time does show a pattern of deterioration in the example above.  But at what point is it actionable?  And what if each days evaluations are relying on actual values that took hours, days, weeks, or even months to be available?  \n",
    "\n",
    "Model monitoring takes a different approach.  It goes back to the source of the model, each input feature.  These features form a distribution at the input to the model (the training data) and this can be used to compare to over time.  By setting thresholds on these comparisons to the original training data, alerts can be used to notify that a models accuracy *could be* in question.  This comparison to the training data is called **skew** detection.\n",
    "\n",
    "Similarly, each days values could be compared to the previous days, or weeks values.  These comparisons are referred to as **drift** detection.  \n",
    "\n",
    "Both of these types of comparisons can be done directly in BigQuery with two functions built for these tasks:\n",
    "- [`ML.VALIDATE_DATA_SKEW`](https://cloud.google.com/bigquery/docs/reference/standard-sql/bigqueryml-syntax-validate-data-skew)\n",
    "- [`ML.VALIDATE_DATA_DRIFT`](https://cloud.google.com/bigquery/docs/reference/standard-sql/bigqueryml-syntax-validate-data-drift)"
   ]
  },
  {
   "cell_type": "markdown",
   "metadata": {},
   "source": [
    "### Monitoring Skew (Change from training) With `ML.VALIDATE_DATA_SKEW`\n",
    "\n",
    "Compare today, or any data, to the training data by directly comparing to the the model created in BigQuery."
   ]
  },
  {
   "cell_type": "code",
   "execution_count": 336,
   "metadata": {
    "tags": []
   },
   "outputs": [
    {
     "data": {
      "application/vnd.jupyter.widget-view+json": {
       "model_id": "e680434b53d541c98ab4de384d8c0fc4",
       "version_major": 2,
       "version_minor": 0
      },
      "text/plain": [
       "Query is running:   0%|          |"
      ]
     },
     "metadata": {},
     "output_type": "display_data"
    },
    {
     "data": {
      "application/vnd.jupyter.widget-view+json": {
       "model_id": "d7b9f0f6821742ae94a6eb2e20a74c20",
       "version_major": 2,
       "version_minor": 0
      },
      "text/plain": [
       "Downloading:   0%|          |"
      ]
     },
     "metadata": {},
     "output_type": "display_data"
    },
    {
     "data": {
      "text/html": [
       "<div>\n",
       "<style scoped>\n",
       "    .dataframe tbody tr th:only-of-type {\n",
       "        vertical-align: middle;\n",
       "    }\n",
       "\n",
       "    .dataframe tbody tr th {\n",
       "        vertical-align: top;\n",
       "    }\n",
       "\n",
       "    .dataframe thead th {\n",
       "        text-align: right;\n",
       "    }\n",
       "</style>\n",
       "<table border=\"1\" class=\"dataframe\">\n",
       "  <thead>\n",
       "    <tr style=\"text-align: right;\">\n",
       "      <th></th>\n",
       "      <th>input</th>\n",
       "      <th>metric</th>\n",
       "      <th>threshold</th>\n",
       "      <th>value</th>\n",
       "      <th>is_anomaly</th>\n",
       "    </tr>\n",
       "  </thead>\n",
       "  <tbody>\n",
       "    <tr>\n",
       "      <th>0</th>\n",
       "      <td>body_mass_g</td>\n",
       "      <td>JENSEN_SHANNON_DIVERGENCE</td>\n",
       "      <td>0.3</td>\n",
       "      <td>0.343182</td>\n",
       "      <td>True</td>\n",
       "    </tr>\n",
       "    <tr>\n",
       "      <th>1</th>\n",
       "      <td>culmen_depth_mm</td>\n",
       "      <td>JENSEN_SHANNON_DIVERGENCE</td>\n",
       "      <td>0.3</td>\n",
       "      <td>0.018682</td>\n",
       "      <td>False</td>\n",
       "    </tr>\n",
       "    <tr>\n",
       "      <th>2</th>\n",
       "      <td>culmen_length_mm</td>\n",
       "      <td>JENSEN_SHANNON_DIVERGENCE</td>\n",
       "      <td>0.3</td>\n",
       "      <td>0.024098</td>\n",
       "      <td>False</td>\n",
       "    </tr>\n",
       "    <tr>\n",
       "      <th>3</th>\n",
       "      <td>flipper_length_mm</td>\n",
       "      <td>JENSEN_SHANNON_DIVERGENCE</td>\n",
       "      <td>0.3</td>\n",
       "      <td>0.895783</td>\n",
       "      <td>True</td>\n",
       "    </tr>\n",
       "    <tr>\n",
       "      <th>4</th>\n",
       "      <td>island</td>\n",
       "      <td>L_INFTY</td>\n",
       "      <td>0.3</td>\n",
       "      <td>0.071088</td>\n",
       "      <td>False</td>\n",
       "    </tr>\n",
       "    <tr>\n",
       "      <th>5</th>\n",
       "      <td>sex</td>\n",
       "      <td>L_INFTY</td>\n",
       "      <td>0.3</td>\n",
       "      <td>0.005264</td>\n",
       "      <td>False</td>\n",
       "    </tr>\n",
       "  </tbody>\n",
       "</table>\n",
       "</div>"
      ],
      "text/plain": [
       "               input                     metric  threshold     value  \\\n",
       "0        body_mass_g  JENSEN_SHANNON_DIVERGENCE        0.3  0.343182   \n",
       "1    culmen_depth_mm  JENSEN_SHANNON_DIVERGENCE        0.3  0.018682   \n",
       "2   culmen_length_mm  JENSEN_SHANNON_DIVERGENCE        0.3  0.024098   \n",
       "3  flipper_length_mm  JENSEN_SHANNON_DIVERGENCE        0.3  0.895783   \n",
       "4             island                    L_INFTY        0.3  0.071088   \n",
       "5                sex                    L_INFTY        0.3  0.005264   \n",
       "\n",
       "   is_anomaly  \n",
       "0        True  \n",
       "1       False  \n",
       "2       False  \n",
       "3        True  \n",
       "4       False  \n",
       "5       False  "
      ]
     },
     "execution_count": 336,
     "metadata": {},
     "output_type": "execute_result"
    }
   ],
   "source": [
    "%%bigquery\n",
    "SELECT *\n",
    "FROM ML.VALIDATE_DATA_SKEW(\n",
    "    MODEL `statmike-mlops-349915.bqml_model_monitoring.classify_species_rf`,\n",
    "    (\n",
    "        SELECT *\n",
    "        FROM `statmike-mlops-349915.bqml_model_monitoring.serving`\n",
    "        WHERE DATE(instance_timestamp) >= CURRENT_DATE()\n",
    "    )\n",
    ");"
   ]
  },
  {
   "cell_type": "markdown",
   "metadata": {},
   "source": [
    "### Monitoring Drift (Change Over Time) With `ML.VALIDATE_DATA_DRIFT`\n",
    "\n",
    "Compare today to 5 days ago and set the a lower, more sensitive, threshold of `0.03` (default is `0.3`) for all features."
   ]
  },
  {
   "cell_type": "code",
   "execution_count": 337,
   "metadata": {
    "tags": []
   },
   "outputs": [
    {
     "data": {
      "application/vnd.jupyter.widget-view+json": {
       "model_id": "cccbb65c979b4e328a13eab062a22dab",
       "version_major": 2,
       "version_minor": 0
      },
      "text/plain": [
       "Query is running:   0%|          |"
      ]
     },
     "metadata": {},
     "output_type": "display_data"
    },
    {
     "data": {
      "application/vnd.jupyter.widget-view+json": {
       "model_id": "13a3684d924d48779f6ca54ef0af9aa6",
       "version_major": 2,
       "version_minor": 0
      },
      "text/plain": [
       "Downloading:   0%|          |"
      ]
     },
     "metadata": {},
     "output_type": "display_data"
    },
    {
     "data": {
      "text/html": [
       "<div>\n",
       "<style scoped>\n",
       "    .dataframe tbody tr th:only-of-type {\n",
       "        vertical-align: middle;\n",
       "    }\n",
       "\n",
       "    .dataframe tbody tr th {\n",
       "        vertical-align: top;\n",
       "    }\n",
       "\n",
       "    .dataframe thead th {\n",
       "        text-align: right;\n",
       "    }\n",
       "</style>\n",
       "<table border=\"1\" class=\"dataframe\">\n",
       "  <thead>\n",
       "    <tr style=\"text-align: right;\">\n",
       "      <th></th>\n",
       "      <th>input</th>\n",
       "      <th>metric</th>\n",
       "      <th>threshold</th>\n",
       "      <th>value</th>\n",
       "      <th>is_anomaly</th>\n",
       "    </tr>\n",
       "  </thead>\n",
       "  <tbody>\n",
       "    <tr>\n",
       "      <th>0</th>\n",
       "      <td>body_mass_g</td>\n",
       "      <td>JENSEN_SHANNON_DIVERGENCE</td>\n",
       "      <td>0.03</td>\n",
       "      <td>0.055353</td>\n",
       "      <td>True</td>\n",
       "    </tr>\n",
       "    <tr>\n",
       "      <th>1</th>\n",
       "      <td>culmen_depth_mm</td>\n",
       "      <td>JENSEN_SHANNON_DIVERGENCE</td>\n",
       "      <td>0.03</td>\n",
       "      <td>0.000000</td>\n",
       "      <td>False</td>\n",
       "    </tr>\n",
       "    <tr>\n",
       "      <th>2</th>\n",
       "      <td>culmen_length_mm</td>\n",
       "      <td>JENSEN_SHANNON_DIVERGENCE</td>\n",
       "      <td>0.03</td>\n",
       "      <td>0.000000</td>\n",
       "      <td>False</td>\n",
       "    </tr>\n",
       "    <tr>\n",
       "      <th>3</th>\n",
       "      <td>flipper_length_mm</td>\n",
       "      <td>JENSEN_SHANNON_DIVERGENCE</td>\n",
       "      <td>0.03</td>\n",
       "      <td>0.102354</td>\n",
       "      <td>True</td>\n",
       "    </tr>\n",
       "    <tr>\n",
       "      <th>4</th>\n",
       "      <td>island</td>\n",
       "      <td>L_INFTY</td>\n",
       "      <td>0.03</td>\n",
       "      <td>0.000000</td>\n",
       "      <td>False</td>\n",
       "    </tr>\n",
       "    <tr>\n",
       "      <th>5</th>\n",
       "      <td>sex</td>\n",
       "      <td>L_INFTY</td>\n",
       "      <td>0.03</td>\n",
       "      <td>0.000000</td>\n",
       "      <td>False</td>\n",
       "    </tr>\n",
       "  </tbody>\n",
       "</table>\n",
       "</div>"
      ],
      "text/plain": [
       "               input                     metric  threshold     value  \\\n",
       "0        body_mass_g  JENSEN_SHANNON_DIVERGENCE       0.03  0.055353   \n",
       "1    culmen_depth_mm  JENSEN_SHANNON_DIVERGENCE       0.03  0.000000   \n",
       "2   culmen_length_mm  JENSEN_SHANNON_DIVERGENCE       0.03  0.000000   \n",
       "3  flipper_length_mm  JENSEN_SHANNON_DIVERGENCE       0.03  0.102354   \n",
       "4             island                    L_INFTY       0.03  0.000000   \n",
       "5                sex                    L_INFTY       0.03  0.000000   \n",
       "\n",
       "   is_anomaly  \n",
       "0        True  \n",
       "1       False  \n",
       "2       False  \n",
       "3        True  \n",
       "4       False  \n",
       "5       False  "
      ]
     },
     "execution_count": 337,
     "metadata": {},
     "output_type": "execute_result"
    }
   ],
   "source": [
    "%%bigquery\n",
    "SELECT *\n",
    "FROM ML.VALIDATE_DATA_DRIFT(\n",
    "    (\n",
    "        SELECT * EXCEPT(instance_timestamp, species)\n",
    "        FROM `statmike-mlops-349915.bqml_model_monitoring.serving`\n",
    "        WHERE DATE(instance_timestamp) = DATE_SUB(CURRENT_DATE(), INTERVAL 5 DAY)\n",
    "    ),\n",
    "    (\n",
    "        SELECT * EXCEPT(instance_timestamp, species)\n",
    "        FROM `statmike-mlops-349915.bqml_model_monitoring.serving`\n",
    "        WHERE DATE(instance_timestamp) = CURRENT_DATE() \n",
    "    ),\n",
    "    STRUCT(\n",
    "        0.03 AS categorical_default_threshold,\n",
    "        0.03 AS numerical_default_threshold\n",
    "    )\n",
    ");"
   ]
  },
  {
   "cell_type": "markdown",
   "metadata": {},
   "source": [
    "### Monitoring Skew (Manually) - As Drift from Training Data\n",
    "\n",
    "Since the `ML.VALIDATE_DATA_DRIFT` is comparing two tables, it could also be used for **skew** by comparing the training data to new data, like todays data:"
   ]
  },
  {
   "cell_type": "code",
   "execution_count": 338,
   "metadata": {
    "tags": []
   },
   "outputs": [
    {
     "data": {
      "application/vnd.jupyter.widget-view+json": {
       "model_id": "65e608cc318249d0bbe8608201a01f51",
       "version_major": 2,
       "version_minor": 0
      },
      "text/plain": [
       "Query is running:   0%|          |"
      ]
     },
     "metadata": {},
     "output_type": "display_data"
    },
    {
     "data": {
      "application/vnd.jupyter.widget-view+json": {
       "model_id": "11c977478e5848c4a23df07f54dc48d5",
       "version_major": 2,
       "version_minor": 0
      },
      "text/plain": [
       "Downloading:   0%|          |"
      ]
     },
     "metadata": {},
     "output_type": "display_data"
    },
    {
     "data": {
      "text/html": [
       "<div>\n",
       "<style scoped>\n",
       "    .dataframe tbody tr th:only-of-type {\n",
       "        vertical-align: middle;\n",
       "    }\n",
       "\n",
       "    .dataframe tbody tr th {\n",
       "        vertical-align: top;\n",
       "    }\n",
       "\n",
       "    .dataframe thead th {\n",
       "        text-align: right;\n",
       "    }\n",
       "</style>\n",
       "<table border=\"1\" class=\"dataframe\">\n",
       "  <thead>\n",
       "    <tr style=\"text-align: right;\">\n",
       "      <th></th>\n",
       "      <th>input</th>\n",
       "      <th>metric</th>\n",
       "      <th>threshold</th>\n",
       "      <th>value</th>\n",
       "      <th>is_anomaly</th>\n",
       "    </tr>\n",
       "  </thead>\n",
       "  <tbody>\n",
       "    <tr>\n",
       "      <th>0</th>\n",
       "      <td>body_mass_g</td>\n",
       "      <td>JENSEN_SHANNON_DIVERGENCE</td>\n",
       "      <td>0.3</td>\n",
       "      <td>0.343182</td>\n",
       "      <td>True</td>\n",
       "    </tr>\n",
       "    <tr>\n",
       "      <th>1</th>\n",
       "      <td>culmen_depth_mm</td>\n",
       "      <td>JENSEN_SHANNON_DIVERGENCE</td>\n",
       "      <td>0.3</td>\n",
       "      <td>0.018682</td>\n",
       "      <td>False</td>\n",
       "    </tr>\n",
       "    <tr>\n",
       "      <th>2</th>\n",
       "      <td>culmen_length_mm</td>\n",
       "      <td>JENSEN_SHANNON_DIVERGENCE</td>\n",
       "      <td>0.3</td>\n",
       "      <td>0.024098</td>\n",
       "      <td>False</td>\n",
       "    </tr>\n",
       "    <tr>\n",
       "      <th>3</th>\n",
       "      <td>flipper_length_mm</td>\n",
       "      <td>JENSEN_SHANNON_DIVERGENCE</td>\n",
       "      <td>0.3</td>\n",
       "      <td>0.895783</td>\n",
       "      <td>True</td>\n",
       "    </tr>\n",
       "    <tr>\n",
       "      <th>4</th>\n",
       "      <td>island</td>\n",
       "      <td>L_INFTY</td>\n",
       "      <td>0.3</td>\n",
       "      <td>0.071088</td>\n",
       "      <td>False</td>\n",
       "    </tr>\n",
       "    <tr>\n",
       "      <th>5</th>\n",
       "      <td>sex</td>\n",
       "      <td>L_INFTY</td>\n",
       "      <td>0.3</td>\n",
       "      <td>0.005264</td>\n",
       "      <td>False</td>\n",
       "    </tr>\n",
       "  </tbody>\n",
       "</table>\n",
       "</div>"
      ],
      "text/plain": [
       "               input                     metric  threshold     value  \\\n",
       "0        body_mass_g  JENSEN_SHANNON_DIVERGENCE        0.3  0.343182   \n",
       "1    culmen_depth_mm  JENSEN_SHANNON_DIVERGENCE        0.3  0.018682   \n",
       "2   culmen_length_mm  JENSEN_SHANNON_DIVERGENCE        0.3  0.024098   \n",
       "3  flipper_length_mm  JENSEN_SHANNON_DIVERGENCE        0.3  0.895783   \n",
       "4             island                    L_INFTY        0.3  0.071088   \n",
       "5                sex                    L_INFTY        0.3  0.005264   \n",
       "\n",
       "   is_anomaly  \n",
       "0        True  \n",
       "1       False  \n",
       "2       False  \n",
       "3        True  \n",
       "4       False  \n",
       "5       False  "
      ]
     },
     "execution_count": 338,
     "metadata": {},
     "output_type": "execute_result"
    }
   ],
   "source": [
    "%%bigquery\n",
    "SELECT *\n",
    "FROM ML.VALIDATE_DATA_DRIFT(\n",
    "    (\n",
    "        SELECT *\n",
    "        FROM `statmike-mlops-349915.bqml_model_monitoring.training_split`\n",
    "        WHERE splits = 'TRAIN'\n",
    "    ),\n",
    "    (\n",
    "        SELECT * EXCEPT(instance_timestamp, species)\n",
    "        FROM `statmike-mlops-349915.bqml_model_monitoring.serving`\n",
    "        WHERE DATE(instance_timestamp) = CURRENT_DATE() \n",
    "    )\n",
    ");"
   ]
  },
  {
   "cell_type": "markdown",
   "metadata": {},
   "source": [
    "---\n",
    "### TensorFlow Data Validation (TFDV) In BigQuery\n",
    "\n",
    "BigQuery offers two functions that bring the power of the TensorFlow's [TFX platform](https://www.tensorflow.org/tfx) with built-in [TensorFlow Data Validation (TFDV)](https://www.tensorflow.org/tfx/data_validation/get_started) module directly inside of BigQuery.\n",
    "- [`ML.TFDV_DESCRIBE`](https://cloud.google.com/bigquery/docs/reference/standard-sql/bigqueryml-syntax-tfdv-describe) to generate descriptive statistics of any table\n",
    "- [`ML.TFDV_VALIDATE`](https://cloud.google.com/bigquery/docs/reference/standard-sql/bigqueryml-syntax-tfdv-validate) to compare statistics of two tables"
   ]
  },
  {
   "cell_type": "markdown",
   "metadata": {},
   "source": [
    "#### Generate Statistics with `ML.TFDV_DESCRIBE`\n",
    "\n",
    "Generate statistics for any table, in this case the training data features or a timespan of serving data features.  This is like using the TensorFlow's [TFX platform](https://www.tensorflow.org/tfx) with built-in [TensorFlow Data Validation (TFDV)](https://www.tensorflow.org/tfx/data_validation/get_started) module's [`tfdv.generate_statistics_from_csv()`](https://www.tensorflow.org/tfx/data_validation/api_docs/python/tfdv/generate_statistics_from_csv) method.\n",
    "\n",
    "The descriptions can be used in comparisons for skew or drift detection with the `ML.TFDV_VALIDATE` function, covered next, as well as in the visualization tool `tfdv.visualize_statistics` also covered below."
   ]
  },
  {
   "cell_type": "code",
   "execution_count": 339,
   "metadata": {
    "tags": []
   },
   "outputs": [
    {
     "data": {
      "application/vnd.jupyter.widget-view+json": {
       "model_id": "06d8db653243490da7da5602f5670b32",
       "version_major": 2,
       "version_minor": 0
      },
      "text/plain": [
       "Query is running:   0%|          |"
      ]
     },
     "metadata": {},
     "output_type": "display_data"
    },
    {
     "data": {
      "application/vnd.jupyter.widget-view+json": {
       "model_id": "4639d784abb647abab468c77a9dfa587",
       "version_major": 2,
       "version_minor": 0
      },
      "text/plain": [
       "Downloading:   0%|          |"
      ]
     },
     "metadata": {},
     "output_type": "display_data"
    }
   ],
   "source": [
    "%%bigquery train_describe\n",
    "SELECT *\n",
    "FROM ML.TFDV_DESCRIBE(\n",
    "    (\n",
    "        SELECT * EXCEPT(splits, species)\n",
    "        FROM `statmike-mlops-349915.bqml_model_monitoring.training_split`\n",
    "        WHERE splits = 'TRAIN'\n",
    "    )\n",
    ")"
   ]
  },
  {
   "cell_type": "code",
   "execution_count": 340,
   "metadata": {
    "tags": []
   },
   "outputs": [],
   "source": [
    "train_describe = json.loads(train_describe['dataset_feature_statistics_list'].iloc[0])"
   ]
  },
  {
   "cell_type": "code",
   "execution_count": 341,
   "metadata": {
    "tags": []
   },
   "outputs": [
    {
     "data": {
      "text/plain": [
       "{'name': 'body_mass_g',\n",
       " 'num_stats': {'common_stats': {'avg_num_values': 1,\n",
       "   'max_num_values': '1',\n",
       "   'min_num_values': '1',\n",
       "   'num_non_missing': '236',\n",
       "   'num_values_histogram': {'buckets': [{'high_value': 1,\n",
       "      'low_value': 1,\n",
       "      'sample_count': 23.8},\n",
       "     {'high_value': 1, 'low_value': 1, 'sample_count': 23.8},\n",
       "     {'high_value': 1, 'low_value': 1, 'sample_count': 23.8},\n",
       "     {'high_value': 1, 'low_value': 1, 'sample_count': 23.8},\n",
       "     {'high_value': 1, 'low_value': 1, 'sample_count': 23.8},\n",
       "     {'high_value': 1, 'low_value': 1, 'sample_count': 23.8},\n",
       "     {'high_value': 1, 'low_value': 1, 'sample_count': 23.8},\n",
       "     {'high_value': 1, 'low_value': 1, 'sample_count': 23.8},\n",
       "     {'high_value': 1, 'low_value': 1, 'sample_count': 23.8},\n",
       "     {'high_value': 1, 'low_value': 1, 'sample_count': 23.8}],\n",
       "    'type': 'QUANTILES'},\n",
       "   'tot_num_values': '236'},\n",
       "  'histograms': [{'buckets': [{'high_value': 3325,\n",
       "      'low_value': 2850,\n",
       "      'sample_count': 23.8},\n",
       "     {'high_value': 3500, 'low_value': 3325, 'sample_count': 23.8},\n",
       "     {'high_value': 3700, 'low_value': 3500, 'sample_count': 23.8},\n",
       "     {'high_value': 3800, 'low_value': 3700, 'sample_count': 23.8},\n",
       "     {'high_value': 4000, 'low_value': 3800, 'sample_count': 23.8},\n",
       "     {'high_value': 4300, 'low_value': 4000, 'sample_count': 23.8},\n",
       "     {'high_value': 4650, 'low_value': 4300, 'sample_count': 23.8},\n",
       "     {'high_value': 4875, 'low_value': 4650, 'sample_count': 23.8},\n",
       "     {'high_value': 5400, 'low_value': 4875, 'sample_count': 23.8},\n",
       "     {'high_value': 6050, 'low_value': 5400, 'sample_count': 23.8}],\n",
       "    'type': 'QUANTILES'},\n",
       "   {'buckets': [{'high_value': 3170,\n",
       "      'low_value': 2850,\n",
       "      'sample_count': 11.043199999999986},\n",
       "     {'high_value': 3490,\n",
       "      'low_value': 3170,\n",
       "      'sample_count': 35.27159999999994},\n",
       "     {'high_value': 3810,\n",
       "      'low_value': 3490,\n",
       "      'sample_count': 49.45639999999992},\n",
       "     {'high_value': 4130,\n",
       "      'low_value': 3810,\n",
       "      'sample_count': 32.41559999999995},\n",
       "     {'high_value': 4450,\n",
       "      'low_value': 4130,\n",
       "      'sample_count': 29.131199999999954},\n",
       "     {'high_value': 4770,\n",
       "      'low_value': 4450,\n",
       "      'sample_count': 25.18039999999996},\n",
       "     {'high_value': 5090,\n",
       "      'low_value': 4770,\n",
       "      'sample_count': 18.325999999999976},\n",
       "     {'high_value': 5410,\n",
       "      'low_value': 5090,\n",
       "      'sample_count': 16.04119999999998},\n",
       "     {'high_value': 5730,\n",
       "      'low_value': 5410,\n",
       "      'sample_count': 13.185199999999982},\n",
       "     {'high_value': 6050,\n",
       "      'low_value': 5730,\n",
       "      'sample_count': 7.949199999999992}]}],\n",
       "  'max': 6050,\n",
       "  'mean': 4198.7288135593235,\n",
       "  'median': 4000,\n",
       "  'min': 2850,\n",
       "  'std_dev': 766.4222368263999},\n",
       " 'type': 'FLOAT'}"
      ]
     },
     "execution_count": 341,
     "metadata": {},
     "output_type": "execute_result"
    }
   ],
   "source": [
    "train_describe['datasets'][0]['features'][0]"
   ]
  },
  {
   "cell_type": "code",
   "execution_count": 342,
   "metadata": {
    "tags": []
   },
   "outputs": [
    {
     "data": {
      "application/vnd.jupyter.widget-view+json": {
       "model_id": "50ae5925cc2a4cd5aaca61ded7825577",
       "version_major": 2,
       "version_minor": 0
      },
      "text/plain": [
       "Query is running:   0%|          |"
      ]
     },
     "metadata": {},
     "output_type": "display_data"
    },
    {
     "data": {
      "application/vnd.jupyter.widget-view+json": {
       "model_id": "04d7a936c74845c3a97a9af8a8b94c6a",
       "version_major": 2,
       "version_minor": 0
      },
      "text/plain": [
       "Downloading:   0%|          |"
      ]
     },
     "metadata": {},
     "output_type": "display_data"
    }
   ],
   "source": [
    "%%bigquery today_describe\n",
    "SELECT *\n",
    "FROM ML.TFDV_DESCRIBE(\n",
    "    (\n",
    "        SELECT * EXCEPT(instance_timestamp, species)\n",
    "        FROM `statmike-mlops-349915.bqml_model_monitoring.serving`\n",
    "        WHERE DATE(instance_timestamp) = CURRENT_DATE()\n",
    "    )\n",
    ")"
   ]
  },
  {
   "cell_type": "code",
   "execution_count": 343,
   "metadata": {
    "tags": []
   },
   "outputs": [],
   "source": [
    "today_describe = json.loads(today_describe['dataset_feature_statistics_list'].iloc[0])"
   ]
  },
  {
   "cell_type": "code",
   "execution_count": 344,
   "metadata": {
    "tags": []
   },
   "outputs": [],
   "source": [
    "#today_describe['datasets'][0]['features'][0]"
   ]
  },
  {
   "cell_type": "markdown",
   "metadata": {},
   "source": [
    "#### Visualize Statistics with `tfdv.visualize_statistics`\n",
    "\n",
    "Use the [`tfdv.visualize_statistics`](https://www.tensorflow.org/tfx/data_validation/api_docs/python/tfdv/visualize_statistics) tool to visualize the generated descriptions and directly compare them.  This presents visuals using [Facets Overview](https://pair-code.github.io/facets/)."
   ]
  },
  {
   "cell_type": "code",
   "execution_count": 345,
   "metadata": {
    "tags": []
   },
   "outputs": [],
   "source": [
    "import os\n",
    "os.environ['TF_CPP_MIN_LOG_LEVEL'] = '3'\n",
    "import tensorflow_data_validation as tfdv\n",
    "import tensorflow_metadata as tfmd\n",
    "from google.protobuf import json_format"
   ]
  },
  {
   "cell_type": "code",
   "execution_count": 346,
   "metadata": {
    "tags": []
   },
   "outputs": [
    {
     "data": {
      "text/html": [
       "<iframe id='facets-iframe' width=\"100%\" height=\"500px\"></iframe>\n",
       "        <script>\n",
       "        facets_iframe = document.getElementById('facets-iframe');\n",
       "        facets_html = '<script src=\"https://cdnjs.cloudflare.com/ajax/libs/webcomponentsjs/1.3.3/webcomponents-lite.js\"><\\/script><link rel=\"import\" href=\"https://raw.githubusercontent.com/PAIR-code/facets/master/facets-dist/facets-jupyter.html\"><facets-overview proto-input=\"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\"></facets-overview>';\n",
       "        facets_iframe.srcdoc = facets_html;\n",
       "         facets_iframe.id = \"\";\n",
       "         setTimeout(() => {\n",
       "           facets_iframe.setAttribute('height', facets_iframe.contentWindow.document.body.offsetHeight + 'px')\n",
       "         }, 1500)\n",
       "         </script>"
      ],
      "text/plain": [
       "<IPython.core.display.HTML object>"
      ]
     },
     "metadata": {},
     "output_type": "display_data"
    }
   ],
   "source": [
    "tfdv.visualize_statistics(\n",
    "    lhs_statistics = json_format.ParseDict(train_describe, tfmd.proto.statistics_pb2.DatasetFeatureStatisticsList()),\n",
    "    rhs_statistics = json_format.ParseDict(today_describe, tfmd.proto.statistics_pb2.DatasetFeatureStatisticsList()),\n",
    "    lhs_name = 'Training Data Stats',\n",
    "    rhs_name = 'Serving Data Stats - For Today'\n",
    ")"
   ]
  },
  {
   "cell_type": "markdown",
   "metadata": {},
   "source": [
    "#### Compare And Detect Anomalies with `ML.TFDV_VALIDATE`\n",
    "\n",
    "Compare the distribution of any table to a base table and compute distance statistics to detect anomalies.  This is like using the TensorFlow's [TFX platform](https://www.tensorflow.org/tfx) with built-in [TensorFlow Data Validation (TFDV)](https://www.tensorflow.org/tfx/data_validation/get_started) module's [validate_statistics api](https://www.tensorflow.org/tfx/data_validation/api_docs/python/tfdv/validate_statistics).\n",
    "\n",
    "These comparison can be made to training data for **skew** detection or previous serving data for **drift** detection."
   ]
  },
  {
   "cell_type": "code",
   "execution_count": 347,
   "metadata": {
    "tags": []
   },
   "outputs": [
    {
     "data": {
      "application/vnd.jupyter.widget-view+json": {
       "model_id": "e8fee583137f4f7eab76e08652900008",
       "version_major": 2,
       "version_minor": 0
      },
      "text/plain": [
       "Query is running:   0%|          |"
      ]
     },
     "metadata": {},
     "output_type": "display_data"
    },
    {
     "data": {
      "application/vnd.jupyter.widget-view+json": {
       "model_id": "bcee0d60cd8244349fde40663a4646b4",
       "version_major": 2,
       "version_minor": 0
      },
      "text/plain": [
       "Downloading:   0%|          |"
      ]
     },
     "metadata": {},
     "output_type": "display_data"
    }
   ],
   "source": [
    "%%bigquery validate\n",
    "WITH\n",
    "    TRAIN AS (\n",
    "        SELECT * EXCEPT(splits, species)\n",
    "        FROM `statmike-mlops-349915.bqml_model_monitoring.training_split`\n",
    "        WHERE splits = 'TRAIN'\n",
    "    ),\n",
    "    SERVE AS (\n",
    "        SELECT * EXCEPT(instance_timestamp, species)\n",
    "        FROM `statmike-mlops-349915.bqml_model_monitoring.serving`\n",
    "        WHERE DATE(instance_timestamp) = CURRENT_DATE()\n",
    "    )\n",
    "SELECT ML.TFDV_VALIDATE(\n",
    "    (SELECT * FROM ML.TFDV_DESCRIBE(TABLE TRAIN)),\n",
    "    (SELECT * FROM ML.TFDV_DESCRIBE(TABLE SERVE)),\n",
    "    'SKEW'\n",
    ") as validate"
   ]
  },
  {
   "cell_type": "code",
   "execution_count": 348,
   "metadata": {
    "tags": []
   },
   "outputs": [],
   "source": [
    "validate = json.loads(validate['validate'].iloc[0])"
   ]
  },
  {
   "cell_type": "code",
   "execution_count": 349,
   "metadata": {
    "tags": []
   },
   "outputs": [],
   "source": [
    "#validate['anomaly_info']"
   ]
  },
  {
   "cell_type": "markdown",
   "metadata": {},
   "source": [
    "#### Display Anomalies with `tfdv.display_anomalies`\n",
    "\n",
    "Use the [`tfdv.display_anomalies`](https://www.tensorflow.org/tfx/data_validation/api_docs/python/tfdv/display_anomalies) tool to display a table of anomaly detections with descriptions."
   ]
  },
  {
   "cell_type": "code",
   "execution_count": 350,
   "metadata": {
    "tags": []
   },
   "outputs": [],
   "source": [
    "if 'generate_legacy_feature_spec' in validate['baseline'].keys():\n",
    "    del validate['baseline']['generate_legacy_feature_spec']"
   ]
  },
  {
   "cell_type": "code",
   "execution_count": 351,
   "metadata": {
    "tags": []
   },
   "outputs": [
    {
     "data": {
      "text/html": [
       "<div>\n",
       "<style scoped>\n",
       "    .dataframe tbody tr th:only-of-type {\n",
       "        vertical-align: middle;\n",
       "    }\n",
       "\n",
       "    .dataframe tbody tr th {\n",
       "        vertical-align: top;\n",
       "    }\n",
       "\n",
       "    .dataframe thead th {\n",
       "        text-align: right;\n",
       "    }\n",
       "</style>\n",
       "<table border=\"1\" class=\"dataframe\">\n",
       "  <thead>\n",
       "    <tr style=\"text-align: right;\">\n",
       "      <th></th>\n",
       "      <th>Anomaly short description</th>\n",
       "      <th>Anomaly long description</th>\n",
       "    </tr>\n",
       "    <tr>\n",
       "      <th>Feature name</th>\n",
       "      <th></th>\n",
       "      <th></th>\n",
       "    </tr>\n",
       "  </thead>\n",
       "  <tbody>\n",
       "    <tr>\n",
       "      <th>'flipper_length_mm'</th>\n",
       "      <td>High approximate Jensen-Shannon divergence between training and serving</td>\n",
       "      <td>The approximate Jensen-Shannon divergence between training and serving is 0.895783 (up to six significant digits), above the threshold 0.3.</td>\n",
       "    </tr>\n",
       "    <tr>\n",
       "      <th>'body_mass_g'</th>\n",
       "      <td>High approximate Jensen-Shannon divergence between training and serving</td>\n",
       "      <td>The approximate Jensen-Shannon divergence between training and serving is 0.343182 (up to six significant digits), above the threshold 0.3.</td>\n",
       "    </tr>\n",
       "  </tbody>\n",
       "</table>\n",
       "</div>"
      ],
      "text/plain": [
       "                                                                   Anomaly short description  \\\n",
       "Feature name                                                                                   \n",
       "'flipper_length_mm'  High approximate Jensen-Shannon divergence between training and serving   \n",
       "'body_mass_g'        High approximate Jensen-Shannon divergence between training and serving   \n",
       "\n",
       "                                                                                                                                        Anomaly long description  \n",
       "Feature name                                                                                                                                                      \n",
       "'flipper_length_mm'  The approximate Jensen-Shannon divergence between training and serving is 0.895783 (up to six significant digits), above the threshold 0.3.  \n",
       "'body_mass_g'        The approximate Jensen-Shannon divergence between training and serving is 0.343182 (up to six significant digits), above the threshold 0.3.  "
      ]
     },
     "metadata": {},
     "output_type": "display_data"
    }
   ],
   "source": [
    "tfdv.display_anomalies(\n",
    "    anomalies = json_format.ParseDict(validate, tfmd.proto.anomalies_pb2.Anomalies())\n",
    ")"
   ]
  },
  {
   "cell_type": "markdown",
   "metadata": {},
   "source": [
    "---\n",
    "## Understanding Monitoring Thresholds\n",
    "\n",
    "The `ML.VALIDATE_DATA_DRIFT`, `ML.VALIDATE_DATA_SKEW`, and `ML.TFDV_VALIDATE` functions use distance scores to quantify the change in the statistical distribution of features.  The methods of calculating the distance scores are:\n",
    "- [L-infinity distance](https://en.wikipedia.org/wiki/Chebyshev_distance) for categorical features\n",
    "- [Jensen-Shannon divergence](https://en.wikipedia.org/wiki/Jensen%E2%80%93Shannon_divergence) for numeric features.  Can also be use for categorical features.\n",
    "\n",
    "These methods are the same ones used by [TensorFlow Data Validation](https://www.tensorflow.org/tfx/guide/tfdv#training-serving_skew_detection) which is also used in [Vertex AI Model Monitoring](https://cloud.google.com/vertex-ai/docs/model-monitoring/overview#calculating-skew-and-drift).\n",
    "\n",
    "This section aims to provide intuition on how these two metrics work.  In the data used for this workflow the feature `island` has three possible values: `Biscoe`, `Dream`, and `Torgersen`.  The proportion of data in each of these categories forms a distribution.  This will be used to visually show how both methods of calculating distance scores work."
   ]
  },
  {
   "cell_type": "code",
   "execution_count": 463,
   "metadata": {
    "tags": []
   },
   "outputs": [],
   "source": [
    "import pandas as pd\n",
    "import numpy as np"
   ]
  },
  {
   "cell_type": "markdown",
   "metadata": {},
   "source": [
    "### Retrieve Distributions: Training & Serving\n",
    "\n",
    "Use the `ML.TFDV_DESCRIBE` function to get the statistics for the distribution of the `island` feature at both training and for serving."
   ]
  },
  {
   "cell_type": "code",
   "execution_count": 426,
   "metadata": {
    "tags": []
   },
   "outputs": [
    {
     "data": {
      "application/vnd.jupyter.widget-view+json": {
       "model_id": "af0a45b05ef9458685275ddf71704d52",
       "version_major": 2,
       "version_minor": 0
      },
      "text/plain": [
       "Query is running:   0%|          |"
      ]
     },
     "metadata": {},
     "output_type": "display_data"
    },
    {
     "data": {
      "application/vnd.jupyter.widget-view+json": {
       "model_id": "fd2d16e9aef943d6a9b8dcde2fada236",
       "version_major": 2,
       "version_minor": 0
      },
      "text/plain": [
       "Downloading:   0%|          |"
      ]
     },
     "metadata": {},
     "output_type": "display_data"
    }
   ],
   "source": [
    "%%bigquery island_train\n",
    "SELECT *\n",
    "FROM ML.TFDV_DESCRIBE(\n",
    "    (\n",
    "        SELECT island\n",
    "        FROM `statmike-mlops-349915.bqml_model_monitoring.training_split`\n",
    "        WHERE splits = 'TRAIN'\n",
    "    )\n",
    ")"
   ]
  },
  {
   "cell_type": "code",
   "execution_count": 427,
   "metadata": {
    "tags": []
   },
   "outputs": [
    {
     "data": {
      "application/vnd.jupyter.widget-view+json": {
       "model_id": "07c7f5f3e09444f78456030fbe453e23",
       "version_major": 2,
       "version_minor": 0
      },
      "text/plain": [
       "Query is running:   0%|          |"
      ]
     },
     "metadata": {},
     "output_type": "display_data"
    },
    {
     "data": {
      "application/vnd.jupyter.widget-view+json": {
       "model_id": "bf88f5edfdb74f1ca9ec59ba54df7781",
       "version_major": 2,
       "version_minor": 0
      },
      "text/plain": [
       "Downloading:   0%|          |"
      ]
     },
     "metadata": {},
     "output_type": "display_data"
    }
   ],
   "source": [
    "%%bigquery island_serve\n",
    "SELECT *\n",
    "FROM ML.TFDV_DESCRIBE(\n",
    "    (\n",
    "        SELECT island\n",
    "        FROM `statmike-mlops-349915.bqml_model_monitoring.serving_all`\n",
    "    )\n",
    ")"
   ]
  },
  {
   "cell_type": "code",
   "execution_count": 430,
   "metadata": {
    "tags": []
   },
   "outputs": [],
   "source": [
    "island_train = json.loads(island_train['dataset_feature_statistics_list'].iloc[0])\n",
    "island_serve = json.loads(island_serve['dataset_feature_statistics_list'].iloc[0])"
   ]
  },
  {
   "cell_type": "code",
   "execution_count": 436,
   "metadata": {
    "tags": []
   },
   "outputs": [
    {
     "data": {
      "text/plain": [
       "{'avg_length': 6.092437,\n",
       " 'common_stats': {'avg_num_values': 1,\n",
       "  'max_num_values': '1',\n",
       "  'min_num_values': '1',\n",
       "  'num_non_missing': '238',\n",
       "  'num_values_histogram': {'buckets': [{'high_value': 1,\n",
       "     'low_value': 1,\n",
       "     'sample_count': 23.8},\n",
       "    {'high_value': 1, 'low_value': 1, 'sample_count': 23.8},\n",
       "    {'high_value': 1, 'low_value': 1, 'sample_count': 23.8},\n",
       "    {'high_value': 1, 'low_value': 1, 'sample_count': 23.8},\n",
       "    {'high_value': 1, 'low_value': 1, 'sample_count': 23.8},\n",
       "    {'high_value': 1, 'low_value': 1, 'sample_count': 23.8},\n",
       "    {'high_value': 1, 'low_value': 1, 'sample_count': 23.8},\n",
       "    {'high_value': 1, 'low_value': 1, 'sample_count': 23.8},\n",
       "    {'high_value': 1, 'low_value': 1, 'sample_count': 23.8},\n",
       "    {'high_value': 1, 'low_value': 1, 'sample_count': 23.8}],\n",
       "   'type': 'QUANTILES'},\n",
       "  'tot_num_values': '238'},\n",
       " 'rank_histogram': {'buckets': [{'label': 'Biscoe', 'sample_count': 116},\n",
       "   {'high_rank': '1', 'label': 'Dream', 'low_rank': '1', 'sample_count': 86},\n",
       "   {'high_rank': '2',\n",
       "    'label': 'Torgersen',\n",
       "    'low_rank': '2',\n",
       "    'sample_count': 36}]},\n",
       " 'top_values': [{'frequency': 116, 'value': 'Biscoe'},\n",
       "  {'frequency': 86, 'value': 'Dream'},\n",
       "  {'frequency': 36, 'value': 'Torgersen'}],\n",
       " 'unique': '3'}"
      ]
     },
     "execution_count": 436,
     "metadata": {},
     "output_type": "execute_result"
    }
   ],
   "source": [
    "island_train['datasets'][0]['features'][0]['string_stats']"
   ]
  },
  {
   "cell_type": "code",
   "execution_count": 439,
   "metadata": {
    "tags": []
   },
   "outputs": [
    {
     "data": {
      "text/plain": [
       "[{'label': 'Biscoe', 'sample_count': 116},\n",
       " {'high_rank': '1', 'label': 'Dream', 'low_rank': '1', 'sample_count': 86},\n",
       " {'high_rank': '2', 'label': 'Torgersen', 'low_rank': '2', 'sample_count': 36}]"
      ]
     },
     "execution_count": 439,
     "metadata": {},
     "output_type": "execute_result"
    }
   ],
   "source": [
    "island_train_stats = island_train['datasets'][0]['features'][0]['string_stats']['rank_histogram']['buckets']\n",
    "island_train_stats"
   ]
  },
  {
   "cell_type": "code",
   "execution_count": 440,
   "metadata": {
    "tags": []
   },
   "outputs": [
    {
     "data": {
      "text/plain": [
       "[{'label': 'Dream', 'sample_count': 1246},\n",
       " {'high_rank': '1', 'label': 'Biscoe', 'low_rank': '1', 'sample_count': 1228},\n",
       " {'high_rank': '2',\n",
       "  'label': 'Torgersen',\n",
       "  'low_rank': '2',\n",
       "  'sample_count': 384}]"
      ]
     },
     "execution_count": 440,
     "metadata": {},
     "output_type": "execute_result"
    }
   ],
   "source": [
    "island_serve_stats = island_serve['datasets'][0]['features'][0]['string_stats']['rank_histogram']['buckets']\n",
    "island_serve_stats"
   ]
  },
  {
   "cell_type": "markdown",
   "metadata": {},
   "source": [
    "### Combine Distributions In DataFrame"
   ]
  },
  {
   "cell_type": "code",
   "execution_count": 449,
   "metadata": {
    "tags": []
   },
   "outputs": [
    {
     "data": {
      "text/html": [
       "<div>\n",
       "<style scoped>\n",
       "    .dataframe tbody tr th:only-of-type {\n",
       "        vertical-align: middle;\n",
       "    }\n",
       "\n",
       "    .dataframe tbody tr th {\n",
       "        vertical-align: top;\n",
       "    }\n",
       "\n",
       "    .dataframe thead th {\n",
       "        text-align: right;\n",
       "    }\n",
       "</style>\n",
       "<table border=\"1\" class=\"dataframe\">\n",
       "  <thead>\n",
       "    <tr style=\"text-align: right;\">\n",
       "      <th></th>\n",
       "      <th>train_n</th>\n",
       "      <th>serve_n</th>\n",
       "      <th>train_pct</th>\n",
       "      <th>serve_pct</th>\n",
       "    </tr>\n",
       "  </thead>\n",
       "  <tbody>\n",
       "    <tr>\n",
       "      <th>Biscoe</th>\n",
       "      <td>116</td>\n",
       "      <td>1228</td>\n",
       "      <td>0.487395</td>\n",
       "      <td>0.429671</td>\n",
       "    </tr>\n",
       "    <tr>\n",
       "      <th>Dream</th>\n",
       "      <td>86</td>\n",
       "      <td>1246</td>\n",
       "      <td>0.361345</td>\n",
       "      <td>0.435969</td>\n",
       "    </tr>\n",
       "    <tr>\n",
       "      <th>Torgersen</th>\n",
       "      <td>36</td>\n",
       "      <td>384</td>\n",
       "      <td>0.151261</td>\n",
       "      <td>0.134360</td>\n",
       "    </tr>\n",
       "  </tbody>\n",
       "</table>\n",
       "</div>"
      ],
      "text/plain": [
       "           train_n  serve_n  train_pct  serve_pct\n",
       "Biscoe         116     1228   0.487395   0.429671\n",
       "Dream           86     1246   0.361345   0.435969\n",
       "Torgersen       36      384   0.151261   0.134360"
      ]
     },
     "execution_count": 449,
     "metadata": {},
     "output_type": "execute_result"
    }
   ],
   "source": [
    "index = [i['label'] for i in island_train_stats]\n",
    "train = [i['sample_count'] for i in island_train_stats]\n",
    "serve = [island_serve_stats[index.index(k)]['sample_count'] for k in [i['label'] for i in island_serve_stats]]\n",
    "stats = pd.DataFrame(\n",
    "    {\n",
    "        'train_n': train,\n",
    "        'serve_n': serve,\n",
    "        'train_pct': [x/sum(train) for x in train],\n",
    "        'serve_pct': [x/sum(serve) for x in serve]\n",
    "    },\n",
    "    index = index\n",
    ")\n",
    "stats"
   ]
  },
  {
   "cell_type": "markdown",
   "metadata": {},
   "source": [
    "### Visualize Distributions"
   ]
  },
  {
   "cell_type": "code",
   "execution_count": 454,
   "metadata": {
    "tags": []
   },
   "outputs": [
    {
     "data": {
      "image/png": "[encoded data removed]",
      "text/plain": [
       "<Figure size 640x480 with 1 Axes>"
      ]
     },
     "metadata": {},
     "output_type": "display_data"
    }
   ],
   "source": [
    "ax = stats[['train_pct', 'serve_pct']].plot.bar(rot=0)\n",
    "for container in ax.containers:\n",
    "    ax.bar_label(container)"
   ]
  },
  {
   "cell_type": "markdown",
   "metadata": {},
   "source": [
    "### L-Infinity Distance"
   ]
  },
  {
   "cell_type": "code",
   "execution_count": 456,
   "metadata": {
    "tags": []
   },
   "outputs": [
    {
     "data": {
      "text/html": [
       "<div>\n",
       "<style scoped>\n",
       "    .dataframe tbody tr th:only-of-type {\n",
       "        vertical-align: middle;\n",
       "    }\n",
       "\n",
       "    .dataframe tbody tr th {\n",
       "        vertical-align: top;\n",
       "    }\n",
       "\n",
       "    .dataframe thead th {\n",
       "        text-align: right;\n",
       "    }\n",
       "</style>\n",
       "<table border=\"1\" class=\"dataframe\">\n",
       "  <thead>\n",
       "    <tr style=\"text-align: right;\">\n",
       "      <th></th>\n",
       "      <th>train_n</th>\n",
       "      <th>serve_n</th>\n",
       "      <th>train_pct</th>\n",
       "      <th>serve_pct</th>\n",
       "      <th>abs_change_pct</th>\n",
       "    </tr>\n",
       "  </thead>\n",
       "  <tbody>\n",
       "    <tr>\n",
       "      <th>Biscoe</th>\n",
       "      <td>116</td>\n",
       "      <td>1228</td>\n",
       "      <td>0.487395</td>\n",
       "      <td>0.429671</td>\n",
       "      <td>0.057724</td>\n",
       "    </tr>\n",
       "    <tr>\n",
       "      <th>Dream</th>\n",
       "      <td>86</td>\n",
       "      <td>1246</td>\n",
       "      <td>0.361345</td>\n",
       "      <td>0.435969</td>\n",
       "      <td>0.074625</td>\n",
       "    </tr>\n",
       "    <tr>\n",
       "      <th>Torgersen</th>\n",
       "      <td>36</td>\n",
       "      <td>384</td>\n",
       "      <td>0.151261</td>\n",
       "      <td>0.134360</td>\n",
       "      <td>0.016901</td>\n",
       "    </tr>\n",
       "  </tbody>\n",
       "</table>\n",
       "</div>"
      ],
      "text/plain": [
       "           train_n  serve_n  train_pct  serve_pct  abs_change_pct\n",
       "Biscoe         116     1228   0.487395   0.429671        0.057724\n",
       "Dream           86     1246   0.361345   0.435969        0.074625\n",
       "Torgersen       36      384   0.151261   0.134360        0.016901"
      ]
     },
     "execution_count": 456,
     "metadata": {},
     "output_type": "execute_result"
    }
   ],
   "source": [
    "stats['abs_change_pct'] = abs(stats['train_pct'] - stats['serve_pct'])\n",
    "stats"
   ]
  },
  {
   "cell_type": "code",
   "execution_count": 458,
   "metadata": {
    "tags": []
   },
   "outputs": [
    {
     "data": {
      "text/plain": [
       "[Text(0, 0, '0.0577239'), Text(0, 0, '0.0746247'), Text(0, 0, '0.0169008')]"
      ]
     },
     "execution_count": 458,
     "metadata": {},
     "output_type": "execute_result"
    },
    {
     "data": {
      "image/png": "[encoded data removed]",
      "text/plain": [
       "<Figure size 640x480 with 1 Axes>"
      ]
     },
     "metadata": {},
     "output_type": "display_data"
    }
   ],
   "source": [
    "ax = stats['abs_change_pct'].plot.bar()\n",
    "ax.bar_label(ax.containers[0])"
   ]
  },
  {
   "cell_type": "code",
   "execution_count": 485,
   "metadata": {
    "tags": []
   },
   "outputs": [
    {
     "name": "stdout",
     "output_type": "stream",
     "text": [
      "The max change in percentage(L-Infinity Distance) is 0.07462467142210277\n"
     ]
    }
   ],
   "source": [
    "print(f\"The max change in percentage(L-Infinity Distance) is {max(stats['abs_change_pct'])}\")"
   ]
  },
  {
   "cell_type": "markdown",
   "metadata": {},
   "source": [
    "### Jensen-Shannon Divergence"
   ]
  },
  {
   "cell_type": "code",
   "execution_count": 486,
   "metadata": {
    "tags": []
   },
   "outputs": [
    {
     "data": {
      "text/html": [
       "<div>\n",
       "<style scoped>\n",
       "    .dataframe tbody tr th:only-of-type {\n",
       "        vertical-align: middle;\n",
       "    }\n",
       "\n",
       "    .dataframe tbody tr th {\n",
       "        vertical-align: top;\n",
       "    }\n",
       "\n",
       "    .dataframe thead th {\n",
       "        text-align: right;\n",
       "    }\n",
       "</style>\n",
       "<table border=\"1\" class=\"dataframe\">\n",
       "  <thead>\n",
       "    <tr style=\"text-align: right;\">\n",
       "      <th></th>\n",
       "      <th>train_n</th>\n",
       "      <th>serve_n</th>\n",
       "      <th>train_pct</th>\n",
       "      <th>serve_pct</th>\n",
       "      <th>abs_change_pct</th>\n",
       "      <th>mix</th>\n",
       "      <th>train_kl</th>\n",
       "      <th>serve_kl</th>\n",
       "      <th>JSD</th>\n",
       "    </tr>\n",
       "  </thead>\n",
       "  <tbody>\n",
       "    <tr>\n",
       "      <th>Biscoe</th>\n",
       "      <td>116</td>\n",
       "      <td>1228</td>\n",
       "      <td>0.487395</td>\n",
       "      <td>0.429671</td>\n",
       "      <td>0.057724</td>\n",
       "      <td>0.458533</td>\n",
       "      <td>0.042923</td>\n",
       "      <td>-0.040300</td>\n",
       "      <td>0.001311</td>\n",
       "    </tr>\n",
       "    <tr>\n",
       "      <th>Dream</th>\n",
       "      <td>86</td>\n",
       "      <td>1246</td>\n",
       "      <td>0.361345</td>\n",
       "      <td>0.435969</td>\n",
       "      <td>0.074625</td>\n",
       "      <td>0.398657</td>\n",
       "      <td>-0.051229</td>\n",
       "      <td>0.056274</td>\n",
       "      <td>0.002523</td>\n",
       "    </tr>\n",
       "    <tr>\n",
       "      <th>Torgersen</th>\n",
       "      <td>36</td>\n",
       "      <td>384</td>\n",
       "      <td>0.151261</td>\n",
       "      <td>0.134360</td>\n",
       "      <td>0.016901</td>\n",
       "      <td>0.142810</td>\n",
       "      <td>0.012545</td>\n",
       "      <td>-0.011823</td>\n",
       "      <td>0.000361</td>\n",
       "    </tr>\n",
       "  </tbody>\n",
       "</table>\n",
       "</div>"
      ],
      "text/plain": [
       "           train_n  serve_n  train_pct  serve_pct  abs_change_pct       mix  \\\n",
       "Biscoe         116     1228   0.487395   0.429671        0.057724  0.458533   \n",
       "Dream           86     1246   0.361345   0.435969        0.074625  0.398657   \n",
       "Torgersen       36      384   0.151261   0.134360        0.016901  0.142810   \n",
       "\n",
       "           train_kl  serve_kl       JSD  \n",
       "Biscoe     0.042923 -0.040300  0.001311  \n",
       "Dream     -0.051229  0.056274  0.002523  \n",
       "Torgersen  0.012545 -0.011823  0.000361  "
      ]
     },
     "execution_count": 486,
     "metadata": {},
     "output_type": "execute_result"
    }
   ],
   "source": [
    "stats['mix'] = (stats['train_pct'] + stats['serve_pct']) / 2\n",
    "stats['train_kl'] = stats['train_pct'] * np.log2(stats['train_pct'] / stats['mix'])\n",
    "stats['serve_kl'] = stats['serve_pct'] * np.log2(stats['serve_pct'] / stats['mix'])\n",
    "stats['JSD'] = (stats['train_kl'] + stats['serve_kl']) / 2\n",
    "stats"
   ]
  },
  {
   "cell_type": "code",
   "execution_count": 488,
   "metadata": {
    "tags": []
   },
   "outputs": [
    {
     "name": "stdout",
     "output_type": "stream",
     "text": [
      "The total for the Jansen-Shannon Divergence is 0.004195054141512528\n"
     ]
    }
   ],
   "source": [
    "print(f\"The total for the Jansen-Shannon Divergence is {sum(stats['JSD'])}\")"
   ]
  },
  {
   "cell_type": "markdown",
   "metadata": {},
   "source": [
    "### Verify Calculations with `ML.VALIDATE_DATA_DRIFT`"
   ]
  },
  {
   "cell_type": "code",
   "execution_count": 465,
   "metadata": {
    "tags": []
   },
   "outputs": [
    {
     "data": {
      "application/vnd.jupyter.widget-view+json": {
       "model_id": "904e400638f746ce90e27e67f95a5123",
       "version_major": 2,
       "version_minor": 0
      },
      "text/plain": [
       "Query is running:   0%|          |"
      ]
     },
     "metadata": {},
     "output_type": "display_data"
    },
    {
     "data": {
      "application/vnd.jupyter.widget-view+json": {
       "model_id": "22202e5e1b76475aa1ac48c3539753cc",
       "version_major": 2,
       "version_minor": 0
      },
      "text/plain": [
       "Downloading:   0%|          |"
      ]
     },
     "metadata": {},
     "output_type": "display_data"
    },
    {
     "data": {
      "text/html": [
       "<div>\n",
       "<style scoped>\n",
       "    .dataframe tbody tr th:only-of-type {\n",
       "        vertical-align: middle;\n",
       "    }\n",
       "\n",
       "    .dataframe tbody tr th {\n",
       "        vertical-align: top;\n",
       "    }\n",
       "\n",
       "    .dataframe thead th {\n",
       "        text-align: right;\n",
       "    }\n",
       "</style>\n",
       "<table border=\"1\" class=\"dataframe\">\n",
       "  <thead>\n",
       "    <tr style=\"text-align: right;\">\n",
       "      <th></th>\n",
       "      <th>input</th>\n",
       "      <th>metric</th>\n",
       "      <th>threshold</th>\n",
       "      <th>value</th>\n",
       "      <th>is_anomaly</th>\n",
       "    </tr>\n",
       "  </thead>\n",
       "  <tbody>\n",
       "    <tr>\n",
       "      <th>0</th>\n",
       "      <td>island</td>\n",
       "      <td>L_INFTY</td>\n",
       "      <td>0.3</td>\n",
       "      <td>0.074625</td>\n",
       "      <td>False</td>\n",
       "    </tr>\n",
       "  </tbody>\n",
       "</table>\n",
       "</div>"
      ],
      "text/plain": [
       "    input   metric  threshold     value  is_anomaly\n",
       "0  island  L_INFTY        0.3  0.074625       False"
      ]
     },
     "execution_count": 465,
     "metadata": {},
     "output_type": "execute_result"
    }
   ],
   "source": [
    "%%bigquery\n",
    "SELECT *\n",
    "FROM ML.VALIDATE_DATA_DRIFT(\n",
    "    (\n",
    "        SELECT island\n",
    "        FROM `statmike-mlops-349915.bqml_model_monitoring.training_split`\n",
    "        WHERE splits = 'TRAIN'\n",
    "    ),\n",
    "    (\n",
    "        SELECT island\n",
    "        FROM `statmike-mlops-349915.bqml_model_monitoring.serving_all`\n",
    "    ),\n",
    "    STRUCT('L_INFTY' AS categorical_metric_type)\n",
    ")"
   ]
  },
  {
   "cell_type": "code",
   "execution_count": 489,
   "metadata": {
    "tags": []
   },
   "outputs": [
    {
     "name": "stdout",
     "output_type": "stream",
     "text": [
      "The max change in percentage(L-Infinity Distance) is 0.07462467142210277\n"
     ]
    }
   ],
   "source": [
    "print(f\"The max change in percentage(L-Infinity Distance) is {max(stats['abs_change_pct'])}\")"
   ]
  },
  {
   "cell_type": "code",
   "execution_count": 478,
   "metadata": {
    "tags": []
   },
   "outputs": [
    {
     "data": {
      "application/vnd.jupyter.widget-view+json": {
       "model_id": "73d2e539b7c44d65a3e6dee6881eb515",
       "version_major": 2,
       "version_minor": 0
      },
      "text/plain": [
       "Query is running:   0%|          |"
      ]
     },
     "metadata": {},
     "output_type": "display_data"
    },
    {
     "data": {
      "application/vnd.jupyter.widget-view+json": {
       "model_id": "8259898e068f409f807fd4ec67f0e969",
       "version_major": 2,
       "version_minor": 0
      },
      "text/plain": [
       "Downloading:   0%|          |"
      ]
     },
     "metadata": {},
     "output_type": "display_data"
    },
    {
     "data": {
      "text/html": [
       "<div>\n",
       "<style scoped>\n",
       "    .dataframe tbody tr th:only-of-type {\n",
       "        vertical-align: middle;\n",
       "    }\n",
       "\n",
       "    .dataframe tbody tr th {\n",
       "        vertical-align: top;\n",
       "    }\n",
       "\n",
       "    .dataframe thead th {\n",
       "        text-align: right;\n",
       "    }\n",
       "</style>\n",
       "<table border=\"1\" class=\"dataframe\">\n",
       "  <thead>\n",
       "    <tr style=\"text-align: right;\">\n",
       "      <th></th>\n",
       "      <th>input</th>\n",
       "      <th>metric</th>\n",
       "      <th>threshold</th>\n",
       "      <th>value</th>\n",
       "      <th>is_anomaly</th>\n",
       "    </tr>\n",
       "  </thead>\n",
       "  <tbody>\n",
       "    <tr>\n",
       "      <th>0</th>\n",
       "      <td>island</td>\n",
       "      <td>JENSEN_SHANNON_DIVERGENCE</td>\n",
       "      <td>0.3</td>\n",
       "      <td>0.004195</td>\n",
       "      <td>False</td>\n",
       "    </tr>\n",
       "  </tbody>\n",
       "</table>\n",
       "</div>"
      ],
      "text/plain": [
       "    input                     metric  threshold     value  is_anomaly\n",
       "0  island  JENSEN_SHANNON_DIVERGENCE        0.3  0.004195       False"
      ]
     },
     "execution_count": 478,
     "metadata": {},
     "output_type": "execute_result"
    }
   ],
   "source": [
    "%%bigquery\n",
    "SELECT *\n",
    "FROM ML.VALIDATE_DATA_DRIFT(\n",
    "    (\n",
    "        SELECT island\n",
    "        FROM `statmike-mlops-349915.bqml_model_monitoring.training_split`\n",
    "        WHERE splits = 'TRAIN'\n",
    "    ),\n",
    "    (\n",
    "        SELECT island\n",
    "        FROM `statmike-mlops-349915.bqml_model_monitoring.serving_all`\n",
    "    ),\n",
    "    STRUCT('JENSEN_SHANNON_DIVERGENCE' AS categorical_metric_type)\n",
    ")"
   ]
  },
  {
   "cell_type": "code",
   "execution_count": 490,
   "metadata": {
    "tags": []
   },
   "outputs": [
    {
     "name": "stdout",
     "output_type": "stream",
     "text": [
      "The total for the Jansen-Shannon Divergence is 0.004195054141512528\n"
     ]
    }
   ],
   "source": [
    "print(f\"The total for the Jansen-Shannon Divergence is {sum(stats['JSD'])}\")"
   ]
  },
  {
   "cell_type": "markdown",
   "metadata": {},
   "source": [
    "---\n",
    "## More Applications For Model Monitoring"
   ]
  },
  {
   "cell_type": "markdown",
   "metadata": {},
   "source": [
    "---\n",
    "### Monitoring Transformed Features\n",
    "\n",
    "The [`CREATE MODEL`](https://cloud.google.com/bigquery/docs/reference/standard-sql/bigqueryml-syntax-create) statement included a [`TRANSFORM`](https://cloud.google.com/bigquery/docs/reference/standard-sql/bigqueryml-syntax-create#transform).  This is available to be called directly for input data with the [`ML.TRANSFORM`](https://cloud.google.com/bigquery/docs/reference/standard-sql/bigqueryml-syntax-transform) function.  This can be useful for considering monitoring the transformed features."
   ]
  },
  {
   "cell_type": "markdown",
   "metadata": {},
   "source": [
    "#### Transformations With `ML.TRANSFORM`"
   ]
  },
  {
   "cell_type": "code",
   "execution_count": 356,
   "metadata": {
    "tags": []
   },
   "outputs": [
    {
     "data": {
      "application/vnd.jupyter.widget-view+json": {
       "model_id": "188d87fc2c174ec694671915fed8bad3",
       "version_major": 2,
       "version_minor": 0
      },
      "text/plain": [
       "Query is running:   0%|          |"
      ]
     },
     "metadata": {},
     "output_type": "display_data"
    },
    {
     "data": {
      "application/vnd.jupyter.widget-view+json": {
       "model_id": "e4691e05029a4bf385b9fd187e5f9c23",
       "version_major": 2,
       "version_minor": 0
      },
      "text/plain": [
       "Downloading:   0%|          |"
      ]
     },
     "metadata": {},
     "output_type": "display_data"
    },
    {
     "data": {
      "text/html": [
       "<div>\n",
       "<style scoped>\n",
       "    .dataframe tbody tr th:only-of-type {\n",
       "        vertical-align: middle;\n",
       "    }\n",
       "\n",
       "    .dataframe tbody tr th {\n",
       "        vertical-align: top;\n",
       "    }\n",
       "\n",
       "    .dataframe thead th {\n",
       "        text-align: right;\n",
       "    }\n",
       "</style>\n",
       "<table border=\"1\" class=\"dataframe\">\n",
       "  <thead>\n",
       "    <tr style=\"text-align: right;\">\n",
       "      <th></th>\n",
       "      <th>body_mass_g</th>\n",
       "      <th>culmen_length_mm</th>\n",
       "      <th>culmen_depth_mm</th>\n",
       "      <th>flipper_length_mm</th>\n",
       "      <th>sex</th>\n",
       "      <th>island</th>\n",
       "      <th>species</th>\n",
       "      <th>instance_timestamp</th>\n",
       "    </tr>\n",
       "  </thead>\n",
       "  <tbody>\n",
       "    <tr>\n",
       "      <th>0</th>\n",
       "      <td>1.174878</td>\n",
       "      <td>0.200593</td>\n",
       "      <td>-1.2805</td>\n",
       "      <td>bin_3</td>\n",
       "      <td>FEMALE</td>\n",
       "      <td>Biscoe</td>\n",
       "      <td>Gentoo penguin (Pygoscelis papua)</td>\n",
       "      <td>2024-03-24 00:00:00+00:00</td>\n",
       "    </tr>\n",
       "    <tr>\n",
       "      <th>1</th>\n",
       "      <td>1.098782</td>\n",
       "      <td>0.200593</td>\n",
       "      <td>-1.2805</td>\n",
       "      <td>bin_3</td>\n",
       "      <td>FEMALE</td>\n",
       "      <td>Biscoe</td>\n",
       "      <td>Gentoo penguin (Pygoscelis papua)</td>\n",
       "      <td>2024-03-23 00:00:00+00:00</td>\n",
       "    </tr>\n",
       "    <tr>\n",
       "      <th>2</th>\n",
       "      <td>1.029083</td>\n",
       "      <td>0.200593</td>\n",
       "      <td>-1.2805</td>\n",
       "      <td>bin_3</td>\n",
       "      <td>FEMALE</td>\n",
       "      <td>Biscoe</td>\n",
       "      <td>Gentoo penguin (Pygoscelis papua)</td>\n",
       "      <td>2024-03-22 00:00:00+00:00</td>\n",
       "    </tr>\n",
       "    <tr>\n",
       "      <th>3</th>\n",
       "      <td>0.934174</td>\n",
       "      <td>0.200593</td>\n",
       "      <td>-1.2805</td>\n",
       "      <td>bin_3</td>\n",
       "      <td>FEMALE</td>\n",
       "      <td>Biscoe</td>\n",
       "      <td>Gentoo penguin (Pygoscelis papua)</td>\n",
       "      <td>2024-03-18 00:00:00+00:00</td>\n",
       "    </tr>\n",
       "    <tr>\n",
       "      <th>4</th>\n",
       "      <td>1.234133</td>\n",
       "      <td>0.200593</td>\n",
       "      <td>-1.2805</td>\n",
       "      <td>bin_3</td>\n",
       "      <td>FEMALE</td>\n",
       "      <td>Biscoe</td>\n",
       "      <td>Gentoo penguin (Pygoscelis papua)</td>\n",
       "      <td>2024-03-26 00:00:00+00:00</td>\n",
       "    </tr>\n",
       "  </tbody>\n",
       "</table>\n",
       "</div>"
      ],
      "text/plain": [
       "   body_mass_g  culmen_length_mm  culmen_depth_mm flipper_length_mm     sex  \\\n",
       "0     1.174878          0.200593          -1.2805             bin_3  FEMALE   \n",
       "1     1.098782          0.200593          -1.2805             bin_3  FEMALE   \n",
       "2     1.029083          0.200593          -1.2805             bin_3  FEMALE   \n",
       "3     0.934174          0.200593          -1.2805             bin_3  FEMALE   \n",
       "4     1.234133          0.200593          -1.2805             bin_3  FEMALE   \n",
       "\n",
       "   island                            species        instance_timestamp  \n",
       "0  Biscoe  Gentoo penguin (Pygoscelis papua) 2024-03-24 00:00:00+00:00  \n",
       "1  Biscoe  Gentoo penguin (Pygoscelis papua) 2024-03-23 00:00:00+00:00  \n",
       "2  Biscoe  Gentoo penguin (Pygoscelis papua) 2024-03-22 00:00:00+00:00  \n",
       "3  Biscoe  Gentoo penguin (Pygoscelis papua) 2024-03-18 00:00:00+00:00  \n",
       "4  Biscoe  Gentoo penguin (Pygoscelis papua) 2024-03-26 00:00:00+00:00  "
      ]
     },
     "execution_count": 356,
     "metadata": {},
     "output_type": "execute_result"
    }
   ],
   "source": [
    "%%bigquery\n",
    "SELECT *\n",
    "FROM ML.TRANSFORM(\n",
    "    MODEL `statmike-mlops-349915.bqml_model_monitoring.classify_species_rf`,\n",
    "    (\n",
    "        SELECT *\n",
    "        FROM `statmike-mlops-349915.bqml_model_monitoring.serving`\n",
    "        LIMIT 5\n",
    "    )\n",
    ")"
   ]
  },
  {
   "cell_type": "markdown",
   "metadata": {},
   "source": [
    "#### Monitoring Skew (Manually) - As Drift from Training Data With `ML.VALIDATE_DATA_DRIFT`\n",
    "\n",
    "Compare today, or any data, to the training data by directly comparing to the the model created in BigQuery."
   ]
  },
  {
   "cell_type": "code",
   "execution_count": 359,
   "metadata": {
    "tags": []
   },
   "outputs": [
    {
     "data": {
      "application/vnd.jupyter.widget-view+json": {
       "model_id": "83f389d3d56e45169eec2a94d1fd67e2",
       "version_major": 2,
       "version_minor": 0
      },
      "text/plain": [
       "Query is running:   0%|          |"
      ]
     },
     "metadata": {},
     "output_type": "display_data"
    },
    {
     "data": {
      "application/vnd.jupyter.widget-view+json": {
       "model_id": "f4f8092a6ced41cd9beb0e713b943f2d",
       "version_major": 2,
       "version_minor": 0
      },
      "text/plain": [
       "Downloading:   0%|          |"
      ]
     },
     "metadata": {},
     "output_type": "display_data"
    },
    {
     "data": {
      "text/html": [
       "<div>\n",
       "<style scoped>\n",
       "    .dataframe tbody tr th:only-of-type {\n",
       "        vertical-align: middle;\n",
       "    }\n",
       "\n",
       "    .dataframe tbody tr th {\n",
       "        vertical-align: top;\n",
       "    }\n",
       "\n",
       "    .dataframe thead th {\n",
       "        text-align: right;\n",
       "    }\n",
       "</style>\n",
       "<table border=\"1\" class=\"dataframe\">\n",
       "  <thead>\n",
       "    <tr style=\"text-align: right;\">\n",
       "      <th></th>\n",
       "      <th>input</th>\n",
       "      <th>metric</th>\n",
       "      <th>threshold</th>\n",
       "      <th>value</th>\n",
       "      <th>is_anomaly</th>\n",
       "    </tr>\n",
       "  </thead>\n",
       "  <tbody>\n",
       "    <tr>\n",
       "      <th>0</th>\n",
       "      <td>body_mass_g</td>\n",
       "      <td>JENSEN_SHANNON_DIVERGENCE</td>\n",
       "      <td>0.3</td>\n",
       "      <td>0.221271</td>\n",
       "      <td>False</td>\n",
       "    </tr>\n",
       "    <tr>\n",
       "      <th>1</th>\n",
       "      <td>culmen_depth_mm</td>\n",
       "      <td>JENSEN_SHANNON_DIVERGENCE</td>\n",
       "      <td>0.3</td>\n",
       "      <td>0.017459</td>\n",
       "      <td>False</td>\n",
       "    </tr>\n",
       "    <tr>\n",
       "      <th>2</th>\n",
       "      <td>culmen_length_mm</td>\n",
       "      <td>JENSEN_SHANNON_DIVERGENCE</td>\n",
       "      <td>0.3</td>\n",
       "      <td>0.004482</td>\n",
       "      <td>False</td>\n",
       "    </tr>\n",
       "    <tr>\n",
       "      <th>3</th>\n",
       "      <td>flipper_length_mm</td>\n",
       "      <td>L_INFTY</td>\n",
       "      <td>0.3</td>\n",
       "      <td>0.470259</td>\n",
       "      <td>True</td>\n",
       "    </tr>\n",
       "    <tr>\n",
       "      <th>4</th>\n",
       "      <td>island</td>\n",
       "      <td>L_INFTY</td>\n",
       "      <td>0.3</td>\n",
       "      <td>0.086931</td>\n",
       "      <td>False</td>\n",
       "    </tr>\n",
       "    <tr>\n",
       "      <th>5</th>\n",
       "      <td>sex</td>\n",
       "      <td>L_INFTY</td>\n",
       "      <td>0.3</td>\n",
       "      <td>0.014107</td>\n",
       "      <td>False</td>\n",
       "    </tr>\n",
       "  </tbody>\n",
       "</table>\n",
       "</div>"
      ],
      "text/plain": [
       "               input                     metric  threshold     value  \\\n",
       "0        body_mass_g  JENSEN_SHANNON_DIVERGENCE        0.3  0.221271   \n",
       "1    culmen_depth_mm  JENSEN_SHANNON_DIVERGENCE        0.3  0.017459   \n",
       "2   culmen_length_mm  JENSEN_SHANNON_DIVERGENCE        0.3  0.004482   \n",
       "3  flipper_length_mm                    L_INFTY        0.3  0.470259   \n",
       "4             island                    L_INFTY        0.3  0.086931   \n",
       "5                sex                    L_INFTY        0.3  0.014107   \n",
       "\n",
       "   is_anomaly  \n",
       "0       False  \n",
       "1       False  \n",
       "2       False  \n",
       "3        True  \n",
       "4       False  \n",
       "5       False  "
      ]
     },
     "execution_count": 359,
     "metadata": {},
     "output_type": "execute_result"
    }
   ],
   "source": [
    "%%bigquery\n",
    "SELECT *\n",
    "FROM ML.VALIDATE_DATA_DRIFT(\n",
    "    (\n",
    "        SELECT *\n",
    "        FROM ML.TRANSFORM(\n",
    "            MODEL `statmike-mlops-349915.bqml_model_monitoring.classify_species_rf`,\n",
    "            (\n",
    "                SELECT *\n",
    "                FROM `statmike-mlops-349915.bqml_model_monitoring.training_split`\n",
    "                WHERE splits = 'TRAIN'\n",
    "            )\n",
    "        )\n",
    "    ),\n",
    "    (\n",
    "        SELECT *\n",
    "        FROM ML.TRANSFORM(\n",
    "            MODEL `statmike-mlops-349915.bqml_model_monitoring.classify_species_rf`,\n",
    "            (\n",
    "                SELECT *\n",
    "                FROM `statmike-mlops-349915.bqml_model_monitoring.serving_all`\n",
    "                WHERE DATE(instance_timestamp) >= CURRENT_DATE()\n",
    "            )\n",
    "        )\n",
    "    )\n",
    ");"
   ]
  },
  {
   "cell_type": "markdown",
   "metadata": {},
   "source": [
    "#### Monitoring Drift (Change Over Time) With `ML.VALIDATE_DATA_DRIFT`\n",
    "\n",
    "Compare today to 5 days ago and set the a lower, more sensitive, threshold of `0.03` (default is `0.3`) for all features."
   ]
  },
  {
   "cell_type": "code",
   "execution_count": 360,
   "metadata": {
    "tags": []
   },
   "outputs": [
    {
     "data": {
      "application/vnd.jupyter.widget-view+json": {
       "model_id": "df7a9abfbe59486ea2cab767fdc65973",
       "version_major": 2,
       "version_minor": 0
      },
      "text/plain": [
       "Query is running:   0%|          |"
      ]
     },
     "metadata": {},
     "output_type": "display_data"
    },
    {
     "data": {
      "application/vnd.jupyter.widget-view+json": {
       "model_id": "6d89111851914a3f8b6390f832d026e5",
       "version_major": 2,
       "version_minor": 0
      },
      "text/plain": [
       "Downloading:   0%|          |"
      ]
     },
     "metadata": {},
     "output_type": "display_data"
    },
    {
     "data": {
      "text/html": [
       "<div>\n",
       "<style scoped>\n",
       "    .dataframe tbody tr th:only-of-type {\n",
       "        vertical-align: middle;\n",
       "    }\n",
       "\n",
       "    .dataframe tbody tr th {\n",
       "        vertical-align: top;\n",
       "    }\n",
       "\n",
       "    .dataframe thead th {\n",
       "        text-align: right;\n",
       "    }\n",
       "</style>\n",
       "<table border=\"1\" class=\"dataframe\">\n",
       "  <thead>\n",
       "    <tr style=\"text-align: right;\">\n",
       "      <th></th>\n",
       "      <th>input</th>\n",
       "      <th>metric</th>\n",
       "      <th>threshold</th>\n",
       "      <th>value</th>\n",
       "      <th>is_anomaly</th>\n",
       "    </tr>\n",
       "  </thead>\n",
       "  <tbody>\n",
       "    <tr>\n",
       "      <th>0</th>\n",
       "      <td>body_mass_g</td>\n",
       "      <td>JENSEN_SHANNON_DIVERGENCE</td>\n",
       "      <td>0.03</td>\n",
       "      <td>0.093015</td>\n",
       "      <td>True</td>\n",
       "    </tr>\n",
       "    <tr>\n",
       "      <th>1</th>\n",
       "      <td>culmen_depth_mm</td>\n",
       "      <td>JENSEN_SHANNON_DIVERGENCE</td>\n",
       "      <td>0.03</td>\n",
       "      <td>0.000358</td>\n",
       "      <td>False</td>\n",
       "    </tr>\n",
       "    <tr>\n",
       "      <th>2</th>\n",
       "      <td>culmen_length_mm</td>\n",
       "      <td>JENSEN_SHANNON_DIVERGENCE</td>\n",
       "      <td>0.03</td>\n",
       "      <td>0.001515</td>\n",
       "      <td>False</td>\n",
       "    </tr>\n",
       "    <tr>\n",
       "      <th>3</th>\n",
       "      <td>flipper_length_mm</td>\n",
       "      <td>L_INFTY</td>\n",
       "      <td>0.03</td>\n",
       "      <td>0.186520</td>\n",
       "      <td>True</td>\n",
       "    </tr>\n",
       "    <tr>\n",
       "      <th>4</th>\n",
       "      <td>instance_timestamp</td>\n",
       "      <td>L_INFTY</td>\n",
       "      <td>0.03</td>\n",
       "      <td>1.000000</td>\n",
       "      <td>True</td>\n",
       "    </tr>\n",
       "    <tr>\n",
       "      <th>5</th>\n",
       "      <td>island</td>\n",
       "      <td>L_INFTY</td>\n",
       "      <td>0.03</td>\n",
       "      <td>0.015843</td>\n",
       "      <td>False</td>\n",
       "    </tr>\n",
       "    <tr>\n",
       "      <th>6</th>\n",
       "      <td>sex</td>\n",
       "      <td>L_INFTY</td>\n",
       "      <td>0.03</td>\n",
       "      <td>0.014107</td>\n",
       "      <td>False</td>\n",
       "    </tr>\n",
       "  </tbody>\n",
       "</table>\n",
       "</div>"
      ],
      "text/plain": [
       "                input                     metric  threshold     value  \\\n",
       "0         body_mass_g  JENSEN_SHANNON_DIVERGENCE       0.03  0.093015   \n",
       "1     culmen_depth_mm  JENSEN_SHANNON_DIVERGENCE       0.03  0.000358   \n",
       "2    culmen_length_mm  JENSEN_SHANNON_DIVERGENCE       0.03  0.001515   \n",
       "3   flipper_length_mm                    L_INFTY       0.03  0.186520   \n",
       "4  instance_timestamp                    L_INFTY       0.03  1.000000   \n",
       "5              island                    L_INFTY       0.03  0.015843   \n",
       "6                 sex                    L_INFTY       0.03  0.014107   \n",
       "\n",
       "   is_anomaly  \n",
       "0        True  \n",
       "1       False  \n",
       "2       False  \n",
       "3        True  \n",
       "4        True  \n",
       "5       False  \n",
       "6       False  "
      ]
     },
     "execution_count": 360,
     "metadata": {},
     "output_type": "execute_result"
    }
   ],
   "source": [
    "%%bigquery\n",
    "SELECT *\n",
    "FROM ML.VALIDATE_DATA_DRIFT(\n",
    "    (\n",
    "        SELECT *\n",
    "        FROM ML.TRANSFORM(\n",
    "            MODEL `statmike-mlops-349915.bqml_model_monitoring.classify_species_rf`,\n",
    "            (\n",
    "                SELECT *\n",
    "                FROM `statmike-mlops-349915.bqml_model_monitoring.serving_all`\n",
    "                WHERE DATE(instance_timestamp) = DATE_SUB(CURRENT_DATE(), INTERVAL 5 DAY)\n",
    "            )\n",
    "        )\n",
    "    ),\n",
    "    (\n",
    "        SELECT *\n",
    "        FROM ML.TRANSFORM(\n",
    "            MODEL `statmike-mlops-349915.bqml_model_monitoring.classify_species_rf`,\n",
    "            (\n",
    "                SELECT *\n",
    "                FROM `statmike-mlops-349915.bqml_model_monitoring.serving_all`\n",
    "                WHERE DATE(instance_timestamp) >= CURRENT_DATE()\n",
    "            )\n",
    "        )\n",
    "    ),\n",
    "    STRUCT(\n",
    "        0.03 AS categorical_default_threshold,\n",
    "        0.03 AS numerical_default_threshold\n",
    "    )\n",
    ")"
   ]
  },
  {
   "cell_type": "markdown",
   "metadata": {
    "tags": []
   },
   "source": [
    "---\n",
    "### Monitoring Feature Attributions\n",
    "\n",
    "BigQuery ML models, like the deep neural network classifier (`model_type = 'DNN_CLASSIFIER'`) used above, can also serve explanations using the BigQuery function [`ML.EXPLAIN_PREDICT`](https://cloud.google.com/bigquery/docs/reference/standard-sql/bigqueryml-syntax-explain-predict).  This function returns feature attributions for each feature used in the model to explain how much contribution was made to the final prediction for a given instance.\n",
    "\n",
    "**Feature Attributions**\n",
    "\n",
    "The feature attributions from `ML.EXPLAIN_PREDICT` are [local explanations](https://cloud.google.com/bigquery/docs/xai-overview#local_versus_global_explainability), specific to the instance being predicted.  The attribution values are given for each feature and they add up to the `prediction_value`. In this case the model is a classifier and the `prediction_value` is the logit value (log-odds) of the predicted class.  "
   ]
  },
  {
   "cell_type": "markdown",
   "metadata": {},
   "source": [
    "#### Serving Feature Attributions\n",
    "\n",
    "As an example, the following cell gets the feature attributions for a single penguin with for the latest values of the features:"
   ]
  },
  {
   "cell_type": "code",
   "execution_count": 352,
   "metadata": {
    "tags": []
   },
   "outputs": [
    {
     "data": {
      "application/vnd.jupyter.widget-view+json": {
       "model_id": "d232e81c543846b5b1c23d7b8c3e5fe0",
       "version_major": 2,
       "version_minor": 0
      },
      "text/plain": [
       "Query is running:   0%|          |"
      ]
     },
     "metadata": {},
     "output_type": "display_data"
    },
    {
     "data": {
      "application/vnd.jupyter.widget-view+json": {
       "model_id": "abab25d735834aa99a9c36a713417979",
       "version_major": 2,
       "version_minor": 0
      },
      "text/plain": [
       "Downloading:   0%|          |"
      ]
     },
     "metadata": {},
     "output_type": "display_data"
    },
    {
     "data": {
      "text/html": [
       "<div>\n",
       "<style scoped>\n",
       "    .dataframe tbody tr th:only-of-type {\n",
       "        vertical-align: middle;\n",
       "    }\n",
       "\n",
       "    .dataframe tbody tr th {\n",
       "        vertical-align: top;\n",
       "    }\n",
       "\n",
       "    .dataframe thead th {\n",
       "        text-align: right;\n",
       "    }\n",
       "</style>\n",
       "<table border=\"1\" class=\"dataframe\">\n",
       "  <thead>\n",
       "    <tr style=\"text-align: right;\">\n",
       "      <th></th>\n",
       "      <th>predicted_species</th>\n",
       "      <th>probability</th>\n",
       "      <th>baseline_prediction_value</th>\n",
       "      <th>prediction_value</th>\n",
       "      <th>approximation_error</th>\n",
       "      <th>feature</th>\n",
       "      <th>attribution</th>\n",
       "    </tr>\n",
       "  </thead>\n",
       "  <tbody>\n",
       "    <tr>\n",
       "      <th>0</th>\n",
       "      <td>Gentoo penguin (Pygoscelis papua)</td>\n",
       "      <td>0.814835</td>\n",
       "      <td>0.547953</td>\n",
       "      <td>1.949025</td>\n",
       "      <td>0.0</td>\n",
       "      <td>culmen_depth_mm</td>\n",
       "      <td>0.747561</td>\n",
       "    </tr>\n",
       "    <tr>\n",
       "      <th>1</th>\n",
       "      <td>Gentoo penguin (Pygoscelis papua)</td>\n",
       "      <td>0.814835</td>\n",
       "      <td>0.547953</td>\n",
       "      <td>1.949025</td>\n",
       "      <td>0.0</td>\n",
       "      <td>flipper_length_mm</td>\n",
       "      <td>0.339573</td>\n",
       "    </tr>\n",
       "    <tr>\n",
       "      <th>2</th>\n",
       "      <td>Gentoo penguin (Pygoscelis papua)</td>\n",
       "      <td>0.814835</td>\n",
       "      <td>0.547953</td>\n",
       "      <td>1.949025</td>\n",
       "      <td>0.0</td>\n",
       "      <td>body_mass_g</td>\n",
       "      <td>0.264458</td>\n",
       "    </tr>\n",
       "    <tr>\n",
       "      <th>3</th>\n",
       "      <td>Gentoo penguin (Pygoscelis papua)</td>\n",
       "      <td>0.814835</td>\n",
       "      <td>0.547953</td>\n",
       "      <td>1.949025</td>\n",
       "      <td>0.0</td>\n",
       "      <td>culmen_length_mm</td>\n",
       "      <td>0.020361</td>\n",
       "    </tr>\n",
       "    <tr>\n",
       "      <th>4</th>\n",
       "      <td>Gentoo penguin (Pygoscelis papua)</td>\n",
       "      <td>0.814835</td>\n",
       "      <td>0.547953</td>\n",
       "      <td>1.949025</td>\n",
       "      <td>0.0</td>\n",
       "      <td>island</td>\n",
       "      <td>0.017812</td>\n",
       "    </tr>\n",
       "    <tr>\n",
       "      <th>5</th>\n",
       "      <td>Gentoo penguin (Pygoscelis papua)</td>\n",
       "      <td>0.814835</td>\n",
       "      <td>0.547953</td>\n",
       "      <td>1.949025</td>\n",
       "      <td>0.0</td>\n",
       "      <td>sex</td>\n",
       "      <td>0.011307</td>\n",
       "    </tr>\n",
       "  </tbody>\n",
       "</table>\n",
       "</div>"
      ],
      "text/plain": [
       "                   predicted_species  probability  baseline_prediction_value  \\\n",
       "0  Gentoo penguin (Pygoscelis papua)     0.814835                   0.547953   \n",
       "1  Gentoo penguin (Pygoscelis papua)     0.814835                   0.547953   \n",
       "2  Gentoo penguin (Pygoscelis papua)     0.814835                   0.547953   \n",
       "3  Gentoo penguin (Pygoscelis papua)     0.814835                   0.547953   \n",
       "4  Gentoo penguin (Pygoscelis papua)     0.814835                   0.547953   \n",
       "5  Gentoo penguin (Pygoscelis papua)     0.814835                   0.547953   \n",
       "\n",
       "   prediction_value  approximation_error            feature  attribution  \n",
       "0          1.949025                  0.0    culmen_depth_mm     0.747561  \n",
       "1          1.949025                  0.0  flipper_length_mm     0.339573  \n",
       "2          1.949025                  0.0        body_mass_g     0.264458  \n",
       "3          1.949025                  0.0   culmen_length_mm     0.020361  \n",
       "4          1.949025                  0.0             island     0.017812  \n",
       "5          1.949025                  0.0                sex     0.011307  "
      ]
     },
     "execution_count": 352,
     "metadata": {},
     "output_type": "execute_result"
    }
   ],
   "source": [
    "%%bigquery\n",
    "WITH\n",
    "    EXPLAIN AS (\n",
    "        SELECT * EXCEPT(body_mass_g, sex, island, flipper_length_mm, culmen_depth_mm, culmen_length_mm)\n",
    "        FROM ML.EXPLAIN_PREDICT(\n",
    "            MODEL `statmike-mlops-349915.bqml_model_monitoring.classify_species_rf`,\n",
    "            (\n",
    "                SELECT * EXCEPT(instance_timestamp, species)\n",
    "                FROM `statmike-mlops-349915.bqml_model_monitoring.serving`\n",
    "                WHERE DATE(instance_timestamp) = CURRENT_DATE()\n",
    "                LIMIT 1\n",
    "            ), \n",
    "            STRUCT(10 AS top_k_features)\n",
    "        )\n",
    "    ),\n",
    "    ATTRIBUTIONS AS (\n",
    "        SELECT * EXCEPT(top_feature_attributions),\n",
    "        FROM EXPLAIN\n",
    "        JOIN UNNEST(top_feature_attributions)\n",
    "    )\n",
    "SELECT * \n",
    "FROM ATTRIBUTIONS"
   ]
  },
  {
   "cell_type": "markdown",
   "metadata": {},
   "source": [
    "#### Reviewing Feature Attributions\n",
    "\n",
    "Get attributions for all penguins:"
   ]
  },
  {
   "cell_type": "code",
   "execution_count": 353,
   "metadata": {
    "tags": []
   },
   "outputs": [
    {
     "data": {
      "application/vnd.jupyter.widget-view+json": {
       "model_id": "9f6018de1c164f36836c426f67307639",
       "version_major": 2,
       "version_minor": 0
      },
      "text/plain": [
       "Query is running:   0%|          |"
      ]
     },
     "metadata": {},
     "output_type": "display_data"
    },
    {
     "data": {
      "application/vnd.jupyter.widget-view+json": {
       "model_id": "bef25751f2ed4c55b3724a02abe663a5",
       "version_major": 2,
       "version_minor": 0
      },
      "text/plain": [
       "Downloading:   0%|          |"
      ]
     },
     "metadata": {},
     "output_type": "display_data"
    }
   ],
   "source": [
    "%%bigquery explain\n",
    "WITH\n",
    "    EXPLAIN AS (\n",
    "        SELECT * EXCEPT(body_mass_g, sex, island, flipper_length_mm, culmen_depth_mm, culmen_length_mm)\n",
    "        FROM ML.EXPLAIN_PREDICT(\n",
    "            MODEL `statmike-mlops-349915.bqml_model_monitoring.classify_species_rf`,\n",
    "            (\n",
    "                SELECT * EXCEPT(instance_timestamp, species)\n",
    "                FROM `statmike-mlops-349915.bqml_model_monitoring.serving`\n",
    "                WHERE DATE(instance_timestamp) = CURRENT_DATE()\n",
    "            ), \n",
    "            STRUCT(10 AS top_k_features)\n",
    "        )\n",
    "    ),\n",
    "    ATTRIBUTIONS AS (\n",
    "        SELECT * EXCEPT(top_feature_attributions),\n",
    "        FROM EXPLAIN\n",
    "        JOIN UNNEST(top_feature_attributions)\n",
    "    ),\n",
    "    PIVOT_ATTRIBUTION AS (\n",
    "        SELECT body_mass_g, sex, island, flipper_length_mm, culmen_depth_mm, culmen_length_mm\n",
    "        FROM ATTRIBUTIONS PIVOT(MAX(attribution) FOR feature IN ('body_mass_g', 'sex', 'island', 'flipper_length_mm', 'culmen_depth_mm', 'culmen_length_mm'))\n",
    "    )\n",
    "SELECT *\n",
    "FROM PIVOT_ATTRIBUTION"
   ]
  },
  {
   "cell_type": "code",
   "execution_count": 354,
   "metadata": {
    "tags": []
   },
   "outputs": [
    {
     "data": {
      "text/html": [
       "<div>\n",
       "<style scoped>\n",
       "    .dataframe tbody tr th:only-of-type {\n",
       "        vertical-align: middle;\n",
       "    }\n",
       "\n",
       "    .dataframe tbody tr th {\n",
       "        vertical-align: top;\n",
       "    }\n",
       "\n",
       "    .dataframe thead th {\n",
       "        text-align: right;\n",
       "    }\n",
       "</style>\n",
       "<table border=\"1\" class=\"dataframe\">\n",
       "  <thead>\n",
       "    <tr style=\"text-align: right;\">\n",
       "      <th></th>\n",
       "      <th>body_mass_g</th>\n",
       "      <th>sex</th>\n",
       "      <th>island</th>\n",
       "      <th>flipper_length_mm</th>\n",
       "      <th>culmen_depth_mm</th>\n",
       "      <th>culmen_length_mm</th>\n",
       "    </tr>\n",
       "  </thead>\n",
       "  <tbody>\n",
       "    <tr>\n",
       "      <th>0</th>\n",
       "      <td>0.264458</td>\n",
       "      <td>0.011307</td>\n",
       "      <td>0.017812</td>\n",
       "      <td>0.339573</td>\n",
       "      <td>0.747561</td>\n",
       "      <td>0.020361</td>\n",
       "    </tr>\n",
       "    <tr>\n",
       "      <th>1</th>\n",
       "      <td>0.259145</td>\n",
       "      <td>-0.004345</td>\n",
       "      <td>0.017834</td>\n",
       "      <td>0.359658</td>\n",
       "      <td>0.747417</td>\n",
       "      <td>0.021363</td>\n",
       "    </tr>\n",
       "    <tr>\n",
       "      <th>2</th>\n",
       "      <td>0.264662</td>\n",
       "      <td>0.011307</td>\n",
       "      <td>0.017812</td>\n",
       "      <td>0.339573</td>\n",
       "      <td>0.747561</td>\n",
       "      <td>0.020361</td>\n",
       "    </tr>\n",
       "    <tr>\n",
       "      <th>3</th>\n",
       "      <td>-0.105123</td>\n",
       "      <td>0.005674</td>\n",
       "      <td>-0.089405</td>\n",
       "      <td>0.372714</td>\n",
       "      <td>0.737521</td>\n",
       "      <td>-0.279732</td>\n",
       "    </tr>\n",
       "    <tr>\n",
       "      <th>4</th>\n",
       "      <td>-0.119508</td>\n",
       "      <td>0.014932</td>\n",
       "      <td>0.539536</td>\n",
       "      <td>0.029502</td>\n",
       "      <td>0.030485</td>\n",
       "      <td>0.491610</td>\n",
       "    </tr>\n",
       "  </tbody>\n",
       "</table>\n",
       "</div>"
      ],
      "text/plain": [
       "   body_mass_g       sex    island  flipper_length_mm  culmen_depth_mm  \\\n",
       "0     0.264458  0.011307  0.017812           0.339573         0.747561   \n",
       "1     0.259145 -0.004345  0.017834           0.359658         0.747417   \n",
       "2     0.264662  0.011307  0.017812           0.339573         0.747561   \n",
       "3    -0.105123  0.005674 -0.089405           0.372714         0.737521   \n",
       "4    -0.119508  0.014932  0.539536           0.029502         0.030485   \n",
       "\n",
       "   culmen_length_mm  \n",
       "0          0.020361  \n",
       "1          0.021363  \n",
       "2          0.020361  \n",
       "3         -0.279732  \n",
       "4          0.491610  "
      ]
     },
     "execution_count": 354,
     "metadata": {},
     "output_type": "execute_result"
    }
   ],
   "source": [
    "explain.head()"
   ]
  },
  {
   "cell_type": "markdown",
   "metadata": {},
   "source": [
    "#### Monitor Feature Attributions For Drift with `ML.VALIDATE_DATA_DRIFT`\n",
    "\n",
    "Compare yesterday to 25 days ago:"
   ]
  },
  {
   "cell_type": "code",
   "execution_count": 355,
   "metadata": {
    "tags": []
   },
   "outputs": [
    {
     "data": {
      "application/vnd.jupyter.widget-view+json": {
       "model_id": "292b2013a8074ef08e742bde50b5710e",
       "version_major": 2,
       "version_minor": 0
      },
      "text/plain": [
       "Query is running:   0%|          |"
      ]
     },
     "metadata": {},
     "output_type": "display_data"
    },
    {
     "data": {
      "application/vnd.jupyter.widget-view+json": {
       "model_id": "841e673256704126b70a311677590f5e",
       "version_major": 2,
       "version_minor": 0
      },
      "text/plain": [
       "Downloading:   0%|          |"
      ]
     },
     "metadata": {},
     "output_type": "display_data"
    },
    {
     "data": {
      "text/html": [
       "<div>\n",
       "<style scoped>\n",
       "    .dataframe tbody tr th:only-of-type {\n",
       "        vertical-align: middle;\n",
       "    }\n",
       "\n",
       "    .dataframe tbody tr th {\n",
       "        vertical-align: top;\n",
       "    }\n",
       "\n",
       "    .dataframe thead th {\n",
       "        text-align: right;\n",
       "    }\n",
       "</style>\n",
       "<table border=\"1\" class=\"dataframe\">\n",
       "  <thead>\n",
       "    <tr style=\"text-align: right;\">\n",
       "      <th></th>\n",
       "      <th>input</th>\n",
       "      <th>metric</th>\n",
       "      <th>threshold</th>\n",
       "      <th>value</th>\n",
       "      <th>is_anomaly</th>\n",
       "    </tr>\n",
       "  </thead>\n",
       "  <tbody>\n",
       "    <tr>\n",
       "      <th>0</th>\n",
       "      <td>body_mass_g</td>\n",
       "      <td>JENSEN_SHANNON_DIVERGENCE</td>\n",
       "      <td>0.3</td>\n",
       "      <td>0.042854</td>\n",
       "      <td>False</td>\n",
       "    </tr>\n",
       "    <tr>\n",
       "      <th>1</th>\n",
       "      <td>culmen_depth_mm</td>\n",
       "      <td>JENSEN_SHANNON_DIVERGENCE</td>\n",
       "      <td>0.3</td>\n",
       "      <td>0.066802</td>\n",
       "      <td>False</td>\n",
       "    </tr>\n",
       "    <tr>\n",
       "      <th>2</th>\n",
       "      <td>culmen_length_mm</td>\n",
       "      <td>JENSEN_SHANNON_DIVERGENCE</td>\n",
       "      <td>0.3</td>\n",
       "      <td>0.028338</td>\n",
       "      <td>False</td>\n",
       "    </tr>\n",
       "    <tr>\n",
       "      <th>3</th>\n",
       "      <td>flipper_length_mm</td>\n",
       "      <td>JENSEN_SHANNON_DIVERGENCE</td>\n",
       "      <td>0.3</td>\n",
       "      <td>0.171961</td>\n",
       "      <td>False</td>\n",
       "    </tr>\n",
       "    <tr>\n",
       "      <th>4</th>\n",
       "      <td>island</td>\n",
       "      <td>JENSEN_SHANNON_DIVERGENCE</td>\n",
       "      <td>0.3</td>\n",
       "      <td>0.048933</td>\n",
       "      <td>False</td>\n",
       "    </tr>\n",
       "    <tr>\n",
       "      <th>5</th>\n",
       "      <td>sex</td>\n",
       "      <td>JENSEN_SHANNON_DIVERGENCE</td>\n",
       "      <td>0.3</td>\n",
       "      <td>0.083454</td>\n",
       "      <td>False</td>\n",
       "    </tr>\n",
       "  </tbody>\n",
       "</table>\n",
       "</div>"
      ],
      "text/plain": [
       "               input                     metric  threshold     value  \\\n",
       "0        body_mass_g  JENSEN_SHANNON_DIVERGENCE        0.3  0.042854   \n",
       "1    culmen_depth_mm  JENSEN_SHANNON_DIVERGENCE        0.3  0.066802   \n",
       "2   culmen_length_mm  JENSEN_SHANNON_DIVERGENCE        0.3  0.028338   \n",
       "3  flipper_length_mm  JENSEN_SHANNON_DIVERGENCE        0.3  0.171961   \n",
       "4             island  JENSEN_SHANNON_DIVERGENCE        0.3  0.048933   \n",
       "5                sex  JENSEN_SHANNON_DIVERGENCE        0.3  0.083454   \n",
       "\n",
       "   is_anomaly  \n",
       "0       False  \n",
       "1       False  \n",
       "2       False  \n",
       "3       False  \n",
       "4       False  \n",
       "5       False  "
      ]
     },
     "execution_count": 355,
     "metadata": {},
     "output_type": "execute_result"
    }
   ],
   "source": [
    "%%bigquery\n",
    "WITH\n",
    "    EXPLAIN_BASE AS (\n",
    "        SELECT * EXCEPT(body_mass_g, sex, island, flipper_length_mm, culmen_depth_mm, culmen_length_mm)\n",
    "        FROM ML.EXPLAIN_PREDICT(\n",
    "            MODEL `statmike-mlops-349915.bqml_model_monitoring.classify_species_rf`,\n",
    "            (\n",
    "                SELECT * EXCEPT(instance_timestamp, species)\n",
    "                FROM `statmike-mlops-349915.bqml_model_monitoring.serving`\n",
    "                WHERE DATE(instance_timestamp) = DATE_SUB(CURRENT_DATE(), INTERVAL 25 DAY)\n",
    "            ), \n",
    "            STRUCT(10 AS top_k_features)\n",
    "        )\n",
    "    ),\n",
    "    ATTRIBUTIONS_BASE AS (\n",
    "        SELECT * EXCEPT(top_feature_attributions),\n",
    "        FROM EXPLAIN_BASE\n",
    "        JOIN UNNEST(top_feature_attributions)\n",
    "    ),\n",
    "    PIVOT_ATTRIBUTION_BASE AS (\n",
    "        SELECT body_mass_g, sex, island, flipper_length_mm, culmen_depth_mm, culmen_length_mm\n",
    "        FROM ATTRIBUTIONS_BASE PIVOT(MAX(attribution) FOR feature IN ('body_mass_g', 'sex', 'island', 'flipper_length_mm', 'culmen_depth_mm', 'culmen_length_mm'))\n",
    "    ),\n",
    "    EXPLAIN_COMP AS (\n",
    "        SELECT * EXCEPT(body_mass_g, sex, island, flipper_length_mm, culmen_depth_mm, culmen_length_mm)\n",
    "        FROM ML.EXPLAIN_PREDICT(\n",
    "            MODEL `statmike-mlops-349915.bqml_model_monitoring.classify_species_rf`,\n",
    "            (\n",
    "                SELECT * EXCEPT(instance_timestamp, species)\n",
    "                FROM `statmike-mlops-349915.bqml_model_monitoring.serving`\n",
    "                WHERE DATE(instance_timestamp) = DATE_SUB(CURRENT_DATE(), INTERVAL 1 DAY)\n",
    "            ), \n",
    "            STRUCT(10 AS top_k_features)\n",
    "        )\n",
    "    ),\n",
    "    ATTRIBUTIONS_COMP AS (\n",
    "        SELECT * EXCEPT(top_feature_attributions),\n",
    "        FROM EXPLAIN_COMP\n",
    "        JOIN UNNEST(top_feature_attributions)\n",
    "    ),\n",
    "    PIVOT_ATTRIBUTION_COMP AS (\n",
    "        SELECT body_mass_g, sex, island, flipper_length_mm, culmen_depth_mm, culmen_length_mm\n",
    "        FROM ATTRIBUTIONS_COMP PIVOT(MAX(attribution) FOR feature IN ('body_mass_g', 'sex', 'island', 'flipper_length_mm', 'culmen_depth_mm', 'culmen_length_mm'))\n",
    "    )\n",
    "SELECT *\n",
    "FROM ML.VALIDATE_DATA_DRIFT(\n",
    "    TABLE PIVOT_ATTRIBUTION_BASE,\n",
    "    TABLE PIVOT_ATTRIBUTION_COMP\n",
    ");"
   ]
  },
  {
   "cell_type": "markdown",
   "metadata": {},
   "source": [
    "---\n",
    "## Model Monitoring For Online Inference With Vertex AI\n",
    "\n",
    "The model trained above was trained using BigQuery ML's [`CREATE MODEL` statement](https://cloud.google.com/bigquery/docs/reference/standard-sql/bigqueryml-syntax-create) along with the training option `MODEL_REGISTRY = \"vertex_ai\"` which automatically registers the model in the [Vertex AI Model Registry](https://cloud.google.com/vertex-ai/docs/model-registry/introduction).  This means the BigQuery ML models can be managed directly in Vertex AI - [more information](https://cloud.google.com/bigquery/docs/managing-models-vertex).\n",
    "\n",
    "Models in the Vertex AI Model Registry can be used to [serve batch or online predictions](https://cloud.google.com/vertex-ai/docs/predictions/get-predictions).  In this section the [Vertex AI Python SDK](https://cloud.google.com/vertex-ai/docs/start/use-vertex-ai-python-sdk) is used to [deploy the model](https://cloud.google.com/vertex-ai/docs/general/deployment) created in this workflow and [get online predictions](https://cloud.google.com/vertex-ai/docs/predictions/get-online-predictions).\n",
    "\n",
    "The deployment of the model will include an extra setting to [setup logging of prediction request and responses to BigQuery](https://cloud.google.com/vertex-ai/docs/predictions/online-prediction-logging#enabling-and-disabling).  By logging the request and responses to BigQuery we can easily use the model monitoring functions covered in this tutorial."
   ]
  },
  {
   "cell_type": "markdown",
   "metadata": {},
   "source": [
    "### Setup Client"
   ]
  },
  {
   "cell_type": "code",
   "execution_count": 218,
   "metadata": {
    "tags": []
   },
   "outputs": [],
   "source": [
    "from google.cloud import aiplatform\n",
    "aiplatform.init(project = 'statmike-mlops-349915', location = 'us-central1')"
   ]
  },
  {
   "cell_type": "markdown",
   "metadata": {},
   "source": [
    "### Get Model From Vertex AI Model Registry"
   ]
  },
  {
   "cell_type": "code",
   "execution_count": 219,
   "metadata": {
    "tags": []
   },
   "outputs": [
    {
     "data": {
      "text/plain": [
       "'projects/1026793852137/locations/us-central1/models/classify_species_rf@1'"
      ]
     },
     "execution_count": 219,
     "metadata": {},
     "output_type": "execute_result"
    }
   ],
   "source": [
    "model = aiplatform.Model(model_name = 'classify_species_rf')\n",
    "model.versioned_resource_name"
   ]
  },
  {
   "cell_type": "markdown",
   "metadata": {},
   "source": [
    "### Deploy Model To Endpoint"
   ]
  },
  {
   "cell_type": "code",
   "execution_count": 220,
   "metadata": {
    "tags": []
   },
   "outputs": [
    {
     "name": "stdout",
     "output_type": "stream",
     "text": [
      "Creating Endpoint\n",
      "Create Endpoint backing LRO: projects/1026793852137/locations/us-central1/endpoints/7868287727295266816/operations/5846111055826124800\n",
      "Endpoint created. Resource name: projects/1026793852137/locations/us-central1/endpoints/7868287727295266816\n",
      "To use this Endpoint in another session:\n",
      "endpoint = aiplatform.Endpoint('projects/1026793852137/locations/us-central1/endpoints/7868287727295266816')\n",
      "Deploying model to Endpoint : projects/1026793852137/locations/us-central1/endpoints/7868287727295266816\n",
      "Using default machine_type: n1-standard-2\n",
      "Deploy Endpoint model backing LRO: projects/1026793852137/locations/us-central1/endpoints/7868287727295266816/operations/8570788830385274880\n",
      "Endpoint model deployed. Resource name: projects/1026793852137/locations/us-central1/endpoints/7868287727295266816\n"
     ]
    }
   ],
   "source": [
    "endpoint = model.deploy()"
   ]
  },
  {
   "cell_type": "code",
   "execution_count": 221,
   "metadata": {
    "tags": []
   },
   "outputs": [
    {
     "data": {
      "text/plain": [
       "'projects/1026793852137/locations/us-central1/endpoints/7868287727295266816'"
      ]
     },
     "execution_count": 221,
     "metadata": {},
     "output_type": "execute_result"
    }
   ],
   "source": [
    "endpoint.resource_name"
   ]
  },
  {
   "cell_type": "markdown",
   "metadata": {},
   "source": [
    "### Get Data For Predictions\n",
    "\n",
    "Get a sample of data from the serving table to use as online prediction requests."
   ]
  },
  {
   "cell_type": "code",
   "execution_count": 286,
   "metadata": {
    "tags": []
   },
   "outputs": [
    {
     "data": {
      "application/vnd.jupyter.widget-view+json": {
       "model_id": "b895ef089b9143c3bf1f65b5f691b2fe",
       "version_major": 2,
       "version_minor": 0
      },
      "text/plain": [
       "Query is running:   0%|          |"
      ]
     },
     "metadata": {},
     "output_type": "display_data"
    },
    {
     "data": {
      "application/vnd.jupyter.widget-view+json": {
       "model_id": "e0ed10c33c5d41c6a755f26f729f6840",
       "version_major": 2,
       "version_minor": 0
      },
      "text/plain": [
       "Downloading:   0%|          |"
      ]
     },
     "metadata": {},
     "output_type": "display_data"
    }
   ],
   "source": [
    "%%bigquery online\n",
    "SELECT * EXCEPT(species, instance_timestamp)\n",
    "FROM statmike-mlops-349915.bqml_model_monitoring.serving\n",
    "WHERE RAND() < 0.1"
   ]
  },
  {
   "cell_type": "code",
   "execution_count": 287,
   "metadata": {
    "tags": []
   },
   "outputs": [
    {
     "data": {
      "text/plain": [
       "{'island': 'Biscoe',\n",
       " 'culmen_length_mm': 45.1,\n",
       " 'culmen_depth_mm': 14.5,\n",
       " 'sex': 'FEMALE',\n",
       " 'flipper_length_mm': 246.87195497769505,\n",
       " 'body_mass_g': 5773.4637259123065}"
      ]
     },
     "execution_count": 287,
     "metadata": {},
     "output_type": "execute_result"
    }
   ],
   "source": [
    "import numpy as np\n",
    "online['sex'].replace(np.nan, '', inplace=True)\n",
    "online = online.to_dict(orient = 'records')\n",
    "online[0]"
   ]
  },
  {
   "cell_type": "markdown",
   "metadata": {
    "tags": []
   },
   "source": [
    "### Get Predictions"
   ]
  },
  {
   "cell_type": "code",
   "execution_count": 288,
   "metadata": {
    "tags": []
   },
   "outputs": [
    {
     "data": {
      "text/plain": [
       "Prediction(predictions=[{'predicted_species': 'Gentoo penguin (Pygoscelis papua)', 'species_probs': [0.8148351907730103, 0.0925067588686943, 0.09265800565481186], 'species_values': ['Gentoo penguin (Pygoscelis papua)', 'Chinstrap penguin (Pygoscelis antarctica)', 'Adelie Penguin (Pygoscelis adeliae)']}], deployed_model_id='4725294156878970880', metadata=None, model_version_id='1', model_resource_name='projects/1026793852137/locations/us-central1/models/classify_species_rf', explanations=None)"
      ]
     },
     "execution_count": 288,
     "metadata": {},
     "output_type": "execute_result"
    }
   ],
   "source": [
    "endpoint.predict(instances = online[0:1])"
   ]
  },
  {
   "cell_type": "markdown",
   "metadata": {},
   "source": [
    "### Enable Prediction request-response logging To BigQuery\n",
    "\n",
    "The endpoint can be enabled for logging both the request and response for predictions.  These logs are directed to a BigQuery table.  This is enable throught the `gcloud ai endpoints update` command - [reference](https://cloud.google.com/sdk/gcloud/reference/ai/endpoints/update)."
   ]
  },
  {
   "cell_type": "code",
   "execution_count": 289,
   "metadata": {
    "tags": []
   },
   "outputs": [
    {
     "data": {
      "text/plain": [
       "'7868287727295266816'"
      ]
     },
     "execution_count": 289,
     "metadata": {},
     "output_type": "execute_result"
    }
   ],
   "source": [
    "endpoint.name"
   ]
  },
  {
   "cell_type": "code",
   "execution_count": 290,
   "metadata": {
    "tags": []
   },
   "outputs": [
    {
     "name": "stdout",
     "output_type": "stream",
     "text": [
      "Using endpoint [https://us-central1-aiplatform.googleapis.com/]\n",
      "Updated Vertex AI endpoint [projects/1026793852137/locations/us-central1/endpoints/7868287727295266816].\n"
     ]
    }
   ],
   "source": [
    "!gcloud ai endpoints update $endpoint.name \\\n",
    "--region=us-central1 \\\n",
    "--request-response-logging-table=bq://statmike-mlops-349915.bqml_model_monitoring.serving_online"
   ]
  },
  {
   "cell_type": "markdown",
   "metadata": {},
   "source": [
    "### Send Prediction Requests To Endpoint\n",
    "\n",
    "These will get logged to the BigQuery table specified above."
   ]
  },
  {
   "cell_type": "code",
   "execution_count": 291,
   "metadata": {
    "tags": []
   },
   "outputs": [],
   "source": [
    "for instance in online:\n",
    "    prediction = endpoint.predict(instances = [instance])"
   ]
  },
  {
   "cell_type": "code",
   "execution_count": 292,
   "metadata": {
    "tags": []
   },
   "outputs": [
    {
     "data": {
      "application/vnd.jupyter.widget-view+json": {
       "model_id": "d264c7c26ca54140be6e7f6f5fafb3dd",
       "version_major": 2,
       "version_minor": 0
      },
      "text/plain": [
       "Query is running:   0%|          |"
      ]
     },
     "metadata": {},
     "output_type": "display_data"
    },
    {
     "data": {
      "application/vnd.jupyter.widget-view+json": {
       "model_id": "2a567b9b97a8425bbd074731daab2cd5",
       "version_major": 2,
       "version_minor": 0
      },
      "text/plain": [
       "Downloading:   0%|          |"
      ]
     },
     "metadata": {},
     "output_type": "display_data"
    },
    {
     "data": {
      "text/html": [
       "<div>\n",
       "<style scoped>\n",
       "    .dataframe tbody tr th:only-of-type {\n",
       "        vertical-align: middle;\n",
       "    }\n",
       "\n",
       "    .dataframe tbody tr th {\n",
       "        vertical-align: top;\n",
       "    }\n",
       "\n",
       "    .dataframe thead th {\n",
       "        text-align: right;\n",
       "    }\n",
       "</style>\n",
       "<table border=\"1\" class=\"dataframe\">\n",
       "  <thead>\n",
       "    <tr style=\"text-align: right;\">\n",
       "      <th></th>\n",
       "      <th>endpoint</th>\n",
       "      <th>deployed_model_id</th>\n",
       "      <th>logging_time</th>\n",
       "      <th>request_id</th>\n",
       "      <th>request_payload</th>\n",
       "      <th>response_payload</th>\n",
       "    </tr>\n",
       "  </thead>\n",
       "  <tbody>\n",
       "    <tr>\n",
       "      <th>0</th>\n",
       "      <td>projects/1026793852137/locations/us-central1/endpoints/7868287727295266816</td>\n",
       "      <td>4725294156878970880</td>\n",
       "      <td>2024-04-11 20:00:39.692098+00:00</td>\n",
       "      <td>5548635537219015955.000000000</td>\n",
       "      <td>[{\"body_mass_g\":3876.409971272526,\"culmen_depth_mm\":17.5,\"sex\":\"FEMALE\",\"culmen_length_mm\":46.2,\"flipper_length_mm\":193.91074898287857,\"island\":\"Dream\"}]</td>\n",
       "      <td>[{\"species_values\":[\"Gentoo penguin (Pygoscelis papua)\",\"Chinstrap penguin (Pygoscelis antarctica)\",\"Adelie Penguin (Pygoscelis adeliae)\"],\"predicted_species\":\"Chinstrap penguin (Pygoscelis antarctica)\",\"species_probs\":[0.106864832341671,0.78273290395736694,0.1104022413492203]}]</td>\n",
       "    </tr>\n",
       "    <tr>\n",
       "      <th>1</th>\n",
       "      <td>projects/1026793852137/locations/us-central1/endpoints/7868287727295266816</td>\n",
       "      <td>4725294156878970880</td>\n",
       "      <td>2024-04-11 20:11:25.373877+00:00</td>\n",
       "      <td>2132563197594747005.000000000</td>\n",
       "      <td>[{\"body_mass_g\":6801.2946184179518,\"island\":\"Biscoe\",\"flipper_length_mm\":267.57801125591521,\"sex\":\"MALE\",\"culmen_length_mm\":47.8,\"culmen_depth_mm\":15}]</td>\n",
       "      <td>[{\"predicted_species\":\"Gentoo penguin (Pygoscelis papua)\",\"species_probs\":[0.81487220525741577,0.092465639114379883,0.092662207782268524],\"species_values\":[\"Gentoo penguin (Pygoscelis papua)\",\"Chinstrap penguin (Pygoscelis antarctica)\",\"Adelie Penguin (Pygoscelis adeliae)\"]}]</td>\n",
       "    </tr>\n",
       "    <tr>\n",
       "      <th>2</th>\n",
       "      <td>projects/1026793852137/locations/us-central1/endpoints/7868287727295266816</td>\n",
       "      <td>4725294156878970880</td>\n",
       "      <td>2024-04-11 20:11:25.785093+00:00</td>\n",
       "      <td>1210280289640347745.000000000</td>\n",
       "      <td>[{\"island\":\"Torgersen\",\"culmen_depth_mm\":18.5,\"flipper_length_mm\":230.75320303275407,\"culmen_length_mm\":41.4,\"sex\":\"MALE\",\"body_mass_g\":4972.3859980842717}]</td>\n",
       "      <td>[{\"species_probs\":[0.2723308801651001,0.15783017873764041,0.56983894109725952],\"species_values\":[\"Gentoo penguin (Pygoscelis papua)\",\"Chinstrap penguin (Pygoscelis antarctica)\",\"Adelie Penguin (Pygoscelis adeliae)\"],\"predicted_species\":\"Adelie Penguin (Pygoscelis adeliae)\"}]</td>\n",
       "    </tr>\n",
       "    <tr>\n",
       "      <th>3</th>\n",
       "      <td>projects/1026793852137/locations/us-central1/endpoints/7868287727295266816</td>\n",
       "      <td>4725294156878970880</td>\n",
       "      <td>2024-04-11 20:11:25.853615+00:00</td>\n",
       "      <td>3806424684340302707.000000000</td>\n",
       "      <td>[{\"island\":\"Dream\",\"sex\":\"FEMALE\",\"culmen_length_mm\":36.8,\"body_mass_g\":3952.3115584888324,\"culmen_depth_mm\":18.5,\"flipper_length_mm\":212.30405391006181}]</td>\n",
       "      <td>[{\"predicted_species\":\"Adelie Penguin (Pygoscelis adeliae)\",\"species_values\":[\"Gentoo penguin (Pygoscelis papua)\",\"Chinstrap penguin (Pygoscelis antarctica)\",\"Adelie Penguin (Pygoscelis adeliae)\"],\"species_probs\":[0.209903821349144,0.18652202188968661,0.60357415676116943]}]</td>\n",
       "    </tr>\n",
       "    <tr>\n",
       "      <th>4</th>\n",
       "      <td>projects/1026793852137/locations/us-central1/endpoints/7868287727295266816</td>\n",
       "      <td>4725294156878970880</td>\n",
       "      <td>2024-04-11 20:11:25.953678+00:00</td>\n",
       "      <td>1881912497771419694.000000000</td>\n",
       "      <td>[{\"sex\":\"MALE\",\"culmen_length_mm\":42,\"flipper_length_mm\":246.57092808815091,\"body_mass_g\":5217.1833705432,\"culmen_depth_mm\":19.5,\"island\":\"Biscoe\"}]</td>\n",
       "      <td>[{\"species_values\":[\"Gentoo penguin (Pygoscelis papua)\",\"Chinstrap penguin (Pygoscelis antarctica)\",\"Adelie Penguin (Pygoscelis adeliae)\"],\"species_probs\":[0.32081747055053711,0.15435127913951871,0.52483117580413818],\"predicted_species\":\"Adelie Penguin (Pygoscelis adeliae)\"}]</td>\n",
       "    </tr>\n",
       "  </tbody>\n",
       "</table>\n",
       "</div>"
      ],
      "text/plain": [
       "                                                                     endpoint  \\\n",
       "0  projects/1026793852137/locations/us-central1/endpoints/7868287727295266816   \n",
       "1  projects/1026793852137/locations/us-central1/endpoints/7868287727295266816   \n",
       "2  projects/1026793852137/locations/us-central1/endpoints/7868287727295266816   \n",
       "3  projects/1026793852137/locations/us-central1/endpoints/7868287727295266816   \n",
       "4  projects/1026793852137/locations/us-central1/endpoints/7868287727295266816   \n",
       "\n",
       "     deployed_model_id                     logging_time  \\\n",
       "0  4725294156878970880 2024-04-11 20:00:39.692098+00:00   \n",
       "1  4725294156878970880 2024-04-11 20:11:25.373877+00:00   \n",
       "2  4725294156878970880 2024-04-11 20:11:25.785093+00:00   \n",
       "3  4725294156878970880 2024-04-11 20:11:25.853615+00:00   \n",
       "4  4725294156878970880 2024-04-11 20:11:25.953678+00:00   \n",
       "\n",
       "                      request_id  \\\n",
       "0  5548635537219015955.000000000   \n",
       "1  2132563197594747005.000000000   \n",
       "2  1210280289640347745.000000000   \n",
       "3  3806424684340302707.000000000   \n",
       "4  1881912497771419694.000000000   \n",
       "\n",
       "                                                                                                                                                request_payload  \\\n",
       "0     [{\"body_mass_g\":3876.409971272526,\"culmen_depth_mm\":17.5,\"sex\":\"FEMALE\",\"culmen_length_mm\":46.2,\"flipper_length_mm\":193.91074898287857,\"island\":\"Dream\"}]   \n",
       "1       [{\"body_mass_g\":6801.2946184179518,\"island\":\"Biscoe\",\"flipper_length_mm\":267.57801125591521,\"sex\":\"MALE\",\"culmen_length_mm\":47.8,\"culmen_depth_mm\":15}]   \n",
       "2  [{\"island\":\"Torgersen\",\"culmen_depth_mm\":18.5,\"flipper_length_mm\":230.75320303275407,\"culmen_length_mm\":41.4,\"sex\":\"MALE\",\"body_mass_g\":4972.3859980842717}]   \n",
       "3    [{\"island\":\"Dream\",\"sex\":\"FEMALE\",\"culmen_length_mm\":36.8,\"body_mass_g\":3952.3115584888324,\"culmen_depth_mm\":18.5,\"flipper_length_mm\":212.30405391006181}]   \n",
       "4          [{\"sex\":\"MALE\",\"culmen_length_mm\":42,\"flipper_length_mm\":246.57092808815091,\"body_mass_g\":5217.1833705432,\"culmen_depth_mm\":19.5,\"island\":\"Biscoe\"}]   \n",
       "\n",
       "                                                                                                                                                                                                                                                                          response_payload  \n",
       "0  [{\"species_values\":[\"Gentoo penguin (Pygoscelis papua)\",\"Chinstrap penguin (Pygoscelis antarctica)\",\"Adelie Penguin (Pygoscelis adeliae)\"],\"predicted_species\":\"Chinstrap penguin (Pygoscelis antarctica)\",\"species_probs\":[0.106864832341671,0.78273290395736694,0.1104022413492203]}]  \n",
       "1     [{\"predicted_species\":\"Gentoo penguin (Pygoscelis papua)\",\"species_probs\":[0.81487220525741577,0.092465639114379883,0.092662207782268524],\"species_values\":[\"Gentoo penguin (Pygoscelis papua)\",\"Chinstrap penguin (Pygoscelis antarctica)\",\"Adelie Penguin (Pygoscelis adeliae)\"]}]  \n",
       "2      [{\"species_probs\":[0.2723308801651001,0.15783017873764041,0.56983894109725952],\"species_values\":[\"Gentoo penguin (Pygoscelis papua)\",\"Chinstrap penguin (Pygoscelis antarctica)\",\"Adelie Penguin (Pygoscelis adeliae)\"],\"predicted_species\":\"Adelie Penguin (Pygoscelis adeliae)\"}]  \n",
       "3       [{\"predicted_species\":\"Adelie Penguin (Pygoscelis adeliae)\",\"species_values\":[\"Gentoo penguin (Pygoscelis papua)\",\"Chinstrap penguin (Pygoscelis antarctica)\",\"Adelie Penguin (Pygoscelis adeliae)\"],\"species_probs\":[0.209903821349144,0.18652202188968661,0.60357415676116943]}]  \n",
       "4     [{\"species_values\":[\"Gentoo penguin (Pygoscelis papua)\",\"Chinstrap penguin (Pygoscelis antarctica)\",\"Adelie Penguin (Pygoscelis adeliae)\"],\"species_probs\":[0.32081747055053711,0.15435127913951871,0.52483117580413818],\"predicted_species\":\"Adelie Penguin (Pygoscelis adeliae)\"}]  "
      ]
     },
     "execution_count": 292,
     "metadata": {},
     "output_type": "execute_result"
    }
   ],
   "source": [
    "%%bigquery\n",
    "SELECT *\n",
    "FROM `statmike-mlops-349915.bqml_model_monitoring.serving_online`\n",
    "LIMIT 5"
   ]
  },
  {
   "cell_type": "markdown",
   "metadata": {},
   "source": [
    "### Create A View Of All Serving Data\n",
    "\n",
    "Combine the batch serving data with the online serving data in a view."
   ]
  },
  {
   "cell_type": "code",
   "execution_count": 303,
   "metadata": {
    "tags": []
   },
   "outputs": [
    {
     "data": {
      "application/vnd.jupyter.widget-view+json": {
       "model_id": "2b91307e147c4db5a4dec3be85e85ff1",
       "version_major": 2,
       "version_minor": 0
      },
      "text/plain": [
       "Query is running:   0%|          |"
      ]
     },
     "metadata": {},
     "output_type": "display_data"
    },
    {
     "data": {
      "application/vnd.jupyter.widget-view+json": {
       "model_id": "38f0f3ea71ce45e7a25e36b2651eb73d",
       "version_major": 2,
       "version_minor": 0
      },
      "text/plain": [
       "Downloading:   0%|          |"
      ]
     },
     "metadata": {},
     "output_type": "display_data"
    },
    {
     "data": {
      "text/html": [
       "<div>\n",
       "<style scoped>\n",
       "    .dataframe tbody tr th:only-of-type {\n",
       "        vertical-align: middle;\n",
       "    }\n",
       "\n",
       "    .dataframe tbody tr th {\n",
       "        vertical-align: top;\n",
       "    }\n",
       "\n",
       "    .dataframe thead th {\n",
       "        text-align: right;\n",
       "    }\n",
       "</style>\n",
       "<table border=\"1\" class=\"dataframe\">\n",
       "  <thead>\n",
       "    <tr style=\"text-align: right;\">\n",
       "      <th></th>\n",
       "      <th>instance_timestamp</th>\n",
       "      <th>island</th>\n",
       "      <th>sex</th>\n",
       "      <th>flipper_length_mm</th>\n",
       "      <th>body_mass_g</th>\n",
       "      <th>culmen_length_mm</th>\n",
       "      <th>culmen_depth_mm</th>\n",
       "    </tr>\n",
       "  </thead>\n",
       "  <tbody>\n",
       "    <tr>\n",
       "      <th>0</th>\n",
       "      <td>2024-04-11 20:00:39.366541+00:00</td>\n",
       "      <td>Biscoe</td>\n",
       "      <td>MALE</td>\n",
       "      <td>215.000000</td>\n",
       "      <td>5650.000000</td>\n",
       "      <td>47.8</td>\n",
       "      <td>15.0</td>\n",
       "    </tr>\n",
       "    <tr>\n",
       "      <th>1</th>\n",
       "      <td>2024-04-11 20:11:25.539733+00:00</td>\n",
       "      <td>Dream</td>\n",
       "      <td>FEMALE</td>\n",
       "      <td>229.734882</td>\n",
       "      <td>4483.662979</td>\n",
       "      <td>35.7</td>\n",
       "      <td>18.0</td>\n",
       "    </tr>\n",
       "    <tr>\n",
       "      <th>2</th>\n",
       "      <td>2024-04-11 20:11:26.083953+00:00</td>\n",
       "      <td>Biscoe</td>\n",
       "      <td>MALE</td>\n",
       "      <td>277.834872</td>\n",
       "      <td>6804.063614</td>\n",
       "      <td>49.5</td>\n",
       "      <td>16.2</td>\n",
       "    </tr>\n",
       "    <tr>\n",
       "      <th>3</th>\n",
       "      <td>2024-04-11 20:11:26.993301+00:00</td>\n",
       "      <td>Dream</td>\n",
       "      <td>MALE</td>\n",
       "      <td>262.091443</td>\n",
       "      <td>4667.999954</td>\n",
       "      <td>49.3</td>\n",
       "      <td>19.9</td>\n",
       "    </tr>\n",
       "    <tr>\n",
       "      <th>4</th>\n",
       "      <td>2024-04-11 20:11:27.200133+00:00</td>\n",
       "      <td>Biscoe</td>\n",
       "      <td>MALE</td>\n",
       "      <td>229.263562</td>\n",
       "      <td>4349.101327</td>\n",
       "      <td>37.6</td>\n",
       "      <td>19.1</td>\n",
       "    </tr>\n",
       "  </tbody>\n",
       "</table>\n",
       "</div>"
      ],
      "text/plain": [
       "                instance_timestamp  island     sex  flipper_length_mm  \\\n",
       "0 2024-04-11 20:00:39.366541+00:00  Biscoe    MALE         215.000000   \n",
       "1 2024-04-11 20:11:25.539733+00:00   Dream  FEMALE         229.734882   \n",
       "2 2024-04-11 20:11:26.083953+00:00  Biscoe    MALE         277.834872   \n",
       "3 2024-04-11 20:11:26.993301+00:00   Dream    MALE         262.091443   \n",
       "4 2024-04-11 20:11:27.200133+00:00  Biscoe    MALE         229.263562   \n",
       "\n",
       "   body_mass_g  culmen_length_mm  culmen_depth_mm  \n",
       "0  5650.000000              47.8             15.0  \n",
       "1  4483.662979              35.7             18.0  \n",
       "2  6804.063614              49.5             16.2  \n",
       "3  4667.999954              49.3             19.9  \n",
       "4  4349.101327              37.6             19.1  "
      ]
     },
     "execution_count": 303,
     "metadata": {},
     "output_type": "execute_result"
    }
   ],
   "source": [
    "%%bigquery\n",
    "SELECT\n",
    "    logging_time as instance_timestamp,\n",
    "    JSON_VALUE(request, \"$.island\") as island,\n",
    "    JSON_VALUE(request, \"$.sex\") as sex,\n",
    "    CAST(JSON_VALUE(request, \"$.flipper_length_mm\") AS FLOAT64) as flipper_length_mm,\n",
    "    CAST(JSON_VALUE(request, \"$.body_mass_g\") AS FLOAT64) as body_mass_g,\n",
    "    CAST(JSON_VALUE(request, \"$.culmen_length_mm\") AS FLOAT64) as culmen_length_mm,\n",
    "    CAST(JSON_VALUE(request, \"$.culmen_depth_mm\") AS FLOAT64) as culmen_depth_mm\n",
    "FROM `statmike-mlops-349915.bqml_model_monitoring.serving_online`,\n",
    "UNNEST(request_payload) as request\n",
    "LIMIT 5"
   ]
  },
  {
   "cell_type": "code",
   "execution_count": 302,
   "metadata": {
    "tags": []
   },
   "outputs": [
    {
     "data": {
      "application/vnd.jupyter.widget-view+json": {
       "model_id": "5c9a2015d8ac4dc59469c28f338ea200",
       "version_major": 2,
       "version_minor": 0
      },
      "text/plain": [
       "Query is running:   0%|          |"
      ]
     },
     "metadata": {},
     "output_type": "display_data"
    },
    {
     "data": {
      "text/html": [
       "<div>\n",
       "<style scoped>\n",
       "    .dataframe tbody tr th:only-of-type {\n",
       "        vertical-align: middle;\n",
       "    }\n",
       "\n",
       "    .dataframe tbody tr th {\n",
       "        vertical-align: top;\n",
       "    }\n",
       "\n",
       "    .dataframe thead th {\n",
       "        text-align: right;\n",
       "    }\n",
       "</style>\n",
       "<table border=\"1\" class=\"dataframe\">\n",
       "  <thead>\n",
       "    <tr style=\"text-align: right;\">\n",
       "      <th></th>\n",
       "    </tr>\n",
       "  </thead>\n",
       "  <tbody>\n",
       "  </tbody>\n",
       "</table>\n",
       "</div>"
      ],
      "text/plain": [
       "Empty DataFrame\n",
       "Columns: []\n",
       "Index: []"
      ]
     },
     "execution_count": 302,
     "metadata": {},
     "output_type": "execute_result"
    }
   ],
   "source": [
    "%%bigquery\n",
    "CREATE OR REPLACE VIEW `statmike-mlops-349915.bqml_model_monitoring.serving_all` AS\n",
    "WITH\n",
    "    BATCH AS (\n",
    "        SELECT instance_timestamp, island, sex, flipper_length_mm, body_mass_g, culmen_length_mm, culmen_depth_mm\n",
    "        FROM `statmike-mlops-349915.bqml_model_monitoring.serving`\n",
    "    ),\n",
    "    ONLINE AS (\n",
    "        SELECT\n",
    "            logging_time as instance_timestamp,\n",
    "            JSON_VALUE(request, \"$.island\") as island,\n",
    "            JSON_VALUE(request, \"$.sex\") as sex,\n",
    "            CAST(JSON_VALUE(request, \"$.flipper_length_mm\") AS FLOAT64) as flipper_length_mm,\n",
    "            CAST(JSON_VALUE(request, \"$.body_mass_g\") AS FLOAT64) as body_mass_g,\n",
    "            CAST(JSON_VALUE(request, \"$.culmen_length_mm\") AS FLOAT64) as culmen_length_mm,\n",
    "            CAST(JSON_VALUE(request, \"$.culmen_depth_mm\") AS FLOAT64) as culmen_depth_mm\n",
    "        FROM `statmike-mlops-349915.bqml_model_monitoring.serving_online`,\n",
    "        UNNEST(request_payload) as request\n",
    "    )\n",
    "SELECT * FROM BATCH\n",
    "UNION ALL\n",
    "SELECT * FROM ONLINE\n"
   ]
  },
  {
   "cell_type": "markdown",
   "metadata": {},
   "source": [
    "### Monitoring Skew (Change from training) With `ML.VALIDATE_DATA_SKEW`\n",
    "\n",
    "Compare today, or any data, to the training data by directly comparing to the the model created in BigQuery."
   ]
  },
  {
   "cell_type": "code",
   "execution_count": 314,
   "metadata": {
    "tags": []
   },
   "outputs": [
    {
     "data": {
      "application/vnd.jupyter.widget-view+json": {
       "model_id": "5a62ff621e44401ea3e26ec0b8da2ff7",
       "version_major": 2,
       "version_minor": 0
      },
      "text/plain": [
       "Query is running:   0%|          |"
      ]
     },
     "metadata": {},
     "output_type": "display_data"
    },
    {
     "data": {
      "application/vnd.jupyter.widget-view+json": {
       "model_id": "7abd2834e81a448dab34ef029ebdaae1",
       "version_major": 2,
       "version_minor": 0
      },
      "text/plain": [
       "Downloading:   0%|          |"
      ]
     },
     "metadata": {},
     "output_type": "display_data"
    },
    {
     "data": {
      "text/html": [
       "<div>\n",
       "<style scoped>\n",
       "    .dataframe tbody tr th:only-of-type {\n",
       "        vertical-align: middle;\n",
       "    }\n",
       "\n",
       "    .dataframe tbody tr th {\n",
       "        vertical-align: top;\n",
       "    }\n",
       "\n",
       "    .dataframe thead th {\n",
       "        text-align: right;\n",
       "    }\n",
       "</style>\n",
       "<table border=\"1\" class=\"dataframe\">\n",
       "  <thead>\n",
       "    <tr style=\"text-align: right;\">\n",
       "      <th></th>\n",
       "      <th>input</th>\n",
       "      <th>metric</th>\n",
       "      <th>threshold</th>\n",
       "      <th>value</th>\n",
       "      <th>is_anomaly</th>\n",
       "    </tr>\n",
       "  </thead>\n",
       "  <tbody>\n",
       "    <tr>\n",
       "      <th>0</th>\n",
       "      <td>body_mass_g</td>\n",
       "      <td>JENSEN_SHANNON_DIVERGENCE</td>\n",
       "      <td>0.3</td>\n",
       "      <td>0.122751</td>\n",
       "      <td>False</td>\n",
       "    </tr>\n",
       "    <tr>\n",
       "      <th>1</th>\n",
       "      <td>culmen_depth_mm</td>\n",
       "      <td>JENSEN_SHANNON_DIVERGENCE</td>\n",
       "      <td>0.3</td>\n",
       "      <td>0.020097</td>\n",
       "      <td>False</td>\n",
       "    </tr>\n",
       "    <tr>\n",
       "      <th>2</th>\n",
       "      <td>culmen_length_mm</td>\n",
       "      <td>JENSEN_SHANNON_DIVERGENCE</td>\n",
       "      <td>0.3</td>\n",
       "      <td>0.026310</td>\n",
       "      <td>False</td>\n",
       "    </tr>\n",
       "    <tr>\n",
       "      <th>3</th>\n",
       "      <td>flipper_length_mm</td>\n",
       "      <td>JENSEN_SHANNON_DIVERGENCE</td>\n",
       "      <td>0.3</td>\n",
       "      <td>0.387825</td>\n",
       "      <td>True</td>\n",
       "    </tr>\n",
       "    <tr>\n",
       "      <th>4</th>\n",
       "      <td>island</td>\n",
       "      <td>L_INFTY</td>\n",
       "      <td>0.3</td>\n",
       "      <td>0.086931</td>\n",
       "      <td>False</td>\n",
       "    </tr>\n",
       "    <tr>\n",
       "      <th>5</th>\n",
       "      <td>sex</td>\n",
       "      <td>L_INFTY</td>\n",
       "      <td>0.3</td>\n",
       "      <td>0.018468</td>\n",
       "      <td>False</td>\n",
       "    </tr>\n",
       "  </tbody>\n",
       "</table>\n",
       "</div>"
      ],
      "text/plain": [
       "               input                     metric  threshold     value  \\\n",
       "0        body_mass_g  JENSEN_SHANNON_DIVERGENCE        0.3  0.122751   \n",
       "1    culmen_depth_mm  JENSEN_SHANNON_DIVERGENCE        0.3  0.020097   \n",
       "2   culmen_length_mm  JENSEN_SHANNON_DIVERGENCE        0.3  0.026310   \n",
       "3  flipper_length_mm  JENSEN_SHANNON_DIVERGENCE        0.3  0.387825   \n",
       "4             island                    L_INFTY        0.3  0.086931   \n",
       "5                sex                    L_INFTY        0.3  0.018468   \n",
       "\n",
       "   is_anomaly  \n",
       "0       False  \n",
       "1       False  \n",
       "2       False  \n",
       "3        True  \n",
       "4       False  \n",
       "5       False  "
      ]
     },
     "execution_count": 314,
     "metadata": {},
     "output_type": "execute_result"
    }
   ],
   "source": [
    "%%bigquery\n",
    "SELECT *\n",
    "FROM ML.VALIDATE_DATA_SKEW(\n",
    "    MODEL `statmike-mlops-349915.bqml_model_monitoring.classify_species_rf`,\n",
    "    (\n",
    "        SELECT *\n",
    "        FROM `statmike-mlops-349915.bqml_model_monitoring.serving_all`\n",
    "        WHERE DATE(instance_timestamp) >= CURRENT_DATE()\n",
    "    )\n",
    ");"
   ]
  },
  {
   "cell_type": "markdown",
   "metadata": {},
   "source": [
    "### Monitoring Drift (Change Over Time) With `ML.VALIDATE_DATA_DRIFT`\n",
    "\n",
    "Compare today to 5 days ago and set the a lower, more sensitive, threshold of `0.03` (default is `0.3`) for all features."
   ]
  },
  {
   "cell_type": "code",
   "execution_count": 316,
   "metadata": {
    "tags": []
   },
   "outputs": [
    {
     "data": {
      "application/vnd.jupyter.widget-view+json": {
       "model_id": "ef387aba64a44e0c8dfacfefe6ebe1ff",
       "version_major": 2,
       "version_minor": 0
      },
      "text/plain": [
       "Query is running:   0%|          |"
      ]
     },
     "metadata": {},
     "output_type": "display_data"
    },
    {
     "data": {
      "application/vnd.jupyter.widget-view+json": {
       "model_id": "ff1d71f3d46642799e937dd8ca18108b",
       "version_major": 2,
       "version_minor": 0
      },
      "text/plain": [
       "Downloading:   0%|          |"
      ]
     },
     "metadata": {},
     "output_type": "display_data"
    },
    {
     "data": {
      "text/html": [
       "<div>\n",
       "<style scoped>\n",
       "    .dataframe tbody tr th:only-of-type {\n",
       "        vertical-align: middle;\n",
       "    }\n",
       "\n",
       "    .dataframe tbody tr th {\n",
       "        vertical-align: top;\n",
       "    }\n",
       "\n",
       "    .dataframe thead th {\n",
       "        text-align: right;\n",
       "    }\n",
       "</style>\n",
       "<table border=\"1\" class=\"dataframe\">\n",
       "  <thead>\n",
       "    <tr style=\"text-align: right;\">\n",
       "      <th></th>\n",
       "      <th>input</th>\n",
       "      <th>metric</th>\n",
       "      <th>threshold</th>\n",
       "      <th>value</th>\n",
       "      <th>is_anomaly</th>\n",
       "    </tr>\n",
       "  </thead>\n",
       "  <tbody>\n",
       "    <tr>\n",
       "      <th>0</th>\n",
       "      <td>body_mass_g</td>\n",
       "      <td>JENSEN_SHANNON_DIVERGENCE</td>\n",
       "      <td>0.03</td>\n",
       "      <td>0.071749</td>\n",
       "      <td>True</td>\n",
       "    </tr>\n",
       "    <tr>\n",
       "      <th>1</th>\n",
       "      <td>culmen_depth_mm</td>\n",
       "      <td>JENSEN_SHANNON_DIVERGENCE</td>\n",
       "      <td>0.03</td>\n",
       "      <td>0.001280</td>\n",
       "      <td>False</td>\n",
       "    </tr>\n",
       "    <tr>\n",
       "      <th>2</th>\n",
       "      <td>culmen_length_mm</td>\n",
       "      <td>JENSEN_SHANNON_DIVERGENCE</td>\n",
       "      <td>0.03</td>\n",
       "      <td>0.000946</td>\n",
       "      <td>False</td>\n",
       "    </tr>\n",
       "    <tr>\n",
       "      <th>3</th>\n",
       "      <td>flipper_length_mm</td>\n",
       "      <td>JENSEN_SHANNON_DIVERGENCE</td>\n",
       "      <td>0.03</td>\n",
       "      <td>0.179380</td>\n",
       "      <td>True</td>\n",
       "    </tr>\n",
       "    <tr>\n",
       "      <th>4</th>\n",
       "      <td>island</td>\n",
       "      <td>L_INFTY</td>\n",
       "      <td>0.03</td>\n",
       "      <td>0.015843</td>\n",
       "      <td>False</td>\n",
       "    </tr>\n",
       "    <tr>\n",
       "      <th>5</th>\n",
       "      <td>sex</td>\n",
       "      <td>L_INFTY</td>\n",
       "      <td>0.03</td>\n",
       "      <td>0.014129</td>\n",
       "      <td>False</td>\n",
       "    </tr>\n",
       "  </tbody>\n",
       "</table>\n",
       "</div>"
      ],
      "text/plain": [
       "               input                     metric  threshold     value  \\\n",
       "0        body_mass_g  JENSEN_SHANNON_DIVERGENCE       0.03  0.071749   \n",
       "1    culmen_depth_mm  JENSEN_SHANNON_DIVERGENCE       0.03  0.001280   \n",
       "2   culmen_length_mm  JENSEN_SHANNON_DIVERGENCE       0.03  0.000946   \n",
       "3  flipper_length_mm  JENSEN_SHANNON_DIVERGENCE       0.03  0.179380   \n",
       "4             island                    L_INFTY       0.03  0.015843   \n",
       "5                sex                    L_INFTY       0.03  0.014129   \n",
       "\n",
       "   is_anomaly  \n",
       "0        True  \n",
       "1       False  \n",
       "2       False  \n",
       "3        True  \n",
       "4       False  \n",
       "5       False  "
      ]
     },
     "execution_count": 316,
     "metadata": {},
     "output_type": "execute_result"
    }
   ],
   "source": [
    "%%bigquery\n",
    "SELECT *\n",
    "FROM ML.VALIDATE_DATA_DRIFT(\n",
    "    (\n",
    "        SELECT * EXCEPT(instance_timestamp)\n",
    "        FROM `statmike-mlops-349915.bqml_model_monitoring.serving_all`\n",
    "        WHERE DATE(instance_timestamp) = DATE_SUB(CURRENT_DATE(), INTERVAL 5 DAY)\n",
    "    ),\n",
    "    (\n",
    "        SELECT * EXCEPT(instance_timestamp)\n",
    "        FROM `statmike-mlops-349915.bqml_model_monitoring.serving_all`\n",
    "        WHERE DATE(instance_timestamp) = CURRENT_DATE() \n",
    "    ),\n",
    "    STRUCT(\n",
    "        0.03 AS categorical_default_threshold,\n",
    "        0.03 AS numerical_default_threshold\n",
    "    )\n",
    ");"
   ]
  },
  {
   "cell_type": "markdown",
   "metadata": {},
   "source": [
    "---\n",
    "## Continous Monitoring\n",
    "\n",
    "The methods above can be combined into a job that runs both skew and drift detection.  The jobs can be scheduled or triggered to make the process of model monitoring continous - continous monitoring.  If the model quality can be evaluated with confidence then the automation can even be extended to retrain and update the model for continous training.   \n",
    "\n",
    "This section shows one of many ways to create a model monitoring job. For models created in BigQuery with BigQuery ML it also shows a retraining action as part of the job when alerts are detected.\n",
    "\n",
    "These types of jobs could be automated for continous monitoring with one of these methods:\n",
    "- [BigQuery Scheduled Queries](https://cloud.google.com/bigquery/docs/scheduling-queries)\n",
    "    - Featured below\n",
    "- [Dataform](https://cloud.google.com/dataform/docs/quickstart-create-workflow)\n",
    "- [Workflows](https://cloud.google.com/workflows/docs/tutorials/bigquery-parallel-jobs)\n",
    "- [Cloud Composer](https://cloud.google.com/composer/docs/data-analytics-googlecloud)\n",
    "- [Vertex AI Pipelines](https://cloud.google.com/vertex-ai/docs/pipelines/gcpc-list#bqml_components)\n",
    "\n",
    "This section will show how to:\n",
    "- Develop model monitoring jobs:\n",
    "    - with alerting\n",
    "    - with alterting and retraining\n",
    "- Build tables to capture continous monitoring results\n",
    "- Extend monitoring jobs to BigQuery Scheduled Queries\n",
    "- Backfill monitoring jobs for a past time period"
   ]
  },
  {
   "cell_type": "markdown",
   "metadata": {},
   "source": [
    "### Model Monitoring Job: With Alerting And Retraining\n",
    "\n",
    "A BigQuery SQL job that uses the [procedural language](https://cloud.google.com/bigquery/docs/reference/standard-sql/procedural-language) to execute multiple statements (steps) as a single query.  In this case, monitor skew and drift, detect any feature level anomalies in either and report back the anomalies via a log note with a forced error.\n",
    "\n",
    "This job also include retraining of the BigQuery ML model:\n",
    "In this case the example is simplified to retrain the model and directly implement it as a replacement with `CREATE OR REPLACE MODEL`.  In a production enviornment additional pre/post steps might take place as part of this workflow:\n",
    "- on skew/drift detection:\n",
    "    - Prior to retraining:\n",
    "        - ensure detection is not due to data errors, schema changes, or system changes\n",
    "    - After retrainning:\n",
    "        - evaluate the model and compare to current production version\n",
    "        - conditionally deploy the new version if it is better in any/all key metrics\n",
    "        - consider rollout strategies for the retrained model\n",
    "        - trigger human review before deployment of the replacement"
   ]
  },
  {
   "cell_type": "code",
   "execution_count": 498,
   "metadata": {
    "tags": []
   },
   "outputs": [
    {
     "name": "stdout",
     "output_type": "stream",
     "text": [
      "Executing query with job ID: 0203cd7b-1be3-42f8-9ace-7963e2d45d12\n",
      "Query executing: 0.27s"
     ]
    },
    {
     "name": "stderr",
     "output_type": "stream",
     "text": [
      "\n",
      "ERROR:\n",
      " 400 Query error: \n",
      "\n",
      "Monitoring Report:\n",
      "\tNo drift detected.\n",
      "\tNo skew detected.\n",
      "\n",
      " at [145:9]\n",
      "\n",
      "Location: US\n",
      "Job ID: 0203cd7b-1be3-42f8-9ace-7963e2d45d12\n",
      "\n"
     ]
    }
   ],
   "source": [
    "%%bigquery\n",
    "DECLARE drift_anomalies ARRAY<STRING>;\n",
    "DECLARE drift STRING;\n",
    "DECLARE skew_anomalies ARRAY<STRING>;\n",
    "DECLARE skew STRING;\n",
    "\n",
    "# Monitor Drift\n",
    "SET drift_anomalies = (\n",
    "    SELECT ARRAY_AGG(input)\n",
    "    FROM ML.VALIDATE_DATA_DRIFT(\n",
    "        (\n",
    "            SELECT * EXCEPT(species)\n",
    "            FROM `statmike-mlops-349915.bqml_model_monitoring.training_split`\n",
    "            WHERE splits = 'TRAIN'\n",
    "        ),\n",
    "        (\n",
    "            SELECT * EXCEPT(species, instance_timestamp)\n",
    "            FROM `statmike-mlops-349915.bqml_model_monitoring.serving`\n",
    "            WHERE DATE(instance_timestamp) = DATE_SUB(CURRENT_DATE(), INTERVAL 30 DAY)\n",
    "        ),\n",
    "        STRUCT(\n",
    "            0.4 AS categorical_default_threshold,\n",
    "            0.4 AS numerical_default_threshold\n",
    "        )\n",
    "    )\n",
    "    WHERE is_anomaly = True\n",
    ");\n",
    "IF(ARRAY_LENGTH(drift_anomalies) > 0)\n",
    "    THEN\n",
    "        SET drift = CONCAT(\n",
    "            \"Found data drift (\", ARRAY_TO_STRING(drift_anomalies, \", \"), \")\"\n",
    "        );\n",
    "    ELSE SET drift = 'No drift detected.';\n",
    "END IF;\n",
    "\n",
    "# Monitor Skew\n",
    "SET skew_anomalies = (\n",
    "    SELECT ARRAY_AGG(input)\n",
    "    FROM ML.VALIDATE_DATA_SKEW(\n",
    "        MODEL `statmike-mlops-349915.bqml_model_monitoring.classify_species_rf`,\n",
    "        (\n",
    "            SELECT * EXCEPT(species, instance_timestamp)\n",
    "            FROM `statmike-mlops-349915.bqml_model_monitoring.serving`\n",
    "            WHERE DATE(instance_timestamp) = DATE_SUB(CURRENT_DATE(), INTERVAL 30 DAY)\n",
    "        )\n",
    "    )\n",
    "    WHERE is_anomaly = True\n",
    ");\n",
    "IF(ARRAY_LENGTH(skew_anomalies) > 0)\n",
    "    THEN\n",
    "        SET skew = CONCAT(\n",
    "            \"Found data skew (\", ARRAY_TO_STRING(skew_anomalies, \", \"), \")\"\n",
    "        );\n",
    "    ELSE SET skew = 'No skew detected.';\n",
    "END IF;\n",
    "\n",
    "# Prepare Alert\n",
    "IF(ARRAY_LENGTH(drift_anomalies) > 0 OR ARRAY_LENGTH(skew_anomalies) > 0)\n",
    "    THEN\n",
    "        BEGIN\n",
    "            DECLARE train_accuracy FLOAT64;\n",
    "            DECLARE recent_accuracy FLOAT64;\n",
    "            DECLARE retrain_accuracy FLOAT64;\n",
    "            \n",
    "            # get current models evaluation metrics: accuracy\n",
    "            SET train_accuracy = (\n",
    "                SELECT accuracy\n",
    "                FROM ML.EVALUATE (\n",
    "                    MODEL `statmike-mlops-349915.bqml_model_monitoring.classify_species_rf`\n",
    "                )\n",
    "            );\n",
    "            \n",
    "            # get current models recent evaluation metrics: accuracy\n",
    "            SET recent_accuracy = (\n",
    "                SELECT accuracy\n",
    "                FROM ML.EVALUATE (\n",
    "                    MODEL `statmike-mlops-349915.bqml_model_monitoring.classify_species_rf`,\n",
    "                    (\n",
    "                        SELECT *\n",
    "                        FROM `statmike-mlops-349915.bqml_model_monitoring.serving`\n",
    "                        WHERE DATE(instance_timestamp) = DATE_SUB(CURRENT_DATE(), INTERVAL 30 DAY) \n",
    "                    )\n",
    "                )\n",
    "            );\n",
    "            \n",
    "            # retrain the model\n",
    "            CREATE OR REPLACE MODEL `statmike-mlops-349915.bqml_model_monitoring.classify_species_rf`\n",
    "                TRANSFORM(\n",
    "                    ML.ROBUST_SCALER(body_mass_g) OVER() AS body_mass_g,\n",
    "                    ML.STANDARD_SCALER(culmen_length_mm) OVER() AS culmen_length_mm,\n",
    "                    ML.STANDARD_SCALER(culmen_depth_mm) OVER() AS culmen_depth_mm,\n",
    "                    ML.QUANTILE_BUCKETIZE(flipper_length_mm, 3) OVER() AS flipper_length_mm,\n",
    "                    ML.IMPUTER(sex, 'most_frequent') OVER() AS sex,\n",
    "                    ML.IMPUTER(island, 'most_frequent') OVER() AS island,\n",
    "                    species\n",
    "                )\n",
    "                OPTIONS(\n",
    "                    MODEL_TYPE = 'RANDOM_FOREST_CLASSIFIER',\n",
    "                    INPUT_LABEL_COLS = ['species'],\n",
    "\n",
    "                    # data specifics\n",
    "                    DATA_SPLIT_METHOD = 'AUTO_SPLIT',\n",
    "\n",
    "                    # model specifics\n",
    "                    AUTO_CLASS_WEIGHTS = FALSE,\n",
    "                    NUM_PARALLEL_TREE= 150,\n",
    "                    TREE_METHOD = 'HIST',\n",
    "                    SUBSAMPLE = 0.85,\n",
    "                    COLSAMPLE_BYTREE = 0.9,\n",
    "                    ENABLE_GLOBAL_EXPLAIN = TRUE,\n",
    "\n",
    "                    # register model in Vertex AI For Online Serving\n",
    "                    MODEL_REGISTRY = 'VERTEX_AI'\n",
    "                )\n",
    "            AS\n",
    "                SELECT species, island, culmen_length_mm, culmen_depth_mm, sex, flipper_length_mm, body_mass_g\n",
    "                FROM `statmike-mlops-349915.bqml_model_monitoring.training`\n",
    "                UNION ALL\n",
    "                SELECT species, island, culmen_length_mm, culmen_depth_mm, sex, flipper_length_mm, body_mass_g\n",
    "                FROM `statmike-mlops-349915.bqml_model_monitoring.serving`\n",
    "                WHERE DATE(instance_timestamp) = DATE_SUB(CURRENT_DATE(), INTERVAL 30 DAY)\n",
    "            ;\n",
    "            \n",
    "            # get retrained models evaluation metrics: accuracy\n",
    "            SET retrain_accuracy = (\n",
    "                SELECT accuracy\n",
    "                FROM ML.EVALUATE (\n",
    "                    MODEL `statmike-mlops-349915.bqml_model_monitoring.classify_species_rf`\n",
    "                )\n",
    "            );\n",
    "\n",
    "            SELECT ERROR(\n",
    "                CONCAT(\n",
    "                    \"\\n\\nMonitoring Report:\",\n",
    "                    \"\\n\\t\", drift,\n",
    "                    \"\\n\\t\", skew,\n",
    "                    \"\\nThe Model was retrained:\",\n",
    "                    \"\\n\\taccuracy of prior model: \", train_accuracy,\n",
    "                    \"\\n\\trecent accuracy of prior model: \", recent_accuracy,\n",
    "                    \"\\n\\taccuracy after retraining: \", retrain_accuracy,\n",
    "                    \"\\n\\n\"\n",
    "                )\n",
    "            );\n",
    "        END;\n",
    "    ELSE\n",
    "        SELECT ERROR(\n",
    "            CONCAT(\n",
    "                \"\\n\\nMonitoring Report:\",\n",
    "                \"\\n\\t\", drift,\n",
    "                \"\\n\\t\", skew,\n",
    "                \"\\n\\n\"\n",
    "            )\n",
    "        );\n",
    "END IF;"
   ]
  },
  {
   "cell_type": "code",
   "execution_count": null,
   "metadata": {},
   "outputs": [],
   "source": []
  },
  {
   "cell_type": "code",
   "execution_count": null,
   "metadata": {},
   "outputs": [],
   "source": []
  },
  {
   "cell_type": "code",
   "execution_count": null,
   "metadata": {},
   "outputs": [],
   "source": []
  },
  {
   "cell_type": "code",
   "execution_count": null,
   "metadata": {},
   "outputs": [],
   "source": []
  },
  {
   "cell_type": "code",
   "execution_count": null,
   "metadata": {},
   "outputs": [],
   "source": []
  },
  {
   "cell_type": "code",
   "execution_count": null,
   "metadata": {},
   "outputs": [],
   "source": []
  },
  {
   "cell_type": "code",
   "execution_count": null,
   "metadata": {},
   "outputs": [],
   "source": []
  },
  {
   "cell_type": "code",
   "execution_count": null,
   "metadata": {},
   "outputs": [],
   "source": []
  },
  {
   "cell_type": "code",
   "execution_count": null,
   "metadata": {},
   "outputs": [],
   "source": []
  },
  {
   "cell_type": "code",
   "execution_count": null,
   "metadata": {},
   "outputs": [],
   "source": []
  },
  {
   "cell_type": "code",
   "execution_count": null,
   "metadata": {},
   "outputs": [],
   "source": []
  },
  {
   "cell_type": "code",
   "execution_count": null,
   "metadata": {},
   "outputs": [],
   "source": []
  },
  {
   "cell_type": "code",
   "execution_count": null,
   "metadata": {},
   "outputs": [],
   "source": []
  },
  {
   "cell_type": "markdown",
   "metadata": {},
   "source": [
    "---\n",
    "---\n",
    "---\n",
    "---\n",
    "---"
   ]
  },
  {
   "cell_type": "markdown",
   "metadata": {},
   "source": [
    "---\n",
    "## Continous Model Monitoring\n",
    "\n",
    "By initiating model monitoring on a regular basis the results of anomaly detection can be turned into actions, like:\n",
    "- trigger a person to review a model\n",
    "- automatically trigger the retraining of the model: continous training\n",
    "\n",
    "Monitoring could be scheduled or triggered:\n",
    "- scheduled to run hourly, daily, weekly based on the volume of prediction requests expected\n",
    "- triggered to run based on a volume of requests\n",
    "\n",
    "By using SQL to do monitoring queries it opens up many options for automation of this process:\n",
    "- Cloud Workflows\n",
    "    - Including with Dataform\n",
    "- Cloud Composer\n",
    "    - Including with Dataform\n",
    "- Scheduled Queries\n",
    "\n",
    "This section shows an easy way to get started with automation using scheduled queries and Cloud Logging to trigger email notificaitons."
   ]
  },
  {
   "cell_type": "markdown",
   "metadata": {
    "tags": []
   },
   "source": [
    "### Build Monitoring Tables\n",
    "\n",
    "Create BigQuery tables to hold the results:\n",
    "- Daily Skew Monitoring\n",
    "- Daily Drift Monitoring\n",
    "- Results of `TFDV_DESCRIBE` for each day"
   ]
  },
  {
   "cell_type": "markdown",
   "metadata": {},
   "source": [
    "From the serving data for the features, calculate the timestamp of the earliest day.  To get all the features values from thid day also shift to the start of the next calendar day."
   ]
  },
  {
   "cell_type": "code",
   "execution_count": 391,
   "metadata": {
    "tags": []
   },
   "outputs": [
    {
     "data": {
      "application/json": {
       "ascii": false,
       "bar_format": "{l_bar}{bar}|",
       "colour": null,
       "elapsed": 0.005582571029663086,
       "initial": 0,
       "n": 0,
       "ncols": null,
       "nrows": null,
       "postfix": null,
       "prefix": "Query is running",
       "rate": null,
       "total": 1,
       "unit": "query",
       "unit_divisor": 1000,
       "unit_scale": false
      },
      "application/vnd.jupyter.widget-view+json": {
       "model_id": "24731b23e33a432daa44c9e634921706",
       "version_major": 2,
       "version_minor": 0
      },
      "text/plain": [
       "Query is running:   0%|          |"
      ]
     },
     "metadata": {},
     "output_type": "display_data"
    },
    {
     "data": {
      "application/json": {
       "ascii": false,
       "bar_format": "{l_bar}{bar}|",
       "colour": null,
       "elapsed": 0.004755496978759766,
       "initial": 0,
       "n": 0,
       "ncols": null,
       "nrows": null,
       "postfix": null,
       "prefix": "Downloading",
       "rate": null,
       "total": 1,
       "unit": "rows",
       "unit_divisor": 1000,
       "unit_scale": false
      },
      "application/vnd.jupyter.widget-view+json": {
       "model_id": "8b5c86a35b62421cae9e54f1b924b7b7",
       "version_major": 2,
       "version_minor": 0
      },
      "text/plain": [
       "Downloading:   0%|          |"
      ]
     },
     "metadata": {},
     "output_type": "display_data"
    },
    {
     "data": {
      "text/html": [
       "<div>\n",
       "<style scoped>\n",
       "    .dataframe tbody tr th:only-of-type {\n",
       "        vertical-align: middle;\n",
       "    }\n",
       "\n",
       "    .dataframe tbody tr th {\n",
       "        vertical-align: top;\n",
       "    }\n",
       "\n",
       "    .dataframe thead th {\n",
       "        text-align: right;\n",
       "    }\n",
       "</style>\n",
       "<table border=\"1\" class=\"dataframe\">\n",
       "  <thead>\n",
       "    <tr style=\"text-align: right;\">\n",
       "      <th></th>\n",
       "      <th>f0_</th>\n",
       "    </tr>\n",
       "  </thead>\n",
       "  <tbody>\n",
       "    <tr>\n",
       "      <th>0</th>\n",
       "      <td>2024-02-20 00:00:00+00:00</td>\n",
       "    </tr>\n",
       "  </tbody>\n",
       "</table>\n",
       "</div>"
      ],
      "text/plain": [
       "                        f0_\n",
       "0 2024-02-20 00:00:00+00:00"
      ]
     },
     "execution_count": 391,
     "metadata": {},
     "output_type": "execute_result"
    }
   ],
   "source": [
    "%%bigquery\n",
    "SELECT TIMESTAMP_ADD(TIMESTAMP_TRUNC(MIN(feature_timestamp), DAY, \"UTC\"), INTERVAL 1 DAY)\n",
    "FROM `statmike-mlops-349915.bqml_model_monitoring.production_features`"
   ]
  },
  {
   "cell_type": "markdown",
   "metadata": {},
   "source": [
    "#### Create Table: `monitoring_daily_skew`\n",
    "\n",
    "Columns: `Model | Time | input | metric | threshold | value | is_anomaly`\n",
    "\n",
    "Initialize the table with results from the first day of model deployment."
   ]
  },
  {
   "cell_type": "code",
   "execution_count": 394,
   "metadata": {
    "tags": []
   },
   "outputs": [
    {
     "data": {
      "application/json": {
       "ascii": false,
       "bar_format": "{l_bar}{bar}|",
       "colour": null,
       "elapsed": 0.00661778450012207,
       "initial": 0,
       "n": 0,
       "ncols": null,
       "nrows": null,
       "postfix": null,
       "prefix": "Query is running",
       "rate": null,
       "total": 1,
       "unit": "query",
       "unit_divisor": 1000,
       "unit_scale": false
      },
      "application/vnd.jupyter.widget-view+json": {
       "model_id": "52d79c4a150f470eaa2d0b0c1d1146ba",
       "version_major": 2,
       "version_minor": 0
      },
      "text/plain": [
       "Query is running:   0%|          |"
      ]
     },
     "metadata": {},
     "output_type": "display_data"
    },
    {
     "data": {
      "text/html": [
       "<div>\n",
       "<style scoped>\n",
       "    .dataframe tbody tr th:only-of-type {\n",
       "        vertical-align: middle;\n",
       "    }\n",
       "\n",
       "    .dataframe tbody tr th {\n",
       "        vertical-align: top;\n",
       "    }\n",
       "\n",
       "    .dataframe thead th {\n",
       "        text-align: right;\n",
       "    }\n",
       "</style>\n",
       "<table border=\"1\" class=\"dataframe\">\n",
       "  <thead>\n",
       "    <tr style=\"text-align: right;\">\n",
       "      <th></th>\n",
       "    </tr>\n",
       "  </thead>\n",
       "  <tbody>\n",
       "  </tbody>\n",
       "</table>\n",
       "</div>"
      ],
      "text/plain": [
       "Empty DataFrame\n",
       "Columns: []\n",
       "Index: []"
      ]
     },
     "execution_count": 394,
     "metadata": {},
     "output_type": "execute_result"
    }
   ],
   "source": [
    "%%bigquery\n",
    "DECLARE FIRST_SERVE_DATE TIMESTAMP;\n",
    "SET FIRST_SERVE_DATE = (\n",
    "    SELECT TIMESTAMP_ADD(TIMESTAMP_TRUNC(MIN(feature_timestamp), DAY, \"UTC\"), INTERVAL 1 DAY)\n",
    "    FROM `statmike-mlops-349915.bqml_model_monitoring.production_features`);\n",
    "\n",
    "CREATE OR REPLACE TABLE `statmike-mlops-349915.bqml_model_monitoring.monitoring_daily_skew` AS\n",
    "    WITH\n",
    "        BASE_TABLE AS (\n",
    "            SELECT *\n",
    "            FROM ML.TRANSFORM(\n",
    "                MODEL `statmike-mlops-349915.bqml_model_monitoring.feature_engineering`,\n",
    "                (\n",
    "                    SELECT * EXCEPT(splits, species)\n",
    "                    FROM `statmike-mlops-349915.bqml_model_monitoring.source_split`\n",
    "                    WHERE splits = 'TRAIN'\n",
    "                )\n",
    "            )   \n",
    "        ),\n",
    "        COMPARE_TABLE AS (\n",
    "            SELECT * EXCEPT(entity_id, feature_timestamp, species)\n",
    "            FROM ML.FEATURES_AT_TIME(\n",
    "                TABLE `statmike-mlops-349915.bqml_model_monitoring.production_features`,\n",
    "                time => FIRST_SERVE_DATE,\n",
    "                num_rows => 1,\n",
    "                ignore_feature_nulls => TRUE\n",
    "            )     \n",
    "        )\n",
    "    SELECT\n",
    "        'statmike-mlops-349915.bqml_model_monitoring.feature_engineering' AS Model,\n",
    "        FIRST_SERVE_DATE AS Time,\n",
    "        *\n",
    "    FROM ML.VALIDATE_DATA_DRIFT(\n",
    "        TABLE BASE_TABLE,\n",
    "        TABLE COMPARE_TABLE\n",
    "    );\n",
    "\n",
    "INSERT `statmike-mlops-349915.bqml_model_monitoring.monitoring_daily_skew`\n",
    "    WITH\n",
    "        BASE_TABLE AS (\n",
    "            SELECT *\n",
    "            FROM ML.TRANSFORM(\n",
    "                MODEL `statmike-mlops-349915.bqml_model_monitoring.feature_engineering`,\n",
    "                (\n",
    "                    SELECT * EXCEPT(splits, species)\n",
    "                    FROM `statmike-mlops-349915.bqml_model_monitoring.source_split`\n",
    "                    WHERE splits = 'TRAIN'\n",
    "                )\n",
    "            )   \n",
    "        ),\n",
    "        COMPARE_TABLE AS (\n",
    "            SELECT * EXCEPT(entity_id, feature_timestamp, species)\n",
    "            FROM ML.FEATURES_AT_TIME(\n",
    "                TABLE `statmike-mlops-349915.bqml_model_monitoring.production_features`,\n",
    "                time => TIMESTAMP_ADD(FIRST_SERVE_DATE, INTERVAL 1 DAY),\n",
    "                num_rows => 1,\n",
    "                ignore_feature_nulls => TRUE\n",
    "            )     \n",
    "        )\n",
    "    SELECT\n",
    "        'statmike-mlops-349915.bqml_model_monitoring.feature_engineering' AS Model,\n",
    "        TIMESTAMP_ADD(FIRST_SERVE_DATE, INTERVAL 1 DAY) AS Time,\n",
    "        *\n",
    "    FROM ML.VALIDATE_DATA_DRIFT(\n",
    "        TABLE BASE_TABLE,\n",
    "        TABLE COMPARE_TABLE\n",
    "    );"
   ]
  },
  {
   "cell_type": "code",
   "execution_count": 395,
   "metadata": {
    "tags": []
   },
   "outputs": [
    {
     "data": {
      "application/json": {
       "ascii": false,
       "bar_format": "{l_bar}{bar}|",
       "colour": null,
       "elapsed": 0.0065517425537109375,
       "initial": 0,
       "n": 0,
       "ncols": null,
       "nrows": null,
       "postfix": null,
       "prefix": "Query is running",
       "rate": null,
       "total": 1,
       "unit": "query",
       "unit_divisor": 1000,
       "unit_scale": false
      },
      "application/vnd.jupyter.widget-view+json": {
       "model_id": "c1fc3b6812be4579bb718c891c8c1d85",
       "version_major": 2,
       "version_minor": 0
      },
      "text/plain": [
       "Query is running:   0%|          |"
      ]
     },
     "metadata": {},
     "output_type": "display_data"
    },
    {
     "data": {
      "application/json": {
       "ascii": false,
       "bar_format": "{l_bar}{bar}|",
       "colour": null,
       "elapsed": 0.008503198623657227,
       "initial": 0,
       "n": 0,
       "ncols": null,
       "nrows": null,
       "postfix": null,
       "prefix": "Downloading",
       "rate": null,
       "total": 12,
       "unit": "rows",
       "unit_divisor": 1000,
       "unit_scale": false
      },
      "application/vnd.jupyter.widget-view+json": {
       "model_id": "7c429739a5cc45e0a6e6288cb79705d2",
       "version_major": 2,
       "version_minor": 0
      },
      "text/plain": [
       "Downloading:   0%|          |"
      ]
     },
     "metadata": {},
     "output_type": "display_data"
    },
    {
     "data": {
      "text/html": [
       "<div>\n",
       "<style scoped>\n",
       "    .dataframe tbody tr th:only-of-type {\n",
       "        vertical-align: middle;\n",
       "    }\n",
       "\n",
       "    .dataframe tbody tr th {\n",
       "        vertical-align: top;\n",
       "    }\n",
       "\n",
       "    .dataframe thead th {\n",
       "        text-align: right;\n",
       "    }\n",
       "</style>\n",
       "<table border=\"1\" class=\"dataframe\">\n",
       "  <thead>\n",
       "    <tr style=\"text-align: right;\">\n",
       "      <th></th>\n",
       "      <th>Model</th>\n",
       "      <th>Time</th>\n",
       "      <th>input</th>\n",
       "      <th>metric</th>\n",
       "      <th>threshold</th>\n",
       "      <th>value</th>\n",
       "      <th>is_anomaly</th>\n",
       "    </tr>\n",
       "  </thead>\n",
       "  <tbody>\n",
       "    <tr>\n",
       "      <th>0</th>\n",
       "      <td>statmike-mlops-349915.bqml_central_monitoring....</td>\n",
       "      <td>2024-02-21 00:00:00+00:00</td>\n",
       "      <td>flipper_length_mm</td>\n",
       "      <td>L_INFTY</td>\n",
       "      <td>0.3</td>\n",
       "      <td>0.031913</td>\n",
       "      <td>False</td>\n",
       "    </tr>\n",
       "    <tr>\n",
       "      <th>1</th>\n",
       "      <td>statmike-mlops-349915.bqml_central_monitoring....</td>\n",
       "      <td>2024-02-21 00:00:00+00:00</td>\n",
       "      <td>island</td>\n",
       "      <td>L_INFTY</td>\n",
       "      <td>0.3</td>\n",
       "      <td>0.371760</td>\n",
       "      <td>True</td>\n",
       "    </tr>\n",
       "    <tr>\n",
       "      <th>2</th>\n",
       "      <td>statmike-mlops-349915.bqml_central_monitoring....</td>\n",
       "      <td>2024-02-21 00:00:00+00:00</td>\n",
       "      <td>culmen_depth_mm</td>\n",
       "      <td>JENSEN_SHANNON_DIVERGENCE</td>\n",
       "      <td>0.3</td>\n",
       "      <td>0.089222</td>\n",
       "      <td>False</td>\n",
       "    </tr>\n",
       "    <tr>\n",
       "      <th>3</th>\n",
       "      <td>statmike-mlops-349915.bqml_central_monitoring....</td>\n",
       "      <td>2024-02-21 00:00:00+00:00</td>\n",
       "      <td>body_mass_g</td>\n",
       "      <td>JENSEN_SHANNON_DIVERGENCE</td>\n",
       "      <td>0.3</td>\n",
       "      <td>0.819610</td>\n",
       "      <td>True</td>\n",
       "    </tr>\n",
       "    <tr>\n",
       "      <th>4</th>\n",
       "      <td>statmike-mlops-349915.bqml_central_monitoring....</td>\n",
       "      <td>2024-02-21 00:00:00+00:00</td>\n",
       "      <td>culmen_length_mm</td>\n",
       "      <td>JENSEN_SHANNON_DIVERGENCE</td>\n",
       "      <td>0.3</td>\n",
       "      <td>0.162937</td>\n",
       "      <td>False</td>\n",
       "    </tr>\n",
       "    <tr>\n",
       "      <th>5</th>\n",
       "      <td>statmike-mlops-349915.bqml_central_monitoring....</td>\n",
       "      <td>2024-02-21 00:00:00+00:00</td>\n",
       "      <td>sex</td>\n",
       "      <td>L_INFTY</td>\n",
       "      <td>0.3</td>\n",
       "      <td>0.376198</td>\n",
       "      <td>True</td>\n",
       "    </tr>\n",
       "    <tr>\n",
       "      <th>6</th>\n",
       "      <td>statmike-mlops-349915.bqml_central_monitoring....</td>\n",
       "      <td>2024-02-20 00:00:00+00:00</td>\n",
       "      <td>culmen_depth_mm</td>\n",
       "      <td>JENSEN_SHANNON_DIVERGENCE</td>\n",
       "      <td>0.3</td>\n",
       "      <td>0.089222</td>\n",
       "      <td>False</td>\n",
       "    </tr>\n",
       "    <tr>\n",
       "      <th>7</th>\n",
       "      <td>statmike-mlops-349915.bqml_central_monitoring....</td>\n",
       "      <td>2024-02-20 00:00:00+00:00</td>\n",
       "      <td>sex</td>\n",
       "      <td>L_INFTY</td>\n",
       "      <td>0.3</td>\n",
       "      <td>0.032252</td>\n",
       "      <td>False</td>\n",
       "    </tr>\n",
       "    <tr>\n",
       "      <th>8</th>\n",
       "      <td>statmike-mlops-349915.bqml_central_monitoring....</td>\n",
       "      <td>2024-02-20 00:00:00+00:00</td>\n",
       "      <td>flipper_length_mm</td>\n",
       "      <td>L_INFTY</td>\n",
       "      <td>0.3</td>\n",
       "      <td>0.060082</td>\n",
       "      <td>False</td>\n",
       "    </tr>\n",
       "    <tr>\n",
       "      <th>9</th>\n",
       "      <td>statmike-mlops-349915.bqml_central_monitoring....</td>\n",
       "      <td>2024-02-20 00:00:00+00:00</td>\n",
       "      <td>culmen_length_mm</td>\n",
       "      <td>JENSEN_SHANNON_DIVERGENCE</td>\n",
       "      <td>0.3</td>\n",
       "      <td>0.162937</td>\n",
       "      <td>False</td>\n",
       "    </tr>\n",
       "    <tr>\n",
       "      <th>10</th>\n",
       "      <td>statmike-mlops-349915.bqml_central_monitoring....</td>\n",
       "      <td>2024-02-20 00:00:00+00:00</td>\n",
       "      <td>body_mass_g</td>\n",
       "      <td>JENSEN_SHANNON_DIVERGENCE</td>\n",
       "      <td>0.3</td>\n",
       "      <td>0.821480</td>\n",
       "      <td>True</td>\n",
       "    </tr>\n",
       "    <tr>\n",
       "      <th>11</th>\n",
       "      <td>statmike-mlops-349915.bqml_central_monitoring....</td>\n",
       "      <td>2024-02-20 00:00:00+00:00</td>\n",
       "      <td>island</td>\n",
       "      <td>L_INFTY</td>\n",
       "      <td>0.3</td>\n",
       "      <td>0.008522</td>\n",
       "      <td>False</td>\n",
       "    </tr>\n",
       "  </tbody>\n",
       "</table>\n",
       "</div>"
      ],
      "text/plain": [
       "                                                Model  \\\n",
       "0   statmike-mlops-349915.bqml_central_monitoring....   \n",
       "1   statmike-mlops-349915.bqml_central_monitoring....   \n",
       "2   statmike-mlops-349915.bqml_central_monitoring....   \n",
       "3   statmike-mlops-349915.bqml_central_monitoring....   \n",
       "4   statmike-mlops-349915.bqml_central_monitoring....   \n",
       "5   statmike-mlops-349915.bqml_central_monitoring....   \n",
       "6   statmike-mlops-349915.bqml_central_monitoring....   \n",
       "7   statmike-mlops-349915.bqml_central_monitoring....   \n",
       "8   statmike-mlops-349915.bqml_central_monitoring....   \n",
       "9   statmike-mlops-349915.bqml_central_monitoring....   \n",
       "10  statmike-mlops-349915.bqml_central_monitoring....   \n",
       "11  statmike-mlops-349915.bqml_central_monitoring....   \n",
       "\n",
       "                        Time              input                     metric  \\\n",
       "0  2024-02-21 00:00:00+00:00  flipper_length_mm                    L_INFTY   \n",
       "1  2024-02-21 00:00:00+00:00             island                    L_INFTY   \n",
       "2  2024-02-21 00:00:00+00:00    culmen_depth_mm  JENSEN_SHANNON_DIVERGENCE   \n",
       "3  2024-02-21 00:00:00+00:00        body_mass_g  JENSEN_SHANNON_DIVERGENCE   \n",
       "4  2024-02-21 00:00:00+00:00   culmen_length_mm  JENSEN_SHANNON_DIVERGENCE   \n",
       "5  2024-02-21 00:00:00+00:00                sex                    L_INFTY   \n",
       "6  2024-02-20 00:00:00+00:00    culmen_depth_mm  JENSEN_SHANNON_DIVERGENCE   \n",
       "7  2024-02-20 00:00:00+00:00                sex                    L_INFTY   \n",
       "8  2024-02-20 00:00:00+00:00  flipper_length_mm                    L_INFTY   \n",
       "9  2024-02-20 00:00:00+00:00   culmen_length_mm  JENSEN_SHANNON_DIVERGENCE   \n",
       "10 2024-02-20 00:00:00+00:00        body_mass_g  JENSEN_SHANNON_DIVERGENCE   \n",
       "11 2024-02-20 00:00:00+00:00             island                    L_INFTY   \n",
       "\n",
       "    threshold     value  is_anomaly  \n",
       "0         0.3  0.031913       False  \n",
       "1         0.3  0.371760        True  \n",
       "2         0.3  0.089222       False  \n",
       "3         0.3  0.819610        True  \n",
       "4         0.3  0.162937       False  \n",
       "5         0.3  0.376198        True  \n",
       "6         0.3  0.089222       False  \n",
       "7         0.3  0.032252       False  \n",
       "8         0.3  0.060082       False  \n",
       "9         0.3  0.162937       False  \n",
       "10        0.3  0.821480        True  \n",
       "11        0.3  0.008522       False  "
      ]
     },
     "execution_count": 395,
     "metadata": {},
     "output_type": "execute_result"
    }
   ],
   "source": [
    "%%bigquery\n",
    "SELECT *\n",
    "FROM `statmike-mlops-349915.bqml_model_monitoring.monitoring_daily_skew`"
   ]
  },
  {
   "cell_type": "markdown",
   "metadata": {},
   "source": [
    "#### Create Table: `monitoring_daily_drift`\n",
    "\n",
    "Columns: `Model | Compare_Time | Time | input | metric | threshold | value | is_anomaly`\n",
    "\n",
    "Initialize the table with results from the drift from the second day of model deployment."
   ]
  },
  {
   "cell_type": "code",
   "execution_count": 396,
   "metadata": {
    "tags": []
   },
   "outputs": [
    {
     "data": {
      "application/json": {
       "ascii": false,
       "bar_format": "{l_bar}{bar}|",
       "colour": null,
       "elapsed": 0.006166934967041016,
       "initial": 0,
       "n": 0,
       "ncols": null,
       "nrows": null,
       "postfix": null,
       "prefix": "Query is running",
       "rate": null,
       "total": 1,
       "unit": "query",
       "unit_divisor": 1000,
       "unit_scale": false
      },
      "application/vnd.jupyter.widget-view+json": {
       "model_id": "47836fddee124a5a8b6c436727128a03",
       "version_major": 2,
       "version_minor": 0
      },
      "text/plain": [
       "Query is running:   0%|          |"
      ]
     },
     "metadata": {},
     "output_type": "display_data"
    },
    {
     "data": {
      "text/html": [
       "<div>\n",
       "<style scoped>\n",
       "    .dataframe tbody tr th:only-of-type {\n",
       "        vertical-align: middle;\n",
       "    }\n",
       "\n",
       "    .dataframe tbody tr th {\n",
       "        vertical-align: top;\n",
       "    }\n",
       "\n",
       "    .dataframe thead th {\n",
       "        text-align: right;\n",
       "    }\n",
       "</style>\n",
       "<table border=\"1\" class=\"dataframe\">\n",
       "  <thead>\n",
       "    <tr style=\"text-align: right;\">\n",
       "      <th></th>\n",
       "    </tr>\n",
       "  </thead>\n",
       "  <tbody>\n",
       "  </tbody>\n",
       "</table>\n",
       "</div>"
      ],
      "text/plain": [
       "Empty DataFrame\n",
       "Columns: []\n",
       "Index: []"
      ]
     },
     "execution_count": 396,
     "metadata": {},
     "output_type": "execute_result"
    }
   ],
   "source": [
    "%%bigquery\n",
    "DECLARE FIRST_SERVE_DATE TIMESTAMP;\n",
    "SET FIRST_SERVE_DATE = (\n",
    "    SELECT TIMESTAMP_ADD(TIMESTAMP_TRUNC(MIN(feature_timestamp), DAY, \"UTC\"), INTERVAL 1 DAY)\n",
    "    FROM `statmike-mlops-349915.bqml_model_monitoring.production_features`);\n",
    "\n",
    "CREATE OR REPLACE TABLE `statmike-mlops-349915.bqml_model_monitoring.monitoring_daily_drift` AS\n",
    "    WITH\n",
    "        BASE_TABLE AS (\n",
    "            SELECT * EXCEPT(entity_id, feature_timestamp, species)\n",
    "            FROM ML.FEATURES_AT_TIME(\n",
    "                TABLE `statmike-mlops-349915.bqml_model_monitoring.production_features`,\n",
    "                time => FIRST_SERVE_DATE,\n",
    "                num_rows => 1,\n",
    "                ignore_feature_nulls => TRUE\n",
    "            )   \n",
    "        ),\n",
    "        COMPARE_TABLE AS (\n",
    "            SELECT * EXCEPT(entity_id, feature_timestamp, species)\n",
    "            FROM ML.FEATURES_AT_TIME(\n",
    "                TABLE `statmike-mlops-349915.bqml_model_monitoring.production_features`,\n",
    "                time => TIMESTAMP_ADD(FIRST_SERVE_DATE, INTERVAL 1 DAY),\n",
    "                num_rows => 1,\n",
    "                ignore_feature_nulls => TRUE\n",
    "            )     \n",
    "        )\n",
    "    SELECT\n",
    "        'statmike-mlops-349915.bqml_model_monitoring.feature_engineering' AS Model,\n",
    "        FIRST_SERVE_DATE AS Compare_Time,\n",
    "        TIMESTAMP_ADD(FIRST_SERVE_DATE, INTERVAL 1 DAY) AS Time,\n",
    "        *\n",
    "    FROM ML.VALIDATE_DATA_DRIFT(\n",
    "        TABLE BASE_TABLE,\n",
    "        TABLE COMPARE_TABLE,\n",
    "        STRUCT(\n",
    "            0.03 AS categorical_default_threshold,\n",
    "            0.03 AS numerical_default_threshold\n",
    "        )\n",
    "    );"
   ]
  },
  {
   "cell_type": "code",
   "execution_count": 397,
   "metadata": {
    "tags": []
   },
   "outputs": [
    {
     "data": {
      "application/json": {
       "ascii": false,
       "bar_format": "{l_bar}{bar}|",
       "colour": null,
       "elapsed": 0.00619196891784668,
       "initial": 0,
       "n": 0,
       "ncols": null,
       "nrows": null,
       "postfix": null,
       "prefix": "Query is running",
       "rate": null,
       "total": 1,
       "unit": "query",
       "unit_divisor": 1000,
       "unit_scale": false
      },
      "application/vnd.jupyter.widget-view+json": {
       "model_id": "6d6a8407b5c047e2a2b1ac94e5f2a666",
       "version_major": 2,
       "version_minor": 0
      },
      "text/plain": [
       "Query is running:   0%|          |"
      ]
     },
     "metadata": {},
     "output_type": "display_data"
    },
    {
     "data": {
      "application/json": {
       "ascii": false,
       "bar_format": "{l_bar}{bar}|",
       "colour": null,
       "elapsed": 0.005403041839599609,
       "initial": 0,
       "n": 0,
       "ncols": null,
       "nrows": null,
       "postfix": null,
       "prefix": "Downloading",
       "rate": null,
       "total": 6,
       "unit": "rows",
       "unit_divisor": 1000,
       "unit_scale": false
      },
      "application/vnd.jupyter.widget-view+json": {
       "model_id": "66854b7b8000426b8d707f43a0131c3d",
       "version_major": 2,
       "version_minor": 0
      },
      "text/plain": [
       "Downloading:   0%|          |"
      ]
     },
     "metadata": {},
     "output_type": "display_data"
    },
    {
     "data": {
      "text/html": [
       "<div>\n",
       "<style scoped>\n",
       "    .dataframe tbody tr th:only-of-type {\n",
       "        vertical-align: middle;\n",
       "    }\n",
       "\n",
       "    .dataframe tbody tr th {\n",
       "        vertical-align: top;\n",
       "    }\n",
       "\n",
       "    .dataframe thead th {\n",
       "        text-align: right;\n",
       "    }\n",
       "</style>\n",
       "<table border=\"1\" class=\"dataframe\">\n",
       "  <thead>\n",
       "    <tr style=\"text-align: right;\">\n",
       "      <th></th>\n",
       "      <th>Model</th>\n",
       "      <th>Compare_Time</th>\n",
       "      <th>Time</th>\n",
       "      <th>input</th>\n",
       "      <th>metric</th>\n",
       "      <th>threshold</th>\n",
       "      <th>value</th>\n",
       "      <th>is_anomaly</th>\n",
       "    </tr>\n",
       "  </thead>\n",
       "  <tbody>\n",
       "    <tr>\n",
       "      <th>0</th>\n",
       "      <td>statmike-mlops-349915.bqml_central_monitoring....</td>\n",
       "      <td>2024-02-20 00:00:00+00:00</td>\n",
       "      <td>2024-02-21 00:00:00+00:00</td>\n",
       "      <td>island</td>\n",
       "      <td>L_INFTY</td>\n",
       "      <td>0.03</td>\n",
       "      <td>0.380282</td>\n",
       "      <td>True</td>\n",
       "    </tr>\n",
       "    <tr>\n",
       "      <th>1</th>\n",
       "      <td>statmike-mlops-349915.bqml_central_monitoring....</td>\n",
       "      <td>2024-02-20 00:00:00+00:00</td>\n",
       "      <td>2024-02-21 00:00:00+00:00</td>\n",
       "      <td>body_mass_g</td>\n",
       "      <td>JENSEN_SHANNON_DIVERGENCE</td>\n",
       "      <td>0.03</td>\n",
       "      <td>0.006038</td>\n",
       "      <td>False</td>\n",
       "    </tr>\n",
       "    <tr>\n",
       "      <th>2</th>\n",
       "      <td>statmike-mlops-349915.bqml_central_monitoring....</td>\n",
       "      <td>2024-02-20 00:00:00+00:00</td>\n",
       "      <td>2024-02-21 00:00:00+00:00</td>\n",
       "      <td>culmen_depth_mm</td>\n",
       "      <td>JENSEN_SHANNON_DIVERGENCE</td>\n",
       "      <td>0.03</td>\n",
       "      <td>0.000000</td>\n",
       "      <td>False</td>\n",
       "    </tr>\n",
       "    <tr>\n",
       "      <th>3</th>\n",
       "      <td>statmike-mlops-349915.bqml_central_monitoring....</td>\n",
       "      <td>2024-02-20 00:00:00+00:00</td>\n",
       "      <td>2024-02-21 00:00:00+00:00</td>\n",
       "      <td>culmen_length_mm</td>\n",
       "      <td>JENSEN_SHANNON_DIVERGENCE</td>\n",
       "      <td>0.03</td>\n",
       "      <td>0.000000</td>\n",
       "      <td>False</td>\n",
       "    </tr>\n",
       "    <tr>\n",
       "      <th>4</th>\n",
       "      <td>statmike-mlops-349915.bqml_central_monitoring....</td>\n",
       "      <td>2024-02-20 00:00:00+00:00</td>\n",
       "      <td>2024-02-21 00:00:00+00:00</td>\n",
       "      <td>sex</td>\n",
       "      <td>L_INFTY</td>\n",
       "      <td>0.03</td>\n",
       "      <td>0.408451</td>\n",
       "      <td>True</td>\n",
       "    </tr>\n",
       "    <tr>\n",
       "      <th>5</th>\n",
       "      <td>statmike-mlops-349915.bqml_central_monitoring....</td>\n",
       "      <td>2024-02-20 00:00:00+00:00</td>\n",
       "      <td>2024-02-21 00:00:00+00:00</td>\n",
       "      <td>flipper_length_mm</td>\n",
       "      <td>L_INFTY</td>\n",
       "      <td>0.03</td>\n",
       "      <td>0.028169</td>\n",
       "      <td>False</td>\n",
       "    </tr>\n",
       "  </tbody>\n",
       "</table>\n",
       "</div>"
      ],
      "text/plain": [
       "                                               Model  \\\n",
       "0  statmike-mlops-349915.bqml_central_monitoring....   \n",
       "1  statmike-mlops-349915.bqml_central_monitoring....   \n",
       "2  statmike-mlops-349915.bqml_central_monitoring....   \n",
       "3  statmike-mlops-349915.bqml_central_monitoring....   \n",
       "4  statmike-mlops-349915.bqml_central_monitoring....   \n",
       "5  statmike-mlops-349915.bqml_central_monitoring....   \n",
       "\n",
       "               Compare_Time                      Time              input  \\\n",
       "0 2024-02-20 00:00:00+00:00 2024-02-21 00:00:00+00:00             island   \n",
       "1 2024-02-20 00:00:00+00:00 2024-02-21 00:00:00+00:00        body_mass_g   \n",
       "2 2024-02-20 00:00:00+00:00 2024-02-21 00:00:00+00:00    culmen_depth_mm   \n",
       "3 2024-02-20 00:00:00+00:00 2024-02-21 00:00:00+00:00   culmen_length_mm   \n",
       "4 2024-02-20 00:00:00+00:00 2024-02-21 00:00:00+00:00                sex   \n",
       "5 2024-02-20 00:00:00+00:00 2024-02-21 00:00:00+00:00  flipper_length_mm   \n",
       "\n",
       "                      metric  threshold     value  is_anomaly  \n",
       "0                    L_INFTY       0.03  0.380282        True  \n",
       "1  JENSEN_SHANNON_DIVERGENCE       0.03  0.006038       False  \n",
       "2  JENSEN_SHANNON_DIVERGENCE       0.03  0.000000       False  \n",
       "3  JENSEN_SHANNON_DIVERGENCE       0.03  0.000000       False  \n",
       "4                    L_INFTY       0.03  0.408451        True  \n",
       "5                    L_INFTY       0.03  0.028169       False  "
      ]
     },
     "execution_count": 397,
     "metadata": {},
     "output_type": "execute_result"
    }
   ],
   "source": [
    "%%bigquery\n",
    "SELECT *\n",
    "FROM `statmike-mlops-349915.bqml_model_monitoring.monitoring_daily_drift`"
   ]
  },
  {
   "cell_type": "markdown",
   "metadata": {},
   "source": [
    "#### Create Table: `monitoring_daily_tfdv_describe`\n",
    "\n",
    "Columns: `Model | Time | tfdv_describe`\n",
    "\n",
    "Initialize the table with results from the first two days of model deployment."
   ]
  },
  {
   "cell_type": "code",
   "execution_count": 399,
   "metadata": {
    "tags": []
   },
   "outputs": [
    {
     "data": {
      "application/json": {
       "ascii": false,
       "bar_format": "{l_bar}{bar}|",
       "colour": null,
       "elapsed": 0.005671262741088867,
       "initial": 0,
       "n": 0,
       "ncols": null,
       "nrows": null,
       "postfix": null,
       "prefix": "Query is running",
       "rate": null,
       "total": 1,
       "unit": "query",
       "unit_divisor": 1000,
       "unit_scale": false
      },
      "application/vnd.jupyter.widget-view+json": {
       "model_id": "222b3cc329e94a56909994806833a600",
       "version_major": 2,
       "version_minor": 0
      },
      "text/plain": [
       "Query is running:   0%|          |"
      ]
     },
     "metadata": {},
     "output_type": "display_data"
    },
    {
     "data": {
      "text/html": [
       "<div>\n",
       "<style scoped>\n",
       "    .dataframe tbody tr th:only-of-type {\n",
       "        vertical-align: middle;\n",
       "    }\n",
       "\n",
       "    .dataframe tbody tr th {\n",
       "        vertical-align: top;\n",
       "    }\n",
       "\n",
       "    .dataframe thead th {\n",
       "        text-align: right;\n",
       "    }\n",
       "</style>\n",
       "<table border=\"1\" class=\"dataframe\">\n",
       "  <thead>\n",
       "    <tr style=\"text-align: right;\">\n",
       "      <th></th>\n",
       "    </tr>\n",
       "  </thead>\n",
       "  <tbody>\n",
       "  </tbody>\n",
       "</table>\n",
       "</div>"
      ],
      "text/plain": [
       "Empty DataFrame\n",
       "Columns: []\n",
       "Index: []"
      ]
     },
     "execution_count": 399,
     "metadata": {},
     "output_type": "execute_result"
    }
   ],
   "source": [
    "%%bigquery\n",
    "DECLARE FIRST_SERVE_DATE TIMESTAMP;\n",
    "SET FIRST_SERVE_DATE = (\n",
    "    SELECT TIMESTAMP_ADD(TIMESTAMP_TRUNC(MIN(feature_timestamp), DAY, \"UTC\"), INTERVAL 1 DAY)\n",
    "    FROM `statmike-mlops-349915.bqml_model_monitoring.production_features`);\n",
    "\n",
    "CREATE OR REPLACE TABLE `statmike-mlops-349915.bqml_model_monitoring.monitoring_daily_tfdv_describe` AS\n",
    "    SELECT\n",
    "        'statmike-mlops-349915.bqml_model_monitoring.feature_engineering' AS Model,\n",
    "        FIRST_SERVE_DATE AS Time,\n",
    "        dataset_feature_statistics_list AS tfdv_describe\n",
    "    FROM ML.TFDV_DESCRIBE(\n",
    "        (\n",
    "            SELECT * EXCEPT(entity_id, feature_timestamp, species)\n",
    "            FROM ML.FEATURES_AT_TIME(\n",
    "                TABLE `statmike-mlops-349915.bqml_model_monitoring.production_features`,\n",
    "                time => FIRST_SERVE_DATE,\n",
    "                num_rows => 1,\n",
    "                ignore_feature_nulls => TRUE\n",
    "            ) \n",
    "        )\n",
    "    );\n",
    "    \n",
    "INSERT `statmike-mlops-349915.bqml_model_monitoring.monitoring_daily_tfdv_describe`\n",
    "    SELECT\n",
    "        'statmike-mlops-349915.bqml_model_monitoring.feature_engineering' AS Model,\n",
    "        TIMESTAMP_ADD(FIRST_SERVE_DATE, INTERVAL 1 DAY) AS Time,\n",
    "        dataset_feature_statistics_list AS tfdv_describe\n",
    "    FROM ML.TFDV_DESCRIBE(\n",
    "        (\n",
    "            SELECT * EXCEPT(entity_id, feature_timestamp, species)\n",
    "            FROM ML.FEATURES_AT_TIME(\n",
    "                TABLE `statmike-mlops-349915.bqml_model_monitoring.production_features`,\n",
    "                time => TIMESTAMP_ADD(FIRST_SERVE_DATE, INTERVAL 1 DAY),\n",
    "                num_rows => 1,\n",
    "                ignore_feature_nulls => TRUE\n",
    "            ) \n",
    "        )\n",
    "    );"
   ]
  },
  {
   "cell_type": "code",
   "execution_count": 400,
   "metadata": {
    "tags": []
   },
   "outputs": [
    {
     "data": {
      "application/json": {
       "ascii": false,
       "bar_format": "{l_bar}{bar}|",
       "colour": null,
       "elapsed": 0.007240772247314453,
       "initial": 0,
       "n": 0,
       "ncols": null,
       "nrows": null,
       "postfix": null,
       "prefix": "Query is running",
       "rate": null,
       "total": 1,
       "unit": "query",
       "unit_divisor": 1000,
       "unit_scale": false
      },
      "application/vnd.jupyter.widget-view+json": {
       "model_id": "5f3dca139b59481c96258ee657dbf9be",
       "version_major": 2,
       "version_minor": 0
      },
      "text/plain": [
       "Query is running:   0%|          |"
      ]
     },
     "metadata": {},
     "output_type": "display_data"
    },
    {
     "data": {
      "application/json": {
       "ascii": false,
       "bar_format": "{l_bar}{bar}|",
       "colour": null,
       "elapsed": 0.005615711212158203,
       "initial": 0,
       "n": 0,
       "ncols": null,
       "nrows": null,
       "postfix": null,
       "prefix": "Downloading",
       "rate": null,
       "total": 2,
       "unit": "rows",
       "unit_divisor": 1000,
       "unit_scale": false
      },
      "application/vnd.jupyter.widget-view+json": {
       "model_id": "b78ddfa66c44480ea9661cd2eb564b45",
       "version_major": 2,
       "version_minor": 0
      },
      "text/plain": [
       "Downloading:   0%|          |"
      ]
     },
     "metadata": {},
     "output_type": "display_data"
    },
    {
     "data": {
      "text/html": [
       "<div>\n",
       "<style scoped>\n",
       "    .dataframe tbody tr th:only-of-type {\n",
       "        vertical-align: middle;\n",
       "    }\n",
       "\n",
       "    .dataframe tbody tr th {\n",
       "        vertical-align: top;\n",
       "    }\n",
       "\n",
       "    .dataframe thead th {\n",
       "        text-align: right;\n",
       "    }\n",
       "</style>\n",
       "<table border=\"1\" class=\"dataframe\">\n",
       "  <thead>\n",
       "    <tr style=\"text-align: right;\">\n",
       "      <th></th>\n",
       "      <th>Model</th>\n",
       "      <th>Time</th>\n",
       "      <th>tfdv_describe</th>\n",
       "    </tr>\n",
       "  </thead>\n",
       "  <tbody>\n",
       "    <tr>\n",
       "      <th>0</th>\n",
       "      <td>statmike-mlops-349915.bqml_central_monitoring....</td>\n",
       "      <td>2024-02-20 00:00:00+00:00</td>\n",
       "      <td>{\"datasets\":[{\"features\":[{\"name\":\"body_mass_g...</td>\n",
       "    </tr>\n",
       "    <tr>\n",
       "      <th>1</th>\n",
       "      <td>statmike-mlops-349915.bqml_central_monitoring....</td>\n",
       "      <td>2024-02-21 00:00:00+00:00</td>\n",
       "      <td>{\"datasets\":[{\"features\":[{\"name\":\"body_mass_g...</td>\n",
       "    </tr>\n",
       "  </tbody>\n",
       "</table>\n",
       "</div>"
      ],
      "text/plain": [
       "                                               Model  \\\n",
       "0  statmike-mlops-349915.bqml_central_monitoring....   \n",
       "1  statmike-mlops-349915.bqml_central_monitoring....   \n",
       "\n",
       "                       Time                                      tfdv_describe  \n",
       "0 2024-02-20 00:00:00+00:00  {\"datasets\":[{\"features\":[{\"name\":\"body_mass_g...  \n",
       "1 2024-02-21 00:00:00+00:00  {\"datasets\":[{\"features\":[{\"name\":\"body_mass_g...  "
      ]
     },
     "execution_count": 400,
     "metadata": {},
     "output_type": "execute_result"
    }
   ],
   "source": [
    "%%bigquery\n",
    "SELECT *\n",
    "FROM `statmike-mlops-349915.bqml_model_monitoring.monitoring_daily_tfdv_describe`"
   ]
  },
  {
   "cell_type": "markdown",
   "metadata": {},
   "source": [
    "#### Create Table: `model_train_tfdv_describe`\n",
    "\n",
    "Columns: `Model | tfdv_describe`\n",
    "\n",
    "Add training dataset statistics to an overall table:"
   ]
  },
  {
   "cell_type": "code",
   "execution_count": 402,
   "metadata": {
    "tags": []
   },
   "outputs": [
    {
     "data": {
      "application/json": {
       "ascii": false,
       "bar_format": "{l_bar}{bar}|",
       "colour": null,
       "elapsed": 0.005766391754150391,
       "initial": 0,
       "n": 0,
       "ncols": null,
       "nrows": null,
       "postfix": null,
       "prefix": "Query is running",
       "rate": null,
       "total": 1,
       "unit": "query",
       "unit_divisor": 1000,
       "unit_scale": false
      },
      "application/vnd.jupyter.widget-view+json": {
       "model_id": "e89771eb060041fc878c8466e494c59a",
       "version_major": 2,
       "version_minor": 0
      },
      "text/plain": [
       "Query is running:   0%|          |"
      ]
     },
     "metadata": {},
     "output_type": "display_data"
    },
    {
     "data": {
      "text/html": [
       "<div>\n",
       "<style scoped>\n",
       "    .dataframe tbody tr th:only-of-type {\n",
       "        vertical-align: middle;\n",
       "    }\n",
       "\n",
       "    .dataframe tbody tr th {\n",
       "        vertical-align: top;\n",
       "    }\n",
       "\n",
       "    .dataframe thead th {\n",
       "        text-align: right;\n",
       "    }\n",
       "</style>\n",
       "<table border=\"1\" class=\"dataframe\">\n",
       "  <thead>\n",
       "    <tr style=\"text-align: right;\">\n",
       "      <th></th>\n",
       "    </tr>\n",
       "  </thead>\n",
       "  <tbody>\n",
       "  </tbody>\n",
       "</table>\n",
       "</div>"
      ],
      "text/plain": [
       "Empty DataFrame\n",
       "Columns: []\n",
       "Index: []"
      ]
     },
     "execution_count": 402,
     "metadata": {},
     "output_type": "execute_result"
    }
   ],
   "source": [
    "%%bigquery\n",
    "CREATE OR REPLACE TABLE `statmike-mlops-349915.bqml_model_monitoring.model_train_tfdv_describe` AS\n",
    "    SELECT\n",
    "        'statmike-mlops-349915.bqml_model_monitoring.feature_engineering' AS Model,\n",
    "        dataset_feature_statistics_list AS tfdv_describe\n",
    "    FROM ML.TFDV_DESCRIBE(\n",
    "        (\n",
    "            SELECT *\n",
    "            FROM ML.TRANSFORM(\n",
    "                MODEL `statmike-mlops-349915.bqml_model_monitoring.feature_engineering`,\n",
    "                (\n",
    "                    SELECT * EXCEPT(splits, species)\n",
    "                    FROM `statmike-mlops-349915.bqml_model_monitoring.source_split`\n",
    "                    WHERE splits = 'TRAIN'\n",
    "                )\n",
    "            )\n",
    "        )\n",
    "    );"
   ]
  },
  {
   "cell_type": "code",
   "execution_count": 403,
   "metadata": {
    "tags": []
   },
   "outputs": [
    {
     "data": {
      "application/json": {
       "ascii": false,
       "bar_format": "{l_bar}{bar}|",
       "colour": null,
       "elapsed": 0.0054743289947509766,
       "initial": 0,
       "n": 0,
       "ncols": null,
       "nrows": null,
       "postfix": null,
       "prefix": "Query is running",
       "rate": null,
       "total": 1,
       "unit": "query",
       "unit_divisor": 1000,
       "unit_scale": false
      },
      "application/vnd.jupyter.widget-view+json": {
       "model_id": "967d619faf4c49218bae59d5edc380ba",
       "version_major": 2,
       "version_minor": 0
      },
      "text/plain": [
       "Query is running:   0%|          |"
      ]
     },
     "metadata": {},
     "output_type": "display_data"
    },
    {
     "data": {
      "application/json": {
       "ascii": false,
       "bar_format": "{l_bar}{bar}|",
       "colour": null,
       "elapsed": 0.0053446292877197266,
       "initial": 0,
       "n": 0,
       "ncols": null,
       "nrows": null,
       "postfix": null,
       "prefix": "Downloading",
       "rate": null,
       "total": 1,
       "unit": "rows",
       "unit_divisor": 1000,
       "unit_scale": false
      },
      "application/vnd.jupyter.widget-view+json": {
       "model_id": "a7ad31f495bf441683627af8065bcb83",
       "version_major": 2,
       "version_minor": 0
      },
      "text/plain": [
       "Downloading:   0%|          |"
      ]
     },
     "metadata": {},
     "output_type": "display_data"
    },
    {
     "data": {
      "text/html": [
       "<div>\n",
       "<style scoped>\n",
       "    .dataframe tbody tr th:only-of-type {\n",
       "        vertical-align: middle;\n",
       "    }\n",
       "\n",
       "    .dataframe tbody tr th {\n",
       "        vertical-align: top;\n",
       "    }\n",
       "\n",
       "    .dataframe thead th {\n",
       "        text-align: right;\n",
       "    }\n",
       "</style>\n",
       "<table border=\"1\" class=\"dataframe\">\n",
       "  <thead>\n",
       "    <tr style=\"text-align: right;\">\n",
       "      <th></th>\n",
       "      <th>Model</th>\n",
       "      <th>tfdv_describe</th>\n",
       "    </tr>\n",
       "  </thead>\n",
       "  <tbody>\n",
       "    <tr>\n",
       "      <th>0</th>\n",
       "      <td>statmike-mlops-349915.bqml_central_monitoring....</td>\n",
       "      <td>{\"datasets\":[{\"features\":[{\"name\":\"body_mass_g...</td>\n",
       "    </tr>\n",
       "  </tbody>\n",
       "</table>\n",
       "</div>"
      ],
      "text/plain": [
       "                                               Model  \\\n",
       "0  statmike-mlops-349915.bqml_central_monitoring....   \n",
       "\n",
       "                                       tfdv_describe  \n",
       "0  {\"datasets\":[{\"features\":[{\"name\":\"body_mass_g...  "
      ]
     },
     "execution_count": 403,
     "metadata": {},
     "output_type": "execute_result"
    }
   ],
   "source": [
    "%%bigquery\n",
    "SELECT *\n",
    "FROM `statmike-mlops-349915.bqml_model_monitoring.model_train_tfdv_describe`"
   ]
  },
  {
   "cell_type": "markdown",
   "metadata": {},
   "source": [
    "### Anomaly Alerting\n",
    "\n",
    "When scheduling the daily monitoring below, alerting for anomalies will be triggered by checking for anomaly values and if present throw an error using the [`ERROR` debugging function](https://cloud.google.com/bigquery/docs/reference/standard-sql/debugging_functions#error).\n",
    "\n",
    "Test this here:"
   ]
  },
  {
   "cell_type": "code",
   "execution_count": 406,
   "metadata": {
    "tags": []
   },
   "outputs": [
    {
     "name": "stdout",
     "output_type": "stream",
     "text": [
      "Executing query with job ID: 19b3637c-5677-450d-82ac-a0107f073401\n",
      "Query executing: 0.55s"
     ]
    },
    {
     "name": "stderr",
     "output_type": "stream",
     "text": [
      "\n",
      "ERROR:\n",
      " 400 Found a model monitoring skew anomaly for feature = island on 2024-02-21 00:00:00+00 for model = statmike-mlops-349915.bqml_central_monitoring.feature_engineering\n",
      "\n",
      "Location: US\n",
      "Job ID: 19b3637c-5677-450d-82ac-a0107f073401\n",
      "\n"
     ]
    }
   ],
   "source": [
    "%%bigquery\n",
    "SELECT\n",
    "    CASE\n",
    "        WHEN is_anomaly = True THEN ERROR(CONCAT('Found a model monitoring skew anomaly for feature = ', input, ' on ', time, ' for model = ', model))\n",
    "    END AS anomaly_catcher\n",
    "FROM `statmike-mlops-349915.bqml_model_monitoring.monitoring_daily_skew`"
   ]
  },
  {
   "cell_type": "code",
   "execution_count": 407,
   "metadata": {
    "tags": []
   },
   "outputs": [
    {
     "name": "stdout",
     "output_type": "stream",
     "text": [
      "Executing query with job ID: ba261466-0a49-4738-8e9d-3ec7dc23b223\n",
      "Query executing: 0.56s"
     ]
    },
    {
     "name": "stderr",
     "output_type": "stream",
     "text": [
      "\n",
      "ERROR:\n",
      " 400 Found a model monitoring drift anomaly for feature = island on 2024-02-21 00:00:00+00 for model = statmike-mlops-349915.bqml_central_monitoring.feature_engineering\n",
      "\n",
      "Location: US\n",
      "Job ID: ba261466-0a49-4738-8e9d-3ec7dc23b223\n",
      "\n"
     ]
    }
   ],
   "source": [
    "%%bigquery\n",
    "SELECT\n",
    "    CASE\n",
    "        WHEN is_anomaly = True THEN ERROR(CONCAT('Found a model monitoring drift anomaly for feature = ', input, ' on ', time, ' for model = ', model))\n",
    "    END AS anomaly_catcher\n",
    "FROM `statmike-mlops-349915.bqml_model_monitoring.monitoring_daily_drift`"
   ]
  },
  {
   "cell_type": "markdown",
   "metadata": {},
   "source": [
    "### Scheduled Query: Daily Monitoring\n",
    "\n",
    "Setup a scheduled query to:\n",
    "- run a skew monitoring query and insert results into `monitoring_daily_skew`\n",
    "- run a drift monitoring query and insert results into `monitoring_daily_drift`\n",
    "- run a `TFDV_DESCRIBE` query and insert result into `monitoring_daily_tfdv_describe`\n",
    "- run a detection query to look for drift and/or skew anomalies for today and use the [`ERROR` debugging function](https://cloud.google.com/bigquery/docs/reference/standard-sql/debugging_functions#error) to alert when `is_anomaly = True`.\n",
    "- setup notificaiton emails for when errors are detected\n"
   ]
  },
  {
   "cell_type": "code",
   "execution_count": 426,
   "metadata": {
    "tags": []
   },
   "outputs": [
    {
     "name": "stdout",
     "output_type": "stream",
     "text": [
      "Overwriting bq_monitoring.sql\n"
     ]
    }
   ],
   "source": [
    "%%writefile bq_monitoring.sql\n",
    "\n",
    "# monitor skew\n",
    "MERGE `statmike-mlops-349915.bqml_model_monitoring.monitoring_daily_skew` T\n",
    "USING (\n",
    "    WITH\n",
    "        BASE_TABLE AS (\n",
    "            SELECT *\n",
    "            FROM ML.TRANSFORM(\n",
    "                MODEL `statmike-mlops-349915.bqml_model_monitoring.feature_engineering`,\n",
    "                (\n",
    "                    SELECT * EXCEPT(splits, species)\n",
    "                    FROM `statmike-mlops-349915.bqml_model_monitoring.source_split`\n",
    "                    WHERE splits = 'TRAIN'\n",
    "                )\n",
    "            )   \n",
    "        ),\n",
    "        COMPARE_TABLE AS (\n",
    "            SELECT * EXCEPT(entity_id, feature_timestamp, species)\n",
    "            FROM ML.FEATURES_AT_TIME(\n",
    "                TABLE `statmike-mlops-349915.bqml_model_monitoring.production_features`,\n",
    "                time => TIMESTAMP_TRUNC(@run_time, DAY, \"UTC\"),\n",
    "                num_rows => 1,\n",
    "                ignore_feature_nulls => TRUE\n",
    "            )     \n",
    "        )\n",
    "    SELECT\n",
    "        'statmike-mlops-349915.bqml_model_monitoring.feature_engineering' AS Model,\n",
    "        TIMESTAMP_TRUNC(@run_time, DAY, \"UTC\") AS Time,\n",
    "        *\n",
    "    FROM ML.VALIDATE_DATA_DRIFT(\n",
    "        TABLE BASE_TABLE,\n",
    "        TABLE COMPARE_TABLE\n",
    "    )\n",
    ") S\n",
    "ON S.Model = T.Model AND S.Time = T.Time AND S.input = T.input\n",
    "WHEN NOT MATCHED THEN\n",
    "    INSERT ROW;\n",
    "\n",
    "# monitor drift\n",
    "MERGE `statmike-mlops-349915.bqml_model_monitoring.monitoring_daily_drift` T\n",
    "USING (\n",
    "    WITH\n",
    "        BASE_TABLE AS (\n",
    "            SELECT * EXCEPT(entity_id, feature_timestamp, species)\n",
    "            FROM ML.FEATURES_AT_TIME(\n",
    "                TABLE `statmike-mlops-349915.bqml_model_monitoring.production_features`,\n",
    "                time => TIMESTAMP_SUB(TIMESTAMP_TRUNC(@run_time, DAY, \"UTC\"), INTERVAL 1 DAY),\n",
    "                num_rows => 1,\n",
    "                ignore_feature_nulls => TRUE\n",
    "            )   \n",
    "        ),\n",
    "        COMPARE_TABLE AS (\n",
    "            SELECT * EXCEPT(entity_id, feature_timestamp, species)\n",
    "            FROM ML.FEATURES_AT_TIME(\n",
    "                TABLE `statmike-mlops-349915.bqml_model_monitoring.production_features`,\n",
    "                time => TIMESTAMP_TRUNC(@run_time, DAY, \"UTC\"),\n",
    "                num_rows => 1,\n",
    "                ignore_feature_nulls => TRUE\n",
    "            )     \n",
    "        )\n",
    "    SELECT\n",
    "        'statmike-mlops-349915.bqml_model_monitoring.feature_engineering' AS Model,\n",
    "        TIMESTAMP_SUB(TIMESTAMP_TRUNC(@run_time, DAY, \"UTC\"), INTERVAL 1 DAY) AS Compare_Time,\n",
    "        TIMESTAMP_TRUNC(@run_time, DAY, \"UTC\") AS Time,\n",
    "        *\n",
    "    FROM ML.VALIDATE_DATA_DRIFT(\n",
    "        TABLE BASE_TABLE,\n",
    "        TABLE COMPARE_TABLE,\n",
    "        STRUCT(\n",
    "            0.03 AS categorical_default_threshold,\n",
    "            0.03 AS numerical_default_threshold\n",
    "        )\n",
    "    )\n",
    ") S\n",
    "ON S.Model = T.Model AND S.Time = T.Time AND S.input = T.input\n",
    "WHEN NOT MATCHED THEN\n",
    "    INSERT ROW;\n",
    "    \n",
    "# tfdv_describe for today\n",
    "MERGE `statmike-mlops-349915.bqml_model_monitoring.monitoring_daily_tfdv_describe` T\n",
    "USING (\n",
    "    SELECT\n",
    "        'statmike-mlops-349915.bqml_model_monitoring.feature_engineering' AS Model,\n",
    "        TIMESTAMP_TRUNC(@run_time, DAY, \"UTC\") AS Time,\n",
    "        dataset_feature_statistics_list AS tfdv_describe\n",
    "    FROM ML.TFDV_DESCRIBE(\n",
    "        (\n",
    "            SELECT * EXCEPT(entity_id, feature_timestamp, species)\n",
    "            FROM ML.FEATURES_AT_TIME(\n",
    "                TABLE `statmike-mlops-349915.bqml_model_monitoring.production_features`,\n",
    "                time => TIMESTAMP_TRUNC(@run_time, DAY, \"UTC\"),\n",
    "                num_rows => 1,\n",
    "                ignore_feature_nulls => TRUE\n",
    "            ) \n",
    "        )\n",
    "    )\n",
    ") S\n",
    "ON S.Model = T.Model AND S.Time = T.Time\n",
    "WHEN NOT MATCHED THEN\n",
    "    INSERT ROW;\n",
    "    \n",
    "# check for skew anomalies\n",
    "SELECT\n",
    "    CASE\n",
    "        WHEN is_anomaly = True THEN ERROR(CONCAT('Found a model monitoring skew anomaly for feature = ', input, ' on ', time, ' for model = ', model))\n",
    "    END AS anomaly_catcher\n",
    "FROM `statmike-mlops-349915.bqml_model_monitoring.monitoring_daily_skew`\n",
    "WHERE time = TIMESTAMP_TRUNC(@run_time, DAY, \"UTC\");\n",
    "    \n",
    "# check for drift anomalies\n",
    "SELECT\n",
    "    CASE\n",
    "        WHEN is_anomaly = True THEN ERROR(CONCAT('Found a model monitoring drift anomaly for feature = ', input, ' on ', time, ' for model = ', model))\n",
    "    END AS anomaly_catcher\n",
    "FROM `statmike-mlops-349915.bqml_model_monitoring.monitoring_daily_drift`\n",
    "WHERE time = TIMESTAMP_TRUNC(@run_time, DAY, \"UTC\");\n"
   ]
  },
  {
   "cell_type": "code",
   "execution_count": null,
   "metadata": {},
   "outputs": [],
   "source": []
  },
  {
   "cell_type": "markdown",
   "metadata": {},
   "source": [
    "### Backfill With Manual Run on Historical Dates\n",
    "\n",
    "Run the scheduled query to fill in data for all days prior today today."
   ]
  },
  {
   "cell_type": "code",
   "execution_count": null,
   "metadata": {},
   "outputs": [],
   "source": []
  },
  {
   "cell_type": "code",
   "execution_count": null,
   "metadata": {},
   "outputs": [],
   "source": []
  },
  {
   "cell_type": "markdown",
   "metadata": {},
   "source": [
    "### Email Notificaitons"
   ]
  },
  {
   "cell_type": "code",
   "execution_count": null,
   "metadata": {},
   "outputs": [],
   "source": []
  },
  {
   "cell_type": "code",
   "execution_count": null,
   "metadata": {},
   "outputs": [],
   "source": []
  },
  {
   "cell_type": "markdown",
   "metadata": {},
   "source": [
    "### Review Detections"
   ]
  },
  {
   "cell_type": "code",
   "execution_count": null,
   "metadata": {},
   "outputs": [],
   "source": []
  },
  {
   "cell_type": "code",
   "execution_count": null,
   "metadata": {},
   "outputs": [],
   "source": []
  }
 ],
 "metadata": {
  "colab": {
   "authorship_tag": "ABX9TyMy6GbowZC6hovxyAVQ0UWd",
   "provenance": []
  },
  "environment": {
   "kernel": "conda-root-py",
   "name": "workbench-notebooks.m119",
   "type": "gcloud",
   "uri": "us-docker.pkg.dev/deeplearning-platform-release/gcr.io/workbench-notebooks:m119"
  },
  "kernelspec": {
   "display_name": "Python 3 (ipykernel)",
   "language": "python",
   "name": "conda-root-py"
  },
  "language_info": {
   "codemirror_mode": {
    "name": "ipython",
    "version": 3
   },
   "file_extension": ".py",
   "mimetype": "text/x-python",
   "name": "python",
   "nbconvert_exporter": "python",
   "pygments_lexer": "ipython3",
   "version": "3.10.14"
  },
  "widgets": {
   "application/vnd.jupyter.widget-state+json": {
    "1109199e5b67477788dcf20b48558d41": {
     "model_module": "@jupyter-widgets/controls",
     "model_module_version": "1.5.0",
     "model_name": "HBoxModel",
     "state": {
      "_dom_classes": [],
      "_model_module": "@jupyter-widgets/controls",
      "_model_module_version": "1.5.0",
      "_model_name": "HBoxModel",
      "_view_count": null,
      "_view_module": "@jupyter-widgets/controls",
      "_view_module_version": "1.5.0",
      "_view_name": "HBoxView",
      "box_style": "",
      "children": [
       "IPY_MODEL_93f32edfd72e4a29ac69d2e202d6e14c",
       "IPY_MODEL_3da40e23ffbd47db8d1a250292255c32",
       "IPY_MODEL_bbd5c7d0941a458dbaee866da7e5366f"
      ],
      "layout": "IPY_MODEL_e2e3c77141c04fa7885bf4b4c0e314f4"
     }
    },
    "16d1acd4a3e94cf9bc3d683ff7eb1125": {
     "model_module": "@jupyter-widgets/base",
     "model_module_version": "1.2.0",
     "model_name": "LayoutModel",
     "state": {
      "_model_module": "@jupyter-widgets/base",
      "_model_module_version": "1.2.0",
      "_model_name": "LayoutModel",
      "_view_count": null,
      "_view_module": "@jupyter-widgets/base",
      "_view_module_version": "1.2.0",
      "_view_name": "LayoutView",
      "align_content": null,
      "align_items": null,
      "align_self": null,
      "border": null,
      "bottom": null,
      "display": null,
      "flex": null,
      "flex_flow": null,
      "grid_area": null,
      "grid_auto_columns": null,
      "grid_auto_flow": null,
      "grid_auto_rows": null,
      "grid_column": null,
      "grid_gap": null,
      "grid_row": null,
      "grid_template_areas": null,
      "grid_template_columns": null,
      "grid_template_rows": null,
      "height": null,
      "justify_content": null,
      "justify_items": null,
      "left": null,
      "margin": null,
      "max_height": null,
      "max_width": null,
      "min_height": null,
      "min_width": null,
      "object_fit": null,
      "object_position": null,
      "order": null,
      "overflow": null,
      "overflow_x": null,
      "overflow_y": null,
      "padding": null,
      "right": null,
      "top": null,
      "visibility": null,
      "width": null
     }
    },
    "1b76a7321f1e482e92b6725f5d120700": {
     "model_module": "@jupyter-widgets/base",
     "model_module_version": "1.2.0",
     "model_name": "LayoutModel",
     "state": {
      "_model_module": "@jupyter-widgets/base",
      "_model_module_version": "1.2.0",
      "_model_name": "LayoutModel",
      "_view_count": null,
      "_view_module": "@jupyter-widgets/base",
      "_view_module_version": "1.2.0",
      "_view_name": "LayoutView",
      "align_content": null,
      "align_items": null,
      "align_self": null,
      "border": null,
      "bottom": null,
      "display": null,
      "flex": null,
      "flex_flow": null,
      "grid_area": null,
      "grid_auto_columns": null,
      "grid_auto_flow": null,
      "grid_auto_rows": null,
      "grid_column": null,
      "grid_gap": null,
      "grid_row": null,
      "grid_template_areas": null,
      "grid_template_columns": null,
      "grid_template_rows": null,
      "height": null,
      "justify_content": null,
      "justify_items": null,
      "left": null,
      "margin": null,
      "max_height": null,
      "max_width": null,
      "min_height": null,
      "min_width": null,
      "object_fit": null,
      "object_position": null,
      "order": null,
      "overflow": null,
      "overflow_x": null,
      "overflow_y": null,
      "padding": null,
      "right": null,
      "top": null,
      "visibility": null,
      "width": null
     }
    },
    "2d65e5a9073f4b65b95c2c629255cac1": {
     "model_module": "@jupyter-widgets/controls",
     "model_module_version": "1.5.0",
     "model_name": "DescriptionStyleModel",
     "state": {
      "_model_module": "@jupyter-widgets/controls",
      "_model_module_version": "1.5.0",
      "_model_name": "DescriptionStyleModel",
      "_view_count": null,
      "_view_module": "@jupyter-widgets/base",
      "_view_module_version": "1.2.0",
      "_view_name": "StyleView",
      "description_width": ""
     }
    },
    "39a8f6a0c95342299729b62b7a818084": {
     "model_module": "@jupyter-widgets/base",
     "model_module_version": "1.2.0",
     "model_name": "LayoutModel",
     "state": {
      "_model_module": "@jupyter-widgets/base",
      "_model_module_version": "1.2.0",
      "_model_name": "LayoutModel",
      "_view_count": null,
      "_view_module": "@jupyter-widgets/base",
      "_view_module_version": "1.2.0",
      "_view_name": "LayoutView",
      "align_content": null,
      "align_items": null,
      "align_self": null,
      "border": null,
      "bottom": null,
      "display": null,
      "flex": null,
      "flex_flow": null,
      "grid_area": null,
      "grid_auto_columns": null,
      "grid_auto_flow": null,
      "grid_auto_rows": null,
      "grid_column": null,
      "grid_gap": null,
      "grid_row": null,
      "grid_template_areas": null,
      "grid_template_columns": null,
      "grid_template_rows": null,
      "height": null,
      "justify_content": null,
      "justify_items": null,
      "left": null,
      "margin": null,
      "max_height": null,
      "max_width": null,
      "min_height": null,
      "min_width": null,
      "object_fit": null,
      "object_position": null,
      "order": null,
      "overflow": null,
      "overflow_x": null,
      "overflow_y": null,
      "padding": null,
      "right": null,
      "top": null,
      "visibility": null,
      "width": null
     }
    },
    "3acd5dce7d1b4a84b1b5540ec8d37ed3": {
     "model_module": "@jupyter-widgets/controls",
     "model_module_version": "1.5.0",
     "model_name": "ProgressStyleModel",
     "state": {
      "_model_module": "@jupyter-widgets/controls",
      "_model_module_version": "1.5.0",
      "_model_name": "ProgressStyleModel",
      "_view_count": null,
      "_view_module": "@jupyter-widgets/base",
      "_view_module_version": "1.2.0",
      "_view_name": "StyleView",
      "bar_color": null,
      "description_width": ""
     }
    },
    "3da40e23ffbd47db8d1a250292255c32": {
     "model_module": "@jupyter-widgets/controls",
     "model_module_version": "1.5.0",
     "model_name": "FloatProgressModel",
     "state": {
      "_dom_classes": [],
      "_model_module": "@jupyter-widgets/controls",
      "_model_module_version": "1.5.0",
      "_model_name": "FloatProgressModel",
      "_view_count": null,
      "_view_module": "@jupyter-widgets/controls",
      "_view_module_version": "1.5.0",
      "_view_name": "ProgressView",
      "bar_style": "success",
      "description": "",
      "description_tooltip": null,
      "layout": "IPY_MODEL_1b76a7321f1e482e92b6725f5d120700",
      "max": 5,
      "min": 0,
      "orientation": "horizontal",
      "style": "IPY_MODEL_6827ef49075d48a1bb2582fb7fd52389",
      "value": 5
     }
    },
    "441b987af9044d1f9326f906d0f1d218": {
     "model_module": "@jupyter-widgets/controls",
     "model_module_version": "1.5.0",
     "model_name": "DescriptionStyleModel",
     "state": {
      "_model_module": "@jupyter-widgets/controls",
      "_model_module_version": "1.5.0",
      "_model_name": "DescriptionStyleModel",
      "_view_count": null,
      "_view_module": "@jupyter-widgets/base",
      "_view_module_version": "1.2.0",
      "_view_name": "StyleView",
      "description_width": ""
     }
    },
    "48543e1564664f73b553a0ae5bfb0843": {
     "model_module": "@jupyter-widgets/base",
     "model_module_version": "1.2.0",
     "model_name": "LayoutModel",
     "state": {
      "_model_module": "@jupyter-widgets/base",
      "_model_module_version": "1.2.0",
      "_model_name": "LayoutModel",
      "_view_count": null,
      "_view_module": "@jupyter-widgets/base",
      "_view_module_version": "1.2.0",
      "_view_name": "LayoutView",
      "align_content": null,
      "align_items": null,
      "align_self": null,
      "border": null,
      "bottom": null,
      "display": null,
      "flex": null,
      "flex_flow": null,
      "grid_area": null,
      "grid_auto_columns": null,
      "grid_auto_flow": null,
      "grid_auto_rows": null,
      "grid_column": null,
      "grid_gap": null,
      "grid_row": null,
      "grid_template_areas": null,
      "grid_template_columns": null,
      "grid_template_rows": null,
      "height": null,
      "justify_content": null,
      "justify_items": null,
      "left": null,
      "margin": null,
      "max_height": null,
      "max_width": null,
      "min_height": null,
      "min_width": null,
      "object_fit": null,
      "object_position": null,
      "order": null,
      "overflow": null,
      "overflow_x": null,
      "overflow_y": null,
      "padding": null,
      "right": null,
      "top": null,
      "visibility": null,
      "width": null
     }
    },
    "4e5a11ea456d49a8bd7563e9b2c35511": {
     "model_module": "@jupyter-widgets/controls",
     "model_module_version": "1.5.0",
     "model_name": "DescriptionStyleModel",
     "state": {
      "_model_module": "@jupyter-widgets/controls",
      "_model_module_version": "1.5.0",
      "_model_name": "DescriptionStyleModel",
      "_view_count": null,
      "_view_module": "@jupyter-widgets/base",
      "_view_module_version": "1.2.0",
      "_view_name": "StyleView",
      "description_width": ""
     }
    },
    "543a939bbf684e49ad83771418dfdd09": {
     "model_module": "@jupyter-widgets/base",
     "model_module_version": "1.2.0",
     "model_name": "LayoutModel",
     "state": {
      "_model_module": "@jupyter-widgets/base",
      "_model_module_version": "1.2.0",
      "_model_name": "LayoutModel",
      "_view_count": null,
      "_view_module": "@jupyter-widgets/base",
      "_view_module_version": "1.2.0",
      "_view_name": "LayoutView",
      "align_content": null,
      "align_items": null,
      "align_self": null,
      "border": null,
      "bottom": null,
      "display": null,
      "flex": null,
      "flex_flow": null,
      "grid_area": null,
      "grid_auto_columns": null,
      "grid_auto_flow": null,
      "grid_auto_rows": null,
      "grid_column": null,
      "grid_gap": null,
      "grid_row": null,
      "grid_template_areas": null,
      "grid_template_columns": null,
      "grid_template_rows": null,
      "height": null,
      "justify_content": null,
      "justify_items": null,
      "left": null,
      "margin": null,
      "max_height": null,
      "max_width": null,
      "min_height": null,
      "min_width": null,
      "object_fit": null,
      "object_position": null,
      "order": null,
      "overflow": null,
      "overflow_x": null,
      "overflow_y": null,
      "padding": null,
      "right": null,
      "top": null,
      "visibility": null,
      "width": null
     }
    },
    "549c9135cfbe467ebc3a60d6ad5750e6": {
     "model_module": "@jupyter-widgets/controls",
     "model_module_version": "1.5.0",
     "model_name": "HTMLModel",
     "state": {
      "_dom_classes": [],
      "_model_module": "@jupyter-widgets/controls",
      "_model_module_version": "1.5.0",
      "_model_name": "HTMLModel",
      "_view_count": null,
      "_view_module": "@jupyter-widgets/controls",
      "_view_module_version": "1.5.0",
      "_view_name": "HTMLView",
      "description": "",
      "description_tooltip": null,
      "layout": "IPY_MODEL_e0194e91019f4661a01322bbda67ac18",
      "placeholder": "​",
      "style": "IPY_MODEL_6b0ff87e15fd4ff684355a521e0f7a1f",
      "value": ""
     }
    },
    "5805c14443ec4d3ebf24ea8dda735a99": {
     "model_module": "@jupyter-widgets/base",
     "model_module_version": "1.2.0",
     "model_name": "LayoutModel",
     "state": {
      "_model_module": "@jupyter-widgets/base",
      "_model_module_version": "1.2.0",
      "_model_name": "LayoutModel",
      "_view_count": null,
      "_view_module": "@jupyter-widgets/base",
      "_view_module_version": "1.2.0",
      "_view_name": "LayoutView",
      "align_content": null,
      "align_items": null,
      "align_self": null,
      "border": null,
      "bottom": null,
      "display": null,
      "flex": null,
      "flex_flow": null,
      "grid_area": null,
      "grid_auto_columns": null,
      "grid_auto_flow": null,
      "grid_auto_rows": null,
      "grid_column": null,
      "grid_gap": null,
      "grid_row": null,
      "grid_template_areas": null,
      "grid_template_columns": null,
      "grid_template_rows": null,
      "height": null,
      "justify_content": null,
      "justify_items": null,
      "left": null,
      "margin": null,
      "max_height": null,
      "max_width": null,
      "min_height": null,
      "min_width": null,
      "object_fit": null,
      "object_position": null,
      "order": null,
      "overflow": null,
      "overflow_x": null,
      "overflow_y": null,
      "padding": null,
      "right": null,
      "top": null,
      "visibility": null,
      "width": null
     }
    },
    "6827ef49075d48a1bb2582fb7fd52389": {
     "model_module": "@jupyter-widgets/controls",
     "model_module_version": "1.5.0",
     "model_name": "ProgressStyleModel",
     "state": {
      "_model_module": "@jupyter-widgets/controls",
      "_model_module_version": "1.5.0",
      "_model_name": "ProgressStyleModel",
      "_view_count": null,
      "_view_module": "@jupyter-widgets/base",
      "_view_module_version": "1.2.0",
      "_view_name": "StyleView",
      "bar_color": null,
      "description_width": ""
     }
    },
    "6b0ff87e15fd4ff684355a521e0f7a1f": {
     "model_module": "@jupyter-widgets/controls",
     "model_module_version": "1.5.0",
     "model_name": "DescriptionStyleModel",
     "state": {
      "_model_module": "@jupyter-widgets/controls",
      "_model_module_version": "1.5.0",
      "_model_name": "DescriptionStyleModel",
      "_view_count": null,
      "_view_module": "@jupyter-widgets/base",
      "_view_module_version": "1.2.0",
      "_view_name": "StyleView",
      "description_width": ""
     }
    },
    "8930cc60223a4b56a70a17b1c5d03a93": {
     "model_module": "@jupyter-widgets/controls",
     "model_module_version": "1.5.0",
     "model_name": "FloatProgressModel",
     "state": {
      "_dom_classes": [],
      "_model_module": "@jupyter-widgets/controls",
      "_model_module_version": "1.5.0",
      "_model_name": "FloatProgressModel",
      "_view_count": null,
      "_view_module": "@jupyter-widgets/controls",
      "_view_module_version": "1.5.0",
      "_view_name": "ProgressView",
      "bar_style": "success",
      "description": "",
      "description_tooltip": null,
      "layout": "IPY_MODEL_48543e1564664f73b553a0ae5bfb0843",
      "max": 1,
      "min": 0,
      "orientation": "horizontal",
      "style": "IPY_MODEL_3acd5dce7d1b4a84b1b5540ec8d37ed3",
      "value": 1
     }
    },
    "93f32edfd72e4a29ac69d2e202d6e14c": {
     "model_module": "@jupyter-widgets/controls",
     "model_module_version": "1.5.0",
     "model_name": "HTMLModel",
     "state": {
      "_dom_classes": [],
      "_model_module": "@jupyter-widgets/controls",
      "_model_module_version": "1.5.0",
      "_model_name": "HTMLModel",
      "_view_count": null,
      "_view_module": "@jupyter-widgets/controls",
      "_view_module_version": "1.5.0",
      "_view_name": "HTMLView",
      "description": "",
      "description_tooltip": null,
      "layout": "IPY_MODEL_543a939bbf684e49ad83771418dfdd09",
      "placeholder": "​",
      "style": "IPY_MODEL_4e5a11ea456d49a8bd7563e9b2c35511",
      "value": "Downloading: 100%"
     }
    },
    "bbd5c7d0941a458dbaee866da7e5366f": {
     "model_module": "@jupyter-widgets/controls",
     "model_module_version": "1.5.0",
     "model_name": "HTMLModel",
     "state": {
      "_dom_classes": [],
      "_model_module": "@jupyter-widgets/controls",
      "_model_module_version": "1.5.0",
      "_model_name": "HTMLModel",
      "_view_count": null,
      "_view_module": "@jupyter-widgets/controls",
      "_view_module_version": "1.5.0",
      "_view_name": "HTMLView",
      "description": "",
      "description_tooltip": null,
      "layout": "IPY_MODEL_5805c14443ec4d3ebf24ea8dda735a99",
      "placeholder": "​",
      "style": "IPY_MODEL_441b987af9044d1f9326f906d0f1d218",
      "value": ""
     }
    },
    "c656f444dbc4405a915eaecde42707d5": {
     "model_module": "@jupyter-widgets/controls",
     "model_module_version": "1.5.0",
     "model_name": "HTMLModel",
     "state": {
      "_dom_classes": [],
      "_model_module": "@jupyter-widgets/controls",
      "_model_module_version": "1.5.0",
      "_model_name": "HTMLModel",
      "_view_count": null,
      "_view_module": "@jupyter-widgets/controls",
      "_view_module_version": "1.5.0",
      "_view_name": "HTMLView",
      "description": "",
      "description_tooltip": null,
      "layout": "IPY_MODEL_16d1acd4a3e94cf9bc3d683ff7eb1125",
      "placeholder": "​",
      "style": "IPY_MODEL_2d65e5a9073f4b65b95c2c629255cac1",
      "value": "Job ID a2f9486b-cfda-4aad-959b-b5485f8f5dd8 successfully executed: 100%"
     }
    },
    "ddb7ba0f48b24355b23492fcb1db5939": {
     "model_module": "@jupyter-widgets/controls",
     "model_module_version": "1.5.0",
     "model_name": "HBoxModel",
     "state": {
      "_dom_classes": [],
      "_model_module": "@jupyter-widgets/controls",
      "_model_module_version": "1.5.0",
      "_model_name": "HBoxModel",
      "_view_count": null,
      "_view_module": "@jupyter-widgets/controls",
      "_view_module_version": "1.5.0",
      "_view_name": "HBoxView",
      "box_style": "",
      "children": [
       "IPY_MODEL_c656f444dbc4405a915eaecde42707d5",
       "IPY_MODEL_8930cc60223a4b56a70a17b1c5d03a93",
       "IPY_MODEL_549c9135cfbe467ebc3a60d6ad5750e6"
      ],
      "layout": "IPY_MODEL_39a8f6a0c95342299729b62b7a818084"
     }
    },
    "e0194e91019f4661a01322bbda67ac18": {
     "model_module": "@jupyter-widgets/base",
     "model_module_version": "1.2.0",
     "model_name": "LayoutModel",
     "state": {
      "_model_module": "@jupyter-widgets/base",
      "_model_module_version": "1.2.0",
      "_model_name": "LayoutModel",
      "_view_count": null,
      "_view_module": "@jupyter-widgets/base",
      "_view_module_version": "1.2.0",
      "_view_name": "LayoutView",
      "align_content": null,
      "align_items": null,
      "align_self": null,
      "border": null,
      "bottom": null,
      "display": null,
      "flex": null,
      "flex_flow": null,
      "grid_area": null,
      "grid_auto_columns": null,
      "grid_auto_flow": null,
      "grid_auto_rows": null,
      "grid_column": null,
      "grid_gap": null,
      "grid_row": null,
      "grid_template_areas": null,
      "grid_template_columns": null,
      "grid_template_rows": null,
      "height": null,
      "justify_content": null,
      "justify_items": null,
      "left": null,
      "margin": null,
      "max_height": null,
      "max_width": null,
      "min_height": null,
      "min_width": null,
      "object_fit": null,
      "object_position": null,
      "order": null,
      "overflow": null,
      "overflow_x": null,
      "overflow_y": null,
      "padding": null,
      "right": null,
      "top": null,
      "visibility": null,
      "width": null
     }
    },
    "e2e3c77141c04fa7885bf4b4c0e314f4": {
     "model_module": "@jupyter-widgets/base",
     "model_module_version": "1.2.0",
     "model_name": "LayoutModel",
     "state": {
      "_model_module": "@jupyter-widgets/base",
      "_model_module_version": "1.2.0",
      "_model_name": "LayoutModel",
      "_view_count": null,
      "_view_module": "@jupyter-widgets/base",
      "_view_module_version": "1.2.0",
      "_view_name": "LayoutView",
      "align_content": null,
      "align_items": null,
      "align_self": null,
      "border": null,
      "bottom": null,
      "display": null,
      "flex": null,
      "flex_flow": null,
      "grid_area": null,
      "grid_auto_columns": null,
      "grid_auto_flow": null,
      "grid_auto_rows": null,
      "grid_column": null,
      "grid_gap": null,
      "grid_row": null,
      "grid_template_areas": null,
      "grid_template_columns": null,
      "grid_template_rows": null,
      "height": null,
      "justify_content": null,
      "justify_items": null,
      "left": null,
      "margin": null,
      "max_height": null,
      "max_width": null,
      "min_height": null,
      "min_width": null,
      "object_fit": null,
      "object_position": null,
      "order": null,
      "overflow": null,
      "overflow_x": null,
      "overflow_y": null,
      "padding": null,
      "right": null,
      "top": null,
      "visibility": null,
      "width": null
     }
    }
   }
  }
 },
 "nbformat": 4,
 "nbformat_minor": 4
}
