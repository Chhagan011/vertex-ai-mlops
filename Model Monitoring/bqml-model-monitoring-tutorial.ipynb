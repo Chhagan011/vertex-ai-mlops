{
 "cells": [
  {
   "cell_type": "markdown",
   "metadata": {},
   "source": [
    "![tracker](https://us-central1-vertex-ai-mlops-369716.cloudfunctions.net/pixel-tracking?path=statmike%2Fvertex-ai-mlops%2FModel+Monitoring&file=bqml-model-monitoring-tutorial.ipynb)\n",
    "<!--- header table --->\n",
    "<table align=\"left\">\n",
    "  <td style=\"text-align: center\">\n",
    "    <a href=\"https://colab.research.google.com/github/statmike/vertex-ai-mlops/blob/main/Model%20Monitoring/bqml-model-monitoring-tutorial.ipynb\">\n",
    "      <img src=\"https://cloud.google.com/ml-engine/images/colab-logo-32px.png\" alt=\"Google Colaboratory logo\">\n",
    "      <br>Run in<br>Colab\n",
    "    </a>\n",
    "  </td>\n",
    "  <td style=\"text-align: center\">\n",
    "    <a href=\"https://console.cloud.google.com/vertex-ai/colab/import/https%3A%2F%2Fraw.githubusercontent.com%2Fstatmike%2Fvertex-ai-mlops%2Fmain%2FModel%2520Monitoring%2Fbqml-model-monitoring-tutorial.ipynb\">\n",
    "      <img width=\"32px\" src=\"https://lh3.googleusercontent.com/JmcxdQi-qOpctIvWKgPtrzZdJJK-J3sWE1RsfjZNwshCFgE_9fULcNpuXYTilIR2hjwN\" alt=\"Google Cloud Colab Enterprise logo\">\n",
    "      <br>Run in<br>Colab Enterprise\n",
    "    </a>\n",
    "  </td>      \n",
    "  <td style=\"text-align: center\">\n",
    "    <a href=\"https://github.com/statmike/vertex-ai-mlops/blob/main/Model%20Monitoring/bqml-model-monitoring-tutorial.ipynb\">\n",
    "      <img src=\"https://cloud.google.com/ml-engine/images/github-logo-32px.png\" alt=\"GitHub logo\">\n",
    "      <br>View on<br>GitHub\n",
    "    </a>\n",
    "  </td>\n",
    "  <td style=\"text-align: center\">\n",
    "    <a href=\"https://console.cloud.google.com/vertex-ai/workbench/deploy-notebook?download_url=https://raw.githubusercontent.com/statmike/vertex-ai-mlops/main/Model%20Monitoring/bqml-model-monitoring-tutorial.ipynb\">\n",
    "      <img src=\"https://lh3.googleusercontent.com/UiNooY4LUgW_oTvpsNhPpQzsstV5W8F7rYgxgGBD85cWJoLmrOzhVs_ksK_vgx40SHs7jCqkTkCk=e14-rj-sc0xffffff-h130-w32\" alt=\"Vertex AI logo\">\n",
    "      <br>Open in<br>Vertex AI Workbench\n",
    "    </a>\n",
    "  </td>\n",
    "</table>"
   ]
  },
  {
   "cell_type": "markdown",
   "metadata": {
    "id": "jwgBsT4ZeFWn"
   },
   "source": [
    "# BigQuery ML (BQML) - Model Monitoring Tutorial\n",
    "\n",
    "---\n",
    "TODO:\n",
    "- [ ] Write Overview for this notebook that matches the blog post\n",
    "- [ ] link to blog post\n",
    "- [ ] link to introduction notebook\n",
    "- [ ] links for the new functions:\n",
    "    - [ ] search for 'link here' and add links throughout\n",
    "    \n",
    "Questions/Choices:\n",
    "- this has moved from tutorial to full workshop - ok? or think about splitting up into segments?\n",
    "- Here I used a TRANSFORM_ONLY model. It is used to transform data before input to model training and all other places.  Eventually as part of a view of the data used in monitoring.  While helpful, maybe this could be removed for simplicity of this tutorial.\n",
    "---\n",
    "\n"
   ]
  },
  {
   "cell_type": "markdown",
   "metadata": {
    "id": "J_-1oCZ7oQe_"
   },
   "source": [
    "---\n",
    "## Colab Setup\n",
    "\n",
    "When running this notebook in [Colab](https://colab.google/) or [Colab Enterprise](https://cloud.google.com/colab/docs/introduction), this section will authenticate to GCP (follow prompts in the popup) and set the current project for the session."
   ]
  },
  {
   "cell_type": "code",
   "execution_count": 1,
   "metadata": {
    "executionInfo": {
     "elapsed": 178,
     "status": "ok",
     "timestamp": 1710716382256,
     "user": {
      "displayName": "Mike Henderson",
      "userId": "07691629187611687318"
     },
     "user_tz": 240
    },
    "id": "bUeb3Vz9c-cz",
    "tags": []
   },
   "outputs": [],
   "source": [
    "PROJECT_ID = 'statmike-mlops-349915' # replace with project ID"
   ]
  },
  {
   "cell_type": "code",
   "execution_count": 2,
   "metadata": {
    "colab": {
     "base_uri": "https://localhost:8080/"
    },
    "executionInfo": {
     "elapsed": 1769,
     "status": "ok",
     "timestamp": 1710716384851,
     "user": {
      "displayName": "Mike Henderson",
      "userId": "07691629187611687318"
     },
     "user_tz": 240
    },
    "id": "ztC0h14fc-fr",
    "outputId": "16d1144f-1671-4919-edba-31bc197ffc7b",
    "tags": []
   },
   "outputs": [
    {
     "name": "stdout",
     "output_type": "stream",
     "text": [
      "Not a Colab Environment\n"
     ]
    }
   ],
   "source": [
    "try:\n",
    "    from google.colab import auth\n",
    "    auth.authenticate_user(project_id = PROJECT_ID)\n",
    "    print('Colab authorized to GCP')\n",
    "except Exception:\n",
    "    print('Not a Colab Environment')\n",
    "    pass"
   ]
  },
  {
   "cell_type": "markdown",
   "metadata": {},
   "source": [
    "---\n",
    "## Installs\n",
    "\n",
    "The list `packages` contains tuples of package import names and install names.  If the import name is not found then the install name is used to install quitely for the current user."
   ]
  },
  {
   "cell_type": "code",
   "execution_count": 3,
   "metadata": {
    "tags": []
   },
   "outputs": [],
   "source": [
    "# tuples of (import name, install name, min_version)\n",
    "packages = [\n",
    "    ('tensorflow_data_validation', 'tensorflow-data-validation'),\n",
    "    ('tensorflow_metadata', 'tensorflow-metadata')\n",
    "]\n",
    "\n",
    "import importlib\n",
    "install = False\n",
    "for package in packages:\n",
    "    if not importlib.util.find_spec(package[0]):\n",
    "        print(f'installing package {package[1]}')\n",
    "        install = True\n",
    "        !pip install {package[1]} -U -q --user\n",
    "    elif len(package) == 3:\n",
    "        if importlib.metadata.version(package[0]) < package[2]:\n",
    "            print(f'updating package {package[1]}')\n",
    "            install = True\n",
    "            !pip install {package[1]} -U -q --user"
   ]
  },
  {
   "cell_type": "markdown",
   "metadata": {
    "id": "yt5uZFvRoWLp"
   },
   "source": [
    "---\n",
    "## Setup"
   ]
  },
  {
   "cell_type": "markdown",
   "metadata": {},
   "source": [
    "Packages:"
   ]
  },
  {
   "cell_type": "code",
   "execution_count": 4,
   "metadata": {
    "tags": []
   },
   "outputs": [],
   "source": [
    "import json"
   ]
  },
  {
   "cell_type": "markdown",
   "metadata": {},
   "source": [
    "Clients:"
   ]
  },
  {
   "cell_type": "code",
   "execution_count": 5,
   "metadata": {
    "colab": {
     "base_uri": "https://localhost:8080/"
    },
    "executionInfo": {
     "elapsed": 159,
     "status": "ok",
     "timestamp": 1710716582376,
     "user": {
      "displayName": "Mike Henderson",
      "userId": "07691629187611687318"
     },
     "user_tz": 240
    },
    "id": "14nUE43Oc-ip",
    "outputId": "55b2c2b1-b6ad-42cc-b3cc-d6e3afcaa071",
    "tags": []
   },
   "outputs": [
    {
     "name": "stdout",
     "output_type": "stream",
     "text": [
      "The google.cloud.bigquery extension is already loaded. To reload it, use:\n",
      "  %reload_ext google.cloud.bigquery\n"
     ]
    }
   ],
   "source": [
    "%load_ext google.cloud.bigquery"
   ]
  },
  {
   "cell_type": "markdown",
   "metadata": {},
   "source": [
    "Prepare the code below for your environment.\n",
    "\n",
    "This notebook takes advantage of the [BigQuery IPython magic](https://cloud.google.com/python/docs/reference/bigquery/latest/magics) for legibility and ease of copy/pasting to BigQuery SQL editor.  If this notebook is being used from an environment that can run notebooks it needs further preparation: Colab, Colab Enterprise, Vertex AI Workbench Instances, or BigQuery Studio with a Python Notebook.  The SQL code in these cells uses the fully qualified [BigQuery table](https://cloud.google.com/bigquery/docs/tables-intro) names in the form `projectname.datasetname.tablename`.  Prepare for your environment by:\n",
    "- Edit > Find\n",
    "    - Find: `statmike-mlops-349915`\n",
    "    - Replace: `<your project id>`\n",
    "    - Replace All"
   ]
  },
  {
   "cell_type": "markdown",
   "metadata": {},
   "source": [
    "---\n",
    "## BigQuery Source Data\n",
    "\n",
    "This project will uses the following data source as a tutorial.  It is good for examples like this because it is small, has few columns, but contains categorial and numerical data types.\n",
    "\n",
    "The source table is a BigQuery Public Dataset table.  The following cell uses the [BigQuery IPython magic](https://cloud.google.com/python/docs/reference/bigquery/latest/magics) to retrieve 5 rows of the table for review.  This data is known as [Palmer Penguins](https://allisonhorst.github.io/palmerpenguins/) data: \n",
    "\n",
    "```\n",
    "@Manual{,\n",
    "  title = {palmerpenguins: Palmer Archipelago (Antarctica) penguin data},\n",
    "  author = {Allison Marie Horst and Alison Presmanes Hill and Kristen B Gorman},\n",
    "  year = {2020},\n",
    "  note = {R package version 0.1.0},\n",
    "  doi = {10.5281/zenodo.3960218},\n",
    "  url = {https://allisonhorst.github.io/palmerpenguins/},\n",
    "}\n",
    "```\n",
    "\n",
    "\n",
    "There are 334 observations of 4 numerical features (culman length, culmen depth, flipper length, body mass) and 2  categorical features (island, sex) that represent 3 species of penguins."
   ]
  },
  {
   "cell_type": "code",
   "execution_count": 6,
   "metadata": {
    "tags": []
   },
   "outputs": [
    {
     "data": {
      "application/vnd.jupyter.widget-view+json": {
       "model_id": "fdbd208fc06444688185bb4a936b5405",
       "version_major": 2,
       "version_minor": 0
      },
      "text/plain": [
       "Query is running:   0%|          |"
      ]
     },
     "metadata": {},
     "output_type": "display_data"
    },
    {
     "data": {
      "application/vnd.jupyter.widget-view+json": {
       "model_id": "f1b35eabbebf42e096d28fda09c96a7d",
       "version_major": 2,
       "version_minor": 0
      },
      "text/plain": [
       "Downloading:   0%|          |"
      ]
     },
     "metadata": {},
     "output_type": "display_data"
    },
    {
     "data": {
      "text/html": [
       "<div>\n",
       "<style scoped>\n",
       "    .dataframe tbody tr th:only-of-type {\n",
       "        vertical-align: middle;\n",
       "    }\n",
       "\n",
       "    .dataframe tbody tr th {\n",
       "        vertical-align: top;\n",
       "    }\n",
       "\n",
       "    .dataframe thead th {\n",
       "        text-align: right;\n",
       "    }\n",
       "</style>\n",
       "<table border=\"1\" class=\"dataframe\">\n",
       "  <thead>\n",
       "    <tr style=\"text-align: right;\">\n",
       "      <th></th>\n",
       "      <th>species</th>\n",
       "      <th>island</th>\n",
       "      <th>culmen_length_mm</th>\n",
       "      <th>culmen_depth_mm</th>\n",
       "      <th>flipper_length_mm</th>\n",
       "      <th>body_mass_g</th>\n",
       "      <th>sex</th>\n",
       "    </tr>\n",
       "  </thead>\n",
       "  <tbody>\n",
       "    <tr>\n",
       "      <th>0</th>\n",
       "      <td>Adelie Penguin (Pygoscelis adeliae)</td>\n",
       "      <td>Dream</td>\n",
       "      <td>36.6</td>\n",
       "      <td>18.4</td>\n",
       "      <td>184.0</td>\n",
       "      <td>3475.0</td>\n",
       "      <td>FEMALE</td>\n",
       "    </tr>\n",
       "    <tr>\n",
       "      <th>1</th>\n",
       "      <td>Adelie Penguin (Pygoscelis adeliae)</td>\n",
       "      <td>Dream</td>\n",
       "      <td>39.8</td>\n",
       "      <td>19.1</td>\n",
       "      <td>184.0</td>\n",
       "      <td>4650.0</td>\n",
       "      <td>MALE</td>\n",
       "    </tr>\n",
       "    <tr>\n",
       "      <th>2</th>\n",
       "      <td>Adelie Penguin (Pygoscelis adeliae)</td>\n",
       "      <td>Dream</td>\n",
       "      <td>40.9</td>\n",
       "      <td>18.9</td>\n",
       "      <td>184.0</td>\n",
       "      <td>3900.0</td>\n",
       "      <td>MALE</td>\n",
       "    </tr>\n",
       "    <tr>\n",
       "      <th>3</th>\n",
       "      <td>Chinstrap penguin (Pygoscelis antarctica)</td>\n",
       "      <td>Dream</td>\n",
       "      <td>46.5</td>\n",
       "      <td>17.9</td>\n",
       "      <td>192.0</td>\n",
       "      <td>3500.0</td>\n",
       "      <td>FEMALE</td>\n",
       "    </tr>\n",
       "    <tr>\n",
       "      <th>4</th>\n",
       "      <td>Adelie Penguin (Pygoscelis adeliae)</td>\n",
       "      <td>Dream</td>\n",
       "      <td>37.3</td>\n",
       "      <td>16.8</td>\n",
       "      <td>192.0</td>\n",
       "      <td>3000.0</td>\n",
       "      <td>FEMALE</td>\n",
       "    </tr>\n",
       "  </tbody>\n",
       "</table>\n",
       "</div>"
      ],
      "text/plain": [
       "                                     species island  culmen_length_mm  \\\n",
       "0        Adelie Penguin (Pygoscelis adeliae)  Dream              36.6   \n",
       "1        Adelie Penguin (Pygoscelis adeliae)  Dream              39.8   \n",
       "2        Adelie Penguin (Pygoscelis adeliae)  Dream              40.9   \n",
       "3  Chinstrap penguin (Pygoscelis antarctica)  Dream              46.5   \n",
       "4        Adelie Penguin (Pygoscelis adeliae)  Dream              37.3   \n",
       "\n",
       "   culmen_depth_mm  flipper_length_mm  body_mass_g     sex  \n",
       "0             18.4              184.0       3475.0  FEMALE  \n",
       "1             19.1              184.0       4650.0    MALE  \n",
       "2             18.9              184.0       3900.0    MALE  \n",
       "3             17.9              192.0       3500.0  FEMALE  \n",
       "4             16.8              192.0       3000.0  FEMALE  "
      ]
     },
     "execution_count": 6,
     "metadata": {},
     "output_type": "execute_result"
    }
   ],
   "source": [
    "%%bigquery\n",
    "SELECT *\n",
    "FROM `bigquery-public-data.ml_datasets.penguins`\n",
    "LIMIT 5"
   ]
  },
  {
   "cell_type": "markdown",
   "metadata": {},
   "source": [
    "---\n",
    "## **Goal: Train, Serve, And Monitor A Model**\n",
    "\n",
    "**Train A Model**\n",
    "\n",
    "In this workflow our goal is to train and operationalize a machine leanring model that can classify unidentified penguins into the correct `species` using only measurements (`culmen_length_mm`, `culmen_depth_mm`, `flipper_length_mm`, `body_mass_g`), location (`island`) and gender (`sex`).  That means serving predictions, monitoring features, and potentially retraining the model.\n",
    "\n",
    "**Operationalize The Model**\n",
    "\n",
    "Taking a trained model to production introduces challenges. The model needs to be regularly evaluated to understand it's performance once put into production. This can be challenging as actual values used to assess the accuracy of predictions may arrive later than the predictions. Continuous monitoring bridges this gap with early signals in two key ways. First, monitoring the distributions of each of the models features for shift (called **skew**) from the training data to the current data. Then, also monitoring for any gradual **drift** in the distribution over time. Setting thresholds and getting alerts for features on each of this distribution changes gives early signals that the model needs to be carefully considered for evaluation and re-training to ensure effectiveness. If the evaluation can be automated then this can even extend to **continuous training**. "
   ]
  },
  {
   "cell_type": "markdown",
   "metadata": {},
   "source": [
    "---\n",
    "## Data Preparation"
   ]
  },
  {
   "cell_type": "markdown",
   "metadata": {
    "tags": []
   },
   "source": [
    "### Understand The Data Source With `ML.DESCRIBE_DATA`\n",
    "\n",
    "Reviewing a few records, like above, gives a good sense of how the data is arranged. Before proceeding with machine learning techniques it is important to understand more about these raw columns.  Are they ready to use a features in a model or is some form of feature engineering needed first?  For this, the distribution of values is an important starting point.  \n",
    "\n",
    "While SQL could be used to look at the distribution, it would be a time consuming process and requires different techniques for different data types like numerical, string, boolean, dates, times, array and struct version of these, and arrays of structs.\n",
    "\n",
    "To make this process fast and simple, the new [ML.DESCRIBE_DATA](link here)\n",
    "\n",
    "function is used to get a single row for each column the describes the data distribution:"
   ]
  },
  {
   "cell_type": "code",
   "execution_count": 7,
   "metadata": {
    "tags": []
   },
   "outputs": [
    {
     "data": {
      "application/vnd.jupyter.widget-view+json": {
       "model_id": "5e0eb42df59f4b9180fa1ee0f51416ff",
       "version_major": 2,
       "version_minor": 0
      },
      "text/plain": [
       "Query is running:   0%|          |"
      ]
     },
     "metadata": {},
     "output_type": "display_data"
    },
    {
     "data": {
      "application/vnd.jupyter.widget-view+json": {
       "model_id": "02d745dc9c0c40f1a1b5770bd4ef401b",
       "version_major": 2,
       "version_minor": 0
      },
      "text/plain": [
       "Downloading:   0%|          |"
      ]
     },
     "metadata": {},
     "output_type": "display_data"
    },
    {
     "data": {
      "text/html": [
       "<div>\n",
       "<style scoped>\n",
       "    .dataframe tbody tr th:only-of-type {\n",
       "        vertical-align: middle;\n",
       "    }\n",
       "\n",
       "    .dataframe tbody tr th {\n",
       "        vertical-align: top;\n",
       "    }\n",
       "\n",
       "    .dataframe thead th {\n",
       "        text-align: right;\n",
       "    }\n",
       "</style>\n",
       "<table border=\"1\" class=\"dataframe\">\n",
       "  <thead>\n",
       "    <tr style=\"text-align: right;\">\n",
       "      <th></th>\n",
       "      <th>name</th>\n",
       "      <th>num_rows</th>\n",
       "      <th>num_nulls</th>\n",
       "      <th>num_zeros</th>\n",
       "      <th>min</th>\n",
       "      <th>max</th>\n",
       "      <th>mean</th>\n",
       "      <th>stddev</th>\n",
       "      <th>median</th>\n",
       "      <th>quantiles</th>\n",
       "      <th>unique</th>\n",
       "      <th>avg_string_length</th>\n",
       "      <th>num_values</th>\n",
       "      <th>top_values</th>\n",
       "      <th>min_array_length</th>\n",
       "      <th>max_array_length</th>\n",
       "      <th>avg_array_length</th>\n",
       "      <th>total_array_length</th>\n",
       "      <th>array_length_quantiles</th>\n",
       "      <th>dimension</th>\n",
       "    </tr>\n",
       "  </thead>\n",
       "  <tbody>\n",
       "    <tr>\n",
       "      <th>0</th>\n",
       "      <td>body_mass_g</td>\n",
       "      <td>344</td>\n",
       "      <td>2</td>\n",
       "      <td>0</td>\n",
       "      <td>2700</td>\n",
       "      <td>6300</td>\n",
       "      <td>4201.754386</td>\n",
       "      <td>800.781229</td>\n",
       "      <td>4000.0</td>\n",
       "      <td>[2700.0, 4000.0, 6300.0]</td>\n",
       "      <td>&lt;NA&gt;</td>\n",
       "      <td>NaN</td>\n",
       "      <td>342</td>\n",
       "      <td>[]</td>\n",
       "      <td>&lt;NA&gt;</td>\n",
       "      <td>&lt;NA&gt;</td>\n",
       "      <td>NaN</td>\n",
       "      <td>&lt;NA&gt;</td>\n",
       "      <td>[]</td>\n",
       "      <td>&lt;NA&gt;</td>\n",
       "    </tr>\n",
       "    <tr>\n",
       "      <th>1</th>\n",
       "      <td>culmen_depth_mm</td>\n",
       "      <td>344</td>\n",
       "      <td>2</td>\n",
       "      <td>0</td>\n",
       "      <td>13.1</td>\n",
       "      <td>21.5</td>\n",
       "      <td>17.151170</td>\n",
       "      <td>1.971904</td>\n",
       "      <td>17.3</td>\n",
       "      <td>[13.1, 17.3, 21.5]</td>\n",
       "      <td>&lt;NA&gt;</td>\n",
       "      <td>NaN</td>\n",
       "      <td>342</td>\n",
       "      <td>[]</td>\n",
       "      <td>&lt;NA&gt;</td>\n",
       "      <td>&lt;NA&gt;</td>\n",
       "      <td>NaN</td>\n",
       "      <td>&lt;NA&gt;</td>\n",
       "      <td>[]</td>\n",
       "      <td>&lt;NA&gt;</td>\n",
       "    </tr>\n",
       "    <tr>\n",
       "      <th>2</th>\n",
       "      <td>culmen_length_mm</td>\n",
       "      <td>344</td>\n",
       "      <td>2</td>\n",
       "      <td>0</td>\n",
       "      <td>32.1</td>\n",
       "      <td>59.6</td>\n",
       "      <td>43.921930</td>\n",
       "      <td>5.451596</td>\n",
       "      <td>44.1</td>\n",
       "      <td>[32.1, 44.1, 59.6]</td>\n",
       "      <td>&lt;NA&gt;</td>\n",
       "      <td>NaN</td>\n",
       "      <td>342</td>\n",
       "      <td>[]</td>\n",
       "      <td>&lt;NA&gt;</td>\n",
       "      <td>&lt;NA&gt;</td>\n",
       "      <td>NaN</td>\n",
       "      <td>&lt;NA&gt;</td>\n",
       "      <td>[]</td>\n",
       "      <td>&lt;NA&gt;</td>\n",
       "    </tr>\n",
       "    <tr>\n",
       "      <th>3</th>\n",
       "      <td>flipper_length_mm</td>\n",
       "      <td>344</td>\n",
       "      <td>2</td>\n",
       "      <td>0</td>\n",
       "      <td>172</td>\n",
       "      <td>231</td>\n",
       "      <td>200.915205</td>\n",
       "      <td>14.041141</td>\n",
       "      <td>197.0</td>\n",
       "      <td>[172.0, 197.0, 231.0]</td>\n",
       "      <td>&lt;NA&gt;</td>\n",
       "      <td>NaN</td>\n",
       "      <td>342</td>\n",
       "      <td>[]</td>\n",
       "      <td>&lt;NA&gt;</td>\n",
       "      <td>&lt;NA&gt;</td>\n",
       "      <td>NaN</td>\n",
       "      <td>&lt;NA&gt;</td>\n",
       "      <td>[]</td>\n",
       "      <td>&lt;NA&gt;</td>\n",
       "    </tr>\n",
       "    <tr>\n",
       "      <th>4</th>\n",
       "      <td>island</td>\n",
       "      <td>344</td>\n",
       "      <td>0</td>\n",
       "      <td>&lt;NA&gt;</td>\n",
       "      <td>Biscoe</td>\n",
       "      <td>Torgersen</td>\n",
       "      <td>NaN</td>\n",
       "      <td>NaN</td>\n",
       "      <td>NaN</td>\n",
       "      <td>[]</td>\n",
       "      <td>3</td>\n",
       "      <td>6.093023</td>\n",
       "      <td>344</td>\n",
       "      <td>[{'value': 'Biscoe', 'count': 168}]</td>\n",
       "      <td>&lt;NA&gt;</td>\n",
       "      <td>&lt;NA&gt;</td>\n",
       "      <td>NaN</td>\n",
       "      <td>&lt;NA&gt;</td>\n",
       "      <td>[]</td>\n",
       "      <td>&lt;NA&gt;</td>\n",
       "    </tr>\n",
       "    <tr>\n",
       "      <th>5</th>\n",
       "      <td>sex</td>\n",
       "      <td>344</td>\n",
       "      <td>10</td>\n",
       "      <td>&lt;NA&gt;</td>\n",
       "      <td>.</td>\n",
       "      <td>MALE</td>\n",
       "      <td>NaN</td>\n",
       "      <td>NaN</td>\n",
       "      <td>NaN</td>\n",
       "      <td>[]</td>\n",
       "      <td>3</td>\n",
       "      <td>4.979042</td>\n",
       "      <td>334</td>\n",
       "      <td>[{'value': 'MALE', 'count': 168}]</td>\n",
       "      <td>&lt;NA&gt;</td>\n",
       "      <td>&lt;NA&gt;</td>\n",
       "      <td>NaN</td>\n",
       "      <td>&lt;NA&gt;</td>\n",
       "      <td>[]</td>\n",
       "      <td>&lt;NA&gt;</td>\n",
       "    </tr>\n",
       "    <tr>\n",
       "      <th>6</th>\n",
       "      <td>species</td>\n",
       "      <td>344</td>\n",
       "      <td>0</td>\n",
       "      <td>&lt;NA&gt;</td>\n",
       "      <td>Adelie Penguin (Pygoscelis adeliae)</td>\n",
       "      <td>Gentoo penguin (Pygoscelis papua)</td>\n",
       "      <td>NaN</td>\n",
       "      <td>NaN</td>\n",
       "      <td>NaN</td>\n",
       "      <td>[]</td>\n",
       "      <td>3</td>\n",
       "      <td>35.465116</td>\n",
       "      <td>344</td>\n",
       "      <td>[{'value': 'Adelie Penguin (Pygoscelis adeliae...</td>\n",
       "      <td>&lt;NA&gt;</td>\n",
       "      <td>&lt;NA&gt;</td>\n",
       "      <td>NaN</td>\n",
       "      <td>&lt;NA&gt;</td>\n",
       "      <td>[]</td>\n",
       "      <td>&lt;NA&gt;</td>\n",
       "    </tr>\n",
       "  </tbody>\n",
       "</table>\n",
       "</div>"
      ],
      "text/plain": [
       "                name  num_rows  num_nulls  num_zeros  \\\n",
       "0        body_mass_g       344          2          0   \n",
       "1    culmen_depth_mm       344          2          0   \n",
       "2   culmen_length_mm       344          2          0   \n",
       "3  flipper_length_mm       344          2          0   \n",
       "4             island       344          0       <NA>   \n",
       "5                sex       344         10       <NA>   \n",
       "6            species       344          0       <NA>   \n",
       "\n",
       "                                   min                                max  \\\n",
       "0                                 2700                               6300   \n",
       "1                                 13.1                               21.5   \n",
       "2                                 32.1                               59.6   \n",
       "3                                  172                                231   \n",
       "4                               Biscoe                          Torgersen   \n",
       "5                                    .                               MALE   \n",
       "6  Adelie Penguin (Pygoscelis adeliae)  Gentoo penguin (Pygoscelis papua)   \n",
       "\n",
       "          mean      stddev  median                 quantiles  unique  \\\n",
       "0  4201.754386  800.781229  4000.0  [2700.0, 4000.0, 6300.0]    <NA>   \n",
       "1    17.151170    1.971904    17.3        [13.1, 17.3, 21.5]    <NA>   \n",
       "2    43.921930    5.451596    44.1        [32.1, 44.1, 59.6]    <NA>   \n",
       "3   200.915205   14.041141   197.0     [172.0, 197.0, 231.0]    <NA>   \n",
       "4          NaN         NaN     NaN                        []       3   \n",
       "5          NaN         NaN     NaN                        []       3   \n",
       "6          NaN         NaN     NaN                        []       3   \n",
       "\n",
       "   avg_string_length  num_values  \\\n",
       "0                NaN         342   \n",
       "1                NaN         342   \n",
       "2                NaN         342   \n",
       "3                NaN         342   \n",
       "4           6.093023         344   \n",
       "5           4.979042         334   \n",
       "6          35.465116         344   \n",
       "\n",
       "                                          top_values  min_array_length  \\\n",
       "0                                                 []              <NA>   \n",
       "1                                                 []              <NA>   \n",
       "2                                                 []              <NA>   \n",
       "3                                                 []              <NA>   \n",
       "4                [{'value': 'Biscoe', 'count': 168}]              <NA>   \n",
       "5                  [{'value': 'MALE', 'count': 168}]              <NA>   \n",
       "6  [{'value': 'Adelie Penguin (Pygoscelis adeliae...              <NA>   \n",
       "\n",
       "   max_array_length  avg_array_length  total_array_length  \\\n",
       "0              <NA>               NaN                <NA>   \n",
       "1              <NA>               NaN                <NA>   \n",
       "2              <NA>               NaN                <NA>   \n",
       "3              <NA>               NaN                <NA>   \n",
       "4              <NA>               NaN                <NA>   \n",
       "5              <NA>               NaN                <NA>   \n",
       "6              <NA>               NaN                <NA>   \n",
       "\n",
       "  array_length_quantiles  dimension  \n",
       "0                     []       <NA>  \n",
       "1                     []       <NA>  \n",
       "2                     []       <NA>  \n",
       "3                     []       <NA>  \n",
       "4                     []       <NA>  \n",
       "5                     []       <NA>  \n",
       "6                     []       <NA>  "
      ]
     },
     "execution_count": 7,
     "metadata": {},
     "output_type": "execute_result"
    }
   ],
   "source": [
    "%%bigquery\n",
    "SELECT *\n",
    "FROM ML.DESCRIBE_DATA(\n",
    "  TABLE `bigquery-public-data.ml_datasets.penguins`\n",
    ")"
   ]
  },
  {
   "cell_type": "markdown",
   "metadata": {},
   "source": [
    "Some observations:\n",
    "- All columns have `num_rows` and `num_nulls`\n",
    "- Numerical columns have `min`, `max`, `stddev`, `median`, and `quantiles` showing the distribution of the data in the column\n",
    "- Categorical (string) columns have `min`, `max` values representing the class levels and a `unique` column show how many class levels\n",
    "\n",
    "Data quality observation:\n",
    "- The column `sex` has both missing values (10 indicated in `num_nulls`) as well as a `min` values of `.`.  This appears to be a data quality issue that needs fixing."
   ]
  },
  {
   "cell_type": "markdown",
   "metadata": {
    "tags": []
   },
   "source": [
    "### Create A BigQuery Dataset\n",
    "\n",
    "Create a new [BigQuery Dataset](https://cloud.google.com/bigquery/docs/datasets) as a working location for this workflow:"
   ]
  },
  {
   "cell_type": "code",
   "execution_count": 8,
   "metadata": {
    "tags": []
   },
   "outputs": [
    {
     "data": {
      "application/vnd.jupyter.widget-view+json": {
       "model_id": "6d59f4da3223422694cba7b9e28766ae",
       "version_major": 2,
       "version_minor": 0
      },
      "text/plain": [
       "Query is running:   0%|          |"
      ]
     },
     "metadata": {},
     "output_type": "display_data"
    },
    {
     "data": {
      "text/html": [
       "<div>\n",
       "<style scoped>\n",
       "    .dataframe tbody tr th:only-of-type {\n",
       "        vertical-align: middle;\n",
       "    }\n",
       "\n",
       "    .dataframe tbody tr th {\n",
       "        vertical-align: top;\n",
       "    }\n",
       "\n",
       "    .dataframe thead th {\n",
       "        text-align: right;\n",
       "    }\n",
       "</style>\n",
       "<table border=\"1\" class=\"dataframe\">\n",
       "  <thead>\n",
       "    <tr style=\"text-align: right;\">\n",
       "      <th></th>\n",
       "    </tr>\n",
       "  </thead>\n",
       "  <tbody>\n",
       "  </tbody>\n",
       "</table>\n",
       "</div>"
      ],
      "text/plain": [
       "Empty DataFrame\n",
       "Columns: []\n",
       "Index: []"
      ]
     },
     "execution_count": 8,
     "metadata": {},
     "output_type": "execute_result"
    }
   ],
   "source": [
    "%%bigquery\n",
    "CREATE SCHEMA IF NOT EXISTS `statmike-mlops-349915.bqml_model_monitoring`\n",
    "    OPTIONS(\n",
    "        location = 'US'\n",
    "    )"
   ]
  },
  {
   "cell_type": "markdown",
   "metadata": {},
   "source": [
    "### Prepare The Source Data\n",
    "\n",
    "Make a copy of the table source in the new BigQuery dataset with fixes applied to the data quality issue identified for the `sex` column with values of `.`.\n",
    "\n",
    "> Note: A copy is being made in this case because the source project is `bigquery-public` which is not editable."
   ]
  },
  {
   "cell_type": "code",
   "execution_count": 9,
   "metadata": {
    "tags": []
   },
   "outputs": [
    {
     "data": {
      "application/vnd.jupyter.widget-view+json": {
       "model_id": "1c284786e5ad4b77b3ea9eb474602963",
       "version_major": 2,
       "version_minor": 0
      },
      "text/plain": [
       "Query is running:   0%|          |"
      ]
     },
     "metadata": {},
     "output_type": "display_data"
    },
    {
     "data": {
      "text/html": [
       "<div>\n",
       "<style scoped>\n",
       "    .dataframe tbody tr th:only-of-type {\n",
       "        vertical-align: middle;\n",
       "    }\n",
       "\n",
       "    .dataframe tbody tr th {\n",
       "        vertical-align: top;\n",
       "    }\n",
       "\n",
       "    .dataframe thead th {\n",
       "        text-align: right;\n",
       "    }\n",
       "</style>\n",
       "<table border=\"1\" class=\"dataframe\">\n",
       "  <thead>\n",
       "    <tr style=\"text-align: right;\">\n",
       "      <th></th>\n",
       "    </tr>\n",
       "  </thead>\n",
       "  <tbody>\n",
       "  </tbody>\n",
       "</table>\n",
       "</div>"
      ],
      "text/plain": [
       "Empty DataFrame\n",
       "Columns: []\n",
       "Index: []"
      ]
     },
     "execution_count": 9,
     "metadata": {},
     "output_type": "execute_result"
    }
   ],
   "source": [
    "%%bigquery\n",
    "CREATE OR REPLACE TABLE `statmike-mlops-349915.bqml_model_monitoring.source` AS\n",
    "    SELECT * EXCEPT(sex),\n",
    "        CASE WHEN sex = '.' THEN NULL ELSE sex END AS sex\n",
    "    FROM `bigquery-public-data.ml_datasets.penguins`"
   ]
  },
  {
   "cell_type": "markdown",
   "metadata": {},
   "source": [
    "### Split The Data\n",
    "\n",
    "Depending on the ML technique, it may be desired to split the data into partitions for training, evaluation, and testing (in this case monitoring examples). \n",
    "\n",
    "The following cell creates a version with a new column column named `splits` with values [`TRAIN`, `EVAL`, `TEST`].  The data is first grouped by (stratified) the values of `species` and `island` to preserve any imbalance across the groups. "
   ]
  },
  {
   "cell_type": "code",
   "execution_count": 10,
   "metadata": {
    "tags": []
   },
   "outputs": [
    {
     "data": {
      "application/vnd.jupyter.widget-view+json": {
       "model_id": "016e4b06a5674856966a74788fbdcb3f",
       "version_major": 2,
       "version_minor": 0
      },
      "text/plain": [
       "Query is running:   0%|          |"
      ]
     },
     "metadata": {},
     "output_type": "display_data"
    },
    {
     "data": {
      "text/html": [
       "<div>\n",
       "<style scoped>\n",
       "    .dataframe tbody tr th:only-of-type {\n",
       "        vertical-align: middle;\n",
       "    }\n",
       "\n",
       "    .dataframe tbody tr th {\n",
       "        vertical-align: top;\n",
       "    }\n",
       "\n",
       "    .dataframe thead th {\n",
       "        text-align: right;\n",
       "    }\n",
       "</style>\n",
       "<table border=\"1\" class=\"dataframe\">\n",
       "  <thead>\n",
       "    <tr style=\"text-align: right;\">\n",
       "      <th></th>\n",
       "    </tr>\n",
       "  </thead>\n",
       "  <tbody>\n",
       "  </tbody>\n",
       "</table>\n",
       "</div>"
      ],
      "text/plain": [
       "Empty DataFrame\n",
       "Columns: []\n",
       "Index: []"
      ]
     },
     "execution_count": 10,
     "metadata": {},
     "output_type": "execute_result"
    }
   ],
   "source": [
    "%%bigquery\n",
    "CREATE OR REPLACE TABLE `statmike-mlops-349915.bqml_model_monitoring.source_split` AS\n",
    "    WITH\n",
    "        # randomized numbering within groups (species, island)\n",
    "        RANDOM AS (\n",
    "            SELECT *,\n",
    "                ROW_NUMBER() OVER (PARTITION BY species, island ORDER BY RAND()) AS sequence\n",
    "            FROM `statmike-mlops-349915.bqml_model_monitoring.source`\n",
    "        ),\n",
    "        # get group sizes\n",
    "        GROUP_SIZES AS (\n",
    "            SELECT species, island, COUNT(*) AS count\n",
    "            FROM `statmike-mlops-349915.bqml_model_monitoring.source`\n",
    "            GROUP BY species, island\n",
    "        )\n",
    "    SELECT\n",
    "        * EXCEPT(sequence, count),\n",
    "        CASE\n",
    "            WHEN sequence <= CEIL(.2 * count) AND species is not Null THEN 'TEST'\n",
    "            WHEN sequence <= CEIL(.3 * count) THEN 'EVAL'\n",
    "            ELSE 'TRAIN'\n",
    "        END AS splits\n",
    "    FROM RANDOM\n",
    "    LEFT OUTER JOIN GROUP_SIZES USING(species, island)"
   ]
  },
  {
   "cell_type": "markdown",
   "metadata": {},
   "source": [
    "Review the data by `splits`:"
   ]
  },
  {
   "cell_type": "code",
   "execution_count": 11,
   "metadata": {
    "tags": []
   },
   "outputs": [
    {
     "data": {
      "application/vnd.jupyter.widget-view+json": {
       "model_id": "beca793f62ae4271a2fee408c3b428d2",
       "version_major": 2,
       "version_minor": 0
      },
      "text/plain": [
       "Query is running:   0%|          |"
      ]
     },
     "metadata": {},
     "output_type": "display_data"
    },
    {
     "data": {
      "application/vnd.jupyter.widget-view+json": {
       "model_id": "2aefdd44cfb846a8856a71669da8dc1b",
       "version_major": 2,
       "version_minor": 0
      },
      "text/plain": [
       "Downloading:   0%|          |"
      ]
     },
     "metadata": {},
     "output_type": "display_data"
    },
    {
     "data": {
      "text/html": [
       "<div>\n",
       "<style scoped>\n",
       "    .dataframe tbody tr th:only-of-type {\n",
       "        vertical-align: middle;\n",
       "    }\n",
       "\n",
       "    .dataframe tbody tr th {\n",
       "        vertical-align: top;\n",
       "    }\n",
       "\n",
       "    .dataframe thead th {\n",
       "        text-align: right;\n",
       "    }\n",
       "</style>\n",
       "<table border=\"1\" class=\"dataframe\">\n",
       "  <thead>\n",
       "    <tr style=\"text-align: right;\">\n",
       "      <th></th>\n",
       "      <th>species</th>\n",
       "      <th>island</th>\n",
       "      <th>count</th>\n",
       "      <th>TRAIN_PCT</th>\n",
       "      <th>EVAL_PCT</th>\n",
       "      <th>TEST_PCT</th>\n",
       "    </tr>\n",
       "  </thead>\n",
       "  <tbody>\n",
       "    <tr>\n",
       "      <th>0</th>\n",
       "      <td>Adelie Penguin (Pygoscelis adeliae)</td>\n",
       "      <td>Dream</td>\n",
       "      <td>56</td>\n",
       "      <td>69.642857</td>\n",
       "      <td>8.928571</td>\n",
       "      <td>21.428571</td>\n",
       "    </tr>\n",
       "    <tr>\n",
       "      <th>1</th>\n",
       "      <td>Chinstrap penguin (Pygoscelis antarctica)</td>\n",
       "      <td>Dream</td>\n",
       "      <td>68</td>\n",
       "      <td>69.117647</td>\n",
       "      <td>10.294118</td>\n",
       "      <td>20.588235</td>\n",
       "    </tr>\n",
       "    <tr>\n",
       "      <th>2</th>\n",
       "      <td>Gentoo penguin (Pygoscelis papua)</td>\n",
       "      <td>Biscoe</td>\n",
       "      <td>124</td>\n",
       "      <td>69.354839</td>\n",
       "      <td>10.483871</td>\n",
       "      <td>20.161290</td>\n",
       "    </tr>\n",
       "    <tr>\n",
       "      <th>3</th>\n",
       "      <td>Adelie Penguin (Pygoscelis adeliae)</td>\n",
       "      <td>Biscoe</td>\n",
       "      <td>44</td>\n",
       "      <td>68.181818</td>\n",
       "      <td>11.363636</td>\n",
       "      <td>20.454545</td>\n",
       "    </tr>\n",
       "    <tr>\n",
       "      <th>4</th>\n",
       "      <td>Adelie Penguin (Pygoscelis adeliae)</td>\n",
       "      <td>Torgersen</td>\n",
       "      <td>52</td>\n",
       "      <td>69.230769</td>\n",
       "      <td>9.615385</td>\n",
       "      <td>21.153846</td>\n",
       "    </tr>\n",
       "  </tbody>\n",
       "</table>\n",
       "</div>"
      ],
      "text/plain": [
       "                                     species     island  count  TRAIN_PCT  \\\n",
       "0        Adelie Penguin (Pygoscelis adeliae)      Dream     56  69.642857   \n",
       "1  Chinstrap penguin (Pygoscelis antarctica)      Dream     68  69.117647   \n",
       "2          Gentoo penguin (Pygoscelis papua)     Biscoe    124  69.354839   \n",
       "3        Adelie Penguin (Pygoscelis adeliae)     Biscoe     44  68.181818   \n",
       "4        Adelie Penguin (Pygoscelis adeliae)  Torgersen     52  69.230769   \n",
       "\n",
       "    EVAL_PCT   TEST_PCT  \n",
       "0   8.928571  21.428571  \n",
       "1  10.294118  20.588235  \n",
       "2  10.483871  20.161290  \n",
       "3  11.363636  20.454545  \n",
       "4   9.615385  21.153846  "
      ]
     },
     "execution_count": 11,
     "metadata": {},
     "output_type": "execute_result"
    }
   ],
   "source": [
    "%%bigquery\n",
    "SELECT species, island,\n",
    "    COUNT(*) as count,\n",
    "    100 * COUNTIF(splits = 'TRAIN')/COUNT(*) AS TRAIN_PCT,\n",
    "    100 * COUNTIF(splits = 'EVAL')/COUNT(*) AS EVAL_PCT,\n",
    "    100 * COUNTIF(splits = 'TEST')/COUNT(*) AS TEST_PCT\n",
    "FROM `statmike-mlops-349915.bqml_model_monitoring.source_split`\n",
    "GROUP BY species, island"
   ]
  },
  {
   "cell_type": "markdown",
   "metadata": {
    "tags": []
   },
   "source": [
    "---\n",
    "## Feature Engineering\n",
    "\n",
    "To prepare for machine learning, the next step is transforming the columns into features - feature engineering.\n",
    "\n",
    "BigQuery provides many helpful functions for feature engineering as covered by this previous blog post: [How to use advanced feature engineering to preprocess data in BigQuery ML](https://cloud.google.com/blog/products/data-analytics/feature-engineering-inside-the-model-with-bigquery-and-vertex-ai).  The feature engineering steps will need to be repeated for future stages like evaluation, testing, and monitoring.  BigQuery ML models can do this automatically with inline transformations for models using the [`TRANSFORM` clause](https://cloud.google.com/bigquery/docs/reference/standard-sql/bigqueryml-syntax-create#transform).\n",
    "\n",
    "> **NOTE:** The accompanying [introduction notebook](link here) uses the inline transformation during model training. \n",
    "\n",
    "For this tutorial we will take advantage of modualar feature engineering with a [`TRANSFORM_ONLY` model](https://cloud.google.com/bigquery/docs/reference/standard-sql/bigqueryml-syntax-create-transform) as featured in this previous blog post: [Making BigQuery ML feature preprocessing reusable and modular](https://cloud.google.com/blog/products/data-analytics/how-bigquery-ml-does-feature-preprocessing).  The `TRANSFORM_ONLY` model can be reused anywhere - training multiple models, for prediction, evaluation, monitoring, and more!"
   ]
  },
  {
   "cell_type": "markdown",
   "metadata": {},
   "source": [
    "### Review the Training Split With: `ML.DESCRIBE_DATA`\n",
    "\n",
    "Use the new [ML.DESCRIBE_DATA](link here) to first review the training split of the source data.  This time, some of the additional parameters of the function are useful:\n",
    "- `top_k`: get the top 3 most frequent categories for string columns (default = 1)\n",
    "- `num_quantiles`: get 4 quantiles for numerical columns (default = 2)"
   ]
  },
  {
   "cell_type": "code",
   "execution_count": 12,
   "metadata": {
    "tags": []
   },
   "outputs": [
    {
     "data": {
      "application/vnd.jupyter.widget-view+json": {
       "model_id": "789373d7d08842ecb9303123d9d11e7b",
       "version_major": 2,
       "version_minor": 0
      },
      "text/plain": [
       "Query is running:   0%|          |"
      ]
     },
     "metadata": {},
     "output_type": "display_data"
    },
    {
     "data": {
      "application/vnd.jupyter.widget-view+json": {
       "model_id": "695725c003334e3d85217a73a819b7a0",
       "version_major": 2,
       "version_minor": 0
      },
      "text/plain": [
       "Downloading:   0%|          |"
      ]
     },
     "metadata": {},
     "output_type": "display_data"
    },
    {
     "data": {
      "text/html": [
       "<div>\n",
       "<style scoped>\n",
       "    .dataframe tbody tr th:only-of-type {\n",
       "        vertical-align: middle;\n",
       "    }\n",
       "\n",
       "    .dataframe tbody tr th {\n",
       "        vertical-align: top;\n",
       "    }\n",
       "\n",
       "    .dataframe thead th {\n",
       "        text-align: right;\n",
       "    }\n",
       "</style>\n",
       "<table border=\"1\" class=\"dataframe\">\n",
       "  <thead>\n",
       "    <tr style=\"text-align: right;\">\n",
       "      <th></th>\n",
       "      <th>name</th>\n",
       "      <th>num_rows</th>\n",
       "      <th>num_nulls</th>\n",
       "      <th>num_zeros</th>\n",
       "      <th>min</th>\n",
       "      <th>max</th>\n",
       "      <th>mean</th>\n",
       "      <th>stddev</th>\n",
       "      <th>median</th>\n",
       "      <th>quantiles</th>\n",
       "      <th>unique</th>\n",
       "      <th>avg_string_length</th>\n",
       "      <th>num_values</th>\n",
       "      <th>top_values</th>\n",
       "      <th>min_array_length</th>\n",
       "      <th>max_array_length</th>\n",
       "      <th>avg_array_length</th>\n",
       "      <th>total_array_length</th>\n",
       "      <th>array_length_quantiles</th>\n",
       "      <th>dimension</th>\n",
       "    </tr>\n",
       "  </thead>\n",
       "  <tbody>\n",
       "    <tr>\n",
       "      <th>0</th>\n",
       "      <td>body_mass_g</td>\n",
       "      <td>238</td>\n",
       "      <td>1</td>\n",
       "      <td>0</td>\n",
       "      <td>2700</td>\n",
       "      <td>6300</td>\n",
       "      <td>4185.232068</td>\n",
       "      <td>782.541737</td>\n",
       "      <td>4000.0</td>\n",
       "      <td>[2700.0, 3550.0, 4000.0, 4750.0, 6300.0]</td>\n",
       "      <td>&lt;NA&gt;</td>\n",
       "      <td>NaN</td>\n",
       "      <td>237</td>\n",
       "      <td>[]</td>\n",
       "      <td>&lt;NA&gt;</td>\n",
       "      <td>&lt;NA&gt;</td>\n",
       "      <td>NaN</td>\n",
       "      <td>&lt;NA&gt;</td>\n",
       "      <td>[]</td>\n",
       "      <td>&lt;NA&gt;</td>\n",
       "    </tr>\n",
       "    <tr>\n",
       "      <th>1</th>\n",
       "      <td>culmen_depth_mm</td>\n",
       "      <td>238</td>\n",
       "      <td>1</td>\n",
       "      <td>0</td>\n",
       "      <td>13.2</td>\n",
       "      <td>21.5</td>\n",
       "      <td>17.109705</td>\n",
       "      <td>1.960440</td>\n",
       "      <td>17.3</td>\n",
       "      <td>[13.2, 15.5, 17.3, 18.7, 21.5]</td>\n",
       "      <td>&lt;NA&gt;</td>\n",
       "      <td>NaN</td>\n",
       "      <td>237</td>\n",
       "      <td>[]</td>\n",
       "      <td>&lt;NA&gt;</td>\n",
       "      <td>&lt;NA&gt;</td>\n",
       "      <td>NaN</td>\n",
       "      <td>&lt;NA&gt;</td>\n",
       "      <td>[]</td>\n",
       "      <td>&lt;NA&gt;</td>\n",
       "    </tr>\n",
       "    <tr>\n",
       "      <th>2</th>\n",
       "      <td>culmen_length_mm</td>\n",
       "      <td>238</td>\n",
       "      <td>1</td>\n",
       "      <td>0</td>\n",
       "      <td>32.1</td>\n",
       "      <td>55.9</td>\n",
       "      <td>43.670886</td>\n",
       "      <td>5.499432</td>\n",
       "      <td>44.1</td>\n",
       "      <td>[32.1, 38.9, 44.1, 48.2, 55.9]</td>\n",
       "      <td>&lt;NA&gt;</td>\n",
       "      <td>NaN</td>\n",
       "      <td>237</td>\n",
       "      <td>[]</td>\n",
       "      <td>&lt;NA&gt;</td>\n",
       "      <td>&lt;NA&gt;</td>\n",
       "      <td>NaN</td>\n",
       "      <td>&lt;NA&gt;</td>\n",
       "      <td>[]</td>\n",
       "      <td>&lt;NA&gt;</td>\n",
       "    </tr>\n",
       "    <tr>\n",
       "      <th>3</th>\n",
       "      <td>flipper_length_mm</td>\n",
       "      <td>238</td>\n",
       "      <td>1</td>\n",
       "      <td>0</td>\n",
       "      <td>172</td>\n",
       "      <td>230</td>\n",
       "      <td>201.029536</td>\n",
       "      <td>14.096831</td>\n",
       "      <td>196.0</td>\n",
       "      <td>[172.0, 190.0, 197.0, 213.0, 230.0]</td>\n",
       "      <td>&lt;NA&gt;</td>\n",
       "      <td>NaN</td>\n",
       "      <td>237</td>\n",
       "      <td>[]</td>\n",
       "      <td>&lt;NA&gt;</td>\n",
       "      <td>&lt;NA&gt;</td>\n",
       "      <td>NaN</td>\n",
       "      <td>&lt;NA&gt;</td>\n",
       "      <td>[]</td>\n",
       "      <td>&lt;NA&gt;</td>\n",
       "    </tr>\n",
       "    <tr>\n",
       "      <th>4</th>\n",
       "      <td>island</td>\n",
       "      <td>238</td>\n",
       "      <td>0</td>\n",
       "      <td>&lt;NA&gt;</td>\n",
       "      <td>Biscoe</td>\n",
       "      <td>Torgersen</td>\n",
       "      <td>NaN</td>\n",
       "      <td>NaN</td>\n",
       "      <td>NaN</td>\n",
       "      <td>[]</td>\n",
       "      <td>3</td>\n",
       "      <td>6.092437</td>\n",
       "      <td>238</td>\n",
       "      <td>[{'value': 'Biscoe', 'count': 116}, {'value': ...</td>\n",
       "      <td>&lt;NA&gt;</td>\n",
       "      <td>&lt;NA&gt;</td>\n",
       "      <td>NaN</td>\n",
       "      <td>&lt;NA&gt;</td>\n",
       "      <td>[]</td>\n",
       "      <td>&lt;NA&gt;</td>\n",
       "    </tr>\n",
       "    <tr>\n",
       "      <th>5</th>\n",
       "      <td>sex</td>\n",
       "      <td>238</td>\n",
       "      <td>6</td>\n",
       "      <td>&lt;NA&gt;</td>\n",
       "      <td>FEMALE</td>\n",
       "      <td>MALE</td>\n",
       "      <td>NaN</td>\n",
       "      <td>NaN</td>\n",
       "      <td>NaN</td>\n",
       "      <td>[]</td>\n",
       "      <td>2</td>\n",
       "      <td>5.025862</td>\n",
       "      <td>232</td>\n",
       "      <td>[{'value': 'FEMALE', 'count': 119}, {'value': ...</td>\n",
       "      <td>&lt;NA&gt;</td>\n",
       "      <td>&lt;NA&gt;</td>\n",
       "      <td>NaN</td>\n",
       "      <td>&lt;NA&gt;</td>\n",
       "      <td>[]</td>\n",
       "      <td>&lt;NA&gt;</td>\n",
       "    </tr>\n",
       "    <tr>\n",
       "      <th>6</th>\n",
       "      <td>species</td>\n",
       "      <td>238</td>\n",
       "      <td>0</td>\n",
       "      <td>&lt;NA&gt;</td>\n",
       "      <td>Adelie Penguin (Pygoscelis adeliae)</td>\n",
       "      <td>Gentoo penguin (Pygoscelis papua)</td>\n",
       "      <td>NaN</td>\n",
       "      <td>NaN</td>\n",
       "      <td>NaN</td>\n",
       "      <td>[]</td>\n",
       "      <td>3</td>\n",
       "      <td>35.462185</td>\n",
       "      <td>238</td>\n",
       "      <td>[{'value': 'Adelie Penguin (Pygoscelis adeliae...</td>\n",
       "      <td>&lt;NA&gt;</td>\n",
       "      <td>&lt;NA&gt;</td>\n",
       "      <td>NaN</td>\n",
       "      <td>&lt;NA&gt;</td>\n",
       "      <td>[]</td>\n",
       "      <td>&lt;NA&gt;</td>\n",
       "    </tr>\n",
       "  </tbody>\n",
       "</table>\n",
       "</div>"
      ],
      "text/plain": [
       "                name  num_rows  num_nulls  num_zeros  \\\n",
       "0        body_mass_g       238          1          0   \n",
       "1    culmen_depth_mm       238          1          0   \n",
       "2   culmen_length_mm       238          1          0   \n",
       "3  flipper_length_mm       238          1          0   \n",
       "4             island       238          0       <NA>   \n",
       "5                sex       238          6       <NA>   \n",
       "6            species       238          0       <NA>   \n",
       "\n",
       "                                   min                                max  \\\n",
       "0                                 2700                               6300   \n",
       "1                                 13.2                               21.5   \n",
       "2                                 32.1                               55.9   \n",
       "3                                  172                                230   \n",
       "4                               Biscoe                          Torgersen   \n",
       "5                               FEMALE                               MALE   \n",
       "6  Adelie Penguin (Pygoscelis adeliae)  Gentoo penguin (Pygoscelis papua)   \n",
       "\n",
       "          mean      stddev  median                                 quantiles  \\\n",
       "0  4185.232068  782.541737  4000.0  [2700.0, 3550.0, 4000.0, 4750.0, 6300.0]   \n",
       "1    17.109705    1.960440    17.3            [13.2, 15.5, 17.3, 18.7, 21.5]   \n",
       "2    43.670886    5.499432    44.1            [32.1, 38.9, 44.1, 48.2, 55.9]   \n",
       "3   201.029536   14.096831   196.0       [172.0, 190.0, 197.0, 213.0, 230.0]   \n",
       "4          NaN         NaN     NaN                                        []   \n",
       "5          NaN         NaN     NaN                                        []   \n",
       "6          NaN         NaN     NaN                                        []   \n",
       "\n",
       "   unique  avg_string_length  num_values  \\\n",
       "0    <NA>                NaN         237   \n",
       "1    <NA>                NaN         237   \n",
       "2    <NA>                NaN         237   \n",
       "3    <NA>                NaN         237   \n",
       "4       3           6.092437         238   \n",
       "5       2           5.025862         232   \n",
       "6       3          35.462185         238   \n",
       "\n",
       "                                          top_values  min_array_length  \\\n",
       "0                                                 []              <NA>   \n",
       "1                                                 []              <NA>   \n",
       "2                                                 []              <NA>   \n",
       "3                                                 []              <NA>   \n",
       "4  [{'value': 'Biscoe', 'count': 116}, {'value': ...              <NA>   \n",
       "5  [{'value': 'FEMALE', 'count': 119}, {'value': ...              <NA>   \n",
       "6  [{'value': 'Adelie Penguin (Pygoscelis adeliae...              <NA>   \n",
       "\n",
       "   max_array_length  avg_array_length  total_array_length  \\\n",
       "0              <NA>               NaN                <NA>   \n",
       "1              <NA>               NaN                <NA>   \n",
       "2              <NA>               NaN                <NA>   \n",
       "3              <NA>               NaN                <NA>   \n",
       "4              <NA>               NaN                <NA>   \n",
       "5              <NA>               NaN                <NA>   \n",
       "6              <NA>               NaN                <NA>   \n",
       "\n",
       "  array_length_quantiles  dimension  \n",
       "0                     []       <NA>  \n",
       "1                     []       <NA>  \n",
       "2                     []       <NA>  \n",
       "3                     []       <NA>  \n",
       "4                     []       <NA>  \n",
       "5                     []       <NA>  \n",
       "6                     []       <NA>  "
      ]
     },
     "execution_count": 12,
     "metadata": {},
     "output_type": "execute_result"
    }
   ],
   "source": [
    "%%bigquery\n",
    "SELECT *\n",
    "FROM ML.DESCRIBE_DATA(\n",
    "    (\n",
    "        SELECT * EXCEPT(splits)\n",
    "        FROM `statmike-mlops-349915.bqml_model_monitoring.source_split`\n",
    "        WHERE splits = 'TRAIN'\n",
    "    ),\n",
    "    STRUCT(3 AS top_k, 4 AS num_quantiles)\n",
    ")"
   ]
  },
  {
   "cell_type": "markdown",
   "metadata": {},
   "source": [
    "### Create a `TRANSFORM_ONLY` Model\n",
    "\n",
    "[BigQuery ML](https://cloud.google.com/bigquery/docs/bqml-introduction) includes built ability to train model using a wide variety of model types by using the [`CREATE MODEL`](https://cloud.google.com/bigquery/docs/reference/standard-sql/bigqueryml-syntax-create) statement.  For a full overview of the available model choice check out the [end-to-end user journey for each model](https://cloud.google.com/bigquery/docs/e2e-journey).\n",
    "\n",
    "When using the `CREATE MODEL` statement feature engineering can be directly applied within the model with by using the [`TRANSFORM`](https://cloud.google.com/bigquery/docs/reference/standard-sql/bigqueryml-syntax-create#transform) clause to apply [preprocessing functions](https://cloud.google.com/bigquery/docs/manual-preprocessing).  Models trained this way will also apply the transformation during serving time.  You can even reuse just the transformations with the [`ML.TRANSFORM`](https://cloud.google.com/bigquery/docs/reference/standard-sql/bigqueryml-syntax-transform) function.\n",
    "\n",
    "For this workflow we [created a transform-only model](https://cloud.google.com/bigquery/docs/reference/standard-sql/bigqueryml-syntax-create-transform) specially for just feature engineering. The syntax is very similar to the other BigQuery ML model types.  It still uses the [`CREATE MODEL`](https://cloud.google.com/bigquery/docs/reference/standard-sql/bigqueryml-syntax-create) statement with the [`TRANSFORM`](https://cloud.google.com/bigquery/docs/reference/standard-sql/bigqueryml-syntax-create#transform) clause to apply [preprocessing functions](https://cloud.google.com/bigquery/docs/manual-preprocessing) but the only model option needed is `MODEL_TYPE = 'TRANSFORM_ONLY'`.  \n",
    "\n",
    "All of the options in the `TRANSFORM` statement will become part of the model and will remember any calculated parameters (like `mean` and `sd` for standardization).  This makes the transformation reusable with the [`ML.TRANSFORM`](https://cloud.google.com/bigquery/docs/reference/standard-sql/bigqueryml-syntax-transform) function.\n",
    "\n",
    "From reviewing the training data above, the following transformations are desired:\n",
    "- Apply [`ML.ROBUST_SCALER`](https://cloud.google.com/bigquery/docs/reference/standard-sql/bigqueryml-syntax-robust-scaler) to `body_mass_g`\n",
    "- Apply [`ML.STANDARD_SCALER`](https://cloud.google.com/bigquery/docs/reference/standard-sql/bigqueryml-syntax-standard-scaler) to `culmen_depth_mm` and `culmen_length_mm`\n",
    "- Apply [`ML.QUANTILE_BUCKATIZE`](https://cloud.google.com/bigquery/docs/reference/standard-sql/bigqueryml-syntax-quantile-bucketize) to `flipper_length_mm`\n",
    "- Apply [`ML.IMPUTER`](https://cloud.google.com/bigquery/docs/reference/standard-sql/bigqueryml-syntax-imputer) to `island`, and `sex`"
   ]
  },
  {
   "cell_type": "code",
   "execution_count": 13,
   "metadata": {
    "tags": []
   },
   "outputs": [
    {
     "data": {
      "application/vnd.jupyter.widget-view+json": {
       "model_id": "b98f3c177eec4eadb144d7239da71ba9",
       "version_major": 2,
       "version_minor": 0
      },
      "text/plain": [
       "Query is running:   0%|          |"
      ]
     },
     "metadata": {},
     "output_type": "display_data"
    },
    {
     "data": {
      "text/html": [
       "<div>\n",
       "<style scoped>\n",
       "    .dataframe tbody tr th:only-of-type {\n",
       "        vertical-align: middle;\n",
       "    }\n",
       "\n",
       "    .dataframe tbody tr th {\n",
       "        vertical-align: top;\n",
       "    }\n",
       "\n",
       "    .dataframe thead th {\n",
       "        text-align: right;\n",
       "    }\n",
       "</style>\n",
       "<table border=\"1\" class=\"dataframe\">\n",
       "  <thead>\n",
       "    <tr style=\"text-align: right;\">\n",
       "      <th></th>\n",
       "    </tr>\n",
       "  </thead>\n",
       "  <tbody>\n",
       "  </tbody>\n",
       "</table>\n",
       "</div>"
      ],
      "text/plain": [
       "Empty DataFrame\n",
       "Columns: []\n",
       "Index: []"
      ]
     },
     "execution_count": 13,
     "metadata": {},
     "output_type": "execute_result"
    }
   ],
   "source": [
    "%%bigquery\n",
    "CREATE OR REPLACE MODEL `statmike-mlops-349915.bqml_model_monitoring.feature_engineering`\n",
    "    TRANSFORM(\n",
    "        ML.ROBUST_SCALER(body_mass_g) OVER() AS body_mass_g,\n",
    "        ML.STANDARD_SCALER(culmen_length_mm) OVER() AS culmen_length_mm,\n",
    "        ML.STANDARD_SCALER(culmen_depth_mm) OVER() AS culmen_depth_mm,\n",
    "        ML.QUANTILE_BUCKETIZE(flipper_length_mm, 3) OVER() AS flipper_length_mm,\n",
    "        ML.IMPUTER(sex, 'most_frequent') OVER() AS sex,\n",
    "        ML.IMPUTER(island, 'most_frequent') OVER() AS island\n",
    "    )\n",
    "    OPTIONS(\n",
    "        model_type = 'TRANSFORM_ONLY'\n",
    "    )\n",
    "AS\n",
    "    SELECT * EXCEPT(splits, species)\n",
    "    FROM `statmike-mlops-349915.bqml_model_monitoring.source_split`\n",
    "    WHERE splits = 'TRAIN'"
   ]
  },
  {
   "cell_type": "markdown",
   "metadata": {},
   "source": [
    "### Review the Training Split - Transformed\n",
    "\n",
    "Now, use the `ML.DESCRIBE_DATA` function on the transformed data using the [`ML.TRANSFORM`](https://cloud.google.com/bigquery/docs/reference/standard-sql/bigqueryml-syntax-transform) function. Notice the scale of the transformed numeric columns is changed (`body_mass_g` for example), as the nulls are filled in for the string column `sex`."
   ]
  },
  {
   "cell_type": "code",
   "execution_count": 14,
   "metadata": {
    "tags": []
   },
   "outputs": [
    {
     "data": {
      "application/vnd.jupyter.widget-view+json": {
       "model_id": "4a23572153cd4211b2922bed7bda69c4",
       "version_major": 2,
       "version_minor": 0
      },
      "text/plain": [
       "Query is running:   0%|          |"
      ]
     },
     "metadata": {},
     "output_type": "display_data"
    },
    {
     "data": {
      "application/vnd.jupyter.widget-view+json": {
       "model_id": "766d010b9cb642f9b8396f126c25ece6",
       "version_major": 2,
       "version_minor": 0
      },
      "text/plain": [
       "Downloading:   0%|          |"
      ]
     },
     "metadata": {},
     "output_type": "display_data"
    },
    {
     "data": {
      "text/html": [
       "<div>\n",
       "<style scoped>\n",
       "    .dataframe tbody tr th:only-of-type {\n",
       "        vertical-align: middle;\n",
       "    }\n",
       "\n",
       "    .dataframe tbody tr th {\n",
       "        vertical-align: top;\n",
       "    }\n",
       "\n",
       "    .dataframe thead th {\n",
       "        text-align: right;\n",
       "    }\n",
       "</style>\n",
       "<table border=\"1\" class=\"dataframe\">\n",
       "  <thead>\n",
       "    <tr style=\"text-align: right;\">\n",
       "      <th></th>\n",
       "      <th>name</th>\n",
       "      <th>num_rows</th>\n",
       "      <th>num_nulls</th>\n",
       "      <th>num_zeros</th>\n",
       "      <th>min</th>\n",
       "      <th>max</th>\n",
       "      <th>mean</th>\n",
       "      <th>stddev</th>\n",
       "      <th>median</th>\n",
       "      <th>quantiles</th>\n",
       "      <th>unique</th>\n",
       "      <th>avg_string_length</th>\n",
       "      <th>num_values</th>\n",
       "      <th>top_values</th>\n",
       "      <th>min_array_length</th>\n",
       "      <th>max_array_length</th>\n",
       "      <th>avg_array_length</th>\n",
       "      <th>total_array_length</th>\n",
       "      <th>array_length_quantiles</th>\n",
       "      <th>dimension</th>\n",
       "    </tr>\n",
       "  </thead>\n",
       "  <tbody>\n",
       "    <tr>\n",
       "      <th>0</th>\n",
       "      <td>body_mass_g</td>\n",
       "      <td>238</td>\n",
       "      <td>1</td>\n",
       "      <td>4</td>\n",
       "      <td>-1.0833333333333333</td>\n",
       "      <td>1.9166666666666667</td>\n",
       "      <td>0.154360</td>\n",
       "      <td>0.652118</td>\n",
       "      <td>0.000000</td>\n",
       "      <td>[-1.0833333333333333, -0.375, 0.0, 0.625, 1.91...</td>\n",
       "      <td>&lt;NA&gt;</td>\n",
       "      <td>NaN</td>\n",
       "      <td>237</td>\n",
       "      <td>[]</td>\n",
       "      <td>&lt;NA&gt;</td>\n",
       "      <td>&lt;NA&gt;</td>\n",
       "      <td>NaN</td>\n",
       "      <td>&lt;NA&gt;</td>\n",
       "      <td>[]</td>\n",
       "      <td>&lt;NA&gt;</td>\n",
       "    </tr>\n",
       "    <tr>\n",
       "      <th>1</th>\n",
       "      <td>culmen_depth_mm</td>\n",
       "      <td>238</td>\n",
       "      <td>1</td>\n",
       "      <td>0</td>\n",
       "      <td>-1.9942971985880726</td>\n",
       "      <td>2.2394462467609313</td>\n",
       "      <td>0.000002</td>\n",
       "      <td>1.000000</td>\n",
       "      <td>0.097070</td>\n",
       "      <td>[-1.9942971985880726, -0.8210911836118423, 0.0...</td>\n",
       "      <td>&lt;NA&gt;</td>\n",
       "      <td>NaN</td>\n",
       "      <td>237</td>\n",
       "      <td>[]</td>\n",
       "      <td>&lt;NA&gt;</td>\n",
       "      <td>&lt;NA&gt;</td>\n",
       "      <td>NaN</td>\n",
       "      <td>&lt;NA&gt;</td>\n",
       "      <td>[]</td>\n",
       "      <td>&lt;NA&gt;</td>\n",
       "    </tr>\n",
       "    <tr>\n",
       "      <th>2</th>\n",
       "      <td>culmen_length_mm</td>\n",
       "      <td>238</td>\n",
       "      <td>1</td>\n",
       "      <td>0</td>\n",
       "      <td>-2.1040180527800154</td>\n",
       "      <td>2.2237031837845005</td>\n",
       "      <td>-0.000003</td>\n",
       "      <td>1.000000</td>\n",
       "      <td>0.078026</td>\n",
       "      <td>[-2.1040180527800154, -0.86752627090444, 0.078...</td>\n",
       "      <td>&lt;NA&gt;</td>\n",
       "      <td>NaN</td>\n",
       "      <td>237</td>\n",
       "      <td>[]</td>\n",
       "      <td>&lt;NA&gt;</td>\n",
       "      <td>&lt;NA&gt;</td>\n",
       "      <td>NaN</td>\n",
       "      <td>&lt;NA&gt;</td>\n",
       "      <td>[]</td>\n",
       "      <td>&lt;NA&gt;</td>\n",
       "    </tr>\n",
       "    <tr>\n",
       "      <th>3</th>\n",
       "      <td>flipper_length_mm</td>\n",
       "      <td>238</td>\n",
       "      <td>1</td>\n",
       "      <td>&lt;NA&gt;</td>\n",
       "      <td>bin_1</td>\n",
       "      <td>bin_3</td>\n",
       "      <td>NaN</td>\n",
       "      <td>NaN</td>\n",
       "      <td>NaN</td>\n",
       "      <td>[]</td>\n",
       "      <td>3</td>\n",
       "      <td>5.000000</td>\n",
       "      <td>237</td>\n",
       "      <td>[{'value': 'bin_2', 'count': 85}, {'value': 'b...</td>\n",
       "      <td>&lt;NA&gt;</td>\n",
       "      <td>&lt;NA&gt;</td>\n",
       "      <td>NaN</td>\n",
       "      <td>&lt;NA&gt;</td>\n",
       "      <td>[]</td>\n",
       "      <td>&lt;NA&gt;</td>\n",
       "    </tr>\n",
       "    <tr>\n",
       "      <th>4</th>\n",
       "      <td>island</td>\n",
       "      <td>238</td>\n",
       "      <td>0</td>\n",
       "      <td>&lt;NA&gt;</td>\n",
       "      <td>Biscoe</td>\n",
       "      <td>Torgersen</td>\n",
       "      <td>NaN</td>\n",
       "      <td>NaN</td>\n",
       "      <td>NaN</td>\n",
       "      <td>[]</td>\n",
       "      <td>3</td>\n",
       "      <td>6.092437</td>\n",
       "      <td>238</td>\n",
       "      <td>[{'value': 'Biscoe', 'count': 116}, {'value': ...</td>\n",
       "      <td>&lt;NA&gt;</td>\n",
       "      <td>&lt;NA&gt;</td>\n",
       "      <td>NaN</td>\n",
       "      <td>&lt;NA&gt;</td>\n",
       "      <td>[]</td>\n",
       "      <td>&lt;NA&gt;</td>\n",
       "    </tr>\n",
       "    <tr>\n",
       "      <th>5</th>\n",
       "      <td>sex</td>\n",
       "      <td>238</td>\n",
       "      <td>0</td>\n",
       "      <td>&lt;NA&gt;</td>\n",
       "      <td>FEMALE</td>\n",
       "      <td>MALE</td>\n",
       "      <td>NaN</td>\n",
       "      <td>NaN</td>\n",
       "      <td>NaN</td>\n",
       "      <td>[]</td>\n",
       "      <td>2</td>\n",
       "      <td>5.050420</td>\n",
       "      <td>238</td>\n",
       "      <td>[{'value': 'FEMALE', 'count': 125}, {'value': ...</td>\n",
       "      <td>&lt;NA&gt;</td>\n",
       "      <td>&lt;NA&gt;</td>\n",
       "      <td>NaN</td>\n",
       "      <td>&lt;NA&gt;</td>\n",
       "      <td>[]</td>\n",
       "      <td>&lt;NA&gt;</td>\n",
       "    </tr>\n",
       "  </tbody>\n",
       "</table>\n",
       "</div>"
      ],
      "text/plain": [
       "                name  num_rows  num_nulls  num_zeros                  min  \\\n",
       "0        body_mass_g       238          1          4  -1.0833333333333333   \n",
       "1    culmen_depth_mm       238          1          0  -1.9942971985880726   \n",
       "2   culmen_length_mm       238          1          0  -2.1040180527800154   \n",
       "3  flipper_length_mm       238          1       <NA>                bin_1   \n",
       "4             island       238          0       <NA>               Biscoe   \n",
       "5                sex       238          0       <NA>               FEMALE   \n",
       "\n",
       "                  max      mean    stddev    median  \\\n",
       "0  1.9166666666666667  0.154360  0.652118  0.000000   \n",
       "1  2.2394462467609313  0.000002  1.000000  0.097070   \n",
       "2  2.2237031837845005 -0.000003  1.000000  0.078026   \n",
       "3               bin_3       NaN       NaN       NaN   \n",
       "4           Torgersen       NaN       NaN       NaN   \n",
       "5                MALE       NaN       NaN       NaN   \n",
       "\n",
       "                                           quantiles  unique  \\\n",
       "0  [-1.0833333333333333, -0.375, 0.0, 0.625, 1.91...    <NA>   \n",
       "1  [-1.9942971985880726, -0.8210911836118423, 0.0...    <NA>   \n",
       "2  [-2.1040180527800154, -0.86752627090444, 0.078...    <NA>   \n",
       "3                                                 []       3   \n",
       "4                                                 []       3   \n",
       "5                                                 []       2   \n",
       "\n",
       "   avg_string_length  num_values  \\\n",
       "0                NaN         237   \n",
       "1                NaN         237   \n",
       "2                NaN         237   \n",
       "3           5.000000         237   \n",
       "4           6.092437         238   \n",
       "5           5.050420         238   \n",
       "\n",
       "                                          top_values  min_array_length  \\\n",
       "0                                                 []              <NA>   \n",
       "1                                                 []              <NA>   \n",
       "2                                                 []              <NA>   \n",
       "3  [{'value': 'bin_2', 'count': 85}, {'value': 'b...              <NA>   \n",
       "4  [{'value': 'Biscoe', 'count': 116}, {'value': ...              <NA>   \n",
       "5  [{'value': 'FEMALE', 'count': 125}, {'value': ...              <NA>   \n",
       "\n",
       "   max_array_length  avg_array_length  total_array_length  \\\n",
       "0              <NA>               NaN                <NA>   \n",
       "1              <NA>               NaN                <NA>   \n",
       "2              <NA>               NaN                <NA>   \n",
       "3              <NA>               NaN                <NA>   \n",
       "4              <NA>               NaN                <NA>   \n",
       "5              <NA>               NaN                <NA>   \n",
       "\n",
       "  array_length_quantiles  dimension  \n",
       "0                     []       <NA>  \n",
       "1                     []       <NA>  \n",
       "2                     []       <NA>  \n",
       "3                     []       <NA>  \n",
       "4                     []       <NA>  \n",
       "5                     []       <NA>  "
      ]
     },
     "execution_count": 14,
     "metadata": {},
     "output_type": "execute_result"
    }
   ],
   "source": [
    "%%bigquery\n",
    "SELECT *\n",
    "FROM ML.DESCRIBE_DATA(\n",
    "    (\n",
    "        SELECT *\n",
    "        FROM ML.TRANSFORM(\n",
    "            MODEL `statmike-mlops-349915.bqml_model_monitoring.feature_engineering`,\n",
    "            (\n",
    "                SELECT * EXCEPT(splits, species)\n",
    "                FROM `statmike-mlops-349915.bqml_model_monitoring.source_split`\n",
    "                WHERE splits = 'TRAIN'\n",
    "            )\n",
    "        )\n",
    "    ),\n",
    "    STRUCT(3 AS top_k, 4 AS num_quantiles)\n",
    ")"
   ]
  },
  {
   "cell_type": "markdown",
   "metadata": {
    "tags": []
   },
   "source": [
    "---\n",
    "## Model Training\n",
    "\n",
    "Create a model trained to classify `species` for the traning records.  Here, directly in BigQuery, the [`CREATE MODEL` statement for deep neural network (DNN) models](https://cloud.google.com/bigquery/docs/reference/standard-sql/bigqueryml-syntax-create-dnn-models) is used.  Rather than using the `TRANSFORM` clause within the model, the pre-built `TRANSFORM_ONLY` model from above is used on the the input records for the model.  Just as later on in the workflow the `TRANSFORM_ONLY` model will be used for evaluations, predictions, and even monitoring!\n",
    "\n",
    "\n",
    "> Note: This runs for about 15-16 minutes"
   ]
  },
  {
   "cell_type": "code",
   "execution_count": 10,
   "metadata": {
    "tags": []
   },
   "outputs": [
    {
     "data": {
      "application/vnd.jupyter.widget-view+json": {
       "model_id": "b1cef13c396e455d8b852b1b083260f9",
       "version_major": 2,
       "version_minor": 0
      },
      "text/plain": [
       "Query is running:   0%|          |"
      ]
     },
     "metadata": {},
     "output_type": "display_data"
    },
    {
     "data": {
      "text/html": [
       "<div>\n",
       "<style scoped>\n",
       "    .dataframe tbody tr th:only-of-type {\n",
       "        vertical-align: middle;\n",
       "    }\n",
       "\n",
       "    .dataframe tbody tr th {\n",
       "        vertical-align: top;\n",
       "    }\n",
       "\n",
       "    .dataframe thead th {\n",
       "        text-align: right;\n",
       "    }\n",
       "</style>\n",
       "<table border=\"1\" class=\"dataframe\">\n",
       "  <thead>\n",
       "    <tr style=\"text-align: right;\">\n",
       "      <th></th>\n",
       "    </tr>\n",
       "  </thead>\n",
       "  <tbody>\n",
       "  </tbody>\n",
       "</table>\n",
       "</div>"
      ],
      "text/plain": [
       "Empty DataFrame\n",
       "Columns: []\n",
       "Index: []"
      ]
     },
     "execution_count": 10,
     "metadata": {},
     "output_type": "execute_result"
    }
   ],
   "source": [
    "%%bigquery\n",
    "CREATE MODEL IF NOT EXISTS `statmike-mlops-349915.bqml_model_monitoring.classify_species_dnn`\n",
    "    OPTIONS(\n",
    "        MODEL_TYPE = 'DNN_CLASSIFIER',\n",
    "        INPUT_LABEL_COLS = ['species'],\n",
    "        \n",
    "        # data specifics\n",
    "        DATA_SPLIT_METHOD = 'CUSTOM',\n",
    "        DATA_SPLIT_COL = 'split',\n",
    "        \n",
    "        # model specifics\n",
    "        AUTO_CLASS_WEIGHTS = TRUE,\n",
    "        HIDDEN_UNITS = [128, 128, 128]\n",
    "    )\n",
    "AS\n",
    "    SELECT * EXCEPT(splits),\n",
    "        CASE WHEN splits = 'TRAIN' THEN FALSE\n",
    "        ELSE TRUE END AS split\n",
    "    FROM ML.TRANSFORM(\n",
    "        MODEL `statmike-mlops-349915.bqml_model_monitoring.feature_engineering`,\n",
    "        (\n",
    "            SELECT *\n",
    "            FROM `statmike-mlops-349915.bqml_model_monitoring.source_split`\n",
    "            WHERE splits != 'TEST'\n",
    "        )\n",
    "    )    "
   ]
  },
  {
   "cell_type": "code",
   "execution_count": 11,
   "metadata": {
    "tags": []
   },
   "outputs": [
    {
     "data": {
      "application/vnd.jupyter.widget-view+json": {
       "model_id": "976445539c354f15a0ce87204dedc546",
       "version_major": 2,
       "version_minor": 0
      },
      "text/plain": [
       "Query is running:   0%|          |"
      ]
     },
     "metadata": {},
     "output_type": "display_data"
    },
    {
     "data": {
      "application/vnd.jupyter.widget-view+json": {
       "model_id": "988fe121f69b4ec88d97a9ea64731327",
       "version_major": 2,
       "version_minor": 0
      },
      "text/plain": [
       "Downloading:   0%|          |"
      ]
     },
     "metadata": {},
     "output_type": "display_data"
    }
   ],
   "source": [
    "%%bigquery history\n",
    "SELECT *\n",
    "FROM ML.TRAINING_INFO(MODEL `statmike-mlops-349915.bqml_model_monitoring.classify_species_dnn`)\n",
    "ORDER BY iteration"
   ]
  },
  {
   "cell_type": "code",
   "execution_count": 12,
   "metadata": {
    "tags": []
   },
   "outputs": [
    {
     "data": {
      "text/plain": [
       "<Axes: xlabel='iteration'>"
      ]
     },
     "execution_count": 12,
     "metadata": {},
     "output_type": "execute_result"
    },
    {
     "data": {
      "image/png": "[encoded data removed]",
      "text/plain": [
       "<Figure size 800x200 with 1 Axes>"
      ]
     },
     "metadata": {},
     "output_type": "display_data"
    }
   ],
   "source": [
    "history.plot(x = 'iteration', y = ['loss','eval_loss'], figsize = (8, 2), grid = True)"
   ]
  },
  {
   "cell_type": "code",
   "execution_count": 13,
   "metadata": {
    "tags": []
   },
   "outputs": [
    {
     "data": {
      "text/plain": [
       "<Axes: xlabel='iteration'>"
      ]
     },
     "execution_count": 13,
     "metadata": {},
     "output_type": "execute_result"
    },
    {
     "data": {
      "image/png": "[encoded data removed]",
      "text/plain": [
       "<Figure size 800x200 with 1 Axes>"
      ]
     },
     "metadata": {},
     "output_type": "display_data"
    }
   ],
   "source": [
    "history.iloc[4:].plot(x = 'iteration', y = ['loss','eval_loss'], figsize = (8, 2), grid = True)"
   ]
  },
  {
   "cell_type": "markdown",
   "metadata": {},
   "source": [
    "### Evaluation With `ML.EVALUATE`\n",
    "\n",
    "BigQuery ML models can be directly evaluated with the [`ML.EVALUATE` function](https://cloud.google.com/bigquery/docs/reference/standard-sql/bigqueryml-syntax-evaluate).  The evaluation of the model on evaluation data specified during training can be done by just specifying the model.  To evaluate the model on new data, like a `TEST` split or even the `TRAIN` split, the records can be specified with a query statement as seen in the following evaluations.\n",
    "\n",
    "> An evaluation split with 10% of records was created above.  This set would normally be used for tuning model hyperparameters, like `BATCH_SIZE`, `DROPOUT`, `HIDDEN_UNITS`, `LEARN_RATE`, and/or `OPTIMIZER` in the case of the DNN used here.  This could also be done directly in the BigQuery `CREATE MODEL` statement with [hyperparameter tuning](https://cloud.google.com/bigquery/docs/hp-tuning-overview)."
   ]
  },
  {
   "cell_type": "code",
   "execution_count": 17,
   "metadata": {
    "tags": []
   },
   "outputs": [
    {
     "data": {
      "application/vnd.jupyter.widget-view+json": {
       "model_id": "7e69a8b1155a4daf88c71350285dfa76",
       "version_major": 2,
       "version_minor": 0
      },
      "text/plain": [
       "Query is running:   0%|          |"
      ]
     },
     "metadata": {},
     "output_type": "display_data"
    },
    {
     "data": {
      "application/vnd.jupyter.widget-view+json": {
       "model_id": "a15f9e58c9d04cbca8e9027a431be379",
       "version_major": 2,
       "version_minor": 0
      },
      "text/plain": [
       "Downloading:   0%|          |"
      ]
     },
     "metadata": {},
     "output_type": "display_data"
    },
    {
     "data": {
      "text/html": [
       "<div>\n",
       "<style scoped>\n",
       "    .dataframe tbody tr th:only-of-type {\n",
       "        vertical-align: middle;\n",
       "    }\n",
       "\n",
       "    .dataframe tbody tr th {\n",
       "        vertical-align: top;\n",
       "    }\n",
       "\n",
       "    .dataframe thead th {\n",
       "        text-align: right;\n",
       "    }\n",
       "</style>\n",
       "<table border=\"1\" class=\"dataframe\">\n",
       "  <thead>\n",
       "    <tr style=\"text-align: right;\">\n",
       "      <th></th>\n",
       "      <th>precision</th>\n",
       "      <th>recall</th>\n",
       "      <th>accuracy</th>\n",
       "      <th>f1_score</th>\n",
       "      <th>log_loss</th>\n",
       "      <th>roc_auc</th>\n",
       "    </tr>\n",
       "  </thead>\n",
       "  <tbody>\n",
       "    <tr>\n",
       "      <th>0</th>\n",
       "      <td>1.0</td>\n",
       "      <td>1.0</td>\n",
       "      <td>1.0</td>\n",
       "      <td>1.0</td>\n",
       "      <td>0.005496</td>\n",
       "      <td>1.0</td>\n",
       "    </tr>\n",
       "  </tbody>\n",
       "</table>\n",
       "</div>"
      ],
      "text/plain": [
       "   precision  recall  accuracy  f1_score  log_loss  roc_auc\n",
       "0        1.0     1.0       1.0       1.0  0.005496      1.0"
      ]
     },
     "execution_count": 17,
     "metadata": {},
     "output_type": "execute_result"
    }
   ],
   "source": [
    "%%bigquery\n",
    "SELECT *\n",
    "FROM ML.EVALUATE (\n",
    "    MODEL `statmike-mlops-349915.bqml_model_monitoring.classify_species_dnn`\n",
    ")"
   ]
  },
  {
   "cell_type": "markdown",
   "metadata": {},
   "source": [
    "### Evaluate The Model: Training Data Split (`TRAIN`)\n",
    "\n",
    "Evaluating the model on the training data is good for setting a baseline for the likely best possible performance of the model.  "
   ]
  },
  {
   "cell_type": "code",
   "execution_count": 28,
   "metadata": {
    "tags": []
   },
   "outputs": [
    {
     "data": {
      "application/vnd.jupyter.widget-view+json": {
       "model_id": "51eb0e9cd7304dfdaad880b6d88b593d",
       "version_major": 2,
       "version_minor": 0
      },
      "text/plain": [
       "Query is running:   0%|          |"
      ]
     },
     "metadata": {},
     "output_type": "display_data"
    },
    {
     "data": {
      "application/vnd.jupyter.widget-view+json": {
       "model_id": "5efb872016d34e9190143774ab18ac46",
       "version_major": 2,
       "version_minor": 0
      },
      "text/plain": [
       "Downloading:   0%|          |"
      ]
     },
     "metadata": {},
     "output_type": "display_data"
    },
    {
     "data": {
      "text/html": [
       "<div>\n",
       "<style scoped>\n",
       "    .dataframe tbody tr th:only-of-type {\n",
       "        vertical-align: middle;\n",
       "    }\n",
       "\n",
       "    .dataframe tbody tr th {\n",
       "        vertical-align: top;\n",
       "    }\n",
       "\n",
       "    .dataframe thead th {\n",
       "        text-align: right;\n",
       "    }\n",
       "</style>\n",
       "<table border=\"1\" class=\"dataframe\">\n",
       "  <thead>\n",
       "    <tr style=\"text-align: right;\">\n",
       "      <th></th>\n",
       "      <th>precision</th>\n",
       "      <th>recall</th>\n",
       "      <th>accuracy</th>\n",
       "      <th>f1_score</th>\n",
       "      <th>log_loss</th>\n",
       "      <th>roc_auc</th>\n",
       "    </tr>\n",
       "  </thead>\n",
       "  <tbody>\n",
       "    <tr>\n",
       "      <th>0</th>\n",
       "      <td>1.0</td>\n",
       "      <td>1.0</td>\n",
       "      <td>1.0</td>\n",
       "      <td>1.0</td>\n",
       "      <td>0.00215</td>\n",
       "      <td>1.0</td>\n",
       "    </tr>\n",
       "  </tbody>\n",
       "</table>\n",
       "</div>"
      ],
      "text/plain": [
       "   precision  recall  accuracy  f1_score  log_loss  roc_auc\n",
       "0        1.0     1.0       1.0       1.0   0.00215      1.0"
      ]
     },
     "execution_count": 28,
     "metadata": {},
     "output_type": "execute_result"
    }
   ],
   "source": [
    "%%bigquery\n",
    "WITH\n",
    "    INSTANCES AS (\n",
    "        SELECT *\n",
    "        FROM ML.TRANSFORM(\n",
    "            MODEL `statmike-mlops-349915.bqml_model_monitoring.feature_engineering`,\n",
    "            (\n",
    "                SELECT *\n",
    "                FROM `statmike-mlops-349915.bqml_model_monitoring.source_split`\n",
    "                WHERE splits = 'TRAIN'\n",
    "            )\n",
    "        ) \n",
    "    )\n",
    "SELECT *\n",
    "FROM ML.EVALUATE (\n",
    "    MODEL `statmike-mlops-349915.bqml_model_monitoring.classify_species_dnn`,\n",
    "    (SELECT * FROM INSTANCES)\n",
    ")"
   ]
  },
  {
   "cell_type": "markdown",
   "metadata": {},
   "source": [
    "### Evaluate The Model: `TEST` Data Split\n",
    "\n",
    "Evaluating the model on the `TEST` split is a good gauge of performance in general as it represents data the model was not exposed to during training: "
   ]
  },
  {
   "cell_type": "code",
   "execution_count": 29,
   "metadata": {
    "tags": []
   },
   "outputs": [
    {
     "data": {
      "application/vnd.jupyter.widget-view+json": {
       "model_id": "3ca3e44e244b496089c591f72bd19f36",
       "version_major": 2,
       "version_minor": 0
      },
      "text/plain": [
       "Query is running:   0%|          |"
      ]
     },
     "metadata": {},
     "output_type": "display_data"
    },
    {
     "data": {
      "application/vnd.jupyter.widget-view+json": {
       "model_id": "6f2c1fe55b7b42ffa2e49072f1373057",
       "version_major": 2,
       "version_minor": 0
      },
      "text/plain": [
       "Downloading:   0%|          |"
      ]
     },
     "metadata": {},
     "output_type": "display_data"
    },
    {
     "data": {
      "text/html": [
       "<div>\n",
       "<style scoped>\n",
       "    .dataframe tbody tr th:only-of-type {\n",
       "        vertical-align: middle;\n",
       "    }\n",
       "\n",
       "    .dataframe tbody tr th {\n",
       "        vertical-align: top;\n",
       "    }\n",
       "\n",
       "    .dataframe thead th {\n",
       "        text-align: right;\n",
       "    }\n",
       "</style>\n",
       "<table border=\"1\" class=\"dataframe\">\n",
       "  <thead>\n",
       "    <tr style=\"text-align: right;\">\n",
       "      <th></th>\n",
       "      <th>precision</th>\n",
       "      <th>recall</th>\n",
       "      <th>accuracy</th>\n",
       "      <th>f1_score</th>\n",
       "      <th>log_loss</th>\n",
       "      <th>roc_auc</th>\n",
       "    </tr>\n",
       "  </thead>\n",
       "  <tbody>\n",
       "    <tr>\n",
       "      <th>0</th>\n",
       "      <td>1.0</td>\n",
       "      <td>1.0</td>\n",
       "      <td>1.0</td>\n",
       "      <td>1.0</td>\n",
       "      <td>0.016535</td>\n",
       "      <td>1.0</td>\n",
       "    </tr>\n",
       "  </tbody>\n",
       "</table>\n",
       "</div>"
      ],
      "text/plain": [
       "   precision  recall  accuracy  f1_score  log_loss  roc_auc\n",
       "0        1.0     1.0       1.0       1.0  0.016535      1.0"
      ]
     },
     "execution_count": 29,
     "metadata": {},
     "output_type": "execute_result"
    }
   ],
   "source": [
    "%%bigquery\n",
    "WITH\n",
    "    INSTANCES AS (\n",
    "        SELECT *\n",
    "        FROM ML.TRANSFORM(\n",
    "            MODEL `statmike-mlops-349915.bqml_model_monitoring.feature_engineering`,\n",
    "            (\n",
    "                SELECT *\n",
    "                FROM `statmike-mlops-349915.bqml_model_monitoring.source_split`\n",
    "                WHERE splits = 'TEST'\n",
    "            )\n",
    "        ) \n",
    "    )\n",
    "SELECT *\n",
    "FROM ML.EVALUATE (\n",
    "    MODEL `statmike-mlops-349915.bqml_model_monitoring.classify_species_dnn`,\n",
    "    (SELECT * FROM INSTANCES)\n",
    ")"
   ]
  },
  {
   "cell_type": "markdown",
   "metadata": {},
   "source": [
    "### Evaluate The Classification Performance with `ML.CONFUSION_MATRIX`\n",
    "\n",
    "This model is a classification model and reviewing the true versus predicted classification categories can be done with the [`ML.CONFUSION_MATRIX` function](https://cloud.google.com/bigquery/docs/reference/standard-sql/bigqueryml-syntax-confusion)."
   ]
  },
  {
   "cell_type": "code",
   "execution_count": 30,
   "metadata": {
    "tags": []
   },
   "outputs": [
    {
     "data": {
      "application/vnd.jupyter.widget-view+json": {
       "model_id": "04f41ed543884fcf87cfc65d59a5ad6c",
       "version_major": 2,
       "version_minor": 0
      },
      "text/plain": [
       "Query is running:   0%|          |"
      ]
     },
     "metadata": {},
     "output_type": "display_data"
    },
    {
     "data": {
      "application/vnd.jupyter.widget-view+json": {
       "model_id": "7b899b2b9f7f49ada08e2825b2d2aa92",
       "version_major": 2,
       "version_minor": 0
      },
      "text/plain": [
       "Downloading:   0%|          |"
      ]
     },
     "metadata": {},
     "output_type": "display_data"
    },
    {
     "data": {
      "text/html": [
       "<div>\n",
       "<style scoped>\n",
       "    .dataframe tbody tr th:only-of-type {\n",
       "        vertical-align: middle;\n",
       "    }\n",
       "\n",
       "    .dataframe tbody tr th {\n",
       "        vertical-align: top;\n",
       "    }\n",
       "\n",
       "    .dataframe thead th {\n",
       "        text-align: right;\n",
       "    }\n",
       "</style>\n",
       "<table border=\"1\" class=\"dataframe\">\n",
       "  <thead>\n",
       "    <tr style=\"text-align: right;\">\n",
       "      <th></th>\n",
       "      <th>expected_label</th>\n",
       "      <th>Adelie_Penguin__Pygoscelis_adeliae_</th>\n",
       "      <th>Chinstrap_penguin__Pygoscelis_antarctica_</th>\n",
       "      <th>Gentoo_penguin__Pygoscelis_papua_</th>\n",
       "    </tr>\n",
       "  </thead>\n",
       "  <tbody>\n",
       "    <tr>\n",
       "      <th>0</th>\n",
       "      <td>Adelie Penguin (Pygoscelis adeliae)</td>\n",
       "      <td>15</td>\n",
       "      <td>0</td>\n",
       "      <td>0</td>\n",
       "    </tr>\n",
       "    <tr>\n",
       "      <th>1</th>\n",
       "      <td>Chinstrap penguin (Pygoscelis antarctica)</td>\n",
       "      <td>0</td>\n",
       "      <td>7</td>\n",
       "      <td>0</td>\n",
       "    </tr>\n",
       "    <tr>\n",
       "      <th>2</th>\n",
       "      <td>Gentoo penguin (Pygoscelis papua)</td>\n",
       "      <td>0</td>\n",
       "      <td>0</td>\n",
       "      <td>13</td>\n",
       "    </tr>\n",
       "  </tbody>\n",
       "</table>\n",
       "</div>"
      ],
      "text/plain": [
       "                              expected_label  \\\n",
       "0        Adelie Penguin (Pygoscelis adeliae)   \n",
       "1  Chinstrap penguin (Pygoscelis antarctica)   \n",
       "2          Gentoo penguin (Pygoscelis papua)   \n",
       "\n",
       "   Adelie_Penguin__Pygoscelis_adeliae_  \\\n",
       "0                                   15   \n",
       "1                                    0   \n",
       "2                                    0   \n",
       "\n",
       "   Chinstrap_penguin__Pygoscelis_antarctica_  \\\n",
       "0                                          0   \n",
       "1                                          7   \n",
       "2                                          0   \n",
       "\n",
       "   Gentoo_penguin__Pygoscelis_papua_  \n",
       "0                                  0  \n",
       "1                                  0  \n",
       "2                                 13  "
      ]
     },
     "execution_count": 30,
     "metadata": {},
     "output_type": "execute_result"
    }
   ],
   "source": [
    "%%bigquery\n",
    "SELECT *\n",
    "FROM ML.CONFUSION_MATRIX (\n",
    "    MODEL `statmike-mlops-349915.bqml_model_monitoring.classify_species_dnn`\n",
    ")"
   ]
  },
  {
   "cell_type": "code",
   "execution_count": 31,
   "metadata": {
    "tags": []
   },
   "outputs": [
    {
     "data": {
      "application/vnd.jupyter.widget-view+json": {
       "model_id": "0e3467cdfa3348c183ffb3043b5c073b",
       "version_major": 2,
       "version_minor": 0
      },
      "text/plain": [
       "Query is running:   0%|          |"
      ]
     },
     "metadata": {},
     "output_type": "display_data"
    },
    {
     "data": {
      "application/vnd.jupyter.widget-view+json": {
       "model_id": "e8722be202de46668c984f309508aa39",
       "version_major": 2,
       "version_minor": 0
      },
      "text/plain": [
       "Downloading:   0%|          |"
      ]
     },
     "metadata": {},
     "output_type": "display_data"
    },
    {
     "data": {
      "text/html": [
       "<div>\n",
       "<style scoped>\n",
       "    .dataframe tbody tr th:only-of-type {\n",
       "        vertical-align: middle;\n",
       "    }\n",
       "\n",
       "    .dataframe tbody tr th {\n",
       "        vertical-align: top;\n",
       "    }\n",
       "\n",
       "    .dataframe thead th {\n",
       "        text-align: right;\n",
       "    }\n",
       "</style>\n",
       "<table border=\"1\" class=\"dataframe\">\n",
       "  <thead>\n",
       "    <tr style=\"text-align: right;\">\n",
       "      <th></th>\n",
       "      <th>expected_label</th>\n",
       "      <th>Adelie_Penguin__Pygoscelis_adeliae_</th>\n",
       "      <th>Chinstrap_penguin__Pygoscelis_antarctica_</th>\n",
       "      <th>Gentoo_penguin__Pygoscelis_papua_</th>\n",
       "    </tr>\n",
       "  </thead>\n",
       "  <tbody>\n",
       "    <tr>\n",
       "      <th>0</th>\n",
       "      <td>Adelie Penguin (Pygoscelis adeliae)</td>\n",
       "      <td>105</td>\n",
       "      <td>0</td>\n",
       "      <td>0</td>\n",
       "    </tr>\n",
       "    <tr>\n",
       "      <th>1</th>\n",
       "      <td>Chinstrap penguin (Pygoscelis antarctica)</td>\n",
       "      <td>0</td>\n",
       "      <td>47</td>\n",
       "      <td>0</td>\n",
       "    </tr>\n",
       "    <tr>\n",
       "      <th>2</th>\n",
       "      <td>Gentoo penguin (Pygoscelis papua)</td>\n",
       "      <td>0</td>\n",
       "      <td>0</td>\n",
       "      <td>86</td>\n",
       "    </tr>\n",
       "  </tbody>\n",
       "</table>\n",
       "</div>"
      ],
      "text/plain": [
       "                              expected_label  \\\n",
       "0        Adelie Penguin (Pygoscelis adeliae)   \n",
       "1  Chinstrap penguin (Pygoscelis antarctica)   \n",
       "2          Gentoo penguin (Pygoscelis papua)   \n",
       "\n",
       "   Adelie_Penguin__Pygoscelis_adeliae_  \\\n",
       "0                                  105   \n",
       "1                                    0   \n",
       "2                                    0   \n",
       "\n",
       "   Chinstrap_penguin__Pygoscelis_antarctica_  \\\n",
       "0                                          0   \n",
       "1                                         47   \n",
       "2                                          0   \n",
       "\n",
       "   Gentoo_penguin__Pygoscelis_papua_  \n",
       "0                                  0  \n",
       "1                                  0  \n",
       "2                                 86  "
      ]
     },
     "execution_count": 31,
     "metadata": {},
     "output_type": "execute_result"
    }
   ],
   "source": [
    "%%bigquery\n",
    "WITH\n",
    "    INSTANCES AS (\n",
    "        SELECT *\n",
    "        FROM ML.TRANSFORM(\n",
    "            MODEL `statmike-mlops-349915.bqml_model_monitoring.feature_engineering`,\n",
    "            (\n",
    "                SELECT *\n",
    "                FROM `statmike-mlops-349915.bqml_model_monitoring.source_split`\n",
    "                WHERE splits = 'TRAIN'\n",
    "            )\n",
    "        ) \n",
    "    )\n",
    "SELECT *\n",
    "FROM ML.CONFUSION_MATRIX (\n",
    "    MODEL `statmike-mlops-349915.bqml_model_monitoring.classify_species_dnn`,\n",
    "    (SELECT * FROM INSTANCES)\n",
    ")"
   ]
  },
  {
   "cell_type": "code",
   "execution_count": 32,
   "metadata": {
    "tags": []
   },
   "outputs": [
    {
     "data": {
      "application/vnd.jupyter.widget-view+json": {
       "model_id": "4630943a3c5f4254acd3361adaa8aff6",
       "version_major": 2,
       "version_minor": 0
      },
      "text/plain": [
       "Query is running:   0%|          |"
      ]
     },
     "metadata": {},
     "output_type": "display_data"
    },
    {
     "data": {
      "application/vnd.jupyter.widget-view+json": {
       "model_id": "5af572fb675a4fc6b4e26a76de812c41",
       "version_major": 2,
       "version_minor": 0
      },
      "text/plain": [
       "Downloading:   0%|          |"
      ]
     },
     "metadata": {},
     "output_type": "display_data"
    },
    {
     "data": {
      "text/html": [
       "<div>\n",
       "<style scoped>\n",
       "    .dataframe tbody tr th:only-of-type {\n",
       "        vertical-align: middle;\n",
       "    }\n",
       "\n",
       "    .dataframe tbody tr th {\n",
       "        vertical-align: top;\n",
       "    }\n",
       "\n",
       "    .dataframe thead th {\n",
       "        text-align: right;\n",
       "    }\n",
       "</style>\n",
       "<table border=\"1\" class=\"dataframe\">\n",
       "  <thead>\n",
       "    <tr style=\"text-align: right;\">\n",
       "      <th></th>\n",
       "      <th>expected_label</th>\n",
       "      <th>Adelie_Penguin__Pygoscelis_adeliae_</th>\n",
       "      <th>Chinstrap_penguin__Pygoscelis_antarctica_</th>\n",
       "      <th>Gentoo_penguin__Pygoscelis_papua_</th>\n",
       "    </tr>\n",
       "  </thead>\n",
       "  <tbody>\n",
       "    <tr>\n",
       "      <th>0</th>\n",
       "      <td>Adelie Penguin (Pygoscelis adeliae)</td>\n",
       "      <td>32</td>\n",
       "      <td>0</td>\n",
       "      <td>0</td>\n",
       "    </tr>\n",
       "    <tr>\n",
       "      <th>1</th>\n",
       "      <td>Chinstrap penguin (Pygoscelis antarctica)</td>\n",
       "      <td>0</td>\n",
       "      <td>14</td>\n",
       "      <td>0</td>\n",
       "    </tr>\n",
       "    <tr>\n",
       "      <th>2</th>\n",
       "      <td>Gentoo penguin (Pygoscelis papua)</td>\n",
       "      <td>0</td>\n",
       "      <td>0</td>\n",
       "      <td>25</td>\n",
       "    </tr>\n",
       "  </tbody>\n",
       "</table>\n",
       "</div>"
      ],
      "text/plain": [
       "                              expected_label  \\\n",
       "0        Adelie Penguin (Pygoscelis adeliae)   \n",
       "1  Chinstrap penguin (Pygoscelis antarctica)   \n",
       "2          Gentoo penguin (Pygoscelis papua)   \n",
       "\n",
       "   Adelie_Penguin__Pygoscelis_adeliae_  \\\n",
       "0                                   32   \n",
       "1                                    0   \n",
       "2                                    0   \n",
       "\n",
       "   Chinstrap_penguin__Pygoscelis_antarctica_  \\\n",
       "0                                          0   \n",
       "1                                         14   \n",
       "2                                          0   \n",
       "\n",
       "   Gentoo_penguin__Pygoscelis_papua_  \n",
       "0                                  0  \n",
       "1                                  0  \n",
       "2                                 25  "
      ]
     },
     "execution_count": 32,
     "metadata": {},
     "output_type": "execute_result"
    }
   ],
   "source": [
    "%%bigquery\n",
    "WITH\n",
    "    INSTANCES AS (\n",
    "        SELECT *\n",
    "        FROM ML.TRANSFORM(\n",
    "            MODEL `statmike-mlops-349915.bqml_model_monitoring.feature_engineering`,\n",
    "            (\n",
    "                SELECT *\n",
    "                FROM `statmike-mlops-349915.bqml_model_monitoring.source_split`\n",
    "                WHERE splits = 'TEST'\n",
    "            )\n",
    "        ) \n",
    "    )\n",
    "SELECT *\n",
    "FROM ML.CONFUSION_MATRIX (\n",
    "    MODEL `statmike-mlops-349915.bqml_model_monitoring.classify_species_dnn`,\n",
    "    (SELECT * FROM INSTANCES)\n",
    ")"
   ]
  },
  {
   "cell_type": "markdown",
   "metadata": {
    "tags": []
   },
   "source": [
    "---\n",
    "## Model Serving\n",
    "\n",
    "Once a version of the model is trusted to serve predictions we can put it into use.  At first, this means creating and using predictions from the model.  This is quickly followed by important considerations:\n",
    "\n",
    ">Has the system that is being measured, that creates the data, or that records the data changed in a way that could impact the models ability to correctly predict/classify?\n",
    "\n",
    "It seems like a good idea to continously run evaluations to make sure the model accuracy does not degrade - and it is.  There can be a lag between new data and knowing the actual outcome which makes using using evaluations to monitor models a potentially reactive, or late signal.  To overcome this we can also monitor the model.  More on this later on below."
   ]
  },
  {
   "cell_type": "markdown",
   "metadata": {},
   "source": [
    "### Predictions With `ML.PREDICT`\n",
    "\n",
    "Use [`ML.PREDICT`](https://cloud.google.com/bigquery/docs/reference/standard-sql/bigqueryml-syntax-predict) to serve predictions with the model directly in BigQuery."
   ]
  },
  {
   "cell_type": "code",
   "execution_count": 24,
   "metadata": {},
   "outputs": [
    {
     "data": {
      "application/vnd.jupyter.widget-view+json": {
       "model_id": "74d92ccaffb746ba9963f509f6ef5129",
       "version_major": 2,
       "version_minor": 0
      },
      "text/plain": [
       "Query is running:   0%|          |"
      ]
     },
     "metadata": {},
     "output_type": "display_data"
    },
    {
     "data": {
      "application/vnd.jupyter.widget-view+json": {
       "model_id": "50a21fc9a9c14c6eb47e8572c8a503e7",
       "version_major": 2,
       "version_minor": 0
      },
      "text/plain": [
       "Downloading:   0%|          |"
      ]
     },
     "metadata": {},
     "output_type": "display_data"
    },
    {
     "data": {
      "text/html": [
       "<div>\n",
       "<style scoped>\n",
       "    .dataframe tbody tr th:only-of-type {\n",
       "        vertical-align: middle;\n",
       "    }\n",
       "\n",
       "    .dataframe tbody tr th {\n",
       "        vertical-align: top;\n",
       "    }\n",
       "\n",
       "    .dataframe thead th {\n",
       "        text-align: right;\n",
       "    }\n",
       "</style>\n",
       "<table border=\"1\" class=\"dataframe\">\n",
       "  <thead>\n",
       "    <tr style=\"text-align: right;\">\n",
       "      <th></th>\n",
       "      <th>predicted_species</th>\n",
       "      <th>predicted_species_probs</th>\n",
       "      <th>body_mass_g</th>\n",
       "      <th>culmen_length_mm</th>\n",
       "      <th>culmen_depth_mm</th>\n",
       "      <th>flipper_length_mm</th>\n",
       "      <th>sex</th>\n",
       "      <th>island</th>\n",
       "      <th>species</th>\n",
       "      <th>splits</th>\n",
       "    </tr>\n",
       "  </thead>\n",
       "  <tbody>\n",
       "    <tr>\n",
       "      <th>0</th>\n",
       "      <td>Adelie Penguin (Pygoscelis adeliae)</td>\n",
       "      <td>[{'label': 'Gentoo penguin (Pygoscelis papua)'...</td>\n",
       "      <td>NaN</td>\n",
       "      <td>NaN</td>\n",
       "      <td>NaN</td>\n",
       "      <td>None</td>\n",
       "      <td>FEMALE</td>\n",
       "      <td>Torgersen</td>\n",
       "      <td>Adelie Penguin (Pygoscelis adeliae)</td>\n",
       "      <td>TEST</td>\n",
       "    </tr>\n",
       "    <tr>\n",
       "      <th>1</th>\n",
       "      <td>Gentoo penguin (Pygoscelis papua)</td>\n",
       "      <td>[{'label': 'Gentoo penguin (Pygoscelis papua)'...</td>\n",
       "      <td>0.04</td>\n",
       "      <td>0.109492</td>\n",
       "      <td>-1.408811</td>\n",
       "      <td>bin_3</td>\n",
       "      <td>FEMALE</td>\n",
       "      <td>Biscoe</td>\n",
       "      <td>Gentoo penguin (Pygoscelis papua)</td>\n",
       "      <td>TEST</td>\n",
       "    </tr>\n",
       "    <tr>\n",
       "      <th>2</th>\n",
       "      <td>Gentoo penguin (Pygoscelis papua)</td>\n",
       "      <td>[{'label': 'Gentoo penguin (Pygoscelis papua)'...</td>\n",
       "      <td>0.66</td>\n",
       "      <td>0.109492</td>\n",
       "      <td>-0.716448</td>\n",
       "      <td>bin_3</td>\n",
       "      <td>FEMALE</td>\n",
       "      <td>Biscoe</td>\n",
       "      <td>Gentoo penguin (Pygoscelis papua)</td>\n",
       "      <td>TEST</td>\n",
       "    </tr>\n",
       "    <tr>\n",
       "      <th>3</th>\n",
       "      <td>Adelie Penguin (Pygoscelis adeliae)</td>\n",
       "      <td>[{'label': 'Gentoo penguin (Pygoscelis papua)'...</td>\n",
       "      <td>-0.28</td>\n",
       "      <td>-1.113980</td>\n",
       "      <td>0.074825</td>\n",
       "      <td>bin_1</td>\n",
       "      <td>FEMALE</td>\n",
       "      <td>Torgersen</td>\n",
       "      <td>Adelie Penguin (Pygoscelis adeliae)</td>\n",
       "      <td>TEST</td>\n",
       "    </tr>\n",
       "    <tr>\n",
       "      <th>4</th>\n",
       "      <td>Adelie Penguin (Pygoscelis adeliae)</td>\n",
       "      <td>[{'label': 'Gentoo penguin (Pygoscelis papua)'...</td>\n",
       "      <td>-0.40</td>\n",
       "      <td>-0.767025</td>\n",
       "      <td>0.866097</td>\n",
       "      <td>bin_1</td>\n",
       "      <td>MALE</td>\n",
       "      <td>Biscoe</td>\n",
       "      <td>Adelie Penguin (Pygoscelis adeliae)</td>\n",
       "      <td>TEST</td>\n",
       "    </tr>\n",
       "  </tbody>\n",
       "</table>\n",
       "</div>"
      ],
      "text/plain": [
       "                     predicted_species  \\\n",
       "0  Adelie Penguin (Pygoscelis adeliae)   \n",
       "1    Gentoo penguin (Pygoscelis papua)   \n",
       "2    Gentoo penguin (Pygoscelis papua)   \n",
       "3  Adelie Penguin (Pygoscelis adeliae)   \n",
       "4  Adelie Penguin (Pygoscelis adeliae)   \n",
       "\n",
       "                             predicted_species_probs  body_mass_g  \\\n",
       "0  [{'label': 'Gentoo penguin (Pygoscelis papua)'...          NaN   \n",
       "1  [{'label': 'Gentoo penguin (Pygoscelis papua)'...         0.04   \n",
       "2  [{'label': 'Gentoo penguin (Pygoscelis papua)'...         0.66   \n",
       "3  [{'label': 'Gentoo penguin (Pygoscelis papua)'...        -0.28   \n",
       "4  [{'label': 'Gentoo penguin (Pygoscelis papua)'...        -0.40   \n",
       "\n",
       "   culmen_length_mm  culmen_depth_mm flipper_length_mm     sex     island  \\\n",
       "0               NaN              NaN              None  FEMALE  Torgersen   \n",
       "1          0.109492        -1.408811             bin_3  FEMALE     Biscoe   \n",
       "2          0.109492        -0.716448             bin_3  FEMALE     Biscoe   \n",
       "3         -1.113980         0.074825             bin_1  FEMALE  Torgersen   \n",
       "4         -0.767025         0.866097             bin_1    MALE     Biscoe   \n",
       "\n",
       "                               species splits  \n",
       "0  Adelie Penguin (Pygoscelis adeliae)   TEST  \n",
       "1    Gentoo penguin (Pygoscelis papua)   TEST  \n",
       "2    Gentoo penguin (Pygoscelis papua)   TEST  \n",
       "3  Adelie Penguin (Pygoscelis adeliae)   TEST  \n",
       "4  Adelie Penguin (Pygoscelis adeliae)   TEST  "
      ]
     },
     "execution_count": 24,
     "metadata": {},
     "output_type": "execute_result"
    }
   ],
   "source": [
    "%%bigquery\n",
    "WITH\n",
    "    INSTANCES AS (\n",
    "        SELECT *\n",
    "        FROM ML.TRANSFORM(\n",
    "            MODEL `statmike-mlops-349915.bqml_model_monitoring.feature_engineering`,\n",
    "            (\n",
    "                SELECT *\n",
    "                FROM `statmike-mlops-349915.bqml_model_monitoring.source_split`\n",
    "                WHERE splits = 'TEST'\n",
    "            )\n",
    "        ) \n",
    "    )\n",
    "SELECT *\n",
    "FROM ML.PREDICT(\n",
    "    MODEL `statmike-mlops-349915.bqml_model_monitoring.classify_species_dnn`,\n",
    "    (\n",
    "        SELECT *\n",
    "        FROM INSTANCES\n",
    "        LIMIT 5\n",
    "    )\n",
    ")"
   ]
  },
  {
   "cell_type": "markdown",
   "metadata": {
    "tags": []
   },
   "source": [
    "---\n",
    "## Serving Data\n",
    "\n",
    "The data source for training and evaluation represents what is known about a system at a point-in-time.  In real world systems measurements can change for many reasons, for example:\n",
    "- training/serving skew due to measurement and data systems:\n",
    "    - the tool used for measurement may change resulting is slight shifts and variations\n",
    "    - the system reporting results might be updated and introduce errors like rearranging the order or parameters and format of the results\n",
    "    - the data processing systems might have changes that alter the calculations of measurements\n",
    "- the system, environment, or subjects being measured may:\n",
    "    - change behaviors\n",
    "    - short-term even forces change\n",
    "    - have environmental changes that impact them\n",
    "    - have seasonal changes that were not represented in the training data\n",
    "    - change in general due to upstream causes"
   ]
  },
  {
   "cell_type": "markdown",
   "metadata": {},
   "source": [
    "### Introduce Changes Over Time\n",
    "\n",
    "To illustrate the impact of change over time, the following code creates a new set of data from the test split.  It creates a series of changes to measurements for each of the past 30 days.  In each case, the values of the parameters `flipper_length_mm` and `body_mass_g` are allowed to slightly increase which can accumulate over the timespan. This might mimic a potential growth season for the penguins that might not have been represented in the training data.  \n",
    "\n",
    "\n",
    "One possible data architeuctre for feature management is collecting feature changes in a sparse table - a history table.  In this form the changes are accompanied by a timestamp.  To collapse feature data for a subject into a single record at a point-inn-time there are several BigQuery functions to simplify this action.  With this in mind, for this example only changes are written to the table and each row inserted is marked with the timestamp in the column `feature_timestamp`.  The penguin the measurement is for is noted in the new column `entity_id`. "
   ]
  },
  {
   "cell_type": "code",
   "execution_count": 33,
   "metadata": {
    "tags": []
   },
   "outputs": [
    {
     "data": {
      "application/vnd.jupyter.widget-view+json": {
       "model_id": "33ded7dd44e34f0db8fd4c387d540f50",
       "version_major": 2,
       "version_minor": 0
      },
      "text/plain": [
       "Query is running:   0%|          |"
      ]
     },
     "metadata": {},
     "output_type": "display_data"
    },
    {
     "data": {
      "text/html": [
       "<div>\n",
       "<style scoped>\n",
       "    .dataframe tbody tr th:only-of-type {\n",
       "        vertical-align: middle;\n",
       "    }\n",
       "\n",
       "    .dataframe tbody tr th {\n",
       "        vertical-align: top;\n",
       "    }\n",
       "\n",
       "    .dataframe thead th {\n",
       "        text-align: right;\n",
       "    }\n",
       "</style>\n",
       "<table border=\"1\" class=\"dataframe\">\n",
       "  <thead>\n",
       "    <tr style=\"text-align: right;\">\n",
       "      <th></th>\n",
       "    </tr>\n",
       "  </thead>\n",
       "  <tbody>\n",
       "  </tbody>\n",
       "</table>\n",
       "</div>"
      ],
      "text/plain": [
       "Empty DataFrame\n",
       "Columns: []\n",
       "Index: []"
      ]
     },
     "execution_count": 33,
     "metadata": {},
     "output_type": "execute_result"
    }
   ],
   "source": [
    "%%bigquery\n",
    "DECLARE counter INT64 DEFAULT 30;\n",
    "\n",
    "# actual data as starting point - add entity_id, and feature_timestamp:\n",
    "CREATE OR REPLACE TABLE `statmike-mlops-349915.bqml_model_monitoring.production` AS\n",
    "    SELECT * EXCEPT(splits),\n",
    "        CAST(ROW_NUMBER() OVER() AS STRING) AS entity_id,\n",
    "        TIMESTAMP_SUB(CURRENT_TIMESTAMP(), INTERVAL counter+1 DAY) AS feature_timestamp\n",
    "    FROM `statmike-mlops-349915.bqml_model_monitoring.source_split`\n",
    "    WHERE splits = 'TEST';\n",
    "\n",
    "LOOP\n",
    "    SET counter = counter - 1;\n",
    "    IF counter < 0 THEN LEAVE;\n",
    "    END IF;\n",
    "    INSERT `statmike-mlops-349915.bqml_model_monitoring.production` (entity_id, feature_timestamp, flipper_length_mm)\n",
    "        SELECT entity_id,\n",
    "            TIMESTAMP_SUB(CURRENT_TIMESTAMP(), INTERVAL counter+1 DAY) AS feature_timestamp,\n",
    "            flipper_length_mm + 4*(RAND()-0.1) AS flipper_length_mm\n",
    "        FROM ML.FEATURES_AT_TIME(\n",
    "            TABLE `statmike-mlops-349915.bqml_model_monitoring.production`,\n",
    "            time => CURRENT_TIMESTAMP(),\n",
    "            num_rows => 1,\n",
    "            ignore_feature_nulls => TRUE\n",
    "        )\n",
    "        WHERE RAND() < 0.4;\n",
    "    INSERT `statmike-mlops-349915.bqml_model_monitoring.production` (entity_id, feature_timestamp, body_mass_g)\n",
    "        SELECT entity_id,\n",
    "            TIMESTAMP_SUB(CURRENT_TIMESTAMP(), INTERVAL counter+1 DAY) AS feature_timestamp,\n",
    "            body_mass_g + 80*(RAND()-0.1) AS body_mass_g\n",
    "        FROM ML.FEATURES_AT_TIME(\n",
    "            TABLE `statmike-mlops-349915.bqml_model_monitoring.production`,\n",
    "            time => CURRENT_TIMESTAMP(),\n",
    "            num_rows => 1,\n",
    "            ignore_feature_nulls => TRUE\n",
    "        )\n",
    "        WHERE RAND() < 0.70;\n",
    "END LOOP;"
   ]
  },
  {
   "cell_type": "markdown",
   "metadata": {},
   "source": [
    "### Review The Raw Feature History: For a Single Penguin\n",
    "\n",
    "Reviewing the history for one penugin, `entity_id = '1'` shows a history of changes to the features `flipper_length_mm` and `body_mass_g`. The other features are unchanged and noted as null values.  This is a time table or history table for the features.  In the sections that follow, this table will be used to extract feature values at points-in-time."
   ]
  },
  {
   "cell_type": "code",
   "execution_count": 43,
   "metadata": {
    "tags": []
   },
   "outputs": [
    {
     "data": {
      "application/vnd.jupyter.widget-view+json": {
       "model_id": "e7d15d3dd37545b28e396e8193cc45b2",
       "version_major": 2,
       "version_minor": 0
      },
      "text/plain": [
       "Query is running:   0%|          |"
      ]
     },
     "metadata": {},
     "output_type": "display_data"
    },
    {
     "data": {
      "application/vnd.jupyter.widget-view+json": {
       "model_id": "7d1942821fa048c2aedac23222388dac",
       "version_major": 2,
       "version_minor": 0
      },
      "text/plain": [
       "Downloading:   0%|          |"
      ]
     },
     "metadata": {},
     "output_type": "display_data"
    },
    {
     "data": {
      "text/html": [
       "<div>\n",
       "<style scoped>\n",
       "    .dataframe tbody tr th:only-of-type {\n",
       "        vertical-align: middle;\n",
       "    }\n",
       "\n",
       "    .dataframe tbody tr th {\n",
       "        vertical-align: top;\n",
       "    }\n",
       "\n",
       "    .dataframe thead th {\n",
       "        text-align: right;\n",
       "    }\n",
       "</style>\n",
       "<table border=\"1\" class=\"dataframe\">\n",
       "  <thead>\n",
       "    <tr style=\"text-align: right;\">\n",
       "      <th></th>\n",
       "      <th>species</th>\n",
       "      <th>island</th>\n",
       "      <th>culmen_length_mm</th>\n",
       "      <th>culmen_depth_mm</th>\n",
       "      <th>flipper_length_mm</th>\n",
       "      <th>body_mass_g</th>\n",
       "      <th>sex</th>\n",
       "      <th>entity_id</th>\n",
       "      <th>feature_timestamp</th>\n",
       "    </tr>\n",
       "  </thead>\n",
       "  <tbody>\n",
       "    <tr>\n",
       "      <th>0</th>\n",
       "      <td>Adelie Penguin (Pygoscelis adeliae)</td>\n",
       "      <td>Torgersen</td>\n",
       "      <td>NaN</td>\n",
       "      <td>NaN</td>\n",
       "      <td>NaN</td>\n",
       "      <td>NaN</td>\n",
       "      <td>None</td>\n",
       "      <td>1</td>\n",
       "      <td>2024-03-04 14:14:24.656924+00:00</td>\n",
       "    </tr>\n",
       "    <tr>\n",
       "      <th>1</th>\n",
       "      <td>None</td>\n",
       "      <td>None</td>\n",
       "      <td>NaN</td>\n",
       "      <td>NaN</td>\n",
       "      <td>NaN</td>\n",
       "      <td>NaN</td>\n",
       "      <td>None</td>\n",
       "      <td>1</td>\n",
       "      <td>2024-03-05 14:14:27.803600+00:00</td>\n",
       "    </tr>\n",
       "    <tr>\n",
       "      <th>2</th>\n",
       "      <td>None</td>\n",
       "      <td>None</td>\n",
       "      <td>NaN</td>\n",
       "      <td>NaN</td>\n",
       "      <td>NaN</td>\n",
       "      <td>NaN</td>\n",
       "      <td>None</td>\n",
       "      <td>1</td>\n",
       "      <td>2024-03-05 14:14:30.533996+00:00</td>\n",
       "    </tr>\n",
       "    <tr>\n",
       "      <th>3</th>\n",
       "      <td>None</td>\n",
       "      <td>None</td>\n",
       "      <td>NaN</td>\n",
       "      <td>NaN</td>\n",
       "      <td>NaN</td>\n",
       "      <td>NaN</td>\n",
       "      <td>None</td>\n",
       "      <td>1</td>\n",
       "      <td>2024-03-06 14:14:37.165137+00:00</td>\n",
       "    </tr>\n",
       "    <tr>\n",
       "      <th>4</th>\n",
       "      <td>None</td>\n",
       "      <td>None</td>\n",
       "      <td>NaN</td>\n",
       "      <td>NaN</td>\n",
       "      <td>NaN</td>\n",
       "      <td>NaN</td>\n",
       "      <td>None</td>\n",
       "      <td>1</td>\n",
       "      <td>2024-03-08 14:14:47.577282+00:00</td>\n",
       "    </tr>\n",
       "    <tr>\n",
       "      <th>5</th>\n",
       "      <td>None</td>\n",
       "      <td>None</td>\n",
       "      <td>NaN</td>\n",
       "      <td>NaN</td>\n",
       "      <td>NaN</td>\n",
       "      <td>NaN</td>\n",
       "      <td>None</td>\n",
       "      <td>1</td>\n",
       "      <td>2024-03-09 14:14:57.622038+00:00</td>\n",
       "    </tr>\n",
       "    <tr>\n",
       "      <th>6</th>\n",
       "      <td>None</td>\n",
       "      <td>None</td>\n",
       "      <td>NaN</td>\n",
       "      <td>NaN</td>\n",
       "      <td>NaN</td>\n",
       "      <td>NaN</td>\n",
       "      <td>None</td>\n",
       "      <td>1</td>\n",
       "      <td>2024-03-10 14:15:04.178237+00:00</td>\n",
       "    </tr>\n",
       "    <tr>\n",
       "      <th>7</th>\n",
       "      <td>None</td>\n",
       "      <td>None</td>\n",
       "      <td>NaN</td>\n",
       "      <td>NaN</td>\n",
       "      <td>NaN</td>\n",
       "      <td>NaN</td>\n",
       "      <td>None</td>\n",
       "      <td>1</td>\n",
       "      <td>2024-03-11 14:15:07.560597+00:00</td>\n",
       "    </tr>\n",
       "    <tr>\n",
       "      <th>8</th>\n",
       "      <td>None</td>\n",
       "      <td>None</td>\n",
       "      <td>NaN</td>\n",
       "      <td>NaN</td>\n",
       "      <td>NaN</td>\n",
       "      <td>NaN</td>\n",
       "      <td>None</td>\n",
       "      <td>1</td>\n",
       "      <td>2024-03-11 14:15:10.758457+00:00</td>\n",
       "    </tr>\n",
       "    <tr>\n",
       "      <th>9</th>\n",
       "      <td>None</td>\n",
       "      <td>None</td>\n",
       "      <td>NaN</td>\n",
       "      <td>NaN</td>\n",
       "      <td>NaN</td>\n",
       "      <td>NaN</td>\n",
       "      <td>None</td>\n",
       "      <td>1</td>\n",
       "      <td>2024-03-12 14:15:18.313534+00:00</td>\n",
       "    </tr>\n",
       "    <tr>\n",
       "      <th>10</th>\n",
       "      <td>None</td>\n",
       "      <td>None</td>\n",
       "      <td>NaN</td>\n",
       "      <td>NaN</td>\n",
       "      <td>NaN</td>\n",
       "      <td>NaN</td>\n",
       "      <td>None</td>\n",
       "      <td>1</td>\n",
       "      <td>2024-03-13 14:15:22.243316+00:00</td>\n",
       "    </tr>\n",
       "    <tr>\n",
       "      <th>11</th>\n",
       "      <td>None</td>\n",
       "      <td>None</td>\n",
       "      <td>NaN</td>\n",
       "      <td>NaN</td>\n",
       "      <td>NaN</td>\n",
       "      <td>NaN</td>\n",
       "      <td>None</td>\n",
       "      <td>1</td>\n",
       "      <td>2024-03-13 14:15:25.442450+00:00</td>\n",
       "    </tr>\n",
       "    <tr>\n",
       "      <th>12</th>\n",
       "      <td>None</td>\n",
       "      <td>None</td>\n",
       "      <td>NaN</td>\n",
       "      <td>NaN</td>\n",
       "      <td>NaN</td>\n",
       "      <td>NaN</td>\n",
       "      <td>None</td>\n",
       "      <td>1</td>\n",
       "      <td>2024-03-14 14:15:32.523670+00:00</td>\n",
       "    </tr>\n",
       "    <tr>\n",
       "      <th>13</th>\n",
       "      <td>None</td>\n",
       "      <td>None</td>\n",
       "      <td>NaN</td>\n",
       "      <td>NaN</td>\n",
       "      <td>NaN</td>\n",
       "      <td>NaN</td>\n",
       "      <td>None</td>\n",
       "      <td>1</td>\n",
       "      <td>2024-03-15 14:15:38.855719+00:00</td>\n",
       "    </tr>\n",
       "    <tr>\n",
       "      <th>14</th>\n",
       "      <td>None</td>\n",
       "      <td>None</td>\n",
       "      <td>NaN</td>\n",
       "      <td>NaN</td>\n",
       "      <td>NaN</td>\n",
       "      <td>NaN</td>\n",
       "      <td>None</td>\n",
       "      <td>1</td>\n",
       "      <td>2024-03-16 14:15:42.467999+00:00</td>\n",
       "    </tr>\n",
       "    <tr>\n",
       "      <th>15</th>\n",
       "      <td>None</td>\n",
       "      <td>None</td>\n",
       "      <td>NaN</td>\n",
       "      <td>NaN</td>\n",
       "      <td>NaN</td>\n",
       "      <td>NaN</td>\n",
       "      <td>None</td>\n",
       "      <td>1</td>\n",
       "      <td>2024-03-16 14:15:45.992873+00:00</td>\n",
       "    </tr>\n",
       "    <tr>\n",
       "      <th>16</th>\n",
       "      <td>None</td>\n",
       "      <td>None</td>\n",
       "      <td>NaN</td>\n",
       "      <td>NaN</td>\n",
       "      <td>NaN</td>\n",
       "      <td>NaN</td>\n",
       "      <td>None</td>\n",
       "      <td>1</td>\n",
       "      <td>2024-03-18 14:16:00.300016+00:00</td>\n",
       "    </tr>\n",
       "    <tr>\n",
       "      <th>17</th>\n",
       "      <td>None</td>\n",
       "      <td>None</td>\n",
       "      <td>NaN</td>\n",
       "      <td>NaN</td>\n",
       "      <td>NaN</td>\n",
       "      <td>NaN</td>\n",
       "      <td>None</td>\n",
       "      <td>1</td>\n",
       "      <td>2024-03-19 14:16:04.183302+00:00</td>\n",
       "    </tr>\n",
       "    <tr>\n",
       "      <th>18</th>\n",
       "      <td>None</td>\n",
       "      <td>None</td>\n",
       "      <td>NaN</td>\n",
       "      <td>NaN</td>\n",
       "      <td>NaN</td>\n",
       "      <td>NaN</td>\n",
       "      <td>None</td>\n",
       "      <td>1</td>\n",
       "      <td>2024-03-20 14:16:10.808012+00:00</td>\n",
       "    </tr>\n",
       "    <tr>\n",
       "      <th>19</th>\n",
       "      <td>None</td>\n",
       "      <td>None</td>\n",
       "      <td>NaN</td>\n",
       "      <td>NaN</td>\n",
       "      <td>NaN</td>\n",
       "      <td>NaN</td>\n",
       "      <td>None</td>\n",
       "      <td>1</td>\n",
       "      <td>2024-03-21 14:16:21.634002+00:00</td>\n",
       "    </tr>\n",
       "    <tr>\n",
       "      <th>20</th>\n",
       "      <td>None</td>\n",
       "      <td>None</td>\n",
       "      <td>NaN</td>\n",
       "      <td>NaN</td>\n",
       "      <td>NaN</td>\n",
       "      <td>NaN</td>\n",
       "      <td>None</td>\n",
       "      <td>1</td>\n",
       "      <td>2024-03-22 14:16:24.954029+00:00</td>\n",
       "    </tr>\n",
       "    <tr>\n",
       "      <th>21</th>\n",
       "      <td>None</td>\n",
       "      <td>None</td>\n",
       "      <td>NaN</td>\n",
       "      <td>NaN</td>\n",
       "      <td>NaN</td>\n",
       "      <td>NaN</td>\n",
       "      <td>None</td>\n",
       "      <td>1</td>\n",
       "      <td>2024-03-22 14:16:28.252800+00:00</td>\n",
       "    </tr>\n",
       "    <tr>\n",
       "      <th>22</th>\n",
       "      <td>None</td>\n",
       "      <td>None</td>\n",
       "      <td>NaN</td>\n",
       "      <td>NaN</td>\n",
       "      <td>NaN</td>\n",
       "      <td>NaN</td>\n",
       "      <td>None</td>\n",
       "      <td>1</td>\n",
       "      <td>2024-03-23 14:16:35.235687+00:00</td>\n",
       "    </tr>\n",
       "    <tr>\n",
       "      <th>23</th>\n",
       "      <td>None</td>\n",
       "      <td>None</td>\n",
       "      <td>NaN</td>\n",
       "      <td>NaN</td>\n",
       "      <td>NaN</td>\n",
       "      <td>NaN</td>\n",
       "      <td>None</td>\n",
       "      <td>1</td>\n",
       "      <td>2024-03-24 14:16:39.314186+00:00</td>\n",
       "    </tr>\n",
       "    <tr>\n",
       "      <th>24</th>\n",
       "      <td>None</td>\n",
       "      <td>None</td>\n",
       "      <td>NaN</td>\n",
       "      <td>NaN</td>\n",
       "      <td>NaN</td>\n",
       "      <td>NaN</td>\n",
       "      <td>None</td>\n",
       "      <td>1</td>\n",
       "      <td>2024-03-24 14:16:42.405677+00:00</td>\n",
       "    </tr>\n",
       "    <tr>\n",
       "      <th>25</th>\n",
       "      <td>None</td>\n",
       "      <td>None</td>\n",
       "      <td>NaN</td>\n",
       "      <td>NaN</td>\n",
       "      <td>NaN</td>\n",
       "      <td>NaN</td>\n",
       "      <td>None</td>\n",
       "      <td>1</td>\n",
       "      <td>2024-03-25 14:16:49.206590+00:00</td>\n",
       "    </tr>\n",
       "    <tr>\n",
       "      <th>26</th>\n",
       "      <td>None</td>\n",
       "      <td>None</td>\n",
       "      <td>NaN</td>\n",
       "      <td>NaN</td>\n",
       "      <td>NaN</td>\n",
       "      <td>NaN</td>\n",
       "      <td>None</td>\n",
       "      <td>1</td>\n",
       "      <td>2024-03-26 14:16:52.775659+00:00</td>\n",
       "    </tr>\n",
       "    <tr>\n",
       "      <th>27</th>\n",
       "      <td>None</td>\n",
       "      <td>None</td>\n",
       "      <td>NaN</td>\n",
       "      <td>NaN</td>\n",
       "      <td>NaN</td>\n",
       "      <td>NaN</td>\n",
       "      <td>None</td>\n",
       "      <td>1</td>\n",
       "      <td>2024-03-26 14:16:55.945836+00:00</td>\n",
       "    </tr>\n",
       "    <tr>\n",
       "      <th>28</th>\n",
       "      <td>None</td>\n",
       "      <td>None</td>\n",
       "      <td>NaN</td>\n",
       "      <td>NaN</td>\n",
       "      <td>NaN</td>\n",
       "      <td>NaN</td>\n",
       "      <td>None</td>\n",
       "      <td>1</td>\n",
       "      <td>2024-03-27 14:16:59.123293+00:00</td>\n",
       "    </tr>\n",
       "    <tr>\n",
       "      <th>29</th>\n",
       "      <td>None</td>\n",
       "      <td>None</td>\n",
       "      <td>NaN</td>\n",
       "      <td>NaN</td>\n",
       "      <td>NaN</td>\n",
       "      <td>NaN</td>\n",
       "      <td>None</td>\n",
       "      <td>1</td>\n",
       "      <td>2024-03-27 14:17:02.969480+00:00</td>\n",
       "    </tr>\n",
       "    <tr>\n",
       "      <th>30</th>\n",
       "      <td>None</td>\n",
       "      <td>None</td>\n",
       "      <td>NaN</td>\n",
       "      <td>NaN</td>\n",
       "      <td>NaN</td>\n",
       "      <td>NaN</td>\n",
       "      <td>None</td>\n",
       "      <td>1</td>\n",
       "      <td>2024-03-28 14:17:06.727640+00:00</td>\n",
       "    </tr>\n",
       "    <tr>\n",
       "      <th>31</th>\n",
       "      <td>None</td>\n",
       "      <td>None</td>\n",
       "      <td>NaN</td>\n",
       "      <td>NaN</td>\n",
       "      <td>NaN</td>\n",
       "      <td>NaN</td>\n",
       "      <td>None</td>\n",
       "      <td>1</td>\n",
       "      <td>2024-03-28 14:17:10.546601+00:00</td>\n",
       "    </tr>\n",
       "    <tr>\n",
       "      <th>32</th>\n",
       "      <td>None</td>\n",
       "      <td>None</td>\n",
       "      <td>NaN</td>\n",
       "      <td>NaN</td>\n",
       "      <td>NaN</td>\n",
       "      <td>NaN</td>\n",
       "      <td>None</td>\n",
       "      <td>1</td>\n",
       "      <td>2024-03-29 14:17:17.521013+00:00</td>\n",
       "    </tr>\n",
       "    <tr>\n",
       "      <th>33</th>\n",
       "      <td>None</td>\n",
       "      <td>None</td>\n",
       "      <td>NaN</td>\n",
       "      <td>NaN</td>\n",
       "      <td>NaN</td>\n",
       "      <td>NaN</td>\n",
       "      <td>None</td>\n",
       "      <td>1</td>\n",
       "      <td>2024-03-30 14:17:27.156520+00:00</td>\n",
       "    </tr>\n",
       "    <tr>\n",
       "      <th>34</th>\n",
       "      <td>None</td>\n",
       "      <td>None</td>\n",
       "      <td>NaN</td>\n",
       "      <td>NaN</td>\n",
       "      <td>NaN</td>\n",
       "      <td>NaN</td>\n",
       "      <td>None</td>\n",
       "      <td>1</td>\n",
       "      <td>2024-03-31 14:17:30.816324+00:00</td>\n",
       "    </tr>\n",
       "    <tr>\n",
       "      <th>35</th>\n",
       "      <td>None</td>\n",
       "      <td>None</td>\n",
       "      <td>NaN</td>\n",
       "      <td>NaN</td>\n",
       "      <td>NaN</td>\n",
       "      <td>NaN</td>\n",
       "      <td>None</td>\n",
       "      <td>1</td>\n",
       "      <td>2024-03-31 14:17:34.172967+00:00</td>\n",
       "    </tr>\n",
       "    <tr>\n",
       "      <th>36</th>\n",
       "      <td>None</td>\n",
       "      <td>None</td>\n",
       "      <td>NaN</td>\n",
       "      <td>NaN</td>\n",
       "      <td>NaN</td>\n",
       "      <td>NaN</td>\n",
       "      <td>None</td>\n",
       "      <td>1</td>\n",
       "      <td>2024-04-01 14:17:37.585352+00:00</td>\n",
       "    </tr>\n",
       "    <tr>\n",
       "      <th>37</th>\n",
       "      <td>None</td>\n",
       "      <td>None</td>\n",
       "      <td>NaN</td>\n",
       "      <td>NaN</td>\n",
       "      <td>NaN</td>\n",
       "      <td>NaN</td>\n",
       "      <td>None</td>\n",
       "      <td>1</td>\n",
       "      <td>2024-04-01 14:17:41.179205+00:00</td>\n",
       "    </tr>\n",
       "    <tr>\n",
       "      <th>38</th>\n",
       "      <td>None</td>\n",
       "      <td>None</td>\n",
       "      <td>NaN</td>\n",
       "      <td>NaN</td>\n",
       "      <td>NaN</td>\n",
       "      <td>NaN</td>\n",
       "      <td>None</td>\n",
       "      <td>1</td>\n",
       "      <td>2024-04-02 14:17:45.858182+00:00</td>\n",
       "    </tr>\n",
       "    <tr>\n",
       "      <th>39</th>\n",
       "      <td>None</td>\n",
       "      <td>None</td>\n",
       "      <td>NaN</td>\n",
       "      <td>NaN</td>\n",
       "      <td>NaN</td>\n",
       "      <td>NaN</td>\n",
       "      <td>None</td>\n",
       "      <td>1</td>\n",
       "      <td>2024-04-02 14:17:50.130724+00:00</td>\n",
       "    </tr>\n",
       "    <tr>\n",
       "      <th>40</th>\n",
       "      <td>None</td>\n",
       "      <td>None</td>\n",
       "      <td>NaN</td>\n",
       "      <td>NaN</td>\n",
       "      <td>NaN</td>\n",
       "      <td>NaN</td>\n",
       "      <td>None</td>\n",
       "      <td>1</td>\n",
       "      <td>2024-04-03 14:17:53.481290+00:00</td>\n",
       "    </tr>\n",
       "    <tr>\n",
       "      <th>41</th>\n",
       "      <td>None</td>\n",
       "      <td>None</td>\n",
       "      <td>NaN</td>\n",
       "      <td>NaN</td>\n",
       "      <td>NaN</td>\n",
       "      <td>NaN</td>\n",
       "      <td>None</td>\n",
       "      <td>1</td>\n",
       "      <td>2024-04-03 14:17:57.177735+00:00</td>\n",
       "    </tr>\n",
       "  </tbody>\n",
       "</table>\n",
       "</div>"
      ],
      "text/plain": [
       "                                species     island  culmen_length_mm  \\\n",
       "0   Adelie Penguin (Pygoscelis adeliae)  Torgersen               NaN   \n",
       "1                                  None       None               NaN   \n",
       "2                                  None       None               NaN   \n",
       "3                                  None       None               NaN   \n",
       "4                                  None       None               NaN   \n",
       "5                                  None       None               NaN   \n",
       "6                                  None       None               NaN   \n",
       "7                                  None       None               NaN   \n",
       "8                                  None       None               NaN   \n",
       "9                                  None       None               NaN   \n",
       "10                                 None       None               NaN   \n",
       "11                                 None       None               NaN   \n",
       "12                                 None       None               NaN   \n",
       "13                                 None       None               NaN   \n",
       "14                                 None       None               NaN   \n",
       "15                                 None       None               NaN   \n",
       "16                                 None       None               NaN   \n",
       "17                                 None       None               NaN   \n",
       "18                                 None       None               NaN   \n",
       "19                                 None       None               NaN   \n",
       "20                                 None       None               NaN   \n",
       "21                                 None       None               NaN   \n",
       "22                                 None       None               NaN   \n",
       "23                                 None       None               NaN   \n",
       "24                                 None       None               NaN   \n",
       "25                                 None       None               NaN   \n",
       "26                                 None       None               NaN   \n",
       "27                                 None       None               NaN   \n",
       "28                                 None       None               NaN   \n",
       "29                                 None       None               NaN   \n",
       "30                                 None       None               NaN   \n",
       "31                                 None       None               NaN   \n",
       "32                                 None       None               NaN   \n",
       "33                                 None       None               NaN   \n",
       "34                                 None       None               NaN   \n",
       "35                                 None       None               NaN   \n",
       "36                                 None       None               NaN   \n",
       "37                                 None       None               NaN   \n",
       "38                                 None       None               NaN   \n",
       "39                                 None       None               NaN   \n",
       "40                                 None       None               NaN   \n",
       "41                                 None       None               NaN   \n",
       "\n",
       "    culmen_depth_mm  flipper_length_mm  body_mass_g   sex entity_id  \\\n",
       "0               NaN                NaN          NaN  None         1   \n",
       "1               NaN                NaN          NaN  None         1   \n",
       "2               NaN                NaN          NaN  None         1   \n",
       "3               NaN                NaN          NaN  None         1   \n",
       "4               NaN                NaN          NaN  None         1   \n",
       "5               NaN                NaN          NaN  None         1   \n",
       "6               NaN                NaN          NaN  None         1   \n",
       "7               NaN                NaN          NaN  None         1   \n",
       "8               NaN                NaN          NaN  None         1   \n",
       "9               NaN                NaN          NaN  None         1   \n",
       "10              NaN                NaN          NaN  None         1   \n",
       "11              NaN                NaN          NaN  None         1   \n",
       "12              NaN                NaN          NaN  None         1   \n",
       "13              NaN                NaN          NaN  None         1   \n",
       "14              NaN                NaN          NaN  None         1   \n",
       "15              NaN                NaN          NaN  None         1   \n",
       "16              NaN                NaN          NaN  None         1   \n",
       "17              NaN                NaN          NaN  None         1   \n",
       "18              NaN                NaN          NaN  None         1   \n",
       "19              NaN                NaN          NaN  None         1   \n",
       "20              NaN                NaN          NaN  None         1   \n",
       "21              NaN                NaN          NaN  None         1   \n",
       "22              NaN                NaN          NaN  None         1   \n",
       "23              NaN                NaN          NaN  None         1   \n",
       "24              NaN                NaN          NaN  None         1   \n",
       "25              NaN                NaN          NaN  None         1   \n",
       "26              NaN                NaN          NaN  None         1   \n",
       "27              NaN                NaN          NaN  None         1   \n",
       "28              NaN                NaN          NaN  None         1   \n",
       "29              NaN                NaN          NaN  None         1   \n",
       "30              NaN                NaN          NaN  None         1   \n",
       "31              NaN                NaN          NaN  None         1   \n",
       "32              NaN                NaN          NaN  None         1   \n",
       "33              NaN                NaN          NaN  None         1   \n",
       "34              NaN                NaN          NaN  None         1   \n",
       "35              NaN                NaN          NaN  None         1   \n",
       "36              NaN                NaN          NaN  None         1   \n",
       "37              NaN                NaN          NaN  None         1   \n",
       "38              NaN                NaN          NaN  None         1   \n",
       "39              NaN                NaN          NaN  None         1   \n",
       "40              NaN                NaN          NaN  None         1   \n",
       "41              NaN                NaN          NaN  None         1   \n",
       "\n",
       "                  feature_timestamp  \n",
       "0  2024-03-04 14:14:24.656924+00:00  \n",
       "1  2024-03-05 14:14:27.803600+00:00  \n",
       "2  2024-03-05 14:14:30.533996+00:00  \n",
       "3  2024-03-06 14:14:37.165137+00:00  \n",
       "4  2024-03-08 14:14:47.577282+00:00  \n",
       "5  2024-03-09 14:14:57.622038+00:00  \n",
       "6  2024-03-10 14:15:04.178237+00:00  \n",
       "7  2024-03-11 14:15:07.560597+00:00  \n",
       "8  2024-03-11 14:15:10.758457+00:00  \n",
       "9  2024-03-12 14:15:18.313534+00:00  \n",
       "10 2024-03-13 14:15:22.243316+00:00  \n",
       "11 2024-03-13 14:15:25.442450+00:00  \n",
       "12 2024-03-14 14:15:32.523670+00:00  \n",
       "13 2024-03-15 14:15:38.855719+00:00  \n",
       "14 2024-03-16 14:15:42.467999+00:00  \n",
       "15 2024-03-16 14:15:45.992873+00:00  \n",
       "16 2024-03-18 14:16:00.300016+00:00  \n",
       "17 2024-03-19 14:16:04.183302+00:00  \n",
       "18 2024-03-20 14:16:10.808012+00:00  \n",
       "19 2024-03-21 14:16:21.634002+00:00  \n",
       "20 2024-03-22 14:16:24.954029+00:00  \n",
       "21 2024-03-22 14:16:28.252800+00:00  \n",
       "22 2024-03-23 14:16:35.235687+00:00  \n",
       "23 2024-03-24 14:16:39.314186+00:00  \n",
       "24 2024-03-24 14:16:42.405677+00:00  \n",
       "25 2024-03-25 14:16:49.206590+00:00  \n",
       "26 2024-03-26 14:16:52.775659+00:00  \n",
       "27 2024-03-26 14:16:55.945836+00:00  \n",
       "28 2024-03-27 14:16:59.123293+00:00  \n",
       "29 2024-03-27 14:17:02.969480+00:00  \n",
       "30 2024-03-28 14:17:06.727640+00:00  \n",
       "31 2024-03-28 14:17:10.546601+00:00  \n",
       "32 2024-03-29 14:17:17.521013+00:00  \n",
       "33 2024-03-30 14:17:27.156520+00:00  \n",
       "34 2024-03-31 14:17:30.816324+00:00  \n",
       "35 2024-03-31 14:17:34.172967+00:00  \n",
       "36 2024-04-01 14:17:37.585352+00:00  \n",
       "37 2024-04-01 14:17:41.179205+00:00  \n",
       "38 2024-04-02 14:17:45.858182+00:00  \n",
       "39 2024-04-02 14:17:50.130724+00:00  \n",
       "40 2024-04-03 14:17:53.481290+00:00  \n",
       "41 2024-04-03 14:17:57.177735+00:00  "
      ]
     },
     "execution_count": 43,
     "metadata": {},
     "output_type": "execute_result"
    }
   ],
   "source": [
    "%%bigquery\n",
    "SELECT *\n",
    "FROM `statmike-mlops-349915.bqml_model_monitoring.production`\n",
    "WHERE entity_id = '1'\n",
    "ORDER BY feature_timestamp"
   ]
  },
  {
   "cell_type": "markdown",
   "metadata": {},
   "source": [
    "### Review The Raw Feature Values At A Point-In-Time\n",
    "\n",
    "There are BigQuery functions available to make it easy to create training, evaluation, and other sets of instances from a history table.\n",
    "\n",
    "- [`ML.FEATURES_AT_TIME`](https://cloud.google.com/bigquery/docs/reference/standard-sql/bigqueryml-syntax-feature-time) specify a point-in-time cutoff for all entities when retrieving features. Prevents data leakage).\n",
    "- [`ML.ENTITY_FEATURES_AT_TIME`](https://cloud.google.com/bigquery/docs/reference/standard-sql/bigqueryml-syntax-entity-feature-time) specify a table of entity values and timestamps to retrieve point-in-time features for all combinations\n",
    "\n",
    "Use the `ML.FEATURE_AT_TIME` function to review the latest raw feature values for the first 10 pinguns:"
   ]
  },
  {
   "cell_type": "code",
   "execution_count": 37,
   "metadata": {
    "tags": []
   },
   "outputs": [
    {
     "data": {
      "application/vnd.jupyter.widget-view+json": {
       "model_id": "f3fb0ed11aa34ba98153e10a0752fad5",
       "version_major": 2,
       "version_minor": 0
      },
      "text/plain": [
       "Query is running:   0%|          |"
      ]
     },
     "metadata": {},
     "output_type": "display_data"
    },
    {
     "data": {
      "application/vnd.jupyter.widget-view+json": {
       "model_id": "efd5bad5c16447ea883b2b25e7f1e91f",
       "version_major": 2,
       "version_minor": 0
      },
      "text/plain": [
       "Downloading:   0%|          |"
      ]
     },
     "metadata": {},
     "output_type": "display_data"
    },
    {
     "data": {
      "text/html": [
       "<div>\n",
       "<style scoped>\n",
       "    .dataframe tbody tr th:only-of-type {\n",
       "        vertical-align: middle;\n",
       "    }\n",
       "\n",
       "    .dataframe tbody tr th {\n",
       "        vertical-align: top;\n",
       "    }\n",
       "\n",
       "    .dataframe thead th {\n",
       "        text-align: right;\n",
       "    }\n",
       "</style>\n",
       "<table border=\"1\" class=\"dataframe\">\n",
       "  <thead>\n",
       "    <tr style=\"text-align: right;\">\n",
       "      <th></th>\n",
       "      <th>species</th>\n",
       "      <th>island</th>\n",
       "      <th>culmen_length_mm</th>\n",
       "      <th>culmen_depth_mm</th>\n",
       "      <th>flipper_length_mm</th>\n",
       "      <th>body_mass_g</th>\n",
       "      <th>sex</th>\n",
       "      <th>entity_id</th>\n",
       "      <th>feature_timestamp</th>\n",
       "    </tr>\n",
       "  </thead>\n",
       "  <tbody>\n",
       "    <tr>\n",
       "      <th>0</th>\n",
       "      <td>Adelie Penguin (Pygoscelis adeliae)</td>\n",
       "      <td>Dream</td>\n",
       "      <td>40.8</td>\n",
       "      <td>18.9</td>\n",
       "      <td>226.687378</td>\n",
       "      <td>4823.540926</td>\n",
       "      <td>MALE</td>\n",
       "      <td>9</td>\n",
       "      <td>2024-04-04 14:19:18.019664+00:00</td>\n",
       "    </tr>\n",
       "    <tr>\n",
       "      <th>1</th>\n",
       "      <td>Adelie Penguin (Pygoscelis adeliae)</td>\n",
       "      <td>Dream</td>\n",
       "      <td>39.0</td>\n",
       "      <td>18.7</td>\n",
       "      <td>206.626655</td>\n",
       "      <td>4360.351539</td>\n",
       "      <td>MALE</td>\n",
       "      <td>10</td>\n",
       "      <td>2024-04-04 14:19:18.019664+00:00</td>\n",
       "    </tr>\n",
       "    <tr>\n",
       "      <th>2</th>\n",
       "      <td>Adelie Penguin (Pygoscelis adeliae)</td>\n",
       "      <td>Biscoe</td>\n",
       "      <td>42.0</td>\n",
       "      <td>19.5</td>\n",
       "      <td>215.080442</td>\n",
       "      <td>4701.525350</td>\n",
       "      <td>MALE</td>\n",
       "      <td>7</td>\n",
       "      <td>2024-04-04 14:19:18.019664+00:00</td>\n",
       "    </tr>\n",
       "    <tr>\n",
       "      <th>3</th>\n",
       "      <td>Adelie Penguin (Pygoscelis adeliae)</td>\n",
       "      <td>Dream</td>\n",
       "      <td>43.2</td>\n",
       "      <td>18.5</td>\n",
       "      <td>205.583201</td>\n",
       "      <td>4760.666425</td>\n",
       "      <td>MALE</td>\n",
       "      <td>6</td>\n",
       "      <td>2024-04-04 14:19:18.019664+00:00</td>\n",
       "    </tr>\n",
       "    <tr>\n",
       "      <th>4</th>\n",
       "      <td>Adelie Penguin (Pygoscelis adeliae)</td>\n",
       "      <td>Torgersen</td>\n",
       "      <td>NaN</td>\n",
       "      <td>NaN</td>\n",
       "      <td>NaN</td>\n",
       "      <td>NaN</td>\n",
       "      <td>None</td>\n",
       "      <td>1</td>\n",
       "      <td>2024-04-04 14:19:18.019664+00:00</td>\n",
       "    </tr>\n",
       "    <tr>\n",
       "      <th>5</th>\n",
       "      <td>Gentoo penguin (Pygoscelis papua)</td>\n",
       "      <td>Biscoe</td>\n",
       "      <td>48.7</td>\n",
       "      <td>15.7</td>\n",
       "      <td>218.231090</td>\n",
       "      <td>5949.516995</td>\n",
       "      <td>MALE</td>\n",
       "      <td>8</td>\n",
       "      <td>2024-04-04 14:19:18.019664+00:00</td>\n",
       "    </tr>\n",
       "    <tr>\n",
       "      <th>6</th>\n",
       "      <td>Adelie Penguin (Pygoscelis adeliae)</td>\n",
       "      <td>Torgersen</td>\n",
       "      <td>37.8</td>\n",
       "      <td>17.3</td>\n",
       "      <td>201.436430</td>\n",
       "      <td>4437.826663</td>\n",
       "      <td>None</td>\n",
       "      <td>4</td>\n",
       "      <td>2024-04-04 14:19:18.019664+00:00</td>\n",
       "    </tr>\n",
       "    <tr>\n",
       "      <th>7</th>\n",
       "      <td>Gentoo penguin (Pygoscelis papua)</td>\n",
       "      <td>Biscoe</td>\n",
       "      <td>44.5</td>\n",
       "      <td>14.3</td>\n",
       "      <td>234.668929</td>\n",
       "      <td>4857.940574</td>\n",
       "      <td>None</td>\n",
       "      <td>2</td>\n",
       "      <td>2024-04-04 14:19:18.019664+00:00</td>\n",
       "    </tr>\n",
       "    <tr>\n",
       "      <th>8</th>\n",
       "      <td>Adelie Penguin (Pygoscelis adeliae)</td>\n",
       "      <td>Biscoe</td>\n",
       "      <td>39.7</td>\n",
       "      <td>18.9</td>\n",
       "      <td>200.809007</td>\n",
       "      <td>4444.151953</td>\n",
       "      <td>MALE</td>\n",
       "      <td>5</td>\n",
       "      <td>2024-04-04 14:19:18.019664+00:00</td>\n",
       "    </tr>\n",
       "    <tr>\n",
       "      <th>9</th>\n",
       "      <td>Gentoo penguin (Pygoscelis papua)</td>\n",
       "      <td>Biscoe</td>\n",
       "      <td>44.5</td>\n",
       "      <td>15.7</td>\n",
       "      <td>239.786667</td>\n",
       "      <td>5517.615850</td>\n",
       "      <td>None</td>\n",
       "      <td>3</td>\n",
       "      <td>2024-04-04 14:19:18.019664+00:00</td>\n",
       "    </tr>\n",
       "  </tbody>\n",
       "</table>\n",
       "</div>"
      ],
      "text/plain": [
       "                               species     island  culmen_length_mm  \\\n",
       "0  Adelie Penguin (Pygoscelis adeliae)      Dream              40.8   \n",
       "1  Adelie Penguin (Pygoscelis adeliae)      Dream              39.0   \n",
       "2  Adelie Penguin (Pygoscelis adeliae)     Biscoe              42.0   \n",
       "3  Adelie Penguin (Pygoscelis adeliae)      Dream              43.2   \n",
       "4  Adelie Penguin (Pygoscelis adeliae)  Torgersen               NaN   \n",
       "5    Gentoo penguin (Pygoscelis papua)     Biscoe              48.7   \n",
       "6  Adelie Penguin (Pygoscelis adeliae)  Torgersen              37.8   \n",
       "7    Gentoo penguin (Pygoscelis papua)     Biscoe              44.5   \n",
       "8  Adelie Penguin (Pygoscelis adeliae)     Biscoe              39.7   \n",
       "9    Gentoo penguin (Pygoscelis papua)     Biscoe              44.5   \n",
       "\n",
       "   culmen_depth_mm  flipper_length_mm  body_mass_g   sex entity_id  \\\n",
       "0             18.9         226.687378  4823.540926  MALE         9   \n",
       "1             18.7         206.626655  4360.351539  MALE        10   \n",
       "2             19.5         215.080442  4701.525350  MALE         7   \n",
       "3             18.5         205.583201  4760.666425  MALE         6   \n",
       "4              NaN                NaN          NaN  None         1   \n",
       "5             15.7         218.231090  5949.516995  MALE         8   \n",
       "6             17.3         201.436430  4437.826663  None         4   \n",
       "7             14.3         234.668929  4857.940574  None         2   \n",
       "8             18.9         200.809007  4444.151953  MALE         5   \n",
       "9             15.7         239.786667  5517.615850  None         3   \n",
       "\n",
       "                 feature_timestamp  \n",
       "0 2024-04-04 14:19:18.019664+00:00  \n",
       "1 2024-04-04 14:19:18.019664+00:00  \n",
       "2 2024-04-04 14:19:18.019664+00:00  \n",
       "3 2024-04-04 14:19:18.019664+00:00  \n",
       "4 2024-04-04 14:19:18.019664+00:00  \n",
       "5 2024-04-04 14:19:18.019664+00:00  \n",
       "6 2024-04-04 14:19:18.019664+00:00  \n",
       "7 2024-04-04 14:19:18.019664+00:00  \n",
       "8 2024-04-04 14:19:18.019664+00:00  \n",
       "9 2024-04-04 14:19:18.019664+00:00  "
      ]
     },
     "execution_count": 37,
     "metadata": {},
     "output_type": "execute_result"
    }
   ],
   "source": [
    "%%bigquery\n",
    "SELECT *\n",
    "FROM ML.FEATURES_AT_TIME(\n",
    "    (SELECT * FROM `statmike-mlops-349915.bqml_model_monitoring.production` WHERE entity_id in ('1', '2', '3', '4', '5', '6', '7', '8', '9', '10')),\n",
    "    time => CURRENT_TIMESTAMP(),\n",
    "    num_rows => 1,\n",
    "    ignore_feature_nulls => TRUE\n",
    ")"
   ]
  },
  {
   "cell_type": "markdown",
   "metadata": {},
   "source": [
    "### Review The Raw Features Pattern Over Time\n",
    "\n",
    "Plot the raw features for 10 penguins to see the changes over the last 30 days using [`ML.ENTITY_FEATURES_AT_TIME`](https://cloud.google.com/bigquery/docs/reference/standard-sql/bigqueryml-syntax-entity-feature-time) to extract point-in-time feature values for the set:"
   ]
  },
  {
   "cell_type": "code",
   "execution_count": 44,
   "metadata": {
    "tags": []
   },
   "outputs": [
    {
     "data": {
      "application/vnd.jupyter.widget-view+json": {
       "model_id": "e7ecba6b28a04869a080f5a7400d1bde",
       "version_major": 2,
       "version_minor": 0
      },
      "text/plain": [
       "Query is running:   0%|          |"
      ]
     },
     "metadata": {},
     "output_type": "display_data"
    },
    {
     "data": {
      "application/vnd.jupyter.widget-view+json": {
       "model_id": "e277a308ceee4327810b3473d8710aaf",
       "version_major": 2,
       "version_minor": 0
      },
      "text/plain": [
       "Downloading:   0%|          |"
      ]
     },
     "metadata": {},
     "output_type": "display_data"
    }
   ],
   "source": [
    "%%bigquery penguins\n",
    "WITH\n",
    "    TIME_TABLE AS (\n",
    "        SELECT TIMESTAMP(feature_date) AS time\n",
    "        FROM UNNEST(GENERATE_DATE_ARRAY(DATE_SUB(CURRENT_DATE(), INTERVAL 30 DAY), CURRENT_DATE())) AS feature_date\n",
    "    ),\n",
    "    ENTITY_TABLE AS (\n",
    "        SELECT CAST(id AS STRING) AS entity_id\n",
    "        FROM UNNEST(GENERATE_ARRAY(1, 10)) AS id\n",
    "    ),\n",
    "    ENTITY_TIME_TABLE AS (\n",
    "        SELECT *\n",
    "        FROM ENTITY_TABLE\n",
    "        CROSS JOIN TIME_TABLE\n",
    "    )\n",
    "SELECT *\n",
    "FROM ML.ENTITY_FEATURES_AT_TIME(\n",
    "    TABLE `statmike-mlops-349915.bqml_model_monitoring.production`,\n",
    "    TABLE ENTITY_TIME_TABLE,\n",
    "    num_rows => 1,\n",
    "    ignore_feature_nulls => TRUE\n",
    ")\n",
    "ORDER BY entity_id, feature_timestamp"
   ]
  },
  {
   "cell_type": "code",
   "execution_count": 45,
   "metadata": {
    "tags": []
   },
   "outputs": [],
   "source": [
    "penguins.set_index('feature_timestamp', inplace = True)"
   ]
  },
  {
   "cell_type": "code",
   "execution_count": 46,
   "metadata": {
    "tags": []
   },
   "outputs": [
    {
     "data": {
      "text/plain": [
       "entity_id\n",
       "1     Axes(0.125,0.11;0.775x0.77)\n",
       "10    Axes(0.125,0.11;0.775x0.77)\n",
       "2     Axes(0.125,0.11;0.775x0.77)\n",
       "3     Axes(0.125,0.11;0.775x0.77)\n",
       "4     Axes(0.125,0.11;0.775x0.77)\n",
       "5     Axes(0.125,0.11;0.775x0.77)\n",
       "6     Axes(0.125,0.11;0.775x0.77)\n",
       "7     Axes(0.125,0.11;0.775x0.77)\n",
       "8     Axes(0.125,0.11;0.775x0.77)\n",
       "9     Axes(0.125,0.11;0.775x0.77)\n",
       "Name: flipper_length_mm, dtype: object"
      ]
     },
     "execution_count": 46,
     "metadata": {},
     "output_type": "execute_result"
    },
    {
     "data": {
      "image/png": "[encoded data removed]",
      "text/plain": [
       "<Figure size 640x480 with 1 Axes>"
      ]
     },
     "metadata": {},
     "output_type": "display_data"
    }
   ],
   "source": [
    "penguins.groupby('entity_id')['flipper_length_mm'].plot(legend = True, title = 'Flipper Length Over Last 30 days\\nsample (n=10)')"
   ]
  },
  {
   "cell_type": "code",
   "execution_count": 47,
   "metadata": {
    "tags": []
   },
   "outputs": [
    {
     "data": {
      "text/plain": [
       "entity_id\n",
       "1     Axes(0.125,0.11;0.775x0.77)\n",
       "10    Axes(0.125,0.11;0.775x0.77)\n",
       "2     Axes(0.125,0.11;0.775x0.77)\n",
       "3     Axes(0.125,0.11;0.775x0.77)\n",
       "4     Axes(0.125,0.11;0.775x0.77)\n",
       "5     Axes(0.125,0.11;0.775x0.77)\n",
       "6     Axes(0.125,0.11;0.775x0.77)\n",
       "7     Axes(0.125,0.11;0.775x0.77)\n",
       "8     Axes(0.125,0.11;0.775x0.77)\n",
       "9     Axes(0.125,0.11;0.775x0.77)\n",
       "Name: body_mass_g, dtype: object"
      ]
     },
     "execution_count": 47,
     "metadata": {},
     "output_type": "execute_result"
    },
    {
     "data": {
      "image/png": "[encoded data removed]",
      "text/plain": [
       "<Figure size 640x480 with 1 Axes>"
      ]
     },
     "metadata": {},
     "output_type": "display_data"
    }
   ],
   "source": [
    "penguins.groupby('entity_id')['body_mass_g'].plot(legend = True, title = 'Body Mass Over Last 30 days\\nsample (n=10)')"
   ]
  },
  {
   "cell_type": "markdown",
   "metadata": {
    "tags": []
   },
   "source": [
    "### Create A Transformed Feature View\n",
    "\n",
    "The tasks below include creating evaluations and monitoring features.  This means applying the feature engineering to the data with the `TRANSFORM_ONLY` model created above.  To make using the data easier, a view is created that applys the feature engineering model to the data.\n",
    "\n",
    ">**NOTE:**  By applying `TRANSFORM_ONLY` models to feature raw value tables the data can be made easier to use for prediction and other tasks that require the transformed feature.  Also, by using views like this the the same feature sources can be used across different views for different models with different feature engineering.  A single source can be used over and over for training and serving models with replicating it and maintaining versions."
   ]
  },
  {
   "cell_type": "code",
   "execution_count": 48,
   "metadata": {
    "tags": []
   },
   "outputs": [
    {
     "data": {
      "application/vnd.jupyter.widget-view+json": {
       "model_id": "87496d1876384e169ad9e117c76f0103",
       "version_major": 2,
       "version_minor": 0
      },
      "text/plain": [
       "Query is running:   0%|          |"
      ]
     },
     "metadata": {},
     "output_type": "display_data"
    },
    {
     "data": {
      "text/html": [
       "<div>\n",
       "<style scoped>\n",
       "    .dataframe tbody tr th:only-of-type {\n",
       "        vertical-align: middle;\n",
       "    }\n",
       "\n",
       "    .dataframe tbody tr th {\n",
       "        vertical-align: top;\n",
       "    }\n",
       "\n",
       "    .dataframe thead th {\n",
       "        text-align: right;\n",
       "    }\n",
       "</style>\n",
       "<table border=\"1\" class=\"dataframe\">\n",
       "  <thead>\n",
       "    <tr style=\"text-align: right;\">\n",
       "      <th></th>\n",
       "    </tr>\n",
       "  </thead>\n",
       "  <tbody>\n",
       "  </tbody>\n",
       "</table>\n",
       "</div>"
      ],
      "text/plain": [
       "Empty DataFrame\n",
       "Columns: []\n",
       "Index: []"
      ]
     },
     "execution_count": 48,
     "metadata": {},
     "output_type": "execute_result"
    }
   ],
   "source": [
    "%%bigquery\n",
    "CREATE OR REPLACE VIEW `statmike-mlops-349915.bqml_model_monitoring.production_features` AS\n",
    "    SELECT *\n",
    "    FROM ML.TRANSFORM(\n",
    "        MODEL `statmike-mlops-349915.bqml_model_monitoring.feature_engineering`,\n",
    "        (\n",
    "            SELECT *\n",
    "            FROM `statmike-mlops-349915.bqml_model_monitoring.production`\n",
    "        )\n",
    "    )"
   ]
  },
  {
   "cell_type": "markdown",
   "metadata": {},
   "source": [
    "### Review The Transformed Feature History: For a Single Penguin\n",
    "\n",
    "Again, review the history for one penugin, `entity_id = '1'`  but this time for the view of transformed features.  \n",
    "\n",
    "This shows a history of changes to the features `flipper_length_mm` and `body_mass_g`. The other features are unchanged and noted as null values.  This is a time table or history table for the features.  In the sections that follow, this table will be used to extract feature values at points-in-time."
   ]
  },
  {
   "cell_type": "code",
   "execution_count": 49,
   "metadata": {
    "tags": []
   },
   "outputs": [
    {
     "data": {
      "application/vnd.jupyter.widget-view+json": {
       "model_id": "4def71a5b3f047baaf881bc724f89ecd",
       "version_major": 2,
       "version_minor": 0
      },
      "text/plain": [
       "Query is running:   0%|          |"
      ]
     },
     "metadata": {},
     "output_type": "display_data"
    },
    {
     "data": {
      "application/vnd.jupyter.widget-view+json": {
       "model_id": "2692b11d8b0e4cceb8fe65875d2fbe3f",
       "version_major": 2,
       "version_minor": 0
      },
      "text/plain": [
       "Downloading:   0%|          |"
      ]
     },
     "metadata": {},
     "output_type": "display_data"
    },
    {
     "data": {
      "text/html": [
       "<div>\n",
       "<style scoped>\n",
       "    .dataframe tbody tr th:only-of-type {\n",
       "        vertical-align: middle;\n",
       "    }\n",
       "\n",
       "    .dataframe tbody tr th {\n",
       "        vertical-align: top;\n",
       "    }\n",
       "\n",
       "    .dataframe thead th {\n",
       "        text-align: right;\n",
       "    }\n",
       "</style>\n",
       "<table border=\"1\" class=\"dataframe\">\n",
       "  <thead>\n",
       "    <tr style=\"text-align: right;\">\n",
       "      <th></th>\n",
       "      <th>body_mass_g</th>\n",
       "      <th>culmen_length_mm</th>\n",
       "      <th>culmen_depth_mm</th>\n",
       "      <th>flipper_length_mm</th>\n",
       "      <th>sex</th>\n",
       "      <th>island</th>\n",
       "      <th>species</th>\n",
       "      <th>entity_id</th>\n",
       "      <th>feature_timestamp</th>\n",
       "    </tr>\n",
       "  </thead>\n",
       "  <tbody>\n",
       "    <tr>\n",
       "      <th>0</th>\n",
       "      <td>NaN</td>\n",
       "      <td>NaN</td>\n",
       "      <td>NaN</td>\n",
       "      <td>None</td>\n",
       "      <td>FEMALE</td>\n",
       "      <td>Torgersen</td>\n",
       "      <td>Adelie Penguin (Pygoscelis adeliae)</td>\n",
       "      <td>1</td>\n",
       "      <td>2024-03-04 14:14:24.656924+00:00</td>\n",
       "    </tr>\n",
       "    <tr>\n",
       "      <th>1</th>\n",
       "      <td>NaN</td>\n",
       "      <td>NaN</td>\n",
       "      <td>NaN</td>\n",
       "      <td>None</td>\n",
       "      <td>FEMALE</td>\n",
       "      <td>Biscoe</td>\n",
       "      <td>None</td>\n",
       "      <td>1</td>\n",
       "      <td>2024-03-05 14:14:27.803600+00:00</td>\n",
       "    </tr>\n",
       "    <tr>\n",
       "      <th>2</th>\n",
       "      <td>NaN</td>\n",
       "      <td>NaN</td>\n",
       "      <td>NaN</td>\n",
       "      <td>None</td>\n",
       "      <td>FEMALE</td>\n",
       "      <td>Biscoe</td>\n",
       "      <td>None</td>\n",
       "      <td>1</td>\n",
       "      <td>2024-03-05 14:14:30.533996+00:00</td>\n",
       "    </tr>\n",
       "    <tr>\n",
       "      <th>3</th>\n",
       "      <td>NaN</td>\n",
       "      <td>NaN</td>\n",
       "      <td>NaN</td>\n",
       "      <td>None</td>\n",
       "      <td>FEMALE</td>\n",
       "      <td>Biscoe</td>\n",
       "      <td>None</td>\n",
       "      <td>1</td>\n",
       "      <td>2024-03-06 14:14:37.165137+00:00</td>\n",
       "    </tr>\n",
       "    <tr>\n",
       "      <th>4</th>\n",
       "      <td>NaN</td>\n",
       "      <td>NaN</td>\n",
       "      <td>NaN</td>\n",
       "      <td>None</td>\n",
       "      <td>FEMALE</td>\n",
       "      <td>Biscoe</td>\n",
       "      <td>None</td>\n",
       "      <td>1</td>\n",
       "      <td>2024-03-08 14:14:47.577282+00:00</td>\n",
       "    </tr>\n",
       "    <tr>\n",
       "      <th>5</th>\n",
       "      <td>NaN</td>\n",
       "      <td>NaN</td>\n",
       "      <td>NaN</td>\n",
       "      <td>None</td>\n",
       "      <td>FEMALE</td>\n",
       "      <td>Biscoe</td>\n",
       "      <td>None</td>\n",
       "      <td>1</td>\n",
       "      <td>2024-03-09 14:14:57.622038+00:00</td>\n",
       "    </tr>\n",
       "    <tr>\n",
       "      <th>6</th>\n",
       "      <td>NaN</td>\n",
       "      <td>NaN</td>\n",
       "      <td>NaN</td>\n",
       "      <td>None</td>\n",
       "      <td>FEMALE</td>\n",
       "      <td>Biscoe</td>\n",
       "      <td>None</td>\n",
       "      <td>1</td>\n",
       "      <td>2024-03-10 14:15:04.178237+00:00</td>\n",
       "    </tr>\n",
       "    <tr>\n",
       "      <th>7</th>\n",
       "      <td>NaN</td>\n",
       "      <td>NaN</td>\n",
       "      <td>NaN</td>\n",
       "      <td>None</td>\n",
       "      <td>FEMALE</td>\n",
       "      <td>Biscoe</td>\n",
       "      <td>None</td>\n",
       "      <td>1</td>\n",
       "      <td>2024-03-11 14:15:07.560597+00:00</td>\n",
       "    </tr>\n",
       "    <tr>\n",
       "      <th>8</th>\n",
       "      <td>NaN</td>\n",
       "      <td>NaN</td>\n",
       "      <td>NaN</td>\n",
       "      <td>None</td>\n",
       "      <td>FEMALE</td>\n",
       "      <td>Biscoe</td>\n",
       "      <td>None</td>\n",
       "      <td>1</td>\n",
       "      <td>2024-03-11 14:15:10.758457+00:00</td>\n",
       "    </tr>\n",
       "    <tr>\n",
       "      <th>9</th>\n",
       "      <td>NaN</td>\n",
       "      <td>NaN</td>\n",
       "      <td>NaN</td>\n",
       "      <td>None</td>\n",
       "      <td>FEMALE</td>\n",
       "      <td>Biscoe</td>\n",
       "      <td>None</td>\n",
       "      <td>1</td>\n",
       "      <td>2024-03-12 14:15:18.313534+00:00</td>\n",
       "    </tr>\n",
       "    <tr>\n",
       "      <th>10</th>\n",
       "      <td>NaN</td>\n",
       "      <td>NaN</td>\n",
       "      <td>NaN</td>\n",
       "      <td>None</td>\n",
       "      <td>FEMALE</td>\n",
       "      <td>Biscoe</td>\n",
       "      <td>None</td>\n",
       "      <td>1</td>\n",
       "      <td>2024-03-13 14:15:22.243316+00:00</td>\n",
       "    </tr>\n",
       "    <tr>\n",
       "      <th>11</th>\n",
       "      <td>NaN</td>\n",
       "      <td>NaN</td>\n",
       "      <td>NaN</td>\n",
       "      <td>None</td>\n",
       "      <td>FEMALE</td>\n",
       "      <td>Biscoe</td>\n",
       "      <td>None</td>\n",
       "      <td>1</td>\n",
       "      <td>2024-03-13 14:15:25.442450+00:00</td>\n",
       "    </tr>\n",
       "    <tr>\n",
       "      <th>12</th>\n",
       "      <td>NaN</td>\n",
       "      <td>NaN</td>\n",
       "      <td>NaN</td>\n",
       "      <td>None</td>\n",
       "      <td>FEMALE</td>\n",
       "      <td>Biscoe</td>\n",
       "      <td>None</td>\n",
       "      <td>1</td>\n",
       "      <td>2024-03-14 14:15:32.523670+00:00</td>\n",
       "    </tr>\n",
       "    <tr>\n",
       "      <th>13</th>\n",
       "      <td>NaN</td>\n",
       "      <td>NaN</td>\n",
       "      <td>NaN</td>\n",
       "      <td>None</td>\n",
       "      <td>FEMALE</td>\n",
       "      <td>Biscoe</td>\n",
       "      <td>None</td>\n",
       "      <td>1</td>\n",
       "      <td>2024-03-15 14:15:38.855719+00:00</td>\n",
       "    </tr>\n",
       "    <tr>\n",
       "      <th>14</th>\n",
       "      <td>NaN</td>\n",
       "      <td>NaN</td>\n",
       "      <td>NaN</td>\n",
       "      <td>None</td>\n",
       "      <td>FEMALE</td>\n",
       "      <td>Biscoe</td>\n",
       "      <td>None</td>\n",
       "      <td>1</td>\n",
       "      <td>2024-03-16 14:15:42.467999+00:00</td>\n",
       "    </tr>\n",
       "    <tr>\n",
       "      <th>15</th>\n",
       "      <td>NaN</td>\n",
       "      <td>NaN</td>\n",
       "      <td>NaN</td>\n",
       "      <td>None</td>\n",
       "      <td>FEMALE</td>\n",
       "      <td>Biscoe</td>\n",
       "      <td>None</td>\n",
       "      <td>1</td>\n",
       "      <td>2024-03-16 14:15:45.992873+00:00</td>\n",
       "    </tr>\n",
       "    <tr>\n",
       "      <th>16</th>\n",
       "      <td>NaN</td>\n",
       "      <td>NaN</td>\n",
       "      <td>NaN</td>\n",
       "      <td>None</td>\n",
       "      <td>FEMALE</td>\n",
       "      <td>Biscoe</td>\n",
       "      <td>None</td>\n",
       "      <td>1</td>\n",
       "      <td>2024-03-18 14:16:00.300016+00:00</td>\n",
       "    </tr>\n",
       "    <tr>\n",
       "      <th>17</th>\n",
       "      <td>NaN</td>\n",
       "      <td>NaN</td>\n",
       "      <td>NaN</td>\n",
       "      <td>None</td>\n",
       "      <td>FEMALE</td>\n",
       "      <td>Biscoe</td>\n",
       "      <td>None</td>\n",
       "      <td>1</td>\n",
       "      <td>2024-03-19 14:16:04.183302+00:00</td>\n",
       "    </tr>\n",
       "    <tr>\n",
       "      <th>18</th>\n",
       "      <td>NaN</td>\n",
       "      <td>NaN</td>\n",
       "      <td>NaN</td>\n",
       "      <td>None</td>\n",
       "      <td>FEMALE</td>\n",
       "      <td>Biscoe</td>\n",
       "      <td>None</td>\n",
       "      <td>1</td>\n",
       "      <td>2024-03-20 14:16:10.808012+00:00</td>\n",
       "    </tr>\n",
       "    <tr>\n",
       "      <th>19</th>\n",
       "      <td>NaN</td>\n",
       "      <td>NaN</td>\n",
       "      <td>NaN</td>\n",
       "      <td>None</td>\n",
       "      <td>FEMALE</td>\n",
       "      <td>Biscoe</td>\n",
       "      <td>None</td>\n",
       "      <td>1</td>\n",
       "      <td>2024-03-21 14:16:21.634002+00:00</td>\n",
       "    </tr>\n",
       "    <tr>\n",
       "      <th>20</th>\n",
       "      <td>NaN</td>\n",
       "      <td>NaN</td>\n",
       "      <td>NaN</td>\n",
       "      <td>None</td>\n",
       "      <td>FEMALE</td>\n",
       "      <td>Biscoe</td>\n",
       "      <td>None</td>\n",
       "      <td>1</td>\n",
       "      <td>2024-03-22 14:16:24.954029+00:00</td>\n",
       "    </tr>\n",
       "    <tr>\n",
       "      <th>21</th>\n",
       "      <td>NaN</td>\n",
       "      <td>NaN</td>\n",
       "      <td>NaN</td>\n",
       "      <td>None</td>\n",
       "      <td>FEMALE</td>\n",
       "      <td>Biscoe</td>\n",
       "      <td>None</td>\n",
       "      <td>1</td>\n",
       "      <td>2024-03-22 14:16:28.252800+00:00</td>\n",
       "    </tr>\n",
       "    <tr>\n",
       "      <th>22</th>\n",
       "      <td>NaN</td>\n",
       "      <td>NaN</td>\n",
       "      <td>NaN</td>\n",
       "      <td>None</td>\n",
       "      <td>FEMALE</td>\n",
       "      <td>Biscoe</td>\n",
       "      <td>None</td>\n",
       "      <td>1</td>\n",
       "      <td>2024-03-23 14:16:35.235687+00:00</td>\n",
       "    </tr>\n",
       "    <tr>\n",
       "      <th>23</th>\n",
       "      <td>NaN</td>\n",
       "      <td>NaN</td>\n",
       "      <td>NaN</td>\n",
       "      <td>None</td>\n",
       "      <td>FEMALE</td>\n",
       "      <td>Biscoe</td>\n",
       "      <td>None</td>\n",
       "      <td>1</td>\n",
       "      <td>2024-03-24 14:16:39.314186+00:00</td>\n",
       "    </tr>\n",
       "    <tr>\n",
       "      <th>24</th>\n",
       "      <td>NaN</td>\n",
       "      <td>NaN</td>\n",
       "      <td>NaN</td>\n",
       "      <td>None</td>\n",
       "      <td>FEMALE</td>\n",
       "      <td>Biscoe</td>\n",
       "      <td>None</td>\n",
       "      <td>1</td>\n",
       "      <td>2024-03-24 14:16:42.405677+00:00</td>\n",
       "    </tr>\n",
       "    <tr>\n",
       "      <th>25</th>\n",
       "      <td>NaN</td>\n",
       "      <td>NaN</td>\n",
       "      <td>NaN</td>\n",
       "      <td>None</td>\n",
       "      <td>FEMALE</td>\n",
       "      <td>Biscoe</td>\n",
       "      <td>None</td>\n",
       "      <td>1</td>\n",
       "      <td>2024-03-25 14:16:49.206590+00:00</td>\n",
       "    </tr>\n",
       "    <tr>\n",
       "      <th>26</th>\n",
       "      <td>NaN</td>\n",
       "      <td>NaN</td>\n",
       "      <td>NaN</td>\n",
       "      <td>None</td>\n",
       "      <td>FEMALE</td>\n",
       "      <td>Biscoe</td>\n",
       "      <td>None</td>\n",
       "      <td>1</td>\n",
       "      <td>2024-03-26 14:16:52.775659+00:00</td>\n",
       "    </tr>\n",
       "    <tr>\n",
       "      <th>27</th>\n",
       "      <td>NaN</td>\n",
       "      <td>NaN</td>\n",
       "      <td>NaN</td>\n",
       "      <td>None</td>\n",
       "      <td>FEMALE</td>\n",
       "      <td>Biscoe</td>\n",
       "      <td>None</td>\n",
       "      <td>1</td>\n",
       "      <td>2024-03-26 14:16:55.945836+00:00</td>\n",
       "    </tr>\n",
       "    <tr>\n",
       "      <th>28</th>\n",
       "      <td>NaN</td>\n",
       "      <td>NaN</td>\n",
       "      <td>NaN</td>\n",
       "      <td>None</td>\n",
       "      <td>FEMALE</td>\n",
       "      <td>Biscoe</td>\n",
       "      <td>None</td>\n",
       "      <td>1</td>\n",
       "      <td>2024-03-27 14:16:59.123293+00:00</td>\n",
       "    </tr>\n",
       "    <tr>\n",
       "      <th>29</th>\n",
       "      <td>NaN</td>\n",
       "      <td>NaN</td>\n",
       "      <td>NaN</td>\n",
       "      <td>None</td>\n",
       "      <td>FEMALE</td>\n",
       "      <td>Biscoe</td>\n",
       "      <td>None</td>\n",
       "      <td>1</td>\n",
       "      <td>2024-03-27 14:17:02.969480+00:00</td>\n",
       "    </tr>\n",
       "    <tr>\n",
       "      <th>30</th>\n",
       "      <td>NaN</td>\n",
       "      <td>NaN</td>\n",
       "      <td>NaN</td>\n",
       "      <td>None</td>\n",
       "      <td>FEMALE</td>\n",
       "      <td>Biscoe</td>\n",
       "      <td>None</td>\n",
       "      <td>1</td>\n",
       "      <td>2024-03-28 14:17:06.727640+00:00</td>\n",
       "    </tr>\n",
       "    <tr>\n",
       "      <th>31</th>\n",
       "      <td>NaN</td>\n",
       "      <td>NaN</td>\n",
       "      <td>NaN</td>\n",
       "      <td>None</td>\n",
       "      <td>FEMALE</td>\n",
       "      <td>Biscoe</td>\n",
       "      <td>None</td>\n",
       "      <td>1</td>\n",
       "      <td>2024-03-28 14:17:10.546601+00:00</td>\n",
       "    </tr>\n",
       "    <tr>\n",
       "      <th>32</th>\n",
       "      <td>NaN</td>\n",
       "      <td>NaN</td>\n",
       "      <td>NaN</td>\n",
       "      <td>None</td>\n",
       "      <td>FEMALE</td>\n",
       "      <td>Biscoe</td>\n",
       "      <td>None</td>\n",
       "      <td>1</td>\n",
       "      <td>2024-03-29 14:17:17.521013+00:00</td>\n",
       "    </tr>\n",
       "    <tr>\n",
       "      <th>33</th>\n",
       "      <td>NaN</td>\n",
       "      <td>NaN</td>\n",
       "      <td>NaN</td>\n",
       "      <td>None</td>\n",
       "      <td>FEMALE</td>\n",
       "      <td>Biscoe</td>\n",
       "      <td>None</td>\n",
       "      <td>1</td>\n",
       "      <td>2024-03-30 14:17:27.156520+00:00</td>\n",
       "    </tr>\n",
       "    <tr>\n",
       "      <th>34</th>\n",
       "      <td>NaN</td>\n",
       "      <td>NaN</td>\n",
       "      <td>NaN</td>\n",
       "      <td>None</td>\n",
       "      <td>FEMALE</td>\n",
       "      <td>Biscoe</td>\n",
       "      <td>None</td>\n",
       "      <td>1</td>\n",
       "      <td>2024-03-31 14:17:30.816324+00:00</td>\n",
       "    </tr>\n",
       "    <tr>\n",
       "      <th>35</th>\n",
       "      <td>NaN</td>\n",
       "      <td>NaN</td>\n",
       "      <td>NaN</td>\n",
       "      <td>None</td>\n",
       "      <td>FEMALE</td>\n",
       "      <td>Biscoe</td>\n",
       "      <td>None</td>\n",
       "      <td>1</td>\n",
       "      <td>2024-03-31 14:17:34.172967+00:00</td>\n",
       "    </tr>\n",
       "    <tr>\n",
       "      <th>36</th>\n",
       "      <td>NaN</td>\n",
       "      <td>NaN</td>\n",
       "      <td>NaN</td>\n",
       "      <td>None</td>\n",
       "      <td>FEMALE</td>\n",
       "      <td>Biscoe</td>\n",
       "      <td>None</td>\n",
       "      <td>1</td>\n",
       "      <td>2024-04-01 14:17:37.585352+00:00</td>\n",
       "    </tr>\n",
       "    <tr>\n",
       "      <th>37</th>\n",
       "      <td>NaN</td>\n",
       "      <td>NaN</td>\n",
       "      <td>NaN</td>\n",
       "      <td>None</td>\n",
       "      <td>FEMALE</td>\n",
       "      <td>Biscoe</td>\n",
       "      <td>None</td>\n",
       "      <td>1</td>\n",
       "      <td>2024-04-01 14:17:41.179205+00:00</td>\n",
       "    </tr>\n",
       "    <tr>\n",
       "      <th>38</th>\n",
       "      <td>NaN</td>\n",
       "      <td>NaN</td>\n",
       "      <td>NaN</td>\n",
       "      <td>None</td>\n",
       "      <td>FEMALE</td>\n",
       "      <td>Biscoe</td>\n",
       "      <td>None</td>\n",
       "      <td>1</td>\n",
       "      <td>2024-04-02 14:17:45.858182+00:00</td>\n",
       "    </tr>\n",
       "    <tr>\n",
       "      <th>39</th>\n",
       "      <td>NaN</td>\n",
       "      <td>NaN</td>\n",
       "      <td>NaN</td>\n",
       "      <td>None</td>\n",
       "      <td>FEMALE</td>\n",
       "      <td>Biscoe</td>\n",
       "      <td>None</td>\n",
       "      <td>1</td>\n",
       "      <td>2024-04-02 14:17:50.130724+00:00</td>\n",
       "    </tr>\n",
       "    <tr>\n",
       "      <th>40</th>\n",
       "      <td>NaN</td>\n",
       "      <td>NaN</td>\n",
       "      <td>NaN</td>\n",
       "      <td>None</td>\n",
       "      <td>FEMALE</td>\n",
       "      <td>Biscoe</td>\n",
       "      <td>None</td>\n",
       "      <td>1</td>\n",
       "      <td>2024-04-03 14:17:53.481290+00:00</td>\n",
       "    </tr>\n",
       "    <tr>\n",
       "      <th>41</th>\n",
       "      <td>NaN</td>\n",
       "      <td>NaN</td>\n",
       "      <td>NaN</td>\n",
       "      <td>None</td>\n",
       "      <td>FEMALE</td>\n",
       "      <td>Biscoe</td>\n",
       "      <td>None</td>\n",
       "      <td>1</td>\n",
       "      <td>2024-04-03 14:17:57.177735+00:00</td>\n",
       "    </tr>\n",
       "  </tbody>\n",
       "</table>\n",
       "</div>"
      ],
      "text/plain": [
       "    body_mass_g  culmen_length_mm  culmen_depth_mm flipper_length_mm     sex  \\\n",
       "0           NaN               NaN              NaN              None  FEMALE   \n",
       "1           NaN               NaN              NaN              None  FEMALE   \n",
       "2           NaN               NaN              NaN              None  FEMALE   \n",
       "3           NaN               NaN              NaN              None  FEMALE   \n",
       "4           NaN               NaN              NaN              None  FEMALE   \n",
       "5           NaN               NaN              NaN              None  FEMALE   \n",
       "6           NaN               NaN              NaN              None  FEMALE   \n",
       "7           NaN               NaN              NaN              None  FEMALE   \n",
       "8           NaN               NaN              NaN              None  FEMALE   \n",
       "9           NaN               NaN              NaN              None  FEMALE   \n",
       "10          NaN               NaN              NaN              None  FEMALE   \n",
       "11          NaN               NaN              NaN              None  FEMALE   \n",
       "12          NaN               NaN              NaN              None  FEMALE   \n",
       "13          NaN               NaN              NaN              None  FEMALE   \n",
       "14          NaN               NaN              NaN              None  FEMALE   \n",
       "15          NaN               NaN              NaN              None  FEMALE   \n",
       "16          NaN               NaN              NaN              None  FEMALE   \n",
       "17          NaN               NaN              NaN              None  FEMALE   \n",
       "18          NaN               NaN              NaN              None  FEMALE   \n",
       "19          NaN               NaN              NaN              None  FEMALE   \n",
       "20          NaN               NaN              NaN              None  FEMALE   \n",
       "21          NaN               NaN              NaN              None  FEMALE   \n",
       "22          NaN               NaN              NaN              None  FEMALE   \n",
       "23          NaN               NaN              NaN              None  FEMALE   \n",
       "24          NaN               NaN              NaN              None  FEMALE   \n",
       "25          NaN               NaN              NaN              None  FEMALE   \n",
       "26          NaN               NaN              NaN              None  FEMALE   \n",
       "27          NaN               NaN              NaN              None  FEMALE   \n",
       "28          NaN               NaN              NaN              None  FEMALE   \n",
       "29          NaN               NaN              NaN              None  FEMALE   \n",
       "30          NaN               NaN              NaN              None  FEMALE   \n",
       "31          NaN               NaN              NaN              None  FEMALE   \n",
       "32          NaN               NaN              NaN              None  FEMALE   \n",
       "33          NaN               NaN              NaN              None  FEMALE   \n",
       "34          NaN               NaN              NaN              None  FEMALE   \n",
       "35          NaN               NaN              NaN              None  FEMALE   \n",
       "36          NaN               NaN              NaN              None  FEMALE   \n",
       "37          NaN               NaN              NaN              None  FEMALE   \n",
       "38          NaN               NaN              NaN              None  FEMALE   \n",
       "39          NaN               NaN              NaN              None  FEMALE   \n",
       "40          NaN               NaN              NaN              None  FEMALE   \n",
       "41          NaN               NaN              NaN              None  FEMALE   \n",
       "\n",
       "       island                              species entity_id  \\\n",
       "0   Torgersen  Adelie Penguin (Pygoscelis adeliae)         1   \n",
       "1      Biscoe                                 None         1   \n",
       "2      Biscoe                                 None         1   \n",
       "3      Biscoe                                 None         1   \n",
       "4      Biscoe                                 None         1   \n",
       "5      Biscoe                                 None         1   \n",
       "6      Biscoe                                 None         1   \n",
       "7      Biscoe                                 None         1   \n",
       "8      Biscoe                                 None         1   \n",
       "9      Biscoe                                 None         1   \n",
       "10     Biscoe                                 None         1   \n",
       "11     Biscoe                                 None         1   \n",
       "12     Biscoe                                 None         1   \n",
       "13     Biscoe                                 None         1   \n",
       "14     Biscoe                                 None         1   \n",
       "15     Biscoe                                 None         1   \n",
       "16     Biscoe                                 None         1   \n",
       "17     Biscoe                                 None         1   \n",
       "18     Biscoe                                 None         1   \n",
       "19     Biscoe                                 None         1   \n",
       "20     Biscoe                                 None         1   \n",
       "21     Biscoe                                 None         1   \n",
       "22     Biscoe                                 None         1   \n",
       "23     Biscoe                                 None         1   \n",
       "24     Biscoe                                 None         1   \n",
       "25     Biscoe                                 None         1   \n",
       "26     Biscoe                                 None         1   \n",
       "27     Biscoe                                 None         1   \n",
       "28     Biscoe                                 None         1   \n",
       "29     Biscoe                                 None         1   \n",
       "30     Biscoe                                 None         1   \n",
       "31     Biscoe                                 None         1   \n",
       "32     Biscoe                                 None         1   \n",
       "33     Biscoe                                 None         1   \n",
       "34     Biscoe                                 None         1   \n",
       "35     Biscoe                                 None         1   \n",
       "36     Biscoe                                 None         1   \n",
       "37     Biscoe                                 None         1   \n",
       "38     Biscoe                                 None         1   \n",
       "39     Biscoe                                 None         1   \n",
       "40     Biscoe                                 None         1   \n",
       "41     Biscoe                                 None         1   \n",
       "\n",
       "                  feature_timestamp  \n",
       "0  2024-03-04 14:14:24.656924+00:00  \n",
       "1  2024-03-05 14:14:27.803600+00:00  \n",
       "2  2024-03-05 14:14:30.533996+00:00  \n",
       "3  2024-03-06 14:14:37.165137+00:00  \n",
       "4  2024-03-08 14:14:47.577282+00:00  \n",
       "5  2024-03-09 14:14:57.622038+00:00  \n",
       "6  2024-03-10 14:15:04.178237+00:00  \n",
       "7  2024-03-11 14:15:07.560597+00:00  \n",
       "8  2024-03-11 14:15:10.758457+00:00  \n",
       "9  2024-03-12 14:15:18.313534+00:00  \n",
       "10 2024-03-13 14:15:22.243316+00:00  \n",
       "11 2024-03-13 14:15:25.442450+00:00  \n",
       "12 2024-03-14 14:15:32.523670+00:00  \n",
       "13 2024-03-15 14:15:38.855719+00:00  \n",
       "14 2024-03-16 14:15:42.467999+00:00  \n",
       "15 2024-03-16 14:15:45.992873+00:00  \n",
       "16 2024-03-18 14:16:00.300016+00:00  \n",
       "17 2024-03-19 14:16:04.183302+00:00  \n",
       "18 2024-03-20 14:16:10.808012+00:00  \n",
       "19 2024-03-21 14:16:21.634002+00:00  \n",
       "20 2024-03-22 14:16:24.954029+00:00  \n",
       "21 2024-03-22 14:16:28.252800+00:00  \n",
       "22 2024-03-23 14:16:35.235687+00:00  \n",
       "23 2024-03-24 14:16:39.314186+00:00  \n",
       "24 2024-03-24 14:16:42.405677+00:00  \n",
       "25 2024-03-25 14:16:49.206590+00:00  \n",
       "26 2024-03-26 14:16:52.775659+00:00  \n",
       "27 2024-03-26 14:16:55.945836+00:00  \n",
       "28 2024-03-27 14:16:59.123293+00:00  \n",
       "29 2024-03-27 14:17:02.969480+00:00  \n",
       "30 2024-03-28 14:17:06.727640+00:00  \n",
       "31 2024-03-28 14:17:10.546601+00:00  \n",
       "32 2024-03-29 14:17:17.521013+00:00  \n",
       "33 2024-03-30 14:17:27.156520+00:00  \n",
       "34 2024-03-31 14:17:30.816324+00:00  \n",
       "35 2024-03-31 14:17:34.172967+00:00  \n",
       "36 2024-04-01 14:17:37.585352+00:00  \n",
       "37 2024-04-01 14:17:41.179205+00:00  \n",
       "38 2024-04-02 14:17:45.858182+00:00  \n",
       "39 2024-04-02 14:17:50.130724+00:00  \n",
       "40 2024-04-03 14:17:53.481290+00:00  \n",
       "41 2024-04-03 14:17:57.177735+00:00  "
      ]
     },
     "execution_count": 49,
     "metadata": {},
     "output_type": "execute_result"
    }
   ],
   "source": [
    "%%bigquery\n",
    "SELECT *\n",
    "FROM `statmike-mlops-349915.bqml_model_monitoring.production_features`\n",
    "WHERE entity_id = '1'\n",
    "ORDER BY feature_timestamp"
   ]
  },
  {
   "cell_type": "markdown",
   "metadata": {
    "tags": []
   },
   "source": [
    "### Review Transformed Feature Values At A Point-In-Time\n",
    "\n",
    "Use the `ML.FEATURE_AT_TIME` function to review the latest transformed feature values for the first 10 pinguns:"
   ]
  },
  {
   "cell_type": "code",
   "execution_count": 50,
   "metadata": {
    "tags": []
   },
   "outputs": [
    {
     "data": {
      "application/vnd.jupyter.widget-view+json": {
       "model_id": "76797ae59d4c4e16bb7ae7cdafa2e17b",
       "version_major": 2,
       "version_minor": 0
      },
      "text/plain": [
       "Query is running:   0%|          |"
      ]
     },
     "metadata": {},
     "output_type": "display_data"
    },
    {
     "data": {
      "application/vnd.jupyter.widget-view+json": {
       "model_id": "db3da59f69334ec9a51e19078e16df95",
       "version_major": 2,
       "version_minor": 0
      },
      "text/plain": [
       "Downloading:   0%|          |"
      ]
     },
     "metadata": {},
     "output_type": "display_data"
    },
    {
     "data": {
      "text/html": [
       "<div>\n",
       "<style scoped>\n",
       "    .dataframe tbody tr th:only-of-type {\n",
       "        vertical-align: middle;\n",
       "    }\n",
       "\n",
       "    .dataframe tbody tr th {\n",
       "        vertical-align: top;\n",
       "    }\n",
       "\n",
       "    .dataframe thead th {\n",
       "        text-align: right;\n",
       "    }\n",
       "</style>\n",
       "<table border=\"1\" class=\"dataframe\">\n",
       "  <thead>\n",
       "    <tr style=\"text-align: right;\">\n",
       "      <th></th>\n",
       "      <th>body_mass_g</th>\n",
       "      <th>culmen_length_mm</th>\n",
       "      <th>culmen_depth_mm</th>\n",
       "      <th>flipper_length_mm</th>\n",
       "      <th>sex</th>\n",
       "      <th>island</th>\n",
       "      <th>species</th>\n",
       "      <th>entity_id</th>\n",
       "      <th>feature_timestamp</th>\n",
       "    </tr>\n",
       "  </thead>\n",
       "  <tbody>\n",
       "    <tr>\n",
       "      <th>0</th>\n",
       "      <td>1.519614</td>\n",
       "      <td>0.876444</td>\n",
       "      <td>-0.716448</td>\n",
       "      <td>bin_3</td>\n",
       "      <td>FEMALE</td>\n",
       "      <td>Biscoe</td>\n",
       "      <td>Gentoo penguin (Pygoscelis papua)</td>\n",
       "      <td>8</td>\n",
       "      <td>2024-04-04 14:38:58.907744+00:00</td>\n",
       "    </tr>\n",
       "    <tr>\n",
       "      <th>1</th>\n",
       "      <td>0.310261</td>\n",
       "      <td>-1.113980</td>\n",
       "      <td>0.074825</td>\n",
       "      <td>bin_2</td>\n",
       "      <td>FEMALE</td>\n",
       "      <td>Biscoe</td>\n",
       "      <td>Adelie Penguin (Pygoscelis adeliae)</td>\n",
       "      <td>4</td>\n",
       "      <td>2024-04-04 14:38:58.907744+00:00</td>\n",
       "    </tr>\n",
       "    <tr>\n",
       "      <th>2</th>\n",
       "      <td>0.568533</td>\n",
       "      <td>-0.127898</td>\n",
       "      <td>0.668279</td>\n",
       "      <td>bin_2</td>\n",
       "      <td>FEMALE</td>\n",
       "      <td>Biscoe</td>\n",
       "      <td>Adelie Penguin (Pygoscelis adeliae)</td>\n",
       "      <td>6</td>\n",
       "      <td>2024-04-04 14:38:58.907744+00:00</td>\n",
       "    </tr>\n",
       "    <tr>\n",
       "      <th>3</th>\n",
       "      <td>0.248281</td>\n",
       "      <td>-0.894851</td>\n",
       "      <td>0.767188</td>\n",
       "      <td>bin_2</td>\n",
       "      <td>FEMALE</td>\n",
       "      <td>Biscoe</td>\n",
       "      <td>Adelie Penguin (Pygoscelis adeliae)</td>\n",
       "      <td>10</td>\n",
       "      <td>2024-04-04 14:38:58.907744+00:00</td>\n",
       "    </tr>\n",
       "    <tr>\n",
       "      <th>4</th>\n",
       "      <td>0.618833</td>\n",
       "      <td>-0.566157</td>\n",
       "      <td>0.866097</td>\n",
       "      <td>bin_3</td>\n",
       "      <td>FEMALE</td>\n",
       "      <td>Biscoe</td>\n",
       "      <td>Adelie Penguin (Pygoscelis adeliae)</td>\n",
       "      <td>9</td>\n",
       "      <td>2024-04-04 14:38:58.907744+00:00</td>\n",
       "    </tr>\n",
       "    <tr>\n",
       "      <th>5</th>\n",
       "      <td>NaN</td>\n",
       "      <td>NaN</td>\n",
       "      <td>NaN</td>\n",
       "      <td>None</td>\n",
       "      <td>FEMALE</td>\n",
       "      <td>Biscoe</td>\n",
       "      <td>Adelie Penguin (Pygoscelis adeliae)</td>\n",
       "      <td>1</td>\n",
       "      <td>2024-04-04 14:38:58.907744+00:00</td>\n",
       "    </tr>\n",
       "    <tr>\n",
       "      <th>6</th>\n",
       "      <td>1.174093</td>\n",
       "      <td>0.109492</td>\n",
       "      <td>-0.716448</td>\n",
       "      <td>bin_3</td>\n",
       "      <td>FEMALE</td>\n",
       "      <td>Biscoe</td>\n",
       "      <td>Gentoo penguin (Pygoscelis papua)</td>\n",
       "      <td>3</td>\n",
       "      <td>2024-04-04 14:38:58.907744+00:00</td>\n",
       "    </tr>\n",
       "    <tr>\n",
       "      <th>7</th>\n",
       "      <td>0.315322</td>\n",
       "      <td>-0.767025</td>\n",
       "      <td>0.866097</td>\n",
       "      <td>bin_2</td>\n",
       "      <td>FEMALE</td>\n",
       "      <td>Biscoe</td>\n",
       "      <td>Adelie Penguin (Pygoscelis adeliae)</td>\n",
       "      <td>5</td>\n",
       "      <td>2024-04-04 14:38:58.907744+00:00</td>\n",
       "    </tr>\n",
       "    <tr>\n",
       "      <th>8</th>\n",
       "      <td>0.521220</td>\n",
       "      <td>-0.347028</td>\n",
       "      <td>1.162824</td>\n",
       "      <td>bin_3</td>\n",
       "      <td>FEMALE</td>\n",
       "      <td>Biscoe</td>\n",
       "      <td>Adelie Penguin (Pygoscelis adeliae)</td>\n",
       "      <td>7</td>\n",
       "      <td>2024-04-04 14:38:58.907744+00:00</td>\n",
       "    </tr>\n",
       "    <tr>\n",
       "      <th>9</th>\n",
       "      <td>0.646352</td>\n",
       "      <td>0.109492</td>\n",
       "      <td>-1.408811</td>\n",
       "      <td>bin_3</td>\n",
       "      <td>FEMALE</td>\n",
       "      <td>Biscoe</td>\n",
       "      <td>Gentoo penguin (Pygoscelis papua)</td>\n",
       "      <td>2</td>\n",
       "      <td>2024-04-04 14:38:58.907744+00:00</td>\n",
       "    </tr>\n",
       "  </tbody>\n",
       "</table>\n",
       "</div>"
      ],
      "text/plain": [
       "   body_mass_g  culmen_length_mm  culmen_depth_mm flipper_length_mm     sex  \\\n",
       "0     1.519614          0.876444        -0.716448             bin_3  FEMALE   \n",
       "1     0.310261         -1.113980         0.074825             bin_2  FEMALE   \n",
       "2     0.568533         -0.127898         0.668279             bin_2  FEMALE   \n",
       "3     0.248281         -0.894851         0.767188             bin_2  FEMALE   \n",
       "4     0.618833         -0.566157         0.866097             bin_3  FEMALE   \n",
       "5          NaN               NaN              NaN              None  FEMALE   \n",
       "6     1.174093          0.109492        -0.716448             bin_3  FEMALE   \n",
       "7     0.315322         -0.767025         0.866097             bin_2  FEMALE   \n",
       "8     0.521220         -0.347028         1.162824             bin_3  FEMALE   \n",
       "9     0.646352          0.109492        -1.408811             bin_3  FEMALE   \n",
       "\n",
       "   island                              species entity_id  \\\n",
       "0  Biscoe    Gentoo penguin (Pygoscelis papua)         8   \n",
       "1  Biscoe  Adelie Penguin (Pygoscelis adeliae)         4   \n",
       "2  Biscoe  Adelie Penguin (Pygoscelis adeliae)         6   \n",
       "3  Biscoe  Adelie Penguin (Pygoscelis adeliae)        10   \n",
       "4  Biscoe  Adelie Penguin (Pygoscelis adeliae)         9   \n",
       "5  Biscoe  Adelie Penguin (Pygoscelis adeliae)         1   \n",
       "6  Biscoe    Gentoo penguin (Pygoscelis papua)         3   \n",
       "7  Biscoe  Adelie Penguin (Pygoscelis adeliae)         5   \n",
       "8  Biscoe  Adelie Penguin (Pygoscelis adeliae)         7   \n",
       "9  Biscoe    Gentoo penguin (Pygoscelis papua)         2   \n",
       "\n",
       "                 feature_timestamp  \n",
       "0 2024-04-04 14:38:58.907744+00:00  \n",
       "1 2024-04-04 14:38:58.907744+00:00  \n",
       "2 2024-04-04 14:38:58.907744+00:00  \n",
       "3 2024-04-04 14:38:58.907744+00:00  \n",
       "4 2024-04-04 14:38:58.907744+00:00  \n",
       "5 2024-04-04 14:38:58.907744+00:00  \n",
       "6 2024-04-04 14:38:58.907744+00:00  \n",
       "7 2024-04-04 14:38:58.907744+00:00  \n",
       "8 2024-04-04 14:38:58.907744+00:00  \n",
       "9 2024-04-04 14:38:58.907744+00:00  "
      ]
     },
     "execution_count": 50,
     "metadata": {},
     "output_type": "execute_result"
    }
   ],
   "source": [
    "%%bigquery\n",
    "SELECT *\n",
    "FROM ML.FEATURES_AT_TIME(\n",
    "    (SELECT * FROM `statmike-mlops-349915.bqml_model_monitoring.production_features` WHERE entity_id in ('1', '2', '3', '4', '5', '6', '7', '8', '9', '10')),\n",
    "    time => CURRENT_TIMESTAMP(),\n",
    "    num_rows => 1,\n",
    "    ignore_feature_nulls => TRUE\n",
    ")"
   ]
  },
  {
   "cell_type": "markdown",
   "metadata": {},
   "source": [
    "### Review The Transformed Features Pattern Over Time\n",
    "\n",
    "Plot the transformed features for 10 penguins to see the changes over the last 30 days using [`ML.ENTITY_FEATURES_AT_TIME`](https://cloud.google.com/bigquery/docs/reference/standard-sql/bigqueryml-syntax-entity-feature-time) to extract point-in-time feature values for the set:"
   ]
  },
  {
   "cell_type": "code",
   "execution_count": 51,
   "metadata": {
    "tags": []
   },
   "outputs": [
    {
     "data": {
      "application/vnd.jupyter.widget-view+json": {
       "model_id": "a68cbbd03a6a46609a29b1fa66f04a2b",
       "version_major": 2,
       "version_minor": 0
      },
      "text/plain": [
       "Query is running:   0%|          |"
      ]
     },
     "metadata": {},
     "output_type": "display_data"
    },
    {
     "data": {
      "application/vnd.jupyter.widget-view+json": {
       "model_id": "db986d4f68a54afdbb6f77acdcb12eca",
       "version_major": 2,
       "version_minor": 0
      },
      "text/plain": [
       "Downloading:   0%|          |"
      ]
     },
     "metadata": {},
     "output_type": "display_data"
    }
   ],
   "source": [
    "%%bigquery penguins\n",
    "WITH\n",
    "    TIME_TABLE AS (\n",
    "        SELECT TIMESTAMP(feature_date) AS time\n",
    "        FROM UNNEST(GENERATE_DATE_ARRAY(DATE_SUB(CURRENT_DATE(), INTERVAL 30 DAY), CURRENT_DATE())) AS feature_date\n",
    "    ),\n",
    "    ENTITY_TABLE AS (\n",
    "        SELECT CAST(id AS STRING) AS entity_id\n",
    "        FROM UNNEST(GENERATE_ARRAY(1, 10)) AS id\n",
    "    ),\n",
    "    ENTITY_TIME_TABLE AS (\n",
    "        SELECT *\n",
    "        FROM ENTITY_TABLE\n",
    "        CROSS JOIN TIME_TABLE\n",
    "    )\n",
    "SELECT *\n",
    "FROM ML.ENTITY_FEATURES_AT_TIME(\n",
    "    TABLE `statmike-mlops-349915.bqml_model_monitoring.production_features`,\n",
    "    TABLE ENTITY_TIME_TABLE,\n",
    "    num_rows => 1,\n",
    "    ignore_feature_nulls => TRUE\n",
    ")\n",
    "ORDER BY entity_id, feature_timestamp"
   ]
  },
  {
   "cell_type": "code",
   "execution_count": 52,
   "metadata": {
    "tags": []
   },
   "outputs": [],
   "source": [
    "penguins.set_index('feature_timestamp', inplace = True)"
   ]
  },
  {
   "cell_type": "code",
   "execution_count": 53,
   "metadata": {
    "tags": []
   },
   "outputs": [
    {
     "data": {
      "text/plain": [
       "entity_id\n",
       "1     Axes(0.125,0.11;0.775x0.77)\n",
       "10    Axes(0.125,0.11;0.775x0.77)\n",
       "2     Axes(0.125,0.11;0.775x0.77)\n",
       "3     Axes(0.125,0.11;0.775x0.77)\n",
       "4     Axes(0.125,0.11;0.775x0.77)\n",
       "5     Axes(0.125,0.11;0.775x0.77)\n",
       "6     Axes(0.125,0.11;0.775x0.77)\n",
       "7     Axes(0.125,0.11;0.775x0.77)\n",
       "8     Axes(0.125,0.11;0.775x0.77)\n",
       "9     Axes(0.125,0.11;0.775x0.77)\n",
       "Name: body_mass_g, dtype: object"
      ]
     },
     "execution_count": 53,
     "metadata": {},
     "output_type": "execute_result"
    },
    {
     "data": {
      "image/png": "[encoded data removed]",
      "text/plain": [
       "<Figure size 640x480 with 1 Axes>"
      ]
     },
     "metadata": {},
     "output_type": "display_data"
    }
   ],
   "source": [
    "penguins.groupby('entity_id')['body_mass_g'].plot(legend = True, title = 'Body Mass Over Last 30 days\\nsample (n=10)')"
   ]
  },
  {
   "cell_type": "markdown",
   "metadata": {
    "tags": []
   },
   "source": [
    "---\n",
    "## Monitoring With Evaluations\n",
    "\n",
    "First, look at the evaluation metrics for the most recent days data which has the cumulative change of the past 30 days introduced above.  In this case, the actual known values is known. This may not be possible in many real-world examples where the actual known values are:\n",
    "- delayed by minutes, hours, days, or even longer\n",
    "- not always known for all instances\n",
    "- potentially in a different status that can change over a period of time before being confirmed as final\n",
    "\n",
    "In reviewing the evaluation for the most recent instances here, the precision has dropped and the log_loss has increased drastically.  The confusion matrix shows Chinstrap penguins's are now being misclassified much more often than when the model was trained.  \n",
    "\n",
    "The question becomes \"How soon could this have been noticed?\"."
   ]
  },
  {
   "cell_type": "code",
   "execution_count": 54,
   "metadata": {
    "tags": []
   },
   "outputs": [
    {
     "data": {
      "application/vnd.jupyter.widget-view+json": {
       "model_id": "ffe681a2732d4d0782d013f7a3f53916",
       "version_major": 2,
       "version_minor": 0
      },
      "text/plain": [
       "Query is running:   0%|          |"
      ]
     },
     "metadata": {},
     "output_type": "display_data"
    },
    {
     "data": {
      "application/vnd.jupyter.widget-view+json": {
       "model_id": "3175ed75464547519e0fa857943dedd1",
       "version_major": 2,
       "version_minor": 0
      },
      "text/plain": [
       "Downloading:   0%|          |"
      ]
     },
     "metadata": {},
     "output_type": "display_data"
    },
    {
     "data": {
      "text/html": [
       "<div>\n",
       "<style scoped>\n",
       "    .dataframe tbody tr th:only-of-type {\n",
       "        vertical-align: middle;\n",
       "    }\n",
       "\n",
       "    .dataframe tbody tr th {\n",
       "        vertical-align: top;\n",
       "    }\n",
       "\n",
       "    .dataframe thead th {\n",
       "        text-align: right;\n",
       "    }\n",
       "</style>\n",
       "<table border=\"1\" class=\"dataframe\">\n",
       "  <thead>\n",
       "    <tr style=\"text-align: right;\">\n",
       "      <th></th>\n",
       "      <th>precision</th>\n",
       "      <th>recall</th>\n",
       "      <th>accuracy</th>\n",
       "      <th>f1_score</th>\n",
       "      <th>log_loss</th>\n",
       "      <th>roc_auc</th>\n",
       "    </tr>\n",
       "  </thead>\n",
       "  <tbody>\n",
       "    <tr>\n",
       "      <th>0</th>\n",
       "      <td>0.883929</td>\n",
       "      <td>0.741071</td>\n",
       "      <td>0.830986</td>\n",
       "      <td>0.738426</td>\n",
       "      <td>0.872351</td>\n",
       "      <td>0.995783</td>\n",
       "    </tr>\n",
       "  </tbody>\n",
       "</table>\n",
       "</div>"
      ],
      "text/plain": [
       "   precision    recall  accuracy  f1_score  log_loss   roc_auc\n",
       "0   0.883929  0.741071  0.830986  0.738426  0.872351  0.995783"
      ]
     },
     "execution_count": 54,
     "metadata": {},
     "output_type": "execute_result"
    }
   ],
   "source": [
    "%%bigquery\n",
    "SELECT *\n",
    "FROM ML.EVALUATE (\n",
    "    MODEL `statmike-mlops-349915.bqml_model_monitoring.classify_species_dnn`,\n",
    "    (\n",
    "        SELECT *\n",
    "        FROM ML.FEATURES_AT_TIME(\n",
    "            TABLE `statmike-mlops-349915.bqml_model_monitoring.production_features`,\n",
    "            time => CURRENT_TIMESTAMP(),\n",
    "            num_rows => 1,\n",
    "            ignore_feature_nulls => TRUE\n",
    "        )\n",
    "    )\n",
    ")"
   ]
  },
  {
   "cell_type": "code",
   "execution_count": 55,
   "metadata": {
    "tags": []
   },
   "outputs": [
    {
     "data": {
      "application/vnd.jupyter.widget-view+json": {
       "model_id": "1da7320f69ca486c84a8ea7d0f7a6fac",
       "version_major": 2,
       "version_minor": 0
      },
      "text/plain": [
       "Query is running:   0%|          |"
      ]
     },
     "metadata": {},
     "output_type": "display_data"
    },
    {
     "data": {
      "application/vnd.jupyter.widget-view+json": {
       "model_id": "ab8aa686a96744488c96098ab1d9c198",
       "version_major": 2,
       "version_minor": 0
      },
      "text/plain": [
       "Downloading:   0%|          |"
      ]
     },
     "metadata": {},
     "output_type": "display_data"
    },
    {
     "data": {
      "text/html": [
       "<div>\n",
       "<style scoped>\n",
       "    .dataframe tbody tr th:only-of-type {\n",
       "        vertical-align: middle;\n",
       "    }\n",
       "\n",
       "    .dataframe tbody tr th {\n",
       "        vertical-align: top;\n",
       "    }\n",
       "\n",
       "    .dataframe thead th {\n",
       "        text-align: right;\n",
       "    }\n",
       "</style>\n",
       "<table border=\"1\" class=\"dataframe\">\n",
       "  <thead>\n",
       "    <tr style=\"text-align: right;\">\n",
       "      <th></th>\n",
       "      <th>expected_label</th>\n",
       "      <th>Adelie_Penguin__Pygoscelis_adeliae_</th>\n",
       "      <th>Chinstrap_penguin__Pygoscelis_antarctica_</th>\n",
       "      <th>Gentoo_penguin__Pygoscelis_papua_</th>\n",
       "    </tr>\n",
       "  </thead>\n",
       "  <tbody>\n",
       "    <tr>\n",
       "      <th>0</th>\n",
       "      <td>Adelie Penguin (Pygoscelis adeliae)</td>\n",
       "      <td>30</td>\n",
       "      <td>0</td>\n",
       "      <td>2</td>\n",
       "    </tr>\n",
       "    <tr>\n",
       "      <th>1</th>\n",
       "      <td>Chinstrap penguin (Pygoscelis antarctica)</td>\n",
       "      <td>2</td>\n",
       "      <td>4</td>\n",
       "      <td>8</td>\n",
       "    </tr>\n",
       "    <tr>\n",
       "      <th>2</th>\n",
       "      <td>Gentoo penguin (Pygoscelis papua)</td>\n",
       "      <td>0</td>\n",
       "      <td>0</td>\n",
       "      <td>25</td>\n",
       "    </tr>\n",
       "  </tbody>\n",
       "</table>\n",
       "</div>"
      ],
      "text/plain": [
       "                              expected_label  \\\n",
       "0        Adelie Penguin (Pygoscelis adeliae)   \n",
       "1  Chinstrap penguin (Pygoscelis antarctica)   \n",
       "2          Gentoo penguin (Pygoscelis papua)   \n",
       "\n",
       "   Adelie_Penguin__Pygoscelis_adeliae_  \\\n",
       "0                                   30   \n",
       "1                                    2   \n",
       "2                                    0   \n",
       "\n",
       "   Chinstrap_penguin__Pygoscelis_antarctica_  \\\n",
       "0                                          0   \n",
       "1                                          4   \n",
       "2                                          0   \n",
       "\n",
       "   Gentoo_penguin__Pygoscelis_papua_  \n",
       "0                                  2  \n",
       "1                                  8  \n",
       "2                                 25  "
      ]
     },
     "execution_count": 55,
     "metadata": {},
     "output_type": "execute_result"
    }
   ],
   "source": [
    "%%bigquery\n",
    "SELECT *\n",
    "FROM ML.CONFUSION_MATRIX (\n",
    "    MODEL `statmike-mlops-349915.bqml_model_monitoring.classify_species_dnn`,\n",
    "    (\n",
    "        SELECT *\n",
    "        FROM ML.FEATURES_AT_TIME(\n",
    "            TABLE `statmike-mlops-349915.bqml_model_monitoring.production_features`,\n",
    "            time => CURRENT_TIMESTAMP(),\n",
    "            num_rows => 1,\n",
    "            ignore_feature_nulls => TRUE\n",
    "        )\n",
    "    )\n",
    ")"
   ]
  },
  {
   "cell_type": "markdown",
   "metadata": {},
   "source": [
    "### Evaluations: Over Time\n",
    "\n",
    "In this case, we know the actual identification of the `species` and are measuring the same penguins daily.  Reviewing the evaluations daily could give a good sense of how the model is performing on a daily basis.\n",
    "\n",
    "The result of the daily evaluations below shows that the log_loss starts to increase immediately and after about a week the first miss-classificaiton occurs and impacts precision/recall/accuracy/f1_score. \n",
    "\n",
    "What if the actual values where only known after a lag of days or weeks?  How quickly would evaluations be able to indicate the model's accuracy is possible questionable?  The answer is a different approach - Model Monitoring.  This is covered in the section that follows."
   ]
  },
  {
   "cell_type": "code",
   "execution_count": 56,
   "metadata": {},
   "outputs": [
    {
     "data": {
      "application/vnd.jupyter.widget-view+json": {
       "model_id": "c434c6587a7a4c688003c2b6bf509e82",
       "version_major": 2,
       "version_minor": 0
      },
      "text/plain": [
       "Query is running:   0%|          |"
      ]
     },
     "metadata": {},
     "output_type": "display_data"
    },
    {
     "data": {
      "application/vnd.jupyter.widget-view+json": {
       "model_id": "ec9f1ffd35794370a3a9313f2df5d86b",
       "version_major": 2,
       "version_minor": 0
      },
      "text/plain": [
       "Downloading:   0%|          |"
      ]
     },
     "metadata": {},
     "output_type": "display_data"
    }
   ],
   "source": [
    "%%bigquery evaluations\n",
    "DECLARE counter INT64 DEFAULT 30;\n",
    "DECLARE result STRUCT<precision FLOAT64, recall FLOAT64, accuracy FLOAT64, f1_score FLOAT64, log_loss FLOAT64, roc_auc FLOAT64, eval_date DATE>;\n",
    "DECLARE results ARRAY<STRUCT<precision FLOAT64, recall FLOAT64, accuracy FLOAT64, f1_score FLOAT64, log_loss FLOAT64, roc_auc FLOAT64, eval_date DATE>> DEFAULT [];\n",
    "LOOP\n",
    "    IF counter < 0 THEN LEAVE;\n",
    "    END IF;\n",
    "    SET result = (\n",
    "            SELECT AS STRUCT precision, recall, accuracy, f1_score, log_loss, roc_auc, DATE_SUB(CURRENT_DATE(), INTERVAL counter DAY) AS eval_date\n",
    "            FROM ML.EVALUATE (\n",
    "                MODEL `statmike-mlops-349915.bqml_model_monitoring.classify_species_dnn`,\n",
    "                (\n",
    "                    SELECT *\n",
    "                    FROM ML.FEATURES_AT_TIME(\n",
    "                        TABLE `statmike-mlops-349915.bqml_model_monitoring.production_features`,\n",
    "                        time => TIMESTAMP(DATE_SUB(CURRENT_DATE(), INTERVAL counter DAY)),\n",
    "                        num_rows => 1,\n",
    "                        ignore_feature_nulls => TRUE\n",
    "                    )\n",
    "                )\n",
    "            )\n",
    "    );\n",
    "    SET results = ARRAY_CONCAT(results,[result]);\n",
    "    SET counter = counter - 1;\n",
    "END LOOP;\n",
    "SELECT * FROM UNNEST(results);"
   ]
  },
  {
   "cell_type": "code",
   "execution_count": 57,
   "metadata": {
    "tags": []
   },
   "outputs": [
    {
     "data": {
      "text/html": [
       "<div>\n",
       "<style scoped>\n",
       "    .dataframe tbody tr th:only-of-type {\n",
       "        vertical-align: middle;\n",
       "    }\n",
       "\n",
       "    .dataframe tbody tr th {\n",
       "        vertical-align: top;\n",
       "    }\n",
       "\n",
       "    .dataframe thead th {\n",
       "        text-align: right;\n",
       "    }\n",
       "</style>\n",
       "<table border=\"1\" class=\"dataframe\">\n",
       "  <thead>\n",
       "    <tr style=\"text-align: right;\">\n",
       "      <th></th>\n",
       "      <th>precision</th>\n",
       "      <th>recall</th>\n",
       "      <th>accuracy</th>\n",
       "      <th>f1_score</th>\n",
       "      <th>log_loss</th>\n",
       "      <th>roc_auc</th>\n",
       "      <th>eval_date</th>\n",
       "    </tr>\n",
       "  </thead>\n",
       "  <tbody>\n",
       "    <tr>\n",
       "      <th>0</th>\n",
       "      <td>1.000000</td>\n",
       "      <td>1.000000</td>\n",
       "      <td>1.000000</td>\n",
       "      <td>1.000000</td>\n",
       "      <td>0.016535</td>\n",
       "      <td>1.000000</td>\n",
       "      <td>2024-03-05</td>\n",
       "    </tr>\n",
       "    <tr>\n",
       "      <th>1</th>\n",
       "      <td>0.945897</td>\n",
       "      <td>0.894345</td>\n",
       "      <td>0.929577</td>\n",
       "      <td>0.911422</td>\n",
       "      <td>0.341659</td>\n",
       "      <td>0.995529</td>\n",
       "      <td>2024-03-06</td>\n",
       "    </tr>\n",
       "    <tr>\n",
       "      <th>2</th>\n",
       "      <td>0.945897</td>\n",
       "      <td>0.894345</td>\n",
       "      <td>0.929577</td>\n",
       "      <td>0.911422</td>\n",
       "      <td>0.347672</td>\n",
       "      <td>0.995261</td>\n",
       "      <td>2024-03-07</td>\n",
       "    </tr>\n",
       "    <tr>\n",
       "      <th>3</th>\n",
       "      <td>0.945897</td>\n",
       "      <td>0.894345</td>\n",
       "      <td>0.929577</td>\n",
       "      <td>0.911422</td>\n",
       "      <td>0.358864</td>\n",
       "      <td>0.995269</td>\n",
       "      <td>2024-03-08</td>\n",
       "    </tr>\n",
       "    <tr>\n",
       "      <th>4</th>\n",
       "      <td>0.955107</td>\n",
       "      <td>0.918155</td>\n",
       "      <td>0.943662</td>\n",
       "      <td>0.931795</td>\n",
       "      <td>0.350706</td>\n",
       "      <td>0.995269</td>\n",
       "      <td>2024-03-09</td>\n",
       "    </tr>\n",
       "    <tr>\n",
       "      <th>5</th>\n",
       "      <td>0.955107</td>\n",
       "      <td>0.918155</td>\n",
       "      <td>0.943662</td>\n",
       "      <td>0.931795</td>\n",
       "      <td>0.337093</td>\n",
       "      <td>0.997053</td>\n",
       "      <td>2024-03-10</td>\n",
       "    </tr>\n",
       "    <tr>\n",
       "      <th>6</th>\n",
       "      <td>0.955107</td>\n",
       "      <td>0.918155</td>\n",
       "      <td>0.943662</td>\n",
       "      <td>0.931795</td>\n",
       "      <td>0.344728</td>\n",
       "      <td>0.997053</td>\n",
       "      <td>2024-03-11</td>\n",
       "    </tr>\n",
       "    <tr>\n",
       "      <th>7</th>\n",
       "      <td>0.955107</td>\n",
       "      <td>0.918155</td>\n",
       "      <td>0.943662</td>\n",
       "      <td>0.931795</td>\n",
       "      <td>0.354595</td>\n",
       "      <td>0.997053</td>\n",
       "      <td>2024-03-12</td>\n",
       "    </tr>\n",
       "    <tr>\n",
       "      <th>8</th>\n",
       "      <td>0.953869</td>\n",
       "      <td>0.918155</td>\n",
       "      <td>0.943662</td>\n",
       "      <td>0.930715</td>\n",
       "      <td>0.357470</td>\n",
       "      <td>0.997053</td>\n",
       "      <td>2024-03-13</td>\n",
       "    </tr>\n",
       "    <tr>\n",
       "      <th>9</th>\n",
       "      <td>0.953869</td>\n",
       "      <td>0.918155</td>\n",
       "      <td>0.943662</td>\n",
       "      <td>0.930715</td>\n",
       "      <td>0.368336</td>\n",
       "      <td>0.997053</td>\n",
       "      <td>2024-03-14</td>\n",
       "    </tr>\n",
       "    <tr>\n",
       "      <th>10</th>\n",
       "      <td>0.943606</td>\n",
       "      <td>0.894345</td>\n",
       "      <td>0.929577</td>\n",
       "      <td>0.909336</td>\n",
       "      <td>0.385303</td>\n",
       "      <td>0.997053</td>\n",
       "      <td>2024-03-15</td>\n",
       "    </tr>\n",
       "    <tr>\n",
       "      <th>11</th>\n",
       "      <td>0.934028</td>\n",
       "      <td>0.870536</td>\n",
       "      <td>0.915493</td>\n",
       "      <td>0.886817</td>\n",
       "      <td>0.392640</td>\n",
       "      <td>0.997053</td>\n",
       "      <td>2024-03-16</td>\n",
       "    </tr>\n",
       "    <tr>\n",
       "      <th>12</th>\n",
       "      <td>0.934028</td>\n",
       "      <td>0.870536</td>\n",
       "      <td>0.915493</td>\n",
       "      <td>0.886817</td>\n",
       "      <td>0.405503</td>\n",
       "      <td>0.997053</td>\n",
       "      <td>2024-03-17</td>\n",
       "    </tr>\n",
       "    <tr>\n",
       "      <th>13</th>\n",
       "      <td>0.924242</td>\n",
       "      <td>0.846726</td>\n",
       "      <td>0.901408</td>\n",
       "      <td>0.863403</td>\n",
       "      <td>0.412871</td>\n",
       "      <td>0.997053</td>\n",
       "      <td>2024-03-18</td>\n",
       "    </tr>\n",
       "    <tr>\n",
       "      <th>14</th>\n",
       "      <td>0.924242</td>\n",
       "      <td>0.846726</td>\n",
       "      <td>0.901408</td>\n",
       "      <td>0.863403</td>\n",
       "      <td>0.425325</td>\n",
       "      <td>0.996785</td>\n",
       "      <td>2024-03-19</td>\n",
       "    </tr>\n",
       "    <tr>\n",
       "      <th>15</th>\n",
       "      <td>0.924242</td>\n",
       "      <td>0.846726</td>\n",
       "      <td>0.901408</td>\n",
       "      <td>0.863403</td>\n",
       "      <td>0.431816</td>\n",
       "      <td>0.996516</td>\n",
       "      <td>2024-03-20</td>\n",
       "    </tr>\n",
       "    <tr>\n",
       "      <th>16</th>\n",
       "      <td>0.924242</td>\n",
       "      <td>0.846726</td>\n",
       "      <td>0.901408</td>\n",
       "      <td>0.863403</td>\n",
       "      <td>0.446445</td>\n",
       "      <td>0.996109</td>\n",
       "      <td>2024-03-21</td>\n",
       "    </tr>\n",
       "    <tr>\n",
       "      <th>17</th>\n",
       "      <td>0.915282</td>\n",
       "      <td>0.822917</td>\n",
       "      <td>0.887324</td>\n",
       "      <td>0.837790</td>\n",
       "      <td>0.459591</td>\n",
       "      <td>0.996109</td>\n",
       "      <td>2024-03-22</td>\n",
       "    </tr>\n",
       "    <tr>\n",
       "      <th>18</th>\n",
       "      <td>0.915282</td>\n",
       "      <td>0.822917</td>\n",
       "      <td>0.887324</td>\n",
       "      <td>0.837790</td>\n",
       "      <td>0.474529</td>\n",
       "      <td>0.996109</td>\n",
       "      <td>2024-03-23</td>\n",
       "    </tr>\n",
       "    <tr>\n",
       "      <th>19</th>\n",
       "      <td>0.915282</td>\n",
       "      <td>0.822917</td>\n",
       "      <td>0.887324</td>\n",
       "      <td>0.837790</td>\n",
       "      <td>0.483336</td>\n",
       "      <td>0.996386</td>\n",
       "      <td>2024-03-24</td>\n",
       "    </tr>\n",
       "    <tr>\n",
       "      <th>20</th>\n",
       "      <td>0.906881</td>\n",
       "      <td>0.799107</td>\n",
       "      <td>0.873239</td>\n",
       "      <td>0.810346</td>\n",
       "      <td>0.514701</td>\n",
       "      <td>0.996386</td>\n",
       "      <td>2024-03-25</td>\n",
       "    </tr>\n",
       "    <tr>\n",
       "      <th>21</th>\n",
       "      <td>0.906881</td>\n",
       "      <td>0.799107</td>\n",
       "      <td>0.873239</td>\n",
       "      <td>0.810346</td>\n",
       "      <td>0.531519</td>\n",
       "      <td>0.996386</td>\n",
       "      <td>2024-03-26</td>\n",
       "    </tr>\n",
       "    <tr>\n",
       "      <th>22</th>\n",
       "      <td>0.906881</td>\n",
       "      <td>0.799107</td>\n",
       "      <td>0.873239</td>\n",
       "      <td>0.810346</td>\n",
       "      <td>0.549350</td>\n",
       "      <td>0.995936</td>\n",
       "      <td>2024-03-27</td>\n",
       "    </tr>\n",
       "    <tr>\n",
       "      <th>23</th>\n",
       "      <td>0.906881</td>\n",
       "      <td>0.799107</td>\n",
       "      <td>0.873239</td>\n",
       "      <td>0.810346</td>\n",
       "      <td>0.593559</td>\n",
       "      <td>0.995936</td>\n",
       "      <td>2024-03-28</td>\n",
       "    </tr>\n",
       "    <tr>\n",
       "      <th>24</th>\n",
       "      <td>0.898990</td>\n",
       "      <td>0.775298</td>\n",
       "      <td>0.859155</td>\n",
       "      <td>0.780744</td>\n",
       "      <td>0.605694</td>\n",
       "      <td>0.995936</td>\n",
       "      <td>2024-03-29</td>\n",
       "    </tr>\n",
       "    <tr>\n",
       "      <th>25</th>\n",
       "      <td>0.898990</td>\n",
       "      <td>0.775298</td>\n",
       "      <td>0.859155</td>\n",
       "      <td>0.780744</td>\n",
       "      <td>0.620299</td>\n",
       "      <td>0.996204</td>\n",
       "      <td>2024-03-30</td>\n",
       "    </tr>\n",
       "    <tr>\n",
       "      <th>26</th>\n",
       "      <td>0.891563</td>\n",
       "      <td>0.751488</td>\n",
       "      <td>0.845070</td>\n",
       "      <td>0.748583</td>\n",
       "      <td>0.748849</td>\n",
       "      <td>0.995510</td>\n",
       "      <td>2024-03-31</td>\n",
       "    </tr>\n",
       "    <tr>\n",
       "      <th>27</th>\n",
       "      <td>0.891563</td>\n",
       "      <td>0.751488</td>\n",
       "      <td>0.845070</td>\n",
       "      <td>0.748583</td>\n",
       "      <td>0.771472</td>\n",
       "      <td>0.995510</td>\n",
       "      <td>2024-04-01</td>\n",
       "    </tr>\n",
       "    <tr>\n",
       "      <th>28</th>\n",
       "      <td>0.883929</td>\n",
       "      <td>0.741071</td>\n",
       "      <td>0.830986</td>\n",
       "      <td>0.738426</td>\n",
       "      <td>0.821296</td>\n",
       "      <td>0.996616</td>\n",
       "      <td>2024-04-02</td>\n",
       "    </tr>\n",
       "    <tr>\n",
       "      <th>29</th>\n",
       "      <td>0.883929</td>\n",
       "      <td>0.741071</td>\n",
       "      <td>0.830986</td>\n",
       "      <td>0.738426</td>\n",
       "      <td>0.834836</td>\n",
       "      <td>0.996616</td>\n",
       "      <td>2024-04-03</td>\n",
       "    </tr>\n",
       "    <tr>\n",
       "      <th>30</th>\n",
       "      <td>0.883929</td>\n",
       "      <td>0.741071</td>\n",
       "      <td>0.830986</td>\n",
       "      <td>0.738426</td>\n",
       "      <td>0.872351</td>\n",
       "      <td>0.995783</td>\n",
       "      <td>2024-04-04</td>\n",
       "    </tr>\n",
       "  </tbody>\n",
       "</table>\n",
       "</div>"
      ],
      "text/plain": [
       "    precision    recall  accuracy  f1_score  log_loss   roc_auc   eval_date\n",
       "0    1.000000  1.000000  1.000000  1.000000  0.016535  1.000000  2024-03-05\n",
       "1    0.945897  0.894345  0.929577  0.911422  0.341659  0.995529  2024-03-06\n",
       "2    0.945897  0.894345  0.929577  0.911422  0.347672  0.995261  2024-03-07\n",
       "3    0.945897  0.894345  0.929577  0.911422  0.358864  0.995269  2024-03-08\n",
       "4    0.955107  0.918155  0.943662  0.931795  0.350706  0.995269  2024-03-09\n",
       "5    0.955107  0.918155  0.943662  0.931795  0.337093  0.997053  2024-03-10\n",
       "6    0.955107  0.918155  0.943662  0.931795  0.344728  0.997053  2024-03-11\n",
       "7    0.955107  0.918155  0.943662  0.931795  0.354595  0.997053  2024-03-12\n",
       "8    0.953869  0.918155  0.943662  0.930715  0.357470  0.997053  2024-03-13\n",
       "9    0.953869  0.918155  0.943662  0.930715  0.368336  0.997053  2024-03-14\n",
       "10   0.943606  0.894345  0.929577  0.909336  0.385303  0.997053  2024-03-15\n",
       "11   0.934028  0.870536  0.915493  0.886817  0.392640  0.997053  2024-03-16\n",
       "12   0.934028  0.870536  0.915493  0.886817  0.405503  0.997053  2024-03-17\n",
       "13   0.924242  0.846726  0.901408  0.863403  0.412871  0.997053  2024-03-18\n",
       "14   0.924242  0.846726  0.901408  0.863403  0.425325  0.996785  2024-03-19\n",
       "15   0.924242  0.846726  0.901408  0.863403  0.431816  0.996516  2024-03-20\n",
       "16   0.924242  0.846726  0.901408  0.863403  0.446445  0.996109  2024-03-21\n",
       "17   0.915282  0.822917  0.887324  0.837790  0.459591  0.996109  2024-03-22\n",
       "18   0.915282  0.822917  0.887324  0.837790  0.474529  0.996109  2024-03-23\n",
       "19   0.915282  0.822917  0.887324  0.837790  0.483336  0.996386  2024-03-24\n",
       "20   0.906881  0.799107  0.873239  0.810346  0.514701  0.996386  2024-03-25\n",
       "21   0.906881  0.799107  0.873239  0.810346  0.531519  0.996386  2024-03-26\n",
       "22   0.906881  0.799107  0.873239  0.810346  0.549350  0.995936  2024-03-27\n",
       "23   0.906881  0.799107  0.873239  0.810346  0.593559  0.995936  2024-03-28\n",
       "24   0.898990  0.775298  0.859155  0.780744  0.605694  0.995936  2024-03-29\n",
       "25   0.898990  0.775298  0.859155  0.780744  0.620299  0.996204  2024-03-30\n",
       "26   0.891563  0.751488  0.845070  0.748583  0.748849  0.995510  2024-03-31\n",
       "27   0.891563  0.751488  0.845070  0.748583  0.771472  0.995510  2024-04-01\n",
       "28   0.883929  0.741071  0.830986  0.738426  0.821296  0.996616  2024-04-02\n",
       "29   0.883929  0.741071  0.830986  0.738426  0.834836  0.996616  2024-04-03\n",
       "30   0.883929  0.741071  0.830986  0.738426  0.872351  0.995783  2024-04-04"
      ]
     },
     "execution_count": 57,
     "metadata": {},
     "output_type": "execute_result"
    }
   ],
   "source": [
    "evaluations"
   ]
  },
  {
   "cell_type": "code",
   "execution_count": 58,
   "metadata": {
    "tags": []
   },
   "outputs": [],
   "source": [
    "evaluations.set_index('eval_date', inplace = True)"
   ]
  },
  {
   "cell_type": "code",
   "execution_count": 59,
   "metadata": {
    "tags": []
   },
   "outputs": [
    {
     "data": {
      "text/plain": [
       "<Axes: title={'center': 'Evaluation Metrics Over Last 30 days'}, xlabel='eval_date'>"
      ]
     },
     "execution_count": 59,
     "metadata": {},
     "output_type": "execute_result"
    },
    {
     "data": {
      "image/png": "[encoded data removed]",
      "text/plain": [
       "<Figure size 800x300 with 1 Axes>"
      ]
     },
     "metadata": {},
     "output_type": "display_data"
    }
   ],
   "source": [
    "evaluations.plot(y = ['log_loss', 'f1_score', 'precision'], legend = True, title = 'Evaluation Metrics Over Last 30 days', figsize = (8, 3), grid = True)"
   ]
  },
  {
   "cell_type": "markdown",
   "metadata": {
    "tags": []
   },
   "source": [
    "---\n",
    "## Model Monitoring\n",
    "\n",
    "Reviewing model evaluations over time does show a pattern of deterioration in the example above.  But at what point is it actionable?  And what if each days evaluations are relying on actual values that took hours, days, weeks, or even months to be available?  \n",
    "\n",
    "Model monitoring takes a different approach.  It goes back to the source of the model, each input feature.  These features form a distribution at the input to the model (the training data) and this can be used to compare to over time.  By setting thresholds on these comparisons to the original training data, alerts can be used to notify that a models accuracy *could be* in question.  This comparison to the training data is called **skew** detection.\n",
    "\n",
    "Similarly, each days values could be compared to the previous days, or weeks values.  These comparisons are referred to as **drift** detection.  \n",
    "\n",
    "Both of these types of comparisons can be done directly in BigQuery with two functions built for these tasks:\n",
    "- [`ML.VALIDATE_DATA_SKEW`](link here)\n",
    "- [`ML.VALIDATE_DATA_DRIFT`](link here)"
   ]
  },
  {
   "cell_type": "markdown",
   "metadata": {},
   "source": [
    "### Monitoring Skew (Change from training) With `ML.VALIDATE_DATA_SKEW`"
   ]
  },
  {
   "cell_type": "code",
   "execution_count": 65,
   "metadata": {},
   "outputs": [
    {
     "data": {
      "application/vnd.jupyter.widget-view+json": {
       "model_id": "95a4ee2cc60942f6aa9c8f27b8441133",
       "version_major": 2,
       "version_minor": 0
      },
      "text/plain": [
       "Query is running:   0%|          |"
      ]
     },
     "metadata": {},
     "output_type": "display_data"
    },
    {
     "data": {
      "application/vnd.jupyter.widget-view+json": {
       "model_id": "258398f48c4a4149949dcc7ea0330723",
       "version_major": 2,
       "version_minor": 0
      },
      "text/plain": [
       "Downloading:   0%|          |"
      ]
     },
     "metadata": {},
     "output_type": "display_data"
    },
    {
     "data": {
      "text/html": [
       "<div>\n",
       "<style scoped>\n",
       "    .dataframe tbody tr th:only-of-type {\n",
       "        vertical-align: middle;\n",
       "    }\n",
       "\n",
       "    .dataframe tbody tr th {\n",
       "        vertical-align: top;\n",
       "    }\n",
       "\n",
       "    .dataframe thead th {\n",
       "        text-align: right;\n",
       "    }\n",
       "</style>\n",
       "<table border=\"1\" class=\"dataframe\">\n",
       "  <thead>\n",
       "    <tr style=\"text-align: right;\">\n",
       "      <th></th>\n",
       "      <th>input</th>\n",
       "      <th>metric</th>\n",
       "      <th>threshold</th>\n",
       "      <th>value</th>\n",
       "      <th>is_anomaly</th>\n",
       "    </tr>\n",
       "  </thead>\n",
       "  <tbody>\n",
       "    <tr>\n",
       "      <th>0</th>\n",
       "      <td>body_mass_g</td>\n",
       "      <td>JENSEN_SHANNON_DIVERGENCE</td>\n",
       "      <td>0.3</td>\n",
       "      <td>0.785733</td>\n",
       "      <td>True</td>\n",
       "    </tr>\n",
       "    <tr>\n",
       "      <th>1</th>\n",
       "      <td>culmen_depth_mm</td>\n",
       "      <td>JENSEN_SHANNON_DIVERGENCE</td>\n",
       "      <td>0.3</td>\n",
       "      <td>0.485617</td>\n",
       "      <td>True</td>\n",
       "    </tr>\n",
       "    <tr>\n",
       "      <th>2</th>\n",
       "      <td>culmen_length_mm</td>\n",
       "      <td>JENSEN_SHANNON_DIVERGENCE</td>\n",
       "      <td>0.3</td>\n",
       "      <td>0.471809</td>\n",
       "      <td>True</td>\n",
       "    </tr>\n",
       "    <tr>\n",
       "      <th>3</th>\n",
       "      <td>flipper_length_mm</td>\n",
       "      <td>L_INFTY</td>\n",
       "      <td>0.3</td>\n",
       "      <td>0.298319</td>\n",
       "      <td>False</td>\n",
       "    </tr>\n",
       "    <tr>\n",
       "      <th>4</th>\n",
       "      <td>island</td>\n",
       "      <td>L_INFTY</td>\n",
       "      <td>0.3</td>\n",
       "      <td>0.512605</td>\n",
       "      <td>True</td>\n",
       "    </tr>\n",
       "    <tr>\n",
       "      <th>5</th>\n",
       "      <td>sex</td>\n",
       "      <td>L_INFTY</td>\n",
       "      <td>0.3</td>\n",
       "      <td>0.483193</td>\n",
       "      <td>True</td>\n",
       "    </tr>\n",
       "  </tbody>\n",
       "</table>\n",
       "</div>"
      ],
      "text/plain": [
       "               input                     metric  threshold     value  \\\n",
       "0        body_mass_g  JENSEN_SHANNON_DIVERGENCE        0.3  0.785733   \n",
       "1    culmen_depth_mm  JENSEN_SHANNON_DIVERGENCE        0.3  0.485617   \n",
       "2   culmen_length_mm  JENSEN_SHANNON_DIVERGENCE        0.3  0.471809   \n",
       "3  flipper_length_mm                    L_INFTY        0.3  0.298319   \n",
       "4             island                    L_INFTY        0.3  0.512605   \n",
       "5                sex                    L_INFTY        0.3  0.483193   \n",
       "\n",
       "   is_anomaly  \n",
       "0        True  \n",
       "1        True  \n",
       "2        True  \n",
       "3       False  \n",
       "4        True  \n",
       "5        True  "
      ]
     },
     "execution_count": 65,
     "metadata": {},
     "output_type": "execute_result"
    }
   ],
   "source": [
    "%%bigquery\n",
    "WITH\n",
    "    TODAY AS (\n",
    "        SELECT * EXCEPT(entity_id, feature_timestamp, species)\n",
    "        FROM ML.FEATURES_AT_TIME(\n",
    "            TABLE `statmike-mlops-349915.bqml_model_monitoring.production_features`,\n",
    "            time => CURRENT_TIMESTAMP(),\n",
    "            num_rows => 1,\n",
    "            ignore_feature_nulls => TRUE\n",
    "        )    \n",
    "    )\n",
    "SELECT *\n",
    "FROM ML.VALIDATE_DATA_SKEW(\n",
    "    MODEL `statmike-mlops-349915.bqml_model_monitoring.classify_species_dnn`,\n",
    "    TABLE TODAY\n",
    ");"
   ]
  },
  {
   "cell_type": "markdown",
   "metadata": {},
   "source": [
    "### Monitoring Drift (Change Over Time) With `ML.VALIDATE_DATA_DRIFT`\n",
    "\n",
    "Compare today to 5 days ago and set the a lower, more sensitive, threshold of `0.03` (default is `0.3`) for all features."
   ]
  },
  {
   "cell_type": "code",
   "execution_count": 66,
   "metadata": {
    "tags": []
   },
   "outputs": [
    {
     "data": {
      "application/vnd.jupyter.widget-view+json": {
       "model_id": "fe14b3137c6b4f1bb7c1dcd2c101956e",
       "version_major": 2,
       "version_minor": 0
      },
      "text/plain": [
       "Query is running:   0%|          |"
      ]
     },
     "metadata": {},
     "output_type": "display_data"
    },
    {
     "data": {
      "application/vnd.jupyter.widget-view+json": {
       "model_id": "2f0adedf00754c3a9685b689b729c2a3",
       "version_major": 2,
       "version_minor": 0
      },
      "text/plain": [
       "Downloading:   0%|          |"
      ]
     },
     "metadata": {},
     "output_type": "display_data"
    },
    {
     "data": {
      "text/html": [
       "<div>\n",
       "<style scoped>\n",
       "    .dataframe tbody tr th:only-of-type {\n",
       "        vertical-align: middle;\n",
       "    }\n",
       "\n",
       "    .dataframe tbody tr th {\n",
       "        vertical-align: top;\n",
       "    }\n",
       "\n",
       "    .dataframe thead th {\n",
       "        text-align: right;\n",
       "    }\n",
       "</style>\n",
       "<table border=\"1\" class=\"dataframe\">\n",
       "  <thead>\n",
       "    <tr style=\"text-align: right;\">\n",
       "      <th></th>\n",
       "      <th>input</th>\n",
       "      <th>metric</th>\n",
       "      <th>threshold</th>\n",
       "      <th>value</th>\n",
       "      <th>is_anomaly</th>\n",
       "    </tr>\n",
       "  </thead>\n",
       "  <tbody>\n",
       "    <tr>\n",
       "      <th>0</th>\n",
       "      <td>body_mass_g</td>\n",
       "      <td>JENSEN_SHANNON_DIVERGENCE</td>\n",
       "      <td>0.03</td>\n",
       "      <td>0.031136</td>\n",
       "      <td>True</td>\n",
       "    </tr>\n",
       "    <tr>\n",
       "      <th>1</th>\n",
       "      <td>culmen_depth_mm</td>\n",
       "      <td>JENSEN_SHANNON_DIVERGENCE</td>\n",
       "      <td>0.03</td>\n",
       "      <td>0.000000</td>\n",
       "      <td>False</td>\n",
       "    </tr>\n",
       "    <tr>\n",
       "      <th>2</th>\n",
       "      <td>culmen_length_mm</td>\n",
       "      <td>JENSEN_SHANNON_DIVERGENCE</td>\n",
       "      <td>0.03</td>\n",
       "      <td>0.000000</td>\n",
       "      <td>False</td>\n",
       "    </tr>\n",
       "    <tr>\n",
       "      <th>3</th>\n",
       "      <td>flipper_length_mm</td>\n",
       "      <td>L_INFTY</td>\n",
       "      <td>0.03</td>\n",
       "      <td>0.057143</td>\n",
       "      <td>True</td>\n",
       "    </tr>\n",
       "    <tr>\n",
       "      <th>4</th>\n",
       "      <td>island</td>\n",
       "      <td>L_INFTY</td>\n",
       "      <td>0.03</td>\n",
       "      <td>0.000000</td>\n",
       "      <td>False</td>\n",
       "    </tr>\n",
       "    <tr>\n",
       "      <th>5</th>\n",
       "      <td>sex</td>\n",
       "      <td>L_INFTY</td>\n",
       "      <td>0.03</td>\n",
       "      <td>0.000000</td>\n",
       "      <td>False</td>\n",
       "    </tr>\n",
       "  </tbody>\n",
       "</table>\n",
       "</div>"
      ],
      "text/plain": [
       "               input                     metric  threshold     value  \\\n",
       "0        body_mass_g  JENSEN_SHANNON_DIVERGENCE       0.03  0.031136   \n",
       "1    culmen_depth_mm  JENSEN_SHANNON_DIVERGENCE       0.03  0.000000   \n",
       "2   culmen_length_mm  JENSEN_SHANNON_DIVERGENCE       0.03  0.000000   \n",
       "3  flipper_length_mm                    L_INFTY       0.03  0.057143   \n",
       "4             island                    L_INFTY       0.03  0.000000   \n",
       "5                sex                    L_INFTY       0.03  0.000000   \n",
       "\n",
       "   is_anomaly  \n",
       "0        True  \n",
       "1       False  \n",
       "2       False  \n",
       "3        True  \n",
       "4       False  \n",
       "5       False  "
      ]
     },
     "execution_count": 66,
     "metadata": {},
     "output_type": "execute_result"
    }
   ],
   "source": [
    "%%bigquery\n",
    "WITH\n",
    "    BASE_TABLE AS (\n",
    "        SELECT * EXCEPT(entity_id, feature_timestamp, species)\n",
    "        FROM ML.FEATURES_AT_TIME(\n",
    "            TABLE `statmike-mlops-349915.bqml_model_monitoring.production_features`,\n",
    "            time => TIMESTAMP_SUB(CURRENT_TIMESTAMP(), INTERVAL 5 DAY),\n",
    "            num_rows => 1,\n",
    "            ignore_feature_nulls => TRUE\n",
    "        )    \n",
    "    ),\n",
    "    COMPARE_TABLE AS (\n",
    "        SELECT * EXCEPT(entity_id, feature_timestamp, species)\n",
    "        FROM ML.FEATURES_AT_TIME(\n",
    "            TABLE `statmike-mlops-349915.bqml_model_monitoring.production_features`,\n",
    "            time => CURRENT_TIMESTAMP(),\n",
    "            num_rows => 1,\n",
    "            ignore_feature_nulls => TRUE\n",
    "        )     \n",
    "    )\n",
    "SELECT *\n",
    "FROM ML.VALIDATE_DATA_DRIFT(\n",
    "    TABLE BASE_TABLE,\n",
    "    TABLE COMPARE_TABLE,\n",
    "    STRUCT(\n",
    "        0.03 AS categorical_default_threshold,\n",
    "        0.03 AS numerical_default_threshold\n",
    "    )\n",
    ");"
   ]
  },
  {
   "cell_type": "markdown",
   "metadata": {},
   "source": [
    "### Monitoring Skew (Manually) - As Drift from Training Data\n",
    "\n",
    "Since the `ML.VALIDATE_DATA_DRIFT` is comparing two tables, it could also be used for **skew** by commparing the training data to new data, like todays data:"
   ]
  },
  {
   "cell_type": "code",
   "execution_count": 67,
   "metadata": {
    "tags": []
   },
   "outputs": [
    {
     "data": {
      "application/vnd.jupyter.widget-view+json": {
       "model_id": "b404c6c037894977ad132354a8f316c7",
       "version_major": 2,
       "version_minor": 0
      },
      "text/plain": [
       "Query is running:   0%|          |"
      ]
     },
     "metadata": {},
     "output_type": "display_data"
    },
    {
     "data": {
      "application/vnd.jupyter.widget-view+json": {
       "model_id": "ea37005eafee4a2f936a589b593f91e9",
       "version_major": 2,
       "version_minor": 0
      },
      "text/plain": [
       "Downloading:   0%|          |"
      ]
     },
     "metadata": {},
     "output_type": "display_data"
    },
    {
     "data": {
      "text/html": [
       "<div>\n",
       "<style scoped>\n",
       "    .dataframe tbody tr th:only-of-type {\n",
       "        vertical-align: middle;\n",
       "    }\n",
       "\n",
       "    .dataframe tbody tr th {\n",
       "        vertical-align: top;\n",
       "    }\n",
       "\n",
       "    .dataframe thead th {\n",
       "        text-align: right;\n",
       "    }\n",
       "</style>\n",
       "<table border=\"1\" class=\"dataframe\">\n",
       "  <thead>\n",
       "    <tr style=\"text-align: right;\">\n",
       "      <th></th>\n",
       "      <th>input</th>\n",
       "      <th>metric</th>\n",
       "      <th>threshold</th>\n",
       "      <th>value</th>\n",
       "      <th>is_anomaly</th>\n",
       "    </tr>\n",
       "  </thead>\n",
       "  <tbody>\n",
       "    <tr>\n",
       "      <th>0</th>\n",
       "      <td>body_mass_g</td>\n",
       "      <td>JENSEN_SHANNON_DIVERGENCE</td>\n",
       "      <td>0.3</td>\n",
       "      <td>0.785733</td>\n",
       "      <td>True</td>\n",
       "    </tr>\n",
       "    <tr>\n",
       "      <th>1</th>\n",
       "      <td>culmen_depth_mm</td>\n",
       "      <td>JENSEN_SHANNON_DIVERGENCE</td>\n",
       "      <td>0.3</td>\n",
       "      <td>0.485617</td>\n",
       "      <td>True</td>\n",
       "    </tr>\n",
       "    <tr>\n",
       "      <th>2</th>\n",
       "      <td>culmen_length_mm</td>\n",
       "      <td>JENSEN_SHANNON_DIVERGENCE</td>\n",
       "      <td>0.3</td>\n",
       "      <td>0.471809</td>\n",
       "      <td>True</td>\n",
       "    </tr>\n",
       "    <tr>\n",
       "      <th>3</th>\n",
       "      <td>flipper_length_mm</td>\n",
       "      <td>L_INFTY</td>\n",
       "      <td>0.3</td>\n",
       "      <td>0.298319</td>\n",
       "      <td>False</td>\n",
       "    </tr>\n",
       "    <tr>\n",
       "      <th>4</th>\n",
       "      <td>island</td>\n",
       "      <td>L_INFTY</td>\n",
       "      <td>0.3</td>\n",
       "      <td>0.512605</td>\n",
       "      <td>True</td>\n",
       "    </tr>\n",
       "    <tr>\n",
       "      <th>5</th>\n",
       "      <td>sex</td>\n",
       "      <td>L_INFTY</td>\n",
       "      <td>0.3</td>\n",
       "      <td>0.483193</td>\n",
       "      <td>True</td>\n",
       "    </tr>\n",
       "  </tbody>\n",
       "</table>\n",
       "</div>"
      ],
      "text/plain": [
       "               input                     metric  threshold     value  \\\n",
       "0        body_mass_g  JENSEN_SHANNON_DIVERGENCE        0.3  0.785733   \n",
       "1    culmen_depth_mm  JENSEN_SHANNON_DIVERGENCE        0.3  0.485617   \n",
       "2   culmen_length_mm  JENSEN_SHANNON_DIVERGENCE        0.3  0.471809   \n",
       "3  flipper_length_mm                    L_INFTY        0.3  0.298319   \n",
       "4             island                    L_INFTY        0.3  0.512605   \n",
       "5                sex                    L_INFTY        0.3  0.483193   \n",
       "\n",
       "   is_anomaly  \n",
       "0        True  \n",
       "1        True  \n",
       "2        True  \n",
       "3       False  \n",
       "4        True  \n",
       "5        True  "
      ]
     },
     "execution_count": 67,
     "metadata": {},
     "output_type": "execute_result"
    }
   ],
   "source": [
    "%%bigquery\n",
    "WITH\n",
    "    BASE_TABLE AS (\n",
    "        SELECT * EXCEPT(species)\n",
    "        FROM ML.TRANSFORM(\n",
    "            MODEL `statmike-mlops-349915.bqml_model_monitoring.feature_engineering`,\n",
    "            (\n",
    "                SELECT *\n",
    "                FROM `statmike-mlops-349915.bqml_model_monitoring.source_split`\n",
    "                WHERE splits = 'TRAIN'\n",
    "            )\n",
    "        )   \n",
    "    ),\n",
    "    TODAY AS (\n",
    "        SELECT * EXCEPT(entity_id, feature_timestamp, species)\n",
    "        FROM ML.FEATURES_AT_TIME(\n",
    "            TABLE `statmike-mlops-349915.bqml_model_monitoring.production_features`,\n",
    "            time => CURRENT_TIMESTAMP(),\n",
    "            num_rows => 1,\n",
    "            ignore_feature_nulls => TRUE\n",
    "        )     \n",
    "    )\n",
    "SELECT *\n",
    "FROM ML.VALIDATE_DATA_DRIFT(\n",
    "    TABLE BASE_TABLE,\n",
    "    TABLE TODAY\n",
    ");"
   ]
  },
  {
   "cell_type": "markdown",
   "metadata": {},
   "source": [
    "---\n",
    "### Understanding Monitoring Thresholds"
   ]
  },
  {
   "cell_type": "code",
   "execution_count": null,
   "metadata": {},
   "outputs": [],
   "source": []
  },
  {
   "cell_type": "code",
   "execution_count": null,
   "metadata": {},
   "outputs": [],
   "source": []
  },
  {
   "cell_type": "code",
   "execution_count": null,
   "metadata": {},
   "outputs": [],
   "source": []
  },
  {
   "cell_type": "code",
   "execution_count": null,
   "metadata": {},
   "outputs": [],
   "source": []
  },
  {
   "cell_type": "markdown",
   "metadata": {
    "tags": []
   },
   "source": [
    "---\n",
    "### Monitoring Feature Attributions\n",
    "\n",
    "BigQuery ML models, like the deep neural network classifier (`model_type = 'DNN_CLASSIFIER'`) used above, can also serve explanations using the BigQuery function [`ML.EXPLAIN_PREDICT`](https://cloud.google.com/bigquery/docs/reference/standard-sql/bigqueryml-syntax-explain-predict).  This function returns feature attributions for each feature used in the model to explain how much contribution was made to the final prediction for a given instance.\n",
    "\n",
    "**Feature Attributions**\n",
    "\n",
    "The feature attributions from `ML.EXPLAIN_PREDICT` are [local explanations](https://cloud.google.com/bigquery/docs/xai-overview#local_versus_global_explainability), specific to the instance being predicted.  The attribution values are given for each feature and they add up to the `prediction_value`. In this case the model is a classifier and the `prediction_value` is the logit value (log-odds) of the predicted class.  "
   ]
  },
  {
   "cell_type": "markdown",
   "metadata": {},
   "source": [
    "#### Serving Feature Attributions\n",
    "\n",
    "As an example, the following cell gets the feature attributions for the penguin with `entity_id = '1'` for the latest values of the features:"
   ]
  },
  {
   "cell_type": "code",
   "execution_count": 68,
   "metadata": {
    "tags": []
   },
   "outputs": [
    {
     "data": {
      "application/vnd.jupyter.widget-view+json": {
       "model_id": "5c0e2de461554a1fa2b462ef69cf47ef",
       "version_major": 2,
       "version_minor": 0
      },
      "text/plain": [
       "Query is running:   0%|          |"
      ]
     },
     "metadata": {},
     "output_type": "display_data"
    },
    {
     "data": {
      "application/vnd.jupyter.widget-view+json": {
       "model_id": "919d754e4a2949f5abb1dd45947008aa",
       "version_major": 2,
       "version_minor": 0
      },
      "text/plain": [
       "Downloading:   0%|          |"
      ]
     },
     "metadata": {},
     "output_type": "display_data"
    },
    {
     "data": {
      "text/html": [
       "<div>\n",
       "<style scoped>\n",
       "    .dataframe tbody tr th:only-of-type {\n",
       "        vertical-align: middle;\n",
       "    }\n",
       "\n",
       "    .dataframe tbody tr th {\n",
       "        vertical-align: top;\n",
       "    }\n",
       "\n",
       "    .dataframe thead th {\n",
       "        text-align: right;\n",
       "    }\n",
       "</style>\n",
       "<table border=\"1\" class=\"dataframe\">\n",
       "  <thead>\n",
       "    <tr style=\"text-align: right;\">\n",
       "      <th></th>\n",
       "      <th>predicted_species</th>\n",
       "      <th>probability</th>\n",
       "      <th>baseline_prediction_value</th>\n",
       "      <th>prediction_value</th>\n",
       "      <th>approximation_error</th>\n",
       "      <th>species</th>\n",
       "      <th>entity_id</th>\n",
       "      <th>feature_timestamp</th>\n",
       "      <th>feature</th>\n",
       "      <th>attribution</th>\n",
       "    </tr>\n",
       "  </thead>\n",
       "  <tbody>\n",
       "    <tr>\n",
       "      <th>0</th>\n",
       "      <td>Gentoo penguin (Pygoscelis papua)</td>\n",
       "      <td>0.81531</td>\n",
       "      <td>-0.124862</td>\n",
       "      <td>1.687982</td>\n",
       "      <td>0.010934</td>\n",
       "      <td>Adelie Penguin (Pygoscelis adeliae)</td>\n",
       "      <td>1</td>\n",
       "      <td>2024-04-04 17:03:19.134010+00:00</td>\n",
       "      <td>island</td>\n",
       "      <td>1.725344</td>\n",
       "    </tr>\n",
       "    <tr>\n",
       "      <th>1</th>\n",
       "      <td>Gentoo penguin (Pygoscelis papua)</td>\n",
       "      <td>0.81531</td>\n",
       "      <td>-0.124862</td>\n",
       "      <td>1.687982</td>\n",
       "      <td>0.010934</td>\n",
       "      <td>Adelie Penguin (Pygoscelis adeliae)</td>\n",
       "      <td>1</td>\n",
       "      <td>2024-04-04 17:03:19.134010+00:00</td>\n",
       "      <td>sex</td>\n",
       "      <td>0.530823</td>\n",
       "    </tr>\n",
       "    <tr>\n",
       "      <th>2</th>\n",
       "      <td>Gentoo penguin (Pygoscelis papua)</td>\n",
       "      <td>0.81531</td>\n",
       "      <td>-0.124862</td>\n",
       "      <td>1.687982</td>\n",
       "      <td>0.010934</td>\n",
       "      <td>Adelie Penguin (Pygoscelis adeliae)</td>\n",
       "      <td>1</td>\n",
       "      <td>2024-04-04 17:03:19.134010+00:00</td>\n",
       "      <td>flipper_length_mm</td>\n",
       "      <td>-0.423501</td>\n",
       "    </tr>\n",
       "    <tr>\n",
       "      <th>3</th>\n",
       "      <td>Gentoo penguin (Pygoscelis papua)</td>\n",
       "      <td>0.81531</td>\n",
       "      <td>-0.124862</td>\n",
       "      <td>1.687982</td>\n",
       "      <td>0.010934</td>\n",
       "      <td>Adelie Penguin (Pygoscelis adeliae)</td>\n",
       "      <td>1</td>\n",
       "      <td>2024-04-04 17:03:19.134010+00:00</td>\n",
       "      <td>body_mass_g</td>\n",
       "      <td>0.000000</td>\n",
       "    </tr>\n",
       "    <tr>\n",
       "      <th>4</th>\n",
       "      <td>Gentoo penguin (Pygoscelis papua)</td>\n",
       "      <td>0.81531</td>\n",
       "      <td>-0.124862</td>\n",
       "      <td>1.687982</td>\n",
       "      <td>0.010934</td>\n",
       "      <td>Adelie Penguin (Pygoscelis adeliae)</td>\n",
       "      <td>1</td>\n",
       "      <td>2024-04-04 17:03:19.134010+00:00</td>\n",
       "      <td>culmen_depth_mm</td>\n",
       "      <td>0.000000</td>\n",
       "    </tr>\n",
       "    <tr>\n",
       "      <th>5</th>\n",
       "      <td>Gentoo penguin (Pygoscelis papua)</td>\n",
       "      <td>0.81531</td>\n",
       "      <td>-0.124862</td>\n",
       "      <td>1.687982</td>\n",
       "      <td>0.010934</td>\n",
       "      <td>Adelie Penguin (Pygoscelis adeliae)</td>\n",
       "      <td>1</td>\n",
       "      <td>2024-04-04 17:03:19.134010+00:00</td>\n",
       "      <td>culmen_length_mm</td>\n",
       "      <td>0.000000</td>\n",
       "    </tr>\n",
       "  </tbody>\n",
       "</table>\n",
       "</div>"
      ],
      "text/plain": [
       "                   predicted_species  probability  baseline_prediction_value  \\\n",
       "0  Gentoo penguin (Pygoscelis papua)      0.81531                  -0.124862   \n",
       "1  Gentoo penguin (Pygoscelis papua)      0.81531                  -0.124862   \n",
       "2  Gentoo penguin (Pygoscelis papua)      0.81531                  -0.124862   \n",
       "3  Gentoo penguin (Pygoscelis papua)      0.81531                  -0.124862   \n",
       "4  Gentoo penguin (Pygoscelis papua)      0.81531                  -0.124862   \n",
       "5  Gentoo penguin (Pygoscelis papua)      0.81531                  -0.124862   \n",
       "\n",
       "   prediction_value  approximation_error                              species  \\\n",
       "0          1.687982             0.010934  Adelie Penguin (Pygoscelis adeliae)   \n",
       "1          1.687982             0.010934  Adelie Penguin (Pygoscelis adeliae)   \n",
       "2          1.687982             0.010934  Adelie Penguin (Pygoscelis adeliae)   \n",
       "3          1.687982             0.010934  Adelie Penguin (Pygoscelis adeliae)   \n",
       "4          1.687982             0.010934  Adelie Penguin (Pygoscelis adeliae)   \n",
       "5          1.687982             0.010934  Adelie Penguin (Pygoscelis adeliae)   \n",
       "\n",
       "  entity_id                feature_timestamp            feature  attribution  \n",
       "0         1 2024-04-04 17:03:19.134010+00:00             island     1.725344  \n",
       "1         1 2024-04-04 17:03:19.134010+00:00                sex     0.530823  \n",
       "2         1 2024-04-04 17:03:19.134010+00:00  flipper_length_mm    -0.423501  \n",
       "3         1 2024-04-04 17:03:19.134010+00:00        body_mass_g     0.000000  \n",
       "4         1 2024-04-04 17:03:19.134010+00:00    culmen_depth_mm     0.000000  \n",
       "5         1 2024-04-04 17:03:19.134010+00:00   culmen_length_mm     0.000000  "
      ]
     },
     "execution_count": 68,
     "metadata": {},
     "output_type": "execute_result"
    }
   ],
   "source": [
    "%%bigquery\n",
    "WITH\n",
    "    EXPLAIN AS (\n",
    "        SELECT * EXCEPT(body_mass_g, sex, island, flipper_length_mm, culmen_depth_mm, culmen_length_mm)\n",
    "        FROM ML.EXPLAIN_PREDICT(\n",
    "            MODEL `statmike-mlops-349915.bqml_model_monitoring.classify_species_dnn`,\n",
    "            (\n",
    "                SELECT *\n",
    "                FROM ML.FEATURES_AT_TIME(\n",
    "                    (SELECT * FROM `statmike-mlops-349915.bqml_model_monitoring.production_features` WHERE entity_id = '1'),\n",
    "                    time => CURRENT_TIMESTAMP(),\n",
    "                    num_rows => 1,\n",
    "                    ignore_feature_nulls => TRUE\n",
    "                ) \n",
    "            ), \n",
    "            STRUCT(10 AS top_k_features)\n",
    "        )\n",
    "    ),\n",
    "    ATTRIBUTIONS AS (\n",
    "        SELECT * EXCEPT(top_feature_attributions),\n",
    "        FROM EXPLAIN\n",
    "        JOIN UNNEST(top_feature_attributions)\n",
    "    )\n",
    "SELECT * \n",
    "FROM ATTRIBUTIONS"
   ]
  },
  {
   "cell_type": "markdown",
   "metadata": {},
   "source": [
    "#### Reviewing Feature Attributions\n",
    "\n",
    "Get attributions for all penguins:"
   ]
  },
  {
   "cell_type": "code",
   "execution_count": 70,
   "metadata": {
    "tags": []
   },
   "outputs": [
    {
     "data": {
      "application/vnd.jupyter.widget-view+json": {
       "model_id": "e6d11aa26d454a0889bf44f419f8af0c",
       "version_major": 2,
       "version_minor": 0
      },
      "text/plain": [
       "Query is running:   0%|          |"
      ]
     },
     "metadata": {},
     "output_type": "display_data"
    },
    {
     "data": {
      "application/vnd.jupyter.widget-view+json": {
       "model_id": "4fee28482ac94f4999538ff22e8a2d82",
       "version_major": 2,
       "version_minor": 0
      },
      "text/plain": [
       "Downloading:   0%|          |"
      ]
     },
     "metadata": {},
     "output_type": "display_data"
    }
   ],
   "source": [
    "%%bigquery explain\n",
    "WITH\n",
    "    EXPLAIN AS (\n",
    "        SELECT * EXCEPT(body_mass_g, sex, island, flipper_length_mm, culmen_depth_mm, culmen_length_mm)\n",
    "        FROM ML.EXPLAIN_PREDICT(\n",
    "            MODEL `statmike-mlops-349915.bqml_model_monitoring.classify_species_dnn`,\n",
    "            (\n",
    "                SELECT *\n",
    "                FROM ML.FEATURES_AT_TIME(\n",
    "                    (SELECT * FROM `statmike-mlops-349915.bqml_model_monitoring.production_features`),\n",
    "                    time => CURRENT_TIMESTAMP(),\n",
    "                    num_rows => 1,\n",
    "                    ignore_feature_nulls => TRUE\n",
    "                ) \n",
    "            ), \n",
    "            STRUCT(10 AS top_k_features)\n",
    "        )\n",
    "    ),\n",
    "    ATTRIBUTIONS AS (\n",
    "        SELECT * EXCEPT(top_feature_attributions),\n",
    "        FROM EXPLAIN\n",
    "        JOIN UNNEST(top_feature_attributions)\n",
    "    ),\n",
    "    PIVOT_ATTRIBUTION AS (\n",
    "        SELECT entity_id, body_mass_g, sex, island, flipper_length_mm, culmen_depth_mm, culmen_length_mm\n",
    "        FROM ATTRIBUTIONS PIVOT(MAX(attribution) FOR feature IN ('body_mass_g', 'sex', 'island', 'flipper_length_mm', 'culmen_depth_mm', 'culmen_length_mm'))\n",
    "    )\n",
    "SELECT *\n",
    "FROM PIVOT_ATTRIBUTION"
   ]
  },
  {
   "cell_type": "code",
   "execution_count": 71,
   "metadata": {
    "tags": []
   },
   "outputs": [
    {
     "data": {
      "text/html": [
       "<div>\n",
       "<style scoped>\n",
       "    .dataframe tbody tr th:only-of-type {\n",
       "        vertical-align: middle;\n",
       "    }\n",
       "\n",
       "    .dataframe tbody tr th {\n",
       "        vertical-align: top;\n",
       "    }\n",
       "\n",
       "    .dataframe thead th {\n",
       "        text-align: right;\n",
       "    }\n",
       "</style>\n",
       "<table border=\"1\" class=\"dataframe\">\n",
       "  <thead>\n",
       "    <tr style=\"text-align: right;\">\n",
       "      <th></th>\n",
       "      <th>entity_id</th>\n",
       "      <th>body_mass_g</th>\n",
       "      <th>sex</th>\n",
       "      <th>island</th>\n",
       "      <th>flipper_length_mm</th>\n",
       "      <th>culmen_depth_mm</th>\n",
       "      <th>culmen_length_mm</th>\n",
       "    </tr>\n",
       "  </thead>\n",
       "  <tbody>\n",
       "    <tr>\n",
       "      <th>0</th>\n",
       "      <td>48</td>\n",
       "      <td>2.211763</td>\n",
       "      <td>0.515594</td>\n",
       "      <td>1.584570</td>\n",
       "      <td>1.058186</td>\n",
       "      <td>1.859072</td>\n",
       "      <td>-0.091159</td>\n",
       "    </tr>\n",
       "    <tr>\n",
       "      <th>1</th>\n",
       "      <td>14</td>\n",
       "      <td>3.920771</td>\n",
       "      <td>0.220195</td>\n",
       "      <td>1.885691</td>\n",
       "      <td>1.208416</td>\n",
       "      <td>0.530324</td>\n",
       "      <td>-0.579275</td>\n",
       "    </tr>\n",
       "    <tr>\n",
       "      <th>2</th>\n",
       "      <td>50</td>\n",
       "      <td>1.095834</td>\n",
       "      <td>0.555181</td>\n",
       "      <td>1.516779</td>\n",
       "      <td>1.006201</td>\n",
       "      <td>1.823487</td>\n",
       "      <td>0.048457</td>\n",
       "    </tr>\n",
       "    <tr>\n",
       "      <th>3</th>\n",
       "      <td>31</td>\n",
       "      <td>-0.259718</td>\n",
       "      <td>0.424587</td>\n",
       "      <td>-3.597356</td>\n",
       "      <td>-1.399124</td>\n",
       "      <td>1.498219</td>\n",
       "      <td>6.037763</td>\n",
       "    </tr>\n",
       "    <tr>\n",
       "      <th>4</th>\n",
       "      <td>9</td>\n",
       "      <td>-1.519754</td>\n",
       "      <td>-0.814252</td>\n",
       "      <td>-0.126682</td>\n",
       "      <td>-0.301449</td>\n",
       "      <td>3.197117</td>\n",
       "      <td>2.844618</td>\n",
       "    </tr>\n",
       "  </tbody>\n",
       "</table>\n",
       "</div>"
      ],
      "text/plain": [
       "  entity_id  body_mass_g       sex    island  flipper_length_mm  \\\n",
       "0        48     2.211763  0.515594  1.584570           1.058186   \n",
       "1        14     3.920771  0.220195  1.885691           1.208416   \n",
       "2        50     1.095834  0.555181  1.516779           1.006201   \n",
       "3        31    -0.259718  0.424587 -3.597356          -1.399124   \n",
       "4         9    -1.519754 -0.814252 -0.126682          -0.301449   \n",
       "\n",
       "   culmen_depth_mm  culmen_length_mm  \n",
       "0         1.859072         -0.091159  \n",
       "1         0.530324         -0.579275  \n",
       "2         1.823487          0.048457  \n",
       "3         1.498219          6.037763  \n",
       "4         3.197117          2.844618  "
      ]
     },
     "execution_count": 71,
     "metadata": {},
     "output_type": "execute_result"
    }
   ],
   "source": [
    "explain.head()"
   ]
  },
  {
   "cell_type": "markdown",
   "metadata": {},
   "source": [
    "#### Monitor Feature Attributions For Drift with `ML.VALIDATE_DATA_DRIFT`\n",
    "\n",
    "Compare today to 25 days ago:"
   ]
  },
  {
   "cell_type": "code",
   "execution_count": 72,
   "metadata": {
    "tags": []
   },
   "outputs": [
    {
     "data": {
      "application/vnd.jupyter.widget-view+json": {
       "model_id": "6e9290bfea534a18b3eb616156d33d5b",
       "version_major": 2,
       "version_minor": 0
      },
      "text/plain": [
       "Query is running:   0%|          |"
      ]
     },
     "metadata": {},
     "output_type": "display_data"
    },
    {
     "data": {
      "application/vnd.jupyter.widget-view+json": {
       "model_id": "8db02937a13949cf9c8eb1ff535d83d9",
       "version_major": 2,
       "version_minor": 0
      },
      "text/plain": [
       "Downloading:   0%|          |"
      ]
     },
     "metadata": {},
     "output_type": "display_data"
    },
    {
     "data": {
      "text/html": [
       "<div>\n",
       "<style scoped>\n",
       "    .dataframe tbody tr th:only-of-type {\n",
       "        vertical-align: middle;\n",
       "    }\n",
       "\n",
       "    .dataframe tbody tr th {\n",
       "        vertical-align: top;\n",
       "    }\n",
       "\n",
       "    .dataframe thead th {\n",
       "        text-align: right;\n",
       "    }\n",
       "</style>\n",
       "<table border=\"1\" class=\"dataframe\">\n",
       "  <thead>\n",
       "    <tr style=\"text-align: right;\">\n",
       "      <th></th>\n",
       "      <th>input</th>\n",
       "      <th>metric</th>\n",
       "      <th>threshold</th>\n",
       "      <th>value</th>\n",
       "      <th>is_anomaly</th>\n",
       "    </tr>\n",
       "  </thead>\n",
       "  <tbody>\n",
       "    <tr>\n",
       "      <th>0</th>\n",
       "      <td>body_mass_g</td>\n",
       "      <td>JENSEN_SHANNON_DIVERGENCE</td>\n",
       "      <td>0.3</td>\n",
       "      <td>0.275126</td>\n",
       "      <td>False</td>\n",
       "    </tr>\n",
       "    <tr>\n",
       "      <th>1</th>\n",
       "      <td>culmen_depth_mm</td>\n",
       "      <td>JENSEN_SHANNON_DIVERGENCE</td>\n",
       "      <td>0.3</td>\n",
       "      <td>0.038907</td>\n",
       "      <td>False</td>\n",
       "    </tr>\n",
       "    <tr>\n",
       "      <th>2</th>\n",
       "      <td>culmen_length_mm</td>\n",
       "      <td>JENSEN_SHANNON_DIVERGENCE</td>\n",
       "      <td>0.3</td>\n",
       "      <td>0.179915</td>\n",
       "      <td>False</td>\n",
       "    </tr>\n",
       "    <tr>\n",
       "      <th>3</th>\n",
       "      <td>flipper_length_mm</td>\n",
       "      <td>JENSEN_SHANNON_DIVERGENCE</td>\n",
       "      <td>0.3</td>\n",
       "      <td>0.403912</td>\n",
       "      <td>True</td>\n",
       "    </tr>\n",
       "    <tr>\n",
       "      <th>4</th>\n",
       "      <td>island</td>\n",
       "      <td>JENSEN_SHANNON_DIVERGENCE</td>\n",
       "      <td>0.3</td>\n",
       "      <td>0.283837</td>\n",
       "      <td>False</td>\n",
       "    </tr>\n",
       "    <tr>\n",
       "      <th>5</th>\n",
       "      <td>sex</td>\n",
       "      <td>JENSEN_SHANNON_DIVERGENCE</td>\n",
       "      <td>0.3</td>\n",
       "      <td>0.064372</td>\n",
       "      <td>False</td>\n",
       "    </tr>\n",
       "  </tbody>\n",
       "</table>\n",
       "</div>"
      ],
      "text/plain": [
       "               input                     metric  threshold     value  \\\n",
       "0        body_mass_g  JENSEN_SHANNON_DIVERGENCE        0.3  0.275126   \n",
       "1    culmen_depth_mm  JENSEN_SHANNON_DIVERGENCE        0.3  0.038907   \n",
       "2   culmen_length_mm  JENSEN_SHANNON_DIVERGENCE        0.3  0.179915   \n",
       "3  flipper_length_mm  JENSEN_SHANNON_DIVERGENCE        0.3  0.403912   \n",
       "4             island  JENSEN_SHANNON_DIVERGENCE        0.3  0.283837   \n",
       "5                sex  JENSEN_SHANNON_DIVERGENCE        0.3  0.064372   \n",
       "\n",
       "   is_anomaly  \n",
       "0       False  \n",
       "1       False  \n",
       "2       False  \n",
       "3        True  \n",
       "4       False  \n",
       "5       False  "
      ]
     },
     "execution_count": 72,
     "metadata": {},
     "output_type": "execute_result"
    }
   ],
   "source": [
    "%%bigquery\n",
    "WITH\n",
    "    EXPLAIN_BASE AS (\n",
    "        SELECT * EXCEPT(body_mass_g, sex, island, flipper_length_mm, culmen_depth_mm, culmen_length_mm)\n",
    "        FROM ML.EXPLAIN_PREDICT(\n",
    "            MODEL `statmike-mlops-349915.bqml_model_monitoring.classify_species_dnn`,\n",
    "            (\n",
    "                SELECT *\n",
    "                FROM ML.FEATURES_AT_TIME(\n",
    "                    (SELECT * FROM `statmike-mlops-349915.bqml_model_monitoring.production_features`),\n",
    "                    time => TIMESTAMP_SUB(CURRENT_TIMESTAMP(), INTERVAL 25 DAY),\n",
    "                    num_rows => 1,\n",
    "                    ignore_feature_nulls => TRUE\n",
    "                ) \n",
    "            ), \n",
    "            STRUCT(10 AS top_k_features)\n",
    "        )\n",
    "    ),\n",
    "    ATTRIBUTIONS_BASE AS (\n",
    "        SELECT * EXCEPT(top_feature_attributions),\n",
    "        FROM EXPLAIN_BASE\n",
    "        JOIN UNNEST(top_feature_attributions)\n",
    "    ),\n",
    "    PIVOT_ATTRIBUTION_BASE AS (\n",
    "        SELECT body_mass_g, sex, island, flipper_length_mm, culmen_depth_mm, culmen_length_mm\n",
    "        FROM ATTRIBUTIONS_BASE PIVOT(MAX(attribution) FOR feature IN ('body_mass_g', 'sex', 'island', 'flipper_length_mm', 'culmen_depth_mm', 'culmen_length_mm'))\n",
    "    ),\n",
    "    EXPLAIN_COMP AS (\n",
    "        SELECT * EXCEPT(body_mass_g, sex, island, flipper_length_mm, culmen_depth_mm, culmen_length_mm)\n",
    "        FROM ML.EXPLAIN_PREDICT(\n",
    "            MODEL `statmike-mlops-349915.bqml_model_monitoring.classify_species_dnn`,\n",
    "            (\n",
    "                SELECT *\n",
    "                FROM ML.FEATURES_AT_TIME(\n",
    "                    (SELECT * FROM `statmike-mlops-349915.bqml_model_monitoring.production_features`),\n",
    "                    time => CURRENT_TIMESTAMP(),\n",
    "                    num_rows => 1,\n",
    "                    ignore_feature_nulls => TRUE\n",
    "                ) \n",
    "            ), \n",
    "            STRUCT(10 AS top_k_features)\n",
    "        )\n",
    "    ),\n",
    "    ATTRIBUTIONS_COMP AS (\n",
    "        SELECT * EXCEPT(top_feature_attributions),\n",
    "        FROM EXPLAIN_COMP\n",
    "        JOIN UNNEST(top_feature_attributions)\n",
    "    ),\n",
    "    PIVOT_ATTRIBUTION_COMP AS (\n",
    "        SELECT body_mass_g, sex, island, flipper_length_mm, culmen_depth_mm, culmen_length_mm\n",
    "        FROM ATTRIBUTIONS_COMP PIVOT(MAX(attribution) FOR feature IN ('body_mass_g', 'sex', 'island', 'flipper_length_mm', 'culmen_depth_mm', 'culmen_length_mm'))\n",
    "    )\n",
    "SELECT *\n",
    "FROM ML.VALIDATE_DATA_DRIFT(\n",
    "    TABLE PIVOT_ATTRIBUTION_BASE,\n",
    "    TABLE PIVOT_ATTRIBUTION_COMP\n",
    ");"
   ]
  },
  {
   "cell_type": "markdown",
   "metadata": {},
   "source": [
    "---\n",
    "### TensorFlow Data Validation (TFDV) In BigQuery\n",
    "\n",
    "BigQuery offers two functions that bring the power of the TensorFlow's [TFX platform](https://www.tensorflow.org/tfx) with built-in [TensorFlow Data Validation (TFDV)](https://www.tensorflow.org/tfx/data_validation/get_started) module directly inside of BigQuery.\n",
    "- [`ML.TFDV_DESCRIBE`](link here) to generate descriptive statistics of any table\n",
    "- [`ML.TFDV_VALIDATE`](link here) to compare"
   ]
  },
  {
   "cell_type": "code",
   "execution_count": null,
   "metadata": {},
   "outputs": [],
   "source": []
  },
  {
   "cell_type": "code",
   "execution_count": null,
   "metadata": {},
   "outputs": [],
   "source": [
    "%%bigquery\n",
    "WITH\n",
    "    BASE_TABLE AS (\n",
    "        SELECT * EXCEPT(species)\n",
    "        FROM ML.TRANSFORM(\n",
    "            MODEL `statmike-mlops-349915.bqml_model_monitoring.feature_engineering`,\n",
    "            (\n",
    "                SELECT *\n",
    "                FROM `statmike-mlops-349915.bqml_model_monitoring.source_split`\n",
    "                WHERE splits = 'TRAIN'\n",
    "            )\n",
    "        )   \n",
    "    ),\n",
    "    TODAY AS (\n",
    "        SELECT * EXCEPT(entity_id, feature_timestamp, species)\n",
    "        FROM ML.FEATURES_AT_TIME(\n",
    "            TABLE `statmike-mlops-349915.bqml_model_monitoring.production_features`,\n",
    "            time => CURRENT_TIMESTAMP(),\n",
    "            num_rows => 1,\n",
    "            ignore_feature_nulls => TRUE\n",
    "        )     \n",
    "    )\n",
    "SELECT *\n",
    "FROM ML.VALIDATE_DATA_DRIFT(\n",
    "    TABLE BASE_TABLE,\n",
    "    TABLE TODAY\n",
    ");\n",
    "\n",
    "\n",
    "\n",
    "\n",
    "%%bigquery\n",
    "WITH\n",
    "    BASE_TABLE AS (\n",
    "        SELECT * EXCEPT(entity_id, feature_timestamp, species)\n",
    "        FROM ML.FEATURES_AT_TIME(\n",
    "            TABLE `statmike-mlops-349915.bqml_model_monitoring.production_features`,\n",
    "            time => TIMESTAMP_SUB(CURRENT_TIMESTAMP(), INTERVAL 5 DAY),\n",
    "            num_rows => 1,\n",
    "            ignore_feature_nulls => TRUE\n",
    "        )    \n",
    "    ),\n",
    "    COMPARE_TABLE AS (\n",
    "        SELECT * EXCEPT(entity_id, feature_timestamp, species)\n",
    "        FROM ML.FEATURES_AT_TIME(\n",
    "            TABLE `statmike-mlops-349915.bqml_model_monitoring.production_features`,\n",
    "            time => CURRENT_TIMESTAMP(),\n",
    "            num_rows => 1,\n",
    "            ignore_feature_nulls => TRUE\n",
    "        )     \n",
    "    )\n",
    "SELECT *\n",
    "FROM ML.VALIDATE_DATA_DRIFT(\n",
    "    TABLE BASE_TABLE,\n",
    "    TABLE COMPARE_TABLE,\n",
    "    STRUCT(\n",
    "        0.03 AS categorical_default_threshold,\n",
    "        0.03 AS numerical_default_threshold\n",
    "    )\n",
    ");"
   ]
  },
  {
   "cell_type": "code",
   "execution_count": null,
   "metadata": {},
   "outputs": [],
   "source": []
  },
  {
   "cell_type": "markdown",
   "metadata": {},
   "source": [
    "#### Generate Statistics with `ML.TFDV_DESCRIBE`\n",
    "\n",
    "Generate statistics for any table, in this case the training data features or a timespan of serving data features.  This is like using the TensorFlow's [TFX platform](https://www.tensorflow.org/tfx) with built-in [TensorFlow Data Validation (TFDV)](https://www.tensorflow.org/tfx/data_validation/get_started) module's [`tfdv.generate_statistics_from_csv()`](https://www.tensorflow.org/tfx/data_validation/api_docs/python/tfdv/generate_statistics_from_csv) method.\n",
    "\n",
    "The descriptions can be used in comparisons for skew or drift detection with the `ML.TFDV_VALIDATE` function, covered next, as well as in the visualization tool `tfdv.visualize_statistics` also covered below."
   ]
  },
  {
   "cell_type": "code",
   "execution_count": 73,
   "metadata": {
    "tags": []
   },
   "outputs": [
    {
     "data": {
      "application/vnd.jupyter.widget-view+json": {
       "model_id": "6334c59c2c4b4d2187538836ec7c000a",
       "version_major": 2,
       "version_minor": 0
      },
      "text/plain": [
       "Query is running:   0%|          |"
      ]
     },
     "metadata": {},
     "output_type": "display_data"
    },
    {
     "data": {
      "application/vnd.jupyter.widget-view+json": {
       "model_id": "71a4073815c84c2ca58b88c3f13dbe00",
       "version_major": 2,
       "version_minor": 0
      },
      "text/plain": [
       "Downloading:   0%|          |"
      ]
     },
     "metadata": {},
     "output_type": "display_data"
    }
   ],
   "source": [
    "%%bigquery train_describe\n",
    "SELECT *\n",
    "FROM ML.TFDV_DESCRIBE(\n",
    "    (\n",
    "        SELECT *\n",
    "        FROM ML.TRANSFORM(\n",
    "            MODEL `statmike-mlops-349915.bqml_model_monitoring.feature_engineering`,\n",
    "            (\n",
    "                SELECT * EXCEPT(splits, species)\n",
    "                FROM `statmike-mlops-349915.bqml_model_monitoring.source_split`\n",
    "                WHERE splits = 'TRAIN'\n",
    "            )\n",
    "        )\n",
    "    )\n",
    ")"
   ]
  },
  {
   "cell_type": "code",
   "execution_count": 76,
   "metadata": {
    "tags": []
   },
   "outputs": [],
   "source": [
    "train_describe = json.loads(train_describe['dataset_feature_statistics_list'].iloc[0])"
   ]
  },
  {
   "cell_type": "code",
   "execution_count": 77,
   "metadata": {
    "tags": []
   },
   "outputs": [
    {
     "data": {
      "text/plain": [
       "{'name': 'body_mass_g',\n",
       " 'num_stats': {'common_stats': {'avg_num_values': 1,\n",
       "   'max_num_values': '1',\n",
       "   'min_num_values': '1',\n",
       "   'num_non_missing': '238',\n",
       "   'num_values_histogram': {'buckets': [{'high_value': 1,\n",
       "      'low_value': 1,\n",
       "      'sample_count': 23.8},\n",
       "     {'high_value': 1, 'low_value': 1, 'sample_count': 23.8},\n",
       "     {'high_value': 1, 'low_value': 1, 'sample_count': 23.8},\n",
       "     {'high_value': 1, 'low_value': 1, 'sample_count': 23.8},\n",
       "     {'high_value': 1, 'low_value': 1, 'sample_count': 23.8},\n",
       "     {'high_value': 1, 'low_value': 1, 'sample_count': 23.8},\n",
       "     {'high_value': 1, 'low_value': 1, 'sample_count': 23.8},\n",
       "     {'high_value': 1, 'low_value': 1, 'sample_count': 23.8},\n",
       "     {'high_value': 1, 'low_value': 1, 'sample_count': 23.8},\n",
       "     {'high_value': 1, 'low_value': 1, 'sample_count': 23.8}],\n",
       "    'type': 'QUANTILES'},\n",
       "   'tot_num_values': '238'},\n",
       "  'histograms': [{'buckets': [{'high_value': -0.62,\n",
       "      'low_value': -1,\n",
       "      'sample_count': 23.8},\n",
       "     {'high_value': -0.46, 'sample_count': 23.8},\n",
       "     {'high_value': -0.3, 'sample_count': 23.8},\n",
       "     {'high_value': -0.18, 'sample_count': 23.8},\n",
       "     {'sample_count': 23.8},\n",
       "     {'high_value': 0.28, 'sample_count': 23.8},\n",
       "     {'high_value': 0.52, 'sample_count': 23.8},\n",
       "     {'high_value': 0.74, 'sample_count': 23.8},\n",
       "     {'high_value': 1.08, 'sample_count': 23.8},\n",
       "     {'high_value': 1.6, 'low_value': 1, 'sample_count': 23.8}],\n",
       "    'type': 'QUANTILES'},\n",
       "   {'buckets': [{'high_value': -0.74,\n",
       "      'low_value': -1,\n",
       "      'sample_count': 401.19353747778797},\n",
       "     {'high_value': -0.48, 'low_value': -0.74},\n",
       "     {'high_value': -0.21999999999999997, 'low_value': -0.48},\n",
       "     {'high_value': 0.040000000000000036,\n",
       "      'low_value': -0.21999999999999997,\n",
       "      'sample_count': 7.258999999999993},\n",
       "     {'high_value': 0.30000000000000004,\n",
       "      'low_value': 0.040000000000000036,\n",
       "      'sample_count': 17.139163888888916},\n",
       "     {'high_value': 0.56,\n",
       "      'low_value': 0.30000000000000004,\n",
       "      'sample_count': 10.200257532684706},\n",
       "     {'high_value': 0.8200000000000001,\n",
       "      'low_value': 0.56,\n",
       "      'sample_count': 4.194916530884949},\n",
       "     {'high_value': 1.08,\n",
       "      'low_value': 0.8200000000000001,\n",
       "      'sample_count': 8.850295862977594},\n",
       "     {'high_value': 1.34,\n",
       "      'low_value': 1.08,\n",
       "      'sample_count': 9.397599999999988},\n",
       "     {'high_value': 1.6,\n",
       "      'low_value': 1.34,\n",
       "      'sample_count': 2.797019114219113}]}],\n",
       "  'max': 1.6,\n",
       "  'mean': 0.13487394957983187,\n",
       "  'min': -1.08,\n",
       "  'std_dev': 0.6476452052184005},\n",
       " 'type': 'FLOAT'}"
      ]
     },
     "execution_count": 77,
     "metadata": {},
     "output_type": "execute_result"
    }
   ],
   "source": [
    "train_describe['datasets'][0]['features'][0]"
   ]
  },
  {
   "cell_type": "code",
   "execution_count": 81,
   "metadata": {
    "tags": []
   },
   "outputs": [
    {
     "data": {
      "application/vnd.jupyter.widget-view+json": {
       "model_id": "3b9bd24959fd4df7a47b58a668cded14",
       "version_major": 2,
       "version_minor": 0
      },
      "text/plain": [
       "Query is running:   0%|          |"
      ]
     },
     "metadata": {},
     "output_type": "display_data"
    },
    {
     "data": {
      "application/vnd.jupyter.widget-view+json": {
       "model_id": "ac812e61d84f4b8eaa6092142c64f1f4",
       "version_major": 2,
       "version_minor": 0
      },
      "text/plain": [
       "Downloading:   0%|          |"
      ]
     },
     "metadata": {},
     "output_type": "display_data"
    }
   ],
   "source": [
    "%%bigquery today_describe\n",
    "SELECT *\n",
    "FROM ML.TFDV_DESCRIBE(\n",
    "    (\n",
    "        SELECT * EXCEPT(entity_id, feature_timestamp, species)\n",
    "        FROM ML.FEATURES_AT_TIME(\n",
    "            TABLE `statmike-mlops-349915.bqml_model_monitoring.production_features`,\n",
    "            time => CURRENT_TIMESTAMP(),\n",
    "            num_rows => 1,\n",
    "            ignore_feature_nulls => TRUE\n",
    "        ) \n",
    "    )\n",
    ")"
   ]
  },
  {
   "cell_type": "code",
   "execution_count": 82,
   "metadata": {
    "tags": []
   },
   "outputs": [],
   "source": [
    "today_describe = json.loads(today_describe['dataset_feature_statistics_list'].iloc[0])"
   ]
  },
  {
   "cell_type": "code",
   "execution_count": 83,
   "metadata": {
    "tags": []
   },
   "outputs": [],
   "source": [
    "#today_describe['datasets'][0]['features'][0]"
   ]
  },
  {
   "cell_type": "markdown",
   "metadata": {},
   "source": [
    "#### Visualize Statistics with `tfdv.visualize_statistics`\n",
    "\n",
    "Use the [`tfdv.visualize_statistics`](https://www.tensorflow.org/tfx/data_validation/api_docs/python/tfdv/visualize_statistics) tool to visualize the generated descriptions and directly compare them."
   ]
  },
  {
   "cell_type": "code",
   "execution_count": 84,
   "metadata": {
    "tags": []
   },
   "outputs": [],
   "source": [
    "import os\n",
    "os.environ['TF_CPP_MIN_LOG_LEVEL'] = '3'\n",
    "import tensorflow_data_validation as tfdv\n",
    "import tensorflow_metadata as tfmd\n",
    "from google.protobuf import json_format"
   ]
  },
  {
   "cell_type": "code",
   "execution_count": 86,
   "metadata": {
    "tags": []
   },
   "outputs": [
    {
     "data": {
      "text/html": [
       "<iframe id='facets-iframe' width=\"100%\" height=\"500px\"></iframe>\n",
       "        <script>\n",
       "        facets_iframe = document.getElementById('facets-iframe');\n",
       "        facets_html = '<script src=\"https://cdnjs.cloudflare.com/ajax/libs/webcomponentsjs/1.3.3/webcomponents-lite.js\"><\\/script><link rel=\"import\" href=\"https://raw.githubusercontent.com/PAIR-code/facets/master/facets-dist/facets-jupyter.html\"><facets-overview proto-input=\"CrYfChNUcmFpbmluZyBEYXRhIFN0YXRzEO4BGtgGCgtib2R5X21hc3NfZxABGsYGCrYCCO4BGAEgAS0AAIA/MqQCGhsJAAAAAAAA8D8RAAAAAAAA8D8hzczMzMzMN0AaGwkAAAAAAADwPxEAAAAAAADwPyHNzMzMzMw3QBobCQAAAAAAAPA/EQAAAAAAAPA/Ic3MzMzMzDdAGhsJAAAAAAAA8D8RAAAAAAAA8D8hzczMzMzMN0AaGwkAAAAAAADwPxEAAAAAAADwPyHNzMzMzMw3QBobCQAAAAAAAPA/EQAAAAAAAPA/Ic3MzMzMzDdAGhsJAAAAAAAA8D8RAAAAAAAA8D8hzczMzMzMN0AaGwkAAAAAAADwPxEAAAAAAADwPyHNzMzMzMw3QBobCQAAAAAAAPA/EQAAAAAAAPA/Ic3MzMzMzDdAGhsJAAAAAAAA8D8RAAAAAAAA8D8hzczMzMzMN0AgAUDuARGvjEOxjEPBPxkqYPpvgrnkPylI4XoUrkfxvzmamZmZmZn5P0LTARobCQAAAAAAAPC/EdejcD0K1+O/Ic3MzMzMzDdAGhIRcT0K16Nw3b8hzczMzMzMN0AaEhEzMzMzMzPTvyHNzMzMzMw3QBoSEQrXo3A9Cse/Ic3MzMzMzDdAGgkhzczMzMzMN0AaEhHsUbgehevRPyHNzMzMzMw3QBoSEaRwPQrXo+A/Ic3MzMzMzDdAGhIRrkfhehSu5z8hzczMzMzMN0AaEhFI4XoUrkfxPyHNzMzMzMw3QBobCQAAAAAAAPA/EZqZmZmZmfk/Ic3MzMzMzDdAIAFCkAIaGwkAAAAAAADwvxGuR+F6FK7nvyFlGsG6GBN5QBoSCa5H4XoUrue/EbgehetRuN6/GhIJuB6F61G43r8RKFyPwvUozL8aGwkoXI/C9SjMvxGAFK5H4XqkPyHop8ZLNwkdQBobCYAUrkfheqQ/ETQzMzMzM9M/IeSPnz6gIzFAGhsJNDMzMzMz0z8R7FG4HoXr4T8hIlHDJ4hmJEAaGwnsUbgehevhPxE+CtejcD3qPyEMZ/YymMcQQBobCT4K16NwPeo/EUjhehSuR/E/IWPTtvpZsyFAGhsJSOF6FK5H8T8RcT0K16Nw9T8hc8cpOpLLIkAaGwlxPQrXo3D1PxGamZmZmZn5PyEk3a6OS2AGQBqABwoPY3VsbWVuX2RlcHRoX21tEAEa6gYKtgII7gEYASABLQAAgD8ypAIaGwkAAAAAAADwPxEAAAAAAADwPyHNzMzMzMw3QBobCQAAAAAAAPA/EQAAAAAAAPA/Ic3MzMzMzDdAGhsJAAAAAAAA8D8RAAAAAAAA8D8hzczMzMzMN0AaGwkAAAAAAADwPxEAAAAAAADwPyHNzMzMzMw3QBobCQAAAAAAAPA/EQAAAAAAAPA/Ic3MzMzMzDdAGhsJAAAAAAAA8D8RAAAAAAAA8D8hzczMzMzMN0AaGwkAAAAAAADwPxEAAAAAAADwPyHNzMzMzMw3QBobCQAAAAAAAPA/EQAAAAAAAPA/Ic3MzMzMzDdAGhsJAAAAAAAA8D8RAAAAAAAA8D8hzczMzMzMN0AaGwkAAAAAAADwPxEAAAAAAADwPyHNzMzMzMw3QCABQO4BEcAFzSo0e/Q+GSLSNYD9/+8/KYnYaoWjBADAMZj+luG1J7M/Ofl06ahFBwBAQu4BGhsJAAAAAAAAAMARV6K7Bw5V978hzczMzMzMN0AaGwkAAAAAAADwvxGIOtd5hwDxvyHNzMzMzMw3QBobCQAAAAAAAPC/EX+LbDTgwuO/Ic3MzMzMzDdAGhIRuYeq1MUSxr8hzczMzMzMN0AaEhGY/pbhtSezPyHNzMzMzMw3QBoSEf32EiKBx9c/Ic3MzMzMzDdAGhIRORfgZYpi5T8hzczMzMzMN0AaEhH7mD2XMkztPyHNzMzMzMw3QBoSEU00g9mf+vQ/Ic3MzMzMzDdAGhsJAAAAAAAA8D8R+XTpqEUHAEAhzczMzMzMN0AgAUKQAhobCQAAAAAAAADAEc4bnkQlmPm/Ic4Q+FEGjGVAGhIJzhueRCWY+b8RnDc8iUow878aGwmcNzyJSjDzvxHVprSb35DpvyFWUgBVR755QBoSCdWmtJvfkOm/EeS84UlUgtm/GhsJ5LzhSVSC2b8RAOLTpaMWXT8h1JK6VBoOkT8aGwkA4tOloxZdPxGoZC2RgbzZPyFcO46aYMQ8QBobCahkLZGBvNk/Ebd6Wj/2rek/IczMWDl4vCRAGhsJt3paP/at6T8RjSEP29U+8z8hL2AxkYC5J0AaGwmNIQ/b1T7zPxG+BXGWsKb5PyFQC1cGXOcgQBobCb4FcZawpvk/Efh06ahFBwBAId0a5OYJKvs/GoEHChBjdWxtZW5fbGVuZ3RoX21tEAEa6gYKtgII7gEYASABLQAAgD8ypAIaGwkAAAAAAADwPxEAAAAAAADwPyHNzMzMzMw3QBobCQAAAAAAAPA/EQAAAAAAAPA/Ic3MzMzMzDdAGhsJAAAAAAAA8D8RAAAAAAAA8D8hzczMzMzMN0AaGwkAAAAAAADwPxEAAAAAAADwPyHNzMzMzMw3QBobCQAAAAAAAPA/EQAAAAAAAPA/Ic3MzMzMzDdAGhsJAAAAAAAA8D8RAAAAAAAA8D8hzczMzMzMN0AaGwkAAAAAAADwPxEAAAAAAADwPyHNzMzMzMw3QBobCQAAAAAAAPA/EQAAAAAAAPA/Ic3MzMzMzDdAGhsJAAAAAAAA8D8RAAAAAAAA8D8hzczMzMzMN0AaGwkAAAAAAADwPxEAAAAAAADwPyHNzMzMzMw3QCABQO4BEQCYVTrZ5M4+GdNJ/7z+/+8/KU79id4ePQHAMb21pq9gqaI/OQcKZ4BY7wZAQu4BGhsJAAAAAAAAAMAR6GiJQjaf9b8hzczMzMzMN0AaGwkAAAAAAADwvxGsofO+4VzwvyHNzMzMzMw3QBobCQAAAAAAAPC/EUb3Qk3h9ee/Ic3MzMzMzDdAGhIRXM7PGBKM2L8hzczMzMzMN0AaEhG9taavYKmiPyHNzMzMzMw3QBoSEYp4WtEL4No/Ic3MzMzMzDdAGhIR5kXKQiFz5D8hzczMzMzMN0AaEhEulc3mYY3vPyHNzMzMzMw3QBoSEaDwuAuiKPQ/Ic3MzMzMzDdAGhsJAAAAAAAA8D8RBwpngFjvBkAhzczMzMzMN0AgAUKQAhobCQAAAAAAAADAEcvKUeaHNvi/IXvp3xBF1WNAGhIJy8pR5oc2+L8RlpWjzA9t8L8aGwmWlaPMD23wvxHCwOplL0fhvyHhk7PnYPFhQBoSCcLA6mUvR+G/EYhl5SjzQ6u/GhsJiGXlKPNDq78RIiicAWK92z8h4HMsMA9eO0AaGwkiKJwBYr3bPxF6fio0oXHtPyFEI2ja+lQmQBobCXp+KjShce0/EXJ0w7NIgvY/ITLV41UFrkBAGhsJcnTDs0iC9j8Rp6lxzcBL/j8h6Mn67I8IBEAaGwmnqXHNwEv+PxFu749znAoDQCF4RS6tNB0GQBobCW7vj3OcCgNAEQgKZ4BY7wZAIX4kQPMZYeU/Gs4DChFmbGlwcGVyX2xlbmd0aF9tbRACIrYDCrYCCO4BGAEgAS0AAIA/MqQCGhsJAAAAAAAA8D8RAAAAAAAA8D8hzczMzMzMN0AaGwkAAAAAAADwPxEAAAAAAADwPyHNzMzMzMw3QBobCQAAAAAAAPA/EQAAAAAAAPA/Ic3MzMzMzDdAGhsJAAAAAAAA8D8RAAAAAAAA8D8hzczMzMzMN0AaGwkAAAAAAADwPxEAAAAAAADwPyHNzMzMzMw3QBobCQAAAAAAAPA/EQAAAAAAAPA/Ic3MzMzMzDdAGhsJAAAAAAAA8D8RAAAAAAAA8D8hzczMzMzMN0AaGwkAAAAAAADwPxEAAAAAAADwPyHNzMzMzMw3QBobCQAAAAAAAPA/EQAAAAAAAPA/Ic3MzMzMzDdAGhsJAAAAAAAA8D8RAAAAAAAA8D8hzczMzMzMN0AgAUDuARADGhASBWJpbl8yGQAAAAAAQFVAGhASBWJpbl8zGQAAAAAAgFRAGhASBWJpbl8xGQAAAAAAwFFAJQAAoEAqPgoQIgViaW5fMikAAAAAAEBVQAoUCAEQASIFYmluXzMpAAAAAACAVEAKFAgCEAIiBWJpbl8xKQAAAAAAwFFAGs0DCgZpc2xhbmQQAiLAAwq2AgjuARgBIAEtAACAPzKkAhobCQAAAAAAAPA/EQAAAAAAAPA/Ic3MzMzMzDdAGhsJAAAAAAAA8D8RAAAAAAAA8D8hzczMzMzMN0AaGwkAAAAAAADwPxEAAAAAAADwPyHNzMzMzMw3QBobCQAAAAAAAPA/EQAAAAAAAPA/Ic3MzMzMzDdAGhsJAAAAAAAA8D8RAAAAAAAA8D8hzczMzMzMN0AaGwkAAAAAAADwPxEAAAAAAADwPyHNzMzMzMw3QBobCQAAAAAAAPA/EQAAAAAAAPA/Ic3MzMzMzDdAGhsJAAAAAAAA8D8RAAAAAAAA8D8hzczMzMzMN0AaGwkAAAAAAADwPxEAAAAAAADwPyHNzMzMzMw3QBobCQAAAAAAAPA/EQAAAAAAAPA/Ic3MzMzMzDdAIAFA7gEQAxoREgZCaXNjb2UZAAAAAAAAXUAaEBIFRHJlYW0ZAAAAAACAVUAaFBIJVG9yZ2Vyc2VuGQAAAAAAAEJAJT71wkAqQwoRIgZCaXNjb2UpAAAAAAAAXUAKFAgBEAEiBURyZWFtKQAAAAAAgFVAChgIAhACIglUb3JnZXJzZW4pAAAAAAAAQkAamAMKA3NleBACIo4DCrYCCO4BGAEgAS0AAIA/MqQCGhsJAAAAAAAA8D8RAAAAAAAA8D8hzczMzMzMN0AaGwkAAAAAAADwPxEAAAAAAADwPyHNzMzMzMw3QBobCQAAAAAAAPA/EQAAAAAAAPA/Ic3MzMzMzDdAGhsJAAAAAAAA8D8RAAAAAAAA8D8hzczMzMzMN0AaGwkAAAAAAADwPxEAAAAAAADwPyHNzMzMzMw3QBobCQAAAAAAAPA/EQAAAAAAAPA/Ic3MzMzMzDdAGhsJAAAAAAAA8D8RAAAAAAAA8D8hzczMzMzMN0AaGwkAAAAAAADwPxEAAAAAAADwPyHNzMzMzMw3QBobCQAAAAAAAPA/EQAAAAAAAPA/Ic3MzMzMzDdAGhsJAAAAAAAA8D8RAAAAAAAA8D8hzczMzMzMN0AgAUDuARACGhESBkZFTUFMRRkAAAAAAMBeQBoPEgRNQUxFGQAAAAAAwFxAJV0ToUAqKAoRIgZGRU1BTEUpAAAAAADAXkAKEwgBEAEiBE1BTEUpAAAAAADAXEAKlh4KFExhdGVzdCBTZXJ2aW5nIFN0YXRzEEca8QYKC2JvZHlfbWFzc19nEAEa3wYKtAIIRhgBIAEtAACAPzKkAhobCQAAAAAAAPA/EQAAAAAAAPA/IWZmZmZmZhxAGhsJAAAAAAAA8D8RAAAAAAAA8D8hZmZmZmZmHEAaGwkAAAAAAADwPxEAAAAAAADwPyFmZmZmZmYcQBobCQAAAAAAAPA/EQAAAAAAAPA/IWZmZmZmZhxAGhsJAAAAAAAA8D8RAAAAAAAA8D8hZmZmZmZmHEAaGwkAAAAAAADwPxEAAAAAAADwPyFmZmZmZmYcQBobCQAAAAAAAPA/EQAAAAAAAPA/IWZmZmZmZhxAGhsJAAAAAAAA8D8RAAAAAAAA8D8hZmZmZmZmHEAaGwkAAAAAAADwPxEAAAAAAADwPyFmZmZmZmYcQBobCQAAAAAAAPA/EQAAAAAAAPA/IWZmZmZmZhxAIAFARhH0G2wkwq/iPxmfyTarltrkPymYDTqD+FvWvzGtSVUqNyXYPzlalHFtIeICQELcARoSEROhrcRAfL6/IWZmZmZmZhxAGhIRPL2SzebKd78hZmZmZmZmHEAaEhHlYfELSeC8PyFmZmZmZmYcQBoSEYv9mOutx88/IWZmZmZmZhxAGhIRrUlVKjcl2D8hZmZmZmZmHEAaEhGcZGla667kPyFmZmZmZmYcQBoSEXq3ZoCq7eo/IWZmZmZmZhxAGhIR6JHtZxXJ8j8hZmZmZmZmHEAaGwkAAAAAAADwPxExmMIZQxD6PyFmZmZmZmYcQBobCQAAAAAAAPA/EVqUcW0h4gJAIWZmZmZmZhxAIAFCmQIaEhHDU0/imzbOPyHUQdMDgWU8QBobCcNTT+KbNs4/EcNTT+KbNt4/ISUnRpu9+Pg/GhsJw1NP4ps23j8R0n676fSo5j8h4LNnrwiPAkAaGwnSfrvp9KjmPxHDU0/imzbuPyExMbBdQb3jPxobCcNTT+KbNu4/EVqUcW0h4vI/IXRT+Uy7UBBAGhsJWpRxbSHi8j8R0n676fSo9j8hYI/RuPuL1T8aGwnSfrvp9Kj2PxFKaQVmyG/6PyG/5B7satH2PxobCUppBWbIb/o/EcJTT+KbNv4/ISLIYgHNn+k/GhsJwlNP4ps2/j8RHZ9Mr7f+AEAh3H92hipHrz8aGwkdn0yvt/4AQBFZlHFtIeICQCEmFxVyszqJPxr1BgoPY3VsbWVuX2RlcHRoX21tEAEa3wYKtAIIRhgBIAEtAACAPzKkAhobCQAAAAAAAPA/EQAAAAAAAPA/IWZmZmZmZhxAGhsJAAAAAAAA8D8RAAAAAAAA8D8hZmZmZmZmHEAaGwkAAAAAAADwPxEAAAAAAADwPyFmZmZmZmYcQBobCQAAAAAAAPA/EQAAAAAAAPA/IWZmZmZmZhxAGhsJAAAAAAAA8D8RAAAAAAAA8D8hZmZmZmZmHEAaGwkAAAAAAADwPxEAAAAAAADwPyFmZmZmZmYcQBobCQAAAAAAAPA/EQAAAAAAAPA/IWZmZmZmZhxAGhsJAAAAAAAA8D8RAAAAAAAA8D8hZmZmZmZmHEAaGwkAAAAAAADwPxEAAAAAAADwPyFmZmZmZmYcQBobCQAAAAAAAPA/EQAAAAAAAPA/IWZmZmZmZhxAIAFARhGoo8AjYY6bvxnyRdzSxQjtPykqfePDA9/8vzGY/pbhtSezPzlwSITjHjcBQELlARobCQAAAAAAAPC/EWKIQmTsv/W/IWZmZmZmZhxAGhsJAAAAAAAA8L8RLEG8rMvW7r8hZmZmZmZmHEAaEhGTV3rtnJjgvyFmZmZmZmYcQBoSESNAjI1+fL+/IWZmZmZmZhxAGhIRmP6W4bUnsz8hZmZmZmZmHEAaEhH99hIigcfXPyFmZmZmZmYcQBoSETkX4GWKYuU/IWZmZmZmZhxAGhIRMzFZCaz35j8hZmZmZmZmHEAaEhFv5hfvOjvwPyFmZmZmZmYcQBobCQAAAAAAAPA/EXBIhOMeNwFAIWZmZmZmZhxAIAFCkAIaGwkAAAAAAADwvxFtSf6k8+nlvyFEnhw5OH1YQBoSCW1J/qTz6eW/EbQl+ZPOp9e/GhIJtCX5k86n178RcMSt767dq78aGwlwxK3vrt2rvxGYtA3YYrDQPyHFykxVhW8UQBobCZi0DdhisNA/Ed+QCMc9buI/IeTq5j/S0wNAGhsJ35AIxz1u4j8RckcKIkqE7D8hciFbGjckCEAaGwlyRwoiSoTsPxEC/4U+K03zPyFybClDsX0QQBobCQL/hT4rTfM/EUzaBmwxWPg/IdAmH5EvuNw/GhsJTNoGbDFY+D8RlrWHmTdj/T8hjtli56gEmD8aGwmWtYeZN2P9PxFwSITjHjcBQCF6Jsjg3SvyPxr/BgoQY3VsbWVuX2xlbmd0aF9tbRABGugGCrQCCEYYASABLQAAgD8ypAIaGwkAAAAAAADwPxEAAAAAAADwPyFmZmZmZmYcQBobCQAAAAAAAPA/EQAAAAAAAPA/IWZmZmZmZhxAGhsJAAAAAAAA8D8RAAAAAAAA8D8hZmZmZmZmHEAaGwkAAAAAAADwPxEAAAAAAADwPyFmZmZmZmYcQBobCQAAAAAAAPA/EQAAAAAAAPA/IWZmZmZmZhxAGhsJAAAAAAAA8D8RAAAAAAAA8D8hZmZmZmZmHEAaGwkAAAAAAADwPxEAAAAAAADwPyFmZmZmZmYcQBobCQAAAAAAAPA/EQAAAAAAAPA/IWZmZmZmZhxAGhsJAAAAAAAA8D8RAAAAAAAA8D8hZmZmZmZmHEAaGwkAAAAAAADwPxEAAAAAAADwPyFmZmZmZmYcQCABQEYRlTPUxadCnr8Z/LfvzWgv7z8pljbdrEeO/78x1sugEL23sr85RzafVcc/+D9C7gEaGwkAAAAAAADwvxFRSfUQAur1vyFmZmZmZmYcQBobCQAAAAAAAPC/EbjBN0SUju+/IWZmZmZmZhxAGhIROm/VLPUd4r8hZmZmZmZmHEAaEhEay3ClszXWvyFmZmZmZmYcQBoSEdbLoBC9t7K/IWZmZmZmZhxAGhIRPO2NPcGx0j8hZmZmZmZmHEAaEhH1fhi4yIzfPyFmZmZmZmYcQBoSEQIN7sl3h/E/IWZmZmZmZhxAGhsJAAAAAAAA8D8RoPC4C6Io9D8hZmZmZmZmHEAaGwkAAAAAAADwPxFHNp9Vxz/4PyFmZmZmZmYcQCABQpACGhsJAAAAAAAA8L8R8sF5iD7z578hdWPKEGUiUkAaEgnywXmIPvPnvxHHB+ch+szfvxoSCccH5yH6zN+/EVQXtWXuZs+/GhsJVBe1Ze5mz78RwBx8DO+CeT8h6YgQsv6KcD8aGwnAHHwM74J5PxGQbD6rjn/QPyHGb3HyU14bQBobCZBsPquOf9A/EVZ0Jc2ITOA/IVUwvNUzAARAGhsJVnQlzYhM4D8RZLKrREpZ6D8hoauYYFBLlz8aGwlksqtESlnoPxE5+BjeBTPwPyFKnO9Om7zmPxobCTn4GN4FM/A/EUAX3JlmOfQ/IUtBj5ihrSBAGhsJQBfcmWY59D8RRzafVcc/+D8h1w5FPeLYAkAapAMKEWZsaXBwZXJfbGVuZ3RoX21tEAIijAMKtAIIRhgBIAEtAACAPzKkAhobCQAAAAAAAPA/EQAAAAAAAPA/IWZmZmZmZhxAGhsJAAAAAAAA8D8RAAAAAAAA8D8hZmZmZmZmHEAaGwkAAAAAAADwPxEAAAAAAADwPyFmZmZmZmYcQBobCQAAAAAAAPA/EQAAAAAAAPA/IWZmZmZmZhxAGhsJAAAAAAAA8D8RAAAAAAAA8D8hZmZmZmZmHEAaGwkAAAAAAADwPxEAAAAAAADwPyFmZmZmZmYcQBobCQAAAAAAAPA/EQAAAAAAAPA/IWZmZmZmZhxAGhsJAAAAAAAA8D8RAAAAAAAA8D8hZmZmZmZmHEAaGwkAAAAAAADwPxEAAAAAAADwPyFmZmZmZmYcQBobCQAAAAAAAPA/EQAAAAAAAPA/IWZmZmZmZhxAIAFARhACGhASBWJpbl8zGQAAAAAAgEZAGhASBWJpbl8yGQAAAAAAADlAJQAAoEAqKAoQIgViaW5fMykAAAAAAIBGQAoUCAEQASIFYmluXzIpAAAAAAAAOUAa8wIKBmlzbGFuZBACIuYCCrQCCEcYASABLQAAgD8ypAIaGwkAAAAAAADwPxEAAAAAAADwPyFmZmZmZmYcQBobCQAAAAAAAPA/EQAAAAAAAPA/IWZmZmZmZhxAGhsJAAAAAAAA8D8RAAAAAAAA8D8hZmZmZmZmHEAaGwkAAAAAAADwPxEAAAAAAADwPyFmZmZmZmYcQBobCQAAAAAAAPA/EQAAAAAAAPA/IWZmZmZmZhxAGhsJAAAAAAAA8D8RAAAAAAAA8D8hZmZmZmZmHEAaGwkAAAAAAADwPxEAAAAAAADwPyFmZmZmZmYcQBobCQAAAAAAAPA/EQAAAAAAAPA/IWZmZmZmZhxAGhsJAAAAAAAA8D8RAAAAAAAA8D8hZmZmZmZmHEAaGwkAAAAAAADwPxEAAAAAAADwPyFmZmZmZmYcQCABQEcQARoREgZCaXNjb2UZAAAAAADAUUAlAADAQCoTChEiBkJpc2NvZSkAAAAAAMBRQBrwAgoDc2V4EAIi5gIKtAIIRxgBIAEtAACAPzKkAhobCQAAAAAAAPA/EQAAAAAAAPA/IWZmZmZmZhxAGhsJAAAAAAAA8D8RAAAAAAAA8D8hZmZmZmZmHEAaGwkAAAAAAADwPxEAAAAAAADwPyFmZmZmZmYcQBobCQAAAAAAAPA/EQAAAAAAAPA/IWZmZmZmZhxAGhsJAAAAAAAA8D8RAAAAAAAA8D8hZmZmZmZmHEAaGwkAAAAAAADwPxEAAAAAAADwPyFmZmZmZmYcQBobCQAAAAAAAPA/EQAAAAAAAPA/IWZmZmZmZhxAGhsJAAAAAAAA8D8RAAAAAAAA8D8hZmZmZmZmHEAaGwkAAAAAAADwPxEAAAAAAADwPyFmZmZmZmYcQBobCQAAAAAAAPA/EQAAAAAAAPA/IWZmZmZmZhxAIAFARxABGhESBkZFTUFMRRkAAAAAAMBRQCUAAMBAKhMKESIGRkVNQUxFKQAAAAAAwFFA\"></facets-overview>';\n",
       "        facets_iframe.srcdoc = facets_html;\n",
       "         facets_iframe.id = \"\";\n",
       "         setTimeout(() => {\n",
       "           facets_iframe.setAttribute('height', facets_iframe.contentWindow.document.body.offsetHeight + 'px')\n",
       "         }, 1500)\n",
       "         </script>"
      ],
      "text/plain": [
       "<IPython.core.display.HTML object>"
      ]
     },
     "metadata": {},
     "output_type": "display_data"
    }
   ],
   "source": [
    "tfdv.visualize_statistics(\n",
    "    lhs_statistics = json_format.ParseDict(train_describe, tfmd.proto.statistics_pb2.DatasetFeatureStatisticsList()),\n",
    "    rhs_statistics = json_format.ParseDict(today_describe, tfmd.proto.statistics_pb2.DatasetFeatureStatisticsList()),\n",
    "    lhs_name = 'Training Data Stats',\n",
    "    rhs_name = 'Latest Serving Stats'\n",
    ")"
   ]
  },
  {
   "cell_type": "markdown",
   "metadata": {},
   "source": [
    "#### Compare And Detect Anomalies with `ML.TFDV_VALIDATE`\n",
    "\n",
    "Compare the distribution of any table to a base table and compute distance statistics to detect anomalies.  This is like using the TensorFlow's [TFX platform](https://www.tensorflow.org/tfx) with built-in [TensorFlow Data Validation (TFDV)](https://www.tensorflow.org/tfx/data_validation/get_started) module's [validate_statistics api](https://www.tensorflow.org/tfx/data_validation/api_docs/python/tfdv/validate_statistics).\n",
    "\n",
    "These comparison can be made to training data for **skew** detection or previous serving data for **drift** detection."
   ]
  },
  {
   "cell_type": "code",
   "execution_count": 87,
   "metadata": {
    "tags": []
   },
   "outputs": [
    {
     "data": {
      "application/vnd.jupyter.widget-view+json": {
       "model_id": "02288744ed7d4cb6ba35fc5211b0f0b5",
       "version_major": 2,
       "version_minor": 0
      },
      "text/plain": [
       "Query is running:   0%|          |"
      ]
     },
     "metadata": {},
     "output_type": "display_data"
    },
    {
     "data": {
      "application/vnd.jupyter.widget-view+json": {
       "model_id": "2478672b5c464bdd9defdf8d9ecf526c",
       "version_major": 2,
       "version_minor": 0
      },
      "text/plain": [
       "Downloading:   0%|          |"
      ]
     },
     "metadata": {},
     "output_type": "display_data"
    }
   ],
   "source": [
    "%%bigquery validate\n",
    "WITH\n",
    "    TRAIN AS (\n",
    "        SELECT *\n",
    "        FROM ML.TRANSFORM(\n",
    "            MODEL `statmike-mlops-349915.bqml_model_monitoring.feature_engineering`,\n",
    "            (\n",
    "                SELECT * EXCEPT(splits, species)\n",
    "                FROM `statmike-mlops-349915.bqml_model_monitoring.source_split`\n",
    "                WHERE splits = 'TRAIN'\n",
    "            )\n",
    "        )\n",
    "    ),\n",
    "    SERVE AS (\n",
    "        SELECT * EXCEPT(entity_id, feature_timestamp, species)\n",
    "        FROM ML.FEATURES_AT_TIME(\n",
    "            TABLE `statmike-mlops-349915.bqml_model_monitoring.production_features`,\n",
    "            time => CURRENT_TIMESTAMP(),\n",
    "            num_rows => 1,\n",
    "            ignore_feature_nulls => TRUE\n",
    "        ) \n",
    "    )\n",
    "SELECT ML.TFDV_VALIDATE(\n",
    "    (SELECT * FROM ML.TFDV_DESCRIBE(TABLE TRAIN)),\n",
    "    (SELECT * FROM ML.TFDV_DESCRIBE(TABLE SERVE)),\n",
    "    'DRIFT'\n",
    ") as validate"
   ]
  },
  {
   "cell_type": "code",
   "execution_count": 88,
   "metadata": {
    "tags": []
   },
   "outputs": [],
   "source": [
    "validate = json.loads(validate['validate'].iloc[0])"
   ]
  },
  {
   "cell_type": "code",
   "execution_count": 89,
   "metadata": {
    "tags": []
   },
   "outputs": [],
   "source": [
    "#validate['anomaly_info']"
   ]
  },
  {
   "cell_type": "markdown",
   "metadata": {},
   "source": [
    "#### Display Anomalies with `tfdv.display_anomalies`\n",
    "\n",
    "Use the [`tfdv.display_anomalies`](https://www.tensorflow.org/tfx/data_validation/api_docs/python/tfdv/display_anomalies) tool to display a table of anomaly detections with descriptions."
   ]
  },
  {
   "cell_type": "code",
   "execution_count": 90,
   "metadata": {
    "tags": []
   },
   "outputs": [],
   "source": [
    "del validate['baseline']['generate_legacy_feature_spec']"
   ]
  },
  {
   "cell_type": "code",
   "execution_count": 91,
   "metadata": {
    "tags": []
   },
   "outputs": [
    {
     "data": {
      "text/html": [
       "<div>\n",
       "<style scoped>\n",
       "    .dataframe tbody tr th:only-of-type {\n",
       "        vertical-align: middle;\n",
       "    }\n",
       "\n",
       "    .dataframe tbody tr th {\n",
       "        vertical-align: top;\n",
       "    }\n",
       "\n",
       "    .dataframe thead th {\n",
       "        text-align: right;\n",
       "    }\n",
       "</style>\n",
       "<table border=\"1\" class=\"dataframe\">\n",
       "  <thead>\n",
       "    <tr style=\"text-align: right;\">\n",
       "      <th></th>\n",
       "      <th>Anomaly short description</th>\n",
       "      <th>Anomaly long description</th>\n",
       "    </tr>\n",
       "    <tr>\n",
       "      <th>Feature name</th>\n",
       "      <th></th>\n",
       "      <th></th>\n",
       "    </tr>\n",
       "  </thead>\n",
       "  <tbody>\n",
       "    <tr>\n",
       "      <th>'sex'</th>\n",
       "      <td>High Linfty distance between current and previous</td>\n",
       "      <td>The Linfty distance between current and previous is 0.483193 (up to six significant digits), above the threshold 0.3. The feature value with maximum difference is: MALE</td>\n",
       "    </tr>\n",
       "    <tr>\n",
       "      <th>'culmen_depth_mm'</th>\n",
       "      <td>High approximate Jensen-Shannon divergence between current and previous</td>\n",
       "      <td>The approximate Jensen-Shannon divergence between current and previous is 0.485617 (up to six significant digits), above the threshold 0.3.</td>\n",
       "    </tr>\n",
       "    <tr>\n",
       "      <th>'body_mass_g'</th>\n",
       "      <td>High approximate Jensen-Shannon divergence between current and previous</td>\n",
       "      <td>The approximate Jensen-Shannon divergence between current and previous is 0.785733 (up to six significant digits), above the threshold 0.3.</td>\n",
       "    </tr>\n",
       "    <tr>\n",
       "      <th>'island'</th>\n",
       "      <td>High Linfty distance between current and previous</td>\n",
       "      <td>The Linfty distance between current and previous is 0.512605 (up to six significant digits), above the threshold 0.3. The feature value with maximum difference is: Biscoe</td>\n",
       "    </tr>\n",
       "    <tr>\n",
       "      <th>'culmen_length_mm'</th>\n",
       "      <td>High approximate Jensen-Shannon divergence between current and previous</td>\n",
       "      <td>The approximate Jensen-Shannon divergence between current and previous is 0.471809 (up to six significant digits), above the threshold 0.3.</td>\n",
       "    </tr>\n",
       "  </tbody>\n",
       "</table>\n",
       "</div>"
      ],
      "text/plain": [
       "                                                                  Anomaly short description  \\\n",
       "Feature name                                                                                  \n",
       "'sex'                                     High Linfty distance between current and previous   \n",
       "'culmen_depth_mm'   High approximate Jensen-Shannon divergence between current and previous   \n",
       "'body_mass_g'       High approximate Jensen-Shannon divergence between current and previous   \n",
       "'island'                                  High Linfty distance between current and previous   \n",
       "'culmen_length_mm'  High approximate Jensen-Shannon divergence between current and previous   \n",
       "\n",
       "                                                                                                                                                                      Anomaly long description  \n",
       "Feature name                                                                                                                                                                                    \n",
       "'sex'                 The Linfty distance between current and previous is 0.483193 (up to six significant digits), above the threshold 0.3. The feature value with maximum difference is: MALE  \n",
       "'culmen_depth_mm'                                  The approximate Jensen-Shannon divergence between current and previous is 0.485617 (up to six significant digits), above the threshold 0.3.  \n",
       "'body_mass_g'                                      The approximate Jensen-Shannon divergence between current and previous is 0.785733 (up to six significant digits), above the threshold 0.3.  \n",
       "'island'            The Linfty distance between current and previous is 0.512605 (up to six significant digits), above the threshold 0.3. The feature value with maximum difference is: Biscoe  \n",
       "'culmen_length_mm'                                 The approximate Jensen-Shannon divergence between current and previous is 0.471809 (up to six significant digits), above the threshold 0.3.  "
      ]
     },
     "metadata": {},
     "output_type": "display_data"
    }
   ],
   "source": [
    "tfdv.display_anomalies(\n",
    "    anomalies = json_format.ParseDict(validate, tfmd.proto.anomalies_pb2.Anomalies())\n",
    ")"
   ]
  },
  {
   "cell_type": "markdown",
   "metadata": {},
   "source": [
    "---\n",
    "## Continous Monitoring\n",
    "\n",
    "The methods above can be combined into a job that runs both skew and drift detection.  The jobs can be scheduled or triggered to make the process of model monitoring continous - continous monitoring.  If the model quality can be evaluated with confidence then the automation can even be extended to retrain and update the model for continous training.   \n",
    "\n",
    "This section shows one of many ways to create a model monitoring job. For models created in BigQuery with BigQuery ML it also shows a retraining action as part of the job when alerts are detected.\n",
    "\n",
    "These types of jobs could be automated for continous monitoring with one of these methods:\n",
    "- [BigQuery Scheduled Queries](https://cloud.google.com/bigquery/docs/scheduling-queries)\n",
    "    - Featured below\n",
    "- [Dataform](https://cloud.google.com/dataform/docs/quickstart-create-workflow)\n",
    "- [Workflows](https://cloud.google.com/workflows/docs/tutorials/bigquery-parallel-jobs)\n",
    "- [Cloud Composer](https://cloud.google.com/composer/docs/data-analytics-googlecloud)\n",
    "- [Vertex AI Pipelines](https://cloud.google.com/vertex-ai/docs/pipelines/gcpc-list#bqml_components)\n",
    "\n",
    "This section will show how to:\n",
    "- Develop model monitoring jobs:\n",
    "    - with alerting\n",
    "    - with alterting and retraining\n",
    "- Build tables to capture continous monitoring results\n",
    "- Extend monitoring jobs to BigQuery Scheduled Queries\n",
    "- Backfill monitoring jobs for a past time period"
   ]
  },
  {
   "cell_type": "markdown",
   "metadata": {},
   "source": [
    "### Model Monitoring Job: With Alerting\n",
    "\n",
    "A BigQuery SQL job that uses the [procedural language](https://cloud.google.com/bigquery/docs/reference/standard-sql/procedural-language) to execute multiple statements (steps) as a single query.  In this case, monitor skew and drift, detect an feature level anomalies in either and report back and anomalies via a log note to forced error."
   ]
  },
  {
   "cell_type": "code",
   "execution_count": null,
   "metadata": {},
   "outputs": [],
   "source": [
    "%%bigquery\n",
    "DECLARE drift_anomalies ARRAY<STRING>;\n",
    "DECLARE drift STRING;\n",
    "DECLARE skew_anomalies ARRAY<STRING>;\n",
    "DECLARE skew STRING;\n",
    "\n",
    "# Monitor Drift\n",
    "SET drift_anomalies = (\n",
    "    SELECT ARRAY_AGG(input)\n",
    "    FROM ML.VALIDATE_DATA_DRIFT(\n",
    "        (\n",
    "            SELECT * EXCEPT(splits)\n",
    "            FROM `statmike-mlops-349915.bqml_model_monitoring.source_split_intro`\n",
    "            WHERE splits = 'EVAL'\n",
    "        ),\n",
    "        (\n",
    "            SELECT * EXCEPT(splits)\n",
    "            FROM `statmike-mlops-349915.bqml_model_monitoring.source_split_intro`\n",
    "            WHERE splits = 'TEST'\n",
    "        ),\n",
    "        STRUCT(\n",
    "            0.03 AS categorical_default_threshold,\n",
    "            0.03 AS numerical_default_threshold\n",
    "        )\n",
    "    )\n",
    "    WHERE is_anomaly = True\n",
    ");\n",
    "IF(ARRAY_LENGTH(drift_anomalies) > 0)\n",
    "    THEN\n",
    "        SET drift = CONCAT(\n",
    "            \"Found data drift (\", ARRAY_TO_STRING(drift_anomalies, \", \"), \")\"\n",
    "        );\n",
    "    ELSE SET drift = 'No drift detected.';\n",
    "END IF;\n",
    "\n",
    "# Monitor Skew\n",
    "SET skew_anomalies = (\n",
    "    SELECT ARRAY_AGG(input)\n",
    "    FROM ML.VALIDATE_DATA_SKEW(\n",
    "        MODEL `statmike-mlops-349915.bqml_model_monitoring.classify_species_logistic`,\n",
    "        (\n",
    "            SELECT * EXCEPT(splits)\n",
    "            FROM `statmike-mlops-349915.bqml_model_monitoring.source_split_intro`\n",
    "            WHERE splits = 'TEST'\n",
    "        )\n",
    "    )\n",
    "    WHERE is_anomaly = True\n",
    ");\n",
    "IF(ARRAY_LENGTH(skew_anomalies) > 0)\n",
    "    THEN\n",
    "        SET skew = CONCAT(\n",
    "            \"Found data skew (\", ARRAY_TO_STRING(skew_anomalies, \", \"), \")\"\n",
    "        );\n",
    "    ELSE SET skew = 'No skew detected.';\n",
    "END IF;\n",
    "\n",
    "# Prepare Alert\n",
    "IF(ARRAY_LENGTH(drift_anomalies) > 0 OR ARRAY_LENGTH(skew_anomalies) > 0)\n",
    "    THEN\n",
    "        SELECT ERROR(\n",
    "            CONCAT(\n",
    "                \"\\nMonitoring Report:\",\n",
    "                \"\\n\\t\", drift,\n",
    "                \"\\n\\t\", skew\n",
    "            )\n",
    "        );\n",
    "END IF;"
   ]
  },
  {
   "cell_type": "markdown",
   "metadata": {},
   "source": [
    "## Model Monitoring Job: With Alerting And Retraining\n",
    "\n",
    "Extend the alerting example above:\n",
    ">A BigQuery SQL job that uses the [procedural language](https://cloud.google.com/bigquery/docs/reference/standard-sql/procedural-language) to execute multiple statements (steps) as a single query.  In this case, monitor skew and drift, detect any feature level anomalies in either and report back the anomalies via a log note with a forced error.\n",
    "\n",
    "Include retraining of the BigQuery ML model:\n",
    "In this case the example is simplified to retrain the model and directly implement it as a replacement with `CREATE OR REPLACE MODEL`.  In a production enviornment additional pre/post steps might take place as part of this workflow:\n",
    "- on skew/drift detection:\n",
    "    - Prior to retraining:\n",
    "        - ensure detection is not due to data errors, schema changes, or system changes\n",
    "    - After retrainning:\n",
    "        - evaluate the model and compare to current production version\n",
    "        - conditionally deploy the new version if it is better in any key metrics\n",
    "        - consider rollout strategies for the retrained model"
   ]
  },
  {
   "cell_type": "code",
   "execution_count": null,
   "metadata": {},
   "outputs": [],
   "source": [
    "%%bigquery\n",
    "DECLARE drift_anomalies ARRAY<STRING>;\n",
    "DECLARE drift STRING;\n",
    "DECLARE skew_anomalies ARRAY<STRING>;\n",
    "DECLARE skew STRING;\n",
    "\n",
    "# Monitor Drift\n",
    "SET drift_anomalies = (\n",
    "    SELECT ARRAY_AGG(input)\n",
    "    FROM ML.VALIDATE_DATA_DRIFT(\n",
    "        (\n",
    "            SELECT * EXCEPT(splits)\n",
    "            FROM `statmike-mlops-349915.bqml_model_monitoring.source_split_intro`\n",
    "            WHERE splits = 'EVAL'\n",
    "        ),\n",
    "        (\n",
    "            SELECT * EXCEPT(splits)\n",
    "            FROM `statmike-mlops-349915.bqml_model_monitoring.source_split_intro`\n",
    "            WHERE splits = 'TEST'\n",
    "        ),\n",
    "        STRUCT(\n",
    "            0.03 AS categorical_default_threshold,\n",
    "            0.03 AS numerical_default_threshold\n",
    "        )\n",
    "    )\n",
    "    WHERE is_anomaly = True\n",
    ");\n",
    "IF(ARRAY_LENGTH(drift_anomalies) > 0)\n",
    "    THEN\n",
    "        SET drift = CONCAT(\n",
    "            \"Found data drift (\", ARRAY_TO_STRING(drift_anomalies, \", \"), \")\"\n",
    "        );\n",
    "    ELSE SET drift = 'No drift detected.';\n",
    "END IF;\n",
    "\n",
    "# Monitor Skew\n",
    "SET skew_anomalies = (\n",
    "    SELECT ARRAY_AGG(input)\n",
    "    FROM ML.VALIDATE_DATA_SKEW(\n",
    "        MODEL `statmike-mlops-349915.bqml_model_monitoring.classify_species_logistic`,\n",
    "        (\n",
    "            SELECT * EXCEPT(splits)\n",
    "            FROM `statmike-mlops-349915.bqml_model_monitoring.source_split_intro`\n",
    "            WHERE splits = 'TEST'\n",
    "        )\n",
    "    )\n",
    "    WHERE is_anomaly = True\n",
    ");\n",
    "IF(ARRAY_LENGTH(skew_anomalies) > 0)\n",
    "    THEN\n",
    "        SET skew = CONCAT(\n",
    "            \"Found data skew (\", ARRAY_TO_STRING(skew_anomalies, \", \"), \")\"\n",
    "        );\n",
    "    ELSE SET skew = 'No skew detected.';\n",
    "END IF;\n",
    "\n",
    "# Prepare Alert\n",
    "IF(ARRAY_LENGTH(drift_anomalies) > 0 OR ARRAY_LENGTH(skew_anomalies) > 0)\n",
    "    THEN\n",
    "        BEGIN\n",
    "            DECLARE accuracy FLOAT64;\n",
    "            DECLARE retrain_accuracy FLOAT64;\n",
    "            \n",
    "            # get current models evaluation metrics: accuracy\n",
    "            SET accuracy = (\n",
    "                SELECT accuracy\n",
    "                FROM ML.EVALUATE (\n",
    "                    MODEL `statmike-mlops-349915.bqml_model_monitoring.classify_species_logistic`\n",
    "                )\n",
    "            );\n",
    "            \n",
    "            # retrain the model\n",
    "            CREATE OR REPLACE MODEL `statmike-mlops-349915.bqml_model_monitoring.classify_species_logistic`\n",
    "                TRANSFORM(\n",
    "                    ML.ROBUST_SCALER(body_mass_g) OVER() AS body_mass_g,\n",
    "                    ML.STANDARD_SCALER(culmen_length_mm) OVER() AS culmen_length_mm,\n",
    "                    ML.STANDARD_SCALER(culmen_depth_mm) OVER() AS culmen_depth_mm,\n",
    "                    ML.QUANTILE_BUCKETIZE(flipper_length_mm, 3) OVER() AS flipper_length_mm,\n",
    "                    ML.IMPUTER(sex, 'most_frequent') OVER() AS sex,\n",
    "                    ML.IMPUTER(island, 'most_frequent') OVER() AS island,\n",
    "                    species, split\n",
    "                )\n",
    "                OPTIONS(\n",
    "                    MODEL_TYPE = 'LOGISTIC_REG',\n",
    "                    INPUT_LABEL_COLS = ['species'],\n",
    "\n",
    "                    # data specifics\n",
    "                    DATA_SPLIT_METHOD = 'CUSTOM',\n",
    "                    DATA_SPLIT_COL = 'split',\n",
    "\n",
    "                    # model specifics\n",
    "                    AUTO_CLASS_WEIGHTS = TRUE\n",
    "                )\n",
    "            AS\n",
    "                SELECT * EXCEPT(splits),\n",
    "                    CASE WHEN splits in ('TRAIN', 'TEST') THEN FALSE\n",
    "                    ELSE TRUE END AS split\n",
    "                FROM `statmike-mlops-349915.bqml_model_monitoring.source_split_intro`\n",
    "            ;\n",
    "            \n",
    "            # get retrained models evaluation metrics: accuracy\n",
    "            SET retrain_accuracy = (\n",
    "                SELECT accuracy\n",
    "                FROM ML.EVALUATE (\n",
    "                    MODEL `statmike-mlops-349915.bqml_model_monitoring.classify_species_logistic`\n",
    "                )\n",
    "            );\n",
    "\n",
    "            SELECT ERROR(\n",
    "                CONCAT(\n",
    "                    \"\\nMonitoring Report:\",\n",
    "                    \"\\n\\t\", drift,\n",
    "                    \"\\n\\t\", skew,\n",
    "                    \"\\nThe Model was retrained:\",\n",
    "                    \"\\n\\taccuracy before retraining: \", accuracy,\n",
    "                    \"\\n\\taccuracy after retraining: \", retrain_accuracy\n",
    "                )\n",
    "            );\n",
    "        END;\n",
    "END IF;"
   ]
  },
  {
   "cell_type": "code",
   "execution_count": null,
   "metadata": {},
   "outputs": [],
   "source": []
  },
  {
   "cell_type": "code",
   "execution_count": null,
   "metadata": {},
   "outputs": [],
   "source": []
  },
  {
   "cell_type": "code",
   "execution_count": null,
   "metadata": {},
   "outputs": [],
   "source": []
  },
  {
   "cell_type": "code",
   "execution_count": null,
   "metadata": {},
   "outputs": [],
   "source": []
  },
  {
   "cell_type": "code",
   "execution_count": null,
   "metadata": {},
   "outputs": [],
   "source": []
  },
  {
   "cell_type": "code",
   "execution_count": null,
   "metadata": {},
   "outputs": [],
   "source": []
  },
  {
   "cell_type": "code",
   "execution_count": null,
   "metadata": {},
   "outputs": [],
   "source": []
  },
  {
   "cell_type": "code",
   "execution_count": null,
   "metadata": {},
   "outputs": [],
   "source": []
  },
  {
   "cell_type": "code",
   "execution_count": null,
   "metadata": {},
   "outputs": [],
   "source": []
  },
  {
   "cell_type": "code",
   "execution_count": null,
   "metadata": {},
   "outputs": [],
   "source": []
  },
  {
   "cell_type": "code",
   "execution_count": null,
   "metadata": {},
   "outputs": [],
   "source": []
  },
  {
   "cell_type": "code",
   "execution_count": null,
   "metadata": {},
   "outputs": [],
   "source": []
  },
  {
   "cell_type": "code",
   "execution_count": null,
   "metadata": {},
   "outputs": [],
   "source": []
  },
  {
   "cell_type": "code",
   "execution_count": null,
   "metadata": {},
   "outputs": [],
   "source": []
  },
  {
   "cell_type": "markdown",
   "metadata": {},
   "source": [
    "---\n",
    "---\n",
    "---\n",
    "---\n",
    "---"
   ]
  },
  {
   "cell_type": "markdown",
   "metadata": {},
   "source": [
    "---\n",
    "## Continous Model Monitoring\n",
    "\n",
    "By initiating model monitoring on a regular basis the results of anomaly detection can be turned into actions, like:\n",
    "- trigger a person to review a model\n",
    "- automatically trigger the retraining of the model: continous training\n",
    "\n",
    "Monitoring could be scheduled or triggered:\n",
    "- scheduled to run hourly, daily, weekly based on the volume of prediction requests expected\n",
    "- triggered to run based on a volume of requests\n",
    "\n",
    "By using SQL to do monitoring queries it opens up many options for automation of this process:\n",
    "- Cloud Workflows\n",
    "    - Including with Dataform\n",
    "- Cloud Composer\n",
    "    - Including with Dataform\n",
    "- Scheduled Queries\n",
    "\n",
    "This section shows an easy way to get started with automation using scheduled queries and Cloud Logging to trigger email notificaitons."
   ]
  },
  {
   "cell_type": "markdown",
   "metadata": {},
   "source": [
    "### Build Monitoring Tables\n",
    "\n",
    "Create BigQuery tables to hold the results:\n",
    "- Daily Skew Monitoring\n",
    "- Daily Drift Monitoring\n",
    "- Results of `TFDV_DESCRIBE` for each day"
   ]
  },
  {
   "cell_type": "markdown",
   "metadata": {},
   "source": [
    "From the serving data for the features, calculate the timestamp of the earliest day.  To get all the features values from thid day also shift to the start of the next calendar day."
   ]
  },
  {
   "cell_type": "code",
   "execution_count": 391,
   "metadata": {
    "tags": []
   },
   "outputs": [
    {
     "data": {
      "application/json": {
       "ascii": false,
       "bar_format": "{l_bar}{bar}|",
       "colour": null,
       "elapsed": 0.005582571029663086,
       "initial": 0,
       "n": 0,
       "ncols": null,
       "nrows": null,
       "postfix": null,
       "prefix": "Query is running",
       "rate": null,
       "total": 1,
       "unit": "query",
       "unit_divisor": 1000,
       "unit_scale": false
      },
      "application/vnd.jupyter.widget-view+json": {
       "model_id": "24731b23e33a432daa44c9e634921706",
       "version_major": 2,
       "version_minor": 0
      },
      "text/plain": [
       "Query is running:   0%|          |"
      ]
     },
     "metadata": {},
     "output_type": "display_data"
    },
    {
     "data": {
      "application/json": {
       "ascii": false,
       "bar_format": "{l_bar}{bar}|",
       "colour": null,
       "elapsed": 0.004755496978759766,
       "initial": 0,
       "n": 0,
       "ncols": null,
       "nrows": null,
       "postfix": null,
       "prefix": "Downloading",
       "rate": null,
       "total": 1,
       "unit": "rows",
       "unit_divisor": 1000,
       "unit_scale": false
      },
      "application/vnd.jupyter.widget-view+json": {
       "model_id": "8b5c86a35b62421cae9e54f1b924b7b7",
       "version_major": 2,
       "version_minor": 0
      },
      "text/plain": [
       "Downloading:   0%|          |"
      ]
     },
     "metadata": {},
     "output_type": "display_data"
    },
    {
     "data": {
      "text/html": [
       "<div>\n",
       "<style scoped>\n",
       "    .dataframe tbody tr th:only-of-type {\n",
       "        vertical-align: middle;\n",
       "    }\n",
       "\n",
       "    .dataframe tbody tr th {\n",
       "        vertical-align: top;\n",
       "    }\n",
       "\n",
       "    .dataframe thead th {\n",
       "        text-align: right;\n",
       "    }\n",
       "</style>\n",
       "<table border=\"1\" class=\"dataframe\">\n",
       "  <thead>\n",
       "    <tr style=\"text-align: right;\">\n",
       "      <th></th>\n",
       "      <th>f0_</th>\n",
       "    </tr>\n",
       "  </thead>\n",
       "  <tbody>\n",
       "    <tr>\n",
       "      <th>0</th>\n",
       "      <td>2024-02-20 00:00:00+00:00</td>\n",
       "    </tr>\n",
       "  </tbody>\n",
       "</table>\n",
       "</div>"
      ],
      "text/plain": [
       "                        f0_\n",
       "0 2024-02-20 00:00:00+00:00"
      ]
     },
     "execution_count": 391,
     "metadata": {},
     "output_type": "execute_result"
    }
   ],
   "source": [
    "%%bigquery\n",
    "SELECT TIMESTAMP_ADD(TIMESTAMP_TRUNC(MIN(feature_timestamp), DAY, \"UTC\"), INTERVAL 1 DAY)\n",
    "FROM `statmike-mlops-349915.bqml_model_monitoring.production_features`"
   ]
  },
  {
   "cell_type": "markdown",
   "metadata": {},
   "source": [
    "#### Create Table: `monitoring_daily_skew`\n",
    "\n",
    "Columns: `Model | Time | input | metric | threshold | value | is_anomaly`\n",
    "\n",
    "Initialize the table with results from the first day of model deployment."
   ]
  },
  {
   "cell_type": "code",
   "execution_count": 394,
   "metadata": {
    "tags": []
   },
   "outputs": [
    {
     "data": {
      "application/json": {
       "ascii": false,
       "bar_format": "{l_bar}{bar}|",
       "colour": null,
       "elapsed": 0.00661778450012207,
       "initial": 0,
       "n": 0,
       "ncols": null,
       "nrows": null,
       "postfix": null,
       "prefix": "Query is running",
       "rate": null,
       "total": 1,
       "unit": "query",
       "unit_divisor": 1000,
       "unit_scale": false
      },
      "application/vnd.jupyter.widget-view+json": {
       "model_id": "52d79c4a150f470eaa2d0b0c1d1146ba",
       "version_major": 2,
       "version_minor": 0
      },
      "text/plain": [
       "Query is running:   0%|          |"
      ]
     },
     "metadata": {},
     "output_type": "display_data"
    },
    {
     "data": {
      "text/html": [
       "<div>\n",
       "<style scoped>\n",
       "    .dataframe tbody tr th:only-of-type {\n",
       "        vertical-align: middle;\n",
       "    }\n",
       "\n",
       "    .dataframe tbody tr th {\n",
       "        vertical-align: top;\n",
       "    }\n",
       "\n",
       "    .dataframe thead th {\n",
       "        text-align: right;\n",
       "    }\n",
       "</style>\n",
       "<table border=\"1\" class=\"dataframe\">\n",
       "  <thead>\n",
       "    <tr style=\"text-align: right;\">\n",
       "      <th></th>\n",
       "    </tr>\n",
       "  </thead>\n",
       "  <tbody>\n",
       "  </tbody>\n",
       "</table>\n",
       "</div>"
      ],
      "text/plain": [
       "Empty DataFrame\n",
       "Columns: []\n",
       "Index: []"
      ]
     },
     "execution_count": 394,
     "metadata": {},
     "output_type": "execute_result"
    }
   ],
   "source": [
    "%%bigquery\n",
    "DECLARE FIRST_SERVE_DATE TIMESTAMP;\n",
    "SET FIRST_SERVE_DATE = (\n",
    "    SELECT TIMESTAMP_ADD(TIMESTAMP_TRUNC(MIN(feature_timestamp), DAY, \"UTC\"), INTERVAL 1 DAY)\n",
    "    FROM `statmike-mlops-349915.bqml_model_monitoring.production_features`);\n",
    "\n",
    "CREATE OR REPLACE TABLE `statmike-mlops-349915.bqml_model_monitoring.monitoring_daily_skew` AS\n",
    "    WITH\n",
    "        BASE_TABLE AS (\n",
    "            SELECT *\n",
    "            FROM ML.TRANSFORM(\n",
    "                MODEL `statmike-mlops-349915.bqml_model_monitoring.feature_engineering`,\n",
    "                (\n",
    "                    SELECT * EXCEPT(splits, species)\n",
    "                    FROM `statmike-mlops-349915.bqml_model_monitoring.source_split`\n",
    "                    WHERE splits = 'TRAIN'\n",
    "                )\n",
    "            )   \n",
    "        ),\n",
    "        COMPARE_TABLE AS (\n",
    "            SELECT * EXCEPT(entity_id, feature_timestamp, species)\n",
    "            FROM ML.FEATURES_AT_TIME(\n",
    "                TABLE `statmike-mlops-349915.bqml_model_monitoring.production_features`,\n",
    "                time => FIRST_SERVE_DATE,\n",
    "                num_rows => 1,\n",
    "                ignore_feature_nulls => TRUE\n",
    "            )     \n",
    "        )\n",
    "    SELECT\n",
    "        'statmike-mlops-349915.bqml_model_monitoring.feature_engineering' AS Model,\n",
    "        FIRST_SERVE_DATE AS Time,\n",
    "        *\n",
    "    FROM ML.VALIDATE_DATA_DRIFT(\n",
    "        TABLE BASE_TABLE,\n",
    "        TABLE COMPARE_TABLE\n",
    "    );\n",
    "\n",
    "INSERT `statmike-mlops-349915.bqml_model_monitoring.monitoring_daily_skew`\n",
    "    WITH\n",
    "        BASE_TABLE AS (\n",
    "            SELECT *\n",
    "            FROM ML.TRANSFORM(\n",
    "                MODEL `statmike-mlops-349915.bqml_model_monitoring.feature_engineering`,\n",
    "                (\n",
    "                    SELECT * EXCEPT(splits, species)\n",
    "                    FROM `statmike-mlops-349915.bqml_model_monitoring.source_split`\n",
    "                    WHERE splits = 'TRAIN'\n",
    "                )\n",
    "            )   \n",
    "        ),\n",
    "        COMPARE_TABLE AS (\n",
    "            SELECT * EXCEPT(entity_id, feature_timestamp, species)\n",
    "            FROM ML.FEATURES_AT_TIME(\n",
    "                TABLE `statmike-mlops-349915.bqml_model_monitoring.production_features`,\n",
    "                time => TIMESTAMP_ADD(FIRST_SERVE_DATE, INTERVAL 1 DAY),\n",
    "                num_rows => 1,\n",
    "                ignore_feature_nulls => TRUE\n",
    "            )     \n",
    "        )\n",
    "    SELECT\n",
    "        'statmike-mlops-349915.bqml_model_monitoring.feature_engineering' AS Model,\n",
    "        TIMESTAMP_ADD(FIRST_SERVE_DATE, INTERVAL 1 DAY) AS Time,\n",
    "        *\n",
    "    FROM ML.VALIDATE_DATA_DRIFT(\n",
    "        TABLE BASE_TABLE,\n",
    "        TABLE COMPARE_TABLE\n",
    "    );"
   ]
  },
  {
   "cell_type": "code",
   "execution_count": 395,
   "metadata": {
    "tags": []
   },
   "outputs": [
    {
     "data": {
      "application/json": {
       "ascii": false,
       "bar_format": "{l_bar}{bar}|",
       "colour": null,
       "elapsed": 0.0065517425537109375,
       "initial": 0,
       "n": 0,
       "ncols": null,
       "nrows": null,
       "postfix": null,
       "prefix": "Query is running",
       "rate": null,
       "total": 1,
       "unit": "query",
       "unit_divisor": 1000,
       "unit_scale": false
      },
      "application/vnd.jupyter.widget-view+json": {
       "model_id": "c1fc3b6812be4579bb718c891c8c1d85",
       "version_major": 2,
       "version_minor": 0
      },
      "text/plain": [
       "Query is running:   0%|          |"
      ]
     },
     "metadata": {},
     "output_type": "display_data"
    },
    {
     "data": {
      "application/json": {
       "ascii": false,
       "bar_format": "{l_bar}{bar}|",
       "colour": null,
       "elapsed": 0.008503198623657227,
       "initial": 0,
       "n": 0,
       "ncols": null,
       "nrows": null,
       "postfix": null,
       "prefix": "Downloading",
       "rate": null,
       "total": 12,
       "unit": "rows",
       "unit_divisor": 1000,
       "unit_scale": false
      },
      "application/vnd.jupyter.widget-view+json": {
       "model_id": "7c429739a5cc45e0a6e6288cb79705d2",
       "version_major": 2,
       "version_minor": 0
      },
      "text/plain": [
       "Downloading:   0%|          |"
      ]
     },
     "metadata": {},
     "output_type": "display_data"
    },
    {
     "data": {
      "text/html": [
       "<div>\n",
       "<style scoped>\n",
       "    .dataframe tbody tr th:only-of-type {\n",
       "        vertical-align: middle;\n",
       "    }\n",
       "\n",
       "    .dataframe tbody tr th {\n",
       "        vertical-align: top;\n",
       "    }\n",
       "\n",
       "    .dataframe thead th {\n",
       "        text-align: right;\n",
       "    }\n",
       "</style>\n",
       "<table border=\"1\" class=\"dataframe\">\n",
       "  <thead>\n",
       "    <tr style=\"text-align: right;\">\n",
       "      <th></th>\n",
       "      <th>Model</th>\n",
       "      <th>Time</th>\n",
       "      <th>input</th>\n",
       "      <th>metric</th>\n",
       "      <th>threshold</th>\n",
       "      <th>value</th>\n",
       "      <th>is_anomaly</th>\n",
       "    </tr>\n",
       "  </thead>\n",
       "  <tbody>\n",
       "    <tr>\n",
       "      <th>0</th>\n",
       "      <td>statmike-mlops-349915.bqml_central_monitoring....</td>\n",
       "      <td>2024-02-21 00:00:00+00:00</td>\n",
       "      <td>flipper_length_mm</td>\n",
       "      <td>L_INFTY</td>\n",
       "      <td>0.3</td>\n",
       "      <td>0.031913</td>\n",
       "      <td>False</td>\n",
       "    </tr>\n",
       "    <tr>\n",
       "      <th>1</th>\n",
       "      <td>statmike-mlops-349915.bqml_central_monitoring....</td>\n",
       "      <td>2024-02-21 00:00:00+00:00</td>\n",
       "      <td>island</td>\n",
       "      <td>L_INFTY</td>\n",
       "      <td>0.3</td>\n",
       "      <td>0.371760</td>\n",
       "      <td>True</td>\n",
       "    </tr>\n",
       "    <tr>\n",
       "      <th>2</th>\n",
       "      <td>statmike-mlops-349915.bqml_central_monitoring....</td>\n",
       "      <td>2024-02-21 00:00:00+00:00</td>\n",
       "      <td>culmen_depth_mm</td>\n",
       "      <td>JENSEN_SHANNON_DIVERGENCE</td>\n",
       "      <td>0.3</td>\n",
       "      <td>0.089222</td>\n",
       "      <td>False</td>\n",
       "    </tr>\n",
       "    <tr>\n",
       "      <th>3</th>\n",
       "      <td>statmike-mlops-349915.bqml_central_monitoring....</td>\n",
       "      <td>2024-02-21 00:00:00+00:00</td>\n",
       "      <td>body_mass_g</td>\n",
       "      <td>JENSEN_SHANNON_DIVERGENCE</td>\n",
       "      <td>0.3</td>\n",
       "      <td>0.819610</td>\n",
       "      <td>True</td>\n",
       "    </tr>\n",
       "    <tr>\n",
       "      <th>4</th>\n",
       "      <td>statmike-mlops-349915.bqml_central_monitoring....</td>\n",
       "      <td>2024-02-21 00:00:00+00:00</td>\n",
       "      <td>culmen_length_mm</td>\n",
       "      <td>JENSEN_SHANNON_DIVERGENCE</td>\n",
       "      <td>0.3</td>\n",
       "      <td>0.162937</td>\n",
       "      <td>False</td>\n",
       "    </tr>\n",
       "    <tr>\n",
       "      <th>5</th>\n",
       "      <td>statmike-mlops-349915.bqml_central_monitoring....</td>\n",
       "      <td>2024-02-21 00:00:00+00:00</td>\n",
       "      <td>sex</td>\n",
       "      <td>L_INFTY</td>\n",
       "      <td>0.3</td>\n",
       "      <td>0.376198</td>\n",
       "      <td>True</td>\n",
       "    </tr>\n",
       "    <tr>\n",
       "      <th>6</th>\n",
       "      <td>statmike-mlops-349915.bqml_central_monitoring....</td>\n",
       "      <td>2024-02-20 00:00:00+00:00</td>\n",
       "      <td>culmen_depth_mm</td>\n",
       "      <td>JENSEN_SHANNON_DIVERGENCE</td>\n",
       "      <td>0.3</td>\n",
       "      <td>0.089222</td>\n",
       "      <td>False</td>\n",
       "    </tr>\n",
       "    <tr>\n",
       "      <th>7</th>\n",
       "      <td>statmike-mlops-349915.bqml_central_monitoring....</td>\n",
       "      <td>2024-02-20 00:00:00+00:00</td>\n",
       "      <td>sex</td>\n",
       "      <td>L_INFTY</td>\n",
       "      <td>0.3</td>\n",
       "      <td>0.032252</td>\n",
       "      <td>False</td>\n",
       "    </tr>\n",
       "    <tr>\n",
       "      <th>8</th>\n",
       "      <td>statmike-mlops-349915.bqml_central_monitoring....</td>\n",
       "      <td>2024-02-20 00:00:00+00:00</td>\n",
       "      <td>flipper_length_mm</td>\n",
       "      <td>L_INFTY</td>\n",
       "      <td>0.3</td>\n",
       "      <td>0.060082</td>\n",
       "      <td>False</td>\n",
       "    </tr>\n",
       "    <tr>\n",
       "      <th>9</th>\n",
       "      <td>statmike-mlops-349915.bqml_central_monitoring....</td>\n",
       "      <td>2024-02-20 00:00:00+00:00</td>\n",
       "      <td>culmen_length_mm</td>\n",
       "      <td>JENSEN_SHANNON_DIVERGENCE</td>\n",
       "      <td>0.3</td>\n",
       "      <td>0.162937</td>\n",
       "      <td>False</td>\n",
       "    </tr>\n",
       "    <tr>\n",
       "      <th>10</th>\n",
       "      <td>statmike-mlops-349915.bqml_central_monitoring....</td>\n",
       "      <td>2024-02-20 00:00:00+00:00</td>\n",
       "      <td>body_mass_g</td>\n",
       "      <td>JENSEN_SHANNON_DIVERGENCE</td>\n",
       "      <td>0.3</td>\n",
       "      <td>0.821480</td>\n",
       "      <td>True</td>\n",
       "    </tr>\n",
       "    <tr>\n",
       "      <th>11</th>\n",
       "      <td>statmike-mlops-349915.bqml_central_monitoring....</td>\n",
       "      <td>2024-02-20 00:00:00+00:00</td>\n",
       "      <td>island</td>\n",
       "      <td>L_INFTY</td>\n",
       "      <td>0.3</td>\n",
       "      <td>0.008522</td>\n",
       "      <td>False</td>\n",
       "    </tr>\n",
       "  </tbody>\n",
       "</table>\n",
       "</div>"
      ],
      "text/plain": [
       "                                                Model  \\\n",
       "0   statmike-mlops-349915.bqml_central_monitoring....   \n",
       "1   statmike-mlops-349915.bqml_central_monitoring....   \n",
       "2   statmike-mlops-349915.bqml_central_monitoring....   \n",
       "3   statmike-mlops-349915.bqml_central_monitoring....   \n",
       "4   statmike-mlops-349915.bqml_central_monitoring....   \n",
       "5   statmike-mlops-349915.bqml_central_monitoring....   \n",
       "6   statmike-mlops-349915.bqml_central_monitoring....   \n",
       "7   statmike-mlops-349915.bqml_central_monitoring....   \n",
       "8   statmike-mlops-349915.bqml_central_monitoring....   \n",
       "9   statmike-mlops-349915.bqml_central_monitoring....   \n",
       "10  statmike-mlops-349915.bqml_central_monitoring....   \n",
       "11  statmike-mlops-349915.bqml_central_monitoring....   \n",
       "\n",
       "                        Time              input                     metric  \\\n",
       "0  2024-02-21 00:00:00+00:00  flipper_length_mm                    L_INFTY   \n",
       "1  2024-02-21 00:00:00+00:00             island                    L_INFTY   \n",
       "2  2024-02-21 00:00:00+00:00    culmen_depth_mm  JENSEN_SHANNON_DIVERGENCE   \n",
       "3  2024-02-21 00:00:00+00:00        body_mass_g  JENSEN_SHANNON_DIVERGENCE   \n",
       "4  2024-02-21 00:00:00+00:00   culmen_length_mm  JENSEN_SHANNON_DIVERGENCE   \n",
       "5  2024-02-21 00:00:00+00:00                sex                    L_INFTY   \n",
       "6  2024-02-20 00:00:00+00:00    culmen_depth_mm  JENSEN_SHANNON_DIVERGENCE   \n",
       "7  2024-02-20 00:00:00+00:00                sex                    L_INFTY   \n",
       "8  2024-02-20 00:00:00+00:00  flipper_length_mm                    L_INFTY   \n",
       "9  2024-02-20 00:00:00+00:00   culmen_length_mm  JENSEN_SHANNON_DIVERGENCE   \n",
       "10 2024-02-20 00:00:00+00:00        body_mass_g  JENSEN_SHANNON_DIVERGENCE   \n",
       "11 2024-02-20 00:00:00+00:00             island                    L_INFTY   \n",
       "\n",
       "    threshold     value  is_anomaly  \n",
       "0         0.3  0.031913       False  \n",
       "1         0.3  0.371760        True  \n",
       "2         0.3  0.089222       False  \n",
       "3         0.3  0.819610        True  \n",
       "4         0.3  0.162937       False  \n",
       "5         0.3  0.376198        True  \n",
       "6         0.3  0.089222       False  \n",
       "7         0.3  0.032252       False  \n",
       "8         0.3  0.060082       False  \n",
       "9         0.3  0.162937       False  \n",
       "10        0.3  0.821480        True  \n",
       "11        0.3  0.008522       False  "
      ]
     },
     "execution_count": 395,
     "metadata": {},
     "output_type": "execute_result"
    }
   ],
   "source": [
    "%%bigquery\n",
    "SELECT *\n",
    "FROM `statmike-mlops-349915.bqml_model_monitoring.monitoring_daily_skew`"
   ]
  },
  {
   "cell_type": "markdown",
   "metadata": {},
   "source": [
    "#### Create Table: `monitoring_daily_drift`\n",
    "\n",
    "Columns: `Model | Compare_Time | Time | input | metric | threshold | value | is_anomaly`\n",
    "\n",
    "Initialize the table with results from the drift from the second day of model deployment."
   ]
  },
  {
   "cell_type": "code",
   "execution_count": 396,
   "metadata": {
    "tags": []
   },
   "outputs": [
    {
     "data": {
      "application/json": {
       "ascii": false,
       "bar_format": "{l_bar}{bar}|",
       "colour": null,
       "elapsed": 0.006166934967041016,
       "initial": 0,
       "n": 0,
       "ncols": null,
       "nrows": null,
       "postfix": null,
       "prefix": "Query is running",
       "rate": null,
       "total": 1,
       "unit": "query",
       "unit_divisor": 1000,
       "unit_scale": false
      },
      "application/vnd.jupyter.widget-view+json": {
       "model_id": "47836fddee124a5a8b6c436727128a03",
       "version_major": 2,
       "version_minor": 0
      },
      "text/plain": [
       "Query is running:   0%|          |"
      ]
     },
     "metadata": {},
     "output_type": "display_data"
    },
    {
     "data": {
      "text/html": [
       "<div>\n",
       "<style scoped>\n",
       "    .dataframe tbody tr th:only-of-type {\n",
       "        vertical-align: middle;\n",
       "    }\n",
       "\n",
       "    .dataframe tbody tr th {\n",
       "        vertical-align: top;\n",
       "    }\n",
       "\n",
       "    .dataframe thead th {\n",
       "        text-align: right;\n",
       "    }\n",
       "</style>\n",
       "<table border=\"1\" class=\"dataframe\">\n",
       "  <thead>\n",
       "    <tr style=\"text-align: right;\">\n",
       "      <th></th>\n",
       "    </tr>\n",
       "  </thead>\n",
       "  <tbody>\n",
       "  </tbody>\n",
       "</table>\n",
       "</div>"
      ],
      "text/plain": [
       "Empty DataFrame\n",
       "Columns: []\n",
       "Index: []"
      ]
     },
     "execution_count": 396,
     "metadata": {},
     "output_type": "execute_result"
    }
   ],
   "source": [
    "%%bigquery\n",
    "DECLARE FIRST_SERVE_DATE TIMESTAMP;\n",
    "SET FIRST_SERVE_DATE = (\n",
    "    SELECT TIMESTAMP_ADD(TIMESTAMP_TRUNC(MIN(feature_timestamp), DAY, \"UTC\"), INTERVAL 1 DAY)\n",
    "    FROM `statmike-mlops-349915.bqml_model_monitoring.production_features`);\n",
    "\n",
    "CREATE OR REPLACE TABLE `statmike-mlops-349915.bqml_model_monitoring.monitoring_daily_drift` AS\n",
    "    WITH\n",
    "        BASE_TABLE AS (\n",
    "            SELECT * EXCEPT(entity_id, feature_timestamp, species)\n",
    "            FROM ML.FEATURES_AT_TIME(\n",
    "                TABLE `statmike-mlops-349915.bqml_model_monitoring.production_features`,\n",
    "                time => FIRST_SERVE_DATE,\n",
    "                num_rows => 1,\n",
    "                ignore_feature_nulls => TRUE\n",
    "            )   \n",
    "        ),\n",
    "        COMPARE_TABLE AS (\n",
    "            SELECT * EXCEPT(entity_id, feature_timestamp, species)\n",
    "            FROM ML.FEATURES_AT_TIME(\n",
    "                TABLE `statmike-mlops-349915.bqml_model_monitoring.production_features`,\n",
    "                time => TIMESTAMP_ADD(FIRST_SERVE_DATE, INTERVAL 1 DAY),\n",
    "                num_rows => 1,\n",
    "                ignore_feature_nulls => TRUE\n",
    "            )     \n",
    "        )\n",
    "    SELECT\n",
    "        'statmike-mlops-349915.bqml_model_monitoring.feature_engineering' AS Model,\n",
    "        FIRST_SERVE_DATE AS Compare_Time,\n",
    "        TIMESTAMP_ADD(FIRST_SERVE_DATE, INTERVAL 1 DAY) AS Time,\n",
    "        *\n",
    "    FROM ML.VALIDATE_DATA_DRIFT(\n",
    "        TABLE BASE_TABLE,\n",
    "        TABLE COMPARE_TABLE,\n",
    "        STRUCT(\n",
    "            0.03 AS categorical_default_threshold,\n",
    "            0.03 AS numerical_default_threshold\n",
    "        )\n",
    "    );"
   ]
  },
  {
   "cell_type": "code",
   "execution_count": 397,
   "metadata": {
    "tags": []
   },
   "outputs": [
    {
     "data": {
      "application/json": {
       "ascii": false,
       "bar_format": "{l_bar}{bar}|",
       "colour": null,
       "elapsed": 0.00619196891784668,
       "initial": 0,
       "n": 0,
       "ncols": null,
       "nrows": null,
       "postfix": null,
       "prefix": "Query is running",
       "rate": null,
       "total": 1,
       "unit": "query",
       "unit_divisor": 1000,
       "unit_scale": false
      },
      "application/vnd.jupyter.widget-view+json": {
       "model_id": "6d6a8407b5c047e2a2b1ac94e5f2a666",
       "version_major": 2,
       "version_minor": 0
      },
      "text/plain": [
       "Query is running:   0%|          |"
      ]
     },
     "metadata": {},
     "output_type": "display_data"
    },
    {
     "data": {
      "application/json": {
       "ascii": false,
       "bar_format": "{l_bar}{bar}|",
       "colour": null,
       "elapsed": 0.005403041839599609,
       "initial": 0,
       "n": 0,
       "ncols": null,
       "nrows": null,
       "postfix": null,
       "prefix": "Downloading",
       "rate": null,
       "total": 6,
       "unit": "rows",
       "unit_divisor": 1000,
       "unit_scale": false
      },
      "application/vnd.jupyter.widget-view+json": {
       "model_id": "66854b7b8000426b8d707f43a0131c3d",
       "version_major": 2,
       "version_minor": 0
      },
      "text/plain": [
       "Downloading:   0%|          |"
      ]
     },
     "metadata": {},
     "output_type": "display_data"
    },
    {
     "data": {
      "text/html": [
       "<div>\n",
       "<style scoped>\n",
       "    .dataframe tbody tr th:only-of-type {\n",
       "        vertical-align: middle;\n",
       "    }\n",
       "\n",
       "    .dataframe tbody tr th {\n",
       "        vertical-align: top;\n",
       "    }\n",
       "\n",
       "    .dataframe thead th {\n",
       "        text-align: right;\n",
       "    }\n",
       "</style>\n",
       "<table border=\"1\" class=\"dataframe\">\n",
       "  <thead>\n",
       "    <tr style=\"text-align: right;\">\n",
       "      <th></th>\n",
       "      <th>Model</th>\n",
       "      <th>Compare_Time</th>\n",
       "      <th>Time</th>\n",
       "      <th>input</th>\n",
       "      <th>metric</th>\n",
       "      <th>threshold</th>\n",
       "      <th>value</th>\n",
       "      <th>is_anomaly</th>\n",
       "    </tr>\n",
       "  </thead>\n",
       "  <tbody>\n",
       "    <tr>\n",
       "      <th>0</th>\n",
       "      <td>statmike-mlops-349915.bqml_central_monitoring....</td>\n",
       "      <td>2024-02-20 00:00:00+00:00</td>\n",
       "      <td>2024-02-21 00:00:00+00:00</td>\n",
       "      <td>island</td>\n",
       "      <td>L_INFTY</td>\n",
       "      <td>0.03</td>\n",
       "      <td>0.380282</td>\n",
       "      <td>True</td>\n",
       "    </tr>\n",
       "    <tr>\n",
       "      <th>1</th>\n",
       "      <td>statmike-mlops-349915.bqml_central_monitoring....</td>\n",
       "      <td>2024-02-20 00:00:00+00:00</td>\n",
       "      <td>2024-02-21 00:00:00+00:00</td>\n",
       "      <td>body_mass_g</td>\n",
       "      <td>JENSEN_SHANNON_DIVERGENCE</td>\n",
       "      <td>0.03</td>\n",
       "      <td>0.006038</td>\n",
       "      <td>False</td>\n",
       "    </tr>\n",
       "    <tr>\n",
       "      <th>2</th>\n",
       "      <td>statmike-mlops-349915.bqml_central_monitoring....</td>\n",
       "      <td>2024-02-20 00:00:00+00:00</td>\n",
       "      <td>2024-02-21 00:00:00+00:00</td>\n",
       "      <td>culmen_depth_mm</td>\n",
       "      <td>JENSEN_SHANNON_DIVERGENCE</td>\n",
       "      <td>0.03</td>\n",
       "      <td>0.000000</td>\n",
       "      <td>False</td>\n",
       "    </tr>\n",
       "    <tr>\n",
       "      <th>3</th>\n",
       "      <td>statmike-mlops-349915.bqml_central_monitoring....</td>\n",
       "      <td>2024-02-20 00:00:00+00:00</td>\n",
       "      <td>2024-02-21 00:00:00+00:00</td>\n",
       "      <td>culmen_length_mm</td>\n",
       "      <td>JENSEN_SHANNON_DIVERGENCE</td>\n",
       "      <td>0.03</td>\n",
       "      <td>0.000000</td>\n",
       "      <td>False</td>\n",
       "    </tr>\n",
       "    <tr>\n",
       "      <th>4</th>\n",
       "      <td>statmike-mlops-349915.bqml_central_monitoring....</td>\n",
       "      <td>2024-02-20 00:00:00+00:00</td>\n",
       "      <td>2024-02-21 00:00:00+00:00</td>\n",
       "      <td>sex</td>\n",
       "      <td>L_INFTY</td>\n",
       "      <td>0.03</td>\n",
       "      <td>0.408451</td>\n",
       "      <td>True</td>\n",
       "    </tr>\n",
       "    <tr>\n",
       "      <th>5</th>\n",
       "      <td>statmike-mlops-349915.bqml_central_monitoring....</td>\n",
       "      <td>2024-02-20 00:00:00+00:00</td>\n",
       "      <td>2024-02-21 00:00:00+00:00</td>\n",
       "      <td>flipper_length_mm</td>\n",
       "      <td>L_INFTY</td>\n",
       "      <td>0.03</td>\n",
       "      <td>0.028169</td>\n",
       "      <td>False</td>\n",
       "    </tr>\n",
       "  </tbody>\n",
       "</table>\n",
       "</div>"
      ],
      "text/plain": [
       "                                               Model  \\\n",
       "0  statmike-mlops-349915.bqml_central_monitoring....   \n",
       "1  statmike-mlops-349915.bqml_central_monitoring....   \n",
       "2  statmike-mlops-349915.bqml_central_monitoring....   \n",
       "3  statmike-mlops-349915.bqml_central_monitoring....   \n",
       "4  statmike-mlops-349915.bqml_central_monitoring....   \n",
       "5  statmike-mlops-349915.bqml_central_monitoring....   \n",
       "\n",
       "               Compare_Time                      Time              input  \\\n",
       "0 2024-02-20 00:00:00+00:00 2024-02-21 00:00:00+00:00             island   \n",
       "1 2024-02-20 00:00:00+00:00 2024-02-21 00:00:00+00:00        body_mass_g   \n",
       "2 2024-02-20 00:00:00+00:00 2024-02-21 00:00:00+00:00    culmen_depth_mm   \n",
       "3 2024-02-20 00:00:00+00:00 2024-02-21 00:00:00+00:00   culmen_length_mm   \n",
       "4 2024-02-20 00:00:00+00:00 2024-02-21 00:00:00+00:00                sex   \n",
       "5 2024-02-20 00:00:00+00:00 2024-02-21 00:00:00+00:00  flipper_length_mm   \n",
       "\n",
       "                      metric  threshold     value  is_anomaly  \n",
       "0                    L_INFTY       0.03  0.380282        True  \n",
       "1  JENSEN_SHANNON_DIVERGENCE       0.03  0.006038       False  \n",
       "2  JENSEN_SHANNON_DIVERGENCE       0.03  0.000000       False  \n",
       "3  JENSEN_SHANNON_DIVERGENCE       0.03  0.000000       False  \n",
       "4                    L_INFTY       0.03  0.408451        True  \n",
       "5                    L_INFTY       0.03  0.028169       False  "
      ]
     },
     "execution_count": 397,
     "metadata": {},
     "output_type": "execute_result"
    }
   ],
   "source": [
    "%%bigquery\n",
    "SELECT *\n",
    "FROM `statmike-mlops-349915.bqml_model_monitoring.monitoring_daily_drift`"
   ]
  },
  {
   "cell_type": "markdown",
   "metadata": {},
   "source": [
    "#### Create Table: `monitoring_daily_tfdv_describe`\n",
    "\n",
    "Columns: `Model | Time | tfdv_describe`\n",
    "\n",
    "Initialize the table with results from the first two days of model deployment."
   ]
  },
  {
   "cell_type": "code",
   "execution_count": 399,
   "metadata": {
    "tags": []
   },
   "outputs": [
    {
     "data": {
      "application/json": {
       "ascii": false,
       "bar_format": "{l_bar}{bar}|",
       "colour": null,
       "elapsed": 0.005671262741088867,
       "initial": 0,
       "n": 0,
       "ncols": null,
       "nrows": null,
       "postfix": null,
       "prefix": "Query is running",
       "rate": null,
       "total": 1,
       "unit": "query",
       "unit_divisor": 1000,
       "unit_scale": false
      },
      "application/vnd.jupyter.widget-view+json": {
       "model_id": "222b3cc329e94a56909994806833a600",
       "version_major": 2,
       "version_minor": 0
      },
      "text/plain": [
       "Query is running:   0%|          |"
      ]
     },
     "metadata": {},
     "output_type": "display_data"
    },
    {
     "data": {
      "text/html": [
       "<div>\n",
       "<style scoped>\n",
       "    .dataframe tbody tr th:only-of-type {\n",
       "        vertical-align: middle;\n",
       "    }\n",
       "\n",
       "    .dataframe tbody tr th {\n",
       "        vertical-align: top;\n",
       "    }\n",
       "\n",
       "    .dataframe thead th {\n",
       "        text-align: right;\n",
       "    }\n",
       "</style>\n",
       "<table border=\"1\" class=\"dataframe\">\n",
       "  <thead>\n",
       "    <tr style=\"text-align: right;\">\n",
       "      <th></th>\n",
       "    </tr>\n",
       "  </thead>\n",
       "  <tbody>\n",
       "  </tbody>\n",
       "</table>\n",
       "</div>"
      ],
      "text/plain": [
       "Empty DataFrame\n",
       "Columns: []\n",
       "Index: []"
      ]
     },
     "execution_count": 399,
     "metadata": {},
     "output_type": "execute_result"
    }
   ],
   "source": [
    "%%bigquery\n",
    "DECLARE FIRST_SERVE_DATE TIMESTAMP;\n",
    "SET FIRST_SERVE_DATE = (\n",
    "    SELECT TIMESTAMP_ADD(TIMESTAMP_TRUNC(MIN(feature_timestamp), DAY, \"UTC\"), INTERVAL 1 DAY)\n",
    "    FROM `statmike-mlops-349915.bqml_model_monitoring.production_features`);\n",
    "\n",
    "CREATE OR REPLACE TABLE `statmike-mlops-349915.bqml_model_monitoring.monitoring_daily_tfdv_describe` AS\n",
    "    SELECT\n",
    "        'statmike-mlops-349915.bqml_model_monitoring.feature_engineering' AS Model,\n",
    "        FIRST_SERVE_DATE AS Time,\n",
    "        dataset_feature_statistics_list AS tfdv_describe\n",
    "    FROM ML.TFDV_DESCRIBE(\n",
    "        (\n",
    "            SELECT * EXCEPT(entity_id, feature_timestamp, species)\n",
    "            FROM ML.FEATURES_AT_TIME(\n",
    "                TABLE `statmike-mlops-349915.bqml_model_monitoring.production_features`,\n",
    "                time => FIRST_SERVE_DATE,\n",
    "                num_rows => 1,\n",
    "                ignore_feature_nulls => TRUE\n",
    "            ) \n",
    "        )\n",
    "    );\n",
    "    \n",
    "INSERT `statmike-mlops-349915.bqml_model_monitoring.monitoring_daily_tfdv_describe`\n",
    "    SELECT\n",
    "        'statmike-mlops-349915.bqml_model_monitoring.feature_engineering' AS Model,\n",
    "        TIMESTAMP_ADD(FIRST_SERVE_DATE, INTERVAL 1 DAY) AS Time,\n",
    "        dataset_feature_statistics_list AS tfdv_describe\n",
    "    FROM ML.TFDV_DESCRIBE(\n",
    "        (\n",
    "            SELECT * EXCEPT(entity_id, feature_timestamp, species)\n",
    "            FROM ML.FEATURES_AT_TIME(\n",
    "                TABLE `statmike-mlops-349915.bqml_model_monitoring.production_features`,\n",
    "                time => TIMESTAMP_ADD(FIRST_SERVE_DATE, INTERVAL 1 DAY),\n",
    "                num_rows => 1,\n",
    "                ignore_feature_nulls => TRUE\n",
    "            ) \n",
    "        )\n",
    "    );"
   ]
  },
  {
   "cell_type": "code",
   "execution_count": 400,
   "metadata": {
    "tags": []
   },
   "outputs": [
    {
     "data": {
      "application/json": {
       "ascii": false,
       "bar_format": "{l_bar}{bar}|",
       "colour": null,
       "elapsed": 0.007240772247314453,
       "initial": 0,
       "n": 0,
       "ncols": null,
       "nrows": null,
       "postfix": null,
       "prefix": "Query is running",
       "rate": null,
       "total": 1,
       "unit": "query",
       "unit_divisor": 1000,
       "unit_scale": false
      },
      "application/vnd.jupyter.widget-view+json": {
       "model_id": "5f3dca139b59481c96258ee657dbf9be",
       "version_major": 2,
       "version_minor": 0
      },
      "text/plain": [
       "Query is running:   0%|          |"
      ]
     },
     "metadata": {},
     "output_type": "display_data"
    },
    {
     "data": {
      "application/json": {
       "ascii": false,
       "bar_format": "{l_bar}{bar}|",
       "colour": null,
       "elapsed": 0.005615711212158203,
       "initial": 0,
       "n": 0,
       "ncols": null,
       "nrows": null,
       "postfix": null,
       "prefix": "Downloading",
       "rate": null,
       "total": 2,
       "unit": "rows",
       "unit_divisor": 1000,
       "unit_scale": false
      },
      "application/vnd.jupyter.widget-view+json": {
       "model_id": "b78ddfa66c44480ea9661cd2eb564b45",
       "version_major": 2,
       "version_minor": 0
      },
      "text/plain": [
       "Downloading:   0%|          |"
      ]
     },
     "metadata": {},
     "output_type": "display_data"
    },
    {
     "data": {
      "text/html": [
       "<div>\n",
       "<style scoped>\n",
       "    .dataframe tbody tr th:only-of-type {\n",
       "        vertical-align: middle;\n",
       "    }\n",
       "\n",
       "    .dataframe tbody tr th {\n",
       "        vertical-align: top;\n",
       "    }\n",
       "\n",
       "    .dataframe thead th {\n",
       "        text-align: right;\n",
       "    }\n",
       "</style>\n",
       "<table border=\"1\" class=\"dataframe\">\n",
       "  <thead>\n",
       "    <tr style=\"text-align: right;\">\n",
       "      <th></th>\n",
       "      <th>Model</th>\n",
       "      <th>Time</th>\n",
       "      <th>tfdv_describe</th>\n",
       "    </tr>\n",
       "  </thead>\n",
       "  <tbody>\n",
       "    <tr>\n",
       "      <th>0</th>\n",
       "      <td>statmike-mlops-349915.bqml_central_monitoring....</td>\n",
       "      <td>2024-02-20 00:00:00+00:00</td>\n",
       "      <td>{\"datasets\":[{\"features\":[{\"name\":\"body_mass_g...</td>\n",
       "    </tr>\n",
       "    <tr>\n",
       "      <th>1</th>\n",
       "      <td>statmike-mlops-349915.bqml_central_monitoring....</td>\n",
       "      <td>2024-02-21 00:00:00+00:00</td>\n",
       "      <td>{\"datasets\":[{\"features\":[{\"name\":\"body_mass_g...</td>\n",
       "    </tr>\n",
       "  </tbody>\n",
       "</table>\n",
       "</div>"
      ],
      "text/plain": [
       "                                               Model  \\\n",
       "0  statmike-mlops-349915.bqml_central_monitoring....   \n",
       "1  statmike-mlops-349915.bqml_central_monitoring....   \n",
       "\n",
       "                       Time                                      tfdv_describe  \n",
       "0 2024-02-20 00:00:00+00:00  {\"datasets\":[{\"features\":[{\"name\":\"body_mass_g...  \n",
       "1 2024-02-21 00:00:00+00:00  {\"datasets\":[{\"features\":[{\"name\":\"body_mass_g...  "
      ]
     },
     "execution_count": 400,
     "metadata": {},
     "output_type": "execute_result"
    }
   ],
   "source": [
    "%%bigquery\n",
    "SELECT *\n",
    "FROM `statmike-mlops-349915.bqml_model_monitoring.monitoring_daily_tfdv_describe`"
   ]
  },
  {
   "cell_type": "markdown",
   "metadata": {},
   "source": [
    "#### Create Table: `model_train_tfdv_describe`\n",
    "\n",
    "Columns: `Model | tfdv_describe`\n",
    "\n",
    "Add training dataset statistics to an overall table:"
   ]
  },
  {
   "cell_type": "code",
   "execution_count": 402,
   "metadata": {
    "tags": []
   },
   "outputs": [
    {
     "data": {
      "application/json": {
       "ascii": false,
       "bar_format": "{l_bar}{bar}|",
       "colour": null,
       "elapsed": 0.005766391754150391,
       "initial": 0,
       "n": 0,
       "ncols": null,
       "nrows": null,
       "postfix": null,
       "prefix": "Query is running",
       "rate": null,
       "total": 1,
       "unit": "query",
       "unit_divisor": 1000,
       "unit_scale": false
      },
      "application/vnd.jupyter.widget-view+json": {
       "model_id": "e89771eb060041fc878c8466e494c59a",
       "version_major": 2,
       "version_minor": 0
      },
      "text/plain": [
       "Query is running:   0%|          |"
      ]
     },
     "metadata": {},
     "output_type": "display_data"
    },
    {
     "data": {
      "text/html": [
       "<div>\n",
       "<style scoped>\n",
       "    .dataframe tbody tr th:only-of-type {\n",
       "        vertical-align: middle;\n",
       "    }\n",
       "\n",
       "    .dataframe tbody tr th {\n",
       "        vertical-align: top;\n",
       "    }\n",
       "\n",
       "    .dataframe thead th {\n",
       "        text-align: right;\n",
       "    }\n",
       "</style>\n",
       "<table border=\"1\" class=\"dataframe\">\n",
       "  <thead>\n",
       "    <tr style=\"text-align: right;\">\n",
       "      <th></th>\n",
       "    </tr>\n",
       "  </thead>\n",
       "  <tbody>\n",
       "  </tbody>\n",
       "</table>\n",
       "</div>"
      ],
      "text/plain": [
       "Empty DataFrame\n",
       "Columns: []\n",
       "Index: []"
      ]
     },
     "execution_count": 402,
     "metadata": {},
     "output_type": "execute_result"
    }
   ],
   "source": [
    "%%bigquery\n",
    "CREATE OR REPLACE TABLE `statmike-mlops-349915.bqml_model_monitoring.model_train_tfdv_describe` AS\n",
    "    SELECT\n",
    "        'statmike-mlops-349915.bqml_model_monitoring.feature_engineering' AS Model,\n",
    "        dataset_feature_statistics_list AS tfdv_describe\n",
    "    FROM ML.TFDV_DESCRIBE(\n",
    "        (\n",
    "            SELECT *\n",
    "            FROM ML.TRANSFORM(\n",
    "                MODEL `statmike-mlops-349915.bqml_model_monitoring.feature_engineering`,\n",
    "                (\n",
    "                    SELECT * EXCEPT(splits, species)\n",
    "                    FROM `statmike-mlops-349915.bqml_model_monitoring.source_split`\n",
    "                    WHERE splits = 'TRAIN'\n",
    "                )\n",
    "            )\n",
    "        )\n",
    "    );"
   ]
  },
  {
   "cell_type": "code",
   "execution_count": 403,
   "metadata": {
    "tags": []
   },
   "outputs": [
    {
     "data": {
      "application/json": {
       "ascii": false,
       "bar_format": "{l_bar}{bar}|",
       "colour": null,
       "elapsed": 0.0054743289947509766,
       "initial": 0,
       "n": 0,
       "ncols": null,
       "nrows": null,
       "postfix": null,
       "prefix": "Query is running",
       "rate": null,
       "total": 1,
       "unit": "query",
       "unit_divisor": 1000,
       "unit_scale": false
      },
      "application/vnd.jupyter.widget-view+json": {
       "model_id": "967d619faf4c49218bae59d5edc380ba",
       "version_major": 2,
       "version_minor": 0
      },
      "text/plain": [
       "Query is running:   0%|          |"
      ]
     },
     "metadata": {},
     "output_type": "display_data"
    },
    {
     "data": {
      "application/json": {
       "ascii": false,
       "bar_format": "{l_bar}{bar}|",
       "colour": null,
       "elapsed": 0.0053446292877197266,
       "initial": 0,
       "n": 0,
       "ncols": null,
       "nrows": null,
       "postfix": null,
       "prefix": "Downloading",
       "rate": null,
       "total": 1,
       "unit": "rows",
       "unit_divisor": 1000,
       "unit_scale": false
      },
      "application/vnd.jupyter.widget-view+json": {
       "model_id": "a7ad31f495bf441683627af8065bcb83",
       "version_major": 2,
       "version_minor": 0
      },
      "text/plain": [
       "Downloading:   0%|          |"
      ]
     },
     "metadata": {},
     "output_type": "display_data"
    },
    {
     "data": {
      "text/html": [
       "<div>\n",
       "<style scoped>\n",
       "    .dataframe tbody tr th:only-of-type {\n",
       "        vertical-align: middle;\n",
       "    }\n",
       "\n",
       "    .dataframe tbody tr th {\n",
       "        vertical-align: top;\n",
       "    }\n",
       "\n",
       "    .dataframe thead th {\n",
       "        text-align: right;\n",
       "    }\n",
       "</style>\n",
       "<table border=\"1\" class=\"dataframe\">\n",
       "  <thead>\n",
       "    <tr style=\"text-align: right;\">\n",
       "      <th></th>\n",
       "      <th>Model</th>\n",
       "      <th>tfdv_describe</th>\n",
       "    </tr>\n",
       "  </thead>\n",
       "  <tbody>\n",
       "    <tr>\n",
       "      <th>0</th>\n",
       "      <td>statmike-mlops-349915.bqml_central_monitoring....</td>\n",
       "      <td>{\"datasets\":[{\"features\":[{\"name\":\"body_mass_g...</td>\n",
       "    </tr>\n",
       "  </tbody>\n",
       "</table>\n",
       "</div>"
      ],
      "text/plain": [
       "                                               Model  \\\n",
       "0  statmike-mlops-349915.bqml_central_monitoring....   \n",
       "\n",
       "                                       tfdv_describe  \n",
       "0  {\"datasets\":[{\"features\":[{\"name\":\"body_mass_g...  "
      ]
     },
     "execution_count": 403,
     "metadata": {},
     "output_type": "execute_result"
    }
   ],
   "source": [
    "%%bigquery\n",
    "SELECT *\n",
    "FROM `statmike-mlops-349915.bqml_model_monitoring.model_train_tfdv_describe`"
   ]
  },
  {
   "cell_type": "markdown",
   "metadata": {},
   "source": [
    "### Anomaly Alerting\n",
    "\n",
    "When scheduling the daily monitoring below, alerting for anomalies will be triggered by checking for anomaly values and if present throw an error using the [`ERROR` debugging function](https://cloud.google.com/bigquery/docs/reference/standard-sql/debugging_functions#error).\n",
    "\n",
    "Test this here:"
   ]
  },
  {
   "cell_type": "code",
   "execution_count": 406,
   "metadata": {
    "tags": []
   },
   "outputs": [
    {
     "name": "stdout",
     "output_type": "stream",
     "text": [
      "Executing query with job ID: 19b3637c-5677-450d-82ac-a0107f073401\n",
      "Query executing: 0.55s"
     ]
    },
    {
     "name": "stderr",
     "output_type": "stream",
     "text": [
      "\n",
      "ERROR:\n",
      " 400 Found a model monitoring skew anomaly for feature = island on 2024-02-21 00:00:00+00 for model = statmike-mlops-349915.bqml_central_monitoring.feature_engineering\n",
      "\n",
      "Location: US\n",
      "Job ID: 19b3637c-5677-450d-82ac-a0107f073401\n",
      "\n"
     ]
    }
   ],
   "source": [
    "%%bigquery\n",
    "SELECT\n",
    "    CASE\n",
    "        WHEN is_anomaly = True THEN ERROR(CONCAT('Found a model monitoring skew anomaly for feature = ', input, ' on ', time, ' for model = ', model))\n",
    "    END AS anomaly_catcher\n",
    "FROM `statmike-mlops-349915.bqml_model_monitoring.monitoring_daily_skew`"
   ]
  },
  {
   "cell_type": "code",
   "execution_count": 407,
   "metadata": {
    "tags": []
   },
   "outputs": [
    {
     "name": "stdout",
     "output_type": "stream",
     "text": [
      "Executing query with job ID: ba261466-0a49-4738-8e9d-3ec7dc23b223\n",
      "Query executing: 0.56s"
     ]
    },
    {
     "name": "stderr",
     "output_type": "stream",
     "text": [
      "\n",
      "ERROR:\n",
      " 400 Found a model monitoring drift anomaly for feature = island on 2024-02-21 00:00:00+00 for model = statmike-mlops-349915.bqml_central_monitoring.feature_engineering\n",
      "\n",
      "Location: US\n",
      "Job ID: ba261466-0a49-4738-8e9d-3ec7dc23b223\n",
      "\n"
     ]
    }
   ],
   "source": [
    "%%bigquery\n",
    "SELECT\n",
    "    CASE\n",
    "        WHEN is_anomaly = True THEN ERROR(CONCAT('Found a model monitoring drift anomaly for feature = ', input, ' on ', time, ' for model = ', model))\n",
    "    END AS anomaly_catcher\n",
    "FROM `statmike-mlops-349915.bqml_model_monitoring.monitoring_daily_drift`"
   ]
  },
  {
   "cell_type": "markdown",
   "metadata": {},
   "source": [
    "### Scheduled Query: Daily Monitoring\n",
    "\n",
    "Setup a scheduled query to:\n",
    "- run a skew monitoring query and insert results into `monitoring_daily_skew`\n",
    "- run a drift monitoring query and insert results into `monitoring_daily_drift`\n",
    "- run a `TFDV_DESCRIBE` query and insert result into `monitoring_daily_tfdv_describe`\n",
    "- run a detection query to look for drift and/or skew anomalies for today and use the [`ERROR` debugging function](https://cloud.google.com/bigquery/docs/reference/standard-sql/debugging_functions#error) to alert when `is_anomaly = True`.\n",
    "- setup notificaiton emails for when errors are detected\n"
   ]
  },
  {
   "cell_type": "code",
   "execution_count": 426,
   "metadata": {
    "tags": []
   },
   "outputs": [
    {
     "name": "stdout",
     "output_type": "stream",
     "text": [
      "Overwriting bq_monitoring.sql\n"
     ]
    }
   ],
   "source": [
    "%%writefile bq_monitoring.sql\n",
    "\n",
    "# monitor skew\n",
    "MERGE `statmike-mlops-349915.bqml_model_monitoring.monitoring_daily_skew` T\n",
    "USING (\n",
    "    WITH\n",
    "        BASE_TABLE AS (\n",
    "            SELECT *\n",
    "            FROM ML.TRANSFORM(\n",
    "                MODEL `statmike-mlops-349915.bqml_model_monitoring.feature_engineering`,\n",
    "                (\n",
    "                    SELECT * EXCEPT(splits, species)\n",
    "                    FROM `statmike-mlops-349915.bqml_model_monitoring.source_split`\n",
    "                    WHERE splits = 'TRAIN'\n",
    "                )\n",
    "            )   \n",
    "        ),\n",
    "        COMPARE_TABLE AS (\n",
    "            SELECT * EXCEPT(entity_id, feature_timestamp, species)\n",
    "            FROM ML.FEATURES_AT_TIME(\n",
    "                TABLE `statmike-mlops-349915.bqml_model_monitoring.production_features`,\n",
    "                time => TIMESTAMP_TRUNC(@run_time, DAY, \"UTC\"),\n",
    "                num_rows => 1,\n",
    "                ignore_feature_nulls => TRUE\n",
    "            )     \n",
    "        )\n",
    "    SELECT\n",
    "        'statmike-mlops-349915.bqml_model_monitoring.feature_engineering' AS Model,\n",
    "        TIMESTAMP_TRUNC(@run_time, DAY, \"UTC\") AS Time,\n",
    "        *\n",
    "    FROM ML.VALIDATE_DATA_DRIFT(\n",
    "        TABLE BASE_TABLE,\n",
    "        TABLE COMPARE_TABLE\n",
    "    )\n",
    ") S\n",
    "ON S.Model = T.Model AND S.Time = T.Time AND S.input = T.input\n",
    "WHEN NOT MATCHED THEN\n",
    "    INSERT ROW;\n",
    "\n",
    "# monitor drift\n",
    "MERGE `statmike-mlops-349915.bqml_model_monitoring.monitoring_daily_drift` T\n",
    "USING (\n",
    "    WITH\n",
    "        BASE_TABLE AS (\n",
    "            SELECT * EXCEPT(entity_id, feature_timestamp, species)\n",
    "            FROM ML.FEATURES_AT_TIME(\n",
    "                TABLE `statmike-mlops-349915.bqml_model_monitoring.production_features`,\n",
    "                time => TIMESTAMP_SUB(TIMESTAMP_TRUNC(@run_time, DAY, \"UTC\"), INTERVAL 1 DAY),\n",
    "                num_rows => 1,\n",
    "                ignore_feature_nulls => TRUE\n",
    "            )   \n",
    "        ),\n",
    "        COMPARE_TABLE AS (\n",
    "            SELECT * EXCEPT(entity_id, feature_timestamp, species)\n",
    "            FROM ML.FEATURES_AT_TIME(\n",
    "                TABLE `statmike-mlops-349915.bqml_model_monitoring.production_features`,\n",
    "                time => TIMESTAMP_TRUNC(@run_time, DAY, \"UTC\"),\n",
    "                num_rows => 1,\n",
    "                ignore_feature_nulls => TRUE\n",
    "            )     \n",
    "        )\n",
    "    SELECT\n",
    "        'statmike-mlops-349915.bqml_model_monitoring.feature_engineering' AS Model,\n",
    "        TIMESTAMP_SUB(TIMESTAMP_TRUNC(@run_time, DAY, \"UTC\"), INTERVAL 1 DAY) AS Compare_Time,\n",
    "        TIMESTAMP_TRUNC(@run_time, DAY, \"UTC\") AS Time,\n",
    "        *\n",
    "    FROM ML.VALIDATE_DATA_DRIFT(\n",
    "        TABLE BASE_TABLE,\n",
    "        TABLE COMPARE_TABLE,\n",
    "        STRUCT(\n",
    "            0.03 AS categorical_default_threshold,\n",
    "            0.03 AS numerical_default_threshold\n",
    "        )\n",
    "    )\n",
    ") S\n",
    "ON S.Model = T.Model AND S.Time = T.Time AND S.input = T.input\n",
    "WHEN NOT MATCHED THEN\n",
    "    INSERT ROW;\n",
    "    \n",
    "# tfdv_describe for today\n",
    "MERGE `statmike-mlops-349915.bqml_model_monitoring.monitoring_daily_tfdv_describe` T\n",
    "USING (\n",
    "    SELECT\n",
    "        'statmike-mlops-349915.bqml_model_monitoring.feature_engineering' AS Model,\n",
    "        TIMESTAMP_TRUNC(@run_time, DAY, \"UTC\") AS Time,\n",
    "        dataset_feature_statistics_list AS tfdv_describe\n",
    "    FROM ML.TFDV_DESCRIBE(\n",
    "        (\n",
    "            SELECT * EXCEPT(entity_id, feature_timestamp, species)\n",
    "            FROM ML.FEATURES_AT_TIME(\n",
    "                TABLE `statmike-mlops-349915.bqml_model_monitoring.production_features`,\n",
    "                time => TIMESTAMP_TRUNC(@run_time, DAY, \"UTC\"),\n",
    "                num_rows => 1,\n",
    "                ignore_feature_nulls => TRUE\n",
    "            ) \n",
    "        )\n",
    "    )\n",
    ") S\n",
    "ON S.Model = T.Model AND S.Time = T.Time\n",
    "WHEN NOT MATCHED THEN\n",
    "    INSERT ROW;\n",
    "    \n",
    "# check for skew anomalies\n",
    "SELECT\n",
    "    CASE\n",
    "        WHEN is_anomaly = True THEN ERROR(CONCAT('Found a model monitoring skew anomaly for feature = ', input, ' on ', time, ' for model = ', model))\n",
    "    END AS anomaly_catcher\n",
    "FROM `statmike-mlops-349915.bqml_model_monitoring.monitoring_daily_skew`\n",
    "WHERE time = TIMESTAMP_TRUNC(@run_time, DAY, \"UTC\");\n",
    "    \n",
    "# check for drift anomalies\n",
    "SELECT\n",
    "    CASE\n",
    "        WHEN is_anomaly = True THEN ERROR(CONCAT('Found a model monitoring drift anomaly for feature = ', input, ' on ', time, ' for model = ', model))\n",
    "    END AS anomaly_catcher\n",
    "FROM `statmike-mlops-349915.bqml_model_monitoring.monitoring_daily_drift`\n",
    "WHERE time = TIMESTAMP_TRUNC(@run_time, DAY, \"UTC\");\n"
   ]
  },
  {
   "cell_type": "code",
   "execution_count": null,
   "metadata": {},
   "outputs": [],
   "source": []
  },
  {
   "cell_type": "markdown",
   "metadata": {},
   "source": [
    "### Backfill With Manual Run on Historical Dates\n",
    "\n",
    "Run the scheduled query to fill in data for all days prior today today."
   ]
  },
  {
   "cell_type": "code",
   "execution_count": null,
   "metadata": {},
   "outputs": [],
   "source": []
  },
  {
   "cell_type": "code",
   "execution_count": null,
   "metadata": {},
   "outputs": [],
   "source": []
  },
  {
   "cell_type": "markdown",
   "metadata": {},
   "source": [
    "### Email Notificaitons"
   ]
  },
  {
   "cell_type": "code",
   "execution_count": null,
   "metadata": {},
   "outputs": [],
   "source": []
  },
  {
   "cell_type": "code",
   "execution_count": null,
   "metadata": {},
   "outputs": [],
   "source": []
  },
  {
   "cell_type": "markdown",
   "metadata": {},
   "source": [
    "### Review Detections"
   ]
  },
  {
   "cell_type": "code",
   "execution_count": null,
   "metadata": {},
   "outputs": [],
   "source": []
  },
  {
   "cell_type": "markdown",
   "metadata": {},
   "source": [
    "---\n",
    "# TODO\n",
    "\n",
    "- at model creation: make note about all the ways to use BQML: create, remote, import, or just log predictions to BQ\n",
    "\n",
    "- model register to Vertex\n",
    "    - setup endpoint with logging\n",
    "    - show shift and drift against both endpoint and batch\n",
    "- Draw serving architecture and explain it with a full section"
   ]
  },
  {
   "cell_type": "code",
   "execution_count": null,
   "metadata": {},
   "outputs": [],
   "source": []
  }
 ],
 "metadata": {
  "colab": {
   "authorship_tag": "ABX9TyMy6GbowZC6hovxyAVQ0UWd",
   "provenance": []
  },
  "environment": {
   "kernel": "conda-root-py",
   "name": "workbench-notebooks.m119",
   "type": "gcloud",
   "uri": "us-docker.pkg.dev/deeplearning-platform-release/gcr.io/workbench-notebooks:m119"
  },
  "kernelspec": {
   "display_name": "Python 3 (ipykernel)",
   "language": "python",
   "name": "conda-root-py"
  },
  "language_info": {
   "codemirror_mode": {
    "name": "ipython",
    "version": 3
   },
   "file_extension": ".py",
   "mimetype": "text/x-python",
   "name": "python",
   "nbconvert_exporter": "python",
   "pygments_lexer": "ipython3",
   "version": "3.10.14"
  },
  "widgets": {
   "application/vnd.jupyter.widget-state+json": {
    "1109199e5b67477788dcf20b48558d41": {
     "model_module": "@jupyter-widgets/controls",
     "model_module_version": "1.5.0",
     "model_name": "HBoxModel",
     "state": {
      "_dom_classes": [],
      "_model_module": "@jupyter-widgets/controls",
      "_model_module_version": "1.5.0",
      "_model_name": "HBoxModel",
      "_view_count": null,
      "_view_module": "@jupyter-widgets/controls",
      "_view_module_version": "1.5.0",
      "_view_name": "HBoxView",
      "box_style": "",
      "children": [
       "IPY_MODEL_93f32edfd72e4a29ac69d2e202d6e14c",
       "IPY_MODEL_3da40e23ffbd47db8d1a250292255c32",
       "IPY_MODEL_bbd5c7d0941a458dbaee866da7e5366f"
      ],
      "layout": "IPY_MODEL_e2e3c77141c04fa7885bf4b4c0e314f4"
     }
    },
    "16d1acd4a3e94cf9bc3d683ff7eb1125": {
     "model_module": "@jupyter-widgets/base",
     "model_module_version": "1.2.0",
     "model_name": "LayoutModel",
     "state": {
      "_model_module": "@jupyter-widgets/base",
      "_model_module_version": "1.2.0",
      "_model_name": "LayoutModel",
      "_view_count": null,
      "_view_module": "@jupyter-widgets/base",
      "_view_module_version": "1.2.0",
      "_view_name": "LayoutView",
      "align_content": null,
      "align_items": null,
      "align_self": null,
      "border": null,
      "bottom": null,
      "display": null,
      "flex": null,
      "flex_flow": null,
      "grid_area": null,
      "grid_auto_columns": null,
      "grid_auto_flow": null,
      "grid_auto_rows": null,
      "grid_column": null,
      "grid_gap": null,
      "grid_row": null,
      "grid_template_areas": null,
      "grid_template_columns": null,
      "grid_template_rows": null,
      "height": null,
      "justify_content": null,
      "justify_items": null,
      "left": null,
      "margin": null,
      "max_height": null,
      "max_width": null,
      "min_height": null,
      "min_width": null,
      "object_fit": null,
      "object_position": null,
      "order": null,
      "overflow": null,
      "overflow_x": null,
      "overflow_y": null,
      "padding": null,
      "right": null,
      "top": null,
      "visibility": null,
      "width": null
     }
    },
    "1b76a7321f1e482e92b6725f5d120700": {
     "model_module": "@jupyter-widgets/base",
     "model_module_version": "1.2.0",
     "model_name": "LayoutModel",
     "state": {
      "_model_module": "@jupyter-widgets/base",
      "_model_module_version": "1.2.0",
      "_model_name": "LayoutModel",
      "_view_count": null,
      "_view_module": "@jupyter-widgets/base",
      "_view_module_version": "1.2.0",
      "_view_name": "LayoutView",
      "align_content": null,
      "align_items": null,
      "align_self": null,
      "border": null,
      "bottom": null,
      "display": null,
      "flex": null,
      "flex_flow": null,
      "grid_area": null,
      "grid_auto_columns": null,
      "grid_auto_flow": null,
      "grid_auto_rows": null,
      "grid_column": null,
      "grid_gap": null,
      "grid_row": null,
      "grid_template_areas": null,
      "grid_template_columns": null,
      "grid_template_rows": null,
      "height": null,
      "justify_content": null,
      "justify_items": null,
      "left": null,
      "margin": null,
      "max_height": null,
      "max_width": null,
      "min_height": null,
      "min_width": null,
      "object_fit": null,
      "object_position": null,
      "order": null,
      "overflow": null,
      "overflow_x": null,
      "overflow_y": null,
      "padding": null,
      "right": null,
      "top": null,
      "visibility": null,
      "width": null
     }
    },
    "2d65e5a9073f4b65b95c2c629255cac1": {
     "model_module": "@jupyter-widgets/controls",
     "model_module_version": "1.5.0",
     "model_name": "DescriptionStyleModel",
     "state": {
      "_model_module": "@jupyter-widgets/controls",
      "_model_module_version": "1.5.0",
      "_model_name": "DescriptionStyleModel",
      "_view_count": null,
      "_view_module": "@jupyter-widgets/base",
      "_view_module_version": "1.2.0",
      "_view_name": "StyleView",
      "description_width": ""
     }
    },
    "39a8f6a0c95342299729b62b7a818084": {
     "model_module": "@jupyter-widgets/base",
     "model_module_version": "1.2.0",
     "model_name": "LayoutModel",
     "state": {
      "_model_module": "@jupyter-widgets/base",
      "_model_module_version": "1.2.0",
      "_model_name": "LayoutModel",
      "_view_count": null,
      "_view_module": "@jupyter-widgets/base",
      "_view_module_version": "1.2.0",
      "_view_name": "LayoutView",
      "align_content": null,
      "align_items": null,
      "align_self": null,
      "border": null,
      "bottom": null,
      "display": null,
      "flex": null,
      "flex_flow": null,
      "grid_area": null,
      "grid_auto_columns": null,
      "grid_auto_flow": null,
      "grid_auto_rows": null,
      "grid_column": null,
      "grid_gap": null,
      "grid_row": null,
      "grid_template_areas": null,
      "grid_template_columns": null,
      "grid_template_rows": null,
      "height": null,
      "justify_content": null,
      "justify_items": null,
      "left": null,
      "margin": null,
      "max_height": null,
      "max_width": null,
      "min_height": null,
      "min_width": null,
      "object_fit": null,
      "object_position": null,
      "order": null,
      "overflow": null,
      "overflow_x": null,
      "overflow_y": null,
      "padding": null,
      "right": null,
      "top": null,
      "visibility": null,
      "width": null
     }
    },
    "3acd5dce7d1b4a84b1b5540ec8d37ed3": {
     "model_module": "@jupyter-widgets/controls",
     "model_module_version": "1.5.0",
     "model_name": "ProgressStyleModel",
     "state": {
      "_model_module": "@jupyter-widgets/controls",
      "_model_module_version": "1.5.0",
      "_model_name": "ProgressStyleModel",
      "_view_count": null,
      "_view_module": "@jupyter-widgets/base",
      "_view_module_version": "1.2.0",
      "_view_name": "StyleView",
      "bar_color": null,
      "description_width": ""
     }
    },
    "3da40e23ffbd47db8d1a250292255c32": {
     "model_module": "@jupyter-widgets/controls",
     "model_module_version": "1.5.0",
     "model_name": "FloatProgressModel",
     "state": {
      "_dom_classes": [],
      "_model_module": "@jupyter-widgets/controls",
      "_model_module_version": "1.5.0",
      "_model_name": "FloatProgressModel",
      "_view_count": null,
      "_view_module": "@jupyter-widgets/controls",
      "_view_module_version": "1.5.0",
      "_view_name": "ProgressView",
      "bar_style": "success",
      "description": "",
      "description_tooltip": null,
      "layout": "IPY_MODEL_1b76a7321f1e482e92b6725f5d120700",
      "max": 5,
      "min": 0,
      "orientation": "horizontal",
      "style": "IPY_MODEL_6827ef49075d48a1bb2582fb7fd52389",
      "value": 5
     }
    },
    "441b987af9044d1f9326f906d0f1d218": {
     "model_module": "@jupyter-widgets/controls",
     "model_module_version": "1.5.0",
     "model_name": "DescriptionStyleModel",
     "state": {
      "_model_module": "@jupyter-widgets/controls",
      "_model_module_version": "1.5.0",
      "_model_name": "DescriptionStyleModel",
      "_view_count": null,
      "_view_module": "@jupyter-widgets/base",
      "_view_module_version": "1.2.0",
      "_view_name": "StyleView",
      "description_width": ""
     }
    },
    "48543e1564664f73b553a0ae5bfb0843": {
     "model_module": "@jupyter-widgets/base",
     "model_module_version": "1.2.0",
     "model_name": "LayoutModel",
     "state": {
      "_model_module": "@jupyter-widgets/base",
      "_model_module_version": "1.2.0",
      "_model_name": "LayoutModel",
      "_view_count": null,
      "_view_module": "@jupyter-widgets/base",
      "_view_module_version": "1.2.0",
      "_view_name": "LayoutView",
      "align_content": null,
      "align_items": null,
      "align_self": null,
      "border": null,
      "bottom": null,
      "display": null,
      "flex": null,
      "flex_flow": null,
      "grid_area": null,
      "grid_auto_columns": null,
      "grid_auto_flow": null,
      "grid_auto_rows": null,
      "grid_column": null,
      "grid_gap": null,
      "grid_row": null,
      "grid_template_areas": null,
      "grid_template_columns": null,
      "grid_template_rows": null,
      "height": null,
      "justify_content": null,
      "justify_items": null,
      "left": null,
      "margin": null,
      "max_height": null,
      "max_width": null,
      "min_height": null,
      "min_width": null,
      "object_fit": null,
      "object_position": null,
      "order": null,
      "overflow": null,
      "overflow_x": null,
      "overflow_y": null,
      "padding": null,
      "right": null,
      "top": null,
      "visibility": null,
      "width": null
     }
    },
    "4e5a11ea456d49a8bd7563e9b2c35511": {
     "model_module": "@jupyter-widgets/controls",
     "model_module_version": "1.5.0",
     "model_name": "DescriptionStyleModel",
     "state": {
      "_model_module": "@jupyter-widgets/controls",
      "_model_module_version": "1.5.0",
      "_model_name": "DescriptionStyleModel",
      "_view_count": null,
      "_view_module": "@jupyter-widgets/base",
      "_view_module_version": "1.2.0",
      "_view_name": "StyleView",
      "description_width": ""
     }
    },
    "543a939bbf684e49ad83771418dfdd09": {
     "model_module": "@jupyter-widgets/base",
     "model_module_version": "1.2.0",
     "model_name": "LayoutModel",
     "state": {
      "_model_module": "@jupyter-widgets/base",
      "_model_module_version": "1.2.0",
      "_model_name": "LayoutModel",
      "_view_count": null,
      "_view_module": "@jupyter-widgets/base",
      "_view_module_version": "1.2.0",
      "_view_name": "LayoutView",
      "align_content": null,
      "align_items": null,
      "align_self": null,
      "border": null,
      "bottom": null,
      "display": null,
      "flex": null,
      "flex_flow": null,
      "grid_area": null,
      "grid_auto_columns": null,
      "grid_auto_flow": null,
      "grid_auto_rows": null,
      "grid_column": null,
      "grid_gap": null,
      "grid_row": null,
      "grid_template_areas": null,
      "grid_template_columns": null,
      "grid_template_rows": null,
      "height": null,
      "justify_content": null,
      "justify_items": null,
      "left": null,
      "margin": null,
      "max_height": null,
      "max_width": null,
      "min_height": null,
      "min_width": null,
      "object_fit": null,
      "object_position": null,
      "order": null,
      "overflow": null,
      "overflow_x": null,
      "overflow_y": null,
      "padding": null,
      "right": null,
      "top": null,
      "visibility": null,
      "width": null
     }
    },
    "549c9135cfbe467ebc3a60d6ad5750e6": {
     "model_module": "@jupyter-widgets/controls",
     "model_module_version": "1.5.0",
     "model_name": "HTMLModel",
     "state": {
      "_dom_classes": [],
      "_model_module": "@jupyter-widgets/controls",
      "_model_module_version": "1.5.0",
      "_model_name": "HTMLModel",
      "_view_count": null,
      "_view_module": "@jupyter-widgets/controls",
      "_view_module_version": "1.5.0",
      "_view_name": "HTMLView",
      "description": "",
      "description_tooltip": null,
      "layout": "IPY_MODEL_e0194e91019f4661a01322bbda67ac18",
      "placeholder": "​",
      "style": "IPY_MODEL_6b0ff87e15fd4ff684355a521e0f7a1f",
      "value": ""
     }
    },
    "5805c14443ec4d3ebf24ea8dda735a99": {
     "model_module": "@jupyter-widgets/base",
     "model_module_version": "1.2.0",
     "model_name": "LayoutModel",
     "state": {
      "_model_module": "@jupyter-widgets/base",
      "_model_module_version": "1.2.0",
      "_model_name": "LayoutModel",
      "_view_count": null,
      "_view_module": "@jupyter-widgets/base",
      "_view_module_version": "1.2.0",
      "_view_name": "LayoutView",
      "align_content": null,
      "align_items": null,
      "align_self": null,
      "border": null,
      "bottom": null,
      "display": null,
      "flex": null,
      "flex_flow": null,
      "grid_area": null,
      "grid_auto_columns": null,
      "grid_auto_flow": null,
      "grid_auto_rows": null,
      "grid_column": null,
      "grid_gap": null,
      "grid_row": null,
      "grid_template_areas": null,
      "grid_template_columns": null,
      "grid_template_rows": null,
      "height": null,
      "justify_content": null,
      "justify_items": null,
      "left": null,
      "margin": null,
      "max_height": null,
      "max_width": null,
      "min_height": null,
      "min_width": null,
      "object_fit": null,
      "object_position": null,
      "order": null,
      "overflow": null,
      "overflow_x": null,
      "overflow_y": null,
      "padding": null,
      "right": null,
      "top": null,
      "visibility": null,
      "width": null
     }
    },
    "6827ef49075d48a1bb2582fb7fd52389": {
     "model_module": "@jupyter-widgets/controls",
     "model_module_version": "1.5.0",
     "model_name": "ProgressStyleModel",
     "state": {
      "_model_module": "@jupyter-widgets/controls",
      "_model_module_version": "1.5.0",
      "_model_name": "ProgressStyleModel",
      "_view_count": null,
      "_view_module": "@jupyter-widgets/base",
      "_view_module_version": "1.2.0",
      "_view_name": "StyleView",
      "bar_color": null,
      "description_width": ""
     }
    },
    "6b0ff87e15fd4ff684355a521e0f7a1f": {
     "model_module": "@jupyter-widgets/controls",
     "model_module_version": "1.5.0",
     "model_name": "DescriptionStyleModel",
     "state": {
      "_model_module": "@jupyter-widgets/controls",
      "_model_module_version": "1.5.0",
      "_model_name": "DescriptionStyleModel",
      "_view_count": null,
      "_view_module": "@jupyter-widgets/base",
      "_view_module_version": "1.2.0",
      "_view_name": "StyleView",
      "description_width": ""
     }
    },
    "8930cc60223a4b56a70a17b1c5d03a93": {
     "model_module": "@jupyter-widgets/controls",
     "model_module_version": "1.5.0",
     "model_name": "FloatProgressModel",
     "state": {
      "_dom_classes": [],
      "_model_module": "@jupyter-widgets/controls",
      "_model_module_version": "1.5.0",
      "_model_name": "FloatProgressModel",
      "_view_count": null,
      "_view_module": "@jupyter-widgets/controls",
      "_view_module_version": "1.5.0",
      "_view_name": "ProgressView",
      "bar_style": "success",
      "description": "",
      "description_tooltip": null,
      "layout": "IPY_MODEL_48543e1564664f73b553a0ae5bfb0843",
      "max": 1,
      "min": 0,
      "orientation": "horizontal",
      "style": "IPY_MODEL_3acd5dce7d1b4a84b1b5540ec8d37ed3",
      "value": 1
     }
    },
    "93f32edfd72e4a29ac69d2e202d6e14c": {
     "model_module": "@jupyter-widgets/controls",
     "model_module_version": "1.5.0",
     "model_name": "HTMLModel",
     "state": {
      "_dom_classes": [],
      "_model_module": "@jupyter-widgets/controls",
      "_model_module_version": "1.5.0",
      "_model_name": "HTMLModel",
      "_view_count": null,
      "_view_module": "@jupyter-widgets/controls",
      "_view_module_version": "1.5.0",
      "_view_name": "HTMLView",
      "description": "",
      "description_tooltip": null,
      "layout": "IPY_MODEL_543a939bbf684e49ad83771418dfdd09",
      "placeholder": "​",
      "style": "IPY_MODEL_4e5a11ea456d49a8bd7563e9b2c35511",
      "value": "Downloading: 100%"
     }
    },
    "bbd5c7d0941a458dbaee866da7e5366f": {
     "model_module": "@jupyter-widgets/controls",
     "model_module_version": "1.5.0",
     "model_name": "HTMLModel",
     "state": {
      "_dom_classes": [],
      "_model_module": "@jupyter-widgets/controls",
      "_model_module_version": "1.5.0",
      "_model_name": "HTMLModel",
      "_view_count": null,
      "_view_module": "@jupyter-widgets/controls",
      "_view_module_version": "1.5.0",
      "_view_name": "HTMLView",
      "description": "",
      "description_tooltip": null,
      "layout": "IPY_MODEL_5805c14443ec4d3ebf24ea8dda735a99",
      "placeholder": "​",
      "style": "IPY_MODEL_441b987af9044d1f9326f906d0f1d218",
      "value": ""
     }
    },
    "c656f444dbc4405a915eaecde42707d5": {
     "model_module": "@jupyter-widgets/controls",
     "model_module_version": "1.5.0",
     "model_name": "HTMLModel",
     "state": {
      "_dom_classes": [],
      "_model_module": "@jupyter-widgets/controls",
      "_model_module_version": "1.5.0",
      "_model_name": "HTMLModel",
      "_view_count": null,
      "_view_module": "@jupyter-widgets/controls",
      "_view_module_version": "1.5.0",
      "_view_name": "HTMLView",
      "description": "",
      "description_tooltip": null,
      "layout": "IPY_MODEL_16d1acd4a3e94cf9bc3d683ff7eb1125",
      "placeholder": "​",
      "style": "IPY_MODEL_2d65e5a9073f4b65b95c2c629255cac1",
      "value": "Job ID a2f9486b-cfda-4aad-959b-b5485f8f5dd8 successfully executed: 100%"
     }
    },
    "ddb7ba0f48b24355b23492fcb1db5939": {
     "model_module": "@jupyter-widgets/controls",
     "model_module_version": "1.5.0",
     "model_name": "HBoxModel",
     "state": {
      "_dom_classes": [],
      "_model_module": "@jupyter-widgets/controls",
      "_model_module_version": "1.5.0",
      "_model_name": "HBoxModel",
      "_view_count": null,
      "_view_module": "@jupyter-widgets/controls",
      "_view_module_version": "1.5.0",
      "_view_name": "HBoxView",
      "box_style": "",
      "children": [
       "IPY_MODEL_c656f444dbc4405a915eaecde42707d5",
       "IPY_MODEL_8930cc60223a4b56a70a17b1c5d03a93",
       "IPY_MODEL_549c9135cfbe467ebc3a60d6ad5750e6"
      ],
      "layout": "IPY_MODEL_39a8f6a0c95342299729b62b7a818084"
     }
    },
    "e0194e91019f4661a01322bbda67ac18": {
     "model_module": "@jupyter-widgets/base",
     "model_module_version": "1.2.0",
     "model_name": "LayoutModel",
     "state": {
      "_model_module": "@jupyter-widgets/base",
      "_model_module_version": "1.2.0",
      "_model_name": "LayoutModel",
      "_view_count": null,
      "_view_module": "@jupyter-widgets/base",
      "_view_module_version": "1.2.0",
      "_view_name": "LayoutView",
      "align_content": null,
      "align_items": null,
      "align_self": null,
      "border": null,
      "bottom": null,
      "display": null,
      "flex": null,
      "flex_flow": null,
      "grid_area": null,
      "grid_auto_columns": null,
      "grid_auto_flow": null,
      "grid_auto_rows": null,
      "grid_column": null,
      "grid_gap": null,
      "grid_row": null,
      "grid_template_areas": null,
      "grid_template_columns": null,
      "grid_template_rows": null,
      "height": null,
      "justify_content": null,
      "justify_items": null,
      "left": null,
      "margin": null,
      "max_height": null,
      "max_width": null,
      "min_height": null,
      "min_width": null,
      "object_fit": null,
      "object_position": null,
      "order": null,
      "overflow": null,
      "overflow_x": null,
      "overflow_y": null,
      "padding": null,
      "right": null,
      "top": null,
      "visibility": null,
      "width": null
     }
    },
    "e2e3c77141c04fa7885bf4b4c0e314f4": {
     "model_module": "@jupyter-widgets/base",
     "model_module_version": "1.2.0",
     "model_name": "LayoutModel",
     "state": {
      "_model_module": "@jupyter-widgets/base",
      "_model_module_version": "1.2.0",
      "_model_name": "LayoutModel",
      "_view_count": null,
      "_view_module": "@jupyter-widgets/base",
      "_view_module_version": "1.2.0",
      "_view_name": "LayoutView",
      "align_content": null,
      "align_items": null,
      "align_self": null,
      "border": null,
      "bottom": null,
      "display": null,
      "flex": null,
      "flex_flow": null,
      "grid_area": null,
      "grid_auto_columns": null,
      "grid_auto_flow": null,
      "grid_auto_rows": null,
      "grid_column": null,
      "grid_gap": null,
      "grid_row": null,
      "grid_template_areas": null,
      "grid_template_columns": null,
      "grid_template_rows": null,
      "height": null,
      "justify_content": null,
      "justify_items": null,
      "left": null,
      "margin": null,
      "max_height": null,
      "max_width": null,
      "min_height": null,
      "min_width": null,
      "object_fit": null,
      "object_position": null,
      "order": null,
      "overflow": null,
      "overflow_x": null,
      "overflow_y": null,
      "padding": null,
      "right": null,
      "top": null,
      "visibility": null,
      "width": null
     }
    }
   }
  }
 },
 "nbformat": 4,
 "nbformat_minor": 4
}
