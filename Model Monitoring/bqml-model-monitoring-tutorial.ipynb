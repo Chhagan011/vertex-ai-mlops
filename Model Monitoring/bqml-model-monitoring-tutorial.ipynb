{
 "cells": [
  {
   "cell_type": "markdown",
   "metadata": {},
   "source": [
    "![tracker](https://us-central1-vertex-ai-mlops-369716.cloudfunctions.net/pixel-tracking?path=statmike%2Fvertex-ai-mlops%2FModel+Monitoring&file=bqml-model-monitoring-tutorial.ipynb)\n",
    "<!--- header table --->\n",
    "<table align=\"left\">\n",
    "  <td style=\"text-align: center\">\n",
    "    <a href=\"https://colab.research.google.com/github/statmike/vertex-ai-mlops/blob/main/Model%20Monitoring/bqml-model-monitoring-tutorial.ipynb\">\n",
    "      <img src=\"https://cloud.google.com/ml-engine/images/colab-logo-32px.png\" alt=\"Google Colaboratory logo\">\n",
    "      <br>Run in<br>Colab\n",
    "    </a>\n",
    "  </td>\n",
    "  <td style=\"text-align: center\">\n",
    "    <a href=\"https://console.cloud.google.com/vertex-ai/colab/import/https%3A%2F%2Fraw.githubusercontent.com%2Fstatmike%2Fvertex-ai-mlops%2Fmain%2FModel%2520Monitoring%2Fbqml-model-monitoring-tutorial.ipynb\">\n",
    "      <img width=\"32px\" src=\"https://lh3.googleusercontent.com/JmcxdQi-qOpctIvWKgPtrzZdJJK-J3sWE1RsfjZNwshCFgE_9fULcNpuXYTilIR2hjwN\" alt=\"Google Cloud Colab Enterprise logo\">\n",
    "      <br>Run in<br>Colab Enterprise\n",
    "    </a>\n",
    "  </td>      \n",
    "  <td style=\"text-align: center\">\n",
    "    <a href=\"https://github.com/statmike/vertex-ai-mlops/blob/main/Model%20Monitoring/bqml-model-monitoring-tutorial.ipynb\">\n",
    "      <img src=\"https://cloud.google.com/ml-engine/images/github-logo-32px.png\" alt=\"GitHub logo\">\n",
    "      <br>View on<br>GitHub\n",
    "    </a>\n",
    "  </td>\n",
    "  <td style=\"text-align: center\">\n",
    "    <a href=\"https://console.cloud.google.com/vertex-ai/workbench/deploy-notebook?download_url=https://raw.githubusercontent.com/statmike/vertex-ai-mlops/main/Model%20Monitoring/bqml-model-monitoring-tutorial.ipynb\">\n",
    "      <img src=\"https://lh3.googleusercontent.com/UiNooY4LUgW_oTvpsNhPpQzsstV5W8F7rYgxgGBD85cWJoLmrOzhVs_ksK_vgx40SHs7jCqkTkCk=e14-rj-sc0xffffff-h130-w32\" alt=\"Vertex AI logo\">\n",
    "      <br>Open in<br>Vertex AI Workbench\n",
    "    </a>\n",
    "  </td>\n",
    "</table>"
   ]
  },
  {
   "cell_type": "markdown",
   "metadata": {
    "id": "jwgBsT4ZeFWn"
   },
   "source": [
    "# BigQuery ML (BQML) - Model Monitoring Tutorial \n",
    "\n",
    "This notebook provides an in-depth look at model monitoring with BigQuery ML that accompanies the [blog announcing these features](link here). It complements the introductory notebook, ['BigQuery ML (BQML) - Model Monitoring Introduction'](./bqml-model-monitoring-introduction.ipynb), and delves deeper into various monitoring techniques and tools.\n",
    "\n",
    "**Key Areas Covered:**\n",
    "\n",
    "* **Data Preparation and Understanding:**\n",
    "    * Employing `ML.DESCRIBE_DATA` to analyze feature distributions and identify potential data quality issues.\n",
    "    * Splitting data into training, evaluation, and test sets while preserving data balance.\n",
    "* **Model Training and Evaluation:**\n",
    "    * Training a random forest model using `CREATE MODEL` with the `TRANSFORM` clause for incorporating feature engineering.\n",
    "    * Evaluating model performance using `ML.EVALUATE` and `ML.CONFUSION_MATRIX` on different data splits.\n",
    "* **Model Serving and Data Drift Simulation:**\n",
    "    * Generating predictions with `ML.PREDICT` and simulating data drift over time to represent real-world scenarios.\n",
    "* **Model Monitoring Techniques:**\n",
    "    * Implementing `ML.VALIDATE_DATA_SKEW` to detect changes between training and serving data distributions.\n",
    "    * Using `ML.VALIDATE_DATA_DRIFT` to identify gradual shifts in the serving data distribution over time.\n",
    "    * Understanding the metrics used for monitoring: L-infinity distance and Jensen-Shannon divergence.\n",
    "* **TensorFlow Data Validation (TFDV) Integration:**\n",
    "    * Leveraging `ML.TFDV_DESCRIBE` and `ML.TFDV_VALIDATE` to generate descriptive statistics and detect anomalies.\n",
    "    * Visualizing feature distributions using `tfdv.visualize_statistics` for comparative analysis.\n",
    "* **Monitoring Feature Attributions and Drift:**\n",
    "    * Employing `ML.EXPLAIN_PREDICT` to obtain feature attributions and understand feature importance for predictions.\n",
    "    * Monitoring drift in feature attributions over time to gain insights into model behavior changes. \n",
    "* **Continuous Monitoring and Automation:**\n",
    "    * Building a BigQuery SQL job using procedural language to automate skew and drift detection.\n",
    "    * Incorporating alerting mechanisms and model retraining when anomalies are detected.\n",
    "    * Discussing options for automating monitoring jobs:\n",
    "        * BigQuery Scheduled Queries\n",
    "        * Dataform\n",
    "        * Workflows\n",
    "        * Cloud Composer\n",
    "        * Vertex AI Pipelines\n",
    "* **Model Monitoring for Online Inference with Vertex AI:**\n",
    "    * Deploying the trained BigQuery ML model to Vertex AI for online predictions. \n",
    "    * Enabling request-response logging to BigQuery for continuous monitoring of online predictions.\n",
    "\n",
    "**Target Audience:**\n",
    "\n",
    "This tutorial is designed for data scientists, machine learning engineers, and individuals with a basic understanding of BigQuery, SQL, and machine learning concepts who want to delve deeper into model monitoring with BigQuery ML. \n"
   ]
  },
  {
   "cell_type": "markdown",
   "metadata": {
    "id": "J_-1oCZ7oQe_"
   },
   "source": [
    "---\n",
    "## Colab Setup\n",
    "\n",
    "When running this notebook in [Colab](https://colab.google/) or [Colab Enterprise](https://cloud.google.com/colab/docs/introduction), this section will authenticate to GCP (follow prompts in the popup) and set the current project for the session."
   ]
  },
  {
   "cell_type": "code",
   "execution_count": 1,
   "metadata": {
    "executionInfo": {
     "elapsed": 178,
     "status": "ok",
     "timestamp": 1710716382256,
     "user": {
      "displayName": "Mike Henderson",
      "userId": "07691629187611687318"
     },
     "user_tz": 240
    },
    "id": "bUeb3Vz9c-cz",
    "tags": []
   },
   "outputs": [],
   "source": [
    "PROJECT_ID = 'statmike-mlops-349915' # replace with project ID"
   ]
  },
  {
   "cell_type": "code",
   "execution_count": 2,
   "metadata": {
    "colab": {
     "base_uri": "https://localhost:8080/"
    },
    "executionInfo": {
     "elapsed": 1769,
     "status": "ok",
     "timestamp": 1710716384851,
     "user": {
      "displayName": "Mike Henderson",
      "userId": "07691629187611687318"
     },
     "user_tz": 240
    },
    "id": "ztC0h14fc-fr",
    "outputId": "16d1144f-1671-4919-edba-31bc197ffc7b",
    "tags": []
   },
   "outputs": [
    {
     "name": "stdout",
     "output_type": "stream",
     "text": [
      "Not a Colab Environment\n"
     ]
    }
   ],
   "source": [
    "try:\n",
    "    from google.colab import auth\n",
    "    auth.authenticate_user(project_id = PROJECT_ID)\n",
    "    print('Colab authorized to GCP')\n",
    "except Exception:\n",
    "    print('Not a Colab Environment')\n",
    "    pass"
   ]
  },
  {
   "cell_type": "markdown",
   "metadata": {},
   "source": [
    "---\n",
    "## Installs\n",
    "\n",
    "The list `packages` contains tuples of package import names and install names.  If the import name is not found then the install name is used to install quitely for the current user."
   ]
  },
  {
   "cell_type": "code",
   "execution_count": 3,
   "metadata": {
    "tags": []
   },
   "outputs": [],
   "source": [
    "# tuples of (import name, install name, min_version)\n",
    "packages = [\n",
    "    ('tensorflow_data_validation', 'tensorflow-data-validation'),\n",
    "    ('tensorflow_metadata', 'tensorflow-metadata'),\n",
    "    ('google.cloud.aiplatform', 'google-cloud-aiplatform'),\n",
    "    ('google.cloud.bigquery', 'google-cloud-bigquery'),\n",
    "    ('google.cloud.bigquery_datatransfer', 'google-cloud-bigquery-datatransfer'),\n",
    "    ('numpy', 'numpy'),\n",
    "    ('pandas', 'pandas')\n",
    "]\n",
    "\n",
    "import importlib\n",
    "install = False\n",
    "for package in packages:\n",
    "    if not importlib.util.find_spec(package[0]):\n",
    "        print(f'installing package {package[1]}')\n",
    "        install = True\n",
    "        !pip install {package[1]} -U -q --user\n",
    "    elif len(package) == 3:\n",
    "        if importlib.metadata.version(package[0]) < package[2]:\n",
    "            print(f'updating package {package[1]}')\n",
    "            install = True\n",
    "            !pip install {package[1]} -U -q --user"
   ]
  },
  {
   "cell_type": "markdown",
   "metadata": {},
   "source": [
    "### Restart Kernel (If Installs Occured)\n",
    "After a kernel restart the code submission can start with the next cell after this one."
   ]
  },
  {
   "cell_type": "code",
   "execution_count": 4,
   "metadata": {
    "tags": []
   },
   "outputs": [],
   "source": [
    "if install:\n",
    "    import IPython\n",
    "    app = IPython.Application.instance()\n",
    "    app.kernel.do_shutdown(True)"
   ]
  },
  {
   "cell_type": "markdown",
   "metadata": {
    "id": "yt5uZFvRoWLp"
   },
   "source": [
    "---\n",
    "## Setup"
   ]
  },
  {
   "cell_type": "markdown",
   "metadata": {},
   "source": [
    "Packages:"
   ]
  },
  {
   "cell_type": "code",
   "execution_count": 5,
   "metadata": {
    "tags": []
   },
   "outputs": [],
   "source": [
    "import json"
   ]
  },
  {
   "cell_type": "markdown",
   "metadata": {},
   "source": [
    "Clients:"
   ]
  },
  {
   "cell_type": "code",
   "execution_count": 6,
   "metadata": {
    "colab": {
     "base_uri": "https://localhost:8080/"
    },
    "executionInfo": {
     "elapsed": 159,
     "status": "ok",
     "timestamp": 1710716582376,
     "user": {
      "displayName": "Mike Henderson",
      "userId": "07691629187611687318"
     },
     "user_tz": 240
    },
    "id": "14nUE43Oc-ip",
    "outputId": "55b2c2b1-b6ad-42cc-b3cc-d6e3afcaa071",
    "tags": []
   },
   "outputs": [
    {
     "name": "stdout",
     "output_type": "stream",
     "text": [
      "The google.cloud.bigquery extension is already loaded. To reload it, use:\n",
      "  %reload_ext google.cloud.bigquery\n"
     ]
    }
   ],
   "source": [
    "%load_ext google.cloud.bigquery"
   ]
  },
  {
   "cell_type": "markdown",
   "metadata": {},
   "source": [
    "Prepare the code below for your environment.\n",
    "\n",
    "This notebook takes advantage of the [BigQuery IPython magic](https://cloud.google.com/python/docs/reference/bigquery/latest/magics) for legibility and ease of copy/pasting to BigQuery SQL editor.  If this notebook is being used from an environment that can run notebooks it needs further preparation: Colab, Colab Enterprise, Vertex AI Workbench Instances, or BigQuery Studio with a Python Notebook.  The SQL code in these cells uses the fully qualified [BigQuery table](https://cloud.google.com/bigquery/docs/tables-intro) names in the form `projectname.datasetname.tablename`.  Prepare for your environment by:\n",
    "- Edit > Find\n",
    "    - Find: `statmike-mlops-349915`\n",
    "    - Replace: `<your project id>`\n",
    "    - Replace All"
   ]
  },
  {
   "cell_type": "markdown",
   "metadata": {},
   "source": [
    "---\n",
    "## BigQuery Source Data\n",
    "\n",
    "This project will uses the following data source as a tutorial.  It is good for examples like this because it is small, has few columns, but contains categorial and numerical data types.\n",
    "\n",
    "The source table is a BigQuery Public Dataset table.  The following cell uses the [BigQuery IPython magic](https://cloud.google.com/python/docs/reference/bigquery/latest/magics) to retrieve 5 rows of the table for review.  This data is known as [Palmer Penguins](https://allisonhorst.github.io/palmerpenguins/) data: \n",
    "\n",
    "```\n",
    "@Manual{,\n",
    "  title = {palmerpenguins: Palmer Archipelago (Antarctica) penguin data},\n",
    "  author = {Allison Marie Horst and Alison Presmanes Hill and Kristen B Gorman},\n",
    "  year = {2020},\n",
    "  note = {R package version 0.1.0},\n",
    "  doi = {10.5281/zenodo.3960218},\n",
    "  url = {https://allisonhorst.github.io/palmerpenguins/},\n",
    "}\n",
    "```\n",
    "\n",
    "\n",
    "There are 334 observations of 4 numerical features (culman length, culmen depth, flipper length, body mass) and 2  categorical features (island, sex) that represent 3 species of penguins."
   ]
  },
  {
   "cell_type": "code",
   "execution_count": 7,
   "metadata": {
    "tags": []
   },
   "outputs": [
    {
     "data": {
      "application/vnd.jupyter.widget-view+json": {
       "model_id": "cc11037f4ea149d2a5bdbaa0b5b3d531",
       "version_major": 2,
       "version_minor": 0
      },
      "text/plain": [
       "Query is running:   0%|          |"
      ]
     },
     "metadata": {},
     "output_type": "display_data"
    },
    {
     "data": {
      "application/vnd.jupyter.widget-view+json": {
       "model_id": "d31300e604ab4abc857df0ff29a80405",
       "version_major": 2,
       "version_minor": 0
      },
      "text/plain": [
       "Downloading:   0%|          |"
      ]
     },
     "metadata": {},
     "output_type": "display_data"
    },
    {
     "data": {
      "text/html": [
       "<div>\n",
       "<style scoped>\n",
       "    .dataframe tbody tr th:only-of-type {\n",
       "        vertical-align: middle;\n",
       "    }\n",
       "\n",
       "    .dataframe tbody tr th {\n",
       "        vertical-align: top;\n",
       "    }\n",
       "\n",
       "    .dataframe thead th {\n",
       "        text-align: right;\n",
       "    }\n",
       "</style>\n",
       "<table border=\"1\" class=\"dataframe\">\n",
       "  <thead>\n",
       "    <tr style=\"text-align: right;\">\n",
       "      <th></th>\n",
       "      <th>species</th>\n",
       "      <th>island</th>\n",
       "      <th>culmen_length_mm</th>\n",
       "      <th>culmen_depth_mm</th>\n",
       "      <th>flipper_length_mm</th>\n",
       "      <th>body_mass_g</th>\n",
       "      <th>sex</th>\n",
       "    </tr>\n",
       "  </thead>\n",
       "  <tbody>\n",
       "    <tr>\n",
       "      <th>0</th>\n",
       "      <td>Adelie Penguin (Pygoscelis adeliae)</td>\n",
       "      <td>Dream</td>\n",
       "      <td>36.6</td>\n",
       "      <td>18.4</td>\n",
       "      <td>184.0</td>\n",
       "      <td>3475.0</td>\n",
       "      <td>FEMALE</td>\n",
       "    </tr>\n",
       "    <tr>\n",
       "      <th>1</th>\n",
       "      <td>Adelie Penguin (Pygoscelis adeliae)</td>\n",
       "      <td>Dream</td>\n",
       "      <td>39.8</td>\n",
       "      <td>19.1</td>\n",
       "      <td>184.0</td>\n",
       "      <td>4650.0</td>\n",
       "      <td>MALE</td>\n",
       "    </tr>\n",
       "    <tr>\n",
       "      <th>2</th>\n",
       "      <td>Adelie Penguin (Pygoscelis adeliae)</td>\n",
       "      <td>Dream</td>\n",
       "      <td>40.9</td>\n",
       "      <td>18.9</td>\n",
       "      <td>184.0</td>\n",
       "      <td>3900.0</td>\n",
       "      <td>MALE</td>\n",
       "    </tr>\n",
       "    <tr>\n",
       "      <th>3</th>\n",
       "      <td>Chinstrap penguin (Pygoscelis antarctica)</td>\n",
       "      <td>Dream</td>\n",
       "      <td>46.5</td>\n",
       "      <td>17.9</td>\n",
       "      <td>192.0</td>\n",
       "      <td>3500.0</td>\n",
       "      <td>FEMALE</td>\n",
       "    </tr>\n",
       "    <tr>\n",
       "      <th>4</th>\n",
       "      <td>Adelie Penguin (Pygoscelis adeliae)</td>\n",
       "      <td>Dream</td>\n",
       "      <td>37.3</td>\n",
       "      <td>16.8</td>\n",
       "      <td>192.0</td>\n",
       "      <td>3000.0</td>\n",
       "      <td>FEMALE</td>\n",
       "    </tr>\n",
       "  </tbody>\n",
       "</table>\n",
       "</div>"
      ],
      "text/plain": [
       "                                     species island  culmen_length_mm  \\\n",
       "0        Adelie Penguin (Pygoscelis adeliae)  Dream              36.6   \n",
       "1        Adelie Penguin (Pygoscelis adeliae)  Dream              39.8   \n",
       "2        Adelie Penguin (Pygoscelis adeliae)  Dream              40.9   \n",
       "3  Chinstrap penguin (Pygoscelis antarctica)  Dream              46.5   \n",
       "4        Adelie Penguin (Pygoscelis adeliae)  Dream              37.3   \n",
       "\n",
       "   culmen_depth_mm  flipper_length_mm  body_mass_g     sex  \n",
       "0             18.4              184.0       3475.0  FEMALE  \n",
       "1             19.1              184.0       4650.0    MALE  \n",
       "2             18.9              184.0       3900.0    MALE  \n",
       "3             17.9              192.0       3500.0  FEMALE  \n",
       "4             16.8              192.0       3000.0  FEMALE  "
      ]
     },
     "execution_count": 7,
     "metadata": {},
     "output_type": "execute_result"
    }
   ],
   "source": [
    "%%bigquery\n",
    "SELECT *\n",
    "FROM `bigquery-public-data.ml_datasets.penguins`\n",
    "LIMIT 5"
   ]
  },
  {
   "cell_type": "markdown",
   "metadata": {},
   "source": [
    "---\n",
    "## **Goal: Train, Serve, And Monitor A Model**\n",
    "\n",
    "**Train A Model**\n",
    "\n",
    "In this workflow our goal is to train and operationalize a machine leanring model that can classify unidentified penguins into the correct `species` using only measurements (`culmen_length_mm`, `culmen_depth_mm`, `flipper_length_mm`, `body_mass_g`), location (`island`) and gender (`sex`).  That means serving predictions, monitoring features, and potentially retraining the model.\n",
    "\n",
    "**Operationalize The Model**\n",
    "\n",
    "Taking a trained model to production introduces challenges. The model needs to be regularly evaluated to understand it's performance once put into production. This can be challenging as actual values used to assess the accuracy of predictions may arrive later than the predictions. Continuous monitoring bridges this gap with early signals in two key ways. First, monitoring the distributions of each of the models features for shift (called **skew**) from the training data to the current data. Then, also monitoring for any gradual **drift** in the distribution over time. Setting thresholds and getting alerts for features on each of this distribution changes gives early signals that the model needs to be carefully considered for evaluation and re-training to ensure effectiveness. If the evaluation can be automated then this can even extend to **continuous training**. "
   ]
  },
  {
   "cell_type": "markdown",
   "metadata": {},
   "source": [
    "---\n",
    "## Data Preparation"
   ]
  },
  {
   "cell_type": "markdown",
   "metadata": {
    "tags": []
   },
   "source": [
    "### Understand The Data Source With `ML.DESCRIBE_DATA`\n",
    "\n",
    "Reviewing a few records, like above, gives a good sense of how the data is arranged. Before proceeding with machine learning techniques it is important to understand more about these raw columns.  Are they ready to use a features in a model or is some form of feature engineering needed first?  For this, the distribution of values is an important starting point.  \n",
    "\n",
    "While SQL could be used to look at the distribution, it would be a time consuming process and requires different techniques for different data types like numerical, string, boolean, dates, times, array and struct version of these, and arrays of structs.\n",
    "\n",
    "To make this process fast and simple, the new [`ML.DESCRIBE_DATA`](https://cloud.google.com/bigquery/docs/reference/standard-sql/bigqueryml-syntax-describe-data)\n",
    "\n",
    "function is used to get a single row for each column the describes the data distribution:"
   ]
  },
  {
   "cell_type": "code",
   "execution_count": 8,
   "metadata": {
    "tags": []
   },
   "outputs": [
    {
     "data": {
      "application/vnd.jupyter.widget-view+json": {
       "model_id": "22c909ebc99c4af18cbbd8c6bd6ac7e6",
       "version_major": 2,
       "version_minor": 0
      },
      "text/plain": [
       "Query is running:   0%|          |"
      ]
     },
     "metadata": {},
     "output_type": "display_data"
    },
    {
     "data": {
      "application/vnd.jupyter.widget-view+json": {
       "model_id": "2256e5fab8df452baa6628c427b60225",
       "version_major": 2,
       "version_minor": 0
      },
      "text/plain": [
       "Downloading:   0%|          |"
      ]
     },
     "metadata": {},
     "output_type": "display_data"
    },
    {
     "data": {
      "text/html": [
       "<div>\n",
       "<style scoped>\n",
       "    .dataframe tbody tr th:only-of-type {\n",
       "        vertical-align: middle;\n",
       "    }\n",
       "\n",
       "    .dataframe tbody tr th {\n",
       "        vertical-align: top;\n",
       "    }\n",
       "\n",
       "    .dataframe thead th {\n",
       "        text-align: right;\n",
       "    }\n",
       "</style>\n",
       "<table border=\"1\" class=\"dataframe\">\n",
       "  <thead>\n",
       "    <tr style=\"text-align: right;\">\n",
       "      <th></th>\n",
       "      <th>name</th>\n",
       "      <th>num_rows</th>\n",
       "      <th>num_nulls</th>\n",
       "      <th>num_zeros</th>\n",
       "      <th>min</th>\n",
       "      <th>max</th>\n",
       "      <th>mean</th>\n",
       "      <th>stddev</th>\n",
       "      <th>median</th>\n",
       "      <th>quantiles</th>\n",
       "      <th>unique</th>\n",
       "      <th>avg_string_length</th>\n",
       "      <th>num_values</th>\n",
       "      <th>top_values</th>\n",
       "      <th>min_array_length</th>\n",
       "      <th>max_array_length</th>\n",
       "      <th>avg_array_length</th>\n",
       "      <th>total_array_length</th>\n",
       "      <th>array_length_quantiles</th>\n",
       "      <th>dimension</th>\n",
       "    </tr>\n",
       "  </thead>\n",
       "  <tbody>\n",
       "    <tr>\n",
       "      <th>0</th>\n",
       "      <td>body_mass_g</td>\n",
       "      <td>344</td>\n",
       "      <td>2</td>\n",
       "      <td>0</td>\n",
       "      <td>2700</td>\n",
       "      <td>6300</td>\n",
       "      <td>4201.754386</td>\n",
       "      <td>800.781229</td>\n",
       "      <td>4000.0</td>\n",
       "      <td>[2700.0, 4000.0, 6300.0]</td>\n",
       "      <td>&lt;NA&gt;</td>\n",
       "      <td>NaN</td>\n",
       "      <td>342</td>\n",
       "      <td>[]</td>\n",
       "      <td>&lt;NA&gt;</td>\n",
       "      <td>&lt;NA&gt;</td>\n",
       "      <td>NaN</td>\n",
       "      <td>&lt;NA&gt;</td>\n",
       "      <td>[]</td>\n",
       "      <td>&lt;NA&gt;</td>\n",
       "    </tr>\n",
       "    <tr>\n",
       "      <th>1</th>\n",
       "      <td>culmen_depth_mm</td>\n",
       "      <td>344</td>\n",
       "      <td>2</td>\n",
       "      <td>0</td>\n",
       "      <td>13.1</td>\n",
       "      <td>21.5</td>\n",
       "      <td>17.151170</td>\n",
       "      <td>1.971904</td>\n",
       "      <td>17.3</td>\n",
       "      <td>[13.1, 17.3, 21.5]</td>\n",
       "      <td>&lt;NA&gt;</td>\n",
       "      <td>NaN</td>\n",
       "      <td>342</td>\n",
       "      <td>[]</td>\n",
       "      <td>&lt;NA&gt;</td>\n",
       "      <td>&lt;NA&gt;</td>\n",
       "      <td>NaN</td>\n",
       "      <td>&lt;NA&gt;</td>\n",
       "      <td>[]</td>\n",
       "      <td>&lt;NA&gt;</td>\n",
       "    </tr>\n",
       "    <tr>\n",
       "      <th>2</th>\n",
       "      <td>culmen_length_mm</td>\n",
       "      <td>344</td>\n",
       "      <td>2</td>\n",
       "      <td>0</td>\n",
       "      <td>32.1</td>\n",
       "      <td>59.6</td>\n",
       "      <td>43.921930</td>\n",
       "      <td>5.451596</td>\n",
       "      <td>44.4</td>\n",
       "      <td>[32.1, 44.4, 59.6]</td>\n",
       "      <td>&lt;NA&gt;</td>\n",
       "      <td>NaN</td>\n",
       "      <td>342</td>\n",
       "      <td>[]</td>\n",
       "      <td>&lt;NA&gt;</td>\n",
       "      <td>&lt;NA&gt;</td>\n",
       "      <td>NaN</td>\n",
       "      <td>&lt;NA&gt;</td>\n",
       "      <td>[]</td>\n",
       "      <td>&lt;NA&gt;</td>\n",
       "    </tr>\n",
       "    <tr>\n",
       "      <th>3</th>\n",
       "      <td>flipper_length_mm</td>\n",
       "      <td>344</td>\n",
       "      <td>2</td>\n",
       "      <td>0</td>\n",
       "      <td>172</td>\n",
       "      <td>231</td>\n",
       "      <td>200.915205</td>\n",
       "      <td>14.041141</td>\n",
       "      <td>197.0</td>\n",
       "      <td>[172.0, 197.0, 231.0]</td>\n",
       "      <td>&lt;NA&gt;</td>\n",
       "      <td>NaN</td>\n",
       "      <td>342</td>\n",
       "      <td>[]</td>\n",
       "      <td>&lt;NA&gt;</td>\n",
       "      <td>&lt;NA&gt;</td>\n",
       "      <td>NaN</td>\n",
       "      <td>&lt;NA&gt;</td>\n",
       "      <td>[]</td>\n",
       "      <td>&lt;NA&gt;</td>\n",
       "    </tr>\n",
       "    <tr>\n",
       "      <th>4</th>\n",
       "      <td>island</td>\n",
       "      <td>344</td>\n",
       "      <td>0</td>\n",
       "      <td>&lt;NA&gt;</td>\n",
       "      <td>Biscoe</td>\n",
       "      <td>Torgersen</td>\n",
       "      <td>NaN</td>\n",
       "      <td>NaN</td>\n",
       "      <td>NaN</td>\n",
       "      <td>[]</td>\n",
       "      <td>3</td>\n",
       "      <td>6.093023</td>\n",
       "      <td>344</td>\n",
       "      <td>[{'value': 'Biscoe', 'count': 168}]</td>\n",
       "      <td>&lt;NA&gt;</td>\n",
       "      <td>&lt;NA&gt;</td>\n",
       "      <td>NaN</td>\n",
       "      <td>&lt;NA&gt;</td>\n",
       "      <td>[]</td>\n",
       "      <td>&lt;NA&gt;</td>\n",
       "    </tr>\n",
       "    <tr>\n",
       "      <th>5</th>\n",
       "      <td>sex</td>\n",
       "      <td>344</td>\n",
       "      <td>10</td>\n",
       "      <td>&lt;NA&gt;</td>\n",
       "      <td>.</td>\n",
       "      <td>MALE</td>\n",
       "      <td>NaN</td>\n",
       "      <td>NaN</td>\n",
       "      <td>NaN</td>\n",
       "      <td>[]</td>\n",
       "      <td>3</td>\n",
       "      <td>4.979042</td>\n",
       "      <td>334</td>\n",
       "      <td>[{'value': 'MALE', 'count': 168}]</td>\n",
       "      <td>&lt;NA&gt;</td>\n",
       "      <td>&lt;NA&gt;</td>\n",
       "      <td>NaN</td>\n",
       "      <td>&lt;NA&gt;</td>\n",
       "      <td>[]</td>\n",
       "      <td>&lt;NA&gt;</td>\n",
       "    </tr>\n",
       "    <tr>\n",
       "      <th>6</th>\n",
       "      <td>species</td>\n",
       "      <td>344</td>\n",
       "      <td>0</td>\n",
       "      <td>&lt;NA&gt;</td>\n",
       "      <td>Adelie Penguin (Pygoscelis adeliae)</td>\n",
       "      <td>Gentoo penguin (Pygoscelis papua)</td>\n",
       "      <td>NaN</td>\n",
       "      <td>NaN</td>\n",
       "      <td>NaN</td>\n",
       "      <td>[]</td>\n",
       "      <td>3</td>\n",
       "      <td>35.465116</td>\n",
       "      <td>344</td>\n",
       "      <td>[{'value': 'Adelie Penguin (Pygoscelis adeliae...</td>\n",
       "      <td>&lt;NA&gt;</td>\n",
       "      <td>&lt;NA&gt;</td>\n",
       "      <td>NaN</td>\n",
       "      <td>&lt;NA&gt;</td>\n",
       "      <td>[]</td>\n",
       "      <td>&lt;NA&gt;</td>\n",
       "    </tr>\n",
       "  </tbody>\n",
       "</table>\n",
       "</div>"
      ],
      "text/plain": [
       "                name  num_rows  num_nulls  num_zeros  \\\n",
       "0        body_mass_g       344          2          0   \n",
       "1    culmen_depth_mm       344          2          0   \n",
       "2   culmen_length_mm       344          2          0   \n",
       "3  flipper_length_mm       344          2          0   \n",
       "4             island       344          0       <NA>   \n",
       "5                sex       344         10       <NA>   \n",
       "6            species       344          0       <NA>   \n",
       "\n",
       "                                   min                                max  \\\n",
       "0                                 2700                               6300   \n",
       "1                                 13.1                               21.5   \n",
       "2                                 32.1                               59.6   \n",
       "3                                  172                                231   \n",
       "4                               Biscoe                          Torgersen   \n",
       "5                                    .                               MALE   \n",
       "6  Adelie Penguin (Pygoscelis adeliae)  Gentoo penguin (Pygoscelis papua)   \n",
       "\n",
       "          mean      stddev  median                 quantiles  unique  \\\n",
       "0  4201.754386  800.781229  4000.0  [2700.0, 4000.0, 6300.0]    <NA>   \n",
       "1    17.151170    1.971904    17.3        [13.1, 17.3, 21.5]    <NA>   \n",
       "2    43.921930    5.451596    44.4        [32.1, 44.4, 59.6]    <NA>   \n",
       "3   200.915205   14.041141   197.0     [172.0, 197.0, 231.0]    <NA>   \n",
       "4          NaN         NaN     NaN                        []       3   \n",
       "5          NaN         NaN     NaN                        []       3   \n",
       "6          NaN         NaN     NaN                        []       3   \n",
       "\n",
       "   avg_string_length  num_values  \\\n",
       "0                NaN         342   \n",
       "1                NaN         342   \n",
       "2                NaN         342   \n",
       "3                NaN         342   \n",
       "4           6.093023         344   \n",
       "5           4.979042         334   \n",
       "6          35.465116         344   \n",
       "\n",
       "                                          top_values  min_array_length  \\\n",
       "0                                                 []              <NA>   \n",
       "1                                                 []              <NA>   \n",
       "2                                                 []              <NA>   \n",
       "3                                                 []              <NA>   \n",
       "4                [{'value': 'Biscoe', 'count': 168}]              <NA>   \n",
       "5                  [{'value': 'MALE', 'count': 168}]              <NA>   \n",
       "6  [{'value': 'Adelie Penguin (Pygoscelis adeliae...              <NA>   \n",
       "\n",
       "   max_array_length  avg_array_length  total_array_length  \\\n",
       "0              <NA>               NaN                <NA>   \n",
       "1              <NA>               NaN                <NA>   \n",
       "2              <NA>               NaN                <NA>   \n",
       "3              <NA>               NaN                <NA>   \n",
       "4              <NA>               NaN                <NA>   \n",
       "5              <NA>               NaN                <NA>   \n",
       "6              <NA>               NaN                <NA>   \n",
       "\n",
       "  array_length_quantiles  dimension  \n",
       "0                     []       <NA>  \n",
       "1                     []       <NA>  \n",
       "2                     []       <NA>  \n",
       "3                     []       <NA>  \n",
       "4                     []       <NA>  \n",
       "5                     []       <NA>  \n",
       "6                     []       <NA>  "
      ]
     },
     "execution_count": 8,
     "metadata": {},
     "output_type": "execute_result"
    }
   ],
   "source": [
    "%%bigquery\n",
    "SELECT *\n",
    "FROM ML.DESCRIBE_DATA(\n",
    "  TABLE `bigquery-public-data.ml_datasets.penguins`\n",
    ")"
   ]
  },
  {
   "cell_type": "markdown",
   "metadata": {},
   "source": [
    "Some observations:\n",
    "- All columns have `num_rows` and `num_nulls`\n",
    "- Numerical columns have `min`, `max`, `stddev`, `median`, and `quantiles` showing the distribution of the data in the column\n",
    "- Categorical (string) columns have `min`, `max` values representing the class levels and a `unique` column show how many class levels\n",
    "\n",
    "Data quality observation:\n",
    "- The column `sex` has both missing values (10 indicated in `num_nulls`) as well as a `min` values of `.`.  This appears to be a data quality issue that needs fixing."
   ]
  },
  {
   "cell_type": "markdown",
   "metadata": {
    "tags": []
   },
   "source": [
    "### Create A BigQuery Dataset\n",
    "\n",
    "Create a new [BigQuery Dataset](https://cloud.google.com/bigquery/docs/datasets) as a working location for this workflow:"
   ]
  },
  {
   "cell_type": "code",
   "execution_count": 9,
   "metadata": {
    "tags": []
   },
   "outputs": [
    {
     "data": {
      "application/vnd.jupyter.widget-view+json": {
       "model_id": "3e00cf016c4e4941bbcb18de75eb30d4",
       "version_major": 2,
       "version_minor": 0
      },
      "text/plain": [
       "Query is running:   0%|          |"
      ]
     },
     "metadata": {},
     "output_type": "display_data"
    },
    {
     "data": {
      "text/html": [
       "<div>\n",
       "<style scoped>\n",
       "    .dataframe tbody tr th:only-of-type {\n",
       "        vertical-align: middle;\n",
       "    }\n",
       "\n",
       "    .dataframe tbody tr th {\n",
       "        vertical-align: top;\n",
       "    }\n",
       "\n",
       "    .dataframe thead th {\n",
       "        text-align: right;\n",
       "    }\n",
       "</style>\n",
       "<table border=\"1\" class=\"dataframe\">\n",
       "  <thead>\n",
       "    <tr style=\"text-align: right;\">\n",
       "      <th></th>\n",
       "    </tr>\n",
       "  </thead>\n",
       "  <tbody>\n",
       "  </tbody>\n",
       "</table>\n",
       "</div>"
      ],
      "text/plain": [
       "Empty DataFrame\n",
       "Columns: []\n",
       "Index: []"
      ]
     },
     "execution_count": 9,
     "metadata": {},
     "output_type": "execute_result"
    }
   ],
   "source": [
    "%%bigquery\n",
    "CREATE SCHEMA IF NOT EXISTS `statmike-mlops-349915.bqml_model_monitoring`\n",
    "    OPTIONS(\n",
    "        location = 'US'\n",
    "    )"
   ]
  },
  {
   "cell_type": "markdown",
   "metadata": {},
   "source": [
    "### Prepare The Source Data\n",
    "\n",
    "Make a copy of the table source in the new BigQuery dataset with fixes applied to the data quality issue identified for the `sex` column with values of `.`.\n",
    "\n",
    "> Note: A copy is being made in this case because the source project is `bigquery-public` which is not editable."
   ]
  },
  {
   "cell_type": "code",
   "execution_count": 10,
   "metadata": {
    "tags": []
   },
   "outputs": [
    {
     "data": {
      "application/vnd.jupyter.widget-view+json": {
       "model_id": "f1b2071c83294506a51e15e581610630",
       "version_major": 2,
       "version_minor": 0
      },
      "text/plain": [
       "Query is running:   0%|          |"
      ]
     },
     "metadata": {},
     "output_type": "display_data"
    },
    {
     "data": {
      "text/html": [
       "<div>\n",
       "<style scoped>\n",
       "    .dataframe tbody tr th:only-of-type {\n",
       "        vertical-align: middle;\n",
       "    }\n",
       "\n",
       "    .dataframe tbody tr th {\n",
       "        vertical-align: top;\n",
       "    }\n",
       "\n",
       "    .dataframe thead th {\n",
       "        text-align: right;\n",
       "    }\n",
       "</style>\n",
       "<table border=\"1\" class=\"dataframe\">\n",
       "  <thead>\n",
       "    <tr style=\"text-align: right;\">\n",
       "      <th></th>\n",
       "    </tr>\n",
       "  </thead>\n",
       "  <tbody>\n",
       "  </tbody>\n",
       "</table>\n",
       "</div>"
      ],
      "text/plain": [
       "Empty DataFrame\n",
       "Columns: []\n",
       "Index: []"
      ]
     },
     "execution_count": 10,
     "metadata": {},
     "output_type": "execute_result"
    }
   ],
   "source": [
    "%%bigquery\n",
    "CREATE OR REPLACE TABLE `statmike-mlops-349915.bqml_model_monitoring.training` AS\n",
    "    SELECT * EXCEPT(sex),\n",
    "        CASE WHEN sex = '.' THEN NULL ELSE sex END AS sex\n",
    "    FROM `bigquery-public-data.ml_datasets.penguins`"
   ]
  },
  {
   "cell_type": "markdown",
   "metadata": {},
   "source": [
    "### Split The Data\n",
    "\n",
    "Depending on the ML technique, it may be desired to split the data into partitions for training, evaluation, and testing (in this case monitoring examples). \n",
    "\n",
    "The following cell creates a version with a new column column named `splits` with values [`TRAIN`, `EVAL`, `TEST`].  The data is first grouped (stratified) by the values of `species` and `island` to preserve any imbalance across the groups. "
   ]
  },
  {
   "cell_type": "code",
   "execution_count": 11,
   "metadata": {
    "tags": []
   },
   "outputs": [
    {
     "data": {
      "application/vnd.jupyter.widget-view+json": {
       "model_id": "1fa02feb8950447dbf75d11373927459",
       "version_major": 2,
       "version_minor": 0
      },
      "text/plain": [
       "Query is running:   0%|          |"
      ]
     },
     "metadata": {},
     "output_type": "display_data"
    },
    {
     "data": {
      "text/html": [
       "<div>\n",
       "<style scoped>\n",
       "    .dataframe tbody tr th:only-of-type {\n",
       "        vertical-align: middle;\n",
       "    }\n",
       "\n",
       "    .dataframe tbody tr th {\n",
       "        vertical-align: top;\n",
       "    }\n",
       "\n",
       "    .dataframe thead th {\n",
       "        text-align: right;\n",
       "    }\n",
       "</style>\n",
       "<table border=\"1\" class=\"dataframe\">\n",
       "  <thead>\n",
       "    <tr style=\"text-align: right;\">\n",
       "      <th></th>\n",
       "    </tr>\n",
       "  </thead>\n",
       "  <tbody>\n",
       "  </tbody>\n",
       "</table>\n",
       "</div>"
      ],
      "text/plain": [
       "Empty DataFrame\n",
       "Columns: []\n",
       "Index: []"
      ]
     },
     "execution_count": 11,
     "metadata": {},
     "output_type": "execute_result"
    }
   ],
   "source": [
    "%%bigquery\n",
    "CREATE OR REPLACE TABLE `statmike-mlops-349915.bqml_model_monitoring.training_split` AS\n",
    "    WITH\n",
    "        # randomized numbering within groups (species, island)\n",
    "        RANDOM AS (\n",
    "            SELECT *,\n",
    "                ROW_NUMBER() OVER (PARTITION BY species, island ORDER BY RAND()) AS sequence\n",
    "            FROM `statmike-mlops-349915.bqml_model_monitoring.training`\n",
    "        ),\n",
    "        # get group sizes\n",
    "        GROUP_SIZES AS (\n",
    "            SELECT species, island, COUNT(*) AS count\n",
    "            FROM `statmike-mlops-349915.bqml_model_monitoring.training`\n",
    "            GROUP BY species, island\n",
    "        )\n",
    "    SELECT\n",
    "        * EXCEPT(sequence, count),\n",
    "        CASE\n",
    "            WHEN sequence <= CEIL(.2 * count) AND species is not Null THEN 'TEST'\n",
    "            WHEN sequence <= CEIL(.3 * count) THEN 'EVAL'\n",
    "            ELSE 'TRAIN'\n",
    "        END AS splits\n",
    "    FROM RANDOM\n",
    "    LEFT OUTER JOIN GROUP_SIZES USING(species, island)"
   ]
  },
  {
   "cell_type": "markdown",
   "metadata": {},
   "source": [
    "Review the data by `splits`:"
   ]
  },
  {
   "cell_type": "code",
   "execution_count": 12,
   "metadata": {
    "tags": []
   },
   "outputs": [
    {
     "data": {
      "application/vnd.jupyter.widget-view+json": {
       "model_id": "4da715a08048410e8e6f727e019d6196",
       "version_major": 2,
       "version_minor": 0
      },
      "text/plain": [
       "Query is running:   0%|          |"
      ]
     },
     "metadata": {},
     "output_type": "display_data"
    },
    {
     "data": {
      "application/vnd.jupyter.widget-view+json": {
       "model_id": "39edda83b5a2448d94385bdae22909c3",
       "version_major": 2,
       "version_minor": 0
      },
      "text/plain": [
       "Downloading:   0%|          |"
      ]
     },
     "metadata": {},
     "output_type": "display_data"
    },
    {
     "data": {
      "text/html": [
       "<div>\n",
       "<style scoped>\n",
       "    .dataframe tbody tr th:only-of-type {\n",
       "        vertical-align: middle;\n",
       "    }\n",
       "\n",
       "    .dataframe tbody tr th {\n",
       "        vertical-align: top;\n",
       "    }\n",
       "\n",
       "    .dataframe thead th {\n",
       "        text-align: right;\n",
       "    }\n",
       "</style>\n",
       "<table border=\"1\" class=\"dataframe\">\n",
       "  <thead>\n",
       "    <tr style=\"text-align: right;\">\n",
       "      <th></th>\n",
       "      <th>species</th>\n",
       "      <th>island</th>\n",
       "      <th>count</th>\n",
       "      <th>TRAIN_PCT</th>\n",
       "      <th>EVAL_PCT</th>\n",
       "      <th>TEST_PCT</th>\n",
       "    </tr>\n",
       "  </thead>\n",
       "  <tbody>\n",
       "    <tr>\n",
       "      <th>0</th>\n",
       "      <td>Adelie Penguin (Pygoscelis adeliae)</td>\n",
       "      <td>Dream</td>\n",
       "      <td>56</td>\n",
       "      <td>69.642857</td>\n",
       "      <td>8.928571</td>\n",
       "      <td>21.428571</td>\n",
       "    </tr>\n",
       "    <tr>\n",
       "      <th>1</th>\n",
       "      <td>Chinstrap penguin (Pygoscelis antarctica)</td>\n",
       "      <td>Dream</td>\n",
       "      <td>68</td>\n",
       "      <td>69.117647</td>\n",
       "      <td>10.294118</td>\n",
       "      <td>20.588235</td>\n",
       "    </tr>\n",
       "    <tr>\n",
       "      <th>2</th>\n",
       "      <td>Gentoo penguin (Pygoscelis papua)</td>\n",
       "      <td>Biscoe</td>\n",
       "      <td>124</td>\n",
       "      <td>69.354839</td>\n",
       "      <td>10.483871</td>\n",
       "      <td>20.161290</td>\n",
       "    </tr>\n",
       "    <tr>\n",
       "      <th>3</th>\n",
       "      <td>Adelie Penguin (Pygoscelis adeliae)</td>\n",
       "      <td>Biscoe</td>\n",
       "      <td>44</td>\n",
       "      <td>68.181818</td>\n",
       "      <td>11.363636</td>\n",
       "      <td>20.454545</td>\n",
       "    </tr>\n",
       "    <tr>\n",
       "      <th>4</th>\n",
       "      <td>Adelie Penguin (Pygoscelis adeliae)</td>\n",
       "      <td>Torgersen</td>\n",
       "      <td>52</td>\n",
       "      <td>69.230769</td>\n",
       "      <td>9.615385</td>\n",
       "      <td>21.153846</td>\n",
       "    </tr>\n",
       "  </tbody>\n",
       "</table>\n",
       "</div>"
      ],
      "text/plain": [
       "                                     species     island  count  TRAIN_PCT  \\\n",
       "0        Adelie Penguin (Pygoscelis adeliae)      Dream     56  69.642857   \n",
       "1  Chinstrap penguin (Pygoscelis antarctica)      Dream     68  69.117647   \n",
       "2          Gentoo penguin (Pygoscelis papua)     Biscoe    124  69.354839   \n",
       "3        Adelie Penguin (Pygoscelis adeliae)     Biscoe     44  68.181818   \n",
       "4        Adelie Penguin (Pygoscelis adeliae)  Torgersen     52  69.230769   \n",
       "\n",
       "    EVAL_PCT   TEST_PCT  \n",
       "0   8.928571  21.428571  \n",
       "1  10.294118  20.588235  \n",
       "2  10.483871  20.161290  \n",
       "3  11.363636  20.454545  \n",
       "4   9.615385  21.153846  "
      ]
     },
     "execution_count": 12,
     "metadata": {},
     "output_type": "execute_result"
    }
   ],
   "source": [
    "%%bigquery\n",
    "SELECT species, island,\n",
    "    COUNT(*) as count,\n",
    "    100 * COUNTIF(splits = 'TRAIN')/COUNT(*) AS TRAIN_PCT,\n",
    "    100 * COUNTIF(splits = 'EVAL')/COUNT(*) AS EVAL_PCT,\n",
    "    100 * COUNTIF(splits = 'TEST')/COUNT(*) AS TEST_PCT\n",
    "FROM `statmike-mlops-349915.bqml_model_monitoring.training_split`\n",
    "GROUP BY species, island"
   ]
  },
  {
   "cell_type": "markdown",
   "metadata": {},
   "source": [
    "### Review the Training Split With: `ML.DESCRIBE_DATA`\n",
    "\n",
    "Use [`ML.DESCRIBE_DATA`](https://cloud.google.com/bigquery/docs/reference/standard-sql/bigqueryml-syntax-describe-data) to first review the training split of the source data.  This time, some of the additional parameters of the function are useful:\n",
    "- `top_k`: get the top 3 most frequent categories for string columns (default = 1)\n",
    "- `num_quantiles`: get 4 quantiles for numerical columns (default = 2)"
   ]
  },
  {
   "cell_type": "code",
   "execution_count": 13,
   "metadata": {
    "tags": []
   },
   "outputs": [
    {
     "data": {
      "application/vnd.jupyter.widget-view+json": {
       "model_id": "44830d945952490f9d70e9dab01aea70",
       "version_major": 2,
       "version_minor": 0
      },
      "text/plain": [
       "Query is running:   0%|          |"
      ]
     },
     "metadata": {},
     "output_type": "display_data"
    },
    {
     "data": {
      "application/vnd.jupyter.widget-view+json": {
       "model_id": "d001c28790094e91acea3ce6cec72d1f",
       "version_major": 2,
       "version_minor": 0
      },
      "text/plain": [
       "Downloading:   0%|          |"
      ]
     },
     "metadata": {},
     "output_type": "display_data"
    },
    {
     "data": {
      "text/html": [
       "<div>\n",
       "<style scoped>\n",
       "    .dataframe tbody tr th:only-of-type {\n",
       "        vertical-align: middle;\n",
       "    }\n",
       "\n",
       "    .dataframe tbody tr th {\n",
       "        vertical-align: top;\n",
       "    }\n",
       "\n",
       "    .dataframe thead th {\n",
       "        text-align: right;\n",
       "    }\n",
       "</style>\n",
       "<table border=\"1\" class=\"dataframe\">\n",
       "  <thead>\n",
       "    <tr style=\"text-align: right;\">\n",
       "      <th></th>\n",
       "      <th>name</th>\n",
       "      <th>num_rows</th>\n",
       "      <th>num_nulls</th>\n",
       "      <th>num_zeros</th>\n",
       "      <th>min</th>\n",
       "      <th>max</th>\n",
       "      <th>mean</th>\n",
       "      <th>stddev</th>\n",
       "      <th>median</th>\n",
       "      <th>quantiles</th>\n",
       "      <th>unique</th>\n",
       "      <th>avg_string_length</th>\n",
       "      <th>num_values</th>\n",
       "      <th>top_values</th>\n",
       "      <th>min_array_length</th>\n",
       "      <th>max_array_length</th>\n",
       "      <th>avg_array_length</th>\n",
       "      <th>total_array_length</th>\n",
       "      <th>array_length_quantiles</th>\n",
       "      <th>dimension</th>\n",
       "    </tr>\n",
       "  </thead>\n",
       "  <tbody>\n",
       "    <tr>\n",
       "      <th>0</th>\n",
       "      <td>body_mass_g</td>\n",
       "      <td>238</td>\n",
       "      <td>2</td>\n",
       "      <td>0</td>\n",
       "      <td>2700</td>\n",
       "      <td>6300</td>\n",
       "      <td>4208.792373</td>\n",
       "      <td>789.295118</td>\n",
       "      <td>4050.0</td>\n",
       "      <td>[2700.0, 3550.0, 4050.0, 4750.0, 6300.0]</td>\n",
       "      <td>&lt;NA&gt;</td>\n",
       "      <td>NaN</td>\n",
       "      <td>236</td>\n",
       "      <td>[]</td>\n",
       "      <td>&lt;NA&gt;</td>\n",
       "      <td>&lt;NA&gt;</td>\n",
       "      <td>NaN</td>\n",
       "      <td>&lt;NA&gt;</td>\n",
       "      <td>[]</td>\n",
       "      <td>&lt;NA&gt;</td>\n",
       "    </tr>\n",
       "    <tr>\n",
       "      <th>1</th>\n",
       "      <td>culmen_depth_mm</td>\n",
       "      <td>238</td>\n",
       "      <td>2</td>\n",
       "      <td>0</td>\n",
       "      <td>13.1</td>\n",
       "      <td>21.2</td>\n",
       "      <td>17.174153</td>\n",
       "      <td>2.004647</td>\n",
       "      <td>17.3</td>\n",
       "      <td>[13.1, 15.6, 17.3, 18.7, 21.2]</td>\n",
       "      <td>&lt;NA&gt;</td>\n",
       "      <td>NaN</td>\n",
       "      <td>236</td>\n",
       "      <td>[]</td>\n",
       "      <td>&lt;NA&gt;</td>\n",
       "      <td>&lt;NA&gt;</td>\n",
       "      <td>NaN</td>\n",
       "      <td>&lt;NA&gt;</td>\n",
       "      <td>[]</td>\n",
       "      <td>&lt;NA&gt;</td>\n",
       "    </tr>\n",
       "    <tr>\n",
       "      <th>2</th>\n",
       "      <td>culmen_length_mm</td>\n",
       "      <td>238</td>\n",
       "      <td>2</td>\n",
       "      <td>0</td>\n",
       "      <td>34</td>\n",
       "      <td>59.6</td>\n",
       "      <td>43.861017</td>\n",
       "      <td>5.284163</td>\n",
       "      <td>44.0</td>\n",
       "      <td>[34.0, 39.2, 44.0, 47.8, 59.6]</td>\n",
       "      <td>&lt;NA&gt;</td>\n",
       "      <td>NaN</td>\n",
       "      <td>236</td>\n",
       "      <td>[]</td>\n",
       "      <td>&lt;NA&gt;</td>\n",
       "      <td>&lt;NA&gt;</td>\n",
       "      <td>NaN</td>\n",
       "      <td>&lt;NA&gt;</td>\n",
       "      <td>[]</td>\n",
       "      <td>&lt;NA&gt;</td>\n",
       "    </tr>\n",
       "    <tr>\n",
       "      <th>3</th>\n",
       "      <td>flipper_length_mm</td>\n",
       "      <td>238</td>\n",
       "      <td>2</td>\n",
       "      <td>0</td>\n",
       "      <td>172</td>\n",
       "      <td>230</td>\n",
       "      <td>201.364407</td>\n",
       "      <td>13.799819</td>\n",
       "      <td>198.0</td>\n",
       "      <td>[172.0, 190.0, 198.0, 213.0, 230.0]</td>\n",
       "      <td>&lt;NA&gt;</td>\n",
       "      <td>NaN</td>\n",
       "      <td>236</td>\n",
       "      <td>[]</td>\n",
       "      <td>&lt;NA&gt;</td>\n",
       "      <td>&lt;NA&gt;</td>\n",
       "      <td>NaN</td>\n",
       "      <td>&lt;NA&gt;</td>\n",
       "      <td>[]</td>\n",
       "      <td>&lt;NA&gt;</td>\n",
       "    </tr>\n",
       "    <tr>\n",
       "      <th>4</th>\n",
       "      <td>island</td>\n",
       "      <td>238</td>\n",
       "      <td>0</td>\n",
       "      <td>&lt;NA&gt;</td>\n",
       "      <td>Biscoe</td>\n",
       "      <td>Torgersen</td>\n",
       "      <td>NaN</td>\n",
       "      <td>NaN</td>\n",
       "      <td>NaN</td>\n",
       "      <td>[]</td>\n",
       "      <td>3</td>\n",
       "      <td>6.092437</td>\n",
       "      <td>238</td>\n",
       "      <td>[{'value': 'Biscoe', 'count': 116}, {'value': ...</td>\n",
       "      <td>&lt;NA&gt;</td>\n",
       "      <td>&lt;NA&gt;</td>\n",
       "      <td>NaN</td>\n",
       "      <td>&lt;NA&gt;</td>\n",
       "      <td>[]</td>\n",
       "      <td>&lt;NA&gt;</td>\n",
       "    </tr>\n",
       "    <tr>\n",
       "      <th>5</th>\n",
       "      <td>sex</td>\n",
       "      <td>238</td>\n",
       "      <td>9</td>\n",
       "      <td>&lt;NA&gt;</td>\n",
       "      <td>FEMALE</td>\n",
       "      <td>MALE</td>\n",
       "      <td>NaN</td>\n",
       "      <td>NaN</td>\n",
       "      <td>NaN</td>\n",
       "      <td>[]</td>\n",
       "      <td>2</td>\n",
       "      <td>4.986900</td>\n",
       "      <td>229</td>\n",
       "      <td>[{'value': 'MALE', 'count': 116}, {'value': 'F...</td>\n",
       "      <td>&lt;NA&gt;</td>\n",
       "      <td>&lt;NA&gt;</td>\n",
       "      <td>NaN</td>\n",
       "      <td>&lt;NA&gt;</td>\n",
       "      <td>[]</td>\n",
       "      <td>&lt;NA&gt;</td>\n",
       "    </tr>\n",
       "    <tr>\n",
       "      <th>6</th>\n",
       "      <td>species</td>\n",
       "      <td>238</td>\n",
       "      <td>0</td>\n",
       "      <td>&lt;NA&gt;</td>\n",
       "      <td>Adelie Penguin (Pygoscelis adeliae)</td>\n",
       "      <td>Gentoo penguin (Pygoscelis papua)</td>\n",
       "      <td>NaN</td>\n",
       "      <td>NaN</td>\n",
       "      <td>NaN</td>\n",
       "      <td>[]</td>\n",
       "      <td>3</td>\n",
       "      <td>35.462185</td>\n",
       "      <td>238</td>\n",
       "      <td>[{'value': 'Adelie Penguin (Pygoscelis adeliae...</td>\n",
       "      <td>&lt;NA&gt;</td>\n",
       "      <td>&lt;NA&gt;</td>\n",
       "      <td>NaN</td>\n",
       "      <td>&lt;NA&gt;</td>\n",
       "      <td>[]</td>\n",
       "      <td>&lt;NA&gt;</td>\n",
       "    </tr>\n",
       "  </tbody>\n",
       "</table>\n",
       "</div>"
      ],
      "text/plain": [
       "                name  num_rows  num_nulls  num_zeros  \\\n",
       "0        body_mass_g       238          2          0   \n",
       "1    culmen_depth_mm       238          2          0   \n",
       "2   culmen_length_mm       238          2          0   \n",
       "3  flipper_length_mm       238          2          0   \n",
       "4             island       238          0       <NA>   \n",
       "5                sex       238          9       <NA>   \n",
       "6            species       238          0       <NA>   \n",
       "\n",
       "                                   min                                max  \\\n",
       "0                                 2700                               6300   \n",
       "1                                 13.1                               21.2   \n",
       "2                                   34                               59.6   \n",
       "3                                  172                                230   \n",
       "4                               Biscoe                          Torgersen   \n",
       "5                               FEMALE                               MALE   \n",
       "6  Adelie Penguin (Pygoscelis adeliae)  Gentoo penguin (Pygoscelis papua)   \n",
       "\n",
       "          mean      stddev  median                                 quantiles  \\\n",
       "0  4208.792373  789.295118  4050.0  [2700.0, 3550.0, 4050.0, 4750.0, 6300.0]   \n",
       "1    17.174153    2.004647    17.3            [13.1, 15.6, 17.3, 18.7, 21.2]   \n",
       "2    43.861017    5.284163    44.0            [34.0, 39.2, 44.0, 47.8, 59.6]   \n",
       "3   201.364407   13.799819   198.0       [172.0, 190.0, 198.0, 213.0, 230.0]   \n",
       "4          NaN         NaN     NaN                                        []   \n",
       "5          NaN         NaN     NaN                                        []   \n",
       "6          NaN         NaN     NaN                                        []   \n",
       "\n",
       "   unique  avg_string_length  num_values  \\\n",
       "0    <NA>                NaN         236   \n",
       "1    <NA>                NaN         236   \n",
       "2    <NA>                NaN         236   \n",
       "3    <NA>                NaN         236   \n",
       "4       3           6.092437         238   \n",
       "5       2           4.986900         229   \n",
       "6       3          35.462185         238   \n",
       "\n",
       "                                          top_values  min_array_length  \\\n",
       "0                                                 []              <NA>   \n",
       "1                                                 []              <NA>   \n",
       "2                                                 []              <NA>   \n",
       "3                                                 []              <NA>   \n",
       "4  [{'value': 'Biscoe', 'count': 116}, {'value': ...              <NA>   \n",
       "5  [{'value': 'MALE', 'count': 116}, {'value': 'F...              <NA>   \n",
       "6  [{'value': 'Adelie Penguin (Pygoscelis adeliae...              <NA>   \n",
       "\n",
       "   max_array_length  avg_array_length  total_array_length  \\\n",
       "0              <NA>               NaN                <NA>   \n",
       "1              <NA>               NaN                <NA>   \n",
       "2              <NA>               NaN                <NA>   \n",
       "3              <NA>               NaN                <NA>   \n",
       "4              <NA>               NaN                <NA>   \n",
       "5              <NA>               NaN                <NA>   \n",
       "6              <NA>               NaN                <NA>   \n",
       "\n",
       "  array_length_quantiles  dimension  \n",
       "0                     []       <NA>  \n",
       "1                     []       <NA>  \n",
       "2                     []       <NA>  \n",
       "3                     []       <NA>  \n",
       "4                     []       <NA>  \n",
       "5                     []       <NA>  \n",
       "6                     []       <NA>  "
      ]
     },
     "execution_count": 13,
     "metadata": {},
     "output_type": "execute_result"
    }
   ],
   "source": [
    "%%bigquery\n",
    "SELECT *\n",
    "FROM ML.DESCRIBE_DATA(\n",
    "    (\n",
    "        SELECT * EXCEPT(splits)\n",
    "        FROM `statmike-mlops-349915.bqml_model_monitoring.training_split`\n",
    "        WHERE splits = 'TRAIN'\n",
    "    ),\n",
    "    STRUCT(3 AS top_k, 4 AS num_quantiles)\n",
    ")"
   ]
  },
  {
   "cell_type": "markdown",
   "metadata": {
    "tags": []
   },
   "source": [
    "---\n",
    "## Model Training\n",
    "\n",
    "Create a model trained to classify `species` for the traning records.  Here, directly in BigQuery, the [`CREATE MODEL` statement for random forest](https://cloud.google.com/bigquery/docs/reference/standard-sql/bigqueryml-syntax-create-random-forest) is used.  This uses the `TRANSFORM` clause within the model to embed user specified transfomations within the model for use during serving and model monitoring which will both be show later in this introduction.\n",
    "\n",
    "From reviewing the training data above, the following transformations will be tried:\n",
    "- Apply [`ML.ROBUST_SCALER`](https://cloud.google.com/bigquery/docs/reference/standard-sql/bigqueryml-syntax-robust-scaler) to `body_mass_g`\n",
    "- Apply [`ML.STANDARD_SCALER`](https://cloud.google.com/bigquery/docs/reference/standard-sql/bigqueryml-syntax-standard-scaler) to `culmen_depth_mm` and `culmen_length_mm`\n",
    "- Apply [`ML.QUANTILE_BUCKATIZE`](https://cloud.google.com/bigquery/docs/reference/standard-sql/bigqueryml-syntax-quantile-bucketize) to `flipper_length_mm`\n",
    "- Apply [`ML.IMPUTER`](https://cloud.google.com/bigquery/docs/reference/standard-sql/bigqueryml-syntax-imputer) to `island`, and `sex`"
   ]
  },
  {
   "cell_type": "code",
   "execution_count": 14,
   "metadata": {
    "tags": []
   },
   "outputs": [
    {
     "data": {
      "application/vnd.jupyter.widget-view+json": {
       "model_id": "218b5d65570f4353a0d163320e34b959",
       "version_major": 2,
       "version_minor": 0
      },
      "text/plain": [
       "Query is running:   0%|          |"
      ]
     },
     "metadata": {},
     "output_type": "display_data"
    },
    {
     "data": {
      "text/html": [
       "<div>\n",
       "<style scoped>\n",
       "    .dataframe tbody tr th:only-of-type {\n",
       "        vertical-align: middle;\n",
       "    }\n",
       "\n",
       "    .dataframe tbody tr th {\n",
       "        vertical-align: top;\n",
       "    }\n",
       "\n",
       "    .dataframe thead th {\n",
       "        text-align: right;\n",
       "    }\n",
       "</style>\n",
       "<table border=\"1\" class=\"dataframe\">\n",
       "  <thead>\n",
       "    <tr style=\"text-align: right;\">\n",
       "      <th></th>\n",
       "    </tr>\n",
       "  </thead>\n",
       "  <tbody>\n",
       "  </tbody>\n",
       "</table>\n",
       "</div>"
      ],
      "text/plain": [
       "Empty DataFrame\n",
       "Columns: []\n",
       "Index: []"
      ]
     },
     "execution_count": 14,
     "metadata": {},
     "output_type": "execute_result"
    }
   ],
   "source": [
    "%%bigquery\n",
    "CREATE OR REPLACE MODEL `statmike-mlops-349915.bqml_model_monitoring.classify_species_rf`\n",
    "    TRANSFORM(\n",
    "        ML.ROBUST_SCALER(body_mass_g) OVER() AS body_mass_g,\n",
    "        ML.STANDARD_SCALER(culmen_length_mm) OVER() AS culmen_length_mm,\n",
    "        ML.STANDARD_SCALER(culmen_depth_mm) OVER() AS culmen_depth_mm,\n",
    "        ML.QUANTILE_BUCKETIZE(flipper_length_mm, 3) OVER() AS flipper_length_mm,\n",
    "        ML.IMPUTER(sex, 'most_frequent') OVER() AS sex,\n",
    "        ML.IMPUTER(island, 'most_frequent') OVER() AS island,\n",
    "        species, split\n",
    "    )\n",
    "    OPTIONS(\n",
    "        MODEL_TYPE = 'RANDOM_FOREST_CLASSIFIER',\n",
    "        INPUT_LABEL_COLS = ['species'],\n",
    "        \n",
    "        # data specifics\n",
    "        DATA_SPLIT_METHOD = 'CUSTOM',\n",
    "        DATA_SPLIT_COL = 'split',\n",
    "        \n",
    "        # model specifics\n",
    "        AUTO_CLASS_WEIGHTS = FALSE,\n",
    "        NUM_PARALLEL_TREE= 150,\n",
    "        TREE_METHOD = 'HIST',\n",
    "        SUBSAMPLE = 0.85,\n",
    "        COLSAMPLE_BYTREE = 0.9,\n",
    "        ENABLE_GLOBAL_EXPLAIN = TRUE,\n",
    "        \n",
    "        # register model in Vertex AI For Online Serving\n",
    "        MODEL_REGISTRY = 'VERTEX_AI'\n",
    "    )\n",
    "AS\n",
    "    SELECT * EXCEPT(splits),\n",
    "        CASE WHEN splits = 'TRAIN' THEN FALSE\n",
    "        ELSE TRUE END AS split\n",
    "    FROM `statmike-mlops-349915.bqml_model_monitoring.training_split`\n",
    "    WHERE splits != 'TEST'"
   ]
  },
  {
   "cell_type": "code",
   "execution_count": 15,
   "metadata": {
    "tags": []
   },
   "outputs": [
    {
     "data": {
      "application/vnd.jupyter.widget-view+json": {
       "model_id": "9362a5358cbd485d9f24fb4dd5476863",
       "version_major": 2,
       "version_minor": 0
      },
      "text/plain": [
       "Query is running:   0%|          |"
      ]
     },
     "metadata": {},
     "output_type": "display_data"
    },
    {
     "data": {
      "application/vnd.jupyter.widget-view+json": {
       "model_id": "7d82fc8253bf4cd7a0983162acd66187",
       "version_major": 2,
       "version_minor": 0
      },
      "text/plain": [
       "Downloading:   0%|          |"
      ]
     },
     "metadata": {},
     "output_type": "display_data"
    },
    {
     "data": {
      "text/html": [
       "<div>\n",
       "<style scoped>\n",
       "    .dataframe tbody tr th:only-of-type {\n",
       "        vertical-align: middle;\n",
       "    }\n",
       "\n",
       "    .dataframe tbody tr th {\n",
       "        vertical-align: top;\n",
       "    }\n",
       "\n",
       "    .dataframe thead th {\n",
       "        text-align: right;\n",
       "    }\n",
       "</style>\n",
       "<table border=\"1\" class=\"dataframe\">\n",
       "  <thead>\n",
       "    <tr style=\"text-align: right;\">\n",
       "      <th></th>\n",
       "      <th>training_run</th>\n",
       "      <th>iteration</th>\n",
       "      <th>loss</th>\n",
       "      <th>eval_loss</th>\n",
       "      <th>learning_rate</th>\n",
       "      <th>duration_ms</th>\n",
       "    </tr>\n",
       "  </thead>\n",
       "  <tbody>\n",
       "    <tr>\n",
       "      <th>0</th>\n",
       "      <td>0</td>\n",
       "      <td>1</td>\n",
       "      <td>0.259854</td>\n",
       "      <td>0.28977</td>\n",
       "      <td>1.0</td>\n",
       "      <td>73378</td>\n",
       "    </tr>\n",
       "  </tbody>\n",
       "</table>\n",
       "</div>"
      ],
      "text/plain": [
       "   training_run  iteration      loss  eval_loss  learning_rate  duration_ms\n",
       "0             0          1  0.259854    0.28977            1.0        73378"
      ]
     },
     "execution_count": 15,
     "metadata": {},
     "output_type": "execute_result"
    }
   ],
   "source": [
    "%%bigquery\n",
    "SELECT *\n",
    "FROM ML.TRAINING_INFO(MODEL `statmike-mlops-349915.bqml_model_monitoring.classify_species_rf`)\n",
    "ORDER BY iteration"
   ]
  },
  {
   "cell_type": "markdown",
   "metadata": {},
   "source": [
    "### Evaluation With `ML.EVALUATE`\n",
    "\n",
    "BigQuery ML models can be directly evaluated with the [`ML.EVALUATE` function](https://cloud.google.com/bigquery/docs/reference/standard-sql/bigqueryml-syntax-evaluate).  The evaluation of the model on evaluation data specified during training can be done by just specifying the model.  To evaluate the model on new data, like a `TEST` split or even the `TRAIN` split, the records can be specified with a query statement as seen in the following evaluations.\n",
    "\n",
    "> An evaluation split with 10% of records was created above.  This set would normally be used for tuning model hyperparameters, like `BATCH_SIZE`, `DROPOUT`, `HIDDEN_UNITS`, `LEARN_RATE`, and/or `OPTIMIZER` in the case of the DNN used here.  This could also be done directly in the BigQuery `CREATE MODEL` statement with [hyperparameter tuning](https://cloud.google.com/bigquery/docs/hp-tuning-overview)."
   ]
  },
  {
   "cell_type": "code",
   "execution_count": 16,
   "metadata": {
    "tags": []
   },
   "outputs": [
    {
     "data": {
      "application/vnd.jupyter.widget-view+json": {
       "model_id": "571cddd9aabb49c580571f54022be25e",
       "version_major": 2,
       "version_minor": 0
      },
      "text/plain": [
       "Query is running:   0%|          |"
      ]
     },
     "metadata": {},
     "output_type": "display_data"
    },
    {
     "data": {
      "application/vnd.jupyter.widget-view+json": {
       "model_id": "50c1bdb7755d4d58acf327e168f5a76b",
       "version_major": 2,
       "version_minor": 0
      },
      "text/plain": [
       "Downloading:   0%|          |"
      ]
     },
     "metadata": {},
     "output_type": "display_data"
    },
    {
     "data": {
      "text/html": [
       "<div>\n",
       "<style scoped>\n",
       "    .dataframe tbody tr th:only-of-type {\n",
       "        vertical-align: middle;\n",
       "    }\n",
       "\n",
       "    .dataframe tbody tr th {\n",
       "        vertical-align: top;\n",
       "    }\n",
       "\n",
       "    .dataframe thead th {\n",
       "        text-align: right;\n",
       "    }\n",
       "</style>\n",
       "<table border=\"1\" class=\"dataframe\">\n",
       "  <thead>\n",
       "    <tr style=\"text-align: right;\">\n",
       "      <th></th>\n",
       "      <th>precision</th>\n",
       "      <th>recall</th>\n",
       "      <th>accuracy</th>\n",
       "      <th>f1_score</th>\n",
       "      <th>log_loss</th>\n",
       "      <th>roc_auc</th>\n",
       "    </tr>\n",
       "  </thead>\n",
       "  <tbody>\n",
       "    <tr>\n",
       "      <th>0</th>\n",
       "      <td>1.0</td>\n",
       "      <td>1.0</td>\n",
       "      <td>1.0</td>\n",
       "      <td>1.0</td>\n",
       "      <td>0.268816</td>\n",
       "      <td>1.0</td>\n",
       "    </tr>\n",
       "  </tbody>\n",
       "</table>\n",
       "</div>"
      ],
      "text/plain": [
       "   precision  recall  accuracy  f1_score  log_loss  roc_auc\n",
       "0        1.0     1.0       1.0       1.0  0.268816      1.0"
      ]
     },
     "execution_count": 16,
     "metadata": {},
     "output_type": "execute_result"
    }
   ],
   "source": [
    "%%bigquery\n",
    "SELECT *\n",
    "FROM ML.EVALUATE (\n",
    "    MODEL `statmike-mlops-349915.bqml_model_monitoring.classify_species_rf`\n",
    ")"
   ]
  },
  {
   "cell_type": "markdown",
   "metadata": {},
   "source": [
    "### Evaluate The Model: Training Data Split (`TRAIN`)\n",
    "\n",
    "Evaluating the model on the training data is good for setting a baseline for the likely best possible performance of the model.  "
   ]
  },
  {
   "cell_type": "code",
   "execution_count": 17,
   "metadata": {
    "tags": []
   },
   "outputs": [
    {
     "data": {
      "application/vnd.jupyter.widget-view+json": {
       "model_id": "2b903f26d2b641ef9df91962957980d9",
       "version_major": 2,
       "version_minor": 0
      },
      "text/plain": [
       "Query is running:   0%|          |"
      ]
     },
     "metadata": {},
     "output_type": "display_data"
    },
    {
     "data": {
      "application/vnd.jupyter.widget-view+json": {
       "model_id": "f85a19e04db2404f8d72bc194199d1f2",
       "version_major": 2,
       "version_minor": 0
      },
      "text/plain": [
       "Downloading:   0%|          |"
      ]
     },
     "metadata": {},
     "output_type": "display_data"
    },
    {
     "data": {
      "text/html": [
       "<div>\n",
       "<style scoped>\n",
       "    .dataframe tbody tr th:only-of-type {\n",
       "        vertical-align: middle;\n",
       "    }\n",
       "\n",
       "    .dataframe tbody tr th {\n",
       "        vertical-align: top;\n",
       "    }\n",
       "\n",
       "    .dataframe thead th {\n",
       "        text-align: right;\n",
       "    }\n",
       "</style>\n",
       "<table border=\"1\" class=\"dataframe\">\n",
       "  <thead>\n",
       "    <tr style=\"text-align: right;\">\n",
       "      <th></th>\n",
       "      <th>precision</th>\n",
       "      <th>recall</th>\n",
       "      <th>accuracy</th>\n",
       "      <th>f1_score</th>\n",
       "      <th>log_loss</th>\n",
       "      <th>roc_auc</th>\n",
       "    </tr>\n",
       "  </thead>\n",
       "  <tbody>\n",
       "    <tr>\n",
       "      <th>0</th>\n",
       "      <td>0.993769</td>\n",
       "      <td>0.989032</td>\n",
       "      <td>0.991597</td>\n",
       "      <td>0.991322</td>\n",
       "      <td>0.274686</td>\n",
       "      <td>1.0</td>\n",
       "    </tr>\n",
       "  </tbody>\n",
       "</table>\n",
       "</div>"
      ],
      "text/plain": [
       "   precision    recall  accuracy  f1_score  log_loss  roc_auc\n",
       "0   0.993769  0.989032  0.991597  0.991322  0.274686      1.0"
      ]
     },
     "execution_count": 17,
     "metadata": {},
     "output_type": "execute_result"
    }
   ],
   "source": [
    "%%bigquery\n",
    "SELECT *\n",
    "FROM ML.EVALUATE (\n",
    "    MODEL `statmike-mlops-349915.bqml_model_monitoring.classify_species_rf`,\n",
    "    (\n",
    "        SELECT *\n",
    "        FROM `statmike-mlops-349915.bqml_model_monitoring.training_split`\n",
    "        WHERE splits = 'TRAIN'\n",
    "    )\n",
    ")"
   ]
  },
  {
   "cell_type": "markdown",
   "metadata": {},
   "source": [
    "### Evaluate The Model: `TEST` Data Split\n",
    "\n",
    "Evaluating the model on the `TEST` split is a good gauge of performance in general as it represents data the model was not exposed to during training: "
   ]
  },
  {
   "cell_type": "code",
   "execution_count": 18,
   "metadata": {
    "tags": []
   },
   "outputs": [
    {
     "data": {
      "application/vnd.jupyter.widget-view+json": {
       "model_id": "7ebcb662a9c342dba8eeede450c319ca",
       "version_major": 2,
       "version_minor": 0
      },
      "text/plain": [
       "Query is running:   0%|          |"
      ]
     },
     "metadata": {},
     "output_type": "display_data"
    },
    {
     "data": {
      "application/vnd.jupyter.widget-view+json": {
       "model_id": "6744d0ce235344049e1a729f40a350f2",
       "version_major": 2,
       "version_minor": 0
      },
      "text/plain": [
       "Downloading:   0%|          |"
      ]
     },
     "metadata": {},
     "output_type": "display_data"
    },
    {
     "data": {
      "text/html": [
       "<div>\n",
       "<style scoped>\n",
       "    .dataframe tbody tr th:only-of-type {\n",
       "        vertical-align: middle;\n",
       "    }\n",
       "\n",
       "    .dataframe tbody tr th {\n",
       "        vertical-align: top;\n",
       "    }\n",
       "\n",
       "    .dataframe thead th {\n",
       "        text-align: right;\n",
       "    }\n",
       "</style>\n",
       "<table border=\"1\" class=\"dataframe\">\n",
       "  <thead>\n",
       "    <tr style=\"text-align: right;\">\n",
       "      <th></th>\n",
       "      <th>precision</th>\n",
       "      <th>recall</th>\n",
       "      <th>accuracy</th>\n",
       "      <th>f1_score</th>\n",
       "      <th>log_loss</th>\n",
       "      <th>roc_auc</th>\n",
       "    </tr>\n",
       "  </thead>\n",
       "  <tbody>\n",
       "    <tr>\n",
       "      <th>0</th>\n",
       "      <td>1.0</td>\n",
       "      <td>1.0</td>\n",
       "      <td>1.0</td>\n",
       "      <td>1.0</td>\n",
       "      <td>0.279025</td>\n",
       "      <td>1.0</td>\n",
       "    </tr>\n",
       "  </tbody>\n",
       "</table>\n",
       "</div>"
      ],
      "text/plain": [
       "   precision  recall  accuracy  f1_score  log_loss  roc_auc\n",
       "0        1.0     1.0       1.0       1.0  0.279025      1.0"
      ]
     },
     "execution_count": 18,
     "metadata": {},
     "output_type": "execute_result"
    }
   ],
   "source": [
    "%%bigquery\n",
    "SELECT *\n",
    "FROM ML.EVALUATE (\n",
    "    MODEL `statmike-mlops-349915.bqml_model_monitoring.classify_species_rf`,\n",
    "    (\n",
    "        SELECT *\n",
    "        FROM `statmike-mlops-349915.bqml_model_monitoring.training_split`\n",
    "        WHERE splits = 'TEST'\n",
    "    )\n",
    ")"
   ]
  },
  {
   "cell_type": "markdown",
   "metadata": {},
   "source": [
    "### Evaluate The Classification Performance with `ML.CONFUSION_MATRIX`\n",
    "\n",
    "This model is a classification model and reviewing the true versus predicted classification categories can be done with the [`ML.CONFUSION_MATRIX` function](https://cloud.google.com/bigquery/docs/reference/standard-sql/bigqueryml-syntax-confusion)."
   ]
  },
  {
   "cell_type": "code",
   "execution_count": 19,
   "metadata": {
    "tags": []
   },
   "outputs": [
    {
     "data": {
      "application/vnd.jupyter.widget-view+json": {
       "model_id": "de76221649674246a64054a8fb5aacb4",
       "version_major": 2,
       "version_minor": 0
      },
      "text/plain": [
       "Query is running:   0%|          |"
      ]
     },
     "metadata": {},
     "output_type": "display_data"
    },
    {
     "data": {
      "application/vnd.jupyter.widget-view+json": {
       "model_id": "fd54101afb354980966dde7b587ea452",
       "version_major": 2,
       "version_minor": 0
      },
      "text/plain": [
       "Downloading:   0%|          |"
      ]
     },
     "metadata": {},
     "output_type": "display_data"
    },
    {
     "data": {
      "text/html": [
       "<div>\n",
       "<style scoped>\n",
       "    .dataframe tbody tr th:only-of-type {\n",
       "        vertical-align: middle;\n",
       "    }\n",
       "\n",
       "    .dataframe tbody tr th {\n",
       "        vertical-align: top;\n",
       "    }\n",
       "\n",
       "    .dataframe thead th {\n",
       "        text-align: right;\n",
       "    }\n",
       "</style>\n",
       "<table border=\"1\" class=\"dataframe\">\n",
       "  <thead>\n",
       "    <tr style=\"text-align: right;\">\n",
       "      <th></th>\n",
       "      <th>expected_label</th>\n",
       "      <th>Adelie_Penguin__Pygoscelis_adeliae_</th>\n",
       "      <th>Chinstrap_penguin__Pygoscelis_antarctica_</th>\n",
       "      <th>Gentoo_penguin__Pygoscelis_papua_</th>\n",
       "    </tr>\n",
       "  </thead>\n",
       "  <tbody>\n",
       "    <tr>\n",
       "      <th>0</th>\n",
       "      <td>Adelie Penguin (Pygoscelis adeliae)</td>\n",
       "      <td>15</td>\n",
       "      <td>0</td>\n",
       "      <td>0</td>\n",
       "    </tr>\n",
       "    <tr>\n",
       "      <th>1</th>\n",
       "      <td>Chinstrap penguin (Pygoscelis antarctica)</td>\n",
       "      <td>0</td>\n",
       "      <td>7</td>\n",
       "      <td>0</td>\n",
       "    </tr>\n",
       "    <tr>\n",
       "      <th>2</th>\n",
       "      <td>Gentoo penguin (Pygoscelis papua)</td>\n",
       "      <td>0</td>\n",
       "      <td>0</td>\n",
       "      <td>13</td>\n",
       "    </tr>\n",
       "  </tbody>\n",
       "</table>\n",
       "</div>"
      ],
      "text/plain": [
       "                              expected_label  \\\n",
       "0        Adelie Penguin (Pygoscelis adeliae)   \n",
       "1  Chinstrap penguin (Pygoscelis antarctica)   \n",
       "2          Gentoo penguin (Pygoscelis papua)   \n",
       "\n",
       "   Adelie_Penguin__Pygoscelis_adeliae_  \\\n",
       "0                                   15   \n",
       "1                                    0   \n",
       "2                                    0   \n",
       "\n",
       "   Chinstrap_penguin__Pygoscelis_antarctica_  \\\n",
       "0                                          0   \n",
       "1                                          7   \n",
       "2                                          0   \n",
       "\n",
       "   Gentoo_penguin__Pygoscelis_papua_  \n",
       "0                                  0  \n",
       "1                                  0  \n",
       "2                                 13  "
      ]
     },
     "execution_count": 19,
     "metadata": {},
     "output_type": "execute_result"
    }
   ],
   "source": [
    "%%bigquery\n",
    "SELECT *\n",
    "FROM ML.CONFUSION_MATRIX (\n",
    "    MODEL `statmike-mlops-349915.bqml_model_monitoring.classify_species_rf`\n",
    ")"
   ]
  },
  {
   "cell_type": "code",
   "execution_count": 20,
   "metadata": {
    "tags": []
   },
   "outputs": [
    {
     "data": {
      "application/vnd.jupyter.widget-view+json": {
       "model_id": "d1d5ee9b84614b0da172d8840bd2a352",
       "version_major": 2,
       "version_minor": 0
      },
      "text/plain": [
       "Query is running:   0%|          |"
      ]
     },
     "metadata": {},
     "output_type": "display_data"
    },
    {
     "data": {
      "application/vnd.jupyter.widget-view+json": {
       "model_id": "92c23e0a4e0a496085e60d6dad5648c1",
       "version_major": 2,
       "version_minor": 0
      },
      "text/plain": [
       "Downloading:   0%|          |"
      ]
     },
     "metadata": {},
     "output_type": "display_data"
    },
    {
     "data": {
      "text/html": [
       "<div>\n",
       "<style scoped>\n",
       "    .dataframe tbody tr th:only-of-type {\n",
       "        vertical-align: middle;\n",
       "    }\n",
       "\n",
       "    .dataframe tbody tr th {\n",
       "        vertical-align: top;\n",
       "    }\n",
       "\n",
       "    .dataframe thead th {\n",
       "        text-align: right;\n",
       "    }\n",
       "</style>\n",
       "<table border=\"1\" class=\"dataframe\">\n",
       "  <thead>\n",
       "    <tr style=\"text-align: right;\">\n",
       "      <th></th>\n",
       "      <th>expected_label</th>\n",
       "      <th>Adelie_Penguin__Pygoscelis_adeliae_</th>\n",
       "      <th>Chinstrap_penguin__Pygoscelis_antarctica_</th>\n",
       "      <th>Gentoo_penguin__Pygoscelis_papua_</th>\n",
       "    </tr>\n",
       "  </thead>\n",
       "  <tbody>\n",
       "    <tr>\n",
       "      <th>0</th>\n",
       "      <td>Adelie Penguin (Pygoscelis adeliae)</td>\n",
       "      <td>105</td>\n",
       "      <td>0</td>\n",
       "      <td>0</td>\n",
       "    </tr>\n",
       "    <tr>\n",
       "      <th>1</th>\n",
       "      <td>Chinstrap penguin (Pygoscelis antarctica)</td>\n",
       "      <td>1</td>\n",
       "      <td>46</td>\n",
       "      <td>0</td>\n",
       "    </tr>\n",
       "    <tr>\n",
       "      <th>2</th>\n",
       "      <td>Gentoo penguin (Pygoscelis papua)</td>\n",
       "      <td>1</td>\n",
       "      <td>0</td>\n",
       "      <td>85</td>\n",
       "    </tr>\n",
       "  </tbody>\n",
       "</table>\n",
       "</div>"
      ],
      "text/plain": [
       "                              expected_label  \\\n",
       "0        Adelie Penguin (Pygoscelis adeliae)   \n",
       "1  Chinstrap penguin (Pygoscelis antarctica)   \n",
       "2          Gentoo penguin (Pygoscelis papua)   \n",
       "\n",
       "   Adelie_Penguin__Pygoscelis_adeliae_  \\\n",
       "0                                  105   \n",
       "1                                    1   \n",
       "2                                    1   \n",
       "\n",
       "   Chinstrap_penguin__Pygoscelis_antarctica_  \\\n",
       "0                                          0   \n",
       "1                                         46   \n",
       "2                                          0   \n",
       "\n",
       "   Gentoo_penguin__Pygoscelis_papua_  \n",
       "0                                  0  \n",
       "1                                  0  \n",
       "2                                 85  "
      ]
     },
     "execution_count": 20,
     "metadata": {},
     "output_type": "execute_result"
    }
   ],
   "source": [
    "%%bigquery\n",
    "SELECT *\n",
    "FROM ML.CONFUSION_MATRIX (\n",
    "    MODEL `statmike-mlops-349915.bqml_model_monitoring.classify_species_rf`,\n",
    "    (\n",
    "        SELECT *\n",
    "        FROM `statmike-mlops-349915.bqml_model_monitoring.training_split`\n",
    "        WHERE splits = 'TRAIN'\n",
    "    )\n",
    ")"
   ]
  },
  {
   "cell_type": "code",
   "execution_count": 21,
   "metadata": {
    "tags": []
   },
   "outputs": [
    {
     "data": {
      "application/vnd.jupyter.widget-view+json": {
       "model_id": "2d12ac9456ec49e48648a68fdb60899c",
       "version_major": 2,
       "version_minor": 0
      },
      "text/plain": [
       "Query is running:   0%|          |"
      ]
     },
     "metadata": {},
     "output_type": "display_data"
    },
    {
     "data": {
      "application/vnd.jupyter.widget-view+json": {
       "model_id": "4c9c72777620449295f2900b5d9cf140",
       "version_major": 2,
       "version_minor": 0
      },
      "text/plain": [
       "Downloading:   0%|          |"
      ]
     },
     "metadata": {},
     "output_type": "display_data"
    },
    {
     "data": {
      "text/html": [
       "<div>\n",
       "<style scoped>\n",
       "    .dataframe tbody tr th:only-of-type {\n",
       "        vertical-align: middle;\n",
       "    }\n",
       "\n",
       "    .dataframe tbody tr th {\n",
       "        vertical-align: top;\n",
       "    }\n",
       "\n",
       "    .dataframe thead th {\n",
       "        text-align: right;\n",
       "    }\n",
       "</style>\n",
       "<table border=\"1\" class=\"dataframe\">\n",
       "  <thead>\n",
       "    <tr style=\"text-align: right;\">\n",
       "      <th></th>\n",
       "      <th>expected_label</th>\n",
       "      <th>Adelie_Penguin__Pygoscelis_adeliae_</th>\n",
       "      <th>Chinstrap_penguin__Pygoscelis_antarctica_</th>\n",
       "      <th>Gentoo_penguin__Pygoscelis_papua_</th>\n",
       "    </tr>\n",
       "  </thead>\n",
       "  <tbody>\n",
       "    <tr>\n",
       "      <th>0</th>\n",
       "      <td>Adelie Penguin (Pygoscelis adeliae)</td>\n",
       "      <td>32</td>\n",
       "      <td>0</td>\n",
       "      <td>0</td>\n",
       "    </tr>\n",
       "    <tr>\n",
       "      <th>1</th>\n",
       "      <td>Chinstrap penguin (Pygoscelis antarctica)</td>\n",
       "      <td>0</td>\n",
       "      <td>14</td>\n",
       "      <td>0</td>\n",
       "    </tr>\n",
       "    <tr>\n",
       "      <th>2</th>\n",
       "      <td>Gentoo penguin (Pygoscelis papua)</td>\n",
       "      <td>0</td>\n",
       "      <td>0</td>\n",
       "      <td>25</td>\n",
       "    </tr>\n",
       "  </tbody>\n",
       "</table>\n",
       "</div>"
      ],
      "text/plain": [
       "                              expected_label  \\\n",
       "0        Adelie Penguin (Pygoscelis adeliae)   \n",
       "1  Chinstrap penguin (Pygoscelis antarctica)   \n",
       "2          Gentoo penguin (Pygoscelis papua)   \n",
       "\n",
       "   Adelie_Penguin__Pygoscelis_adeliae_  \\\n",
       "0                                   32   \n",
       "1                                    0   \n",
       "2                                    0   \n",
       "\n",
       "   Chinstrap_penguin__Pygoscelis_antarctica_  \\\n",
       "0                                          0   \n",
       "1                                         14   \n",
       "2                                          0   \n",
       "\n",
       "   Gentoo_penguin__Pygoscelis_papua_  \n",
       "0                                  0  \n",
       "1                                  0  \n",
       "2                                 25  "
      ]
     },
     "execution_count": 21,
     "metadata": {},
     "output_type": "execute_result"
    }
   ],
   "source": [
    "%%bigquery\n",
    "SELECT *\n",
    "FROM ML.CONFUSION_MATRIX (\n",
    "    MODEL `statmike-mlops-349915.bqml_model_monitoring.classify_species_rf`,\n",
    "    (\n",
    "        SELECT *\n",
    "        FROM `statmike-mlops-349915.bqml_model_monitoring.training_split`\n",
    "        WHERE splits = 'TEST'\n",
    "    )\n",
    ")"
   ]
  },
  {
   "cell_type": "markdown",
   "metadata": {
    "tags": []
   },
   "source": [
    "---\n",
    "## Model Serving\n",
    "\n",
    "Once a version of the model is trusted to serve predictions we can put it into use.  At first, this means creating and using predictions from the model.  This is quickly followed by important considerations:\n",
    "\n",
    ">Has the system that is being measured, that creates the data, or that records the data changed in a way that could impact the models ability to correctly predict/classify?\n",
    "\n",
    "It seems like a good idea to continously run evaluations to make sure the model accuracy does not degrade - and it is.  There can be a lag between new data and knowing the actual outcome which makes using using evaluations to monitor models a potentially reactive, or late signal.  To overcome this we can also monitor the model.  More on this later on below."
   ]
  },
  {
   "cell_type": "markdown",
   "metadata": {},
   "source": [
    "### Predictions With `ML.PREDICT`\n",
    "\n",
    "Use [`ML.PREDICT`](https://cloud.google.com/bigquery/docs/reference/standard-sql/bigqueryml-syntax-predict) to serve predictions with the model directly in BigQuery."
   ]
  },
  {
   "cell_type": "code",
   "execution_count": 22,
   "metadata": {
    "tags": []
   },
   "outputs": [
    {
     "data": {
      "application/vnd.jupyter.widget-view+json": {
       "model_id": "7094c9026fc04fe79eabae8c02fc4de0",
       "version_major": 2,
       "version_minor": 0
      },
      "text/plain": [
       "Query is running:   0%|          |"
      ]
     },
     "metadata": {},
     "output_type": "display_data"
    },
    {
     "data": {
      "application/vnd.jupyter.widget-view+json": {
       "model_id": "ac68dfe0a0194f6c96cc0ddf7370676c",
       "version_major": 2,
       "version_minor": 0
      },
      "text/plain": [
       "Downloading:   0%|          |"
      ]
     },
     "metadata": {},
     "output_type": "display_data"
    },
    {
     "data": {
      "text/html": [
       "<div>\n",
       "<style scoped>\n",
       "    .dataframe tbody tr th:only-of-type {\n",
       "        vertical-align: middle;\n",
       "    }\n",
       "\n",
       "    .dataframe tbody tr th {\n",
       "        vertical-align: top;\n",
       "    }\n",
       "\n",
       "    .dataframe thead th {\n",
       "        text-align: right;\n",
       "    }\n",
       "</style>\n",
       "<table border=\"1\" class=\"dataframe\">\n",
       "  <thead>\n",
       "    <tr style=\"text-align: right;\">\n",
       "      <th></th>\n",
       "      <th>predicted_species</th>\n",
       "      <th>predicted_species_probs</th>\n",
       "      <th>species</th>\n",
       "      <th>island</th>\n",
       "      <th>culmen_length_mm</th>\n",
       "      <th>culmen_depth_mm</th>\n",
       "      <th>flipper_length_mm</th>\n",
       "      <th>body_mass_g</th>\n",
       "      <th>sex</th>\n",
       "      <th>splits</th>\n",
       "    </tr>\n",
       "  </thead>\n",
       "  <tbody>\n",
       "    <tr>\n",
       "      <th>0</th>\n",
       "      <td>Adelie Penguin (Pygoscelis adeliae)</td>\n",
       "      <td>[{'label': 'Gentoo penguin (Pygoscelis papua)'...</td>\n",
       "      <td>Adelie Penguin (Pygoscelis adeliae)</td>\n",
       "      <td>Dream</td>\n",
       "      <td>40.9</td>\n",
       "      <td>18.9</td>\n",
       "      <td>184.0</td>\n",
       "      <td>3900.0</td>\n",
       "      <td>MALE</td>\n",
       "      <td>TEST</td>\n",
       "    </tr>\n",
       "    <tr>\n",
       "      <th>1</th>\n",
       "      <td>Adelie Penguin (Pygoscelis adeliae)</td>\n",
       "      <td>[{'label': 'Gentoo penguin (Pygoscelis papua)'...</td>\n",
       "      <td>Adelie Penguin (Pygoscelis adeliae)</td>\n",
       "      <td>Dream</td>\n",
       "      <td>39.8</td>\n",
       "      <td>19.1</td>\n",
       "      <td>184.0</td>\n",
       "      <td>4650.0</td>\n",
       "      <td>MALE</td>\n",
       "      <td>TEST</td>\n",
       "    </tr>\n",
       "    <tr>\n",
       "      <th>2</th>\n",
       "      <td>Adelie Penguin (Pygoscelis adeliae)</td>\n",
       "      <td>[{'label': 'Gentoo penguin (Pygoscelis papua)'...</td>\n",
       "      <td>Adelie Penguin (Pygoscelis adeliae)</td>\n",
       "      <td>Dream</td>\n",
       "      <td>36.6</td>\n",
       "      <td>18.4</td>\n",
       "      <td>184.0</td>\n",
       "      <td>3475.0</td>\n",
       "      <td>FEMALE</td>\n",
       "      <td>TRAIN</td>\n",
       "    </tr>\n",
       "    <tr>\n",
       "      <th>3</th>\n",
       "      <td>Chinstrap penguin (Pygoscelis antarctica)</td>\n",
       "      <td>[{'label': 'Gentoo penguin (Pygoscelis papua)'...</td>\n",
       "      <td>Chinstrap penguin (Pygoscelis antarctica)</td>\n",
       "      <td>Dream</td>\n",
       "      <td>46.9</td>\n",
       "      <td>16.6</td>\n",
       "      <td>192.0</td>\n",
       "      <td>2700.0</td>\n",
       "      <td>FEMALE</td>\n",
       "      <td>TRAIN</td>\n",
       "    </tr>\n",
       "    <tr>\n",
       "      <th>4</th>\n",
       "      <td>Adelie Penguin (Pygoscelis adeliae)</td>\n",
       "      <td>[{'label': 'Gentoo penguin (Pygoscelis papua)'...</td>\n",
       "      <td>Adelie Penguin (Pygoscelis adeliae)</td>\n",
       "      <td>Dream</td>\n",
       "      <td>37.3</td>\n",
       "      <td>16.8</td>\n",
       "      <td>192.0</td>\n",
       "      <td>3000.0</td>\n",
       "      <td>FEMALE</td>\n",
       "      <td>TEST</td>\n",
       "    </tr>\n",
       "  </tbody>\n",
       "</table>\n",
       "</div>"
      ],
      "text/plain": [
       "                           predicted_species  \\\n",
       "0        Adelie Penguin (Pygoscelis adeliae)   \n",
       "1        Adelie Penguin (Pygoscelis adeliae)   \n",
       "2        Adelie Penguin (Pygoscelis adeliae)   \n",
       "3  Chinstrap penguin (Pygoscelis antarctica)   \n",
       "4        Adelie Penguin (Pygoscelis adeliae)   \n",
       "\n",
       "                             predicted_species_probs  \\\n",
       "0  [{'label': 'Gentoo penguin (Pygoscelis papua)'...   \n",
       "1  [{'label': 'Gentoo penguin (Pygoscelis papua)'...   \n",
       "2  [{'label': 'Gentoo penguin (Pygoscelis papua)'...   \n",
       "3  [{'label': 'Gentoo penguin (Pygoscelis papua)'...   \n",
       "4  [{'label': 'Gentoo penguin (Pygoscelis papua)'...   \n",
       "\n",
       "                                     species island  culmen_length_mm  \\\n",
       "0        Adelie Penguin (Pygoscelis adeliae)  Dream              40.9   \n",
       "1        Adelie Penguin (Pygoscelis adeliae)  Dream              39.8   \n",
       "2        Adelie Penguin (Pygoscelis adeliae)  Dream              36.6   \n",
       "3  Chinstrap penguin (Pygoscelis antarctica)  Dream              46.9   \n",
       "4        Adelie Penguin (Pygoscelis adeliae)  Dream              37.3   \n",
       "\n",
       "   culmen_depth_mm  flipper_length_mm  body_mass_g     sex splits  \n",
       "0             18.9              184.0       3900.0    MALE   TEST  \n",
       "1             19.1              184.0       4650.0    MALE   TEST  \n",
       "2             18.4              184.0       3475.0  FEMALE  TRAIN  \n",
       "3             16.6              192.0       2700.0  FEMALE  TRAIN  \n",
       "4             16.8              192.0       3000.0  FEMALE   TEST  "
      ]
     },
     "execution_count": 22,
     "metadata": {},
     "output_type": "execute_result"
    }
   ],
   "source": [
    "%%bigquery\n",
    "SELECT *\n",
    "FROM ML.PREDICT(\n",
    "    MODEL `statmike-mlops-349915.bqml_model_monitoring.classify_species_rf`,\n",
    "    (\n",
    "        SELECT *\n",
    "        FROM `statmike-mlops-349915.bqml_model_monitoring.training_split`\n",
    "        LIMIT 5\n",
    "    )\n",
    ")"
   ]
  },
  {
   "cell_type": "markdown",
   "metadata": {
    "tags": []
   },
   "source": [
    "---\n",
    "## Serving Data\n",
    "\n",
    "The data source for training and evaluation represents what is known about a system at a point-in-time.  In real world systems measurements can change for many reasons, for example:\n",
    "- training/serving skew due to measurement and data systems:\n",
    "    - the tool used for measurement may change resulting is slight shifts and variations\n",
    "    - the system reporting results might be updated and introduce errors like rearranging the order or parameters and format of the results\n",
    "    - the data processing systems might have changes that alter the calculations of measurements\n",
    "- the system, environment, or subjects being measured may:\n",
    "    - change behaviors\n",
    "    - short-term even forces change\n",
    "    - have environmental changes that impact them\n",
    "    - have seasonal changes that were not represented in the training data\n",
    "    - change in general due to upstream causes"
   ]
  },
  {
   "cell_type": "markdown",
   "metadata": {},
   "source": [
    "### Introduce Changes Over Time\n",
    "\n",
    "To illustrate the impact of change over time, the following code creates a new set of data from the test split.  It creates a series of changes to measurements for each of the past 30 days.  In each case, the values of the parameters `flipper_length_mm` and `body_mass_g` are allowed to slightly increase which can accumulate over the timespan. This might mimic a potential growth season for the penguins that might not have been represented in the training data.\n",
    "\n",
    "This table of serving data could be sourced form where your features are coming from.  In the case of an online model, like [Vertex AI Prediction Endpoints](https://cloud.google.com/vertex-ai/docs/predictions/overview), then [prediction request could be logged to BigQuery](https://cloud.google.com/vertex-ai/docs/predictions/online-prediction-logging#enabling-and-disabling) for use in the model monitoring tasks below.  This online serving pattern is covered later in this tutorial."
   ]
  },
  {
   "cell_type": "code",
   "execution_count": 23,
   "metadata": {
    "tags": []
   },
   "outputs": [
    {
     "data": {
      "application/vnd.jupyter.widget-view+json": {
       "model_id": "64e78cafd1764ba08686f174056f7eeb",
       "version_major": 2,
       "version_minor": 0
      },
      "text/plain": [
       "Query is running:   0%|          |"
      ]
     },
     "metadata": {},
     "output_type": "display_data"
    },
    {
     "data": {
      "text/html": [
       "<div>\n",
       "<style scoped>\n",
       "    .dataframe tbody tr th:only-of-type {\n",
       "        vertical-align: middle;\n",
       "    }\n",
       "\n",
       "    .dataframe tbody tr th {\n",
       "        vertical-align: top;\n",
       "    }\n",
       "\n",
       "    .dataframe thead th {\n",
       "        text-align: right;\n",
       "    }\n",
       "</style>\n",
       "<table border=\"1\" class=\"dataframe\">\n",
       "  <thead>\n",
       "    <tr style=\"text-align: right;\">\n",
       "      <th></th>\n",
       "    </tr>\n",
       "  </thead>\n",
       "  <tbody>\n",
       "  </tbody>\n",
       "</table>\n",
       "</div>"
      ],
      "text/plain": [
       "Empty DataFrame\n",
       "Columns: []\n",
       "Index: []"
      ]
     },
     "execution_count": 23,
     "metadata": {},
     "output_type": "execute_result"
    }
   ],
   "source": [
    "%%bigquery\n",
    "DECLARE counter INT64 DEFAULT 30;\n",
    "\n",
    "# actual data as starting point - add entity_id, and feature_timestamp:\n",
    "CREATE OR REPLACE TABLE `statmike-mlops-349915.bqml_model_monitoring.serving` AS\n",
    "    SELECT * EXCEPT(flipper_length_mm, body_mass_g),\n",
    "    TIMESTAMP_SUB(TIMESTAMP(CURRENT_DATE()), INTERVAL counter DAY) AS instance_timestamp,\n",
    "    flipper_length_mm as flipper_length_mm,\n",
    "    body_mass_g as body_mass_g\n",
    "    FROM `statmike-mlops-349915.bqml_model_monitoring.training`\n",
    "    WHERE RAND() <= 0.20;\n",
    "\n",
    "LOOP\n",
    "    SET counter = counter - 1;\n",
    "    IF counter < 0 THEN LEAVE;\n",
    "    END IF;\n",
    "    INSERT `statmike-mlops-349915.bqml_model_monitoring.serving`\n",
    "        SELECT * EXCEPT(instance_timestamp, flipper_length_mm, body_mass_g),\n",
    "            TIMESTAMP_ADD(instance_timestamp, INTERVAL 1 DAY) AS instance_timestamp,\n",
    "            CASE\n",
    "                WHEN RAND() >= 0.75 THEN flipper_length_mm\n",
    "                ELSE flipper_length_mm + 6*(RAND()-0.1)\n",
    "            END AS flipper_length_mm,\n",
    "            CASE\n",
    "                WHEN RAND() >= 0.75 THEN body_mass_g\n",
    "                ELSE body_mass_g + 120*(RAND()-0.1)\n",
    "            END AS body_mass_g,\n",
    "        FROM `statmike-mlops-349915.bqml_model_monitoring.serving`\n",
    "        WHERE instance_timestamp >= (SELECT MAX(instance_timestamp) FROM `statmike-mlops-349915.bqml_model_monitoring.serving`);\n",
    "END LOOP;"
   ]
  },
  {
   "cell_type": "code",
   "execution_count": 24,
   "metadata": {
    "tags": []
   },
   "outputs": [
    {
     "data": {
      "application/vnd.jupyter.widget-view+json": {
       "model_id": "e4b4c241b9974ec6bf0a038da65fe16e",
       "version_major": 2,
       "version_minor": 0
      },
      "text/plain": [
       "Query is running:   0%|          |"
      ]
     },
     "metadata": {},
     "output_type": "display_data"
    },
    {
     "data": {
      "application/vnd.jupyter.widget-view+json": {
       "model_id": "47ee5d3b25904f11b64b71c8eb98fbff",
       "version_major": 2,
       "version_minor": 0
      },
      "text/plain": [
       "Downloading:   0%|          |"
      ]
     },
     "metadata": {},
     "output_type": "display_data"
    }
   ],
   "source": [
    "%%bigquery serve\n",
    "SELECT\n",
    "    DATE(instance_timestamp) AS DATE,\n",
    "    AVG(flipper_length_mm) AS flipper_length_mm,\n",
    "    AVG(body_mass_g) AS body_mass_g\n",
    "FROM `statmike-mlops-349915.bqml_model_monitoring.serving`\n",
    "GROUP BY DATE\n",
    "ORDER BY DATE"
   ]
  },
  {
   "cell_type": "code",
   "execution_count": 25,
   "metadata": {
    "tags": []
   },
   "outputs": [],
   "source": [
    "serve.set_index('DATE', inplace = True)"
   ]
  },
  {
   "cell_type": "code",
   "execution_count": 26,
   "metadata": {
    "tags": []
   },
   "outputs": [],
   "source": [
    "#serve"
   ]
  },
  {
   "cell_type": "code",
   "execution_count": 27,
   "metadata": {
    "tags": []
   },
   "outputs": [
    {
     "data": {
      "text/plain": [
       "<Axes: xlabel='DATE'>"
      ]
     },
     "execution_count": 27,
     "metadata": {},
     "output_type": "execute_result"
    },
    {
     "data": {
      "image/png": "[encoded data removed]",
      "text/plain": [
       "<Figure size 800x400 with 1 Axes>"
      ]
     },
     "metadata": {},
     "output_type": "display_data"
    }
   ],
   "source": [
    "serve['flipper_length_mm'].plot(legend = True, figsize = (8, 4))"
   ]
  },
  {
   "cell_type": "code",
   "execution_count": 28,
   "metadata": {
    "tags": []
   },
   "outputs": [
    {
     "data": {
      "text/plain": [
       "<Axes: xlabel='DATE'>"
      ]
     },
     "execution_count": 28,
     "metadata": {},
     "output_type": "execute_result"
    },
    {
     "data": {
      "image/png": "[encoded data removed]",
      "text/plain": [
       "<Figure size 800x400 with 1 Axes>"
      ]
     },
     "metadata": {},
     "output_type": "display_data"
    }
   ],
   "source": [
    "serve['body_mass_g'].plot(legend = True, figsize = (8, 4))"
   ]
  },
  {
   "cell_type": "markdown",
   "metadata": {
    "tags": []
   },
   "source": [
    "---\n",
    "## Monitoring With Evaluations\n",
    "\n",
    "It might seem like ongoing model evaluations are a great solution to model monitoring.  If the actual known values are available immediately then this could be possible to use for monitoring.  However, detecting a change in evaluation metrics means the model has realized a degradation.  It is a lagging signal.  To be more proactive we should monitor the inputs to the model, the features.  More on that in the next section.\n",
    "\n",
    "First, look at the evaluation metrics for the most recent days data which has the cumulative change of the past 30 days introduced above.  In this case, the actual known values is known. This may not be possible in many real-world examples where the actual known values are:\n",
    "- delayed by minutes, hours, days, or even longer\n",
    "- not always known for all instances\n",
    "- potentially in a different status that can change over a period of time before being confirmed as final\n",
    "\n",
    "In reviewing the evaluation for the most recent instances here, the `precision` has dropped and the `log_loss` has increased drastically.  The confusion matrix shows Chinstrap penguins's are now being misclassified much more often than when the model was trained.  \n",
    "\n",
    "The question becomes \"How soon could this have been noticed?\"."
   ]
  },
  {
   "cell_type": "code",
   "execution_count": 29,
   "metadata": {
    "tags": []
   },
   "outputs": [
    {
     "data": {
      "application/vnd.jupyter.widget-view+json": {
       "model_id": "e65ed5c118f3461f98d183fd3fbf8d4d",
       "version_major": 2,
       "version_minor": 0
      },
      "text/plain": [
       "Query is running:   0%|          |"
      ]
     },
     "metadata": {},
     "output_type": "display_data"
    },
    {
     "data": {
      "application/vnd.jupyter.widget-view+json": {
       "model_id": "5a8050780ec840a5af53be122c0680bb",
       "version_major": 2,
       "version_minor": 0
      },
      "text/plain": [
       "Downloading:   0%|          |"
      ]
     },
     "metadata": {},
     "output_type": "display_data"
    },
    {
     "data": {
      "text/html": [
       "<div>\n",
       "<style scoped>\n",
       "    .dataframe tbody tr th:only-of-type {\n",
       "        vertical-align: middle;\n",
       "    }\n",
       "\n",
       "    .dataframe tbody tr th {\n",
       "        vertical-align: top;\n",
       "    }\n",
       "\n",
       "    .dataframe thead th {\n",
       "        text-align: right;\n",
       "    }\n",
       "</style>\n",
       "<table border=\"1\" class=\"dataframe\">\n",
       "  <thead>\n",
       "    <tr style=\"text-align: right;\">\n",
       "      <th></th>\n",
       "      <th>precision</th>\n",
       "      <th>recall</th>\n",
       "      <th>accuracy</th>\n",
       "      <th>f1_score</th>\n",
       "      <th>log_loss</th>\n",
       "      <th>roc_auc</th>\n",
       "    </tr>\n",
       "  </thead>\n",
       "  <tbody>\n",
       "    <tr>\n",
       "      <th>0</th>\n",
       "      <td>0.962884</td>\n",
       "      <td>0.964519</td>\n",
       "      <td>0.9625</td>\n",
       "      <td>0.962699</td>\n",
       "      <td>0.410168</td>\n",
       "      <td>0.996936</td>\n",
       "    </tr>\n",
       "  </tbody>\n",
       "</table>\n",
       "</div>"
      ],
      "text/plain": [
       "   precision    recall  accuracy  f1_score  log_loss   roc_auc\n",
       "0   0.962884  0.964519    0.9625  0.962699  0.410168  0.996936"
      ]
     },
     "execution_count": 29,
     "metadata": {},
     "output_type": "execute_result"
    }
   ],
   "source": [
    "%%bigquery\n",
    "SELECT *\n",
    "FROM ML.EVALUATE (\n",
    "    MODEL `statmike-mlops-349915.bqml_model_monitoring.classify_species_rf`,\n",
    "    (\n",
    "        SELECT *\n",
    "        FROM `statmike-mlops-349915.bqml_model_monitoring.serving`\n",
    "        WHERE DATE(instance_timestamp) >= CURRENT_DATE()\n",
    "    )\n",
    ")"
   ]
  },
  {
   "cell_type": "code",
   "execution_count": 30,
   "metadata": {
    "tags": []
   },
   "outputs": [
    {
     "data": {
      "application/vnd.jupyter.widget-view+json": {
       "model_id": "f04bce75bb6341bba13620c9f67350fb",
       "version_major": 2,
       "version_minor": 0
      },
      "text/plain": [
       "Query is running:   0%|          |"
      ]
     },
     "metadata": {},
     "output_type": "display_data"
    },
    {
     "data": {
      "application/vnd.jupyter.widget-view+json": {
       "model_id": "0097fda209f94a96836f742d29425d53",
       "version_major": 2,
       "version_minor": 0
      },
      "text/plain": [
       "Downloading:   0%|          |"
      ]
     },
     "metadata": {},
     "output_type": "display_data"
    },
    {
     "data": {
      "text/html": [
       "<div>\n",
       "<style scoped>\n",
       "    .dataframe tbody tr th:only-of-type {\n",
       "        vertical-align: middle;\n",
       "    }\n",
       "\n",
       "    .dataframe tbody tr th {\n",
       "        vertical-align: top;\n",
       "    }\n",
       "\n",
       "    .dataframe thead th {\n",
       "        text-align: right;\n",
       "    }\n",
       "</style>\n",
       "<table border=\"1\" class=\"dataframe\">\n",
       "  <thead>\n",
       "    <tr style=\"text-align: right;\">\n",
       "      <th></th>\n",
       "      <th>expected_label</th>\n",
       "      <th>Adelie_Penguin__Pygoscelis_adeliae_</th>\n",
       "      <th>Chinstrap_penguin__Pygoscelis_antarctica_</th>\n",
       "      <th>Gentoo_penguin__Pygoscelis_papua_</th>\n",
       "    </tr>\n",
       "  </thead>\n",
       "  <tbody>\n",
       "    <tr>\n",
       "      <th>0</th>\n",
       "      <td>Adelie Penguin (Pygoscelis adeliae)</td>\n",
       "      <td>40</td>\n",
       "      <td>0</td>\n",
       "      <td>2</td>\n",
       "    </tr>\n",
       "    <tr>\n",
       "      <th>1</th>\n",
       "      <td>Chinstrap penguin (Pygoscelis antarctica)</td>\n",
       "      <td>1</td>\n",
       "      <td>16</td>\n",
       "      <td>0</td>\n",
       "    </tr>\n",
       "    <tr>\n",
       "      <th>2</th>\n",
       "      <td>Gentoo penguin (Pygoscelis papua)</td>\n",
       "      <td>0</td>\n",
       "      <td>0</td>\n",
       "      <td>21</td>\n",
       "    </tr>\n",
       "  </tbody>\n",
       "</table>\n",
       "</div>"
      ],
      "text/plain": [
       "                              expected_label  \\\n",
       "0        Adelie Penguin (Pygoscelis adeliae)   \n",
       "1  Chinstrap penguin (Pygoscelis antarctica)   \n",
       "2          Gentoo penguin (Pygoscelis papua)   \n",
       "\n",
       "   Adelie_Penguin__Pygoscelis_adeliae_  \\\n",
       "0                                   40   \n",
       "1                                    1   \n",
       "2                                    0   \n",
       "\n",
       "   Chinstrap_penguin__Pygoscelis_antarctica_  \\\n",
       "0                                          0   \n",
       "1                                         16   \n",
       "2                                          0   \n",
       "\n",
       "   Gentoo_penguin__Pygoscelis_papua_  \n",
       "0                                  2  \n",
       "1                                  0  \n",
       "2                                 21  "
      ]
     },
     "execution_count": 30,
     "metadata": {},
     "output_type": "execute_result"
    }
   ],
   "source": [
    "%%bigquery\n",
    "SELECT *\n",
    "FROM ML.CONFUSION_MATRIX (\n",
    "    MODEL `statmike-mlops-349915.bqml_model_monitoring.classify_species_rf`,\n",
    "    (\n",
    "        SELECT *\n",
    "        FROM `statmike-mlops-349915.bqml_model_monitoring.serving`\n",
    "        WHERE DATE(instance_timestamp) >= CURRENT_DATE()\n",
    "    )\n",
    ")"
   ]
  },
  {
   "cell_type": "markdown",
   "metadata": {},
   "source": [
    "### Evaluations: Over Time\n",
    "\n",
    "In this case, we know the actual identification of the `species` and are measuring the same penguins daily.  Reviewing the evaluations daily could give a good sense of how the model is performing on a daily basis.\n",
    "\n",
    "The result of the daily evaluations below shows that the log_loss starts to increase immediately and it takes more than a week for a noticable impact on precision/recall/accuracy/f1_score. \n",
    "\n",
    "What if the actual values where only known after a lag of days or weeks?  How quickly would evaluations be able to indicate the model's accuracy is possibly questionable?  The answer is a different approach - Model Monitoring.  This is covered in the section that follows."
   ]
  },
  {
   "cell_type": "code",
   "execution_count": 31,
   "metadata": {
    "tags": []
   },
   "outputs": [
    {
     "data": {
      "application/vnd.jupyter.widget-view+json": {
       "model_id": "468976db9d7a44e1b963f7daeb19a15e",
       "version_major": 2,
       "version_minor": 0
      },
      "text/plain": [
       "Query is running:   0%|          |"
      ]
     },
     "metadata": {},
     "output_type": "display_data"
    },
    {
     "data": {
      "application/vnd.jupyter.widget-view+json": {
       "model_id": "ddc29c54db0a49019ddf94b452c61dbe",
       "version_major": 2,
       "version_minor": 0
      },
      "text/plain": [
       "Downloading:   0%|          |"
      ]
     },
     "metadata": {},
     "output_type": "display_data"
    }
   ],
   "source": [
    "%%bigquery evaluations\n",
    "DECLARE counter INT64 DEFAULT 30;\n",
    "DECLARE result STRUCT<precision FLOAT64, recall FLOAT64, accuracy FLOAT64, f1_score FLOAT64, log_loss FLOAT64, roc_auc FLOAT64, eval_date DATE>;\n",
    "DECLARE results ARRAY<STRUCT<precision FLOAT64, recall FLOAT64, accuracy FLOAT64, f1_score FLOAT64, log_loss FLOAT64, roc_auc FLOAT64, eval_date DATE>> DEFAULT [];\n",
    "LOOP\n",
    "    IF counter < 0 THEN LEAVE;\n",
    "    END IF;\n",
    "    SET result = (\n",
    "            SELECT AS STRUCT precision, recall, accuracy, f1_score, log_loss, roc_auc, DATE_SUB(CURRENT_DATE(), INTERVAL counter DAY) AS eval_date\n",
    "            FROM ML.EVALUATE (\n",
    "                MODEL `statmike-mlops-349915.bqml_model_monitoring.classify_species_rf`,\n",
    "                (\n",
    "                    SELECT *\n",
    "                    FROM `statmike-mlops-349915.bqml_model_monitoring.serving`\n",
    "                    WHERE DATE(instance_timestamp) = DATE_SUB(CURRENT_DATE(), INTERVAL counter DAY)\n",
    "                )\n",
    "            )\n",
    "    );\n",
    "    SET results = ARRAY_CONCAT(results,[result]);\n",
    "    SET counter = counter - 1;\n",
    "END LOOP;\n",
    "SELECT * FROM UNNEST(results);"
   ]
  },
  {
   "cell_type": "code",
   "execution_count": 32,
   "metadata": {
    "tags": []
   },
   "outputs": [
    {
     "data": {
      "text/html": [
       "<div>\n",
       "<style scoped>\n",
       "    .dataframe tbody tr th:only-of-type {\n",
       "        vertical-align: middle;\n",
       "    }\n",
       "\n",
       "    .dataframe tbody tr th {\n",
       "        vertical-align: top;\n",
       "    }\n",
       "\n",
       "    .dataframe thead th {\n",
       "        text-align: right;\n",
       "    }\n",
       "</style>\n",
       "<table border=\"1\" class=\"dataframe\">\n",
       "  <thead>\n",
       "    <tr style=\"text-align: right;\">\n",
       "      <th></th>\n",
       "      <th>precision</th>\n",
       "      <th>recall</th>\n",
       "      <th>accuracy</th>\n",
       "      <th>f1_score</th>\n",
       "      <th>log_loss</th>\n",
       "      <th>roc_auc</th>\n",
       "      <th>eval_date</th>\n",
       "    </tr>\n",
       "  </thead>\n",
       "  <tbody>\n",
       "    <tr>\n",
       "      <th>0</th>\n",
       "      <td>0.992248</td>\n",
       "      <td>0.980392</td>\n",
       "      <td>0.9875</td>\n",
       "      <td>0.985977</td>\n",
       "      <td>0.282487</td>\n",
       "      <td>0.998330</td>\n",
       "      <td>2024-03-16</td>\n",
       "    </tr>\n",
       "    <tr>\n",
       "      <th>1</th>\n",
       "      <td>0.992248</td>\n",
       "      <td>0.980392</td>\n",
       "      <td>0.9875</td>\n",
       "      <td>0.985977</td>\n",
       "      <td>0.283469</td>\n",
       "      <td>0.998330</td>\n",
       "      <td>2024-03-17</td>\n",
       "    </tr>\n",
       "    <tr>\n",
       "      <th>2</th>\n",
       "      <td>0.992248</td>\n",
       "      <td>0.980392</td>\n",
       "      <td>0.9875</td>\n",
       "      <td>0.985977</td>\n",
       "      <td>0.286214</td>\n",
       "      <td>0.998330</td>\n",
       "      <td>2024-03-18</td>\n",
       "    </tr>\n",
       "    <tr>\n",
       "      <th>3</th>\n",
       "      <td>0.992248</td>\n",
       "      <td>0.980392</td>\n",
       "      <td>0.9875</td>\n",
       "      <td>0.985977</td>\n",
       "      <td>0.287350</td>\n",
       "      <td>0.998124</td>\n",
       "      <td>2024-03-19</td>\n",
       "    </tr>\n",
       "    <tr>\n",
       "      <th>4</th>\n",
       "      <td>0.992248</td>\n",
       "      <td>0.980392</td>\n",
       "      <td>0.9875</td>\n",
       "      <td>0.985977</td>\n",
       "      <td>0.289832</td>\n",
       "      <td>0.997809</td>\n",
       "      <td>2024-03-20</td>\n",
       "    </tr>\n",
       "    <tr>\n",
       "      <th>5</th>\n",
       "      <td>0.992248</td>\n",
       "      <td>0.980392</td>\n",
       "      <td>0.9875</td>\n",
       "      <td>0.985977</td>\n",
       "      <td>0.290702</td>\n",
       "      <td>0.997809</td>\n",
       "      <td>2024-03-21</td>\n",
       "    </tr>\n",
       "    <tr>\n",
       "      <th>6</th>\n",
       "      <td>0.992248</td>\n",
       "      <td>0.980392</td>\n",
       "      <td>0.9875</td>\n",
       "      <td>0.985977</td>\n",
       "      <td>0.294744</td>\n",
       "      <td>0.997593</td>\n",
       "      <td>2024-03-22</td>\n",
       "    </tr>\n",
       "    <tr>\n",
       "      <th>7</th>\n",
       "      <td>0.992248</td>\n",
       "      <td>0.980392</td>\n",
       "      <td>0.9875</td>\n",
       "      <td>0.985977</td>\n",
       "      <td>0.298546</td>\n",
       "      <td>0.997378</td>\n",
       "      <td>2024-03-23</td>\n",
       "    </tr>\n",
       "    <tr>\n",
       "      <th>8</th>\n",
       "      <td>0.992248</td>\n",
       "      <td>0.980392</td>\n",
       "      <td>0.9875</td>\n",
       "      <td>0.985977</td>\n",
       "      <td>0.304360</td>\n",
       "      <td>0.996425</td>\n",
       "      <td>2024-03-24</td>\n",
       "    </tr>\n",
       "    <tr>\n",
       "      <th>9</th>\n",
       "      <td>0.992248</td>\n",
       "      <td>0.980392</td>\n",
       "      <td>0.9875</td>\n",
       "      <td>0.985977</td>\n",
       "      <td>0.307354</td>\n",
       "      <td>0.996209</td>\n",
       "      <td>2024-03-25</td>\n",
       "    </tr>\n",
       "    <tr>\n",
       "      <th>10</th>\n",
       "      <td>0.992248</td>\n",
       "      <td>0.980392</td>\n",
       "      <td>0.9875</td>\n",
       "      <td>0.985977</td>\n",
       "      <td>0.314431</td>\n",
       "      <td>0.996092</td>\n",
       "      <td>2024-03-26</td>\n",
       "    </tr>\n",
       "    <tr>\n",
       "      <th>11</th>\n",
       "      <td>0.992248</td>\n",
       "      <td>0.980392</td>\n",
       "      <td>0.9875</td>\n",
       "      <td>0.985977</td>\n",
       "      <td>0.324862</td>\n",
       "      <td>0.995669</td>\n",
       "      <td>2024-03-27</td>\n",
       "    </tr>\n",
       "    <tr>\n",
       "      <th>12</th>\n",
       "      <td>0.992248</td>\n",
       "      <td>0.980392</td>\n",
       "      <td>0.9875</td>\n",
       "      <td>0.985977</td>\n",
       "      <td>0.329929</td>\n",
       "      <td>0.995454</td>\n",
       "      <td>2024-03-28</td>\n",
       "    </tr>\n",
       "    <tr>\n",
       "      <th>13</th>\n",
       "      <td>0.992248</td>\n",
       "      <td>0.980392</td>\n",
       "      <td>0.9875</td>\n",
       "      <td>0.985977</td>\n",
       "      <td>0.341491</td>\n",
       "      <td>0.995022</td>\n",
       "      <td>2024-03-29</td>\n",
       "    </tr>\n",
       "    <tr>\n",
       "      <th>14</th>\n",
       "      <td>0.992248</td>\n",
       "      <td>0.980392</td>\n",
       "      <td>0.9875</td>\n",
       "      <td>0.985977</td>\n",
       "      <td>0.345583</td>\n",
       "      <td>0.998959</td>\n",
       "      <td>2024-03-30</td>\n",
       "    </tr>\n",
       "    <tr>\n",
       "      <th>15</th>\n",
       "      <td>0.992248</td>\n",
       "      <td>0.980392</td>\n",
       "      <td>0.9875</td>\n",
       "      <td>0.985977</td>\n",
       "      <td>0.348697</td>\n",
       "      <td>0.998959</td>\n",
       "      <td>2024-03-31</td>\n",
       "    </tr>\n",
       "    <tr>\n",
       "      <th>16</th>\n",
       "      <td>0.992248</td>\n",
       "      <td>0.980392</td>\n",
       "      <td>0.9875</td>\n",
       "      <td>0.985977</td>\n",
       "      <td>0.352289</td>\n",
       "      <td>0.998959</td>\n",
       "      <td>2024-04-01</td>\n",
       "    </tr>\n",
       "    <tr>\n",
       "      <th>17</th>\n",
       "      <td>0.992248</td>\n",
       "      <td>0.980392</td>\n",
       "      <td>0.9875</td>\n",
       "      <td>0.985977</td>\n",
       "      <td>0.359828</td>\n",
       "      <td>0.999175</td>\n",
       "      <td>2024-04-02</td>\n",
       "    </tr>\n",
       "    <tr>\n",
       "      <th>18</th>\n",
       "      <td>0.992248</td>\n",
       "      <td>0.980392</td>\n",
       "      <td>0.9875</td>\n",
       "      <td>0.985977</td>\n",
       "      <td>0.362548</td>\n",
       "      <td>0.997917</td>\n",
       "      <td>2024-04-03</td>\n",
       "    </tr>\n",
       "    <tr>\n",
       "      <th>19</th>\n",
       "      <td>0.976912</td>\n",
       "      <td>0.972456</td>\n",
       "      <td>0.9750</td>\n",
       "      <td>0.974211</td>\n",
       "      <td>0.365004</td>\n",
       "      <td>0.998232</td>\n",
       "      <td>2024-04-04</td>\n",
       "    </tr>\n",
       "    <tr>\n",
       "      <th>20</th>\n",
       "      <td>0.976912</td>\n",
       "      <td>0.972456</td>\n",
       "      <td>0.9750</td>\n",
       "      <td>0.974211</td>\n",
       "      <td>0.371000</td>\n",
       "      <td>0.998016</td>\n",
       "      <td>2024-04-05</td>\n",
       "    </tr>\n",
       "    <tr>\n",
       "      <th>21</th>\n",
       "      <td>0.976912</td>\n",
       "      <td>0.972456</td>\n",
       "      <td>0.9750</td>\n",
       "      <td>0.974211</td>\n",
       "      <td>0.375101</td>\n",
       "      <td>0.997809</td>\n",
       "      <td>2024-04-06</td>\n",
       "    </tr>\n",
       "    <tr>\n",
       "      <th>22</th>\n",
       "      <td>0.976912</td>\n",
       "      <td>0.972456</td>\n",
       "      <td>0.9750</td>\n",
       "      <td>0.974211</td>\n",
       "      <td>0.379538</td>\n",
       "      <td>0.997809</td>\n",
       "      <td>2024-04-07</td>\n",
       "    </tr>\n",
       "    <tr>\n",
       "      <th>23</th>\n",
       "      <td>0.976912</td>\n",
       "      <td>0.972456</td>\n",
       "      <td>0.9750</td>\n",
       "      <td>0.974211</td>\n",
       "      <td>0.383250</td>\n",
       "      <td>0.997809</td>\n",
       "      <td>2024-04-08</td>\n",
       "    </tr>\n",
       "    <tr>\n",
       "      <th>24</th>\n",
       "      <td>0.976912</td>\n",
       "      <td>0.972456</td>\n",
       "      <td>0.9750</td>\n",
       "      <td>0.974211</td>\n",
       "      <td>0.390838</td>\n",
       "      <td>0.997593</td>\n",
       "      <td>2024-04-09</td>\n",
       "    </tr>\n",
       "    <tr>\n",
       "      <th>25</th>\n",
       "      <td>0.976912</td>\n",
       "      <td>0.972456</td>\n",
       "      <td>0.9750</td>\n",
       "      <td>0.974211</td>\n",
       "      <td>0.394564</td>\n",
       "      <td>0.997162</td>\n",
       "      <td>2024-04-10</td>\n",
       "    </tr>\n",
       "    <tr>\n",
       "      <th>26</th>\n",
       "      <td>0.976912</td>\n",
       "      <td>0.972456</td>\n",
       "      <td>0.9750</td>\n",
       "      <td>0.974211</td>\n",
       "      <td>0.397557</td>\n",
       "      <td>0.996739</td>\n",
       "      <td>2024-04-11</td>\n",
       "    </tr>\n",
       "    <tr>\n",
       "      <th>27</th>\n",
       "      <td>0.976912</td>\n",
       "      <td>0.972456</td>\n",
       "      <td>0.9750</td>\n",
       "      <td>0.974211</td>\n",
       "      <td>0.399610</td>\n",
       "      <td>0.997054</td>\n",
       "      <td>2024-04-12</td>\n",
       "    </tr>\n",
       "    <tr>\n",
       "      <th>28</th>\n",
       "      <td>0.976912</td>\n",
       "      <td>0.972456</td>\n",
       "      <td>0.9750</td>\n",
       "      <td>0.974211</td>\n",
       "      <td>0.402745</td>\n",
       "      <td>0.996838</td>\n",
       "      <td>2024-04-13</td>\n",
       "    </tr>\n",
       "    <tr>\n",
       "      <th>29</th>\n",
       "      <td>0.962884</td>\n",
       "      <td>0.964519</td>\n",
       "      <td>0.9625</td>\n",
       "      <td>0.962699</td>\n",
       "      <td>0.406360</td>\n",
       "      <td>0.997152</td>\n",
       "      <td>2024-04-14</td>\n",
       "    </tr>\n",
       "    <tr>\n",
       "      <th>30</th>\n",
       "      <td>0.962884</td>\n",
       "      <td>0.964519</td>\n",
       "      <td>0.9625</td>\n",
       "      <td>0.962699</td>\n",
       "      <td>0.410168</td>\n",
       "      <td>0.996936</td>\n",
       "      <td>2024-04-15</td>\n",
       "    </tr>\n",
       "  </tbody>\n",
       "</table>\n",
       "</div>"
      ],
      "text/plain": [
       "    precision    recall  accuracy  f1_score  log_loss   roc_auc   eval_date\n",
       "0    0.992248  0.980392    0.9875  0.985977  0.282487  0.998330  2024-03-16\n",
       "1    0.992248  0.980392    0.9875  0.985977  0.283469  0.998330  2024-03-17\n",
       "2    0.992248  0.980392    0.9875  0.985977  0.286214  0.998330  2024-03-18\n",
       "3    0.992248  0.980392    0.9875  0.985977  0.287350  0.998124  2024-03-19\n",
       "4    0.992248  0.980392    0.9875  0.985977  0.289832  0.997809  2024-03-20\n",
       "5    0.992248  0.980392    0.9875  0.985977  0.290702  0.997809  2024-03-21\n",
       "6    0.992248  0.980392    0.9875  0.985977  0.294744  0.997593  2024-03-22\n",
       "7    0.992248  0.980392    0.9875  0.985977  0.298546  0.997378  2024-03-23\n",
       "8    0.992248  0.980392    0.9875  0.985977  0.304360  0.996425  2024-03-24\n",
       "9    0.992248  0.980392    0.9875  0.985977  0.307354  0.996209  2024-03-25\n",
       "10   0.992248  0.980392    0.9875  0.985977  0.314431  0.996092  2024-03-26\n",
       "11   0.992248  0.980392    0.9875  0.985977  0.324862  0.995669  2024-03-27\n",
       "12   0.992248  0.980392    0.9875  0.985977  0.329929  0.995454  2024-03-28\n",
       "13   0.992248  0.980392    0.9875  0.985977  0.341491  0.995022  2024-03-29\n",
       "14   0.992248  0.980392    0.9875  0.985977  0.345583  0.998959  2024-03-30\n",
       "15   0.992248  0.980392    0.9875  0.985977  0.348697  0.998959  2024-03-31\n",
       "16   0.992248  0.980392    0.9875  0.985977  0.352289  0.998959  2024-04-01\n",
       "17   0.992248  0.980392    0.9875  0.985977  0.359828  0.999175  2024-04-02\n",
       "18   0.992248  0.980392    0.9875  0.985977  0.362548  0.997917  2024-04-03\n",
       "19   0.976912  0.972456    0.9750  0.974211  0.365004  0.998232  2024-04-04\n",
       "20   0.976912  0.972456    0.9750  0.974211  0.371000  0.998016  2024-04-05\n",
       "21   0.976912  0.972456    0.9750  0.974211  0.375101  0.997809  2024-04-06\n",
       "22   0.976912  0.972456    0.9750  0.974211  0.379538  0.997809  2024-04-07\n",
       "23   0.976912  0.972456    0.9750  0.974211  0.383250  0.997809  2024-04-08\n",
       "24   0.976912  0.972456    0.9750  0.974211  0.390838  0.997593  2024-04-09\n",
       "25   0.976912  0.972456    0.9750  0.974211  0.394564  0.997162  2024-04-10\n",
       "26   0.976912  0.972456    0.9750  0.974211  0.397557  0.996739  2024-04-11\n",
       "27   0.976912  0.972456    0.9750  0.974211  0.399610  0.997054  2024-04-12\n",
       "28   0.976912  0.972456    0.9750  0.974211  0.402745  0.996838  2024-04-13\n",
       "29   0.962884  0.964519    0.9625  0.962699  0.406360  0.997152  2024-04-14\n",
       "30   0.962884  0.964519    0.9625  0.962699  0.410168  0.996936  2024-04-15"
      ]
     },
     "execution_count": 32,
     "metadata": {},
     "output_type": "execute_result"
    }
   ],
   "source": [
    "evaluations"
   ]
  },
  {
   "cell_type": "code",
   "execution_count": 33,
   "metadata": {
    "tags": []
   },
   "outputs": [],
   "source": [
    "evaluations.set_index('eval_date', inplace = True)"
   ]
  },
  {
   "cell_type": "code",
   "execution_count": 34,
   "metadata": {
    "tags": []
   },
   "outputs": [
    {
     "data": {
      "text/plain": [
       "<Axes: title={'center': 'Evaluation Metrics Over Last 30 days'}, xlabel='eval_date'>"
      ]
     },
     "execution_count": 34,
     "metadata": {},
     "output_type": "execute_result"
    },
    {
     "data": {
      "image/png": "[encoded data removed]",
      "text/plain": [
       "<Figure size 800x300 with 1 Axes>"
      ]
     },
     "metadata": {},
     "output_type": "display_data"
    }
   ],
   "source": [
    "evaluations.plot(y = ['log_loss', 'f1_score', 'precision'], legend = True, title = 'Evaluation Metrics Over Last 30 days', figsize = (8, 3), grid = True)"
   ]
  },
  {
   "cell_type": "markdown",
   "metadata": {
    "tags": []
   },
   "source": [
    "---\n",
    "## **Model Monitoring**\n",
    "\n",
    "Reviewing model evaluations over time does show a pattern of deterioration in the example above.  But at what point is it actionable?  And what if each days evaluations are relying on actual values that took hours, days, weeks, or even months to be available?  \n",
    "\n",
    "Model monitoring takes a different approach.  It goes back to the source of the model, each input feature.  These features form a distribution at the input to the model (the training data) and this can be used to compare to over time.  By setting thresholds on these comparisons to the original training data, alerts can be used to notify that a models accuracy *could be* in question.  This comparison to the training data is called **skew** detection.\n",
    "\n",
    "Similarly, each days values could be compared to the previous days, or weeks values.  These comparisons are referred to as **drift** detection.  \n",
    "\n",
    "Both of these types of comparisons can be done directly in BigQuery with two functions built for these tasks:\n",
    "- [`ML.VALIDATE_DATA_SKEW`](https://cloud.google.com/bigquery/docs/reference/standard-sql/bigqueryml-syntax-validate-data-skew)\n",
    "- [`ML.VALIDATE_DATA_DRIFT`](https://cloud.google.com/bigquery/docs/reference/standard-sql/bigqueryml-syntax-validate-data-drift)"
   ]
  },
  {
   "cell_type": "markdown",
   "metadata": {},
   "source": [
    "### Monitoring Skew (Change from training) With `ML.VALIDATE_DATA_SKEW`\n",
    "\n",
    "Compare today, or any data, to the training data by directly comparing to the the model created in BigQuery."
   ]
  },
  {
   "cell_type": "code",
   "execution_count": 69,
   "metadata": {
    "tags": []
   },
   "outputs": [
    {
     "data": {
      "application/vnd.jupyter.widget-view+json": {
       "model_id": "0551b28469544baa80773bcf7917f215",
       "version_major": 2,
       "version_minor": 0
      },
      "text/plain": [
       "Query is running:   0%|          |"
      ]
     },
     "metadata": {},
     "output_type": "display_data"
    },
    {
     "data": {
      "application/vnd.jupyter.widget-view+json": {
       "model_id": "f06d5b0104cd42d688c5f088389743f2",
       "version_major": 2,
       "version_minor": 0
      },
      "text/plain": [
       "Downloading:   0%|          |"
      ]
     },
     "metadata": {},
     "output_type": "display_data"
    },
    {
     "data": {
      "text/html": [
       "<div>\n",
       "<style scoped>\n",
       "    .dataframe tbody tr th:only-of-type {\n",
       "        vertical-align: middle;\n",
       "    }\n",
       "\n",
       "    .dataframe tbody tr th {\n",
       "        vertical-align: top;\n",
       "    }\n",
       "\n",
       "    .dataframe thead th {\n",
       "        text-align: right;\n",
       "    }\n",
       "</style>\n",
       "<table border=\"1\" class=\"dataframe\">\n",
       "  <thead>\n",
       "    <tr style=\"text-align: right;\">\n",
       "      <th></th>\n",
       "      <th>input</th>\n",
       "      <th>metric</th>\n",
       "      <th>threshold</th>\n",
       "      <th>value</th>\n",
       "      <th>is_anomaly</th>\n",
       "    </tr>\n",
       "  </thead>\n",
       "  <tbody>\n",
       "    <tr>\n",
       "      <th>0</th>\n",
       "      <td>body_mass_g</td>\n",
       "      <td>JENSEN_SHANNON_DIVERGENCE</td>\n",
       "      <td>0.3</td>\n",
       "      <td>0.334466</td>\n",
       "      <td>True</td>\n",
       "    </tr>\n",
       "    <tr>\n",
       "      <th>1</th>\n",
       "      <td>culmen_depth_mm</td>\n",
       "      <td>JENSEN_SHANNON_DIVERGENCE</td>\n",
       "      <td>0.3</td>\n",
       "      <td>0.020037</td>\n",
       "      <td>False</td>\n",
       "    </tr>\n",
       "    <tr>\n",
       "      <th>2</th>\n",
       "      <td>culmen_length_mm</td>\n",
       "      <td>JENSEN_SHANNON_DIVERGENCE</td>\n",
       "      <td>0.3</td>\n",
       "      <td>0.055552</td>\n",
       "      <td>False</td>\n",
       "    </tr>\n",
       "    <tr>\n",
       "      <th>3</th>\n",
       "      <td>flipper_length_mm</td>\n",
       "      <td>JENSEN_SHANNON_DIVERGENCE</td>\n",
       "      <td>0.3</td>\n",
       "      <td>0.889328</td>\n",
       "      <td>True</td>\n",
       "    </tr>\n",
       "    <tr>\n",
       "      <th>4</th>\n",
       "      <td>island</td>\n",
       "      <td>L_INFTY</td>\n",
       "      <td>0.3</td>\n",
       "      <td>0.074895</td>\n",
       "      <td>False</td>\n",
       "    </tr>\n",
       "    <tr>\n",
       "      <th>5</th>\n",
       "      <td>sex</td>\n",
       "      <td>L_INFTY</td>\n",
       "      <td>0.3</td>\n",
       "      <td>0.006550</td>\n",
       "      <td>False</td>\n",
       "    </tr>\n",
       "  </tbody>\n",
       "</table>\n",
       "</div>"
      ],
      "text/plain": [
       "               input                     metric  threshold     value  \\\n",
       "0        body_mass_g  JENSEN_SHANNON_DIVERGENCE        0.3  0.334466   \n",
       "1    culmen_depth_mm  JENSEN_SHANNON_DIVERGENCE        0.3  0.020037   \n",
       "2   culmen_length_mm  JENSEN_SHANNON_DIVERGENCE        0.3  0.055552   \n",
       "3  flipper_length_mm  JENSEN_SHANNON_DIVERGENCE        0.3  0.889328   \n",
       "4             island                    L_INFTY        0.3  0.074895   \n",
       "5                sex                    L_INFTY        0.3  0.006550   \n",
       "\n",
       "   is_anomaly  \n",
       "0        True  \n",
       "1       False  \n",
       "2       False  \n",
       "3        True  \n",
       "4       False  \n",
       "5       False  "
      ]
     },
     "execution_count": 69,
     "metadata": {},
     "output_type": "execute_result"
    }
   ],
   "source": [
    "%%bigquery\n",
    "SELECT *\n",
    "FROM ML.VALIDATE_DATA_SKEW(\n",
    "    MODEL `statmike-mlops-349915.bqml_model_monitoring.classify_species_rf`,\n",
    "    (\n",
    "        SELECT *\n",
    "        FROM `statmike-mlops-349915.bqml_model_monitoring.serving`\n",
    "        WHERE DATE(instance_timestamp) >= CURRENT_DATE()\n",
    "    )\n",
    ");"
   ]
  },
  {
   "cell_type": "markdown",
   "metadata": {},
   "source": [
    "### Monitoring Drift (Change Over Time) With `ML.VALIDATE_DATA_DRIFT`\n",
    "\n",
    "Compare today to 5 days ago and set the a lower, more sensitive, threshold of `0.03` (default is `0.3`) for all features."
   ]
  },
  {
   "cell_type": "code",
   "execution_count": 70,
   "metadata": {
    "tags": []
   },
   "outputs": [
    {
     "data": {
      "application/vnd.jupyter.widget-view+json": {
       "model_id": "e6820290b3da401c911e5a1a658ce0bf",
       "version_major": 2,
       "version_minor": 0
      },
      "text/plain": [
       "Query is running:   0%|          |"
      ]
     },
     "metadata": {},
     "output_type": "display_data"
    },
    {
     "data": {
      "application/vnd.jupyter.widget-view+json": {
       "model_id": "0a6b871c864b4417a15bf43c6e86a10b",
       "version_major": 2,
       "version_minor": 0
      },
      "text/plain": [
       "Downloading:   0%|          |"
      ]
     },
     "metadata": {},
     "output_type": "display_data"
    },
    {
     "data": {
      "text/html": [
       "<div>\n",
       "<style scoped>\n",
       "    .dataframe tbody tr th:only-of-type {\n",
       "        vertical-align: middle;\n",
       "    }\n",
       "\n",
       "    .dataframe tbody tr th {\n",
       "        vertical-align: top;\n",
       "    }\n",
       "\n",
       "    .dataframe thead th {\n",
       "        text-align: right;\n",
       "    }\n",
       "</style>\n",
       "<table border=\"1\" class=\"dataframe\">\n",
       "  <thead>\n",
       "    <tr style=\"text-align: right;\">\n",
       "      <th></th>\n",
       "      <th>input</th>\n",
       "      <th>metric</th>\n",
       "      <th>threshold</th>\n",
       "      <th>value</th>\n",
       "      <th>is_anomaly</th>\n",
       "    </tr>\n",
       "  </thead>\n",
       "  <tbody>\n",
       "    <tr>\n",
       "      <th>0</th>\n",
       "      <td>body_mass_g</td>\n",
       "      <td>JENSEN_SHANNON_DIVERGENCE</td>\n",
       "      <td>0.03</td>\n",
       "      <td>0.062425</td>\n",
       "      <td>True</td>\n",
       "    </tr>\n",
       "    <tr>\n",
       "      <th>1</th>\n",
       "      <td>culmen_depth_mm</td>\n",
       "      <td>JENSEN_SHANNON_DIVERGENCE</td>\n",
       "      <td>0.03</td>\n",
       "      <td>0.000000</td>\n",
       "      <td>False</td>\n",
       "    </tr>\n",
       "    <tr>\n",
       "      <th>2</th>\n",
       "      <td>culmen_length_mm</td>\n",
       "      <td>JENSEN_SHANNON_DIVERGENCE</td>\n",
       "      <td>0.03</td>\n",
       "      <td>0.000000</td>\n",
       "      <td>False</td>\n",
       "    </tr>\n",
       "    <tr>\n",
       "      <th>3</th>\n",
       "      <td>flipper_length_mm</td>\n",
       "      <td>JENSEN_SHANNON_DIVERGENCE</td>\n",
       "      <td>0.03</td>\n",
       "      <td>0.085785</td>\n",
       "      <td>True</td>\n",
       "    </tr>\n",
       "    <tr>\n",
       "      <th>4</th>\n",
       "      <td>island</td>\n",
       "      <td>L_INFTY</td>\n",
       "      <td>0.03</td>\n",
       "      <td>0.000000</td>\n",
       "      <td>False</td>\n",
       "    </tr>\n",
       "    <tr>\n",
       "      <th>5</th>\n",
       "      <td>sex</td>\n",
       "      <td>L_INFTY</td>\n",
       "      <td>0.03</td>\n",
       "      <td>0.000000</td>\n",
       "      <td>False</td>\n",
       "    </tr>\n",
       "  </tbody>\n",
       "</table>\n",
       "</div>"
      ],
      "text/plain": [
       "               input                     metric  threshold     value  \\\n",
       "0        body_mass_g  JENSEN_SHANNON_DIVERGENCE       0.03  0.062425   \n",
       "1    culmen_depth_mm  JENSEN_SHANNON_DIVERGENCE       0.03  0.000000   \n",
       "2   culmen_length_mm  JENSEN_SHANNON_DIVERGENCE       0.03  0.000000   \n",
       "3  flipper_length_mm  JENSEN_SHANNON_DIVERGENCE       0.03  0.085785   \n",
       "4             island                    L_INFTY       0.03  0.000000   \n",
       "5                sex                    L_INFTY       0.03  0.000000   \n",
       "\n",
       "   is_anomaly  \n",
       "0        True  \n",
       "1       False  \n",
       "2       False  \n",
       "3        True  \n",
       "4       False  \n",
       "5       False  "
      ]
     },
     "execution_count": 70,
     "metadata": {},
     "output_type": "execute_result"
    }
   ],
   "source": [
    "%%bigquery\n",
    "SELECT *\n",
    "FROM ML.VALIDATE_DATA_DRIFT(\n",
    "    (\n",
    "        SELECT * EXCEPT(instance_timestamp, species)\n",
    "        FROM `statmike-mlops-349915.bqml_model_monitoring.serving`\n",
    "        WHERE DATE(instance_timestamp) = DATE_SUB(CURRENT_DATE(), INTERVAL 5 DAY)\n",
    "    ),\n",
    "    (\n",
    "        SELECT * EXCEPT(instance_timestamp, species)\n",
    "        FROM `statmike-mlops-349915.bqml_model_monitoring.serving`\n",
    "        WHERE DATE(instance_timestamp) = CURRENT_DATE() \n",
    "    ),\n",
    "    STRUCT(\n",
    "        0.03 AS categorical_default_threshold,\n",
    "        0.03 AS numerical_default_threshold\n",
    "    )\n",
    ");"
   ]
  },
  {
   "cell_type": "markdown",
   "metadata": {},
   "source": [
    "### Monitoring Skew (Manually) - As Drift from Training Data\n",
    "\n",
    "Since the `ML.VALIDATE_DATA_DRIFT` is comparing two tables, it could also be used for **skew** by comparing the training data to new data, like todays data:"
   ]
  },
  {
   "cell_type": "code",
   "execution_count": 71,
   "metadata": {
    "tags": []
   },
   "outputs": [
    {
     "data": {
      "application/vnd.jupyter.widget-view+json": {
       "model_id": "e8c99f60eebf4643bad2baadd2699c42",
       "version_major": 2,
       "version_minor": 0
      },
      "text/plain": [
       "Query is running:   0%|          |"
      ]
     },
     "metadata": {},
     "output_type": "display_data"
    },
    {
     "data": {
      "application/vnd.jupyter.widget-view+json": {
       "model_id": "f4346239a7264ddb995002bcfef91a4a",
       "version_major": 2,
       "version_minor": 0
      },
      "text/plain": [
       "Downloading:   0%|          |"
      ]
     },
     "metadata": {},
     "output_type": "display_data"
    },
    {
     "data": {
      "text/html": [
       "<div>\n",
       "<style scoped>\n",
       "    .dataframe tbody tr th:only-of-type {\n",
       "        vertical-align: middle;\n",
       "    }\n",
       "\n",
       "    .dataframe tbody tr th {\n",
       "        vertical-align: top;\n",
       "    }\n",
       "\n",
       "    .dataframe thead th {\n",
       "        text-align: right;\n",
       "    }\n",
       "</style>\n",
       "<table border=\"1\" class=\"dataframe\">\n",
       "  <thead>\n",
       "    <tr style=\"text-align: right;\">\n",
       "      <th></th>\n",
       "      <th>input</th>\n",
       "      <th>metric</th>\n",
       "      <th>threshold</th>\n",
       "      <th>value</th>\n",
       "      <th>is_anomaly</th>\n",
       "    </tr>\n",
       "  </thead>\n",
       "  <tbody>\n",
       "    <tr>\n",
       "      <th>0</th>\n",
       "      <td>body_mass_g</td>\n",
       "      <td>JENSEN_SHANNON_DIVERGENCE</td>\n",
       "      <td>0.3</td>\n",
       "      <td>0.334466</td>\n",
       "      <td>True</td>\n",
       "    </tr>\n",
       "    <tr>\n",
       "      <th>1</th>\n",
       "      <td>culmen_depth_mm</td>\n",
       "      <td>JENSEN_SHANNON_DIVERGENCE</td>\n",
       "      <td>0.3</td>\n",
       "      <td>0.020037</td>\n",
       "      <td>False</td>\n",
       "    </tr>\n",
       "    <tr>\n",
       "      <th>2</th>\n",
       "      <td>culmen_length_mm</td>\n",
       "      <td>JENSEN_SHANNON_DIVERGENCE</td>\n",
       "      <td>0.3</td>\n",
       "      <td>0.055552</td>\n",
       "      <td>False</td>\n",
       "    </tr>\n",
       "    <tr>\n",
       "      <th>3</th>\n",
       "      <td>flipper_length_mm</td>\n",
       "      <td>JENSEN_SHANNON_DIVERGENCE</td>\n",
       "      <td>0.3</td>\n",
       "      <td>0.889328</td>\n",
       "      <td>True</td>\n",
       "    </tr>\n",
       "    <tr>\n",
       "      <th>4</th>\n",
       "      <td>island</td>\n",
       "      <td>L_INFTY</td>\n",
       "      <td>0.3</td>\n",
       "      <td>0.074895</td>\n",
       "      <td>False</td>\n",
       "    </tr>\n",
       "    <tr>\n",
       "      <th>5</th>\n",
       "      <td>sex</td>\n",
       "      <td>L_INFTY</td>\n",
       "      <td>0.3</td>\n",
       "      <td>0.006550</td>\n",
       "      <td>False</td>\n",
       "    </tr>\n",
       "  </tbody>\n",
       "</table>\n",
       "</div>"
      ],
      "text/plain": [
       "               input                     metric  threshold     value  \\\n",
       "0        body_mass_g  JENSEN_SHANNON_DIVERGENCE        0.3  0.334466   \n",
       "1    culmen_depth_mm  JENSEN_SHANNON_DIVERGENCE        0.3  0.020037   \n",
       "2   culmen_length_mm  JENSEN_SHANNON_DIVERGENCE        0.3  0.055552   \n",
       "3  flipper_length_mm  JENSEN_SHANNON_DIVERGENCE        0.3  0.889328   \n",
       "4             island                    L_INFTY        0.3  0.074895   \n",
       "5                sex                    L_INFTY        0.3  0.006550   \n",
       "\n",
       "   is_anomaly  \n",
       "0        True  \n",
       "1       False  \n",
       "2       False  \n",
       "3        True  \n",
       "4       False  \n",
       "5       False  "
      ]
     },
     "execution_count": 71,
     "metadata": {},
     "output_type": "execute_result"
    }
   ],
   "source": [
    "%%bigquery\n",
    "SELECT *\n",
    "FROM ML.VALIDATE_DATA_DRIFT(\n",
    "    (\n",
    "        SELECT *\n",
    "        FROM `statmike-mlops-349915.bqml_model_monitoring.training_split`\n",
    "        WHERE splits = 'TRAIN'\n",
    "    ),\n",
    "    (\n",
    "        SELECT * EXCEPT(instance_timestamp, species)\n",
    "        FROM `statmike-mlops-349915.bqml_model_monitoring.serving`\n",
    "        WHERE DATE(instance_timestamp) = CURRENT_DATE() \n",
    "    )\n",
    ");"
   ]
  },
  {
   "cell_type": "markdown",
   "metadata": {},
   "source": [
    "---\n",
    "### TensorFlow Data Validation (TFDV) In BigQuery\n",
    "\n",
    "BigQuery offers two functions that bring the power of the TensorFlow's [TFX platform](https://www.tensorflow.org/tfx) with built-in [TensorFlow Data Validation (TFDV)](https://www.tensorflow.org/tfx/data_validation/get_started) module directly inside of BigQuery.\n",
    "- [`ML.TFDV_DESCRIBE`](https://cloud.google.com/bigquery/docs/reference/standard-sql/bigqueryml-syntax-tfdv-describe) to generate descriptive statistics of any table\n",
    "- [`ML.TFDV_VALIDATE`](https://cloud.google.com/bigquery/docs/reference/standard-sql/bigqueryml-syntax-tfdv-validate) to compare statistics of two tables"
   ]
  },
  {
   "cell_type": "markdown",
   "metadata": {},
   "source": [
    "#### Generate Statistics with `ML.TFDV_DESCRIBE`\n",
    "\n",
    "Generate statistics for any table, in this case the training data features or a timespan of serving data features.  This is like using the TensorFlow's [TFX platform](https://www.tensorflow.org/tfx) with built-in [TensorFlow Data Validation (TFDV)](https://www.tensorflow.org/tfx/data_validation/get_started) module's [`tfdv.generate_statistics_from_csv()`](https://www.tensorflow.org/tfx/data_validation/api_docs/python/tfdv/generate_statistics_from_csv) method.\n",
    "\n",
    "The descriptions can be used in comparisons for skew or drift detection with the `ML.TFDV_VALIDATE` function, covered next, as well as in the visualization tool `tfdv.visualize_statistics` also covered below."
   ]
  },
  {
   "cell_type": "code",
   "execution_count": 72,
   "metadata": {
    "tags": []
   },
   "outputs": [
    {
     "data": {
      "application/vnd.jupyter.widget-view+json": {
       "model_id": "a4a2ed67f1e84741b63625c93bb0d228",
       "version_major": 2,
       "version_minor": 0
      },
      "text/plain": [
       "Query is running:   0%|          |"
      ]
     },
     "metadata": {},
     "output_type": "display_data"
    },
    {
     "data": {
      "application/vnd.jupyter.widget-view+json": {
       "model_id": "9e58d87639d54b7b83c251b54bb75c2b",
       "version_major": 2,
       "version_minor": 0
      },
      "text/plain": [
       "Downloading:   0%|          |"
      ]
     },
     "metadata": {},
     "output_type": "display_data"
    }
   ],
   "source": [
    "%%bigquery train_describe\n",
    "SELECT *\n",
    "FROM ML.TFDV_DESCRIBE(\n",
    "    (\n",
    "        SELECT * EXCEPT(splits, species)\n",
    "        FROM `statmike-mlops-349915.bqml_model_monitoring.training_split`\n",
    "        WHERE splits = 'TRAIN'\n",
    "    )\n",
    ")"
   ]
  },
  {
   "cell_type": "code",
   "execution_count": 73,
   "metadata": {
    "tags": []
   },
   "outputs": [],
   "source": [
    "train_describe = json.loads(train_describe['dataset_feature_statistics_list'].iloc[0])"
   ]
  },
  {
   "cell_type": "code",
   "execution_count": 74,
   "metadata": {
    "tags": []
   },
   "outputs": [
    {
     "data": {
      "text/plain": [
       "{'name': 'body_mass_g',\n",
       " 'num_stats': {'common_stats': {'avg_num_values': 1,\n",
       "   'max_num_values': '1',\n",
       "   'min_num_values': '1',\n",
       "   'num_non_missing': '236',\n",
       "   'num_values_histogram': {'buckets': [{'high_value': 1,\n",
       "      'low_value': 1,\n",
       "      'sample_count': 23.8},\n",
       "     {'high_value': 1, 'low_value': 1, 'sample_count': 23.8},\n",
       "     {'high_value': 1, 'low_value': 1, 'sample_count': 23.8},\n",
       "     {'high_value': 1, 'low_value': 1, 'sample_count': 23.8},\n",
       "     {'high_value': 1, 'low_value': 1, 'sample_count': 23.8},\n",
       "     {'high_value': 1, 'low_value': 1, 'sample_count': 23.8},\n",
       "     {'high_value': 1, 'low_value': 1, 'sample_count': 23.8},\n",
       "     {'high_value': 1, 'low_value': 1, 'sample_count': 23.8},\n",
       "     {'high_value': 1, 'low_value': 1, 'sample_count': 23.8},\n",
       "     {'high_value': 1, 'low_value': 1, 'sample_count': 23.8}],\n",
       "    'type': 'QUANTILES'},\n",
       "   'tot_num_values': '236'},\n",
       "  'histograms': [{'buckets': [{'high_value': 3325,\n",
       "      'low_value': 2700,\n",
       "      'sample_count': 23.8},\n",
       "     {'high_value': 3500, 'low_value': 3325, 'sample_count': 23.8},\n",
       "     {'high_value': 3650, 'low_value': 3500, 'sample_count': 23.8},\n",
       "     {'high_value': 3850, 'low_value': 3650, 'sample_count': 23.8},\n",
       "     {'high_value': 4050, 'low_value': 3850, 'sample_count': 23.8},\n",
       "     {'high_value': 4300, 'low_value': 4050, 'sample_count': 23.8},\n",
       "     {'high_value': 4625, 'low_value': 4300, 'sample_count': 23.8},\n",
       "     {'high_value': 4900, 'low_value': 4625, 'sample_count': 23.8},\n",
       "     {'high_value': 5400, 'low_value': 4900, 'sample_count': 23.8},\n",
       "     {'high_value': 6300, 'low_value': 5400, 'sample_count': 23.8}],\n",
       "    'type': 'QUANTILES'},\n",
       "   {'buckets': [{'high_value': 3060,\n",
       "      'low_value': 2700,\n",
       "      'sample_count': 9.13919999999999},\n",
       "     {'high_value': 3420,\n",
       "      'low_value': 3060,\n",
       "      'sample_count': 27.227199999999957},\n",
       "     {'high_value': 3780,\n",
       "      'low_value': 3420,\n",
       "      'sample_count': 52.21719999999991},\n",
       "     {'high_value': 4140,\n",
       "      'low_value': 3780,\n",
       "      'sample_count': 35.60479999999994},\n",
       "     {'high_value': 4500,\n",
       "      'low_value': 4140,\n",
       "      'sample_count': 35.03359999999994},\n",
       "     {'high_value': 4860,\n",
       "      'low_value': 4500,\n",
       "      'sample_count': 26.275199999999955},\n",
       "     {'high_value': 5220,\n",
       "      'low_value': 4860,\n",
       "      'sample_count': 20.22999999999997},\n",
       "     {'high_value': 5580,\n",
       "      'low_value': 5220,\n",
       "      'sample_count': 15.04159999999998},\n",
       "     {'high_value': 5940,\n",
       "      'low_value': 5580,\n",
       "      'sample_count': 13.399399999999982},\n",
       "     {'high_value': 6300, 'low_value': 5940, 'sample_count': 3.8318}]}],\n",
       "  'max': 6300,\n",
       "  'mean': 4208.792372881358,\n",
       "  'median': 4050,\n",
       "  'min': 2700,\n",
       "  'std_dev': 789.2951179135509},\n",
       " 'type': 'FLOAT'}"
      ]
     },
     "execution_count": 74,
     "metadata": {},
     "output_type": "execute_result"
    }
   ],
   "source": [
    "train_describe['datasets'][0]['features'][0]"
   ]
  },
  {
   "cell_type": "code",
   "execution_count": 75,
   "metadata": {
    "tags": []
   },
   "outputs": [
    {
     "data": {
      "application/vnd.jupyter.widget-view+json": {
       "model_id": "b6269fc0fc844153ac6c84d5c3f5f494",
       "version_major": 2,
       "version_minor": 0
      },
      "text/plain": [
       "Query is running:   0%|          |"
      ]
     },
     "metadata": {},
     "output_type": "display_data"
    },
    {
     "data": {
      "application/vnd.jupyter.widget-view+json": {
       "model_id": "86c3fe18c0d7475a83b7a0bc984289bb",
       "version_major": 2,
       "version_minor": 0
      },
      "text/plain": [
       "Downloading:   0%|          |"
      ]
     },
     "metadata": {},
     "output_type": "display_data"
    }
   ],
   "source": [
    "%%bigquery today_describe\n",
    "SELECT *\n",
    "FROM ML.TFDV_DESCRIBE(\n",
    "    (\n",
    "        SELECT * EXCEPT(instance_timestamp, species)\n",
    "        FROM `statmike-mlops-349915.bqml_model_monitoring.serving`\n",
    "        WHERE DATE(instance_timestamp) = CURRENT_DATE()\n",
    "    )\n",
    ")"
   ]
  },
  {
   "cell_type": "code",
   "execution_count": 76,
   "metadata": {
    "tags": []
   },
   "outputs": [],
   "source": [
    "today_describe = json.loads(today_describe['dataset_feature_statistics_list'].iloc[0])"
   ]
  },
  {
   "cell_type": "code",
   "execution_count": 77,
   "metadata": {
    "tags": []
   },
   "outputs": [],
   "source": [
    "#today_describe['datasets'][0]['features'][0]"
   ]
  },
  {
   "cell_type": "markdown",
   "metadata": {},
   "source": [
    "#### Visualize Statistics with `tfdv.visualize_statistics`\n",
    "\n",
    "Use the [`tfdv.visualize_statistics`](https://www.tensorflow.org/tfx/data_validation/api_docs/python/tfdv/visualize_statistics) tool to visualize the generated descriptions and directly compare them.  This presents visuals using [Facets Overview](https://pair-code.github.io/facets/)."
   ]
  },
  {
   "cell_type": "code",
   "execution_count": 78,
   "metadata": {
    "tags": []
   },
   "outputs": [],
   "source": [
    "import os\n",
    "os.environ['TF_CPP_MIN_LOG_LEVEL'] = '3'\n",
    "import tensorflow_data_validation as tfdv\n",
    "import tensorflow_metadata as tfmd\n",
    "from google.protobuf import json_format"
   ]
  },
  {
   "cell_type": "code",
   "execution_count": 79,
   "metadata": {
    "tags": []
   },
   "outputs": [
    {
     "data": {
      "text/html": [
       "<iframe id='facets-iframe' width=\"100%\" height=\"500px\"></iframe>\n",
       "        <script>\n",
       "        facets_iframe = document.getElementById('facets-iframe');\n",
       "        facets_html = '<script src=\"https://cdnjs.cloudflare.com/ajax/libs/webcomponentsjs/1.3.3/webcomponents-lite.js\"><\\/script><link rel=\"import\" href=\"https://raw.githubusercontent.com/PAIR-code/facets/master/facets-dist/facets-jupyter.html\"><facets-overview proto-input=\"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\"></facets-overview>';\n",
       "        facets_iframe.srcdoc = facets_html;\n",
       "         facets_iframe.id = \"\";\n",
       "         setTimeout(() => {\n",
       "           facets_iframe.setAttribute('height', facets_iframe.contentWindow.document.body.offsetHeight + 'px')\n",
       "         }, 1500)\n",
       "         </script>"
      ],
      "text/plain": [
       "<IPython.core.display.HTML object>"
      ]
     },
     "metadata": {},
     "output_type": "display_data"
    }
   ],
   "source": [
    "tfdv.visualize_statistics(\n",
    "    lhs_statistics = json_format.ParseDict(train_describe, tfmd.proto.statistics_pb2.DatasetFeatureStatisticsList()),\n",
    "    rhs_statistics = json_format.ParseDict(today_describe, tfmd.proto.statistics_pb2.DatasetFeatureStatisticsList()),\n",
    "    lhs_name = 'Training Data Stats',\n",
    "    rhs_name = 'Serving Data Stats - For Today'\n",
    ")"
   ]
  },
  {
   "cell_type": "markdown",
   "metadata": {},
   "source": [
    "#### Compare And Detect Anomalies with `ML.TFDV_VALIDATE`\n",
    "\n",
    "Compare the distribution of any table to a base table and compute distance statistics to detect anomalies.  This is like using the TensorFlow's [TFX platform](https://www.tensorflow.org/tfx) with built-in [TensorFlow Data Validation (TFDV)](https://www.tensorflow.org/tfx/data_validation/get_started) module's [validate_statistics api](https://www.tensorflow.org/tfx/data_validation/api_docs/python/tfdv/validate_statistics).\n",
    "\n",
    "These comparison can be made to training data for **skew** detection or previous serving data for **drift** detection."
   ]
  },
  {
   "cell_type": "code",
   "execution_count": 80,
   "metadata": {
    "tags": []
   },
   "outputs": [
    {
     "data": {
      "application/vnd.jupyter.widget-view+json": {
       "model_id": "0bebd05fdc5846cd97ae5e5baa4637e5",
       "version_major": 2,
       "version_minor": 0
      },
      "text/plain": [
       "Query is running:   0%|          |"
      ]
     },
     "metadata": {},
     "output_type": "display_data"
    },
    {
     "data": {
      "application/vnd.jupyter.widget-view+json": {
       "model_id": "36c0b3b8dc8f4e7592389e88c689aca1",
       "version_major": 2,
       "version_minor": 0
      },
      "text/plain": [
       "Downloading:   0%|          |"
      ]
     },
     "metadata": {},
     "output_type": "display_data"
    }
   ],
   "source": [
    "%%bigquery validate\n",
    "WITH\n",
    "    TRAIN AS (\n",
    "        SELECT * EXCEPT(splits, species)\n",
    "        FROM `statmike-mlops-349915.bqml_model_monitoring.training_split`\n",
    "        WHERE splits = 'TRAIN'\n",
    "    ),\n",
    "    SERVE AS (\n",
    "        SELECT * EXCEPT(instance_timestamp, species)\n",
    "        FROM `statmike-mlops-349915.bqml_model_monitoring.serving`\n",
    "        WHERE DATE(instance_timestamp) = CURRENT_DATE()\n",
    "    )\n",
    "SELECT ML.TFDV_VALIDATE(\n",
    "    (SELECT * FROM ML.TFDV_DESCRIBE(TABLE TRAIN)),\n",
    "    (SELECT * FROM ML.TFDV_DESCRIBE(TABLE SERVE)),\n",
    "    'SKEW'\n",
    ") as validate"
   ]
  },
  {
   "cell_type": "code",
   "execution_count": 81,
   "metadata": {
    "tags": []
   },
   "outputs": [],
   "source": [
    "validate = json.loads(validate['validate'].iloc[0])"
   ]
  },
  {
   "cell_type": "code",
   "execution_count": 82,
   "metadata": {
    "tags": []
   },
   "outputs": [],
   "source": [
    "#validate['anomaly_info']"
   ]
  },
  {
   "cell_type": "markdown",
   "metadata": {},
   "source": [
    "#### Display Anomalies with `tfdv.display_anomalies`\n",
    "\n",
    "Use the [`tfdv.display_anomalies`](https://www.tensorflow.org/tfx/data_validation/api_docs/python/tfdv/display_anomalies) tool to display a table of anomaly detections with descriptions."
   ]
  },
  {
   "cell_type": "code",
   "execution_count": 83,
   "metadata": {
    "tags": []
   },
   "outputs": [],
   "source": [
    "if 'generate_legacy_feature_spec' in validate['baseline'].keys():\n",
    "    del validate['baseline']['generate_legacy_feature_spec']"
   ]
  },
  {
   "cell_type": "code",
   "execution_count": 84,
   "metadata": {
    "tags": []
   },
   "outputs": [
    {
     "data": {
      "text/html": [
       "<div>\n",
       "<style scoped>\n",
       "    .dataframe tbody tr th:only-of-type {\n",
       "        vertical-align: middle;\n",
       "    }\n",
       "\n",
       "    .dataframe tbody tr th {\n",
       "        vertical-align: top;\n",
       "    }\n",
       "\n",
       "    .dataframe thead th {\n",
       "        text-align: right;\n",
       "    }\n",
       "</style>\n",
       "<table border=\"1\" class=\"dataframe\">\n",
       "  <thead>\n",
       "    <tr style=\"text-align: right;\">\n",
       "      <th></th>\n",
       "      <th>Anomaly short description</th>\n",
       "      <th>Anomaly long description</th>\n",
       "    </tr>\n",
       "    <tr>\n",
       "      <th>Feature name</th>\n",
       "      <th></th>\n",
       "      <th></th>\n",
       "    </tr>\n",
       "  </thead>\n",
       "  <tbody>\n",
       "    <tr>\n",
       "      <th>'flipper_length_mm'</th>\n",
       "      <td>High approximate Jensen-Shannon divergence between training and serving</td>\n",
       "      <td>The approximate Jensen-Shannon divergence between training and serving is 0.889328 (up to six significant digits), above the threshold 0.3.</td>\n",
       "    </tr>\n",
       "    <tr>\n",
       "      <th>'body_mass_g'</th>\n",
       "      <td>High approximate Jensen-Shannon divergence between training and serving</td>\n",
       "      <td>The approximate Jensen-Shannon divergence between training and serving is 0.334466 (up to six significant digits), above the threshold 0.3.</td>\n",
       "    </tr>\n",
       "  </tbody>\n",
       "</table>\n",
       "</div>"
      ],
      "text/plain": [
       "                                                                   Anomaly short description  \\\n",
       "Feature name                                                                                   \n",
       "'flipper_length_mm'  High approximate Jensen-Shannon divergence between training and serving   \n",
       "'body_mass_g'        High approximate Jensen-Shannon divergence between training and serving   \n",
       "\n",
       "                                                                                                                                        Anomaly long description  \n",
       "Feature name                                                                                                                                                      \n",
       "'flipper_length_mm'  The approximate Jensen-Shannon divergence between training and serving is 0.889328 (up to six significant digits), above the threshold 0.3.  \n",
       "'body_mass_g'        The approximate Jensen-Shannon divergence between training and serving is 0.334466 (up to six significant digits), above the threshold 0.3.  "
      ]
     },
     "metadata": {},
     "output_type": "display_data"
    }
   ],
   "source": [
    "tfdv.display_anomalies(\n",
    "    anomalies = json_format.ParseDict(validate, tfmd.proto.anomalies_pb2.Anomalies())\n",
    ")"
   ]
  },
  {
   "cell_type": "markdown",
   "metadata": {},
   "source": [
    "---\n",
    "## Understanding Monitoring Thresholds\n",
    "\n",
    "The `ML.VALIDATE_DATA_DRIFT`, `ML.VALIDATE_DATA_SKEW`, and `ML.TFDV_VALIDATE` functions use distance scores to quantify the change in the statistical distribution of features.  The methods of calculating the distance scores are:\n",
    "- [L-infinity distance](https://en.wikipedia.org/wiki/Chebyshev_distance) for categorical features\n",
    "- [Jensen-Shannon divergence](https://en.wikipedia.org/wiki/Jensen%E2%80%93Shannon_divergence) for numeric features.  Can also be use for categorical features.\n",
    "\n",
    "These methods are the same ones used by [TensorFlow Data Validation](https://www.tensorflow.org/tfx/guide/tfdv#training-serving_skew_detection) which is also used in [Vertex AI Model Monitoring](https://cloud.google.com/vertex-ai/docs/model-monitoring/overview#calculating-skew-and-drift).\n",
    "\n",
    "This section aims to provide intuition on how these two metrics work.  In the data used for this workflow the feature `island` has three possible values: `Biscoe`, `Dream`, and `Torgersen`.  The proportion of data in each of these categories forms a distribution.  This will be used to visually show how both methods of calculating distance scores work."
   ]
  },
  {
   "cell_type": "code",
   "execution_count": 85,
   "metadata": {
    "tags": []
   },
   "outputs": [],
   "source": [
    "import pandas as pd\n",
    "import numpy as np"
   ]
  },
  {
   "cell_type": "markdown",
   "metadata": {},
   "source": [
    "### Retrieve Distributions: Training & Serving\n",
    "\n",
    "Use the `ML.TFDV_DESCRIBE` function to get the statistics for the distribution of the `island` feature at both training and for serving."
   ]
  },
  {
   "cell_type": "code",
   "execution_count": 86,
   "metadata": {
    "tags": []
   },
   "outputs": [
    {
     "data": {
      "application/vnd.jupyter.widget-view+json": {
       "model_id": "be489c77682c42468961b76a42182b78",
       "version_major": 2,
       "version_minor": 0
      },
      "text/plain": [
       "Query is running:   0%|          |"
      ]
     },
     "metadata": {},
     "output_type": "display_data"
    },
    {
     "data": {
      "application/vnd.jupyter.widget-view+json": {
       "model_id": "3e8e2b59ba924a29a7cd4f93fff89e1e",
       "version_major": 2,
       "version_minor": 0
      },
      "text/plain": [
       "Downloading:   0%|          |"
      ]
     },
     "metadata": {},
     "output_type": "display_data"
    }
   ],
   "source": [
    "%%bigquery island_train\n",
    "SELECT *\n",
    "FROM ML.TFDV_DESCRIBE(\n",
    "    (\n",
    "        SELECT island\n",
    "        FROM `statmike-mlops-349915.bqml_model_monitoring.training_split`\n",
    "        WHERE splits = 'TRAIN'\n",
    "    )\n",
    ")"
   ]
  },
  {
   "cell_type": "code",
   "execution_count": 87,
   "metadata": {
    "tags": []
   },
   "outputs": [
    {
     "data": {
      "application/vnd.jupyter.widget-view+json": {
       "model_id": "5a65a84189ca495bae33fb30773d22cc",
       "version_major": 2,
       "version_minor": 0
      },
      "text/plain": [
       "Query is running:   0%|          |"
      ]
     },
     "metadata": {},
     "output_type": "display_data"
    },
    {
     "data": {
      "application/vnd.jupyter.widget-view+json": {
       "model_id": "1070179aad384bb89fdfab0c320476ed",
       "version_major": 2,
       "version_minor": 0
      },
      "text/plain": [
       "Downloading:   0%|          |"
      ]
     },
     "metadata": {},
     "output_type": "display_data"
    }
   ],
   "source": [
    "%%bigquery island_serve\n",
    "SELECT *\n",
    "FROM ML.TFDV_DESCRIBE(\n",
    "    (\n",
    "        SELECT island\n",
    "        FROM `statmike-mlops-349915.bqml_model_monitoring.serving`\n",
    "    )\n",
    ")"
   ]
  },
  {
   "cell_type": "code",
   "execution_count": 88,
   "metadata": {
    "tags": []
   },
   "outputs": [],
   "source": [
    "island_train = json.loads(island_train['dataset_feature_statistics_list'].iloc[0])\n",
    "island_serve = json.loads(island_serve['dataset_feature_statistics_list'].iloc[0])"
   ]
  },
  {
   "cell_type": "code",
   "execution_count": 89,
   "metadata": {
    "tags": []
   },
   "outputs": [
    {
     "data": {
      "text/plain": [
       "{'avg_length': 6.092437,\n",
       " 'common_stats': {'avg_num_values': 1,\n",
       "  'max_num_values': '1',\n",
       "  'min_num_values': '1',\n",
       "  'num_non_missing': '238',\n",
       "  'num_values_histogram': {'buckets': [{'high_value': 1,\n",
       "     'low_value': 1,\n",
       "     'sample_count': 23.8},\n",
       "    {'high_value': 1, 'low_value': 1, 'sample_count': 23.8},\n",
       "    {'high_value': 1, 'low_value': 1, 'sample_count': 23.8},\n",
       "    {'high_value': 1, 'low_value': 1, 'sample_count': 23.8},\n",
       "    {'high_value': 1, 'low_value': 1, 'sample_count': 23.8},\n",
       "    {'high_value': 1, 'low_value': 1, 'sample_count': 23.8},\n",
       "    {'high_value': 1, 'low_value': 1, 'sample_count': 23.8},\n",
       "    {'high_value': 1, 'low_value': 1, 'sample_count': 23.8},\n",
       "    {'high_value': 1, 'low_value': 1, 'sample_count': 23.8},\n",
       "    {'high_value': 1, 'low_value': 1, 'sample_count': 23.8}],\n",
       "   'type': 'QUANTILES'},\n",
       "  'tot_num_values': '238'},\n",
       " 'rank_histogram': {'buckets': [{'label': 'Biscoe', 'sample_count': 116},\n",
       "   {'high_rank': '1', 'label': 'Dream', 'low_rank': '1', 'sample_count': 86},\n",
       "   {'high_rank': '2',\n",
       "    'label': 'Torgersen',\n",
       "    'low_rank': '2',\n",
       "    'sample_count': 36}]},\n",
       " 'top_values': [{'frequency': 116, 'value': 'Biscoe'},\n",
       "  {'frequency': 86, 'value': 'Dream'},\n",
       "  {'frequency': 36, 'value': 'Torgersen'}],\n",
       " 'unique': '3'}"
      ]
     },
     "execution_count": 89,
     "metadata": {},
     "output_type": "execute_result"
    }
   ],
   "source": [
    "island_train['datasets'][0]['features'][0]['string_stats']"
   ]
  },
  {
   "cell_type": "code",
   "execution_count": 90,
   "metadata": {
    "tags": []
   },
   "outputs": [
    {
     "data": {
      "text/plain": [
       "[{'label': 'Biscoe', 'sample_count': 116},\n",
       " {'high_rank': '1', 'label': 'Dream', 'low_rank': '1', 'sample_count': 86},\n",
       " {'high_rank': '2', 'label': 'Torgersen', 'low_rank': '2', 'sample_count': 36}]"
      ]
     },
     "execution_count": 90,
     "metadata": {},
     "output_type": "execute_result"
    }
   ],
   "source": [
    "island_train_stats = island_train['datasets'][0]['features'][0]['string_stats']['rank_histogram']['buckets']\n",
    "island_train_stats"
   ]
  },
  {
   "cell_type": "code",
   "execution_count": 91,
   "metadata": {
    "tags": []
   },
   "outputs": [
    {
     "data": {
      "text/plain": [
       "[{'label': 'Biscoe', 'sample_count': 1023},\n",
       " {'high_rank': '1', 'label': 'Dream', 'low_rank': '1', 'sample_count': 930},\n",
       " {'high_rank': '2',\n",
       "  'label': 'Torgersen',\n",
       "  'low_rank': '2',\n",
       "  'sample_count': 527}]"
      ]
     },
     "execution_count": 91,
     "metadata": {},
     "output_type": "execute_result"
    }
   ],
   "source": [
    "island_serve_stats = island_serve['datasets'][0]['features'][0]['string_stats']['rank_histogram']['buckets']\n",
    "island_serve_stats"
   ]
  },
  {
   "cell_type": "markdown",
   "metadata": {},
   "source": [
    "### Combine Distributions In DataFrame"
   ]
  },
  {
   "cell_type": "code",
   "execution_count": 92,
   "metadata": {
    "tags": []
   },
   "outputs": [
    {
     "data": {
      "text/html": [
       "<div>\n",
       "<style scoped>\n",
       "    .dataframe tbody tr th:only-of-type {\n",
       "        vertical-align: middle;\n",
       "    }\n",
       "\n",
       "    .dataframe tbody tr th {\n",
       "        vertical-align: top;\n",
       "    }\n",
       "\n",
       "    .dataframe thead th {\n",
       "        text-align: right;\n",
       "    }\n",
       "</style>\n",
       "<table border=\"1\" class=\"dataframe\">\n",
       "  <thead>\n",
       "    <tr style=\"text-align: right;\">\n",
       "      <th></th>\n",
       "      <th>train_n</th>\n",
       "      <th>serve_n</th>\n",
       "      <th>train_pct</th>\n",
       "      <th>serve_pct</th>\n",
       "    </tr>\n",
       "  </thead>\n",
       "  <tbody>\n",
       "    <tr>\n",
       "      <th>Biscoe</th>\n",
       "      <td>116</td>\n",
       "      <td>1023</td>\n",
       "      <td>0.487395</td>\n",
       "      <td>0.4125</td>\n",
       "    </tr>\n",
       "    <tr>\n",
       "      <th>Dream</th>\n",
       "      <td>86</td>\n",
       "      <td>930</td>\n",
       "      <td>0.361345</td>\n",
       "      <td>0.3750</td>\n",
       "    </tr>\n",
       "    <tr>\n",
       "      <th>Torgersen</th>\n",
       "      <td>36</td>\n",
       "      <td>527</td>\n",
       "      <td>0.151261</td>\n",
       "      <td>0.2125</td>\n",
       "    </tr>\n",
       "  </tbody>\n",
       "</table>\n",
       "</div>"
      ],
      "text/plain": [
       "           train_n  serve_n  train_pct  serve_pct\n",
       "Biscoe         116     1023   0.487395     0.4125\n",
       "Dream           86      930   0.361345     0.3750\n",
       "Torgersen       36      527   0.151261     0.2125"
      ]
     },
     "execution_count": 92,
     "metadata": {},
     "output_type": "execute_result"
    }
   ],
   "source": [
    "index = [i['label'] for i in island_train_stats]\n",
    "train = [i['sample_count'] for i in island_train_stats]\n",
    "serve = [island_serve_stats[index.index(k)]['sample_count'] for k in [i['label'] for i in island_serve_stats]]\n",
    "stats = pd.DataFrame(\n",
    "    {\n",
    "        'train_n': train,\n",
    "        'serve_n': serve,\n",
    "        'train_pct': [x/sum(train) for x in train],\n",
    "        'serve_pct': [x/sum(serve) for x in serve]\n",
    "    },\n",
    "    index = index\n",
    ")\n",
    "stats"
   ]
  },
  {
   "cell_type": "markdown",
   "metadata": {},
   "source": [
    "### Visualize Distributions"
   ]
  },
  {
   "cell_type": "code",
   "execution_count": 93,
   "metadata": {
    "tags": []
   },
   "outputs": [
    {
     "data": {
      "image/png": "[encoded data removed]",
      "text/plain": [
       "<Figure size 640x480 with 1 Axes>"
      ]
     },
     "metadata": {},
     "output_type": "display_data"
    }
   ],
   "source": [
    "ax = stats[['train_pct', 'serve_pct']].plot.bar(rot=0)\n",
    "for container in ax.containers:\n",
    "    ax.bar_label(container)"
   ]
  },
  {
   "cell_type": "markdown",
   "metadata": {},
   "source": [
    "### L-Infinity Distance"
   ]
  },
  {
   "cell_type": "code",
   "execution_count": 94,
   "metadata": {
    "tags": []
   },
   "outputs": [
    {
     "data": {
      "text/html": [
       "<div>\n",
       "<style scoped>\n",
       "    .dataframe tbody tr th:only-of-type {\n",
       "        vertical-align: middle;\n",
       "    }\n",
       "\n",
       "    .dataframe tbody tr th {\n",
       "        vertical-align: top;\n",
       "    }\n",
       "\n",
       "    .dataframe thead th {\n",
       "        text-align: right;\n",
       "    }\n",
       "</style>\n",
       "<table border=\"1\" class=\"dataframe\">\n",
       "  <thead>\n",
       "    <tr style=\"text-align: right;\">\n",
       "      <th></th>\n",
       "      <th>train_n</th>\n",
       "      <th>serve_n</th>\n",
       "      <th>train_pct</th>\n",
       "      <th>serve_pct</th>\n",
       "      <th>abs_change_pct</th>\n",
       "    </tr>\n",
       "  </thead>\n",
       "  <tbody>\n",
       "    <tr>\n",
       "      <th>Biscoe</th>\n",
       "      <td>116</td>\n",
       "      <td>1023</td>\n",
       "      <td>0.487395</td>\n",
       "      <td>0.4125</td>\n",
       "      <td>0.074895</td>\n",
       "    </tr>\n",
       "    <tr>\n",
       "      <th>Dream</th>\n",
       "      <td>86</td>\n",
       "      <td>930</td>\n",
       "      <td>0.361345</td>\n",
       "      <td>0.3750</td>\n",
       "      <td>0.013655</td>\n",
       "    </tr>\n",
       "    <tr>\n",
       "      <th>Torgersen</th>\n",
       "      <td>36</td>\n",
       "      <td>527</td>\n",
       "      <td>0.151261</td>\n",
       "      <td>0.2125</td>\n",
       "      <td>0.061239</td>\n",
       "    </tr>\n",
       "  </tbody>\n",
       "</table>\n",
       "</div>"
      ],
      "text/plain": [
       "           train_n  serve_n  train_pct  serve_pct  abs_change_pct\n",
       "Biscoe         116     1023   0.487395     0.4125        0.074895\n",
       "Dream           86      930   0.361345     0.3750        0.013655\n",
       "Torgersen       36      527   0.151261     0.2125        0.061239"
      ]
     },
     "execution_count": 94,
     "metadata": {},
     "output_type": "execute_result"
    }
   ],
   "source": [
    "stats['abs_change_pct'] = abs(stats['train_pct'] - stats['serve_pct'])\n",
    "stats"
   ]
  },
  {
   "cell_type": "code",
   "execution_count": 95,
   "metadata": {
    "tags": []
   },
   "outputs": [
    {
     "data": {
      "text/plain": [
       "[Text(0, 0, '0.074895'), Text(0, 0, '0.0136555'), Text(0, 0, '0.0612395')]"
      ]
     },
     "execution_count": 95,
     "metadata": {},
     "output_type": "execute_result"
    },
    {
     "data": {
      "image/png": "[encoded data removed]",
      "text/plain": [
       "<Figure size 640x480 with 1 Axes>"
      ]
     },
     "metadata": {},
     "output_type": "display_data"
    }
   ],
   "source": [
    "ax = stats['abs_change_pct'].plot.bar()\n",
    "ax.bar_label(ax.containers[0])"
   ]
  },
  {
   "cell_type": "code",
   "execution_count": 96,
   "metadata": {
    "tags": []
   },
   "outputs": [
    {
     "name": "stdout",
     "output_type": "stream",
     "text": [
      "The max change in percentage(L-Infinity Distance) is 0.07489495798319329\n"
     ]
    }
   ],
   "source": [
    "print(f\"The max change in percentage(L-Infinity Distance) is {max(stats['abs_change_pct'])}\")"
   ]
  },
  {
   "cell_type": "markdown",
   "metadata": {},
   "source": [
    "### Jensen-Shannon Divergence"
   ]
  },
  {
   "cell_type": "code",
   "execution_count": 97,
   "metadata": {
    "tags": []
   },
   "outputs": [
    {
     "data": {
      "text/html": [
       "<div>\n",
       "<style scoped>\n",
       "    .dataframe tbody tr th:only-of-type {\n",
       "        vertical-align: middle;\n",
       "    }\n",
       "\n",
       "    .dataframe tbody tr th {\n",
       "        vertical-align: top;\n",
       "    }\n",
       "\n",
       "    .dataframe thead th {\n",
       "        text-align: right;\n",
       "    }\n",
       "</style>\n",
       "<table border=\"1\" class=\"dataframe\">\n",
       "  <thead>\n",
       "    <tr style=\"text-align: right;\">\n",
       "      <th></th>\n",
       "      <th>train_n</th>\n",
       "      <th>serve_n</th>\n",
       "      <th>train_pct</th>\n",
       "      <th>serve_pct</th>\n",
       "      <th>abs_change_pct</th>\n",
       "      <th>mix</th>\n",
       "      <th>train_kl</th>\n",
       "      <th>serve_kl</th>\n",
       "      <th>JSD</th>\n",
       "    </tr>\n",
       "  </thead>\n",
       "  <tbody>\n",
       "    <tr>\n",
       "      <th>Biscoe</th>\n",
       "      <td>116</td>\n",
       "      <td>1023</td>\n",
       "      <td>0.487395</td>\n",
       "      <td>0.4125</td>\n",
       "      <td>0.074895</td>\n",
       "      <td>0.449947</td>\n",
       "      <td>0.056214</td>\n",
       "      <td>-0.051712</td>\n",
       "      <td>0.002251</td>\n",
       "    </tr>\n",
       "    <tr>\n",
       "      <th>Dream</th>\n",
       "      <td>86</td>\n",
       "      <td>930</td>\n",
       "      <td>0.361345</td>\n",
       "      <td>0.3750</td>\n",
       "      <td>0.013655</td>\n",
       "      <td>0.368172</td>\n",
       "      <td>-0.009758</td>\n",
       "      <td>0.009941</td>\n",
       "      <td>0.000091</td>\n",
       "    </tr>\n",
       "    <tr>\n",
       "      <th>Torgersen</th>\n",
       "      <td>36</td>\n",
       "      <td>527</td>\n",
       "      <td>0.151261</td>\n",
       "      <td>0.2125</td>\n",
       "      <td>0.061239</td>\n",
       "      <td>0.181880</td>\n",
       "      <td>-0.040228</td>\n",
       "      <td>0.047701</td>\n",
       "      <td>0.003736</td>\n",
       "    </tr>\n",
       "  </tbody>\n",
       "</table>\n",
       "</div>"
      ],
      "text/plain": [
       "           train_n  serve_n  train_pct  serve_pct  abs_change_pct       mix  \\\n",
       "Biscoe         116     1023   0.487395     0.4125        0.074895  0.449947   \n",
       "Dream           86      930   0.361345     0.3750        0.013655  0.368172   \n",
       "Torgersen       36      527   0.151261     0.2125        0.061239  0.181880   \n",
       "\n",
       "           train_kl  serve_kl       JSD  \n",
       "Biscoe     0.056214 -0.051712  0.002251  \n",
       "Dream     -0.009758  0.009941  0.000091  \n",
       "Torgersen -0.040228  0.047701  0.003736  "
      ]
     },
     "execution_count": 97,
     "metadata": {},
     "output_type": "execute_result"
    }
   ],
   "source": [
    "stats['mix'] = (stats['train_pct'] + stats['serve_pct']) / 2\n",
    "stats['train_kl'] = stats['train_pct'] * np.log2(stats['train_pct'] / stats['mix'])\n",
    "stats['serve_kl'] = stats['serve_pct'] * np.log2(stats['serve_pct'] / stats['mix'])\n",
    "stats['JSD'] = (stats['train_kl'] + stats['serve_kl']) / 2\n",
    "stats"
   ]
  },
  {
   "cell_type": "code",
   "execution_count": 98,
   "metadata": {
    "tags": []
   },
   "outputs": [
    {
     "name": "stdout",
     "output_type": "stream",
     "text": [
      "The total for the Jansen-Shannon Divergence is 0.006078327541664534\n"
     ]
    }
   ],
   "source": [
    "print(f\"The total for the Jansen-Shannon Divergence is {sum(stats['JSD'])}\")"
   ]
  },
  {
   "cell_type": "markdown",
   "metadata": {},
   "source": [
    "### Verify Calculations with `ML.VALIDATE_DATA_DRIFT`"
   ]
  },
  {
   "cell_type": "code",
   "execution_count": 99,
   "metadata": {
    "tags": []
   },
   "outputs": [
    {
     "data": {
      "application/vnd.jupyter.widget-view+json": {
       "model_id": "402f945f1dcb49509b9ea06e23081fc9",
       "version_major": 2,
       "version_minor": 0
      },
      "text/plain": [
       "Query is running:   0%|          |"
      ]
     },
     "metadata": {},
     "output_type": "display_data"
    },
    {
     "data": {
      "application/vnd.jupyter.widget-view+json": {
       "model_id": "8cd4f48dba6c4f3c9084655cdeed07d6",
       "version_major": 2,
       "version_minor": 0
      },
      "text/plain": [
       "Downloading:   0%|          |"
      ]
     },
     "metadata": {},
     "output_type": "display_data"
    },
    {
     "data": {
      "text/html": [
       "<div>\n",
       "<style scoped>\n",
       "    .dataframe tbody tr th:only-of-type {\n",
       "        vertical-align: middle;\n",
       "    }\n",
       "\n",
       "    .dataframe tbody tr th {\n",
       "        vertical-align: top;\n",
       "    }\n",
       "\n",
       "    .dataframe thead th {\n",
       "        text-align: right;\n",
       "    }\n",
       "</style>\n",
       "<table border=\"1\" class=\"dataframe\">\n",
       "  <thead>\n",
       "    <tr style=\"text-align: right;\">\n",
       "      <th></th>\n",
       "      <th>input</th>\n",
       "      <th>metric</th>\n",
       "      <th>threshold</th>\n",
       "      <th>value</th>\n",
       "      <th>is_anomaly</th>\n",
       "    </tr>\n",
       "  </thead>\n",
       "  <tbody>\n",
       "    <tr>\n",
       "      <th>0</th>\n",
       "      <td>island</td>\n",
       "      <td>L_INFTY</td>\n",
       "      <td>0.3</td>\n",
       "      <td>0.074895</td>\n",
       "      <td>False</td>\n",
       "    </tr>\n",
       "  </tbody>\n",
       "</table>\n",
       "</div>"
      ],
      "text/plain": [
       "    input   metric  threshold     value  is_anomaly\n",
       "0  island  L_INFTY        0.3  0.074895       False"
      ]
     },
     "execution_count": 99,
     "metadata": {},
     "output_type": "execute_result"
    }
   ],
   "source": [
    "%%bigquery\n",
    "SELECT *\n",
    "FROM ML.VALIDATE_DATA_DRIFT(\n",
    "    (\n",
    "        SELECT island\n",
    "        FROM `statmike-mlops-349915.bqml_model_monitoring.training_split`\n",
    "        WHERE splits = 'TRAIN'\n",
    "    ),\n",
    "    (\n",
    "        SELECT island\n",
    "        FROM `statmike-mlops-349915.bqml_model_monitoring.serving`\n",
    "    ),\n",
    "    STRUCT('L_INFTY' AS categorical_metric_type)\n",
    ")"
   ]
  },
  {
   "cell_type": "code",
   "execution_count": 100,
   "metadata": {
    "tags": []
   },
   "outputs": [
    {
     "name": "stdout",
     "output_type": "stream",
     "text": [
      "The max change in percentage(L-Infinity Distance) is 0.07489495798319329\n"
     ]
    }
   ],
   "source": [
    "print(f\"The max change in percentage(L-Infinity Distance) is {max(stats['abs_change_pct'])}\")"
   ]
  },
  {
   "cell_type": "code",
   "execution_count": 101,
   "metadata": {
    "tags": []
   },
   "outputs": [
    {
     "data": {
      "application/vnd.jupyter.widget-view+json": {
       "model_id": "83a6c79c90034754949222149130ba23",
       "version_major": 2,
       "version_minor": 0
      },
      "text/plain": [
       "Query is running:   0%|          |"
      ]
     },
     "metadata": {},
     "output_type": "display_data"
    },
    {
     "data": {
      "application/vnd.jupyter.widget-view+json": {
       "model_id": "74252dd6034347aebd656a78c2f28f0f",
       "version_major": 2,
       "version_minor": 0
      },
      "text/plain": [
       "Downloading:   0%|          |"
      ]
     },
     "metadata": {},
     "output_type": "display_data"
    },
    {
     "data": {
      "text/html": [
       "<div>\n",
       "<style scoped>\n",
       "    .dataframe tbody tr th:only-of-type {\n",
       "        vertical-align: middle;\n",
       "    }\n",
       "\n",
       "    .dataframe tbody tr th {\n",
       "        vertical-align: top;\n",
       "    }\n",
       "\n",
       "    .dataframe thead th {\n",
       "        text-align: right;\n",
       "    }\n",
       "</style>\n",
       "<table border=\"1\" class=\"dataframe\">\n",
       "  <thead>\n",
       "    <tr style=\"text-align: right;\">\n",
       "      <th></th>\n",
       "      <th>input</th>\n",
       "      <th>metric</th>\n",
       "      <th>threshold</th>\n",
       "      <th>value</th>\n",
       "      <th>is_anomaly</th>\n",
       "    </tr>\n",
       "  </thead>\n",
       "  <tbody>\n",
       "    <tr>\n",
       "      <th>0</th>\n",
       "      <td>island</td>\n",
       "      <td>JENSEN_SHANNON_DIVERGENCE</td>\n",
       "      <td>0.3</td>\n",
       "      <td>0.006078</td>\n",
       "      <td>False</td>\n",
       "    </tr>\n",
       "  </tbody>\n",
       "</table>\n",
       "</div>"
      ],
      "text/plain": [
       "    input                     metric  threshold     value  is_anomaly\n",
       "0  island  JENSEN_SHANNON_DIVERGENCE        0.3  0.006078       False"
      ]
     },
     "execution_count": 101,
     "metadata": {},
     "output_type": "execute_result"
    }
   ],
   "source": [
    "%%bigquery\n",
    "SELECT *\n",
    "FROM ML.VALIDATE_DATA_DRIFT(\n",
    "    (\n",
    "        SELECT island\n",
    "        FROM `statmike-mlops-349915.bqml_model_monitoring.training_split`\n",
    "        WHERE splits = 'TRAIN'\n",
    "    ),\n",
    "    (\n",
    "        SELECT island\n",
    "        FROM `statmike-mlops-349915.bqml_model_monitoring.serving`\n",
    "    ),\n",
    "    STRUCT('JENSEN_SHANNON_DIVERGENCE' AS categorical_metric_type)\n",
    ")"
   ]
  },
  {
   "cell_type": "code",
   "execution_count": 102,
   "metadata": {
    "tags": []
   },
   "outputs": [
    {
     "name": "stdout",
     "output_type": "stream",
     "text": [
      "The total for the Jansen-Shannon Divergence is 0.006078327541664534\n"
     ]
    }
   ],
   "source": [
    "print(f\"The total for the Jansen-Shannon Divergence is {sum(stats['JSD'])}\")"
   ]
  },
  {
   "cell_type": "markdown",
   "metadata": {},
   "source": [
    "---\n",
    "## More Applications For Model Monitoring"
   ]
  },
  {
   "cell_type": "markdown",
   "metadata": {},
   "source": [
    "---\n",
    "### Monitoring Transformed Features\n",
    "\n",
    "The [`CREATE MODEL`](https://cloud.google.com/bigquery/docs/reference/standard-sql/bigqueryml-syntax-create) statement included a [`TRANSFORM`](https://cloud.google.com/bigquery/docs/reference/standard-sql/bigqueryml-syntax-create#transform).  This is available to be called directly for input data with the [`ML.TRANSFORM`](https://cloud.google.com/bigquery/docs/reference/standard-sql/bigqueryml-syntax-transform) function.  This can be useful for considering monitoring the transformed features."
   ]
  },
  {
   "cell_type": "markdown",
   "metadata": {},
   "source": [
    "#### Transformations With `ML.TRANSFORM`"
   ]
  },
  {
   "cell_type": "code",
   "execution_count": 103,
   "metadata": {
    "tags": []
   },
   "outputs": [
    {
     "data": {
      "application/vnd.jupyter.widget-view+json": {
       "model_id": "4d68c33ef2694f27938582cf8babf4d6",
       "version_major": 2,
       "version_minor": 0
      },
      "text/plain": [
       "Query is running:   0%|          |"
      ]
     },
     "metadata": {},
     "output_type": "display_data"
    },
    {
     "data": {
      "application/vnd.jupyter.widget-view+json": {
       "model_id": "9ad6174bd6c14840a6fc8962223bec3e",
       "version_major": 2,
       "version_minor": 0
      },
      "text/plain": [
       "Downloading:   0%|          |"
      ]
     },
     "metadata": {},
     "output_type": "display_data"
    },
    {
     "data": {
      "text/html": [
       "<div>\n",
       "<style scoped>\n",
       "    .dataframe tbody tr th:only-of-type {\n",
       "        vertical-align: middle;\n",
       "    }\n",
       "\n",
       "    .dataframe tbody tr th {\n",
       "        vertical-align: top;\n",
       "    }\n",
       "\n",
       "    .dataframe thead th {\n",
       "        text-align: right;\n",
       "    }\n",
       "</style>\n",
       "<table border=\"1\" class=\"dataframe\">\n",
       "  <thead>\n",
       "    <tr style=\"text-align: right;\">\n",
       "      <th></th>\n",
       "      <th>body_mass_g</th>\n",
       "      <th>culmen_length_mm</th>\n",
       "      <th>culmen_depth_mm</th>\n",
       "      <th>flipper_length_mm</th>\n",
       "      <th>sex</th>\n",
       "      <th>island</th>\n",
       "      <th>species</th>\n",
       "      <th>instance_timestamp</th>\n",
       "    </tr>\n",
       "  </thead>\n",
       "  <tbody>\n",
       "    <tr>\n",
       "      <th>0</th>\n",
       "      <td>1.026518</td>\n",
       "      <td>0.120927</td>\n",
       "      <td>-0.735390</td>\n",
       "      <td>bin_3</td>\n",
       "      <td>MALE</td>\n",
       "      <td>Biscoe</td>\n",
       "      <td>Gentoo penguin (Pygoscelis papua)</td>\n",
       "      <td>2024-03-25 00:00:00+00:00</td>\n",
       "    </tr>\n",
       "    <tr>\n",
       "      <th>1</th>\n",
       "      <td>0.529734</td>\n",
       "      <td>0.442644</td>\n",
       "      <td>-1.383882</td>\n",
       "      <td>bin_3</td>\n",
       "      <td>MALE</td>\n",
       "      <td>Biscoe</td>\n",
       "      <td>Gentoo penguin (Pygoscelis papua)</td>\n",
       "      <td>2024-03-25 00:00:00+00:00</td>\n",
       "    </tr>\n",
       "    <tr>\n",
       "      <th>2</th>\n",
       "      <td>-0.174351</td>\n",
       "      <td>-1.847219</td>\n",
       "      <td>0.461826</td>\n",
       "      <td>bin_2</td>\n",
       "      <td>MALE</td>\n",
       "      <td>Torgersen</td>\n",
       "      <td>Adelie Penguin (Pygoscelis adeliae)</td>\n",
       "      <td>2024-03-25 00:00:00+00:00</td>\n",
       "    </tr>\n",
       "    <tr>\n",
       "      <th>3</th>\n",
       "      <td>NaN</td>\n",
       "      <td>NaN</td>\n",
       "      <td>NaN</td>\n",
       "      <td>None</td>\n",
       "      <td>MALE</td>\n",
       "      <td>Torgersen</td>\n",
       "      <td>Adelie Penguin (Pygoscelis adeliae)</td>\n",
       "      <td>2024-03-25 00:00:00+00:00</td>\n",
       "    </tr>\n",
       "    <tr>\n",
       "      <th>4</th>\n",
       "      <td>-0.107252</td>\n",
       "      <td>-1.147013</td>\n",
       "      <td>-0.037014</td>\n",
       "      <td>bin_3</td>\n",
       "      <td>MALE</td>\n",
       "      <td>Torgersen</td>\n",
       "      <td>Adelie Penguin (Pygoscelis adeliae)</td>\n",
       "      <td>2024-03-25 00:00:00+00:00</td>\n",
       "    </tr>\n",
       "  </tbody>\n",
       "</table>\n",
       "</div>"
      ],
      "text/plain": [
       "   body_mass_g  culmen_length_mm  culmen_depth_mm flipper_length_mm   sex  \\\n",
       "0     1.026518          0.120927        -0.735390             bin_3  MALE   \n",
       "1     0.529734          0.442644        -1.383882             bin_3  MALE   \n",
       "2    -0.174351         -1.847219         0.461826             bin_2  MALE   \n",
       "3          NaN               NaN              NaN              None  MALE   \n",
       "4    -0.107252         -1.147013        -0.037014             bin_3  MALE   \n",
       "\n",
       "      island                              species        instance_timestamp  \n",
       "0     Biscoe    Gentoo penguin (Pygoscelis papua) 2024-03-25 00:00:00+00:00  \n",
       "1     Biscoe    Gentoo penguin (Pygoscelis papua) 2024-03-25 00:00:00+00:00  \n",
       "2  Torgersen  Adelie Penguin (Pygoscelis adeliae) 2024-03-25 00:00:00+00:00  \n",
       "3  Torgersen  Adelie Penguin (Pygoscelis adeliae) 2024-03-25 00:00:00+00:00  \n",
       "4  Torgersen  Adelie Penguin (Pygoscelis adeliae) 2024-03-25 00:00:00+00:00  "
      ]
     },
     "execution_count": 103,
     "metadata": {},
     "output_type": "execute_result"
    }
   ],
   "source": [
    "%%bigquery\n",
    "SELECT *\n",
    "FROM ML.TRANSFORM(\n",
    "    MODEL `statmike-mlops-349915.bqml_model_monitoring.classify_species_rf`,\n",
    "    (\n",
    "        SELECT *\n",
    "        FROM `statmike-mlops-349915.bqml_model_monitoring.serving`\n",
    "        LIMIT 5\n",
    "    )\n",
    ")"
   ]
  },
  {
   "cell_type": "markdown",
   "metadata": {},
   "source": [
    "#### Monitoring Skew (Manually) - As Drift from Training Data With `ML.VALIDATE_DATA_DRIFT`\n",
    "\n",
    "Compare today, or any data, to the training data by directly comparing to the the model created in BigQuery."
   ]
  },
  {
   "cell_type": "code",
   "execution_count": 104,
   "metadata": {
    "tags": []
   },
   "outputs": [
    {
     "data": {
      "application/vnd.jupyter.widget-view+json": {
       "model_id": "e6a03295f97644db8a550a2808202293",
       "version_major": 2,
       "version_minor": 0
      },
      "text/plain": [
       "Query is running:   0%|          |"
      ]
     },
     "metadata": {},
     "output_type": "display_data"
    },
    {
     "data": {
      "application/vnd.jupyter.widget-view+json": {
       "model_id": "c03c6b1cbca444bf940439286e2eff4c",
       "version_major": 2,
       "version_minor": 0
      },
      "text/plain": [
       "Downloading:   0%|          |"
      ]
     },
     "metadata": {},
     "output_type": "display_data"
    },
    {
     "data": {
      "text/html": [
       "<div>\n",
       "<style scoped>\n",
       "    .dataframe tbody tr th:only-of-type {\n",
       "        vertical-align: middle;\n",
       "    }\n",
       "\n",
       "    .dataframe tbody tr th {\n",
       "        vertical-align: top;\n",
       "    }\n",
       "\n",
       "    .dataframe thead th {\n",
       "        text-align: right;\n",
       "    }\n",
       "</style>\n",
       "<table border=\"1\" class=\"dataframe\">\n",
       "  <thead>\n",
       "    <tr style=\"text-align: right;\">\n",
       "      <th></th>\n",
       "      <th>input</th>\n",
       "      <th>metric</th>\n",
       "      <th>threshold</th>\n",
       "      <th>value</th>\n",
       "      <th>is_anomaly</th>\n",
       "    </tr>\n",
       "  </thead>\n",
       "  <tbody>\n",
       "    <tr>\n",
       "      <th>0</th>\n",
       "      <td>body_mass_g</td>\n",
       "      <td>JENSEN_SHANNON_DIVERGENCE</td>\n",
       "      <td>0.3</td>\n",
       "      <td>0.755165</td>\n",
       "      <td>True</td>\n",
       "    </tr>\n",
       "    <tr>\n",
       "      <th>1</th>\n",
       "      <td>culmen_depth_mm</td>\n",
       "      <td>JENSEN_SHANNON_DIVERGENCE</td>\n",
       "      <td>0.3</td>\n",
       "      <td>0.463008</td>\n",
       "      <td>True</td>\n",
       "    </tr>\n",
       "    <tr>\n",
       "      <th>2</th>\n",
       "      <td>culmen_length_mm</td>\n",
       "      <td>JENSEN_SHANNON_DIVERGENCE</td>\n",
       "      <td>0.3</td>\n",
       "      <td>0.174274</td>\n",
       "      <td>False</td>\n",
       "    </tr>\n",
       "    <tr>\n",
       "      <th>3</th>\n",
       "      <td>flipper_length_mm</td>\n",
       "      <td>L_INFTY</td>\n",
       "      <td>0.3</td>\n",
       "      <td>0.661017</td>\n",
       "      <td>True</td>\n",
       "    </tr>\n",
       "    <tr>\n",
       "      <th>4</th>\n",
       "      <td>island</td>\n",
       "      <td>L_INFTY</td>\n",
       "      <td>0.3</td>\n",
       "      <td>0.074895</td>\n",
       "      <td>False</td>\n",
       "    </tr>\n",
       "    <tr>\n",
       "      <th>5</th>\n",
       "      <td>sex</td>\n",
       "      <td>L_INFTY</td>\n",
       "      <td>0.3</td>\n",
       "      <td>0.012290</td>\n",
       "      <td>False</td>\n",
       "    </tr>\n",
       "    <tr>\n",
       "      <th>6</th>\n",
       "      <td>species</td>\n",
       "      <td>L_INFTY</td>\n",
       "      <td>0.3</td>\n",
       "      <td>0.098845</td>\n",
       "      <td>False</td>\n",
       "    </tr>\n",
       "  </tbody>\n",
       "</table>\n",
       "</div>"
      ],
      "text/plain": [
       "               input                     metric  threshold     value  \\\n",
       "0        body_mass_g  JENSEN_SHANNON_DIVERGENCE        0.3  0.755165   \n",
       "1    culmen_depth_mm  JENSEN_SHANNON_DIVERGENCE        0.3  0.463008   \n",
       "2   culmen_length_mm  JENSEN_SHANNON_DIVERGENCE        0.3  0.174274   \n",
       "3  flipper_length_mm                    L_INFTY        0.3  0.661017   \n",
       "4             island                    L_INFTY        0.3  0.074895   \n",
       "5                sex                    L_INFTY        0.3  0.012290   \n",
       "6            species                    L_INFTY        0.3  0.098845   \n",
       "\n",
       "   is_anomaly  \n",
       "0        True  \n",
       "1        True  \n",
       "2       False  \n",
       "3        True  \n",
       "4       False  \n",
       "5       False  \n",
       "6       False  "
      ]
     },
     "execution_count": 104,
     "metadata": {},
     "output_type": "execute_result"
    }
   ],
   "source": [
    "%%bigquery\n",
    "SELECT *\n",
    "FROM ML.VALIDATE_DATA_DRIFT(\n",
    "    (\n",
    "        SELECT *\n",
    "        FROM ML.TRANSFORM(\n",
    "            MODEL `statmike-mlops-349915.bqml_model_monitoring.classify_species_rf`,\n",
    "            (\n",
    "                SELECT *\n",
    "                FROM `statmike-mlops-349915.bqml_model_monitoring.training_split`\n",
    "                WHERE splits = 'TRAIN'\n",
    "            )\n",
    "        )\n",
    "    ),\n",
    "    (\n",
    "        SELECT *\n",
    "        FROM ML.TRANSFORM(\n",
    "            MODEL `statmike-mlops-349915.bqml_model_monitoring.classify_species_rf`,\n",
    "            (\n",
    "                SELECT *\n",
    "                FROM `statmike-mlops-349915.bqml_model_monitoring.serving`\n",
    "                WHERE DATE(instance_timestamp) >= CURRENT_DATE()\n",
    "            )\n",
    "        )\n",
    "    )\n",
    ");"
   ]
  },
  {
   "cell_type": "markdown",
   "metadata": {},
   "source": [
    "#### Monitoring Drift (Change Over Time) With `ML.VALIDATE_DATA_DRIFT`\n",
    "\n",
    "Compare today to 5 days ago and set the a lower, more sensitive, threshold of `0.03` (default is `0.3`) for all features."
   ]
  },
  {
   "cell_type": "code",
   "execution_count": 105,
   "metadata": {
    "tags": []
   },
   "outputs": [
    {
     "data": {
      "application/vnd.jupyter.widget-view+json": {
       "model_id": "570c40bf48874171bb27a91f691e600d",
       "version_major": 2,
       "version_minor": 0
      },
      "text/plain": [
       "Query is running:   0%|          |"
      ]
     },
     "metadata": {},
     "output_type": "display_data"
    },
    {
     "data": {
      "application/vnd.jupyter.widget-view+json": {
       "model_id": "35b85a2c350d48bcbd9b016ed62f09e1",
       "version_major": 2,
       "version_minor": 0
      },
      "text/plain": [
       "Downloading:   0%|          |"
      ]
     },
     "metadata": {},
     "output_type": "display_data"
    },
    {
     "data": {
      "text/html": [
       "<div>\n",
       "<style scoped>\n",
       "    .dataframe tbody tr th:only-of-type {\n",
       "        vertical-align: middle;\n",
       "    }\n",
       "\n",
       "    .dataframe tbody tr th {\n",
       "        vertical-align: top;\n",
       "    }\n",
       "\n",
       "    .dataframe thead th {\n",
       "        text-align: right;\n",
       "    }\n",
       "</style>\n",
       "<table border=\"1\" class=\"dataframe\">\n",
       "  <thead>\n",
       "    <tr style=\"text-align: right;\">\n",
       "      <th></th>\n",
       "      <th>input</th>\n",
       "      <th>metric</th>\n",
       "      <th>threshold</th>\n",
       "      <th>value</th>\n",
       "      <th>is_anomaly</th>\n",
       "    </tr>\n",
       "  </thead>\n",
       "  <tbody>\n",
       "    <tr>\n",
       "      <th>0</th>\n",
       "      <td>body_mass_g</td>\n",
       "      <td>JENSEN_SHANNON_DIVERGENCE</td>\n",
       "      <td>0.03</td>\n",
       "      <td>0.042730</td>\n",
       "      <td>True</td>\n",
       "    </tr>\n",
       "    <tr>\n",
       "      <th>1</th>\n",
       "      <td>culmen_depth_mm</td>\n",
       "      <td>JENSEN_SHANNON_DIVERGENCE</td>\n",
       "      <td>0.03</td>\n",
       "      <td>0.000000</td>\n",
       "      <td>False</td>\n",
       "    </tr>\n",
       "    <tr>\n",
       "      <th>2</th>\n",
       "      <td>culmen_length_mm</td>\n",
       "      <td>JENSEN_SHANNON_DIVERGENCE</td>\n",
       "      <td>0.03</td>\n",
       "      <td>0.000000</td>\n",
       "      <td>False</td>\n",
       "    </tr>\n",
       "    <tr>\n",
       "      <th>3</th>\n",
       "      <td>flipper_length_mm</td>\n",
       "      <td>L_INFTY</td>\n",
       "      <td>0.03</td>\n",
       "      <td>0.012658</td>\n",
       "      <td>False</td>\n",
       "    </tr>\n",
       "    <tr>\n",
       "      <th>4</th>\n",
       "      <td>instance_timestamp</td>\n",
       "      <td>L_INFTY</td>\n",
       "      <td>0.03</td>\n",
       "      <td>1.000000</td>\n",
       "      <td>True</td>\n",
       "    </tr>\n",
       "    <tr>\n",
       "      <th>5</th>\n",
       "      <td>island</td>\n",
       "      <td>L_INFTY</td>\n",
       "      <td>0.03</td>\n",
       "      <td>0.000000</td>\n",
       "      <td>False</td>\n",
       "    </tr>\n",
       "    <tr>\n",
       "      <th>6</th>\n",
       "      <td>sex</td>\n",
       "      <td>L_INFTY</td>\n",
       "      <td>0.03</td>\n",
       "      <td>0.000000</td>\n",
       "      <td>False</td>\n",
       "    </tr>\n",
       "    <tr>\n",
       "      <th>7</th>\n",
       "      <td>species</td>\n",
       "      <td>L_INFTY</td>\n",
       "      <td>0.03</td>\n",
       "      <td>0.000000</td>\n",
       "      <td>False</td>\n",
       "    </tr>\n",
       "  </tbody>\n",
       "</table>\n",
       "</div>"
      ],
      "text/plain": [
       "                input                     metric  threshold     value  \\\n",
       "0         body_mass_g  JENSEN_SHANNON_DIVERGENCE       0.03  0.042730   \n",
       "1     culmen_depth_mm  JENSEN_SHANNON_DIVERGENCE       0.03  0.000000   \n",
       "2    culmen_length_mm  JENSEN_SHANNON_DIVERGENCE       0.03  0.000000   \n",
       "3   flipper_length_mm                    L_INFTY       0.03  0.012658   \n",
       "4  instance_timestamp                    L_INFTY       0.03  1.000000   \n",
       "5              island                    L_INFTY       0.03  0.000000   \n",
       "6                 sex                    L_INFTY       0.03  0.000000   \n",
       "7             species                    L_INFTY       0.03  0.000000   \n",
       "\n",
       "   is_anomaly  \n",
       "0        True  \n",
       "1       False  \n",
       "2       False  \n",
       "3       False  \n",
       "4        True  \n",
       "5       False  \n",
       "6       False  \n",
       "7       False  "
      ]
     },
     "execution_count": 105,
     "metadata": {},
     "output_type": "execute_result"
    }
   ],
   "source": [
    "%%bigquery\n",
    "SELECT *\n",
    "FROM ML.VALIDATE_DATA_DRIFT(\n",
    "    (\n",
    "        SELECT *\n",
    "        FROM ML.TRANSFORM(\n",
    "            MODEL `statmike-mlops-349915.bqml_model_monitoring.classify_species_rf`,\n",
    "            (\n",
    "                SELECT *\n",
    "                FROM `statmike-mlops-349915.bqml_model_monitoring.serving`\n",
    "                WHERE DATE(instance_timestamp) = DATE_SUB(CURRENT_DATE(), INTERVAL 5 DAY)\n",
    "            )\n",
    "        )\n",
    "    ),\n",
    "    (\n",
    "        SELECT *\n",
    "        FROM ML.TRANSFORM(\n",
    "            MODEL `statmike-mlops-349915.bqml_model_monitoring.classify_species_rf`,\n",
    "            (\n",
    "                SELECT *\n",
    "                FROM `statmike-mlops-349915.bqml_model_monitoring.serving`\n",
    "                WHERE DATE(instance_timestamp) >= CURRENT_DATE()\n",
    "            )\n",
    "        )\n",
    "    ),\n",
    "    STRUCT(\n",
    "        0.03 AS categorical_default_threshold,\n",
    "        0.03 AS numerical_default_threshold\n",
    "    )\n",
    ")"
   ]
  },
  {
   "cell_type": "markdown",
   "metadata": {
    "tags": []
   },
   "source": [
    "---\n",
    "### Monitoring Feature Attributions\n",
    "\n",
    "BigQuery ML models, like the deep neural network classifier (`model_type = 'DNN_CLASSIFIER'`) used above, can also serve explanations using the BigQuery function [`ML.EXPLAIN_PREDICT`](https://cloud.google.com/bigquery/docs/reference/standard-sql/bigqueryml-syntax-explain-predict).  This function returns feature attributions for each feature used in the model to explain how much contribution was made to the final prediction for a given instance.\n",
    "\n",
    "**Feature Attributions**\n",
    "\n",
    "The feature attributions from `ML.EXPLAIN_PREDICT` are [local explanations](https://cloud.google.com/bigquery/docs/xai-overview#local_versus_global_explainability), specific to the instance being predicted.  The attribution values are given for each feature and they add up to the `prediction_value`. In this case the model is a classifier and the `prediction_value` is the logit value (log-odds) of the predicted class.  "
   ]
  },
  {
   "cell_type": "markdown",
   "metadata": {},
   "source": [
    "#### Serving Feature Attributions\n",
    "\n",
    "As an example, the following cell gets the feature attributions for a single penguin with for the latest values of the features:"
   ]
  },
  {
   "cell_type": "code",
   "execution_count": 106,
   "metadata": {
    "tags": []
   },
   "outputs": [
    {
     "data": {
      "application/vnd.jupyter.widget-view+json": {
       "model_id": "39d18a03097e4d98a39fc89c39af86fd",
       "version_major": 2,
       "version_minor": 0
      },
      "text/plain": [
       "Query is running:   0%|          |"
      ]
     },
     "metadata": {},
     "output_type": "display_data"
    },
    {
     "data": {
      "application/vnd.jupyter.widget-view+json": {
       "model_id": "aaeabdd510ea49ffb4c529f86c8e85ea",
       "version_major": 2,
       "version_minor": 0
      },
      "text/plain": [
       "Downloading:   0%|          |"
      ]
     },
     "metadata": {},
     "output_type": "display_data"
    },
    {
     "data": {
      "text/html": [
       "<div>\n",
       "<style scoped>\n",
       "    .dataframe tbody tr th:only-of-type {\n",
       "        vertical-align: middle;\n",
       "    }\n",
       "\n",
       "    .dataframe tbody tr th {\n",
       "        vertical-align: top;\n",
       "    }\n",
       "\n",
       "    .dataframe thead th {\n",
       "        text-align: right;\n",
       "    }\n",
       "</style>\n",
       "<table border=\"1\" class=\"dataframe\">\n",
       "  <thead>\n",
       "    <tr style=\"text-align: right;\">\n",
       "      <th></th>\n",
       "      <th>predicted_species</th>\n",
       "      <th>probability</th>\n",
       "      <th>baseline_prediction_value</th>\n",
       "      <th>prediction_value</th>\n",
       "      <th>approximation_error</th>\n",
       "      <th>feature</th>\n",
       "      <th>attribution</th>\n",
       "    </tr>\n",
       "  </thead>\n",
       "  <tbody>\n",
       "    <tr>\n",
       "      <th>0</th>\n",
       "      <td>Gentoo penguin (Pygoscelis papua)</td>\n",
       "      <td>0.812371</td>\n",
       "      <td>0.545498</td>\n",
       "      <td>1.945261</td>\n",
       "      <td>0.0</td>\n",
       "      <td>culmen_depth_mm</td>\n",
       "      <td>0.646513</td>\n",
       "    </tr>\n",
       "    <tr>\n",
       "      <th>1</th>\n",
       "      <td>Gentoo penguin (Pygoscelis papua)</td>\n",
       "      <td>0.812371</td>\n",
       "      <td>0.545498</td>\n",
       "      <td>1.945261</td>\n",
       "      <td>0.0</td>\n",
       "      <td>body_mass_g</td>\n",
       "      <td>0.354939</td>\n",
       "    </tr>\n",
       "    <tr>\n",
       "      <th>2</th>\n",
       "      <td>Gentoo penguin (Pygoscelis papua)</td>\n",
       "      <td>0.812371</td>\n",
       "      <td>0.545498</td>\n",
       "      <td>1.945261</td>\n",
       "      <td>0.0</td>\n",
       "      <td>flipper_length_mm</td>\n",
       "      <td>0.306834</td>\n",
       "    </tr>\n",
       "    <tr>\n",
       "      <th>3</th>\n",
       "      <td>Gentoo penguin (Pygoscelis papua)</td>\n",
       "      <td>0.812371</td>\n",
       "      <td>0.545498</td>\n",
       "      <td>1.945261</td>\n",
       "      <td>0.0</td>\n",
       "      <td>island</td>\n",
       "      <td>0.058430</td>\n",
       "    </tr>\n",
       "    <tr>\n",
       "      <th>4</th>\n",
       "      <td>Gentoo penguin (Pygoscelis papua)</td>\n",
       "      <td>0.812371</td>\n",
       "      <td>0.545498</td>\n",
       "      <td>1.945261</td>\n",
       "      <td>0.0</td>\n",
       "      <td>culmen_length_mm</td>\n",
       "      <td>0.037202</td>\n",
       "    </tr>\n",
       "    <tr>\n",
       "      <th>5</th>\n",
       "      <td>Gentoo penguin (Pygoscelis papua)</td>\n",
       "      <td>0.812371</td>\n",
       "      <td>0.545498</td>\n",
       "      <td>1.945261</td>\n",
       "      <td>0.0</td>\n",
       "      <td>sex</td>\n",
       "      <td>-0.004157</td>\n",
       "    </tr>\n",
       "  </tbody>\n",
       "</table>\n",
       "</div>"
      ],
      "text/plain": [
       "                   predicted_species  probability  baseline_prediction_value  \\\n",
       "0  Gentoo penguin (Pygoscelis papua)     0.812371                   0.545498   \n",
       "1  Gentoo penguin (Pygoscelis papua)     0.812371                   0.545498   \n",
       "2  Gentoo penguin (Pygoscelis papua)     0.812371                   0.545498   \n",
       "3  Gentoo penguin (Pygoscelis papua)     0.812371                   0.545498   \n",
       "4  Gentoo penguin (Pygoscelis papua)     0.812371                   0.545498   \n",
       "5  Gentoo penguin (Pygoscelis papua)     0.812371                   0.545498   \n",
       "\n",
       "   prediction_value  approximation_error            feature  attribution  \n",
       "0          1.945261                  0.0    culmen_depth_mm     0.646513  \n",
       "1          1.945261                  0.0        body_mass_g     0.354939  \n",
       "2          1.945261                  0.0  flipper_length_mm     0.306834  \n",
       "3          1.945261                  0.0             island     0.058430  \n",
       "4          1.945261                  0.0   culmen_length_mm     0.037202  \n",
       "5          1.945261                  0.0                sex    -0.004157  "
      ]
     },
     "execution_count": 106,
     "metadata": {},
     "output_type": "execute_result"
    }
   ],
   "source": [
    "%%bigquery\n",
    "WITH\n",
    "    EXPLAIN AS (\n",
    "        SELECT * EXCEPT(body_mass_g, sex, island, flipper_length_mm, culmen_depth_mm, culmen_length_mm)\n",
    "        FROM ML.EXPLAIN_PREDICT(\n",
    "            MODEL `statmike-mlops-349915.bqml_model_monitoring.classify_species_rf`,\n",
    "            (\n",
    "                SELECT * EXCEPT(instance_timestamp, species)\n",
    "                FROM `statmike-mlops-349915.bqml_model_monitoring.serving`\n",
    "                WHERE DATE(instance_timestamp) = CURRENT_DATE()\n",
    "                LIMIT 1\n",
    "            ), \n",
    "            STRUCT(10 AS top_k_features)\n",
    "        )\n",
    "    ),\n",
    "    ATTRIBUTIONS AS (\n",
    "        SELECT * EXCEPT(top_feature_attributions),\n",
    "        FROM EXPLAIN\n",
    "        JOIN UNNEST(top_feature_attributions)\n",
    "    )\n",
    "SELECT * \n",
    "FROM ATTRIBUTIONS"
   ]
  },
  {
   "cell_type": "markdown",
   "metadata": {},
   "source": [
    "#### Reviewing Feature Attributions\n",
    "\n",
    "Get attributions for all penguins:"
   ]
  },
  {
   "cell_type": "code",
   "execution_count": 107,
   "metadata": {
    "tags": []
   },
   "outputs": [
    {
     "data": {
      "application/vnd.jupyter.widget-view+json": {
       "model_id": "1b2a707c9a2845a88f20b6d93618148c",
       "version_major": 2,
       "version_minor": 0
      },
      "text/plain": [
       "Query is running:   0%|          |"
      ]
     },
     "metadata": {},
     "output_type": "display_data"
    },
    {
     "data": {
      "application/vnd.jupyter.widget-view+json": {
       "model_id": "14535c041bda44f99e62b3d801d7b507",
       "version_major": 2,
       "version_minor": 0
      },
      "text/plain": [
       "Downloading:   0%|          |"
      ]
     },
     "metadata": {},
     "output_type": "display_data"
    }
   ],
   "source": [
    "%%bigquery explain\n",
    "WITH\n",
    "    EXPLAIN AS (\n",
    "        SELECT * EXCEPT(body_mass_g, sex, island, flipper_length_mm, culmen_depth_mm, culmen_length_mm)\n",
    "        FROM ML.EXPLAIN_PREDICT(\n",
    "            MODEL `statmike-mlops-349915.bqml_model_monitoring.classify_species_rf`,\n",
    "            (\n",
    "                SELECT * EXCEPT(instance_timestamp, species)\n",
    "                FROM `statmike-mlops-349915.bqml_model_monitoring.serving`\n",
    "                WHERE DATE(instance_timestamp) = CURRENT_DATE()\n",
    "            ), \n",
    "            STRUCT(10 AS top_k_features)\n",
    "        )\n",
    "    ),\n",
    "    ATTRIBUTIONS AS (\n",
    "        SELECT * EXCEPT(top_feature_attributions),\n",
    "        FROM EXPLAIN\n",
    "        JOIN UNNEST(top_feature_attributions)\n",
    "    ),\n",
    "    PIVOT_ATTRIBUTION AS (\n",
    "        SELECT body_mass_g, sex, island, flipper_length_mm, culmen_depth_mm, culmen_length_mm\n",
    "        FROM ATTRIBUTIONS PIVOT(MAX(attribution) FOR feature IN ('body_mass_g', 'sex', 'island', 'flipper_length_mm', 'culmen_depth_mm', 'culmen_length_mm'))\n",
    "    )\n",
    "SELECT *\n",
    "FROM PIVOT_ATTRIBUTION"
   ]
  },
  {
   "cell_type": "code",
   "execution_count": 108,
   "metadata": {
    "tags": []
   },
   "outputs": [
    {
     "data": {
      "text/html": [
       "<div>\n",
       "<style scoped>\n",
       "    .dataframe tbody tr th:only-of-type {\n",
       "        vertical-align: middle;\n",
       "    }\n",
       "\n",
       "    .dataframe tbody tr th {\n",
       "        vertical-align: top;\n",
       "    }\n",
       "\n",
       "    .dataframe thead th {\n",
       "        text-align: right;\n",
       "    }\n",
       "</style>\n",
       "<table border=\"1\" class=\"dataframe\">\n",
       "  <thead>\n",
       "    <tr style=\"text-align: right;\">\n",
       "      <th></th>\n",
       "      <th>body_mass_g</th>\n",
       "      <th>sex</th>\n",
       "      <th>island</th>\n",
       "      <th>flipper_length_mm</th>\n",
       "      <th>culmen_depth_mm</th>\n",
       "      <th>culmen_length_mm</th>\n",
       "    </tr>\n",
       "  </thead>\n",
       "  <tbody>\n",
       "    <tr>\n",
       "      <th>0</th>\n",
       "      <td>0.310603</td>\n",
       "      <td>-0.004157</td>\n",
       "      <td>0.058430</td>\n",
       "      <td>0.303426</td>\n",
       "      <td>0.692923</td>\n",
       "      <td>0.038536</td>\n",
       "    </tr>\n",
       "    <tr>\n",
       "      <th>1</th>\n",
       "      <td>0.003233</td>\n",
       "      <td>0.008482</td>\n",
       "      <td>0.253363</td>\n",
       "      <td>-0.206538</td>\n",
       "      <td>0.063499</td>\n",
       "      <td>0.713163</td>\n",
       "    </tr>\n",
       "    <tr>\n",
       "      <th>2</th>\n",
       "      <td>0.355612</td>\n",
       "      <td>-0.004157</td>\n",
       "      <td>0.058430</td>\n",
       "      <td>0.305378</td>\n",
       "      <td>0.646200</td>\n",
       "      <td>0.038298</td>\n",
       "    </tr>\n",
       "    <tr>\n",
       "      <th>3</th>\n",
       "      <td>0.363768</td>\n",
       "      <td>-0.002434</td>\n",
       "      <td>0.056048</td>\n",
       "      <td>0.379757</td>\n",
       "      <td>0.542512</td>\n",
       "      <td>0.041656</td>\n",
       "    </tr>\n",
       "    <tr>\n",
       "      <th>4</th>\n",
       "      <td>0.355612</td>\n",
       "      <td>-0.004157</td>\n",
       "      <td>0.059381</td>\n",
       "      <td>0.305378</td>\n",
       "      <td>0.643521</td>\n",
       "      <td>0.040027</td>\n",
       "    </tr>\n",
       "  </tbody>\n",
       "</table>\n",
       "</div>"
      ],
      "text/plain": [
       "   body_mass_g       sex    island  flipper_length_mm  culmen_depth_mm  \\\n",
       "0     0.310603 -0.004157  0.058430           0.303426         0.692923   \n",
       "1     0.003233  0.008482  0.253363          -0.206538         0.063499   \n",
       "2     0.355612 -0.004157  0.058430           0.305378         0.646200   \n",
       "3     0.363768 -0.002434  0.056048           0.379757         0.542512   \n",
       "4     0.355612 -0.004157  0.059381           0.305378         0.643521   \n",
       "\n",
       "   culmen_length_mm  \n",
       "0          0.038536  \n",
       "1          0.713163  \n",
       "2          0.038298  \n",
       "3          0.041656  \n",
       "4          0.040027  "
      ]
     },
     "execution_count": 108,
     "metadata": {},
     "output_type": "execute_result"
    }
   ],
   "source": [
    "explain.head()"
   ]
  },
  {
   "cell_type": "markdown",
   "metadata": {},
   "source": [
    "#### Monitor Feature Attributions For Drift with `ML.VALIDATE_DATA_DRIFT`\n",
    "\n",
    "Compare yesterday to 25 days ago:"
   ]
  },
  {
   "cell_type": "code",
   "execution_count": 109,
   "metadata": {
    "tags": []
   },
   "outputs": [
    {
     "data": {
      "application/vnd.jupyter.widget-view+json": {
       "model_id": "c805c8e3bb414c0dadb922e4fcc97f60",
       "version_major": 2,
       "version_minor": 0
      },
      "text/plain": [
       "Query is running:   0%|          |"
      ]
     },
     "metadata": {},
     "output_type": "display_data"
    },
    {
     "data": {
      "application/vnd.jupyter.widget-view+json": {
       "model_id": "d0830155250f46868f6d4ef5d0ca3764",
       "version_major": 2,
       "version_minor": 0
      },
      "text/plain": [
       "Downloading:   0%|          |"
      ]
     },
     "metadata": {},
     "output_type": "display_data"
    },
    {
     "data": {
      "text/html": [
       "<div>\n",
       "<style scoped>\n",
       "    .dataframe tbody tr th:only-of-type {\n",
       "        vertical-align: middle;\n",
       "    }\n",
       "\n",
       "    .dataframe tbody tr th {\n",
       "        vertical-align: top;\n",
       "    }\n",
       "\n",
       "    .dataframe thead th {\n",
       "        text-align: right;\n",
       "    }\n",
       "</style>\n",
       "<table border=\"1\" class=\"dataframe\">\n",
       "  <thead>\n",
       "    <tr style=\"text-align: right;\">\n",
       "      <th></th>\n",
       "      <th>input</th>\n",
       "      <th>metric</th>\n",
       "      <th>threshold</th>\n",
       "      <th>value</th>\n",
       "      <th>is_anomaly</th>\n",
       "    </tr>\n",
       "  </thead>\n",
       "  <tbody>\n",
       "    <tr>\n",
       "      <th>0</th>\n",
       "      <td>body_mass_g</td>\n",
       "      <td>JENSEN_SHANNON_DIVERGENCE</td>\n",
       "      <td>0.3</td>\n",
       "      <td>0.223796</td>\n",
       "      <td>False</td>\n",
       "    </tr>\n",
       "    <tr>\n",
       "      <th>1</th>\n",
       "      <td>culmen_depth_mm</td>\n",
       "      <td>JENSEN_SHANNON_DIVERGENCE</td>\n",
       "      <td>0.3</td>\n",
       "      <td>0.024273</td>\n",
       "      <td>False</td>\n",
       "    </tr>\n",
       "    <tr>\n",
       "      <th>2</th>\n",
       "      <td>culmen_length_mm</td>\n",
       "      <td>JENSEN_SHANNON_DIVERGENCE</td>\n",
       "      <td>0.3</td>\n",
       "      <td>0.038950</td>\n",
       "      <td>False</td>\n",
       "    </tr>\n",
       "    <tr>\n",
       "      <th>3</th>\n",
       "      <td>flipper_length_mm</td>\n",
       "      <td>JENSEN_SHANNON_DIVERGENCE</td>\n",
       "      <td>0.3</td>\n",
       "      <td>0.341499</td>\n",
       "      <td>True</td>\n",
       "    </tr>\n",
       "    <tr>\n",
       "      <th>4</th>\n",
       "      <td>island</td>\n",
       "      <td>JENSEN_SHANNON_DIVERGENCE</td>\n",
       "      <td>0.3</td>\n",
       "      <td>0.017686</td>\n",
       "      <td>False</td>\n",
       "    </tr>\n",
       "    <tr>\n",
       "      <th>5</th>\n",
       "      <td>sex</td>\n",
       "      <td>JENSEN_SHANNON_DIVERGENCE</td>\n",
       "      <td>0.3</td>\n",
       "      <td>0.025865</td>\n",
       "      <td>False</td>\n",
       "    </tr>\n",
       "  </tbody>\n",
       "</table>\n",
       "</div>"
      ],
      "text/plain": [
       "               input                     metric  threshold     value  \\\n",
       "0        body_mass_g  JENSEN_SHANNON_DIVERGENCE        0.3  0.223796   \n",
       "1    culmen_depth_mm  JENSEN_SHANNON_DIVERGENCE        0.3  0.024273   \n",
       "2   culmen_length_mm  JENSEN_SHANNON_DIVERGENCE        0.3  0.038950   \n",
       "3  flipper_length_mm  JENSEN_SHANNON_DIVERGENCE        0.3  0.341499   \n",
       "4             island  JENSEN_SHANNON_DIVERGENCE        0.3  0.017686   \n",
       "5                sex  JENSEN_SHANNON_DIVERGENCE        0.3  0.025865   \n",
       "\n",
       "   is_anomaly  \n",
       "0       False  \n",
       "1       False  \n",
       "2       False  \n",
       "3        True  \n",
       "4       False  \n",
       "5       False  "
      ]
     },
     "execution_count": 109,
     "metadata": {},
     "output_type": "execute_result"
    }
   ],
   "source": [
    "%%bigquery\n",
    "WITH\n",
    "    EXPLAIN_BASE AS (\n",
    "        SELECT * EXCEPT(body_mass_g, sex, island, flipper_length_mm, culmen_depth_mm, culmen_length_mm)\n",
    "        FROM ML.EXPLAIN_PREDICT(\n",
    "            MODEL `statmike-mlops-349915.bqml_model_monitoring.classify_species_rf`,\n",
    "            (\n",
    "                SELECT * EXCEPT(instance_timestamp, species)\n",
    "                FROM `statmike-mlops-349915.bqml_model_monitoring.serving`\n",
    "                WHERE DATE(instance_timestamp) = DATE_SUB(CURRENT_DATE(), INTERVAL 25 DAY)\n",
    "            ), \n",
    "            STRUCT(10 AS top_k_features)\n",
    "        )\n",
    "    ),\n",
    "    ATTRIBUTIONS_BASE AS (\n",
    "        SELECT * EXCEPT(top_feature_attributions),\n",
    "        FROM EXPLAIN_BASE\n",
    "        JOIN UNNEST(top_feature_attributions)\n",
    "    ),\n",
    "    PIVOT_ATTRIBUTION_BASE AS (\n",
    "        SELECT body_mass_g, sex, island, flipper_length_mm, culmen_depth_mm, culmen_length_mm\n",
    "        FROM ATTRIBUTIONS_BASE PIVOT(MAX(attribution) FOR feature IN ('body_mass_g', 'sex', 'island', 'flipper_length_mm', 'culmen_depth_mm', 'culmen_length_mm'))\n",
    "    ),\n",
    "    EXPLAIN_COMP AS (\n",
    "        SELECT * EXCEPT(body_mass_g, sex, island, flipper_length_mm, culmen_depth_mm, culmen_length_mm)\n",
    "        FROM ML.EXPLAIN_PREDICT(\n",
    "            MODEL `statmike-mlops-349915.bqml_model_monitoring.classify_species_rf`,\n",
    "            (\n",
    "                SELECT * EXCEPT(instance_timestamp, species)\n",
    "                FROM `statmike-mlops-349915.bqml_model_monitoring.serving`\n",
    "                WHERE DATE(instance_timestamp) = DATE_SUB(CURRENT_DATE(), INTERVAL 1 DAY)\n",
    "            ), \n",
    "            STRUCT(10 AS top_k_features)\n",
    "        )\n",
    "    ),\n",
    "    ATTRIBUTIONS_COMP AS (\n",
    "        SELECT * EXCEPT(top_feature_attributions),\n",
    "        FROM EXPLAIN_COMP\n",
    "        JOIN UNNEST(top_feature_attributions)\n",
    "    ),\n",
    "    PIVOT_ATTRIBUTION_COMP AS (\n",
    "        SELECT body_mass_g, sex, island, flipper_length_mm, culmen_depth_mm, culmen_length_mm\n",
    "        FROM ATTRIBUTIONS_COMP PIVOT(MAX(attribution) FOR feature IN ('body_mass_g', 'sex', 'island', 'flipper_length_mm', 'culmen_depth_mm', 'culmen_length_mm'))\n",
    "    )\n",
    "SELECT *\n",
    "FROM ML.VALIDATE_DATA_DRIFT(\n",
    "    TABLE PIVOT_ATTRIBUTION_BASE,\n",
    "    TABLE PIVOT_ATTRIBUTION_COMP\n",
    ");"
   ]
  },
  {
   "cell_type": "markdown",
   "metadata": {},
   "source": [
    "---\n",
    "## Model Monitoring For Online Inference With Vertex AI\n",
    "\n",
    "The model trained above was trained using BigQuery ML's [`CREATE MODEL` statement](https://cloud.google.com/bigquery/docs/reference/standard-sql/bigqueryml-syntax-create) along with the training option `MODEL_REGISTRY = \"vertex_ai\"` which automatically registers the model in the [Vertex AI Model Registry](https://cloud.google.com/vertex-ai/docs/model-registry/introduction).  This means the BigQuery ML models can be managed directly in Vertex AI - [more information](https://cloud.google.com/bigquery/docs/managing-models-vertex).\n",
    "\n",
    "Models in the Vertex AI Model Registry can be used to [serve batch or online predictions](https://cloud.google.com/vertex-ai/docs/predictions/get-predictions).  In this section the [Vertex AI Python SDK](https://cloud.google.com/vertex-ai/docs/start/use-vertex-ai-python-sdk) is used to [deploy the model](https://cloud.google.com/vertex-ai/docs/general/deployment) created in this workflow and [get online predictions](https://cloud.google.com/vertex-ai/docs/predictions/get-online-predictions).\n",
    "\n",
    "The deployment of the model will include an extra setting to [setup logging of prediction request and responses to BigQuery](https://cloud.google.com/vertex-ai/docs/predictions/online-prediction-logging#enabling-and-disabling).  By logging the request and responses to BigQuery we can easily use the model monitoring functions covered in this tutorial."
   ]
  },
  {
   "cell_type": "markdown",
   "metadata": {},
   "source": [
    "### Setup Client"
   ]
  },
  {
   "cell_type": "code",
   "execution_count": 110,
   "metadata": {
    "tags": []
   },
   "outputs": [],
   "source": [
    "from google.cloud import aiplatform\n",
    "aiplatform.init(project = 'statmike-mlops-349915', location = 'us-central1')"
   ]
  },
  {
   "cell_type": "markdown",
   "metadata": {},
   "source": [
    "### Get Model From Vertex AI Model Registry"
   ]
  },
  {
   "cell_type": "code",
   "execution_count": 111,
   "metadata": {
    "tags": []
   },
   "outputs": [
    {
     "data": {
      "text/plain": [
       "'projects/1026793852137/locations/us-central1/models/classify_species_rf@41'"
      ]
     },
     "execution_count": 111,
     "metadata": {},
     "output_type": "execute_result"
    }
   ],
   "source": [
    "model = aiplatform.Model(model_name = 'classify_species_rf')\n",
    "model.versioned_resource_name"
   ]
  },
  {
   "cell_type": "markdown",
   "metadata": {},
   "source": [
    "### Deploy Model To Endpoint"
   ]
  },
  {
   "cell_type": "code",
   "execution_count": 112,
   "metadata": {
    "tags": []
   },
   "outputs": [
    {
     "name": "stdout",
     "output_type": "stream",
     "text": [
      "Creating Endpoint\n",
      "Create Endpoint backing LRO: projects/1026793852137/locations/us-central1/endpoints/3562283533575651328/operations/4851995863909662720\n",
      "Endpoint created. Resource name: projects/1026793852137/locations/us-central1/endpoints/3562283533575651328\n",
      "To use this Endpoint in another session:\n",
      "endpoint = aiplatform.Endpoint('projects/1026793852137/locations/us-central1/endpoints/3562283533575651328')\n",
      "Deploying model to Endpoint : projects/1026793852137/locations/us-central1/endpoints/3562283533575651328\n",
      "Using default machine_type: n1-standard-2\n",
      "Deploy Endpoint model backing LRO: projects/1026793852137/locations/us-central1/endpoints/3562283533575651328/operations/1555360936674459648\n",
      "Endpoint model deployed. Resource name: projects/1026793852137/locations/us-central1/endpoints/3562283533575651328\n"
     ]
    }
   ],
   "source": [
    "endpoint = model.deploy()"
   ]
  },
  {
   "cell_type": "code",
   "execution_count": 113,
   "metadata": {
    "tags": []
   },
   "outputs": [
    {
     "data": {
      "text/plain": [
       "'projects/1026793852137/locations/us-central1/endpoints/3562283533575651328'"
      ]
     },
     "execution_count": 113,
     "metadata": {},
     "output_type": "execute_result"
    }
   ],
   "source": [
    "endpoint.resource_name"
   ]
  },
  {
   "cell_type": "markdown",
   "metadata": {},
   "source": [
    "### Get Data For Predictions\n",
    "\n",
    "Get a sample of data from the serving table to use as online prediction requests."
   ]
  },
  {
   "cell_type": "code",
   "execution_count": 114,
   "metadata": {
    "tags": []
   },
   "outputs": [
    {
     "data": {
      "application/vnd.jupyter.widget-view+json": {
       "model_id": "88547e9666134dfa80b2a5fe9b436fcb",
       "version_major": 2,
       "version_minor": 0
      },
      "text/plain": [
       "Query is running:   0%|          |"
      ]
     },
     "metadata": {},
     "output_type": "display_data"
    },
    {
     "data": {
      "application/vnd.jupyter.widget-view+json": {
       "model_id": "ed7c254bd86141cd9abec790e07f49c1",
       "version_major": 2,
       "version_minor": 0
      },
      "text/plain": [
       "Downloading:   0%|          |"
      ]
     },
     "metadata": {},
     "output_type": "display_data"
    }
   ],
   "source": [
    "%%bigquery online\n",
    "SELECT * EXCEPT(species, instance_timestamp)\n",
    "FROM statmike-mlops-349915.bqml_model_monitoring.serving\n",
    "WHERE RAND() < 0.1"
   ]
  },
  {
   "cell_type": "code",
   "execution_count": 115,
   "metadata": {
    "tags": []
   },
   "outputs": [
    {
     "data": {
      "text/plain": [
       "{'island': 'Biscoe',\n",
       " 'culmen_length_mm': 37.6,\n",
       " 'culmen_depth_mm': 19.1,\n",
       " 'sex': 'MALE',\n",
       " 'flipper_length_mm': 217.89831280999755,\n",
       " 'body_mass_g': 4469.108334588377}"
      ]
     },
     "execution_count": 115,
     "metadata": {},
     "output_type": "execute_result"
    }
   ],
   "source": [
    "import numpy as np\n",
    "online = online.dropna()\n",
    "online['sex'].replace(np.nan, '', inplace=True)\n",
    "online = online.to_dict(orient = 'records')\n",
    "online[0]"
   ]
  },
  {
   "cell_type": "markdown",
   "metadata": {
    "tags": []
   },
   "source": [
    "### Get Predictions"
   ]
  },
  {
   "cell_type": "code",
   "execution_count": 116,
   "metadata": {
    "tags": []
   },
   "outputs": [
    {
     "data": {
      "text/plain": [
       "Prediction(predictions=[{'species_values': ['Gentoo penguin (Pygoscelis papua)', 'Chinstrap penguin (Pygoscelis antarctica)', 'Adelie Penguin (Pygoscelis adeliae)'], 'species_probs': [0.1983481496572495, 0.1207587569952011, 0.680893063545227], 'predicted_species': 'Adelie Penguin (Pygoscelis adeliae)'}], deployed_model_id='5645928436955348992', metadata=None, model_version_id='41', model_resource_name='projects/1026793852137/locations/us-central1/models/classify_species_rf', explanations=None)"
      ]
     },
     "execution_count": 116,
     "metadata": {},
     "output_type": "execute_result"
    }
   ],
   "source": [
    "endpoint.predict(instances = online[0:1])"
   ]
  },
  {
   "cell_type": "markdown",
   "metadata": {},
   "source": [
    "### Enable Prediction request-response logging To BigQuery\n",
    "\n",
    "The endpoint can be enabled for logging both the request and response for predictions.  These logs are directed to a BigQuery table.  This is enable throught the `gcloud ai endpoints update` command - [reference](https://cloud.google.com/sdk/gcloud/reference/ai/endpoints/update)."
   ]
  },
  {
   "cell_type": "code",
   "execution_count": 117,
   "metadata": {
    "tags": []
   },
   "outputs": [
    {
     "data": {
      "text/plain": [
       "'3562283533575651328'"
      ]
     },
     "execution_count": 117,
     "metadata": {},
     "output_type": "execute_result"
    }
   ],
   "source": [
    "endpoint.name"
   ]
  },
  {
   "cell_type": "code",
   "execution_count": 118,
   "metadata": {
    "tags": []
   },
   "outputs": [
    {
     "name": "stdout",
     "output_type": "stream",
     "text": [
      "Using endpoint [https://us-central1-aiplatform.googleapis.com/]\n",
      "Updated Vertex AI endpoint [projects/1026793852137/locations/us-central1/endpoints/3562283533575651328].\n"
     ]
    }
   ],
   "source": [
    "!gcloud ai endpoints update $endpoint.name \\\n",
    "--region=us-central1 \\\n",
    "--request-response-logging-table=bq://statmike-mlops-349915.bqml_model_monitoring.serving_online"
   ]
  },
  {
   "cell_type": "markdown",
   "metadata": {},
   "source": [
    "### Send Prediction Requests To Endpoint\n",
    "\n",
    "These will get logged to the BigQuery table specified above."
   ]
  },
  {
   "cell_type": "code",
   "execution_count": 119,
   "metadata": {
    "tags": []
   },
   "outputs": [],
   "source": [
    "for instance in online:\n",
    "    prediction = endpoint.predict(instances = [instance])"
   ]
  },
  {
   "cell_type": "code",
   "execution_count": 120,
   "metadata": {
    "tags": []
   },
   "outputs": [
    {
     "data": {
      "application/vnd.jupyter.widget-view+json": {
       "model_id": "cb5492f0b50748188c2af4864e9297a2",
       "version_major": 2,
       "version_minor": 0
      },
      "text/plain": [
       "Query is running:   0%|          |"
      ]
     },
     "metadata": {},
     "output_type": "display_data"
    },
    {
     "data": {
      "application/vnd.jupyter.widget-view+json": {
       "model_id": "d2d6b93b505644deb415d310c5719e32",
       "version_major": 2,
       "version_minor": 0
      },
      "text/plain": [
       "Downloading:   0%|          |"
      ]
     },
     "metadata": {},
     "output_type": "display_data"
    },
    {
     "data": {
      "text/html": [
       "<div>\n",
       "<style scoped>\n",
       "    .dataframe tbody tr th:only-of-type {\n",
       "        vertical-align: middle;\n",
       "    }\n",
       "\n",
       "    .dataframe tbody tr th {\n",
       "        vertical-align: top;\n",
       "    }\n",
       "\n",
       "    .dataframe thead th {\n",
       "        text-align: right;\n",
       "    }\n",
       "</style>\n",
       "<table border=\"1\" class=\"dataframe\">\n",
       "  <thead>\n",
       "    <tr style=\"text-align: right;\">\n",
       "      <th></th>\n",
       "      <th>endpoint</th>\n",
       "      <th>deployed_model_id</th>\n",
       "      <th>logging_time</th>\n",
       "      <th>request_id</th>\n",
       "      <th>request_payload</th>\n",
       "      <th>response_payload</th>\n",
       "    </tr>\n",
       "  </thead>\n",
       "  <tbody>\n",
       "    <tr>\n",
       "      <th>0</th>\n",
       "      <td>projects/1026793852137/locations/us-central1/endpoints/3562283533575651328</td>\n",
       "      <td>5645928436955348992</td>\n",
       "      <td>2024-04-15 15:19:39.272412+00:00</td>\n",
       "      <td>2851953837665800167.000000000</td>\n",
       "      <td>[{\"flipper_length_mm\":217.89831280999755,\"island\":\"Biscoe\",\"culmen_depth_mm\":19.1,\"sex\":\"MALE\",\"culmen_length_mm\":37.6,\"body_mass_g\":4469.1083345883771}]</td>\n",
       "      <td>[{\"species_values\":[\"Gentoo penguin (Pygoscelis papua)\",\"Chinstrap penguin (Pygoscelis antarctica)\",\"Adelie Penguin (Pygoscelis adeliae)\"],\"predicted_species\":\"Adelie Penguin (Pygoscelis adeliae)\",\"species_probs\":[0.19834814965724951,0.1207587569952011,0.680893063545227]}]</td>\n",
       "    </tr>\n",
       "    <tr>\n",
       "      <th>1</th>\n",
       "      <td>projects/1026793852137/locations/us-central1/endpoints/3562283533575651328</td>\n",
       "      <td>5645928436955348992</td>\n",
       "      <td>2024-04-15 15:19:41.037331+00:00</td>\n",
       "      <td>1730537402198800824.000000000</td>\n",
       "      <td>[{\"culmen_length_mm\":47.5,\"body_mass_g\":4966.3460008835054,\"flipper_length_mm\":233.96883368653798,\"sex\":\"FEMALE\",\"island\":\"Dream\",\"culmen_depth_mm\":16.8}]</td>\n",
       "      <td>[{\"species_values\":[\"Gentoo penguin (Pygoscelis papua)\",\"Chinstrap penguin (Pygoscelis antarctica)\",\"Adelie Penguin (Pygoscelis adeliae)\"],\"predicted_species\":\"Chinstrap penguin (Pygoscelis antarctica)\",\"species_probs\":[0.24212606251239779,0.62636584043502808,0.1315080523490906]}]</td>\n",
       "    </tr>\n",
       "    <tr>\n",
       "      <th>2</th>\n",
       "      <td>projects/1026793852137/locations/us-central1/endpoints/3562283533575651328</td>\n",
       "      <td>5645928436955348992</td>\n",
       "      <td>2024-04-15 15:19:41.105250+00:00</td>\n",
       "      <td>4395550587989682424.000000000</td>\n",
       "      <td>[{\"flipper_length_mm\":242.6702638025123,\"island\":\"Biscoe\",\"body_mass_g\":5424.7933597925121,\"culmen_length_mm\":48.4,\"sex\":\"FEMALE\",\"culmen_depth_mm\":14.4}]</td>\n",
       "      <td>[{\"species_values\":[\"Gentoo penguin (Pygoscelis papua)\",\"Chinstrap penguin (Pygoscelis antarctica)\",\"Adelie Penguin (Pygoscelis adeliae)\"],\"predicted_species\":\"Gentoo penguin (Pygoscelis papua)\",\"species_probs\":[0.813983142375946,0.092839866876602173,0.09317702054977417]}]</td>\n",
       "    </tr>\n",
       "    <tr>\n",
       "      <th>3</th>\n",
       "      <td>projects/1026793852137/locations/us-central1/endpoints/3562283533575651328</td>\n",
       "      <td>5645928436955348992</td>\n",
       "      <td>2024-04-15 15:19:41.101567+00:00</td>\n",
       "      <td>7173143992957530421.000000000</td>\n",
       "      <td>[{\"culmen_length_mm\":45.5,\"island\":\"Biscoe\",\"sex\":\"FEMALE\",\"body_mass_g\":5690.9506153057346,\"flipper_length_mm\":262.64779928886696,\"culmen_depth_mm\":14.5}]</td>\n",
       "      <td>[{\"species_values\":[\"Gentoo penguin (Pygoscelis papua)\",\"Chinstrap penguin (Pygoscelis antarctica)\",\"Adelie Penguin (Pygoscelis adeliae)\"],\"predicted_species\":\"Gentoo penguin (Pygoscelis papua)\",\"species_probs\":[0.81356221437454224,0.092646338045597076,0.0937914252281189]}]</td>\n",
       "    </tr>\n",
       "    <tr>\n",
       "      <th>4</th>\n",
       "      <td>projects/1026793852137/locations/us-central1/endpoints/3562283533575651328</td>\n",
       "      <td>5645928436955348992</td>\n",
       "      <td>2024-04-15 15:19:41.206868+00:00</td>\n",
       "      <td>5652428403347722895.000000000</td>\n",
       "      <td>[{\"flipper_length_mm\":228.04322025728987,\"culmen_depth_mm\":15.9,\"island\":\"Biscoe\",\"body_mass_g\":5520.76696531019,\"culmen_length_mm\":50,\"sex\":\"MALE\"}]</td>\n",
       "      <td>[{\"species_probs\":[0.81333976984024048,0.093556880950927734,0.093103371560573578],\"predicted_species\":\"Gentoo penguin (Pygoscelis papua)\",\"species_values\":[\"Gentoo penguin (Pygoscelis papua)\",\"Chinstrap penguin (Pygoscelis antarctica)\",\"Adelie Penguin (Pygoscelis adeliae)\"]}]</td>\n",
       "    </tr>\n",
       "  </tbody>\n",
       "</table>\n",
       "</div>"
      ],
      "text/plain": [
       "                                                                     endpoint  \\\n",
       "0  projects/1026793852137/locations/us-central1/endpoints/3562283533575651328   \n",
       "1  projects/1026793852137/locations/us-central1/endpoints/3562283533575651328   \n",
       "2  projects/1026793852137/locations/us-central1/endpoints/3562283533575651328   \n",
       "3  projects/1026793852137/locations/us-central1/endpoints/3562283533575651328   \n",
       "4  projects/1026793852137/locations/us-central1/endpoints/3562283533575651328   \n",
       "\n",
       "     deployed_model_id                     logging_time  \\\n",
       "0  5645928436955348992 2024-04-15 15:19:39.272412+00:00   \n",
       "1  5645928436955348992 2024-04-15 15:19:41.037331+00:00   \n",
       "2  5645928436955348992 2024-04-15 15:19:41.105250+00:00   \n",
       "3  5645928436955348992 2024-04-15 15:19:41.101567+00:00   \n",
       "4  5645928436955348992 2024-04-15 15:19:41.206868+00:00   \n",
       "\n",
       "                      request_id  \\\n",
       "0  2851953837665800167.000000000   \n",
       "1  1730537402198800824.000000000   \n",
       "2  4395550587989682424.000000000   \n",
       "3  7173143992957530421.000000000   \n",
       "4  5652428403347722895.000000000   \n",
       "\n",
       "                                                                                                                                               request_payload  \\\n",
       "0    [{\"flipper_length_mm\":217.89831280999755,\"island\":\"Biscoe\",\"culmen_depth_mm\":19.1,\"sex\":\"MALE\",\"culmen_length_mm\":37.6,\"body_mass_g\":4469.1083345883771}]   \n",
       "1   [{\"culmen_length_mm\":47.5,\"body_mass_g\":4966.3460008835054,\"flipper_length_mm\":233.96883368653798,\"sex\":\"FEMALE\",\"island\":\"Dream\",\"culmen_depth_mm\":16.8}]   \n",
       "2   [{\"flipper_length_mm\":242.6702638025123,\"island\":\"Biscoe\",\"body_mass_g\":5424.7933597925121,\"culmen_length_mm\":48.4,\"sex\":\"FEMALE\",\"culmen_depth_mm\":14.4}]   \n",
       "3  [{\"culmen_length_mm\":45.5,\"island\":\"Biscoe\",\"sex\":\"FEMALE\",\"body_mass_g\":5690.9506153057346,\"flipper_length_mm\":262.64779928886696,\"culmen_depth_mm\":14.5}]   \n",
       "4        [{\"flipper_length_mm\":228.04322025728987,\"culmen_depth_mm\":15.9,\"island\":\"Biscoe\",\"body_mass_g\":5520.76696531019,\"culmen_length_mm\":50,\"sex\":\"MALE\"}]   \n",
       "\n",
       "                                                                                                                                                                                                                                                                            response_payload  \n",
       "0          [{\"species_values\":[\"Gentoo penguin (Pygoscelis papua)\",\"Chinstrap penguin (Pygoscelis antarctica)\",\"Adelie Penguin (Pygoscelis adeliae)\"],\"predicted_species\":\"Adelie Penguin (Pygoscelis adeliae)\",\"species_probs\":[0.19834814965724951,0.1207587569952011,0.680893063545227]}]  \n",
       "1  [{\"species_values\":[\"Gentoo penguin (Pygoscelis papua)\",\"Chinstrap penguin (Pygoscelis antarctica)\",\"Adelie Penguin (Pygoscelis adeliae)\"],\"predicted_species\":\"Chinstrap penguin (Pygoscelis antarctica)\",\"species_probs\":[0.24212606251239779,0.62636584043502808,0.1315080523490906]}]  \n",
       "2          [{\"species_values\":[\"Gentoo penguin (Pygoscelis papua)\",\"Chinstrap penguin (Pygoscelis antarctica)\",\"Adelie Penguin (Pygoscelis adeliae)\"],\"predicted_species\":\"Gentoo penguin (Pygoscelis papua)\",\"species_probs\":[0.813983142375946,0.092839866876602173,0.09317702054977417]}]  \n",
       "3         [{\"species_values\":[\"Gentoo penguin (Pygoscelis papua)\",\"Chinstrap penguin (Pygoscelis antarctica)\",\"Adelie Penguin (Pygoscelis adeliae)\"],\"predicted_species\":\"Gentoo penguin (Pygoscelis papua)\",\"species_probs\":[0.81356221437454224,0.092646338045597076,0.0937914252281189]}]  \n",
       "4       [{\"species_probs\":[0.81333976984024048,0.093556880950927734,0.093103371560573578],\"predicted_species\":\"Gentoo penguin (Pygoscelis papua)\",\"species_values\":[\"Gentoo penguin (Pygoscelis papua)\",\"Chinstrap penguin (Pygoscelis antarctica)\",\"Adelie Penguin (Pygoscelis adeliae)\"]}]  "
      ]
     },
     "execution_count": 120,
     "metadata": {},
     "output_type": "execute_result"
    }
   ],
   "source": [
    "%%bigquery\n",
    "SELECT *\n",
    "FROM `statmike-mlops-349915.bqml_model_monitoring.serving_online`\n",
    "LIMIT 5"
   ]
  },
  {
   "cell_type": "markdown",
   "metadata": {},
   "source": [
    "### Create A View Of All Serving Data\n",
    "\n",
    "Combine the batch serving data with the online serving data in a view."
   ]
  },
  {
   "cell_type": "code",
   "execution_count": 121,
   "metadata": {
    "tags": []
   },
   "outputs": [
    {
     "data": {
      "application/vnd.jupyter.widget-view+json": {
       "model_id": "d30405f720ae4ccdbe842f3d288173e6",
       "version_major": 2,
       "version_minor": 0
      },
      "text/plain": [
       "Query is running:   0%|          |"
      ]
     },
     "metadata": {},
     "output_type": "display_data"
    },
    {
     "data": {
      "application/vnd.jupyter.widget-view+json": {
       "model_id": "9228cbdf729f4c3ca1e693ec018ff92c",
       "version_major": 2,
       "version_minor": 0
      },
      "text/plain": [
       "Downloading:   0%|          |"
      ]
     },
     "metadata": {},
     "output_type": "display_data"
    },
    {
     "data": {
      "text/html": [
       "<div>\n",
       "<style scoped>\n",
       "    .dataframe tbody tr th:only-of-type {\n",
       "        vertical-align: middle;\n",
       "    }\n",
       "\n",
       "    .dataframe tbody tr th {\n",
       "        vertical-align: top;\n",
       "    }\n",
       "\n",
       "    .dataframe thead th {\n",
       "        text-align: right;\n",
       "    }\n",
       "</style>\n",
       "<table border=\"1\" class=\"dataframe\">\n",
       "  <thead>\n",
       "    <tr style=\"text-align: right;\">\n",
       "      <th></th>\n",
       "      <th>instance_timestamp</th>\n",
       "      <th>island</th>\n",
       "      <th>sex</th>\n",
       "      <th>flipper_length_mm</th>\n",
       "      <th>body_mass_g</th>\n",
       "      <th>culmen_length_mm</th>\n",
       "      <th>culmen_depth_mm</th>\n",
       "    </tr>\n",
       "  </thead>\n",
       "  <tbody>\n",
       "    <tr>\n",
       "      <th>0</th>\n",
       "      <td>2024-04-15 15:19:39.272412+00:00</td>\n",
       "      <td>Biscoe</td>\n",
       "      <td>MALE</td>\n",
       "      <td>217.898313</td>\n",
       "      <td>4469.108335</td>\n",
       "      <td>37.6</td>\n",
       "      <td>19.1</td>\n",
       "    </tr>\n",
       "    <tr>\n",
       "      <th>1</th>\n",
       "      <td>2024-04-15 15:19:41.037331+00:00</td>\n",
       "      <td>Dream</td>\n",
       "      <td>FEMALE</td>\n",
       "      <td>233.968834</td>\n",
       "      <td>4966.346001</td>\n",
       "      <td>47.5</td>\n",
       "      <td>16.8</td>\n",
       "    </tr>\n",
       "    <tr>\n",
       "      <th>2</th>\n",
       "      <td>2024-04-15 15:19:41.105250+00:00</td>\n",
       "      <td>Biscoe</td>\n",
       "      <td>FEMALE</td>\n",
       "      <td>242.670264</td>\n",
       "      <td>5424.793360</td>\n",
       "      <td>48.4</td>\n",
       "      <td>14.4</td>\n",
       "    </tr>\n",
       "    <tr>\n",
       "      <th>3</th>\n",
       "      <td>2024-04-15 15:19:41.101567+00:00</td>\n",
       "      <td>Biscoe</td>\n",
       "      <td>FEMALE</td>\n",
       "      <td>262.647799</td>\n",
       "      <td>5690.950615</td>\n",
       "      <td>45.5</td>\n",
       "      <td>14.5</td>\n",
       "    </tr>\n",
       "    <tr>\n",
       "      <th>4</th>\n",
       "      <td>2024-04-15 15:19:41.206868+00:00</td>\n",
       "      <td>Biscoe</td>\n",
       "      <td>MALE</td>\n",
       "      <td>228.043220</td>\n",
       "      <td>5520.766965</td>\n",
       "      <td>50.0</td>\n",
       "      <td>15.9</td>\n",
       "    </tr>\n",
       "  </tbody>\n",
       "</table>\n",
       "</div>"
      ],
      "text/plain": [
       "                instance_timestamp  island     sex  flipper_length_mm  \\\n",
       "0 2024-04-15 15:19:39.272412+00:00  Biscoe    MALE         217.898313   \n",
       "1 2024-04-15 15:19:41.037331+00:00   Dream  FEMALE         233.968834   \n",
       "2 2024-04-15 15:19:41.105250+00:00  Biscoe  FEMALE         242.670264   \n",
       "3 2024-04-15 15:19:41.101567+00:00  Biscoe  FEMALE         262.647799   \n",
       "4 2024-04-15 15:19:41.206868+00:00  Biscoe    MALE         228.043220   \n",
       "\n",
       "   body_mass_g  culmen_length_mm  culmen_depth_mm  \n",
       "0  4469.108335              37.6             19.1  \n",
       "1  4966.346001              47.5             16.8  \n",
       "2  5424.793360              48.4             14.4  \n",
       "3  5690.950615              45.5             14.5  \n",
       "4  5520.766965              50.0             15.9  "
      ]
     },
     "execution_count": 121,
     "metadata": {},
     "output_type": "execute_result"
    }
   ],
   "source": [
    "%%bigquery\n",
    "SELECT\n",
    "    logging_time as instance_timestamp,\n",
    "    JSON_VALUE(request, \"$.island\") as island,\n",
    "    JSON_VALUE(request, \"$.sex\") as sex,\n",
    "    CAST(JSON_VALUE(request, \"$.flipper_length_mm\") AS FLOAT64) as flipper_length_mm,\n",
    "    CAST(JSON_VALUE(request, \"$.body_mass_g\") AS FLOAT64) as body_mass_g,\n",
    "    CAST(JSON_VALUE(request, \"$.culmen_length_mm\") AS FLOAT64) as culmen_length_mm,\n",
    "    CAST(JSON_VALUE(request, \"$.culmen_depth_mm\") AS FLOAT64) as culmen_depth_mm\n",
    "FROM `statmike-mlops-349915.bqml_model_monitoring.serving_online`,\n",
    "UNNEST(request_payload) as request\n",
    "LIMIT 5"
   ]
  },
  {
   "cell_type": "code",
   "execution_count": 122,
   "metadata": {
    "tags": []
   },
   "outputs": [
    {
     "data": {
      "application/vnd.jupyter.widget-view+json": {
       "model_id": "f01d8c3fdcdb4e3fbd2c51944662180f",
       "version_major": 2,
       "version_minor": 0
      },
      "text/plain": [
       "Query is running:   0%|          |"
      ]
     },
     "metadata": {},
     "output_type": "display_data"
    },
    {
     "data": {
      "text/html": [
       "<div>\n",
       "<style scoped>\n",
       "    .dataframe tbody tr th:only-of-type {\n",
       "        vertical-align: middle;\n",
       "    }\n",
       "\n",
       "    .dataframe tbody tr th {\n",
       "        vertical-align: top;\n",
       "    }\n",
       "\n",
       "    .dataframe thead th {\n",
       "        text-align: right;\n",
       "    }\n",
       "</style>\n",
       "<table border=\"1\" class=\"dataframe\">\n",
       "  <thead>\n",
       "    <tr style=\"text-align: right;\">\n",
       "      <th></th>\n",
       "    </tr>\n",
       "  </thead>\n",
       "  <tbody>\n",
       "  </tbody>\n",
       "</table>\n",
       "</div>"
      ],
      "text/plain": [
       "Empty DataFrame\n",
       "Columns: []\n",
       "Index: []"
      ]
     },
     "execution_count": 122,
     "metadata": {},
     "output_type": "execute_result"
    }
   ],
   "source": [
    "%%bigquery\n",
    "CREATE OR REPLACE VIEW `statmike-mlops-349915.bqml_model_monitoring.serving_all` AS\n",
    "WITH\n",
    "    BATCH AS (\n",
    "        SELECT instance_timestamp, island, sex, flipper_length_mm, body_mass_g, culmen_length_mm, culmen_depth_mm\n",
    "        FROM `statmike-mlops-349915.bqml_model_monitoring.serving`\n",
    "    ),\n",
    "    ONLINE AS (\n",
    "        SELECT\n",
    "            logging_time as instance_timestamp,\n",
    "            JSON_VALUE(request, \"$.island\") as island,\n",
    "            JSON_VALUE(request, \"$.sex\") as sex,\n",
    "            CAST(JSON_VALUE(request, \"$.flipper_length_mm\") AS FLOAT64) as flipper_length_mm,\n",
    "            CAST(JSON_VALUE(request, \"$.body_mass_g\") AS FLOAT64) as body_mass_g,\n",
    "            CAST(JSON_VALUE(request, \"$.culmen_length_mm\") AS FLOAT64) as culmen_length_mm,\n",
    "            CAST(JSON_VALUE(request, \"$.culmen_depth_mm\") AS FLOAT64) as culmen_depth_mm\n",
    "        FROM `statmike-mlops-349915.bqml_model_monitoring.serving_online`,\n",
    "        UNNEST(request_payload) as request\n",
    "    )\n",
    "SELECT * FROM BATCH\n",
    "UNION ALL\n",
    "SELECT * FROM ONLINE\n"
   ]
  },
  {
   "cell_type": "markdown",
   "metadata": {},
   "source": [
    "### Monitoring Skew (Change from training) With `ML.VALIDATE_DATA_SKEW`\n",
    "\n",
    "Compare today, or any data, to the training data by directly comparing to the the model created in BigQuery."
   ]
  },
  {
   "cell_type": "code",
   "execution_count": 123,
   "metadata": {
    "tags": []
   },
   "outputs": [
    {
     "data": {
      "application/vnd.jupyter.widget-view+json": {
       "model_id": "048ba1957e3747039aa2b126e9c1c5d5",
       "version_major": 2,
       "version_minor": 0
      },
      "text/plain": [
       "Query is running:   0%|          |"
      ]
     },
     "metadata": {},
     "output_type": "display_data"
    },
    {
     "data": {
      "application/vnd.jupyter.widget-view+json": {
       "model_id": "8fdb59ed653646e08741dee399587606",
       "version_major": 2,
       "version_minor": 0
      },
      "text/plain": [
       "Downloading:   0%|          |"
      ]
     },
     "metadata": {},
     "output_type": "display_data"
    },
    {
     "data": {
      "text/html": [
       "<div>\n",
       "<style scoped>\n",
       "    .dataframe tbody tr th:only-of-type {\n",
       "        vertical-align: middle;\n",
       "    }\n",
       "\n",
       "    .dataframe tbody tr th {\n",
       "        vertical-align: top;\n",
       "    }\n",
       "\n",
       "    .dataframe thead th {\n",
       "        text-align: right;\n",
       "    }\n",
       "</style>\n",
       "<table border=\"1\" class=\"dataframe\">\n",
       "  <thead>\n",
       "    <tr style=\"text-align: right;\">\n",
       "      <th></th>\n",
       "      <th>input</th>\n",
       "      <th>metric</th>\n",
       "      <th>threshold</th>\n",
       "      <th>value</th>\n",
       "      <th>is_anomaly</th>\n",
       "    </tr>\n",
       "  </thead>\n",
       "  <tbody>\n",
       "    <tr>\n",
       "      <th>0</th>\n",
       "      <td>body_mass_g</td>\n",
       "      <td>JENSEN_SHANNON_DIVERGENCE</td>\n",
       "      <td>0.3</td>\n",
       "      <td>0.097432</td>\n",
       "      <td>False</td>\n",
       "    </tr>\n",
       "    <tr>\n",
       "      <th>1</th>\n",
       "      <td>culmen_depth_mm</td>\n",
       "      <td>JENSEN_SHANNON_DIVERGENCE</td>\n",
       "      <td>0.3</td>\n",
       "      <td>0.018426</td>\n",
       "      <td>False</td>\n",
       "    </tr>\n",
       "    <tr>\n",
       "      <th>2</th>\n",
       "      <td>culmen_length_mm</td>\n",
       "      <td>JENSEN_SHANNON_DIVERGENCE</td>\n",
       "      <td>0.3</td>\n",
       "      <td>0.066010</td>\n",
       "      <td>False</td>\n",
       "    </tr>\n",
       "    <tr>\n",
       "      <th>3</th>\n",
       "      <td>flipper_length_mm</td>\n",
       "      <td>JENSEN_SHANNON_DIVERGENCE</td>\n",
       "      <td>0.3</td>\n",
       "      <td>0.419343</td>\n",
       "      <td>True</td>\n",
       "    </tr>\n",
       "    <tr>\n",
       "      <th>4</th>\n",
       "      <td>island</td>\n",
       "      <td>L_INFTY</td>\n",
       "      <td>0.3</td>\n",
       "      <td>0.069632</td>\n",
       "      <td>False</td>\n",
       "    </tr>\n",
       "    <tr>\n",
       "      <th>5</th>\n",
       "      <td>sex</td>\n",
       "      <td>L_INFTY</td>\n",
       "      <td>0.3</td>\n",
       "      <td>0.036752</td>\n",
       "      <td>False</td>\n",
       "    </tr>\n",
       "  </tbody>\n",
       "</table>\n",
       "</div>"
      ],
      "text/plain": [
       "               input                     metric  threshold     value  \\\n",
       "0        body_mass_g  JENSEN_SHANNON_DIVERGENCE        0.3  0.097432   \n",
       "1    culmen_depth_mm  JENSEN_SHANNON_DIVERGENCE        0.3  0.018426   \n",
       "2   culmen_length_mm  JENSEN_SHANNON_DIVERGENCE        0.3  0.066010   \n",
       "3  flipper_length_mm  JENSEN_SHANNON_DIVERGENCE        0.3  0.419343   \n",
       "4             island                    L_INFTY        0.3  0.069632   \n",
       "5                sex                    L_INFTY        0.3  0.036752   \n",
       "\n",
       "   is_anomaly  \n",
       "0       False  \n",
       "1       False  \n",
       "2       False  \n",
       "3        True  \n",
       "4       False  \n",
       "5       False  "
      ]
     },
     "execution_count": 123,
     "metadata": {},
     "output_type": "execute_result"
    }
   ],
   "source": [
    "%%bigquery\n",
    "SELECT *\n",
    "FROM ML.VALIDATE_DATA_SKEW(\n",
    "    MODEL `statmike-mlops-349915.bqml_model_monitoring.classify_species_rf`,\n",
    "    (\n",
    "        SELECT *\n",
    "        FROM `statmike-mlops-349915.bqml_model_monitoring.serving_all`\n",
    "        WHERE DATE(instance_timestamp) >= CURRENT_DATE()\n",
    "    )\n",
    ");"
   ]
  },
  {
   "cell_type": "markdown",
   "metadata": {},
   "source": [
    "### Monitoring Drift (Change Over Time) With `ML.VALIDATE_DATA_DRIFT`\n",
    "\n",
    "Compare today to 5 days ago and set the a lower, more sensitive, threshold of `0.03` (default is `0.3`) for all features."
   ]
  },
  {
   "cell_type": "code",
   "execution_count": 124,
   "metadata": {
    "tags": []
   },
   "outputs": [
    {
     "data": {
      "application/vnd.jupyter.widget-view+json": {
       "model_id": "d06cbeb2e17948e680e255aaf4187c2d",
       "version_major": 2,
       "version_minor": 0
      },
      "text/plain": [
       "Query is running:   0%|          |"
      ]
     },
     "metadata": {},
     "output_type": "display_data"
    },
    {
     "data": {
      "application/vnd.jupyter.widget-view+json": {
       "model_id": "8cd8e4d74b4845ef9a230c3b7a1026c9",
       "version_major": 2,
       "version_minor": 0
      },
      "text/plain": [
       "Downloading:   0%|          |"
      ]
     },
     "metadata": {},
     "output_type": "display_data"
    },
    {
     "data": {
      "text/html": [
       "<div>\n",
       "<style scoped>\n",
       "    .dataframe tbody tr th:only-of-type {\n",
       "        vertical-align: middle;\n",
       "    }\n",
       "\n",
       "    .dataframe tbody tr th {\n",
       "        vertical-align: top;\n",
       "    }\n",
       "\n",
       "    .dataframe thead th {\n",
       "        text-align: right;\n",
       "    }\n",
       "</style>\n",
       "<table border=\"1\" class=\"dataframe\">\n",
       "  <thead>\n",
       "    <tr style=\"text-align: right;\">\n",
       "      <th></th>\n",
       "      <th>input</th>\n",
       "      <th>metric</th>\n",
       "      <th>threshold</th>\n",
       "      <th>value</th>\n",
       "      <th>is_anomaly</th>\n",
       "    </tr>\n",
       "  </thead>\n",
       "  <tbody>\n",
       "    <tr>\n",
       "      <th>0</th>\n",
       "      <td>body_mass_g</td>\n",
       "      <td>JENSEN_SHANNON_DIVERGENCE</td>\n",
       "      <td>0.03</td>\n",
       "      <td>0.113059</td>\n",
       "      <td>True</td>\n",
       "    </tr>\n",
       "    <tr>\n",
       "      <th>1</th>\n",
       "      <td>culmen_depth_mm</td>\n",
       "      <td>JENSEN_SHANNON_DIVERGENCE</td>\n",
       "      <td>0.03</td>\n",
       "      <td>0.005537</td>\n",
       "      <td>False</td>\n",
       "    </tr>\n",
       "    <tr>\n",
       "      <th>2</th>\n",
       "      <td>culmen_length_mm</td>\n",
       "      <td>JENSEN_SHANNON_DIVERGENCE</td>\n",
       "      <td>0.03</td>\n",
       "      <td>0.008311</td>\n",
       "      <td>False</td>\n",
       "    </tr>\n",
       "    <tr>\n",
       "      <th>3</th>\n",
       "      <td>flipper_length_mm</td>\n",
       "      <td>JENSEN_SHANNON_DIVERGENCE</td>\n",
       "      <td>0.03</td>\n",
       "      <td>0.155939</td>\n",
       "      <td>True</td>\n",
       "    </tr>\n",
       "    <tr>\n",
       "      <th>4</th>\n",
       "      <td>island</td>\n",
       "      <td>L_INFTY</td>\n",
       "      <td>0.03</td>\n",
       "      <td>0.011842</td>\n",
       "      <td>False</td>\n",
       "    </tr>\n",
       "    <tr>\n",
       "      <th>5</th>\n",
       "      <td>sex</td>\n",
       "      <td>L_INFTY</td>\n",
       "      <td>0.03</td>\n",
       "      <td>0.030201</td>\n",
       "      <td>True</td>\n",
       "    </tr>\n",
       "  </tbody>\n",
       "</table>\n",
       "</div>"
      ],
      "text/plain": [
       "               input                     metric  threshold     value  \\\n",
       "0        body_mass_g  JENSEN_SHANNON_DIVERGENCE       0.03  0.113059   \n",
       "1    culmen_depth_mm  JENSEN_SHANNON_DIVERGENCE       0.03  0.005537   \n",
       "2   culmen_length_mm  JENSEN_SHANNON_DIVERGENCE       0.03  0.008311   \n",
       "3  flipper_length_mm  JENSEN_SHANNON_DIVERGENCE       0.03  0.155939   \n",
       "4             island                    L_INFTY       0.03  0.011842   \n",
       "5                sex                    L_INFTY       0.03  0.030201   \n",
       "\n",
       "   is_anomaly  \n",
       "0        True  \n",
       "1       False  \n",
       "2       False  \n",
       "3        True  \n",
       "4       False  \n",
       "5        True  "
      ]
     },
     "execution_count": 124,
     "metadata": {},
     "output_type": "execute_result"
    }
   ],
   "source": [
    "%%bigquery\n",
    "SELECT *\n",
    "FROM ML.VALIDATE_DATA_DRIFT(\n",
    "    (\n",
    "        SELECT * EXCEPT(instance_timestamp)\n",
    "        FROM `statmike-mlops-349915.bqml_model_monitoring.serving_all`\n",
    "        WHERE DATE(instance_timestamp) = DATE_SUB(CURRENT_DATE(), INTERVAL 5 DAY)\n",
    "    ),\n",
    "    (\n",
    "        SELECT * EXCEPT(instance_timestamp)\n",
    "        FROM `statmike-mlops-349915.bqml_model_monitoring.serving_all`\n",
    "        WHERE DATE(instance_timestamp) = CURRENT_DATE() \n",
    "    ),\n",
    "    STRUCT(\n",
    "        0.03 AS categorical_default_threshold,\n",
    "        0.03 AS numerical_default_threshold\n",
    "    )\n",
    ");"
   ]
  },
  {
   "cell_type": "markdown",
   "metadata": {},
   "source": [
    "### Remove Endpoint \n",
    "To prevent ongoing cost for this demonstration, remove the endpoint.  "
   ]
  },
  {
   "cell_type": "code",
   "execution_count": 125,
   "metadata": {
    "tags": []
   },
   "outputs": [
    {
     "name": "stdout",
     "output_type": "stream",
     "text": [
      "Undeploying Endpoint model: projects/1026793852137/locations/us-central1/endpoints/3562283533575651328\n",
      "Undeploy Endpoint model backing LRO: projects/1026793852137/locations/us-central1/endpoints/3562283533575651328/operations/1474296143381790720\n",
      "Endpoint model undeployed. Resource name: projects/1026793852137/locations/us-central1/endpoints/3562283533575651328\n",
      "Deleting Endpoint : projects/1026793852137/locations/us-central1/endpoints/3562283533575651328\n",
      "Delete Endpoint  backing LRO: projects/1026793852137/locations/us-central1/operations/2046253296057843712\n",
      "Endpoint deleted. . Resource name: projects/1026793852137/locations/us-central1/endpoints/3562283533575651328\n"
     ]
    }
   ],
   "source": [
    "endpoint.delete(force = True)"
   ]
  },
  {
   "cell_type": "markdown",
   "metadata": {},
   "source": [
    "---\n",
    "## Continous Monitoring\n",
    "\n",
    "The methods above can be combined into a job that runs both skew and drift detection.  The jobs can be scheduled or triggered to make the process of model monitoring continous - continous monitoring.  If the model quality can be evaluated with confidence then the automation can even be extended to retrain and update the model for continous training.   \n",
    "\n",
    "This section shows one of many ways to create a model monitoring job. For models created in BigQuery with BigQuery ML it also shows a retraining action as part of the job when alerts are detected.\n",
    "\n",
    "These types of jobs could be automated for continous monitoring with one of these methods:\n",
    "- [BigQuery Scheduled Queries](https://cloud.google.com/bigquery/docs/scheduling-queries)\n",
    "    - Featured below\n",
    "- [Dataform](https://cloud.google.com/dataform/docs/quickstart-create-workflow)\n",
    "- [Workflows](https://cloud.google.com/workflows/docs/tutorials/bigquery-parallel-jobs)\n",
    "- [Cloud Composer](https://cloud.google.com/composer/docs/data-analytics-googlecloud)\n",
    "- [Vertex AI Pipelines](https://cloud.google.com/vertex-ai/docs/pipelines/gcpc-list#bqml_components)\n",
    "\n",
    "This section will show how to:\n",
    "- Develop model monitoring jobs:\n",
    "    - with alterting and retraining\n",
    "- Build tables to capture continous monitoring results\n",
    "- Extend monitoring jobs to BigQuery Scheduled Queries\n",
    "- Backfill monitoring jobs for a past time period"
   ]
  },
  {
   "cell_type": "markdown",
   "metadata": {},
   "source": [
    "### Model Monitoring Job: With Alerting And Retraining\n",
    "\n",
    "A BigQuery SQL job that uses the [procedural language](https://cloud.google.com/bigquery/docs/reference/standard-sql/procedural-language) to execute multiple statements (steps) as a single query.  In this case, monitoring skew and drift, detecting any feature level anomalies in either and reporting back the anomalies via a log note with a forced error.\n",
    "\n",
    "This job also includes retraining of the BigQuery ML model:\n",
    "In this case the example is simplified to retrain the model and directly implement it as a replacement with `CREATE OR REPLACE MODEL`.  In a production enviornment additional pre/post steps might take place as part of this workflow:\n",
    "- on skew/drift detection:\n",
    "    - Prior to retraining:\n",
    "        - ensure detection is not due to data errors, schema changes, or system changes\n",
    "    - After retrainning:\n",
    "        - evaluate the model and compare to current production version\n",
    "        - conditionally deploy the new version if it is better in any/all key metrics\n",
    "        - consider rollout strategies for the retrained model\n",
    "        - trigger human review before deployment of the replacement"
   ]
  },
  {
   "cell_type": "code",
   "execution_count": 126,
   "metadata": {
    "tags": []
   },
   "outputs": [
    {
     "name": "stdout",
     "output_type": "stream",
     "text": [
      "Executing query with job ID: da087065-8812-420a-9a84-a0b8f0ced96e\n",
      "Query executing: 0.23s"
     ]
    },
    {
     "name": "stderr",
     "output_type": "stream",
     "text": [
      "\n",
      "ERROR:\n",
      " 400 Query error: \n",
      "\n",
      "Monitoring Report:\n",
      "\tNo drift detected.\n",
      "\tNo skew detected.\n",
      "\n",
      " at [145:9]\n",
      "\n",
      "Location: US\n",
      "Job ID: da087065-8812-420a-9a84-a0b8f0ced96e\n",
      "\n"
     ]
    }
   ],
   "source": [
    "%%bigquery\n",
    "DECLARE drift_anomalies ARRAY<STRING>;\n",
    "DECLARE drift STRING;\n",
    "DECLARE skew_anomalies ARRAY<STRING>;\n",
    "DECLARE skew STRING;\n",
    "\n",
    "# Monitor Drift:\n",
    "SET drift_anomalies = (\n",
    "    SELECT ARRAY_AGG(input)\n",
    "    FROM ML.VALIDATE_DATA_DRIFT(\n",
    "        (\n",
    "            SELECT * EXCEPT(species, instance_timestamp)\n",
    "            FROM `statmike-mlops-349915.bqml_model_monitoring.serving`\n",
    "            WHERE DATE(instance_timestamp) = DATE_SUB(CURRENT_DATE(), INTERVAL 30 DAY)\n",
    "        ),\n",
    "        (\n",
    "            SELECT * EXCEPT(species, instance_timestamp)\n",
    "            FROM `statmike-mlops-349915.bqml_model_monitoring.serving`\n",
    "            WHERE DATE(instance_timestamp) = DATE_SUB(CURRENT_DATE(), INTERVAL 29 DAY)\n",
    "        ),\n",
    "        STRUCT(\n",
    "            0.4 AS categorical_default_threshold,\n",
    "            0.4 AS numerical_default_threshold\n",
    "        )\n",
    "    )\n",
    "    WHERE is_anomaly = True\n",
    ");\n",
    "IF(ARRAY_LENGTH(drift_anomalies) > 0)\n",
    "    THEN\n",
    "        SET drift = CONCAT(\n",
    "            \"Found data drift (\", ARRAY_TO_STRING(drift_anomalies, \", \"), \")\"\n",
    "        );\n",
    "    ELSE SET drift = 'No drift detected.';\n",
    "END IF;\n",
    "\n",
    "# Monitor Skew\n",
    "SET skew_anomalies = (\n",
    "    SELECT ARRAY_AGG(input)\n",
    "    FROM ML.VALIDATE_DATA_SKEW(\n",
    "        MODEL `statmike-mlops-349915.bqml_model_monitoring.classify_species_rf`,\n",
    "        (\n",
    "            SELECT * EXCEPT(species, instance_timestamp)\n",
    "            FROM `statmike-mlops-349915.bqml_model_monitoring.serving`\n",
    "            WHERE DATE(instance_timestamp) = DATE_SUB(CURRENT_DATE(), INTERVAL 30 DAY)\n",
    "        )\n",
    "    )\n",
    "    WHERE is_anomaly = True\n",
    ");\n",
    "IF(ARRAY_LENGTH(skew_anomalies) > 0)\n",
    "    THEN\n",
    "        SET skew = CONCAT(\n",
    "            \"Found data skew (\", ARRAY_TO_STRING(skew_anomalies, \", \"), \")\"\n",
    "        );\n",
    "    ELSE SET skew = 'No skew detected.';\n",
    "END IF;\n",
    "\n",
    "# Prepare Alert\n",
    "IF(ARRAY_LENGTH(drift_anomalies) > 0 OR ARRAY_LENGTH(skew_anomalies) > 0)\n",
    "    THEN\n",
    "        BEGIN\n",
    "            DECLARE train_accuracy FLOAT64;\n",
    "            DECLARE recent_accuracy FLOAT64;\n",
    "            DECLARE retrain_accuracy FLOAT64;\n",
    "            \n",
    "            # get current models evaluation metrics: accuracy\n",
    "            SET train_accuracy = (\n",
    "                SELECT accuracy\n",
    "                FROM ML.EVALUATE (\n",
    "                    MODEL `statmike-mlops-349915.bqml_model_monitoring.classify_species_rf`\n",
    "                )\n",
    "            );\n",
    "            \n",
    "            # get current models recent evaluation metrics: accuracy\n",
    "            SET recent_accuracy = (\n",
    "                SELECT accuracy\n",
    "                FROM ML.EVALUATE (\n",
    "                    MODEL `statmike-mlops-349915.bqml_model_monitoring.classify_species_rf`,\n",
    "                    (\n",
    "                        SELECT *\n",
    "                        FROM `statmike-mlops-349915.bqml_model_monitoring.serving`\n",
    "                        WHERE DATE(instance_timestamp) = DATE_SUB(CURRENT_DATE(), INTERVAL 30 DAY) \n",
    "                    )\n",
    "                )\n",
    "            );\n",
    "            \n",
    "            # retrain the model\n",
    "            CREATE OR REPLACE MODEL `statmike-mlops-349915.bqml_model_monitoring.classify_species_rf`\n",
    "                TRANSFORM(\n",
    "                    ML.ROBUST_SCALER(body_mass_g) OVER() AS body_mass_g,\n",
    "                    ML.STANDARD_SCALER(culmen_length_mm) OVER() AS culmen_length_mm,\n",
    "                    ML.STANDARD_SCALER(culmen_depth_mm) OVER() AS culmen_depth_mm,\n",
    "                    ML.QUANTILE_BUCKETIZE(flipper_length_mm, 3) OVER() AS flipper_length_mm,\n",
    "                    ML.IMPUTER(sex, 'most_frequent') OVER() AS sex,\n",
    "                    ML.IMPUTER(island, 'most_frequent') OVER() AS island,\n",
    "                    species\n",
    "                )\n",
    "                OPTIONS(\n",
    "                    MODEL_TYPE = 'RANDOM_FOREST_CLASSIFIER',\n",
    "                    INPUT_LABEL_COLS = ['species'],\n",
    "\n",
    "                    # data specifics\n",
    "                    DATA_SPLIT_METHOD = 'AUTO_SPLIT',\n",
    "\n",
    "                    # model specifics\n",
    "                    AUTO_CLASS_WEIGHTS = FALSE,\n",
    "                    NUM_PARALLEL_TREE= 150,\n",
    "                    TREE_METHOD = 'HIST',\n",
    "                    SUBSAMPLE = 0.85,\n",
    "                    COLSAMPLE_BYTREE = 0.9,\n",
    "                    ENABLE_GLOBAL_EXPLAIN = TRUE,\n",
    "\n",
    "                    # register model in Vertex AI For Online Serving\n",
    "                    MODEL_REGISTRY = 'VERTEX_AI'\n",
    "                )\n",
    "            AS\n",
    "                SELECT species, island, culmen_length_mm, culmen_depth_mm, sex, flipper_length_mm, body_mass_g\n",
    "                FROM `statmike-mlops-349915.bqml_model_monitoring.training`\n",
    "                UNION ALL\n",
    "                SELECT species, island, culmen_length_mm, culmen_depth_mm, sex, flipper_length_mm, body_mass_g\n",
    "                FROM `statmike-mlops-349915.bqml_model_monitoring.serving`\n",
    "                WHERE DATE(instance_timestamp) = DATE_SUB(CURRENT_DATE(), INTERVAL 30 DAY)\n",
    "            ;\n",
    "            \n",
    "            # get retrained models evaluation metrics: accuracy\n",
    "            SET retrain_accuracy = (\n",
    "                SELECT accuracy\n",
    "                FROM ML.EVALUATE (\n",
    "                    MODEL `statmike-mlops-349915.bqml_model_monitoring.classify_species_rf`\n",
    "                )\n",
    "            );\n",
    "\n",
    "            SELECT ERROR(\n",
    "                CONCAT(\n",
    "                    \"\\n\\nMonitoring Report:\",\n",
    "                    \"\\n\\t\", drift,\n",
    "                    \"\\n\\t\", skew,\n",
    "                    \"\\nThe Model was retrained:\",\n",
    "                    \"\\n\\taccuracy of prior model: \", train_accuracy,\n",
    "                    \"\\n\\trecent accuracy of prior model: \", recent_accuracy,\n",
    "                    \"\\n\\taccuracy after retraining: \", retrain_accuracy,\n",
    "                    \"\\n\\n\"\n",
    "                )\n",
    "            );\n",
    "        END;\n",
    "    ELSE\n",
    "        SELECT ERROR(\n",
    "            CONCAT(\n",
    "                \"\\n\\nMonitoring Report:\",\n",
    "                \"\\n\\t\", drift,\n",
    "                \"\\n\\t\", skew,\n",
    "                \"\\n\\n\"\n",
    "            )\n",
    "        );\n",
    "END IF;"
   ]
  },
  {
   "cell_type": "markdown",
   "metadata": {},
   "source": [
    "### From Job To Scheduled Query\n",
    "\n",
    "The model monitoring job created above can be modified and scheduled using [scheduled queries](https://cloud.google.com/bigquery/docs/scheduling-queries).  A key feature of the modification is making use of the parameter `@run_date` to parameterize the queries reference to dates (see [configuration options](https://cloud.google.com/bigquery/docs/scheduling-queries#configuration_options)).  This allows the query to run as though it is on different dates which will be helpful as we backfill the model monitoring runs after scheduling for today and forward.\n",
    "\n",
    "Note, the next cell is writing the content of the query to a file named `model_monitoring_job.sql`.\n",
    "Other modification to the job above:\n",
    "- Drift is set to compare the last weeks serving data to the prior week\n",
    "- Skew is set to compare the last weeks serving data to the baseline training data"
   ]
  },
  {
   "cell_type": "code",
   "execution_count": 127,
   "metadata": {
    "tags": []
   },
   "outputs": [
    {
     "name": "stdout",
     "output_type": "stream",
     "text": [
      "Overwriting model_monitoring_job.sql\n"
     ]
    }
   ],
   "source": [
    "%%writefile model_monitoring_job.sql\n",
    "DECLARE drift_anomalies ARRAY<STRING>;\n",
    "DECLARE drift STRING;\n",
    "DECLARE skew_anomalies ARRAY<STRING>;\n",
    "DECLARE skew STRING;\n",
    "\n",
    "# Monitor Drift\n",
    "SET drift_anomalies = (\n",
    "    SELECT ARRAY_AGG(input)\n",
    "    FROM ML.VALIDATE_DATA_DRIFT(\n",
    "        (\n",
    "            SELECT * EXCEPT(instance_timestamp)\n",
    "            FROM `statmike-mlops-349915.bqml_model_monitoring.serving_all`\n",
    "            WHERE\n",
    "                DATE(instance_timestamp) >= DATE_SUB(@run_date, INTERVAL 2 WEEK)\n",
    "                AND\n",
    "                DATE(instance_timestamp) < DATE_SUB(@run_date, INTERVAL 1 WEEK)\n",
    "        ),\n",
    "        (\n",
    "            SELECT * EXCEPT(instance_timestamp)\n",
    "            FROM `statmike-mlops-349915.bqml_model_monitoring.serving_all`\n",
    "            WHERE DATE(instance_timestamp) >= DATE_SUB(@run_date, INTERVAL 1 WEEK)\n",
    "        ),\n",
    "        STRUCT(\n",
    "            0.4 AS categorical_default_threshold,\n",
    "            0.4 AS numerical_default_threshold\n",
    "        )\n",
    "    )\n",
    "    WHERE is_anomaly = True\n",
    ");\n",
    "IF(ARRAY_LENGTH(drift_anomalies) > 0)\n",
    "    THEN\n",
    "        SET drift = CONCAT(\n",
    "            \"Found data drift (\", ARRAY_TO_STRING(drift_anomalies, \", \"), \")\"\n",
    "        );\n",
    "    ELSE SET drift = 'No drift detected.';\n",
    "END IF;\n",
    "\n",
    "# Monitor Skew\n",
    "SET skew_anomalies = (\n",
    "    SELECT ARRAY_AGG(input)\n",
    "    FROM ML.VALIDATE_DATA_SKEW(\n",
    "        MODEL `statmike-mlops-349915.bqml_model_monitoring.classify_species_rf`,\n",
    "        (\n",
    "            SELECT * EXCEPT(instance_timestamp)\n",
    "            FROM `statmike-mlops-349915.bqml_model_monitoring.serving_all`\n",
    "            WHERE DATE(instance_timestamp) >= DATE_SUB(@run_date, INTERVAL 1 WEEK)\n",
    "        )\n",
    "    )\n",
    "    WHERE is_anomaly = True\n",
    ");\n",
    "IF(ARRAY_LENGTH(skew_anomalies) > 0)\n",
    "    THEN\n",
    "        SET skew = CONCAT(\n",
    "            \"Found data skew (\", ARRAY_TO_STRING(skew_anomalies, \", \"), \")\"\n",
    "        );\n",
    "    ELSE SET skew = 'No skew detected.';\n",
    "END IF;\n",
    "\n",
    "# Prepare Alert\n",
    "IF(ARRAY_LENGTH(drift_anomalies) > 0 OR ARRAY_LENGTH(skew_anomalies) > 0)\n",
    "    THEN\n",
    "        BEGIN\n",
    "            DECLARE train_accuracy FLOAT64;\n",
    "            DECLARE recent_accuracy FLOAT64;\n",
    "            DECLARE retrain_accuracy FLOAT64;\n",
    "            \n",
    "            # get current models evaluation metrics: accuracy\n",
    "            SET train_accuracy = (\n",
    "                SELECT accuracy\n",
    "                FROM ML.EVALUATE (\n",
    "                    MODEL `statmike-mlops-349915.bqml_model_monitoring.classify_species_rf`\n",
    "                )\n",
    "            );\n",
    "            \n",
    "            # get current models recent evaluation metrics: accuracy\n",
    "            SET recent_accuracy = (\n",
    "                SELECT accuracy\n",
    "                FROM ML.EVALUATE (\n",
    "                    MODEL `statmike-mlops-349915.bqml_model_monitoring.classify_species_rf`,\n",
    "                    (\n",
    "                        SELECT *\n",
    "                        FROM `statmike-mlops-349915.bqml_model_monitoring.serving`\n",
    "                        WHERE DATE(instance_timestamp) >= DATE_SUB(@run_date, INTERVAL 1 WEEK) \n",
    "                    )\n",
    "                )\n",
    "            );\n",
    "            \n",
    "            # retrain the model\n",
    "            CREATE OR REPLACE MODEL `statmike-mlops-349915.bqml_model_monitoring.classify_species_rf`\n",
    "                TRANSFORM(\n",
    "                    ML.ROBUST_SCALER(body_mass_g) OVER() AS body_mass_g,\n",
    "                    ML.STANDARD_SCALER(culmen_length_mm) OVER() AS culmen_length_mm,\n",
    "                    ML.STANDARD_SCALER(culmen_depth_mm) OVER() AS culmen_depth_mm,\n",
    "                    ML.QUANTILE_BUCKETIZE(flipper_length_mm, 3) OVER() AS flipper_length_mm,\n",
    "                    ML.IMPUTER(sex, 'most_frequent') OVER() AS sex,\n",
    "                    ML.IMPUTER(island, 'most_frequent') OVER() AS island,\n",
    "                    species\n",
    "                )\n",
    "                OPTIONS(\n",
    "                    MODEL_TYPE = 'RANDOM_FOREST_CLASSIFIER',\n",
    "                    INPUT_LABEL_COLS = ['species'],\n",
    "\n",
    "                    # data specifics\n",
    "                    DATA_SPLIT_METHOD = 'AUTO_SPLIT',\n",
    "\n",
    "                    # model specifics\n",
    "                    AUTO_CLASS_WEIGHTS = FALSE,\n",
    "                    NUM_PARALLEL_TREE= 150,\n",
    "                    TREE_METHOD = 'HIST',\n",
    "                    SUBSAMPLE = 0.85,\n",
    "                    COLSAMPLE_BYTREE = 0.9,\n",
    "                    ENABLE_GLOBAL_EXPLAIN = TRUE,\n",
    "\n",
    "                    # register model in Vertex AI For Online Serving\n",
    "                    MODEL_REGISTRY = 'VERTEX_AI'\n",
    "                )\n",
    "            AS\n",
    "                SELECT species, island, culmen_length_mm, culmen_depth_mm, sex, flipper_length_mm, body_mass_g\n",
    "                FROM `statmike-mlops-349915.bqml_model_monitoring.training_split`\n",
    "                WHERE splits = 'TRAIN'\n",
    "                UNION ALL\n",
    "                SELECT species, island, culmen_length_mm, culmen_depth_mm, sex, flipper_length_mm, body_mass_g\n",
    "                FROM `statmike-mlops-349915.bqml_model_monitoring.serving`\n",
    "                WHERE DATE(instance_timestamp) < @run_date\n",
    "            ;\n",
    "            \n",
    "            # get retrained models evaluation metrics: accuracy\n",
    "            SET retrain_accuracy = (\n",
    "                SELECT accuracy\n",
    "                FROM ML.EVALUATE (\n",
    "                    MODEL `statmike-mlops-349915.bqml_model_monitoring.classify_species_rf`\n",
    "                )\n",
    "            );\n",
    "\n",
    "            SELECT ERROR(\n",
    "                CONCAT(\n",
    "                    \"\\n\\nMonitoring Report for \", @run_date, \":\",\n",
    "                    \"\\n\\t\", drift,\n",
    "                    \"\\n\\t\", skew,\n",
    "                    \"\\nThe Model was retrained:\",\n",
    "                    \"\\n\\taccuracy of prior model: \", train_accuracy,\n",
    "                    \"\\n\\trecent accuracy of prior model: \", recent_accuracy,\n",
    "                    \"\\n\\taccuracy after retraining: \", retrain_accuracy,\n",
    "                    \"\\n\\n\"\n",
    "                )\n",
    "            );\n",
    "        END;\n",
    "    ELSE\n",
    "        SELECT ERROR(\n",
    "            CONCAT(\n",
    "                \"\\n\\nMonitoring Report for \", @run_date, \":\",\n",
    "                \"\\n\\t\", drift,\n",
    "                \"\\n\\t\", skew,\n",
    "                \"\\n\\n\"\n",
    "            )\n",
    "        );\n",
    "END IF;"
   ]
  },
  {
   "cell_type": "markdown",
   "metadata": {},
   "source": [
    "### Schedule The Query\n",
    "\n",
    "The query can be scheduled in [a number of ways](https://cloud.google.com/bigquery/docs/scheduling-queries#set_up_scheduled_queries) including the console, bq cli, and Python. Here, the Python client will be used.\n",
    "- **References**\n",
    "    - [Python Client For BigQuery Data Transfer](https://cloud.google.com/python/docs/reference/bigquerydatatransfer/latest)\n",
    "    - [Set up schedule queries with Python client](https://cloud.google.com/bigquery/docs/scheduling-queries#python)"
   ]
  },
  {
   "cell_type": "code",
   "execution_count": 128,
   "metadata": {
    "tags": []
   },
   "outputs": [],
   "source": [
    "from google.cloud import bigquery_datatransfer\n",
    "from datetime import datetime, timezone, timedelta\n",
    "import time\n",
    "transfer_client = bigquery_datatransfer.DataTransferServiceClient()"
   ]
  },
  {
   "cell_type": "code",
   "execution_count": 129,
   "metadata": {
    "tags": []
   },
   "outputs": [
    {
     "data": {
      "text/plain": [
       "datetime.datetime(2024, 4, 16, 15, 40, 20, 9871, tzinfo=datetime.timezone.utc)"
      ]
     },
     "execution_count": 129,
     "metadata": {},
     "output_type": "execute_result"
    }
   ],
   "source": [
    "start_time = datetime.now(timezone.utc) + timedelta(days=1) # start tomorrow\n",
    "start_time"
   ]
  },
  {
   "cell_type": "code",
   "execution_count": 130,
   "metadata": {
    "tags": []
   },
   "outputs": [],
   "source": [
    "with open('model_monitoring_job.sql', 'r') as file:\n",
    "    query = file.read()"
   ]
  },
  {
   "cell_type": "code",
   "execution_count": 131,
   "metadata": {
    "tags": []
   },
   "outputs": [
    {
     "data": {
      "text/plain": [
       "'projects/statmike-mlops-349915/locations/us'"
      ]
     },
     "execution_count": 131,
     "metadata": {},
     "output_type": "execute_result"
    }
   ],
   "source": [
    "transfer_client.common_location_path('statmike-mlops-349915', 'us')"
   ]
  },
  {
   "cell_type": "code",
   "execution_count": 132,
   "metadata": {
    "tags": []
   },
   "outputs": [],
   "source": [
    "scheduled_query = transfer_client.create_transfer_config(\n",
    "    #parent = transfer_client.common_project_path('statmike-mlops-349915'),\n",
    "    parent = transfer_client.common_location_path('statmike-mlops-349915', 'us'),\n",
    "    transfer_config = bigquery_datatransfer.TransferConfig(\n",
    "        display_name = 'Continous Model Monitoring',\n",
    "        data_source_id = 'scheduled_query',\n",
    "        params = {'query': query},\n",
    "        schedule = 'every 24 hours',\n",
    "        schedule_options = bigquery_datatransfer.ScheduleOptions(\n",
    "            start_time=start_time.strftime(\"%Y-%m-%dT%H:%M:%SZ\")\n",
    "        ),\n",
    "        email_preferences = bigquery_datatransfer.EmailPreferences(\n",
    "            enable_failure_email = True\n",
    "        )\n",
    "    )\n",
    ")"
   ]
  },
  {
   "cell_type": "code",
   "execution_count": 133,
   "metadata": {
    "tags": []
   },
   "outputs": [
    {
     "data": {
      "text/plain": [
       "('Continous Model Monitoring',\n",
       " 'projects/1026793852137/locations/us/transferConfigs/661de6a9-0000-22a2-be50-582429aad51c')"
      ]
     },
     "execution_count": 133,
     "metadata": {},
     "output_type": "execute_result"
    }
   ],
   "source": [
    "scheduled_query.display_name, scheduled_query.name"
   ]
  },
  {
   "cell_type": "code",
   "execution_count": 134,
   "metadata": {
    "tags": []
   },
   "outputs": [
    {
     "data": {
      "text/plain": [
       "'2024-04-17 15:40:00.000000'"
      ]
     },
     "execution_count": 134,
     "metadata": {},
     "output_type": "execute_result"
    }
   ],
   "source": [
    "scheduled_query.next_run_time.strftime(\"%Y-%m-%d %H:%M:%S.%f\")"
   ]
  },
  {
   "cell_type": "markdown",
   "metadata": {},
   "source": [
    "Take a moment to see the query in the console:\n",
    "- Console > BigQuery > Scheduled Queries"
   ]
  },
  {
   "cell_type": "markdown",
   "metadata": {},
   "source": [
    "### Backfill History With Scheduled Query\n",
    "\n",
    "While the client can use a start and end time to run a range of backfill dates, it will runs these backwards from most recent to the earliest time.  Due to the nature of the model monitoring job it is more desirable to run these in the order from earliest to most recent.  This is accomplished by launching each days job separately in the desired order."
   ]
  },
  {
   "cell_type": "code",
   "execution_count": 135,
   "metadata": {
    "tags": []
   },
   "outputs": [],
   "source": [
    "# -30 days\n",
    "start_time = datetime.now(timezone.utc) + timedelta(days = -30)\n",
    "backfill_job = transfer_client.start_manual_transfer_runs(\n",
    "    request = bigquery_datatransfer.StartManualTransferRunsRequest(\n",
    "        parent = scheduled_query.name,\n",
    "        requested_run_time = start_time \n",
    "    )\n",
    ")"
   ]
  },
  {
   "cell_type": "code",
   "execution_count": 136,
   "metadata": {
    "tags": []
   },
   "outputs": [
    {
     "data": {
      "text/plain": [
       "'projects/1026793852137/locations/us/transferConfigs/661de6a9-0000-22a2-be50-582429aad51c/runs/662fb656-0000-287d-a0f1-c82add799738'"
      ]
     },
     "execution_count": 136,
     "metadata": {},
     "output_type": "execute_result"
    }
   ],
   "source": [
    "backfill_job.runs[0].name"
   ]
  },
  {
   "cell_type": "code",
   "execution_count": 137,
   "metadata": {
    "tags": []
   },
   "outputs": [
    {
     "data": {
      "text/plain": [
       "'RUNNING'"
      ]
     },
     "execution_count": 137,
     "metadata": {},
     "output_type": "execute_result"
    }
   ],
   "source": [
    "transfer_client.get_transfer_run(\n",
    "    name = backfill_job.runs[0].name\n",
    ").state.name"
   ]
  },
  {
   "cell_type": "markdown",
   "metadata": {},
   "source": [
    "**NOTE:** A State of 'FAILED' is actually the correct end state as the method of using SQL ERRORS to pass the results and trigger notification emails was used."
   ]
  },
  {
   "cell_type": "code",
   "execution_count": 138,
   "metadata": {
    "tags": []
   },
   "outputs": [],
   "source": [
    "while True:\n",
    "    state = transfer_client.get_transfer_run(\n",
    "        name = backfill_job.runs[0].name\n",
    "    ).state.name\n",
    "    if state == 'FAILED':\n",
    "        break\n",
    "    else:\n",
    "        time.sleep(30)"
   ]
  },
  {
   "cell_type": "code",
   "execution_count": 139,
   "metadata": {
    "tags": []
   },
   "outputs": [],
   "source": [
    "backfill_jobs =[backfill_job]"
   ]
  },
  {
   "cell_type": "code",
   "execution_count": 140,
   "metadata": {
    "tags": []
   },
   "outputs": [
    {
     "name": "stdout",
     "output_type": "stream",
     "text": [
      "2024-03-17 15:44:50.985401+00:00\n",
      "2024-03-18 15:48:51.702195+00:00\n",
      "2024-03-19 15:52:52.426263+00:00\n",
      "2024-03-20 15:59:23.503966+00:00\n",
      "2024-03-21 16:04:26.447936+00:00\n",
      "2024-03-22 16:09:29.370223+00:00\n",
      "2024-03-23 16:10:59.764870+00:00\n",
      "2024-03-24 16:12:30.140238+00:00\n",
      "2024-03-25 16:17:31.238197+00:00\n",
      "2024-03-26 16:22:32.090136+00:00\n",
      "2024-03-27 16:24:02.531609+00:00\n",
      "2024-03-28 16:25:32.961056+00:00\n",
      "2024-03-29 16:29:33.742362+00:00\n",
      "2024-03-30 16:31:04.099075+00:00\n",
      "2024-03-31 16:32:34.529946+00:00\n",
      "2024-04-01 16:34:04.847699+00:00\n",
      "2024-04-02 16:39:05.756440+00:00\n",
      "2024-04-03 16:40:36.137847+00:00\n",
      "2024-04-04 16:42:06.495458+00:00\n",
      "2024-04-05 16:43:36.882806+00:00\n",
      "2024-04-06 16:45:07.299423+00:00\n",
      "2024-04-07 16:49:08.085153+00:00\n",
      "2024-04-08 16:50:38.518264+00:00\n",
      "2024-04-09 16:52:08.888321+00:00\n",
      "2024-04-10 16:53:39.301083+00:00\n",
      "2024-04-11 16:55:09.651312+00:00\n",
      "2024-04-12 16:56:40.046810+00:00\n",
      "2024-04-13 16:58:10.423248+00:00\n",
      "2024-04-14 16:59:40.801096+00:00\n",
      "2024-04-15 17:01:11.145607+00:00\n"
     ]
    }
   ],
   "source": [
    "# Loop From -29 to -0 days\n",
    "for days in range(30)[::-1]:\n",
    "    start_time = datetime.now(timezone.utc) + timedelta(days = -1*days)\n",
    "    print(start_time)\n",
    "    # start job\n",
    "    backfill_jobs.append(\n",
    "        transfer_client.start_manual_transfer_runs(\n",
    "            request = bigquery_datatransfer.StartManualTransferRunsRequest(\n",
    "                parent = scheduled_query.name,\n",
    "                requested_run_time = start_time \n",
    "            )\n",
    "        )\n",
    "    )\n",
    "    # monitor job before continuing:\n",
    "    while True:\n",
    "        state = transfer_client.get_transfer_run(\n",
    "            name = backfill_jobs[-1].runs[0].name\n",
    "        ).state.name\n",
    "        if state == 'FAILED':\n",
    "            break\n",
    "        else:\n",
    "            time.sleep(30)    "
   ]
  },
  {
   "cell_type": "code",
   "execution_count": 141,
   "metadata": {
    "tags": []
   },
   "outputs": [],
   "source": [
    "backfill_results = [transfer_client.get_transfer_run(name = j.runs[0].name) for j in backfill_jobs]"
   ]
  },
  {
   "cell_type": "code",
   "execution_count": 144,
   "metadata": {
    "tags": []
   },
   "outputs": [
    {
     "data": {
      "text/html": [
       "<style type=\"text/css\">\n",
       "#T_49543_row0_col0, #T_49543_row0_col1, #T_49543_row1_col0, #T_49543_row1_col1, #T_49543_row2_col0, #T_49543_row2_col1, #T_49543_row3_col0, #T_49543_row3_col1, #T_49543_row4_col0, #T_49543_row4_col1, #T_49543_row5_col0, #T_49543_row5_col1, #T_49543_row6_col0, #T_49543_row6_col1, #T_49543_row7_col0, #T_49543_row7_col1, #T_49543_row8_col0, #T_49543_row8_col1, #T_49543_row9_col0, #T_49543_row9_col1, #T_49543_row10_col0, #T_49543_row10_col1, #T_49543_row11_col0, #T_49543_row11_col1, #T_49543_row12_col0, #T_49543_row12_col1, #T_49543_row13_col0, #T_49543_row13_col1, #T_49543_row14_col0, #T_49543_row14_col1, #T_49543_row15_col0, #T_49543_row15_col1, #T_49543_row16_col0, #T_49543_row16_col1, #T_49543_row17_col0, #T_49543_row17_col1, #T_49543_row18_col0, #T_49543_row18_col1, #T_49543_row19_col0, #T_49543_row19_col1, #T_49543_row20_col0, #T_49543_row20_col1, #T_49543_row21_col0, #T_49543_row21_col1, #T_49543_row22_col0, #T_49543_row22_col1, #T_49543_row23_col0, #T_49543_row23_col1, #T_49543_row24_col0, #T_49543_row24_col1, #T_49543_row25_col0, #T_49543_row25_col1, #T_49543_row26_col0, #T_49543_row26_col1, #T_49543_row27_col0, #T_49543_row27_col1, #T_49543_row28_col0, #T_49543_row28_col1, #T_49543_row29_col0, #T_49543_row29_col1, #T_49543_row30_col0, #T_49543_row30_col1 {\n",
       "  text-align: left;\n",
       "  white-space: pre-wrap;\n",
       "}\n",
       "</style>\n",
       "<table id=\"T_49543\">\n",
       "  <thead>\n",
       "    <tr>\n",
       "      <th class=\"blank level0\" >&nbsp;</th>\n",
       "      <th id=\"T_49543_level0_col0\" class=\"col_heading level0 col0\" >Date</th>\n",
       "      <th id=\"T_49543_level0_col1\" class=\"col_heading level0 col1\" >Result</th>\n",
       "    </tr>\n",
       "  </thead>\n",
       "  <tbody>\n",
       "    <tr>\n",
       "      <th id=\"T_49543_level0_row0\" class=\"row_heading level0 row0\" >0</th>\n",
       "      <td id=\"T_49543_row0_col0\" class=\"data row0 col0\" >2024-03-16 15:40:43.571442+00:00</td>\n",
       "      <td id=\"T_49543_row0_col1\" class=\"data row0 col1\" >Query error: \n",
       "\n",
       "Monitoring Report for 2024-03-16:\n",
       "\tNo drift detected.\n",
       "\tFound data skew (flipper_length_mm)\n",
       "The Model was retrained:\n",
       "\taccuracy of prior model: 1\n",
       "\trecent accuracy of prior model: 0.98185483870967738\n",
       "\taccuracy after retraining: 0.99159663865546221\n",
       "\n",
       " at [135:13]; JobID: 1026793852137:scheduled_query_662fb656-0000-287d-a0f1-c82add799738</td>\n",
       "    </tr>\n",
       "    <tr>\n",
       "      <th id=\"T_49543_level0_row1\" class=\"row_heading level0 row1\" >1</th>\n",
       "      <td id=\"T_49543_row1_col0\" class=\"data row1 col0\" >2024-03-17 15:44:50.985401+00:00</td>\n",
       "      <td id=\"T_49543_row1_col1\" class=\"data row1 col1\" >Query error: \n",
       "\n",
       "Monitoring Report for 2024-03-17:\n",
       "\tNo drift detected.\n",
       "\tFound data skew (flipper_length_mm)\n",
       "The Model was retrained:\n",
       "\taccuracy of prior model: 1\n",
       "\trecent accuracy of prior model: 0.9814516129032258\n",
       "\taccuracy after retraining: 0.990566037735849\n",
       "\n",
       " at [135:13]; JobID: 1026793852137:scheduled_query_661d8f30-0000-2164-ad1e-94eb2c199e16</td>\n",
       "    </tr>\n",
       "    <tr>\n",
       "      <th id=\"T_49543_level0_row2\" class=\"row_heading level0 row2\" >2</th>\n",
       "      <td id=\"T_49543_row2_col0\" class=\"data row2 col0\" >2024-03-18 15:48:51.702195+00:00</td>\n",
       "      <td id=\"T_49543_row2_col1\" class=\"data row2 col1\" >Query error: \n",
       "\n",
       "Monitoring Report for 2024-03-18:\n",
       "\tNo drift detected.\n",
       "\tFound data skew (flipper_length_mm)\n",
       "The Model was retrained:\n",
       "\taccuracy of prior model: 1\n",
       "\trecent accuracy of prior model: 0.96169354838709675\n",
       "\taccuracy after retraining: 0.98743718592964824\n",
       "\n",
       " at [135:13]; JobID: 1026793852137:scheduled_query_66331d57-0000-275f-90e6-d4f547fcbab4</td>\n",
       "    </tr>\n",
       "    <tr>\n",
       "      <th id=\"T_49543_level0_row3\" class=\"row_heading level0 row3\" >3</th>\n",
       "      <td id=\"T_49543_row3_col0\" class=\"data row3 col0\" >2024-03-19 15:52:52.426263+00:00</td>\n",
       "      <td id=\"T_49543_row3_col1\" class=\"data row3 col1\" >Query error: \n",
       "\n",
       "Monitoring Report for 2024-03-19:\n",
       "\tNo drift detected.\n",
       "\tFound data skew (flipper_length_mm)\n",
       "The Model was retrained:\n",
       "\taccuracy of prior model: 1\n",
       "\trecent accuracy of prior model: 0.98508064516129035\n",
       "\taccuracy after retraining: 0.98535564853556479\n",
       "\n",
       " at [135:13]; JobID: 1026793852137:scheduled_query_66434f78-0000-21b2-ba38-94eb2c061304</td>\n",
       "    </tr>\n",
       "    <tr>\n",
       "      <th id=\"T_49543_level0_row4\" class=\"row_heading level0 row4\" >4</th>\n",
       "      <td id=\"T_49543_row4_col0\" class=\"data row4 col0\" >2024-03-20 15:59:23.503966+00:00</td>\n",
       "      <td id=\"T_49543_row4_col1\" class=\"data row4 col1\" >Query error: \n",
       "\n",
       "Monitoring Report for 2024-03-20:\n",
       "\tNo drift detected.\n",
       "\tFound data skew (flipper_length_mm)\n",
       "The Model was retrained:\n",
       "\taccuracy of prior model: 1\n",
       "\trecent accuracy of prior model: 0.9875\n",
       "\taccuracy after retraining: 1\n",
       "\n",
       " at [135:13]; JobID: 1026793852137:scheduled_query_662fc626-0000-287d-a0f1-c82add799738</td>\n",
       "    </tr>\n",
       "    <tr>\n",
       "      <th id=\"T_49543_level0_row5\" class=\"row_heading level0 row5\" >5</th>\n",
       "      <td id=\"T_49543_row5_col0\" class=\"data row5 col0\" >2024-03-21 16:04:26.447936+00:00</td>\n",
       "      <td id=\"T_49543_row5_col1\" class=\"data row5 col1\" >Query error: \n",
       "\n",
       "Monitoring Report for 2024-03-21:\n",
       "\tNo drift detected.\n",
       "\tFound data skew (flipper_length_mm)\n",
       "The Model was retrained:\n",
       "\taccuracy of prior model: 1\n",
       "\trecent accuracy of prior model: 0.99959677419354831\n",
       "\taccuracy after retraining: 0.983739837398374\n",
       "\n",
       " at [135:13]; JobID: 1026793852137:scheduled_query_6644b4a9-0000-2456-ac7f-582429a663a4</td>\n",
       "    </tr>\n",
       "    <tr>\n",
       "      <th id=\"T_49543_level0_row6\" class=\"row_heading level0 row6\" >6</th>\n",
       "      <td id=\"T_49543_row6_col0\" class=\"data row6 col0\" >2024-03-22 16:09:29.370223+00:00</td>\n",
       "      <td id=\"T_49543_row6_col1\" class=\"data row6 col1\" >Query error: \n",
       "\n",
       "Monitoring Report for 2024-03-22:\n",
       "\tNo drift detected.\n",
       "\tNo skew detected.\n",
       "\n",
       " at [149:9]; JobID: 1026793852137:scheduled_query_666342a2-0000-22b7-bfd2-582429a86010</td>\n",
       "    </tr>\n",
       "    <tr>\n",
       "      <th id=\"T_49543_level0_row7\" class=\"row_heading level0 row7\" >7</th>\n",
       "      <td id=\"T_49543_row7_col0\" class=\"data row7 col0\" >2024-03-23 16:10:59.764870+00:00</td>\n",
       "      <td id=\"T_49543_row7_col1\" class=\"data row7 col1\" >Query error: \n",
       "\n",
       "Monitoring Report for 2024-03-23:\n",
       "\tNo drift detected.\n",
       "\tNo skew detected.\n",
       "\n",
       " at [149:9]; JobID: 1026793852137:scheduled_query_662f9205-0000-298c-8f90-582429cbdda4</td>\n",
       "    </tr>\n",
       "    <tr>\n",
       "      <th id=\"T_49543_level0_row8\" class=\"row_heading level0 row8\" >8</th>\n",
       "      <td id=\"T_49543_row8_col0\" class=\"data row8 col0\" >2024-03-24 16:12:30.140238+00:00</td>\n",
       "      <td id=\"T_49543_row8_col1\" class=\"data row8 col1\" >Query error: \n",
       "\n",
       "Monitoring Report for 2024-03-24:\n",
       "\tFound data drift (flipper_length_mm)\n",
       "\tFound data skew (flipper_length_mm)\n",
       "The Model was retrained:\n",
       "\taccuracy of prior model: 0.983739837398374\n",
       "\trecent accuracy of prior model: 0.98583333333333334\n",
       "\taccuracy after retraining: 1\n",
       "\n",
       " at [135:13]; JobID: 1026793852137:scheduled_query_6626bb78-0000-29bd-8259-d4f547ff548c</td>\n",
       "    </tr>\n",
       "    <tr>\n",
       "      <th id=\"T_49543_level0_row9\" class=\"row_heading level0 row9\" >9</th>\n",
       "      <td id=\"T_49543_row9_col0\" class=\"data row9 col0\" >2024-03-25 16:17:31.238197+00:00</td>\n",
       "      <td id=\"T_49543_row9_col1\" class=\"data row9 col1\" >Query error: \n",
       "\n",
       "Monitoring Report for 2024-03-25:\n",
       "\tFound data drift (flipper_length_mm)\n",
       "\tNo skew detected.\n",
       "The Model was retrained:\n",
       "\taccuracy of prior model: 1\n",
       "\trecent accuracy of prior model: 0.98922413793103448\n",
       "\taccuracy after retraining: 0.9946236559139785\n",
       "\n",
       " at [135:13]; JobID: 1026793852137:scheduled_query_663e7f2d-0000-28ea-8792-747446feb7e0</td>\n",
       "    </tr>\n",
       "    <tr>\n",
       "      <th id=\"T_49543_level0_row10\" class=\"row_heading level0 row10\" >10</th>\n",
       "      <td id=\"T_49543_row10_col0\" class=\"data row10 col0\" >2024-03-26 16:22:32.090136+00:00</td>\n",
       "      <td id=\"T_49543_row10_col1\" class=\"data row10 col1\" >Query error: \n",
       "\n",
       "Monitoring Report for 2024-03-26:\n",
       "\tNo drift detected.\n",
       "\tNo skew detected.\n",
       "\n",
       " at [149:9]; JobID: 1026793852137:scheduled_query_6654af58-0000-24ce-bf5d-582429ade280</td>\n",
       "    </tr>\n",
       "    <tr>\n",
       "      <th id=\"T_49543_level0_row11\" class=\"row_heading level0 row11\" >11</th>\n",
       "      <td id=\"T_49543_row11_col0\" class=\"data row11 col0\" >2024-03-27 16:24:02.531609+00:00</td>\n",
       "      <td id=\"T_49543_row11_col1\" class=\"data row11 col1\" >Query error: \n",
       "\n",
       "Monitoring Report for 2024-03-27:\n",
       "\tNo drift detected.\n",
       "\tNo skew detected.\n",
       "\n",
       " at [149:9]; JobID: 1026793852137:scheduled_query_661e39ff-0000-2112-b597-001a1144727e</td>\n",
       "    </tr>\n",
       "    <tr>\n",
       "      <th id=\"T_49543_level0_row12\" class=\"row_heading level0 row12\" >12</th>\n",
       "      <td id=\"T_49543_row12_col0\" class=\"data row12 col0\" >2024-03-28 16:25:32.961056+00:00</td>\n",
       "      <td id=\"T_49543_row12_col1\" class=\"data row12 col1\" >Query error: \n",
       "\n",
       "Monitoring Report for 2024-03-28:\n",
       "\tNo drift detected.\n",
       "\tFound data skew (flipper_length_mm)\n",
       "The Model was retrained:\n",
       "\taccuracy of prior model: 1\n",
       "\trecent accuracy of prior model: 0.98413461538461533\n",
       "\taccuracy after retraining: 0.97058823529411775\n",
       "\n",
       " at [135:13]; JobID: 1026793852137:scheduled_query_665aefd3-0000-29fa-82bb-582429cf3524</td>\n",
       "    </tr>\n",
       "    <tr>\n",
       "      <th id=\"T_49543_level0_row13\" class=\"row_heading level0 row13\" >13</th>\n",
       "      <td id=\"T_49543_row13_col0\" class=\"data row13 col0\" >2024-03-29 16:29:33.742362+00:00</td>\n",
       "      <td id=\"T_49543_row13_col1\" class=\"data row13 col1\" >Query error: \n",
       "\n",
       "Monitoring Report for 2024-03-29:\n",
       "\tNo drift detected.\n",
       "\tNo skew detected.\n",
       "\n",
       " at [149:9]; JobID: 1026793852137:scheduled_query_662168e2-0000-2188-a2af-582429b2f978</td>\n",
       "    </tr>\n",
       "    <tr>\n",
       "      <th id=\"T_49543_level0_row14\" class=\"row_heading level0 row14\" >14</th>\n",
       "      <td id=\"T_49543_row14_col0\" class=\"data row14 col0\" >2024-03-30 16:31:04.099075+00:00</td>\n",
       "      <td id=\"T_49543_row14_col1\" class=\"data row14 col1\" >Query error: \n",
       "\n",
       "Monitoring Report for 2024-03-30:\n",
       "\tNo drift detected.\n",
       "\tNo skew detected.\n",
       "\n",
       " at [149:9]; JobID: 1026793852137:scheduled_query_662f4bbb-0000-29b7-8abb-3c286d3b2eee</td>\n",
       "    </tr>\n",
       "    <tr>\n",
       "      <th id=\"T_49543_level0_row15\" class=\"row_heading level0 row15\" >15</th>\n",
       "      <td id=\"T_49543_row15_col0\" class=\"data row15 col0\" >2024-03-31 16:32:34.529946+00:00</td>\n",
       "      <td id=\"T_49543_row15_col1\" class=\"data row15 col1\" >Query error: \n",
       "\n",
       "Monitoring Report for 2024-03-31:\n",
       "\tNo drift detected.\n",
       "\tNo skew detected.\n",
       "\n",
       " at [149:9]; JobID: 1026793852137:scheduled_query_66599b0c-0000-2e95-84e6-582429afa3fc</td>\n",
       "    </tr>\n",
       "    <tr>\n",
       "      <th id=\"T_49543_level0_row16\" class=\"row_heading level0 row16\" >16</th>\n",
       "      <td id=\"T_49543_row16_col0\" class=\"data row16 col0\" >2024-04-01 16:34:04.847699+00:00</td>\n",
       "      <td id=\"T_49543_row16_col1\" class=\"data row16 col1\" >Query error: \n",
       "\n",
       "Monitoring Report for 2024-04-01:\n",
       "\tNo drift detected.\n",
       "\tFound data skew (flipper_length_mm)\n",
       "The Model was retrained:\n",
       "\taccuracy of prior model: 1\n",
       "\trecent accuracy of prior model: 0.9875\n",
       "\taccuracy after retraining: 1\n",
       "\n",
       " at [135:13]; JobID: 1026793852137:scheduled_query_664d60e1-0000-2574-a26b-582429bb48a8</td>\n",
       "    </tr>\n",
       "    <tr>\n",
       "      <th id=\"T_49543_level0_row17\" class=\"row_heading level0 row17\" >17</th>\n",
       "      <td id=\"T_49543_row17_col0\" class=\"data row17 col0\" >2024-04-02 16:39:05.756440+00:00</td>\n",
       "      <td id=\"T_49543_row17_col1\" class=\"data row17 col1\" >Query error: \n",
       "\n",
       "Monitoring Report for 2024-04-02:\n",
       "\tNo drift detected.\n",
       "\tNo skew detected.\n",
       "\n",
       " at [149:9]; JobID: 1026793852137:scheduled_query_66479121-0000-2393-b07e-001a114f0518</td>\n",
       "    </tr>\n",
       "    <tr>\n",
       "      <th id=\"T_49543_level0_row18\" class=\"row_heading level0 row18\" >18</th>\n",
       "      <td id=\"T_49543_row18_col0\" class=\"data row18 col0\" >2024-04-03 16:40:36.137847+00:00</td>\n",
       "      <td id=\"T_49543_row18_col1\" class=\"data row18 col1\" >Query error: \n",
       "\n",
       "Monitoring Report for 2024-04-03:\n",
       "\tNo drift detected.\n",
       "\tNo skew detected.\n",
       "\n",
       " at [149:9]; JobID: 1026793852137:scheduled_query_664bd58f-0000-2b35-87d6-14223bcb3926</td>\n",
       "    </tr>\n",
       "    <tr>\n",
       "      <th id=\"T_49543_level0_row19\" class=\"row_heading level0 row19\" >19</th>\n",
       "      <td id=\"T_49543_row19_col0\" class=\"data row19 col0\" >2024-04-04 16:42:06.495458+00:00</td>\n",
       "      <td id=\"T_49543_row19_col1\" class=\"data row19 col1\" >Query error: \n",
       "\n",
       "Monitoring Report for 2024-04-04:\n",
       "\tNo drift detected.\n",
       "\tNo skew detected.\n",
       "\n",
       " at [149:9]; JobID: 1026793852137:scheduled_query_662004fb-0000-2747-acd8-d4f547f71ccc</td>\n",
       "    </tr>\n",
       "    <tr>\n",
       "      <th id=\"T_49543_level0_row20\" class=\"row_heading level0 row20\" >20</th>\n",
       "      <td id=\"T_49543_row20_col0\" class=\"data row20 col0\" >2024-04-05 16:43:36.882806+00:00</td>\n",
       "      <td id=\"T_49543_row20_col1\" class=\"data row20 col1\" >Query error: \n",
       "\n",
       "Monitoring Report for 2024-04-05:\n",
       "\tNo drift detected.\n",
       "\tNo skew detected.\n",
       "\n",
       " at [149:9]; JobID: 1026793852137:scheduled_query_662c971f-0000-2680-95ab-14c14eea1580</td>\n",
       "    </tr>\n",
       "    <tr>\n",
       "      <th id=\"T_49543_level0_row21\" class=\"row_heading level0 row21\" >21</th>\n",
       "      <td id=\"T_49543_row21_col0\" class=\"data row21 col0\" >2024-04-06 16:45:07.299423+00:00</td>\n",
       "      <td id=\"T_49543_row21_col1\" class=\"data row21 col1\" >Query error: \n",
       "\n",
       "Monitoring Report for 2024-04-06:\n",
       "\tNo drift detected.\n",
       "\tFound data skew (flipper_length_mm)\n",
       "The Model was retrained:\n",
       "\taccuracy of prior model: 1\n",
       "\trecent accuracy of prior model: 1\n",
       "\taccuracy after retraining: 0.974554707379135\n",
       "\n",
       " at [135:13]; JobID: 1026793852137:scheduled_query_664bdc09-0000-2171-80bf-14c14ef1663c</td>\n",
       "    </tr>\n",
       "    <tr>\n",
       "      <th id=\"T_49543_level0_row22\" class=\"row_heading level0 row22\" >22</th>\n",
       "      <td id=\"T_49543_row22_col0\" class=\"data row22 col0\" >2024-04-07 16:49:08.085153+00:00</td>\n",
       "      <td id=\"T_49543_row22_col1\" class=\"data row22 col1\" >Query error: \n",
       "\n",
       "Monitoring Report for 2024-04-07:\n",
       "\tNo drift detected.\n",
       "\tNo skew detected.\n",
       "\n",
       " at [149:9]; JobID: 1026793852137:scheduled_query_66448beb-0000-2a18-a5ac-14c14eea0078</td>\n",
       "    </tr>\n",
       "    <tr>\n",
       "      <th id=\"T_49543_level0_row23\" class=\"row_heading level0 row23\" >23</th>\n",
       "      <td id=\"T_49543_row23_col0\" class=\"data row23 col0\" >2024-04-08 16:50:38.518264+00:00</td>\n",
       "      <td id=\"T_49543_row23_col1\" class=\"data row23 col1\" >Query error: \n",
       "\n",
       "Monitoring Report for 2024-04-08:\n",
       "\tNo drift detected.\n",
       "\tNo skew detected.\n",
       "\n",
       " at [149:9]; JobID: 1026793852137:scheduled_query_66354906-0000-26be-aee9-3c286d44b4b6</td>\n",
       "    </tr>\n",
       "    <tr>\n",
       "      <th id=\"T_49543_level0_row24\" class=\"row_heading level0 row24\" >24</th>\n",
       "      <td id=\"T_49543_row24_col0\" class=\"data row24 col0\" >2024-04-09 16:52:08.888321+00:00</td>\n",
       "      <td id=\"T_49543_row24_col1\" class=\"data row24 col1\" >Query error: \n",
       "\n",
       "Monitoring Report for 2024-04-09:\n",
       "\tNo drift detected.\n",
       "\tNo skew detected.\n",
       "\n",
       " at [149:9]; JobID: 1026793852137:scheduled_query_66201198-0000-2747-acd8-d4f547f71ccc</td>\n",
       "    </tr>\n",
       "    <tr>\n",
       "      <th id=\"T_49543_level0_row25\" class=\"row_heading level0 row25\" >25</th>\n",
       "      <td id=\"T_49543_row25_col0\" class=\"data row25 col0\" >2024-04-10 16:53:39.301083+00:00</td>\n",
       "      <td id=\"T_49543_row25_col1\" class=\"data row25 col1\" >Query error: \n",
       "\n",
       "Monitoring Report for 2024-04-10:\n",
       "\tNo drift detected.\n",
       "\tNo skew detected.\n",
       "\n",
       " at [149:9]; JobID: 1026793852137:scheduled_query_6634f39f-0000-24e4-9e42-14c14ef31de0</td>\n",
       "    </tr>\n",
       "    <tr>\n",
       "      <th id=\"T_49543_level0_row26\" class=\"row_heading level0 row26\" >26</th>\n",
       "      <td id=\"T_49543_row26_col0\" class=\"data row26 col0\" >2024-04-11 16:55:09.651312+00:00</td>\n",
       "      <td id=\"T_49543_row26_col1\" class=\"data row26 col1\" >Query error: \n",
       "\n",
       "Monitoring Report for 2024-04-11:\n",
       "\tNo drift detected.\n",
       "\tNo skew detected.\n",
       "\n",
       " at [149:9]; JobID: 1026793852137:scheduled_query_663e0c8b-0000-25b7-adda-94eb2c1ea658</td>\n",
       "    </tr>\n",
       "    <tr>\n",
       "      <th id=\"T_49543_level0_row27\" class=\"row_heading level0 row27\" >27</th>\n",
       "      <td id=\"T_49543_row27_col0\" class=\"data row27 col0\" >2024-04-12 16:56:40.046810+00:00</td>\n",
       "      <td id=\"T_49543_row27_col1\" class=\"data row27 col1\" >Query error: \n",
       "\n",
       "Monitoring Report for 2024-04-12:\n",
       "\tNo drift detected.\n",
       "\tNo skew detected.\n",
       "\n",
       " at [149:9]; JobID: 1026793852137:scheduled_query_661e7b36-0000-2112-b597-001a1144727e</td>\n",
       "    </tr>\n",
       "    <tr>\n",
       "      <th id=\"T_49543_level0_row28\" class=\"row_heading level0 row28\" >28</th>\n",
       "      <td id=\"T_49543_row28_col0\" class=\"data row28 col0\" >2024-04-13 16:58:10.423248+00:00</td>\n",
       "      <td id=\"T_49543_row28_col1\" class=\"data row28 col1\" >Query error: \n",
       "\n",
       "Monitoring Report for 2024-04-13:\n",
       "\tNo drift detected.\n",
       "\tNo skew detected.\n",
       "\n",
       " at [149:9]; JobID: 1026793852137:scheduled_query_6628b4b5-0000-21c5-86b1-d4f547f8af1c</td>\n",
       "    </tr>\n",
       "    <tr>\n",
       "      <th id=\"T_49543_level0_row29\" class=\"row_heading level0 row29\" >29</th>\n",
       "      <td id=\"T_49543_row29_col0\" class=\"data row29 col0\" >2024-04-14 16:59:40.801096+00:00</td>\n",
       "      <td id=\"T_49543_row29_col1\" class=\"data row29 col1\" >Query error: \n",
       "\n",
       "Monitoring Report for 2024-04-14:\n",
       "\tNo drift detected.\n",
       "\tNo skew detected.\n",
       "\n",
       " at [149:9]; JobID: 1026793852137:scheduled_query_661dc057-0000-20d4-ba7f-3c286d3b18d2</td>\n",
       "    </tr>\n",
       "    <tr>\n",
       "      <th id=\"T_49543_level0_row30\" class=\"row_heading level0 row30\" >30</th>\n",
       "      <td id=\"T_49543_row30_col0\" class=\"data row30 col0\" >2024-04-15 17:01:11.145607+00:00</td>\n",
       "      <td id=\"T_49543_row30_col1\" class=\"data row30 col1\" >Query error: \n",
       "\n",
       "Monitoring Report for 2024-04-15:\n",
       "\tNo drift detected.\n",
       "\tNo skew detected.\n",
       "\n",
       " at [149:9]; JobID: 1026793852137:scheduled_query_665002fe-0000-243c-8968-582429af3d58</td>\n",
       "    </tr>\n",
       "  </tbody>\n",
       "</table>\n"
      ],
      "text/plain": [
       "<pandas.io.formats.style.Styler at 0x7fd661296590>"
      ]
     },
     "execution_count": 144,
     "metadata": {},
     "output_type": "execute_result"
    }
   ],
   "source": [
    "pd.DataFrame(\n",
    "    {\n",
    "        'Date':[r.run_time for r in backfill_results],\n",
    "        'Result':[r.error_status.message for r in backfill_results]\n",
    "    }\n",
    ").style.set_properties(**{'text-align': 'left', 'white-space': 'pre-wrap'})"
   ]
  },
  {
   "cell_type": "markdown",
   "metadata": {},
   "source": [
    "---\n",
    "## More Resources\n",
    "\n",
    "Did you also check out the ['BigQuery ML (BQML) - Model Monitoring Introduction'](./bqml-model-monitoring-introduction.ipynb) for quick overview of model monitoring with BigQuery?  If not, try it out also. \n",
    "\n",
    "Read more about model monitoring in the documentation for the model monitoring functions:\n",
    "* [BigQuery ML Documentation](https://cloud.google.com/bigquery-ml/docs/)\n",
    "* [BigQuery ML Model Monitoring](https://cloud.google.com/bigquery/docs/model-monitoring-overview)\n",
    "    - [`ML.DESCRIBE_DATA`](https://cloud.google.com/bigquery/docs/reference/standard-sql/bigqueryml-syntax-describe-data)\n",
    "    - [`ML.VALIDATE_DATA_SKEW`](https://cloud.google.com/bigquery/docs/reference/standard-sql/bigqueryml-syntax-validate-data-skew)\n",
    "    - [`ML.VALIDATE_DATA_DRIFT`](https://cloud.google.com/bigquery/docs/reference/standard-sql/bigqueryml-syntax-validate-data-drift)\n",
    "    - [`ML.TFDV_DESCRIBE`](https://cloud.google.com/bigquery/docs/reference/standard-sql/bigqueryml-syntax-tfdv-describe)\n",
    "    - [`ML.TFDV_VALIDATE`](https://cloud.google.com/bigquery/docs/reference/standard-sql/bigqueryml-syntax-tfdv-validate)"
   ]
  },
  {
   "cell_type": "markdown",
   "metadata": {},
   "source": [
    "---\n",
    "## Remove Resources Created In This Notebook\n",
    "\n",
    "The content is contained within the BigQuery dataset named `bqml_model_monitoring` created above and Vertex AI (endpoint created above).\n",
    "\n",
    "The following will delete the Vertex AI and BigQuery resources created above and the BigQuery dataset if it is empty."
   ]
  },
  {
   "cell_type": "code",
   "execution_count": 145,
   "metadata": {
    "tags": []
   },
   "outputs": [],
   "source": [
    "# to remove resources change this flag to True:\n",
    "remove = False"
   ]
  },
  {
   "cell_type": "code",
   "execution_count": 148,
   "metadata": {},
   "outputs": [],
   "source": [
    "if remove:\n",
    "    # client for BigQuery\n",
    "    from google.cloud import bigquery\n",
    "    bq = bigquery.Client(project = 'statmike-mlops-349915')\n",
    "    \n",
    "    # delete BigQuery table(s) and model(s) created above\n",
    "    bq.delete_table('statmike-mlops-349915.bqml_model_monitoring.training_split')\n",
    "    bq.delete_table('statmike-mlops-349915.bqml_model_monitoring.serving')\n",
    "    bq.delete_table('statmike-mlops-349915.bqml_model_monitoring.serving_online')\n",
    "    bq.delete_table('statmike-mlops-349915.bqml_model_monitoring.serving_all')\n",
    "    bq.delete_model('statmike-mlops-349915.bqml_model_monitoring.classify_species_rf')\n",
    "    \n",
    "    # delete BigQuery dataset - fails if other content was in the dataset than what this notebook created\n",
    "    bq.delete_dataset('statmike-mlops-349915.bqml_model_monitoring', delete_contents = False)\n",
    "    \n",
    "    # delete the scheduled query\n",
    "    transfer_client.delete_transfer_config(\n",
    "        name = scheduled_query.name\n",
    "    )"
   ]
  }
 ],
 "metadata": {
  "colab": {
   "authorship_tag": "ABX9TyMy6GbowZC6hovxyAVQ0UWd",
   "provenance": []
  },
  "environment": {
   "kernel": "conda-root-py",
   "name": "workbench-notebooks.m119",
   "type": "gcloud",
   "uri": "us-docker.pkg.dev/deeplearning-platform-release/gcr.io/workbench-notebooks:m119"
  },
  "kernelspec": {
   "display_name": "Python 3 (ipykernel)",
   "language": "python",
   "name": "conda-root-py"
  },
  "language_info": {
   "codemirror_mode": {
    "name": "ipython",
    "version": 3
   },
   "file_extension": ".py",
   "mimetype": "text/x-python",
   "name": "python",
   "nbconvert_exporter": "python",
   "pygments_lexer": "ipython3",
   "version": "3.10.14"
  },
  "widgets": {
   "application/vnd.jupyter.widget-state+json": {
    "1109199e5b67477788dcf20b48558d41": {
     "model_module": "@jupyter-widgets/controls",
     "model_module_version": "1.5.0",
     "model_name": "HBoxModel",
     "state": {
      "_dom_classes": [],
      "_model_module": "@jupyter-widgets/controls",
      "_model_module_version": "1.5.0",
      "_model_name": "HBoxModel",
      "_view_count": null,
      "_view_module": "@jupyter-widgets/controls",
      "_view_module_version": "1.5.0",
      "_view_name": "HBoxView",
      "box_style": "",
      "children": [
       "IPY_MODEL_93f32edfd72e4a29ac69d2e202d6e14c",
       "IPY_MODEL_3da40e23ffbd47db8d1a250292255c32",
       "IPY_MODEL_bbd5c7d0941a458dbaee866da7e5366f"
      ],
      "layout": "IPY_MODEL_e2e3c77141c04fa7885bf4b4c0e314f4"
     }
    },
    "16d1acd4a3e94cf9bc3d683ff7eb1125": {
     "model_module": "@jupyter-widgets/base",
     "model_module_version": "1.2.0",
     "model_name": "LayoutModel",
     "state": {
      "_model_module": "@jupyter-widgets/base",
      "_model_module_version": "1.2.0",
      "_model_name": "LayoutModel",
      "_view_count": null,
      "_view_module": "@jupyter-widgets/base",
      "_view_module_version": "1.2.0",
      "_view_name": "LayoutView",
      "align_content": null,
      "align_items": null,
      "align_self": null,
      "border": null,
      "bottom": null,
      "display": null,
      "flex": null,
      "flex_flow": null,
      "grid_area": null,
      "grid_auto_columns": null,
      "grid_auto_flow": null,
      "grid_auto_rows": null,
      "grid_column": null,
      "grid_gap": null,
      "grid_row": null,
      "grid_template_areas": null,
      "grid_template_columns": null,
      "grid_template_rows": null,
      "height": null,
      "justify_content": null,
      "justify_items": null,
      "left": null,
      "margin": null,
      "max_height": null,
      "max_width": null,
      "min_height": null,
      "min_width": null,
      "object_fit": null,
      "object_position": null,
      "order": null,
      "overflow": null,
      "overflow_x": null,
      "overflow_y": null,
      "padding": null,
      "right": null,
      "top": null,
      "visibility": null,
      "width": null
     }
    },
    "1b76a7321f1e482e92b6725f5d120700": {
     "model_module": "@jupyter-widgets/base",
     "model_module_version": "1.2.0",
     "model_name": "LayoutModel",
     "state": {
      "_model_module": "@jupyter-widgets/base",
      "_model_module_version": "1.2.0",
      "_model_name": "LayoutModel",
      "_view_count": null,
      "_view_module": "@jupyter-widgets/base",
      "_view_module_version": "1.2.0",
      "_view_name": "LayoutView",
      "align_content": null,
      "align_items": null,
      "align_self": null,
      "border": null,
      "bottom": null,
      "display": null,
      "flex": null,
      "flex_flow": null,
      "grid_area": null,
      "grid_auto_columns": null,
      "grid_auto_flow": null,
      "grid_auto_rows": null,
      "grid_column": null,
      "grid_gap": null,
      "grid_row": null,
      "grid_template_areas": null,
      "grid_template_columns": null,
      "grid_template_rows": null,
      "height": null,
      "justify_content": null,
      "justify_items": null,
      "left": null,
      "margin": null,
      "max_height": null,
      "max_width": null,
      "min_height": null,
      "min_width": null,
      "object_fit": null,
      "object_position": null,
      "order": null,
      "overflow": null,
      "overflow_x": null,
      "overflow_y": null,
      "padding": null,
      "right": null,
      "top": null,
      "visibility": null,
      "width": null
     }
    },
    "2d65e5a9073f4b65b95c2c629255cac1": {
     "model_module": "@jupyter-widgets/controls",
     "model_module_version": "1.5.0",
     "model_name": "DescriptionStyleModel",
     "state": {
      "_model_module": "@jupyter-widgets/controls",
      "_model_module_version": "1.5.0",
      "_model_name": "DescriptionStyleModel",
      "_view_count": null,
      "_view_module": "@jupyter-widgets/base",
      "_view_module_version": "1.2.0",
      "_view_name": "StyleView",
      "description_width": ""
     }
    },
    "39a8f6a0c95342299729b62b7a818084": {
     "model_module": "@jupyter-widgets/base",
     "model_module_version": "1.2.0",
     "model_name": "LayoutModel",
     "state": {
      "_model_module": "@jupyter-widgets/base",
      "_model_module_version": "1.2.0",
      "_model_name": "LayoutModel",
      "_view_count": null,
      "_view_module": "@jupyter-widgets/base",
      "_view_module_version": "1.2.0",
      "_view_name": "LayoutView",
      "align_content": null,
      "align_items": null,
      "align_self": null,
      "border": null,
      "bottom": null,
      "display": null,
      "flex": null,
      "flex_flow": null,
      "grid_area": null,
      "grid_auto_columns": null,
      "grid_auto_flow": null,
      "grid_auto_rows": null,
      "grid_column": null,
      "grid_gap": null,
      "grid_row": null,
      "grid_template_areas": null,
      "grid_template_columns": null,
      "grid_template_rows": null,
      "height": null,
      "justify_content": null,
      "justify_items": null,
      "left": null,
      "margin": null,
      "max_height": null,
      "max_width": null,
      "min_height": null,
      "min_width": null,
      "object_fit": null,
      "object_position": null,
      "order": null,
      "overflow": null,
      "overflow_x": null,
      "overflow_y": null,
      "padding": null,
      "right": null,
      "top": null,
      "visibility": null,
      "width": null
     }
    },
    "3acd5dce7d1b4a84b1b5540ec8d37ed3": {
     "model_module": "@jupyter-widgets/controls",
     "model_module_version": "1.5.0",
     "model_name": "ProgressStyleModel",
     "state": {
      "_model_module": "@jupyter-widgets/controls",
      "_model_module_version": "1.5.0",
      "_model_name": "ProgressStyleModel",
      "_view_count": null,
      "_view_module": "@jupyter-widgets/base",
      "_view_module_version": "1.2.0",
      "_view_name": "StyleView",
      "bar_color": null,
      "description_width": ""
     }
    },
    "3da40e23ffbd47db8d1a250292255c32": {
     "model_module": "@jupyter-widgets/controls",
     "model_module_version": "1.5.0",
     "model_name": "FloatProgressModel",
     "state": {
      "_dom_classes": [],
      "_model_module": "@jupyter-widgets/controls",
      "_model_module_version": "1.5.0",
      "_model_name": "FloatProgressModel",
      "_view_count": null,
      "_view_module": "@jupyter-widgets/controls",
      "_view_module_version": "1.5.0",
      "_view_name": "ProgressView",
      "bar_style": "success",
      "description": "",
      "description_tooltip": null,
      "layout": "IPY_MODEL_1b76a7321f1e482e92b6725f5d120700",
      "max": 5,
      "min": 0,
      "orientation": "horizontal",
      "style": "IPY_MODEL_6827ef49075d48a1bb2582fb7fd52389",
      "value": 5
     }
    },
    "441b987af9044d1f9326f906d0f1d218": {
     "model_module": "@jupyter-widgets/controls",
     "model_module_version": "1.5.0",
     "model_name": "DescriptionStyleModel",
     "state": {
      "_model_module": "@jupyter-widgets/controls",
      "_model_module_version": "1.5.0",
      "_model_name": "DescriptionStyleModel",
      "_view_count": null,
      "_view_module": "@jupyter-widgets/base",
      "_view_module_version": "1.2.0",
      "_view_name": "StyleView",
      "description_width": ""
     }
    },
    "48543e1564664f73b553a0ae5bfb0843": {
     "model_module": "@jupyter-widgets/base",
     "model_module_version": "1.2.0",
     "model_name": "LayoutModel",
     "state": {
      "_model_module": "@jupyter-widgets/base",
      "_model_module_version": "1.2.0",
      "_model_name": "LayoutModel",
      "_view_count": null,
      "_view_module": "@jupyter-widgets/base",
      "_view_module_version": "1.2.0",
      "_view_name": "LayoutView",
      "align_content": null,
      "align_items": null,
      "align_self": null,
      "border": null,
      "bottom": null,
      "display": null,
      "flex": null,
      "flex_flow": null,
      "grid_area": null,
      "grid_auto_columns": null,
      "grid_auto_flow": null,
      "grid_auto_rows": null,
      "grid_column": null,
      "grid_gap": null,
      "grid_row": null,
      "grid_template_areas": null,
      "grid_template_columns": null,
      "grid_template_rows": null,
      "height": null,
      "justify_content": null,
      "justify_items": null,
      "left": null,
      "margin": null,
      "max_height": null,
      "max_width": null,
      "min_height": null,
      "min_width": null,
      "object_fit": null,
      "object_position": null,
      "order": null,
      "overflow": null,
      "overflow_x": null,
      "overflow_y": null,
      "padding": null,
      "right": null,
      "top": null,
      "visibility": null,
      "width": null
     }
    },
    "4e5a11ea456d49a8bd7563e9b2c35511": {
     "model_module": "@jupyter-widgets/controls",
     "model_module_version": "1.5.0",
     "model_name": "DescriptionStyleModel",
     "state": {
      "_model_module": "@jupyter-widgets/controls",
      "_model_module_version": "1.5.0",
      "_model_name": "DescriptionStyleModel",
      "_view_count": null,
      "_view_module": "@jupyter-widgets/base",
      "_view_module_version": "1.2.0",
      "_view_name": "StyleView",
      "description_width": ""
     }
    },
    "543a939bbf684e49ad83771418dfdd09": {
     "model_module": "@jupyter-widgets/base",
     "model_module_version": "1.2.0",
     "model_name": "LayoutModel",
     "state": {
      "_model_module": "@jupyter-widgets/base",
      "_model_module_version": "1.2.0",
      "_model_name": "LayoutModel",
      "_view_count": null,
      "_view_module": "@jupyter-widgets/base",
      "_view_module_version": "1.2.0",
      "_view_name": "LayoutView",
      "align_content": null,
      "align_items": null,
      "align_self": null,
      "border": null,
      "bottom": null,
      "display": null,
      "flex": null,
      "flex_flow": null,
      "grid_area": null,
      "grid_auto_columns": null,
      "grid_auto_flow": null,
      "grid_auto_rows": null,
      "grid_column": null,
      "grid_gap": null,
      "grid_row": null,
      "grid_template_areas": null,
      "grid_template_columns": null,
      "grid_template_rows": null,
      "height": null,
      "justify_content": null,
      "justify_items": null,
      "left": null,
      "margin": null,
      "max_height": null,
      "max_width": null,
      "min_height": null,
      "min_width": null,
      "object_fit": null,
      "object_position": null,
      "order": null,
      "overflow": null,
      "overflow_x": null,
      "overflow_y": null,
      "padding": null,
      "right": null,
      "top": null,
      "visibility": null,
      "width": null
     }
    },
    "549c9135cfbe467ebc3a60d6ad5750e6": {
     "model_module": "@jupyter-widgets/controls",
     "model_module_version": "1.5.0",
     "model_name": "HTMLModel",
     "state": {
      "_dom_classes": [],
      "_model_module": "@jupyter-widgets/controls",
      "_model_module_version": "1.5.0",
      "_model_name": "HTMLModel",
      "_view_count": null,
      "_view_module": "@jupyter-widgets/controls",
      "_view_module_version": "1.5.0",
      "_view_name": "HTMLView",
      "description": "",
      "description_tooltip": null,
      "layout": "IPY_MODEL_e0194e91019f4661a01322bbda67ac18",
      "placeholder": "​",
      "style": "IPY_MODEL_6b0ff87e15fd4ff684355a521e0f7a1f",
      "value": ""
     }
    },
    "5805c14443ec4d3ebf24ea8dda735a99": {
     "model_module": "@jupyter-widgets/base",
     "model_module_version": "1.2.0",
     "model_name": "LayoutModel",
     "state": {
      "_model_module": "@jupyter-widgets/base",
      "_model_module_version": "1.2.0",
      "_model_name": "LayoutModel",
      "_view_count": null,
      "_view_module": "@jupyter-widgets/base",
      "_view_module_version": "1.2.0",
      "_view_name": "LayoutView",
      "align_content": null,
      "align_items": null,
      "align_self": null,
      "border": null,
      "bottom": null,
      "display": null,
      "flex": null,
      "flex_flow": null,
      "grid_area": null,
      "grid_auto_columns": null,
      "grid_auto_flow": null,
      "grid_auto_rows": null,
      "grid_column": null,
      "grid_gap": null,
      "grid_row": null,
      "grid_template_areas": null,
      "grid_template_columns": null,
      "grid_template_rows": null,
      "height": null,
      "justify_content": null,
      "justify_items": null,
      "left": null,
      "margin": null,
      "max_height": null,
      "max_width": null,
      "min_height": null,
      "min_width": null,
      "object_fit": null,
      "object_position": null,
      "order": null,
      "overflow": null,
      "overflow_x": null,
      "overflow_y": null,
      "padding": null,
      "right": null,
      "top": null,
      "visibility": null,
      "width": null
     }
    },
    "6827ef49075d48a1bb2582fb7fd52389": {
     "model_module": "@jupyter-widgets/controls",
     "model_module_version": "1.5.0",
     "model_name": "ProgressStyleModel",
     "state": {
      "_model_module": "@jupyter-widgets/controls",
      "_model_module_version": "1.5.0",
      "_model_name": "ProgressStyleModel",
      "_view_count": null,
      "_view_module": "@jupyter-widgets/base",
      "_view_module_version": "1.2.0",
      "_view_name": "StyleView",
      "bar_color": null,
      "description_width": ""
     }
    },
    "6b0ff87e15fd4ff684355a521e0f7a1f": {
     "model_module": "@jupyter-widgets/controls",
     "model_module_version": "1.5.0",
     "model_name": "DescriptionStyleModel",
     "state": {
      "_model_module": "@jupyter-widgets/controls",
      "_model_module_version": "1.5.0",
      "_model_name": "DescriptionStyleModel",
      "_view_count": null,
      "_view_module": "@jupyter-widgets/base",
      "_view_module_version": "1.2.0",
      "_view_name": "StyleView",
      "description_width": ""
     }
    },
    "8930cc60223a4b56a70a17b1c5d03a93": {
     "model_module": "@jupyter-widgets/controls",
     "model_module_version": "1.5.0",
     "model_name": "FloatProgressModel",
     "state": {
      "_dom_classes": [],
      "_model_module": "@jupyter-widgets/controls",
      "_model_module_version": "1.5.0",
      "_model_name": "FloatProgressModel",
      "_view_count": null,
      "_view_module": "@jupyter-widgets/controls",
      "_view_module_version": "1.5.0",
      "_view_name": "ProgressView",
      "bar_style": "success",
      "description": "",
      "description_tooltip": null,
      "layout": "IPY_MODEL_48543e1564664f73b553a0ae5bfb0843",
      "max": 1,
      "min": 0,
      "orientation": "horizontal",
      "style": "IPY_MODEL_3acd5dce7d1b4a84b1b5540ec8d37ed3",
      "value": 1
     }
    },
    "93f32edfd72e4a29ac69d2e202d6e14c": {
     "model_module": "@jupyter-widgets/controls",
     "model_module_version": "1.5.0",
     "model_name": "HTMLModel",
     "state": {
      "_dom_classes": [],
      "_model_module": "@jupyter-widgets/controls",
      "_model_module_version": "1.5.0",
      "_model_name": "HTMLModel",
      "_view_count": null,
      "_view_module": "@jupyter-widgets/controls",
      "_view_module_version": "1.5.0",
      "_view_name": "HTMLView",
      "description": "",
      "description_tooltip": null,
      "layout": "IPY_MODEL_543a939bbf684e49ad83771418dfdd09",
      "placeholder": "​",
      "style": "IPY_MODEL_4e5a11ea456d49a8bd7563e9b2c35511",
      "value": "Downloading: 100%"
     }
    },
    "bbd5c7d0941a458dbaee866da7e5366f": {
     "model_module": "@jupyter-widgets/controls",
     "model_module_version": "1.5.0",
     "model_name": "HTMLModel",
     "state": {
      "_dom_classes": [],
      "_model_module": "@jupyter-widgets/controls",
      "_model_module_version": "1.5.0",
      "_model_name": "HTMLModel",
      "_view_count": null,
      "_view_module": "@jupyter-widgets/controls",
      "_view_module_version": "1.5.0",
      "_view_name": "HTMLView",
      "description": "",
      "description_tooltip": null,
      "layout": "IPY_MODEL_5805c14443ec4d3ebf24ea8dda735a99",
      "placeholder": "​",
      "style": "IPY_MODEL_441b987af9044d1f9326f906d0f1d218",
      "value": ""
     }
    },
    "c656f444dbc4405a915eaecde42707d5": {
     "model_module": "@jupyter-widgets/controls",
     "model_module_version": "1.5.0",
     "model_name": "HTMLModel",
     "state": {
      "_dom_classes": [],
      "_model_module": "@jupyter-widgets/controls",
      "_model_module_version": "1.5.0",
      "_model_name": "HTMLModel",
      "_view_count": null,
      "_view_module": "@jupyter-widgets/controls",
      "_view_module_version": "1.5.0",
      "_view_name": "HTMLView",
      "description": "",
      "description_tooltip": null,
      "layout": "IPY_MODEL_16d1acd4a3e94cf9bc3d683ff7eb1125",
      "placeholder": "​",
      "style": "IPY_MODEL_2d65e5a9073f4b65b95c2c629255cac1",
      "value": "Job ID a2f9486b-cfda-4aad-959b-b5485f8f5dd8 successfully executed: 100%"
     }
    },
    "ddb7ba0f48b24355b23492fcb1db5939": {
     "model_module": "@jupyter-widgets/controls",
     "model_module_version": "1.5.0",
     "model_name": "HBoxModel",
     "state": {
      "_dom_classes": [],
      "_model_module": "@jupyter-widgets/controls",
      "_model_module_version": "1.5.0",
      "_model_name": "HBoxModel",
      "_view_count": null,
      "_view_module": "@jupyter-widgets/controls",
      "_view_module_version": "1.5.0",
      "_view_name": "HBoxView",
      "box_style": "",
      "children": [
       "IPY_MODEL_c656f444dbc4405a915eaecde42707d5",
       "IPY_MODEL_8930cc60223a4b56a70a17b1c5d03a93",
       "IPY_MODEL_549c9135cfbe467ebc3a60d6ad5750e6"
      ],
      "layout": "IPY_MODEL_39a8f6a0c95342299729b62b7a818084"
     }
    },
    "e0194e91019f4661a01322bbda67ac18": {
     "model_module": "@jupyter-widgets/base",
     "model_module_version": "1.2.0",
     "model_name": "LayoutModel",
     "state": {
      "_model_module": "@jupyter-widgets/base",
      "_model_module_version": "1.2.0",
      "_model_name": "LayoutModel",
      "_view_count": null,
      "_view_module": "@jupyter-widgets/base",
      "_view_module_version": "1.2.0",
      "_view_name": "LayoutView",
      "align_content": null,
      "align_items": null,
      "align_self": null,
      "border": null,
      "bottom": null,
      "display": null,
      "flex": null,
      "flex_flow": null,
      "grid_area": null,
      "grid_auto_columns": null,
      "grid_auto_flow": null,
      "grid_auto_rows": null,
      "grid_column": null,
      "grid_gap": null,
      "grid_row": null,
      "grid_template_areas": null,
      "grid_template_columns": null,
      "grid_template_rows": null,
      "height": null,
      "justify_content": null,
      "justify_items": null,
      "left": null,
      "margin": null,
      "max_height": null,
      "max_width": null,
      "min_height": null,
      "min_width": null,
      "object_fit": null,
      "object_position": null,
      "order": null,
      "overflow": null,
      "overflow_x": null,
      "overflow_y": null,
      "padding": null,
      "right": null,
      "top": null,
      "visibility": null,
      "width": null
     }
    },
    "e2e3c77141c04fa7885bf4b4c0e314f4": {
     "model_module": "@jupyter-widgets/base",
     "model_module_version": "1.2.0",
     "model_name": "LayoutModel",
     "state": {
      "_model_module": "@jupyter-widgets/base",
      "_model_module_version": "1.2.0",
      "_model_name": "LayoutModel",
      "_view_count": null,
      "_view_module": "@jupyter-widgets/base",
      "_view_module_version": "1.2.0",
      "_view_name": "LayoutView",
      "align_content": null,
      "align_items": null,
      "align_self": null,
      "border": null,
      "bottom": null,
      "display": null,
      "flex": null,
      "flex_flow": null,
      "grid_area": null,
      "grid_auto_columns": null,
      "grid_auto_flow": null,
      "grid_auto_rows": null,
      "grid_column": null,
      "grid_gap": null,
      "grid_row": null,
      "grid_template_areas": null,
      "grid_template_columns": null,
      "grid_template_rows": null,
      "height": null,
      "justify_content": null,
      "justify_items": null,
      "left": null,
      "margin": null,
      "max_height": null,
      "max_width": null,
      "min_height": null,
      "min_width": null,
      "object_fit": null,
      "object_position": null,
      "order": null,
      "overflow": null,
      "overflow_x": null,
      "overflow_y": null,
      "padding": null,
      "right": null,
      "top": null,
      "visibility": null,
      "width": null
     }
    }
   }
  }
 },
 "nbformat": 4,
 "nbformat_minor": 4
}
