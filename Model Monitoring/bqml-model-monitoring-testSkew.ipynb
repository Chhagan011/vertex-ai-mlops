{
 "cells": [
  {
   "cell_type": "markdown",
   "id": "2b99a195-9297-455a-a69a-81659145f228",
   "metadata": {},
   "source": [
    "# Test Skew"
   ]
  },
  {
   "cell_type": "markdown",
   "id": "65634695-eb59-459f-bd8f-fa136db94ac5",
   "metadata": {
    "id": "J_-1oCZ7oQe_"
   },
   "source": [
    "---\n",
    "## Colab Setup\n",
    "\n",
    "When running this notebook in [Colab](https://colab.google/) or [Colab Enterprise](https://cloud.google.com/colab/docs/introduction), this section will authenticate to GCP (follow prompts in the popup) and set the current project for the session."
   ]
  },
  {
   "cell_type": "code",
   "execution_count": 21,
   "id": "2d66f361-c096-4fa3-9d2a-5d07d0882668",
   "metadata": {
    "executionInfo": {
     "elapsed": 178,
     "status": "ok",
     "timestamp": 1710716382256,
     "user": {
      "displayName": "Mike Henderson",
      "userId": "07691629187611687318"
     },
     "user_tz": 240
    },
    "id": "bUeb3Vz9c-cz",
    "tags": []
   },
   "outputs": [],
   "source": [
    "PROJECT_ID = 'statmike-mlops-349915' # replace with project ID"
   ]
  },
  {
   "cell_type": "code",
   "execution_count": 22,
   "id": "2cd7af66-5790-4a6a-bccb-c156a3e4741f",
   "metadata": {
    "colab": {
     "base_uri": "https://localhost:8080/"
    },
    "executionInfo": {
     "elapsed": 1769,
     "status": "ok",
     "timestamp": 1710716384851,
     "user": {
      "displayName": "Mike Henderson",
      "userId": "07691629187611687318"
     },
     "user_tz": 240
    },
    "id": "ztC0h14fc-fr",
    "outputId": "16d1144f-1671-4919-edba-31bc197ffc7b",
    "tags": []
   },
   "outputs": [
    {
     "name": "stdout",
     "output_type": "stream",
     "text": [
      "Not a Colab Environment\n"
     ]
    }
   ],
   "source": [
    "try:\n",
    "    from google.colab import auth\n",
    "    auth.authenticate_user(project_id = PROJECT_ID)\n",
    "    print('Colab authorized to GCP')\n",
    "except Exception:\n",
    "    print('Not a Colab Environment')\n",
    "    pass"
   ]
  },
  {
   "cell_type": "markdown",
   "id": "bfc3e94f-f4f2-407c-8426-a8fd7a2e6b2f",
   "metadata": {
    "id": "yt5uZFvRoWLp"
   },
   "source": [
    "---\n",
    "## Setup"
   ]
  },
  {
   "cell_type": "markdown",
   "id": "e5b2e8e4-bfbc-4e3a-a8a4-9d1e94301077",
   "metadata": {},
   "source": [
    "Packages:"
   ]
  },
  {
   "cell_type": "code",
   "execution_count": 23,
   "id": "781ebcf7-9758-4c62-994e-badaa2992706",
   "metadata": {
    "tags": []
   },
   "outputs": [],
   "source": [
    "import json"
   ]
  },
  {
   "cell_type": "markdown",
   "id": "e404d24e-6808-4d13-9083-933485cd2a95",
   "metadata": {},
   "source": [
    "Clients:"
   ]
  },
  {
   "cell_type": "code",
   "execution_count": 24,
   "id": "e9d37c96-7da4-4e3b-b787-93db81e87601",
   "metadata": {
    "colab": {
     "base_uri": "https://localhost:8080/"
    },
    "executionInfo": {
     "elapsed": 159,
     "status": "ok",
     "timestamp": 1710716582376,
     "user": {
      "displayName": "Mike Henderson",
      "userId": "07691629187611687318"
     },
     "user_tz": 240
    },
    "id": "14nUE43Oc-ip",
    "outputId": "55b2c2b1-b6ad-42cc-b3cc-d6e3afcaa071",
    "tags": []
   },
   "outputs": [
    {
     "name": "stdout",
     "output_type": "stream",
     "text": [
      "The google.cloud.bigquery extension is already loaded. To reload it, use:\n",
      "  %reload_ext google.cloud.bigquery\n"
     ]
    }
   ],
   "source": [
    "%load_ext google.cloud.bigquery"
   ]
  },
  {
   "cell_type": "markdown",
   "id": "f7a72f30-5969-40c6-bd16-d1fe2f31872c",
   "metadata": {},
   "source": [
    "Prepare the code below for your environment.\n",
    "\n",
    "This notebook takes advantage of the [BigQuery IPython magic](https://cloud.google.com/python/docs/reference/bigquery/latest/magics) for legibility and ease of copy/pasting to BigQuery SQL editor.  If this notebook is being used from an environment that can run notebooks it needs further preparation: Colab, Colab Enterprise, Vertex AI Workbench Instances, or BigQuery Studio with a Python Notebook.  The SQL code in these cells uses the fully qualified [BigQuery table](https://cloud.google.com/bigquery/docs/tables-intro) names in the form `projectname.datasetname.tablename`.  Prepare for your environment by:\n",
    "- Edit > Find\n",
    "    - Find: statmike-mlops-349915\n",
    "    - Replace: <your project id>\n",
    "    - Replace All"
   ]
  },
  {
   "cell_type": "markdown",
   "id": "50899624-3ad8-4c9b-b814-64fcd9c636d4",
   "metadata": {},
   "source": [
    "### Create A BigQuery Dataset\n",
    "\n",
    "Create a new [BigQuery Dataset](https://cloud.google.com/bigquery/docs/datasets) as a working location for this workflow:"
   ]
  },
  {
   "cell_type": "code",
   "execution_count": 25,
   "id": "4548237a-8fa8-4645-bb00-670949bcf339",
   "metadata": {
    "tags": []
   },
   "outputs": [
    {
     "data": {
      "application/vnd.jupyter.widget-view+json": {
       "model_id": "ab8f5d7e788944519fa1f3bfc53c7f92",
       "version_major": 2,
       "version_minor": 0
      },
      "text/plain": [
       "Query is running:   0%|          |"
      ]
     },
     "metadata": {},
     "output_type": "display_data"
    },
    {
     "data": {
      "text/html": [
       "<div>\n",
       "<style scoped>\n",
       "    .dataframe tbody tr th:only-of-type {\n",
       "        vertical-align: middle;\n",
       "    }\n",
       "\n",
       "    .dataframe tbody tr th {\n",
       "        vertical-align: top;\n",
       "    }\n",
       "\n",
       "    .dataframe thead th {\n",
       "        text-align: right;\n",
       "    }\n",
       "</style>\n",
       "<table border=\"1\" class=\"dataframe\">\n",
       "  <thead>\n",
       "    <tr style=\"text-align: right;\">\n",
       "      <th></th>\n",
       "    </tr>\n",
       "  </thead>\n",
       "  <tbody>\n",
       "  </tbody>\n",
       "</table>\n",
       "</div>"
      ],
      "text/plain": [
       "Empty DataFrame\n",
       "Columns: []\n",
       "Index: []"
      ]
     },
     "execution_count": 25,
     "metadata": {},
     "output_type": "execute_result"
    }
   ],
   "source": [
    "%%bigquery\n",
    "CREATE SCHEMA IF NOT EXISTS `statmike-mlops-349915.bqml_central_monitoring_test`\n",
    "    OPTIONS(\n",
    "        location = 'us'\n",
    "    )"
   ]
  },
  {
   "cell_type": "markdown",
   "id": "2f5ef291-d70b-4a6e-9597-3b98155adfad",
   "metadata": {},
   "source": [
    "### Prepare The Source Data\n",
    "\n",
    "Make a copy of the table source in the new BigQuery dataset with fixes applied to the data quality issue identified for the `sex` column with values of `.`.\n",
    "\n",
    "> Note: A copy is being made in this case because the source project is `bigquery-public` which is not editable."
   ]
  },
  {
   "cell_type": "code",
   "execution_count": 26,
   "id": "5e1237ea-cc0d-4aff-9acd-f9e4bb295706",
   "metadata": {
    "tags": []
   },
   "outputs": [
    {
     "data": {
      "application/vnd.jupyter.widget-view+json": {
       "model_id": "2b8f8d16095542f5964763b4786f9f3a",
       "version_major": 2,
       "version_minor": 0
      },
      "text/plain": [
       "Query is running:   0%|          |"
      ]
     },
     "metadata": {},
     "output_type": "display_data"
    },
    {
     "data": {
      "text/html": [
       "<div>\n",
       "<style scoped>\n",
       "    .dataframe tbody tr th:only-of-type {\n",
       "        vertical-align: middle;\n",
       "    }\n",
       "\n",
       "    .dataframe tbody tr th {\n",
       "        vertical-align: top;\n",
       "    }\n",
       "\n",
       "    .dataframe thead th {\n",
       "        text-align: right;\n",
       "    }\n",
       "</style>\n",
       "<table border=\"1\" class=\"dataframe\">\n",
       "  <thead>\n",
       "    <tr style=\"text-align: right;\">\n",
       "      <th></th>\n",
       "    </tr>\n",
       "  </thead>\n",
       "  <tbody>\n",
       "  </tbody>\n",
       "</table>\n",
       "</div>"
      ],
      "text/plain": [
       "Empty DataFrame\n",
       "Columns: []\n",
       "Index: []"
      ]
     },
     "execution_count": 26,
     "metadata": {},
     "output_type": "execute_result"
    }
   ],
   "source": [
    "%%bigquery\n",
    "CREATE OR REPLACE TABLE `statmike-mlops-349915.bqml_central_monitoring_test.source` AS\n",
    "    SELECT * EXCEPT(sex),\n",
    "        CASE WHEN sex = '.' THEN NULL ELSE sex END AS sex\n",
    "    FROM `bigquery-public-data.ml_datasets.penguins`"
   ]
  },
  {
   "cell_type": "markdown",
   "id": "b02738ad-cc21-4671-bceb-2f17862dc9c4",
   "metadata": {},
   "source": [
    "### Split The Data\n",
    "\n",
    "Depending on the ML technique, it may be desired to split the data into partitions for training, evaluation, and testing (in this case monitoring examples). \n",
    "\n",
    "The following cell creates a version with a new column column named `splits` with values [`TRAIN`, `EVAL`, `TEST`].  The data is first grouped by (stratified) the values of `species` and `island` to preserve any imbalance across the columns. "
   ]
  },
  {
   "cell_type": "code",
   "execution_count": 27,
   "id": "6f625d40-e7e9-46b7-9f08-06a8512627e8",
   "metadata": {
    "tags": []
   },
   "outputs": [
    {
     "data": {
      "application/vnd.jupyter.widget-view+json": {
       "model_id": "632c739e84ac450d8c595eb67f1a8a96",
       "version_major": 2,
       "version_minor": 0
      },
      "text/plain": [
       "Query is running:   0%|          |"
      ]
     },
     "metadata": {},
     "output_type": "display_data"
    },
    {
     "data": {
      "text/html": [
       "<div>\n",
       "<style scoped>\n",
       "    .dataframe tbody tr th:only-of-type {\n",
       "        vertical-align: middle;\n",
       "    }\n",
       "\n",
       "    .dataframe tbody tr th {\n",
       "        vertical-align: top;\n",
       "    }\n",
       "\n",
       "    .dataframe thead th {\n",
       "        text-align: right;\n",
       "    }\n",
       "</style>\n",
       "<table border=\"1\" class=\"dataframe\">\n",
       "  <thead>\n",
       "    <tr style=\"text-align: right;\">\n",
       "      <th></th>\n",
       "    </tr>\n",
       "  </thead>\n",
       "  <tbody>\n",
       "  </tbody>\n",
       "</table>\n",
       "</div>"
      ],
      "text/plain": [
       "Empty DataFrame\n",
       "Columns: []\n",
       "Index: []"
      ]
     },
     "execution_count": 27,
     "metadata": {},
     "output_type": "execute_result"
    }
   ],
   "source": [
    "%%bigquery\n",
    "CREATE OR REPLACE TABLE `statmike-mlops-349915.bqml_central_monitoring_test.source_split` AS\n",
    "    WITH\n",
    "        # randomized numbering within groups (species, island)\n",
    "        RANDOM AS (\n",
    "            SELECT *,\n",
    "                ROW_NUMBER() OVER (PARTITION BY species, island ORDER BY RAND()) AS sequence\n",
    "            FROM `statmike-mlops-349915.bqml_central_monitoring_test.source`\n",
    "        ),\n",
    "        # get group sizes\n",
    "        GROUP_SIZES AS (\n",
    "            SELECT species, island, COUNT(*) AS count\n",
    "            FROM `statmike-mlops-349915.bqml_central_monitoring_test.source`\n",
    "            GROUP BY species, island\n",
    "        )\n",
    "    SELECT\n",
    "        * EXCEPT(sequence, count),\n",
    "        CASE\n",
    "            WHEN sequence <= CEIL(.2 * count) AND species is not Null THEN 'TEST'\n",
    "            WHEN sequence <= CEIL(.3 * count) THEN 'EVAL'\n",
    "            ELSE 'TRAIN'\n",
    "        END AS splits\n",
    "    FROM RANDOM\n",
    "    LEFT OUTER JOIN GROUP_SIZES USING(species, island)"
   ]
  },
  {
   "cell_type": "markdown",
   "id": "4f779e19-de12-4555-8dc6-a485f23b2909",
   "metadata": {},
   "source": [
    "Review the data by `splits`:"
   ]
  },
  {
   "cell_type": "code",
   "execution_count": 28,
   "id": "71ca1d86-d452-425e-96e4-adc101c12420",
   "metadata": {
    "tags": []
   },
   "outputs": [
    {
     "data": {
      "application/vnd.jupyter.widget-view+json": {
       "model_id": "7b6a939db7b342828a806e8095b91dce",
       "version_major": 2,
       "version_minor": 0
      },
      "text/plain": [
       "Query is running:   0%|          |"
      ]
     },
     "metadata": {},
     "output_type": "display_data"
    },
    {
     "data": {
      "application/vnd.jupyter.widget-view+json": {
       "model_id": "68b93ad94d924447bb7dbb0956907f64",
       "version_major": 2,
       "version_minor": 0
      },
      "text/plain": [
       "Downloading:   0%|          |"
      ]
     },
     "metadata": {},
     "output_type": "display_data"
    },
    {
     "data": {
      "text/html": [
       "<div>\n",
       "<style scoped>\n",
       "    .dataframe tbody tr th:only-of-type {\n",
       "        vertical-align: middle;\n",
       "    }\n",
       "\n",
       "    .dataframe tbody tr th {\n",
       "        vertical-align: top;\n",
       "    }\n",
       "\n",
       "    .dataframe thead th {\n",
       "        text-align: right;\n",
       "    }\n",
       "</style>\n",
       "<table border=\"1\" class=\"dataframe\">\n",
       "  <thead>\n",
       "    <tr style=\"text-align: right;\">\n",
       "      <th></th>\n",
       "      <th>species</th>\n",
       "      <th>island</th>\n",
       "      <th>count</th>\n",
       "      <th>TRAIN_PCT</th>\n",
       "      <th>EVAL_PCT</th>\n",
       "      <th>TEST_PCT</th>\n",
       "    </tr>\n",
       "  </thead>\n",
       "  <tbody>\n",
       "    <tr>\n",
       "      <th>0</th>\n",
       "      <td>Gentoo penguin (Pygoscelis papua)</td>\n",
       "      <td>Biscoe</td>\n",
       "      <td>124</td>\n",
       "      <td>69.354839</td>\n",
       "      <td>10.483871</td>\n",
       "      <td>20.161290</td>\n",
       "    </tr>\n",
       "    <tr>\n",
       "      <th>1</th>\n",
       "      <td>Adelie Penguin (Pygoscelis adeliae)</td>\n",
       "      <td>Torgersen</td>\n",
       "      <td>52</td>\n",
       "      <td>69.230769</td>\n",
       "      <td>9.615385</td>\n",
       "      <td>21.153846</td>\n",
       "    </tr>\n",
       "    <tr>\n",
       "      <th>2</th>\n",
       "      <td>Adelie Penguin (Pygoscelis adeliae)</td>\n",
       "      <td>Dream</td>\n",
       "      <td>56</td>\n",
       "      <td>69.642857</td>\n",
       "      <td>8.928571</td>\n",
       "      <td>21.428571</td>\n",
       "    </tr>\n",
       "    <tr>\n",
       "      <th>3</th>\n",
       "      <td>Adelie Penguin (Pygoscelis adeliae)</td>\n",
       "      <td>Biscoe</td>\n",
       "      <td>44</td>\n",
       "      <td>68.181818</td>\n",
       "      <td>11.363636</td>\n",
       "      <td>20.454545</td>\n",
       "    </tr>\n",
       "    <tr>\n",
       "      <th>4</th>\n",
       "      <td>Chinstrap penguin (Pygoscelis antarctica)</td>\n",
       "      <td>Dream</td>\n",
       "      <td>68</td>\n",
       "      <td>69.117647</td>\n",
       "      <td>10.294118</td>\n",
       "      <td>20.588235</td>\n",
       "    </tr>\n",
       "  </tbody>\n",
       "</table>\n",
       "</div>"
      ],
      "text/plain": [
       "                                     species     island  count  TRAIN_PCT  \\\n",
       "0          Gentoo penguin (Pygoscelis papua)     Biscoe    124  69.354839   \n",
       "1        Adelie Penguin (Pygoscelis adeliae)  Torgersen     52  69.230769   \n",
       "2        Adelie Penguin (Pygoscelis adeliae)      Dream     56  69.642857   \n",
       "3        Adelie Penguin (Pygoscelis adeliae)     Biscoe     44  68.181818   \n",
       "4  Chinstrap penguin (Pygoscelis antarctica)      Dream     68  69.117647   \n",
       "\n",
       "    EVAL_PCT   TEST_PCT  \n",
       "0  10.483871  20.161290  \n",
       "1   9.615385  21.153846  \n",
       "2   8.928571  21.428571  \n",
       "3  11.363636  20.454545  \n",
       "4  10.294118  20.588235  "
      ]
     },
     "execution_count": 28,
     "metadata": {},
     "output_type": "execute_result"
    }
   ],
   "source": [
    "%%bigquery\n",
    "SELECT species, island,\n",
    "    COUNT(*) as count,\n",
    "    100 * COUNTIF(splits = 'TRAIN')/COUNT(*) AS TRAIN_PCT,\n",
    "    100 * COUNTIF(splits = 'EVAL')/COUNT(*) AS EVAL_PCT,\n",
    "    100 * COUNTIF(splits = 'TEST')/COUNT(*) AS TEST_PCT\n",
    "FROM `statmike-mlops-349915.bqml_central_monitoring_test.source_split`\n",
    "GROUP BY species, island"
   ]
  },
  {
   "cell_type": "markdown",
   "id": "873d941b-d276-4e8c-b958-51cea09d7f9f",
   "metadata": {
    "tags": []
   },
   "source": [
    "---\n",
    "## Create/Train A Model\n",
    "\n",
    "Create a model trained to classify `species` for the traning records.  Here, directly in BigQuery, the [`CREATE MODEL` statement for deep neural network (DNN) models](https://cloud.google.com/bigquery/docs/reference/standard-sql/bigqueryml-syntax-create-dnn-models) is used.  Rather than using the `TRANSFORM` clause within the model, the pre-built `TRANSFORM_ONLY` model from above is used on the the input records for the model.  Just as later on in the workflow the `TRANSFORM_ONLY` model will be used for evaluations, predictions, and even monitoring!\n",
    "\n",
    "\n",
    "> Note: This runs for about 15-16 minutes"
   ]
  },
  {
   "cell_type": "code",
   "execution_count": 30,
   "id": "4f12b6c5-0436-4cc9-9794-eadb717c0eef",
   "metadata": {
    "tags": []
   },
   "outputs": [
    {
     "data": {
      "application/vnd.jupyter.widget-view+json": {
       "model_id": "6847bd43ff234c69beba42d8e49b2ca2",
       "version_major": 2,
       "version_minor": 0
      },
      "text/plain": [
       "Query is running:   0%|          |"
      ]
     },
     "metadata": {},
     "output_type": "display_data"
    },
    {
     "data": {
      "text/html": [
       "<div>\n",
       "<style scoped>\n",
       "    .dataframe tbody tr th:only-of-type {\n",
       "        vertical-align: middle;\n",
       "    }\n",
       "\n",
       "    .dataframe tbody tr th {\n",
       "        vertical-align: top;\n",
       "    }\n",
       "\n",
       "    .dataframe thead th {\n",
       "        text-align: right;\n",
       "    }\n",
       "</style>\n",
       "<table border=\"1\" class=\"dataframe\">\n",
       "  <thead>\n",
       "    <tr style=\"text-align: right;\">\n",
       "      <th></th>\n",
       "    </tr>\n",
       "  </thead>\n",
       "  <tbody>\n",
       "  </tbody>\n",
       "</table>\n",
       "</div>"
      ],
      "text/plain": [
       "Empty DataFrame\n",
       "Columns: []\n",
       "Index: []"
      ]
     },
     "execution_count": 30,
     "metadata": {},
     "output_type": "execute_result"
    }
   ],
   "source": [
    "%%bigquery\n",
    "CREATE MODEL IF NOT EXISTS `statmike-mlops-349915.bqml_central_monitoring_test.classify_species_logistic`\n",
    "    TRANSFORM(\n",
    "        ML.ROBUST_SCALER(body_mass_g) OVER() AS body_mass_g,\n",
    "        ML.STANDARD_SCALER(culmen_length_mm) OVER() AS culmen_length_mm,\n",
    "        ML.STANDARD_SCALER(culmen_depth_mm) OVER() AS culmen_depth_mm,\n",
    "        ML.QUANTILE_BUCKETIZE(flipper_length_mm, 3) OVER() AS flipper_length_mm,\n",
    "        ML.IMPUTER(sex, 'most_frequent') OVER() AS sex,\n",
    "        ML.IMPUTER(island, 'most_frequent') OVER() AS island,\n",
    "        species, split\n",
    "    )\n",
    "    OPTIONS(\n",
    "        MODEL_TYPE = 'LOGISTIC_REG',\n",
    "        INPUT_LABEL_COLS = ['species'],\n",
    "        \n",
    "        # data specifics\n",
    "        DATA_SPLIT_METHOD = 'CUSTOM',\n",
    "        DATA_SPLIT_COL = 'split',\n",
    "        \n",
    "        # model specifics\n",
    "        AUTO_CLASS_WEIGHTS = TRUE\n",
    "    )\n",
    "AS\n",
    "    SELECT * EXCEPT(splits),\n",
    "        CASE WHEN splits = 'TRAIN' THEN FALSE\n",
    "        ELSE TRUE END AS split\n",
    "    FROM `statmike-mlops-349915.bqml_central_monitoring_test.source_split`\n",
    "    WHERE splits != 'TEST'   "
   ]
  },
  {
   "cell_type": "markdown",
   "id": "c56dc44e-7117-44bc-b470-656e8509640e",
   "metadata": {},
   "source": [
    "### Monitoring Skew: Model to Test split"
   ]
  },
  {
   "cell_type": "code",
   "execution_count": 31,
   "id": "b29d17a0-bdd3-47d8-b1ab-69b58a7ab962",
   "metadata": {},
   "outputs": [
    {
     "data": {
      "application/vnd.jupyter.widget-view+json": {
       "model_id": "431157178b664d1ea90dd65432aa69cd",
       "version_major": 2,
       "version_minor": 0
      },
      "text/plain": [
       "Query is running:   0%|          |"
      ]
     },
     "metadata": {},
     "output_type": "display_data"
    },
    {
     "data": {
      "application/vnd.jupyter.widget-view+json": {
       "model_id": "ae9a4aab22a147849499d532cfc6206e",
       "version_major": 2,
       "version_minor": 0
      },
      "text/plain": [
       "Downloading:   0%|          |"
      ]
     },
     "metadata": {},
     "output_type": "display_data"
    },
    {
     "data": {
      "text/html": [
       "<div>\n",
       "<style scoped>\n",
       "    .dataframe tbody tr th:only-of-type {\n",
       "        vertical-align: middle;\n",
       "    }\n",
       "\n",
       "    .dataframe tbody tr th {\n",
       "        vertical-align: top;\n",
       "    }\n",
       "\n",
       "    .dataframe thead th {\n",
       "        text-align: right;\n",
       "    }\n",
       "</style>\n",
       "<table border=\"1\" class=\"dataframe\">\n",
       "  <thead>\n",
       "    <tr style=\"text-align: right;\">\n",
       "      <th></th>\n",
       "      <th>input</th>\n",
       "      <th>metric</th>\n",
       "      <th>threshold</th>\n",
       "      <th>value</th>\n",
       "      <th>is_anomaly</th>\n",
       "    </tr>\n",
       "  </thead>\n",
       "  <tbody>\n",
       "    <tr>\n",
       "      <th>0</th>\n",
       "      <td>body_mass_g</td>\n",
       "      <td>JENSEN_SHANNON_DIVERGENCE</td>\n",
       "      <td>0.3</td>\n",
       "      <td>0.039228</td>\n",
       "      <td>False</td>\n",
       "    </tr>\n",
       "    <tr>\n",
       "      <th>1</th>\n",
       "      <td>culmen_depth_mm</td>\n",
       "      <td>JENSEN_SHANNON_DIVERGENCE</td>\n",
       "      <td>0.3</td>\n",
       "      <td>0.107733</td>\n",
       "      <td>False</td>\n",
       "    </tr>\n",
       "    <tr>\n",
       "      <th>2</th>\n",
       "      <td>culmen_length_mm</td>\n",
       "      <td>JENSEN_SHANNON_DIVERGENCE</td>\n",
       "      <td>0.3</td>\n",
       "      <td>0.104672</td>\n",
       "      <td>False</td>\n",
       "    </tr>\n",
       "    <tr>\n",
       "      <th>3</th>\n",
       "      <td>flipper_length_mm</td>\n",
       "      <td>JENSEN_SHANNON_DIVERGENCE</td>\n",
       "      <td>0.3</td>\n",
       "      <td>0.051873</td>\n",
       "      <td>False</td>\n",
       "    </tr>\n",
       "    <tr>\n",
       "      <th>4</th>\n",
       "      <td>island</td>\n",
       "      <td>L_INFTY</td>\n",
       "      <td>0.3</td>\n",
       "      <td>0.008522</td>\n",
       "      <td>False</td>\n",
       "    </tr>\n",
       "    <tr>\n",
       "      <th>5</th>\n",
       "      <td>sex</td>\n",
       "      <td>L_INFTY</td>\n",
       "      <td>0.3</td>\n",
       "      <td>0.105797</td>\n",
       "      <td>False</td>\n",
       "    </tr>\n",
       "  </tbody>\n",
       "</table>\n",
       "</div>"
      ],
      "text/plain": [
       "               input                     metric  threshold     value  \\\n",
       "0        body_mass_g  JENSEN_SHANNON_DIVERGENCE        0.3  0.039228   \n",
       "1    culmen_depth_mm  JENSEN_SHANNON_DIVERGENCE        0.3  0.107733   \n",
       "2   culmen_length_mm  JENSEN_SHANNON_DIVERGENCE        0.3  0.104672   \n",
       "3  flipper_length_mm  JENSEN_SHANNON_DIVERGENCE        0.3  0.051873   \n",
       "4             island                    L_INFTY        0.3  0.008522   \n",
       "5                sex                    L_INFTY        0.3  0.105797   \n",
       "\n",
       "   is_anomaly  \n",
       "0       False  \n",
       "1       False  \n",
       "2       False  \n",
       "3       False  \n",
       "4       False  \n",
       "5       False  "
      ]
     },
     "execution_count": 31,
     "metadata": {},
     "output_type": "execute_result"
    }
   ],
   "source": [
    "%%bigquery\n",
    "SELECT *\n",
    "FROM ML.VALIDATE_DATA_SKEW(\n",
    "    MODEL `statmike-mlops-349915.bqml_central_monitoring_test.classify_species_logistic`,\n",
    "    (SELECT * FROM `statmike-mlops-349915.bqml_central_monitoring_test.source_split` WHERE splits = 'TEST')\n",
    ");"
   ]
  },
  {
   "cell_type": "markdown",
   "id": "c0313c9c-57d4-45d4-8354-174cfbf21d37",
   "metadata": {},
   "source": [
    "### Monitoring Skew - (Manually) Drift From Train To Test Split"
   ]
  },
  {
   "cell_type": "code",
   "execution_count": 32,
   "id": "822b5fea-0b51-4ce6-a49a-626ad7aa258a",
   "metadata": {
    "tags": []
   },
   "outputs": [
    {
     "data": {
      "application/vnd.jupyter.widget-view+json": {
       "model_id": "05ae6740ef71494f9a873af69d028e9b",
       "version_major": 2,
       "version_minor": 0
      },
      "text/plain": [
       "Query is running:   0%|          |"
      ]
     },
     "metadata": {},
     "output_type": "display_data"
    },
    {
     "data": {
      "application/vnd.jupyter.widget-view+json": {
       "model_id": "468953ee9b424e479113e2f2da31ff46",
       "version_major": 2,
       "version_minor": 0
      },
      "text/plain": [
       "Downloading:   0%|          |"
      ]
     },
     "metadata": {},
     "output_type": "display_data"
    },
    {
     "data": {
      "text/html": [
       "<div>\n",
       "<style scoped>\n",
       "    .dataframe tbody tr th:only-of-type {\n",
       "        vertical-align: middle;\n",
       "    }\n",
       "\n",
       "    .dataframe tbody tr th {\n",
       "        vertical-align: top;\n",
       "    }\n",
       "\n",
       "    .dataframe thead th {\n",
       "        text-align: right;\n",
       "    }\n",
       "</style>\n",
       "<table border=\"1\" class=\"dataframe\">\n",
       "  <thead>\n",
       "    <tr style=\"text-align: right;\">\n",
       "      <th></th>\n",
       "      <th>input</th>\n",
       "      <th>metric</th>\n",
       "      <th>threshold</th>\n",
       "      <th>value</th>\n",
       "      <th>is_anomaly</th>\n",
       "    </tr>\n",
       "  </thead>\n",
       "  <tbody>\n",
       "    <tr>\n",
       "      <th>0</th>\n",
       "      <td>body_mass_g</td>\n",
       "      <td>JENSEN_SHANNON_DIVERGENCE</td>\n",
       "      <td>0.3</td>\n",
       "      <td>0.039228</td>\n",
       "      <td>False</td>\n",
       "    </tr>\n",
       "    <tr>\n",
       "      <th>1</th>\n",
       "      <td>culmen_depth_mm</td>\n",
       "      <td>JENSEN_SHANNON_DIVERGENCE</td>\n",
       "      <td>0.3</td>\n",
       "      <td>0.107733</td>\n",
       "      <td>False</td>\n",
       "    </tr>\n",
       "    <tr>\n",
       "      <th>2</th>\n",
       "      <td>culmen_length_mm</td>\n",
       "      <td>JENSEN_SHANNON_DIVERGENCE</td>\n",
       "      <td>0.3</td>\n",
       "      <td>0.104672</td>\n",
       "      <td>False</td>\n",
       "    </tr>\n",
       "    <tr>\n",
       "      <th>3</th>\n",
       "      <td>flipper_length_mm</td>\n",
       "      <td>JENSEN_SHANNON_DIVERGENCE</td>\n",
       "      <td>0.3</td>\n",
       "      <td>0.051873</td>\n",
       "      <td>False</td>\n",
       "    </tr>\n",
       "    <tr>\n",
       "      <th>4</th>\n",
       "      <td>island</td>\n",
       "      <td>L_INFTY</td>\n",
       "      <td>0.3</td>\n",
       "      <td>0.008522</td>\n",
       "      <td>False</td>\n",
       "    </tr>\n",
       "    <tr>\n",
       "      <th>5</th>\n",
       "      <td>sex</td>\n",
       "      <td>L_INFTY</td>\n",
       "      <td>0.3</td>\n",
       "      <td>0.105797</td>\n",
       "      <td>False</td>\n",
       "    </tr>\n",
       "    <tr>\n",
       "      <th>6</th>\n",
       "      <td>species</td>\n",
       "      <td>L_INFTY</td>\n",
       "      <td>0.3</td>\n",
       "      <td>0.009528</td>\n",
       "      <td>False</td>\n",
       "    </tr>\n",
       "    <tr>\n",
       "      <th>7</th>\n",
       "      <td>splits</td>\n",
       "      <td>L_INFTY</td>\n",
       "      <td>0.3</td>\n",
       "      <td>1.000000</td>\n",
       "      <td>True</td>\n",
       "    </tr>\n",
       "  </tbody>\n",
       "</table>\n",
       "</div>"
      ],
      "text/plain": [
       "               input                     metric  threshold     value  \\\n",
       "0        body_mass_g  JENSEN_SHANNON_DIVERGENCE        0.3  0.039228   \n",
       "1    culmen_depth_mm  JENSEN_SHANNON_DIVERGENCE        0.3  0.107733   \n",
       "2   culmen_length_mm  JENSEN_SHANNON_DIVERGENCE        0.3  0.104672   \n",
       "3  flipper_length_mm  JENSEN_SHANNON_DIVERGENCE        0.3  0.051873   \n",
       "4             island                    L_INFTY        0.3  0.008522   \n",
       "5                sex                    L_INFTY        0.3  0.105797   \n",
       "6            species                    L_INFTY        0.3  0.009528   \n",
       "7             splits                    L_INFTY        0.3  1.000000   \n",
       "\n",
       "   is_anomaly  \n",
       "0       False  \n",
       "1       False  \n",
       "2       False  \n",
       "3       False  \n",
       "4       False  \n",
       "5       False  \n",
       "6       False  \n",
       "7        True  "
      ]
     },
     "execution_count": 32,
     "metadata": {},
     "output_type": "execute_result"
    }
   ],
   "source": [
    "%%bigquery\n",
    "SELECT *\n",
    "FROM ML.VALIDATE_DATA_DRIFT(\n",
    "    (SELECT * FROM `statmike-mlops-349915.bqml_central_monitoring_test.source_split` WHERE splits = 'TRAIN'),\n",
    "    (SELECT * FROM `statmike-mlops-349915.bqml_central_monitoring_test.source_split` WHERE splits = 'TEST')\n",
    ");"
   ]
  },
  {
   "cell_type": "markdown",
   "id": "ddd12a14-f8aa-45bc-8357-90845acccd65",
   "metadata": {},
   "source": [
    "### Monitoring Skew - (Manually) Drift From Train+Eval To Test Split"
   ]
  },
  {
   "cell_type": "code",
   "execution_count": null,
   "id": "8eef3a58-9003-4cec-82de-a326b0fb2e19",
   "metadata": {
    "tags": []
   },
   "outputs": [
    {
     "data": {
      "application/vnd.jupyter.widget-view+json": {
       "model_id": "ea887633d5c84a77adeecde6e9b26d0d",
       "version_major": 2,
       "version_minor": 0
      },
      "text/plain": [
       "Query is running:   0%|          |"
      ]
     },
     "metadata": {},
     "output_type": "display_data"
    },
    {
     "data": {
      "application/vnd.jupyter.widget-view+json": {
       "model_id": "7c9216c69f354e81a840e1f2437c2141",
       "version_major": 2,
       "version_minor": 0
      },
      "text/plain": [
       "Downloading:   0%|          |"
      ]
     },
     "metadata": {},
     "output_type": "display_data"
    }
   ],
   "source": [
    "%%bigquery\n",
    "SELECT *\n",
    "FROM ML.VALIDATE_DATA_DRIFT(\n",
    "    (SELECT * FROM `statmike-mlops-349915.bqml_central_monitoring_test.source_split` WHERE splits != 'TEST'),\n",
    "    (SELECT * FROM `statmike-mlops-349915.bqml_central_monitoring_test.source_split` WHERE splits = 'TEST')\n",
    ");"
   ]
  },
  {
   "cell_type": "code",
   "execution_count": null,
   "id": "a1c0bc84-e5e7-4642-8abd-6dcbab0d0ab2",
   "metadata": {},
   "outputs": [],
   "source": []
  }
 ],
 "metadata": {
  "environment": {
   "kernel": "conda-root-py",
   "name": "workbench-notebooks.m119",
   "type": "gcloud",
   "uri": "us-docker.pkg.dev/deeplearning-platform-release/gcr.io/workbench-notebooks:m119"
  },
  "kernelspec": {
   "display_name": "Python 3 (ipykernel)",
   "language": "python",
   "name": "conda-root-py"
  },
  "language_info": {
   "codemirror_mode": {
    "name": "ipython",
    "version": 3
   },
   "file_extension": ".py",
   "mimetype": "text/x-python",
   "name": "python",
   "nbconvert_exporter": "python",
   "pygments_lexer": "ipython3",
   "version": "3.10.14"
  }
 },
 "nbformat": 4,
 "nbformat_minor": 5
}
