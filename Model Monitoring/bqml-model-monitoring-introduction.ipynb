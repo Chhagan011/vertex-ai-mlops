{
 "cells": [
  {
   "cell_type": "markdown",
   "id": "f54f41a7",
   "metadata": {},
   "source": [
    "![tracker](https://us-central1-vertex-ai-mlops-369716.cloudfunctions.net/pixel-tracking?path=statmike%2Fvertex-ai-mlops%2FModel+Monitoring&file=bqml-model-monitoring-introduction.ipynb)\n",
    "<!--- header table --->\n",
    "<table align=\"left\">\n",
    "  <td style=\"text-align: center\">\n",
    "    <a href=\"https://colab.research.google.com/github/statmike/vertex-ai-mlops/blob/main/Model%20Monitoring/bqml-model-monitoring-introduction.ipynb\">\n",
    "      <img src=\"https://cloud.google.com/ml-engine/images/colab-logo-32px.png\" alt=\"Google Colaboratory logo\">\n",
    "      <br>Run in<br>Colab\n",
    "    </a>\n",
    "  </td>\n",
    "  <td style=\"text-align: center\">\n",
    "    <a href=\"https://console.cloud.google.com/vertex-ai/colab/import/https%3A%2F%2Fraw.githubusercontent.com%2Fstatmike%2Fvertex-ai-mlops%2Fmain%2FModel%2520Monitoring%2Fbqml-model-monitoring-introduction.ipynb\">\n",
    "      <img width=\"32px\" src=\"https://lh3.googleusercontent.com/JmcxdQi-qOpctIvWKgPtrzZdJJK-J3sWE1RsfjZNwshCFgE_9fULcNpuXYTilIR2hjwN\" alt=\"Google Cloud Colab Enterprise logo\">\n",
    "      <br>Run in<br>Colab Enterprise\n",
    "    </a>\n",
    "  </td>      \n",
    "  <td style=\"text-align: center\">\n",
    "    <a href=\"https://github.com/statmike/vertex-ai-mlops/blob/main/Model%20Monitoring/bqml-model-monitoring-introduction.ipynb\">\n",
    "      <img src=\"https://cloud.google.com/ml-engine/images/github-logo-32px.png\" alt=\"GitHub logo\">\n",
    "      <br>View on<br>GitHub\n",
    "    </a>\n",
    "  </td>\n",
    "  <td style=\"text-align: center\">\n",
    "    <a href=\"https://console.cloud.google.com/vertex-ai/workbench/deploy-notebook?download_url=https://raw.githubusercontent.com/statmike/vertex-ai-mlops/main/Model%20Monitoring/bqml-model-monitoring-introduction.ipynb\">\n",
    "      <img src=\"https://lh3.googleusercontent.com/UiNooY4LUgW_oTvpsNhPpQzsstV5W8F7rYgxgGBD85cWJoLmrOzhVs_ksK_vgx40SHs7jCqkTkCk=e14-rj-sc0xffffff-h130-w32\" alt=\"Vertex AI logo\">\n",
    "      <br>Open in<br>Vertex AI Workbench\n",
    "    </a>\n",
    "  </td>\n",
    "</table>"
   ]
  },
  {
   "cell_type": "markdown",
   "id": "edcf4f67-ef83-424a-94ad-b1d53326870a",
   "metadata": {},
   "source": [
    "# BigQuery ML (BQML) - Model Monitoring Introduction\n",
    "\n",
    "---\n",
    "TODO:\n",
    "- [ ] Write Overview for this notebook that matches the blog post\n",
    "- [ ] search for 'link here' and add links throughout\n",
    "    - [ ] link to blog post\n",
    "    - [ ] link to tutorial notebook \n",
    "    - [ ] links for the new functions:\n",
    "---\n",
    "\n",
    "This notebook provides a hands-on introduction to [model monitoring with BigQuery ML](https://cloud.google.com/bigquery/docs/model-monitoring-overview). It guides you through the process of training a model, and then implementing monitoring techniques to detect data skew and drift.  An example of automating model monitoring with alerts and retraining is included.\n",
    "\n",
    "**Key Features Explored:**\n",
    "\n",
    "* **Data Understanding with [`ML.DESCRIBE_DATA`](https://cloud.google.com/bigquery/docs/reference/standard-sql/bigqueryml-syntax-describe-data):** Analyze the distribution of values in your dataset to identify potential issues and inform feature engineering decisions.\n",
    "* **Model Training with `CREATE MODEL`:** Train a machine learning model directly in BigQuery using the `CREATE MODEL` statement.\n",
    "* **Monitoring Skew with [`ML.VALIDATE_DATA_SKEW`](https://cloud.google.com/bigquery/docs/reference/standard-sql/bigqueryml-syntax-validate-data-skew):** Compare the distribution of your serving data to the training data to detect potential data skew.\n",
    "* **Monitoring Drift with [`ML.VALIDATE_DATA_DRIFT`](https://cloud.google.com/bigquery/docs/reference/standard-sql/bigqueryml-syntax-validate-data-drift):** Compare the distribution of your serving data over time to detect potential data drift.\n",
    "* **TensorFlow Data Validation (TFDV) Integration:** Leverage the power of TFDV within BigQuery to generate descriptive statistics and visualize anomalies using [`ML.TFDV_DESCRIBE`](https://cloud.google.com/bigquery/docs/reference/standard-sql/bigqueryml-syntax-tfdv-describe) and [`ML.TFDV_VALIDATE`](https://cloud.google.com/bigquery/docs/reference/standard-sql/bigqueryml-syntax-tfdv-validate).\n",
    "* **Continuous Monitoring Job:** Build a BigQuery SQL job that automates the monitoring process and triggers retraining actions when necessary.\n",
    "\n",
    "**Benefits of Using BigQuery ML Model Monitoring:**\n",
    "\n",
    "* **Early Detection of Issues:** Identify potential problems with your model's performance before they impact your business.\n",
    "* **Improved Model Accuracy:** Ensure your model remains accurate over time by detecting and addressing data skew and drift.\n",
    "* **Reduced Operational Costs:** Automate the monitoring process to save time and resources.\n",
    "* **Enhanced Decision-Making:** Gain insights into how your data is changing and make informed decisions about model retraining and deployment.\n",
    "\n",
    "**Target Audience:**\n",
    "\n",
    "This notebook is designed for data scientists, machine learning engineers, and anyone interested in learning about [model monitoring with BigQuery ML](https://cloud.google.com/bigquery/docs/model-monitoring-overview).\n",
    "\n",
    "**Getting Started:**\n",
    "\n",
    "To get started, you will need a [Google Cloud Platform](https:/cloud.google.com) account and a basic understanding of [BigQuery](https://cloud.google.com/bigquery) and SQL. \n",
    "\n",
    "**Additional Resources:**\n",
    "\n",
    "* [BigQuery ML Documentation](https://cloud.google.com/bigquery-ml/docs/)\n",
    "* [BigQuery ML Model Monitoring](https://cloud.google.com/bigquery/docs/model-monitoring-overview)\n",
    "    - [`ML.DESCRIBE_DATA`](https://cloud.google.com/bigquery/docs/reference/standard-sql/bigqueryml-syntax-describe-data)\n",
    "    - [`ML.VALIDATE_DATA_SKEW`](https://cloud.google.com/bigquery/docs/reference/standard-sql/bigqueryml-syntax-validate-data-skew)\n",
    "    - [`ML.VALIDATE_DATA_DRIFT`](https://cloud.google.com/bigquery/docs/reference/standard-sql/bigqueryml-syntax-validate-data-drift)\n",
    "    - [`ML.TFDV_DESCRIBE`](https://cloud.google.com/bigquery/docs/reference/standard-sql/bigqueryml-syntax-tfdv-describe)\n",
    "    - [`ML.TFDV_VALIDATE`](https://cloud.google.com/bigquery/docs/reference/standard-sql/bigqueryml-syntax-tfdv-validate)\n",
    "\n",
    "**Summary:**\n",
    "\n",
    "BigQuery ML model monitoring provides a powerful and efficient way to ensure the ongoing performance and accuracy of your machine learning models. By leveraging the techniques and tools covered in this notebook, you can gain valuable insights into your data, detect potential issues early on, and take corrective actions to maintain the effectiveness of your models over time.\n"
   ]
  },
  {
   "cell_type": "markdown",
   "id": "ac715ea0-269a-41d1-a0ac-c2c944e2c7f1",
   "metadata": {
    "id": "J_-1oCZ7oQe_"
   },
   "source": [
    "---\n",
    "## Colab Setup\n",
    "\n",
    "When running this notebook in [Colab](https://colab.google/) or [Colab Enterprise](https://cloud.google.com/colab/docs/introduction), this section will authenticate to GCP (follow prompts in the popup) and set the current project for the session."
   ]
  },
  {
   "cell_type": "code",
   "execution_count": 1,
   "id": "4aebd58b-5deb-48f1-b720-36c81ab55bf7",
   "metadata": {
    "executionInfo": {
     "elapsed": 178,
     "status": "ok",
     "timestamp": 1710716382256,
     "user": {
      "displayName": "Mike Henderson",
      "userId": "07691629187611687318"
     },
     "user_tz": 240
    },
    "id": "bUeb3Vz9c-cz",
    "tags": []
   },
   "outputs": [],
   "source": [
    "PROJECT_ID = 'statmike-mlops-349915' # replace with project ID"
   ]
  },
  {
   "cell_type": "code",
   "execution_count": 2,
   "id": "60bfdf5c-e988-4e0a-b613-129985779467",
   "metadata": {
    "colab": {
     "base_uri": "https://localhost:8080/"
    },
    "executionInfo": {
     "elapsed": 1769,
     "status": "ok",
     "timestamp": 1710716384851,
     "user": {
      "displayName": "Mike Henderson",
      "userId": "07691629187611687318"
     },
     "user_tz": 240
    },
    "id": "ztC0h14fc-fr",
    "outputId": "16d1144f-1671-4919-edba-31bc197ffc7b",
    "tags": []
   },
   "outputs": [
    {
     "name": "stdout",
     "output_type": "stream",
     "text": [
      "Not a Colab Environment\n"
     ]
    }
   ],
   "source": [
    "try:\n",
    "    from google.colab import auth\n",
    "    auth.authenticate_user(project_id = PROJECT_ID)\n",
    "    print('Colab authorized to GCP')\n",
    "except Exception:\n",
    "    print('Not a Colab Environment')\n",
    "    pass"
   ]
  },
  {
   "cell_type": "markdown",
   "id": "dda1ce01-3292-4863-81d0-e604e87e43b0",
   "metadata": {},
   "source": [
    "---\n",
    "## Installs\n",
    "\n",
    "The list `packages` contains tuples of package import names and install names.  If the import name is not found then the install name is used to install quitely for the current user."
   ]
  },
  {
   "cell_type": "code",
   "execution_count": 3,
   "id": "d940c10d-7160-46bb-9fa3-dabe10db88c5",
   "metadata": {
    "tags": []
   },
   "outputs": [],
   "source": [
    "# tuples of (import name, install name, min_version)\n",
    "packages = [\n",
    "    ('tensorflow_data_validation', 'tensorflow-data-validation'),\n",
    "    ('tensorflow_metadata', 'tensorflow-metadata')\n",
    "]\n",
    "\n",
    "import importlib\n",
    "install = False\n",
    "for package in packages:\n",
    "    if not importlib.util.find_spec(package[0]):\n",
    "        print(f'installing package {package[1]}')\n",
    "        install = True\n",
    "        !pip install {package[1]} -U -q --user\n",
    "    elif len(package) == 3:\n",
    "        if importlib.metadata.version(package[0]) < package[2]:\n",
    "            print(f'updating package {package[1]}')\n",
    "            install = True\n",
    "            !pip install {package[1]} -U -q --user"
   ]
  },
  {
   "cell_type": "markdown",
   "id": "b9e093cd-4926-4d28-ab7d-6ad2543dee03",
   "metadata": {
    "id": "yt5uZFvRoWLp"
   },
   "source": [
    "---\n",
    "## Setup"
   ]
  },
  {
   "cell_type": "markdown",
   "id": "f978b8f9-45bc-4628-95e5-4e0e457dbb33",
   "metadata": {},
   "source": [
    "Packages:"
   ]
  },
  {
   "cell_type": "code",
   "execution_count": 4,
   "id": "2a7851f5-8e91-4d78-8575-ffc6ab10843f",
   "metadata": {
    "tags": []
   },
   "outputs": [],
   "source": [
    "import json"
   ]
  },
  {
   "cell_type": "markdown",
   "id": "578e625c-3e15-40fe-9fe6-8a0d521193f1",
   "metadata": {},
   "source": [
    "Clients:"
   ]
  },
  {
   "cell_type": "code",
   "execution_count": 5,
   "id": "7f368df4-6b6a-4772-a085-6ff74978cf50",
   "metadata": {
    "colab": {
     "base_uri": "https://localhost:8080/"
    },
    "executionInfo": {
     "elapsed": 159,
     "status": "ok",
     "timestamp": 1710716582376,
     "user": {
      "displayName": "Mike Henderson",
      "userId": "07691629187611687318"
     },
     "user_tz": 240
    },
    "id": "14nUE43Oc-ip",
    "outputId": "55b2c2b1-b6ad-42cc-b3cc-d6e3afcaa071",
    "tags": []
   },
   "outputs": [
    {
     "name": "stdout",
     "output_type": "stream",
     "text": [
      "The google.cloud.bigquery extension is already loaded. To reload it, use:\n",
      "  %reload_ext google.cloud.bigquery\n"
     ]
    }
   ],
   "source": [
    "%load_ext google.cloud.bigquery"
   ]
  },
  {
   "cell_type": "markdown",
   "id": "31fac07a-34bc-4d22-8624-ab52d29695ec",
   "metadata": {},
   "source": [
    "Prepare the code below for your environment.\n",
    "\n",
    "This notebook takes advantage of the [BigQuery IPython magic](https://cloud.google.com/python/docs/reference/bigquery/latest/magics) for legibility and ease of copy/pasting to BigQuery SQL editor.  If this notebook is being used from an environment that can run notebooks it needs further preparation: Colab, Colab Enterprise, Vertex AI Workbench Instances, or BigQuery Studio with a Python Notebook.  The SQL code in these cells uses the fully qualified [BigQuery table](https://cloud.google.com/bigquery/docs/tables-intro) names in the form `projectname.datasetname.tablename`.  Prepare for your environment by:\n",
    "- Edit > Find\n",
    "    - Find: `statmike-mlops-349915`\n",
    "    - Replace: `<your project id>`\n",
    "    - Replace All"
   ]
  },
  {
   "cell_type": "markdown",
   "id": "e50f0ccd-a43d-488d-8e47-0b3f4d46fbfc",
   "metadata": {},
   "source": [
    "---\n",
    "## BigQuery Source Data\n",
    "\n",
    "This project will uses the following data source as a tutorial.  It is good for examples like this because it is small, has few columns, but contains categorial and numerical data types.\n",
    "\n",
    "The source table is a BigQuery Public Dataset table.  The following cell uses the [BigQuery IPython magic](https://cloud.google.com/python/docs/reference/bigquery/latest/magics) to retrieve 5 rows of the table for review.  This data is known as [Palmer Penguins](https://allisonhorst.github.io/palmerpenguins/) data: \n",
    "\n",
    "```\n",
    "@Manual{,\n",
    "  title = {palmerpenguins: Palmer Archipelago (Antarctica) penguin data},\n",
    "  author = {Allison Marie Horst and Alison Presmanes Hill and Kristen B Gorman},\n",
    "  year = {2020},\n",
    "  note = {R package version 0.1.0},\n",
    "  doi = {10.5281/zenodo.3960218},\n",
    "  url = {https://allisonhorst.github.io/palmerpenguins/},\n",
    "}\n",
    "```\n",
    "\n",
    "\n",
    "There are 334 observations of 4 numerical features (culman length, culmen depth, flipper length, body mass) and 2  categorical features (island, sex) that represent 3 species of penguins."
   ]
  },
  {
   "cell_type": "code",
   "execution_count": 6,
   "id": "001fe23d-4eae-4731-ba68-c7bff0dc2898",
   "metadata": {
    "tags": []
   },
   "outputs": [
    {
     "data": {
      "application/vnd.jupyter.widget-view+json": {
       "model_id": "2bdfa073ac8f42ef86fddb1428544d83",
       "version_major": 2,
       "version_minor": 0
      },
      "text/plain": [
       "Query is running:   0%|          |"
      ]
     },
     "metadata": {},
     "output_type": "display_data"
    },
    {
     "data": {
      "application/vnd.jupyter.widget-view+json": {
       "model_id": "81b8920eb43742c59984475be9215e97",
       "version_major": 2,
       "version_minor": 0
      },
      "text/plain": [
       "Downloading:   0%|          |"
      ]
     },
     "metadata": {},
     "output_type": "display_data"
    },
    {
     "data": {
      "text/html": [
       "<div>\n",
       "<style scoped>\n",
       "    .dataframe tbody tr th:only-of-type {\n",
       "        vertical-align: middle;\n",
       "    }\n",
       "\n",
       "    .dataframe tbody tr th {\n",
       "        vertical-align: top;\n",
       "    }\n",
       "\n",
       "    .dataframe thead th {\n",
       "        text-align: right;\n",
       "    }\n",
       "</style>\n",
       "<table border=\"1\" class=\"dataframe\">\n",
       "  <thead>\n",
       "    <tr style=\"text-align: right;\">\n",
       "      <th></th>\n",
       "      <th>species</th>\n",
       "      <th>island</th>\n",
       "      <th>culmen_length_mm</th>\n",
       "      <th>culmen_depth_mm</th>\n",
       "      <th>flipper_length_mm</th>\n",
       "      <th>body_mass_g</th>\n",
       "      <th>sex</th>\n",
       "    </tr>\n",
       "  </thead>\n",
       "  <tbody>\n",
       "    <tr>\n",
       "      <th>0</th>\n",
       "      <td>Adelie Penguin (Pygoscelis adeliae)</td>\n",
       "      <td>Dream</td>\n",
       "      <td>36.6</td>\n",
       "      <td>18.4</td>\n",
       "      <td>184.0</td>\n",
       "      <td>3475.0</td>\n",
       "      <td>FEMALE</td>\n",
       "    </tr>\n",
       "    <tr>\n",
       "      <th>1</th>\n",
       "      <td>Adelie Penguin (Pygoscelis adeliae)</td>\n",
       "      <td>Dream</td>\n",
       "      <td>39.8</td>\n",
       "      <td>19.1</td>\n",
       "      <td>184.0</td>\n",
       "      <td>4650.0</td>\n",
       "      <td>MALE</td>\n",
       "    </tr>\n",
       "    <tr>\n",
       "      <th>2</th>\n",
       "      <td>Adelie Penguin (Pygoscelis adeliae)</td>\n",
       "      <td>Dream</td>\n",
       "      <td>40.9</td>\n",
       "      <td>18.9</td>\n",
       "      <td>184.0</td>\n",
       "      <td>3900.0</td>\n",
       "      <td>MALE</td>\n",
       "    </tr>\n",
       "    <tr>\n",
       "      <th>3</th>\n",
       "      <td>Chinstrap penguin (Pygoscelis antarctica)</td>\n",
       "      <td>Dream</td>\n",
       "      <td>46.5</td>\n",
       "      <td>17.9</td>\n",
       "      <td>192.0</td>\n",
       "      <td>3500.0</td>\n",
       "      <td>FEMALE</td>\n",
       "    </tr>\n",
       "    <tr>\n",
       "      <th>4</th>\n",
       "      <td>Adelie Penguin (Pygoscelis adeliae)</td>\n",
       "      <td>Dream</td>\n",
       "      <td>37.3</td>\n",
       "      <td>16.8</td>\n",
       "      <td>192.0</td>\n",
       "      <td>3000.0</td>\n",
       "      <td>FEMALE</td>\n",
       "    </tr>\n",
       "  </tbody>\n",
       "</table>\n",
       "</div>"
      ],
      "text/plain": [
       "                                     species island  culmen_length_mm  \\\n",
       "0        Adelie Penguin (Pygoscelis adeliae)  Dream              36.6   \n",
       "1        Adelie Penguin (Pygoscelis adeliae)  Dream              39.8   \n",
       "2        Adelie Penguin (Pygoscelis adeliae)  Dream              40.9   \n",
       "3  Chinstrap penguin (Pygoscelis antarctica)  Dream              46.5   \n",
       "4        Adelie Penguin (Pygoscelis adeliae)  Dream              37.3   \n",
       "\n",
       "   culmen_depth_mm  flipper_length_mm  body_mass_g     sex  \n",
       "0             18.4              184.0       3475.0  FEMALE  \n",
       "1             19.1              184.0       4650.0    MALE  \n",
       "2             18.9              184.0       3900.0    MALE  \n",
       "3             17.9              192.0       3500.0  FEMALE  \n",
       "4             16.8              192.0       3000.0  FEMALE  "
      ]
     },
     "execution_count": 6,
     "metadata": {},
     "output_type": "execute_result"
    }
   ],
   "source": [
    "%%bigquery\n",
    "SELECT *\n",
    "FROM `bigquery-public-data.ml_datasets.penguins`\n",
    "LIMIT 5"
   ]
  },
  {
   "cell_type": "markdown",
   "id": "ba1a2148-e509-486f-9595-f579adab5b13",
   "metadata": {},
   "source": [
    "---\n",
    "## **Goal: Train, Serve, And Monitor A Model**\n",
    "\n",
    "**Train A Model**\n",
    "\n",
    "In this workflow our goal is to train and operationalize a machine leanring model that can classify unidentified penguins into the correct `species` using only measurements (`culmen_length_mm`, `culmen_depth_mm`, `flipper_length_mm`, `body_mass_g`), location (`island`) and gender (`sex`).  That means serving predictions, monitoring features, and potentially retraining the model.\n",
    "\n",
    "**Operationalize The Model**\n",
    "\n",
    "Taking a trained model to production introduces challenges. The model needs to be regularly evaluated to understand it's performance once put into production. This can be challenging as actual values used to assess the accuracy of predictions may arrive later than the predictions. Continuous monitoring bridges this gap with early signals in two key ways. First, monitoring the distributions of each of the models features for shift (called **skew**) from the training data to the current data. Then, also monitoring for any gradual **drift** in the distribution over time. Setting thresholds and getting alerts for features on each of this distribution changes gives early signals that the model needs to be carefully considered for evaluation and re-training to ensure effectiveness. If the evaluation can be automated then this can even extend to **continuous training**. "
   ]
  },
  {
   "cell_type": "markdown",
   "id": "c06462a5-cec4-40c3-93a8-cb4c7fc03845",
   "metadata": {},
   "source": [
    "---\n",
    "## Data Preparation"
   ]
  },
  {
   "cell_type": "markdown",
   "id": "f1782a42-8fe6-4991-ab64-de67c3033de4",
   "metadata": {
    "tags": []
   },
   "source": [
    "### Understand The Data Source With `ML.DESCRIBE_DATA`\n",
    "\n",
    "Reviewing a few records, like above, gives a good sense of how the data is arranged. Before proceeding with machine learning techniques it is important to understand more about these raw columns.  Are they ready to use a features in a model or is some form of feature engineering needed first?  For this, the distribution of values is an important starting point.  \n",
    "\n",
    "While SQL could be used to look at the distribution, it would be a time consuming process and requires different techniques for different data types like numerical, string, boolean, dates, times, array and struct version of these, and arrays of structs.\n",
    "\n",
    "To make this process fast and simple, the new [`ML.DESCRIBE_DATA`](https://cloud.google.com/bigquery/docs/reference/standard-sql/bigqueryml-syntax-describe-data)\n",
    "\n",
    "function is used to get a single row for each column the describes the data distribution:"
   ]
  },
  {
   "cell_type": "code",
   "execution_count": 7,
   "id": "8a0d999c-b1e1-41e6-98dd-e83db5777c49",
   "metadata": {
    "tags": []
   },
   "outputs": [
    {
     "data": {
      "application/vnd.jupyter.widget-view+json": {
       "model_id": "79b711fcb1c84dafabdced45e984ef0d",
       "version_major": 2,
       "version_minor": 0
      },
      "text/plain": [
       "Query is running:   0%|          |"
      ]
     },
     "metadata": {},
     "output_type": "display_data"
    },
    {
     "data": {
      "application/vnd.jupyter.widget-view+json": {
       "model_id": "0523213f7f8442fe83886aae34da5677",
       "version_major": 2,
       "version_minor": 0
      },
      "text/plain": [
       "Downloading:   0%|          |"
      ]
     },
     "metadata": {},
     "output_type": "display_data"
    },
    {
     "data": {
      "text/html": [
       "<div>\n",
       "<style scoped>\n",
       "    .dataframe tbody tr th:only-of-type {\n",
       "        vertical-align: middle;\n",
       "    }\n",
       "\n",
       "    .dataframe tbody tr th {\n",
       "        vertical-align: top;\n",
       "    }\n",
       "\n",
       "    .dataframe thead th {\n",
       "        text-align: right;\n",
       "    }\n",
       "</style>\n",
       "<table border=\"1\" class=\"dataframe\">\n",
       "  <thead>\n",
       "    <tr style=\"text-align: right;\">\n",
       "      <th></th>\n",
       "      <th>name</th>\n",
       "      <th>num_rows</th>\n",
       "      <th>num_nulls</th>\n",
       "      <th>num_zeros</th>\n",
       "      <th>min</th>\n",
       "      <th>max</th>\n",
       "      <th>mean</th>\n",
       "      <th>stddev</th>\n",
       "      <th>median</th>\n",
       "      <th>quantiles</th>\n",
       "      <th>unique</th>\n",
       "      <th>avg_string_length</th>\n",
       "      <th>num_values</th>\n",
       "      <th>top_values</th>\n",
       "      <th>min_array_length</th>\n",
       "      <th>max_array_length</th>\n",
       "      <th>avg_array_length</th>\n",
       "      <th>total_array_length</th>\n",
       "      <th>array_length_quantiles</th>\n",
       "      <th>dimension</th>\n",
       "    </tr>\n",
       "  </thead>\n",
       "  <tbody>\n",
       "    <tr>\n",
       "      <th>0</th>\n",
       "      <td>body_mass_g</td>\n",
       "      <td>344</td>\n",
       "      <td>2</td>\n",
       "      <td>0</td>\n",
       "      <td>2700</td>\n",
       "      <td>6300</td>\n",
       "      <td>4201.754386</td>\n",
       "      <td>800.781229</td>\n",
       "      <td>4000.0</td>\n",
       "      <td>[2700.0, 4000.0, 6300.0]</td>\n",
       "      <td>&lt;NA&gt;</td>\n",
       "      <td>NaN</td>\n",
       "      <td>342</td>\n",
       "      <td>[]</td>\n",
       "      <td>&lt;NA&gt;</td>\n",
       "      <td>&lt;NA&gt;</td>\n",
       "      <td>NaN</td>\n",
       "      <td>&lt;NA&gt;</td>\n",
       "      <td>[]</td>\n",
       "      <td>&lt;NA&gt;</td>\n",
       "    </tr>\n",
       "    <tr>\n",
       "      <th>1</th>\n",
       "      <td>culmen_depth_mm</td>\n",
       "      <td>344</td>\n",
       "      <td>2</td>\n",
       "      <td>0</td>\n",
       "      <td>13.1</td>\n",
       "      <td>21.5</td>\n",
       "      <td>17.151170</td>\n",
       "      <td>1.971904</td>\n",
       "      <td>17.3</td>\n",
       "      <td>[13.1, 17.3, 21.5]</td>\n",
       "      <td>&lt;NA&gt;</td>\n",
       "      <td>NaN</td>\n",
       "      <td>342</td>\n",
       "      <td>[]</td>\n",
       "      <td>&lt;NA&gt;</td>\n",
       "      <td>&lt;NA&gt;</td>\n",
       "      <td>NaN</td>\n",
       "      <td>&lt;NA&gt;</td>\n",
       "      <td>[]</td>\n",
       "      <td>&lt;NA&gt;</td>\n",
       "    </tr>\n",
       "    <tr>\n",
       "      <th>2</th>\n",
       "      <td>culmen_length_mm</td>\n",
       "      <td>344</td>\n",
       "      <td>2</td>\n",
       "      <td>0</td>\n",
       "      <td>32.1</td>\n",
       "      <td>59.6</td>\n",
       "      <td>43.921930</td>\n",
       "      <td>5.451596</td>\n",
       "      <td>44.1</td>\n",
       "      <td>[32.1, 44.1, 59.6]</td>\n",
       "      <td>&lt;NA&gt;</td>\n",
       "      <td>NaN</td>\n",
       "      <td>342</td>\n",
       "      <td>[]</td>\n",
       "      <td>&lt;NA&gt;</td>\n",
       "      <td>&lt;NA&gt;</td>\n",
       "      <td>NaN</td>\n",
       "      <td>&lt;NA&gt;</td>\n",
       "      <td>[]</td>\n",
       "      <td>&lt;NA&gt;</td>\n",
       "    </tr>\n",
       "    <tr>\n",
       "      <th>3</th>\n",
       "      <td>flipper_length_mm</td>\n",
       "      <td>344</td>\n",
       "      <td>2</td>\n",
       "      <td>0</td>\n",
       "      <td>172</td>\n",
       "      <td>231</td>\n",
       "      <td>200.915205</td>\n",
       "      <td>14.041141</td>\n",
       "      <td>197.0</td>\n",
       "      <td>[172.0, 197.0, 231.0]</td>\n",
       "      <td>&lt;NA&gt;</td>\n",
       "      <td>NaN</td>\n",
       "      <td>342</td>\n",
       "      <td>[]</td>\n",
       "      <td>&lt;NA&gt;</td>\n",
       "      <td>&lt;NA&gt;</td>\n",
       "      <td>NaN</td>\n",
       "      <td>&lt;NA&gt;</td>\n",
       "      <td>[]</td>\n",
       "      <td>&lt;NA&gt;</td>\n",
       "    </tr>\n",
       "    <tr>\n",
       "      <th>4</th>\n",
       "      <td>island</td>\n",
       "      <td>344</td>\n",
       "      <td>0</td>\n",
       "      <td>&lt;NA&gt;</td>\n",
       "      <td>Biscoe</td>\n",
       "      <td>Torgersen</td>\n",
       "      <td>NaN</td>\n",
       "      <td>NaN</td>\n",
       "      <td>NaN</td>\n",
       "      <td>[]</td>\n",
       "      <td>3</td>\n",
       "      <td>6.093023</td>\n",
       "      <td>344</td>\n",
       "      <td>[{'value': 'Biscoe', 'count': 168}]</td>\n",
       "      <td>&lt;NA&gt;</td>\n",
       "      <td>&lt;NA&gt;</td>\n",
       "      <td>NaN</td>\n",
       "      <td>&lt;NA&gt;</td>\n",
       "      <td>[]</td>\n",
       "      <td>&lt;NA&gt;</td>\n",
       "    </tr>\n",
       "    <tr>\n",
       "      <th>5</th>\n",
       "      <td>sex</td>\n",
       "      <td>344</td>\n",
       "      <td>10</td>\n",
       "      <td>&lt;NA&gt;</td>\n",
       "      <td>.</td>\n",
       "      <td>MALE</td>\n",
       "      <td>NaN</td>\n",
       "      <td>NaN</td>\n",
       "      <td>NaN</td>\n",
       "      <td>[]</td>\n",
       "      <td>3</td>\n",
       "      <td>4.979042</td>\n",
       "      <td>334</td>\n",
       "      <td>[{'value': 'MALE', 'count': 168}]</td>\n",
       "      <td>&lt;NA&gt;</td>\n",
       "      <td>&lt;NA&gt;</td>\n",
       "      <td>NaN</td>\n",
       "      <td>&lt;NA&gt;</td>\n",
       "      <td>[]</td>\n",
       "      <td>&lt;NA&gt;</td>\n",
       "    </tr>\n",
       "    <tr>\n",
       "      <th>6</th>\n",
       "      <td>species</td>\n",
       "      <td>344</td>\n",
       "      <td>0</td>\n",
       "      <td>&lt;NA&gt;</td>\n",
       "      <td>Adelie Penguin (Pygoscelis adeliae)</td>\n",
       "      <td>Gentoo penguin (Pygoscelis papua)</td>\n",
       "      <td>NaN</td>\n",
       "      <td>NaN</td>\n",
       "      <td>NaN</td>\n",
       "      <td>[]</td>\n",
       "      <td>3</td>\n",
       "      <td>35.465116</td>\n",
       "      <td>344</td>\n",
       "      <td>[{'value': 'Adelie Penguin (Pygoscelis adeliae...</td>\n",
       "      <td>&lt;NA&gt;</td>\n",
       "      <td>&lt;NA&gt;</td>\n",
       "      <td>NaN</td>\n",
       "      <td>&lt;NA&gt;</td>\n",
       "      <td>[]</td>\n",
       "      <td>&lt;NA&gt;</td>\n",
       "    </tr>\n",
       "  </tbody>\n",
       "</table>\n",
       "</div>"
      ],
      "text/plain": [
       "                name  num_rows  num_nulls  num_zeros  \\\n",
       "0        body_mass_g       344          2          0   \n",
       "1    culmen_depth_mm       344          2          0   \n",
       "2   culmen_length_mm       344          2          0   \n",
       "3  flipper_length_mm       344          2          0   \n",
       "4             island       344          0       <NA>   \n",
       "5                sex       344         10       <NA>   \n",
       "6            species       344          0       <NA>   \n",
       "\n",
       "                                   min                                max  \\\n",
       "0                                 2700                               6300   \n",
       "1                                 13.1                               21.5   \n",
       "2                                 32.1                               59.6   \n",
       "3                                  172                                231   \n",
       "4                               Biscoe                          Torgersen   \n",
       "5                                    .                               MALE   \n",
       "6  Adelie Penguin (Pygoscelis adeliae)  Gentoo penguin (Pygoscelis papua)   \n",
       "\n",
       "          mean      stddev  median                 quantiles  unique  \\\n",
       "0  4201.754386  800.781229  4000.0  [2700.0, 4000.0, 6300.0]    <NA>   \n",
       "1    17.151170    1.971904    17.3        [13.1, 17.3, 21.5]    <NA>   \n",
       "2    43.921930    5.451596    44.1        [32.1, 44.1, 59.6]    <NA>   \n",
       "3   200.915205   14.041141   197.0     [172.0, 197.0, 231.0]    <NA>   \n",
       "4          NaN         NaN     NaN                        []       3   \n",
       "5          NaN         NaN     NaN                        []       3   \n",
       "6          NaN         NaN     NaN                        []       3   \n",
       "\n",
       "   avg_string_length  num_values  \\\n",
       "0                NaN         342   \n",
       "1                NaN         342   \n",
       "2                NaN         342   \n",
       "3                NaN         342   \n",
       "4           6.093023         344   \n",
       "5           4.979042         334   \n",
       "6          35.465116         344   \n",
       "\n",
       "                                          top_values  min_array_length  \\\n",
       "0                                                 []              <NA>   \n",
       "1                                                 []              <NA>   \n",
       "2                                                 []              <NA>   \n",
       "3                                                 []              <NA>   \n",
       "4                [{'value': 'Biscoe', 'count': 168}]              <NA>   \n",
       "5                  [{'value': 'MALE', 'count': 168}]              <NA>   \n",
       "6  [{'value': 'Adelie Penguin (Pygoscelis adeliae...              <NA>   \n",
       "\n",
       "   max_array_length  avg_array_length  total_array_length  \\\n",
       "0              <NA>               NaN                <NA>   \n",
       "1              <NA>               NaN                <NA>   \n",
       "2              <NA>               NaN                <NA>   \n",
       "3              <NA>               NaN                <NA>   \n",
       "4              <NA>               NaN                <NA>   \n",
       "5              <NA>               NaN                <NA>   \n",
       "6              <NA>               NaN                <NA>   \n",
       "\n",
       "  array_length_quantiles  dimension  \n",
       "0                     []       <NA>  \n",
       "1                     []       <NA>  \n",
       "2                     []       <NA>  \n",
       "3                     []       <NA>  \n",
       "4                     []       <NA>  \n",
       "5                     []       <NA>  \n",
       "6                     []       <NA>  "
      ]
     },
     "execution_count": 7,
     "metadata": {},
     "output_type": "execute_result"
    }
   ],
   "source": [
    "%%bigquery\n",
    "SELECT *\n",
    "FROM ML.DESCRIBE_DATA(\n",
    "  TABLE `bigquery-public-data.ml_datasets.penguins`\n",
    ")"
   ]
  },
  {
   "cell_type": "markdown",
   "id": "8f58175c-cf15-42eb-966b-00967e8e6338",
   "metadata": {},
   "source": [
    "Some observations:\n",
    "- All columns have `num_rows` and `num_nulls`\n",
    "- Numerical columns have `min`, `max`, `stddev`, `median`, and `quantiles` showing the distribution of the data in the column\n",
    "- Categorical (string) columns have `min`, `max` values representing the class levels and a `unique` column show how many class levels\n",
    "\n",
    "Data quality observation:\n",
    "- The column `sex` has both missing values (10 indicated in `num_nulls`) as well as a `min` values of `.`.  This appears to be a data quality issue that needs fixing."
   ]
  },
  {
   "cell_type": "markdown",
   "id": "0b89a2de-1efb-42a5-86ba-674acc31c37d",
   "metadata": {
    "tags": []
   },
   "source": [
    "### Create A BigQuery Dataset\n",
    "\n",
    "Create a new [BigQuery Dataset](https://cloud.google.com/bigquery/docs/datasets) as a working location for this workflow:"
   ]
  },
  {
   "cell_type": "code",
   "execution_count": 8,
   "id": "ef30ccf6-88af-4f55-9b59-e5a859f8f571",
   "metadata": {
    "tags": []
   },
   "outputs": [
    {
     "data": {
      "application/vnd.jupyter.widget-view+json": {
       "model_id": "331c53f5119d444d9709bb18648b283e",
       "version_major": 2,
       "version_minor": 0
      },
      "text/plain": [
       "Query is running:   0%|          |"
      ]
     },
     "metadata": {},
     "output_type": "display_data"
    },
    {
     "data": {
      "text/html": [
       "<div>\n",
       "<style scoped>\n",
       "    .dataframe tbody tr th:only-of-type {\n",
       "        vertical-align: middle;\n",
       "    }\n",
       "\n",
       "    .dataframe tbody tr th {\n",
       "        vertical-align: top;\n",
       "    }\n",
       "\n",
       "    .dataframe thead th {\n",
       "        text-align: right;\n",
       "    }\n",
       "</style>\n",
       "<table border=\"1\" class=\"dataframe\">\n",
       "  <thead>\n",
       "    <tr style=\"text-align: right;\">\n",
       "      <th></th>\n",
       "    </tr>\n",
       "  </thead>\n",
       "  <tbody>\n",
       "  </tbody>\n",
       "</table>\n",
       "</div>"
      ],
      "text/plain": [
       "Empty DataFrame\n",
       "Columns: []\n",
       "Index: []"
      ]
     },
     "execution_count": 8,
     "metadata": {},
     "output_type": "execute_result"
    }
   ],
   "source": [
    "%%bigquery\n",
    "CREATE SCHEMA IF NOT EXISTS `statmike-mlops-349915.bqml_model_monitoring`\n",
    "    OPTIONS(\n",
    "        location = 'US'\n",
    "    )"
   ]
  },
  {
   "cell_type": "markdown",
   "id": "af666b3d-54cd-442f-a8ab-d11af61fd2d3",
   "metadata": {},
   "source": [
    "### Prepare The Source Data\n",
    "\n",
    "Make a copy of the table source in the new BigQuery dataset with fixes applied to the data quality issue identified for the `sex` column with values of `.`.\n",
    "\n",
    "> Note: A copy is being made in this case because the source project is `bigquery-public` which is not editable."
   ]
  },
  {
   "cell_type": "code",
   "execution_count": 9,
   "id": "0f0ba60c-d0a1-4abb-947c-9049f21a23d0",
   "metadata": {
    "tags": []
   },
   "outputs": [
    {
     "data": {
      "application/vnd.jupyter.widget-view+json": {
       "model_id": "88cb9cd1581442b789c7bcbee459b1c3",
       "version_major": 2,
       "version_minor": 0
      },
      "text/plain": [
       "Query is running:   0%|          |"
      ]
     },
     "metadata": {},
     "output_type": "display_data"
    },
    {
     "data": {
      "text/html": [
       "<div>\n",
       "<style scoped>\n",
       "    .dataframe tbody tr th:only-of-type {\n",
       "        vertical-align: middle;\n",
       "    }\n",
       "\n",
       "    .dataframe tbody tr th {\n",
       "        vertical-align: top;\n",
       "    }\n",
       "\n",
       "    .dataframe thead th {\n",
       "        text-align: right;\n",
       "    }\n",
       "</style>\n",
       "<table border=\"1\" class=\"dataframe\">\n",
       "  <thead>\n",
       "    <tr style=\"text-align: right;\">\n",
       "      <th></th>\n",
       "    </tr>\n",
       "  </thead>\n",
       "  <tbody>\n",
       "  </tbody>\n",
       "</table>\n",
       "</div>"
      ],
      "text/plain": [
       "Empty DataFrame\n",
       "Columns: []\n",
       "Index: []"
      ]
     },
     "execution_count": 9,
     "metadata": {},
     "output_type": "execute_result"
    }
   ],
   "source": [
    "%%bigquery\n",
    "CREATE OR REPLACE TABLE `statmike-mlops-349915.bqml_model_monitoring.source` AS\n",
    "    SELECT * EXCEPT(sex),\n",
    "        CASE WHEN sex = '.' THEN NULL ELSE sex END AS sex\n",
    "    FROM `bigquery-public-data.ml_datasets.penguins`"
   ]
  },
  {
   "cell_type": "markdown",
   "id": "a79b2d03-a36e-44ab-ac5a-acb81c709319",
   "metadata": {},
   "source": [
    "### Split The Data\n",
    "\n",
    "Depending on the ML technique, it may be desired to split the data into partitions for training, evaluation, and testing (in this case monitoring examples). \n",
    "\n",
    "The following cell creates a version with a new column column named `splits` with values [`TRAIN`, `EVAL`, `TEST`].  \n",
    "\n",
    "> **NOTE:** The [tutorial](link here) includes an expanded example here that also create evaluation split and does stratified balancing over the values of `species` and `island` to preserve any imbalance across the groups. "
   ]
  },
  {
   "cell_type": "code",
   "execution_count": 64,
   "id": "f27b7c48-919f-462b-9c5a-09be50b838fc",
   "metadata": {
    "tags": []
   },
   "outputs": [
    {
     "data": {
      "application/vnd.jupyter.widget-view+json": {
       "model_id": "af6efe8ad6634cec9d1cdba35ef11449",
       "version_major": 2,
       "version_minor": 0
      },
      "text/plain": [
       "Query is running:   0%|          |"
      ]
     },
     "metadata": {},
     "output_type": "display_data"
    },
    {
     "data": {
      "text/html": [
       "<div>\n",
       "<style scoped>\n",
       "    .dataframe tbody tr th:only-of-type {\n",
       "        vertical-align: middle;\n",
       "    }\n",
       "\n",
       "    .dataframe tbody tr th {\n",
       "        vertical-align: top;\n",
       "    }\n",
       "\n",
       "    .dataframe thead th {\n",
       "        text-align: right;\n",
       "    }\n",
       "</style>\n",
       "<table border=\"1\" class=\"dataframe\">\n",
       "  <thead>\n",
       "    <tr style=\"text-align: right;\">\n",
       "      <th></th>\n",
       "    </tr>\n",
       "  </thead>\n",
       "  <tbody>\n",
       "  </tbody>\n",
       "</table>\n",
       "</div>"
      ],
      "text/plain": [
       "Empty DataFrame\n",
       "Columns: []\n",
       "Index: []"
      ]
     },
     "execution_count": 64,
     "metadata": {},
     "output_type": "execute_result"
    }
   ],
   "source": [
    "%%bigquery\n",
    "CREATE OR REPLACE TABLE `statmike-mlops-349915.bqml_model_monitoring.source_split_intro` AS\n",
    "    SELECT\n",
    "        *,\n",
    "        CASE\n",
    "            WHEN RAND() <= 0.7 THEN 'TRAIN'\n",
    "            WHEN RAND() <= 0.5 THEN 'EVAL'\n",
    "            ELSE 'TEST'\n",
    "        END AS splits\n",
    "    FROM `statmike-mlops-349915.bqml_model_monitoring.source`"
   ]
  },
  {
   "cell_type": "markdown",
   "id": "c1511a73-6571-412c-94a4-0db181346e82",
   "metadata": {},
   "source": [
    "Review the data by `splits`:"
   ]
  },
  {
   "cell_type": "code",
   "execution_count": 65,
   "id": "25dd68d5-c0a5-4ae5-943b-5d71903754a5",
   "metadata": {
    "tags": []
   },
   "outputs": [
    {
     "data": {
      "application/vnd.jupyter.widget-view+json": {
       "model_id": "8887c409ee3c4945991d59789acb924e",
       "version_major": 2,
       "version_minor": 0
      },
      "text/plain": [
       "Query is running:   0%|          |"
      ]
     },
     "metadata": {},
     "output_type": "display_data"
    },
    {
     "data": {
      "application/vnd.jupyter.widget-view+json": {
       "model_id": "e8932b8739b94e57bc20fc3cf2751f78",
       "version_major": 2,
       "version_minor": 0
      },
      "text/plain": [
       "Downloading:   0%|          |"
      ]
     },
     "metadata": {},
     "output_type": "display_data"
    },
    {
     "data": {
      "text/html": [
       "<div>\n",
       "<style scoped>\n",
       "    .dataframe tbody tr th:only-of-type {\n",
       "        vertical-align: middle;\n",
       "    }\n",
       "\n",
       "    .dataframe tbody tr th {\n",
       "        vertical-align: top;\n",
       "    }\n",
       "\n",
       "    .dataframe thead th {\n",
       "        text-align: right;\n",
       "    }\n",
       "</style>\n",
       "<table border=\"1\" class=\"dataframe\">\n",
       "  <thead>\n",
       "    <tr style=\"text-align: right;\">\n",
       "      <th></th>\n",
       "      <th>count</th>\n",
       "      <th>TRAIN_PCT</th>\n",
       "      <th>EVAL_PCT</th>\n",
       "      <th>TEST_PCT</th>\n",
       "    </tr>\n",
       "  </thead>\n",
       "  <tbody>\n",
       "    <tr>\n",
       "      <th>0</th>\n",
       "      <td>344</td>\n",
       "      <td>74.709302</td>\n",
       "      <td>13.081395</td>\n",
       "      <td>12.209302</td>\n",
       "    </tr>\n",
       "  </tbody>\n",
       "</table>\n",
       "</div>"
      ],
      "text/plain": [
       "   count  TRAIN_PCT   EVAL_PCT   TEST_PCT\n",
       "0    344  74.709302  13.081395  12.209302"
      ]
     },
     "execution_count": 65,
     "metadata": {},
     "output_type": "execute_result"
    }
   ],
   "source": [
    "%%bigquery\n",
    "SELECT\n",
    "    COUNT(*) as count,\n",
    "    100 * COUNTIF(splits = 'TRAIN')/COUNT(*) AS TRAIN_PCT,\n",
    "    100 * COUNTIF(splits = 'EVAL')/COUNT(*) AS EVAL_PCT,\n",
    "    100 * COUNTIF(splits = 'TEST')/COUNT(*) AS TEST_PCT\n",
    "FROM `statmike-mlops-349915.bqml_model_monitoring.source_split_intro`"
   ]
  },
  {
   "cell_type": "markdown",
   "id": "8e8e1b0c-8be6-450b-b700-44a51956e803",
   "metadata": {},
   "source": [
    "### Review the Training Split With: `ML.DESCRIBE_DATA`\n",
    "\n",
    "Use [`ML.DESCRIBE_DATA`](https://cloud.google.com/bigquery/docs/reference/standard-sql/bigqueryml-syntax-describe-data) to first review the training split of the source data.  This time, some of the additional parameters of the function are useful:\n",
    "- `top_k`: get the top 3 most frequent categories for string columns (default = 1)\n",
    "- `num_quantiles`: get 4 quantiles for numerical columns (default = 2)"
   ]
  },
  {
   "cell_type": "code",
   "execution_count": 66,
   "id": "5e338fde-6685-4816-9ba0-34d06b92691d",
   "metadata": {
    "tags": []
   },
   "outputs": [
    {
     "data": {
      "application/vnd.jupyter.widget-view+json": {
       "model_id": "17fd1fd3d98b4d00b4bf78c6332559cc",
       "version_major": 2,
       "version_minor": 0
      },
      "text/plain": [
       "Query is running:   0%|          |"
      ]
     },
     "metadata": {},
     "output_type": "display_data"
    },
    {
     "data": {
      "application/vnd.jupyter.widget-view+json": {
       "model_id": "3fb883a637924895a43f299c919ea7df",
       "version_major": 2,
       "version_minor": 0
      },
      "text/plain": [
       "Downloading:   0%|          |"
      ]
     },
     "metadata": {},
     "output_type": "display_data"
    },
    {
     "data": {
      "text/html": [
       "<div>\n",
       "<style scoped>\n",
       "    .dataframe tbody tr th:only-of-type {\n",
       "        vertical-align: middle;\n",
       "    }\n",
       "\n",
       "    .dataframe tbody tr th {\n",
       "        vertical-align: top;\n",
       "    }\n",
       "\n",
       "    .dataframe thead th {\n",
       "        text-align: right;\n",
       "    }\n",
       "</style>\n",
       "<table border=\"1\" class=\"dataframe\">\n",
       "  <thead>\n",
       "    <tr style=\"text-align: right;\">\n",
       "      <th></th>\n",
       "      <th>name</th>\n",
       "      <th>num_rows</th>\n",
       "      <th>num_nulls</th>\n",
       "      <th>num_zeros</th>\n",
       "      <th>min</th>\n",
       "      <th>max</th>\n",
       "      <th>mean</th>\n",
       "      <th>stddev</th>\n",
       "      <th>median</th>\n",
       "      <th>quantiles</th>\n",
       "      <th>unique</th>\n",
       "      <th>avg_string_length</th>\n",
       "      <th>num_values</th>\n",
       "      <th>top_values</th>\n",
       "      <th>min_array_length</th>\n",
       "      <th>max_array_length</th>\n",
       "      <th>avg_array_length</th>\n",
       "      <th>total_array_length</th>\n",
       "      <th>array_length_quantiles</th>\n",
       "      <th>dimension</th>\n",
       "    </tr>\n",
       "  </thead>\n",
       "  <tbody>\n",
       "    <tr>\n",
       "      <th>0</th>\n",
       "      <td>body_mass_g</td>\n",
       "      <td>257</td>\n",
       "      <td>1</td>\n",
       "      <td>0</td>\n",
       "      <td>2700</td>\n",
       "      <td>6050</td>\n",
       "      <td>4220.898437</td>\n",
       "      <td>808.314202</td>\n",
       "      <td>4050.0</td>\n",
       "      <td>[2700.0, 3550.0, 4050.0, 4800.0, 6050.0]</td>\n",
       "      <td>&lt;NA&gt;</td>\n",
       "      <td>NaN</td>\n",
       "      <td>256</td>\n",
       "      <td>[]</td>\n",
       "      <td>&lt;NA&gt;</td>\n",
       "      <td>&lt;NA&gt;</td>\n",
       "      <td>NaN</td>\n",
       "      <td>&lt;NA&gt;</td>\n",
       "      <td>[]</td>\n",
       "      <td>&lt;NA&gt;</td>\n",
       "    </tr>\n",
       "    <tr>\n",
       "      <th>1</th>\n",
       "      <td>culmen_depth_mm</td>\n",
       "      <td>257</td>\n",
       "      <td>1</td>\n",
       "      <td>0</td>\n",
       "      <td>13.1</td>\n",
       "      <td>21.5</td>\n",
       "      <td>17.057422</td>\n",
       "      <td>1.969857</td>\n",
       "      <td>17.2</td>\n",
       "      <td>[13.1, 15.4, 17.2, 18.6, 21.5]</td>\n",
       "      <td>&lt;NA&gt;</td>\n",
       "      <td>NaN</td>\n",
       "      <td>256</td>\n",
       "      <td>[]</td>\n",
       "      <td>&lt;NA&gt;</td>\n",
       "      <td>&lt;NA&gt;</td>\n",
       "      <td>NaN</td>\n",
       "      <td>&lt;NA&gt;</td>\n",
       "      <td>[]</td>\n",
       "      <td>&lt;NA&gt;</td>\n",
       "    </tr>\n",
       "    <tr>\n",
       "      <th>2</th>\n",
       "      <td>culmen_length_mm</td>\n",
       "      <td>257</td>\n",
       "      <td>1</td>\n",
       "      <td>0</td>\n",
       "      <td>32.1</td>\n",
       "      <td>59.6</td>\n",
       "      <td>43.801953</td>\n",
       "      <td>5.414278</td>\n",
       "      <td>43.8</td>\n",
       "      <td>[32.1, 39.1, 43.8, 48.2, 59.6]</td>\n",
       "      <td>&lt;NA&gt;</td>\n",
       "      <td>NaN</td>\n",
       "      <td>256</td>\n",
       "      <td>[]</td>\n",
       "      <td>&lt;NA&gt;</td>\n",
       "      <td>&lt;NA&gt;</td>\n",
       "      <td>NaN</td>\n",
       "      <td>&lt;NA&gt;</td>\n",
       "      <td>[]</td>\n",
       "      <td>&lt;NA&gt;</td>\n",
       "    </tr>\n",
       "    <tr>\n",
       "      <th>3</th>\n",
       "      <td>flipper_length_mm</td>\n",
       "      <td>257</td>\n",
       "      <td>1</td>\n",
       "      <td>0</td>\n",
       "      <td>172</td>\n",
       "      <td>231</td>\n",
       "      <td>201.378906</td>\n",
       "      <td>14.213804</td>\n",
       "      <td>197.0</td>\n",
       "      <td>[172.0, 190.0, 197.0, 215.0, 231.0]</td>\n",
       "      <td>&lt;NA&gt;</td>\n",
       "      <td>NaN</td>\n",
       "      <td>256</td>\n",
       "      <td>[]</td>\n",
       "      <td>&lt;NA&gt;</td>\n",
       "      <td>&lt;NA&gt;</td>\n",
       "      <td>NaN</td>\n",
       "      <td>&lt;NA&gt;</td>\n",
       "      <td>[]</td>\n",
       "      <td>&lt;NA&gt;</td>\n",
       "    </tr>\n",
       "    <tr>\n",
       "      <th>4</th>\n",
       "      <td>island</td>\n",
       "      <td>257</td>\n",
       "      <td>0</td>\n",
       "      <td>&lt;NA&gt;</td>\n",
       "      <td>Biscoe</td>\n",
       "      <td>Torgersen</td>\n",
       "      <td>NaN</td>\n",
       "      <td>NaN</td>\n",
       "      <td>NaN</td>\n",
       "      <td>[]</td>\n",
       "      <td>3</td>\n",
       "      <td>6.085603</td>\n",
       "      <td>257</td>\n",
       "      <td>[{'value': 'Biscoe', 'count': 131}, {'value': 'Dream', 'count': 89}, {'value': 'Torgersen', 'count': 37}]</td>\n",
       "      <td>&lt;NA&gt;</td>\n",
       "      <td>&lt;NA&gt;</td>\n",
       "      <td>NaN</td>\n",
       "      <td>&lt;NA&gt;</td>\n",
       "      <td>[]</td>\n",
       "      <td>&lt;NA&gt;</td>\n",
       "    </tr>\n",
       "    <tr>\n",
       "      <th>5</th>\n",
       "      <td>sex</td>\n",
       "      <td>257</td>\n",
       "      <td>7</td>\n",
       "      <td>&lt;NA&gt;</td>\n",
       "      <td>FEMALE</td>\n",
       "      <td>MALE</td>\n",
       "      <td>NaN</td>\n",
       "      <td>NaN</td>\n",
       "      <td>NaN</td>\n",
       "      <td>[]</td>\n",
       "      <td>2</td>\n",
       "      <td>5.008000</td>\n",
       "      <td>250</td>\n",
       "      <td>[{'value': 'FEMALE', 'count': 126}, {'value': 'MALE', 'count': 124}, {'value': None, 'count': 7}]</td>\n",
       "      <td>&lt;NA&gt;</td>\n",
       "      <td>&lt;NA&gt;</td>\n",
       "      <td>NaN</td>\n",
       "      <td>&lt;NA&gt;</td>\n",
       "      <td>[]</td>\n",
       "      <td>&lt;NA&gt;</td>\n",
       "    </tr>\n",
       "    <tr>\n",
       "      <th>6</th>\n",
       "      <td>species</td>\n",
       "      <td>257</td>\n",
       "      <td>0</td>\n",
       "      <td>&lt;NA&gt;</td>\n",
       "      <td>Adelie Penguin (Pygoscelis adeliae)</td>\n",
       "      <td>Gentoo penguin (Pygoscelis papua)</td>\n",
       "      <td>NaN</td>\n",
       "      <td>NaN</td>\n",
       "      <td>NaN</td>\n",
       "      <td>[]</td>\n",
       "      <td>3</td>\n",
       "      <td>35.287938</td>\n",
       "      <td>257</td>\n",
       "      <td>[{'value': 'Adelie Penguin (Pygoscelis adeliae)', 'count': 114}, {'value': 'Gentoo penguin (Pygoscelis papua)', 'count': 98}, {'value': 'Chinstrap penguin (Pygoscelis antarctica)', 'count': 45}]</td>\n",
       "      <td>&lt;NA&gt;</td>\n",
       "      <td>&lt;NA&gt;</td>\n",
       "      <td>NaN</td>\n",
       "      <td>&lt;NA&gt;</td>\n",
       "      <td>[]</td>\n",
       "      <td>&lt;NA&gt;</td>\n",
       "    </tr>\n",
       "  </tbody>\n",
       "</table>\n",
       "</div>"
      ],
      "text/plain": [
       "                name  num_rows  num_nulls  num_zeros  \\\n",
       "0        body_mass_g       257          1          0   \n",
       "1    culmen_depth_mm       257          1          0   \n",
       "2   culmen_length_mm       257          1          0   \n",
       "3  flipper_length_mm       257          1          0   \n",
       "4             island       257          0       <NA>   \n",
       "5                sex       257          7       <NA>   \n",
       "6            species       257          0       <NA>   \n",
       "\n",
       "                                   min                                max  \\\n",
       "0                                 2700                               6050   \n",
       "1                                 13.1                               21.5   \n",
       "2                                 32.1                               59.6   \n",
       "3                                  172                                231   \n",
       "4                               Biscoe                          Torgersen   \n",
       "5                               FEMALE                               MALE   \n",
       "6  Adelie Penguin (Pygoscelis adeliae)  Gentoo penguin (Pygoscelis papua)   \n",
       "\n",
       "          mean      stddev  median                                 quantiles  \\\n",
       "0  4220.898437  808.314202  4050.0  [2700.0, 3550.0, 4050.0, 4800.0, 6050.0]   \n",
       "1    17.057422    1.969857    17.2            [13.1, 15.4, 17.2, 18.6, 21.5]   \n",
       "2    43.801953    5.414278    43.8            [32.1, 39.1, 43.8, 48.2, 59.6]   \n",
       "3   201.378906   14.213804   197.0       [172.0, 190.0, 197.0, 215.0, 231.0]   \n",
       "4          NaN         NaN     NaN                                        []   \n",
       "5          NaN         NaN     NaN                                        []   \n",
       "6          NaN         NaN     NaN                                        []   \n",
       "\n",
       "   unique  avg_string_length  num_values  \\\n",
       "0    <NA>                NaN         256   \n",
       "1    <NA>                NaN         256   \n",
       "2    <NA>                NaN         256   \n",
       "3    <NA>                NaN         256   \n",
       "4       3           6.085603         257   \n",
       "5       2           5.008000         250   \n",
       "6       3          35.287938         257   \n",
       "\n",
       "                                                                                                                                                                                           top_values  \\\n",
       "0                                                                                                                                                                                                  []   \n",
       "1                                                                                                                                                                                                  []   \n",
       "2                                                                                                                                                                                                  []   \n",
       "3                                                                                                                                                                                                  []   \n",
       "4                                                                                           [{'value': 'Biscoe', 'count': 131}, {'value': 'Dream', 'count': 89}, {'value': 'Torgersen', 'count': 37}]   \n",
       "5                                                                                                   [{'value': 'FEMALE', 'count': 126}, {'value': 'MALE', 'count': 124}, {'value': None, 'count': 7}]   \n",
       "6  [{'value': 'Adelie Penguin (Pygoscelis adeliae)', 'count': 114}, {'value': 'Gentoo penguin (Pygoscelis papua)', 'count': 98}, {'value': 'Chinstrap penguin (Pygoscelis antarctica)', 'count': 45}]   \n",
       "\n",
       "   min_array_length  max_array_length  avg_array_length  total_array_length  \\\n",
       "0              <NA>              <NA>               NaN                <NA>   \n",
       "1              <NA>              <NA>               NaN                <NA>   \n",
       "2              <NA>              <NA>               NaN                <NA>   \n",
       "3              <NA>              <NA>               NaN                <NA>   \n",
       "4              <NA>              <NA>               NaN                <NA>   \n",
       "5              <NA>              <NA>               NaN                <NA>   \n",
       "6              <NA>              <NA>               NaN                <NA>   \n",
       "\n",
       "  array_length_quantiles  dimension  \n",
       "0                     []       <NA>  \n",
       "1                     []       <NA>  \n",
       "2                     []       <NA>  \n",
       "3                     []       <NA>  \n",
       "4                     []       <NA>  \n",
       "5                     []       <NA>  \n",
       "6                     []       <NA>  "
      ]
     },
     "execution_count": 66,
     "metadata": {},
     "output_type": "execute_result"
    }
   ],
   "source": [
    "%%bigquery\n",
    "SELECT *\n",
    "FROM ML.DESCRIBE_DATA(\n",
    "    (\n",
    "        SELECT * EXCEPT(splits)\n",
    "        FROM `statmike-mlops-349915.bqml_model_monitoring.source_split_intro`\n",
    "        WHERE splits = 'TRAIN'\n",
    "    ),\n",
    "    STRUCT(3 AS top_k, 4 AS num_quantiles)\n",
    ")"
   ]
  },
  {
   "cell_type": "markdown",
   "id": "a8f1fcff-412c-4a94-8b41-6a417bd37137",
   "metadata": {},
   "source": [
    "---\n",
    "## Model Training"
   ]
  },
  {
   "cell_type": "markdown",
   "id": "7b8952bc-ac6a-4ee7-91ee-8ed580f98321",
   "metadata": {
    "tags": []
   },
   "source": [
    "### Create/Train A Model\n",
    "\n",
    "Create a model trained to classify `species` for the traning records.  Here, directly in BigQuery, the [`CREATE MODEL` statement for generalized linear models models](https://cloud.google.com/bigquery/docs/reference/standard-sql/bigqueryml-syntax-create-glm) is used.  This uses the `TRANSFORM` clause within the model to embed user specified transfomations within the model for use during serving and model monitoring which will both be show later in this introduction.\n",
    "\n",
    "\n",
    "> **Note:** The [tutorial](link here) includes training a deep neural network (DNN).\n",
    "\n",
    "From reviewing the training data above, the following transformations will be tried:\n",
    "- Apply [`ML.ROBUST_SCALER`](https://cloud.google.com/bigquery/docs/reference/standard-sql/bigqueryml-syntax-robust-scaler) to `body_mass_g`\n",
    "- Apply [`ML.STANDARD_SCALER`](https://cloud.google.com/bigquery/docs/reference/standard-sql/bigqueryml-syntax-standard-scaler) to `culmen_depth_mm` and `culmen_length_mm`\n",
    "- Apply [`ML.QUANTILE_BUCKATIZE`](https://cloud.google.com/bigquery/docs/reference/standard-sql/bigqueryml-syntax-quantile-bucketize) to `flipper_length_mm`\n",
    "- Apply [`ML.IMPUTER`](https://cloud.google.com/bigquery/docs/reference/standard-sql/bigqueryml-syntax-imputer) to `island`, and `sex`"
   ]
  },
  {
   "cell_type": "code",
   "execution_count": 67,
   "id": "c7d4fa03-5b61-4269-8b55-30097137bb99",
   "metadata": {
    "tags": []
   },
   "outputs": [
    {
     "data": {
      "application/vnd.jupyter.widget-view+json": {
       "model_id": "c4ec72cd01164f01a3bc9fe5c7ae53d1",
       "version_major": 2,
       "version_minor": 0
      },
      "text/plain": [
       "Query is running:   0%|          |"
      ]
     },
     "metadata": {},
     "output_type": "display_data"
    },
    {
     "data": {
      "text/html": [
       "<div>\n",
       "<style scoped>\n",
       "    .dataframe tbody tr th:only-of-type {\n",
       "        vertical-align: middle;\n",
       "    }\n",
       "\n",
       "    .dataframe tbody tr th {\n",
       "        vertical-align: top;\n",
       "    }\n",
       "\n",
       "    .dataframe thead th {\n",
       "        text-align: right;\n",
       "    }\n",
       "</style>\n",
       "<table border=\"1\" class=\"dataframe\">\n",
       "  <thead>\n",
       "    <tr style=\"text-align: right;\">\n",
       "      <th></th>\n",
       "    </tr>\n",
       "  </thead>\n",
       "  <tbody>\n",
       "  </tbody>\n",
       "</table>\n",
       "</div>"
      ],
      "text/plain": [
       "Empty DataFrame\n",
       "Columns: []\n",
       "Index: []"
      ]
     },
     "execution_count": 67,
     "metadata": {},
     "output_type": "execute_result"
    }
   ],
   "source": [
    "%%bigquery\n",
    "CREATE OR REPLACE MODEL `statmike-mlops-349915.bqml_model_monitoring.classify_species_logistic`\n",
    "    TRANSFORM(\n",
    "        ML.ROBUST_SCALER(body_mass_g) OVER() AS body_mass_g,\n",
    "        ML.STANDARD_SCALER(culmen_length_mm) OVER() AS culmen_length_mm,\n",
    "        ML.STANDARD_SCALER(culmen_depth_mm) OVER() AS culmen_depth_mm,\n",
    "        ML.QUANTILE_BUCKETIZE(flipper_length_mm, 3) OVER() AS flipper_length_mm,\n",
    "        ML.IMPUTER(sex, 'most_frequent') OVER() AS sex,\n",
    "        ML.IMPUTER(island, 'most_frequent') OVER() AS island,\n",
    "        species, split\n",
    "    )\n",
    "    OPTIONS(\n",
    "        MODEL_TYPE = 'LOGISTIC_REG',\n",
    "        INPUT_LABEL_COLS = ['species'],\n",
    "        \n",
    "        # data specifics\n",
    "        DATA_SPLIT_METHOD = 'CUSTOM',\n",
    "        DATA_SPLIT_COL = 'split',\n",
    "        \n",
    "        # model specifics\n",
    "        AUTO_CLASS_WEIGHTS = TRUE\n",
    "    )\n",
    "AS\n",
    "    SELECT * EXCEPT(splits),\n",
    "        CASE WHEN splits = 'TRAIN' THEN FALSE\n",
    "        ELSE TRUE END AS split\n",
    "    FROM `statmike-mlops-349915.bqml_model_monitoring.source_split_intro`\n",
    "    WHERE splits != 'TEST'"
   ]
  },
  {
   "cell_type": "code",
   "execution_count": 68,
   "id": "dc893743-d8a8-4e7b-bfce-8dd4005845c7",
   "metadata": {
    "tags": []
   },
   "outputs": [
    {
     "data": {
      "application/vnd.jupyter.widget-view+json": {
       "model_id": "3066a8a07f554dd19bd888a2b382b212",
       "version_major": 2,
       "version_minor": 0
      },
      "text/plain": [
       "Query is running:   0%|          |"
      ]
     },
     "metadata": {},
     "output_type": "display_data"
    },
    {
     "data": {
      "application/vnd.jupyter.widget-view+json": {
       "model_id": "e74c4d7d44b8431aaa3f8d499fae6495",
       "version_major": 2,
       "version_minor": 0
      },
      "text/plain": [
       "Downloading:   0%|          |"
      ]
     },
     "metadata": {},
     "output_type": "display_data"
    }
   ],
   "source": [
    "%%bigquery history\n",
    "SELECT *\n",
    "FROM ML.TRAINING_INFO(MODEL `statmike-mlops-349915.bqml_model_monitoring.classify_species_logistic`)\n",
    "ORDER BY iteration"
   ]
  },
  {
   "cell_type": "code",
   "execution_count": 69,
   "id": "a569af60-9e77-4155-966e-3c56a537fe82",
   "metadata": {
    "tags": []
   },
   "outputs": [
    {
     "data": {
      "text/plain": [
       "<Axes: xlabel='iteration'>"
      ]
     },
     "execution_count": 69,
     "metadata": {},
     "output_type": "execute_result"
    },
    {
     "data": {
      "image/png": "[encoded data removed]",
      "text/plain": [
       "<Figure size 800x200 with 1 Axes>"
      ]
     },
     "metadata": {},
     "output_type": "display_data"
    }
   ],
   "source": [
    "history.plot(x = 'iteration', y = ['loss','eval_loss'], figsize = (8, 2), grid = True)"
   ]
  },
  {
   "cell_type": "markdown",
   "id": "361b7bee-af29-4951-bd51-4b38f47aca44",
   "metadata": {},
   "source": [
    "This model training could be followed by evaluation and prediction tasks using the many helpful BigQuery ML functions.  To learn more about these check out the [End-to-end user journey for each model](https://cloud.google.com/bigquery/docs/e2e-journey) type."
   ]
  },
  {
   "cell_type": "markdown",
   "id": "6f5d7b38-8d10-4aac-b2e1-e9519e8454ca",
   "metadata": {
    "tags": []
   },
   "source": [
    "---\n",
    "## Serving Data\n",
    "\n",
    "The data source for training and evaluation represents what is known about a system at a point-in-time.  In real world systems measurements can change for many reasons, for example:\n",
    "- training/serving skew due to measurement and data systems:\n",
    "    - the tool used for measurement may change resulting is slight shifts and variations\n",
    "    - the system reporting results might be updated and introduce errors like rearranging the order or parameters and format of the results\n",
    "    - the data processing systems might have changes that alter the calculations of measurements\n",
    "- the system, environment, or subjects being measured may:\n",
    "    - change behaviors\n",
    "    - short-term even forces change\n",
    "    - have environmental changes that impact them\n",
    "    - have seasonal changes that were not represented in the training data\n",
    "    - change in general due to upstream causes"
   ]
  },
  {
   "cell_type": "markdown",
   "id": "d1551514-7bc3-42fe-87d2-8c9e324e5e1b",
   "metadata": {},
   "source": [
    "### Introduce Changes Over Time\n",
    "\n",
    "To illustrate the impact of change over time, the following code creates a new set of data from the test split.  It creates a series of changes to measurements for each of the past 30 days.  In each case, the values of the parameters `flipper_length_mm` and `body_mass_g` are allowed to slightly increase which can accumulate over the timespan. This might mimic a potential growth season for the penguins that might not have been represented in the training data.\n",
    "\n",
    "> **Note:** The accompanying [tutorial](link here) uses an alternative data architecture that caputures feature changes over time is used.  Check it out for an alternative way to manage changing feature values.\n",
    "\n",
    "This table of serving data could be source form where your features are coming from.  In the case of an online model, like [Vertex AI Prediction Endpoints](https://cloud.google.com/vertex-ai/docs/predictions/overview), then [prediction request could be logged to BigQuery](https://cloud.google.com/vertex-ai/docs/predictions/online-prediction-logging#enabling-and-disabling) for use in the model monitoring tasks below.  This pattern is also covered in the accompanying [tutorial](link here)."
   ]
  },
  {
   "cell_type": "code",
   "execution_count": 132,
   "id": "612ff4ee-269d-4b6c-b2a3-8433d4aaa0bd",
   "metadata": {
    "tags": []
   },
   "outputs": [
    {
     "data": {
      "application/vnd.jupyter.widget-view+json": {
       "model_id": "69bfe7017f9547b4821777c228141d6f",
       "version_major": 2,
       "version_minor": 0
      },
      "text/plain": [
       "Query is running:   0%|          |"
      ]
     },
     "metadata": {},
     "output_type": "display_data"
    },
    {
     "data": {
      "text/html": [
       "<div>\n",
       "<style scoped>\n",
       "    .dataframe tbody tr th:only-of-type {\n",
       "        vertical-align: middle;\n",
       "    }\n",
       "\n",
       "    .dataframe tbody tr th {\n",
       "        vertical-align: top;\n",
       "    }\n",
       "\n",
       "    .dataframe thead th {\n",
       "        text-align: right;\n",
       "    }\n",
       "</style>\n",
       "<table border=\"1\" class=\"dataframe\">\n",
       "  <thead>\n",
       "    <tr style=\"text-align: right;\">\n",
       "      <th></th>\n",
       "    </tr>\n",
       "  </thead>\n",
       "  <tbody>\n",
       "  </tbody>\n",
       "</table>\n",
       "</div>"
      ],
      "text/plain": [
       "Empty DataFrame\n",
       "Columns: []\n",
       "Index: []"
      ]
     },
     "execution_count": 132,
     "metadata": {},
     "output_type": "execute_result"
    }
   ],
   "source": [
    "%%bigquery\n",
    "DECLARE counter INT64 DEFAULT 30;\n",
    "\n",
    "# actual data as starting point - add entity_id, and feature_timestamp:\n",
    "CREATE OR REPLACE TABLE `statmike-mlops-349915.bqml_model_monitoring.production_intro` AS\n",
    "    SELECT * EXCEPT(splits, flipper_length_mm, body_mass_g),\n",
    "    TIMESTAMP_SUB(TIMESTAMP(CURRENT_DATE()), INTERVAL counter DAY) AS feature_timestamp,\n",
    "    flipper_length_mm as flipper_length_mm,\n",
    "    body_mass_g as body_mass_g\n",
    "    FROM `statmike-mlops-349915.bqml_model_monitoring.source_split_intro`\n",
    "    WHERE splits = 'TEST';\n",
    "\n",
    "LOOP\n",
    "    SET counter = counter - 1;\n",
    "    IF counter < 0 THEN LEAVE;\n",
    "    END IF;\n",
    "    INSERT `statmike-mlops-349915.bqml_model_monitoring.production_intro`\n",
    "        SELECT * EXCEPT(feature_timestamp, flipper_length_mm, body_mass_g),\n",
    "            TIMESTAMP_ADD(feature_timestamp, INTERVAL 1 DAY) AS feature_timestamp,\n",
    "            flipper_length_mm + 4*(RAND()-0.1) AS flipper_length_mm,\n",
    "            body_mass_g + 80*(RAND()-0.1) AS body_mass_g\n",
    "        FROM `statmike-mlops-349915.bqml_model_monitoring.production_intro`\n",
    "        WHERE feature_timestamp >= (SELECT MAX(feature_timestamp) FROM `statmike-mlops-349915.bqml_model_monitoring.production_intro`);\n",
    "END LOOP;"
   ]
  },
  {
   "cell_type": "code",
   "execution_count": 133,
   "id": "b05587c9-63b1-47ba-851e-fa31dcd10650",
   "metadata": {
    "tags": []
   },
   "outputs": [
    {
     "data": {
      "application/vnd.jupyter.widget-view+json": {
       "model_id": "0b69c84da41642fcaf25282ec87dc4c3",
       "version_major": 2,
       "version_minor": 0
      },
      "text/plain": [
       "Query is running:   0%|          |"
      ]
     },
     "metadata": {},
     "output_type": "display_data"
    },
    {
     "data": {
      "application/vnd.jupyter.widget-view+json": {
       "model_id": "864322f7041443929a1dd1d699ec3f8a",
       "version_major": 2,
       "version_minor": 0
      },
      "text/plain": [
       "Downloading:   0%|          |"
      ]
     },
     "metadata": {},
     "output_type": "display_data"
    }
   ],
   "source": [
    "%%bigquery serve\n",
    "SELECT\n",
    "    DATE(feature_timestamp) AS DATE,\n",
    "    AVG(flipper_length_mm) AS flipper_length_mm,\n",
    "    AVG(body_mass_g) AS body_mass_g\n",
    "FROM `statmike-mlops-349915.bqml_model_monitoring.production_intro`\n",
    "GROUP BY DATE\n",
    "ORDER BY DATE"
   ]
  },
  {
   "cell_type": "code",
   "execution_count": 134,
   "id": "2b7385b2-05c8-43b8-bfea-3aeff6d6b1b1",
   "metadata": {
    "tags": []
   },
   "outputs": [],
   "source": [
    "serve.set_index('DATE', inplace = True)"
   ]
  },
  {
   "cell_type": "code",
   "execution_count": 135,
   "id": "56bcef5a-758c-4edd-aedb-57b478b9f048",
   "metadata": {
    "tags": []
   },
   "outputs": [
    {
     "data": {
      "text/plain": [
       "<Axes: xlabel='DATE'>"
      ]
     },
     "execution_count": 135,
     "metadata": {},
     "output_type": "execute_result"
    },
    {
     "data": {
      "image/png": "[encoded data removed]",
      "text/plain": [
       "<Figure size 800x400 with 1 Axes>"
      ]
     },
     "metadata": {},
     "output_type": "display_data"
    }
   ],
   "source": [
    "serve['flipper_length_mm'].plot(legend = True, figsize = (8, 4))"
   ]
  },
  {
   "cell_type": "code",
   "execution_count": 136,
   "id": "31f0535a-a921-4ac3-a93f-d976ad974632",
   "metadata": {
    "tags": []
   },
   "outputs": [
    {
     "data": {
      "text/plain": [
       "<Axes: xlabel='DATE'>"
      ]
     },
     "execution_count": 136,
     "metadata": {},
     "output_type": "execute_result"
    },
    {
     "data": {
      "image/png": "[encoded data removed]",
      "text/plain": [
       "<Figure size 800x400 with 1 Axes>"
      ]
     },
     "metadata": {},
     "output_type": "display_data"
    }
   ],
   "source": [
    "serve['body_mass_g'].plot(legend = True, figsize = (8, 4))"
   ]
  },
  {
   "cell_type": "markdown",
   "id": "08518e09-b92f-4639-8afa-4ba46037f469",
   "metadata": {},
   "source": [
    "---\n",
    "## Model Monitoring\n",
    "\n",
    "Reviewing model evaluations over time does show a pattern of deterioration in the example above.  But at what point is it actionable?  And what if each days evaluations are relying on actual values that took hours, days, weeks, or even months to be available?  \n",
    "\n",
    "Model monitoring takes a different approach.  It goes back to the source of the model, the input features.  These features formed a distribution at the input to the model (the training data) and this can be used to compare to over time.  By setting thresholds on these comparisons to the original training data, alerts can be used to notify that a models accuracy could be in question.  This comparison to the training data is called **skew** detection.\n",
    "\n",
    "Similarly, each days values could be compared to the previous days, or weeks values.  These comparisons are referred to as **drift** detection.  \n",
    "\n",
    "Both of these types of comparisons can be done directly in BigQuery with two functions built for these tasks:\n",
    "- [`ML.VALIDATE_DATA_SKEW`](https://cloud.google.com/bigquery/docs/reference/standard-sql/bigqueryml-syntax-validate-data-skew)\n",
    "- [`ML.VALIDATE_DATA_DRIFT`](https://cloud.google.com/bigquery/docs/reference/standard-sql/bigqueryml-syntax-validate-data-drift)\n",
    "\n",
    "**NOTE:** To understand more about the metrics used for monitoring check out the accompanying [tutorial](link here) for this introduction."
   ]
  },
  {
   "cell_type": "markdown",
   "id": "9677a0b2-a391-4b44-a7fb-367dd9e55e8b",
   "metadata": {},
   "source": [
    "### Monitoring Skew (Change from training) With `ML.VALIDATE_DATA_SKEW`\n",
    "\n",
    "Compare today, or any data, to the training data by directly comparing to the the model created in BigQuery."
   ]
  },
  {
   "cell_type": "code",
   "execution_count": 10,
   "id": "f830e0c3-539e-41b5-802d-d37a16c3c4d3",
   "metadata": {
    "tags": []
   },
   "outputs": [
    {
     "data": {
      "application/vnd.jupyter.widget-view+json": {
       "model_id": "f8ef50892c9d4c168d5579843d8f6ca2",
       "version_major": 2,
       "version_minor": 0
      },
      "text/plain": [
       "Query is running:   0%|          |"
      ]
     },
     "metadata": {},
     "output_type": "display_data"
    },
    {
     "data": {
      "application/vnd.jupyter.widget-view+json": {
       "model_id": "2ac92c8c3749438ebaec610e4bbcfbfb",
       "version_major": 2,
       "version_minor": 0
      },
      "text/plain": [
       "Downloading:   0%|          |"
      ]
     },
     "metadata": {},
     "output_type": "display_data"
    },
    {
     "data": {
      "text/html": [
       "<div>\n",
       "<style scoped>\n",
       "    .dataframe tbody tr th:only-of-type {\n",
       "        vertical-align: middle;\n",
       "    }\n",
       "\n",
       "    .dataframe tbody tr th {\n",
       "        vertical-align: top;\n",
       "    }\n",
       "\n",
       "    .dataframe thead th {\n",
       "        text-align: right;\n",
       "    }\n",
       "</style>\n",
       "<table border=\"1\" class=\"dataframe\">\n",
       "  <thead>\n",
       "    <tr style=\"text-align: right;\">\n",
       "      <th></th>\n",
       "      <th>input</th>\n",
       "      <th>metric</th>\n",
       "      <th>threshold</th>\n",
       "      <th>value</th>\n",
       "      <th>is_anomaly</th>\n",
       "    </tr>\n",
       "  </thead>\n",
       "  <tbody>\n",
       "    <tr>\n",
       "      <th>0</th>\n",
       "      <td>None</td>\n",
       "      <td>None</td>\n",
       "      <td>NaN</td>\n",
       "      <td>NaN</td>\n",
       "      <td>&lt;NA&gt;</td>\n",
       "    </tr>\n",
       "  </tbody>\n",
       "</table>\n",
       "</div>"
      ],
      "text/plain": [
       "  input metric  threshold  value  is_anomaly\n",
       "0  None   None        NaN    NaN        <NA>"
      ]
     },
     "execution_count": 10,
     "metadata": {},
     "output_type": "execute_result"
    }
   ],
   "source": [
    "%%bigquery\n",
    "SELECT *\n",
    "FROM ML.VALIDATE_DATA_SKEW(\n",
    "    MODEL `statmike-mlops-349915.bqml_model_monitoring.classify_species_logistic`,\n",
    "    (\n",
    "        SELECT *\n",
    "        FROM `statmike-mlops-349915.bqml_model_monitoring.production_intro`\n",
    "        WHERE DATE(feature_timestamp) = CURRENT_DATE()\n",
    "    )\n",
    ")"
   ]
  },
  {
   "cell_type": "markdown",
   "id": "cfec1d8c-32a8-42f6-a4c3-aa6f4e8f04fa",
   "metadata": {},
   "source": [
    "### Monitoring Drift (Change Over Time) With `ML.VALIDATE_DATA_DRIFT`\n",
    "\n",
    "Compare today to yesterday and set the a lower, more sensitive, threshold of `0.03` (default is `0.3`) for all features."
   ]
  },
  {
   "cell_type": "code",
   "execution_count": 11,
   "id": "2d8677f8-a644-4077-9cf5-1c7cb9b206ec",
   "metadata": {
    "tags": []
   },
   "outputs": [
    {
     "data": {
      "application/vnd.jupyter.widget-view+json": {
       "model_id": "1e58a5d590ba45fbae38dac4bacbd465",
       "version_major": 2,
       "version_minor": 0
      },
      "text/plain": [
       "Query is running:   0%|          |"
      ]
     },
     "metadata": {},
     "output_type": "display_data"
    },
    {
     "data": {
      "application/vnd.jupyter.widget-view+json": {
       "model_id": "5102cac7380842a99f86b353673acad5",
       "version_major": 2,
       "version_minor": 0
      },
      "text/plain": [
       "Downloading:   0%|          |"
      ]
     },
     "metadata": {},
     "output_type": "display_data"
    },
    {
     "data": {
      "text/html": [
       "<div>\n",
       "<style scoped>\n",
       "    .dataframe tbody tr th:only-of-type {\n",
       "        vertical-align: middle;\n",
       "    }\n",
       "\n",
       "    .dataframe tbody tr th {\n",
       "        vertical-align: top;\n",
       "    }\n",
       "\n",
       "    .dataframe thead th {\n",
       "        text-align: right;\n",
       "    }\n",
       "</style>\n",
       "<table border=\"1\" class=\"dataframe\">\n",
       "  <thead>\n",
       "    <tr style=\"text-align: right;\">\n",
       "      <th></th>\n",
       "      <th>input</th>\n",
       "      <th>metric</th>\n",
       "      <th>threshold</th>\n",
       "      <th>value</th>\n",
       "      <th>is_anomaly</th>\n",
       "    </tr>\n",
       "  </thead>\n",
       "  <tbody>\n",
       "    <tr>\n",
       "      <th>0</th>\n",
       "      <td>None</td>\n",
       "      <td>None</td>\n",
       "      <td>NaN</td>\n",
       "      <td>NaN</td>\n",
       "      <td>&lt;NA&gt;</td>\n",
       "    </tr>\n",
       "  </tbody>\n",
       "</table>\n",
       "</div>"
      ],
      "text/plain": [
       "  input metric  threshold  value  is_anomaly\n",
       "0  None   None        NaN    NaN        <NA>"
      ]
     },
     "execution_count": 11,
     "metadata": {},
     "output_type": "execute_result"
    }
   ],
   "source": [
    "%%bigquery\n",
    "SELECT *\n",
    "FROM ML.VALIDATE_DATA_DRIFT(\n",
    "    (\n",
    "        SELECT * EXCEPT(species, feature_timestamp)\n",
    "        FROM `statmike-mlops-349915.bqml_model_monitoring.production_intro`\n",
    "        WHERE DATE(feature_timestamp) = DATE_SUB(CURRENT_DATE(), INTERVAL 1 DAY)\n",
    "    ),\n",
    "    (\n",
    "        SELECT * EXCEPT(species, feature_timestamp)\n",
    "        FROM `statmike-mlops-349915.bqml_model_monitoring.production_intro`\n",
    "        WHERE DATE(feature_timestamp) = CURRENT_DATE()\n",
    "    ),\n",
    "    STRUCT(\n",
    "        0.03 AS categorical_default_threshold,\n",
    "        0.03 AS numerical_default_threshold\n",
    "    )\n",
    ")"
   ]
  },
  {
   "cell_type": "markdown",
   "id": "3519ea1f-fca0-4e99-84c6-b8c9807ac6ea",
   "metadata": {},
   "source": [
    "---\n",
    "### TensorFlow Data Validation (TFDV) In BigQuery\n",
    "\n",
    "BigQuery offers two functions that bring the power of the TensorFlow's [TFX platform](https://www.tensorflow.org/tfx) with built-in [TensorFlow Data Validation (TFDV)](https://www.tensorflow.org/tfx/data_validation/get_started) module directly inside of BigQuery.\n",
    "- [`ML.TFDV_DESCRIBE`](https://cloud.google.com/bigquery/docs/reference/standard-sql/bigqueryml-syntax-tfdv-describe) to generate descriptive statistics of any table\n",
    "- [`ML.TFDV_VALIDATE`](https://cloud.google.com/bigquery/docs/reference/standard-sql/bigqueryml-syntax-tfdv-validate) to compare statistics of two tables"
   ]
  },
  {
   "cell_type": "markdown",
   "id": "396e933a-45eb-4024-8ab6-08c7e5caaf00",
   "metadata": {},
   "source": [
    "#### Generate Statistics with `ML.TFDV_DESCRIBE`\n",
    "\n",
    "Generate statistics for any table, in this case the training data features or a timespan of serving data features.  This is like using the TensorFlow's [TFX platform](https://www.tensorflow.org/tfx) with built-in [TensorFlow Data Validation (TFDV)](https://www.tensorflow.org/tfx/data_validation/get_started) module's [`tfdv.generate_statistics_from_csv()`](https://www.tensorflow.org/tfx/data_validation/api_docs/python/tfdv/generate_statistics_from_csv) method.\n",
    "\n",
    "The descriptions can be used in comparisons for skew or drift detection with the `ML.TFDV_VALIDATE` function, covered next, as well as in the visualization tool `tfdv.visualize_statistics` also covered below."
   ]
  },
  {
   "cell_type": "code",
   "execution_count": 142,
   "id": "e6a1483a-41d6-4da9-b66a-d57ffa17cabb",
   "metadata": {
    "tags": []
   },
   "outputs": [
    {
     "data": {
      "application/vnd.jupyter.widget-view+json": {
       "model_id": "475707e2cbc542718596f447272a627b",
       "version_major": 2,
       "version_minor": 0
      },
      "text/plain": [
       "Query is running:   0%|          |"
      ]
     },
     "metadata": {},
     "output_type": "display_data"
    },
    {
     "data": {
      "application/vnd.jupyter.widget-view+json": {
       "model_id": "0b378468a8f44b68be14eca864579d27",
       "version_major": 2,
       "version_minor": 0
      },
      "text/plain": [
       "Downloading:   0%|          |"
      ]
     },
     "metadata": {},
     "output_type": "display_data"
    }
   ],
   "source": [
    "%%bigquery train_describe\n",
    "SELECT *\n",
    "FROM ML.TFDV_DESCRIBE(\n",
    "    (\n",
    "        SELECT * EXCEPT(splits, species)\n",
    "        FROM `statmike-mlops-349915.bqml_model_monitoring.source_split_intro`\n",
    "        WHERE splits = 'TRAIN'\n",
    "    )\n",
    ")"
   ]
  },
  {
   "cell_type": "code",
   "execution_count": 143,
   "id": "c4544098-9bc2-4161-98bc-4e3a89db1364",
   "metadata": {
    "tags": []
   },
   "outputs": [],
   "source": [
    "train_describe = json.loads(train_describe['dataset_feature_statistics_list'].iloc[0])"
   ]
  },
  {
   "cell_type": "code",
   "execution_count": 144,
   "id": "0e70516a-afc9-44d0-903a-4d7a973ef0a7",
   "metadata": {
    "tags": []
   },
   "outputs": [
    {
     "data": {
      "text/plain": [
       "{'name': 'body_mass_g',\n",
       " 'num_stats': {'common_stats': {'avg_num_values': 1,\n",
       "   'max_num_values': '1',\n",
       "   'min_num_values': '1',\n",
       "   'num_non_missing': '256',\n",
       "   'num_values_histogram': {'buckets': [{'high_value': 1,\n",
       "      'low_value': 1,\n",
       "      'sample_count': 25.7},\n",
       "     {'high_value': 1, 'low_value': 1, 'sample_count': 25.7},\n",
       "     {'high_value': 1, 'low_value': 1, 'sample_count': 25.7},\n",
       "     {'high_value': 1, 'low_value': 1, 'sample_count': 25.7},\n",
       "     {'high_value': 1, 'low_value': 1, 'sample_count': 25.7},\n",
       "     {'high_value': 1, 'low_value': 1, 'sample_count': 25.7},\n",
       "     {'high_value': 1, 'low_value': 1, 'sample_count': 25.7},\n",
       "     {'high_value': 1, 'low_value': 1, 'sample_count': 25.7},\n",
       "     {'high_value': 1, 'low_value': 1, 'sample_count': 25.7},\n",
       "     {'high_value': 1, 'low_value': 1, 'sample_count': 25.7}],\n",
       "    'type': 'QUANTILES'},\n",
       "   'tot_num_values': '256'},\n",
       "  'histograms': [{'buckets': [{'high_value': 3300,\n",
       "      'low_value': 2700,\n",
       "      'sample_count': 25.7},\n",
       "     {'high_value': 3450, 'low_value': 3300, 'sample_count': 25.7},\n",
       "     {'high_value': 3650, 'low_value': 3450, 'sample_count': 25.7},\n",
       "     {'high_value': 3800, 'low_value': 3650, 'sample_count': 25.7},\n",
       "     {'high_value': 4050, 'low_value': 3800, 'sample_count': 25.7},\n",
       "     {'high_value': 4350, 'low_value': 4050, 'sample_count': 25.7},\n",
       "     {'high_value': 4700, 'low_value': 4350, 'sample_count': 25.7},\n",
       "     {'high_value': 5000, 'low_value': 4700, 'sample_count': 25.7},\n",
       "     {'high_value': 5500, 'low_value': 5000, 'sample_count': 25.7},\n",
       "     {'high_value': 6050, 'low_value': 5500, 'sample_count': 25.7}],\n",
       "    'type': 'QUANTILES'},\n",
       "   {'buckets': [{'high_value': 3035,\n",
       "      'low_value': 2700,\n",
       "      'sample_count': 7.118899999999997},\n",
       "     {'high_value': 3370,\n",
       "      'low_value': 3035,\n",
       "      'sample_count': 31.01990000000007},\n",
       "     {'high_value': 3705,\n",
       "      'low_value': 3370,\n",
       "      'sample_count': 50.06359999999993},\n",
       "     {'high_value': 4040,\n",
       "      'low_value': 3705,\n",
       "      'sample_count': 38.447200000000024},\n",
       "     {'high_value': 4375,\n",
       "      'low_value': 4040,\n",
       "      'sample_count': 28.835400000000057},\n",
       "     {'high_value': 4710,\n",
       "      'low_value': 4375,\n",
       "      'sample_count': 26.316800000000043},\n",
       "     {'high_value': 5045,\n",
       "      'low_value': 4710,\n",
       "      'sample_count': 28.141500000000054},\n",
       "     {'high_value': 5380,\n",
       "      'low_value': 5045,\n",
       "      'sample_count': 16.88489999999999},\n",
       "     {'high_value': 5715,\n",
       "      'low_value': 5380,\n",
       "      'sample_count': 20.996900000000018},\n",
       "     {'high_value': 6050,\n",
       "      'low_value': 5715,\n",
       "      'sample_count': 9.174899999999996}]}],\n",
       "  'max': 6050,\n",
       "  'mean': 4220.898437499998,\n",
       "  'median': 4050,\n",
       "  'min': 2700,\n",
       "  'std_dev': 808.3142019413357},\n",
       " 'type': 'FLOAT'}"
      ]
     },
     "execution_count": 144,
     "metadata": {},
     "output_type": "execute_result"
    }
   ],
   "source": [
    "train_describe['datasets'][0]['features'][0]"
   ]
  },
  {
   "cell_type": "code",
   "execution_count": 151,
   "id": "e9665a14-a17e-46c2-b9ba-479b2734df76",
   "metadata": {
    "tags": []
   },
   "outputs": [
    {
     "data": {
      "application/vnd.jupyter.widget-view+json": {
       "model_id": "b23c389907af492eb9e90327298dac98",
       "version_major": 2,
       "version_minor": 0
      },
      "text/plain": [
       "Query is running:   0%|          |"
      ]
     },
     "metadata": {},
     "output_type": "display_data"
    },
    {
     "data": {
      "application/vnd.jupyter.widget-view+json": {
       "model_id": "ce0e93e1a5d540d2b1533598b5a4c064",
       "version_major": 2,
       "version_minor": 0
      },
      "text/plain": [
       "Downloading:   0%|          |"
      ]
     },
     "metadata": {},
     "output_type": "display_data"
    }
   ],
   "source": [
    "%%bigquery today_describe\n",
    "SELECT *\n",
    "FROM ML.TFDV_DESCRIBE(\n",
    "    (\n",
    "        SELECT * EXCEPT(species, feature_timestamp)\n",
    "        FROM `statmike-mlops-349915.bqml_model_monitoring.production_intro`\n",
    "        WHERE DATE(feature_timestamp) = CURRENT_DATE()\n",
    "    )\n",
    ")"
   ]
  },
  {
   "cell_type": "code",
   "execution_count": 152,
   "id": "e3ed1a61-1f0f-49cd-9add-bb2e6cb7f02d",
   "metadata": {
    "tags": []
   },
   "outputs": [],
   "source": [
    "today_describe = json.loads(today_describe['dataset_feature_statistics_list'].iloc[0])"
   ]
  },
  {
   "cell_type": "code",
   "execution_count": 153,
   "id": "df05c689-8db0-437a-b18f-edfba7fcd0ec",
   "metadata": {
    "tags": []
   },
   "outputs": [],
   "source": [
    "#today_describe['datasets'][0]['features'][0]"
   ]
  },
  {
   "cell_type": "markdown",
   "id": "53c00f1a-16a7-4894-9973-c9d1277e8f92",
   "metadata": {},
   "source": [
    "#### Visualize Statistics with `tfdv.visualize_statistics`\n",
    "\n",
    "Use the [`tfdv.visualize_statistics`](https://www.tensorflow.org/tfx/data_validation/api_docs/python/tfdv/visualize_statistics) tool to visualize the generated descriptions and directly compare them."
   ]
  },
  {
   "cell_type": "code",
   "execution_count": 154,
   "id": "35eddf77-474e-4844-b277-186b174ecced",
   "metadata": {
    "tags": []
   },
   "outputs": [],
   "source": [
    "import os\n",
    "os.environ['TF_CPP_MIN_LOG_LEVEL'] = '3'\n",
    "import tensorflow_data_validation as tfdv\n",
    "import tensorflow_metadata as tfmd\n",
    "from google.protobuf import json_format"
   ]
  },
  {
   "cell_type": "code",
   "execution_count": 155,
   "id": "d3237159-ed66-4874-b297-4bb662c26f72",
   "metadata": {
    "tags": []
   },
   "outputs": [
    {
     "data": {
      "text/html": [
       "<iframe id='facets-iframe' width=\"100%\" height=\"500px\"></iframe>\n",
       "        <script>\n",
       "        facets_iframe = document.getElementById('facets-iframe');\n",
       "        facets_html = '<script src=\"https://cdnjs.cloudflare.com/ajax/libs/webcomponentsjs/1.3.3/webcomponents-lite.js\"><\\/script><link rel=\"import\" href=\"https://raw.githubusercontent.com/PAIR-code/facets/master/facets-dist/facets-jupyter.html\"><facets-overview proto-input=\"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\"></facets-overview>';\n",
       "        facets_iframe.srcdoc = facets_html;\n",
       "         facets_iframe.id = \"\";\n",
       "         setTimeout(() => {\n",
       "           facets_iframe.setAttribute('height', facets_iframe.contentWindow.document.body.offsetHeight + 'px')\n",
       "         }, 1500)\n",
       "         </script>"
      ],
      "text/plain": [
       "<IPython.core.display.HTML object>"
      ]
     },
     "metadata": {},
     "output_type": "display_data"
    }
   ],
   "source": [
    "tfdv.visualize_statistics(\n",
    "    lhs_statistics = json_format.ParseDict(train_describe, tfmd.proto.statistics_pb2.DatasetFeatureStatisticsList()),\n",
    "    rhs_statistics = json_format.ParseDict(today_describe, tfmd.proto.statistics_pb2.DatasetFeatureStatisticsList()),\n",
    "    lhs_name = 'Training Data Stats',\n",
    "    rhs_name = 'Serving Data Stats - For Today'\n",
    ")"
   ]
  },
  {
   "cell_type": "markdown",
   "id": "98e991b7-c97a-4778-8397-3cfdcf562d67",
   "metadata": {},
   "source": [
    "#### Compare And Detect Anomalies with `ML.TFDV_VALIDATE`\n",
    "\n",
    "Compare the distribution of any table to a base table and compute distance statistics to detect anomalies.  This is like using the TensorFlow's [TFX platform](https://www.tensorflow.org/tfx) with built-in [TensorFlow Data Validation (TFDV)](https://www.tensorflow.org/tfx/data_validation/get_started) module's [validate_statistics api](https://www.tensorflow.org/tfx/data_validation/api_docs/python/tfdv/validate_statistics).\n",
    "\n",
    "These comparison can be made to training data for **skew** detection or previous serving data for **drift** detection."
   ]
  },
  {
   "cell_type": "code",
   "execution_count": 156,
   "id": "cdb55cee-a880-4851-8412-31426012a624",
   "metadata": {
    "tags": []
   },
   "outputs": [
    {
     "data": {
      "application/vnd.jupyter.widget-view+json": {
       "model_id": "91f33a4ba76c47758716e6db0228a7e1",
       "version_major": 2,
       "version_minor": 0
      },
      "text/plain": [
       "Query is running:   0%|          |"
      ]
     },
     "metadata": {},
     "output_type": "display_data"
    },
    {
     "data": {
      "application/vnd.jupyter.widget-view+json": {
       "model_id": "af847f9c60f9459699a753a0662eec15",
       "version_major": 2,
       "version_minor": 0
      },
      "text/plain": [
       "Downloading:   0%|          |"
      ]
     },
     "metadata": {},
     "output_type": "display_data"
    }
   ],
   "source": [
    "%%bigquery validate\n",
    "WITH\n",
    "    TRAIN AS (\n",
    "        SELECT * EXCEPT(splits, species)\n",
    "        FROM `statmike-mlops-349915.bqml_model_monitoring.source_split_intro`\n",
    "        WHERE splits = 'TRAIN'\n",
    "    ),\n",
    "    SERVE AS (\n",
    "        SELECT * EXCEPT(species, feature_timestamp)\n",
    "        FROM `statmike-mlops-349915.bqml_model_monitoring.production_intro`\n",
    "        WHERE DATE(feature_timestamp) = CURRENT_DATE()\n",
    "    )\n",
    "SELECT ML.TFDV_VALIDATE(\n",
    "    (SELECT * FROM ML.TFDV_DESCRIBE(TABLE TRAIN)),\n",
    "    (SELECT * FROM ML.TFDV_DESCRIBE(TABLE SERVE)),\n",
    "    'SKEW', 0.03,'L_INFTY',0.03\n",
    ") as validate"
   ]
  },
  {
   "cell_type": "code",
   "execution_count": 157,
   "id": "e77925e1-7b27-4dc8-a30d-7cd16d794065",
   "metadata": {
    "tags": []
   },
   "outputs": [],
   "source": [
    "validate = json.loads(validate['validate'].iloc[0])"
   ]
  },
  {
   "cell_type": "code",
   "execution_count": 158,
   "id": "5c6badfe-c8b7-42c4-9b26-453e1047b421",
   "metadata": {
    "tags": []
   },
   "outputs": [],
   "source": [
    "#validate"
   ]
  },
  {
   "cell_type": "markdown",
   "id": "e9480e99-950e-4c12-9256-f8f3c0076d6b",
   "metadata": {},
   "source": [
    "#### Display Anomalies with `tfdv.display_anomalies`\n",
    "\n",
    "Use the [`tfdv.display_anomalies`](https://www.tensorflow.org/tfx/data_validation/api_docs/python/tfdv/display_anomalies) tool to display a table of anomaly detections with descriptions."
   ]
  },
  {
   "cell_type": "code",
   "execution_count": 159,
   "id": "083b7a66-69a1-437e-839a-267ceeac4ba2",
   "metadata": {
    "tags": []
   },
   "outputs": [],
   "source": [
    "del validate['baseline']['generate_legacy_feature_spec']"
   ]
  },
  {
   "cell_type": "code",
   "execution_count": 160,
   "id": "50767585-d951-4e79-a742-c691c9d632e6",
   "metadata": {
    "tags": []
   },
   "outputs": [
    {
     "data": {
      "text/html": [
       "<div>\n",
       "<style scoped>\n",
       "    .dataframe tbody tr th:only-of-type {\n",
       "        vertical-align: middle;\n",
       "    }\n",
       "\n",
       "    .dataframe tbody tr th {\n",
       "        vertical-align: top;\n",
       "    }\n",
       "\n",
       "    .dataframe thead th {\n",
       "        text-align: right;\n",
       "    }\n",
       "</style>\n",
       "<table border=\"1\" class=\"dataframe\">\n",
       "  <thead>\n",
       "    <tr style=\"text-align: right;\">\n",
       "      <th></th>\n",
       "      <th>Anomaly short description</th>\n",
       "      <th>Anomaly long description</th>\n",
       "    </tr>\n",
       "    <tr>\n",
       "      <th>Feature name</th>\n",
       "      <th></th>\n",
       "      <th></th>\n",
       "    </tr>\n",
       "  </thead>\n",
       "  <tbody>\n",
       "    <tr>\n",
       "      <th>'culmen_length_mm'</th>\n",
       "      <td>High approximate Jensen-Shannon divergence between training and serving</td>\n",
       "      <td>The approximate Jensen-Shannon divergence between training and serving is 0.0989912 (up to six significant digits), above the threshold 0.03.</td>\n",
       "    </tr>\n",
       "    <tr>\n",
       "      <th>'flipper_length_mm'</th>\n",
       "      <td>High approximate Jensen-Shannon divergence between training and serving</td>\n",
       "      <td>The approximate Jensen-Shannon divergence between training and serving is 0.959958 (up to six significant digits), above the threshold 0.03.</td>\n",
       "    </tr>\n",
       "    <tr>\n",
       "      <th>'culmen_depth_mm'</th>\n",
       "      <td>High approximate Jensen-Shannon divergence between training and serving</td>\n",
       "      <td>The approximate Jensen-Shannon divergence between training and serving is 0.0451977 (up to six significant digits), above the threshold 0.03.</td>\n",
       "    </tr>\n",
       "    <tr>\n",
       "      <th>'body_mass_g'</th>\n",
       "      <td>High approximate Jensen-Shannon divergence between training and serving</td>\n",
       "      <td>The approximate Jensen-Shannon divergence between training and serving is 0.329755 (up to six significant digits), above the threshold 0.03.</td>\n",
       "    </tr>\n",
       "    <tr>\n",
       "      <th>'sex'</th>\n",
       "      <td>High Linfty distance between training and serving</td>\n",
       "      <td>The Linfty distance between training and serving is 0.113756 (up to six significant digits), above the threshold 0.03. The feature value with maximum difference is: MALE</td>\n",
       "    </tr>\n",
       "    <tr>\n",
       "      <th>'island'</th>\n",
       "      <td>High Linfty distance between training and serving</td>\n",
       "      <td>The Linfty distance between training and serving is 0.0811562 (up to six significant digits), above the threshold 0.03. The feature value with maximum difference is: Biscoe</td>\n",
       "    </tr>\n",
       "  </tbody>\n",
       "</table>\n",
       "</div>"
      ],
      "text/plain": [
       "                                                                   Anomaly short description  \\\n",
       "Feature name                                                                                   \n",
       "'culmen_length_mm'   High approximate Jensen-Shannon divergence between training and serving   \n",
       "'flipper_length_mm'  High approximate Jensen-Shannon divergence between training and serving   \n",
       "'culmen_depth_mm'    High approximate Jensen-Shannon divergence between training and serving   \n",
       "'body_mass_g'        High approximate Jensen-Shannon divergence between training and serving   \n",
       "'sex'                                      High Linfty distance between training and serving   \n",
       "'island'                                   High Linfty distance between training and serving   \n",
       "\n",
       "                                                                                                                                                                         Anomaly long description  \n",
       "Feature name                                                                                                                                                                                       \n",
       "'culmen_length_mm'                                  The approximate Jensen-Shannon divergence between training and serving is 0.0989912 (up to six significant digits), above the threshold 0.03.  \n",
       "'flipper_length_mm'                                  The approximate Jensen-Shannon divergence between training and serving is 0.959958 (up to six significant digits), above the threshold 0.03.  \n",
       "'culmen_depth_mm'                                   The approximate Jensen-Shannon divergence between training and serving is 0.0451977 (up to six significant digits), above the threshold 0.03.  \n",
       "'body_mass_g'                                        The approximate Jensen-Shannon divergence between training and serving is 0.329755 (up to six significant digits), above the threshold 0.03.  \n",
       "'sex'                   The Linfty distance between training and serving is 0.113756 (up to six significant digits), above the threshold 0.03. The feature value with maximum difference is: MALE  \n",
       "'island'             The Linfty distance between training and serving is 0.0811562 (up to six significant digits), above the threshold 0.03. The feature value with maximum difference is: Biscoe  "
      ]
     },
     "metadata": {},
     "output_type": "display_data"
    }
   ],
   "source": [
    "tfdv.display_anomalies(\n",
    "    anomalies = json_format.ParseDict(validate, tfmd.proto.anomalies_pb2.Anomalies())\n",
    ")"
   ]
  },
  {
   "cell_type": "markdown",
   "id": "b3dbd2fa-57c2-4d99-b230-8b6867732dc7",
   "metadata": {},
   "source": [
    "---\n",
    "## Continous Monitoring\n",
    "\n",
    "The methods above can be combined into a job that runs both skew and drift detection.  The jobs can be scheduled or triggered to make the process of model monitoring continous - continous monitoring.  If the model quality can be evaluated with confidence then the automation can even be extended to retrain and update the model for continous training.  \n",
    "\n",
    "This section shows one of many ways to create a model monitoring job. For models created in BigQuery with BigQuery ML it also shows a retraining action as part of the job when alerts are detected.\n",
    "\n",
    "These types of jobs could be automated for continous monitoring.  In the accompanying [tutorial](link here) the approaches to automation are discussed in more detail:\n",
    "- [BigQuery Scheduled Queries](https://cloud.google.com/bigquery/docs/scheduling-queries)\n",
    "- [Dataform](https://cloud.google.com/dataform/docs/quickstart-create-workflow)\n",
    "- [Workflows](https://cloud.google.com/workflows/docs/tutorials/bigquery-parallel-jobs)\n",
    "- [Cloud Composer](https://cloud.google.com/composer/docs/data-analytics-googlecloud)\n",
    "- [Vertex AI Pipelines](https://cloud.google.com/vertex-ai/docs/pipelines/gcpc-list#bqml_components)"
   ]
  },
  {
   "cell_type": "markdown",
   "id": "040e30ba-0397-4fa7-8b55-efdee13c450f",
   "metadata": {},
   "source": [
    "### Model Monitoring Job: With Alerting And Retraining\n",
    "\n",
    "A BigQuery SQL job that uses the [procedural language](https://cloud.google.com/bigquery/docs/reference/standard-sql/procedural-language) to execute multiple statements (steps) as a single query.  In this case, monitor skew and drift, detect any feature level anomalies in either and report back the anomalies via a log note with a forced error.\n",
    "\n",
    "This job also include retraining of the BigQuery ML model:\n",
    "In this case the example is simplified to retrain the model and directly implement it as a replacement with `CREATE OR REPLACE MODEL`.  In a production enviornment additional pre/post steps might take place as part of this workflow:\n",
    "- on skew/drift detection:\n",
    "    - Prior to retraining:\n",
    "        - ensure detection is not due to data errors, schema changes, or system changes\n",
    "    - After retrainning:\n",
    "        - evaluate the model and compare to current production version\n",
    "        - conditionally deploy the new version if it is better in any/all key metrics\n",
    "        - consider rollout strategies for the retrained model\n",
    "        - trigger human review before deployment of the replacement"
   ]
  },
  {
   "cell_type": "code",
   "execution_count": 171,
   "id": "b7902bb4-bc28-4f82-8171-3dff4e11d547",
   "metadata": {
    "tags": []
   },
   "outputs": [
    {
     "name": "stdout",
     "output_type": "stream",
     "text": [
      "Executing query with job ID: e3553394-c90c-4f6b-9270-4fef05e29637\n",
      "Query executing: 158.85s"
     ]
    },
    {
     "name": "stderr",
     "output_type": "stream",
     "text": [
      "\n",
      "ERROR:\n",
      " 400 Query error: \n",
      "Monitoring Report:\n",
      "\tFound data drift (body_mass_g, flipper_length_mm)\n",
      "\tFound data skew (body_mass_g, flipper_length_mm)\n",
      "The Model was retrained:\n",
      "\taccuracy of prior model: 0.97777777777777786\n",
      "\trecent accuracy of prior model: 1\n",
      "\taccuracy after retraining: 1 at [122:13]\n",
      "\n",
      "Location: US\n",
      "Job ID: e3553394-c90c-4f6b-9270-4fef05e29637\n",
      "\n"
     ]
    }
   ],
   "source": [
    "%%bigquery\n",
    "DECLARE drift_anomalies ARRAY<STRING>;\n",
    "DECLARE drift STRING;\n",
    "DECLARE skew_anomalies ARRAY<STRING>;\n",
    "DECLARE skew STRING;\n",
    "\n",
    "# Monitor Drift\n",
    "SET drift_anomalies = (\n",
    "    SELECT ARRAY_AGG(input)\n",
    "    FROM ML.VALIDATE_DATA_DRIFT(\n",
    "        (\n",
    "            SELECT * EXCEPT(splits, species)\n",
    "            FROM `statmike-mlops-349915.bqml_model_monitoring.source_split_intro`\n",
    "            WHERE splits = 'TEST'\n",
    "        ),\n",
    "        (\n",
    "            SELECT * EXCEPT(species, feature_timestamp)\n",
    "            FROM `statmike-mlops-349915.bqml_model_monitoring.production_intro`\n",
    "            WHERE DATE(feature_timestamp) = CURRENT_DATE()\n",
    "        ),\n",
    "        STRUCT(\n",
    "            0.03 AS categorical_default_threshold,\n",
    "            0.03 AS numerical_default_threshold\n",
    "        )\n",
    "    )\n",
    "    WHERE is_anomaly = True\n",
    ");\n",
    "IF(ARRAY_LENGTH(drift_anomalies) > 0)\n",
    "    THEN\n",
    "        SET drift = CONCAT(\n",
    "            \"Found data drift (\", ARRAY_TO_STRING(drift_anomalies, \", \"), \")\"\n",
    "        );\n",
    "    ELSE SET drift = 'No drift detected.';\n",
    "END IF;\n",
    "\n",
    "# Monitor Skew\n",
    "SET skew_anomalies = (\n",
    "    SELECT ARRAY_AGG(input)\n",
    "    FROM ML.VALIDATE_DATA_SKEW(\n",
    "        MODEL `statmike-mlops-349915.bqml_model_monitoring.classify_species_logistic`,\n",
    "        (\n",
    "            SELECT * EXCEPT(species, feature_timestamp)\n",
    "            FROM `statmike-mlops-349915.bqml_model_monitoring.production_intro`\n",
    "            WHERE DATE(feature_timestamp) = CURRENT_DATE()\n",
    "        )\n",
    "    )\n",
    "    WHERE is_anomaly = True\n",
    ");\n",
    "IF(ARRAY_LENGTH(skew_anomalies) > 0)\n",
    "    THEN\n",
    "        SET skew = CONCAT(\n",
    "            \"Found data skew (\", ARRAY_TO_STRING(skew_anomalies, \", \"), \")\"\n",
    "        );\n",
    "    ELSE SET skew = 'No skew detected.';\n",
    "END IF;\n",
    "\n",
    "# Prepare Alert\n",
    "IF(ARRAY_LENGTH(drift_anomalies) > 0 OR ARRAY_LENGTH(skew_anomalies) > 0)\n",
    "    THEN\n",
    "        BEGIN\n",
    "            DECLARE train_accuracy FLOAT64;\n",
    "            DECLARE recent_accuracy FLOAT64;\n",
    "            DECLARE retrain_accuracy FLOAT64;\n",
    "            \n",
    "            # get current models evaluation metrics: accuracy\n",
    "            SET train_accuracy = (\n",
    "                SELECT accuracy\n",
    "                FROM ML.EVALUATE (\n",
    "                    MODEL `statmike-mlops-349915.bqml_model_monitoring.classify_species_logistic`\n",
    "                )\n",
    "            );\n",
    "            \n",
    "            # get current models recent evaluation metrics: accuracy\n",
    "            SET recent_accuracy = (\n",
    "                SELECT accuracy\n",
    "                FROM ML.EVALUATE (\n",
    "                    MODEL `statmike-mlops-349915.bqml_model_monitoring.classify_species_logistic`,\n",
    "                    (\n",
    "                        SELECT *\n",
    "                        FROM `statmike-mlops-349915.bqml_model_monitoring.production_intro`\n",
    "                        WHERE DATE(feature_timestamp) >= DATE_SUB(CURRENT_DATE(), INTERVAL 1 WEEK) \n",
    "                    )\n",
    "                )\n",
    "            );\n",
    "            \n",
    "            # retrain the model\n",
    "            CREATE OR REPLACE MODEL `statmike-mlops-349915.bqml_model_monitoring.classify_species_logistic`\n",
    "                TRANSFORM(\n",
    "                    ML.ROBUST_SCALER(body_mass_g) OVER() AS body_mass_g,\n",
    "                    ML.STANDARD_SCALER(culmen_length_mm) OVER() AS culmen_length_mm,\n",
    "                    ML.STANDARD_SCALER(culmen_depth_mm) OVER() AS culmen_depth_mm,\n",
    "                    ML.QUANTILE_BUCKETIZE(flipper_length_mm, 3) OVER() AS flipper_length_mm,\n",
    "                    ML.IMPUTER(sex, 'most_frequent') OVER() AS sex,\n",
    "                    ML.IMPUTER(island, 'most_frequent') OVER() AS island,\n",
    "                    species\n",
    "                )\n",
    "                OPTIONS(\n",
    "                    MODEL_TYPE = 'LOGISTIC_REG',\n",
    "                    INPUT_LABEL_COLS = ['species'],\n",
    "\n",
    "                    # data specifics\n",
    "                    DATA_SPLIT_METHOD = 'AUTO_SPLIT',\n",
    "\n",
    "                    # model specifics\n",
    "                    AUTO_CLASS_WEIGHTS = TRUE\n",
    "                )\n",
    "            AS\n",
    "                SELECT species, island, culmen_length_mm, culmen_depth_mm, sex, flipper_length_mm, body_mass_g\n",
    "                FROM `statmike-mlops-349915.bqml_model_monitoring.source`\n",
    "                UNION ALL\n",
    "                SELECT species, island, culmen_length_mm, culmen_depth_mm, sex, flipper_length_mm, body_mass_g\n",
    "                FROM `statmike-mlops-349915.bqml_model_monitoring.production_intro`\n",
    "            ;\n",
    "            \n",
    "            # get retrained models evaluation metrics: accuracy\n",
    "            SET retrain_accuracy = (\n",
    "                SELECT accuracy\n",
    "                FROM ML.EVALUATE (\n",
    "                    MODEL `statmike-mlops-349915.bqml_model_monitoring.classify_species_logistic`\n",
    "                )\n",
    "            );\n",
    "\n",
    "            SELECT ERROR(\n",
    "                CONCAT(\n",
    "                    \"\\nMonitoring Report:\",\n",
    "                    \"\\n\\t\", drift,\n",
    "                    \"\\n\\t\", skew,\n",
    "                    \"\\nThe Model was retrained:\",\n",
    "                    \"\\n\\taccuracy of prior model: \", train_accuracy,\n",
    "                    \"\\n\\trecent accuracy of prior model: \", recent_accuracy,\n",
    "                    \"\\n\\taccuracy after retraining: \", retrain_accuracy\n",
    "                )\n",
    "            );\n",
    "        END;\n",
    "END IF;"
   ]
  },
  {
   "cell_type": "markdown",
   "id": "e202c718-b7b5-40c5-98e4-2658642668d2",
   "metadata": {},
   "source": [
    "---\n",
    "## More\n",
    "\n",
    "Continue on to the [tutorial](link here) or the documentation for the model monitoring functions:\n",
    "\n",
    "* [BigQuery ML Documentation](https://cloud.google.com/bigquery-ml/docs/)\n",
    "* [BigQuery ML Model Monitoring](https://cloud.google.com/bigquery/docs/model-monitoring-overview)\n",
    "    - [`ML.DESCRIBE_DATA`](https://cloud.google.com/bigquery/docs/reference/standard-sql/bigqueryml-syntax-describe-data)\n",
    "    - [`ML.VALIDATE_DATA_SKEW`](https://cloud.google.com/bigquery/docs/reference/standard-sql/bigqueryml-syntax-validate-data-skew)\n",
    "    - [`ML.VALIDATE_DATA_DRIFT`](https://cloud.google.com/bigquery/docs/reference/standard-sql/bigqueryml-syntax-validate-data-drift)\n",
    "    - [`ML.TFDV_DESCRIBE`](https://cloud.google.com/bigquery/docs/reference/standard-sql/bigqueryml-syntax-tfdv-describe)\n",
    "    - [`ML.TFDV_VALIDATE`](https://cloud.google.com/bigquery/docs/reference/standard-sql/bigqueryml-syntax-tfdv-validate)"
   ]
  },
  {
   "cell_type": "code",
   "execution_count": null,
   "id": "cc40c2d4-50f4-4c49-a2d9-20ab426d72ee",
   "metadata": {},
   "outputs": [],
   "source": []
  }
 ],
 "metadata": {
  "environment": {
   "kernel": "conda-root-py",
   "name": "workbench-notebooks.m119",
   "type": "gcloud",
   "uri": "us-docker.pkg.dev/deeplearning-platform-release/gcr.io/workbench-notebooks:m119"
  },
  "kernelspec": {
   "display_name": "Python 3 (ipykernel)",
   "language": "python",
   "name": "conda-root-py"
  },
  "language_info": {
   "codemirror_mode": {
    "name": "ipython",
    "version": 3
   },
   "file_extension": ".py",
   "mimetype": "text/x-python",
   "name": "python",
   "nbconvert_exporter": "python",
   "pygments_lexer": "ipython3",
   "version": "3.10.14"
  }
 },
 "nbformat": 4,
 "nbformat_minor": 5
}
