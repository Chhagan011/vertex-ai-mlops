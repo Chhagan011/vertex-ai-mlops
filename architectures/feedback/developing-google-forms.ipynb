{
 "cells": [
  {
   "cell_type": "markdown",
   "id": "bd0ded84-00cf-4c81-bbf1-ab8c3117574a",
   "metadata": {},
   "source": [
    "## Developing - Google Forms For Feedback\n",
    "\n",
    "Goal: create a Google Form for each notebook and readme in the repository.  Add a link to the form in the header and footer.  Collect responses in a common BigQuery table\n",
    "\n"
   ]
  },
  {
   "cell_type": "code",
   "execution_count": null,
   "id": "bd044a7d-a777-4c5f-ab1f-554d44829648",
   "metadata": {},
   "outputs": [],
   "source": []
  },
  {
   "cell_type": "code",
   "execution_count": null,
   "id": "ad25c981-f4b8-4b60-8172-329778b95ff6",
   "metadata": {},
   "outputs": [],
   "source": []
  },
  {
   "cell_type": "code",
   "execution_count": null,
   "id": "a319d863-c48e-455d-b1f9-9e37ccf161db",
   "metadata": {},
   "outputs": [],
   "source": []
  },
  {
   "cell_type": "code",
   "execution_count": null,
   "id": "5c821a96-4e2a-4b11-8349-186d19ba045a",
   "metadata": {},
   "outputs": [],
   "source": []
  },
  {
   "cell_type": "code",
   "execution_count": null,
   "id": "10461a01-ea61-4928-9524-d83fb33fc361",
   "metadata": {},
   "outputs": [],
   "source": []
  },
  {
   "cell_type": "code",
   "execution_count": null,
   "id": "879967af-9fd5-468e-8649-cd3c08db16b7",
   "metadata": {},
   "outputs": [],
   "source": []
  },
  {
   "cell_type": "code",
   "execution_count": null,
   "id": "f6269ab7-c3a4-45bc-800b-1c1dfe1b04ee",
   "metadata": {},
   "outputs": [],
   "source": []
  },
  {
   "cell_type": "code",
   "execution_count": null,
   "id": "9f89870f-48db-4623-877f-6debaaf7df9f",
   "metadata": {},
   "outputs": [],
   "source": []
  },
  {
   "cell_type": "code",
   "execution_count": null,
   "id": "01454579-fbf7-4228-83fb-b53ed690d035",
   "metadata": {},
   "outputs": [],
   "source": []
  },
  {
   "cell_type": "code",
   "execution_count": null,
   "id": "f9b89d52-4849-4323-9799-37f8e72204cd",
   "metadata": {},
   "outputs": [],
   "source": []
  },
  {
   "cell_type": "code",
   "execution_count": null,
   "id": "9e07eafb-f7e3-490b-a441-f1678dbc3cbc",
   "metadata": {},
   "outputs": [],
   "source": []
  },
  {
   "cell_type": "code",
   "execution_count": null,
   "id": "2866742b-d842-4b6b-8e93-bc1b05b55922",
   "metadata": {},
   "outputs": [],
   "source": []
  }
 ],
 "metadata": {
  "environment": {
   "kernel": "",
   "name": "workbench-notebooks.m115",
   "type": "gcloud",
   "uri": "gcr.io/deeplearning-platform-release/workbench-notebooks:m115"
  },
  "kernelspec": {
   "display_name": "",
   "name": ""
  },
  "language_info": {
   "name": ""
  }
 },
 "nbformat": 4,
 "nbformat_minor": 5
}
