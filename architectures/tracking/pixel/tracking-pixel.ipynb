{
 "cells": [
  {
   "cell_type": "markdown",
   "id": "d88fbc40-9562-40d8-8072-e1e03c7a1923",
   "metadata": {},
   "source": [
    "# Custom Tracking With Data Privacy\n",
    "\n",
    "Create a custom pixel tracker that only track loads and does not collect any personal information.\n",
    "\n",
    "**Goal:** A Cloud Function that is http triggered that will return a tracking pixel while receiving parameter for path and document.  Write the timestamp|path|document to a BigQuery Table."
   ]
  },
  {
   "cell_type": "markdown",
   "id": "785b32a4-fdd8-4694-9731-a6f37f662bca",
   "metadata": {
    "id": "od_UkDpvRmgD",
    "tags": []
   },
   "source": [
    "---\n",
    "## Colab Setup\n",
    "\n",
    "When running this notebook in [Colab](https://colab.google/) or [Colab Enterprise](https://cloud.google.com/colab/docs/introduction), this section will authenticate to GCP (follow prompts in the popup) and set the current project for the session."
   ]
  },
  {
   "cell_type": "code",
   "execution_count": 1,
   "id": "d4f36bd1-f58c-4ac5-ad98-2f648f926a83",
   "metadata": {
    "executionInfo": {
     "elapsed": 195,
     "status": "ok",
     "timestamp": 1683726184843,
     "user": {
      "displayName": "Mike Henderson",
      "userId": "07691629187611687318"
     },
     "user_tz": 240
    },
    "id": "8UO9FnqyKBlF",
    "tags": []
   },
   "outputs": [],
   "source": [
    "PROJECT_ID = 'statmike-mlops-349915' # replace with project ID"
   ]
  },
  {
   "cell_type": "code",
   "execution_count": 2,
   "id": "085e7b61-d48c-4c86-89ba-fd022db08701",
   "metadata": {
    "colab": {
     "base_uri": "https://localhost:8080/"
    },
    "executionInfo": {
     "elapsed": 68869,
     "status": "ok",
     "timestamp": 1683726253709,
     "user": {
      "displayName": "Mike Henderson",
      "userId": "07691629187611687318"
     },
     "user_tz": 240
    },
    "id": "N98-KK7LRkjm",
    "outputId": "09ec5008-0def-4e1a-c349-c598ee752f78",
    "tags": []
   },
   "outputs": [
    {
     "name": "stdout",
     "output_type": "stream",
     "text": [
      "Not a Colab Environment\n"
     ]
    }
   ],
   "source": [
    "try:\n",
    "    from google.colab import auth\n",
    "    auth.authenticate_user(project_id = PROJECT_ID)\n",
    "    print('Colab authorized to GCP')\n",
    "except Exception:\n",
    "    print('Not a Colab Environment')\n",
    "    pass"
   ]
  },
  {
   "cell_type": "markdown",
   "id": "ace6cbe5-e815-445e-aa48-58c16f9e5eee",
   "metadata": {},
   "source": [
    "---\n",
    "## Installs\n",
    "\n",
    "The list `packages` contains tuples of package import names and install names.  If the import name is not found then the install name is used to install quitely for the current user."
   ]
  },
  {
   "cell_type": "code",
   "execution_count": 26,
   "id": "0768b1f2-4d70-405d-b219-0262aeed126a",
   "metadata": {
    "tags": []
   },
   "outputs": [],
   "source": [
    "# tuples of (import name, install name, min_version)\n",
    "packages = [\n",
    "    ('google.cloud.functions', 'google-cloud-functions'),\n",
    "    ('google.cloud.storage', 'google-cloud-storage'),\n",
    "    ('flask', 'flask'),\n",
    "    ('PIL', 'Pillow'),\n",
    "    ('zipfile', 'zipfile')\n",
    "]\n",
    "\n",
    "import importlib\n",
    "install = False\n",
    "for package in packages:\n",
    "    if not importlib.util.find_spec(package[0]):\n",
    "        print(f'installing package {package[1]}')\n",
    "        install = True\n",
    "        !pip install {package[1]} -U -q --user\n",
    "    elif len(package) == 3:\n",
    "        if importlib.metadata.version(package[0]) < package[2]:\n",
    "            print(f'updating package {package[1]}')\n",
    "            install = True\n",
    "            !pip install {package[1]} -U -q --user"
   ]
  },
  {
   "cell_type": "markdown",
   "id": "ebc84ebe-e2e3-4c84-81a4-6a38ca53da06",
   "metadata": {},
   "source": [
    "## API Enablement"
   ]
  },
  {
   "cell_type": "code",
   "execution_count": 4,
   "id": "db2b8d2e-231f-4081-b8b3-2ba65f998778",
   "metadata": {
    "tags": []
   },
   "outputs": [],
   "source": [
    "!gcloud services enable cloudfunctions.googleapis.com"
   ]
  },
  {
   "cell_type": "markdown",
   "id": "a5c31543-ee1f-4510-aae8-26cf48f99fcd",
   "metadata": {},
   "source": [
    "### Restart Kernel (If Installs Occured)\n",
    "\n",
    "After a kernel restart the code submission can start with the next cell after this one."
   ]
  },
  {
   "cell_type": "code",
   "execution_count": 5,
   "id": "25b81546-b5d0-4e34-a5c8-26310f1af574",
   "metadata": {
    "tags": []
   },
   "outputs": [],
   "source": [
    "if install:\n",
    "    import IPython\n",
    "    app = IPython.Application.instance()\n",
    "    app.kernel.do_shutdown(True)"
   ]
  },
  {
   "cell_type": "markdown",
   "id": "ed6c74d6-24db-4063-a18b-056797759277",
   "metadata": {
    "id": "appt8-yVRtJ1"
   },
   "source": [
    "---\n",
    "## Setup"
   ]
  },
  {
   "cell_type": "markdown",
   "id": "a719446f-492f-4138-82b0-534d7bf4a38d",
   "metadata": {
    "id": "63mx2EozRxFP"
   },
   "source": [
    "Inputs"
   ]
  },
  {
   "cell_type": "code",
   "execution_count": 6,
   "id": "4182c9be-9ec6-4752-9ee5-b26f6e2a1e4b",
   "metadata": {
    "colab": {
     "base_uri": "https://localhost:8080/",
     "height": 35
    },
    "executionInfo": {
     "elapsed": 2124,
     "status": "ok",
     "timestamp": 1683726390544,
     "user": {
      "displayName": "Mike Henderson",
      "userId": "07691629187611687318"
     },
     "user_tz": 240
    },
    "id": "xzcoXjM5Rky5",
    "outputId": "b3bdcbc1-70d5-472e-aea2-42c74a42efde",
    "tags": []
   },
   "outputs": [
    {
     "data": {
      "text/plain": [
       "'statmike-mlops-349915'"
      ]
     },
     "execution_count": 6,
     "metadata": {},
     "output_type": "execute_result"
    }
   ],
   "source": [
    "project = !gcloud config get-value project\n",
    "PROJECT_ID = project[0]\n",
    "PROJECT_ID"
   ]
  },
  {
   "cell_type": "code",
   "execution_count": 23,
   "id": "1bb58b8b-92d1-44b8-a689-92a96f6d054b",
   "metadata": {
    "executionInfo": {
     "elapsed": 2,
     "status": "ok",
     "timestamp": 1683726390712,
     "user": {
      "displayName": "Mike Henderson",
      "userId": "07691629187611687318"
     },
     "user_tz": 240
    },
    "id": "IxWrFtqYMfku",
    "tags": []
   },
   "outputs": [],
   "source": [
    "REGION = 'us-central1'\n",
    "\n",
    "SERIES = 'tracking'\n",
    "EXPERIMENT = 'pixel'\n",
    "\n",
    "GCS_BUCKET = PROJECT_ID"
   ]
  },
  {
   "cell_type": "markdown",
   "id": "40732a4e-9a2b-4cdc-9229-d69922c37d2b",
   "metadata": {
    "id": "LuajVwCiO6Yg"
   },
   "source": [
    "Packages"
   ]
  },
  {
   "cell_type": "code",
   "execution_count": 158,
   "id": "6598824e-4dc9-4dce-af2a-f84d520f81cf",
   "metadata": {
    "executionInfo": {
     "elapsed": 17761,
     "status": "ok",
     "timestamp": 1683726409304,
     "user": {
      "displayName": "Mike Henderson",
      "userId": "07691629187611687318"
     },
     "user_tz": 240
    },
    "id": "LVC7zzSLRk2C",
    "tags": []
   },
   "outputs": [],
   "source": [
    "import os\n",
    "import json\n",
    "\n",
    "import PIL, PIL.Image\n",
    "import zipfile\n",
    "\n",
    "from google.cloud import functions_v2\n",
    "from google.cloud import storage"
   ]
  },
  {
   "cell_type": "markdown",
   "id": "52506bdb-acd9-4b53-aed0-1ed135283963",
   "metadata": {
    "id": "EyAVFG9TO9H-"
   },
   "source": [
    "Clients"
   ]
  },
  {
   "cell_type": "code",
   "execution_count": 37,
   "id": "4fc3b95e-dc6e-4ae8-8d5f-7821622c4c84",
   "metadata": {
    "executionInfo": {
     "elapsed": 19,
     "status": "ok",
     "timestamp": 1683726409306,
     "user": {
      "displayName": "Mike Henderson",
      "userId": "07691629187611687318"
     },
     "user_tz": 240
    },
    "id": "L0RPE13LOZce",
    "tags": []
   },
   "outputs": [],
   "source": [
    "functions_client = functions_v2.FunctionServiceClient()\n",
    "gcs = storage.Client(project = PROJECT_ID)\n",
    "bucket = gcs.bucket(GCS_BUCKET)"
   ]
  },
  {
   "cell_type": "markdown",
   "id": "06030022-a3bc-44a1-af07-02f5bc585a73",
   "metadata": {},
   "source": [
    "parameters:"
   ]
  },
  {
   "cell_type": "code",
   "execution_count": 10,
   "id": "c2b7100e-4bbb-401a-9595-f17037767cc5",
   "metadata": {
    "tags": []
   },
   "outputs": [],
   "source": [
    "DIR = f\"cloud_function\""
   ]
  },
  {
   "cell_type": "code",
   "execution_count": 11,
   "id": "f2e9d6c2-c8c2-4960-8fc9-a1f80a7a5367",
   "metadata": {
    "tags": []
   },
   "outputs": [
    {
     "data": {
      "text/plain": [
       "'1026793852137-compute@developer.gserviceaccount.com'"
      ]
     },
     "execution_count": 11,
     "metadata": {},
     "output_type": "execute_result"
    }
   ],
   "source": [
    "SERVICE_ACCOUNT = !gcloud config list --format='value(core.account)' \n",
    "SERVICE_ACCOUNT = SERVICE_ACCOUNT[0]\n",
    "SERVICE_ACCOUNT"
   ]
  },
  {
   "cell_type": "markdown",
   "id": "4da57ecc-4b76-4ac4-b79e-51581f8956ad",
   "metadata": {},
   "source": [
    "environment:"
   ]
  },
  {
   "cell_type": "code",
   "execution_count": 12,
   "id": "25b7fcb5-2cfe-481c-a8eb-b3340afc8035",
   "metadata": {
    "tags": []
   },
   "outputs": [],
   "source": [
    "if not os.path.exists(DIR):\n",
    "    os.makedirs(DIR)"
   ]
  },
  {
   "cell_type": "markdown",
   "id": "c03c2998-dc9f-48c8-b7d3-6c88785817b2",
   "metadata": {},
   "source": [
    "---\n",
    "## Local Development"
   ]
  },
  {
   "cell_type": "code",
   "execution_count": 59,
   "id": "4f14b9a1-9cfe-4fed-847d-4d4ac32579c5",
   "metadata": {
    "tags": []
   },
   "outputs": [
    {
     "data": {
      "text/plain": [
       "'tracking_pixel'"
      ]
     },
     "execution_count": 59,
     "metadata": {},
     "output_type": "execute_result"
    }
   ],
   "source": [
    "function_name = f'{SERIES}_{EXPERIMENT}'\n",
    "function_name"
   ]
  },
  {
   "cell_type": "markdown",
   "id": "bf30f2ec-7397-465a-b7c9-7847d2ba12c7",
   "metadata": {},
   "source": [
    "### Create A Pixel\n",
    "\n",
    "0,0,0 is black and alpha chanel of 0 also black makes this transparent..."
   ]
  },
  {
   "cell_type": "code",
   "execution_count": 18,
   "id": "fa47f01a-fe33-41c0-b3ca-58dcc3f607db",
   "metadata": {
    "tags": []
   },
   "outputs": [],
   "source": [
    "pixel = PIL.Image.new(mode = 'RGBA', size = (1,1), color = (0,0,0,0))"
   ]
  },
  {
   "cell_type": "code",
   "execution_count": 19,
   "id": "2dad1c09-2964-4aba-9aad-68966bcf38e6",
   "metadata": {
    "tags": []
   },
   "outputs": [],
   "source": [
    "pixel.save(f'{DIR}/pixel.png')"
   ]
  },
  {
   "cell_type": "markdown",
   "id": "4ecfefda-cbb6-485e-9ea3-0697c39844f7",
   "metadata": {},
   "source": [
    "### Create Code"
   ]
  },
  {
   "cell_type": "code",
   "execution_count": 83,
   "id": "2a024015-bdb8-476d-840d-59eb0821c393",
   "metadata": {
    "tags": []
   },
   "outputs": [
    {
     "name": "stdout",
     "output_type": "stream",
     "text": [
      "Overwriting cloud_function/main.py\n"
     ]
    }
   ],
   "source": [
    "%%writefile {DIR}/main.py\n",
    "import flask\n",
    "from flask import abort\n",
    "\n",
    "def tracking_pixel(request: flask.Request) -> flask.Response:\n",
    "    \n",
    "    repo_path = request.args.get('path', 'direct')\n",
    "    repo_file = request.args.get('file', 'direct')\n",
    "    \n",
    "    if repo_path.startswith('statmike') and len(repo_path) < 500:\n",
    "        if len(repo_file) < 500:\n",
    "            print('This is where the values can be streamed to BQ with timestamp')\n",
    "        else:\n",
    "            return abort(406) # not acceptable\n",
    "    else:\n",
    "        return abort(404) # bad request\n",
    "    \n",
    "    return flask.send_file('pixel.png')"
   ]
  },
  {
   "cell_type": "code",
   "execution_count": 84,
   "id": "9709f701-7da6-4c75-91fe-194417d26edb",
   "metadata": {
    "tags": []
   },
   "outputs": [
    {
     "name": "stdout",
     "output_type": "stream",
     "text": [
      "Overwriting cloud_function/requirements.py\n"
     ]
    }
   ],
   "source": [
    "%%writefile {DIR}/requirements.py\n",
    "flask"
   ]
  },
  {
   "cell_type": "markdown",
   "id": "e5a58963-4a8b-42b4-94ff-0d82cbf23d8b",
   "metadata": {},
   "source": [
    "### Zip Files"
   ]
  },
  {
   "cell_type": "code",
   "execution_count": 85,
   "id": "c6ef02d0-1d2a-416e-83aa-54edf79658c7",
   "metadata": {
    "tags": []
   },
   "outputs": [],
   "source": [
    "with zipfile.ZipFile(f'{DIR}/{function_name}.zip', mode = 'w') as archive:\n",
    "    archive.write(f'{DIR}/main.py', 'main.py')\n",
    "    archive.write(f'{DIR}/requirements.py', 'requirements.py')\n",
    "    archive.write(f'{DIR}/pixel.png', 'pixel.png')"
   ]
  },
  {
   "cell_type": "code",
   "execution_count": 86,
   "id": "c5aabee3-206d-4ffb-b2c3-616b9f2d86b9",
   "metadata": {
    "tags": []
   },
   "outputs": [
    {
     "name": "stdout",
     "output_type": "stream",
     "text": [
      "File Name                                             Modified             Size\n",
      "main.py                                        2024-03-23 14:17:58          550\n",
      "requirements.py                                2024-03-23 14:18:00            6\n",
      "pixel.png                                      2024-03-23 07:45:14           70\n"
     ]
    }
   ],
   "source": [
    "with zipfile.ZipFile(f'{DIR}/{function_name}.zip', mode = 'r') as zip:\n",
    "    zip.printdir()"
   ]
  },
  {
   "cell_type": "markdown",
   "id": "70e530d9-c70b-4941-acaa-30c631c8686c",
   "metadata": {},
   "source": [
    "## Deploy Function"
   ]
  },
  {
   "cell_type": "markdown",
   "id": "210fc8be-e41b-4218-995f-55004a71a7b9",
   "metadata": {},
   "source": [
    "### Copy To GCS"
   ]
  },
  {
   "cell_type": "code",
   "execution_count": 87,
   "id": "c0b5a788-bda3-43de-9724-15b774cd3d1f",
   "metadata": {
    "tags": []
   },
   "outputs": [],
   "source": [
    "blob = bucket.blob(f'architectures/{SERIES}/{EXPERIMENT}/{function_name}.zip')\n",
    "blob.upload_from_filename(f'{DIR}/{function_name}.zip')"
   ]
  },
  {
   "cell_type": "markdown",
   "id": "ea0dd710-2501-4679-b749-4dffed24ce1c",
   "metadata": {},
   "source": [
    "### Create/Update Function"
   ]
  },
  {
   "cell_type": "code",
   "execution_count": 94,
   "id": "b5431ece-e659-4b7a-aaec-8607d29ca932",
   "metadata": {
    "tags": []
   },
   "outputs": [
    {
     "data": {
      "text/plain": [
       "name: \"projects/statmike-mlops-349915/locations/us-central1/functions/tracking-pixel\"\n",
       "build_config {\n",
       "  build: \"projects/1026793852137/locations/us-central1/builds/69aecb52-b4d3-4ade-b36b-6c15ba69e7f0\"\n",
       "  runtime: \"python312\"\n",
       "  entry_point: \"tracking_pixel\"\n",
       "  source {\n",
       "    storage_source {\n",
       "      bucket: \"gcf-v2-sources-1026793852137-us-central1\"\n",
       "      object_: \"tracking-pixel/function-source.zip\"\n",
       "      generation: 1711203261535891\n",
       "    }\n",
       "  }\n",
       "  docker_repository: \"projects/statmike-mlops-349915/locations/us-central1/repositories/gcf-artifacts\"\n",
       "  source_provenance {\n",
       "    resolved_storage_source {\n",
       "      bucket: \"gcf-v2-sources-1026793852137-us-central1\"\n",
       "      object_: \"tracking-pixel/function-source.zip\"\n",
       "      generation: 1711203261535891\n",
       "    }\n",
       "  }\n",
       "  docker_registry: ARTIFACT_REGISTRY\n",
       "}\n",
       "state: FAILED\n",
       "update_time {\n",
       "  seconds: 1711203330\n",
       "  nanos: 233330017\n",
       "}\n",
       "state_messages {\n",
       "  severity: ERROR\n",
       "  type_: \"CloudRunServiceNotFound\"\n",
       "  message: \"Cloud Run service projects/statmike-mlops-349915/locations/us-central1/services/tracking-pixel for the function was not found. The function will not work correctly. Please redeploy.\"\n",
       "}\n",
       "environment: GEN_2\n",
       "url: \"https://us-central1-statmike-mlops-349915.cloudfunctions.net/tracking-pixel\""
      ]
     },
     "execution_count": 94,
     "metadata": {},
     "output_type": "execute_result"
    }
   ],
   "source": [
    "try:\n",
    "    function = functions_client.get_function(\n",
    "        name = f\"projects/{PROJECT_ID}/locations/{REGION}/functions/{function_name.replace('_', '-')}\"\n",
    "    )\n",
    "except Exception:\n",
    "    function = ''\n",
    "    \n",
    "function"
   ]
  },
  {
   "cell_type": "code",
   "execution_count": 95,
   "id": "7973f166-09a9-4edb-a0ed-6131dd0344a7",
   "metadata": {
    "tags": []
   },
   "outputs": [],
   "source": [
    "functionDef = functions_v2.Function(\n",
    "    name = f\"projects/{PROJECT_ID}/locations/{REGION}/functions/{function_name.replace('_', '-')}\",\n",
    "    build_config = functions_v2.BuildConfig(\n",
    "        runtime = 'python312',\n",
    "        entry_point = f'{function_name}',\n",
    "        source = functions_v2.Source(\n",
    "            storage_source = functions_v2.StorageSource(\n",
    "                bucket = bucket.name,\n",
    "                object_ = blob.name\n",
    "            )\n",
    "        ),\n",
    "    ),\n",
    "    service_config = functions_v2.ServiceConfig(\n",
    "        timeout_seconds = 10,\n",
    "        available_memory = '128Mi',\n",
    "        max_instance_count = 5,\n",
    "        max_instance_request_concurrency = 1\n",
    "    ),\n",
    "    environment = functions_v2.Environment(2) \n",
    ")"
   ]
  },
  {
   "cell_type": "code",
   "execution_count": 96,
   "id": "5f431d9e-0b96-43cb-9cb6-ca027d2378a2",
   "metadata": {
    "tags": []
   },
   "outputs": [],
   "source": [
    "#!gcloud functions runtimes list"
   ]
  },
  {
   "cell_type": "code",
   "execution_count": 97,
   "id": "9ea71508-0f86-42aa-8846-1bf1d2b72937",
   "metadata": {
    "tags": []
   },
   "outputs": [],
   "source": [
    "#!gcloud functions event-types list"
   ]
  },
  {
   "cell_type": "code",
   "execution_count": 98,
   "id": "cef6af5c-3dd7-4270-a7e7-194dbd75da68",
   "metadata": {
    "tags": []
   },
   "outputs": [],
   "source": [
    "if function:\n",
    "    operation = functions_client.update_function(\n",
    "        function = functionDef\n",
    "    )\n",
    "else:\n",
    "    operation = functions_client.create_function(\n",
    "        parent = f\"projects/{PROJECT_ID}/locations/{REGION}\",\n",
    "        function = functionDef,\n",
    "        function_id = function_name.replace('_', '-')\n",
    "    )"
   ]
  },
  {
   "cell_type": "code",
   "execution_count": 99,
   "id": "ed1feb10-5e22-4db1-a061-9c0be047ae1d",
   "metadata": {
    "tags": []
   },
   "outputs": [
    {
     "name": "stdout",
     "output_type": "stream",
     "text": [
      "name: \"projects/statmike-mlops-349915/locations/us-central1/functions/tracking-pixel\"\n",
      "build_config {\n",
      "  build: \"projects/1026793852137/locations/us-central1/builds/9045b356-1ad7-42c1-a778-dfda9691211d\"\n",
      "  runtime: \"python312\"\n",
      "  entry_point: \"tracking_pixel\"\n",
      "  source {\n",
      "    storage_source {\n",
      "      bucket: \"gcf-v2-sources-1026793852137-us-central1\"\n",
      "      object_: \"tracking-pixel/function-source.zip\"\n",
      "      generation: 1711203824108304\n",
      "    }\n",
      "  }\n",
      "  docker_repository: \"projects/statmike-mlops-349915/locations/us-central1/repositories/gcf-artifacts\"\n",
      "  source_provenance {\n",
      "    resolved_storage_source {\n",
      "      bucket: \"gcf-v2-sources-1026793852137-us-central1\"\n",
      "      object_: \"tracking-pixel/function-source.zip\"\n",
      "      generation: 1711203824108304\n",
      "    }\n",
      "  }\n",
      "  docker_registry: ARTIFACT_REGISTRY\n",
      "}\n",
      "service_config {\n",
      "  service: \"projects/statmike-mlops-349915/locations/us-central1/services/tracking-pixel\"\n",
      "  timeout_seconds: 10\n",
      "  max_instance_count: 5\n",
      "  ingress_settings: ALLOW_ALL\n",
      "  uri: \"https://tracking-pixel-urlxi72dpa-uc.a.run.app\"\n",
      "  service_account_email: \"1026793852137-compute@developer.gserviceaccount.com\"\n",
      "  available_memory: \"128Mi\"\n",
      "  all_traffic_on_latest_revision: true\n",
      "  revision: \"tracking-pixel-00001-mot\"\n",
      "  max_instance_request_concurrency: 1\n",
      "  available_cpu: \"0.0833\"\n",
      "}\n",
      "state: ACTIVE\n",
      "update_time {\n",
      "  seconds: 1711203824\n",
      "  nanos: 151743404\n",
      "}\n",
      "environment: GEN_2\n",
      "url: \"https://us-central1-statmike-mlops-349915.cloudfunctions.net/tracking-pixel\"\n",
      "\n"
     ]
    }
   ],
   "source": [
    "response = operation.result()\n",
    "print(response)"
   ]
  },
  {
   "cell_type": "code",
   "execution_count": 113,
   "id": "ddafb380-16c9-4672-900a-8e3b41eb98d5",
   "metadata": {
    "tags": []
   },
   "outputs": [
    {
     "data": {
      "text/plain": [
       "'https://us-central1-statmike-mlops-349915.cloudfunctions.net/tracking-pixel'"
      ]
     },
     "execution_count": 113,
     "metadata": {},
     "output_type": "execute_result"
    }
   ],
   "source": [
    "response.url"
   ]
  },
  {
   "cell_type": "markdown",
   "id": "4980ee7c-3a8f-4b1d-a9e3-f5d9b81fed91",
   "metadata": {},
   "source": [
    "### Make Public\n",
    "\n",
    "- https://cloud.google.com/functions/docs/securing/managing-access-iam#allowing_unauthenticated_http_function_invocation"
   ]
  },
  {
   "cell_type": "code",
   "execution_count": 150,
   "id": "29db54ff-7af0-4f33-b2e2-b2d22aa01cea",
   "metadata": {
    "tags": []
   },
   "outputs": [
    {
     "name": "stdout",
     "output_type": "stream",
     "text": [
      "etag: BwYUVYrEWQs=\n",
      "version: 1\n"
     ]
    }
   ],
   "source": [
    "!gcloud run services get-iam-policy {function_name.replace('_', '-')} --region=$REGION #--format=json"
   ]
  },
  {
   "cell_type": "code",
   "execution_count": 151,
   "id": "5a8b56e6-775e-4710-8e2a-9bbf540903c8",
   "metadata": {
    "tags": []
   },
   "outputs": [],
   "source": [
    "#json.loads(''.join(test))"
   ]
  },
  {
   "cell_type": "markdown",
   "id": "4f040db0-8809-43e5-b65b-eb1536dd266a",
   "metadata": {},
   "source": [
    "if missing `allUsers` with `roles/run.invoker` the add it:"
   ]
  },
  {
   "cell_type": "code",
   "execution_count": 152,
   "id": "99be05e5-6665-4a41-ba98-2b716fed981d",
   "metadata": {
    "tags": []
   },
   "outputs": [
    {
     "name": "stdout",
     "output_type": "stream",
     "text": [
      "Updated IAM policy for service [tracking-pixel].\n",
      "bindings:\n",
      "- members:\n",
      "  - allUsers\n",
      "  role: roles/run.invoker\n",
      "etag: BwYUVZOnbwM=\n",
      "version: 1\n"
     ]
    }
   ],
   "source": [
    "!gcloud run services add-iam-policy-binding {function_name.replace('_', '-')} --region=$REGION --member=\"allUsers\" --role=\"roles/run.invoker\""
   ]
  },
  {
   "cell_type": "markdown",
   "id": "16b28894-e046-4045-a922-88888f4ce081",
   "metadata": {},
   "source": [
    "To remove open access use the following:\n",
    "\n",
    "Note: this can take a minute to stop the requests"
   ]
  },
  {
   "cell_type": "code",
   "execution_count": 153,
   "id": "c198ab38-22cb-4e2c-bc0c-76312f840231",
   "metadata": {
    "tags": []
   },
   "outputs": [],
   "source": [
    "#!gcloud run services remove-iam-policy-binding {function_name.replace('_', '-')} --region=$REGION --member=\"allUsers\" --role=\"roles/run.invoker\""
   ]
  },
  {
   "cell_type": "markdown",
   "id": "f1f49fbb-276b-43f8-bec6-7b758c517dfc",
   "metadata": {},
   "source": [
    "### Test Function"
   ]
  },
  {
   "cell_type": "code",
   "execution_count": 156,
   "id": "b02029ce-d325-4768-872c-12d2471131bb",
   "metadata": {
    "tags": []
   },
   "outputs": [],
   "source": [
    "test_response = !curl -s POST https://us-central1-statmike-mlops-349915.cloudfunctions.net/tracking-pixel?path=statmike&file=tester"
   ]
  },
  {
   "cell_type": "code",
   "execution_count": 157,
   "id": "71c70e28-53f1-42f4-aa8b-747d367a1dc5",
   "metadata": {
    "tags": []
   },
   "outputs": [
    {
     "data": {
      "text/plain": [
       "['�PNG',\n",
       " '\\x1a',\n",
       " '\\x00\\x00\\x00',\n",
       " 'IHDR\\x00\\x00\\x00\\x01\\x00\\x00\\x00\\x01\\x08\\x06\\x00\\x00\\x00\\x1f\\x15ĉ\\x00\\x00\\x00',\n",
       " 'IDATx�c````\\x00\\x00\\x00\\x05\\x00\\x01��E@\\x00\\x00\\x00\\x00IEND�B`�']"
      ]
     },
     "execution_count": 157,
     "metadata": {},
     "output_type": "execute_result"
    }
   ],
   "source": [
    "test_response"
   ]
  },
  {
   "cell_type": "code",
   "execution_count": 161,
   "id": "f811f670-8bbf-476b-aae9-921d95ee344b",
   "metadata": {
    "tags": []
   },
   "outputs": [
    {
     "name": "stdout",
     "output_type": "stream",
     "text": [
      "https://us-central1-statmike-mlops-349915.cloudfunctions.net/tracking-pixel?path=statmike&file=tester\n"
     ]
    }
   ],
   "source": [
    "print(f\"{response.url}?path=statmike&file=tester\")"
   ]
  },
  {
   "cell_type": "code",
   "execution_count": 162,
   "id": "2c8f19c5-633c-4da7-a398-bf96896da05b",
   "metadata": {
    "tags": []
   },
   "outputs": [
    {
     "name": "stdout",
     "output_type": "stream",
     "text": [
      "https://us-central1-statmike-mlops-349915.cloudfunctions.net/tracking-pixel?path=notstatmike&file=tester\n"
     ]
    }
   ],
   "source": [
    "print(f\"{response.url}?path=notstatmike&file=tester\")"
   ]
  },
  {
   "cell_type": "code",
   "execution_count": null,
   "id": "48cfc366-eb06-4c02-b6f2-80a8e7300e64",
   "metadata": {},
   "outputs": [],
   "source": []
  },
  {
   "cell_type": "markdown",
   "id": "fc525f7b-f1d4-45bc-8d8c-88b2e5ff70a4",
   "metadata": {
    "tags": []
   },
   "source": [
    "## TODO\n",
    "\n",
    "- run as new sevice account with minimum roles\n",
    "- log file+path to bigquery table - include datetime\n",
    "- add testing to function"
   ]
  },
  {
   "cell_type": "raw",
   "id": "63438969-fb52-465a-9dbb-104d7d4eec30",
   "metadata": {},
   "source": [
    "https://www.google-analytics.com/collect?v=2\n",
    "&tid=G-6VDTYWLKX6\n",
    "&cid=1\n",
    "&en=page_view\n",
    "&sid=1&\n",
    "dl=statmike%2Fvertex-ai-mlops%2Farchitectures%2Ftracking%2Fsetup%2Fgithub\n",
    "&dt=GitHub+Metrics+-+3+-+Commits+-+Incremental+Update+Cloud+Function.ipynb"
   ]
  }
 ],
 "metadata": {
  "environment": {
   "kernel": "conda-root-py",
   "name": "workbench-notebooks.m115",
   "type": "gcloud",
   "uri": "gcr.io/deeplearning-platform-release/workbench-notebooks:m115"
  },
  "kernelspec": {
   "display_name": "Python 3 (ipykernel)",
   "language": "python",
   "name": "conda-root-py"
  },
  "language_info": {
   "codemirror_mode": {
    "name": "ipython",
    "version": 3
   },
   "file_extension": ".py",
   "mimetype": "text/x-python",
   "name": "python",
   "nbconvert_exporter": "python",
   "pygments_lexer": "ipython3",
   "version": "3.10.13"
  }
 },
 "nbformat": 4,
 "nbformat_minor": 5
}
