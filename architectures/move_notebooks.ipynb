{
 "cells": [
  {
   "cell_type": "markdown",
   "id": "83f4886d",
   "metadata": {},
   "source": [
    "![tracker](https://us-central1-vertex-ai-mlops-369716.cloudfunctions.net/pixel-tracking?path=statmike%2Fvertex-ai-mlops%2Farchitectures&file=move_notebooks.ipynb)\n",
    "<!--- header table --->\n",
    "<table align=\"left\">\n",
    "  <td style=\"text-align: center\">\n",
    "    <a href=\"https://colab.research.google.com/github/statmike/vertex-ai-mlops/blob/main/architectures/move_notebooks.ipynb\">\n",
    "      <img src=\"https://cloud.google.com/ml-engine/images/colab-logo-32px.png\" alt=\"Google Colaboratory logo\">\n",
    "      <br>Run in<br>Colab\n",
    "    </a>\n",
    "  </td>\n",
    "  <td style=\"text-align: center\">\n",
    "    <a href=\"https://console.cloud.google.com/vertex-ai/colab/import/https%3A%2F%2Fraw.githubusercontent.com%2Fstatmike%2Fvertex-ai-mlops%2Fmain%2Farchitectures%2Fmove_notebooks.ipynb\">\n",
    "      <img width=\"32px\" src=\"https://lh3.googleusercontent.com/JmcxdQi-qOpctIvWKgPtrzZdJJK-J3sWE1RsfjZNwshCFgE_9fULcNpuXYTilIR2hjwN\" alt=\"Google Cloud Colab Enterprise logo\">\n",
    "      <br>Run in<br>Colab Enterprise\n",
    "    </a>\n",
    "  </td>      \n",
    "  <td style=\"text-align: center\">\n",
    "    <a href=\"https://github.com/statmike/vertex-ai-mlops/blob/main/architectures/move_notebooks.ipynb\">\n",
    "      <img src=\"https://cloud.google.com/ml-engine/images/github-logo-32px.png\" alt=\"GitHub logo\">\n",
    "      <br>View on<br>GitHub\n",
    "    </a>\n",
    "  </td>\n",
    "  <td style=\"text-align: center\">\n",
    "    <a href=\"https://console.cloud.google.com/vertex-ai/workbench/deploy-notebook?download_url=https://raw.githubusercontent.com/statmike/vertex-ai-mlops/main/architectures/move_notebooks.ipynb\">\n",
    "      <img src=\"https://lh3.googleusercontent.com/UiNooY4LUgW_oTvpsNhPpQzsstV5W8F7rYgxgGBD85cWJoLmrOzhVs_ksK_vgx40SHs7jCqkTkCk=e14-rj-sc0xffffff-h130-w32\" alt=\"Vertex AI logo\">\n",
    "      <br>Open in<br>Vertex AI Workbench\n",
    "    </a>\n",
    "  </td>\n",
    "</table>"
   ]
  },
  {
   "cell_type": "markdown",
   "id": "13f2d1c2-da30-4756-93cf-47ac14bce0db",
   "metadata": {},
   "source": [
    "# Moving Notebook Files\n",
    "\n",
    "Used to move files or folders to different folders within the repo\n",
    "- preserves files commmit history by using `git mv`\n",
    "- Will fix relative links within markdown cells of notebooks and within markdown files.\n",
    "- adds banner at top of file to indicate the files move and status"
   ]
  },
  {
   "cell_type": "markdown",
   "id": "4f76654f-35f2-43ad-a162-132b8a1698e5",
   "metadata": {},
   "source": [
    "---\n",
    "## Setup"
   ]
  },
  {
   "cell_type": "markdown",
   "id": "7c10b8a8-2e5b-4b6b-8ad0-af72590506fe",
   "metadata": {},
   "source": [
    "Installs:"
   ]
  },
  {
   "cell_type": "code",
   "execution_count": 21,
   "id": "9a5dd3fe-6e2e-4edd-a64d-92b9ce0f8466",
   "metadata": {
    "tags": []
   },
   "outputs": [],
   "source": [
    "#!pip install GitPython"
   ]
  },
  {
   "cell_type": "markdown",
   "id": "05f51afa-a5d7-4100-ad3b-68d9610b2447",
   "metadata": {},
   "source": [
    "Imports:"
   ]
  },
  {
   "cell_type": "code",
   "execution_count": 1,
   "id": "05f17c9c-bd1d-46d8-83cf-8453c0cc1a65",
   "metadata": {
    "tags": []
   },
   "outputs": [
    {
     "data": {
      "text/plain": [
       "nbformat.NO_CONVERT"
      ]
     },
     "execution_count": 1,
     "metadata": {},
     "output_type": "execute_result"
    }
   ],
   "source": [
    "import os, json, urllib.parse, IPython, pathlib, nbformat, re, git\n",
    "\n",
    "nbformat.NO_CONVERT"
   ]
  },
  {
   "cell_type": "markdown",
   "id": "dfec3bf5-3fa6-44d7-9a64-7f7f3a6b926c",
   "metadata": {},
   "source": [
    "---\n",
    "## Locations\n",
    "\n",
    "`from_path` and `to_path` can be a folder or a specific file."
   ]
  },
  {
   "cell_type": "code",
   "execution_count": 2,
   "id": "01bc93a0-f0c0-47b7-98a8-3be92a5d64a8",
   "metadata": {
    "tags": []
   },
   "outputs": [
    {
     "data": {
      "text/plain": [
       "'/home/jupyter/vertex-ai-mlops/Applied GenAI/resources'"
      ]
     },
     "execution_count": 2,
     "metadata": {},
     "output_type": "execute_result"
    }
   ],
   "source": [
    "os.getcwd()"
   ]
  },
  {
   "cell_type": "code",
   "execution_count": 3,
   "id": "5d458b2f-9af4-4fee-af5b-27709ce91720",
   "metadata": {
    "tags": []
   },
   "outputs": [
    {
     "data": {
      "text/plain": [
       "(PosixPath('/home/jupyter/vertex-ai-mlops'),\n",
       " PosixPath('/home/jupyter/vertex-ai-mlops/Applied GenAI/Vertex AI Search'),\n",
       " PosixPath('/home/jupyter/vertex-ai-mlops/Applied GenAI/legacy/Vertex AI Search'))"
      ]
     },
     "execution_count": 3,
     "metadata": {},
     "output_type": "execute_result"
    }
   ],
   "source": [
    "repo_path = pathlib.Path('/home/jupyter/vertex-ai-mlops')\n",
    "from_path = repo_path.joinpath('Applied GenAI/Vertex AI Search')\n",
    "to_path = repo_path.joinpath('Applied GenAI/legacy/Vertex AI Search')\n",
    "repo_path, from_path, to_path"
   ]
  },
  {
   "cell_type": "raw",
   "id": "83665803-247a-463a-98fa-e8995c97ae0c",
   "metadata": {},
   "source": [
    "files = [\n",
    "    \"Summarize Conversations - Text and Audio.ipynb\",\n",
    "    \"Vertex AI GenAI For Document Q&A - USGA Rules For Golf.ipynb\",\n",
    "    \"Vertex AI GenAI For Document Q&A v2 - MLB Rules For Baseball.ipynb\",\n",
    "    \"Vertex AI GenAI For Document Q&A - NHL Rules For Hockey.ipynb\",\n",
    "    \"Vertex AI GenAI For BigQuery Metadata - Make Better Tables.ipynb\",\n",
    "    \"Vertex AI GenAI For Document Q&A - Healthcare Benefits Member Handbook.ipynb\",\n",
    "    \"Vertex AI GenAI For Document Q&A - MCC Laws For Cricket.ipynb\",\n",
    "    \"Vertex AI Matching Engine For Document Q&A.ipynb\",\n",
    "    \"Vertex AI GenAI For Rewriting - BigQuery Advisor With Codey.ipynb\",\n",
    "    \"Vertex AI GenAI For Document Q&A - Annual Report.ipynb\",\n",
    "    \"Vertex AI GenAI For Document Q&A v2 - Deed Of Trust.ipynb\",\n",
    "    \"Vertex AI GenAI For Document Q&A - FAA Regulations.ipynb\",\n",
    "    \"Vertex AI GenAI For BigQuery Q&A - Overview.ipynb\",\n",
    "    \"Vertex AI GenAI For Document Q&A - Local Government Trends.ipynb\",\n",
    "    \"Vertex AI GenAI For Document Q&A v2 - Employee Handbook.ipynb\",\n",
    "    \"Vertex AI GenAI For Document Q&A - MLB Rules For Baseball.ipynb\",\n",
    "    \"Vertex AI GenAI For Document Q&A - NFL Rules For Football.ipynb\",\n",
    "    \"Vertex AI GenAI For Document Q&A - NBA Rules For Basketball.ipynb\",\n",
    "    \"Vertex AI GenAI For Document Q&A - IFAB Laws For Soccer.ipynb\",\n",
    "    \"Vertex AI GenAI For Document Q&A - Municipal Securities.ipynb\",\n",
    "]"
   ]
  },
  {
   "cell_type": "markdown",
   "id": "908460ab-7d36-4191-bfeb-3d7bfd6305ca",
   "metadata": {
    "tags": []
   },
   "source": [
    "---\n",
    "## Move Folder/File\n",
    "\n",
    "This is a git repository so it is important to move the files with the commit history preserved using `git mv old_file new_file`."
   ]
  },
  {
   "cell_type": "code",
   "execution_count": 4,
   "id": "66b44546-c915-425f-8074-24387e37fb7a",
   "metadata": {
    "tags": []
   },
   "outputs": [],
   "source": [
    "repo = git.Repo(repo_path)"
   ]
  },
  {
   "cell_type": "code",
   "execution_count": 5,
   "id": "9aa40a35-9a47-4f6e-a7aa-473b1e398140",
   "metadata": {
    "tags": []
   },
   "outputs": [
    {
     "data": {
      "text/plain": [
       "True"
      ]
     },
     "execution_count": 5,
     "metadata": {},
     "output_type": "execute_result"
    }
   ],
   "source": [
    "to_path.exists()"
   ]
  },
  {
   "cell_type": "code",
   "execution_count": 6,
   "id": "ca537a9e-e001-477f-aa51-5d6aff0128cb",
   "metadata": {
    "tags": []
   },
   "outputs": [
    {
     "name": "stdout",
     "output_type": "stream",
     "text": [
      "It appears the file(s) have already moved to:\n",
      "\t/home/jupyter/vertex-ai-mlops/Applied GenAI/legacy/Vertex AI Search\n"
     ]
    }
   ],
   "source": [
    "if from_path.exists():\n",
    "    repo.git.mv(from_path, to_path)\n",
    "    print(f'Files moved from: \\n\\t{from_path}\\nto:\\n\\t{to_path}')\n",
    "    repo.index.commit('Moved file')\n",
    "    print(f'Moved files commited.')\n",
    "elif to_path.exists():\n",
    "    print(f'It appears the file(s) have already moved to:\\n\\t{to_path}')\n",
    "else:\n",
    "    print('Make sure the file(s) exists.  Currently not found in the from or to location')"
   ]
  },
  {
   "cell_type": "markdown",
   "id": "9ddcdcd3-9106-4faf-b563-e8f885db29f0",
   "metadata": {},
   "source": [
    "---\n",
    "## Files List\n",
    "\n",
    "Create a list of files (.md and .ipynb) including their new full path. If `to_path` was a file then the files list will have just the one file in it.  If `to_path` was a folder then all files in the folder will be included in the list."
   ]
  },
  {
   "cell_type": "code",
   "execution_count": 7,
   "id": "a0d98b49-244f-4cb2-abee-26610834ec12",
   "metadata": {
    "tags": []
   },
   "outputs": [],
   "source": [
    "def file_list(from_path, to_path):\n",
    "    # returns a list of tuples for files that contain (from_file_path, to_file_path)\n",
    "    files = []\n",
    "    if to_path.is_dir():\n",
    "        for nb in to_path.glob(\"*.ipynb\"):\n",
    "            files.append(\n",
    "                (\n",
    "                    from_path.joinpath(nb.name),\n",
    "                    nb\n",
    "                )\n",
    "            )\n",
    "        for md in to_path.glob(\"*.md\"):\n",
    "            files.append(\n",
    "                (\n",
    "                    from_path.joinpath(md.name),\n",
    "                    md\n",
    "                )\n",
    "            )\n",
    "    elif to_path.is_file() and to_path.suffix in ['.md', '.ipynb']:\n",
    "        files.append(\n",
    "            (\n",
    "                from_path.joinpath(to_path.name),\n",
    "                to_path\n",
    "            )\n",
    "        )\n",
    "    else:\n",
    "        print(f'Check for existance of file/folder: {to_path}')\n",
    "\n",
    "    return files"
   ]
  },
  {
   "cell_type": "code",
   "execution_count": 8,
   "id": "0cbeb89b-a80c-4351-b5d2-57d993eba875",
   "metadata": {
    "tags": []
   },
   "outputs": [
    {
     "data": {
      "text/plain": [
       "[(PosixPath('/home/jupyter/vertex-ai-mlops/Applied GenAI/Vertex AI Search/Vertex AI Search Python Client Overview.ipynb'),\n",
       "  PosixPath('/home/jupyter/vertex-ai-mlops/Applied GenAI/legacy/Vertex AI Search/Vertex AI Search Python Client Overview.ipynb')),\n",
       " (PosixPath('/home/jupyter/vertex-ai-mlops/Applied GenAI/Vertex AI Search/vertex_search_setup.md'),\n",
       "  PosixPath('/home/jupyter/vertex-ai-mlops/Applied GenAI/legacy/Vertex AI Search/vertex_search_setup.md')),\n",
       " (PosixPath('/home/jupyter/vertex-ai-mlops/Applied GenAI/Vertex AI Search/readme.md'),\n",
       "  PosixPath('/home/jupyter/vertex-ai-mlops/Applied GenAI/legacy/Vertex AI Search/readme.md'))]"
      ]
     },
     "execution_count": 8,
     "metadata": {},
     "output_type": "execute_result"
    }
   ],
   "source": [
    "files = file_list(from_path, to_path)\n",
    "files"
   ]
  },
  {
   "cell_type": "markdown",
   "id": "af29f511-03f7-4903-940b-4a619d7381bc",
   "metadata": {},
   "source": [
    "---\n",
    "## Find and Fix Links"
   ]
  },
  {
   "cell_type": "code",
   "execution_count": 21,
   "id": "874d7419-1c4b-479a-a520-b8598a616eab",
   "metadata": {
    "tags": []
   },
   "outputs": [],
   "source": [
    "def link_fixer(from_file_path, to_file_path, link, files):\n",
    "    # return new_link, a version of link (from_file_path) that is update to work with the new file at to_file_path\n",
    "    decoded_link = urllib.parse.unquote(link)\n",
    "    abs_link_path_from = (from_file_path.parent / decoded_link).resolve()\n",
    "    also_moved = any(ffp[0] == abs_link_path_from for ffp in files)\n",
    "    try:\n",
    "        # if the linked file exists or was also moved then continue\n",
    "        assert abs_link_path_from.exists() or also_moved, f\"This link is broken before the move:\\n\\t{abs_link_path_from}\"\n",
    "        if also_moved:\n",
    "            new_link = decoded_link\n",
    "        else:\n",
    "            common_path_to = pathlib.Path(os.path.commonpath([to_file_path, abs_link_path_from]))\n",
    "            new_link = (len(to_file_path.parent.parts) - len(common_path_to.parts))*'../' + str(abs_link_path_from.relative_to(common_path_to))\n",
    "        abs_link_path_to = (to_file_path.parent / new_link).resolve()\n",
    "\n",
    "        try:\n",
    "            assert abs_link_path_from == abs_link_path_to or abs_link_path_to.exists(), f\"This function failed to fix the link:\\n\\t{abs_link_path_from}\"\n",
    "            new_link = urllib.parse.quote(new_link)\n",
    "            return new_link\n",
    "        except AssertionError as e:\n",
    "            print(f\"Error fixing link: {e}\")\n",
    "    except AssertionError as e:\n",
    "        print(f\"Error fixing link: {e}\")\n",
    "        \n",
    "def find_relative_links(from_file_path, to_file_path, files):\n",
    "    # returns a list of tuples for files that contain (from_file_path, to_file_path)\n",
    "    relative_links = []\n",
    "    regex = r\"(?:\\[.*?\\]\\((.*?)\\)|<\\w+\\s+[^>]*?(?:href|src)=(['\\\"])(.*?)\\2)\" # capture markdown and qouted links in href and src\n",
    "    if to_file_path.suffix == '.ipynb':\n",
    "        nb = nbformat.read(to_file_path, nbformat.NO_CONVERT)\n",
    "        for cell in nb.cells:\n",
    "            if cell.cell_type == 'markdown':\n",
    "                links = re.findall(regex, cell.source)\n",
    "                for link in links:\n",
    "                    link = link[0] or link[2]\n",
    "                    if not link.startswith(\"http\") and not link.startswith('/'):\n",
    "                        new_link = link_fixer(from_file_path, to_file_path, link, files)\n",
    "                        relative_links.append((from_file_path, to_file_path, link, new_link))\n",
    "                        if new_link and new_link != link:  # Check if the link actually changed \n",
    "                            cell.source = cell.source.replace(link, new_link)\n",
    "        # Save the modified notebook\n",
    "        nbformat.write(nb, to_file_path)\n",
    "    elif to_file_path.suffix == '.md':\n",
    "        with open(to_file_path, \"r\") as f:\n",
    "            content = f.read()\n",
    "            links = re.findall(regex, content)\n",
    "            for link in links:\n",
    "                link = link[0] or link[2]\n",
    "                if not link.startswith('http') and not link.startswith('/'):\n",
    "                    new_link = link_fixer(from_file_path, to_file_path, link, files)\n",
    "                    relative_links.append((from_file_path, to_file_path, link, new_link))\n",
    "                    if new_link and new_link != link:\n",
    "                        content = content.replace(link, new_link)\n",
    "            # Save the modified markdown file\n",
    "            with open(to_file_path, \"w\") as f:\n",
    "                f.write(content)\n",
    "                    \n",
    "    return relative_links"
   ]
  },
  {
   "cell_type": "code",
   "execution_count": 22,
   "id": "abba860a-019f-43c1-b4a2-0be3ffff7833",
   "metadata": {
    "tags": []
   },
   "outputs": [],
   "source": [
    "relative_links = []\n",
    "for file in files:\n",
    "    relative_links.extend(\n",
    "        find_relative_links(*file, files)\n",
    "    )"
   ]
  },
  {
   "cell_type": "markdown",
   "id": "2e38594d-7cf5-4fab-ad94-56ef2c260323",
   "metadata": {},
   "source": [
    "---\n",
    "## Changed Files\n",
    "Detect which files had changes and stage+commit them:"
   ]
  },
  {
   "cell_type": "code",
   "execution_count": 33,
   "id": "afc003dc-fdf4-405b-906a-a062a449ad54",
   "metadata": {
    "tags": []
   },
   "outputs": [
    {
     "data": {
      "text/plain": [
       "[PosixPath('/home/jupyter/vertex-ai-mlops/Applied GenAI/legacy/Vertex AI Search/vertex_search_setup.md')]"
      ]
     },
     "execution_count": 33,
     "metadata": {},
     "output_type": "execute_result"
    }
   ],
   "source": [
    "changed_files = list(set([file[1] for file in relative_links if file[3] and file[3] != file[2]]))\n",
    "changed_files"
   ]
  },
  {
   "cell_type": "code",
   "execution_count": 34,
   "id": "3db1e08d-1441-4c19-8e56-de750b9f0a26",
   "metadata": {
    "tags": []
   },
   "outputs": [],
   "source": [
    "for changed_file in changed_files:\n",
    "    repo.git.add(str(changed_file)) "
   ]
  },
  {
   "cell_type": "code",
   "execution_count": 35,
   "id": "4597f870-e903-4c2b-b3d0-f9ce151c12c2",
   "metadata": {
    "tags": []
   },
   "outputs": [
    {
     "data": {
      "text/plain": [
       "<git.Commit \"5906143b98da849bdcb37d4cce1e2e17a8580611\">"
      ]
     },
     "execution_count": 35,
     "metadata": {},
     "output_type": "execute_result"
    }
   ],
   "source": [
    "repo.index.commit(\"Fixed relative links after moving this file\")"
   ]
  },
  {
   "cell_type": "markdown",
   "id": "10e83e2b-c56f-40db-a23a-779754ccc05b",
   "metadata": {},
   "source": [
    "---\n",
    "## Add/Edit Banner With Location Change History\n",
    "Make a section at the top of .md and .ipynb files indicating location changes with dates"
   ]
  },
  {
   "cell_type": "code",
   "execution_count": null,
   "id": "73169355-2df6-4a0c-92d8-5bb59c6201ef",
   "metadata": {},
   "outputs": [],
   "source": []
  },
  {
   "cell_type": "code",
   "execution_count": null,
   "id": "7a379994-c0e9-4aa4-a663-93e18048dd67",
   "metadata": {},
   "outputs": [],
   "source": []
  },
  {
   "cell_type": "code",
   "execution_count": null,
   "id": "8d39474b-9803-44b7-a95e-d0095178b58c",
   "metadata": {},
   "outputs": [],
   "source": []
  },
  {
   "cell_type": "code",
   "execution_count": null,
   "id": "76fea516-d29e-44e6-a867-45504cbd79c9",
   "metadata": {},
   "outputs": [],
   "source": []
  },
  {
   "cell_type": "code",
   "execution_count": null,
   "id": "2036d1c6-9b0d-453b-a3ff-4917873f2780",
   "metadata": {},
   "outputs": [],
   "source": []
  },
  {
   "cell_type": "code",
   "execution_count": null,
   "id": "029dc442-45e9-4f3e-90cd-87795f5758f1",
   "metadata": {},
   "outputs": [],
   "source": []
  },
  {
   "cell_type": "code",
   "execution_count": null,
   "id": "9f60a162-f935-4123-bdc3-84130ad71232",
   "metadata": {},
   "outputs": [],
   "source": []
  },
  {
   "cell_type": "code",
   "execution_count": null,
   "id": "4369aece-8dd7-417c-a0ab-9c198d01b822",
   "metadata": {},
   "outputs": [],
   "source": []
  },
  {
   "cell_type": "markdown",
   "id": "075f520b-c47b-4d7d-aa19-7db916e6ace3",
   "metadata": {},
   "source": [
    "---\n",
    "## Some Checks Using `relative_links`\n",
    "\n",
    "(from_file_path, to_file_path, link, new_link)"
   ]
  },
  {
   "cell_type": "code",
   "execution_count": 36,
   "id": "5e90ac66-d937-4842-a04e-424ad4f8ae2f",
   "metadata": {
    "tags": []
   },
   "outputs": [
    {
     "data": {
      "text/plain": [
       "(PosixPath('/home/jupyter/vertex-ai-mlops/Applied GenAI/Vertex AI Search/Vertex AI Search Python Client Overview.ipynb'),\n",
       " PosixPath('/home/jupyter/vertex-ai-mlops/Applied GenAI/legacy/Vertex AI Search/Vertex AI Search Python Client Overview.ipynb'),\n",
       " './vertex_search_setup.md',\n",
       " './vertex_search_setup.md')"
      ]
     },
     "execution_count": 36,
     "metadata": {},
     "output_type": "execute_result"
    }
   ],
   "source": [
    "relative_links[0]"
   ]
  },
  {
   "cell_type": "code",
   "execution_count": 37,
   "id": "62d65d25-de0b-4f5a-84a2-c2f241e81792",
   "metadata": {
    "tags": []
   },
   "outputs": [
    {
     "data": {
      "text/plain": [
       "(PosixPath('/home/jupyter/vertex-ai-mlops/Applied GenAI/Vertex AI Search/readme.md'),\n",
       " PosixPath('/home/jupyter/vertex-ai-mlops/Applied GenAI/legacy/Vertex AI Search/readme.md'),\n",
       " './Vertex%20AI%20Search%20Python%20Client%20Overview.ipynb',\n",
       " './Vertex%20AI%20Search%20Python%20Client%20Overview.ipynb')"
      ]
     },
     "execution_count": 37,
     "metadata": {},
     "output_type": "execute_result"
    }
   ],
   "source": [
    "relative_links[-1]"
   ]
  },
  {
   "cell_type": "code",
   "execution_count": 38,
   "id": "a1cd6e59-fad9-459f-b588-7b8c2b937a4b",
   "metadata": {
    "tags": []
   },
   "outputs": [
    {
     "data": {
      "text/plain": [
       "14"
      ]
     },
     "execution_count": 38,
     "metadata": {},
     "output_type": "execute_result"
    }
   ],
   "source": [
    "len(relative_links)"
   ]
  },
  {
   "cell_type": "code",
   "execution_count": 40,
   "id": "df4ecff0-5f72-4f99-a6d6-ba299de001cd",
   "metadata": {
    "tags": []
   },
   "outputs": [
    {
     "name": "stdout",
     "output_type": "stream",
     "text": [
      "./vertex_search_setup.md False\n",
      "./vertex_search_setup.md False\n",
      "../../../architectures/notebooks/applied/genai/vertex_ai_search/vertex_search_step_0.png True\n",
      "../../../architectures/notebooks/applied/genai/vertex_ai_search/vertex_search_step_1.png True\n",
      "../../../architectures/notebooks/applied/genai/vertex_ai_search/vertex_search_step_2.png True\n",
      "../../../architectures/notebooks/applied/genai/vertex_ai_search/vertex_search_step_3.png True\n",
      "../../../architectures/notebooks/applied/genai/vertex_ai_search/vertex_search_step_4.png True\n",
      "../../../architectures/notebooks/applied/genai/vertex_ai_search/vertex_search_step_5.png True\n",
      "../../../architectures/notebooks/applied/genai/vertex_ai_search/vertex_search_step_6.png True\n",
      "../../../architectures/notebooks/applied/genai/vertex_ai_search/vertex_search_step_7.png True\n",
      "../../../architectures/notebooks/applied/genai/vertex_ai_search/vertex_search_step_8.png True\n",
      "../../../architectures/notebooks/applied/genai/vertex_ai_search/vertex_search_step_9.png True\n",
      "./vertex_search_setup.md False\n",
      "./Vertex%20AI%20Search%20Python%20Client%20Overview.ipynb False\n"
     ]
    }
   ],
   "source": [
    "for rl in relative_links:\n",
    "    print(rl[3], rl[3]!=rl[2])"
   ]
  },
  {
   "cell_type": "code",
   "execution_count": null,
   "id": "c4eb8328-eac1-402a-a558-c0144315b7c7",
   "metadata": {},
   "outputs": [],
   "source": []
  },
  {
   "cell_type": "code",
   "execution_count": null,
   "id": "2aeb49c8-d002-40ff-812c-2f656c904b39",
   "metadata": {},
   "outputs": [],
   "source": []
  },
  {
   "cell_type": "code",
   "execution_count": null,
   "id": "b4ff9b3b-6c6c-4d82-8ed8-b563e2f15d63",
   "metadata": {},
   "outputs": [],
   "source": []
  },
  {
   "cell_type": "markdown",
   "id": "cd60ef2f-bafe-47aa-8ef9-158dab8792e9",
   "metadata": {},
   "source": [
    "- X handle the relative links to files that were also moved\n",
    "- X check to see if link is already updated (in case it was run previously)\n",
    "- X update the relative link and save the file\n",
    "- X keep list of changed files, comitt these with message\n",
    "- add/update a header cell/section(md) that states file move history: date, from, to\n",
    "    - commit these with message\n",
    "- remember to update headers\n",
    "- check all other files for links to moved files\n",
    "    - update these\n",
    "    - commit changes\n",
    "    \n"
   ]
  },
  {
   "cell_type": "code",
   "execution_count": null,
   "id": "37782785-d15e-4d8d-9246-4dd219d50bea",
   "metadata": {},
   "outputs": [],
   "source": []
  },
  {
   "cell_type": "code",
   "execution_count": null,
   "id": "ea6cde64-7186-4222-a86e-0181efa39354",
   "metadata": {},
   "outputs": [],
   "source": []
  },
  {
   "cell_type": "code",
   "execution_count": null,
   "id": "468f73bc-e3fa-45c8-a477-d3e09378603e",
   "metadata": {},
   "outputs": [],
   "source": []
  },
  {
   "cell_type": "code",
   "execution_count": null,
   "id": "2d9b0eb8-923e-49f4-a4f9-a32004e25550",
   "metadata": {},
   "outputs": [],
   "source": []
  },
  {
   "cell_type": "code",
   "execution_count": null,
   "id": "9a1246dc-5ff6-4026-b5e3-17d828c57c5c",
   "metadata": {},
   "outputs": [],
   "source": []
  },
  {
   "cell_type": "code",
   "execution_count": null,
   "id": "d0b69dc8-5a08-4968-855c-63e9a2142fb1",
   "metadata": {},
   "outputs": [],
   "source": []
  },
  {
   "cell_type": "code",
   "execution_count": null,
   "id": "4b20aafe-8beb-4232-afff-151a6e348009",
   "metadata": {},
   "outputs": [],
   "source": []
  },
  {
   "cell_type": "code",
   "execution_count": null,
   "id": "60dd91ea-795e-4607-90a1-e425614fe0c7",
   "metadata": {},
   "outputs": [],
   "source": []
  },
  {
   "cell_type": "code",
   "execution_count": null,
   "id": "aec5db51-2b9a-4aa5-bbdd-0d27e241ccf8",
   "metadata": {},
   "outputs": [],
   "source": []
  },
  {
   "cell_type": "code",
   "execution_count": null,
   "id": "9ae72043-fe92-4749-b5ce-5e915afcf3bc",
   "metadata": {},
   "outputs": [],
   "source": []
  },
  {
   "cell_type": "code",
   "execution_count": null,
   "id": "a646304d-a5fd-4103-bd0d-2b181f1b4573",
   "metadata": {},
   "outputs": [],
   "source": []
  },
  {
   "cell_type": "code",
   "execution_count": null,
   "id": "dc491922-1bea-4a41-aff7-a5583b2b2293",
   "metadata": {},
   "outputs": [],
   "source": []
  },
  {
   "cell_type": "code",
   "execution_count": null,
   "id": "3e8089da-6ea3-45d9-a980-ef5f9bc9b2a0",
   "metadata": {},
   "outputs": [],
   "source": []
  },
  {
   "cell_type": "code",
   "execution_count": null,
   "id": "a68700f3-eea6-42ed-b56d-01f3a72ced6f",
   "metadata": {},
   "outputs": [],
   "source": []
  },
  {
   "cell_type": "code",
   "execution_count": null,
   "id": "7e643dcf-1e3f-4a4d-b22f-907848848ffe",
   "metadata": {},
   "outputs": [],
   "source": []
  },
  {
   "cell_type": "code",
   "execution_count": null,
   "id": "147f7040-aa53-4dac-91bd-a5a9a277f1f9",
   "metadata": {},
   "outputs": [],
   "source": []
  },
  {
   "cell_type": "code",
   "execution_count": null,
   "id": "8fa19ac1-2a2f-4512-a4bb-effdd6e7ecac",
   "metadata": {},
   "outputs": [],
   "source": []
  },
  {
   "cell_type": "code",
   "execution_count": null,
   "id": "87d67ba9-8af8-466e-9e56-554bfa4b5af6",
   "metadata": {},
   "outputs": [],
   "source": []
  },
  {
   "cell_type": "code",
   "execution_count": null,
   "id": "6598b002-e16d-4a94-ab48-37066faf2801",
   "metadata": {},
   "outputs": [],
   "source": []
  },
  {
   "cell_type": "code",
   "execution_count": null,
   "id": "08e377ba-84f5-4437-a8af-33b36aadc84e",
   "metadata": {},
   "outputs": [],
   "source": []
  },
  {
   "cell_type": "code",
   "execution_count": null,
   "id": "266e3bc7-35c7-4445-8647-b3effccac112",
   "metadata": {},
   "outputs": [],
   "source": []
  },
  {
   "cell_type": "code",
   "execution_count": null,
   "id": "1ab69a06-d7c3-46e0-8db2-b06b0db49199",
   "metadata": {},
   "outputs": [],
   "source": []
  },
  {
   "cell_type": "code",
   "execution_count": null,
   "id": "f1edd3c9-d84c-4cb6-9368-8dbb47d7bff7",
   "metadata": {},
   "outputs": [],
   "source": []
  },
  {
   "cell_type": "code",
   "execution_count": null,
   "id": "a79a4ee3-df59-46d7-a0c6-d4089de55c33",
   "metadata": {},
   "outputs": [],
   "source": []
  },
  {
   "cell_type": "code",
   "execution_count": null,
   "id": "b94f6d5a-8446-4f49-8c50-b052078959e5",
   "metadata": {},
   "outputs": [],
   "source": []
  }
 ],
 "metadata": {
  "environment": {
   "kernel": "conda-base-py",
   "name": "workbench-notebooks.m124",
   "type": "gcloud",
   "uri": "us-docker.pkg.dev/deeplearning-platform-release/gcr.io/workbench-notebooks:m124"
  },
  "kernelspec": {
   "display_name": "Python 3 (ipykernel)",
   "language": "python",
   "name": "conda-base-py"
  },
  "language_info": {
   "codemirror_mode": {
    "name": "ipython",
    "version": 3
   },
   "file_extension": ".py",
   "mimetype": "text/x-python",
   "name": "python",
   "nbconvert_exporter": "python",
   "pygments_lexer": "ipython3",
   "version": "3.10.14"
  }
 },
 "nbformat": 4,
 "nbformat_minor": 5
}
