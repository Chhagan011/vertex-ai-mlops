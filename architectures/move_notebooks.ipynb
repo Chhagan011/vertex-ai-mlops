{
 "cells": [
  {
   "cell_type": "markdown",
   "id": "13f2d1c2-da30-4756-93cf-47ac14bce0db",
   "metadata": {},
   "source": [
    "# Moving Notebook Files\n",
    "\n",
    "Used to move files or folders to different folders within the repo\n",
    "- preserves files commmit history by using `git mv`\n",
    "- Will fix relative links within markdown cells of notebooks and within markdown files.\n",
    "- adds banner at top of file to indicate the files move and status"
   ]
  },
  {
   "cell_type": "markdown",
   "id": "4f76654f-35f2-43ad-a162-132b8a1698e5",
   "metadata": {},
   "source": [
    "---\n",
    "## Setup"
   ]
  },
  {
   "cell_type": "markdown",
   "id": "7c10b8a8-2e5b-4b6b-8ad0-af72590506fe",
   "metadata": {},
   "source": [
    "Installs:"
   ]
  },
  {
   "cell_type": "code",
   "execution_count": 21,
   "id": "9a5dd3fe-6e2e-4edd-a64d-92b9ce0f8466",
   "metadata": {
    "tags": []
   },
   "outputs": [],
   "source": [
    "#!pip install GitPython"
   ]
  },
  {
   "cell_type": "markdown",
   "id": "05f51afa-a5d7-4100-ad3b-68d9610b2447",
   "metadata": {},
   "source": [
    "Imports:"
   ]
  },
  {
   "cell_type": "code",
   "execution_count": 51,
   "id": "05f17c9c-bd1d-46d8-83cf-8453c0cc1a65",
   "metadata": {
    "tags": []
   },
   "outputs": [
    {
     "data": {
      "text/plain": [
       "nbformat.NO_CONVERT"
      ]
     },
     "execution_count": 51,
     "metadata": {},
     "output_type": "execute_result"
    }
   ],
   "source": [
    "import os, json, urllib.parse, IPython, pathlib, nbformat, re, git\n",
    "\n",
    "nbformat.NO_CONVERT"
   ]
  },
  {
   "cell_type": "markdown",
   "id": "7841bda5-c497-4b9c-a428-3644eba1bc32",
   "metadata": {},
   "source": [
    "## Test For Parsing"
   ]
  },
  {
   "cell_type": "code",
   "execution_count": 2,
   "id": "36f20361-8f1b-4dcd-9511-67db4941848b",
   "metadata": {
    "tags": []
   },
   "outputs": [
    {
     "data": {
      "text/plain": [
       "'user%2Frepo%2Fpath%2Fto+the%2Ffile%2Ffile+name.ipynb'"
      ]
     },
     "execution_count": 2,
     "metadata": {},
     "output_type": "execute_result"
    }
   ],
   "source": [
    "urllib.parse.quote_plus('user/repo/path/to the/file/file name.ipynb')"
   ]
  },
  {
   "cell_type": "code",
   "execution_count": 3,
   "id": "2d563ecc-e923-49cc-8b9e-b5857644e90a",
   "metadata": {
    "tags": []
   },
   "outputs": [
    {
     "data": {
      "text/plain": [
       "'user/repo/path/to%20the/file/file%20name.ipynb'"
      ]
     },
     "execution_count": 3,
     "metadata": {},
     "output_type": "execute_result"
    }
   ],
   "source": [
    "urllib.parse.quote('user/repo/path/to the/file/file name.ipynb')"
   ]
  },
  {
   "cell_type": "code",
   "execution_count": 4,
   "id": "2a58ec6f-8183-4b54-b6f8-51e423c2e207",
   "metadata": {
    "tags": []
   },
   "outputs": [
    {
     "data": {
      "text/plain": [
       "'https%3A%2F%2Fgithub.com'"
      ]
     },
     "execution_count": 4,
     "metadata": {},
     "output_type": "execute_result"
    }
   ],
   "source": [
    "urllib.parse.quote_plus('https://github.com')"
   ]
  },
  {
   "cell_type": "code",
   "execution_count": 5,
   "id": "210ed2f2-5fc0-4947-9703-8879c3ddab6c",
   "metadata": {
    "tags": []
   },
   "outputs": [
    {
     "data": {
      "text/plain": [
       "'https%3A//github.com'"
      ]
     },
     "execution_count": 5,
     "metadata": {},
     "output_type": "execute_result"
    }
   ],
   "source": [
    "urllib.parse.quote('https://github.com')"
   ]
  },
  {
   "cell_type": "markdown",
   "id": "dfec3bf5-3fa6-44d7-9a64-7f7f3a6b926c",
   "metadata": {},
   "source": [
    "---\n",
    "## Locations\n",
    "\n",
    "`from_path` and `to_path` can be a folder or a specific file."
   ]
  },
  {
   "cell_type": "code",
   "execution_count": 190,
   "id": "01bc93a0-f0c0-47b7-98a8-3be92a5d64a8",
   "metadata": {
    "tags": []
   },
   "outputs": [
    {
     "data": {
      "text/plain": [
       "'/home/jupyter/vertex-ai-mlops/Applied GenAI/resources'"
      ]
     },
     "execution_count": 190,
     "metadata": {},
     "output_type": "execute_result"
    }
   ],
   "source": [
    "os.getcwd()"
   ]
  },
  {
   "cell_type": "code",
   "execution_count": 200,
   "id": "5d458b2f-9af4-4fee-af5b-27709ce91720",
   "metadata": {
    "tags": []
   },
   "outputs": [
    {
     "data": {
      "text/plain": [
       "(PosixPath('/home/jupyter/vertex-ai-mlops'),\n",
       " PosixPath('/home/jupyter/vertex-ai-mlops/Applied GenAI/Vertex AI Search'),\n",
       " PosixPath('/home/jupyter/vertex-ai-mlops/Applied GenAI/legacy/Vertex AI Search'))"
      ]
     },
     "execution_count": 200,
     "metadata": {},
     "output_type": "execute_result"
    }
   ],
   "source": [
    "repo_path = pathlib.Path('/home/jupyter/vertex-ai-mlops')\n",
    "from_path = repo_path.joinpath('Applied GenAI/Vertex AI Search')\n",
    "to_path = repo_path.joinpath('Applied GenAI/legacy/Vertex AI Search')\n",
    "repo_path, from_path, to_path"
   ]
  },
  {
   "cell_type": "raw",
   "id": "83665803-247a-463a-98fa-e8995c97ae0c",
   "metadata": {},
   "source": [
    "files = [\n",
    "    \"Summarize Conversations - Text and Audio.ipynb\",\n",
    "    \"Vertex AI GenAI For Document Q&A - USGA Rules For Golf.ipynb\",\n",
    "    \"Vertex AI GenAI For Document Q&A v2 - MLB Rules For Baseball.ipynb\",\n",
    "    \"Vertex AI GenAI For Document Q&A - NHL Rules For Hockey.ipynb\",\n",
    "    \"Vertex AI GenAI For BigQuery Metadata - Make Better Tables.ipynb\",\n",
    "    \"Vertex AI GenAI For Document Q&A - Healthcare Benefits Member Handbook.ipynb\",\n",
    "    \"Vertex AI GenAI For Document Q&A - MCC Laws For Cricket.ipynb\",\n",
    "    \"Vertex AI Matching Engine For Document Q&A.ipynb\",\n",
    "    \"Vertex AI GenAI For Rewriting - BigQuery Advisor With Codey.ipynb\",\n",
    "    \"Vertex AI GenAI For Document Q&A - Annual Report.ipynb\",\n",
    "    \"Vertex AI GenAI For Document Q&A v2 - Deed Of Trust.ipynb\",\n",
    "    \"Vertex AI GenAI For Document Q&A - FAA Regulations.ipynb\",\n",
    "    \"Vertex AI GenAI For BigQuery Q&A - Overview.ipynb\",\n",
    "    \"Vertex AI GenAI For Document Q&A - Local Government Trends.ipynb\",\n",
    "    \"Vertex AI GenAI For Document Q&A v2 - Employee Handbook.ipynb\",\n",
    "    \"Vertex AI GenAI For Document Q&A - MLB Rules For Baseball.ipynb\",\n",
    "    \"Vertex AI GenAI For Document Q&A - NFL Rules For Football.ipynb\",\n",
    "    \"Vertex AI GenAI For Document Q&A - NBA Rules For Basketball.ipynb\",\n",
    "    \"Vertex AI GenAI For Document Q&A - IFAB Laws For Soccer.ipynb\",\n",
    "    \"Vertex AI GenAI For Document Q&A - Municipal Securities.ipynb\",\n",
    "]"
   ]
  },
  {
   "cell_type": "markdown",
   "id": "908460ab-7d36-4191-bfeb-3d7bfd6305ca",
   "metadata": {
    "tags": []
   },
   "source": [
    "---\n",
    "## Move Folder/File\n",
    "\n",
    "This is a git repository so it is important to move the files with the commit history preserved using `git mv old_file new_file`."
   ]
  },
  {
   "cell_type": "code",
   "execution_count": 205,
   "id": "66b44546-c915-425f-8074-24387e37fb7a",
   "metadata": {
    "tags": []
   },
   "outputs": [],
   "source": [
    "repo = git.Repo(repo_path)"
   ]
  },
  {
   "cell_type": "code",
   "execution_count": 206,
   "id": "9aa40a35-9a47-4f6e-a7aa-473b1e398140",
   "metadata": {
    "tags": []
   },
   "outputs": [
    {
     "data": {
      "text/plain": [
       "True"
      ]
     },
     "execution_count": 206,
     "metadata": {},
     "output_type": "execute_result"
    }
   ],
   "source": [
    "to_path.exists()"
   ]
  },
  {
   "cell_type": "code",
   "execution_count": 209,
   "id": "ca537a9e-e001-477f-aa51-5d6aff0128cb",
   "metadata": {
    "tags": []
   },
   "outputs": [
    {
     "name": "stdout",
     "output_type": "stream",
     "text": [
      "It appears the file(s) have already moved to:\n",
      "\t/home/jupyter/vertex-ai-mlops/Applied GenAI/legacy/Vertex AI Search\n"
     ]
    }
   ],
   "source": [
    "if from_path.exists():\n",
    "    repo.git.mv(from_path, to_path)\n",
    "    print(f'Files moved from: \\n\\t{from_path}\\nto:\\n\\t{to_path}')\n",
    "elif to_path.exists():\n",
    "    print(f'It appears the file(s) have already moved to:\\n\\t{to_path}')\n",
    "else:\n",
    "    print('Make sure the file(s) exists.  Currently not found in the from or to location')"
   ]
  },
  {
   "cell_type": "markdown",
   "id": "da1632f2-5eb3-416a-a430-603bec9599da",
   "metadata": {},
   "source": [
    "The moved files will be staged for commit.  Pause here and commit these changes."
   ]
  },
  {
   "cell_type": "markdown",
   "id": "9ddcdcd3-9106-4faf-b563-e8f885db29f0",
   "metadata": {},
   "source": [
    "---\n",
    "## Files List\n",
    "\n",
    "Create a list of files (.md and .ipynb) including their new full path. If `to_path` was a file then the files list will have just the one file in it.  If `to_path` was a folder then all files in the folder will be included in the list."
   ]
  },
  {
   "cell_type": "code",
   "execution_count": 212,
   "id": "a0d98b49-244f-4cb2-abee-26610834ec12",
   "metadata": {
    "tags": []
   },
   "outputs": [],
   "source": [
    "def file_list(to_path):\n",
    "    files = []\n",
    "    if to_path.is_dir():\n",
    "        for nb in to_path.glob(\"*.ipynb\"):\n",
    "            files.append(nb)\n",
    "        for md in to_path.glob(\"*.md\"):\n",
    "            files.append(md)   \n",
    "    elif to_path.is_file() and to_path.suffix in ['.md', '.ipynb']:\n",
    "        files.append(to_path)\n",
    "    else:\n",
    "        print(f'Check for existance of file/folder: {to_path}')\n",
    "\n",
    "    if files:\n",
    "        for file in files: print(file)\n",
    "\n",
    "    return files"
   ]
  },
  {
   "cell_type": "code",
   "execution_count": 213,
   "id": "0cbeb89b-a80c-4351-b5d2-57d993eba875",
   "metadata": {
    "tags": []
   },
   "outputs": [
    {
     "name": "stdout",
     "output_type": "stream",
     "text": [
      "/home/jupyter/vertex-ai-mlops/Applied GenAI/legacy/Vertex AI Search/Vertex AI Search Python Client Overview.ipynb\n",
      "/home/jupyter/vertex-ai-mlops/Applied GenAI/legacy/Vertex AI Search/Vertex AI Search For Grounding With Document Q&A.ipynb\n",
      "/home/jupyter/vertex-ai-mlops/Applied GenAI/legacy/Vertex AI Search/vertex_search_setup.md\n",
      "/home/jupyter/vertex-ai-mlops/Applied GenAI/legacy/Vertex AI Search/readme.md\n"
     ]
    }
   ],
   "source": [
    "files = file_list(to_path)"
   ]
  },
  {
   "cell_type": "markdown",
   "id": "af29f511-03f7-4903-940b-4a619d7381bc",
   "metadata": {},
   "source": [
    "---\n",
    "## Find and Fix Links"
   ]
  },
  {
   "cell_type": "code",
   "execution_count": 163,
   "id": "d617e703-48bb-4c3c-85f6-1ad18b818a3b",
   "metadata": {
    "tags": []
   },
   "outputs": [],
   "source": [
    "def find_relative_links_in_file(file_path, from_path):\n",
    "    \n",
    "    relative_links = []\n",
    "    regex = r\"\\[.*?\\]\\((.*?)\\)\" #capture links in markdown [](link here)\n",
    "    regex = r\"(?:\\[.*?\\]\\((.*?)\\)|<\\w+\\s+[^>]*?(?:href|src)=(['\\\"])(.*?)\\2)\" # capture markdown and qouted links in href and src\n",
    "    if file_path.suffix == '.ipynb':\n",
    "        nb = nbformat.read(file_path, nbformat.NO_CONVERT)\n",
    "        for cell in nb.cells:\n",
    "            if cell.cell_type == 'markdown':\n",
    "                links = re.findall(regex, cell.source)\n",
    "                for link in links:\n",
    "                    link = link[0] or link[2]\n",
    "                    if not link.startswith(\"http\") and not link.startswith('/'):\n",
    "                        relative_links.append(\n",
    "                            (file_path, link, from_path)\n",
    "                            #link_fixer(file_path, link, from_path)\n",
    "                        )\n",
    "    elif file_path.suffix == '.md':\n",
    "        with open(file_path, \"r\") as f:\n",
    "            content = f.read()\n",
    "            links = re.findall(regex, content)\n",
    "            for link in links:\n",
    "                link = link[0] or link[2]\n",
    "                if not link.startswith('http') and not link.startswith('/'):\n",
    "                    relative_links.append(\n",
    "                        (file_path, link, from_path)\n",
    "                        #link_fixer(file_path, link, from_path)\n",
    "                    )\n",
    "    \n",
    "    return relative_links"
   ]
  },
  {
   "cell_type": "code",
   "execution_count": 164,
   "id": "2fca6c51-151e-46fd-a2cd-236ed3cd6024",
   "metadata": {
    "tags": []
   },
   "outputs": [],
   "source": [
    "relative_links = []\n",
    "for file_path in files:\n",
    "    file_path = pathlib.Path(file_path)\n",
    "    relative_links.extend(\n",
    "        find_relative_links_in_file(file_path, from_path)\n",
    "    )"
   ]
  },
  {
   "cell_type": "code",
   "execution_count": 166,
   "id": "9de99f98-4518-46fa-a0b7-544a29283a95",
   "metadata": {
    "tags": []
   },
   "outputs": [
    {
     "data": {
      "text/plain": [
       "(PosixPath('/home/jupyter/vertex-ai-mlops/Applied GenAI/legacy/Vertex AI Search/vertex_search_setup.md'),\n",
       " '../../architectures/notebooks/applied/genai/vertex_ai_search/vertex_search_step_1.png',\n",
       " '/home/jupyter/vertex-ai-mlops/Applied GenAI/Vertex AI Search')"
      ]
     },
     "execution_count": 166,
     "metadata": {},
     "output_type": "execute_result"
    }
   ],
   "source": [
    "file_path, link, from_path = relative_links[3]\n",
    "file_path, link, from_path"
   ]
  },
  {
   "cell_type": "code",
   "execution_count": 167,
   "id": "562aae23-969d-4498-853c-5998650dfdf0",
   "metadata": {
    "tags": []
   },
   "outputs": [
    {
     "data": {
      "text/plain": [
       "'../../architectures/notebooks/applied/genai/vertex_ai_search/vertex_search_step_1.png'"
      ]
     },
     "execution_count": 167,
     "metadata": {},
     "output_type": "execute_result"
    }
   ],
   "source": [
    "decoded_link = urllib.parse.unquote(link)\n",
    "decoded_link"
   ]
  },
  {
   "cell_type": "code",
   "execution_count": 135,
   "id": "c0b0c8c5-ea58-4b1f-a164-1b12ce931096",
   "metadata": {
    "tags": []
   },
   "outputs": [
    {
     "data": {
      "text/plain": [
       "PosixPath('/home/jupyter/vertex-ai-mlops/Applied GenAI/architectures/notebooks/applied/genai/vertex_ai_search/vertex_search_step_1.png')"
      ]
     },
     "execution_count": 135,
     "metadata": {},
     "output_type": "execute_result"
    }
   ],
   "source": [
    "absolute_path = (file_path.parent / decoded_link).resolve()\n",
    "absolute_path"
   ]
  },
  {
   "cell_type": "code",
   "execution_count": 136,
   "id": "959f11f2-92d9-4e2a-b7a4-aaf4602d546e",
   "metadata": {
    "tags": []
   },
   "outputs": [
    {
     "data": {
      "text/plain": [
       "False"
      ]
     },
     "execution_count": 136,
     "metadata": {},
     "output_type": "execute_result"
    }
   ],
   "source": [
    "absolute_path.exists()"
   ]
  },
  {
   "cell_type": "code",
   "execution_count": 137,
   "id": "ef1cbed2-570f-45a2-87b7-017a620970ef",
   "metadata": {
    "tags": []
   },
   "outputs": [
    {
     "data": {
      "text/plain": [
       "PosixPath('/home/jupyter/vertex-ai-mlops/architectures/notebooks/applied/genai/vertex_ai_search/vertex_search_step_1.png')"
      ]
     },
     "execution_count": 137,
     "metadata": {},
     "output_type": "execute_result"
    }
   ],
   "source": [
    "old_absolute_path = (pathlib.Path(from_path) / decoded_link).resolve()\n",
    "old_absolute_path"
   ]
  },
  {
   "cell_type": "code",
   "execution_count": 141,
   "id": "f6304f1f-6ce2-4b2b-8353-529a2f957387",
   "metadata": {
    "tags": []
   },
   "outputs": [
    {
     "data": {
      "text/plain": [
       "True"
      ]
     },
     "execution_count": 141,
     "metadata": {},
     "output_type": "execute_result"
    }
   ],
   "source": [
    "old_absolute_path.exists()"
   ]
  },
  {
   "cell_type": "code",
   "execution_count": 139,
   "id": "1c2bb8a3-e33e-48e1-8a37-ee0e1f53d146",
   "metadata": {
    "tags": []
   },
   "outputs": [
    {
     "data": {
      "text/plain": [
       "PosixPath('/home/jupyter/vertex-ai-mlops')"
      ]
     },
     "execution_count": 139,
     "metadata": {},
     "output_type": "execute_result"
    }
   ],
   "source": [
    "common_folder = pathlib.Path(os.path.commonpath([file_path, old_absolute_path]))\n",
    "common_folder"
   ]
  },
  {
   "cell_type": "code",
   "execution_count": 147,
   "id": "9355bbda-6cfe-4769-8d62-b9b5d7a5da96",
   "metadata": {
    "tags": []
   },
   "outputs": [
    {
     "data": {
      "text/plain": [
       "PosixPath('architectures/notebooks/applied/genai/vertex_ai_search/vertex_search_step_1.png')"
      ]
     },
     "execution_count": 147,
     "metadata": {},
     "output_type": "execute_result"
    }
   ],
   "source": [
    "old_relative_to_common = old_absolute_path.relative_to(common_folder)\n",
    "old_relative_to_common"
   ]
  },
  {
   "cell_type": "code",
   "execution_count": 149,
   "id": "c480f2be-8638-427f-a660-82bcb3adab49",
   "metadata": {
    "tags": []
   },
   "outputs": [
    {
     "data": {
      "text/plain": [
       "PosixPath('Applied GenAI/legacy/Vertex AI Search/vertex_search_setup.md')"
      ]
     },
     "execution_count": 149,
     "metadata": {},
     "output_type": "execute_result"
    }
   ],
   "source": [
    "new_relative_to_common = file_path.relative_to(common_folder)\n",
    "new_relative_to_common"
   ]
  },
  {
   "cell_type": "code",
   "execution_count": 152,
   "id": "6fa5d36c-85c3-4523-a820-8ebaaf357b65",
   "metadata": {
    "tags": []
   },
   "outputs": [
    {
     "data": {
      "text/plain": [
       "(['Applied GenAI', 'legacy', 'Vertex AI Search', 'vertex_search_setup.md'],\n",
       " ['architectures',\n",
       "  'notebooks',\n",
       "  'applied',\n",
       "  'genai',\n",
       "  'vertex_ai_search',\n",
       "  'vertex_search_step_1.png'])"
      ]
     },
     "execution_count": 152,
     "metadata": {},
     "output_type": "execute_result"
    }
   ],
   "source": [
    "new_relative_parts = list(new_relative_to_common.parts)\n",
    "old_relative_parts = list(old_relative_to_common.parts)\n",
    "new_relative_parts, old_relative_parts"
   ]
  },
  {
   "cell_type": "code",
   "execution_count": 156,
   "id": "cbe2d364-965c-40a2-b9b5-b87574a2b452",
   "metadata": {
    "tags": []
   },
   "outputs": [
    {
     "data": {
      "text/plain": [
       "0"
      ]
     },
     "execution_count": 156,
     "metadata": {},
     "output_type": "execute_result"
    }
   ],
   "source": [
    "common_parts_length = len(os.path.commonprefix([new_relative_parts, old_relative_parts]))\n",
    "common_parts_length"
   ]
  },
  {
   "cell_type": "code",
   "execution_count": 157,
   "id": "08ad8253-3576-4895-8a0b-396d90020196",
   "metadata": {
    "tags": []
   },
   "outputs": [
    {
     "data": {
      "text/plain": [
       "['Applied GenAI', 'legacy', 'Vertex AI Search', 'vertex_search_setup.md']"
      ]
     },
     "execution_count": 157,
     "metadata": {},
     "output_type": "execute_result"
    }
   ],
   "source": [
    "new_relative_parts[:common_parts_length] = old_relative_parts[:common_parts_length]\n",
    "new_relative_parts"
   ]
  },
  {
   "cell_type": "code",
   "execution_count": 158,
   "id": "cd0f4994-1208-45c1-a08c-0076f48a699d",
   "metadata": {
    "tags": []
   },
   "outputs": [
    {
     "data": {
      "text/plain": [
       "PosixPath('/home/jupyter/vertex-ai-mlops/Applied GenAI/legacy/Vertex AI Search/vertex_search_setup.md')"
      ]
     },
     "execution_count": 158,
     "metadata": {},
     "output_type": "execute_result"
    }
   ],
   "source": [
    "new_absolute_path = (common_folder / pathlib.Path(*new_relative_parts)).resolve()\n",
    "new_absolute_path"
   ]
  },
  {
   "cell_type": "code",
   "execution_count": 159,
   "id": "151cfd9e-8a60-421f-acf0-ccf59014ff03",
   "metadata": {
    "tags": []
   },
   "outputs": [
    {
     "data": {
      "text/plain": [
       "True"
      ]
     },
     "execution_count": 159,
     "metadata": {},
     "output_type": "execute_result"
    }
   ],
   "source": [
    "new_absolute_path.exists()"
   ]
  },
  {
   "cell_type": "code",
   "execution_count": 160,
   "id": "29057943-f206-4abe-841a-0378fd870cf0",
   "metadata": {
    "tags": []
   },
   "outputs": [
    {
     "data": {
      "text/plain": [
       "PosixPath('vertex_search_setup.md')"
      ]
     },
     "execution_count": 160,
     "metadata": {},
     "output_type": "execute_result"
    }
   ],
   "source": [
    "new_relative_link = new_absolute_path.relative_to(file_path.parent)\n",
    "new_relative_link"
   ]
  },
  {
   "cell_type": "code",
   "execution_count": null,
   "id": "e66c8719-eefa-4611-aaf6-454fb7e6f664",
   "metadata": {},
   "outputs": [],
   "source": []
  },
  {
   "cell_type": "code",
   "execution_count": null,
   "id": "4dbd2af9-6838-4ac4-a637-6b885c560a16",
   "metadata": {},
   "outputs": [],
   "source": []
  },
  {
   "cell_type": "code",
   "execution_count": 142,
   "id": "f5546182-fab5-4f35-b216-9b678788bfaf",
   "metadata": {
    "tags": []
   },
   "outputs": [
    {
     "data": {
      "text/plain": [
       "PosixPath('architectures/notebooks/applied/genai/vertex_ai_search/vertex_search_step_1.png')"
      ]
     },
     "execution_count": 142,
     "metadata": {},
     "output_type": "execute_result"
    }
   ],
   "source": [
    "relative_to_common = old_absolute_path.relative_to(common_folder)\n",
    "relative_to_common"
   ]
  },
  {
   "cell_type": "code",
   "execution_count": 143,
   "id": "df896c3d-154c-45d3-8750-471491fe3e90",
   "metadata": {
    "tags": []
   },
   "outputs": [
    {
     "data": {
      "text/plain": [
       "PosixPath('/home/jupyter/vertex-ai-mlops/Applied GenAI/legacy/Vertex AI Search')"
      ]
     },
     "execution_count": 143,
     "metadata": {},
     "output_type": "execute_result"
    }
   ],
   "source": [
    "file_path.parent"
   ]
  },
  {
   "cell_type": "code",
   "execution_count": 144,
   "id": "50462b18-f14a-4183-be41-589d9cf49ed4",
   "metadata": {
    "tags": []
   },
   "outputs": [
    {
     "data": {
      "text/plain": [
       "PosixPath('/home/jupyter/vertex-ai-mlops/Applied GenAI/legacy/Vertex AI Search/architectures/notebooks/applied/genai/vertex_ai_search/vertex_search_step_1.png')"
      ]
     },
     "execution_count": 144,
     "metadata": {},
     "output_type": "execute_result"
    }
   ],
   "source": [
    "new_absolute_path = (file_path.parent / relative_to_common).resolve()\n",
    "new_absolute_path"
   ]
  },
  {
   "cell_type": "code",
   "execution_count": 145,
   "id": "1c72e25e-cb67-4b34-8889-015c147c9d8e",
   "metadata": {
    "tags": []
   },
   "outputs": [
    {
     "data": {
      "text/plain": [
       "False"
      ]
     },
     "execution_count": 145,
     "metadata": {},
     "output_type": "execute_result"
    }
   ],
   "source": [
    "new_absolute_path.exists()"
   ]
  },
  {
   "cell_type": "code",
   "execution_count": null,
   "id": "a646304d-a5fd-4103-bd0d-2b181f1b4573",
   "metadata": {},
   "outputs": [],
   "source": []
  },
  {
   "cell_type": "code",
   "execution_count": null,
   "id": "dc491922-1bea-4a41-aff7-a5583b2b2293",
   "metadata": {},
   "outputs": [],
   "source": []
  },
  {
   "cell_type": "code",
   "execution_count": null,
   "id": "3e8089da-6ea3-45d9-a980-ef5f9bc9b2a0",
   "metadata": {},
   "outputs": [],
   "source": []
  },
  {
   "cell_type": "raw",
   "id": "d560e568-679b-4699-9eb4-07180f9d9a99",
   "metadata": {},
   "source": [
    "def link_fixer(file_path, link, from_path):\n",
    "    response = ''\n",
    "    decoded_link = urllib.parse.unquote(link)\n",
    "    absolute_path = (file_path.parent / decoded_link).resolve()\n",
    "    print((file_path.parent, decoded_link, absolute_path))\n",
    "    if not absolute_path.exists():\n",
    "        old_absolute_path = (pathlib.Path(from_path) / decoded_link).resolve()\n",
    "        common_folder = pathlib.Path(os.path.commonpath([file_path, old_absolute_path]))\n",
    "        if old_absolute_path.exists():\n",
    "            relative_to_common = old_absolute_path.relative_to(common_folder)\n",
    "            new_absolute_path = (file_path.parent / relative_to_common).resolve()\n",
    "            if new_absolute_path.exists():\n",
    "                new_relative_link = new_absolute_path.relative_to(file_path.parent)\n",
    "            \n",
    "    \n",
    "                response = (\n",
    "                    file_path,\n",
    "                    decoded_link,\n",
    "                    absolute_path.exists(),\n",
    "                    new_relative_link,\n",
    "                    new_absolute_path.exists()\n",
    "                )\n",
    "    else:\n",
    "        response = (\n",
    "            file_path,\n",
    "            decoded_link,\n",
    "            absolute_path.exists(),\n",
    "            )\n",
    "    return response"
   ]
  },
  {
   "cell_type": "code",
   "execution_count": null,
   "id": "a68700f3-eea6-42ed-b56d-01f3a72ced6f",
   "metadata": {},
   "outputs": [],
   "source": []
  },
  {
   "cell_type": "code",
   "execution_count": null,
   "id": "7e643dcf-1e3f-4a4d-b22f-907848848ffe",
   "metadata": {},
   "outputs": [],
   "source": []
  },
  {
   "cell_type": "code",
   "execution_count": null,
   "id": "147f7040-aa53-4dac-91bd-a5a9a277f1f9",
   "metadata": {},
   "outputs": [],
   "source": []
  },
  {
   "cell_type": "code",
   "execution_count": null,
   "id": "8fa19ac1-2a2f-4512-a4bb-effdd6e7ecac",
   "metadata": {},
   "outputs": [],
   "source": []
  },
  {
   "cell_type": "code",
   "execution_count": null,
   "id": "87d67ba9-8af8-466e-9e56-554bfa4b5af6",
   "metadata": {},
   "outputs": [],
   "source": []
  },
  {
   "cell_type": "code",
   "execution_count": null,
   "id": "6598b002-e16d-4a94-ab48-37066faf2801",
   "metadata": {},
   "outputs": [],
   "source": []
  },
  {
   "cell_type": "code",
   "execution_count": null,
   "id": "08e377ba-84f5-4437-a8af-33b36aadc84e",
   "metadata": {},
   "outputs": [],
   "source": []
  },
  {
   "cell_type": "code",
   "execution_count": null,
   "id": "266e3bc7-35c7-4445-8647-b3effccac112",
   "metadata": {},
   "outputs": [],
   "source": []
  },
  {
   "cell_type": "code",
   "execution_count": 85,
   "id": "a53d4da1-1357-4e4f-b17f-c300513b5750",
   "metadata": {
    "tags": []
   },
   "outputs": [
    {
     "name": "stdout",
     "output_type": "stream",
     "text": [
      "/home/jupyter/vertex-ai-mlops/Applied GenAI/legacy/Vertex AI Search/Vertex AI Search Python Client Overview.ipynb \n",
      " ./vertex_search_setup.md \n",
      " True \n",
      "\n",
      "\n",
      "/home/jupyter/vertex-ai-mlops/Applied GenAI/legacy/Vertex AI Search/Vertex AI Search Python Client Overview.ipynb \n",
      " ./vertex_search_setup.md \n",
      " True \n",
      "\n",
      "\n",
      "/home/jupyter/vertex-ai-mlops/Applied GenAI/legacy/Vertex AI Search/vertex_search_setup.md \n",
      " ../../architectures/notebooks/applied/genai/vertex_ai_search/vertex_search_step_0.png \n",
      " False \n",
      "\n",
      "\n",
      "/home/jupyter/vertex-ai-mlops/Applied GenAI/legacy/Vertex AI Search/vertex_search_setup.md \n",
      " ../../architectures/notebooks/applied/genai/vertex_ai_search/vertex_search_step_1.png \n",
      " False \n",
      "\n",
      "\n",
      "/home/jupyter/vertex-ai-mlops/Applied GenAI/legacy/Vertex AI Search/vertex_search_setup.md \n",
      " ../../architectures/notebooks/applied/genai/vertex_ai_search/vertex_search_step_2.png \n",
      " False \n",
      "\n",
      "\n",
      "/home/jupyter/vertex-ai-mlops/Applied GenAI/legacy/Vertex AI Search/vertex_search_setup.md \n",
      " ../../architectures/notebooks/applied/genai/vertex_ai_search/vertex_search_step_3.png \n",
      " False \n",
      "\n",
      "\n",
      "/home/jupyter/vertex-ai-mlops/Applied GenAI/legacy/Vertex AI Search/vertex_search_setup.md \n",
      " ../../architectures/notebooks/applied/genai/vertex_ai_search/vertex_search_step_4.png \n",
      " False \n",
      "\n",
      "\n",
      "/home/jupyter/vertex-ai-mlops/Applied GenAI/legacy/Vertex AI Search/vertex_search_setup.md \n",
      " ../../architectures/notebooks/applied/genai/vertex_ai_search/vertex_search_step_5.png \n",
      " False \n",
      "\n",
      "\n",
      "/home/jupyter/vertex-ai-mlops/Applied GenAI/legacy/Vertex AI Search/vertex_search_setup.md \n",
      " ../../architectures/notebooks/applied/genai/vertex_ai_search/vertex_search_step_6.png \n",
      " False \n",
      "\n",
      "\n",
      "/home/jupyter/vertex-ai-mlops/Applied GenAI/legacy/Vertex AI Search/vertex_search_setup.md \n",
      " ../../architectures/notebooks/applied/genai/vertex_ai_search/vertex_search_step_7.png \n",
      " False \n",
      "\n",
      "\n",
      "/home/jupyter/vertex-ai-mlops/Applied GenAI/legacy/Vertex AI Search/vertex_search_setup.md \n",
      " ../../architectures/notebooks/applied/genai/vertex_ai_search/vertex_search_step_8.png \n",
      " False \n",
      "\n",
      "\n",
      "/home/jupyter/vertex-ai-mlops/Applied GenAI/legacy/Vertex AI Search/vertex_search_setup.md \n",
      " ../../architectures/notebooks/applied/genai/vertex_ai_search/vertex_search_step_9.png \n",
      " False \n",
      "\n",
      "\n",
      "/home/jupyter/vertex-ai-mlops/Applied GenAI/legacy/Vertex AI Search/readme.md \n",
      " ./vertex_search_setup.md \n",
      " True \n",
      "\n",
      "\n",
      "/home/jupyter/vertex-ai-mlops/Applied GenAI/legacy/Vertex AI Search/readme.md \n",
      " ./Vertex AI Search Document Q&A Using Extractive Segments - MLB Rules For Baseball.ipynb \n",
      " False \n",
      "\n",
      "\n"
     ]
    }
   ],
   "source": [
    "for file_path, link, exists in relative_links:\n",
    "    print(file_path, '\\n', link, '\\n', exists, '\\n\\n')"
   ]
  },
  {
   "cell_type": "code",
   "execution_count": null,
   "id": "1ab69a06-d7c3-46e0-8db2-b06b0db49199",
   "metadata": {},
   "outputs": [],
   "source": []
  },
  {
   "cell_type": "code",
   "execution_count": null,
   "id": "f1edd3c9-d84c-4cb6-9368-8dbb47d7bff7",
   "metadata": {},
   "outputs": [],
   "source": []
  },
  {
   "cell_type": "code",
   "execution_count": null,
   "id": "a79a4ee3-df59-46d7-a0c6-d4089de55c33",
   "metadata": {},
   "outputs": [],
   "source": []
  },
  {
   "cell_type": "code",
   "execution_count": null,
   "id": "b94f6d5a-8446-4f49-8c50-b052078959e5",
   "metadata": {},
   "outputs": [],
   "source": []
  }
 ],
 "metadata": {
  "environment": {
   "kernel": "conda-base-py",
   "name": "workbench-notebooks.m124",
   "type": "gcloud",
   "uri": "us-docker.pkg.dev/deeplearning-platform-release/gcr.io/workbench-notebooks:m124"
  },
  "kernelspec": {
   "display_name": "Python 3 (ipykernel)",
   "language": "python",
   "name": "conda-base-py"
  },
  "language_info": {
   "codemirror_mode": {
    "name": "ipython",
    "version": 3
   },
   "file_extension": ".py",
   "mimetype": "text/x-python",
   "name": "python",
   "nbconvert_exporter": "python",
   "pygments_lexer": "ipython3",
   "version": "3.10.14"
  }
 },
 "nbformat": 4,
 "nbformat_minor": 5
}
