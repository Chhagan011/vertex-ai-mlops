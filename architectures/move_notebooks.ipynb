{
 "cells": [
  {
   "cell_type": "markdown",
   "id": "13f2d1c2-da30-4756-93cf-47ac14bce0db",
   "metadata": {},
   "source": [
    "# Moving Notebook Files\n",
    "\n",
    "Used to move files or folders to different folders within the repo\n",
    "- preserves files commmit history by using `git mv`\n",
    "- Will fix relative links within markdown cells of notebooks and within markdown files.\n",
    "- adds banner at top of file to indicate the files move and status"
   ]
  },
  {
   "cell_type": "markdown",
   "id": "4f76654f-35f2-43ad-a162-132b8a1698e5",
   "metadata": {},
   "source": [
    "---\n",
    "## Setup"
   ]
  },
  {
   "cell_type": "markdown",
   "id": "7c10b8a8-2e5b-4b6b-8ad0-af72590506fe",
   "metadata": {},
   "source": [
    "Installs:"
   ]
  },
  {
   "cell_type": "code",
   "execution_count": 21,
   "id": "9a5dd3fe-6e2e-4edd-a64d-92b9ce0f8466",
   "metadata": {
    "tags": []
   },
   "outputs": [],
   "source": [
    "#!pip install GitPython"
   ]
  },
  {
   "cell_type": "markdown",
   "id": "05f51afa-a5d7-4100-ad3b-68d9610b2447",
   "metadata": {},
   "source": [
    "Imports:"
   ]
  },
  {
   "cell_type": "code",
   "execution_count": 51,
   "id": "05f17c9c-bd1d-46d8-83cf-8453c0cc1a65",
   "metadata": {
    "tags": []
   },
   "outputs": [
    {
     "data": {
      "text/plain": [
       "nbformat.NO_CONVERT"
      ]
     },
     "execution_count": 51,
     "metadata": {},
     "output_type": "execute_result"
    }
   ],
   "source": [
    "import os, json, urllib.parse, IPython, pathlib, nbformat, re, git\n",
    "\n",
    "nbformat.NO_CONVERT"
   ]
  },
  {
   "cell_type": "markdown",
   "id": "7841bda5-c497-4b9c-a428-3644eba1bc32",
   "metadata": {},
   "source": [
    "## Test For Parsing"
   ]
  },
  {
   "cell_type": "code",
   "execution_count": 2,
   "id": "36f20361-8f1b-4dcd-9511-67db4941848b",
   "metadata": {
    "tags": []
   },
   "outputs": [
    {
     "data": {
      "text/plain": [
       "'user%2Frepo%2Fpath%2Fto+the%2Ffile%2Ffile+name.ipynb'"
      ]
     },
     "execution_count": 2,
     "metadata": {},
     "output_type": "execute_result"
    }
   ],
   "source": [
    "urllib.parse.quote_plus('user/repo/path/to the/file/file name.ipynb')"
   ]
  },
  {
   "cell_type": "code",
   "execution_count": 3,
   "id": "2d563ecc-e923-49cc-8b9e-b5857644e90a",
   "metadata": {
    "tags": []
   },
   "outputs": [
    {
     "data": {
      "text/plain": [
       "'user/repo/path/to%20the/file/file%20name.ipynb'"
      ]
     },
     "execution_count": 3,
     "metadata": {},
     "output_type": "execute_result"
    }
   ],
   "source": [
    "urllib.parse.quote('user/repo/path/to the/file/file name.ipynb')"
   ]
  },
  {
   "cell_type": "code",
   "execution_count": 4,
   "id": "2a58ec6f-8183-4b54-b6f8-51e423c2e207",
   "metadata": {
    "tags": []
   },
   "outputs": [
    {
     "data": {
      "text/plain": [
       "'https%3A%2F%2Fgithub.com'"
      ]
     },
     "execution_count": 4,
     "metadata": {},
     "output_type": "execute_result"
    }
   ],
   "source": [
    "urllib.parse.quote_plus('https://github.com')"
   ]
  },
  {
   "cell_type": "code",
   "execution_count": 5,
   "id": "210ed2f2-5fc0-4947-9703-8879c3ddab6c",
   "metadata": {
    "tags": []
   },
   "outputs": [
    {
     "data": {
      "text/plain": [
       "'https%3A//github.com'"
      ]
     },
     "execution_count": 5,
     "metadata": {},
     "output_type": "execute_result"
    }
   ],
   "source": [
    "urllib.parse.quote('https://github.com')"
   ]
  },
  {
   "cell_type": "markdown",
   "id": "dfec3bf5-3fa6-44d7-9a64-7f7f3a6b926c",
   "metadata": {},
   "source": [
    "---\n",
    "## Locations"
   ]
  },
  {
   "cell_type": "code",
   "execution_count": 7,
   "id": "01bc93a0-f0c0-47b7-98a8-3be92a5d64a8",
   "metadata": {
    "tags": []
   },
   "outputs": [
    {
     "data": {
      "text/plain": [
       "'/home/jupyter/vertex-ai-mlops/Applied GenAI/resources'"
      ]
     },
     "execution_count": 7,
     "metadata": {},
     "output_type": "execute_result"
    }
   ],
   "source": [
    "os.getcwd()"
   ]
  },
  {
   "cell_type": "code",
   "execution_count": 96,
   "id": "5d458b2f-9af4-4fee-af5b-27709ce91720",
   "metadata": {
    "tags": []
   },
   "outputs": [],
   "source": [
    "repo_path = '/home/jupyter/vertex-ai-mlops'\n",
    "from_path = repo_path + '/Applied GenAI/Vertex AI Search'\n",
    "to_path = repo_path + '/Applied GenAI/legacy/Vertex AI Search'\n",
    "\n",
    "files = [\n",
    "    \"Summarize Conversations - Text and Audio.ipynb\",\n",
    "    \"Vertex AI GenAI For Document Q&A - USGA Rules For Golf.ipynb\",\n",
    "    \"Vertex AI GenAI For Document Q&A v2 - MLB Rules For Baseball.ipynb\",\n",
    "    \"Vertex AI GenAI For Document Q&A - NHL Rules For Hockey.ipynb\",\n",
    "    \"Vertex AI GenAI For BigQuery Metadata - Make Better Tables.ipynb\",\n",
    "    \"Vertex AI GenAI For Document Q&A - Healthcare Benefits Member Handbook.ipynb\",\n",
    "    \"Vertex AI GenAI For Document Q&A - MCC Laws For Cricket.ipynb\",\n",
    "    \"Vertex AI Matching Engine For Document Q&A.ipynb\",\n",
    "    \"Vertex AI GenAI For Rewriting - BigQuery Advisor With Codey.ipynb\",\n",
    "    \"Vertex AI GenAI For Document Q&A - Annual Report.ipynb\",\n",
    "    \"Vertex AI GenAI For Document Q&A v2 - Deed Of Trust.ipynb\",\n",
    "    \"Vertex AI GenAI For Document Q&A - FAA Regulations.ipynb\",\n",
    "    \"Vertex AI GenAI For BigQuery Q&A - Overview.ipynb\",\n",
    "    \"Vertex AI GenAI For Document Q&A - Local Government Trends.ipynb\",\n",
    "    \"Vertex AI GenAI For Document Q&A v2 - Employee Handbook.ipynb\",\n",
    "    \"Vertex AI GenAI For Document Q&A - MLB Rules For Baseball.ipynb\",\n",
    "    \"Vertex AI GenAI For Document Q&A - NFL Rules For Football.ipynb\",\n",
    "    \"Vertex AI GenAI For Document Q&A - NBA Rules For Basketball.ipynb\",\n",
    "    \"Vertex AI GenAI For Document Q&A - IFAB Laws For Soccer.ipynb\",\n",
    "    \"Vertex AI GenAI For Document Q&A - Municipal Securities.ipynb\",\n",
    "]"
   ]
  },
  {
   "cell_type": "markdown",
   "id": "908460ab-7d36-4191-bfeb-3d7bfd6305ca",
   "metadata": {
    "tags": []
   },
   "source": [
    "---\n",
    "## Move Folder/File\n",
    "\n",
    "This is a git repository so it is important to move the files with the commit history preserved using `git mv old_file new_file`."
   ]
  },
  {
   "cell_type": "code",
   "execution_count": 97,
   "id": "66b44546-c915-425f-8074-24387e37fb7a",
   "metadata": {
    "tags": []
   },
   "outputs": [],
   "source": [
    "repo = git.Repo(repo_path)"
   ]
  },
  {
   "cell_type": "code",
   "execution_count": 100,
   "id": "ca537a9e-e001-477f-aa51-5d6aff0128cb",
   "metadata": {
    "tags": []
   },
   "outputs": [
    {
     "name": "stdout",
     "output_type": "stream",
     "text": [
      "Files in `from_path` do not exists, likely already moved.\n"
     ]
    }
   ],
   "source": [
    "if pathlib.Path(from_path).exists():\n",
    "    repo.git.mv(from_path, to_path)\n",
    "    print(f'Files moved from: \\n\\t{from_path}\\nto:\\n\\t{to_path}')\n",
    "else:\n",
    "    print('Files in `from_path` do not exists, likely already moved.')"
   ]
  },
  {
   "cell_type": "markdown",
   "id": "da1632f2-5eb3-416a-a430-603bec9599da",
   "metadata": {},
   "source": [
    "The moved files will be staged for commit.  Pause here and commit these changes."
   ]
  },
  {
   "cell_type": "markdown",
   "id": "9ddcdcd3-9106-4faf-b563-e8f885db29f0",
   "metadata": {},
   "source": [
    "---\n",
    "## Files List\n",
    "\n",
    "Create a list of files (.md and .ipynb) including their new full path. If `to_path` was a file then the files list will have just the one file in it.  If `to_path` was a folder then all files in the folder will be included in the list."
   ]
  },
  {
   "cell_type": "code",
   "execution_count": 101,
   "id": "a0d98b49-244f-4cb2-abee-26610834ec12",
   "metadata": {
    "tags": []
   },
   "outputs": [],
   "source": [
    "def file_list(to_path):\n",
    "    files = []\n",
    "    if os.path.isdir(to_path):\n",
    "        for nb in pathlib.Path(to_path).glob(\"*.ipynb\"):\n",
    "            files.append(to_path+'/'+nb.name)\n",
    "        for md in pathlib.Path(to_path).glob(\"*.md\"):\n",
    "            files.append(to_path+'/'+md.name)   \n",
    "    elif os.path.isfile(to_path):\n",
    "        files.append(to_path)\n",
    "    else:\n",
    "        print(f'Check for existance of file/folder: {to_path}')\n",
    "\n",
    "    if files:\n",
    "        for file in files: print(file)\n",
    "\n",
    "    return files"
   ]
  },
  {
   "cell_type": "code",
   "execution_count": 102,
   "id": "0cbeb89b-a80c-4351-b5d2-57d993eba875",
   "metadata": {
    "tags": []
   },
   "outputs": [
    {
     "name": "stdout",
     "output_type": "stream",
     "text": [
      "/home/jupyter/vertex-ai-mlops/Applied GenAI/legacy/Vertex AI Search/Vertex AI Search Python Client Overview.ipynb\n",
      "/home/jupyter/vertex-ai-mlops/Applied GenAI/legacy/Vertex AI Search/Vertex AI Search For Grounding With Document Q&A.ipynb\n",
      "/home/jupyter/vertex-ai-mlops/Applied GenAI/legacy/Vertex AI Search/vertex_search_setup.md\n",
      "/home/jupyter/vertex-ai-mlops/Applied GenAI/legacy/Vertex AI Search/readme.md\n"
     ]
    }
   ],
   "source": [
    "files = file_list(to_path)"
   ]
  },
  {
   "cell_type": "markdown",
   "id": "af29f511-03f7-4903-940b-4a619d7381bc",
   "metadata": {},
   "source": [
    "---\n",
    "## Find and Fix Links"
   ]
  },
  {
   "cell_type": "code",
   "execution_count": 105,
   "id": "d617e703-48bb-4c3c-85f6-1ad18b818a3b",
   "metadata": {
    "tags": []
   },
   "outputs": [],
   "source": [
    "def link_fixer(file_path, link, from_path):\n",
    "    decoded_link = urllib.parse.unquote(link)\n",
    "    absolute_path = (file_path.parent / decoded_link).resolve()\n",
    "    print(file_path.parent, decoded_link, absolute_path)\n",
    "    if not absolute_path.exists():\n",
    "        old_absolute_path = (pathlib.Path(from_path) / decoded_link).resolve()\n",
    "        #if old_absolute_path.exists():\n",
    "        new_relative_link = old_absolute_path.relative_to(file_path.parent)\n",
    "        new_absolute_path = (file_path.parent / new_relative_link).resolve()\n",
    "            \n",
    "    \n",
    "        response = (\n",
    "            file_path,\n",
    "            decoded_link,\n",
    "            absolute_path.exists(),\n",
    "            new_relative_link,\n",
    "            new_absolute_path.exists()\n",
    "        )\n",
    "    else:\n",
    "        response = (\n",
    "            file_path,\n",
    "            decoded_link,\n",
    "            absolute_path.exists(),\n",
    "            )\n",
    "    return response\n",
    "\n",
    "\n",
    "def find_relative_links_in_file(file_path, from_path):\n",
    "    \n",
    "    relative_links = []\n",
    "    regex = r\"\\[.*?\\]\\((.*?)\\)\" #capture links in markdown [](link here)\n",
    "    regex = r\"(?:\\[.*?\\]\\((.*?)\\)|<\\w+\\s+[^>]*?(?:href|src)=(['\\\"])(.*?)\\2)\" # capture markdown and qouted links in href and src\n",
    "    if file_path.suffix == '.ipynb':\n",
    "        nb = nbformat.read(file_path, nbformat.NO_CONVERT)\n",
    "        for cell in nb.cells:\n",
    "            if cell.cell_type == 'markdown':\n",
    "                links = re.findall(regex, cell.source)\n",
    "                for match in links:\n",
    "                    #print(match)\n",
    "                    link = match[0] or match[2]\n",
    "                    if not link.startswith(\"http\") and not link.startswith('/'):\n",
    "                        relative_links.append(\n",
    "                            link_fixer(file_path, link, from_path)\n",
    "                        )\n",
    "    elif file_path.suffix == '.md':\n",
    "        with open(file_path, \"r\") as f:\n",
    "            content = f.read()\n",
    "            links = re.findall(regex, content)\n",
    "            for match in links:\n",
    "                #print(match)\n",
    "                link = match[0] or match[2]\n",
    "                if not link.startswith('http') and not link.startswith('/'):\n",
    "                    relative_links.append(\n",
    "                        link_fixer(file_path, link, from_path)\n",
    "                    )\n",
    "    \n",
    "    return relative_links"
   ]
  },
  {
   "cell_type": "code",
   "execution_count": 106,
   "id": "2fca6c51-151e-46fd-a2cd-236ed3cd6024",
   "metadata": {
    "tags": []
   },
   "outputs": [
    {
     "name": "stdout",
     "output_type": "stream",
     "text": [
      "/home/jupyter/vertex-ai-mlops/Applied GenAI/legacy/Vertex AI Search ./vertex_search_setup.md /home/jupyter/vertex-ai-mlops/Applied GenAI/legacy/Vertex AI Search/vertex_search_setup.md\n",
      "/home/jupyter/vertex-ai-mlops/Applied GenAI/legacy/Vertex AI Search ./vertex_search_setup.md /home/jupyter/vertex-ai-mlops/Applied GenAI/legacy/Vertex AI Search/vertex_search_setup.md\n",
      "/home/jupyter/vertex-ai-mlops/Applied GenAI/legacy/Vertex AI Search ../../architectures/notebooks/applied/genai/vertex_ai_search/vertex_search_step_0.png /home/jupyter/vertex-ai-mlops/Applied GenAI/architectures/notebooks/applied/genai/vertex_ai_search/vertex_search_step_0.png\n"
     ]
    },
    {
     "ename": "ValueError",
     "evalue": "'/home/jupyter/vertex-ai-mlops/architectures/notebooks/applied/genai/vertex_ai_search/vertex_search_step_0.png' is not in the subpath of '/home/jupyter/vertex-ai-mlops/Applied GenAI/legacy/Vertex AI Search' OR one path is relative and the other is absolute.",
     "output_type": "error",
     "traceback": [
      "\u001b[0;31m---------------------------------------------------------------------------\u001b[0m",
      "\u001b[0;31mValueError\u001b[0m                                Traceback (most recent call last)",
      "Cell \u001b[0;32mIn[106], line 5\u001b[0m\n\u001b[1;32m      2\u001b[0m \u001b[38;5;28;01mfor\u001b[39;00m file_path \u001b[38;5;129;01min\u001b[39;00m files:\n\u001b[1;32m      3\u001b[0m     file_path \u001b[38;5;241m=\u001b[39m pathlib\u001b[38;5;241m.\u001b[39mPath(file_path)\n\u001b[1;32m      4\u001b[0m     relative_links\u001b[38;5;241m.\u001b[39mextend(\n\u001b[0;32m----> 5\u001b[0m         \u001b[43mfind_relative_links_in_file\u001b[49m\u001b[43m(\u001b[49m\u001b[43mfile_path\u001b[49m\u001b[43m,\u001b[49m\u001b[43m \u001b[49m\u001b[43mfrom_path\u001b[49m\u001b[43m)\u001b[49m\n\u001b[1;32m      6\u001b[0m     )\n",
      "Cell \u001b[0;32mIn[105], line 54\u001b[0m, in \u001b[0;36mfind_relative_links_in_file\u001b[0;34m(file_path, from_path)\u001b[0m\n\u001b[1;32m     51\u001b[0m             link \u001b[38;5;241m=\u001b[39m match[\u001b[38;5;241m0\u001b[39m] \u001b[38;5;129;01mor\u001b[39;00m match[\u001b[38;5;241m2\u001b[39m]\n\u001b[1;32m     52\u001b[0m             \u001b[38;5;28;01mif\u001b[39;00m \u001b[38;5;129;01mnot\u001b[39;00m link\u001b[38;5;241m.\u001b[39mstartswith(\u001b[38;5;124m'\u001b[39m\u001b[38;5;124mhttp\u001b[39m\u001b[38;5;124m'\u001b[39m) \u001b[38;5;129;01mand\u001b[39;00m \u001b[38;5;129;01mnot\u001b[39;00m link\u001b[38;5;241m.\u001b[39mstartswith(\u001b[38;5;124m'\u001b[39m\u001b[38;5;124m/\u001b[39m\u001b[38;5;124m'\u001b[39m):\n\u001b[1;32m     53\u001b[0m                 relative_links\u001b[38;5;241m.\u001b[39mappend(\n\u001b[0;32m---> 54\u001b[0m                     \u001b[43mlink_fixer\u001b[49m\u001b[43m(\u001b[49m\u001b[43mfile_path\u001b[49m\u001b[43m,\u001b[49m\u001b[43m \u001b[49m\u001b[43mlink\u001b[49m\u001b[43m,\u001b[49m\u001b[43m \u001b[49m\u001b[43mfrom_path\u001b[49m\u001b[43m)\u001b[49m\n\u001b[1;32m     55\u001b[0m                 )\n\u001b[1;32m     57\u001b[0m \u001b[38;5;28;01mreturn\u001b[39;00m relative_links\n",
      "Cell \u001b[0;32mIn[105], line 8\u001b[0m, in \u001b[0;36mlink_fixer\u001b[0;34m(file_path, link, from_path)\u001b[0m\n\u001b[1;32m      6\u001b[0m old_absolute_path \u001b[38;5;241m=\u001b[39m (pathlib\u001b[38;5;241m.\u001b[39mPath(from_path) \u001b[38;5;241m/\u001b[39m decoded_link)\u001b[38;5;241m.\u001b[39mresolve()\n\u001b[1;32m      7\u001b[0m \u001b[38;5;66;03m#if old_absolute_path.exists():\u001b[39;00m\n\u001b[0;32m----> 8\u001b[0m new_relative_link \u001b[38;5;241m=\u001b[39m \u001b[43mold_absolute_path\u001b[49m\u001b[38;5;241;43m.\u001b[39;49m\u001b[43mrelative_to\u001b[49m\u001b[43m(\u001b[49m\u001b[43mfile_path\u001b[49m\u001b[38;5;241;43m.\u001b[39;49m\u001b[43mparent\u001b[49m\u001b[43m)\u001b[49m\n\u001b[1;32m      9\u001b[0m new_absolute_path \u001b[38;5;241m=\u001b[39m (file_path\u001b[38;5;241m.\u001b[39mparent \u001b[38;5;241m/\u001b[39m new_relative_link)\u001b[38;5;241m.\u001b[39mresolve()\n\u001b[1;32m     12\u001b[0m response \u001b[38;5;241m=\u001b[39m (\n\u001b[1;32m     13\u001b[0m     file_path,\n\u001b[1;32m     14\u001b[0m     decoded_link,\n\u001b[0;32m   (...)\u001b[0m\n\u001b[1;32m     17\u001b[0m     new_absolute_path\u001b[38;5;241m.\u001b[39mexists()\n\u001b[1;32m     18\u001b[0m )\n",
      "File \u001b[0;32m/opt/conda/lib/python3.10/pathlib.py:818\u001b[0m, in \u001b[0;36mPurePath.relative_to\u001b[0;34m(self, *other)\u001b[0m\n\u001b[1;32m    816\u001b[0m \u001b[38;5;28;01mif\u001b[39;00m (root \u001b[38;5;129;01mor\u001b[39;00m drv) \u001b[38;5;28;01mif\u001b[39;00m n \u001b[38;5;241m==\u001b[39m \u001b[38;5;241m0\u001b[39m \u001b[38;5;28;01melse\u001b[39;00m cf(abs_parts[:n]) \u001b[38;5;241m!=\u001b[39m cf(to_abs_parts):\n\u001b[1;32m    817\u001b[0m     formatted \u001b[38;5;241m=\u001b[39m \u001b[38;5;28mself\u001b[39m\u001b[38;5;241m.\u001b[39m_format_parsed_parts(to_drv, to_root, to_parts)\n\u001b[0;32m--> 818\u001b[0m     \u001b[38;5;28;01mraise\u001b[39;00m \u001b[38;5;167;01mValueError\u001b[39;00m(\u001b[38;5;124m\"\u001b[39m\u001b[38;5;132;01m{!r}\u001b[39;00m\u001b[38;5;124m is not in the subpath of \u001b[39m\u001b[38;5;132;01m{!r}\u001b[39;00m\u001b[38;5;124m\"\u001b[39m\n\u001b[1;32m    819\u001b[0m             \u001b[38;5;124m\"\u001b[39m\u001b[38;5;124m OR one path is relative and the other is absolute.\u001b[39m\u001b[38;5;124m\"\u001b[39m\n\u001b[1;32m    820\u001b[0m                      \u001b[38;5;241m.\u001b[39mformat(\u001b[38;5;28mstr\u001b[39m(\u001b[38;5;28mself\u001b[39m), \u001b[38;5;28mstr\u001b[39m(formatted)))\n\u001b[1;32m    821\u001b[0m \u001b[38;5;28;01mreturn\u001b[39;00m \u001b[38;5;28mself\u001b[39m\u001b[38;5;241m.\u001b[39m_from_parsed_parts(\u001b[38;5;124m'\u001b[39m\u001b[38;5;124m'\u001b[39m, root \u001b[38;5;28;01mif\u001b[39;00m n \u001b[38;5;241m==\u001b[39m \u001b[38;5;241m1\u001b[39m \u001b[38;5;28;01melse\u001b[39;00m \u001b[38;5;124m'\u001b[39m\u001b[38;5;124m'\u001b[39m,\n\u001b[1;32m    822\u001b[0m                                abs_parts[n:])\n",
      "\u001b[0;31mValueError\u001b[0m: '/home/jupyter/vertex-ai-mlops/architectures/notebooks/applied/genai/vertex_ai_search/vertex_search_step_0.png' is not in the subpath of '/home/jupyter/vertex-ai-mlops/Applied GenAI/legacy/Vertex AI Search' OR one path is relative and the other is absolute."
     ]
    }
   ],
   "source": [
    "relative_links = []\n",
    "for file_path in files:\n",
    "    file_path = pathlib.Path(file_path)\n",
    "    relative_links.extend(\n",
    "        find_relative_links_in_file(file_path, from_path)\n",
    "    )"
   ]
  },
  {
   "cell_type": "code",
   "execution_count": 85,
   "id": "a53d4da1-1357-4e4f-b17f-c300513b5750",
   "metadata": {
    "tags": []
   },
   "outputs": [
    {
     "name": "stdout",
     "output_type": "stream",
     "text": [
      "/home/jupyter/vertex-ai-mlops/Applied GenAI/legacy/Vertex AI Search/Vertex AI Search Python Client Overview.ipynb \n",
      " ./vertex_search_setup.md \n",
      " True \n",
      "\n",
      "\n",
      "/home/jupyter/vertex-ai-mlops/Applied GenAI/legacy/Vertex AI Search/Vertex AI Search Python Client Overview.ipynb \n",
      " ./vertex_search_setup.md \n",
      " True \n",
      "\n",
      "\n",
      "/home/jupyter/vertex-ai-mlops/Applied GenAI/legacy/Vertex AI Search/vertex_search_setup.md \n",
      " ../../architectures/notebooks/applied/genai/vertex_ai_search/vertex_search_step_0.png \n",
      " False \n",
      "\n",
      "\n",
      "/home/jupyter/vertex-ai-mlops/Applied GenAI/legacy/Vertex AI Search/vertex_search_setup.md \n",
      " ../../architectures/notebooks/applied/genai/vertex_ai_search/vertex_search_step_1.png \n",
      " False \n",
      "\n",
      "\n",
      "/home/jupyter/vertex-ai-mlops/Applied GenAI/legacy/Vertex AI Search/vertex_search_setup.md \n",
      " ../../architectures/notebooks/applied/genai/vertex_ai_search/vertex_search_step_2.png \n",
      " False \n",
      "\n",
      "\n",
      "/home/jupyter/vertex-ai-mlops/Applied GenAI/legacy/Vertex AI Search/vertex_search_setup.md \n",
      " ../../architectures/notebooks/applied/genai/vertex_ai_search/vertex_search_step_3.png \n",
      " False \n",
      "\n",
      "\n",
      "/home/jupyter/vertex-ai-mlops/Applied GenAI/legacy/Vertex AI Search/vertex_search_setup.md \n",
      " ../../architectures/notebooks/applied/genai/vertex_ai_search/vertex_search_step_4.png \n",
      " False \n",
      "\n",
      "\n",
      "/home/jupyter/vertex-ai-mlops/Applied GenAI/legacy/Vertex AI Search/vertex_search_setup.md \n",
      " ../../architectures/notebooks/applied/genai/vertex_ai_search/vertex_search_step_5.png \n",
      " False \n",
      "\n",
      "\n",
      "/home/jupyter/vertex-ai-mlops/Applied GenAI/legacy/Vertex AI Search/vertex_search_setup.md \n",
      " ../../architectures/notebooks/applied/genai/vertex_ai_search/vertex_search_step_6.png \n",
      " False \n",
      "\n",
      "\n",
      "/home/jupyter/vertex-ai-mlops/Applied GenAI/legacy/Vertex AI Search/vertex_search_setup.md \n",
      " ../../architectures/notebooks/applied/genai/vertex_ai_search/vertex_search_step_7.png \n",
      " False \n",
      "\n",
      "\n",
      "/home/jupyter/vertex-ai-mlops/Applied GenAI/legacy/Vertex AI Search/vertex_search_setup.md \n",
      " ../../architectures/notebooks/applied/genai/vertex_ai_search/vertex_search_step_8.png \n",
      " False \n",
      "\n",
      "\n",
      "/home/jupyter/vertex-ai-mlops/Applied GenAI/legacy/Vertex AI Search/vertex_search_setup.md \n",
      " ../../architectures/notebooks/applied/genai/vertex_ai_search/vertex_search_step_9.png \n",
      " False \n",
      "\n",
      "\n",
      "/home/jupyter/vertex-ai-mlops/Applied GenAI/legacy/Vertex AI Search/readme.md \n",
      " ./vertex_search_setup.md \n",
      " True \n",
      "\n",
      "\n",
      "/home/jupyter/vertex-ai-mlops/Applied GenAI/legacy/Vertex AI Search/readme.md \n",
      " ./Vertex AI Search Document Q&A Using Extractive Segments - MLB Rules For Baseball.ipynb \n",
      " False \n",
      "\n",
      "\n"
     ]
    }
   ],
   "source": [
    "for file_path, link, exists in relative_links:\n",
    "    print(file_path, '\\n', link, '\\n', exists, '\\n\\n')"
   ]
  },
  {
   "cell_type": "code",
   "execution_count": null,
   "id": "1ab69a06-d7c3-46e0-8db2-b06b0db49199",
   "metadata": {},
   "outputs": [],
   "source": []
  },
  {
   "cell_type": "code",
   "execution_count": null,
   "id": "f1edd3c9-d84c-4cb6-9368-8dbb47d7bff7",
   "metadata": {},
   "outputs": [],
   "source": []
  },
  {
   "cell_type": "code",
   "execution_count": null,
   "id": "a79a4ee3-df59-46d7-a0c6-d4089de55c33",
   "metadata": {},
   "outputs": [],
   "source": []
  },
  {
   "cell_type": "code",
   "execution_count": null,
   "id": "b94f6d5a-8446-4f49-8c50-b052078959e5",
   "metadata": {},
   "outputs": [],
   "source": []
  }
 ],
 "metadata": {
  "environment": {
   "kernel": "conda-base-py",
   "name": "workbench-notebooks.m124",
   "type": "gcloud",
   "uri": "us-docker.pkg.dev/deeplearning-platform-release/gcr.io/workbench-notebooks:m124"
  },
  "kernelspec": {
   "display_name": "Python 3 (ipykernel)",
   "language": "python",
   "name": "conda-base-py"
  },
  "language_info": {
   "codemirror_mode": {
    "name": "ipython",
    "version": 3
   },
   "file_extension": ".py",
   "mimetype": "text/x-python",
   "name": "python",
   "nbconvert_exporter": "python",
   "pygments_lexer": "ipython3",
   "version": "3.10.14"
  }
 },
 "nbformat": 4,
 "nbformat_minor": 5
}
