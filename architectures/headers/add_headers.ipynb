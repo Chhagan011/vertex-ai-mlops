{
 "cells": [
  {
   "cell_type": "markdown",
   "id": "88c781f8-9542-4f64-90e4-e108fa499fce",
   "metadata": {},
   "source": [
    "# Add Notebook Headers\n",
    "\n",
    "Insert/Edit the first cell of all `.ipynb` files in this repository so that they have a table of links to open in Colab, Enterprise Colab, GitHub, Vertex AI Workbench.\n",
    "\n",
    "- https://nbformat.readthedocs.io/en/latest/index.html\n",
    "\n"
   ]
  },
  {
   "cell_type": "code",
   "execution_count": 2,
   "id": "5e63d541-eeb0-413a-a908-f5dcc284bfa4",
   "metadata": {
    "tags": []
   },
   "outputs": [
    {
     "data": {
      "text/plain": [
       "nbformat.NO_CONVERT"
      ]
     },
     "execution_count": 2,
     "metadata": {},
     "output_type": "execute_result"
    }
   ],
   "source": [
    "import nbformat as nbf\n",
    "nbf.NO_CONVERT"
   ]
  },
  {
   "cell_type": "code",
   "execution_count": 3,
   "id": "ae949c11-f054-40be-8a76-e72f6bcfc747",
   "metadata": {
    "tags": []
   },
   "outputs": [],
   "source": [
    "nb = nbf.read('./example.ipynb', nbf.NO_CONVERT)"
   ]
  },
  {
   "cell_type": "code",
   "execution_count": 10,
   "id": "4da98131-da7c-42e4-bc0d-6f3defb4ae41",
   "metadata": {
    "tags": []
   },
   "outputs": [
    {
     "data": {
      "text/plain": [
       "{'cell_type': 'markdown',\n",
       " 'id': '321668f5-f06b-4310-bdf5-9447243512fe',\n",
       " 'metadata': {},\n",
       " 'source': '![ga4](https://www.google-analytics.com/collect?v=2&tid=G-6VDTYWLKX6&cid=1&en=page_view&sid=1&dl=statmike%2Fvertex-ai-mlops%2F03+-+BigQuery+ML+%28BQML%29&dt=03f+-+BQML+Logistic+Regression+With+Hyperparameter+Tuning.ipynb)\\n\\n# 03f - Logistic Regression With Hyperparameter Tuning\\n\\nIn this notebook, BigQuery ML (BQML) is used to create a logistic regression model while using hyperparameter tuning for `L1` and `L2` regularization.\\n\\n**Logistic Regression**\\n\\nLogistic Regression is a statistical model for the probability, `p`, of a class.  This is accomplished by fitting a linear combination of the features to the log-odds of the class.  The log-odds is called the logit and is the logarithm ($ln$) of the odds ($\\\\frac{p}{1-p}$).  This is a supervised learning approach where the labels, classes, are learned as function of the features.  While the model is estimating the probability of a class `p` which might be considered regression, the probabilities are used to assign a class which is classification.\\n\\nReference:\\n- [Logistic Regression](https://en.wikipedia.org/wiki/Logistic_regression)\\n- [Supervised Learning](https://en.wikipedia.org/wiki/Supervised_learning)\\n\\n**BigQuery ML (BQML)**\\n\\nBigQuery has a number of machine learning algorithms callable directly from SQL.  This gives the convenience of using the common language of `SQL` with statments like `CREATE MODEL …`.  The library of available models is constantly growing and covers supervised, unsupervised, and time series methods as well as functions for evaluation - even anomaly detection from results, explainability and hyperparameter tuning.  A great starting point for seeing the scope of available methods is the [user journey for models](https://cloud.google.com/bigquery-ml/docs/reference/standard-sql/bigqueryml-syntax-e2e-journey).\\n\\n**Hyperparameter Tuning**\\n\\nWhen training a machine learning model it is helpful to find the optimal values for hyperparameters, parameters set before training begins.  These are not learned parameters like the coefficents of a model.  Rather than manually iterating these parameters we want to sequently test and focus in on optimal values.  The focusing part of the iterations is done in BQML by utilizing the [Vertex AI Vizier](https://cloud.google.com/vertex-ai/docs/vizier/overview) service by default.\\n\\nEach `MODEL_TYPE` in BQML has parameters than can be tuned as [listed here](https://cloud.google.com/bigquery-ml/docs/reference/standard-sql/bigqueryml-hyperparameter-tuning#hyperparameters_and_objectives).  \\n\\n**Prerequisites:**\\n- [01 - BigQuery - Table Data Source](../01%20-%20Data%20Sources/01%20-%20BigQuery%20-%20Table%20Data%20Source.ipynb)\\n\\n**Resources:**\\n-  [BigQuery ML (BQML) Overview](https://cloud.google.com/bigquery-ml/docs/introduction)\\n-  [Overview of BQML methods and workflows](https://cloud.google.com/bigquery-ml/docs/reference/standard-sql/bigqueryml-syntax-e2e-journey)\\n- [BigQuery](https://cloud.google.com/bigquery)\\n    - [Documentation:](https://cloud.google.com/bigquery/docs/query-overview)\\n    - [API:](https://cloud.google.com/bigquery/docs/reference/libraries-overview)\\n        - [Clients](https://cloud.google.com/bigquery/docs/reference/libraries)\\n            - [Python SDK:](https://github.com/googleapis/python-bigquery)\\n            - [Python Library Reference:](https://cloud.google.com/python/docs/reference/bigquery/latest)\\n- [Vertex AI](https://cloud.google.com/vertex-ai)\\n    - [Documentation:](https://cloud.google.com/vertex-ai/docs/start/introduction-unified-platform)\\n    - [API:](https://cloud.google.com/vertex-ai/docs/reference)\\n        - [Clients:](https://cloud.google.com/vertex-ai/docs/start/client-libraries)\\n            - [Python SDK:](https://github.com/googleapis/python-aiplatform)\\n            - [Python Library Reference:](https://cloud.google.com/python/docs/reference/aiplatform/latest)\\n\\n**Conceptual Flow & Workflow**\\n<p align=\"center\">\\n  <img alt=\"Conceptual Flow\" src=\"../architectures/slides/03f_arch.png\" width=\"45%\">\\n&nbsp; &nbsp; &nbsp; &nbsp;\\n  <img alt=\"Workflow\" src=\"../architectures/slides/03f_console.png\" width=\"45%\">\\n</p>'}"
      ]
     },
     "execution_count": 10,
     "metadata": {},
     "output_type": "execute_result"
    }
   ],
   "source": [
    "nb['cells'][0]"
   ]
  },
  {
   "cell_type": "code",
   "execution_count": 12,
   "id": "16d8bce0-7919-4c12-8da5-a2d29bd91ca1",
   "metadata": {
    "tags": []
   },
   "outputs": [],
   "source": [
    "header = nbf.v4.new_markdown_cell(source = '# Try This')"
   ]
  },
  {
   "cell_type": "code",
   "execution_count": 13,
   "id": "5edf6a63-8df8-4ad6-9858-620b58b601c3",
   "metadata": {
    "tags": []
   },
   "outputs": [
    {
     "data": {
      "text/plain": [
       "{'id': '9a3027e3',\n",
       " 'cell_type': 'markdown',\n",
       " 'source': '# Try This',\n",
       " 'metadata': {}}"
      ]
     },
     "execution_count": 13,
     "metadata": {},
     "output_type": "execute_result"
    }
   ],
   "source": [
    "header"
   ]
  },
  {
   "cell_type": "code",
   "execution_count": 15,
   "id": "6db6c6ec-8143-4777-9575-55b8b141e2c3",
   "metadata": {
    "tags": []
   },
   "outputs": [],
   "source": [
    "nb['cells'].insert(0, header)"
   ]
  },
  {
   "cell_type": "code",
   "execution_count": 16,
   "id": "246f03a1-11ff-496c-abc1-a4244cbc98c8",
   "metadata": {
    "tags": []
   },
   "outputs": [
    {
     "data": {
      "text/plain": [
       "{'id': '9a3027e3',\n",
       " 'cell_type': 'markdown',\n",
       " 'source': '# Try This',\n",
       " 'metadata': {}}"
      ]
     },
     "execution_count": 16,
     "metadata": {},
     "output_type": "execute_result"
    }
   ],
   "source": [
    "nb['cells'][0]"
   ]
  },
  {
   "cell_type": "code",
   "execution_count": 17,
   "id": "61cc166e-94b2-4b52-ae5e-c768c510d137",
   "metadata": {
    "tags": []
   },
   "outputs": [
    {
     "data": {
      "text/plain": [
       "131"
      ]
     },
     "execution_count": 17,
     "metadata": {},
     "output_type": "execute_result"
    }
   ],
   "source": [
    "len(nb['cells'])"
   ]
  },
  {
   "cell_type": "code",
   "execution_count": 18,
   "id": "d0fecbdd-ad1b-493d-81c2-34e3aadf7336",
   "metadata": {
    "tags": []
   },
   "outputs": [],
   "source": [
    "nbf.write(nb, './example2.ipynb', version = nbf.NO_CONVERT)"
   ]
  },
  {
   "cell_type": "code",
   "execution_count": null,
   "id": "c1226380-b07e-4d50-ab08-1f5160b9e2ab",
   "metadata": {},
   "outputs": [],
   "source": []
  }
 ],
 "metadata": {
  "environment": {
   "kernel": "conda-root-py",
   "name": "workbench-notebooks.m115",
   "type": "gcloud",
   "uri": "gcr.io/deeplearning-platform-release/workbench-notebooks:m115"
  },
  "kernelspec": {
   "display_name": "Python 3 (ipykernel)",
   "language": "python",
   "name": "conda-root-py"
  },
  "language_info": {
   "codemirror_mode": {
    "name": "ipython",
    "version": 3
   },
   "file_extension": ".py",
   "mimetype": "text/x-python",
   "name": "python",
   "nbconvert_exporter": "python",
   "pygments_lexer": "ipython3",
   "version": "3.10.13"
  }
 },
 "nbformat": 4,
 "nbformat_minor": 5
}
