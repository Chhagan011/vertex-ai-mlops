{
 "cells": [
  {
   "cell_type": "markdown",
   "id": "29d2e278",
   "metadata": {},
   "source": [
    "![ga4](https://www.google-analytics.com/collect?v=2&tid=G-6VDTYWLKX6&cid=1&en=page_view&sid=1&dl=statmike%2Fvertex-ai-mlops%2Farchitectures%2Fheaders&dt=add_headers.ipynb)\n",
    "<!--- header table --->\n",
    "<table align=\"left\">\n",
    "  <td style=\"text-align: center\">\n",
    "    <a href=\"https://colab.research.google.com/github/statmike/vertex-ai-mlops/blob/main/architectures/headers/add_headers.ipynb\">\n",
    "      <img src=\"https://cloud.google.com/ml-engine/images/colab-logo-32px.png\" alt=\"Google Colaboratory logo\">\n",
    "      <br>Run in<br>Colab\n",
    "    </a>\n",
    "  </td>\n",
    "  <td style=\"text-align: center\">\n",
    "    <a href=\"https://console.cloud.google.com/vertex-ai/colab/import/https%3A//raw.githubusercontent.com/statmike/vertex-ai-mlops/main/architectures/headers/add_headers.ipynb\">\n",
    "      <img width=\"32px\" src=\"https://lh3.googleusercontent.com/JmcxdQi-qOpctIvWKgPtrzZdJJK-J3sWE1RsfjZNwshCFgE_9fULcNpuXYTilIR2hjwN\" alt=\"Google Cloud Colab Enterprise logo\">\n",
    "      <br>Run in<br>Colab Enterprise\n",
    "    </a>\n",
    "  </td>      \n",
    "  <td style=\"text-align: center\">\n",
    "    <a href=\"https://github.com/statmike/vertex-ai-mlops/blob/main/architectures/headers/add_headers.ipynb\">\n",
    "      <img src=\"https://cloud.google.com/ml-engine/images/github-logo-32px.png\" alt=\"GitHub logo\">\n",
    "      <br>View on<br>GitHub\n",
    "    </a>\n",
    "  </td>\n",
    "  <td style=\"text-align: center\">\n",
    "    <a href=\"https://console.cloud.google.com/vertex-ai/workbench/deploy-notebook?download_url=https%3A//raw.githubusercontent.com/statmike/vertex-ai-mlops/main/architectures/headers/add_headers.ipynb\">\n",
    "      <img src=\"https://lh3.googleusercontent.com/UiNooY4LUgW_oTvpsNhPpQzsstV5W8F7rYgxgGBD85cWJoLmrOzhVs_ksK_vgx40SHs7jCqkTkCk=e14-rj-sc0xffffff-h130-w32\" alt=\"Vertex AI logo\">\n",
    "      <br>Open in<br>Vertex AI Workbench\n",
    "    </a>\n",
    "  </td>\n",
    "</table>"
   ]
  },
  {
   "cell_type": "markdown",
   "id": "507455bd-a45b-4289-9f6b-590977801da0",
   "metadata": {},
   "source": [
    "# Add Headers To All Notebooks and `.md` Files\n",
    "\n",
    "Include GA4 links, and links to view/load content in Colab, Colab Enterprise, GitHub, Vertex AI Workbench Instances\n",
    "\n",
    "For more details on working with files to update with `nbformat` package see the companion notebook: [add_helpers_example](./add_helpers_example.ipynb)"
   ]
  },
  {
   "cell_type": "markdown",
   "id": "ea259dee-31fe-4cb3-885a-b0b692b6b089",
   "metadata": {},
   "source": [
    "---\n",
    "## Setup"
   ]
  },
  {
   "cell_type": "markdown",
   "id": "6c0187b6-1f74-4c5c-b6fb-245960bdc881",
   "metadata": {},
   "source": [
    "Imports:"
   ]
  },
  {
   "cell_type": "code",
   "execution_count": 26,
   "id": "05f17c9c-bd1d-46d8-83cf-8453c0cc1a65",
   "metadata": {
    "tags": []
   },
   "outputs": [
    {
     "data": {
      "text/plain": [
       "nbformat.NO_CONVERT"
      ]
     },
     "execution_count": 26,
     "metadata": {},
     "output_type": "execute_result"
    }
   ],
   "source": [
    "import os, json, urllib.parse, IPython\n",
    "\n",
    "import nbformat as nbf\n",
    "nbf.NO_CONVERT"
   ]
  },
  {
   "cell_type": "markdown",
   "id": "6955c4b0-e19d-4fe5-8732-5314340f5996",
   "metadata": {},
   "source": [
    "Parameters:"
   ]
  },
  {
   "cell_type": "code",
   "execution_count": 27,
   "id": "76dc859f-ac17-437c-b633-2c9d4052c239",
   "metadata": {
    "tags": []
   },
   "outputs": [],
   "source": [
    "measurement_id = 'G-6VDTYWLKX6'\n",
    "url = 'https://www.google-analytics.com/collect?v=2'\n",
    "track_parms = f'&tid={measurement_id}&cid=1&en=page_view&sid=1'"
   ]
  },
  {
   "cell_type": "markdown",
   "id": "28f05157-6ee7-4711-a6db-e8b5fda4d5c5",
   "metadata": {},
   "source": [
    "---\n",
    "## Parse And Update\n",
    "\n",
    "**Notes:** URL Encoding\n",
    "- `urllib.parse.qoute_plus()` replaces spaces with `+` which works for the query part of a URL (after a `?`)\n",
    "- `urllib.parse.qoute()` replaces spaces with `%20` which works for the main URL"
   ]
  },
  {
   "cell_type": "code",
   "execution_count": 28,
   "id": "af594dab-7266-4b0d-a528-1bed01be0e42",
   "metadata": {
    "tags": []
   },
   "outputs": [],
   "source": [
    "def make_urls(root, file):\n",
    "    # url prefixes\n",
    "    colab_prefix = 'https://colab.research.google.com/github/'\n",
    "    ecolab_prefix = 'https://console.cloud.google.com/vertex-ai/colab/import/'\n",
    "    github_prefix = 'https://github.com/'\n",
    "    github_raw_prefix = 'https://raw.githubusercontent.com/'\n",
    "    wbi_prefix = 'https://console.cloud.google.com/vertex-ai/workbench/deploy-notebook?download_url='\n",
    "    \n",
    "    # GA4 URL\n",
    "    dl = urllib.parse.quote_plus(root.replace('/home/jupyter/', 'statmike/'))\n",
    "    dt = urllib.parse.quote_plus(file)\n",
    "    ga4 = url + track_parms + f\"&dl={dl}&dt={dt}\"\n",
    "    \n",
    "    # GH URL Parts\n",
    "    gh_base = os.path.join(root.replace('/home/jupyter/', 'statmike/'), file).split('/')\n",
    "    colab = colab_prefix + '/'.join(gh_base[0:2]) + '/blob/main/' + urllib.parse.quote('/'.join(gh_base[2:]))\n",
    "    ecolab = ecolab_prefix + urllib.parse.quote(github_raw_prefix + '/'.join(gh_base[0:2]) + '/main/' + '/'.join(gh_base[2:]))\n",
    "    github = github_prefix + '/'.join(gh_base[0:2]) + '/blob/main/' + urllib.parse.quote('/'.join(gh_base[2:]))\n",
    "    wbi = wbi_prefix + urllib.parse.quote(github_raw_prefix + '/'.join(gh_base[0:2]) + '/main/' + '/'.join(gh_base[2:]))\n",
    "    download = github_raw_prefix + '/'.join(gh_base[0:2]) + '/main/' + urllib.parse.quote('/'.join(gh_base[2:]))\n",
    "    filename = gh_base[-1]\n",
    "    \n",
    "    return dict(ga4=ga4, colab=colab, ecolab=ecolab, github=github, wbi=wbi, download=download, filename=filename)"
   ]
  },
  {
   "cell_type": "code",
   "execution_count": 29,
   "id": "f183a858-3878-4143-b92c-1bb83d13d47b",
   "metadata": {
    "tags": []
   },
   "outputs": [],
   "source": [
    "def make_header(root, file):\n",
    "    urls = make_urls(root, file)\n",
    "    \n",
    "    if file.endswith('.ipynb'):\n",
    "        header = f'''![ga4]({urls['ga4']})\n",
    "<!--- header table --->\n",
    "<table align=\"left\">\n",
    "  <td style=\"text-align: center\">\n",
    "    <a href=\"{urls['colab']}\">\n",
    "      <img src=\"https://cloud.google.com/ml-engine/images/colab-logo-32px.png\" alt=\"Google Colaboratory logo\">\n",
    "      <br>Run in<br>Colab\n",
    "    </a>\n",
    "  </td>\n",
    "  <td style=\"text-align: center\">\n",
    "    <a href=\"{urls['ecolab']}\">\n",
    "      <img width=\"32px\" src=\"https://lh3.googleusercontent.com/JmcxdQi-qOpctIvWKgPtrzZdJJK-J3sWE1RsfjZNwshCFgE_9fULcNpuXYTilIR2hjwN\" alt=\"Google Cloud Colab Enterprise logo\">\n",
    "      <br>Run in<br>Colab Enterprise\n",
    "    </a>\n",
    "  </td>      \n",
    "  <td style=\"text-align: center\">\n",
    "    <a href=\"{urls['github']}\">\n",
    "      <img src=\"https://cloud.google.com/ml-engine/images/github-logo-32px.png\" alt=\"GitHub logo\">\n",
    "      <br>View on<br>GitHub\n",
    "    </a>\n",
    "  </td>\n",
    "  <td style=\"text-align: center\">\n",
    "    <a href=\"{urls['wbi']}\">\n",
    "      <img src=\"https://lh3.googleusercontent.com/UiNooY4LUgW_oTvpsNhPpQzsstV5W8F7rYgxgGBD85cWJoLmrOzhVs_ksK_vgx40SHs7jCqkTkCk=e14-rj-sc0xffffff-h130-w32\" alt=\"Vertex AI logo\">\n",
    "      <br>Open in<br>Vertex AI Workbench\n",
    "    </a>\n",
    "  </td>\n",
    "</table>'''    \n",
    "\n",
    "    if file.endswith('.md'):\n",
    "        header = f'''![ga4]({urls['ga4']})\n",
    "<!--- header table --->\n",
    "<table align=\"left\">     \n",
    "  <td style=\"text-align: center\">\n",
    "    <a href=\"{urls['github']}\">\n",
    "      <img src=\"https://cloud.google.com/ml-engine/images/github-logo-32px.png\" alt=\"GitHub logo\">\n",
    "      <br>View on<br>GitHub\n",
    "    </a>\n",
    "  </td>\n",
    "</table><br/><br/><br/><br/>\n",
    "\n",
    "---\n",
    "''' \n",
    "        \n",
    "    return header"
   ]
  },
  {
   "cell_type": "code",
   "execution_count": 30,
   "id": "29e11f5a-2a76-4fb0-8623-267ebf195761",
   "metadata": {
    "tags": []
   },
   "outputs": [
    {
     "name": "stdout",
     "output_type": "stream",
     "text": [
      "Saving File:\n",
      "\t/home/jupyter/vertex-ai-mlops/Dev/new\n",
      "\tBQML Central Monitoring.ipynb\n",
      "Saving File:\n",
      "\t/home/jupyter/vertex-ai-mlops/Dev/new\n",
      "\tFeature Focused Data Architecture.ipynb\n"
     ]
    }
   ],
   "source": [
    "for root, dirs, files in os.walk(r'/home/jupyter/vertex-ai-mlops'): #os.walk('../../.'):\n",
    "    #if root.startswith('/home/jupyter/vertex-ai-mlops/architectures/headers') and not root.endswith(('.ipynb_checkpoints')) and '/temp' not in root: # testing\n",
    "    if not root.endswith(('.ipynb_checkpoints')) and '/temp' not in root: # full repository\n",
    "        for file in files:\n",
    "            # process for markdown files (most readme.md files)\n",
    "            if file.endswith(('.md')):\n",
    "                # generate current header\n",
    "                header = make_header(root, file)\n",
    "                \n",
    "                # read file\n",
    "                with open(os.path.join(root, file), 'r') as reader:\n",
    "                    content = reader.read()\n",
    "                    \n",
    "                # detect existing header in file\n",
    "                if content.startswith('![ga4](https://www.google-analytics.com') or content.startswith('<!--- header table --->'):\n",
    "                    end_index = content.index('#')\n",
    "                    prior = content[0:end_index]\n",
    "                else:\n",
    "                    end_index = 0\n",
    "                    prior = ''\n",
    "                            \n",
    "                # is header changed?\n",
    "                if header != prior:\n",
    "                    update = True\n",
    "                else:\n",
    "                    update = False\n",
    "                    \n",
    "                # save updated file\n",
    "                if update:\n",
    "                    print(f'Saving File:\\n\\t{root}\\n\\t{file}')\n",
    "                    with open(os.path.join(root, file), 'w') as writer:\n",
    "                        writer.write(header + content[end_index:])\n",
    "             \n",
    "            # process for notebooks\n",
    "            if file.endswith(('.ipynb')):\n",
    "                # generate current header\n",
    "                header = make_header(root, file)\n",
    "                \n",
    "                # read file\n",
    "                nb = nbf.read(os.path.join(root, file), nbf.NO_CONVERT)\n",
    "                \n",
    "                # detect existing header in file\n",
    "                if nb['cells'][0]['cell_type'] == 'markdown':\n",
    "                    content = nb['cells'][0]['source']\n",
    "                    if content.startswith('![ga4](https://www.google-analytics.com') or content.startswith('<!--- header table --->'):\n",
    "                        end_index = len(content) # content.index('</table>') + 10\n",
    "                        prior = content # [0:end_index]\n",
    "                    else:\n",
    "                        end_index = 0\n",
    "                        prior = ''\n",
    "                \n",
    "                # is header changed?\n",
    "                if header != prior:\n",
    "                    update = True\n",
    "                else:\n",
    "                    update = False\n",
    "                    \n",
    "                # save updated file\n",
    "                if update:\n",
    "                    print(f'Saving File:\\n\\t{root}\\n\\t{file}')\n",
    "                    header_cell = nbf.v4.new_markdown_cell(source = header)\n",
    "                    if end_index == 0:\n",
    "                        nb['cells'].insert(0, header_cell)\n",
    "                    else:\n",
    "                        nb['cells'][0] = header_cell\n",
    "                    nbf.write(nb, os.path.join(root, file), version = nbf.NO_CONVERT)"
   ]
  },
  {
   "cell_type": "code",
   "execution_count": null,
   "id": "dfff0bec-94bc-43ee-9682-8caea7995fb4",
   "metadata": {},
   "outputs": [],
   "source": []
  }
 ],
 "metadata": {
  "environment": {
   "kernel": "conda-root-py",
   "name": "workbench-notebooks.m115",
   "type": "gcloud",
   "uri": "gcr.io/deeplearning-platform-release/workbench-notebooks:m115"
  },
  "kernelspec": {
   "display_name": "Python 3 (ipykernel)",
   "language": "python",
   "name": "conda-root-py"
  },
  "language_info": {
   "codemirror_mode": {
    "name": "ipython",
    "version": 3
   },
   "file_extension": ".py",
   "mimetype": "text/x-python",
   "name": "python",
   "nbconvert_exporter": "python",
   "pygments_lexer": "ipython3",
   "version": "3.10.13"
  }
 },
 "nbformat": 4,
 "nbformat_minor": 5
}
