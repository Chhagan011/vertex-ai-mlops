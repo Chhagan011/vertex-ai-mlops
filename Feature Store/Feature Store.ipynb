{
 "cells": [
  {
   "cell_type": "markdown",
   "id": "92924544-e44a-4ac7-a745-9fe5a6ee8357",
   "metadata": {},
   "source": [
    "![ga4](https://www.google-analytics.com/collect?v=2&tid=G-6VDTYWLKX6&cid=1&en=page_view&sid=1&dl=statmike%2Fvertex-ai-mlops%2FFeature+Store&dt=Feature+Store.ipynb)\n",
    "\n",
    "# Feature Store\n",
    "\n",
    "In ML, instances (think rows) of data are used to both train models, and request predictions.  The transformation of the coloumns in these instances into features by feature engineering is essential for input at training and serving.  Thus, feature management is important.\n",
    "\n",
    "A feature store centralizes the tasks of creating, maintaining, sharing, and serving ML features.  This allows for easier reuse, faster ML development, less training/serving skew, and discoverability of features and feature sets.\n",
    "\n",
    "In Vertex AI, this is covered by [Vertex AI Feature Store](https://cloud.google.com/vertex-ai/docs/featurestore) of which there are two types:\n",
    "- [Vertex AI Feature Store](https://cloud.google.com/vertex-ai/docs/featurestore#vaifs)\n",
    "    - Covered in this workflow\n",
    "- [Vertex AI Feature Store (Legacy)](https://cloud.google.com/vertex-ai/docs/featurestore#vaifs_legacy)\n",
    "    - Covered in the prior workflow at [Feature Store (Legacy)](./Feature%20Store%20(Legacy).ipynb)\n",
    "- [Comparison](https://cloud.google.com/vertex-ai/docs/featurestore#comparison_between_and)\n",
    "\n",
    "**Prerequisites:**\n",
    "-  [01 - BigQuery - Table Data Source](../01%20-%20Data%20Sources/01%20-%20BigQuery%20-%20Table%20Data%20Source.ipynb)\n",
    "\n",
    "**Resources:**\n",
    "- [Documentation](https://cloud.google.com/vertex-ai/docs/featurestore/latest/overview)\n",
    "- [Tutorial from Documentation](https://github.com/GoogleCloudPlatform/vertex-ai-samples/blob/main/notebooks/official/feature_store/online_feature_serving_and_fetching_bigquery_data_with_feature_store_bigtable.ipynb)\n",
    "\n",
    "**Todo List:**\n",
    "- add embedding to this datasource and include embedding search\n",
    "- add data catalog narrative\n",
    "- add FS management section: add/delete/list/update\n",
    "- add example of multiple groups feeding features to the same online view\n",
    "- add latency example with sync and async client\n",
    "\n",
    "---\n",
    "**tl;dr**\n",
    "\n",
    "<p align=\"center\" width=\"100%\"><center>\n",
    "    <img src=\"../architectures/architectures/images/feature store/readme/overview.png\">\n",
    "</center></p>\n",
    "\n",
    "The main layout for Feature Store is serving environment for **features** observed on **entities**:\n",
    "- **entity** = a unique record, think row\n",
    "- **feature** = observations, input for ML, think column\n",
    "\n",
    "The **offline store** is made up of any BigQuery Table(s)/View(s), the **data source**, that you manage:\n",
    "- (1) If a table/view has a single row per unique **entity** with columns that are non-changing values for **features** then the table can be directly used in an **online store's** **feature view** (see below).\n",
    "- (2) For time bound **features** the table/view needs to have two additional columns: entity_id, feature_timestamp. Think of this as a history table.\n",
    "\n",
    "The **feature registry**:\n",
    "- Tables/Views of type (2) above are registered as **Feature Groups** - a feature group is sourced by a single table/view\n",
    "- Columns from the **feature group** are then registered as **features**\n",
    "\n",
    "The **online store** is has two types to choose from:\n",
    "- Cloud Bigtable online serving - highly scalable\n",
    "- Optimized online serving - ultra-low latencies and responsive to burst of requests\n",
    "\n",
    "**Feature Views** are created in the **online store** from either:\n",
    "- Features from one or more **feature groups**\n",
    "- a table/view of type (1) above\n",
    " \n",
    "BigQuery as a **data source**:\n",
    "- This means that managing time bound **features** is done in BigQuery but before the **feature store**.  You can create multiple rows per **entity** in tables and use the entity_id and feature_timestamp columns to indicate the time based values. To make this shape of source data useful for training data batches (or evaluation, test, batch prediction) there are two new functions in BigQuery to help extract point-in-time value for **entity/feature** data:\n",
    "    - [ML.FEATURES_AT_TIME](https://cloud.google.com/bigquery/docs/reference/standard-sql/bigqueryml-syntax-feature-time) - will take a table and timestamp as input and return the value for each feature on each entity as of the timestamp.  There are additional optional configurations also.  \n",
    "    - [ML.ENTITY_FEATURES_AT_TIME](https://cloud.google.com/bigquery/docs/reference/standard-sql/bigqueryml-syntax-entity-feature-time) - will take a input table and an additional table of entity+timestamp pairs and return the feature values for each entity+timestamp pair.  This allows both multiple points in time for single entities as well as different times for different entities.\n",
    "- Time bound data, or column values that change for a row/entity, might not be the native way data scientist are used to working with data.  There are great features in BigQuery to help with handling data that changes with time.\n",
    "    - Creating these tables/views with timestamp entity records may be benefited by [time-travel](https://cloud.google.com/bigquery/docs/time-travel#time_travel) (up to 7 days - configurable) and [snapshots](https://cloud.google.com/bigquery/docs/table-snapshots-intro) (user controlled points in time). You can also [query time-travel](https://cloud.google.com/bigquery/docs/access-historical-data) as well as [create snapshots from time-travel](https://cloud.google.com/bigquery/docs/table-snapshots-create#create_a_table_snapshot_using_time_travel).\n",
    "\n"
   ]
  },
  {
   "cell_type": "markdown",
   "id": "b3a2bcca-b37c-48ab-9a2f-a7fde79cc92e",
   "metadata": {
    "id": "od_UkDpvRmgD",
    "tags": []
   },
   "source": [
    "---\n",
    "## Colab Setup\n",
    "\n",
    "To run this notebook in Colab click [![Open In Colab](https://colab.research.google.com/assets/colab-badge.svg)](https://colab.research.google.com/github/statmike/vertex-ai-mlops/blob/main/Feature%20Store/Feature%20Store.ipynb) and run the cells in this section.  Otherwise, skip this section.\n",
    "\n",
    "This cell will authenticate to GCP (follow prompts in the popup)."
   ]
  },
  {
   "cell_type": "code",
   "execution_count": 1,
   "id": "c977f278-62a5-44d7-a6a1-3cc91705bcff",
   "metadata": {
    "executionInfo": {
     "elapsed": 195,
     "status": "ok",
     "timestamp": 1683726184843,
     "user": {
      "displayName": "Mike Henderson",
      "userId": "07691629187611687318"
     },
     "user_tz": 240
    },
    "id": "8UO9FnqyKBlF"
   },
   "outputs": [],
   "source": [
    "PROJECT_ID = 'statmike-mlops-349915' # replace with project ID"
   ]
  },
  {
   "cell_type": "code",
   "execution_count": 2,
   "id": "b10d0d38-2ec1-4ebc-bd57-e5170bb68c7e",
   "metadata": {
    "colab": {
     "base_uri": "https://localhost:8080/"
    },
    "executionInfo": {
     "elapsed": 68869,
     "status": "ok",
     "timestamp": 1683726253709,
     "user": {
      "displayName": "Mike Henderson",
      "userId": "07691629187611687318"
     },
     "user_tz": 240
    },
    "id": "N98-KK7LRkjm",
    "outputId": "09ec5008-0def-4e1a-c349-c598ee752f78"
   },
   "outputs": [],
   "source": [
    "try:\n",
    "    import google.colab\n",
    "    from google.colab import auth\n",
    "    auth.authenticate_user()\n",
    "    !gcloud config set project {PROJECT_ID}\n",
    "except Exception:\n",
    "    pass"
   ]
  },
  {
   "cell_type": "markdown",
   "id": "f1bdec6d-2283-44af-9751-6d3b7388aa3b",
   "metadata": {},
   "source": [
    "---\n",
    "## Installs\n",
    "\n",
    "The list `packages` contains tuples of package import names and install names.  If the import name is not found then the install name is used to install quitely for the current user."
   ]
  },
  {
   "cell_type": "code",
   "execution_count": 2,
   "id": "5d1adfd4-c545-4f31-9310-8878685d2149",
   "metadata": {
    "tags": []
   },
   "outputs": [],
   "source": [
    "# tuples of (import name, install name)\n",
    "packages = [\n",
    "    ('google.cloud.aiplatform', 'google-cloud-aiplatform'),\n",
    "    ('google.cloud.bigquery', 'google-cloud-bigquery'),\n",
    "    ('bigframes', 'bigframes'),\n",
    "]\n",
    "\n",
    "import importlib\n",
    "install = False\n",
    "for package in packages:\n",
    "    if not importlib.util.find_spec(package[0]):\n",
    "        print(f'installing package {package[1]}')\n",
    "        install = True\n",
    "        !pip install {package[1]} -U -q --user"
   ]
  },
  {
   "cell_type": "markdown",
   "id": "cae8081e-b8a9-4cd4-8627-25edef70ed5e",
   "metadata": {},
   "source": [
    "### Restart Kernel (If Installs Occured)\n",
    "\n",
    "After a kernel restart the code submission can start with the next cell after this one."
   ]
  },
  {
   "cell_type": "code",
   "execution_count": 3,
   "id": "7719a101-e00c-4a72-ab9e-7610c33ec938",
   "metadata": {
    "tags": []
   },
   "outputs": [],
   "source": [
    "if install:\n",
    "    import IPython\n",
    "    app = IPython.Application.instance()\n",
    "    app.kernel.do_shutdown(True)"
   ]
  },
  {
   "cell_type": "markdown",
   "id": "c3a25fa0-195a-429d-b272-7ffa203223b8",
   "metadata": {},
   "source": [
    "---\n",
    "## Setup"
   ]
  },
  {
   "cell_type": "markdown",
   "id": "c60ae0dc-d2a5-4aa0-a424-be9a81b04af9",
   "metadata": {},
   "source": [
    "inputs:"
   ]
  },
  {
   "cell_type": "code",
   "execution_count": 4,
   "id": "0d036b08-b110-43ae-b23b-fddb90dd4bd0",
   "metadata": {},
   "outputs": [
    {
     "data": {
      "text/plain": [
       "'statmike-mlops-349915'"
      ]
     },
     "execution_count": 4,
     "metadata": {},
     "output_type": "execute_result"
    }
   ],
   "source": [
    "project = !gcloud config get-value project\n",
    "PROJECT_ID = project[0]\n",
    "PROJECT_ID"
   ]
  },
  {
   "cell_type": "code",
   "execution_count": 5,
   "id": "2083ab35-03d8-4734-bd68-e520a2095867",
   "metadata": {},
   "outputs": [],
   "source": [
    "REGION = 'us-central1'\n",
    "EXPERIMENT = 'workflow'\n",
    "SERIES = 'feature-store'\n",
    "\n",
    "# source data\n",
    "BQ_PROJECT = PROJECT_ID\n",
    "BQ_DATASET = 'fraud'\n",
    "BQ_TABLE = 'fraud_prepped'\n",
    "\n",
    "# Model Training\n",
    "VAR_TARGET = 'Class'\n",
    "VAR_OMIT = 'transaction_id,splits' # add more variables to the string with comma delimiters"
   ]
  },
  {
   "cell_type": "markdown",
   "id": "792906cf-8faf-45f5-a1a2-10aabc1d81e9",
   "metadata": {},
   "source": [
    "packages:"
   ]
  },
  {
   "cell_type": "code",
   "execution_count": 307,
   "id": "e5580479-4d24-46a8-8871-89c201969a31",
   "metadata": {},
   "outputs": [],
   "source": [
    "from google.cloud import aiplatform\n",
    "from datetime import datetime\n",
    "import time\n",
    "import numpy as np\n",
    "from google.cloud import bigquery\n",
    "import bigframes.pandas as bpd"
   ]
  },
  {
   "cell_type": "markdown",
   "id": "f5ca9cda-7e13-45cf-926f-192bffe6c434",
   "metadata": {},
   "source": [
    "clients:"
   ]
  },
  {
   "cell_type": "code",
   "execution_count": 7,
   "id": "8ab52864-142d-45c2-b704-f9c97a124390",
   "metadata": {},
   "outputs": [],
   "source": [
    "aiplatform.init(project = PROJECT_ID, location = REGION)\n",
    "bq = bigquery.Client(project = PROJECT_ID)\n",
    "bpd.options.bigquery.project = PROJECT_ID"
   ]
  },
  {
   "cell_type": "markdown",
   "id": "7c21502f-fa0b-47fd-a42c-fba2d574128a",
   "metadata": {},
   "source": [
    "---\n",
    "## Review Source Data\n",
    "\n",
    "The data source here was prepared in [01 - BigQuery - Table Data Source](../01%20-%20Data%20Sources/01%20-%20BigQuery%20-%20Table%20Data%20Source.ipynb).\n",
    "\n",
    "This is a table of 284,807 credit card transactions classified as fradulant or normal in the column `Class`.  In order protect confidentiality, the original features have been transformed using [principle component analysis (PCA)](https://en.wikipedia.org/wiki/Principal_component_analysis) into 28 features named `V1, V2, ... V28` (float).  Two descriptive features are provided without transformation by PCA:\n",
    "- `Time` (integer) is the seconds elapsed between the transaction and the earliest transaction in the table\n",
    "- `Amount` (float) is the value of the transaction\n",
    "\n",
    "The data preparation included added splits for machine learning with a column named `splits` with 80% for training (`TRAIN`), 10% for validation (`VALIDATE`) and 10% for testing (`TEST`).  Additionally, a unique identifier was added to each transaction, `transaction_id`.  "
   ]
  },
  {
   "cell_type": "markdown",
   "id": "483d76ba-f10b-407c-aaa6-7866ffc5aeb3",
   "metadata": {},
   "source": [
    "### Connect to the BigQuery table:"
   ]
  },
  {
   "cell_type": "code",
   "execution_count": 8,
   "id": "e66992c8-d700-4844-913e-da6364eddfc6",
   "metadata": {
    "tags": []
   },
   "outputs": [],
   "source": [
    "source_data = bpd.read_gbq(f'{BQ_PROJECT}.{BQ_DATASET}.{BQ_TABLE}')"
   ]
  },
  {
   "cell_type": "markdown",
   "id": "d5f00dd6-7b32-40e8-bb65-92f8781f56b5",
   "metadata": {},
   "source": [
    "### Review a sample of the data:"
   ]
  },
  {
   "cell_type": "code",
   "execution_count": 20,
   "id": "55833b3a-c845-4f41-8ed8-fde001bea53d",
   "metadata": {
    "tags": []
   },
   "outputs": [
    {
     "data": {
      "text/html": [
       "Query job 890ebfa0-e3b9-44ce-a739-ef5fb5e37480 is DONE. 83.5 MB processed. <a target=\"_blank\" href=\"https://console.cloud.google.com/bigquery?project=statmike-mlops-349915&j=bq:us-central1:890ebfa0-e3b9-44ce-a739-ef5fb5e37480&page=queryresults\">Open Job</a>"
      ],
      "text/plain": [
       "<IPython.core.display.HTML object>"
      ]
     },
     "metadata": {},
     "output_type": "display_data"
    },
    {
     "data": {
      "text/html": [
       "Query job 414829df-fa32-4258-b4a6-3556bfa12062 is DONE. 83.5 MB processed. <a target=\"_blank\" href=\"https://console.cloud.google.com/bigquery?project=statmike-mlops-349915&j=bq:us-central1:414829df-fa32-4258-b4a6-3556bfa12062&page=queryresults\">Open Job</a>"
      ],
      "text/plain": [
       "<IPython.core.display.HTML object>"
      ]
     },
     "metadata": {},
     "output_type": "display_data"
    },
    {
     "data": {
      "text/html": [
       "<div>\n",
       "<style scoped>\n",
       "    .dataframe tbody tr th:only-of-type {\n",
       "        vertical-align: middle;\n",
       "    }\n",
       "\n",
       "    .dataframe tbody tr th {\n",
       "        vertical-align: top;\n",
       "    }\n",
       "\n",
       "    .dataframe thead th {\n",
       "        text-align: right;\n",
       "    }\n",
       "</style>\n",
       "<table border=\"1\" class=\"dataframe\">\n",
       "  <thead>\n",
       "    <tr style=\"text-align: right;\">\n",
       "      <th></th>\n",
       "      <th>Time</th>\n",
       "      <th>V1</th>\n",
       "      <th>V2</th>\n",
       "      <th>V3</th>\n",
       "      <th>V4</th>\n",
       "      <th>V5</th>\n",
       "      <th>V6</th>\n",
       "      <th>V7</th>\n",
       "      <th>V8</th>\n",
       "      <th>V9</th>\n",
       "      <th>...</th>\n",
       "      <th>V23</th>\n",
       "      <th>V24</th>\n",
       "      <th>V25</th>\n",
       "      <th>V26</th>\n",
       "      <th>V27</th>\n",
       "      <th>V28</th>\n",
       "      <th>Amount</th>\n",
       "      <th>Class</th>\n",
       "      <th>transaction_id</th>\n",
       "      <th>splits</th>\n",
       "    </tr>\n",
       "  </thead>\n",
       "  <tbody>\n",
       "    <tr>\n",
       "      <th>0</th>\n",
       "      <td>146737</td>\n",
       "      <td>-8.313253</td>\n",
       "      <td>7.353339</td>\n",
       "      <td>-6.784848</td>\n",
       "      <td>-1.647257</td>\n",
       "      <td>-3.151681</td>\n",
       "      <td>-1.036468</td>\n",
       "      <td>-3.176614</td>\n",
       "      <td>4.783091</td>\n",
       "      <td>2.525343</td>\n",
       "      <td>...</td>\n",
       "      <td>0.553924</td>\n",
       "      <td>-1.551447</td>\n",
       "      <td>0.668017</td>\n",
       "      <td>-0.047452</td>\n",
       "      <td>1.246589</td>\n",
       "      <td>0.71985</td>\n",
       "      <td>0.89</td>\n",
       "      <td>0</td>\n",
       "      <td>9c23ed6c-805e-4c54-af95-dfb8cb34446a</td>\n",
       "      <td>TRAIN</td>\n",
       "    </tr>\n",
       "    <tr>\n",
       "      <th>1</th>\n",
       "      <td>41342</td>\n",
       "      <td>-0.950509</td>\n",
       "      <td>1.005787</td>\n",
       "      <td>2.004522</td>\n",
       "      <td>3.180712</td>\n",
       "      <td>-0.721331</td>\n",
       "      <td>0.622745</td>\n",
       "      <td>-0.367445</td>\n",
       "      <td>0.690638</td>\n",
       "      <td>-0.831808</td>\n",
       "      <td>...</td>\n",
       "      <td>-0.019173</td>\n",
       "      <td>0.438937</td>\n",
       "      <td>-0.462187</td>\n",
       "      <td>0.328724</td>\n",
       "      <td>-0.041549</td>\n",
       "      <td>0.082586</td>\n",
       "      <td>39.52</td>\n",
       "      <td>0</td>\n",
       "      <td>f23f1435-eaf1-455c-9877-9e3b1db6473d</td>\n",
       "      <td>TRAIN</td>\n",
       "    </tr>\n",
       "    <tr>\n",
       "      <th>2</th>\n",
       "      <td>154083</td>\n",
       "      <td>-2.41823</td>\n",
       "      <td>-1.114104</td>\n",
       "      <td>0.0731</td>\n",
       "      <td>-1.827987</td>\n",
       "      <td>0.743047</td>\n",
       "      <td>5.017568</td>\n",
       "      <td>-2.471885</td>\n",
       "      <td>1.141392</td>\n",
       "      <td>0.812167</td>\n",
       "      <td>...</td>\n",
       "      <td>0.712716</td>\n",
       "      <td>0.746484</td>\n",
       "      <td>-0.70748</td>\n",
       "      <td>0.632214</td>\n",
       "      <td>-0.536598</td>\n",
       "      <td>0.014419</td>\n",
       "      <td>25.0</td>\n",
       "      <td>0</td>\n",
       "      <td>a147e336-81d1-47f2-87ef-206843430e00</td>\n",
       "      <td>TRAIN</td>\n",
       "    </tr>\n",
       "    <tr>\n",
       "      <th>3</th>\n",
       "      <td>137227</td>\n",
       "      <td>-1.125604</td>\n",
       "      <td>0.873506</td>\n",
       "      <td>2.20555</td>\n",
       "      <td>0.725739</td>\n",
       "      <td>-0.107164</td>\n",
       "      <td>1.59102</td>\n",
       "      <td>-1.093884</td>\n",
       "      <td>-2.480163</td>\n",
       "      <td>0.097936</td>\n",
       "      <td>...</td>\n",
       "      <td>-0.377725</td>\n",
       "      <td>-1.07084</td>\n",
       "      <td>0.37751</td>\n",
       "      <td>-0.257676</td>\n",
       "      <td>0.009876</td>\n",
       "      <td>-0.124529</td>\n",
       "      <td>54.0</td>\n",
       "      <td>0</td>\n",
       "      <td>2a7353de-8003-48a5-8ddf-327b42a5731d</td>\n",
       "      <td>TRAIN</td>\n",
       "    </tr>\n",
       "    <tr>\n",
       "      <th>4</th>\n",
       "      <td>52804</td>\n",
       "      <td>-0.336088</td>\n",
       "      <td>1.064353</td>\n",
       "      <td>2.150498</td>\n",
       "      <td>4.428434</td>\n",
       "      <td>0.463562</td>\n",
       "      <td>1.12541</td>\n",
       "      <td>0.579549</td>\n",
       "      <td>-0.118975</td>\n",
       "      <td>-1.284248</td>\n",
       "      <td>...</td>\n",
       "      <td>-0.095214</td>\n",
       "      <td>0.014986</td>\n",
       "      <td>-0.458112</td>\n",
       "      <td>0.291475</td>\n",
       "      <td>-0.00217</td>\n",
       "      <td>-0.228903</td>\n",
       "      <td>27.81</td>\n",
       "      <td>0</td>\n",
       "      <td>fd69d5aa-4c53-43a7-8ba9-32bbda68eab0</td>\n",
       "      <td>TRAIN</td>\n",
       "    </tr>\n",
       "  </tbody>\n",
       "</table>\n",
       "<p>5 rows × 33 columns</p>\n",
       "</div>[5 rows x 33 columns in total]"
      ],
      "text/plain": [
       "     Time        V1        V2        V3        V4        V5        V6  \\\n",
       "0  146737 -8.313253  7.353339 -6.784848 -1.647257 -3.151681 -1.036468   \n",
       "1   41342 -0.950509  1.005787  2.004522  3.180712 -0.721331  0.622745   \n",
       "2  154083  -2.41823 -1.114104    0.0731 -1.827987  0.743047  5.017568   \n",
       "3  137227 -1.125604  0.873506   2.20555  0.725739 -0.107164   1.59102   \n",
       "4   52804 -0.336088  1.064353  2.150498  4.428434  0.463562   1.12541   \n",
       "\n",
       "         V7        V8        V9  ...       V23       V24       V25       V26  \\\n",
       "0 -3.176614  4.783091  2.525343  ...  0.553924 -1.551447  0.668017 -0.047452   \n",
       "1 -0.367445  0.690638 -0.831808  ... -0.019173  0.438937 -0.462187  0.328724   \n",
       "2 -2.471885  1.141392  0.812167  ...  0.712716  0.746484  -0.70748  0.632214   \n",
       "3 -1.093884 -2.480163  0.097936  ... -0.377725  -1.07084   0.37751 -0.257676   \n",
       "4  0.579549 -0.118975 -1.284248  ... -0.095214  0.014986 -0.458112  0.291475   \n",
       "\n",
       "        V27       V28  Amount  Class                        transaction_id  \\\n",
       "0  1.246589   0.71985    0.89      0  9c23ed6c-805e-4c54-af95-dfb8cb34446a   \n",
       "1 -0.041549  0.082586   39.52      0  f23f1435-eaf1-455c-9877-9e3b1db6473d   \n",
       "2 -0.536598  0.014419    25.0      0  a147e336-81d1-47f2-87ef-206843430e00   \n",
       "3  0.009876 -0.124529    54.0      0  2a7353de-8003-48a5-8ddf-327b42a5731d   \n",
       "4  -0.00217 -0.228903   27.81      0  fd69d5aa-4c53-43a7-8ba9-32bbda68eab0   \n",
       "\n",
       "   splits  \n",
       "0   TRAIN  \n",
       "1   TRAIN  \n",
       "2   TRAIN  \n",
       "3   TRAIN  \n",
       "4   TRAIN  \n",
       "\n",
       "[5 rows x 33 columns]"
      ]
     },
     "execution_count": 20,
     "metadata": {},
     "output_type": "execute_result"
    }
   ],
   "source": [
    "source_data.head()"
   ]
  },
  {
   "cell_type": "code",
   "execution_count": 22,
   "id": "fafa2d1c-46b4-48af-8075-781f4115b38e",
   "metadata": {
    "tags": []
   },
   "outputs": [
    {
     "data": {
      "text/plain": [
       "Time                        Int64\n",
       "V1                        Float64\n",
       "V2                        Float64\n",
       "V3                        Float64\n",
       "V4                        Float64\n",
       "V5                        Float64\n",
       "V6                        Float64\n",
       "V7                        Float64\n",
       "V8                        Float64\n",
       "V9                        Float64\n",
       "V10                       Float64\n",
       "V11                       Float64\n",
       "V12                       Float64\n",
       "V13                       Float64\n",
       "V14                       Float64\n",
       "V15                       Float64\n",
       "V16                       Float64\n",
       "V17                       Float64\n",
       "V18                       Float64\n",
       "V19                       Float64\n",
       "V20                       Float64\n",
       "V21                       Float64\n",
       "V22                       Float64\n",
       "V23                       Float64\n",
       "V24                       Float64\n",
       "V25                       Float64\n",
       "V26                       Float64\n",
       "V27                       Float64\n",
       "V28                       Float64\n",
       "Amount                    Float64\n",
       "Class                       Int64\n",
       "transaction_id    string[pyarrow]\n",
       "splits            string[pyarrow]\n",
       "dtype: object"
      ]
     },
     "execution_count": 22,
     "metadata": {},
     "output_type": "execute_result"
    }
   ],
   "source": [
    "source_data.dtypes"
   ]
  },
  {
   "cell_type": "markdown",
   "id": "01d89090-af89-4bce-96a9-74648fcbfa9a",
   "metadata": {},
   "source": [
    "### Review the number of records for each level of Class (VAR_TARGET) for each of the data splits:"
   ]
  },
  {
   "cell_type": "code",
   "execution_count": 19,
   "id": "e30889eb-f74c-4e3a-93f6-0ad502ff3a0e",
   "metadata": {
    "tags": []
   },
   "outputs": [
    {
     "data": {
      "text/html": [
       "Query job d9ac50bc-82df-477d-a06c-0097d78d8a9a is DONE. 4.3 MB processed. <a target=\"_blank\" href=\"https://console.cloud.google.com/bigquery?project=statmike-mlops-349915&j=bq:us-central1:d9ac50bc-82df-477d-a06c-0097d78d8a9a&page=queryresults\">Open Job</a>"
      ],
      "text/plain": [
       "<IPython.core.display.HTML object>"
      ]
     },
     "metadata": {},
     "output_type": "display_data"
    },
    {
     "data": {
      "text/html": [
       "Query job fb496590-3243-4be7-8126-ccbe46e061b0 is DONE. 4.3 MB processed. <a target=\"_blank\" href=\"https://console.cloud.google.com/bigquery?project=statmike-mlops-349915&j=bq:us-central1:fb496590-3243-4be7-8126-ccbe46e061b0&page=queryresults\">Open Job</a>"
      ],
      "text/plain": [
       "<IPython.core.display.HTML object>"
      ]
     },
     "metadata": {},
     "output_type": "display_data"
    },
    {
     "data": {
      "text/plain": [
       "splits    Class\n",
       "TEST      0         28455\n",
       "          1            47\n",
       "TRAIN     0        227664\n",
       "          1           397\n",
       "VALIDATE  0         28196\n",
       "          1            48\n",
       "Name: Class, dtype: Int64"
      ]
     },
     "execution_count": 19,
     "metadata": {},
     "output_type": "execute_result"
    }
   ],
   "source": [
    "source_data.groupby(['splits', 'Class'])['Class'].count()"
   ]
  },
  {
   "cell_type": "markdown",
   "id": "9da3acbd-8b4a-48fc-ae07-86abc4f49c3c",
   "metadata": {},
   "source": [
    "---\n",
    "## Prepare Data For Feature Store\n",
    "\n",
    "There are two formats that can be used for feature store:\n",
    "- BigQuery Source\n",
    "    - A table or view of the **latest feature values** for each entity\n",
    "    - This can be used to directly serve features\n",
    "- BigQuery Source With Timestamped History\n",
    "    - A table or view of feature values along with two columns to help derive latest values for features:\n",
    "        - **entity_id** - a string value to identify the entity the features are measures of\n",
    "        - **feature_timestamp** - a timestamp value uses by feature store to serve the latest non-null values of a feature\n",
    "        \n",
    "This section creates views of the source table in each of these formats."
   ]
  },
  {
   "cell_type": "markdown",
   "id": "9d16ee92-fcc1-4fe1-887e-ac29f8a56125",
   "metadata": {},
   "source": [
    "## BigQuery Source View: Raw"
   ]
  },
  {
   "cell_type": "code",
   "execution_count": 114,
   "id": "125b5185-8dad-4969-8f59-f8fffd162965",
   "metadata": {
    "tags": []
   },
   "outputs": [],
   "source": [
    "columns = ','.join([column.lower() for column in source_data.columns.tolist()])"
   ]
  },
  {
   "cell_type": "code",
   "execution_count": 115,
   "id": "80b8cfb1-1973-4b04-bc09-83d5af98371c",
   "metadata": {
    "tags": []
   },
   "outputs": [
    {
     "name": "stdout",
     "output_type": "stream",
     "text": [
      "\n",
      "CREATE OR REPLACE VIEW `statmike-mlops-349915.fraud.fraud_prepped_fs_raw` AS\n",
      "    SELECT time,v1,v2,v3,v4,v5,v6,v7,v8,v9,v10,v11,v12,v13,v14,v15,v16,v17,v18,v19,v20,v21,v22,v23,v24,v25,v26,v27,v28,amount,class,transaction_id,splits\n",
      "    FROM `statmike-mlops-349915.fraud.fraud_prepped`\n",
      "\n"
     ]
    }
   ],
   "source": [
    "query = f'''\n",
    "CREATE OR REPLACE VIEW `{BQ_PROJECT}.{BQ_DATASET}.{BQ_TABLE}_fs_raw` AS\n",
    "    SELECT {columns}\n",
    "    FROM `{BQ_PROJECT}.{BQ_DATASET}.{BQ_TABLE}`\n",
    "'''\n",
    "print(query)"
   ]
  },
  {
   "cell_type": "code",
   "execution_count": 116,
   "id": "8c614bff-b9c3-4f00-b84a-ed1693d8903f",
   "metadata": {
    "tags": []
   },
   "outputs": [
    {
     "data": {
      "text/plain": [
       "0.17"
      ]
     },
     "execution_count": 116,
     "metadata": {},
     "output_type": "execute_result"
    }
   ],
   "source": [
    "bq_job = bq.query(query)\n",
    "bq_job.result()\n",
    "(bq_job.ended - bq_job.started).total_seconds()"
   ]
  },
  {
   "cell_type": "markdown",
   "id": "936f0642-6990-4fb5-ab9e-f51eba5cf662",
   "metadata": {},
   "source": [
    "#### Review Data For a Single Entity\n",
    "\n",
    "In this form there is a single row and each feature/column has the latest value of the feature."
   ]
  },
  {
   "cell_type": "code",
   "execution_count": 117,
   "id": "6710efd5-6aa7-464e-b5fc-9f19e87a29c0",
   "metadata": {
    "tags": []
   },
   "outputs": [
    {
     "data": {
      "text/html": [
       "Query job 3c268a01-7fac-489d-abac-a41bf7dd9152 is DONE. 10.8 MB processed. <a target=\"_blank\" href=\"https://console.cloud.google.com/bigquery?project=statmike-mlops-349915&j=bq:us-central1:3c268a01-7fac-489d-abac-a41bf7dd9152&page=queryresults\">Open Job</a>"
      ],
      "text/plain": [
       "<IPython.core.display.HTML object>"
      ]
     },
     "metadata": {},
     "output_type": "display_data"
    },
    {
     "data": {
      "text/html": [
       "Query job 140515a7-897d-49ed-bca7-737ba208f934 is DONE. 83.5 MB processed. <a target=\"_blank\" href=\"https://console.cloud.google.com/bigquery?project=statmike-mlops-349915&j=bq:us-central1:140515a7-897d-49ed-bca7-737ba208f934&page=queryresults\">Open Job</a>"
      ],
      "text/plain": [
       "<IPython.core.display.HTML object>"
      ]
     },
     "metadata": {},
     "output_type": "display_data"
    },
    {
     "data": {
      "text/html": [
       "<div>\n",
       "<style scoped>\n",
       "    .dataframe tbody tr th:only-of-type {\n",
       "        vertical-align: middle;\n",
       "    }\n",
       "\n",
       "    .dataframe tbody tr th {\n",
       "        vertical-align: top;\n",
       "    }\n",
       "\n",
       "    .dataframe thead th {\n",
       "        text-align: right;\n",
       "    }\n",
       "</style>\n",
       "<table border=\"1\" class=\"dataframe\">\n",
       "  <thead>\n",
       "    <tr style=\"text-align: right;\">\n",
       "      <th></th>\n",
       "      <th>time</th>\n",
       "      <th>v1</th>\n",
       "      <th>v2</th>\n",
       "      <th>v3</th>\n",
       "      <th>v4</th>\n",
       "      <th>v5</th>\n",
       "      <th>v6</th>\n",
       "      <th>v7</th>\n",
       "      <th>v8</th>\n",
       "      <th>v9</th>\n",
       "      <th>...</th>\n",
       "      <th>v23</th>\n",
       "      <th>v24</th>\n",
       "      <th>v25</th>\n",
       "      <th>v26</th>\n",
       "      <th>v27</th>\n",
       "      <th>v28</th>\n",
       "      <th>amount</th>\n",
       "      <th>class</th>\n",
       "      <th>transaction_id</th>\n",
       "      <th>splits</th>\n",
       "    </tr>\n",
       "  </thead>\n",
       "  <tbody>\n",
       "    <tr>\n",
       "      <th>38500</th>\n",
       "      <td>121839</td>\n",
       "      <td>2.10734</td>\n",
       "      <td>-1.950655</td>\n",
       "      <td>0.721045</td>\n",
       "      <td>-0.924701</td>\n",
       "      <td>-2.90679</td>\n",
       "      <td>-0.649764</td>\n",
       "      <td>-2.100326</td>\n",
       "      <td>0.147773</td>\n",
       "      <td>0.170338</td>\n",
       "      <td>...</td>\n",
       "      <td>0.432282</td>\n",
       "      <td>0.875979</td>\n",
       "      <td>-0.639515</td>\n",
       "      <td>-0.241636</td>\n",
       "      <td>0.073953</td>\n",
       "      <td>-0.023142</td>\n",
       "      <td>27.0</td>\n",
       "      <td>0</td>\n",
       "      <td>a50e10db-3573-4749-9ecb-309f5a4dc987</td>\n",
       "      <td>TRAIN</td>\n",
       "    </tr>\n",
       "  </tbody>\n",
       "</table>\n",
       "<p>1 rows × 33 columns</p>\n",
       "</div>[1 rows x 33 columns in total]"
      ],
      "text/plain": [
       "         time       v1        v2        v3        v4       v5        v6  \\\n",
       "38500  121839  2.10734 -1.950655  0.721045 -0.924701 -2.90679 -0.649764   \n",
       "\n",
       "             v7        v8        v9  ...       v23       v24       v25  \\\n",
       "38500 -2.100326  0.147773  0.170338  ...  0.432282  0.875979 -0.639515   \n",
       "\n",
       "            v26       v27       v28  amount  class  \\\n",
       "38500 -0.241636  0.073953 -0.023142    27.0      0   \n",
       "\n",
       "                             transaction_id  splits  \n",
       "38500  a50e10db-3573-4749-9ecb-309f5a4dc987   TRAIN  \n",
       "\n",
       "[1 rows x 33 columns]"
      ]
     },
     "execution_count": 117,
     "metadata": {},
     "output_type": "execute_result"
    }
   ],
   "source": [
    "source_raw = bpd.read_gbq(f'{BQ_PROJECT}.{BQ_DATASET}.{BQ_TABLE}_fs_raw')\n",
    "source_raw[source_raw['transaction_id'] == 'a50e10db-3573-4749-9ecb-309f5a4dc987']"
   ]
  },
  {
   "cell_type": "markdown",
   "id": "408b2ddc-48c7-4ea8-b0b5-2706a3d8bf72",
   "metadata": {},
   "source": [
    "### BigQuery Source View: Latest\n",
    "\n",
    "A view with the latest values of all features and a column for the `entity-id`, in this case `transaction_id`."
   ]
  },
  {
   "cell_type": "code",
   "execution_count": 118,
   "id": "be7099e5-0b38-40ea-af4e-47f05485dc90",
   "metadata": {},
   "outputs": [
    {
     "name": "stdout",
     "output_type": "stream",
     "text": [
      "\n",
      "CREATE OR REPLACE VIEW `statmike-mlops-349915.fraud.fraud_prepped_fs_latest` AS\n",
      "    SELECT * EXCEPT(class, splits)\n",
      "    FROM `statmike-mlops-349915.fraud.fraud_prepped_fs_raw`\n",
      "\n"
     ]
    }
   ],
   "source": [
    "query = f'''\n",
    "CREATE OR REPLACE VIEW `{BQ_PROJECT}.{BQ_DATASET}.{BQ_TABLE}_fs_latest` AS\n",
    "    SELECT * EXCEPT(class, splits)\n",
    "    FROM `{BQ_PROJECT}.{BQ_DATASET}.{BQ_TABLE}_fs_raw`\n",
    "'''\n",
    "print(query)"
   ]
  },
  {
   "cell_type": "code",
   "execution_count": 119,
   "id": "9912ab9d-7d15-4744-94ae-5c3030bfc53f",
   "metadata": {},
   "outputs": [
    {
     "data": {
      "text/plain": [
       "0.145"
      ]
     },
     "execution_count": 119,
     "metadata": {},
     "output_type": "execute_result"
    }
   ],
   "source": [
    "bq_job = bq.query(query)\n",
    "bq_job.result()\n",
    "(bq_job.ended - bq_job.started).total_seconds()"
   ]
  },
  {
   "cell_type": "markdown",
   "id": "7951dfb1-d562-47ab-afed-b36b6dec7cc0",
   "metadata": {},
   "source": [
    "#### Review Data For a Single Entity\n",
    "\n",
    "In this form, just like the raw data above, there is a single row and each feature/column has the latest value of the feature."
   ]
  },
  {
   "cell_type": "code",
   "execution_count": 120,
   "id": "3358a776-2ce3-40f0-a973-61ea70001917",
   "metadata": {},
   "outputs": [
    {
     "data": {
      "text/html": [
       "Query job bf9e642a-568b-4a73-91b3-577c5300281c is DONE. 10.8 MB processed. <a target=\"_blank\" href=\"https://console.cloud.google.com/bigquery?project=statmike-mlops-349915&j=bq:us-central1:bf9e642a-568b-4a73-91b3-577c5300281c&page=queryresults\">Open Job</a>"
      ],
      "text/plain": [
       "<IPython.core.display.HTML object>"
      ]
     },
     "metadata": {},
     "output_type": "display_data"
    },
    {
     "data": {
      "text/html": [
       "Query job 0947b438-c8af-4de9-ab36-88ffeb125235 is DONE. 79.2 MB processed. <a target=\"_blank\" href=\"https://console.cloud.google.com/bigquery?project=statmike-mlops-349915&j=bq:us-central1:0947b438-c8af-4de9-ab36-88ffeb125235&page=queryresults\">Open Job</a>"
      ],
      "text/plain": [
       "<IPython.core.display.HTML object>"
      ]
     },
     "metadata": {},
     "output_type": "display_data"
    },
    {
     "data": {
      "text/html": [
       "<div>\n",
       "<style scoped>\n",
       "    .dataframe tbody tr th:only-of-type {\n",
       "        vertical-align: middle;\n",
       "    }\n",
       "\n",
       "    .dataframe tbody tr th {\n",
       "        vertical-align: top;\n",
       "    }\n",
       "\n",
       "    .dataframe thead th {\n",
       "        text-align: right;\n",
       "    }\n",
       "</style>\n",
       "<table border=\"1\" class=\"dataframe\">\n",
       "  <thead>\n",
       "    <tr style=\"text-align: right;\">\n",
       "      <th></th>\n",
       "      <th>time</th>\n",
       "      <th>v1</th>\n",
       "      <th>v2</th>\n",
       "      <th>v3</th>\n",
       "      <th>v4</th>\n",
       "      <th>v5</th>\n",
       "      <th>v6</th>\n",
       "      <th>v7</th>\n",
       "      <th>v8</th>\n",
       "      <th>v9</th>\n",
       "      <th>...</th>\n",
       "      <th>v21</th>\n",
       "      <th>v22</th>\n",
       "      <th>v23</th>\n",
       "      <th>v24</th>\n",
       "      <th>v25</th>\n",
       "      <th>v26</th>\n",
       "      <th>v27</th>\n",
       "      <th>v28</th>\n",
       "      <th>amount</th>\n",
       "      <th>transaction_id</th>\n",
       "    </tr>\n",
       "  </thead>\n",
       "  <tbody>\n",
       "    <tr>\n",
       "      <th>40139</th>\n",
       "      <td>121839</td>\n",
       "      <td>2.10734</td>\n",
       "      <td>-1.950655</td>\n",
       "      <td>0.721045</td>\n",
       "      <td>-0.924701</td>\n",
       "      <td>-2.90679</td>\n",
       "      <td>-0.649764</td>\n",
       "      <td>-2.100326</td>\n",
       "      <td>0.147773</td>\n",
       "      <td>0.170338</td>\n",
       "      <td>...</td>\n",
       "      <td>-0.173015</td>\n",
       "      <td>0.152649</td>\n",
       "      <td>0.432282</td>\n",
       "      <td>0.875979</td>\n",
       "      <td>-0.639515</td>\n",
       "      <td>-0.241636</td>\n",
       "      <td>0.073953</td>\n",
       "      <td>-0.023142</td>\n",
       "      <td>27.0</td>\n",
       "      <td>a50e10db-3573-4749-9ecb-309f5a4dc987</td>\n",
       "    </tr>\n",
       "  </tbody>\n",
       "</table>\n",
       "<p>1 rows × 31 columns</p>\n",
       "</div>[1 rows x 31 columns in total]"
      ],
      "text/plain": [
       "         time       v1        v2        v3        v4       v5        v6  \\\n",
       "40139  121839  2.10734 -1.950655  0.721045 -0.924701 -2.90679 -0.649764   \n",
       "\n",
       "             v7        v8        v9  ...       v21       v22       v23  \\\n",
       "40139 -2.100326  0.147773  0.170338  ... -0.173015  0.152649  0.432282   \n",
       "\n",
       "            v24       v25       v26       v27       v28  amount  \\\n",
       "40139  0.875979 -0.639515 -0.241636  0.073953 -0.023142    27.0   \n",
       "\n",
       "                             transaction_id  \n",
       "40139  a50e10db-3573-4749-9ecb-309f5a4dc987  \n",
       "\n",
       "[1 rows x 31 columns]"
      ]
     },
     "execution_count": 120,
     "metadata": {},
     "output_type": "execute_result"
    }
   ],
   "source": [
    "source_latest = bpd.read_gbq(f'{BQ_PROJECT}.{BQ_DATASET}.{BQ_TABLE}_fs_latest')\n",
    "source_latest[source_latest['transaction_id'] == 'a50e10db-3573-4749-9ecb-309f5a4dc987']"
   ]
  },
  {
   "cell_type": "markdown",
   "id": "9888b1d6-1f21-4a24-b675-2e67a4d87fbc",
   "metadata": {},
   "source": [
    "### BigQuery Source View: History\n",
    "\n",
    "A deconstruction to an example history table version of the source data - **AS AN EXAMPLE**.  In this version, the feature values for each entiy arrived at different times.\n",
    "\n",
    "To illustrate a history tables shape this query:\n",
    "- assigns each `transaction_id` a `feature_timestamp` at a random minute in the last 14 days\n",
    "- assigns arrival times to features V1, V2, V3, V4, V5 that are after the other features.  "
   ]
  },
  {
   "cell_type": "markdown",
   "id": "96793497-73de-4a85-ba39-8ced3e80c036",
   "metadata": {},
   "source": [
    "#### Example: Deconstruct the table into an example history table"
   ]
  },
  {
   "cell_type": "code",
   "execution_count": 178,
   "id": "bc725df1-6a16-47b2-a2c1-1f2dddb794ac",
   "metadata": {},
   "outputs": [
    {
     "name": "stdout",
     "output_type": "stream",
     "text": [
      "\n",
      "CREATE OR REPLACE TABLE `statmike-mlops-349915.fraud.fraud_prepped_fs_history` AS \n",
      "WITH\n",
      "    TRANSACTION_TIME AS (\n",
      "        SELECT transaction_id,\n",
      "            TIMESTAMP_SUB(CURRENT_TIMESTAMP(), INTERVAL CAST(CEIL(RAND()*60*24*14) + 1440 AS INT64) MINUTE) as feature_timestamp\n",
      "        FROM `statmike-mlops-349915.fraud.fraud_prepped_fs_raw`\n",
      "    ),\n",
      "    FEATURE_DELAYS AS (\n",
      "        SELECT *\n",
      "        FROM (SELECT * FROM TRANSACTION_TIME)\n",
      "        CROSS JOIN (\n",
      "            SELECT *, ROW_NUMBER() OVER(ORDER BY delay) AS pos FROM UNNEST(ARRAY(\n",
      "                (SELECT CAST(CEIL(RAND()*1440) AS INT64) FROM UNNEST(GENERATE_ARRAY(1, 6)))\n",
      "            )) AS delay\n",
      "        )   \n",
      "    )\n",
      "SELECT\n",
      "    transaction_id as entity_id,\n",
      "    TIMESTAMP_ADD(feature_timestamp, INTERVAL delay MINUTE) AS feature_timestamp,\n",
      "    CASE\n",
      "        WHEN pos = 2 THEN v1\n",
      "        ELSE NULL\n",
      "    END AS v1,\n",
      "    CASE\n",
      "        WHEN pos = 3 THEN v2\n",
      "        ELSE NULL\n",
      "    END AS v2,\n",
      "    CASE\n",
      "        WHEN pos = 4 THEN v3\n",
      "        ELSE NULL\n",
      "    END AS v3,\n",
      "    CASE\n",
      "        WHEN pos = 5 THEN v4\n",
      "        ELSE NULL\n",
      "    END AS v4,\n",
      "    CASE\n",
      "        WHEN pos = 6 THEN v5\n",
      "        ELSE NULL\n",
      "    END AS v5,\n",
      "    * EXCEPT(pos, delay, feature_timestamp, v1, v2, v3, v4, v5, transaction_id, splits),\n",
      "FROM FEATURE_DELAYS\n",
      "LEFT JOIN `statmike-mlops-349915.fraud.fraud_prepped_fs_raw` USING(transaction_id)\n",
      "ORDER BY transaction_id, feature_timestamp    \n",
      "\n"
     ]
    }
   ],
   "source": [
    "query = f'''\n",
    "CREATE OR REPLACE TABLE `{BQ_PROJECT}.{BQ_DATASET}.{BQ_TABLE}_fs_history` AS \n",
    "WITH\n",
    "    TRANSACTION_TIME AS (\n",
    "        SELECT transaction_id,\n",
    "            TIMESTAMP_SUB(CURRENT_TIMESTAMP(), INTERVAL CAST(CEIL(RAND()*60*24*14) + 1440 AS INT64) MINUTE) as feature_timestamp\n",
    "        FROM `{BQ_PROJECT}.{BQ_DATASET}.{BQ_TABLE}_fs_raw`\n",
    "    ),\n",
    "    FEATURE_DELAYS AS (\n",
    "        SELECT *\n",
    "        FROM (SELECT * FROM TRANSACTION_TIME)\n",
    "        CROSS JOIN (\n",
    "            SELECT *, ROW_NUMBER() OVER(ORDER BY delay) AS pos FROM UNNEST(ARRAY(\n",
    "                (SELECT CAST(CEIL(RAND()*1440) AS INT64) FROM UNNEST(GENERATE_ARRAY(1, 6)))\n",
    "            )) AS delay\n",
    "        )   \n",
    "    )\n",
    "SELECT\n",
    "    transaction_id as entity_id,\n",
    "    TIMESTAMP_ADD(feature_timestamp, INTERVAL delay MINUTE) AS feature_timestamp,\n",
    "    CASE\n",
    "        WHEN pos = 2 THEN v1\n",
    "        ELSE NULL\n",
    "    END AS v1,\n",
    "    CASE\n",
    "        WHEN pos = 3 THEN v2\n",
    "        ELSE NULL\n",
    "    END AS v2,\n",
    "    CASE\n",
    "        WHEN pos = 4 THEN v3\n",
    "        ELSE NULL\n",
    "    END AS v3,\n",
    "    CASE\n",
    "        WHEN pos = 5 THEN v4\n",
    "        ELSE NULL\n",
    "    END AS v4,\n",
    "    CASE\n",
    "        WHEN pos = 6 THEN v5\n",
    "        ELSE NULL\n",
    "    END AS v5,\n",
    "    * EXCEPT(pos, delay, feature_timestamp, v1, v2, v3, v4, v5, transaction_id, splits),\n",
    "FROM FEATURE_DELAYS\n",
    "LEFT JOIN `{BQ_PROJECT}.{BQ_DATASET}.{BQ_TABLE}_fs_raw` USING(transaction_id)\n",
    "ORDER BY transaction_id, feature_timestamp    \n",
    "'''\n",
    "print(query)"
   ]
  },
  {
   "cell_type": "code",
   "execution_count": 179,
   "id": "3069e59c-726e-4255-b790-309548acd127",
   "metadata": {},
   "outputs": [
    {
     "data": {
      "text/plain": [
       "13.286"
      ]
     },
     "execution_count": 179,
     "metadata": {},
     "output_type": "execute_result"
    }
   ],
   "source": [
    "bq_job = bq.query(query)\n",
    "bq_job.result()\n",
    "(bq_job.ended - bq_job.started).total_seconds()"
   ]
  },
  {
   "cell_type": "markdown",
   "id": "3cffcb96-dd42-440d-9327-82a2a6cf6a46",
   "metadata": {},
   "source": [
    "#### Review Data For a Single Entity\n",
    "\n",
    "In this form there are multiple rows for an entity.  Notice that features V1-V5 arrived over time.  At the earliest time none have values and then each arrives over the course of about 24 hours in this example.  There could be multiple values for a single feature over time: think account balance, inventory available, time on website, number of clicks, etc."
   ]
  },
  {
   "cell_type": "code",
   "execution_count": 180,
   "id": "8be58508-0f6e-449f-8439-9ca758df962d",
   "metadata": {
    "tags": []
   },
   "outputs": [],
   "source": [
    "source_history = bpd.read_gbq(f'{BQ_PROJECT}.{BQ_DATASET}.{BQ_TABLE}_fs_history')"
   ]
  },
  {
   "cell_type": "code",
   "execution_count": 181,
   "id": "4bdc0339-8802-4a1c-8b6c-302b0e0b0da2",
   "metadata": {},
   "outputs": [
    {
     "data": {
      "text/html": [
       "Query job 161dc2c4-ae89-4b0c-b27d-4eefc050c0b0 is DONE. 64.9 MB processed. <a target=\"_blank\" href=\"https://console.cloud.google.com/bigquery?project=statmike-mlops-349915&j=bq:us-central1:161dc2c4-ae89-4b0c-b27d-4eefc050c0b0&page=queryresults\">Open Job</a>"
      ],
      "text/plain": [
       "<IPython.core.display.HTML object>"
      ]
     },
     "metadata": {},
     "output_type": "display_data"
    },
    {
     "data": {
      "text/html": [
       "Query job 3f3980d4-0bd1-4045-87f3-b98aad63b19e is DONE. 445.4 MB processed. <a target=\"_blank\" href=\"https://console.cloud.google.com/bigquery?project=statmike-mlops-349915&j=bq:us-central1:3f3980d4-0bd1-4045-87f3-b98aad63b19e&page=queryresults\">Open Job</a>"
      ],
      "text/plain": [
       "<IPython.core.display.HTML object>"
      ]
     },
     "metadata": {},
     "output_type": "display_data"
    },
    {
     "data": {
      "text/html": [
       "<div>\n",
       "<style scoped>\n",
       "    .dataframe tbody tr th:only-of-type {\n",
       "        vertical-align: middle;\n",
       "    }\n",
       "\n",
       "    .dataframe tbody tr th {\n",
       "        vertical-align: top;\n",
       "    }\n",
       "\n",
       "    .dataframe thead th {\n",
       "        text-align: right;\n",
       "    }\n",
       "</style>\n",
       "<table border=\"1\" class=\"dataframe\">\n",
       "  <thead>\n",
       "    <tr style=\"text-align: right;\">\n",
       "      <th></th>\n",
       "      <th>entity_id</th>\n",
       "      <th>feature_timestamp</th>\n",
       "      <th>v1</th>\n",
       "      <th>v2</th>\n",
       "      <th>v3</th>\n",
       "      <th>v4</th>\n",
       "      <th>v5</th>\n",
       "      <th>time</th>\n",
       "      <th>v6</th>\n",
       "      <th>v7</th>\n",
       "      <th>...</th>\n",
       "      <th>v21</th>\n",
       "      <th>v22</th>\n",
       "      <th>v23</th>\n",
       "      <th>v24</th>\n",
       "      <th>v25</th>\n",
       "      <th>v26</th>\n",
       "      <th>v27</th>\n",
       "      <th>v28</th>\n",
       "      <th>amount</th>\n",
       "      <th>class</th>\n",
       "    </tr>\n",
       "  </thead>\n",
       "  <tbody>\n",
       "    <tr>\n",
       "      <th>818599</th>\n",
       "      <td>a50e10db-3573-4749-9ecb-309f5a4dc987</td>\n",
       "      <td>2024-02-06 13:12:01.873668+00:00</td>\n",
       "      <td>&lt;NA&gt;</td>\n",
       "      <td>&lt;NA&gt;</td>\n",
       "      <td>&lt;NA&gt;</td>\n",
       "      <td>&lt;NA&gt;</td>\n",
       "      <td>&lt;NA&gt;</td>\n",
       "      <td>121839</td>\n",
       "      <td>-0.649764</td>\n",
       "      <td>-2.100326</td>\n",
       "      <td>...</td>\n",
       "      <td>-0.173015</td>\n",
       "      <td>0.152649</td>\n",
       "      <td>0.432282</td>\n",
       "      <td>0.875979</td>\n",
       "      <td>-0.639515</td>\n",
       "      <td>-0.241636</td>\n",
       "      <td>0.073953</td>\n",
       "      <td>-0.023142</td>\n",
       "      <td>27.0</td>\n",
       "      <td>0</td>\n",
       "    </tr>\n",
       "    <tr>\n",
       "      <th>348079</th>\n",
       "      <td>a50e10db-3573-4749-9ecb-309f5a4dc987</td>\n",
       "      <td>2024-02-06 15:10:01.873668+00:00</td>\n",
       "      <td>2.10734</td>\n",
       "      <td>&lt;NA&gt;</td>\n",
       "      <td>&lt;NA&gt;</td>\n",
       "      <td>&lt;NA&gt;</td>\n",
       "      <td>&lt;NA&gt;</td>\n",
       "      <td>121839</td>\n",
       "      <td>-0.649764</td>\n",
       "      <td>-2.100326</td>\n",
       "      <td>...</td>\n",
       "      <td>-0.173015</td>\n",
       "      <td>0.152649</td>\n",
       "      <td>0.432282</td>\n",
       "      <td>0.875979</td>\n",
       "      <td>-0.639515</td>\n",
       "      <td>-0.241636</td>\n",
       "      <td>0.073953</td>\n",
       "      <td>-0.023142</td>\n",
       "      <td>27.0</td>\n",
       "      <td>0</td>\n",
       "    </tr>\n",
       "    <tr>\n",
       "      <th>1619978</th>\n",
       "      <td>a50e10db-3573-4749-9ecb-309f5a4dc987</td>\n",
       "      <td>2024-02-07 01:18:01.873668+00:00</td>\n",
       "      <td>&lt;NA&gt;</td>\n",
       "      <td>-1.950655</td>\n",
       "      <td>&lt;NA&gt;</td>\n",
       "      <td>&lt;NA&gt;</td>\n",
       "      <td>&lt;NA&gt;</td>\n",
       "      <td>121839</td>\n",
       "      <td>-0.649764</td>\n",
       "      <td>-2.100326</td>\n",
       "      <td>...</td>\n",
       "      <td>-0.173015</td>\n",
       "      <td>0.152649</td>\n",
       "      <td>0.432282</td>\n",
       "      <td>0.875979</td>\n",
       "      <td>-0.639515</td>\n",
       "      <td>-0.241636</td>\n",
       "      <td>0.073953</td>\n",
       "      <td>-0.023142</td>\n",
       "      <td>27.0</td>\n",
       "      <td>0</td>\n",
       "    </tr>\n",
       "    <tr>\n",
       "      <th>1688813</th>\n",
       "      <td>a50e10db-3573-4749-9ecb-309f5a4dc987</td>\n",
       "      <td>2024-02-07 04:37:01.873668+00:00</td>\n",
       "      <td>&lt;NA&gt;</td>\n",
       "      <td>&lt;NA&gt;</td>\n",
       "      <td>0.721045</td>\n",
       "      <td>&lt;NA&gt;</td>\n",
       "      <td>&lt;NA&gt;</td>\n",
       "      <td>121839</td>\n",
       "      <td>-0.649764</td>\n",
       "      <td>-2.100326</td>\n",
       "      <td>...</td>\n",
       "      <td>-0.173015</td>\n",
       "      <td>0.152649</td>\n",
       "      <td>0.432282</td>\n",
       "      <td>0.875979</td>\n",
       "      <td>-0.639515</td>\n",
       "      <td>-0.241636</td>\n",
       "      <td>0.073953</td>\n",
       "      <td>-0.023142</td>\n",
       "      <td>27.0</td>\n",
       "      <td>0</td>\n",
       "    </tr>\n",
       "    <tr>\n",
       "      <th>25772</th>\n",
       "      <td>a50e10db-3573-4749-9ecb-309f5a4dc987</td>\n",
       "      <td>2024-02-07 08:40:01.873668+00:00</td>\n",
       "      <td>&lt;NA&gt;</td>\n",
       "      <td>&lt;NA&gt;</td>\n",
       "      <td>&lt;NA&gt;</td>\n",
       "      <td>-0.924701</td>\n",
       "      <td>&lt;NA&gt;</td>\n",
       "      <td>121839</td>\n",
       "      <td>-0.649764</td>\n",
       "      <td>-2.100326</td>\n",
       "      <td>...</td>\n",
       "      <td>-0.173015</td>\n",
       "      <td>0.152649</td>\n",
       "      <td>0.432282</td>\n",
       "      <td>0.875979</td>\n",
       "      <td>-0.639515</td>\n",
       "      <td>-0.241636</td>\n",
       "      <td>0.073953</td>\n",
       "      <td>-0.023142</td>\n",
       "      <td>27.0</td>\n",
       "      <td>0</td>\n",
       "    </tr>\n",
       "    <tr>\n",
       "      <th>1282819</th>\n",
       "      <td>a50e10db-3573-4749-9ecb-309f5a4dc987</td>\n",
       "      <td>2024-02-07 11:01:01.873668+00:00</td>\n",
       "      <td>&lt;NA&gt;</td>\n",
       "      <td>&lt;NA&gt;</td>\n",
       "      <td>&lt;NA&gt;</td>\n",
       "      <td>&lt;NA&gt;</td>\n",
       "      <td>-2.90679</td>\n",
       "      <td>121839</td>\n",
       "      <td>-0.649764</td>\n",
       "      <td>-2.100326</td>\n",
       "      <td>...</td>\n",
       "      <td>-0.173015</td>\n",
       "      <td>0.152649</td>\n",
       "      <td>0.432282</td>\n",
       "      <td>0.875979</td>\n",
       "      <td>-0.639515</td>\n",
       "      <td>-0.241636</td>\n",
       "      <td>0.073953</td>\n",
       "      <td>-0.023142</td>\n",
       "      <td>27.0</td>\n",
       "      <td>0</td>\n",
       "    </tr>\n",
       "  </tbody>\n",
       "</table>\n",
       "<p>6 rows × 33 columns</p>\n",
       "</div>[6 rows x 33 columns in total]"
      ],
      "text/plain": [
       "                                    entity_id  \\\n",
       "818599   a50e10db-3573-4749-9ecb-309f5a4dc987   \n",
       "348079   a50e10db-3573-4749-9ecb-309f5a4dc987   \n",
       "1619978  a50e10db-3573-4749-9ecb-309f5a4dc987   \n",
       "1688813  a50e10db-3573-4749-9ecb-309f5a4dc987   \n",
       "25772    a50e10db-3573-4749-9ecb-309f5a4dc987   \n",
       "1282819  a50e10db-3573-4749-9ecb-309f5a4dc987   \n",
       "\n",
       "                        feature_timestamp       v1        v2        v3  \\\n",
       "818599   2024-02-06 13:12:01.873668+00:00     <NA>      <NA>      <NA>   \n",
       "348079   2024-02-06 15:10:01.873668+00:00  2.10734      <NA>      <NA>   \n",
       "1619978  2024-02-07 01:18:01.873668+00:00     <NA> -1.950655      <NA>   \n",
       "1688813  2024-02-07 04:37:01.873668+00:00     <NA>      <NA>  0.721045   \n",
       "25772    2024-02-07 08:40:01.873668+00:00     <NA>      <NA>      <NA>   \n",
       "1282819  2024-02-07 11:01:01.873668+00:00     <NA>      <NA>      <NA>   \n",
       "\n",
       "               v4       v5    time        v6        v7  ...       v21  \\\n",
       "818599       <NA>     <NA>  121839 -0.649764 -2.100326  ... -0.173015   \n",
       "348079       <NA>     <NA>  121839 -0.649764 -2.100326  ... -0.173015   \n",
       "1619978      <NA>     <NA>  121839 -0.649764 -2.100326  ... -0.173015   \n",
       "1688813      <NA>     <NA>  121839 -0.649764 -2.100326  ... -0.173015   \n",
       "25772   -0.924701     <NA>  121839 -0.649764 -2.100326  ... -0.173015   \n",
       "1282819      <NA> -2.90679  121839 -0.649764 -2.100326  ... -0.173015   \n",
       "\n",
       "              v22       v23       v24       v25       v26       v27       v28  \\\n",
       "818599   0.152649  0.432282  0.875979 -0.639515 -0.241636  0.073953 -0.023142   \n",
       "348079   0.152649  0.432282  0.875979 -0.639515 -0.241636  0.073953 -0.023142   \n",
       "1619978  0.152649  0.432282  0.875979 -0.639515 -0.241636  0.073953 -0.023142   \n",
       "1688813  0.152649  0.432282  0.875979 -0.639515 -0.241636  0.073953 -0.023142   \n",
       "25772    0.152649  0.432282  0.875979 -0.639515 -0.241636  0.073953 -0.023142   \n",
       "1282819  0.152649  0.432282  0.875979 -0.639515 -0.241636  0.073953 -0.023142   \n",
       "\n",
       "         amount  class  \n",
       "818599     27.0      0  \n",
       "348079     27.0      0  \n",
       "1619978    27.0      0  \n",
       "1688813    27.0      0  \n",
       "25772      27.0      0  \n",
       "1282819    27.0      0  \n",
       "\n",
       "[6 rows x 33 columns]"
      ]
     },
     "execution_count": 181,
     "metadata": {},
     "output_type": "execute_result"
    }
   ],
   "source": [
    "example = source_history[source_history['entity_id'] == 'a50e10db-3573-4749-9ecb-309f5a4dc987'].sort_values('feature_timestamp')\n",
    "example"
   ]
  },
  {
   "cell_type": "code",
   "execution_count": 182,
   "id": "df750a48-7c52-407c-9c4c-4ef9b0b702b7",
   "metadata": {
    "tags": []
   },
   "outputs": [
    {
     "data": {
      "text/html": [
       "Query job 75f5e5ab-d015-4a91-b56f-5f310c499ad5 is DONE. 445.4 MB processed. <a target=\"_blank\" href=\"https://console.cloud.google.com/bigquery?project=statmike-mlops-349915&j=bq:us-central1:75f5e5ab-d015-4a91-b56f-5f310c499ad5&page=queryresults\">Open Job</a>"
      ],
      "text/plain": [
       "<IPython.core.display.HTML object>"
      ]
     },
     "metadata": {},
     "output_type": "display_data"
    },
    {
     "data": {
      "text/html": [
       "Query job 04171f5a-f5d1-4789-b47a-76f6d17501c5 is DONE. 78.6 MB processed. <a target=\"_blank\" href=\"https://console.cloud.google.com/bigquery?project=statmike-mlops-349915&j=bq:us-central1:04171f5a-f5d1-4789-b47a-76f6d17501c5&page=queryresults\">Open Job</a>"
      ],
      "text/plain": [
       "<IPython.core.display.HTML object>"
      ]
     },
     "metadata": {},
     "output_type": "display_data"
    },
    {
     "data": {
      "text/html": [
       "Query job 03817a38-1111-43e6-9bcf-3304518a49cf is DONE. 78.6 MB processed. <a target=\"_blank\" href=\"https://console.cloud.google.com/bigquery?project=statmike-mlops-349915&j=bq:us-central1:03817a38-1111-43e6-9bcf-3304518a49cf&page=queryresults\">Open Job</a>"
      ],
      "text/plain": [
       "<IPython.core.display.HTML object>"
      ]
     },
     "metadata": {},
     "output_type": "display_data"
    },
    {
     "data": {
      "text/html": [
       "Query job 562a6697-afcb-47da-af7b-7846cf25b8b2 is DONE. 78.6 MB processed. <a target=\"_blank\" href=\"https://console.cloud.google.com/bigquery?project=statmike-mlops-349915&j=bq:us-central1:562a6697-afcb-47da-af7b-7846cf25b8b2&page=queryresults\">Open Job</a>"
      ],
      "text/plain": [
       "<IPython.core.display.HTML object>"
      ]
     },
     "metadata": {},
     "output_type": "display_data"
    },
    {
     "data": {
      "text/plain": [
       "('a50e10db-3573-4749-9ecb-309f5a4dc987',\n",
       " '2024-02-06 13:12:01.873668+0000',\n",
       " '2024-02-07 11:01:01+0000',\n",
       " '2024-02-07 11:01:01.873668+0000')"
      ]
     },
     "execution_count": 182,
     "metadata": {},
     "output_type": "execute_result"
    }
   ],
   "source": [
    "example_entity = example['entity_id'].iloc[0]\n",
    "example_mintime = example['feature_timestamp'].min().strftime('%Y-%m-%d %H:%M:%S.%f%z') #'2023-01-01 12:00:00+00'\n",
    "example_maxtime = example['feature_timestamp'].max().strftime('%Y-%m-%d %H:%M:%S%z') #'2023-01-01 12:00:00+00'\n",
    "example_maxtimeFull = example['feature_timestamp'].max().strftime('%Y-%m-%d %H:%M:%S.%f%z') #'2023-01-01 12:00:00+00'\n",
    "\n",
    "example_entity, example_mintime, example_maxtime, example_maxtimeFull"
   ]
  },
  {
   "cell_type": "markdown",
   "id": "ff7ab3de-dfe1-4b96-8d43-2f370693aa82",
   "metadata": {},
   "source": [
    "### Using A Feature History Table In BigQuery (Batch Mode)\n",
    "\n",
    "A history table version of features is not directly ready for use in machine learning. There are BigQuery functions available to make it easy to create training, evaluation, and other sets of instances from a history table.\n",
    "\n",
    "- [ML.FEATURES_AT_TIME](https://cloud.google.com/bigquery/docs/reference/standard-sql/bigqueryml-syntax-feature-time)\n",
    "    - specify a point-in-time cutoff for all entities when retrieving features.  Prevents [data leakage](https://en.wikipedia.org/wiki/Leakage_(machine_learning)).\n",
    "- [ML.ENTITY_FEATURES_AT_TIME](https://cloud.google.com/bigquery/docs/reference/standard-sql/bigqueryml-syntax-entity-feature-time)\n",
    "    - specify a table of entity values and timestamps to retrieve point-in-time features for all combinations"
   ]
  },
  {
   "cell_type": "markdown",
   "id": "250bf906-485c-446c-bbdc-9fc019a5c419",
   "metadata": {},
   "source": [
    "#### Features At Point-In-Time\n",
    "\n",
    "Retrieve feature values at a point-in-time for all entity values."
   ]
  },
  {
   "cell_type": "code",
   "execution_count": 183,
   "id": "34ad3514-d7ed-4638-9577-12da6b92028b",
   "metadata": {},
   "outputs": [
    {
     "data": {
      "text/html": [
       "Query job 152a6fa5-7f81-42c0-81dc-3df1b1d48a9f is DONE. 445.4 MB processed. <a target=\"_blank\" href=\"https://console.cloud.google.com/bigquery?project=statmike-mlops-349915&j=bq:us-central1:152a6fa5-7f81-42c0-81dc-3df1b1d48a9f&page=queryresults\">Open Job</a>"
      ],
      "text/plain": [
       "<IPython.core.display.HTML object>"
      ]
     },
     "metadata": {},
     "output_type": "display_data"
    },
    {
     "data": {
      "text/html": [
       "Query job 7f65d91d-cabb-4620-b978-8c6b2049fe31 is DONE. 0 Bytes processed. <a target=\"_blank\" href=\"https://console.cloud.google.com/bigquery?project=statmike-mlops-349915&j=bq:us-central1:7f65d91d-cabb-4620-b978-8c6b2049fe31&page=queryresults\">Open Job</a>"
      ],
      "text/plain": [
       "<IPython.core.display.HTML object>"
      ]
     },
     "metadata": {},
     "output_type": "display_data"
    },
    {
     "data": {
      "text/html": [
       "Query job ba6a4dda-5eba-40ed-a689-2d0506183a3c is DONE. 286 Bytes processed. <a target=\"_blank\" href=\"https://console.cloud.google.com/bigquery?project=statmike-mlops-349915&j=bq:us-central1:ba6a4dda-5eba-40ed-a689-2d0506183a3c&page=queryresults\">Open Job</a>"
      ],
      "text/plain": [
       "<IPython.core.display.HTML object>"
      ]
     },
     "metadata": {},
     "output_type": "display_data"
    },
    {
     "data": {
      "text/html": [
       "<div>\n",
       "<style scoped>\n",
       "    .dataframe tbody tr th:only-of-type {\n",
       "        vertical-align: middle;\n",
       "    }\n",
       "\n",
       "    .dataframe tbody tr th {\n",
       "        vertical-align: top;\n",
       "    }\n",
       "\n",
       "    .dataframe thead th {\n",
       "        text-align: right;\n",
       "    }\n",
       "</style>\n",
       "<table border=\"1\" class=\"dataframe\">\n",
       "  <thead>\n",
       "    <tr style=\"text-align: right;\">\n",
       "      <th></th>\n",
       "      <th>entity_id</th>\n",
       "      <th>feature_timestamp</th>\n",
       "      <th>v1</th>\n",
       "      <th>v2</th>\n",
       "      <th>v3</th>\n",
       "      <th>v4</th>\n",
       "      <th>v5</th>\n",
       "      <th>time</th>\n",
       "      <th>v6</th>\n",
       "      <th>v7</th>\n",
       "      <th>...</th>\n",
       "      <th>v21</th>\n",
       "      <th>v22</th>\n",
       "      <th>v23</th>\n",
       "      <th>v24</th>\n",
       "      <th>v25</th>\n",
       "      <th>v26</th>\n",
       "      <th>v27</th>\n",
       "      <th>v28</th>\n",
       "      <th>amount</th>\n",
       "      <th>class</th>\n",
       "    </tr>\n",
       "  </thead>\n",
       "  <tbody>\n",
       "    <tr>\n",
       "      <th>0</th>\n",
       "      <td>a50e10db-3573-4749-9ecb-309f5a4dc987</td>\n",
       "      <td>2024-02-07 11:01:01+00:00</td>\n",
       "      <td>2.10734</td>\n",
       "      <td>-1.950655</td>\n",
       "      <td>0.721045</td>\n",
       "      <td>-0.924701</td>\n",
       "      <td>&lt;NA&gt;</td>\n",
       "      <td>121839</td>\n",
       "      <td>-0.649764</td>\n",
       "      <td>-2.100326</td>\n",
       "      <td>...</td>\n",
       "      <td>-0.173015</td>\n",
       "      <td>0.152649</td>\n",
       "      <td>0.432282</td>\n",
       "      <td>0.875979</td>\n",
       "      <td>-0.639515</td>\n",
       "      <td>-0.241636</td>\n",
       "      <td>0.073953</td>\n",
       "      <td>-0.023142</td>\n",
       "      <td>27.0</td>\n",
       "      <td>0</td>\n",
       "    </tr>\n",
       "  </tbody>\n",
       "</table>\n",
       "<p>1 rows × 33 columns</p>\n",
       "</div>[1 rows x 33 columns in total]"
      ],
      "text/plain": [
       "                              entity_id          feature_timestamp       v1  \\\n",
       "0  a50e10db-3573-4749-9ecb-309f5a4dc987  2024-02-07 11:01:01+00:00  2.10734   \n",
       "\n",
       "         v2        v3        v4    v5    time        v6        v7  ...  \\\n",
       "0 -1.950655  0.721045 -0.924701  <NA>  121839 -0.649764 -2.100326  ...   \n",
       "\n",
       "        v21       v22       v23       v24       v25       v26       v27  \\\n",
       "0 -0.173015  0.152649  0.432282  0.875979 -0.639515 -0.241636  0.073953   \n",
       "\n",
       "        v28  amount  class  \n",
       "0 -0.023142    27.0      0  \n",
       "\n",
       "[1 rows x 33 columns]"
      ]
     },
     "execution_count": 183,
     "metadata": {},
     "output_type": "execute_result"
    }
   ],
   "source": [
    "bpd.read_gbq(f'''\n",
    "SELECT *\n",
    "FROM\n",
    "    ML.FEATURES_AT_TIME(\n",
    "        TABLE `{BQ_PROJECT}.{BQ_DATASET}.{BQ_TABLE}_fs_history`,\n",
    "        time => '{example_maxtime}',\n",
    "        num_rows => 1,\n",
    "        ignore_feature_nulls => TRUE\n",
    "    )\n",
    "WHERE entity_id = '{example_entity}'\n",
    "''')"
   ]
  },
  {
   "cell_type": "code",
   "execution_count": 184,
   "id": "dbea71c6-c30f-434f-9161-58fde08d57d5",
   "metadata": {},
   "outputs": [
    {
     "data": {
      "text/html": [
       "Query job 4c619420-3f11-47d7-b699-8b05babbe297 is DONE. 445.4 MB processed. <a target=\"_blank\" href=\"https://console.cloud.google.com/bigquery?project=statmike-mlops-349915&j=bq:us-central1:4c619420-3f11-47d7-b699-8b05babbe297&page=queryresults\">Open Job</a>"
      ],
      "text/plain": [
       "<IPython.core.display.HTML object>"
      ]
     },
     "metadata": {},
     "output_type": "display_data"
    },
    {
     "data": {
      "text/html": [
       "Query job 9b06edd7-290c-4f55-b6a0-1d1a7cdb04e0 is DONE. 0 Bytes processed. <a target=\"_blank\" href=\"https://console.cloud.google.com/bigquery?project=statmike-mlops-349915&j=bq:us-central1:9b06edd7-290c-4f55-b6a0-1d1a7cdb04e0&page=queryresults\">Open Job</a>"
      ],
      "text/plain": [
       "<IPython.core.display.HTML object>"
      ]
     },
     "metadata": {},
     "output_type": "display_data"
    },
    {
     "data": {
      "text/html": [
       "Query job bc959197-d687-4efd-8571-712d9a58704c is DONE. 294 Bytes processed. <a target=\"_blank\" href=\"https://console.cloud.google.com/bigquery?project=statmike-mlops-349915&j=bq:us-central1:bc959197-d687-4efd-8571-712d9a58704c&page=queryresults\">Open Job</a>"
      ],
      "text/plain": [
       "<IPython.core.display.HTML object>"
      ]
     },
     "metadata": {},
     "output_type": "display_data"
    },
    {
     "data": {
      "text/html": [
       "<div>\n",
       "<style scoped>\n",
       "    .dataframe tbody tr th:only-of-type {\n",
       "        vertical-align: middle;\n",
       "    }\n",
       "\n",
       "    .dataframe tbody tr th {\n",
       "        vertical-align: top;\n",
       "    }\n",
       "\n",
       "    .dataframe thead th {\n",
       "        text-align: right;\n",
       "    }\n",
       "</style>\n",
       "<table border=\"1\" class=\"dataframe\">\n",
       "  <thead>\n",
       "    <tr style=\"text-align: right;\">\n",
       "      <th></th>\n",
       "      <th>entity_id</th>\n",
       "      <th>feature_timestamp</th>\n",
       "      <th>v1</th>\n",
       "      <th>v2</th>\n",
       "      <th>v3</th>\n",
       "      <th>v4</th>\n",
       "      <th>v5</th>\n",
       "      <th>time</th>\n",
       "      <th>v6</th>\n",
       "      <th>v7</th>\n",
       "      <th>...</th>\n",
       "      <th>v21</th>\n",
       "      <th>v22</th>\n",
       "      <th>v23</th>\n",
       "      <th>v24</th>\n",
       "      <th>v25</th>\n",
       "      <th>v26</th>\n",
       "      <th>v27</th>\n",
       "      <th>v28</th>\n",
       "      <th>amount</th>\n",
       "      <th>class</th>\n",
       "    </tr>\n",
       "  </thead>\n",
       "  <tbody>\n",
       "    <tr>\n",
       "      <th>0</th>\n",
       "      <td>a50e10db-3573-4749-9ecb-309f5a4dc987</td>\n",
       "      <td>2024-02-07 11:01:01.873668+00:00</td>\n",
       "      <td>2.10734</td>\n",
       "      <td>-1.950655</td>\n",
       "      <td>0.721045</td>\n",
       "      <td>-0.924701</td>\n",
       "      <td>-2.90679</td>\n",
       "      <td>121839</td>\n",
       "      <td>-0.649764</td>\n",
       "      <td>-2.100326</td>\n",
       "      <td>...</td>\n",
       "      <td>-0.173015</td>\n",
       "      <td>0.152649</td>\n",
       "      <td>0.432282</td>\n",
       "      <td>0.875979</td>\n",
       "      <td>-0.639515</td>\n",
       "      <td>-0.241636</td>\n",
       "      <td>0.073953</td>\n",
       "      <td>-0.023142</td>\n",
       "      <td>27.0</td>\n",
       "      <td>0</td>\n",
       "    </tr>\n",
       "  </tbody>\n",
       "</table>\n",
       "<p>1 rows × 33 columns</p>\n",
       "</div>[1 rows x 33 columns in total]"
      ],
      "text/plain": [
       "                              entity_id                 feature_timestamp  \\\n",
       "0  a50e10db-3573-4749-9ecb-309f5a4dc987  2024-02-07 11:01:01.873668+00:00   \n",
       "\n",
       "        v1        v2        v3        v4       v5    time        v6        v7  \\\n",
       "0  2.10734 -1.950655  0.721045 -0.924701 -2.90679  121839 -0.649764 -2.100326   \n",
       "\n",
       "   ...       v21       v22       v23       v24       v25       v26       v27  \\\n",
       "0  ... -0.173015  0.152649  0.432282  0.875979 -0.639515 -0.241636  0.073953   \n",
       "\n",
       "        v28  amount  class  \n",
       "0 -0.023142    27.0      0  \n",
       "\n",
       "[1 rows x 33 columns]"
      ]
     },
     "execution_count": 184,
     "metadata": {},
     "output_type": "execute_result"
    }
   ],
   "source": [
    "bpd.read_gbq(f'''\n",
    "SELECT *\n",
    "FROM\n",
    "    ML.FEATURES_AT_TIME(\n",
    "        TABLE `{BQ_PROJECT}.{BQ_DATASET}.{BQ_TABLE}_fs_history`,\n",
    "        time => '{example_maxtimeFull}',\n",
    "        num_rows => 1,\n",
    "        ignore_feature_nulls => TRUE\n",
    "    )\n",
    "WHERE entity_id = '{example_entity}'\n",
    "''')"
   ]
  },
  {
   "cell_type": "markdown",
   "id": "a97247ec-bf7e-4cad-8e55-724b982186d4",
   "metadata": {},
   "source": [
    "#### Entity Features At Point-In-Time\n",
    "\n",
    "Retrieve feature values for select entity and point-in-time values."
   ]
  },
  {
   "cell_type": "code",
   "execution_count": 185,
   "id": "6b2e5043-d732-40f4-8c05-7f7a1e71835f",
   "metadata": {},
   "outputs": [
    {
     "data": {
      "text/html": [
       "Query job 6c9d6a4a-aa12-4868-85f6-af5122652efd is DONE. 445.4 MB processed. <a target=\"_blank\" href=\"https://console.cloud.google.com/bigquery?project=statmike-mlops-349915&j=bq:us-central1:6c9d6a4a-aa12-4868-85f6-af5122652efd&page=queryresults\">Open Job</a>"
      ],
      "text/plain": [
       "<IPython.core.display.HTML object>"
      ]
     },
     "metadata": {},
     "output_type": "display_data"
    },
    {
     "data": {
      "text/html": [
       "Query job cee35614-4618-4f4d-8990-fc0e08a059d2 is DONE. 0 Bytes processed. <a target=\"_blank\" href=\"https://console.cloud.google.com/bigquery?project=statmike-mlops-349915&j=bq:us-central1:cee35614-4618-4f4d-8990-fc0e08a059d2&page=queryresults\">Open Job</a>"
      ],
      "text/plain": [
       "<IPython.core.display.HTML object>"
      ]
     },
     "metadata": {},
     "output_type": "display_data"
    },
    {
     "data": {
      "text/html": [
       "Query job c026d8b3-eccc-49ff-9a99-ba09b5da2b01 is DONE. 834 Bytes processed. <a target=\"_blank\" href=\"https://console.cloud.google.com/bigquery?project=statmike-mlops-349915&j=bq:us-central1:c026d8b3-eccc-49ff-9a99-ba09b5da2b01&page=queryresults\">Open Job</a>"
      ],
      "text/plain": [
       "<IPython.core.display.HTML object>"
      ]
     },
     "metadata": {},
     "output_type": "display_data"
    },
    {
     "data": {
      "text/html": [
       "<div>\n",
       "<style scoped>\n",
       "    .dataframe tbody tr th:only-of-type {\n",
       "        vertical-align: middle;\n",
       "    }\n",
       "\n",
       "    .dataframe tbody tr th {\n",
       "        vertical-align: top;\n",
       "    }\n",
       "\n",
       "    .dataframe thead th {\n",
       "        text-align: right;\n",
       "    }\n",
       "</style>\n",
       "<table border=\"1\" class=\"dataframe\">\n",
       "  <thead>\n",
       "    <tr style=\"text-align: right;\">\n",
       "      <th></th>\n",
       "      <th>entity_id</th>\n",
       "      <th>feature_timestamp</th>\n",
       "      <th>v1</th>\n",
       "      <th>v2</th>\n",
       "      <th>v3</th>\n",
       "      <th>v4</th>\n",
       "      <th>v5</th>\n",
       "      <th>time</th>\n",
       "      <th>v6</th>\n",
       "      <th>v7</th>\n",
       "      <th>...</th>\n",
       "      <th>v21</th>\n",
       "      <th>v22</th>\n",
       "      <th>v23</th>\n",
       "      <th>v24</th>\n",
       "      <th>v25</th>\n",
       "      <th>v26</th>\n",
       "      <th>v27</th>\n",
       "      <th>v28</th>\n",
       "      <th>amount</th>\n",
       "      <th>class</th>\n",
       "    </tr>\n",
       "  </thead>\n",
       "  <tbody>\n",
       "    <tr>\n",
       "      <th>0</th>\n",
       "      <td>a50e10db-3573-4749-9ecb-309f5a4dc987</td>\n",
       "      <td>2024-02-06 13:12:01.873668+00:00</td>\n",
       "      <td>&lt;NA&gt;</td>\n",
       "      <td>&lt;NA&gt;</td>\n",
       "      <td>&lt;NA&gt;</td>\n",
       "      <td>&lt;NA&gt;</td>\n",
       "      <td>&lt;NA&gt;</td>\n",
       "      <td>121839</td>\n",
       "      <td>-0.649764</td>\n",
       "      <td>-2.100326</td>\n",
       "      <td>...</td>\n",
       "      <td>-0.173015</td>\n",
       "      <td>0.152649</td>\n",
       "      <td>0.432282</td>\n",
       "      <td>0.875979</td>\n",
       "      <td>-0.639515</td>\n",
       "      <td>-0.241636</td>\n",
       "      <td>0.073953</td>\n",
       "      <td>-0.023142</td>\n",
       "      <td>27.0</td>\n",
       "      <td>0</td>\n",
       "    </tr>\n",
       "    <tr>\n",
       "      <th>1</th>\n",
       "      <td>a50e10db-3573-4749-9ecb-309f5a4dc987</td>\n",
       "      <td>2024-02-07 11:01:01+00:00</td>\n",
       "      <td>2.10734</td>\n",
       "      <td>-1.950655</td>\n",
       "      <td>0.721045</td>\n",
       "      <td>-0.924701</td>\n",
       "      <td>&lt;NA&gt;</td>\n",
       "      <td>121839</td>\n",
       "      <td>-0.649764</td>\n",
       "      <td>-2.100326</td>\n",
       "      <td>...</td>\n",
       "      <td>-0.173015</td>\n",
       "      <td>0.152649</td>\n",
       "      <td>0.432282</td>\n",
       "      <td>0.875979</td>\n",
       "      <td>-0.639515</td>\n",
       "      <td>-0.241636</td>\n",
       "      <td>0.073953</td>\n",
       "      <td>-0.023142</td>\n",
       "      <td>27.0</td>\n",
       "      <td>0</td>\n",
       "    </tr>\n",
       "    <tr>\n",
       "      <th>2</th>\n",
       "      <td>a50e10db-3573-4749-9ecb-309f5a4dc987</td>\n",
       "      <td>2024-02-07 11:01:01.873668+00:00</td>\n",
       "      <td>2.10734</td>\n",
       "      <td>-1.950655</td>\n",
       "      <td>0.721045</td>\n",
       "      <td>-0.924701</td>\n",
       "      <td>-2.90679</td>\n",
       "      <td>121839</td>\n",
       "      <td>-0.649764</td>\n",
       "      <td>-2.100326</td>\n",
       "      <td>...</td>\n",
       "      <td>-0.173015</td>\n",
       "      <td>0.152649</td>\n",
       "      <td>0.432282</td>\n",
       "      <td>0.875979</td>\n",
       "      <td>-0.639515</td>\n",
       "      <td>-0.241636</td>\n",
       "      <td>0.073953</td>\n",
       "      <td>-0.023142</td>\n",
       "      <td>27.0</td>\n",
       "      <td>0</td>\n",
       "    </tr>\n",
       "  </tbody>\n",
       "</table>\n",
       "<p>3 rows × 33 columns</p>\n",
       "</div>[3 rows x 33 columns in total]"
      ],
      "text/plain": [
       "                              entity_id                 feature_timestamp  \\\n",
       "0  a50e10db-3573-4749-9ecb-309f5a4dc987  2024-02-06 13:12:01.873668+00:00   \n",
       "1  a50e10db-3573-4749-9ecb-309f5a4dc987         2024-02-07 11:01:01+00:00   \n",
       "2  a50e10db-3573-4749-9ecb-309f5a4dc987  2024-02-07 11:01:01.873668+00:00   \n",
       "\n",
       "        v1        v2        v3        v4       v5    time        v6        v7  \\\n",
       "0     <NA>      <NA>      <NA>      <NA>     <NA>  121839 -0.649764 -2.100326   \n",
       "1  2.10734 -1.950655  0.721045 -0.924701     <NA>  121839 -0.649764 -2.100326   \n",
       "2  2.10734 -1.950655  0.721045 -0.924701 -2.90679  121839 -0.649764 -2.100326   \n",
       "\n",
       "   ...       v21       v22       v23       v24       v25       v26       v27  \\\n",
       "0  ... -0.173015  0.152649  0.432282  0.875979 -0.639515 -0.241636  0.073953   \n",
       "1  ... -0.173015  0.152649  0.432282  0.875979 -0.639515 -0.241636  0.073953   \n",
       "2  ... -0.173015  0.152649  0.432282  0.875979 -0.639515 -0.241636  0.073953   \n",
       "\n",
       "        v28  amount  class  \n",
       "0 -0.023142    27.0      0  \n",
       "1 -0.023142    27.0      0  \n",
       "2 -0.023142    27.0      0  \n",
       "\n",
       "[3 rows x 33 columns]"
      ]
     },
     "execution_count": 185,
     "metadata": {},
     "output_type": "execute_result"
    }
   ],
   "source": [
    "bpd.read_gbq(f'''\n",
    "WITH\n",
    "    ENTITY_TIME_TABLE AS (\n",
    "        SELECT '{example_entity}' as entity_id, TIMESTAMP('{example_mintime}') as time UNION ALL\n",
    "        SELECT '{example_entity}' as entity_id, TIMESTAMP('{example_maxtime}') as time UNION ALL\n",
    "        SELECT '{example_entity}' as entity_id, TIMESTAMP('{example_maxtimeFull}') as time\n",
    "    )\n",
    "SELECT *\n",
    "FROM\n",
    "    ML.ENTITY_FEATURES_AT_TIME(\n",
    "        TABLE `{BQ_PROJECT}.{BQ_DATASET}.{BQ_TABLE}_fs_history`,\n",
    "        TABLE ENTITY_TIME_TABLE,\n",
    "        num_rows => 1,\n",
    "        ignore_feature_nulls => TRUE\n",
    "    )\n",
    "WHERE entity_id = '{example_entity}'\n",
    "''')"
   ]
  },
  {
   "cell_type": "markdown",
   "id": "c04c101a-a6b0-4b89-991c-c3612c1538d6",
   "metadata": {},
   "source": [
    "---\n",
    "## Feature Store\n",
    "\n",
    "from google.cloud.aiplatform_v1 import (FeatureOnlineStoreAdminServiceClient,\n",
    "                                        FeatureOnlineStoreServiceClient,\n",
    "                                        FeatureRegistryServiceClient)\n",
    "\n",
    "**API Links (Python)**\n",
    "- [Feature Registry Service](https://cloud.google.com/python/docs/reference/aiplatform/latest/google.cloud.aiplatform_v1.services.feature_registry_service)\n",
    "- [Feature Online Store Admin Service](https://cloud.google.com/python/docs/reference/aiplatform/latest/google.cloud.aiplatform_v1.services.feature_online_store_admin_service)\n",
    "- [Feature Online Store Service](https://cloud.google.com/python/docs/reference/aiplatform/latest/google.cloud.aiplatform_v1.services.feature_online_store_service)"
   ]
  },
  {
   "cell_type": "markdown",
   "id": "6776be28-7e6c-4ed8-9fec-04d38e26c0d9",
   "metadata": {},
   "source": [
    "### Feature Registry Client\n",
    "\n",
    "Used for creating Feature Groups, Features from groups"
   ]
  },
  {
   "cell_type": "code",
   "execution_count": 196,
   "id": "bd73813e-98c3-4f47-b747-79a93e0deca9",
   "metadata": {},
   "outputs": [],
   "source": [
    "registry_client = aiplatform.gapic.FeatureRegistryServiceClient(client_options = dict(api_endpoint = f'{REGION}-aiplatform.googleapis.com'))"
   ]
  },
  {
   "cell_type": "markdown",
   "id": "f3f7bd3e-40e1-4e7a-ae4c-80ea2720206f",
   "metadata": {},
   "source": [
    "### Create A Feature Group\n",
    "\n",
    "The history version of the feature table(s) can be registered to the Feature Registry.\n",
    "\n",
    "**References:**\n",
    "- [Create a feature group](https://cloud.google.com/vertex-ai/docs/featurestore/latest/create-featuregroup)"
   ]
  },
  {
   "cell_type": "code",
   "execution_count": 197,
   "id": "dbead84e-af82-483a-80ef-c993878af1aa",
   "metadata": {
    "tags": []
   },
   "outputs": [],
   "source": [
    "FEATURE_GROUP_NAME = 'transactions'"
   ]
  },
  {
   "cell_type": "code",
   "execution_count": 198,
   "id": "6beb0524-1a04-4624-b88f-0897868ce6e7",
   "metadata": {
    "tags": []
   },
   "outputs": [
    {
     "data": {
      "text/plain": [
       "'projects/1026793852137/locations/us-central1/featureGroups/transactions'"
      ]
     },
     "execution_count": 198,
     "metadata": {},
     "output_type": "execute_result"
    }
   ],
   "source": [
    "try:\n",
    "    feature_group = registry_client.get_feature_group(name = f'projects/{PROJECT_ID}/locations/{REGION}/featureGroups/{FEATURE_GROUP_NAME}')\n",
    "except Exception:\n",
    "    create_group = registry_client.create_feature_group(\n",
    "        request = aiplatform.gapic.CreateFeatureGroupRequest(\n",
    "            parent=f\"projects/{PROJECT_ID}/locations/{REGION}\",\n",
    "            feature_group_id = FEATURE_GROUP_NAME,\n",
    "            feature_group = aiplatform.gapic.FeatureGroup(\n",
    "                big_query = aiplatform.gapic.FeatureGroup.BigQuery(\n",
    "                    big_query_source = aiplatform.gapic.BigQuerySource(input_uri = f'bq://{BQ_PROJECT}.{BQ_DATASET}.{BQ_TABLE}_fs_history'),\n",
    "                    entity_id_columns = ['entity_id']\n",
    "                )\n",
    "            )\n",
    "        )\n",
    "    )\n",
    "    feature_group = create_group.result()\n",
    "    \n",
    "feature_group.name"
   ]
  },
  {
   "cell_type": "code",
   "execution_count": 324,
   "id": "025f4c8e-68b8-40f9-bfa6-82e3c809c211",
   "metadata": {
    "tags": []
   },
   "outputs": [
    {
     "name": "stdout",
     "output_type": "stream",
     "text": [
      "Review in the console:\n",
      "\n",
      "https://console.cloud.google.com/vertex-ai/feature-store/feature-groups?project=statmike-mlops-349915\n"
     ]
    }
   ],
   "source": [
    "print(f'Review in the console:\\n\\nhttps://console.cloud.google.com/vertex-ai/feature-store/feature-groups?project={PROJECT_ID}')"
   ]
  },
  {
   "cell_type": "markdown",
   "id": "62ca82f8-8107-4f46-9e95-b200ead377a9",
   "metadata": {},
   "source": [
    "### Create Features\n",
    "\n",
    "**References:**\n",
    "- [Create a feature](https://cloud.google.com/vertex-ai/docs/featurestore/latest/create-feature)"
   ]
  },
  {
   "cell_type": "code",
   "execution_count": 199,
   "id": "469c1308-c4e7-4b5c-8050-5eb6ab9c6ca3",
   "metadata": {
    "tags": []
   },
   "outputs": [
    {
     "data": {
      "text/plain": [
       "['entity_id',\n",
       " 'feature_timestamp',\n",
       " 'v1',\n",
       " 'v2',\n",
       " 'v3',\n",
       " 'v4',\n",
       " 'v5',\n",
       " 'time',\n",
       " 'v6',\n",
       " 'v7',\n",
       " 'v8',\n",
       " 'v9',\n",
       " 'v10',\n",
       " 'v11',\n",
       " 'v12',\n",
       " 'v13',\n",
       " 'v14',\n",
       " 'v15',\n",
       " 'v16',\n",
       " 'v17',\n",
       " 'v18',\n",
       " 'v19',\n",
       " 'v20',\n",
       " 'v21',\n",
       " 'v22',\n",
       " 'v23',\n",
       " 'v24',\n",
       " 'v25',\n",
       " 'v26',\n",
       " 'v27',\n",
       " 'v28',\n",
       " 'amount',\n",
       " 'class']"
      ]
     },
     "execution_count": 199,
     "metadata": {},
     "output_type": "execute_result"
    }
   ],
   "source": [
    "source_history.columns.tolist()"
   ]
  },
  {
   "cell_type": "code",
   "execution_count": 200,
   "id": "aa218432-2a88-464d-a28c-5d41ed432d8c",
   "metadata": {
    "tags": []
   },
   "outputs": [],
   "source": [
    "features = []\n",
    "for column in source_history.columns.tolist():\n",
    "    if column not in ['entity_id', 'feature_timestamp']:\n",
    "        try:\n",
    "            feature = registry_client.get_feature(name = f'projects/{PROJECT_ID}/locations/{REGION}/featureGroups/{FEATURE_GROUP_NAME}/features/{column}')\n",
    "            features.append(feature)\n",
    "        except Exception:\n",
    "            create_feature = registry_client.create_feature(\n",
    "                request = aiplatform.gapic.CreateFeatureRequest(\n",
    "                    parent = response.name,\n",
    "                    feature_id = column,\n",
    "                    feature = aiplatform.gapic.Feature(name = column)\n",
    "                )\n",
    "            )\n",
    "            features.append(create_feature.result())"
   ]
  },
  {
   "cell_type": "code",
   "execution_count": 201,
   "id": "75124133-4447-4d0a-b8c3-2e588ee43943",
   "metadata": {
    "tags": []
   },
   "outputs": [
    {
     "name": "stdout",
     "output_type": "stream",
     "text": [
      "projects/1026793852137/locations/us-central1/featureGroups/transactions/features/v1\n",
      "projects/1026793852137/locations/us-central1/featureGroups/transactions/features/v2\n",
      "projects/1026793852137/locations/us-central1/featureGroups/transactions/features/v3\n",
      "projects/1026793852137/locations/us-central1/featureGroups/transactions/features/v4\n",
      "projects/1026793852137/locations/us-central1/featureGroups/transactions/features/v5\n",
      "projects/1026793852137/locations/us-central1/featureGroups/transactions/features/time\n",
      "projects/1026793852137/locations/us-central1/featureGroups/transactions/features/v6\n",
      "projects/1026793852137/locations/us-central1/featureGroups/transactions/features/v7\n",
      "projects/1026793852137/locations/us-central1/featureGroups/transactions/features/v8\n",
      "projects/1026793852137/locations/us-central1/featureGroups/transactions/features/v9\n",
      "projects/1026793852137/locations/us-central1/featureGroups/transactions/features/v10\n",
      "projects/1026793852137/locations/us-central1/featureGroups/transactions/features/v11\n",
      "projects/1026793852137/locations/us-central1/featureGroups/transactions/features/v12\n",
      "projects/1026793852137/locations/us-central1/featureGroups/transactions/features/v13\n",
      "projects/1026793852137/locations/us-central1/featureGroups/transactions/features/v14\n",
      "projects/1026793852137/locations/us-central1/featureGroups/transactions/features/v15\n",
      "projects/1026793852137/locations/us-central1/featureGroups/transactions/features/v16\n",
      "projects/1026793852137/locations/us-central1/featureGroups/transactions/features/v17\n",
      "projects/1026793852137/locations/us-central1/featureGroups/transactions/features/v18\n",
      "projects/1026793852137/locations/us-central1/featureGroups/transactions/features/v19\n",
      "projects/1026793852137/locations/us-central1/featureGroups/transactions/features/v20\n",
      "projects/1026793852137/locations/us-central1/featureGroups/transactions/features/v21\n",
      "projects/1026793852137/locations/us-central1/featureGroups/transactions/features/v22\n",
      "projects/1026793852137/locations/us-central1/featureGroups/transactions/features/v23\n",
      "projects/1026793852137/locations/us-central1/featureGroups/transactions/features/v24\n",
      "projects/1026793852137/locations/us-central1/featureGroups/transactions/features/v25\n",
      "projects/1026793852137/locations/us-central1/featureGroups/transactions/features/v26\n",
      "projects/1026793852137/locations/us-central1/featureGroups/transactions/features/v27\n",
      "projects/1026793852137/locations/us-central1/featureGroups/transactions/features/v28\n",
      "projects/1026793852137/locations/us-central1/featureGroups/transactions/features/amount\n",
      "projects/1026793852137/locations/us-central1/featureGroups/transactions/features/class\n"
     ]
    }
   ],
   "source": [
    "for feature in features:\n",
    "    print(feature.name)"
   ]
  },
  {
   "cell_type": "code",
   "execution_count": 325,
   "id": "db14bfbf-6889-42e5-ae5d-f797b48e03f0",
   "metadata": {
    "tags": []
   },
   "outputs": [
    {
     "name": "stdout",
     "output_type": "stream",
     "text": [
      "Review in the console (expand feature group):\n",
      "\n",
      "https://console.cloud.google.com/vertex-ai/feature-store/feature-groups?project=statmike-mlops-349915\n"
     ]
    }
   ],
   "source": [
    "print(f'Review in the console (expand feature group):\\n\\nhttps://console.cloud.google.com/vertex-ai/feature-store/feature-groups?project={PROJECT_ID}')"
   ]
  },
  {
   "cell_type": "markdown",
   "id": "e88ba6ad-e76e-4ff6-ab40-58b925797a90",
   "metadata": {},
   "source": [
    "### Feature Online Store Admin Client\n",
    "\n",
    "Used to create online stores and feature views"
   ]
  },
  {
   "cell_type": "code",
   "execution_count": 203,
   "id": "c9628e2e-65fd-4f30-bf4f-3e3f70aa3a69",
   "metadata": {
    "tags": []
   },
   "outputs": [],
   "source": [
    "online_admin_client = aiplatform.gapic.FeatureOnlineStoreAdminServiceClient(client_options = dict(api_endpoint = f'{REGION}-aiplatform.googleapis.com'))"
   ]
  },
  {
   "cell_type": "markdown",
   "id": "0be3c2c7-7c89-4694-b2cc-1b0b207a98ba",
   "metadata": {},
   "source": [
    "### Create Online Store\n",
    "\n",
    "**NOTE:** This can take around 10 minutes\n",
    "\n",
    "**Reference:**\n",
    "- [Online Serving Types](https://cloud.google.com/vertex-ai/docs/featurestore/latest/online-serving-types)\n",
    "- [Create an Online Store Instance](https://cloud.google.com/vertex-ai/docs/featurestore/latest/create-onlinestore)"
   ]
  },
  {
   "cell_type": "code",
   "execution_count": 207,
   "id": "b3ea2030-1be4-43a7-939d-94e9b97f0a28",
   "metadata": {
    "tags": []
   },
   "outputs": [],
   "source": [
    "FEATURE_ONLINE_STORE_NAME = 'featurestore'"
   ]
  },
  {
   "cell_type": "code",
   "execution_count": 212,
   "id": "b31c7643-941c-41ef-b7ba-fab2e5c68f97",
   "metadata": {
    "tags": []
   },
   "outputs": [
    {
     "data": {
      "text/plain": [
       "'projects/1026793852137/locations/us-central1/featureOnlineStores/featurestore'"
      ]
     },
     "execution_count": 212,
     "metadata": {},
     "output_type": "execute_result"
    }
   ],
   "source": [
    "try:\n",
    "    online_store = online_admin_client.get_feature_online_store(name = f'projects/{PROJECT_ID}/locations/{REGION}/featureOnlineStores/{FEATURE_ONLINE_STORE_NAME}')\n",
    "except Exception:\n",
    "    create_online_store = online_admin_client.create_feature_online_store(\n",
    "        request = aiplatform.gapic.CreateFeatureOnlineStoreRequest(\n",
    "            parent = f'projects/{PROJECT_ID}/locations/{REGION}',\n",
    "            feature_online_store_id = FEATURE_ONLINE_STORE_NAME,\n",
    "            feature_online_store = aiplatform.gapic.FeatureOnlineStore(\n",
    "                bigtable = aiplatform.gapic.FeatureOnlineStore.Bigtable(\n",
    "                    auto_scaling = aiplatform.gapic.FeatureOnlineStore.Bigtable.AutoScaling(\n",
    "                        min_node_count = 1,\n",
    "                        max_node_count = 2,\n",
    "                        cpu_utilization_target = 50\n",
    "                    )\n",
    "                )\n",
    "            )\n",
    "        )\n",
    "    )\n",
    "    online_store = create_online_store.result()\n",
    "    \n",
    "online_store.name"
   ]
  },
  {
   "cell_type": "code",
   "execution_count": 330,
   "id": "e79da4c5-b5bb-4982-b316-e41bc608c12a",
   "metadata": {
    "tags": []
   },
   "outputs": [
    {
     "name": "stdout",
     "output_type": "stream",
     "text": [
      "Review in the console:\n",
      "\n",
      "https://console.cloud.google.com/vertex-ai/locations/us-central1/online-stores/featurestore?project=statmike-mlops-349915\n"
     ]
    }
   ],
   "source": [
    "print(f'Review in the console:\\n\\nhttps://console.cloud.google.com/vertex-ai/locations/{REGION}/online-stores/featurestore?project={PROJECT_ID}')"
   ]
  },
  {
   "cell_type": "markdown",
   "id": "1bfab57f-009d-434d-84e9-ef4b2f019380",
   "metadata": {
    "tags": []
   },
   "source": [
    "### Create Feature View: From Feature Registry\n",
    "\n",
    "Create a feature view that syncs the latest values for each feature using the feature registry features.\n",
    "\n",
    "**Reference:**\n",
    "- [Create a feature view from feature groups](https://cloud.google.com/vertex-ai/docs/featurestore/latest/create-featureview#create_a_feature_view_from_feature_groups)"
   ]
  },
  {
   "cell_type": "code",
   "execution_count": 224,
   "id": "a75a11b1-0631-4516-9fe6-f44169e5636c",
   "metadata": {
    "tags": []
   },
   "outputs": [],
   "source": [
    "REGISTRY_FEATURE_VIEW_NAME = 'registry_feature_view'"
   ]
  },
  {
   "cell_type": "code",
   "execution_count": 225,
   "id": "181d5752-660a-4868-9c8c-8b7257cdbbb5",
   "metadata": {
    "tags": []
   },
   "outputs": [
    {
     "data": {
      "text/plain": [
       "'projects/1026793852137/locations/us-central1/featureOnlineStores/featurestore/featureViews/registry_feature_view'"
      ]
     },
     "execution_count": 225,
     "metadata": {},
     "output_type": "execute_result"
    }
   ],
   "source": [
    "try:\n",
    "    registry_view = online_admin_client.get_feature_view(name = f'{online_store.name}/featureViews/{REGISTRY_FEATURE_VIEW_NAME}')\n",
    "except Exception:\n",
    "    create_registry_view = online_admin_client.create_feature_view(\n",
    "        request = aiplatform.gapic.CreateFeatureViewRequest(\n",
    "            parent = online_store.name,\n",
    "            feature_view_id = REGISTRY_FEATURE_VIEW_NAME,\n",
    "            feature_view = aiplatform.gapic.FeatureView(\n",
    "                feature_registry_source = aiplatform.gapic.FeatureView.FeatureRegistrySource(\n",
    "                    feature_groups = [\n",
    "                        aiplatform.gapic.FeatureView.FeatureRegistrySource.FeatureGroup(\n",
    "                            feature_group_id = FEATURE_GROUP_NAME,\n",
    "                            feature_ids = [feature.name.split('/')[-1] for feature in features if not feature.name.endswith('class')]\n",
    "                        )\n",
    "                    ]\n",
    "                ),\n",
    "                sync_config = aiplatform.gapic.FeatureView.SyncConfig(cron = 'TZ=America/New_York 10 * * * *')\n",
    "            ),\n",
    "            run_sync_immediately = True\n",
    "        )\n",
    "    )\n",
    "    registry_view = create_registry_view.result()\n",
    "    \n",
    "registry_view.name"
   ]
  },
  {
   "cell_type": "code",
   "execution_count": 331,
   "id": "6cf58a4e-a9e3-428e-8680-632e49d51d91",
   "metadata": {
    "tags": []
   },
   "outputs": [
    {
     "name": "stdout",
     "output_type": "stream",
     "text": [
      "Review in the console:\n",
      "\n",
      "https://console.cloud.google.com/vertex-ai/locations/us-central1/online-stores/featurestore/feature-views/registry_feature_view?project=statmike-mlops-349915\n"
     ]
    }
   ],
   "source": [
    "print(f'Review in the console:\\n\\nhttps://console.cloud.google.com/vertex-ai/locations/{REGION}/online-stores/featurestore/feature-views/{REGISTRY_FEATURE_VIEW_NAME}?project={PROJECT_ID}')"
   ]
  },
  {
   "cell_type": "markdown",
   "id": "25e1a0c1-9b58-452a-b5b1-f1af2e41256e",
   "metadata": {},
   "source": [
    "### Create Feature View: From BigQuery Source\n",
    "\n",
    "Create a feature view directly from a BigQuery table/view, the 'latest' version create above.\n",
    "\n",
    "**Reference:**\n",
    "- [Create a feature view from a BigQuery source](https://cloud.google.com/vertex-ai/docs/featurestore/latest/create-featureview#create_from_bq)"
   ]
  },
  {
   "cell_type": "code",
   "execution_count": 226,
   "id": "3c9f7b0e-7f27-4b7e-9a78-f0f21b7e7693",
   "metadata": {
    "tags": []
   },
   "outputs": [],
   "source": [
    "BQ_FEATURE_VIEW_NAME = 'bq_feature_view'"
   ]
  },
  {
   "cell_type": "code",
   "execution_count": 228,
   "id": "9fc127ed-133a-492d-9c4f-1dce3e540630",
   "metadata": {
    "tags": []
   },
   "outputs": [
    {
     "data": {
      "text/plain": [
       "'projects/1026793852137/locations/us-central1/featureOnlineStores/featurestore/featureViews/bq_feature_view'"
      ]
     },
     "execution_count": 228,
     "metadata": {},
     "output_type": "execute_result"
    }
   ],
   "source": [
    "try:\n",
    "    bq_view = online_admin_client.get_feature_view(name = f'{online_store.name}/featureViews/{BQ_FEATURE_VIEW_NAME}')\n",
    "except Exception:\n",
    "    create_bq_view = online_admin_client.create_feature_view(\n",
    "        request = aiplatform.gapic.CreateFeatureViewRequest(\n",
    "            parent = online_store.name,\n",
    "            feature_view_id = BQ_FEATURE_VIEW_NAME,\n",
    "            feature_view = aiplatform.gapic.FeatureView(\n",
    "                big_query_source = aiplatform.gapic.FeatureView.BigQuerySource(\n",
    "                    uri = f'bq://{BQ_PROJECT}.{BQ_DATASET}.{BQ_TABLE}_fs_latest',\n",
    "                    entity_id_columns = ['transaction_id']\n",
    "                ),\n",
    "                sync_config = aiplatform.gapic.FeatureView.SyncConfig(cron = 'TZ=America/New_York 10 * * * *')\n",
    "            ),\n",
    "            run_sync_immediately = True\n",
    "        )\n",
    "    )\n",
    "    bq_view = create_bq_view.result()\n",
    "    \n",
    "bq_view.name"
   ]
  },
  {
   "cell_type": "code",
   "execution_count": 332,
   "id": "1d6c26ed-169d-4b32-834b-c59b32263514",
   "metadata": {
    "tags": []
   },
   "outputs": [
    {
     "name": "stdout",
     "output_type": "stream",
     "text": [
      "Review in the console:\n",
      "\n",
      "https://console.cloud.google.com/vertex-ai/locations/us-central1/online-stores/featurestore/feature-views/bq_feature_view?project=statmike-mlops-349915\n"
     ]
    }
   ],
   "source": [
    "print(f'Review in the console:\\n\\nhttps://console.cloud.google.com/vertex-ai/locations/{REGION}/online-stores/featurestore/feature-views/{BQ_FEATURE_VIEW_NAME}?project={PROJECT_ID}')"
   ]
  },
  {
   "cell_type": "markdown",
   "id": "3a7676a3-6b3e-4270-9d46-f38b9517dc74",
   "metadata": {},
   "source": [
    "### Start Sync Manually: BQ View\n",
    "\n",
    "Manually start a sync for the feature view create from BigQuery source.\n",
    "\n",
    "**References:**\n",
    "- [Sync feature data to online store](https://cloud.google.com/vertex-ai/docs/featurestore/latest/sync-data)\n",
    "- [List sync operations](https://cloud.google.com/vertex-ai/docs/featurestore/latest/list-data-syncs)"
   ]
  },
  {
   "cell_type": "code",
   "execution_count": 239,
   "id": "99823103-bf62-4b7d-9b85-395d846ef765",
   "metadata": {
    "tags": []
   },
   "outputs": [],
   "source": [
    "bq_sync = online_admin_client.sync_feature_view(feature_view = bq_view.name)"
   ]
  },
  {
   "cell_type": "code",
   "execution_count": 241,
   "id": "ed377192-6303-45fb-a12a-5d0d253109d3",
   "metadata": {
    "tags": []
   },
   "outputs": [
    {
     "data": {
      "text/plain": [
       "'projects/1026793852137/locations/us-central1/featureOnlineStores/featurestore/featureViews/bq_feature_view/featureViewSyncs/4208798999227924480'"
      ]
     },
     "execution_count": 241,
     "metadata": {},
     "output_type": "execute_result"
    }
   ],
   "source": [
    "bq_sync.feature_view_sync"
   ]
  },
  {
   "cell_type": "code",
   "execution_count": 243,
   "id": "dcd0d846-0adb-4f8c-96cb-175efcedbc71",
   "metadata": {
    "tags": []
   },
   "outputs": [
    {
     "name": "stdout",
     "output_type": "stream",
     "text": [
      "Succeeded!\n"
     ]
    }
   ],
   "source": [
    "while True:\n",
    "    feature_view_sync = online_admin_client.get_feature_view_sync(name = bq_sync.feature_view_sync)\n",
    "    if feature_view_sync.run_time.end_time.seconds > 0:\n",
    "        status = feature_view_sync.final_status.code\n",
    "        break\n",
    "    else:\n",
    "        print('waiting for 20 seconds...')\n",
    "    time.sleep(20)\n",
    "    \n",
    "if status == 0: print('Succeeded!')\n",
    "else: print('Failed!')"
   ]
  },
  {
   "cell_type": "code",
   "execution_count": 245,
   "id": "aa5ae08c-25f7-4b1f-864c-e72eeb0e7a4e",
   "metadata": {
    "tags": []
   },
   "outputs": [
    {
     "data": {
      "text/plain": [
       "ListFeatureViewSyncsPager<feature_view_syncs {\n",
       "  name: \"projects/1026793852137/locations/us-central1/featureOnlineStores/featurestore/featureViews/bq_feature_view/featureViewSyncs/4208798999227924480\"\n",
       "  create_time {\n",
       "    seconds: 1708041467\n",
       "    nanos: 578009000\n",
       "  }\n",
       "  run_time {\n",
       "    start_time {\n",
       "      seconds: 1708041467\n",
       "      nanos: 578009000\n",
       "    }\n",
       "    end_time {\n",
       "      seconds: 1708041504\n",
       "      nanos: 472163000\n",
       "    }\n",
       "  }\n",
       "  final_status {\n",
       "  }\n",
       "}\n",
       ">"
      ]
     },
     "execution_count": 245,
     "metadata": {},
     "output_type": "execute_result"
    }
   ],
   "source": [
    "online_admin_client.list_feature_view_syncs(parent = bq_view.name)"
   ]
  },
  {
   "cell_type": "code",
   "execution_count": 334,
   "id": "07159154-bd6a-4ea6-a9e0-c2a270af9f8a",
   "metadata": {
    "tags": []
   },
   "outputs": [
    {
     "name": "stdout",
     "output_type": "stream",
     "text": [
      "Review in the console:\n",
      "\n",
      "https://console.cloud.google.com/vertex-ai/locations/us-central1/online-stores/featurestore/feature-views/bq_feature_view?project=statmike-mlops-349915\n"
     ]
    }
   ],
   "source": [
    "print(f'Review in the console:\\n\\nhttps://console.cloud.google.com/vertex-ai/locations/{REGION}/online-stores/featurestore/feature-views/{BQ_FEATURE_VIEW_NAME}?project={PROJECT_ID}')"
   ]
  },
  {
   "cell_type": "markdown",
   "id": "ec76560b-26b3-4634-b16f-769d7c1166c7",
   "metadata": {},
   "source": [
    "### Online Serving From Feature Views\n",
    "\n",
    "Request feature values for and entity from a feature view:\n",
    "    \n",
    "**References:**\n",
    "- [Serve feature values](https://cloud.google.com/vertex-ai/docs/featurestore/latest/serve-feature-values)"
   ]
  },
  {
   "cell_type": "code",
   "execution_count": 233,
   "id": "c043e804-f0c0-4a90-97f5-fdfc596e81f3",
   "metadata": {
    "tags": []
   },
   "outputs": [],
   "source": [
    "online_serve_client = aiplatform.gapic.FeatureOnlineStoreServiceClient(client_options = dict(api_endpoint = f'{REGION}-aiplatform.googleapis.com'))"
   ]
  },
  {
   "cell_type": "code",
   "execution_count": 234,
   "id": "3d581fe9-749f-4d1e-902e-746cb52b425a",
   "metadata": {
    "tags": []
   },
   "outputs": [
    {
     "data": {
      "text/plain": [
       "'a50e10db-3573-4749-9ecb-309f5a4dc987'"
      ]
     },
     "execution_count": 234,
     "metadata": {},
     "output_type": "execute_result"
    }
   ],
   "source": [
    "example_entity"
   ]
  },
  {
   "cell_type": "code",
   "execution_count": 294,
   "id": "97da9e4f-63b4-46e6-a15e-a94e93d5f084",
   "metadata": {
    "tags": []
   },
   "outputs": [
    {
     "data": {
      "text/plain": [
       "{'v14': -0.964829191473946,\n",
       " 'v12': -1.0665184783586,\n",
       " 'v9': 0.17033769786237102,\n",
       " 'v8': 0.147772742443229,\n",
       " 'v25': -0.6395147739189879,\n",
       " 'v28': -0.0231421834269002,\n",
       " 'v5': -2.9067897799963904,\n",
       " 'v27': 0.0739527453274154,\n",
       " 'v22': 0.15264858896539701,\n",
       " 'v20': -0.566624448543521,\n",
       " 'v23': 0.4322817611050171,\n",
       " 'v17': 1.1853342859171698,\n",
       " 'v7': -2.100326174014,\n",
       " 'v6': -0.649764256663163,\n",
       " 'v3': 0.7210449871770799,\n",
       " 'v4': -0.924701055979975,\n",
       " 'v18': -0.0384228099450662,\n",
       " 'v21': -0.17301465753094503,\n",
       " 'v15': -1.0637317456920101,\n",
       " 'v11': -1.04281199064144,\n",
       " 'v10': 1.35375755940974,\n",
       " 'v16': -0.787845884246518,\n",
       " 'v2': -1.9506548012839198,\n",
       " 'v19': -0.287847177705979,\n",
       " 'amount': 27.0,\n",
       " 'v13': -1.49321985962412,\n",
       " 'time': 121839.0,\n",
       " 'v24': 0.87597920343245,\n",
       " 'v26': -0.24163617508098004,\n",
       " 'v1': 2.10733996277675}"
      ]
     },
     "execution_count": 294,
     "metadata": {},
     "output_type": "execute_result"
    }
   ],
   "source": [
    "dict(\n",
    "    online_serve_client.fetch_feature_values(\n",
    "        request = aiplatform.gapic.FetchFeatureValuesRequest(\n",
    "            feature_view = bq_view.name,\n",
    "            data_key = aiplatform.gapic.FeatureViewDataKey(key = example_entity),\n",
    "            data_format = aiplatform.gapic.FeatureViewDataFormat.PROTO_STRUCT # KEY_VALUE, PROTO_STRUCT\n",
    "        )\n",
    "    ).proto_struct\n",
    ")"
   ]
  },
  {
   "cell_type": "code",
   "execution_count": 295,
   "id": "4fddb7b6-43c0-4997-83ab-9e85fe84467a",
   "metadata": {
    "tags": []
   },
   "outputs": [
    {
     "data": {
      "text/plain": [
       "{'v14': -0.964829191473946,\n",
       " 'v12': -1.0665184783586,\n",
       " 'v9': 0.17033769786237102,\n",
       " 'v8': 0.147772742443229,\n",
       " 'v5': -2.9067897799963904,\n",
       " 'v28': -0.0231421834269002,\n",
       " 'v25': -0.6395147739189879,\n",
       " 'v27': 0.0739527453274154,\n",
       " 'v22': 0.15264858896539701,\n",
       " 'v20': -0.566624448543521,\n",
       " 'v23': 0.4322817611050171,\n",
       " 'v17': 1.1853342859171698,\n",
       " 'v7': -2.100326174014,\n",
       " 'v6': -0.649764256663163,\n",
       " 'feature_timestamp': 1708042205262472.0,\n",
       " 'v3': 0.7210449871770799,\n",
       " 'v4': -0.924701055979975,\n",
       " 'v18': -0.0384228099450662,\n",
       " 'v21': -0.17301465753094503,\n",
       " 'v11': -1.04281199064144,\n",
       " 'v15': -1.0637317456920101,\n",
       " 'v10': 1.35375755940974,\n",
       " 'v16': -0.787845884246518,\n",
       " 'v2': -1.9506548012839198,\n",
       " 'v19': -0.287847177705979,\n",
       " 'v13': -1.49321985962412,\n",
       " 'amount': 27.0,\n",
       " 'time': 121839.0,\n",
       " 'v24': 0.87597920343245,\n",
       " 'v26': -0.24163617508098004,\n",
       " 'v1': 2.10733996277675}"
      ]
     },
     "execution_count": 295,
     "metadata": {},
     "output_type": "execute_result"
    }
   ],
   "source": [
    "dict(\n",
    "    online_serve_client.fetch_feature_values(\n",
    "        request = aiplatform.gapic.FetchFeatureValuesRequest(\n",
    "            feature_view = registry_view.name,\n",
    "            data_key = aiplatform.gapic.FeatureViewDataKey(key = example_entity),\n",
    "            data_format = aiplatform.gapic.FeatureViewDataFormat.PROTO_STRUCT # KEY_VALUE, PROTO_STRUCT\n",
    "        )\n",
    "    ).proto_struct\n",
    ")"
   ]
  },
  {
   "cell_type": "markdown",
   "id": "26f6d6a9-32bd-401a-9c0f-496b12bd140d",
   "metadata": {},
   "source": [
    "---\n",
    "## Model Inference: Serving Using Feature Store\n",
    "\n",
    "In [this repository](https://github.com/statmike/vertex-ai-mlops), there are many notebook workflows that build models with the data source used for feature store here.  The notebook workflows in the [05 - Tensorflow](../05%20-%20TensorFlow/readme.md) folder all update the same endpoint.  If any of the notebook have been run then there will be an endpoint with model deployed to it.  This is used below to serve prediction using feature store as the source for instances.\n",
    "\n",
    "There are many ways to request online prediction from and endpoint and they are covered in [05Tools - Prediction - Online](../05%20-%20TensorFlow/05Tools%20-%20Prediction%20-%20Online.ipynb).\n"
   ]
  },
  {
   "cell_type": "markdown",
   "id": "0eb94b90-7cc9-47eb-a68d-314a6db1aa9b",
   "metadata": {},
   "source": [
    "### Get Endpoint\n",
    "\n",
    "[Endpoint Properties and Methods](https://cloud.google.com/python/docs/reference/aiplatform/latest/google.cloud.aiplatform.Endpoint):\n",
    "\n",
    "```python\n",
    "endpoint\n",
    "endpoint.display_name\n",
    "endpoint.resource_name\n",
    "endpoint.traffic_split\n",
    "endpoint.list_models()\n",
    "```"
   ]
  },
  {
   "cell_type": "code",
   "execution_count": 250,
   "id": "1ea9519a-0dee-4cf4-a767-f1dd23f61b50",
   "metadata": {
    "tags": []
   },
   "outputs": [
    {
     "name": "stdout",
     "output_type": "stream",
     "text": [
      "Endpoint Exists: projects/1026793852137/locations/us-central1/endpoints/725723853820526592\n"
     ]
    }
   ],
   "source": [
    "endpoints = aiplatform.Endpoint.list(filter = f\"labels.series=05 AND display_name=05\")\n",
    "if endpoints:\n",
    "    endpoint = endpoints[0]\n",
    "    print(f\"Endpoint Exists: {endpoints[0].resource_name}\")\n",
    "else:\n",
    "    print(f\"There does not appear to be an endpoint for SERIES = 05\")"
   ]
  },
  {
   "cell_type": "code",
   "execution_count": 251,
   "id": "fea66aa0-c4f3-4526-968a-10376f95ac09",
   "metadata": {
    "tags": []
   },
   "outputs": [
    {
     "data": {
      "text/plain": [
       "'05'"
      ]
     },
     "execution_count": 251,
     "metadata": {},
     "output_type": "execute_result"
    }
   ],
   "source": [
    "endpoint.display_name"
   ]
  },
  {
   "cell_type": "code",
   "execution_count": 333,
   "id": "dad5ad08-fa09-4669-b3b6-c7f5fcc6ca56",
   "metadata": {
    "tags": []
   },
   "outputs": [
    {
     "name": "stdout",
     "output_type": "stream",
     "text": [
      "Review the Endpoint in the Console:\n",
      "\n",
      "https://console.cloud.google.com/vertex-ai/locations/us-central1/endpoints/725723853820526592?project=statmike-mlops-349915\n"
     ]
    }
   ],
   "source": [
    "print(f'Review the Endpoint in the Console:\\n\\nhttps://console.cloud.google.com/vertex-ai/locations/{REGION}/endpoints/{endpoint.name}?project={PROJECT_ID}')"
   ]
  },
  {
   "cell_type": "code",
   "execution_count": 253,
   "id": "a9f9acb1-7d61-4dea-a29d-5916dc693279",
   "metadata": {
    "tags": []
   },
   "outputs": [
    {
     "data": {
      "text/plain": [
       "{'2423682068408958976': 100}"
      ]
     },
     "execution_count": 253,
     "metadata": {},
     "output_type": "execute_result"
    }
   ],
   "source": [
    "endpoint.traffic_split"
   ]
  },
  {
   "cell_type": "code",
   "execution_count": 254,
   "id": "3162d688-e573-410a-b2c3-8f9cfef560b6",
   "metadata": {
    "tags": []
   },
   "outputs": [
    {
     "data": {
      "text/plain": [
       "dedicated_resources {\n",
       "  machine_spec {\n",
       "    machine_type: \"n1-standard-4\"\n",
       "  }\n",
       "  min_replica_count: 1\n",
       "  max_replica_count: 1\n",
       "}\n",
       "id: \"2423682068408958976\"\n",
       "model: \"projects/1026793852137/locations/us-central1/models/model_05_05\"\n",
       "model_version_id: \"18\"\n",
       "display_name: \"05_05\"\n",
       "create_time {\n",
       "  seconds: 1703181253\n",
       "  nanos: 58849000\n",
       "}"
      ]
     },
     "execution_count": 254,
     "metadata": {},
     "output_type": "execute_result"
    }
   ],
   "source": [
    "endpoint.list_models()[0]"
   ]
  },
  {
   "cell_type": "markdown",
   "id": "e9dbacc8-e8bb-45c2-a142-69a3373e0e64",
   "metadata": {},
   "source": [
    "---\n",
    "### Get Predictions: Python Client\n",
    "\n",
    "[aiplatform.Endpoint.predict()](https://cloud.google.com/python/docs/reference/aiplatform/latest/google.cloud.aiplatform.Endpoint#google_cloud_aiplatform_Endpoint_predict)"
   ]
  },
  {
   "cell_type": "code",
   "execution_count": 345,
   "id": "0d78463e-fd33-4fed-b40a-30171e71cf11",
   "metadata": {
    "tags": []
   },
   "outputs": [],
   "source": [
    "instance = dict(\n",
    "    online_serve_client.fetch_feature_values(\n",
    "        request = aiplatform.gapic.FetchFeatureValuesRequest(\n",
    "            feature_view = registry_view.name,\n",
    "            data_key = aiplatform.gapic.FeatureViewDataKey(key = example_entity),\n",
    "            data_format = aiplatform.gapic.FeatureViewDataFormat.PROTO_STRUCT # KEY_VALUE, PROTO_STRUCT\n",
    "        )\n",
    "    ).proto_struct\n",
    ")"
   ]
  },
  {
   "cell_type": "code",
   "execution_count": 346,
   "id": "3aeb82ed-c383-4a73-b2e2-f0c4847880f5",
   "metadata": {
    "tags": []
   },
   "outputs": [
    {
     "data": {
      "text/plain": [
       "{'V14': [-0.964829191473946],\n",
       " 'V12': [-1.0665184783586],\n",
       " 'V9': [0.17033769786237102],\n",
       " 'V8': [0.147772742443229],\n",
       " 'V25': [-0.6395147739189879],\n",
       " 'V28': [-0.0231421834269002],\n",
       " 'V5': [-2.9067897799963904],\n",
       " 'V27': [0.0739527453274154],\n",
       " 'V22': [0.15264858896539701],\n",
       " 'V20': [-0.566624448543521],\n",
       " 'V23': [0.4322817611050171],\n",
       " 'V17': [1.1853342859171698],\n",
       " 'V7': [-2.100326174014],\n",
       " 'V6': [-0.649764256663163],\n",
       " 'V3': [0.7210449871770799],\n",
       " 'V4': [-0.924701055979975],\n",
       " 'V18': [-0.0384228099450662],\n",
       " 'V21': [-0.17301465753094503],\n",
       " 'V11': [-1.04281199064144],\n",
       " 'V15': [-1.0637317456920101],\n",
       " 'V10': [1.35375755940974],\n",
       " 'V16': [-0.787845884246518],\n",
       " 'V2': [-1.9506548012839198],\n",
       " 'V19': [-0.287847177705979],\n",
       " 'Amount': [27.0],\n",
       " 'V13': [-1.49321985962412],\n",
       " 'Time': [121839.0],\n",
       " 'V26': [-0.24163617508098004],\n",
       " 'V24': [0.87597920343245],\n",
       " 'V1': [2.10733996277675]}"
      ]
     },
     "execution_count": 346,
     "metadata": {},
     "output_type": "execute_result"
    }
   ],
   "source": [
    "instance = {key.capitalize():[val] for key, val in instance.items() if key not in ['feature_timestamp']}\n",
    "instance"
   ]
  },
  {
   "cell_type": "code",
   "execution_count": 347,
   "id": "41c93b47-fa7e-44a0-929a-4bb1b7482446",
   "metadata": {
    "tags": []
   },
   "outputs": [
    {
     "data": {
      "text/plain": [
       "Prediction(predictions=[[0.996969879, 0.00303014624]], deployed_model_id='2423682068408958976', model_version_id='18', model_resource_name='projects/1026793852137/locations/us-central1/models/model_05_05', explanations=None)"
      ]
     },
     "execution_count": 347,
     "metadata": {},
     "output_type": "execute_result"
    }
   ],
   "source": [
    "prediction = endpoint.predict(instances = [instance])\n",
    "prediction"
   ]
  },
  {
   "cell_type": "code",
   "execution_count": 348,
   "id": "807e6d28-193c-438e-ad11-cace612ab662",
   "metadata": {
    "tags": []
   },
   "outputs": [
    {
     "data": {
      "text/plain": [
       "[0.996969879, 0.00303014624]"
      ]
     },
     "execution_count": 348,
     "metadata": {},
     "output_type": "execute_result"
    }
   ],
   "source": [
    "prediction.predictions[0]"
   ]
  },
  {
   "cell_type": "code",
   "execution_count": 349,
   "id": "7c8b4451-4173-4851-9da9-ef579b77266d",
   "metadata": {
    "tags": []
   },
   "outputs": [
    {
     "data": {
      "text/plain": [
       "0"
      ]
     },
     "execution_count": 349,
     "metadata": {},
     "output_type": "execute_result"
    }
   ],
   "source": [
    "np.argmax(prediction.predictions[0])"
   ]
  },
  {
   "cell_type": "markdown",
   "id": "5e2da330-1ab7-413a-8391-e2f6bd9ed68d",
   "metadata": {},
   "source": [
    "## Cleanup\n",
    "\n",
    "This deletes the Feature Store objects: Registry Views, Online STore, Feature, then Feature Group, "
   ]
  },
  {
   "cell_type": "code",
   "execution_count": 219,
   "id": "58405d82-1c09-4133-b7be-11c404a96fd5",
   "metadata": {
    "tags": []
   },
   "outputs": [
    {
     "data": {
      "text/plain": []
     },
     "execution_count": 219,
     "metadata": {},
     "output_type": "execute_result"
    }
   ],
   "source": [
    "# delete registry view\n",
    "online_admin_client.delete_feature_view(name = registry_view.name)\n",
    "# delete bq view\n",
    "online_admin_client.delete_feature_view(name = bq_view.name)"
   ]
  },
  {
   "cell_type": "code",
   "execution_count": null,
   "id": "4364601d-1522-4ebe-b663-bdcbe3ac4f16",
   "metadata": {},
   "outputs": [],
   "source": [
    "# delete online store\n",
    "online_admin_client.delete_feature_online_store(name = online_store.name, force = True)"
   ]
  },
  {
   "cell_type": "code",
   "execution_count": 194,
   "id": "c46f1187-31aa-4664-9168-9e03bbe72965",
   "metadata": {
    "tags": []
   },
   "outputs": [],
   "source": [
    "# delete features\n",
    "for feature in features:\n",
    "    registry_client.delete_feature(name = feature.name)"
   ]
  },
  {
   "cell_type": "code",
   "execution_count": 195,
   "id": "47a3ae7d-1671-4d17-b914-2bc035ee3f90",
   "metadata": {
    "tags": []
   },
   "outputs": [
    {
     "data": {
      "text/plain": []
     },
     "execution_count": 195,
     "metadata": {},
     "output_type": "execute_result"
    }
   ],
   "source": [
    "# delete feature group\n",
    "registry_client.delete_feature_group(name = feature_group.name)"
   ]
  },
  {
   "cell_type": "code",
   "execution_count": null,
   "id": "ea1c7eb4-9404-420d-ba74-672931f0be54",
   "metadata": {},
   "outputs": [],
   "source": []
  },
  {
   "cell_type": "code",
   "execution_count": null,
   "id": "5c1401b9-fac8-4bee-8c0d-e693b7695a7d",
   "metadata": {},
   "outputs": [],
   "source": []
  },
  {
   "cell_type": "code",
   "execution_count": null,
   "id": "c4bf52aa-0f20-4124-bf30-730984582a9d",
   "metadata": {},
   "outputs": [],
   "source": []
  }
 ],
 "metadata": {
  "environment": {
   "kernel": "conda-root-py",
   "name": "workbench-notebooks.m113",
   "type": "gcloud",
   "uri": "gcr.io/deeplearning-platform-release/workbench-notebooks:m113"
  },
  "kernelspec": {
   "display_name": "Python 3 (ipykernel) (Local)",
   "language": "python",
   "name": "conda-root-py"
  },
  "language_info": {
   "codemirror_mode": {
    "name": "ipython",
    "version": 3
   },
   "file_extension": ".py",
   "mimetype": "text/x-python",
   "name": "python",
   "nbconvert_exporter": "python",
   "pygments_lexer": "ipython3",
   "version": "3.10.13"
  }
 },
 "nbformat": 4,
 "nbformat_minor": 5
}
