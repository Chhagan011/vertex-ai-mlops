{
 "cells": [
  {
   "cell_type": "markdown",
   "id": "18ebc158",
   "metadata": {},
   "source": [
    "![ga4](https://www.google-analytics.com/collect?v=2&tid=G-6VDTYWLKX6&cid=1&en=page_view&sid=1&dl=statmike%2Fvertex-ai-mlops%2FDev%2Fnew&dt=sklearn-test.ipynb)\n",
    "<!--- header table --->\n",
    "<table align=\"left\">\n",
    "  <td style=\"text-align: center\">\n",
    "    <a href=\"https://colab.research.google.com/github/statmike/vertex-ai-mlops/blob/main/Dev/new/sklearn-test.ipynb\">\n",
    "      <img src=\"https://cloud.google.com/ml-engine/images/colab-logo-32px.png\" alt=\"Google Colaboratory logo\">\n",
    "      <br>Run in<br>Colab\n",
    "    </a>\n",
    "  </td>\n",
    "  <td style=\"text-align: center\">\n",
    "    <a href=\"https://console.cloud.google.com/vertex-ai/colab/import/https%3A//raw.githubusercontent.com/statmike/vertex-ai-mlops/main/Dev/new/sklearn-test.ipynb\">\n",
    "      <img width=\"32px\" src=\"https://lh3.googleusercontent.com/JmcxdQi-qOpctIvWKgPtrzZdJJK-J3sWE1RsfjZNwshCFgE_9fULcNpuXYTilIR2hjwN\" alt=\"Google Cloud Colab Enterprise logo\">\n",
    "      <br>Run in<br>Colab Enterprise\n",
    "    </a>\n",
    "  </td>      \n",
    "  <td style=\"text-align: center\">\n",
    "    <a href=\"https://github.com/statmike/vertex-ai-mlops/blob/main/Dev/new/sklearn-test.ipynb\">\n",
    "      <img src=\"https://cloud.google.com/ml-engine/images/github-logo-32px.png\" alt=\"GitHub logo\">\n",
    "      <br>View on<br>GitHub\n",
    "    </a>\n",
    "  </td>\n",
    "  <td style=\"text-align: center\">\n",
    "    <a href=\"https://console.cloud.google.com/vertex-ai/workbench/deploy-notebook?download_url=https%3A//raw.githubusercontent.com/statmike/vertex-ai-mlops/main/Dev/new/sklearn-test.ipynb\">\n",
    "      <img src=\"https://lh3.googleusercontent.com/UiNooY4LUgW_oTvpsNhPpQzsstV5W8F7rYgxgGBD85cWJoLmrOzhVs_ksK_vgx40SHs7jCqkTkCk=e14-rj-sc0xffffff-h130-w32\" alt=\"Vertex AI logo\">\n",
    "      <br>Open in<br>Vertex AI Workbench\n",
    "    </a>\n",
    "  </td>\n",
    "</table>"
   ]
  },
  {
   "cell_type": "markdown",
   "id": "d66034e2-ad67-46ff-abe5-fbba3bfb93f6",
   "metadata": {},
   "source": [
    "# Scikit-Learn Workflow\n",
    "\n",
    "A new template workflow for [scikit-Learn](https://scikit-learn.org/stable/index.html) model training and serving workflows in Vertex AI.\n",
    "\n",
    "**Prerequisites:**\n",
    "-  [01 - BigQuery - Table Data Source](../01%20-%20Data%20Sources/01%20-%20BigQuery%20-%20Table%20Data%20Source.ipynb)"
   ]
  },
  {
   "cell_type": "markdown",
   "id": "1a2259ef-f57b-4795-9a7b-af2f6b11161d",
   "metadata": {
    "id": "od_UkDpvRmgD",
    "tags": []
   },
   "source": [
    "---\n",
    "## Colab Setup\n",
    "\n",
    "To run this notebook in Colab run the cells in this section.  Otherwise, skip this section.\n",
    "\n",
    "This cell will authenticate to GCP (follow prompts in the popup)."
   ]
  },
  {
   "cell_type": "code",
   "execution_count": 11,
   "id": "8c921939-af59-48ec-ab2f-296b2329b360",
   "metadata": {
    "executionInfo": {
     "elapsed": 195,
     "status": "ok",
     "timestamp": 1683726184843,
     "user": {
      "displayName": "Mike Henderson",
      "userId": "07691629187611687318"
     },
     "user_tz": 240
    },
    "id": "8UO9FnqyKBlF",
    "tags": []
   },
   "outputs": [],
   "source": [
    "PROJECT_ID = 'statmike-mlops-349915' # replace with project ID"
   ]
  },
  {
   "cell_type": "code",
   "execution_count": 12,
   "id": "09a9c185-7175-4e6a-8f0f-0d346cfdce46",
   "metadata": {
    "colab": {
     "base_uri": "https://localhost:8080/"
    },
    "executionInfo": {
     "elapsed": 68869,
     "status": "ok",
     "timestamp": 1683726253709,
     "user": {
      "displayName": "Mike Henderson",
      "userId": "07691629187611687318"
     },
     "user_tz": 240
    },
    "id": "N98-KK7LRkjm",
    "outputId": "09ec5008-0def-4e1a-c349-c598ee752f78",
    "tags": []
   },
   "outputs": [
    {
     "name": "stdout",
     "output_type": "stream",
     "text": [
      "Not a Colab Environment\n"
     ]
    }
   ],
   "source": [
    "try:\n",
    "    from google.colab import auth\n",
    "    auth.authenticate_user()\n",
    "    !gcloud config set project {PROJECT_ID}\n",
    "    print('Colab authorized to GCP')\n",
    "except Exception:\n",
    "    print('Not a Colab Environment')\n",
    "    pass"
   ]
  },
  {
   "cell_type": "markdown",
   "id": "485b0400-7be7-406e-a5ba-160d1e7acfb1",
   "metadata": {},
   "source": [
    "---\n",
    "## Installs\n",
    "\n",
    "The list `packages` contains tuples of package import names and install names.  If the import name is not found then the install name is used to install quitely for the current user."
   ]
  },
  {
   "cell_type": "code",
   "execution_count": 53,
   "id": "38fb5870-5930-491d-bbc6-fc87becaafc0",
   "metadata": {
    "tags": []
   },
   "outputs": [],
   "source": [
    "# tuples of (import name, install name, min_version)\n",
    "packages = [\n",
    "    ('google.cloud.aiplatform', 'google-cloud-aiplatform'),\n",
    "    ('google.cloud.bigquery', 'google-cloud-bigquery'),\n",
    "    ('google.cloud.storage', 'google-cloud-storage'),\n",
    "    ('bigframes', 'bigframes'),\n",
    "    ('kfp', 'kfp'),\n",
    "    ('google.cloud.artifactregistry_v1', 'google-cloud-artifact-registry')\n",
    "]\n",
    "\n",
    "import importlib\n",
    "install = False\n",
    "for package in packages:\n",
    "    if not importlib.util.find_spec(package[0]):\n",
    "        print(f'installing package {package[1]}')\n",
    "        install = True\n",
    "        !pip install {package[1]} -U -q --user\n",
    "    elif len(package) == 3:\n",
    "        if importlib.metadata.version(package[0]) < package[2]:\n",
    "            print(f'updating package {package[1]}')\n",
    "            install = True\n",
    "            !pip install {package[1]} -U -q --user"
   ]
  },
  {
   "cell_type": "markdown",
   "id": "f9eb9be2-42af-4a0c-a097-251b7c34571a",
   "metadata": {},
   "source": [
    "## API Enablement"
   ]
  },
  {
   "cell_type": "code",
   "execution_count": 54,
   "id": "9c7e53f2-5df7-47b1-8765-ef636e0fc38a",
   "metadata": {
    "tags": []
   },
   "outputs": [],
   "source": [
    "!gcloud services enable aiplatform.googleapis.com\n",
    "!gcloud services enable artifactregistry.googleapis.com"
   ]
  },
  {
   "cell_type": "markdown",
   "id": "2c7ef0bd-8095-4c0e-8ceb-0f9ff891e171",
   "metadata": {},
   "source": [
    "### Restart Kernel (If Installs Occured)\n",
    "\n",
    "After a kernel restart the code submission can start with the next cell after this one."
   ]
  },
  {
   "cell_type": "code",
   "execution_count": 55,
   "id": "352989af-91cc-4a5b-a6d6-7daf52fca9f6",
   "metadata": {
    "tags": []
   },
   "outputs": [],
   "source": [
    "if install:\n",
    "    import IPython\n",
    "    app = IPython.Application.instance()\n",
    "    app.kernel.do_shutdown(True)"
   ]
  },
  {
   "cell_type": "markdown",
   "id": "6bee84bd-206f-4b6d-9d43-5d0b699818b0",
   "metadata": {
    "id": "appt8-yVRtJ1"
   },
   "source": [
    "---\n",
    "## Setup"
   ]
  },
  {
   "cell_type": "markdown",
   "id": "2ab28826-fd46-48de-a801-bc491c4f3aa0",
   "metadata": {
    "id": "63mx2EozRxFP"
   },
   "source": [
    "Inputs"
   ]
  },
  {
   "cell_type": "code",
   "execution_count": 56,
   "id": "4b436aa6-2cea-4bc8-b8cf-68857f6aa971",
   "metadata": {
    "colab": {
     "base_uri": "https://localhost:8080/",
     "height": 35
    },
    "executionInfo": {
     "elapsed": 2124,
     "status": "ok",
     "timestamp": 1683726390544,
     "user": {
      "displayName": "Mike Henderson",
      "userId": "07691629187611687318"
     },
     "user_tz": 240
    },
    "id": "xzcoXjM5Rky5",
    "outputId": "b3bdcbc1-70d5-472e-aea2-42c74a42efde",
    "tags": []
   },
   "outputs": [
    {
     "data": {
      "text/plain": [
       "'statmike-mlops-349915'"
      ]
     },
     "execution_count": 56,
     "metadata": {},
     "output_type": "execute_result"
    }
   ],
   "source": [
    "project = !gcloud config get-value project\n",
    "PROJECT_ID = project[0]\n",
    "PROJECT_ID"
   ]
  },
  {
   "cell_type": "code",
   "execution_count": 57,
   "id": "607795fc-b7cd-47df-8f33-36115f9ca9fe",
   "metadata": {
    "executionInfo": {
     "elapsed": 2,
     "status": "ok",
     "timestamp": 1683726390712,
     "user": {
      "displayName": "Mike Henderson",
      "userId": "07691629187611687318"
     },
     "user_tz": 240
    },
    "id": "IxWrFtqYMfku",
    "tags": []
   },
   "outputs": [],
   "source": [
    "REGION = 'us-central1'\n",
    "EXPERIMENT = 'sklearn-workflow'\n",
    "SERIES = 'dev'\n",
    "\n",
    "# gcs bucket\n",
    "GCS_BUCKET = PROJECT_ID\n",
    "\n",
    "# source data\n",
    "BQ_PROJECT = PROJECT_ID\n",
    "BQ_DATASET = 'fraud'\n",
    "BQ_TABLE = 'fraud_prepped'"
   ]
  },
  {
   "cell_type": "markdown",
   "id": "bd44b148-30cc-41ab-bf47-b2b4d7f5df89",
   "metadata": {
    "id": "LuajVwCiO6Yg"
   },
   "source": [
    "Packages"
   ]
  },
  {
   "cell_type": "code",
   "execution_count": 58,
   "id": "db48a565-10ed-4ee3-9580-5b539a3a6a56",
   "metadata": {
    "executionInfo": {
     "elapsed": 17761,
     "status": "ok",
     "timestamp": 1683726409304,
     "user": {
      "displayName": "Mike Henderson",
      "userId": "07691629187611687318"
     },
     "user_tz": 240
    },
    "id": "LVC7zzSLRk2C",
    "tags": []
   },
   "outputs": [],
   "source": [
    "import os\n",
    "import sklearn.ensemble\n",
    "import pickle\n",
    "import importlib\n",
    "import time\n",
    "from datetime import datetime\n",
    "from google.cloud import aiplatform\n",
    "from google.cloud import bigquery\n",
    "from google.cloud import artifactregistry_v1\n",
    "from google.cloud import storage\n",
    "import bigframes.pandas as bpd\n",
    "\n",
    "import kfp"
   ]
  },
  {
   "cell_type": "markdown",
   "id": "414d236c-9f28-4528-9b6a-596ade0c5b2d",
   "metadata": {
    "id": "EyAVFG9TO9H-"
   },
   "source": [
    "Clients"
   ]
  },
  {
   "cell_type": "code",
   "execution_count": 59,
   "id": "f2a082a3-43db-4b46-9c56-ca3fcb0e6d6e",
   "metadata": {
    "executionInfo": {
     "elapsed": 19,
     "status": "ok",
     "timestamp": 1683726409306,
     "user": {
      "displayName": "Mike Henderson",
      "userId": "07691629187611687318"
     },
     "user_tz": 240
    },
    "id": "L0RPE13LOZce",
    "tags": []
   },
   "outputs": [],
   "source": [
    "# vertex ai clients\n",
    "aiplatform.init(project = PROJECT_ID, location = REGION)\n",
    "\n",
    "# artifact registry client\n",
    "ar_client = artifactregistry_v1.ArtifactRegistryClient()\n",
    "\n",
    "# gcs storage client\n",
    "gcs = storage.Client(project = PROJECT_ID)\n",
    "\n",
    "# bigquery clients\n",
    "bq = bigquery.Client(project = PROJECT_ID)\n",
    "bpd.options.bigquery.project = PROJECT_ID"
   ]
  },
  {
   "cell_type": "markdown",
   "id": "05adf2be-510f-40a9-a9a2-3803a63b6172",
   "metadata": {},
   "source": [
    "parameters:"
   ]
  },
  {
   "cell_type": "code",
   "execution_count": 60,
   "id": "4318c193-acec-4ac4-b921-23ced9f7e60b",
   "metadata": {
    "tags": []
   },
   "outputs": [],
   "source": [
    "DIR = f\"temp/{EXPERIMENT}\"\n",
    "TIMESTAMP = datetime.now().strftime(\"%Y%m%d%H%M%S\")"
   ]
  },
  {
   "cell_type": "code",
   "execution_count": 61,
   "id": "57ecf778-104b-4be7-b7f3-59bb327933bc",
   "metadata": {
    "tags": []
   },
   "outputs": [],
   "source": [
    "RUN_NAME = f'run-{TIMESTAMP}'"
   ]
  },
  {
   "cell_type": "code",
   "execution_count": 62,
   "id": "1acb65aa-3ac8-4905-b87b-5a65fe9900f7",
   "metadata": {
    "tags": []
   },
   "outputs": [
    {
     "data": {
      "text/plain": [
       "'1026793852137-compute@developer.gserviceaccount.com'"
      ]
     },
     "execution_count": 62,
     "metadata": {},
     "output_type": "execute_result"
    }
   ],
   "source": [
    "SERVICE_ACCOUNT = !gcloud config list --format='value(core.account)' \n",
    "SERVICE_ACCOUNT = SERVICE_ACCOUNT[0]\n",
    "SERVICE_ACCOUNT"
   ]
  },
  {
   "cell_type": "markdown",
   "id": "5bcf4774-a890-4361-8519-a7867694fa58",
   "metadata": {},
   "source": [
    "environment:"
   ]
  },
  {
   "cell_type": "code",
   "execution_count": 63,
   "id": "7d83c621-dd0d-4223-9d95-04c4b3b61e8d",
   "metadata": {
    "tags": []
   },
   "outputs": [],
   "source": [
    "if not os.path.exists(DIR):\n",
    "    os.makedirs(DIR)"
   ]
  },
  {
   "cell_type": "markdown",
   "id": "9b1c11c8-9929-4fb5-8c64-8b7adb168783",
   "metadata": {},
   "source": [
    "---\n",
    "## Data Source"
   ]
  },
  {
   "cell_type": "code",
   "execution_count": 13,
   "id": "788457c6-25b8-42ed-a914-254a47107cf5",
   "metadata": {
    "tags": []
   },
   "outputs": [],
   "source": [
    "data = bq.query(f'SELECT * FROM {BQ_PROJECT}.{BQ_DATASET}.{BQ_TABLE}').to_dataframe()"
   ]
  },
  {
   "cell_type": "code",
   "execution_count": 14,
   "id": "0716f734-8c0a-4c01-b09f-d62df16aeae8",
   "metadata": {
    "tags": []
   },
   "outputs": [
    {
     "data": {
      "text/html": [
       "<div>\n",
       "<style scoped>\n",
       "    .dataframe tbody tr th:only-of-type {\n",
       "        vertical-align: middle;\n",
       "    }\n",
       "\n",
       "    .dataframe tbody tr th {\n",
       "        vertical-align: top;\n",
       "    }\n",
       "\n",
       "    .dataframe thead th {\n",
       "        text-align: right;\n",
       "    }\n",
       "</style>\n",
       "<table border=\"1\" class=\"dataframe\">\n",
       "  <thead>\n",
       "    <tr style=\"text-align: right;\">\n",
       "      <th></th>\n",
       "      <th>Time</th>\n",
       "      <th>V1</th>\n",
       "      <th>V2</th>\n",
       "      <th>V3</th>\n",
       "      <th>V4</th>\n",
       "      <th>V5</th>\n",
       "      <th>V6</th>\n",
       "      <th>V7</th>\n",
       "      <th>V8</th>\n",
       "      <th>V9</th>\n",
       "      <th>...</th>\n",
       "      <th>V23</th>\n",
       "      <th>V24</th>\n",
       "      <th>V25</th>\n",
       "      <th>V26</th>\n",
       "      <th>V27</th>\n",
       "      <th>V28</th>\n",
       "      <th>Amount</th>\n",
       "      <th>Class</th>\n",
       "      <th>transaction_id</th>\n",
       "      <th>splits</th>\n",
       "    </tr>\n",
       "  </thead>\n",
       "  <tbody>\n",
       "    <tr>\n",
       "      <th>0</th>\n",
       "      <td>35337</td>\n",
       "      <td>1.092844</td>\n",
       "      <td>-0.013230</td>\n",
       "      <td>1.359829</td>\n",
       "      <td>2.731537</td>\n",
       "      <td>-0.707357</td>\n",
       "      <td>0.873837</td>\n",
       "      <td>-0.796130</td>\n",
       "      <td>0.437707</td>\n",
       "      <td>0.396770</td>\n",
       "      <td>...</td>\n",
       "      <td>-0.167647</td>\n",
       "      <td>0.027557</td>\n",
       "      <td>0.592115</td>\n",
       "      <td>0.219695</td>\n",
       "      <td>0.036970</td>\n",
       "      <td>0.010984</td>\n",
       "      <td>0.0</td>\n",
       "      <td>0</td>\n",
       "      <td>a1b10547-d270-48c0-b902-7a0f735dadc7</td>\n",
       "      <td>TEST</td>\n",
       "    </tr>\n",
       "    <tr>\n",
       "      <th>1</th>\n",
       "      <td>60481</td>\n",
       "      <td>1.238973</td>\n",
       "      <td>0.035226</td>\n",
       "      <td>0.063003</td>\n",
       "      <td>0.641406</td>\n",
       "      <td>-0.260893</td>\n",
       "      <td>-0.580097</td>\n",
       "      <td>0.049938</td>\n",
       "      <td>-0.034733</td>\n",
       "      <td>0.405932</td>\n",
       "      <td>...</td>\n",
       "      <td>-0.057718</td>\n",
       "      <td>0.104983</td>\n",
       "      <td>0.537987</td>\n",
       "      <td>0.589563</td>\n",
       "      <td>-0.046207</td>\n",
       "      <td>-0.006212</td>\n",
       "      <td>0.0</td>\n",
       "      <td>0</td>\n",
       "      <td>814c62c8-ade4-47d5-bf83-313b0aafdee5</td>\n",
       "      <td>TEST</td>\n",
       "    </tr>\n",
       "    <tr>\n",
       "      <th>2</th>\n",
       "      <td>139587</td>\n",
       "      <td>1.870539</td>\n",
       "      <td>0.211079</td>\n",
       "      <td>0.224457</td>\n",
       "      <td>3.889486</td>\n",
       "      <td>-0.380177</td>\n",
       "      <td>0.249799</td>\n",
       "      <td>-0.577133</td>\n",
       "      <td>0.179189</td>\n",
       "      <td>-0.120462</td>\n",
       "      <td>...</td>\n",
       "      <td>0.180776</td>\n",
       "      <td>-0.060226</td>\n",
       "      <td>-0.228979</td>\n",
       "      <td>0.080827</td>\n",
       "      <td>0.009868</td>\n",
       "      <td>-0.036997</td>\n",
       "      <td>0.0</td>\n",
       "      <td>0</td>\n",
       "      <td>d08a1bfa-85c5-4f1b-9537-1c5a93e6afd0</td>\n",
       "      <td>TEST</td>\n",
       "    </tr>\n",
       "    <tr>\n",
       "      <th>3</th>\n",
       "      <td>162908</td>\n",
       "      <td>-3.368339</td>\n",
       "      <td>-1.980442</td>\n",
       "      <td>0.153645</td>\n",
       "      <td>-0.159795</td>\n",
       "      <td>3.847169</td>\n",
       "      <td>-3.516873</td>\n",
       "      <td>-1.209398</td>\n",
       "      <td>-0.292122</td>\n",
       "      <td>0.760543</td>\n",
       "      <td>...</td>\n",
       "      <td>-1.171627</td>\n",
       "      <td>0.214333</td>\n",
       "      <td>-0.159652</td>\n",
       "      <td>-0.060883</td>\n",
       "      <td>1.294977</td>\n",
       "      <td>0.120503</td>\n",
       "      <td>0.0</td>\n",
       "      <td>0</td>\n",
       "      <td>802f3307-8e5a-4475-b795-5d5d8d7d0120</td>\n",
       "      <td>TEST</td>\n",
       "    </tr>\n",
       "    <tr>\n",
       "      <th>4</th>\n",
       "      <td>165236</td>\n",
       "      <td>2.180149</td>\n",
       "      <td>0.218732</td>\n",
       "      <td>-2.637726</td>\n",
       "      <td>0.348776</td>\n",
       "      <td>1.063546</td>\n",
       "      <td>-1.249197</td>\n",
       "      <td>0.942021</td>\n",
       "      <td>-0.547652</td>\n",
       "      <td>-0.087823</td>\n",
       "      <td>...</td>\n",
       "      <td>-0.176957</td>\n",
       "      <td>0.563779</td>\n",
       "      <td>0.730183</td>\n",
       "      <td>0.707494</td>\n",
       "      <td>-0.131066</td>\n",
       "      <td>-0.090428</td>\n",
       "      <td>0.0</td>\n",
       "      <td>0</td>\n",
       "      <td>c8a5b93a-1598-4689-80be-4f9f5df0b8ce</td>\n",
       "      <td>TEST</td>\n",
       "    </tr>\n",
       "  </tbody>\n",
       "</table>\n",
       "<p>5 rows × 33 columns</p>\n",
       "</div>"
      ],
      "text/plain": [
       "     Time        V1        V2        V3        V4        V5        V6  \\\n",
       "0   35337  1.092844 -0.013230  1.359829  2.731537 -0.707357  0.873837   \n",
       "1   60481  1.238973  0.035226  0.063003  0.641406 -0.260893 -0.580097   \n",
       "2  139587  1.870539  0.211079  0.224457  3.889486 -0.380177  0.249799   \n",
       "3  162908 -3.368339 -1.980442  0.153645 -0.159795  3.847169 -3.516873   \n",
       "4  165236  2.180149  0.218732 -2.637726  0.348776  1.063546 -1.249197   \n",
       "\n",
       "         V7        V8        V9  ...       V23       V24       V25       V26  \\\n",
       "0 -0.796130  0.437707  0.396770  ... -0.167647  0.027557  0.592115  0.219695   \n",
       "1  0.049938 -0.034733  0.405932  ... -0.057718  0.104983  0.537987  0.589563   \n",
       "2 -0.577133  0.179189 -0.120462  ...  0.180776 -0.060226 -0.228979  0.080827   \n",
       "3 -1.209398 -0.292122  0.760543  ... -1.171627  0.214333 -0.159652 -0.060883   \n",
       "4  0.942021 -0.547652 -0.087823  ... -0.176957  0.563779  0.730183  0.707494   \n",
       "\n",
       "        V27       V28  Amount  Class                        transaction_id  \\\n",
       "0  0.036970  0.010984     0.0      0  a1b10547-d270-48c0-b902-7a0f735dadc7   \n",
       "1 -0.046207 -0.006212     0.0      0  814c62c8-ade4-47d5-bf83-313b0aafdee5   \n",
       "2  0.009868 -0.036997     0.0      0  d08a1bfa-85c5-4f1b-9537-1c5a93e6afd0   \n",
       "3  1.294977  0.120503     0.0      0  802f3307-8e5a-4475-b795-5d5d8d7d0120   \n",
       "4 -0.131066 -0.090428     0.0      0  c8a5b93a-1598-4689-80be-4f9f5df0b8ce   \n",
       "\n",
       "   splits  \n",
       "0    TEST  \n",
       "1    TEST  \n",
       "2    TEST  \n",
       "3    TEST  \n",
       "4    TEST  \n",
       "\n",
       "[5 rows x 33 columns]"
      ]
     },
     "execution_count": 14,
     "metadata": {},
     "output_type": "execute_result"
    }
   ],
   "source": [
    "data.head()"
   ]
  },
  {
   "cell_type": "markdown",
   "id": "37a80197-5408-46a4-98e1-117d0da37476",
   "metadata": {},
   "source": [
    "---\n",
    "## Model Training: Local\n",
    "\n",
    "https://scikit-learn.org/stable/modules/generated/sklearn.ensemble.HistGradientBoostingClassifier.html"
   ]
  },
  {
   "cell_type": "code",
   "execution_count": 92,
   "id": "ab9d2fef-34fd-42f3-ab43-c31460d33185",
   "metadata": {
    "tags": []
   },
   "outputs": [],
   "source": [
    "train_x = data.loc[data['splits']=='TRAIN', ~data.columns.isin(['transaction_id', 'splits'])]\n",
    "train_y = train_x.pop('Class').astype('int')"
   ]
  },
  {
   "cell_type": "code",
   "execution_count": 93,
   "id": "c6066164-59f0-41bf-8569-08e38368a37c",
   "metadata": {
    "tags": []
   },
   "outputs": [],
   "source": [
    "classifier = sklearn.ensemble.HistGradientBoostingClassifier().fit(train_x, train_y)"
   ]
  },
  {
   "cell_type": "code",
   "execution_count": 94,
   "id": "6ad33893-5476-4a25-bafd-ffa8113bc05d",
   "metadata": {
    "tags": []
   },
   "outputs": [
    {
     "data": {
      "text/plain": [
       "0.9984083205808972"
      ]
     },
     "execution_count": 94,
     "metadata": {},
     "output_type": "execute_result"
    }
   ],
   "source": [
    "classifier.score(train_x, train_y)"
   ]
  },
  {
   "cell_type": "code",
   "execution_count": 95,
   "id": "a611498f-b1b2-4716-af72-2d4b5ca21541",
   "metadata": {
    "tags": []
   },
   "outputs": [
    {
     "data": {
      "text/plain": [
       "(array([0, 0, 0, 0, 0]), array([0, 0, 0, 0, 0]))"
      ]
     },
     "execution_count": 95,
     "metadata": {},
     "output_type": "execute_result"
    }
   ],
   "source": [
    "classifier.predict(train_x[0:5]), train_y[0:5].values"
   ]
  },
  {
   "cell_type": "code",
   "execution_count": 96,
   "id": "67390357-3c26-4df3-a94b-adea8200e555",
   "metadata": {
    "tags": []
   },
   "outputs": [
    {
     "data": {
      "text/plain": [
       "array([[0.99854863, 0.00145137],\n",
       "       [0.99854863, 0.00145137],\n",
       "       [0.99854863, 0.00145137],\n",
       "       [0.99854863, 0.00145137],\n",
       "       [0.99854863, 0.00145137]])"
      ]
     },
     "execution_count": 96,
     "metadata": {},
     "output_type": "execute_result"
    }
   ],
   "source": [
    "classifier.predict_proba(train_x[0:5])"
   ]
  },
  {
   "cell_type": "code",
   "execution_count": 114,
   "id": "7df649d4-5ea8-4c39-804f-4e98801a0202",
   "metadata": {
    "tags": []
   },
   "outputs": [
    {
     "data": {
      "text/plain": [
       "array([0, 1])"
      ]
     },
     "execution_count": 114,
     "metadata": {},
     "output_type": "execute_result"
    }
   ],
   "source": [
    "classifier.classes_"
   ]
  },
  {
   "cell_type": "code",
   "execution_count": 155,
   "id": "546ca900-5ff7-44bd-a17d-23b294f913cc",
   "metadata": {
    "tags": []
   },
   "outputs": [],
   "source": [
    "with open(f'{DIR}/model.pkl','wb') as f:\n",
    "    pickle.dump(classifier, f)"
   ]
  },
  {
   "cell_type": "code",
   "execution_count": 156,
   "id": "f35ff737-39e2-4aca-8d66-7a63a5aab71c",
   "metadata": {
    "tags": []
   },
   "outputs": [],
   "source": [
    "with open(f'{DIR}/model.pkl','rb') as f:\n",
    "    classifier_import = pickle.load(f)"
   ]
  },
  {
   "cell_type": "code",
   "execution_count": 160,
   "id": "7477b146-4580-40cc-b256-6ff85230dede",
   "metadata": {
    "tags": []
   },
   "outputs": [
    {
     "data": {
      "text/plain": [
       "array([[0.99854863, 0.00145137],\n",
       "       [0.99854863, 0.00145137],\n",
       "       [0.99854863, 0.00145137],\n",
       "       [0.99854863, 0.00145137],\n",
       "       [0.99854863, 0.00145137]])"
      ]
     },
     "execution_count": 160,
     "metadata": {},
     "output_type": "execute_result"
    }
   ],
   "source": [
    "classifier_import.predict_proba(train_x[0:5])"
   ]
  },
  {
   "cell_type": "code",
   "execution_count": 290,
   "id": "4f8d6b46-18f9-482d-a37f-4ea60fcf8873",
   "metadata": {
    "tags": []
   },
   "outputs": [
    {
     "data": {
      "text/plain": [
       "[{'classes': [0, 1], 'scores': [0.9985486267744933, 0.0014513732255066786]},\n",
       " {'classes': [0, 1], 'scores': [0.9985486267744933, 0.0014513732255066786]},\n",
       " {'classes': [0, 1], 'scores': [0.9985486267744933, 0.0014513732255066786]},\n",
       " {'classes': [0, 1], 'scores': [0.9985486267744933, 0.0014513732255066786]},\n",
       " {'classes': [0, 1], 'scores': [0.9985486267744933, 0.0014513732255066786]}]"
      ]
     },
     "execution_count": 290,
     "metadata": {},
     "output_type": "execute_result"
    }
   ],
   "source": [
    "predictions = [\n",
    "    dict(\n",
    "        classes = list(classifier.classes_),\n",
    "        scores = list(val)\n",
    "    )\n",
    "    for val in list(classifier.predict_proba(train_x[0:5]))\n",
    "]\n",
    "predictions"
   ]
  },
  {
   "cell_type": "code",
   "execution_count": null,
   "id": "48ff9e1f-4ee5-48dc-a42d-e6b62c7d7a6d",
   "metadata": {},
   "outputs": [],
   "source": []
  },
  {
   "cell_type": "markdown",
   "id": "a3953134-aa6f-407f-b099-20e7266b4ac3",
   "metadata": {},
   "source": [
    "---\n",
    "## Model Training: Vertex AI Training Custom Job\n",
    "-https://cloud.google.com/vertex-ai/docs/training/create-custom-job#create_custom_job-python_vertex_ai_sdk\n",
    "-https://cloud.google.com/vertex-ai/docs/training/exporting-model-artifacts#scikit-learn"
   ]
  },
  {
   "cell_type": "code",
   "execution_count": 104,
   "id": "1c96f03b-9843-46cc-bd33-3cb0c3cc4a08",
   "metadata": {
    "tags": []
   },
   "outputs": [
    {
     "name": "stdout",
     "output_type": "stream",
     "text": [
      "Overwriting temp/sklearn-workflow/train.py\n"
     ]
    }
   ],
   "source": [
    "%%writefile {DIR}/train.py\n",
    "# imports\n",
    "from google.cloud import bigquery\n",
    "import sklearn.ensemble\n",
    "import argparse\n",
    "import pickle\n",
    "import os\n",
    "import logging\n",
    "\n",
    "# setup logging\n",
    "logger = logging.getLogger()\n",
    "logger.setLevel(logging.INFO)\n",
    "logger.addHandler(logging.StreamHandler())\n",
    "\n",
    "# import argument to local variables\n",
    "parser = argparse.ArgumentParser()\n",
    "parser.add_argument('--project_id', dest = 'PROJECT_ID', type=str)\n",
    "parser.add_argument('--bq_project', dest = 'BQ_PROJECT', type=str)\n",
    "parser.add_argument('--bq_dataset', dest = 'BQ_DATASET', type=str)\n",
    "parser.add_argument('--bq_table', dest = 'BQ_TABLE', type=str)\n",
    "args = parser.parse_args()\n",
    "logging.info('Finished parsing input parameters.')\n",
    "\n",
    "# bigquery client\n",
    "bq = bigquery.Client(project = args.PROJECT_ID)\n",
    "\n",
    "# download data\n",
    "data = bq.query(f'SELECT * FROM {args.BQ_PROJECT}.{args.BQ_DATASET}.{args.BQ_TABLE}').to_dataframe()\n",
    "logging.info('Read data from BQ.')\n",
    "\n",
    "# prepare training data\n",
    "train_x = data.loc[data['splits']=='TRAIN', ~data.columns.isin(['transaction_id', 'splits'])]\n",
    "train_y = train_x.pop('Class').astype('int')\n",
    "logging.info('Prepared training data.')\n",
    "\n",
    "# fit model\n",
    "classifier = sklearn.ensemble.HistGradientBoostingClassifier().fit(train_x, train_y)\n",
    "logging.info('Model training complete.')\n",
    "\n",
    "# Use predefined environment variable to establish model directory\n",
    "storage_path = f\"/gcs/{os.environ['AIP_MODEL_DIR'][5:]}\" + 'model.pkl'\n",
    "os.makedirs(os.path.dirname(storage_path), exist_ok=True)\n",
    "\n",
    "# output the model save files directly to GCS destination\n",
    "with open(storage_path,'wb') as f:\n",
    "    pickle.dump(classifier, f)\n",
    "logging.info('Model saved to GCS.')"
   ]
  },
  {
   "cell_type": "markdown",
   "id": "f98198a2-323a-449c-bba8-dd20588c58cf",
   "metadata": {},
   "source": [
    "https://cloud.google.com/vertex-ai/docs/training/pre-built-containers#scikit-learn"
   ]
  },
  {
   "cell_type": "code",
   "execution_count": 105,
   "id": "07b65f71-9350-42f7-ae39-ccc48c555e09",
   "metadata": {
    "tags": []
   },
   "outputs": [],
   "source": [
    "CMDARGS = [\n",
    "    \"--project_id=\" + PROJECT_ID,\n",
    "    \"--bq_project=\" + BQ_PROJECT,\n",
    "    \"--bq_dataset=\" + BQ_DATASET,\n",
    "    \"--bq_table=\" + BQ_TABLE\n",
    "]\n",
    "\n",
    "TRAIN_IMAGE = 'us-docker.pkg.dev/vertex-ai/training/sklearn-cpu.1-0:latest'\n",
    "TRAIN_COMPUTE = 'n1-standard-4'\n",
    "URI = f\"gs://{GCS_BUCKET}/{SERIES}/{EXPERIMENT}\""
   ]
  },
  {
   "cell_type": "code",
   "execution_count": 106,
   "id": "367edf96-c306-4170-bc3d-9d0767d5015e",
   "metadata": {
    "tags": []
   },
   "outputs": [
    {
     "name": "stdout",
     "output_type": "stream",
     "text": [
      "Training script copied to:\n",
      "gs://statmike-mlops-349915/dev/sklearn-workflow/models/20240225203750/aiplatform-2024-02-25-21:56:30.388-aiplatform_custom_trainer_script-0.1.tar.gz.\n"
     ]
    }
   ],
   "source": [
    "customJob = aiplatform.CustomJob.from_local_script(\n",
    "    display_name = f'{SERIES}_{EXPERIMENT}_{TIMESTAMP}',\n",
    "    script_path = f'{DIR}/train.py',\n",
    "    container_uri = TRAIN_IMAGE,\n",
    "    args = CMDARGS,\n",
    "    requirements = ['db-dtypes', 'google-cloud-bigquery'],\n",
    "    replica_count = 1,\n",
    "    machine_type = TRAIN_COMPUTE,\n",
    "    accelerator_count = 0,\n",
    "    base_output_dir = f\"{URI}/models/{TIMESTAMP}\",\n",
    "    staging_bucket = f\"{URI}/models/{TIMESTAMP}\",\n",
    "    labels = {'series' : f'{SERIES}', 'experiment' : f'{EXPERIMENT}'}\n",
    ")"
   ]
  },
  {
   "cell_type": "code",
   "execution_count": 107,
   "id": "ec9914f1-d448-46eb-b5da-8a5acf2f413e",
   "metadata": {
    "scrolled": true,
    "tags": []
   },
   "outputs": [
    {
     "name": "stdout",
     "output_type": "stream",
     "text": [
      "Creating CustomJob\n",
      "CustomJob created. Resource name: projects/1026793852137/locations/us-central1/customJobs/1880269818137935872\n",
      "To use this CustomJob in another session:\n",
      "custom_job = aiplatform.CustomJob.get('projects/1026793852137/locations/us-central1/customJobs/1880269818137935872')\n",
      "View Custom Job:\n",
      "https://console.cloud.google.com/ai/platform/locations/us-central1/training/1880269818137935872?project=1026793852137\n",
      "CustomJob projects/1026793852137/locations/us-central1/customJobs/1880269818137935872 current state:\n",
      "JobState.JOB_STATE_PENDING\n",
      "CustomJob projects/1026793852137/locations/us-central1/customJobs/1880269818137935872 current state:\n",
      "JobState.JOB_STATE_PENDING\n",
      "CustomJob projects/1026793852137/locations/us-central1/customJobs/1880269818137935872 current state:\n",
      "JobState.JOB_STATE_PENDING\n",
      "CustomJob projects/1026793852137/locations/us-central1/customJobs/1880269818137935872 current state:\n",
      "JobState.JOB_STATE_PENDING\n",
      "CustomJob projects/1026793852137/locations/us-central1/customJobs/1880269818137935872 current state:\n",
      "JobState.JOB_STATE_PENDING\n",
      "CustomJob projects/1026793852137/locations/us-central1/customJobs/1880269818137935872 current state:\n",
      "JobState.JOB_STATE_PENDING\n",
      "CustomJob projects/1026793852137/locations/us-central1/customJobs/1880269818137935872 current state:\n",
      "JobState.JOB_STATE_PENDING\n",
      "CustomJob projects/1026793852137/locations/us-central1/customJobs/1880269818137935872 current state:\n",
      "JobState.JOB_STATE_PENDING\n",
      "CustomJob projects/1026793852137/locations/us-central1/customJobs/1880269818137935872 current state:\n",
      "JobState.JOB_STATE_PENDING\n",
      "CustomJob projects/1026793852137/locations/us-central1/customJobs/1880269818137935872 current state:\n",
      "JobState.JOB_STATE_PENDING\n",
      "CustomJob projects/1026793852137/locations/us-central1/customJobs/1880269818137935872 current state:\n",
      "JobState.JOB_STATE_PENDING\n",
      "CustomJob projects/1026793852137/locations/us-central1/customJobs/1880269818137935872 current state:\n",
      "JobState.JOB_STATE_PENDING\n",
      "CustomJob projects/1026793852137/locations/us-central1/customJobs/1880269818137935872 current state:\n",
      "JobState.JOB_STATE_PENDING\n",
      "CustomJob projects/1026793852137/locations/us-central1/customJobs/1880269818137935872 current state:\n",
      "JobState.JOB_STATE_PENDING\n",
      "CustomJob projects/1026793852137/locations/us-central1/customJobs/1880269818137935872 current state:\n",
      "JobState.JOB_STATE_PENDING\n",
      "CustomJob projects/1026793852137/locations/us-central1/customJobs/1880269818137935872 current state:\n",
      "JobState.JOB_STATE_PENDING\n",
      "CustomJob projects/1026793852137/locations/us-central1/customJobs/1880269818137935872 current state:\n",
      "JobState.JOB_STATE_PENDING\n",
      "CustomJob projects/1026793852137/locations/us-central1/customJobs/1880269818137935872 current state:\n",
      "JobState.JOB_STATE_PENDING\n",
      "CustomJob projects/1026793852137/locations/us-central1/customJobs/1880269818137935872 current state:\n",
      "JobState.JOB_STATE_PENDING\n",
      "CustomJob projects/1026793852137/locations/us-central1/customJobs/1880269818137935872 current state:\n",
      "JobState.JOB_STATE_PENDING\n",
      "CustomJob projects/1026793852137/locations/us-central1/customJobs/1880269818137935872 current state:\n",
      "JobState.JOB_STATE_PENDING\n",
      "CustomJob projects/1026793852137/locations/us-central1/customJobs/1880269818137935872 current state:\n",
      "JobState.JOB_STATE_PENDING\n",
      "CustomJob projects/1026793852137/locations/us-central1/customJobs/1880269818137935872 current state:\n",
      "JobState.JOB_STATE_PENDING\n",
      "CustomJob projects/1026793852137/locations/us-central1/customJobs/1880269818137935872 current state:\n",
      "JobState.JOB_STATE_PENDING\n",
      "CustomJob projects/1026793852137/locations/us-central1/customJobs/1880269818137935872 current state:\n",
      "JobState.JOB_STATE_PENDING\n",
      "CustomJob projects/1026793852137/locations/us-central1/customJobs/1880269818137935872 current state:\n",
      "JobState.JOB_STATE_PENDING\n",
      "CustomJob projects/1026793852137/locations/us-central1/customJobs/1880269818137935872 current state:\n",
      "JobState.JOB_STATE_PENDING\n",
      "CustomJob projects/1026793852137/locations/us-central1/customJobs/1880269818137935872 current state:\n",
      "JobState.JOB_STATE_PENDING\n",
      "CustomJob projects/1026793852137/locations/us-central1/customJobs/1880269818137935872 current state:\n",
      "JobState.JOB_STATE_PENDING\n",
      "CustomJob projects/1026793852137/locations/us-central1/customJobs/1880269818137935872 current state:\n",
      "JobState.JOB_STATE_RUNNING\n",
      "CustomJob projects/1026793852137/locations/us-central1/customJobs/1880269818137935872 current state:\n",
      "JobState.JOB_STATE_RUNNING\n",
      "CustomJob projects/1026793852137/locations/us-central1/customJobs/1880269818137935872 current state:\n",
      "JobState.JOB_STATE_RUNNING\n",
      "CustomJob projects/1026793852137/locations/us-central1/customJobs/1880269818137935872 current state:\n",
      "JobState.JOB_STATE_RUNNING\n",
      "CustomJob projects/1026793852137/locations/us-central1/customJobs/1880269818137935872 current state:\n",
      "JobState.JOB_STATE_RUNNING\n",
      "CustomJob projects/1026793852137/locations/us-central1/customJobs/1880269818137935872 current state:\n",
      "JobState.JOB_STATE_RUNNING\n",
      "CustomJob projects/1026793852137/locations/us-central1/customJobs/1880269818137935872 current state:\n",
      "JobState.JOB_STATE_RUNNING\n",
      "CustomJob projects/1026793852137/locations/us-central1/customJobs/1880269818137935872 current state:\n",
      "JobState.JOB_STATE_RUNNING\n",
      "CustomJob projects/1026793852137/locations/us-central1/customJobs/1880269818137935872 current state:\n",
      "JobState.JOB_STATE_RUNNING\n",
      "CustomJob projects/1026793852137/locations/us-central1/customJobs/1880269818137935872 current state:\n",
      "JobState.JOB_STATE_RUNNING\n",
      "CustomJob projects/1026793852137/locations/us-central1/customJobs/1880269818137935872 current state:\n",
      "JobState.JOB_STATE_RUNNING\n",
      "CustomJob projects/1026793852137/locations/us-central1/customJobs/1880269818137935872 current state:\n",
      "JobState.JOB_STATE_RUNNING\n",
      "CustomJob projects/1026793852137/locations/us-central1/customJobs/1880269818137935872 current state:\n",
      "JobState.JOB_STATE_RUNNING\n",
      "CustomJob projects/1026793852137/locations/us-central1/customJobs/1880269818137935872 current state:\n",
      "JobState.JOB_STATE_RUNNING\n",
      "CustomJob projects/1026793852137/locations/us-central1/customJobs/1880269818137935872 current state:\n",
      "JobState.JOB_STATE_RUNNING\n",
      "CustomJob projects/1026793852137/locations/us-central1/customJobs/1880269818137935872 current state:\n",
      "JobState.JOB_STATE_RUNNING\n",
      "CustomJob projects/1026793852137/locations/us-central1/customJobs/1880269818137935872 current state:\n",
      "JobState.JOB_STATE_RUNNING\n",
      "CustomJob projects/1026793852137/locations/us-central1/customJobs/1880269818137935872 current state:\n",
      "JobState.JOB_STATE_RUNNING\n",
      "CustomJob projects/1026793852137/locations/us-central1/customJobs/1880269818137935872 current state:\n",
      "JobState.JOB_STATE_RUNNING\n",
      "CustomJob projects/1026793852137/locations/us-central1/customJobs/1880269818137935872 current state:\n",
      "JobState.JOB_STATE_RUNNING\n",
      "CustomJob projects/1026793852137/locations/us-central1/customJobs/1880269818137935872 current state:\n",
      "JobState.JOB_STATE_RUNNING\n",
      "CustomJob projects/1026793852137/locations/us-central1/customJobs/1880269818137935872 current state:\n",
      "JobState.JOB_STATE_RUNNING\n",
      "CustomJob projects/1026793852137/locations/us-central1/customJobs/1880269818137935872 current state:\n",
      "JobState.JOB_STATE_RUNNING\n",
      "CustomJob projects/1026793852137/locations/us-central1/customJobs/1880269818137935872 current state:\n",
      "JobState.JOB_STATE_RUNNING\n",
      "CustomJob projects/1026793852137/locations/us-central1/customJobs/1880269818137935872 current state:\n",
      "JobState.JOB_STATE_RUNNING\n",
      "CustomJob projects/1026793852137/locations/us-central1/customJobs/1880269818137935872 current state:\n",
      "JobState.JOB_STATE_RUNNING\n",
      "CustomJob projects/1026793852137/locations/us-central1/customJobs/1880269818137935872 current state:\n",
      "JobState.JOB_STATE_RUNNING\n",
      "CustomJob projects/1026793852137/locations/us-central1/customJobs/1880269818137935872 current state:\n",
      "JobState.JOB_STATE_RUNNING\n",
      "CustomJob projects/1026793852137/locations/us-central1/customJobs/1880269818137935872 current state:\n",
      "JobState.JOB_STATE_RUNNING\n",
      "CustomJob projects/1026793852137/locations/us-central1/customJobs/1880269818137935872 current state:\n",
      "JobState.JOB_STATE_RUNNING\n",
      "CustomJob projects/1026793852137/locations/us-central1/customJobs/1880269818137935872 current state:\n",
      "JobState.JOB_STATE_RUNNING\n",
      "CustomJob projects/1026793852137/locations/us-central1/customJobs/1880269818137935872 current state:\n",
      "JobState.JOB_STATE_RUNNING\n",
      "CustomJob projects/1026793852137/locations/us-central1/customJobs/1880269818137935872 current state:\n",
      "JobState.JOB_STATE_RUNNING\n",
      "CustomJob projects/1026793852137/locations/us-central1/customJobs/1880269818137935872 current state:\n",
      "JobState.JOB_STATE_RUNNING\n",
      "CustomJob projects/1026793852137/locations/us-central1/customJobs/1880269818137935872 current state:\n",
      "JobState.JOB_STATE_RUNNING\n",
      "CustomJob projects/1026793852137/locations/us-central1/customJobs/1880269818137935872 current state:\n",
      "JobState.JOB_STATE_RUNNING\n",
      "CustomJob projects/1026793852137/locations/us-central1/customJobs/1880269818137935872 current state:\n",
      "JobState.JOB_STATE_SUCCEEDED\n",
      "CustomJob run completed. Resource name: projects/1026793852137/locations/us-central1/customJobs/1880269818137935872\n"
     ]
    }
   ],
   "source": [
    "customJob.run(\n",
    "    service_account = SERVICE_ACCOUNT\n",
    ")"
   ]
  },
  {
   "cell_type": "code",
   "execution_count": 108,
   "id": "2a30b42b-8e7a-49a9-b391-045aee74bdc7",
   "metadata": {},
   "outputs": [
    {
     "data": {
      "text/plain": [
       "'dev_sklearn-workflow_20240225203750'"
      ]
     },
     "execution_count": 108,
     "metadata": {},
     "output_type": "execute_result"
    }
   ],
   "source": [
    "customJob.display_name"
   ]
  },
  {
   "cell_type": "code",
   "execution_count": 109,
   "id": "791de515-4dea-4505-8e66-943933d82dd6",
   "metadata": {},
   "outputs": [
    {
     "data": {
      "text/plain": [
       "'projects/1026793852137/locations/us-central1/customJobs/1880269818137935872'"
      ]
     },
     "execution_count": 109,
     "metadata": {},
     "output_type": "execute_result"
    }
   ],
   "source": [
    "customJob.resource_name"
   ]
  },
  {
   "cell_type": "markdown",
   "id": "9c62a28e-319c-4e70-9c4e-4d257792a463",
   "metadata": {},
   "source": [
    "Create hyperlinks to job here:"
   ]
  },
  {
   "cell_type": "code",
   "execution_count": 110,
   "id": "5f8aedb5-ce49-48d5-a0d5-7bb9fac1a93a",
   "metadata": {},
   "outputs": [
    {
     "name": "stdout",
     "output_type": "stream",
     "text": [
      "Review the Custom Job here:\n",
      "https://console.cloud.google.com/vertex-ai/locations/us-central1/training/1880269818137935872/cpu?cloudshell=false&project=statmike-mlops-349915\n"
     ]
    }
   ],
   "source": [
    "job_link = f\"https://console.cloud.google.com/vertex-ai/locations/{REGION}/training/{customJob.resource_name.split('/')[-1]}/cpu?cloudshell=false&project={PROJECT_ID}\"\n",
    "print(f'Review the Custom Job here:\\n{job_link}')"
   ]
  },
  {
   "cell_type": "markdown",
   "id": "5badacd5-78e6-491b-bbc5-b9f2bc07d739",
   "metadata": {},
   "source": [
    "---\n",
    "## Register Model: Vertex AI Model Registry\n",
    "\n",
    "- https://cloud.google.com/vertex-ai/docs/predictions/pre-built-containers\n",
    "- https://cloud.google.com/python/docs/reference/aiplatform/latest/google.cloud.aiplatform.Model#google_cloud_aiplatform_Model_training_job\n",
    "\n",
    "**NOTE:** It was very important to use a serving container with the same version of scikit-learn as the training container.  When serving was set to 1.3 after training with 1.0 the following error happens on serving:\n",
    "> `ModuleNotFoundError: No module named 'sklearn.ensemble._hist_gradient_boosting.loss'\"`"
   ]
  },
  {
   "cell_type": "code",
   "execution_count": 163,
   "id": "be844a31-4798-42c9-9a8c-e7dbace40623",
   "metadata": {
    "tags": []
   },
   "outputs": [],
   "source": [
    "DEPLOY_IMAGE = 'us-docker.pkg.dev/vertex-ai/prediction/sklearn-cpu.1-0:latest'\n",
    "DEPLOY_COMPUTE = 'n1-standard-4'"
   ]
  },
  {
   "cell_type": "code",
   "execution_count": 164,
   "id": "1d5794fe-49ef-4441-a84f-f93fd8aa07e7",
   "metadata": {
    "tags": []
   },
   "outputs": [
    {
     "name": "stdout",
     "output_type": "stream",
     "text": [
      "This is a new model, creating in model registry\n",
      "Uploading Model now...\n",
      "Creating Model\n",
      "Create Model backing LRO: projects/1026793852137/locations/us-central1/models/model_dev_sklearn-workflow/operations/489564183696769024\n",
      "Model created. Resource name: projects/1026793852137/locations/us-central1/models/model_dev_sklearn-workflow@1\n",
      "To use this Model in another session:\n",
      "model = aiplatform.Model('projects/1026793852137/locations/us-central1/models/model_dev_sklearn-workflow@1')\n"
     ]
    }
   ],
   "source": [
    "upload_model = True\n",
    "try:\n",
    "    model = aiplatform.Model(\n",
    "        project = PROJECT_ID,\n",
    "        location = REGION,\n",
    "        model_name = f'model_{SERIES}_{EXPERIMENT}'\n",
    "    )\n",
    "    print('Model already in registry')\n",
    "    if RUN_NAME in model.version_aliases:\n",
    "        upload_model = False\n",
    "        print(\"This version already loaded, no action taken.\")\n",
    "    else:\n",
    "        ('Loading model as new default version.')\n",
    "        parent_model = model.resource_name\n",
    "except Exception:\n",
    "    print('This is a new model, creating in model registry')\n",
    "    parent_model = ''\n",
    "\n",
    "if upload_model:\n",
    "    print('Uploading Model now...')\n",
    "    model = aiplatform.Model.upload(\n",
    "        display_name = f'{SERIES}_{EXPERIMENT}',\n",
    "        model_id = f'model_{SERIES}_{EXPERIMENT}',\n",
    "        parent_model =  parent_model,\n",
    "        serving_container_image_uri = DEPLOY_IMAGE,\n",
    "        artifact_uri = f\"{URI}/models/{TIMESTAMP}/model\",\n",
    "        is_default_version = True,\n",
    "        version_aliases = [RUN_NAME],\n",
    "        version_description = RUN_NAME\n",
    "    )"
   ]
  },
  {
   "cell_type": "code",
   "execution_count": 165,
   "id": "1ad85c4e-97b5-4c27-b599-d8af8bca46c0",
   "metadata": {
    "tags": []
   },
   "outputs": [
    {
     "data": {
      "text/plain": [
       "'projects/1026793852137/locations/us-central1/models/model_dev_sklearn-workflow@1'"
      ]
     },
     "execution_count": 165,
     "metadata": {},
     "output_type": "execute_result"
    }
   ],
   "source": [
    "model.versioned_resource_name"
   ]
  },
  {
   "cell_type": "markdown",
   "id": "bd988f22-a833-4a70-aa5e-d24b30571b1a",
   "metadata": {},
   "source": [
    "---\n",
    "## Model Serving: Online with Vertex AI Prediction Endpoints\n",
    "\n",
    "- https://cloud.google.com/vertex-ai/docs/general/deployment\n",
    "- https://cloud.google.com/python/docs/reference/aiplatform/latest/google.cloud.aiplatform.Endpoint"
   ]
  },
  {
   "cell_type": "markdown",
   "id": "c7e217c7-233b-4de0-87e5-3abbdbb12f36",
   "metadata": {},
   "source": [
    "### Create/Retrieve Endpoint"
   ]
  },
  {
   "cell_type": "code",
   "execution_count": 166,
   "id": "82c19473-ce51-4b83-9db3-b2b5b935c912",
   "metadata": {
    "tags": []
   },
   "outputs": [
    {
     "name": "stdout",
     "output_type": "stream",
     "text": [
      "Endpoint Exists: projects/1026793852137/locations/us-central1/endpoints/8609714806183690240\n",
      "Review the Endpoint in the Console:\n",
      "https://console.cloud.google.com/vertex-ai/locations/us-central1/endpoints/8609714806183690240?project=statmike-mlops-349915\n"
     ]
    }
   ],
   "source": [
    "endpoints = aiplatform.Endpoint.list(filter = f\"display_name={SERIES}\")\n",
    "if endpoints:\n",
    "    endpoint = endpoints[0]\n",
    "    print(f'Endpoint Exists: {endpoint.resource_name}')\n",
    "else:\n",
    "    endpoint = aiplatform.Endpoint.create(\n",
    "        display_name = SERIES\n",
    "    )\n",
    "    print('Endpoint Created: ')\n",
    "    \n",
    "print(f'Review the Endpoint in the Console:\\nhttps://console.cloud.google.com/vertex-ai/locations/{REGION}/endpoints/{endpoint.name}?project={PROJECT_ID}')"
   ]
  },
  {
   "cell_type": "code",
   "execution_count": 167,
   "id": "922af09b-96d4-45d8-bbdc-6de13efb3159",
   "metadata": {},
   "outputs": [
    {
     "data": {
      "text/plain": [
       "'dev'"
      ]
     },
     "execution_count": 167,
     "metadata": {},
     "output_type": "execute_result"
    }
   ],
   "source": [
    "endpoint.display_name"
   ]
  },
  {
   "cell_type": "code",
   "execution_count": 168,
   "id": "6d075aa9-a855-49b9-be8a-0b74662cb5a3",
   "metadata": {},
   "outputs": [
    {
     "data": {
      "text/plain": [
       "{}"
      ]
     },
     "execution_count": 168,
     "metadata": {},
     "output_type": "execute_result"
    }
   ],
   "source": [
    "endpoint.traffic_split"
   ]
  },
  {
   "cell_type": "code",
   "execution_count": 169,
   "id": "0485ffda-bab9-4dbd-86bd-1fd8bc8725cb",
   "metadata": {},
   "outputs": [],
   "source": [
    "deployed_models = endpoint.list_models()\n",
    "#deployed_models"
   ]
  },
  {
   "cell_type": "markdown",
   "id": "06dcd348-5f3b-475b-bda4-36ac2e6ffa86",
   "metadata": {},
   "source": [
    "### Deploy Model To Endpoint"
   ]
  },
  {
   "cell_type": "code",
   "execution_count": 170,
   "id": "675e742d-4f48-40da-8959-482dae7f4794",
   "metadata": {
    "tags": []
   },
   "outputs": [
    {
     "name": "stdout",
     "output_type": "stream",
     "text": [
      "Deploying Model projects/1026793852137/locations/us-central1/models/model_dev_sklearn-workflow to Endpoint : projects/1026793852137/locations/us-central1/endpoints/8609714806183690240\n",
      "Deploy Endpoint model backing LRO: projects/1026793852137/locations/us-central1/endpoints/8609714806183690240/operations/240740304284549120\n",
      "Endpoint model deployed. Resource name: projects/1026793852137/locations/us-central1/endpoints/8609714806183690240\n"
     ]
    }
   ],
   "source": [
    "endpoint.deploy(\n",
    "    model = model,\n",
    "    deployed_model_display_name = model.display_name,\n",
    "    traffic_percentage = 100,\n",
    "    machine_type = DEPLOY_COMPUTE,\n",
    "    min_replica_count = 1,  \n",
    "    max_replica_count = 1\n",
    ") "
   ]
  },
  {
   "cell_type": "code",
   "execution_count": 181,
   "id": "b37a214d-3923-42ab-8770-66870060ca64",
   "metadata": {
    "tags": []
   },
   "outputs": [
    {
     "data": {
      "text/plain": [
       "{'8337304203332419584': 100}"
      ]
     },
     "execution_count": 181,
     "metadata": {},
     "output_type": "execute_result"
    }
   ],
   "source": [
    "endpoint.traffic_split"
   ]
  },
  {
   "cell_type": "code",
   "execution_count": 173,
   "id": "1ddf4664-b3e9-427d-94e8-c5c4e2e9db08",
   "metadata": {
    "tags": []
   },
   "outputs": [
    {
     "data": {
      "text/plain": [
       "[id: \"8337304203332419584\"\n",
       " model: \"projects/1026793852137/locations/us-central1/models/model_dev_sklearn-workflow\"\n",
       " display_name: \"dev_sklearn-workflow\"\n",
       " create_time {\n",
       "   seconds: 1708909118\n",
       "   nanos: 730301000\n",
       " }\n",
       " dedicated_resources {\n",
       "   machine_spec {\n",
       "     machine_type: \"n1-standard-4\"\n",
       "   }\n",
       "   min_replica_count: 1\n",
       "   max_replica_count: 1\n",
       " }\n",
       " model_version_id: \"1\"]"
      ]
     },
     "execution_count": 173,
     "metadata": {},
     "output_type": "execute_result"
    }
   ],
   "source": [
    "endpoint.list_models()"
   ]
  },
  {
   "cell_type": "code",
   "execution_count": 175,
   "id": "3141e47d-365a-45e6-b2a0-0068d9f9ce6c",
   "metadata": {
    "tags": []
   },
   "outputs": [
    {
     "data": {
      "text/plain": [
       "'projects/1026793852137/locations/us-central1/models/model_dev_sklearn-workflow'"
      ]
     },
     "execution_count": 175,
     "metadata": {},
     "output_type": "execute_result"
    }
   ],
   "source": [
    "model.resource_name"
   ]
  },
  {
   "cell_type": "code",
   "execution_count": 177,
   "id": "21ecc096-141f-4fa9-aef3-4a6a7910d02a",
   "metadata": {
    "tags": []
   },
   "outputs": [
    {
     "data": {
      "text/plain": [
       "'1'"
      ]
     },
     "execution_count": 177,
     "metadata": {},
     "output_type": "execute_result"
    }
   ],
   "source": [
    "model.version_id"
   ]
  },
  {
   "cell_type": "code",
   "execution_count": 178,
   "id": "9124618e-022b-4a98-aeac-d67a6c051b52",
   "metadata": {
    "tags": []
   },
   "outputs": [
    {
     "name": "stdout",
     "output_type": "stream",
     "text": [
      "Model dev_sklearn-workflow with version 1 has traffic = 100\n"
     ]
    }
   ],
   "source": [
    "for deployed_model in endpoint.list_models():\n",
    "    if deployed_model.id in endpoint.traffic_split:\n",
    "        print(f\"Model {deployed_model.display_name} with version {deployed_model.model_version_id} has traffic = {endpoint.traffic_split[deployed_model.id]}\")\n",
    "    else:\n",
    "        endpoint.undeploy(deployed_model_id = deployed_model.id)\n",
    "        print(f\"Undeploying {deployed_model.display_name} with version {deployed_model.model_version_id} because it has no traffic.\")"
   ]
  },
  {
   "cell_type": "code",
   "execution_count": 179,
   "id": "a050b166-2e64-46b9-aaef-f3dbfcfee554",
   "metadata": {
    "tags": []
   },
   "outputs": [
    {
     "data": {
      "text/plain": [
       "{'8337304203332419584': 100}"
      ]
     },
     "execution_count": 179,
     "metadata": {},
     "output_type": "execute_result"
    }
   ],
   "source": [
    "endpoint.traffic_split"
   ]
  },
  {
   "cell_type": "markdown",
   "id": "abd0757e-9777-47ff-95cc-55c31777fada",
   "metadata": {
    "tags": []
   },
   "source": [
    "### Get Predictions\n",
    "- https://cloud.google.com/vertex-ai/docs/predictions/get-online-predictions"
   ]
  },
  {
   "cell_type": "code",
   "execution_count": 190,
   "id": "5824c1af-2361-4c19-9cb1-4e1014237299",
   "metadata": {
    "tags": []
   },
   "outputs": [],
   "source": [
    "test_x = data.loc[data['splits']=='TEST', ~data.columns.isin(['transaction_id', 'splits'])]\n",
    "test_y = test_x.pop('Class').astype('int')\n",
    "\n",
    "instances = test_x.values.tolist()"
   ]
  },
  {
   "cell_type": "code",
   "execution_count": 191,
   "id": "70341381-fc34-4c2c-92ed-1077e0b2c58f",
   "metadata": {
    "tags": []
   },
   "outputs": [
    {
     "data": {
      "text/plain": [
       "Index(['Time', 'V1', 'V2', 'V3', 'V4', 'V5', 'V6', 'V7', 'V8', 'V9', 'V10',\n",
       "       'V11', 'V12', 'V13', 'V14', 'V15', 'V16', 'V17', 'V18', 'V19', 'V20',\n",
       "       'V21', 'V22', 'V23', 'V24', 'V25', 'V26', 'V27', 'V28', 'Amount'],\n",
       "      dtype='object')"
      ]
     },
     "execution_count": 191,
     "metadata": {},
     "output_type": "execute_result"
    }
   ],
   "source": [
    "test_x.columns"
   ]
  },
  {
   "cell_type": "code",
   "execution_count": 192,
   "id": "ee7cab1c-1ec4-4c86-a7f0-2c4ab3dd07bb",
   "metadata": {
    "tags": []
   },
   "outputs": [
    {
     "data": {
      "text/plain": [
       "[35337,\n",
       " 1.0928441854981998,\n",
       " -0.0132303486713432,\n",
       " 1.35982868199426,\n",
       " 2.7315370965921004,\n",
       " -0.707357349219652,\n",
       " 0.8738370029866129,\n",
       " -0.7961301510622031,\n",
       " 0.437706509544851,\n",
       " 0.39676985012996396,\n",
       " 0.587438102569443,\n",
       " -0.14979756231827498,\n",
       " 0.29514781622888103,\n",
       " -1.30382621882143,\n",
       " -0.31782283120234495,\n",
       " -2.03673231037199,\n",
       " 0.376090905274179,\n",
       " -0.30040350116459497,\n",
       " 0.433799615590844,\n",
       " -0.145082264348681,\n",
       " -0.240427548108996,\n",
       " 0.0376030733329398,\n",
       " 0.38002620963091405,\n",
       " -0.16764742731151097,\n",
       " 0.0275573495476881,\n",
       " 0.59211469704354,\n",
       " 0.219695164116351,\n",
       " 0.0369695108704894,\n",
       " 0.010984441006191,\n",
       " 0.0]"
      ]
     },
     "execution_count": 192,
     "metadata": {},
     "output_type": "execute_result"
    }
   ],
   "source": [
    "instances[0]"
   ]
  },
  {
   "cell_type": "code",
   "execution_count": 193,
   "id": "949010a7-b0d9-4223-8e33-537e7726217d",
   "metadata": {
    "tags": []
   },
   "outputs": [
    {
     "data": {
      "text/plain": [
       "Prediction(predictions=[0.0], deployed_model_id='8337304203332419584', metadata=None, model_version_id='1', model_resource_name='projects/1026793852137/locations/us-central1/models/model_dev_sklearn-workflow', explanations=None)"
      ]
     },
     "execution_count": 193,
     "metadata": {},
     "output_type": "execute_result"
    }
   ],
   "source": [
    "endpoint.predict(instances = instances[0:1])"
   ]
  },
  {
   "cell_type": "code",
   "execution_count": 195,
   "id": "4aabe2d6-b0b2-414e-ac50-cbb3a662c14b",
   "metadata": {
    "tags": []
   },
   "outputs": [
    {
     "data": {
      "text/plain": [
       "53"
      ]
     },
     "execution_count": 195,
     "metadata": {},
     "output_type": "execute_result"
    }
   ],
   "source": [
    "test_y.ne(0).idxmax()"
   ]
  },
  {
   "cell_type": "code",
   "execution_count": 198,
   "id": "dfabf2a0-064a-49b8-8c77-710dc5307ec2",
   "metadata": {
    "tags": []
   },
   "outputs": [
    {
     "data": {
      "text/plain": [
       "Prediction(predictions=[1.0], deployed_model_id='8337304203332419584', metadata=None, model_version_id='1', model_resource_name='projects/1026793852137/locations/us-central1/models/model_dev_sklearn-workflow', explanations=None)"
      ]
     },
     "execution_count": 198,
     "metadata": {},
     "output_type": "execute_result"
    }
   ],
   "source": [
    "endpoint.predict(instances = instances[53:54])"
   ]
  },
  {
   "cell_type": "markdown",
   "id": "ac05d4e9-15ef-4c09-babf-d7550c119038",
   "metadata": {},
   "source": [
    "## Model Serving: Batch With Vertex AI Prediction Batch Jobs\n",
    "\n",
    "- https://cloud.google.com/vertex-ai/docs/predictions/get-batch-predictions#bigquery\n",
    "- https://cloud.google.com/python/docs/reference/aiplatform/latest/google.cloud.aiplatform.Model#google_cloud_aiplatform_Model_batch_predict\n",
    "\n",
    "Here, we want to filter to rows with `splits = EVAL` and exclude columns.  This will use the gapic version of the API:\n",
    "- https://cloud.google.com/python/docs/reference/aiplatform/latest/google.cloud.aiplatform_v1.types.BatchPredictionJob\n",
    "- https://cloud.google.com/python/docs/reference/aiplatform/latest/google.cloud.aiplatform_v1.services.job_service.JobServiceClient#google_cloud_aiplatform_v1_services_job_service_JobServiceClient_create_batch_prediction_job"
   ]
  },
  {
   "cell_type": "code",
   "execution_count": 199,
   "id": "b0b5b3fd-6f75-44b5-94f6-e301aa8db71c",
   "metadata": {
    "tags": []
   },
   "outputs": [],
   "source": [
    "client_options = {\"api_endpoint\": f\"{REGION}-aiplatform.googleapis.com\"}\n",
    "jobs_client = aiplatform.gapic.JobServiceClient(client_options = client_options)"
   ]
  },
  {
   "cell_type": "code",
   "execution_count": 209,
   "id": "3f183350-0cd5-4152-8dc3-852b47d09dcd",
   "metadata": {
    "tags": []
   },
   "outputs": [],
   "source": [
    "batch_prediction_job = aiplatform.gapic.BatchPredictionJob(\n",
    "    display_name = f'{SERIES}_{EXPERIMENT}',\n",
    "    model = model.versioned_resource_name,\n",
    "    input_config = dict(\n",
    "        instances_format = 'bigquery',\n",
    "        bigquery_source = dict(input_uri = f'bq://{BQ_PROJECT}.{BQ_DATASET}.{BQ_TABLE}')\n",
    "    ),\n",
    "    output_config = dict(\n",
    "        predictions_format = 'bigquery',\n",
    "        bigquery_destination = dict(output_uri = f'bq://{BQ_PROJECT}.{BQ_DATASET}')\n",
    "    ),\n",
    "    dedicated_resources = dict(\n",
    "        machine_spec = dict(machine_type = DEPLOY_COMPUTE),\n",
    "        starting_replica_count = 10,\n",
    "        max_replica_count = 10\n",
    "    ),\n",
    "    instance_config = dict(\n",
    "        instance_type = 'array',\n",
    "        included_fields = list(train_x.columns),\n",
    "        #excluded_fields = ['Class', 'splits', 'transaction_id']\n",
    "    )\n",
    ")"
   ]
  },
  {
   "cell_type": "code",
   "execution_count": 210,
   "id": "ffb6ac8a-0abf-49e8-91d5-83a84337c0be",
   "metadata": {
    "tags": []
   },
   "outputs": [],
   "source": [
    "bqBatchJob = jobs_client.create_batch_prediction_job(\n",
    "    parent = f'projects/{PROJECT_ID}/locations/{REGION}',\n",
    "    batch_prediction_job = batch_prediction_job\n",
    ")"
   ]
  },
  {
   "cell_type": "code",
   "execution_count": 215,
   "id": "d0880a4b-504c-446a-8daa-712b1df93cde",
   "metadata": {
    "tags": []
   },
   "outputs": [
    {
     "data": {
      "text/plain": [
       "<JobState.JOB_STATE_RUNNING: 3>"
      ]
     },
     "execution_count": 215,
     "metadata": {},
     "output_type": "execute_result"
    }
   ],
   "source": [
    "state = jobs_client.get_batch_prediction_job(\n",
    "    name = bqBatchJob.name\n",
    ").state\n",
    "state"
   ]
  },
  {
   "cell_type": "code",
   "execution_count": 235,
   "id": "a9d5f64a-4958-47fc-96a7-c30e9217bc30",
   "metadata": {
    "tags": []
   },
   "outputs": [
    {
     "data": {
      "text/plain": [
       "(<JobState.JOB_STATE_RUNNING: 3>, 3)"
      ]
     },
     "execution_count": 235,
     "metadata": {},
     "output_type": "execute_result"
    }
   ],
   "source": [
    "state, state.value"
   ]
  },
  {
   "cell_type": "code",
   "execution_count": 228,
   "id": "df2cf5d4-fd61-49c1-bbed-86707d522c4d",
   "metadata": {
    "tags": []
   },
   "outputs": [
    {
     "data": {
      "text/plain": [
       "['JOB_STATE_UNSPECIFIED',\n",
       " 'JOB_STATE_QUEUED',\n",
       " 'JOB_STATE_PENDING',\n",
       " 'JOB_STATE_RUNNING',\n",
       " 'JOB_STATE_SUCCEEDED',\n",
       " 'JOB_STATE_FAILED',\n",
       " 'JOB_STATE_CANCELLING',\n",
       " 'JOB_STATE_CANCELLED',\n",
       " 'JOB_STATE_PAUSED',\n",
       " 'JOB_STATE_EXPIRED',\n",
       " 'JOB_STATE_UPDATING',\n",
       " 'JOB_STATE_PARTIALLY_SUCCEEDED']"
      ]
     },
     "execution_count": 228,
     "metadata": {},
     "output_type": "execute_result"
    }
   ],
   "source": [
    "state._member_names_"
   ]
  },
  {
   "cell_type": "code",
   "execution_count": 238,
   "id": "0cc386ba-ad11-45c2-bf8f-5644e2ebeb89",
   "metadata": {
    "tags": []
   },
   "outputs": [
    {
     "name": "stdout",
     "output_type": "stream",
     "text": [
      "Checking again in 1 Minute...\n"
     ]
    }
   ],
   "source": [
    "while state.value <= 3:\n",
    "    print('Checking again in 1 Minute...')\n",
    "    time.sleep(60)\n",
    "    state = jobs_client.get_batch_prediction_job(\n",
    "        name = bqBatchJob.name\n",
    "    ).state"
   ]
  },
  {
   "cell_type": "code",
   "execution_count": 239,
   "id": "44476fa0-3c66-45e0-b9b6-02c99aa75cf0",
   "metadata": {
    "tags": []
   },
   "outputs": [
    {
     "data": {
      "text/plain": [
       "'JOB_STATE_SUCCEEDED'"
      ]
     },
     "execution_count": 239,
     "metadata": {},
     "output_type": "execute_result"
    }
   ],
   "source": [
    "state.name"
   ]
  },
  {
   "cell_type": "code",
   "execution_count": 242,
   "id": "ecc00ece-4cb2-4ecc-b5a9-301db89978f4",
   "metadata": {
    "tags": []
   },
   "outputs": [
    {
     "data": {
      "text/plain": [
       "bigquery_output_dataset: \"bq://statmike-mlops-349915.fraud\"\n",
       "bigquery_output_table: \"predictions_2024_02_26T08_04_51_229Z_720\""
      ]
     },
     "execution_count": 242,
     "metadata": {},
     "output_type": "execute_result"
    }
   ],
   "source": [
    "bqBatchJob = jobs_client.get_batch_prediction_job(\n",
    "    name = bqBatchJob.name\n",
    ")\n",
    "bqBatchJob.output_info"
   ]
  },
  {
   "cell_type": "code",
   "execution_count": 279,
   "id": "55b2e766-eca9-40e4-974e-5ec513eeacbb",
   "metadata": {
    "tags": []
   },
   "outputs": [
    {
     "data": {
      "text/plain": [
       "'0:13:48.626896'"
      ]
     },
     "execution_count": 279,
     "metadata": {},
     "output_type": "execute_result"
    }
   ],
   "source": [
    "str(bqBatchJob.end_time - bqBatchJob.start_time)"
   ]
  },
  {
   "cell_type": "code",
   "execution_count": 243,
   "id": "15eeeb68-6d16-4c95-a689-42dd34054962",
   "metadata": {
    "tags": []
   },
   "outputs": [
    {
     "data": {
      "text/plain": [
       "'statmike-mlops-349915.fraud.predictions_2024_02_26T08_04_51_229Z_720'"
      ]
     },
     "execution_count": 243,
     "metadata": {},
     "output_type": "execute_result"
    }
   ],
   "source": [
    "bq_table = f\"{bqBatchJob.output_info.bigquery_output_dataset.split('bq://')[-1]}.{bqBatchJob.output_info.bigquery_output_table}\"\n",
    "bq_table"
   ]
  },
  {
   "cell_type": "code",
   "execution_count": 244,
   "id": "41c88cd2-cb00-48bd-82d7-2a8e690596c7",
   "metadata": {
    "tags": []
   },
   "outputs": [],
   "source": [
    "batch_predictions = bq.query(f'''\n",
    "SELECT *\n",
    "FROM `{bq_table}`\n",
    "''').to_dataframe()"
   ]
  },
  {
   "cell_type": "code",
   "execution_count": 250,
   "id": "f3a5e378-c1f0-4456-987c-7eabd638ecbe",
   "metadata": {
    "tags": []
   },
   "outputs": [
    {
     "data": {
      "text/html": [
       "<div>\n",
       "<style scoped>\n",
       "    .dataframe tbody tr th:only-of-type {\n",
       "        vertical-align: middle;\n",
       "    }\n",
       "\n",
       "    .dataframe tbody tr th {\n",
       "        vertical-align: top;\n",
       "    }\n",
       "\n",
       "    .dataframe thead th {\n",
       "        text-align: right;\n",
       "    }\n",
       "</style>\n",
       "<table border=\"1\" class=\"dataframe\">\n",
       "  <thead>\n",
       "    <tr style=\"text-align: right;\">\n",
       "      <th></th>\n",
       "      <th>Time</th>\n",
       "      <th>V1</th>\n",
       "      <th>V2</th>\n",
       "      <th>V3</th>\n",
       "      <th>V4</th>\n",
       "      <th>V5</th>\n",
       "      <th>V6</th>\n",
       "      <th>V7</th>\n",
       "      <th>V8</th>\n",
       "      <th>V9</th>\n",
       "      <th>...</th>\n",
       "      <th>V24</th>\n",
       "      <th>V25</th>\n",
       "      <th>V26</th>\n",
       "      <th>V27</th>\n",
       "      <th>V28</th>\n",
       "      <th>Amount</th>\n",
       "      <th>Class</th>\n",
       "      <th>transaction_id</th>\n",
       "      <th>splits</th>\n",
       "      <th>prediction</th>\n",
       "    </tr>\n",
       "  </thead>\n",
       "  <tbody>\n",
       "    <tr>\n",
       "      <th>143692</th>\n",
       "      <td>140293</td>\n",
       "      <td>0.951025</td>\n",
       "      <td>3.252926</td>\n",
       "      <td>-5.039105</td>\n",
       "      <td>4.632411</td>\n",
       "      <td>3.014501</td>\n",
       "      <td>-1.349570</td>\n",
       "      <td>0.980940</td>\n",
       "      <td>-1.819539</td>\n",
       "      <td>-2.099049</td>\n",
       "      <td>...</td>\n",
       "      <td>-1.185942</td>\n",
       "      <td>-1.286177</td>\n",
       "      <td>0.000365</td>\n",
       "      <td>0.169662</td>\n",
       "      <td>0.108276</td>\n",
       "      <td>0.77</td>\n",
       "      <td>1</td>\n",
       "      <td>d29d9996-2d90-4ad6-9cd9-e744424b81e0</td>\n",
       "      <td>TRAIN</td>\n",
       "      <td>0</td>\n",
       "    </tr>\n",
       "    <tr>\n",
       "      <th>143693</th>\n",
       "      <td>54846</td>\n",
       "      <td>-2.986466</td>\n",
       "      <td>-0.000891</td>\n",
       "      <td>0.605887</td>\n",
       "      <td>0.338338</td>\n",
       "      <td>0.685448</td>\n",
       "      <td>-1.581954</td>\n",
       "      <td>0.504206</td>\n",
       "      <td>-0.233403</td>\n",
       "      <td>0.636768</td>\n",
       "      <td>...</td>\n",
       "      <td>0.355065</td>\n",
       "      <td>0.448552</td>\n",
       "      <td>0.193490</td>\n",
       "      <td>1.214588</td>\n",
       "      <td>-0.013923</td>\n",
       "      <td>1.79</td>\n",
       "      <td>1</td>\n",
       "      <td>b949175e-d019-4637-b02f-8d0f8cc6c51c</td>\n",
       "      <td>TRAIN</td>\n",
       "      <td>0</td>\n",
       "    </tr>\n",
       "    <tr>\n",
       "      <th>143694</th>\n",
       "      <td>87202</td>\n",
       "      <td>-0.419820</td>\n",
       "      <td>-1.155978</td>\n",
       "      <td>-2.092516</td>\n",
       "      <td>2.786750</td>\n",
       "      <td>0.736297</td>\n",
       "      <td>-0.167292</td>\n",
       "      <td>1.600027</td>\n",
       "      <td>-0.117427</td>\n",
       "      <td>-0.796954</td>\n",
       "      <td>...</td>\n",
       "      <td>0.516131</td>\n",
       "      <td>-0.602941</td>\n",
       "      <td>-0.305024</td>\n",
       "      <td>-0.021363</td>\n",
       "      <td>0.129096</td>\n",
       "      <td>451.27</td>\n",
       "      <td>1</td>\n",
       "      <td>d0cfc4bf-40be-468e-b80b-403e5219136d</td>\n",
       "      <td>TRAIN</td>\n",
       "      <td>0</td>\n",
       "    </tr>\n",
       "    <tr>\n",
       "      <th>143695</th>\n",
       "      <td>139107</td>\n",
       "      <td>-4.666500</td>\n",
       "      <td>-3.952320</td>\n",
       "      <td>0.206094</td>\n",
       "      <td>5.153525</td>\n",
       "      <td>5.229469</td>\n",
       "      <td>0.939040</td>\n",
       "      <td>-0.635033</td>\n",
       "      <td>-0.704506</td>\n",
       "      <td>-0.234786</td>\n",
       "      <td>...</td>\n",
       "      <td>-0.759673</td>\n",
       "      <td>-0.502304</td>\n",
       "      <td>0.630639</td>\n",
       "      <td>-0.513880</td>\n",
       "      <td>0.729526</td>\n",
       "      <td>22.47</td>\n",
       "      <td>1</td>\n",
       "      <td>7a960a18-0a2f-4351-a148-7978c2bb36b0</td>\n",
       "      <td>TRAIN</td>\n",
       "      <td>0</td>\n",
       "    </tr>\n",
       "    <tr>\n",
       "      <th>143696</th>\n",
       "      <td>102318</td>\n",
       "      <td>-1.020632</td>\n",
       "      <td>1.496959</td>\n",
       "      <td>-4.490937</td>\n",
       "      <td>1.836727</td>\n",
       "      <td>0.627318</td>\n",
       "      <td>-2.735569</td>\n",
       "      <td>-1.546274</td>\n",
       "      <td>0.459822</td>\n",
       "      <td>-0.682741</td>\n",
       "      <td>...</td>\n",
       "      <td>-0.155500</td>\n",
       "      <td>0.412166</td>\n",
       "      <td>-0.220080</td>\n",
       "      <td>0.392338</td>\n",
       "      <td>-0.020089</td>\n",
       "      <td>22.04</td>\n",
       "      <td>1</td>\n",
       "      <td>f3b8a1b7-0000-4231-b541-52996821a6ad</td>\n",
       "      <td>TRAIN</td>\n",
       "      <td>0</td>\n",
       "    </tr>\n",
       "  </tbody>\n",
       "</table>\n",
       "<p>5 rows × 34 columns</p>\n",
       "</div>"
      ],
      "text/plain": [
       "          Time        V1        V2        V3        V4        V5        V6  \\\n",
       "143692  140293  0.951025  3.252926 -5.039105  4.632411  3.014501 -1.349570   \n",
       "143693   54846 -2.986466 -0.000891  0.605887  0.338338  0.685448 -1.581954   \n",
       "143694   87202 -0.419820 -1.155978 -2.092516  2.786750  0.736297 -0.167292   \n",
       "143695  139107 -4.666500 -3.952320  0.206094  5.153525  5.229469  0.939040   \n",
       "143696  102318 -1.020632  1.496959 -4.490937  1.836727  0.627318 -2.735569   \n",
       "\n",
       "              V7        V8        V9  ...       V24       V25       V26  \\\n",
       "143692  0.980940 -1.819539 -2.099049  ... -1.185942 -1.286177  0.000365   \n",
       "143693  0.504206 -0.233403  0.636768  ...  0.355065  0.448552  0.193490   \n",
       "143694  1.600027 -0.117427 -0.796954  ...  0.516131 -0.602941 -0.305024   \n",
       "143695 -0.635033 -0.704506 -0.234786  ... -0.759673 -0.502304  0.630639   \n",
       "143696 -1.546274  0.459822 -0.682741  ... -0.155500  0.412166 -0.220080   \n",
       "\n",
       "             V27       V28  Amount  Class  \\\n",
       "143692  0.169662  0.108276    0.77      1   \n",
       "143693  1.214588 -0.013923    1.79      1   \n",
       "143694 -0.021363  0.129096  451.27      1   \n",
       "143695 -0.513880  0.729526   22.47      1   \n",
       "143696  0.392338 -0.020089   22.04      1   \n",
       "\n",
       "                              transaction_id  splits  prediction  \n",
       "143692  d29d9996-2d90-4ad6-9cd9-e744424b81e0   TRAIN           0  \n",
       "143693  b949175e-d019-4637-b02f-8d0f8cc6c51c   TRAIN           0  \n",
       "143694  d0cfc4bf-40be-468e-b80b-403e5219136d   TRAIN           0  \n",
       "143695  7a960a18-0a2f-4351-a148-7978c2bb36b0   TRAIN           0  \n",
       "143696  f3b8a1b7-0000-4231-b541-52996821a6ad   TRAIN           0  \n",
       "\n",
       "[5 rows x 34 columns]"
      ]
     },
     "execution_count": 250,
     "metadata": {},
     "output_type": "execute_result"
    }
   ],
   "source": [
    "batch_predictions.loc[(batch_predictions['prediction'] == '0') & (batch_predictions['Class'] == 1)].head()"
   ]
  },
  {
   "cell_type": "markdown",
   "id": "7c2ccb39-4edc-45bf-85ec-ce3724a762eb",
   "metadata": {},
   "source": [
    "---\n",
    "## Model Serving: Customize Online Serving With Vertex AI Prediction Endpoints\n",
    "\n",
    "- https://cloud.google.com/vertex-ai/docs/predictions/custom-prediction-routines\n",
    "- https://github.com/googleapis/python-aiplatform/blob/main/google/cloud/aiplatform/prediction/predictor.py"
   ]
  },
  {
   "cell_type": "markdown",
   "id": "c1845cb3-cee0-4deb-8793-4005dc8a5f64",
   "metadata": {},
   "source": [
    "### Setup Artifact Registry\n",
    "\n",
    "Artifact registry organizes artifacts with repositories.  Each repository contains packages and is designated to hold a partifcular format of package: Docker images, Python Packages and [others](https://cloud.google.com/artifact-registry/docs/supported-formats#package)."
   ]
  },
  {
   "cell_type": "markdown",
   "id": "1db78173-5d49-4ec3-ba27-b80d5dc1f8f5",
   "metadata": {},
   "source": [
    "#### List Repositories\n",
    "\n",
    "This may be empty if no repositories have been created for this project"
   ]
  },
  {
   "cell_type": "code",
   "execution_count": 27,
   "id": "1ab2ccdb-36e9-47f7-82af-7c1b55ea4ae1",
   "metadata": {
    "tags": []
   },
   "outputs": [
    {
     "name": "stdout",
     "output_type": "stream",
     "text": [
      "projects/statmike-mlops-349915/locations/us-central1/repositories/statmike-mlops-349915\n",
      "projects/statmike-mlops-349915/locations/us-central1/repositories/statmike-mlops-349915-docker\n",
      "projects/statmike-mlops-349915/locations/us-central1/repositories/statmike-mlops-349915-python\n"
     ]
    }
   ],
   "source": [
    "for repo in ar_client.list_repositories(parent = f'projects/{PROJECT_ID}/locations/{REGION}'):\n",
    "    print(repo.name)"
   ]
  },
  {
   "cell_type": "markdown",
   "id": "a7ab4db4-845c-46ab-b128-8a4a53944f1e",
   "metadata": {},
   "source": [
    "#### Create Docker Image Repository\n",
    "\n",
    "Create an Artifact Registry Repository to hold Docker Images created by this notebook.  First, check to see if it is already created by a previous run and retrieve it if it has.  Otherwise, create!"
   ]
  },
  {
   "cell_type": "code",
   "execution_count": 299,
   "id": "50169a24-8002-4d36-8a79-2de3cdd9371d",
   "metadata": {
    "tags": []
   },
   "outputs": [
    {
     "name": "stdout",
     "output_type": "stream",
     "text": [
      "Retrieved existing repo: projects/statmike-mlops-349915/locations/us-central1/repositories/statmike-mlops-349915\n"
     ]
    }
   ],
   "source": [
    "docker_repo = None\n",
    "for repo in ar_client.list_repositories(parent = f'projects/{PROJECT_ID}/locations/{REGION}'):\n",
    "    if f'{PROJECT_ID}' == repo.name.split('/')[-1]:\n",
    "        docker_repo = repo\n",
    "        print(f'Retrieved existing repo: {docker_repo.name}')\n",
    "\n",
    "if not docker_repo:\n",
    "    operation = ar_client.create_repository(\n",
    "        request = artifactregistry_v1.CreateRepositoryRequest(\n",
    "            parent = f'projects/{PROJECT_ID}/locations/{REGION}',\n",
    "            repository_id = f'{PROJECT_ID}',\n",
    "            repository = artifactregistry_v1.Repository(\n",
    "                description = f'A repository for the {SERIES} series that holds docker images.',\n",
    "                name = f'{PROJECT_ID}',\n",
    "                format_ = artifactregistry_v1.Repository.Format.DOCKER,\n",
    "                labels = {'series': SERIES}\n",
    "            )\n",
    "        )\n",
    "    )\n",
    "    print('Creating Repository ...')\n",
    "    docker_repo = operation.result()\n",
    "    print(f'Completed creating repo: {docker_repo.name}')"
   ]
  },
  {
   "cell_type": "code",
   "execution_count": 300,
   "id": "2b15751f-e7e4-4008-a803-f5bb7bba75a7",
   "metadata": {
    "tags": []
   },
   "outputs": [
    {
     "data": {
      "text/plain": [
       "('projects/statmike-mlops-349915/locations/us-central1/repositories/statmike-mlops-349915',\n",
       " 'DOCKER')"
      ]
     },
     "execution_count": 300,
     "metadata": {},
     "output_type": "execute_result"
    }
   ],
   "source": [
    "docker_repo.name, docker_repo.format_.name"
   ]
  },
  {
   "cell_type": "code",
   "execution_count": 301,
   "id": "51a393f7-4108-4911-99db-dc569971d561",
   "metadata": {
    "tags": []
   },
   "outputs": [],
   "source": [
    "REPOSITORY = f\"{REGION}-docker.pkg.dev/{PROJECT_ID}/{docker_repo.name.split('/')[-1]}\""
   ]
  },
  {
   "cell_type": "code",
   "execution_count": 302,
   "id": "a03fef5b-cd72-41c4-84b3-ad4f44861639",
   "metadata": {
    "tags": []
   },
   "outputs": [
    {
     "data": {
      "text/plain": [
       "'us-central1-docker.pkg.dev/statmike-mlops-349915/statmike-mlops-349915'"
      ]
     },
     "execution_count": 302,
     "metadata": {},
     "output_type": "execute_result"
    }
   ],
   "source": [
    "REPOSITORY"
   ]
  },
  {
   "cell_type": "markdown",
   "id": "fcd24850-1798-4f42-91bb-9ecdad220589",
   "metadata": {},
   "source": [
    "### Build Custom Prediction Routine"
   ]
  },
  {
   "cell_type": "code",
   "execution_count": 281,
   "id": "8e232d69-3e3a-4335-a4d3-94f8a94605c2",
   "metadata": {},
   "outputs": [],
   "source": [
    "if not os.path.exists(DIR + '/SRC'):\n",
    "    os.makedirs(DIR + '/SRC')"
   ]
  },
  {
   "cell_type": "code",
   "execution_count": 312,
   "id": "2702664f-bed1-4ad9-ad23-da6fc49dca43",
   "metadata": {},
   "outputs": [
    {
     "name": "stdout",
     "output_type": "stream",
     "text": [
      "Overwriting temp/sklearn-workflow/SRC/requirements.txt\n"
     ]
    }
   ],
   "source": [
    "%%writefile {DIR}/SRC/requirements.txt\n",
    "fastapi\n",
    "uvicorn\n",
    "google-cloud-aiplatform[prediction]\n",
    "joblib\n",
    "numpy\n",
    "scikit-learn=1.0\n",
    "google-cloud-storage"
   ]
  },
  {
   "cell_type": "code",
   "execution_count": 313,
   "id": "a2b25c0b-482b-483a-a7bf-92dbcceab1ac",
   "metadata": {
    "tags": []
   },
   "outputs": [
    {
     "name": "stdout",
     "output_type": "stream",
     "text": [
      "Overwriting temp/sklearn-workflow/SRC/predictor.py\n"
     ]
    }
   ],
   "source": [
    "%%writefile {DIR}/SRC/predictor.py\n",
    "\n",
    "# packages\n",
    "import joblib\n",
    "import numpy as np\n",
    "import os\n",
    "import pickle\n",
    "\n",
    "from google.cloud.aiplatform.constants import prediction\n",
    "from google.cloud.aiplatform.utils import prediction_utils\n",
    "from google.cloud.aiplatform.prediction.predictor import Predictor\n",
    "    \n",
    "class CprPredictor(Predictor):\n",
    "    def __init__(self):\n",
    "        return\n",
    "\n",
    "    def load(self, artifacts_uri: str) -> None:\n",
    "        prediction_utils.download_model_artifacts(artifacts_uri)\n",
    "        if os.path.exists(prediction.MODEL_FILENAME_JOBLIB):\n",
    "            self._model = joblib.load(prediction.MODEL_FILENAME_JOBLIB)\n",
    "        elif os.path.exists(prediction.MODEL_FILENAME_PKL):\n",
    "            self._model = pickle.load(open(prediction.MODEL_FILENAME_PKL, \"rb\"))\n",
    "        else:\n",
    "            valid_filenames = [\n",
    "                prediction.MODEL_FILENAME_JOBLIB,\n",
    "                prediction.MODEL_FILENAME_PKL,\n",
    "            ]\n",
    "            raise ValueError(\n",
    "                f\"One of the following model files must be provided: {valid_filenames}.\"\n",
    "            )\n",
    "    \n",
    "    def predict(self, instances):\n",
    "        instances = instances[\"instances\"]\n",
    "        classes = list(self._model.classes_)\n",
    "        scores = list(self._model.predict_proba(np.asarray(instances)))\n",
    "        return dict(predictions = [dict(classes = classes, scores = list(score)) for score in scores])\n"
   ]
  },
  {
   "cell_type": "markdown",
   "id": "de945e98-ef48-4fc1-a332-ce2c6b3e5f9b",
   "metadata": {},
   "source": [
    "### Run Custom Prediction Routine: Local"
   ]
  },
  {
   "cell_type": "code",
   "execution_count": 314,
   "id": "38d2b778-0c69-444d-b010-bdb2fded7cfd",
   "metadata": {},
   "outputs": [],
   "source": [
    "from google.cloud.aiplatform.prediction import LocalModel\n",
    "\n",
    "# load the local predictor class and call it CprPreditor:\n",
    "predictor = importlib.import_module(f\"{'.'.join(DIR.split('/'))}.SRC.predictor\")"
   ]
  },
  {
   "cell_type": "code",
   "execution_count": 315,
   "id": "0b7d87e5-f4b3-445d-aa48-0f8348e0f91e",
   "metadata": {
    "scrolled": true,
    "tags": []
   },
   "outputs": [
    {
     "name": "stderr",
     "output_type": "stream",
     "text": [
      "/opt/conda/lib/python3.10/subprocess.py:955: RuntimeWarning: line buffering (buffering=1) isn't supported in binary mode, the default buffer size will be used\n",
      "  self.stdin = io.open(p2cwrite, 'wb', bufsize)\n",
      "/opt/conda/lib/python3.10/subprocess.py:961: RuntimeWarning: line buffering (buffering=1) isn't supported in binary mode, the default buffer size will be used\n",
      "  self.stdout = io.open(c2pread, 'rb', bufsize)\n"
     ]
    }
   ],
   "source": [
    "local_model = LocalModel.build_cpr_model(\n",
    "    src_dir = f\"{DIR}/SRC\",\n",
    "    output_image_uri = f\"{REPOSITORY}/{SERIES}_{EXPERIMENT}\",\n",
    "    predictor = predictor.CprPredictor,\n",
    "    requirements_path = f\"{DIR}/SRC/requirements.txt\",\n",
    ")"
   ]
  },
  {
   "cell_type": "code",
   "execution_count": 316,
   "id": "0550f7f1-7a4f-4207-89fb-ee3fa5d006d1",
   "metadata": {
    "tags": []
   },
   "outputs": [
    {
     "data": {
      "text/plain": [
       "image_uri: \"us-central1-docker.pkg.dev/statmike-mlops-349915/statmike-mlops-349915/dev_sklearn-workflow\"\n",
       "predict_route: \"/predict\"\n",
       "health_route: \"/health\""
      ]
     },
     "execution_count": 316,
     "metadata": {},
     "output_type": "execute_result"
    }
   ],
   "source": [
    "local_model.get_serving_container_spec()"
   ]
  },
  {
   "cell_type": "code",
   "execution_count": 317,
   "id": "fae655f3-f03b-4d97-9764-81bb73fe44b0",
   "metadata": {
    "tags": []
   },
   "outputs": [
    {
     "name": "stderr",
     "output_type": "stream",
     "text": [
      "Exception during starting serving: ('Container exited before the first health check succeeded.', '', 1).\n",
      "Exception during entering a context: ('Container exited before the first health check succeeded.', '', 1).\n"
     ]
    },
    {
     "ename": "DockerError",
     "evalue": "('Container exited before the first health check succeeded.', '', 1)",
     "output_type": "error",
     "traceback": [
      "\u001b[0;31m---------------------------------------------------------------------------\u001b[0m",
      "\u001b[0;31mDockerError\u001b[0m                               Traceback (most recent call last)",
      "Cell \u001b[0;32mIn[317], line 1\u001b[0m\n\u001b[0;32m----> 1\u001b[0m \u001b[38;5;28;01mwith\u001b[39;00m local_model\u001b[38;5;241m.\u001b[39mdeploy_to_local_endpoint(\n\u001b[1;32m      2\u001b[0m     artifact_uri \u001b[38;5;241m=\u001b[39m model\u001b[38;5;241m.\u001b[39muri\n\u001b[1;32m      3\u001b[0m ) \u001b[38;5;28;01mas\u001b[39;00m local_endpoint:\n\u001b[1;32m      4\u001b[0m     \u001b[38;5;66;03m#predict_response = local_endpoint.predict(\u001b[39;00m\n\u001b[1;32m      5\u001b[0m     \u001b[38;5;66;03m#    request = json.dumps(dict(instances = [instances[0:1]])),\u001b[39;00m\n\u001b[1;32m      6\u001b[0m     \u001b[38;5;66;03m#    headers = {\"Content-Type\": \"application/json\"}\u001b[39;00m\n\u001b[1;32m      7\u001b[0m     \u001b[38;5;66;03m#)\u001b[39;00m\n\u001b[1;32m      8\u001b[0m     health_check_response \u001b[38;5;241m=\u001b[39m local_endpoint\u001b[38;5;241m.\u001b[39mrun_health_check()\n",
      "File \u001b[0;32m~/.local/lib/python3.10/site-packages/google/cloud/aiplatform/prediction/local_endpoint.py:193\u001b[0m, in \u001b[0;36mLocalEndpoint.__enter__\u001b[0;34m(self)\u001b[0m\n\u001b[1;32m    191\u001b[0m \u001b[38;5;250m\u001b[39m\u001b[38;5;124;03m\"\"\"Enters the runtime context related to this object.\"\"\"\u001b[39;00m\n\u001b[1;32m    192\u001b[0m \u001b[38;5;28;01mtry\u001b[39;00m:\n\u001b[0;32m--> 193\u001b[0m     \u001b[38;5;28;43mself\u001b[39;49m\u001b[38;5;241;43m.\u001b[39;49m\u001b[43mserve\u001b[49m\u001b[43m(\u001b[49m\u001b[43m)\u001b[49m\n\u001b[1;32m    194\u001b[0m \u001b[38;5;28;01mexcept\u001b[39;00m \u001b[38;5;167;01mException\u001b[39;00m \u001b[38;5;28;01mas\u001b[39;00m exception:\n\u001b[1;32m    195\u001b[0m     _logger\u001b[38;5;241m.\u001b[39merror(\u001b[38;5;124mf\u001b[39m\u001b[38;5;124m\"\u001b[39m\u001b[38;5;124mException during entering a context: \u001b[39m\u001b[38;5;132;01m{\u001b[39;00mexception\u001b[38;5;132;01m}\u001b[39;00m\u001b[38;5;124m.\u001b[39m\u001b[38;5;124m\"\u001b[39m)\n",
      "File \u001b[0;32m~/.local/lib/python3.10/site-packages/google/cloud/aiplatform/prediction/local_endpoint.py:276\u001b[0m, in \u001b[0;36mLocalEndpoint.serve\u001b[0;34m(self)\u001b[0m\n\u001b[1;32m    274\u001b[0m     \u001b[38;5;28mself\u001b[39m\u001b[38;5;241m.\u001b[39mcontainer_is_running \u001b[38;5;241m=\u001b[39m \u001b[38;5;28;01mTrue\u001b[39;00m\n\u001b[1;32m    275\u001b[0m     \u001b[38;5;66;03m# Waits until the model server starts.\u001b[39;00m\n\u001b[0;32m--> 276\u001b[0m     \u001b[38;5;28;43mself\u001b[39;49m\u001b[38;5;241;43m.\u001b[39;49m\u001b[43m_wait_until_health_check_succeeds\u001b[49m\u001b[43m(\u001b[49m\u001b[43m)\u001b[49m\n\u001b[1;32m    277\u001b[0m \u001b[38;5;28;01mexcept\u001b[39;00m \u001b[38;5;167;01mException\u001b[39;00m \u001b[38;5;28;01mas\u001b[39;00m exception:\n\u001b[1;32m    278\u001b[0m     _logger\u001b[38;5;241m.\u001b[39merror(\u001b[38;5;124mf\u001b[39m\u001b[38;5;124m\"\u001b[39m\u001b[38;5;124mException during starting serving: \u001b[39m\u001b[38;5;132;01m{\u001b[39;00mexception\u001b[38;5;132;01m}\u001b[39;00m\u001b[38;5;124m.\u001b[39m\u001b[38;5;124m\"\u001b[39m)\n",
      "File \u001b[0;32m~/.local/lib/python3.10/site-packages/google/cloud/aiplatform/prediction/local_endpoint.py:332\u001b[0m, in \u001b[0;36mLocalEndpoint._wait_until_health_check_succeeds\u001b[0;34m(self)\u001b[0m\n\u001b[1;32m    327\u001b[0m     \u001b[38;5;28;01mif\u001b[39;00m \u001b[38;5;28mself\u001b[39m\u001b[38;5;241m.\u001b[39mget_container_status() \u001b[38;5;241m!=\u001b[39m run\u001b[38;5;241m.\u001b[39mCONTAINER_RUNNING_STATUS:\n\u001b[1;32m    328\u001b[0m         \u001b[38;5;28mself\u001b[39m\u001b[38;5;241m.\u001b[39mprint_container_logs(\n\u001b[1;32m    329\u001b[0m             show_all\u001b[38;5;241m=\u001b[39m\u001b[38;5;28;01mTrue\u001b[39;00m,\n\u001b[1;32m    330\u001b[0m             message\u001b[38;5;241m=\u001b[39m\u001b[38;5;124m\"\u001b[39m\u001b[38;5;124mContainer already exited, all container logs:\u001b[39m\u001b[38;5;124m\"\u001b[39m,\n\u001b[1;32m    331\u001b[0m         )\n\u001b[0;32m--> 332\u001b[0m         \u001b[38;5;28;01mraise\u001b[39;00m DockerError(\n\u001b[1;32m    333\u001b[0m             \u001b[38;5;124m\"\u001b[39m\u001b[38;5;124mContainer exited before the first health check succeeded.\u001b[39m\u001b[38;5;124m\"\u001b[39m, \u001b[38;5;124m\"\u001b[39m\u001b[38;5;124m\"\u001b[39m, \u001b[38;5;241m1\u001b[39m\n\u001b[1;32m    334\u001b[0m         )\n\u001b[1;32m    336\u001b[0m \u001b[38;5;28;01mif\u001b[39;00m elapsed_time \u001b[38;5;241m>\u001b[39m\u001b[38;5;241m=\u001b[39m \u001b[38;5;28mself\u001b[39m\u001b[38;5;241m.\u001b[39mcontainer_ready_timeout:\n\u001b[1;32m    337\u001b[0m     \u001b[38;5;28mself\u001b[39m\u001b[38;5;241m.\u001b[39mprint_container_logs(\n\u001b[1;32m    338\u001b[0m         show_all\u001b[38;5;241m=\u001b[39m\u001b[38;5;28;01mTrue\u001b[39;00m,\n\u001b[1;32m    339\u001b[0m         message\u001b[38;5;241m=\u001b[39m\u001b[38;5;124m\"\u001b[39m\u001b[38;5;124mHealth check never succeeds, all container logs:\u001b[39m\u001b[38;5;124m\"\u001b[39m,\n\u001b[1;32m    340\u001b[0m     )\n",
      "\u001b[0;31mDockerError\u001b[0m: ('Container exited before the first health check succeeded.', '', 1)"
     ]
    }
   ],
   "source": [
    "with local_model.deploy_to_local_endpoint(\n",
    "    artifact_uri = model.uri\n",
    ") as local_endpoint:\n",
    "    #predict_response = local_endpoint.predict(\n",
    "    #    request = json.dumps(dict(instances = [instances[0:1]])),\n",
    "    #    headers = {\"Content-Type\": \"application/json\"}\n",
    "    #)\n",
    "    health_check_response = local_endpoint.run_health_check()"
   ]
  },
  {
   "cell_type": "code",
   "execution_count": null,
   "id": "2db279d7-cae7-4ced-b9c5-ee7347265796",
   "metadata": {
    "tags": []
   },
   "outputs": [],
   "source": [
    "health_check_response, health_check_response.content"
   ]
  },
  {
   "cell_type": "code",
   "execution_count": null,
   "id": "2ca1b6b1-6666-4ee9-927c-6b52966f42d1",
   "metadata": {
    "tags": []
   },
   "outputs": [],
   "source": [
    "predict_response"
   ]
  },
  {
   "cell_type": "code",
   "execution_count": null,
   "id": "4ff4c993-41fd-40cc-9743-9a6d3dc4391a",
   "metadata": {
    "tags": []
   },
   "outputs": [],
   "source": [
    "print(predict_response.content)"
   ]
  },
  {
   "cell_type": "markdown",
   "id": "82d2701e-304b-4bc7-bd9a-96daf297c7fb",
   "metadata": {},
   "source": [
    "### Save Image To Artifact Registry"
   ]
  },
  {
   "cell_type": "markdown",
   "id": "96838d1b-1067-41f5-aaf6-eb41e604b45c",
   "metadata": {},
   "source": [
    "First, configure `gcloud` as the credential helper for Google Cloud Docker registries:"
   ]
  },
  {
   "cell_type": "code",
   "execution_count": 713,
   "id": "f21313fe-fbb3-4992-bed2-3c3f4088f342",
   "metadata": {},
   "outputs": [
    {
     "name": "stdout",
     "output_type": "stream",
     "text": [
      "\u001b[1;33mWARNING:\u001b[0m Your config file at [/home/jupyter/.docker/config.json] contains these credential helper entries:\n",
      "\n",
      "{\n",
      "  \"credHelpers\": {\n",
      "    \"gcr.io\": \"gcloud\",\n",
      "    \"us.gcr.io\": \"gcloud\",\n",
      "    \"eu.gcr.io\": \"gcloud\",\n",
      "    \"asia.gcr.io\": \"gcloud\",\n",
      "    \"staging-k8s.gcr.io\": \"gcloud\",\n",
      "    \"marketplace.gcr.io\": \"gcloud\",\n",
      "    \"us-central1-docker.pkg.dev\": \"gcloud\"\n",
      "  }\n",
      "}\n",
      "Adding credentials for: us-central1-docker.pkg.dev\n",
      "gcloud credential helpers already registered correctly.\n"
     ]
    }
   ],
   "source": [
    "!gcloud auth configure-docker {REGION}-docker.pkg.dev --quiet"
   ]
  },
  {
   "cell_type": "code",
   "execution_count": null,
   "id": "915cfcab-6ae2-4c36-80a8-d9756251aa0f",
   "metadata": {},
   "outputs": [],
   "source": [
    "local_model.push_image()"
   ]
  },
  {
   "cell_type": "code",
   "execution_count": null,
   "id": "bb0578da-1487-43a4-a22b-110ec1c67315",
   "metadata": {},
   "outputs": [],
   "source": [
    "print(f'Review the image in artifact registry here:\\nhttps://console.cloud.google.com/artifacts/docker/{PROJECT_ID}/{REGION}/{PROJECT_ID}/{SERIES}_{EXPERIMENT}?project={PROJECT_ID}')"
   ]
  },
  {
   "cell_type": "markdown",
   "id": "fe1db481-dbe9-47bd-acbc-bac1794828b2",
   "metadata": {},
   "source": [
    "### Register Model"
   ]
  },
  {
   "cell_type": "code",
   "execution_count": null,
   "id": "2dd7e4d8-3ca9-44b5-983b-05d63bd86bbe",
   "metadata": {},
   "outputs": [],
   "source": []
  },
  {
   "cell_type": "code",
   "execution_count": null,
   "id": "00cbcef6-f503-4243-ade2-9e55586bb7a9",
   "metadata": {},
   "outputs": [],
   "source": []
  },
  {
   "cell_type": "code",
   "execution_count": null,
   "id": "c652fc91-f497-4cf7-8236-6e80392642fd",
   "metadata": {},
   "outputs": [],
   "source": []
  },
  {
   "cell_type": "markdown",
   "id": "c3329b55-73be-4180-8def-cf0c13b4e24a",
   "metadata": {},
   "source": [
    "### Deploy Model To Endpoint"
   ]
  },
  {
   "cell_type": "code",
   "execution_count": null,
   "id": "11a3dff4-4bb7-492e-8be2-c466cfd6db75",
   "metadata": {},
   "outputs": [],
   "source": []
  },
  {
   "cell_type": "code",
   "execution_count": null,
   "id": "55402923-3f22-492c-94c1-5c3bb4c19c07",
   "metadata": {},
   "outputs": [],
   "source": []
  },
  {
   "cell_type": "code",
   "execution_count": null,
   "id": "2d715083-98d4-405d-91a4-62e265ad6849",
   "metadata": {},
   "outputs": [],
   "source": []
  },
  {
   "cell_type": "markdown",
   "id": "10f5a4ca-6ab0-4c4b-9156-b60b683f345b",
   "metadata": {},
   "source": [
    "### Get Predictions"
   ]
  },
  {
   "cell_type": "code",
   "execution_count": null,
   "id": "8f86152e-5664-49db-abf7-4cde5d0740dd",
   "metadata": {},
   "outputs": [],
   "source": []
  },
  {
   "cell_type": "code",
   "execution_count": null,
   "id": "2d01e65f-9f02-4ccc-9ff6-b7cf393426ac",
   "metadata": {},
   "outputs": [],
   "source": []
  },
  {
   "cell_type": "code",
   "execution_count": null,
   "id": "0b19d618-5dd5-4efb-b6ae-332bdc82feba",
   "metadata": {},
   "outputs": [],
   "source": []
  },
  {
   "cell_type": "code",
   "execution_count": null,
   "id": "fcb55fd4-46b1-4b1e-aa00-41127dd10d29",
   "metadata": {},
   "outputs": [],
   "source": []
  },
  {
   "cell_type": "markdown",
   "id": "f4206014-32ff-4318-bf89-76c65764ff3b",
   "metadata": {},
   "source": [
    "---\n",
    "## Model Serving: Batch With BigQuery ML"
   ]
  },
  {
   "cell_type": "markdown",
   "id": "1c88f4fc-0592-4d95-b081-05256d4f9c9b",
   "metadata": {
    "tags": []
   },
   "source": [
    "### Convert Model To ONNX"
   ]
  },
  {
   "cell_type": "code",
   "execution_count": null,
   "id": "265531ce-7e35-4c23-96dc-60550160cb11",
   "metadata": {},
   "outputs": [],
   "source": []
  },
  {
   "cell_type": "code",
   "execution_count": null,
   "id": "72f83895-8368-4f69-85b6-1a5f7e064574",
   "metadata": {},
   "outputs": [],
   "source": []
  },
  {
   "cell_type": "code",
   "execution_count": null,
   "id": "82090f11-807f-45cf-8076-d264327ceddd",
   "metadata": {},
   "outputs": [],
   "source": []
  },
  {
   "cell_type": "markdown",
   "id": "ab7d8dab-3ce3-4312-bd7d-992125daf77f",
   "metadata": {},
   "source": [
    "### Import Model With BigQuery ML"
   ]
  },
  {
   "cell_type": "code",
   "execution_count": null,
   "id": "12368451-1530-4d0d-8fd7-cab014922623",
   "metadata": {},
   "outputs": [],
   "source": []
  },
  {
   "cell_type": "code",
   "execution_count": null,
   "id": "426e9126-0afd-4ae2-8511-9cebf350905e",
   "metadata": {},
   "outputs": [],
   "source": []
  },
  {
   "cell_type": "code",
   "execution_count": null,
   "id": "163b98be-e1cc-44d5-8b3d-3516ecfc7bff",
   "metadata": {},
   "outputs": [],
   "source": []
  },
  {
   "cell_type": "markdown",
   "id": "21fcd8c7-3d9f-4e5b-8546-4e9d63e855cd",
   "metadata": {},
   "source": [
    "### Get Predictions"
   ]
  },
  {
   "cell_type": "code",
   "execution_count": null,
   "id": "3616f002-82f1-4b9e-80bd-8e04471906f4",
   "metadata": {},
   "outputs": [],
   "source": []
  },
  {
   "cell_type": "code",
   "execution_count": null,
   "id": "f5f7b3cd-3bab-49d6-9fc6-70831829c4d2",
   "metadata": {},
   "outputs": [],
   "source": []
  },
  {
   "cell_type": "code",
   "execution_count": null,
   "id": "311dc79f-ed96-4fc1-b7af-317dd2371ac8",
   "metadata": {},
   "outputs": [],
   "source": []
  },
  {
   "cell_type": "markdown",
   "id": "8dc42ee8-a70e-4515-9307-db0055a3575e",
   "metadata": {},
   "source": [
    "---\n",
    "## Model Evaluations: With SDK\n",
    "\n",
    "https://cloud.google.com/vertex-ai/docs/evaluation/introduction?authuser=1&_ga=2.56160942.-427663343.1708439669#tabular"
   ]
  },
  {
   "cell_type": "code",
   "execution_count": null,
   "id": "5ddab7b8-d5f3-4c91-b8ee-11d77385ffe4",
   "metadata": {},
   "outputs": [],
   "source": []
  },
  {
   "cell_type": "code",
   "execution_count": null,
   "id": "241a13d5-e78a-4ada-969f-9c1f4aa17db7",
   "metadata": {},
   "outputs": [],
   "source": []
  },
  {
   "cell_type": "code",
   "execution_count": null,
   "id": "a75dcdce-5502-4e68-a673-6c35cc2f8749",
   "metadata": {},
   "outputs": [],
   "source": []
  },
  {
   "cell_type": "markdown",
   "id": "2d2074ab-f3c4-4779-9c64-e9118589e301",
   "metadata": {},
   "source": [
    "---\n",
    "## Model Evaluations: With Pipeline Components"
   ]
  },
  {
   "cell_type": "code",
   "execution_count": null,
   "id": "30ad909e-e773-4be9-8bb3-22041c12c432",
   "metadata": {},
   "outputs": [],
   "source": []
  },
  {
   "cell_type": "code",
   "execution_count": null,
   "id": "716258b8-0097-4045-9276-0eaa1a9268e6",
   "metadata": {},
   "outputs": [],
   "source": []
  },
  {
   "cell_type": "code",
   "execution_count": null,
   "id": "1c6b8c34-7562-4e48-b90d-3b3d445b1b7c",
   "metadata": {},
   "outputs": [],
   "source": []
  },
  {
   "cell_type": "markdown",
   "id": "b3d127a3-9765-49b7-8ce9-1d8b58f636eb",
   "metadata": {},
   "source": [
    "---\n",
    "## Model Registry: Optional Additions"
   ]
  },
  {
   "cell_type": "code",
   "execution_count": 255,
   "id": "cb7b3024-c4f0-48f2-a527-688c32c352c7",
   "metadata": {
    "tags": []
   },
   "outputs": [
    {
     "data": {
      "text/plain": [
       "{'name': 'projects/1026793852137/locations/us-central1/models/model_dev_sklearn-workflow@1',\n",
       " 'displayName': 'dev_sklearn-workflow',\n",
       " 'predictSchemata': {},\n",
       " 'metadata': None,\n",
       " 'containerSpec': {'imageUri': 'us-docker.pkg.dev/vertex-ai/prediction/sklearn-cpu.1-0:latest'},\n",
       " 'supportedDeploymentResourcesTypes': ['DEDICATED_RESOURCES'],\n",
       " 'supportedInputStorageFormats': ['jsonl',\n",
       "  'bigquery',\n",
       "  'csv',\n",
       "  'tf-record',\n",
       "  'tf-record-gzip',\n",
       "  'file-list'],\n",
       " 'supportedOutputStorageFormats': ['jsonl', 'bigquery'],\n",
       " 'createTime': '2024-02-26T00:58:28.590188Z',\n",
       " 'updateTime': '2024-02-26T00:58:29.560475Z',\n",
       " 'etag': 'AMEw9yOee46PG34bICm1RvqIgYGKCF0MPG7B3VMJNHf4v2v6L8YkI-MSiR4L3DY75Cbr',\n",
       " 'supportedExportFormats': [{'id': 'custom-trained',\n",
       "   'exportableContents': ['ARTIFACT']}],\n",
       " 'artifactUri': 'gs://statmike-mlops-349915/dev/sklearn-workflow/models/20240225203750/model',\n",
       " 'versionId': '1',\n",
       " 'versionAliases': ['run-20240225203750', 'default'],\n",
       " 'versionDescription': 'run-20240225203750',\n",
       " 'versionCreateTime': '2024-02-26T00:58:28.590188Z',\n",
       " 'versionUpdateTime': '2024-02-26T00:58:29.560475Z',\n",
       " 'modelSourceInfo': {'sourceType': 'CUSTOM'}}"
      ]
     },
     "execution_count": 255,
     "metadata": {},
     "output_type": "execute_result"
    }
   ],
   "source": [
    "model.to_dict()"
   ]
  },
  {
   "cell_type": "code",
   "execution_count": 270,
   "id": "31e2d067-6be2-4772-ab31-6978076c085f",
   "metadata": {
    "tags": []
   },
   "outputs": [
    {
     "data": {
      "text/plain": [
       "{'name': 'projects/1026793852137/locations/us-central1/models/bqml_bqml_random-forest',\n",
       " 'displayName': 'bqml_bqml_random-forest',\n",
       " 'supportedDeploymentResourcesTypes': ['DEDICATED_RESOURCES'],\n",
       " 'supportedInputStorageFormats': ['jsonl',\n",
       "  'bigquery',\n",
       "  'csv',\n",
       "  'tf-record',\n",
       "  'tf-record-gzip',\n",
       "  'file-list'],\n",
       " 'supportedOutputStorageFormats': ['jsonl', 'bigquery'],\n",
       " 'createTime': '2023-06-27T12:30:07.561556Z',\n",
       " 'updateTime': '2023-06-27T12:32:06.390904Z',\n",
       " 'etag': 'AMEw9yOim4p6j_hCCCHgN_pxHj9ot-6hpRtHMNxJJrOHhbkPklVRulB6UzcmEv5yVKNX',\n",
       " 'labels': {'experiment': 'random-forest', 'series': 'bqml'},\n",
       " 'explanationSpec': {'parameters': {'sampledShapleyAttribution': {'pathCount': 5}},\n",
       "  'metadata': {'inputs': {'V3': {},\n",
       "    'V18': {},\n",
       "    'V21': {},\n",
       "    'V13': {},\n",
       "    'V11': {},\n",
       "    'Amount': {},\n",
       "    'V8': {},\n",
       "    'V15': {},\n",
       "    'V27': {},\n",
       "    'V22': {},\n",
       "    'V4': {},\n",
       "    'V24': {},\n",
       "    'Time': {},\n",
       "    'V17': {},\n",
       "    'V16': {},\n",
       "    'V9': {},\n",
       "    'V1': {},\n",
       "    'V14': {},\n",
       "    'V10': {},\n",
       "    'V5': {},\n",
       "    'V25': {},\n",
       "    'V6': {},\n",
       "    'V19': {},\n",
       "    'V26': {},\n",
       "    'V12': {},\n",
       "    'V23': {},\n",
       "    'V2': {},\n",
       "    'V7': {},\n",
       "    'V20': {},\n",
       "    'V28': {}},\n",
       "   'outputs': {'label_probs': {}}}},\n",
       " 'versionId': '1',\n",
       " 'versionAliases': ['run-20230627122915', 'default'],\n",
       " 'versionCreateTime': '2023-06-27T12:30:07.561556Z',\n",
       " 'versionUpdateTime': '2023-06-27T12:54:34.215012Z',\n",
       " 'modelSourceInfo': {'sourceType': 'BQML'}}"
      ]
     },
     "execution_count": 270,
     "metadata": {},
     "output_type": "execute_result"
    }
   ],
   "source": [
    "\n",
    "# example model from BQML\n",
    "test = aiplatform.Model(\n",
    "    project = PROJECT_ID,\n",
    "    location = REGION,\n",
    "    model_name = 'bqml_bqml_random-forest'\n",
    ")\n",
    "test.to_dict()"
   ]
  },
  {
   "cell_type": "code",
   "execution_count": 256,
   "id": "aaf66e4d-c434-4a92-9b5b-586c0343f006",
   "metadata": {
    "tags": []
   },
   "outputs": [
    {
     "data": {
      "text/plain": [
       "{'name': 'projects/1026793852137/locations/us-central1/models/model_05_05f',\n",
       " 'displayName': '05_05f',\n",
       " 'predictSchemata': {},\n",
       " 'metadata': None,\n",
       " 'trainingPipeline': 'projects/1026793852137/locations/us-central1/trainingPipelines/6528349671444709376',\n",
       " 'containerSpec': {'imageUri': 'us-docker.pkg.dev/vertex-ai/prediction/tf2-cpu.2-12:latest'},\n",
       " 'supportedDeploymentResourcesTypes': ['DEDICATED_RESOURCES',\n",
       "  'SHARED_RESOURCES'],\n",
       " 'supportedInputStorageFormats': ['jsonl',\n",
       "  'bigquery',\n",
       "  'csv',\n",
       "  'tf-record',\n",
       "  'tf-record-gzip',\n",
       "  'file-list'],\n",
       " 'supportedOutputStorageFormats': ['jsonl', 'bigquery'],\n",
       " 'createTime': '2022-09-27T19:21:47.583324Z',\n",
       " 'updateTime': '2024-02-22T21:13:55.966054Z',\n",
       " 'etag': 'AMEw9yObhb_VzCdWLiEzm7nRwKtvJG_ZDxWv_Yc7GywHp_M3phooJkxLMLMoJtkK5fQE',\n",
       " 'labels': {'run_name': 'run-20240222211353',\n",
       "  'experiment_name': 'experiment-05-05f-tf-classification-dnn',\n",
       "  'series': '05',\n",
       "  'experiment': '05f'},\n",
       " 'supportedExportFormats': [{'id': 'custom-trained',\n",
       "   'exportableContents': ['ARTIFACT']}],\n",
       " 'artifactUri': 'gs://statmike-mlops-349915/05/05f/models/20240222211353/model',\n",
       " 'versionId': '78',\n",
       " 'versionAliases': ['run-20240222211353', 'default'],\n",
       " 'versionDescription': 'run-20240222211353',\n",
       " 'versionCreateTime': '2024-02-22T21:13:55.966054Z',\n",
       " 'versionUpdateTime': '2024-02-22T21:22:34.275587Z',\n",
       " 'modelSourceInfo': {'sourceType': 'CUSTOM'}}"
      ]
     },
     "execution_count": 256,
     "metadata": {},
     "output_type": "execute_result"
    }
   ],
   "source": [
    "# example model from Training Pipeline (not a Vertex Pipeline)\n",
    "test = aiplatform.Model(\n",
    "    project = PROJECT_ID,\n",
    "    location = REGION,\n",
    "    model_name = 'model_05_05f'\n",
    ")\n",
    "test.to_dict()"
   ]
  },
  {
   "cell_type": "code",
   "execution_count": 271,
   "id": "cb6e6c5c-d844-46cc-b0fc-0e56e0047212",
   "metadata": {
    "tags": []
   },
   "outputs": [
    {
     "data": {
      "text/plain": [
       "{'name': 'projects/1026793852137/locations/us-central1/models/3955644813528793088',\n",
       " 'displayName': '02c_fraud_20230825120638',\n",
       " 'predictSchemata': {'instanceSchemaUri': 'https://storage.googleapis.com/caip-tenant-c9fb6c93-0c9f-41d7-96df-f5ebf0a7575c/schema/predict/instance.yaml?GoogleAccessId=service-1026793852137@gcp-sa-aiplatform.iam.gserviceaccount.com&Expires=1708985221&Signature=edZ2b1BmgniRuAfWPlqc1EUxEiadhJ0%252BjG41LZ5%252FNk3Qw2e4%252BAZpdxm5YUTys6lBXFnMO%252Fl4%252FsYvEFY3tg6hftTo3es9YdmG01LpRSwQAOaFJ4lkWXS%252FslgtDuNgOxwQSDR9G%252BR9lNT4Bi9OkV7nX3JGeO2oy8ImFBvD8k3rdhZ9ipNqrJobINTta1s7a2mf4nY1oifV3wn2qWLhZ4v1aqyC979qVko3AqY3umx9xCZ2u4mOlaso%252B6t%252Fsb0UYofqtQSRtkk3PRAPsD9SNBQzQigJ%252Fq3FlmcwkH0qaBQJsIM84pBGRnH8k7mUNM%252BEUipJZC4ZzuvRZFZLRVdlaxV%252FVQ%253D%253D',\n",
       "  'predictionSchemaUri': 'https://storage.googleapis.com/caip-tenant-c9fb6c93-0c9f-41d7-96df-f5ebf0a7575c/schema/predict/prediction.yaml?GoogleAccessId=service-1026793852137@gcp-sa-aiplatform.iam.gserviceaccount.com&Expires=1708985221&Signature=U6IR4KFjsS%252BmpNWBw0sHox7pNzagituWsATperBzc3622A95cKoQ7jRg8U6tSo%252FoOdo%252FFPYuo5KKnR%252FZ6t%252Bikxl6pyyojOOeqQDCngh5mNDlJrqAvhC8T5Ww8P9jepnIihXkE8FE15yZLRTBr%252B9AHgeg%252BSUb50VmTwqlntIUFBOaWIKTxdo%252FZ5TfoA38XEMVY29RhfzH%252FixF%252BwGuxFiZsxXQQcCBIVcXQiOKrUt9KBZrOgDcMBbxYXYLyynvhapsJWrfjPnm%252B5kZA52iVdd6beR%252FDpdYVJ2FwF%252Fw40wfo1Nt44ESo9%252B1wFAlCC3JJYKGcdeWEEn6c2APkm2ZYFkM4A%253D%253D'},\n",
       " 'metadataSchemaUri': 'https://storage.googleapis.com/google-cloud-aiplatform/schema/model/metadata/automl_tabular_1.0.0.yaml',\n",
       " 'metadata': {},\n",
       " 'trainingPipeline': 'projects/1026793852137/locations/us-central1/trainingPipelines/2812385336070504448',\n",
       " 'supportedDeploymentResourcesTypes': ['DEDICATED_RESOURCES'],\n",
       " 'supportedInputStorageFormats': ['bigquery', 'csv', 'jsonl', 'tf-record'],\n",
       " 'supportedOutputStorageFormats': ['bigquery', 'csv', 'tf-record', 'jsonl'],\n",
       " 'createTime': '2023-08-25T12:11:52.997262Z',\n",
       " 'updateTime': '2023-08-25T14:21:46.186345Z',\n",
       " 'etag': 'AMEw9yNMufc9kb7QaLS0WuGcHFojCjRdgeEPFYW5SrGm3jyZ1REMsyNrFG4AkCZberQ=',\n",
       " 'labels': {'notebook': '02c'},\n",
       " 'supportedExportFormats': [{'id': 'tf-saved-model',\n",
       "   'exportableContents': ['ARTIFACT']}],\n",
       " 'explanationSpec': {'parameters': {'sampledShapleyAttribution': {'pathCount': 9}},\n",
       "  'metadata': {'inputs': {'V5': {'inputBaselines': [-0.0531003224046307]},\n",
       "    'V20': {'inputBaselines': [-0.062111810079112]},\n",
       "    'Time': {'inputBaselines': ['84770.0']},\n",
       "    'V10': {'inputBaselines': [-0.0920035141007977]},\n",
       "    'V7': {'inputBaselines': [0.041042431090108]},\n",
       "    'V9': {'inputBaselines': [-0.0499418352237675]},\n",
       "    'V14': {'inputBaselines': [0.0511716590341193]},\n",
       "    'V16': {'inputBaselines': [0.0675035634525228]},\n",
       "    'V18': {'inputBaselines': [-0.00272819526116941]},\n",
       "    'V22': {'inputBaselines': [0.00773372187997717]},\n",
       "    'V4': {'inputBaselines': [-0.0177803745937652]},\n",
       "    'V24': {'inputBaselines': [0.0413596985718128]},\n",
       "    'V17': {'inputBaselines': [-0.0647759652418203]},\n",
       "    'Amount': {'inputBaselines': [22.0]},\n",
       "    'V27': {'inputBaselines': [0.0014852628295193]},\n",
       "    'V11': {'inputBaselines': [-0.0307914257146474]},\n",
       "    'V28': {'inputBaselines': [0.0113448930957319]},\n",
       "    'V6': {'inputBaselines': [-0.27276781658558]},\n",
       "    'V25': {'inputBaselines': [0.0171215825916335]},\n",
       "    'V12': {'inputBaselines': [0.14143989469113802]},\n",
       "    'V1': {'inputBaselines': [0.0203823308739728]},\n",
       "    'V26': {'inputBaselines': [-0.0510455000339032]},\n",
       "    'V21': {'inputBaselines': [-0.0291311536654779]},\n",
       "    'V2': {'inputBaselines': [0.0668795193409045]},\n",
       "    'V13': {'inputBaselines': [-0.0124365410943757]},\n",
       "    'V19': {'inputBaselines': [0.0045169693621238795]},\n",
       "    'V3': {'inputBaselines': [0.18146054792528302]},\n",
       "    'V23': {'inputBaselines': [-0.0109629220991737]},\n",
       "    'V15': {'inputBaselines': [0.049184212432685996]},\n",
       "    'V8': {'inputBaselines': [0.0226868978994342]}},\n",
       "   'outputs': {'scores': {'displayNameMappingKey': 'classes'}},\n",
       "   'featureAttributionsSchemaUri': 'https://storage.googleapis.com/caip-tenant-c9fb6c93-0c9f-41d7-96df-f5ebf0a7575c/schema/explain/feature_attributions.yaml?GoogleAccessId=service-1026793852137@gcp-sa-aiplatform.iam.gserviceaccount.com&Expires=1708985221&Signature=UJWWo9xm24bxa73ZPSsn2Tfq27ZyRr4KqVgCP%252FphY3YGU65uxBewEXMVfGZJwger08%252FyyLDI2gWq%252BKiYkpr2DrgmTXk3sm61Mt4ZhD5FVdfNkgzp936tzttmQe1S95lDFsAYHaVQKMnGUqC1XlyP9vnq7HeGehgeNSZSvTSrrPl6n0P161D8mE6pH32QJMRjQ0meFo8btowP2%252BTa%252Fnld45Qzgcox4qexTdaa8ImA4V925a%252FMJ0IKj9Junll6RxdlZ4uODPo3DDExOhecRz61XeHZYrGz9rjLixSLDpi%252FjkUuGH8SZMakg3Lywu%252FnWqv5BjMR%252FAPpFH9bnCmD%252BRbCFw%253D%253D'}},\n",
       " 'versionId': '1',\n",
       " 'versionAliases': ['default'],\n",
       " 'versionCreateTime': '2023-08-25T12:11:52.997262Z',\n",
       " 'versionUpdateTime': '2023-08-25T14:21:46.186345Z',\n",
       " 'modelSourceInfo': {'sourceType': 'AUTOML'}}"
      ]
     },
     "execution_count": 271,
     "metadata": {},
     "output_type": "execute_result"
    }
   ],
   "source": [
    "# example autoML model\n",
    "test = aiplatform.Model(\n",
    "    project = PROJECT_ID,\n",
    "    location = REGION,\n",
    "    model_name = '3955644813528793088'\n",
    ")\n",
    "test.to_dict()"
   ]
  },
  {
   "cell_type": "code",
   "execution_count": 264,
   "id": "ae1d99de-de22-4f28-9df7-9a766f10a6fa",
   "metadata": {
    "tags": []
   },
   "outputs": [
    {
     "data": {
      "text/plain": [
       "'https://storage.googleapis.com/caip-tenant-c9fb6c93-0c9f-41d7-96df-f5ebf0a7575c/schema/predict/instance.yaml?GoogleAccessId=service-1026793852137@gcp-sa-aiplatform.iam.gserviceaccount.com&Expires=1708976819&Signature=PKHI%252Bv6b5EBvMjEBGEJEkAJFPxHnAzoofOa5Ac23gHcN8QShcu%252BD53FR7qkUf7sDX7DHBNqecWORycOVrYsKLA0gMTbRE2BatdSl8p6pWJymfUTuiiur%252BiOolSQAZkDBXC3Yt0D8JtqYr%252BYiyo60QTKtOVoFf3uyKFiR0%252BMB3g8aralZGixuf8Ty1g3xPfYeby2ljRGAYk4GUxSqmbWgssq2zXXKLs5ORNgRchEb0k9ZlogHphc8ZskB2Zl%252FpeC%252BjNGfq2hxNyQzQo7IPYq98LToeVAOV14F6uN3bp8y1HiQxYdJwImSj%252FNFRYeWBMW6IM74TQNzzTW8ynDj6eKYdA%253D%253D'"
      ]
     },
     "execution_count": 264,
     "metadata": {},
     "output_type": "execute_result"
    }
   ],
   "source": [
    "test.to_dict()['predictSchemata']['instanceSchemaUri']"
   ]
  },
  {
   "cell_type": "code",
   "execution_count": 267,
   "id": "a0e0aa73-a5e0-465d-9117-2042310bbeba",
   "metadata": {
    "tags": []
   },
   "outputs": [
    {
     "data": {
      "text/plain": [
       "'https://storage.googleapis.com/caip-tenant-c9fb6c93-0c9f-41d7-96df-f5ebf0a7575c/schema/predict/prediction.yaml?GoogleAccessId=service-1026793852137@gcp-sa-aiplatform.iam.gserviceaccount.com&Expires=1708976819&Signature=JXZzs4r6dQ3wsuP77DlxfrAD8CJ6MDdWHVs8Mb6rFPDnIWoVEvffM3SPsE1VCMwaHZzLdhII1jKD7nD7vXtlpxTToBPPRLldhpEEqRVtlo%252Fv7CDTmzS5kk%252FiL8cnW179rlyI%252FLX7SigRfebrLMMZMI%252BwaPLeNPTc%252FYwPy0TwXJT23SVVaroEsODwvINZ4QYNMP%252F9ZYk1G%252BK0MQFiNVTTHVB3DMHJ9y8Gj1Yw5sECwUfxQ%252FQzTEEVA9v2jNhPP1IBxdkC3%252F9aUrvGRtT85h0M4IGajJP23KSpYw0CFl4aLRMYNzNKXr3zl3XwHZ5wuBPPRipRvZAp6zzUc3Vv38ajRg%253D%253D'"
      ]
     },
     "execution_count": 267,
     "metadata": {},
     "output_type": "execute_result"
    }
   ],
   "source": [
    "test.to_dict()['predictSchemata']['predictionSchemaUri']"
   ]
  },
  {
   "cell_type": "code",
   "execution_count": 269,
   "id": "7458985c-e27d-4016-a42d-c68f0f071a5b",
   "metadata": {
    "tags": []
   },
   "outputs": [
    {
     "data": {
      "text/plain": [
       "'https://storage.googleapis.com/google-cloud-aiplatform/schema/model/metadata/automl_tabular_1.0.0.yaml'"
      ]
     },
     "execution_count": 269,
     "metadata": {},
     "output_type": "execute_result"
    }
   ],
   "source": [
    "test.to_dict()['metadataSchemaUri']"
   ]
  },
  {
   "cell_type": "markdown",
   "id": "49bab483-a647-474f-92c1-0cecf27f756e",
   "metadata": {},
   "source": [
    "## Vertex AI Pipelines\n",
    "\n",
    "- https://cloud.google.com/vertex-ai/docs/pipelines/introduction\n",
    "- https://www.kubeflow.org/docs/components/pipelines/v2/introduction/\n",
    "- https://cloud.google.com/python/docs/reference/aiplatform/latest/google.cloud.aiplatform.PipelineJob"
   ]
  },
  {
   "cell_type": "code",
   "execution_count": 34,
   "id": "8b62d3a3-9515-4a08-86dc-74244563dcdc",
   "metadata": {
    "tags": []
   },
   "outputs": [],
   "source": [
    "if not os.path.exists(DIR + '/pipeline'):\n",
    "    os.makedirs(DIR + '/pipeline')"
   ]
  },
  {
   "cell_type": "code",
   "execution_count": 35,
   "id": "e63915ef-6add-4442-95cd-f8a5b2768d3b",
   "metadata": {
    "tags": []
   },
   "outputs": [],
   "source": [
    "@kfp.dsl.component(\n",
    "    base_image = \"python:3.10\",\n",
    "    packages_to_install = [\"pandas\"]\n",
    ")\n",
    "def example_string(text: str) -> str:\n",
    "    text += ',... and more text'\n",
    "    return text"
   ]
  },
  {
   "cell_type": "code",
   "execution_count": 36,
   "id": "314073a8-3398-4502-b0a2-4b0e8fc9663c",
   "metadata": {
    "tags": []
   },
   "outputs": [],
   "source": [
    "@kfp.dsl.component(\n",
    "    base_image = \"python:3.10\",\n",
    "    packages_to_install = [\"pandas\"]\n",
    ")\n",
    "def example_number(number: float) -> float:\n",
    "    number += 10\n",
    "    return number"
   ]
  },
  {
   "cell_type": "code",
   "execution_count": 37,
   "id": "8a392255-c5d6-4f40-8b52-369f9b95b8fe",
   "metadata": {
    "tags": []
   },
   "outputs": [],
   "source": [
    "@kfp.dsl.component(\n",
    "    base_image = \"python:3.10\",\n",
    "    packages_to_install = [\"pandas\"]\n",
    ")\n",
    "def example_combo(text: str, number: float) -> str:\n",
    "    result = f'{text}, ... and a number {number}'\n",
    "    return result"
   ]
  },
  {
   "cell_type": "code",
   "execution_count": 38,
   "id": "b9e0d80d-845f-4670-b34c-6ad0c7caa76d",
   "metadata": {
    "tags": []
   },
   "outputs": [],
   "source": [
    "@kfp.dsl.pipeline(\n",
    "    name = 'simple-pipeline',\n",
    "    description = 'A simple pipeline for testing',\n",
    "    pipeline_root = f'gs://{GCS_BUCKET}/{SERIES}/{EXPERIMENT}/pipelines/example'\n",
    ")\n",
    "def example_pipeline(\n",
    "    text: str,\n",
    "    number: float\n",
    "):\n",
    "    text_task = example_string(text = text)\n",
    "    number_task = example_number(number = number)\n",
    "    combo_task = example_combo(text = text_task.output, number = number_task.output)"
   ]
  },
  {
   "cell_type": "code",
   "execution_count": 40,
   "id": "35d6c443-de2f-4d70-b83d-6f24c615037e",
   "metadata": {
    "tags": []
   },
   "outputs": [],
   "source": [
    "kfp.compiler.Compiler().compile(\n",
    "    pipeline_func = example_pipeline,\n",
    "    package_path = f'{DIR}/pipeline/example.yaml'\n",
    ")"
   ]
  },
  {
   "cell_type": "code",
   "execution_count": 41,
   "id": "c8ce3942-acf2-4e3b-bca3-cb3592f8bfe8",
   "metadata": {
    "tags": []
   },
   "outputs": [],
   "source": [
    "pipeline_job = aiplatform.PipelineJob(\n",
    "    display_name = f\"simple-pipeline\",\n",
    "    template_path = f\"{DIR}/pipeline/example.yaml\",\n",
    "    parameter_values = dict(text ='Example text', number = 34.2),\n",
    "    pipeline_root = f'gs://{GCS_BUCKET}/{SERIES}/{EXPERIMENT}/pipelines/simple',\n",
    "    enable_caching = None # True (enabled), False (disable), None (defer to component level caching) \n",
    ")"
   ]
  },
  {
   "cell_type": "code",
   "execution_count": 42,
   "id": "261f40c1-77d1-42ae-8754-94023c5471f4",
   "metadata": {
    "tags": []
   },
   "outputs": [
    {
     "name": "stdout",
     "output_type": "stream",
     "text": [
      "Creating PipelineJob\n",
      "PipelineJob created. Resource name: projects/1026793852137/locations/us-central1/pipelineJobs/simple-pipeline-20240304122159\n",
      "To use this PipelineJob in another session:\n",
      "pipeline_job = aiplatform.PipelineJob.get('projects/1026793852137/locations/us-central1/pipelineJobs/simple-pipeline-20240304122159')\n",
      "View Pipeline Job:\n",
      "https://console.cloud.google.com/vertex-ai/locations/us-central1/pipelines/runs/simple-pipeline-20240304122159?project=1026793852137\n"
     ]
    }
   ],
   "source": [
    "response = pipeline_job.submit(\n",
    "    service_account = SERVICE_ACCOUNT\n",
    ")"
   ]
  },
  {
   "cell_type": "code",
   "execution_count": 43,
   "id": "71a8d985-6d13-4107-909a-e910d4d5c21b",
   "metadata": {
    "tags": []
   },
   "outputs": [
    {
     "name": "stdout",
     "output_type": "stream",
     "text": [
      "The Dashboard can be viewed here:\n",
      "https://console.cloud.google.com/vertex-ai/locations/us-central1/pipelines/runs/simple-pipeline-20240304122159?project=1026793852137\n"
     ]
    }
   ],
   "source": [
    "print(f'The Dashboard can be viewed here:\\n{pipeline_job._dashboard_uri()}')"
   ]
  },
  {
   "cell_type": "code",
   "execution_count": 44,
   "id": "b03d758c-3cce-4a10-8a2f-8f6fa652ab8d",
   "metadata": {
    "tags": []
   },
   "outputs": [
    {
     "name": "stdout",
     "output_type": "stream",
     "text": [
      "PipelineJob projects/1026793852137/locations/us-central1/pipelineJobs/simple-pipeline-20240304122159 current state:\n",
      "PipelineState.PIPELINE_STATE_RUNNING\n",
      "PipelineJob projects/1026793852137/locations/us-central1/pipelineJobs/simple-pipeline-20240304122159 current state:\n",
      "PipelineState.PIPELINE_STATE_RUNNING\n",
      "PipelineJob projects/1026793852137/locations/us-central1/pipelineJobs/simple-pipeline-20240304122159 current state:\n",
      "PipelineState.PIPELINE_STATE_RUNNING\n",
      "PipelineJob projects/1026793852137/locations/us-central1/pipelineJobs/simple-pipeline-20240304122159 current state:\n",
      "PipelineState.PIPELINE_STATE_RUNNING\n",
      "PipelineJob run completed. Resource name: projects/1026793852137/locations/us-central1/pipelineJobs/simple-pipeline-20240304122159\n"
     ]
    }
   ],
   "source": [
    "pipeline_job.wait()"
   ]
  },
  {
   "cell_type": "code",
   "execution_count": 45,
   "id": "b15be0ed-e0fc-4f97-88be-b47fa396a6f9",
   "metadata": {
    "tags": []
   },
   "outputs": [
    {
     "data": {
      "text/html": [
       "<div>\n",
       "<style scoped>\n",
       "    .dataframe tbody tr th:only-of-type {\n",
       "        vertical-align: middle;\n",
       "    }\n",
       "\n",
       "    .dataframe tbody tr th {\n",
       "        vertical-align: top;\n",
       "    }\n",
       "\n",
       "    .dataframe thead th {\n",
       "        text-align: right;\n",
       "    }\n",
       "</style>\n",
       "<table border=\"1\" class=\"dataframe\">\n",
       "  <thead>\n",
       "    <tr style=\"text-align: right;\">\n",
       "      <th></th>\n",
       "      <th>pipeline_name</th>\n",
       "      <th>run_name</th>\n",
       "      <th>param.input:number</th>\n",
       "      <th>param.input:text</th>\n",
       "      <th>param.vmlmd_lineage_integration</th>\n",
       "    </tr>\n",
       "  </thead>\n",
       "  <tbody>\n",
       "    <tr>\n",
       "      <th>0</th>\n",
       "      <td>simple-pipeline</td>\n",
       "      <td>simple-pipeline-20240304122159</td>\n",
       "      <td>34.2</td>\n",
       "      <td>Example text</td>\n",
       "      <td>{'pipeline_run_component': {'parent_task_names...</td>\n",
       "    </tr>\n",
       "  </tbody>\n",
       "</table>\n",
       "</div>"
      ],
      "text/plain": [
       "     pipeline_name                        run_name  param.input:number  \\\n",
       "0  simple-pipeline  simple-pipeline-20240304122159                34.2   \n",
       "\n",
       "  param.input:text                    param.vmlmd_lineage_integration  \n",
       "0     Example text  {'pipeline_run_component': {'parent_task_names...  "
      ]
     },
     "execution_count": 45,
     "metadata": {},
     "output_type": "execute_result"
    }
   ],
   "source": [
    "aiplatform.get_pipeline_df(pipeline = f'simple-pipeline')"
   ]
  },
  {
   "cell_type": "code",
   "execution_count": 46,
   "id": "f0756d48-2310-4238-9ca1-7ba5342560c6",
   "metadata": {
    "tags": []
   },
   "outputs": [],
   "source": [
    "tasks = {task.task_name: task for task in pipeline_job.task_details}"
   ]
  },
  {
   "cell_type": "code",
   "execution_count": 47,
   "id": "5fa482a8-4c89-4649-9f18-10e99f509ae3",
   "metadata": {
    "tags": []
   },
   "outputs": [
    {
     "name": "stdout",
     "output_type": "stream",
     "text": [
      "simple-pipeline-20240304122159 State.SUCCEEDED\n",
      "example-number State.SUCCEEDED\n",
      "example-combo State.SUCCEEDED\n",
      "example-string State.SUCCEEDED\n"
     ]
    }
   ],
   "source": [
    "for task in tasks:\n",
    "  print(task, tasks[task].state)"
   ]
  },
  {
   "cell_type": "code",
   "execution_count": 51,
   "id": "c67487d6-7d75-463c-ab54-c53c1cae2910",
   "metadata": {
    "tags": []
   },
   "outputs": [
    {
     "name": "stdout",
     "output_type": "stream",
     "text": [
      "simple-pipeline-20240304122159\n",
      "example-number\n",
      "example-combo\n",
      "example-string\n"
     ]
    }
   ],
   "source": [
    "for task in tasks:\n",
    "    print(task)"
   ]
  },
  {
   "cell_type": "code",
   "execution_count": 52,
   "id": "73aeac8e-fd18-41c4-b23d-bc27422fbcc4",
   "metadata": {
    "tags": []
   },
   "outputs": [],
   "source": [
    "#tasks['example-number']"
   ]
  },
  {
   "cell_type": "markdown",
   "id": "9c7374ef-9846-414d-b91a-5f41b172d363",
   "metadata": {},
   "source": [
    "### Schedule Pipeline\n",
    "\n",
    "- https://cloud.google.com/vertex-ai/docs/pipelines/schedule-pipeline-run\n",
    "\n",
    "Example here: run every 2 minutes, 5 times"
   ]
  },
  {
   "cell_type": "code",
   "execution_count": 64,
   "id": "797b4d5f-4f19-4d08-9ac4-2ab754fa740e",
   "metadata": {
    "tags": []
   },
   "outputs": [],
   "source": [
    "bucket = gcs.lookup_bucket(GCS_BUCKET)\n",
    "blob = bucket.blob(f'{SERIES}/{EXPERIMENT}/pipelines/example/example.yaml')\n",
    "blob.upload_from_filename(f'{DIR}/pipeline/example.yaml')"
   ]
  },
  {
   "cell_type": "code",
   "execution_count": 67,
   "id": "2f4fbfe9-1f0e-4d64-b30e-1207e747672e",
   "metadata": {
    "tags": []
   },
   "outputs": [],
   "source": [
    "pipeline_job = aiplatform.PipelineJob(\n",
    "    display_name = f\"simple-pipeline\",\n",
    "    template_path = f'gs://{GCS_BUCKET}/{SERIES}/{EXPERIMENT}/pipelines/example/example.yaml',\n",
    "    parameter_values = dict(text ='Example text', number = 34.2),\n",
    "    pipeline_root = f'gs://{GCS_BUCKET}/{SERIES}/{EXPERIMENT}/pipelines/simple',\n",
    "    enable_caching = None # True (enabled), False (disable), None (defer to component level caching) \n",
    ")"
   ]
  },
  {
   "cell_type": "code",
   "execution_count": 69,
   "id": "d2bc70fd-6bdc-441c-896d-92ede7b561a9",
   "metadata": {
    "tags": []
   },
   "outputs": [
    {
     "name": "stdout",
     "output_type": "stream",
     "text": [
      "Creating PipelineJobSchedule\n",
      "PipelineJobSchedule created. Resource name: projects/1026793852137/locations/us-central1/schedules/968986403419455488\n",
      "To use this PipelineJobSchedule in another session:\n",
      "schedule = aiplatform.PipelineJobSchedule.get('projects/1026793852137/locations/us-central1/schedules/968986403419455488')\n",
      "View Schedule:\n",
      "https://console.cloud.google.com/vertex-ai/locations/us-central1/pipelines/schedules/968986403419455488?project=1026793852137\n"
     ]
    }
   ],
   "source": [
    "pipeline_job_schedule = pipeline_job.create_schedule(\n",
    "    display_name = f\"simple-pipeline\",\n",
    "    cron = \"*/2 * * * *\",\n",
    "    max_concurrent_run_count = 3,\n",
    "    max_run_count = 5\n",
    ")"
   ]
  },
  {
   "cell_type": "code",
   "execution_count": 70,
   "id": "8ac19699-5c69-4999-bb91-7b531f686f57",
   "metadata": {
    "tags": []
   },
   "outputs": [],
   "source": [
    "time.sleep(6*2*60)"
   ]
  },
  {
   "cell_type": "code",
   "execution_count": 71,
   "id": "069e97b3-6e28-42a4-a7a4-e46829121004",
   "metadata": {
    "tags": []
   },
   "outputs": [
    {
     "data": {
      "text/html": [
       "<div>\n",
       "<style scoped>\n",
       "    .dataframe tbody tr th:only-of-type {\n",
       "        vertical-align: middle;\n",
       "    }\n",
       "\n",
       "    .dataframe tbody tr th {\n",
       "        vertical-align: top;\n",
       "    }\n",
       "\n",
       "    .dataframe thead th {\n",
       "        text-align: right;\n",
       "    }\n",
       "</style>\n",
       "<table border=\"1\" class=\"dataframe\">\n",
       "  <thead>\n",
       "    <tr style=\"text-align: right;\">\n",
       "      <th></th>\n",
       "      <th>pipeline_name</th>\n",
       "      <th>run_name</th>\n",
       "      <th>param.vmlmd_lineage_integration</th>\n",
       "      <th>param.input:number</th>\n",
       "      <th>param.input:text</th>\n",
       "    </tr>\n",
       "  </thead>\n",
       "  <tbody>\n",
       "    <tr>\n",
       "      <th>0</th>\n",
       "      <td>simple-pipeline</td>\n",
       "      <td>simple-pipeline-20240304061201156</td>\n",
       "      <td>{'pipeline_run_component': {'parent_task_names...</td>\n",
       "      <td>34.2</td>\n",
       "      <td>Example text</td>\n",
       "    </tr>\n",
       "    <tr>\n",
       "      <th>1</th>\n",
       "      <td>simple-pipeline</td>\n",
       "      <td>simple-pipeline-20240304061003879</td>\n",
       "      <td>{'pipeline_run_component': {'parent_task_names...</td>\n",
       "      <td>34.2</td>\n",
       "      <td>Example text</td>\n",
       "    </tr>\n",
       "    <tr>\n",
       "      <th>2</th>\n",
       "      <td>simple-pipeline</td>\n",
       "      <td>simple-pipeline-20240304060801037</td>\n",
       "      <td>{'pipeline_run_component': {'pipeline_run_id':...</td>\n",
       "      <td>34.2</td>\n",
       "      <td>Example text</td>\n",
       "    </tr>\n",
       "    <tr>\n",
       "      <th>3</th>\n",
       "      <td>simple-pipeline</td>\n",
       "      <td>simple-pipeline-20240304060601172</td>\n",
       "      <td>{'pipeline_run_component': {'pipeline_run_id':...</td>\n",
       "      <td>34.2</td>\n",
       "      <td>Example text</td>\n",
       "    </tr>\n",
       "    <tr>\n",
       "      <th>4</th>\n",
       "      <td>simple-pipeline</td>\n",
       "      <td>simple-pipeline-20240304060400986</td>\n",
       "      <td>{'pipeline_run_component': {'parent_task_names...</td>\n",
       "      <td>34.2</td>\n",
       "      <td>Example text</td>\n",
       "    </tr>\n",
       "    <tr>\n",
       "      <th>5</th>\n",
       "      <td>simple-pipeline</td>\n",
       "      <td>simple-pipeline-20240304122159</td>\n",
       "      <td>{'pipeline_run_component': {'task_name': 'simp...</td>\n",
       "      <td>34.2</td>\n",
       "      <td>Example text</td>\n",
       "    </tr>\n",
       "  </tbody>\n",
       "</table>\n",
       "</div>"
      ],
      "text/plain": [
       "     pipeline_name                           run_name  \\\n",
       "0  simple-pipeline  simple-pipeline-20240304061201156   \n",
       "1  simple-pipeline  simple-pipeline-20240304061003879   \n",
       "2  simple-pipeline  simple-pipeline-20240304060801037   \n",
       "3  simple-pipeline  simple-pipeline-20240304060601172   \n",
       "4  simple-pipeline  simple-pipeline-20240304060400986   \n",
       "5  simple-pipeline     simple-pipeline-20240304122159   \n",
       "\n",
       "                     param.vmlmd_lineage_integration  param.input:number  \\\n",
       "0  {'pipeline_run_component': {'parent_task_names...                34.2   \n",
       "1  {'pipeline_run_component': {'parent_task_names...                34.2   \n",
       "2  {'pipeline_run_component': {'pipeline_run_id':...                34.2   \n",
       "3  {'pipeline_run_component': {'pipeline_run_id':...                34.2   \n",
       "4  {'pipeline_run_component': {'parent_task_names...                34.2   \n",
       "5  {'pipeline_run_component': {'task_name': 'simp...                34.2   \n",
       "\n",
       "  param.input:text  \n",
       "0     Example text  \n",
       "1     Example text  \n",
       "2     Example text  \n",
       "3     Example text  \n",
       "4     Example text  \n",
       "5     Example text  "
      ]
     },
     "execution_count": 71,
     "metadata": {},
     "output_type": "execute_result"
    }
   ],
   "source": [
    "aiplatform.get_pipeline_df(pipeline = f'simple-pipeline')"
   ]
  },
  {
   "cell_type": "code",
   "execution_count": 76,
   "id": "621fdc39-c2c4-44f0-9c08-fa584d34dfad",
   "metadata": {
    "tags": []
   },
   "outputs": [
    {
     "data": {
      "text/plain": [
       "[<google.cloud.aiplatform.pipeline_job_schedules.PipelineJobSchedule object at 0x7fedf4c56170> \n",
       " resource name: projects/1026793852137/locations/us-central1/schedules/968986403419455488]"
      ]
     },
     "execution_count": 76,
     "metadata": {},
     "output_type": "execute_result"
    }
   ],
   "source": [
    "schedules = aiplatform.PipelineJobSchedule.list(\n",
    "    filter = f'display_name=\"simple-pipeline\"',\n",
    ")\n",
    "schedules"
   ]
  },
  {
   "cell_type": "code",
   "execution_count": 81,
   "id": "ec2e6b4d-1292-4453-80b2-8397d3b54996",
   "metadata": {
    "tags": []
   },
   "outputs": [
    {
     "name": "stdout",
     "output_type": "stream",
     "text": [
      "By enabling simple view, the PipelineJob resources returned from this method will not contain all fields.\n",
      "{'name': 'projects/1026793852137/locations/us-central1/pipelineJobs/simple-pipeline-20240304061201156', 'createTime': '2024-03-04T14:12:01.303384Z', 'startTime': '2024-03-04T14:12:01.901199Z', 'endTime': '2024-03-04T14:12:04.253023Z', 'updateTime': '2024-03-04T14:12:04.253023Z', 'pipelineSpec': {'pipelineInfo': {'name': 'simple-pipeline'}}, 'state': 'PIPELINE_STATE_SUCCEEDED', 'jobDetail': {'pipelineContext': {'name': 'projects/1026793852137/locations/us-central1/metadataStores/default/contexts/simple-pipeline'}, 'pipelineRunContext': {'name': 'projects/1026793852137/locations/us-central1/metadataStores/default/contexts/simple-pipeline-20240304061201156'}}, 'labels': {'vertex-ai-pipelines-run-billing-id': '7978872483648372736'}}\n",
      "{'name': 'projects/1026793852137/locations/us-central1/pipelineJobs/simple-pipeline-20240304061003879', 'createTime': '2024-03-04T14:10:04.023500Z', 'startTime': '2024-03-04T14:10:04.697631Z', 'endTime': '2024-03-04T14:10:07.500751Z', 'updateTime': '2024-03-04T14:10:07.500751Z', 'pipelineSpec': {'pipelineInfo': {'name': 'simple-pipeline'}}, 'state': 'PIPELINE_STATE_SUCCEEDED', 'jobDetail': {'pipelineContext': {'name': 'projects/1026793852137/locations/us-central1/metadataStores/default/contexts/simple-pipeline'}, 'pipelineRunContext': {'name': 'projects/1026793852137/locations/us-central1/metadataStores/default/contexts/simple-pipeline-20240304061003879'}}, 'labels': {'vertex-ai-pipelines-run-billing-id': '2761452315339653120'}}\n",
      "{'name': 'projects/1026793852137/locations/us-central1/pipelineJobs/simple-pipeline-20240304060801037', 'createTime': '2024-03-04T14:08:01.260811Z', 'startTime': '2024-03-04T14:08:01.795039Z', 'endTime': '2024-03-04T14:08:04.068783Z', 'updateTime': '2024-03-04T14:08:04.068783Z', 'pipelineSpec': {'pipelineInfo': {'name': 'simple-pipeline'}}, 'state': 'PIPELINE_STATE_SUCCEEDED', 'jobDetail': {'pipelineContext': {'name': 'projects/1026793852137/locations/us-central1/metadataStores/default/contexts/simple-pipeline'}, 'pipelineRunContext': {'name': 'projects/1026793852137/locations/us-central1/metadataStores/default/contexts/simple-pipeline-20240304060801037'}}, 'labels': {'vertex-ai-pipelines-run-billing-id': '3619388044353732608'}}\n",
      "{'name': 'projects/1026793852137/locations/us-central1/pipelineJobs/simple-pipeline-20240304060601172', 'createTime': '2024-03-04T14:06:01.404708Z', 'startTime': '2024-03-04T14:06:02.875135Z', 'endTime': '2024-03-04T14:06:05.654783Z', 'updateTime': '2024-03-04T14:06:05.654783Z', 'pipelineSpec': {'pipelineInfo': {'name': 'simple-pipeline'}}, 'state': 'PIPELINE_STATE_SUCCEEDED', 'jobDetail': {'pipelineContext': {'name': 'projects/1026793852137/locations/us-central1/metadataStores/default/contexts/simple-pipeline'}, 'pipelineRunContext': {'name': 'projects/1026793852137/locations/us-central1/metadataStores/default/contexts/simple-pipeline-20240304060601172'}}, 'labels': {'vertex-ai-pipelines-run-billing-id': '5067295324553347072'}}\n",
      "{'name': 'projects/1026793852137/locations/us-central1/pipelineJobs/simple-pipeline-20240304060400986', 'createTime': '2024-03-04T14:04:01.169561Z', 'startTime': '2024-03-04T14:04:01.837439Z', 'endTime': '2024-03-04T14:04:04.005407Z', 'updateTime': '2024-03-04T14:04:04.005407Z', 'pipelineSpec': {'pipelineInfo': {'name': 'simple-pipeline'}}, 'state': 'PIPELINE_STATE_SUCCEEDED', 'jobDetail': {'pipelineContext': {'name': 'projects/1026793852137/locations/us-central1/metadataStores/default/contexts/simple-pipeline'}, 'pipelineRunContext': {'name': 'projects/1026793852137/locations/us-central1/metadataStores/default/contexts/simple-pipeline-20240304060400986'}}, 'labels': {'vertex-ai-pipelines-run-billing-id': '4825226844582182912'}}\n"
     ]
    }
   ],
   "source": [
    "jobs = schedules[0].list_jobs()\n",
    "for job in jobs:\n",
    "    print(job.to_dict())"
   ]
  },
  {
   "cell_type": "code",
   "execution_count": 82,
   "id": "d6740ba1-3179-4efd-a7a1-4eed87c50098",
   "metadata": {
    "tags": []
   },
   "outputs": [
    {
     "data": {
      "text/plain": [
       "5"
      ]
     },
     "execution_count": 82,
     "metadata": {},
     "output_type": "execute_result"
    }
   ],
   "source": [
    "len(jobs)"
   ]
  },
  {
   "cell_type": "code",
   "execution_count": null,
   "id": "92391af7-bedc-4944-bb8c-76686e1fd882",
   "metadata": {},
   "outputs": [],
   "source": []
  },
  {
   "cell_type": "code",
   "execution_count": null,
   "id": "40793578-1680-4dd7-9325-ac56b4479a2d",
   "metadata": {},
   "outputs": [],
   "source": []
  },
  {
   "cell_type": "code",
   "execution_count": null,
   "id": "b6b57fd5-4207-44c4-841a-e944e2365027",
   "metadata": {},
   "outputs": [],
   "source": []
  },
  {
   "cell_type": "code",
   "execution_count": null,
   "id": "b8f8d9c4-54cc-4a43-8028-c7575bc3adf0",
   "metadata": {},
   "outputs": [],
   "source": []
  },
  {
   "cell_type": "code",
   "execution_count": null,
   "id": "52f6faa9-60f9-4eb5-b8e0-cee594c649df",
   "metadata": {},
   "outputs": [],
   "source": []
  },
  {
   "cell_type": "code",
   "execution_count": null,
   "id": "463bd301-0b31-42dd-9e8e-1d390d478df5",
   "metadata": {},
   "outputs": [],
   "source": []
  }
 ],
 "metadata": {
  "environment": {
   "kernel": "conda-root-py",
   "name": "workbench-notebooks.m115",
   "type": "gcloud",
   "uri": "gcr.io/deeplearning-platform-release/workbench-notebooks:m115"
  },
  "kernelspec": {
   "display_name": "Python 3 (ipykernel)",
   "language": "python",
   "name": "conda-root-py"
  },
  "language_info": {
   "codemirror_mode": {
    "name": "ipython",
    "version": 3
   },
   "file_extension": ".py",
   "mimetype": "text/x-python",
   "name": "python",
   "nbconvert_exporter": "python",
   "pygments_lexer": "ipython3",
   "version": "3.10.13"
  }
 },
 "nbformat": 4,
 "nbformat_minor": 5
}
