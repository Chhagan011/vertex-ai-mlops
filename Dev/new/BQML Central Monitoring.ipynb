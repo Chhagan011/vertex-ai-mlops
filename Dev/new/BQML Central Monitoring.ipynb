{
 "cells": [
  {
   "cell_type": "markdown",
   "id": "bea8d825-8f69-4b18-a8a6-5c71e847f38e",
   "metadata": {},
   "source": [
    "# BigQuery ML (BQML) Central Monitoring"
   ]
  },
  {
   "cell_type": "code",
   "execution_count": null,
   "id": "9271407d-5a84-416c-967d-5f607f13e31f",
   "metadata": {},
   "outputs": [],
   "source": []
  }
 ],
 "metadata": {
  "environment": {
   "kernel": "",
   "name": "workbench-notebooks.m115",
   "type": "gcloud",
   "uri": "gcr.io/deeplearning-platform-release/workbench-notebooks:m115"
  },
  "kernelspec": {
   "display_name": "",
   "name": ""
  },
  "language_info": {
   "name": ""
  }
 },
 "nbformat": 4,
 "nbformat_minor": 5
}
