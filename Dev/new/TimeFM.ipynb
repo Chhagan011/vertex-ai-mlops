{
 "cells": [
  {
   "cell_type": "markdown",
   "id": "b3101586-8d9c-415e-b016-a401a11ce52d",
   "metadata": {},
   "source": [
    "## TimesFM\n",
    "\n",
    "TimesFM (Time Series Foundation Model) is a pretrained time-series foundation model developed by Google Research for time-series forecasting.\n",
    "\n",
    "- [Google Research Blog](https://research.google/blog/a-decoder-only-foundation-model-for-time-series-forecasting/)\n",
    "- [GitHub repo](https://github.com/google-research/timesfm)\n",
    "- [HuggingFace Model Card](https://huggingface.co/google/timesfm-1.0-200m)"
   ]
  },
  {
   "cell_type": "markdown",
   "id": "8ede4e02-6002-4b6c-9299-9ae47e520d7b",
   "metadata": {},
   "source": [
    "## Setup"
   ]
  },
  {
   "cell_type": "code",
   "execution_count": 54,
   "id": "b0178dc5-61bc-4f6d-b3d6-e54be77e9262",
   "metadata": {
    "tags": []
   },
   "outputs": [],
   "source": [
    "import os, shutil\n",
    "from IPython.display import Markdown"
   ]
  },
  {
   "cell_type": "code",
   "execution_count": 55,
   "id": "d7bf55a4-08e2-4fd2-8303-533e4f8439b3",
   "metadata": {
    "tags": []
   },
   "outputs": [],
   "source": [
    "DIR = 'temp/timesfm'"
   ]
  },
  {
   "cell_type": "code",
   "execution_count": 56,
   "id": "569bd332-52b7-47ce-b5e3-b6552371561d",
   "metadata": {
    "tags": []
   },
   "outputs": [
    {
     "name": "stdout",
     "output_type": "stream",
     "text": [
      "Cloning into 'temp/timesfm'...\n",
      "remote: Enumerating objects: 121, done.\u001b[K\n",
      "remote: Counting objects: 100% (120/120), done.\u001b[K\n",
      "remote: Compressing objects: 100% (72/72), done.\u001b[K\n",
      "remote: Total 121 (delta 55), reused 102 (delta 46), pack-reused 1\u001b[K\n",
      "Receiving objects: 100% (121/121), 547.21 KiB | 5.11 MiB/s, done.\n",
      "Resolving deltas: 100% (55/55), done.\n"
     ]
    }
   ],
   "source": [
    "if not os.path.exists(DIR):\n",
    "    os.makedirs(DIR)\n",
    "else:\n",
    "    shutil.rmtree(DIR)\n",
    "!git clone https://github.com/google-research/timesfm.git $DIR"
   ]
  },
  {
   "cell_type": "code",
   "execution_count": 58,
   "id": "228c2bf7-7839-4393-875b-a2e068a1c5cf",
   "metadata": {
    "tags": []
   },
   "outputs": [
    {
     "data": {
      "text/markdown": [
       "```yaml\n",
       "\n",
       "name: tfm_env\n",
       "\n",
       "channels:\n",
       "  - conda-forge\n",
       "  - defaults\n",
       "  - anaconda\n",
       "dependencies:\n",
       "  - jupyterlab\n",
       "  - pip\n",
       "  - python=3.10\n",
       "  - pip:\n",
       "    - huggingface_hub[cli]\n",
       "    - utilsforecast\n",
       "    - praxis\n",
       "    - paxml\n",
       "    - jax[cpu]==0.4.26\n",
       "    - einshape\n",
       "\n",
       "```"
      ],
      "text/plain": [
       "<IPython.core.display.Markdown object>"
      ]
     },
     "execution_count": 58,
     "metadata": {},
     "output_type": "execute_result"
    }
   ],
   "source": [
    "with open(f'{DIR}/environment_cpu.yml', 'r') as f:\n",
    "    data = f.read()\n",
    "Markdown(f\"```yaml\\n\\n{data}\\n```\")"
   ]
  },
  {
   "attachments": {
    "a271641a-f773-4dda-8127-b27b12fd3d31.png": {
     "image/png": "[encoded data removed]"
    }
   },
   "cell_type": "markdown",
   "id": "af4cb62b-e97e-4ad5-9225-2c6789eeb88a",
   "metadata": {},
   "source": [
    "TimesFM comes with Conda Environment files.  Vertex AI Workbench uses Conda Environments - [reference](https://cloud.google.com/vertex-ai/docs/workbench/instances/add-environment).\n",
    "\n",
    "\n",
    "Conda: Create and Activate the Environment and install `timesfm` from local:\n",
    "- Open A Terminal: File > New > Terminal\n",
    "- In the terminal run:\n",
    "    - `conda env create --file=temp/timesfm/environment_cpu.yml`\n",
    "    - `conda env list`\n",
    "    - `conda activate tfm_env`\n",
    "    - `which pip`\n",
    "    - `pip install -e temp/timesfm`\n",
    "    \n",
    "Add A Kernel For the new Environment:\n",
    "- `DL_ANACONDA_ENV_HOME=\"${DL_ANACONDA_HOME}/envs/tfm_env\"`\n",
    "- `python -m ipykernel install --prefix \"${DL_ANACONDA_ENV_HOME}\" --name tfm_env --display-name TimesFM`\n",
    "\n",
    "Change Kernel:\n",
    "- Kernel > Change Kernel\n",
    "- Select Kernel > Pick TimesFM > Select\n",
    "\n",
    "Verify The Kernel is `TimeFM` in the upper right:\n",
    "\n",
    "![Screenshot 2024-05-25 10.59.53 AM.png](attachment:a271641a-f773-4dda-8127-b27b12fd3d31.png)"
   ]
  },
  {
   "cell_type": "code",
   "execution_count": 1,
   "id": "c29750d4-3ef0-4a8d-be8b-be836c5382c4",
   "metadata": {
    "tags": []
   },
   "outputs": [
    {
     "name": "stdout",
     "output_type": "stream",
     "text": [
      "\n",
      "     active environment : tfm_env\n",
      "    active env location : /opt/conda/envs/tfm_env\n",
      "            shell level : 3\n",
      "       user config file : /home/jupyter/.condarc\n",
      " populated config files : /opt/conda/.condarc\n",
      "          conda version : 24.1.2\n",
      "    conda-build version : not installed\n",
      "         python version : 3.10.14.final.0\n",
      "                 solver : libmamba (default)\n",
      "       virtual packages : __archspec=1=haswell\n",
      "                          __conda=24.1.2=0\n",
      "                          __glibc=2.31=0\n",
      "                          __linux=5.10.0=0\n",
      "                          __unix=0=0\n",
      "       base environment : /opt/conda  (writable)\n",
      "      conda av data dir : /opt/conda/etc/conda\n",
      "  conda av metadata url : None\n",
      "           channel URLs : https://conda.anaconda.org/conda-forge/linux-64\n",
      "                          https://conda.anaconda.org/conda-forge/noarch\n",
      "                          https://repo.anaconda.com/pkgs/main/linux-64\n",
      "                          https://repo.anaconda.com/pkgs/main/noarch\n",
      "                          https://repo.anaconda.com/pkgs/r/linux-64\n",
      "                          https://repo.anaconda.com/pkgs/r/noarch\n",
      "          package cache : /opt/conda/pkgs\n",
      "                          /home/jupyter/.conda/pkgs\n",
      "       envs directories : /opt/conda/envs\n",
      "                          /home/jupyter/.conda/envs\n",
      "               platform : linux-64\n",
      "             user-agent : conda/24.1.2 requests/2.31.0 CPython/3.10.14 Linux/5.10.0-28-cloud-amd64 debian/11.9 glibc/2.31 solver/libmamba conda-libmamba-solver/24.1.0 libmambapy/1.5.7\n",
      "                UID:GID : 1000:1001\n",
      "             netrc file : None\n",
      "           offline mode : False\n",
      "\n",
      "\n"
     ]
    }
   ],
   "source": [
    "!conda info"
   ]
  },
  {
   "cell_type": "code",
   "execution_count": 2,
   "id": "75bfdace-eb81-41b3-ad35-bcb40ae02228",
   "metadata": {
    "tags": []
   },
   "outputs": [
    {
     "name": "stdout",
     "output_type": "stream",
     "text": [
      "/opt/conda/envs/tfm_env/bin/pip\n"
     ]
    }
   ],
   "source": [
    "!which pip"
   ]
  },
  {
   "cell_type": "code",
   "execution_count": 6,
   "id": "ba98cf1d-a5ef-4960-85bf-fc2e473024b2",
   "metadata": {
    "tags": []
   },
   "outputs": [],
   "source": [
    "#!pip install -e temp/timesfm"
   ]
  },
  {
   "cell_type": "code",
   "execution_count": 3,
   "id": "51dc209d-3985-4fa6-98a3-dfd918006668",
   "metadata": {
    "tags": []
   },
   "outputs": [],
   "source": [
    "#!pip install bigframes -q -U"
   ]
  },
  {
   "cell_type": "markdown",
   "id": "5dff7948-ca23-4f89-9c0c-4440b19e81eb",
   "metadata": {},
   "source": [
    "---\n",
    "## Get Started"
   ]
  },
  {
   "cell_type": "code",
   "execution_count": 1,
   "id": "977fdbe1-c406-4e7e-aa3b-022241369904",
   "metadata": {
    "tags": []
   },
   "outputs": [],
   "source": [
    "import timesfm"
   ]
  },
  {
   "cell_type": "code",
   "execution_count": 2,
   "id": "4de8d3f9-6005-4c92-ad22-54f596251547",
   "metadata": {
    "tags": []
   },
   "outputs": [
    {
     "data": {
      "application/vnd.jupyter.widget-view+json": {
       "model_id": "eb6c7fb45e8448379d758220b93dfe24",
       "version_major": 2,
       "version_minor": 0
      },
      "text/plain": [
       "Fetching 5 files:   0%|          | 0/5 [00:00<?, ?it/s]"
      ]
     },
     "metadata": {},
     "output_type": "display_data"
    },
    {
     "name": "stdout",
     "output_type": "stream",
     "text": [
      "Constructing model weights.\n"
     ]
    },
    {
     "name": "stderr",
     "output_type": "stream",
     "text": [
      "WARNING:absl:No registered CheckpointArgs found for handler type: <class 'paxml.checkpoints.FlaxCheckpointHandler'>\n",
      "WARNING:absl:Configured `CheckpointManager` using deprecated legacy API. Please follow the instructions at https://orbax.readthedocs.io/en/latest/api_refactor.html to migrate by May 1st, 2024.\n",
      "WARNING:absl:train_state_unpadded_shape_dtype_struct is not provided. We assume `train_state` is unpadded.\n"
     ]
    },
    {
     "name": "stdout",
     "output_type": "stream",
     "text": [
      "Constructed model weights in 3.79 seconds.\n",
      "Restoring checkpoint from /home/jupyter/.cache/huggingface/hub/models--google--timesfm-1.0-200m/snapshots/8775f7531211ac864b739fe776b0b255c277e2be/checkpoints.\n"
     ]
    },
    {
     "name": "stderr",
     "output_type": "stream",
     "text": [
      "ERROR:absl:For checkpoint version > 1.0, we require users to provide\n",
      "          `train_state_unpadded_shape_dtype_struct` during checkpoint\n",
      "          saving/restoring, to avoid potential silent bugs when loading\n",
      "          checkpoints to incompatible unpadded shapes of TrainState.\n"
     ]
    },
    {
     "name": "stdout",
     "output_type": "stream",
     "text": [
      "Restored checkpoint in 1.52 seconds.\n",
      "Jitting decoding.\n",
      "Jitted decoding in 28.45 seconds.\n"
     ]
    }
   ],
   "source": [
    "tfm = timesfm.TimesFm(\n",
    "    context_len=32, # multiple of 32 (input_path_len) up to 512\n",
    "    horizon_len=14, # anything but < context_len recommended\n",
    "    input_patch_len=32,\n",
    "    output_patch_len=128,\n",
    "    num_layers=20,\n",
    "    model_dims=1280,\n",
    "    backend=\"cpu\", # cpu or gpu or tpu\n",
    ")\n",
    "tfm.load_from_checkpoint(repo_id=\"google/timesfm-1.0-200m\")"
   ]
  },
  {
   "cell_type": "code",
   "execution_count": 3,
   "id": "c24b90fc-9a09-466f-9a64-45e53d25b823",
   "metadata": {
    "tags": []
   },
   "outputs": [],
   "source": [
    "import numpy as np"
   ]
  },
  {
   "cell_type": "code",
   "execution_count": 4,
   "id": "d8a92a45-2c5d-4246-a7b5-c10eb72f888d",
   "metadata": {
    "tags": []
   },
   "outputs": [],
   "source": [
    "forecast_input = [\n",
    "    np.sin(np.linspace(0, 20, 100)),\n",
    "    np.sin(np.linspace(0, 20, 200)),\n",
    "    np.sin(np.linspace(0, 20, 400)),\n",
    "]\n",
    "#forecast_input"
   ]
  },
  {
   "cell_type": "code",
   "execution_count": 5,
   "id": "338ebd02-1cf2-4fa3-b33e-e5d352638c39",
   "metadata": {
    "tags": []
   },
   "outputs": [
    {
     "data": {
      "text/plain": [
       "[0, 1, 2]"
      ]
     },
     "execution_count": 5,
     "metadata": {},
     "output_type": "execute_result"
    }
   ],
   "source": [
    "frequency_input = [0, 1, 2]\n",
    "frequency_input"
   ]
  },
  {
   "cell_type": "code",
   "execution_count": 6,
   "id": "533e9d97-bacf-48de-9ef9-b78f4db2473d",
   "metadata": {
    "tags": []
   },
   "outputs": [
    {
     "data": {
      "text/plain": [
       "array([[ 0.9295389 ,  0.9578312 ,  0.9545266 ,  0.8985594 ,  0.8552065 ,\n",
       "         0.73434806,  0.58431673,  0.3920936 ,  0.20289218, -0.00673276,\n",
       "        -0.25730416, -0.45626634, -0.63850623, -0.8001216 ],\n",
       "       [ 0.8861648 ,  0.923024  ,  0.9876071 ,  1.023315  ,  1.0321137 ,\n",
       "         1.0296717 ,  1.0408154 ,  1.0685121 ,  1.0497584 ,  1.0751126 ,\n",
       "         1.07947   ,  1.0454366 ,  1.0126661 ,  1.0177269 ],\n",
       "       [ 0.9092182 ,  0.9536099 ,  0.9658944 ,  0.9697123 ,  0.985045  ,\n",
       "         1.0228808 ,  1.0523278 ,  1.1258184 ,  1.1216611 ,  1.1497967 ,\n",
       "         1.1614591 ,  1.2049536 ,  1.2251331 ,  1.3108364 ]],\n",
       "      dtype=float32)"
      ]
     },
     "execution_count": 6,
     "metadata": {},
     "output_type": "execute_result"
    }
   ],
   "source": [
    "point_forecast, experimental_quantile_forecast = tfm.forecast(\n",
    "    forecast_input,\n",
    "    freq=frequency_input,\n",
    ")\n",
    "point_forecast"
   ]
  },
  {
   "cell_type": "code",
   "execution_count": 7,
   "id": "aeabf0c1-1cd4-4661-bbb4-2678810fe178",
   "metadata": {
    "tags": []
   },
   "outputs": [
    {
     "data": {
      "text/plain": [
       "patched_decoder.PatchedTimeSeriesDecoder"
      ]
     },
     "execution_count": 7,
     "metadata": {},
     "output_type": "execute_result"
    }
   ],
   "source": [
    "type(tfm._model)"
   ]
  },
  {
   "cell_type": "code",
   "execution_count": 8,
   "id": "19499fd4-af8e-4beb-af91-c2f8d7e82b15",
   "metadata": {
    "tags": []
   },
   "outputs": [
    {
     "data": {
      "text/plain": [
       "paxml.train_states.TrainState"
      ]
     },
     "execution_count": 8,
     "metadata": {},
     "output_type": "execute_result"
    }
   ],
   "source": [
    "type(tfm._train_state)"
   ]
  },
  {
   "cell_type": "markdown",
   "id": "d1ccf5a0-abf6-4423-a4e5-91beef5450ae",
   "metadata": {},
   "source": [
    "## BigQuery With BigFrames"
   ]
  },
  {
   "cell_type": "code",
   "execution_count": 38,
   "id": "e7c5dc53-8f38-44f5-a6dd-858b90680049",
   "metadata": {
    "tags": []
   },
   "outputs": [],
   "source": [
    "import bigframes.pandas as bpd\n",
    "import pandas as pd\n",
    "#bpd.options.bigquery.project = project_id\n",
    "#bpd.options.bigquery.location = 'us'"
   ]
  },
  {
   "cell_type": "code",
   "execution_count": 13,
   "id": "d99f13af-0a11-4278-b541-4533d98c2338",
   "metadata": {
    "tags": []
   },
   "outputs": [
    {
     "data": {
      "text/html": [
       "Query job f58ce8bb-9e9a-4ad2-a9cf-ea1d0966ccfa is DONE. 966.0 MB processed. <a target=\"_blank\" href=\"https://console.cloud.google.com/bigquery?project=statmike-mlops-349915&j=bq:US:f58ce8bb-9e9a-4ad2-a9cf-ea1d0966ccfa&page=queryresults\">Open Job</a>"
      ],
      "text/plain": [
       "<IPython.core.display.HTML object>"
      ]
     },
     "metadata": {},
     "output_type": "display_data"
    }
   ],
   "source": [
    "ds = bpd.read_gbq(\n",
    "\"\"\"\n",
    "SELECT\n",
    "    start_station_name,\n",
    "    COUNT(*) as num_trips,\n",
    "    EXTRACT(DATE FROM starttime) AS starttime\n",
    "FROM bigquery-public-data.new_york.citibike_trips\n",
    "WHERE start_station_name LIKE '%Central Park%'\n",
    "GROUP BY start_station_name, starttime\n",
    "\"\"\"\n",
    ")"
   ]
  },
  {
   "cell_type": "code",
   "execution_count": 14,
   "id": "dbe60d04-6df9-4cf3-99f9-262bea641031",
   "metadata": {
    "tags": []
   },
   "outputs": [
    {
     "data": {
      "text/html": [
       "Query job 04a2d394-2ab3-4ee5-a232-7f7289aa6a69 is DONE. 198.9 kB processed. <a target=\"_blank\" href=\"https://console.cloud.google.com/bigquery?project=statmike-mlops-349915&j=bq:US:04a2d394-2ab3-4ee5-a232-7f7289aa6a69&page=queryresults\">Open Job</a>"
      ],
      "text/plain": [
       "<IPython.core.display.HTML object>"
      ]
     },
     "metadata": {},
     "output_type": "display_data"
    },
    {
     "data": {
      "text/html": [
       "Query job 789e4dfa-2969-4375-87fa-2a4dec4800f2 is DONE. 0 Bytes processed. <a target=\"_blank\" href=\"https://console.cloud.google.com/bigquery?project=statmike-mlops-349915&j=bq:US:789e4dfa-2969-4375-87fa-2a4dec4800f2&page=queryresults\">Open Job</a>"
      ],
      "text/plain": [
       "<IPython.core.display.HTML object>"
      ]
     },
     "metadata": {},
     "output_type": "display_data"
    },
    {
     "data": {
      "text/html": [
       "Query job 18d60dfe-6d86-46e9-b8c9-bc266e4b3bd4 is DONE. 329 Bytes processed. <a target=\"_blank\" href=\"https://console.cloud.google.com/bigquery?project=statmike-mlops-349915&j=bq:US:18d60dfe-6d86-46e9-b8c9-bc266e4b3bd4&page=queryresults\">Open Job</a>"
      ],
      "text/plain": [
       "<IPython.core.display.HTML object>"
      ]
     },
     "metadata": {},
     "output_type": "display_data"
    },
    {
     "data": {
      "text/html": [
       "<div>\n",
       "<style scoped>\n",
       "    .dataframe tbody tr th:only-of-type {\n",
       "        vertical-align: middle;\n",
       "    }\n",
       "\n",
       "    .dataframe tbody tr th {\n",
       "        vertical-align: top;\n",
       "    }\n",
       "\n",
       "    .dataframe thead th {\n",
       "        text-align: right;\n",
       "    }\n",
       "</style>\n",
       "<table border=\"1\" class=\"dataframe\">\n",
       "  <thead>\n",
       "    <tr style=\"text-align: right;\">\n",
       "      <th></th>\n",
       "      <th>start_station_name</th>\n",
       "      <th>num_trips</th>\n",
       "      <th>starttime</th>\n",
       "    </tr>\n",
       "  </thead>\n",
       "  <tbody>\n",
       "    <tr>\n",
       "      <th>0</th>\n",
       "      <td>Grand Army Plaza &amp; Central Park S</td>\n",
       "      <td>190</td>\n",
       "      <td>2014-09-11</td>\n",
       "    </tr>\n",
       "    <tr>\n",
       "      <th>1</th>\n",
       "      <td>Grand Army Plaza &amp; Central Park S</td>\n",
       "      <td>167</td>\n",
       "      <td>2015-07-07</td>\n",
       "    </tr>\n",
       "    <tr>\n",
       "      <th>2</th>\n",
       "      <td>Grand Army Plaza &amp; Central Park S</td>\n",
       "      <td>73</td>\n",
       "      <td>2014-10-04</td>\n",
       "    </tr>\n",
       "    <tr>\n",
       "      <th>3</th>\n",
       "      <td>Central Park West &amp; W 76 St</td>\n",
       "      <td>135</td>\n",
       "      <td>2016-06-17</td>\n",
       "    </tr>\n",
       "    <tr>\n",
       "      <th>4</th>\n",
       "      <td>Grand Army Plaza &amp; Central Park S</td>\n",
       "      <td>259</td>\n",
       "      <td>2016-07-02</td>\n",
       "    </tr>\n",
       "  </tbody>\n",
       "</table>\n",
       "<p>5 rows × 3 columns</p>\n",
       "</div>[5 rows x 3 columns in total]"
      ],
      "text/plain": [
       "                  start_station_name  num_trips   starttime\n",
       "0  Grand Army Plaza & Central Park S        190  2014-09-11\n",
       "1  Grand Army Plaza & Central Park S        167  2015-07-07\n",
       "2  Grand Army Plaza & Central Park S         73  2014-10-04\n",
       "3        Central Park West & W 76 St        135  2016-06-17\n",
       "4  Grand Army Plaza & Central Park S        259  2016-07-02\n",
       "\n",
       "[5 rows x 3 columns]"
      ]
     },
     "execution_count": 14,
     "metadata": {},
     "output_type": "execute_result"
    }
   ],
   "source": [
    "ds.head()"
   ]
  },
  {
   "cell_type": "code",
   "execution_count": 15,
   "id": "1742cd51-4862-4866-a423-d2aea7105ac5",
   "metadata": {
    "tags": []
   },
   "outputs": [
    {
     "data": {
      "text/html": [
       "Query job 225fe67b-bd21-4b79-a10e-0b1fa0919978 is DONE. 198.9 kB processed. <a target=\"_blank\" href=\"https://console.cloud.google.com/bigquery?project=statmike-mlops-349915&j=bq:US:225fe67b-bd21-4b79-a10e-0b1fa0919978&page=queryresults\">Open Job</a>"
      ],
      "text/plain": [
       "<IPython.core.display.HTML object>"
      ]
     },
     "metadata": {},
     "output_type": "display_data"
    }
   ],
   "source": [
    "local_ds = ds.to_pandas().sort_values(['start_station_name', 'starttime'])"
   ]
  },
  {
   "cell_type": "code",
   "execution_count": 39,
   "id": "2f85e43a-385c-4a5e-9291-88f763d302a8",
   "metadata": {
    "tags": []
   },
   "outputs": [
    {
     "data": {
      "text/plain": [
       "start_station_name         string[pyarrow]\n",
       "num_trips                            Int64\n",
       "starttime             date32[day][pyarrow]\n",
       "dtype: object"
      ]
     },
     "execution_count": 39,
     "metadata": {},
     "output_type": "execute_result"
    }
   ],
   "source": [
    "local_ds.dtypes"
   ]
  },
  {
   "cell_type": "code",
   "execution_count": 40,
   "id": "dcb302d1-2dd4-4b8c-a366-ae4d5ebb75aa",
   "metadata": {
    "tags": []
   },
   "outputs": [],
   "source": [
    "local_ds['starttime'] = pd.to_datetime(local_ds['starttime'])"
   ]
  },
  {
   "cell_type": "code",
   "execution_count": 41,
   "id": "44132ebe-0791-43ff-a1ba-e57ab85863a9",
   "metadata": {
    "tags": []
   },
   "outputs": [
    {
     "data": {
      "text/plain": [
       "start_station_name    string[pyarrow]\n",
       "num_trips                       Int64\n",
       "starttime              datetime64[ns]\n",
       "dtype: object"
      ]
     },
     "execution_count": 41,
     "metadata": {},
     "output_type": "execute_result"
    }
   ],
   "source": [
    "local_ds.dtypes"
   ]
  },
  {
   "cell_type": "code",
   "execution_count": 42,
   "id": "9ca4eaac-2c18-45bc-b66f-ceaaa3a9bf80",
   "metadata": {
    "tags": []
   },
   "outputs": [
    {
     "data": {
      "text/plain": [
       "start_station_name\n",
       "Central Park North & Adam Clayton Powell Blvd    Axes(0.125,0.11;0.775x0.77)\n",
       "Central Park S & 6 Ave                           Axes(0.125,0.11;0.775x0.77)\n",
       "Central Park W & W 96 St                         Axes(0.125,0.11;0.775x0.77)\n",
       "Central Park West & W 100 St                     Axes(0.125,0.11;0.775x0.77)\n",
       "Central Park West & W 102 St                     Axes(0.125,0.11;0.775x0.77)\n",
       "Central Park West & W 68 St                      Axes(0.125,0.11;0.775x0.77)\n",
       "Central Park West & W 72 St                      Axes(0.125,0.11;0.775x0.77)\n",
       "Central Park West & W 76 St                      Axes(0.125,0.11;0.775x0.77)\n",
       "Central Park West & W 85 St                      Axes(0.125,0.11;0.775x0.77)\n",
       "Grand Army Plaza & Central Park S                Axes(0.125,0.11;0.775x0.77)\n",
       "W 106 St & Central Park West                     Axes(0.125,0.11;0.775x0.77)\n",
       "W 82 St & Central Park West                      Axes(0.125,0.11;0.775x0.77)\n",
       "Name: num_trips, dtype: object"
      ]
     },
     "execution_count": 42,
     "metadata": {},
     "output_type": "execute_result"
    },
    {
     "data": {
      "image/png": "[encoded data removed]",
      "text/plain": [
       "<Figure size 1200x400 with 1 Axes>"
      ]
     },
     "metadata": {},
     "output_type": "display_data"
    }
   ],
   "source": [
    "local_ds.set_index('starttime').groupby('start_station_name')['num_trips'].plot(legend = 'True', figsize = (12, 4))"
   ]
  },
  {
   "cell_type": "code",
   "execution_count": 44,
   "id": "aeecddfd-2e11-4a9e-90dc-a405fe480d46",
   "metadata": {
    "tags": []
   },
   "outputs": [
    {
     "data": {
      "text/html": [
       "<div>\n",
       "<style scoped>\n",
       "    .dataframe tbody tr th:only-of-type {\n",
       "        vertical-align: middle;\n",
       "    }\n",
       "\n",
       "    .dataframe tbody tr th {\n",
       "        vertical-align: top;\n",
       "    }\n",
       "\n",
       "    .dataframe thead th {\n",
       "        text-align: right;\n",
       "    }\n",
       "</style>\n",
       "<table border=\"1\" class=\"dataframe\">\n",
       "  <thead>\n",
       "    <tr style=\"text-align: right;\">\n",
       "      <th></th>\n",
       "      <th>unique_id</th>\n",
       "      <th>num_trips</th>\n",
       "      <th>ds</th>\n",
       "    </tr>\n",
       "  </thead>\n",
       "  <tbody>\n",
       "    <tr>\n",
       "      <th>2088</th>\n",
       "      <td>Central Park W &amp; W 96 St</td>\n",
       "      <td>85</td>\n",
       "      <td>2016-08-04</td>\n",
       "    </tr>\n",
       "    <tr>\n",
       "      <th>3389</th>\n",
       "      <td>Central Park W &amp; W 96 St</td>\n",
       "      <td>135</td>\n",
       "      <td>2016-08-05</td>\n",
       "    </tr>\n",
       "    <tr>\n",
       "      <th>230</th>\n",
       "      <td>Central Park W &amp; W 96 St</td>\n",
       "      <td>240</td>\n",
       "      <td>2016-08-06</td>\n",
       "    </tr>\n",
       "    <tr>\n",
       "      <th>495</th>\n",
       "      <td>Central Park W &amp; W 96 St</td>\n",
       "      <td>301</td>\n",
       "      <td>2016-08-07</td>\n",
       "    </tr>\n",
       "    <tr>\n",
       "      <th>1588</th>\n",
       "      <td>Central Park W &amp; W 96 St</td>\n",
       "      <td>132</td>\n",
       "      <td>2016-08-08</td>\n",
       "    </tr>\n",
       "    <tr>\n",
       "      <th>890</th>\n",
       "      <td>Central Park W &amp; W 96 St</td>\n",
       "      <td>69</td>\n",
       "      <td>2016-08-09</td>\n",
       "    </tr>\n",
       "    <tr>\n",
       "      <th>1873</th>\n",
       "      <td>Central Park W &amp; W 96 St</td>\n",
       "      <td>63</td>\n",
       "      <td>2016-08-10</td>\n",
       "    </tr>\n",
       "    <tr>\n",
       "      <th>217</th>\n",
       "      <td>Central Park W &amp; W 96 St</td>\n",
       "      <td>69</td>\n",
       "      <td>2016-08-11</td>\n",
       "    </tr>\n",
       "    <tr>\n",
       "      <th>2410</th>\n",
       "      <td>Central Park W &amp; W 96 St</td>\n",
       "      <td>48</td>\n",
       "      <td>2016-08-12</td>\n",
       "    </tr>\n",
       "    <tr>\n",
       "      <th>1850</th>\n",
       "      <td>Central Park W &amp; W 96 St</td>\n",
       "      <td>62</td>\n",
       "      <td>2016-08-13</td>\n",
       "    </tr>\n",
       "    <tr>\n",
       "      <th>2443</th>\n",
       "      <td>Central Park W &amp; W 96 St</td>\n",
       "      <td>100</td>\n",
       "      <td>2016-08-14</td>\n",
       "    </tr>\n",
       "    <tr>\n",
       "      <th>2498</th>\n",
       "      <td>Central Park W &amp; W 96 St</td>\n",
       "      <td>70</td>\n",
       "      <td>2016-08-15</td>\n",
       "    </tr>\n",
       "    <tr>\n",
       "      <th>3646</th>\n",
       "      <td>Central Park W &amp; W 96 St</td>\n",
       "      <td>60</td>\n",
       "      <td>2016-08-16</td>\n",
       "    </tr>\n",
       "    <tr>\n",
       "      <th>1183</th>\n",
       "      <td>Central Park W &amp; W 96 St</td>\n",
       "      <td>96</td>\n",
       "      <td>2016-08-17</td>\n",
       "    </tr>\n",
       "    <tr>\n",
       "      <th>55</th>\n",
       "      <td>Central Park W &amp; W 96 St</td>\n",
       "      <td>73</td>\n",
       "      <td>2016-08-18</td>\n",
       "    </tr>\n",
       "    <tr>\n",
       "      <th>3277</th>\n",
       "      <td>Central Park W &amp; W 96 St</td>\n",
       "      <td>67</td>\n",
       "      <td>2016-08-19</td>\n",
       "    </tr>\n",
       "    <tr>\n",
       "      <th>4282</th>\n",
       "      <td>Central Park W &amp; W 96 St</td>\n",
       "      <td>111</td>\n",
       "      <td>2016-08-20</td>\n",
       "    </tr>\n",
       "    <tr>\n",
       "      <th>3265</th>\n",
       "      <td>Central Park W &amp; W 96 St</td>\n",
       "      <td>124</td>\n",
       "      <td>2016-08-21</td>\n",
       "    </tr>\n",
       "    <tr>\n",
       "      <th>2474</th>\n",
       "      <td>Central Park W &amp; W 96 St</td>\n",
       "      <td>76</td>\n",
       "      <td>2016-08-22</td>\n",
       "    </tr>\n",
       "    <tr>\n",
       "      <th>1686</th>\n",
       "      <td>Central Park W &amp; W 96 St</td>\n",
       "      <td>78</td>\n",
       "      <td>2016-08-23</td>\n",
       "    </tr>\n",
       "    <tr>\n",
       "      <th>4075</th>\n",
       "      <td>Central Park W &amp; W 96 St</td>\n",
       "      <td>83</td>\n",
       "      <td>2016-08-24</td>\n",
       "    </tr>\n",
       "    <tr>\n",
       "      <th>56</th>\n",
       "      <td>Central Park W &amp; W 96 St</td>\n",
       "      <td>78</td>\n",
       "      <td>2016-08-25</td>\n",
       "    </tr>\n",
       "    <tr>\n",
       "      <th>1885</th>\n",
       "      <td>Central Park W &amp; W 96 St</td>\n",
       "      <td>80</td>\n",
       "      <td>2016-08-26</td>\n",
       "    </tr>\n",
       "    <tr>\n",
       "      <th>684</th>\n",
       "      <td>Central Park W &amp; W 96 St</td>\n",
       "      <td>114</td>\n",
       "      <td>2016-08-27</td>\n",
       "    </tr>\n",
       "    <tr>\n",
       "      <th>3641</th>\n",
       "      <td>Central Park W &amp; W 96 St</td>\n",
       "      <td>140</td>\n",
       "      <td>2016-08-28</td>\n",
       "    </tr>\n",
       "    <tr>\n",
       "      <th>2054</th>\n",
       "      <td>Central Park W &amp; W 96 St</td>\n",
       "      <td>56</td>\n",
       "      <td>2016-08-29</td>\n",
       "    </tr>\n",
       "    <tr>\n",
       "      <th>1174</th>\n",
       "      <td>Central Park W &amp; W 96 St</td>\n",
       "      <td>83</td>\n",
       "      <td>2016-08-30</td>\n",
       "    </tr>\n",
       "    <tr>\n",
       "      <th>153</th>\n",
       "      <td>Central Park W &amp; W 96 St</td>\n",
       "      <td>96</td>\n",
       "      <td>2016-08-31</td>\n",
       "    </tr>\n",
       "    <tr>\n",
       "      <th>2000</th>\n",
       "      <td>Central Park W &amp; W 96 St</td>\n",
       "      <td>40</td>\n",
       "      <td>2016-09-01</td>\n",
       "    </tr>\n",
       "    <tr>\n",
       "      <th>1950</th>\n",
       "      <td>Central Park W &amp; W 96 St</td>\n",
       "      <td>138</td>\n",
       "      <td>2016-09-02</td>\n",
       "    </tr>\n",
       "    <tr>\n",
       "      <th>284</th>\n",
       "      <td>Central Park W &amp; W 96 St</td>\n",
       "      <td>146</td>\n",
       "      <td>2016-09-03</td>\n",
       "    </tr>\n",
       "    <tr>\n",
       "      <th>4253</th>\n",
       "      <td>Central Park W &amp; W 96 St</td>\n",
       "      <td>173</td>\n",
       "      <td>2016-09-04</td>\n",
       "    </tr>\n",
       "    <tr>\n",
       "      <th>119</th>\n",
       "      <td>Central Park W &amp; W 96 St</td>\n",
       "      <td>159</td>\n",
       "      <td>2016-09-05</td>\n",
       "    </tr>\n",
       "    <tr>\n",
       "      <th>4256</th>\n",
       "      <td>Central Park W &amp; W 96 St</td>\n",
       "      <td>64</td>\n",
       "      <td>2016-09-06</td>\n",
       "    </tr>\n",
       "    <tr>\n",
       "      <th>726</th>\n",
       "      <td>Central Park W &amp; W 96 St</td>\n",
       "      <td>108</td>\n",
       "      <td>2016-09-07</td>\n",
       "    </tr>\n",
       "    <tr>\n",
       "      <th>1879</th>\n",
       "      <td>Central Park W &amp; W 96 St</td>\n",
       "      <td>85</td>\n",
       "      <td>2016-09-08</td>\n",
       "    </tr>\n",
       "    <tr>\n",
       "      <th>3488</th>\n",
       "      <td>Central Park W &amp; W 96 St</td>\n",
       "      <td>82</td>\n",
       "      <td>2016-09-09</td>\n",
       "    </tr>\n",
       "    <tr>\n",
       "      <th>1118</th>\n",
       "      <td>Central Park W &amp; W 96 St</td>\n",
       "      <td>120</td>\n",
       "      <td>2016-09-10</td>\n",
       "    </tr>\n",
       "    <tr>\n",
       "      <th>3797</th>\n",
       "      <td>Central Park W &amp; W 96 St</td>\n",
       "      <td>161</td>\n",
       "      <td>2016-09-11</td>\n",
       "    </tr>\n",
       "    <tr>\n",
       "      <th>4356</th>\n",
       "      <td>Central Park W &amp; W 96 St</td>\n",
       "      <td>77</td>\n",
       "      <td>2016-09-12</td>\n",
       "    </tr>\n",
       "    <tr>\n",
       "      <th>552</th>\n",
       "      <td>Central Park W &amp; W 96 St</td>\n",
       "      <td>86</td>\n",
       "      <td>2016-09-13</td>\n",
       "    </tr>\n",
       "    <tr>\n",
       "      <th>848</th>\n",
       "      <td>Central Park W &amp; W 96 St</td>\n",
       "      <td>98</td>\n",
       "      <td>2016-09-14</td>\n",
       "    </tr>\n",
       "    <tr>\n",
       "      <th>1436</th>\n",
       "      <td>Central Park W &amp; W 96 St</td>\n",
       "      <td>75</td>\n",
       "      <td>2016-09-15</td>\n",
       "    </tr>\n",
       "    <tr>\n",
       "      <th>1240</th>\n",
       "      <td>Central Park W &amp; W 96 St</td>\n",
       "      <td>103</td>\n",
       "      <td>2016-09-16</td>\n",
       "    </tr>\n",
       "    <tr>\n",
       "      <th>2826</th>\n",
       "      <td>Central Park W &amp; W 96 St</td>\n",
       "      <td>153</td>\n",
       "      <td>2016-09-17</td>\n",
       "    </tr>\n",
       "    <tr>\n",
       "      <th>3368</th>\n",
       "      <td>Central Park W &amp; W 96 St</td>\n",
       "      <td>164</td>\n",
       "      <td>2016-09-18</td>\n",
       "    </tr>\n",
       "    <tr>\n",
       "      <th>2220</th>\n",
       "      <td>Central Park W &amp; W 96 St</td>\n",
       "      <td>18</td>\n",
       "      <td>2016-09-19</td>\n",
       "    </tr>\n",
       "    <tr>\n",
       "      <th>4126</th>\n",
       "      <td>Central Park W &amp; W 96 St</td>\n",
       "      <td>108</td>\n",
       "      <td>2016-09-20</td>\n",
       "    </tr>\n",
       "    <tr>\n",
       "      <th>1592</th>\n",
       "      <td>Central Park W &amp; W 96 St</td>\n",
       "      <td>111</td>\n",
       "      <td>2016-09-21</td>\n",
       "    </tr>\n",
       "    <tr>\n",
       "      <th>396</th>\n",
       "      <td>Central Park W &amp; W 96 St</td>\n",
       "      <td>68</td>\n",
       "      <td>2016-09-22</td>\n",
       "    </tr>\n",
       "    <tr>\n",
       "      <th>2227</th>\n",
       "      <td>Central Park W &amp; W 96 St</td>\n",
       "      <td>109</td>\n",
       "      <td>2016-09-23</td>\n",
       "    </tr>\n",
       "    <tr>\n",
       "      <th>1796</th>\n",
       "      <td>Central Park W &amp; W 96 St</td>\n",
       "      <td>123</td>\n",
       "      <td>2016-09-24</td>\n",
       "    </tr>\n",
       "    <tr>\n",
       "      <th>261</th>\n",
       "      <td>Central Park W &amp; W 96 St</td>\n",
       "      <td>139</td>\n",
       "      <td>2016-09-25</td>\n",
       "    </tr>\n",
       "    <tr>\n",
       "      <th>1914</th>\n",
       "      <td>Central Park W &amp; W 96 St</td>\n",
       "      <td>92</td>\n",
       "      <td>2016-09-26</td>\n",
       "    </tr>\n",
       "    <tr>\n",
       "      <th>3886</th>\n",
       "      <td>Central Park W &amp; W 96 St</td>\n",
       "      <td>87</td>\n",
       "      <td>2016-09-27</td>\n",
       "    </tr>\n",
       "    <tr>\n",
       "      <th>308</th>\n",
       "      <td>Central Park W &amp; W 96 St</td>\n",
       "      <td>86</td>\n",
       "      <td>2016-09-28</td>\n",
       "    </tr>\n",
       "    <tr>\n",
       "      <th>3909</th>\n",
       "      <td>Central Park W &amp; W 96 St</td>\n",
       "      <td>104</td>\n",
       "      <td>2016-09-29</td>\n",
       "    </tr>\n",
       "    <tr>\n",
       "      <th>1790</th>\n",
       "      <td>Central Park W &amp; W 96 St</td>\n",
       "      <td>39</td>\n",
       "      <td>2016-09-30</td>\n",
       "    </tr>\n",
       "  </tbody>\n",
       "</table>\n",
       "</div>"
      ],
      "text/plain": [
       "                     unique_id  num_trips         ds\n",
       "2088  Central Park W & W 96 St         85 2016-08-04\n",
       "3389  Central Park W & W 96 St        135 2016-08-05\n",
       "230   Central Park W & W 96 St        240 2016-08-06\n",
       "495   Central Park W & W 96 St        301 2016-08-07\n",
       "1588  Central Park W & W 96 St        132 2016-08-08\n",
       "890   Central Park W & W 96 St         69 2016-08-09\n",
       "1873  Central Park W & W 96 St         63 2016-08-10\n",
       "217   Central Park W & W 96 St         69 2016-08-11\n",
       "2410  Central Park W & W 96 St         48 2016-08-12\n",
       "1850  Central Park W & W 96 St         62 2016-08-13\n",
       "2443  Central Park W & W 96 St        100 2016-08-14\n",
       "2498  Central Park W & W 96 St         70 2016-08-15\n",
       "3646  Central Park W & W 96 St         60 2016-08-16\n",
       "1183  Central Park W & W 96 St         96 2016-08-17\n",
       "55    Central Park W & W 96 St         73 2016-08-18\n",
       "3277  Central Park W & W 96 St         67 2016-08-19\n",
       "4282  Central Park W & W 96 St        111 2016-08-20\n",
       "3265  Central Park W & W 96 St        124 2016-08-21\n",
       "2474  Central Park W & W 96 St         76 2016-08-22\n",
       "1686  Central Park W & W 96 St         78 2016-08-23\n",
       "4075  Central Park W & W 96 St         83 2016-08-24\n",
       "56    Central Park W & W 96 St         78 2016-08-25\n",
       "1885  Central Park W & W 96 St         80 2016-08-26\n",
       "684   Central Park W & W 96 St        114 2016-08-27\n",
       "3641  Central Park W & W 96 St        140 2016-08-28\n",
       "2054  Central Park W & W 96 St         56 2016-08-29\n",
       "1174  Central Park W & W 96 St         83 2016-08-30\n",
       "153   Central Park W & W 96 St         96 2016-08-31\n",
       "2000  Central Park W & W 96 St         40 2016-09-01\n",
       "1950  Central Park W & W 96 St        138 2016-09-02\n",
       "284   Central Park W & W 96 St        146 2016-09-03\n",
       "4253  Central Park W & W 96 St        173 2016-09-04\n",
       "119   Central Park W & W 96 St        159 2016-09-05\n",
       "4256  Central Park W & W 96 St         64 2016-09-06\n",
       "726   Central Park W & W 96 St        108 2016-09-07\n",
       "1879  Central Park W & W 96 St         85 2016-09-08\n",
       "3488  Central Park W & W 96 St         82 2016-09-09\n",
       "1118  Central Park W & W 96 St        120 2016-09-10\n",
       "3797  Central Park W & W 96 St        161 2016-09-11\n",
       "4356  Central Park W & W 96 St         77 2016-09-12\n",
       "552   Central Park W & W 96 St         86 2016-09-13\n",
       "848   Central Park W & W 96 St         98 2016-09-14\n",
       "1436  Central Park W & W 96 St         75 2016-09-15\n",
       "1240  Central Park W & W 96 St        103 2016-09-16\n",
       "2826  Central Park W & W 96 St        153 2016-09-17\n",
       "3368  Central Park W & W 96 St        164 2016-09-18\n",
       "2220  Central Park W & W 96 St         18 2016-09-19\n",
       "4126  Central Park W & W 96 St        108 2016-09-20\n",
       "1592  Central Park W & W 96 St        111 2016-09-21\n",
       "396   Central Park W & W 96 St         68 2016-09-22\n",
       "2227  Central Park W & W 96 St        109 2016-09-23\n",
       "1796  Central Park W & W 96 St        123 2016-09-24\n",
       "261   Central Park W & W 96 St        139 2016-09-25\n",
       "1914  Central Park W & W 96 St         92 2016-09-26\n",
       "3886  Central Park W & W 96 St         87 2016-09-27\n",
       "308   Central Park W & W 96 St         86 2016-09-28\n",
       "3909  Central Park W & W 96 St        104 2016-09-29\n",
       "1790  Central Park W & W 96 St         39 2016-09-30"
      ]
     },
     "execution_count": 44,
     "metadata": {},
     "output_type": "execute_result"
    }
   ],
   "source": [
    "local_ds[local_ds['start_station_name']=='Central Park W & W 96 St'].rename(columns = {'start_station_name':'unique_id', 'starttime':'ds'})"
   ]
  },
  {
   "cell_type": "code",
   "execution_count": 45,
   "id": "72915229-5b26-4ae4-a3dc-9faec6358278",
   "metadata": {
    "tags": []
   },
   "outputs": [
    {
     "name": "stdout",
     "output_type": "stream",
     "text": [
      "Processing dataframe with single process.\n",
      "Finished preprocessing dataframe.\n",
      "Finished forecasting.\n"
     ]
    }
   ],
   "source": [
    "forecast_ds = tfm.forecast_on_df(\n",
    "    inputs = local_ds[local_ds['start_station_name']=='Central Park W & W 96 St'].rename(columns = {'start_station_name':'unique_id', 'starttime':'ds'}),\n",
    "    freq = \"D\",\n",
    "    value_name = 'num_trips',\n",
    "    num_jobs = 1\n",
    ")"
   ]
  },
  {
   "cell_type": "code",
   "execution_count": 46,
   "id": "d92eeb4d-0b0b-4bc9-8129-1ccbab0fa625",
   "metadata": {
    "tags": []
   },
   "outputs": [
    {
     "data": {
      "text/html": [
       "<div>\n",
       "<style scoped>\n",
       "    .dataframe tbody tr th:only-of-type {\n",
       "        vertical-align: middle;\n",
       "    }\n",
       "\n",
       "    .dataframe tbody tr th {\n",
       "        vertical-align: top;\n",
       "    }\n",
       "\n",
       "    .dataframe thead th {\n",
       "        text-align: right;\n",
       "    }\n",
       "</style>\n",
       "<table border=\"1\" class=\"dataframe\">\n",
       "  <thead>\n",
       "    <tr style=\"text-align: right;\">\n",
       "      <th></th>\n",
       "      <th>unique_id</th>\n",
       "      <th>ds</th>\n",
       "      <th>timesfm</th>\n",
       "      <th>timesfm-q-0.1</th>\n",
       "      <th>timesfm-q-0.2</th>\n",
       "      <th>timesfm-q-0.3</th>\n",
       "      <th>timesfm-q-0.4</th>\n",
       "      <th>timesfm-q-0.5</th>\n",
       "      <th>timesfm-q-0.6</th>\n",
       "      <th>timesfm-q-0.7</th>\n",
       "      <th>timesfm-q-0.8</th>\n",
       "      <th>timesfm-q-0.9</th>\n",
       "    </tr>\n",
       "  </thead>\n",
       "  <tbody>\n",
       "    <tr>\n",
       "      <th>0</th>\n",
       "      <td>Central Park W &amp; W 96 St</td>\n",
       "      <td>2016-10-01</td>\n",
       "      <td>115.099258</td>\n",
       "      <td>63.349670</td>\n",
       "      <td>80.597954</td>\n",
       "      <td>93.593910</td>\n",
       "      <td>103.655342</td>\n",
       "      <td>115.099258</td>\n",
       "      <td>124.982727</td>\n",
       "      <td>136.894852</td>\n",
       "      <td>152.119949</td>\n",
       "      <td>174.398453</td>\n",
       "    </tr>\n",
       "    <tr>\n",
       "      <th>1</th>\n",
       "      <td>Central Park W &amp; W 96 St</td>\n",
       "      <td>2016-10-02</td>\n",
       "      <td>119.052338</td>\n",
       "      <td>66.030144</td>\n",
       "      <td>84.448219</td>\n",
       "      <td>97.977676</td>\n",
       "      <td>108.881592</td>\n",
       "      <td>119.052338</td>\n",
       "      <td>130.424118</td>\n",
       "      <td>143.095718</td>\n",
       "      <td>158.198593</td>\n",
       "      <td>181.620087</td>\n",
       "    </tr>\n",
       "    <tr>\n",
       "      <th>2</th>\n",
       "      <td>Central Park W &amp; W 96 St</td>\n",
       "      <td>2016-10-03</td>\n",
       "      <td>95.216904</td>\n",
       "      <td>47.837955</td>\n",
       "      <td>64.088997</td>\n",
       "      <td>74.079666</td>\n",
       "      <td>85.096817</td>\n",
       "      <td>95.216904</td>\n",
       "      <td>104.928566</td>\n",
       "      <td>115.279991</td>\n",
       "      <td>128.425201</td>\n",
       "      <td>149.493607</td>\n",
       "    </tr>\n",
       "    <tr>\n",
       "      <th>3</th>\n",
       "      <td>Central Park W &amp; W 96 St</td>\n",
       "      <td>2016-10-04</td>\n",
       "      <td>92.303307</td>\n",
       "      <td>47.297932</td>\n",
       "      <td>62.567638</td>\n",
       "      <td>72.800377</td>\n",
       "      <td>82.527840</td>\n",
       "      <td>92.303307</td>\n",
       "      <td>102.398941</td>\n",
       "      <td>112.659286</td>\n",
       "      <td>125.589066</td>\n",
       "      <td>145.480438</td>\n",
       "    </tr>\n",
       "    <tr>\n",
       "      <th>4</th>\n",
       "      <td>Central Park W &amp; W 96 St</td>\n",
       "      <td>2016-10-05</td>\n",
       "      <td>88.190773</td>\n",
       "      <td>43.517807</td>\n",
       "      <td>58.498363</td>\n",
       "      <td>68.539490</td>\n",
       "      <td>79.071892</td>\n",
       "      <td>88.190773</td>\n",
       "      <td>97.116386</td>\n",
       "      <td>108.236290</td>\n",
       "      <td>120.377983</td>\n",
       "      <td>139.836731</td>\n",
       "    </tr>\n",
       "    <tr>\n",
       "      <th>5</th>\n",
       "      <td>Central Park W &amp; W 96 St</td>\n",
       "      <td>2016-10-06</td>\n",
       "      <td>81.188995</td>\n",
       "      <td>38.298767</td>\n",
       "      <td>52.374165</td>\n",
       "      <td>62.903732</td>\n",
       "      <td>72.832291</td>\n",
       "      <td>81.188995</td>\n",
       "      <td>91.343933</td>\n",
       "      <td>100.613083</td>\n",
       "      <td>113.378487</td>\n",
       "      <td>133.038910</td>\n",
       "    </tr>\n",
       "    <tr>\n",
       "      <th>6</th>\n",
       "      <td>Central Park W &amp; W 96 St</td>\n",
       "      <td>2016-10-07</td>\n",
       "      <td>90.274788</td>\n",
       "      <td>45.190926</td>\n",
       "      <td>61.168091</td>\n",
       "      <td>72.141136</td>\n",
       "      <td>81.490944</td>\n",
       "      <td>90.274788</td>\n",
       "      <td>100.170143</td>\n",
       "      <td>111.220734</td>\n",
       "      <td>124.614456</td>\n",
       "      <td>145.113892</td>\n",
       "    </tr>\n",
       "    <tr>\n",
       "      <th>7</th>\n",
       "      <td>Central Park W &amp; W 96 St</td>\n",
       "      <td>2016-10-08</td>\n",
       "      <td>114.719368</td>\n",
       "      <td>61.439026</td>\n",
       "      <td>79.860428</td>\n",
       "      <td>93.187042</td>\n",
       "      <td>105.030777</td>\n",
       "      <td>114.719368</td>\n",
       "      <td>125.392685</td>\n",
       "      <td>138.059265</td>\n",
       "      <td>152.700592</td>\n",
       "      <td>175.722870</td>\n",
       "    </tr>\n",
       "    <tr>\n",
       "      <th>8</th>\n",
       "      <td>Central Park W &amp; W 96 St</td>\n",
       "      <td>2016-10-09</td>\n",
       "      <td>119.069550</td>\n",
       "      <td>64.688499</td>\n",
       "      <td>83.160896</td>\n",
       "      <td>96.897736</td>\n",
       "      <td>108.467354</td>\n",
       "      <td>119.069550</td>\n",
       "      <td>129.317917</td>\n",
       "      <td>142.400955</td>\n",
       "      <td>157.787903</td>\n",
       "      <td>180.617554</td>\n",
       "    </tr>\n",
       "    <tr>\n",
       "      <th>9</th>\n",
       "      <td>Central Park W &amp; W 96 St</td>\n",
       "      <td>2016-10-10</td>\n",
       "      <td>94.266098</td>\n",
       "      <td>47.996071</td>\n",
       "      <td>62.871311</td>\n",
       "      <td>75.098923</td>\n",
       "      <td>84.394829</td>\n",
       "      <td>94.266098</td>\n",
       "      <td>104.272781</td>\n",
       "      <td>114.509583</td>\n",
       "      <td>129.086121</td>\n",
       "      <td>150.232864</td>\n",
       "    </tr>\n",
       "    <tr>\n",
       "      <th>10</th>\n",
       "      <td>Central Park W &amp; W 96 St</td>\n",
       "      <td>2016-10-11</td>\n",
       "      <td>93.129623</td>\n",
       "      <td>46.582745</td>\n",
       "      <td>63.587395</td>\n",
       "      <td>73.707008</td>\n",
       "      <td>83.749405</td>\n",
       "      <td>93.129623</td>\n",
       "      <td>102.750969</td>\n",
       "      <td>113.303680</td>\n",
       "      <td>126.873802</td>\n",
       "      <td>147.953812</td>\n",
       "    </tr>\n",
       "    <tr>\n",
       "      <th>11</th>\n",
       "      <td>Central Park W &amp; W 96 St</td>\n",
       "      <td>2016-10-12</td>\n",
       "      <td>86.423347</td>\n",
       "      <td>41.532307</td>\n",
       "      <td>57.036171</td>\n",
       "      <td>67.721230</td>\n",
       "      <td>77.586945</td>\n",
       "      <td>86.423347</td>\n",
       "      <td>96.253441</td>\n",
       "      <td>106.693657</td>\n",
       "      <td>120.201759</td>\n",
       "      <td>140.956345</td>\n",
       "    </tr>\n",
       "    <tr>\n",
       "      <th>12</th>\n",
       "      <td>Central Park W &amp; W 96 St</td>\n",
       "      <td>2016-10-13</td>\n",
       "      <td>81.816063</td>\n",
       "      <td>38.749779</td>\n",
       "      <td>52.809116</td>\n",
       "      <td>64.208855</td>\n",
       "      <td>73.493401</td>\n",
       "      <td>81.816063</td>\n",
       "      <td>91.484245</td>\n",
       "      <td>101.967522</td>\n",
       "      <td>115.114967</td>\n",
       "      <td>136.272675</td>\n",
       "    </tr>\n",
       "    <tr>\n",
       "      <th>13</th>\n",
       "      <td>Central Park W &amp; W 96 St</td>\n",
       "      <td>2016-10-14</td>\n",
       "      <td>92.219200</td>\n",
       "      <td>45.479366</td>\n",
       "      <td>62.013496</td>\n",
       "      <td>73.293533</td>\n",
       "      <td>83.064194</td>\n",
       "      <td>92.219200</td>\n",
       "      <td>102.312241</td>\n",
       "      <td>112.563004</td>\n",
       "      <td>126.594604</td>\n",
       "      <td>148.758911</td>\n",
       "    </tr>\n",
       "  </tbody>\n",
       "</table>\n",
       "</div>"
      ],
      "text/plain": [
       "                   unique_id         ds     timesfm  timesfm-q-0.1  \\\n",
       "0   Central Park W & W 96 St 2016-10-01  115.099258      63.349670   \n",
       "1   Central Park W & W 96 St 2016-10-02  119.052338      66.030144   \n",
       "2   Central Park W & W 96 St 2016-10-03   95.216904      47.837955   \n",
       "3   Central Park W & W 96 St 2016-10-04   92.303307      47.297932   \n",
       "4   Central Park W & W 96 St 2016-10-05   88.190773      43.517807   \n",
       "5   Central Park W & W 96 St 2016-10-06   81.188995      38.298767   \n",
       "6   Central Park W & W 96 St 2016-10-07   90.274788      45.190926   \n",
       "7   Central Park W & W 96 St 2016-10-08  114.719368      61.439026   \n",
       "8   Central Park W & W 96 St 2016-10-09  119.069550      64.688499   \n",
       "9   Central Park W & W 96 St 2016-10-10   94.266098      47.996071   \n",
       "10  Central Park W & W 96 St 2016-10-11   93.129623      46.582745   \n",
       "11  Central Park W & W 96 St 2016-10-12   86.423347      41.532307   \n",
       "12  Central Park W & W 96 St 2016-10-13   81.816063      38.749779   \n",
       "13  Central Park W & W 96 St 2016-10-14   92.219200      45.479366   \n",
       "\n",
       "    timesfm-q-0.2  timesfm-q-0.3  timesfm-q-0.4  timesfm-q-0.5  timesfm-q-0.6  \\\n",
       "0       80.597954      93.593910     103.655342     115.099258     124.982727   \n",
       "1       84.448219      97.977676     108.881592     119.052338     130.424118   \n",
       "2       64.088997      74.079666      85.096817      95.216904     104.928566   \n",
       "3       62.567638      72.800377      82.527840      92.303307     102.398941   \n",
       "4       58.498363      68.539490      79.071892      88.190773      97.116386   \n",
       "5       52.374165      62.903732      72.832291      81.188995      91.343933   \n",
       "6       61.168091      72.141136      81.490944      90.274788     100.170143   \n",
       "7       79.860428      93.187042     105.030777     114.719368     125.392685   \n",
       "8       83.160896      96.897736     108.467354     119.069550     129.317917   \n",
       "9       62.871311      75.098923      84.394829      94.266098     104.272781   \n",
       "10      63.587395      73.707008      83.749405      93.129623     102.750969   \n",
       "11      57.036171      67.721230      77.586945      86.423347      96.253441   \n",
       "12      52.809116      64.208855      73.493401      81.816063      91.484245   \n",
       "13      62.013496      73.293533      83.064194      92.219200     102.312241   \n",
       "\n",
       "    timesfm-q-0.7  timesfm-q-0.8  timesfm-q-0.9  \n",
       "0      136.894852     152.119949     174.398453  \n",
       "1      143.095718     158.198593     181.620087  \n",
       "2      115.279991     128.425201     149.493607  \n",
       "3      112.659286     125.589066     145.480438  \n",
       "4      108.236290     120.377983     139.836731  \n",
       "5      100.613083     113.378487     133.038910  \n",
       "6      111.220734     124.614456     145.113892  \n",
       "7      138.059265     152.700592     175.722870  \n",
       "8      142.400955     157.787903     180.617554  \n",
       "9      114.509583     129.086121     150.232864  \n",
       "10     113.303680     126.873802     147.953812  \n",
       "11     106.693657     120.201759     140.956345  \n",
       "12     101.967522     115.114967     136.272675  \n",
       "13     112.563004     126.594604     148.758911  "
      ]
     },
     "execution_count": 46,
     "metadata": {},
     "output_type": "execute_result"
    }
   ],
   "source": [
    "forecast_ds"
   ]
  },
  {
   "cell_type": "code",
   "execution_count": null,
   "id": "02f65952-eedd-4f7b-ae9f-f91344f06ef3",
   "metadata": {},
   "outputs": [],
   "source": []
  },
  {
   "cell_type": "code",
   "execution_count": null,
   "id": "b4471ff6-cf75-47f0-8013-a93b9b9db35b",
   "metadata": {},
   "outputs": [],
   "source": []
  },
  {
   "cell_type": "code",
   "execution_count": null,
   "id": "f9644489-7a17-456d-93d2-fce930f9b112",
   "metadata": {},
   "outputs": [],
   "source": []
  },
  {
   "cell_type": "code",
   "execution_count": null,
   "id": "b604ef58-4110-4b21-ad8f-f34cdd64f119",
   "metadata": {},
   "outputs": [],
   "source": []
  },
  {
   "cell_type": "code",
   "execution_count": null,
   "id": "ea45d51a-3687-4a3b-a452-0cc3bdecdba5",
   "metadata": {},
   "outputs": [],
   "source": []
  }
 ],
 "metadata": {
  "environment": {
   "kernel": "conda-env-tfm_env-tfm_env",
   "name": "workbench-notebooks.m119",
   "type": "gcloud",
   "uri": "us-docker.pkg.dev/deeplearning-platform-release/gcr.io/workbench-notebooks:m119"
  },
  "kernelspec": {
   "display_name": "TimesFM",
   "language": "python",
   "name": "conda-env-tfm_env-tfm_env"
  },
  "language_info": {
   "codemirror_mode": {
    "name": "ipython",
    "version": 3
   },
   "file_extension": ".py",
   "mimetype": "text/x-python",
   "name": "python",
   "nbconvert_exporter": "python",
   "pygments_lexer": "ipython3",
   "version": "3.10.14"
  }
 },
 "nbformat": 4,
 "nbformat_minor": 5
}
