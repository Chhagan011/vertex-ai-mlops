{
 "cells": [
  {
   "cell_type": "markdown",
   "id": "a8daa78e-d7cb-41d5-9ae2-e504371c2dfb",
   "metadata": {},
   "source": [
    "# Feature Focused Data Architecture\n",
    "\n",
    "This workflow examines data architecture optimizations for making data more useful for ML features. That sounds opinionated and it probably is.  While there is no perfect way there are tips that will make MLOps process more manageable, scalable, and useful. \n",
    "\n",
    "Machine Learning (ML) is far more than just training a model:\n",
    "\n",
    "1. Find data sources\n",
    "    - discovery\n",
    "    - understandinng\n",
    "    - formats\n",
    "    - frequency\n",
    "    - preparation, ETL\n",
    "2. Combine data sources\n",
    "    - formats\n",
    "    - frequency\n",
    "    - preparation, ETL\n",
    "3. Feature Enginneering\n",
    "    - Converting raw data columns into useful signal for ML methods\n",
    "4. Training ML Models\n",
    "    - Splits for train/validate/test\n",
    "    - Iterate Features and Feature Engineering\n",
    "5. Evaluate Models\n",
    "    - Continously\n",
    "6. Serve Models\n",
    "    - Format features for predition\n",
    "    - Serve features for prediction\n",
    "7. Monitor Models\n",
    "    - Skew: Change from training\n",
    "    - Drift: Change over time\n",
    "    - Continously\n",
    "    - Monitor Features for change\n",
    "    \n",
    "When the goal is training a model (4), it might seem easy to ad-hoc work through 1-3. _Let's be honest - it's what we do most of the time._ But then, when a model version proves useful, many compromises are needed to get 5-7 to ~~work~~ - it rarely works correctly.\n",
    "\n",
    "**What if**\n",
    "- you could make careful decision during 1-3 that could essentially automate 5-7 seemlessly?\n",
    "- it was not hard or time consuming?\n",
    "- it makes it easier to train and iterate?\n",
    "- it made everything easier?\n",
    "\n",
    "\n",
    "# How? BigQuery!\n",
    "BigQuery is a data warehouse right?  That seems perfect for 1-3 ... until you have fast changing data and low latency serving needs.  Actually, its perfect for this as well.  Let's proceed and discover together!\n"
   ]
  },
  {
   "cell_type": "markdown",
   "id": "4a01099e-b66a-4f23-b3f0-9e2c7882282c",
   "metadata": {
    "id": "od_UkDpvRmgD",
    "tags": []
   },
   "source": [
    "---\n",
    "## Colab Setup\n",
    "\n",
    "When running this notebook in [Colab](https://colab.google/) or [Colab Enterprise](https://cloud.google.com/colab/docs/introduction), this section will authenticate to GCP (follow prompts in the popup) and set the current project for the session."
   ]
  },
  {
   "cell_type": "code",
   "execution_count": 1,
   "id": "8c0e0441-5bde-467b-91f8-ef1fe433d44a",
   "metadata": {
    "executionInfo": {
     "elapsed": 195,
     "status": "ok",
     "timestamp": 1683726184843,
     "user": {
      "displayName": "Mike Henderson",
      "userId": "07691629187611687318"
     },
     "user_tz": 240
    },
    "id": "8UO9FnqyKBlF",
    "tags": []
   },
   "outputs": [],
   "source": [
    "PROJECT_ID = 'statmike-mlops-349915' # replace with project ID"
   ]
  },
  {
   "cell_type": "code",
   "execution_count": 2,
   "id": "b1c928ce-7830-4edd-b2ae-6c037bedc15d",
   "metadata": {
    "colab": {
     "base_uri": "https://localhost:8080/"
    },
    "executionInfo": {
     "elapsed": 68869,
     "status": "ok",
     "timestamp": 1683726253709,
     "user": {
      "displayName": "Mike Henderson",
      "userId": "07691629187611687318"
     },
     "user_tz": 240
    },
    "id": "N98-KK7LRkjm",
    "outputId": "09ec5008-0def-4e1a-c349-c598ee752f78",
    "tags": []
   },
   "outputs": [
    {
     "name": "stdout",
     "output_type": "stream",
     "text": [
      "Not a Colab Environment\n"
     ]
    }
   ],
   "source": [
    "try:\n",
    "    from google.colab import auth\n",
    "    auth.authenticate_user()\n",
    "    !gcloud config set project {PROJECT_ID}\n",
    "    print('Colab authorized to GCP')\n",
    "except Exception:\n",
    "    print('Not a Colab Environment')\n",
    "    pass"
   ]
  },
  {
   "cell_type": "markdown",
   "id": "820c5a5c-e66e-4d6c-8550-266bb2b2cb29",
   "metadata": {},
   "source": [
    "---\n",
    "## Installs\n",
    "\n",
    "The list `packages` contains tuples of package import names and install names.  If the import name is not found then the install name is used to install quitely for the current user."
   ]
  },
  {
   "cell_type": "code",
   "execution_count": 6,
   "id": "53dd8d8b-996d-4a77-979b-54de0b2c572d",
   "metadata": {
    "tags": []
   },
   "outputs": [],
   "source": [
    "# tuples of (import name, install name, min_version)\n",
    "packages = [\n",
    "    ('google.cloud.bigquery', 'google-cloud-bigquery'),\n",
    "    ('google.cloud.storage', 'google-cloud-storage')\n",
    "]\n",
    "\n",
    "import importlib\n",
    "install = False\n",
    "for package in packages:\n",
    "    if not importlib.util.find_spec(package[0]):\n",
    "        print(f'installing package {package[1]}')\n",
    "        install = True\n",
    "        !pip install {package[1]} -U -q --user\n",
    "    elif len(package) == 3:\n",
    "        if importlib.metadata.version(package[0]) < package[2]:\n",
    "            print(f'updating package {package[1]}')\n",
    "            install = True\n",
    "            !pip install {package[1]} -U -q --user"
   ]
  },
  {
   "cell_type": "markdown",
   "id": "fb4ae0a6-18e5-495c-b062-a518207a0634",
   "metadata": {},
   "source": [
    "### Restart Kernel (If Installs Occured)\n",
    "\n",
    "After a kernel restart the code submission can start with the next cell after this one."
   ]
  },
  {
   "cell_type": "code",
   "execution_count": 7,
   "id": "4fa510b1-b8a9-419a-bddd-9373463f7257",
   "metadata": {
    "tags": []
   },
   "outputs": [],
   "source": [
    "if install:\n",
    "    import IPython\n",
    "    app = IPython.Application.instance()\n",
    "    app.kernel.do_shutdown(True)"
   ]
  },
  {
   "cell_type": "markdown",
   "id": "92b55e5d-4ce4-474d-b777-9d1d80c6588c",
   "metadata": {
    "id": "appt8-yVRtJ1"
   },
   "source": [
    "---\n",
    "## Setup"
   ]
  },
  {
   "cell_type": "markdown",
   "id": "c7528b0d-1752-4473-8f97-f075556f578b",
   "metadata": {
    "id": "63mx2EozRxFP"
   },
   "source": [
    "Inputs"
   ]
  },
  {
   "cell_type": "code",
   "execution_count": 8,
   "id": "5036217c-eadf-4710-90cb-a1aa60463af8",
   "metadata": {
    "colab": {
     "base_uri": "https://localhost:8080/",
     "height": 35
    },
    "executionInfo": {
     "elapsed": 2124,
     "status": "ok",
     "timestamp": 1683726390544,
     "user": {
      "displayName": "Mike Henderson",
      "userId": "07691629187611687318"
     },
     "user_tz": 240
    },
    "id": "xzcoXjM5Rky5",
    "outputId": "b3bdcbc1-70d5-472e-aea2-42c74a42efde",
    "tags": []
   },
   "outputs": [
    {
     "data": {
      "text/plain": [
       "'statmike-mlops-349915'"
      ]
     },
     "execution_count": 8,
     "metadata": {},
     "output_type": "execute_result"
    }
   ],
   "source": [
    "project = !gcloud config get-value project\n",
    "PROJECT_ID = project[0]\n",
    "PROJECT_ID"
   ]
  },
  {
   "cell_type": "code",
   "execution_count": 9,
   "id": "a3d8b543-28ff-45e1-86bd-72154679eb49",
   "metadata": {
    "executionInfo": {
     "elapsed": 2,
     "status": "ok",
     "timestamp": 1683726390712,
     "user": {
      "displayName": "Mike Henderson",
      "userId": "07691629187611687318"
     },
     "user_tz": 240
    },
    "id": "IxWrFtqYMfku",
    "tags": []
   },
   "outputs": [],
   "source": [
    "REGION = 'us-central1'\n",
    "EXPERIMENT = 'architecture'\n",
    "SERIES = 'feature-data-architecture'\n",
    "\n",
    "# BigQuery Parameters\n",
    "BQ_PROJECT = PROJECT_ID\n",
    "BQ_DATASET = SERIES\n",
    "BQ_TABLE = EXPERIMENT\n",
    "BQ_REGION = REGION[0:2]\n",
    "\n",
    "# specify a GCS Bucket\n",
    "GCS_BUCKET = PROJECT_ID"
   ]
  },
  {
   "cell_type": "markdown",
   "id": "a4a81474-6e96-40ab-9ea4-e03895dcf13c",
   "metadata": {
    "id": "LuajVwCiO6Yg"
   },
   "source": [
    "Packages"
   ]
  },
  {
   "cell_type": "code",
   "execution_count": 39,
   "id": "a75d5914-51e6-4a03-9f42-0d0a3be899b7",
   "metadata": {
    "executionInfo": {
     "elapsed": 17761,
     "status": "ok",
     "timestamp": 1683726409304,
     "user": {
      "displayName": "Mike Henderson",
      "userId": "07691629187611687318"
     },
     "user_tz": 240
    },
    "id": "LVC7zzSLRk2C",
    "tags": []
   },
   "outputs": [],
   "source": [
    "import json\n",
    "\n",
    "from google.cloud import storage\n",
    "from google.cloud import bigquery"
   ]
  },
  {
   "cell_type": "markdown",
   "id": "1eec3dae-268d-4bac-b324-fb7174105bc4",
   "metadata": {
    "id": "EyAVFG9TO9H-"
   },
   "source": [
    "Clients"
   ]
  },
  {
   "cell_type": "code",
   "execution_count": 14,
   "id": "996ed676-a7d7-427d-aaf4-a1ffa7a54400",
   "metadata": {
    "executionInfo": {
     "elapsed": 19,
     "status": "ok",
     "timestamp": 1683726409306,
     "user": {
      "displayName": "Mike Henderson",
      "userId": "07691629187611687318"
     },
     "user_tz": 240
    },
    "id": "L0RPE13LOZce",
    "tags": []
   },
   "outputs": [
    {
     "name": "stdout",
     "output_type": "stream",
     "text": [
      "The google.cloud.bigquery extension is already loaded. To reload it, use:\n",
      "  %reload_ext google.cloud.bigquery\n"
     ]
    }
   ],
   "source": [
    "# gcs client: assumes bucket already exists\n",
    "gcs = storage.Client(project = PROJECT_ID)\n",
    "bucket = gcs.bucket(GCS_BUCKET)\n",
    "\n",
    "# bigquery client\n",
    "bq = bigquery.Client(project = PROJECT_ID)\n",
    "%load_ext google.cloud.bigquery"
   ]
  },
  {
   "cell_type": "markdown",
   "id": "0f7ad778-dc9a-4fad-829c-9dd8b2a8f86b",
   "metadata": {},
   "source": [
    "---\n",
    "## Experiment"
   ]
  },
  {
   "cell_type": "markdown",
   "id": "e5e11272-7e0b-457d-b252-c29abdccdc33",
   "metadata": {},
   "source": [
    "### Create A Dataset\n",
    "\n",
    "Referneces:\n",
    "- [Create datasets](https://cloud.google.com/bigquery/docs/datasets)\n",
    "- [`CREATE SCHEMA` statement](https://cloud.google.com/bigquery/docs/reference/standard-sql/data-definition-language#create_schema_statement)"
   ]
  },
  {
   "cell_type": "code",
   "execution_count": 20,
   "id": "671b33c7-efb8-4b28-97c6-466734c18412",
   "metadata": {
    "tags": []
   },
   "outputs": [
    {
     "data": {
      "application/json": {
       "ascii": false,
       "bar_format": "{l_bar}{bar}|",
       "colour": null,
       "elapsed": 0.005997180938720703,
       "initial": 0,
       "n": 0,
       "ncols": null,
       "nrows": null,
       "postfix": null,
       "prefix": "Query is running",
       "rate": null,
       "total": 1,
       "unit": "query",
       "unit_divisor": 1000,
       "unit_scale": false
      },
      "application/vnd.jupyter.widget-view+json": {
       "model_id": "3b7e6a7a05394354a63a2262c8229ec4",
       "version_major": 2,
       "version_minor": 0
      },
      "text/plain": [
       "Query is running:   0%|          |"
      ]
     },
     "metadata": {},
     "output_type": "display_data"
    },
    {
     "data": {
      "text/html": [
       "<div>\n",
       "<style scoped>\n",
       "    .dataframe tbody tr th:only-of-type {\n",
       "        vertical-align: middle;\n",
       "    }\n",
       "\n",
       "    .dataframe tbody tr th {\n",
       "        vertical-align: top;\n",
       "    }\n",
       "\n",
       "    .dataframe thead th {\n",
       "        text-align: right;\n",
       "    }\n",
       "</style>\n",
       "<table border=\"1\" class=\"dataframe\">\n",
       "  <thead>\n",
       "    <tr style=\"text-align: right;\">\n",
       "      <th></th>\n",
       "    </tr>\n",
       "  </thead>\n",
       "  <tbody>\n",
       "  </tbody>\n",
       "</table>\n",
       "</div>"
      ],
      "text/plain": [
       "Empty DataFrame\n",
       "Columns: []\n",
       "Index: []"
      ]
     },
     "execution_count": 20,
     "metadata": {},
     "output_type": "execute_result"
    }
   ],
   "source": [
    "%%bigquery\n",
    "CREATE SCHEMA IF NOT EXISTS `statmike-mlops-349915.feature_data_architecture`\n",
    "    OPTIONS(\n",
    "        location = 'US'\n",
    "    )"
   ]
  },
  {
   "cell_type": "markdown",
   "id": "dc7982db-3723-4b7d-aba9-a9eac5cbfbfe",
   "metadata": {},
   "source": [
    "### Create Table: `features_example`"
   ]
  },
  {
   "cell_type": "code",
   "execution_count": 26,
   "id": "d6c4fbe3-3964-489a-9503-550afa12a06d",
   "metadata": {
    "tags": []
   },
   "outputs": [
    {
     "data": {
      "application/json": {
       "ascii": false,
       "bar_format": "{l_bar}{bar}|",
       "colour": null,
       "elapsed": 0.006295442581176758,
       "initial": 0,
       "n": 0,
       "ncols": null,
       "nrows": null,
       "postfix": null,
       "prefix": "Query is running",
       "rate": null,
       "total": 1,
       "unit": "query",
       "unit_divisor": 1000,
       "unit_scale": false
      },
      "application/vnd.jupyter.widget-view+json": {
       "model_id": "2a49578832894212a4b67b355e6ce8a6",
       "version_major": 2,
       "version_minor": 0
      },
      "text/plain": [
       "Query is running:   0%|          |"
      ]
     },
     "metadata": {},
     "output_type": "display_data"
    },
    {
     "data": {
      "application/json": {
       "ascii": false,
       "bar_format": "{l_bar}{bar}|",
       "colour": null,
       "elapsed": 0.006409168243408203,
       "initial": 0,
       "n": 0,
       "ncols": null,
       "nrows": null,
       "postfix": null,
       "prefix": "Downloading",
       "rate": null,
       "total": 4,
       "unit": "rows",
       "unit_divisor": 1000,
       "unit_scale": false
      },
      "application/vnd.jupyter.widget-view+json": {
       "model_id": "22f2e8368a294a0d9b2dd8265df667d5",
       "version_major": 2,
       "version_minor": 0
      },
      "text/plain": [
       "Downloading:   0%|          |"
      ]
     },
     "metadata": {},
     "output_type": "display_data"
    },
    {
     "data": {
      "text/html": [
       "<div>\n",
       "<style scoped>\n",
       "    .dataframe tbody tr th:only-of-type {\n",
       "        vertical-align: middle;\n",
       "    }\n",
       "\n",
       "    .dataframe tbody tr th {\n",
       "        vertical-align: top;\n",
       "    }\n",
       "\n",
       "    .dataframe thead th {\n",
       "        text-align: right;\n",
       "    }\n",
       "</style>\n",
       "<table border=\"1\" class=\"dataframe\">\n",
       "  <thead>\n",
       "    <tr style=\"text-align: right;\">\n",
       "      <th></th>\n",
       "      <th>entity_id</th>\n",
       "      <th>feature_1</th>\n",
       "      <th>feature_2</th>\n",
       "      <th>feature_3</th>\n",
       "      <th>feature_4</th>\n",
       "      <th>feature_5</th>\n",
       "      <th>feature_6</th>\n",
       "      <th>feature_timestamp</th>\n",
       "    </tr>\n",
       "  </thead>\n",
       "  <tbody>\n",
       "    <tr>\n",
       "      <th>0</th>\n",
       "      <td>customer_abf</td>\n",
       "      <td>a string 2</td>\n",
       "      <td>120</td>\n",
       "      <td>2024-03-11</td>\n",
       "      <td>None</td>\n",
       "      <td>4</td>\n",
       "      <td>2023-12-31</td>\n",
       "      <td>2024-03-04 07:45:21.070234+00:00</td>\n",
       "    </tr>\n",
       "    <tr>\n",
       "      <th>1</th>\n",
       "      <td>customer_abe</td>\n",
       "      <td>a string 1</td>\n",
       "      <td>121</td>\n",
       "      <td>2024-03-11</td>\n",
       "      <td>some words</td>\n",
       "      <td>&lt;NA&gt;</td>\n",
       "      <td>2024-01-27</td>\n",
       "      <td>2024-03-08 02:45:21.070234+00:00</td>\n",
       "    </tr>\n",
       "    <tr>\n",
       "      <th>2</th>\n",
       "      <td>customer_abc</td>\n",
       "      <td>a string 1</td>\n",
       "      <td>123</td>\n",
       "      <td>2024-03-11</td>\n",
       "      <td>some words</td>\n",
       "      <td>1</td>\n",
       "      <td>2024-01-12</td>\n",
       "      <td>2024-03-06 20:10:21.070234+00:00</td>\n",
       "    </tr>\n",
       "    <tr>\n",
       "      <th>3</th>\n",
       "      <td>customer_abd</td>\n",
       "      <td>a string 2</td>\n",
       "      <td>124</td>\n",
       "      <td>2024-03-11</td>\n",
       "      <td>some words</td>\n",
       "      <td>2</td>\n",
       "      <td>NaT</td>\n",
       "      <td>2024-03-08 05:31:21.070234+00:00</td>\n",
       "    </tr>\n",
       "  </tbody>\n",
       "</table>\n",
       "</div>"
      ],
      "text/plain": [
       "      entity_id   feature_1  feature_2   feature_3   feature_4  feature_5  \\\n",
       "0  customer_abf  a string 2        120  2024-03-11        None          4   \n",
       "1  customer_abe  a string 1        121  2024-03-11  some words       <NA>   \n",
       "2  customer_abc  a string 1        123  2024-03-11  some words          1   \n",
       "3  customer_abd  a string 2        124  2024-03-11  some words          2   \n",
       "\n",
       "    feature_6                feature_timestamp  \n",
       "0  2023-12-31 2024-03-04 07:45:21.070234+00:00  \n",
       "1  2024-01-27 2024-03-08 02:45:21.070234+00:00  \n",
       "2  2024-01-12 2024-03-06 20:10:21.070234+00:00  \n",
       "3         NaT 2024-03-08 05:31:21.070234+00:00  "
      ]
     },
     "execution_count": 26,
     "metadata": {},
     "output_type": "execute_result"
    }
   ],
   "source": [
    "%%bigquery\n",
    "CREATE OR REPLACE TABLE feature_data_architecture.features_example AS\n",
    "    SELECT 'customer_abc' AS entity_id, 'a string 1' AS feature_1, 123 AS feature_2, CURRENT_DATE() AS feature_3,\n",
    "        'some words' AS feature_4, 1 AS feature_5, DATE_SUB(CURRENT_DATE(), INTERVAL CAST(FLOOR(8+100*RAND()) AS INT64) DAY) AS feature_6,\n",
    "        TIMESTAMP_SUB(CURRENT_TIMESTAMP(), INTERVAL CAST(FLOOR(10080*RAND()) AS INT64) MINUTE) AS feature_timestamp\n",
    "    UNION ALL\n",
    "    SELECT 'customer_abd' AS entity_id, 'a string 2' AS feature_1, 124 AS feature_2, CURRENT_DATE() AS feature_3, \n",
    "        'some words' AS feature_4, 2 AS feature_5, NULL as feature_6,\n",
    "        TIMESTAMP_SUB(CURRENT_TIMESTAMP(), INTERVAL CAST(FLOOR(10080*RAND()) AS INT64) MINUTE) AS feature_timestamp\n",
    "    UNION ALL\n",
    "    SELECT 'customer_abe' AS entity_id, 'a string 1' AS feature_1, 121 AS feature_2, CURRENT_DATE() AS feature_3, \n",
    "        'some words' AS feature_4, NULL AS feature_5, DATE_SUB(CURRENT_DATE(), INTERVAL CAST(FLOOR(8+100*RAND()) AS INT64) DAY) AS feature_6,\n",
    "        TIMESTAMP_SUB(CURRENT_TIMESTAMP(), INTERVAL CAST(FLOOR(10080*RAND()) AS INT64) MINUTE) AS feature_timestamp\n",
    "    UNION ALL\n",
    "    SELECT 'customer_abf' AS entity_id, 'a string 2' AS feature_1, 120 AS feature_2, CURRENT_DATE() AS feature_3,\n",
    "        NULL AS feature_4, 4 AS feature_5, DATE_SUB(CURRENT_DATE(), INTERVAL CAST(FLOOR(8+100*RAND()) AS INT64) DAY) AS feature_6,\n",
    "        TIMESTAMP_SUB(CURRENT_TIMESTAMP(), INTERVAL CAST(FLOOR(10080*RAND()) AS INT64) MINUTE) AS feature_timestamp\n",
    ";\n",
    "\n",
    "SELECT * FROM feature_data_architecture.features_example;"
   ]
  },
  {
   "cell_type": "markdown",
   "id": "3f210f72-8abd-4375-81c9-e5794acaee84",
   "metadata": {},
   "source": [
    "### Create Table: `features_eav`"
   ]
  },
  {
   "cell_type": "code",
   "execution_count": 27,
   "id": "e35bb0b5-5370-4d2c-9809-19c4dcd2402c",
   "metadata": {
    "tags": []
   },
   "outputs": [
    {
     "data": {
      "application/json": {
       "ascii": false,
       "bar_format": "{l_bar}{bar}|",
       "colour": null,
       "elapsed": 0.006713151931762695,
       "initial": 0,
       "n": 0,
       "ncols": null,
       "nrows": null,
       "postfix": null,
       "prefix": "Query is running",
       "rate": null,
       "total": 1,
       "unit": "query",
       "unit_divisor": 1000,
       "unit_scale": false
      },
      "application/vnd.jupyter.widget-view+json": {
       "model_id": "fa1306237b6b44fea42e47a0f5083e9a",
       "version_major": 2,
       "version_minor": 0
      },
      "text/plain": [
       "Query is running:   0%|          |"
      ]
     },
     "metadata": {},
     "output_type": "display_data"
    },
    {
     "data": {
      "text/html": [
       "<div>\n",
       "<style scoped>\n",
       "    .dataframe tbody tr th:only-of-type {\n",
       "        vertical-align: middle;\n",
       "    }\n",
       "\n",
       "    .dataframe tbody tr th {\n",
       "        vertical-align: top;\n",
       "    }\n",
       "\n",
       "    .dataframe thead th {\n",
       "        text-align: right;\n",
       "    }\n",
       "</style>\n",
       "<table border=\"1\" class=\"dataframe\">\n",
       "  <thead>\n",
       "    <tr style=\"text-align: right;\">\n",
       "      <th></th>\n",
       "    </tr>\n",
       "  </thead>\n",
       "  <tbody>\n",
       "  </tbody>\n",
       "</table>\n",
       "</div>"
      ],
      "text/plain": [
       "Empty DataFrame\n",
       "Columns: []\n",
       "Index: []"
      ]
     },
     "execution_count": 27,
     "metadata": {},
     "output_type": "execute_result"
    }
   ],
   "source": [
    "%%bigquery\n",
    "CREATE OR REPLACE TABLE feature_data_architecture.features_eav (\n",
    "  entity_id STRING,\n",
    "  feature_name STRING,\n",
    "  feature_value STRUCT<STRING_VALUE STRING, INT64_VALUE INT64, DATE_VALUE DATE>,\n",
    "  feature_datatype STRING\n",
    ");"
   ]
  },
  {
   "cell_type": "markdown",
   "id": "3c673291-7c50-4b63-9bb1-42b1e18d8571",
   "metadata": {},
   "source": [
    "## Data Source For EAV"
   ]
  },
  {
   "cell_type": "code",
   "execution_count": 28,
   "id": "da1de82c-c361-4fd8-91a4-5d892028c134",
   "metadata": {
    "tags": []
   },
   "outputs": [
    {
     "data": {
      "application/json": {
       "ascii": false,
       "bar_format": "{l_bar}{bar}|",
       "colour": null,
       "elapsed": 0.006722927093505859,
       "initial": 0,
       "n": 0,
       "ncols": null,
       "nrows": null,
       "postfix": null,
       "prefix": "Query is running",
       "rate": null,
       "total": 1,
       "unit": "query",
       "unit_divisor": 1000,
       "unit_scale": false
      },
      "application/vnd.jupyter.widget-view+json": {
       "model_id": "7b920e6c27364f7396ea48998d666329",
       "version_major": 2,
       "version_minor": 0
      },
      "text/plain": [
       "Query is running:   0%|          |"
      ]
     },
     "metadata": {},
     "output_type": "display_data"
    },
    {
     "data": {
      "application/json": {
       "ascii": false,
       "bar_format": "{l_bar}{bar}|",
       "colour": null,
       "elapsed": 0.005581855773925781,
       "initial": 0,
       "n": 0,
       "ncols": null,
       "nrows": null,
       "postfix": null,
       "prefix": "Downloading",
       "rate": null,
       "total": 4,
       "unit": "rows",
       "unit_divisor": 1000,
       "unit_scale": false
      },
      "application/vnd.jupyter.widget-view+json": {
       "model_id": "f97834dc0c1b4d02826f6e1deb0cc3ba",
       "version_major": 2,
       "version_minor": 0
      },
      "text/plain": [
       "Downloading:   0%|          |"
      ]
     },
     "metadata": {},
     "output_type": "display_data"
    }
   ],
   "source": [
    "%%bigquery features_example\n",
    "SELECT * FROM feature_data_architecture.features_example;"
   ]
  },
  {
   "cell_type": "code",
   "execution_count": 30,
   "id": "658ec879-9ffb-4acd-85f7-7933e0cdf918",
   "metadata": {
    "tags": []
   },
   "outputs": [
    {
     "data": {
      "text/html": [
       "<div>\n",
       "<style scoped>\n",
       "    .dataframe tbody tr th:only-of-type {\n",
       "        vertical-align: middle;\n",
       "    }\n",
       "\n",
       "    .dataframe tbody tr th {\n",
       "        vertical-align: top;\n",
       "    }\n",
       "\n",
       "    .dataframe thead th {\n",
       "        text-align: right;\n",
       "    }\n",
       "</style>\n",
       "<table border=\"1\" class=\"dataframe\">\n",
       "  <thead>\n",
       "    <tr style=\"text-align: right;\">\n",
       "      <th></th>\n",
       "      <th>entity_id</th>\n",
       "      <th>feature_1</th>\n",
       "      <th>feature_2</th>\n",
       "      <th>feature_3</th>\n",
       "      <th>feature_4</th>\n",
       "      <th>feature_5</th>\n",
       "      <th>feature_6</th>\n",
       "      <th>feature_timestamp</th>\n",
       "    </tr>\n",
       "  </thead>\n",
       "  <tbody>\n",
       "    <tr>\n",
       "      <th>0</th>\n",
       "      <td>customer_abf</td>\n",
       "      <td>a string 2</td>\n",
       "      <td>120</td>\n",
       "      <td>2024-03-11</td>\n",
       "      <td>None</td>\n",
       "      <td>4</td>\n",
       "      <td>2023-12-31</td>\n",
       "      <td>2024-03-04 07:45:21.070234+00:00</td>\n",
       "    </tr>\n",
       "    <tr>\n",
       "      <th>1</th>\n",
       "      <td>customer_abe</td>\n",
       "      <td>a string 1</td>\n",
       "      <td>121</td>\n",
       "      <td>2024-03-11</td>\n",
       "      <td>some words</td>\n",
       "      <td>&lt;NA&gt;</td>\n",
       "      <td>2024-01-27</td>\n",
       "      <td>2024-03-08 02:45:21.070234+00:00</td>\n",
       "    </tr>\n",
       "    <tr>\n",
       "      <th>2</th>\n",
       "      <td>customer_abc</td>\n",
       "      <td>a string 1</td>\n",
       "      <td>123</td>\n",
       "      <td>2024-03-11</td>\n",
       "      <td>some words</td>\n",
       "      <td>1</td>\n",
       "      <td>2024-01-12</td>\n",
       "      <td>2024-03-06 20:10:21.070234+00:00</td>\n",
       "    </tr>\n",
       "    <tr>\n",
       "      <th>3</th>\n",
       "      <td>customer_abd</td>\n",
       "      <td>a string 2</td>\n",
       "      <td>124</td>\n",
       "      <td>2024-03-11</td>\n",
       "      <td>some words</td>\n",
       "      <td>2</td>\n",
       "      <td>NaT</td>\n",
       "      <td>2024-03-08 05:31:21.070234+00:00</td>\n",
       "    </tr>\n",
       "  </tbody>\n",
       "</table>\n",
       "</div>"
      ],
      "text/plain": [
       "      entity_id   feature_1  feature_2   feature_3   feature_4  feature_5  \\\n",
       "0  customer_abf  a string 2        120  2024-03-11        None          4   \n",
       "1  customer_abe  a string 1        121  2024-03-11  some words       <NA>   \n",
       "2  customer_abc  a string 1        123  2024-03-11  some words          1   \n",
       "3  customer_abd  a string 2        124  2024-03-11  some words          2   \n",
       "\n",
       "    feature_6                feature_timestamp  \n",
       "0  2023-12-31 2024-03-04 07:45:21.070234+00:00  \n",
       "1  2024-01-27 2024-03-08 02:45:21.070234+00:00  \n",
       "2  2024-01-12 2024-03-06 20:10:21.070234+00:00  \n",
       "3         NaT 2024-03-08 05:31:21.070234+00:00  "
      ]
     },
     "execution_count": 30,
     "metadata": {},
     "output_type": "execute_result"
    }
   ],
   "source": [
    "features_example"
   ]
  },
  {
   "cell_type": "code",
   "execution_count": 31,
   "id": "cbde148a-f62f-4ae4-9ebc-069ce54897aa",
   "metadata": {
    "tags": []
   },
   "outputs": [
    {
     "data": {
      "text/plain": [
       "[{'entity_id': 'customer_abf',\n",
       "  'feature_1': 'a string 2',\n",
       "  'feature_2': 120,\n",
       "  'feature_3': datetime.date(2024, 3, 11),\n",
       "  'feature_4': None,\n",
       "  'feature_5': 4,\n",
       "  'feature_6': datetime.date(2023, 12, 31),\n",
       "  'feature_timestamp': Timestamp('2024-03-04 07:45:21.070234+0000', tz='UTC')},\n",
       " {'entity_id': 'customer_abe',\n",
       "  'feature_1': 'a string 1',\n",
       "  'feature_2': 121,\n",
       "  'feature_3': datetime.date(2024, 3, 11),\n",
       "  'feature_4': 'some words',\n",
       "  'feature_5': <NA>,\n",
       "  'feature_6': datetime.date(2024, 1, 27),\n",
       "  'feature_timestamp': Timestamp('2024-03-08 02:45:21.070234+0000', tz='UTC')},\n",
       " {'entity_id': 'customer_abc',\n",
       "  'feature_1': 'a string 1',\n",
       "  'feature_2': 123,\n",
       "  'feature_3': datetime.date(2024, 3, 11),\n",
       "  'feature_4': 'some words',\n",
       "  'feature_5': 1,\n",
       "  'feature_6': datetime.date(2024, 1, 12),\n",
       "  'feature_timestamp': Timestamp('2024-03-06 20:10:21.070234+0000', tz='UTC')},\n",
       " {'entity_id': 'customer_abd',\n",
       "  'feature_1': 'a string 2',\n",
       "  'feature_2': 124,\n",
       "  'feature_3': datetime.date(2024, 3, 11),\n",
       "  'feature_4': 'some words',\n",
       "  'feature_5': 2,\n",
       "  'feature_6': NaT,\n",
       "  'feature_timestamp': Timestamp('2024-03-08 05:31:21.070234+0000', tz='UTC')}]"
      ]
     },
     "execution_count": 31,
     "metadata": {},
     "output_type": "execute_result"
    }
   ],
   "source": [
    "features_example.to_dict(orient = 'records')"
   ]
  },
  {
   "cell_type": "code",
   "execution_count": 37,
   "id": "673a7724-2068-4dc3-afff-d1011acef42b",
   "metadata": {
    "tags": []
   },
   "outputs": [
    {
     "data": {
      "application/json": {
       "ascii": false,
       "bar_format": "{l_bar}{bar}|",
       "colour": null,
       "elapsed": 0.006823301315307617,
       "initial": 0,
       "n": 0,
       "ncols": null,
       "nrows": null,
       "postfix": null,
       "prefix": "Query is running",
       "rate": null,
       "total": 1,
       "unit": "query",
       "unit_divisor": 1000,
       "unit_scale": false
      },
      "application/vnd.jupyter.widget-view+json": {
       "model_id": "9adb33bb13f24f0891e12d233d9b5a74",
       "version_major": 2,
       "version_minor": 0
      },
      "text/plain": [
       "Query is running:   0%|          |"
      ]
     },
     "metadata": {},
     "output_type": "display_data"
    },
    {
     "data": {
      "application/json": {
       "ascii": false,
       "bar_format": "{l_bar}{bar}|",
       "colour": null,
       "elapsed": 0.005877256393432617,
       "initial": 0,
       "n": 0,
       "ncols": null,
       "nrows": null,
       "postfix": null,
       "prefix": "Downloading",
       "rate": null,
       "total": 1,
       "unit": "rows",
       "unit_divisor": 1000,
       "unit_scale": false
      },
      "application/vnd.jupyter.widget-view+json": {
       "model_id": "8703fc8226da4d38a8b330f60e803265",
       "version_major": 2,
       "version_minor": 0
      },
      "text/plain": [
       "Downloading:   0%|          |"
      ]
     },
     "metadata": {},
     "output_type": "display_data"
    }
   ],
   "source": [
    "%%bigquery features_example_schema\n",
    "SELECT \n",
    " TO_JSON_STRING(\n",
    "    ARRAY_AGG(STRUCT(\n",
    "      column_name AS name,\n",
    "      data_type AS type)\n",
    "    ORDER BY ordinal_position), TRUE) AS schema\n",
    "FROM\n",
    "  feature_data_architecture.INFORMATION_SCHEMA.COLUMNS\n",
    "WHERE\n",
    "  table_name = 'features_example'"
   ]
  },
  {
   "cell_type": "code",
   "execution_count": 38,
   "id": "cd0da16b-bd9e-4163-a00a-18298b5f0e9d",
   "metadata": {
    "tags": []
   },
   "outputs": [
    {
     "data": {
      "text/plain": [
       "[{'name': 'entity_id', 'type': 'STRING'},\n",
       " {'name': 'feature_1', 'type': 'STRING'},\n",
       " {'name': 'feature_2', 'type': 'INT64'},\n",
       " {'name': 'feature_3', 'type': 'DATE'},\n",
       " {'name': 'feature_4', 'type': 'STRING'},\n",
       " {'name': 'feature_5', 'type': 'INT64'},\n",
       " {'name': 'feature_6', 'type': 'DATE'},\n",
       " {'name': 'feature_timestamp', 'type': 'TIMESTAMP'}]"
      ]
     },
     "execution_count": 38,
     "metadata": {},
     "output_type": "execute_result"
    }
   ],
   "source": [
    "json.loads(features_example_schema['schema'].iloc[0])"
   ]
  },
  {
   "cell_type": "code",
   "execution_count": 35,
   "id": "20dd7115-8cad-4676-b7ce-a0e094bda019",
   "metadata": {
    "tags": []
   },
   "outputs": [],
   "source": []
  },
  {
   "cell_type": "code",
   "execution_count": null,
   "id": "9e4bc4ff-5414-4d9b-b303-6efc7e272290",
   "metadata": {},
   "outputs": [],
   "source": []
  }
 ],
 "metadata": {
  "environment": {
   "kernel": "conda-root-py",
   "name": "workbench-notebooks.m115",
   "type": "gcloud",
   "uri": "gcr.io/deeplearning-platform-release/workbench-notebooks:m115"
  },
  "kernelspec": {
   "display_name": "Python 3 (ipykernel)",
   "language": "python",
   "name": "conda-root-py"
  },
  "language_info": {
   "codemirror_mode": {
    "name": "ipython",
    "version": 3
   },
   "file_extension": ".py",
   "mimetype": "text/x-python",
   "name": "python",
   "nbconvert_exporter": "python",
   "pygments_lexer": "ipython3",
   "version": "3.10.13"
  }
 },
 "nbformat": 4,
 "nbformat_minor": 5
}
