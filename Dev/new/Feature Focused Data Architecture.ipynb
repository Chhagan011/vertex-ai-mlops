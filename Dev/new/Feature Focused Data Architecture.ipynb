{
 "cells": [
  {
   "cell_type": "markdown",
   "id": "a8daa78e-d7cb-41d5-9ae2-e504371c2dfb",
   "metadata": {},
   "source": [
    "# Feature Focused Data Architecture\n",
    "\n",
    "This workflow examines data architecture optimizations for making data more useful for ML features. That sounds opinionated and it probably is.  While there is no perfect way there are tips that will make MLOps process more manageable, scalable, and useful. \n",
    "\n",
    "Machine Learning (ML) is far more than just training a model:\n",
    "\n",
    "1. Find data sources\n",
    "    - discovery\n",
    "    - understandinng\n",
    "    - formats\n",
    "    - frequency\n",
    "    - preparation, ETL\n",
    "2. Combine data sources\n",
    "    - formats\n",
    "    - frequency\n",
    "    - preparation, ETL\n",
    "3. Feature Enginneering\n",
    "    - Converting raw data columns into useful signal for ML methods\n",
    "4. Training ML Models\n",
    "    - Splits for train/validate/test\n",
    "    - Iterate Features and Feature Engineering\n",
    "5. Evaluate Models\n",
    "    - Continously\n",
    "6. Serve Models\n",
    "    - Format features for predition\n",
    "    - Serve features for prediction\n",
    "7. Monitor Models\n",
    "    - Skew: Change from training\n",
    "    - Drift: Change over time\n",
    "    - Continously\n",
    "    - Monitor Features for change\n",
    "    \n",
    "When the goal is training a model (4), it might seem easy to ad-hoc work through 1-3. _Let's be honest - it's what we do most of the time._ But then, when a model version proves useful, many compromises are needed to get 5-7 to ~~work~~ - it rarely works correctly.\n",
    "\n",
    "**What if**\n",
    "- you could make careful decision during 1-3 that could essentially automate 5-7 seemlessly?\n",
    "- it was not hard or time consuming?\n",
    "- it makes it easier to train and iterate?\n",
    "- it made everything easier?\n",
    "\n",
    "\n",
    "# How? BigQuery!\n",
    "BigQuery is a data warehouse right?  That seems perfect for 1-3 ... until you have fast changing data and low latency serving needs.  Actually, its perfect for this as well.  Let's proceed and discover together!\n"
   ]
  },
  {
   "cell_type": "code",
   "execution_count": null,
   "id": "cd616d03-4fd2-4a83-90de-55e1557a7a5e",
   "metadata": {},
   "outputs": [],
   "source": []
  }
 ],
 "metadata": {
  "environment": {
   "kernel": "",
   "name": "workbench-notebooks.m115",
   "type": "gcloud",
   "uri": "gcr.io/deeplearning-platform-release/workbench-notebooks:m115"
  },
  "kernelspec": {
   "display_name": "",
   "name": ""
  },
  "language_info": {
   "name": ""
  }
 },
 "nbformat": 4,
 "nbformat_minor": 5
}
