{
 "cells": [
  {
   "cell_type": "markdown",
   "id": "a8daa78e-d7cb-41d5-9ae2-e504371c2dfb",
   "metadata": {},
   "source": [
    "# Feature Focused Data Architecture\n",
    "\n",
    "This workflow examines data architecture optimizations for making data more useful for ML features. That sounds opinionated and it probably is.  While there is no perfect way there are tips that will make MLOps process more manageable, scalable, and useful. \n",
    "\n",
    "Machine Learning (ML) is far more than just training a model:\n",
    "\n",
    "1. Find data sources\n",
    "    - discovery\n",
    "    - understandinng\n",
    "    - formats\n",
    "    - frequency\n",
    "    - preparation, ETL\n",
    "2. Combine data sources\n",
    "    - formats\n",
    "    - frequency\n",
    "    - preparation, ETL\n",
    "3. Feature Enginneering\n",
    "    - Converting raw data columns into useful signal for ML methods\n",
    "4. Training ML Models\n",
    "    - Splits for train/validate/test\n",
    "    - Iterate Features and Feature Engineering\n",
    "5. Evaluate Models\n",
    "    - Continously\n",
    "6. Serve Models\n",
    "    - Format features for predition\n",
    "    - Serve features for prediction\n",
    "7. Monitor Models\n",
    "    - Skew: Change from training\n",
    "    - Drift: Change over time\n",
    "    - Continously\n",
    "    - Monitor Features for change\n",
    "    \n",
    "When the goal is training a model (4), it might seem easy to ad-hoc work through 1-3. _Let's be honest - it's what we do most of the time._ But then, when a model version proves useful, many compromises are needed to get 5-7 to ~~work~~ - it rarely works correctly.\n",
    "\n",
    "**What if**\n",
    "- you could make careful decision during 1-3 that could essentially automate 5-7 seemlessly?\n",
    "- it was not hard or time consuming?\n",
    "- it makes it easier to train and iterate?\n",
    "- it made everything easier?\n",
    "\n",
    "\n",
    "# How? BigQuery!\n",
    "BigQuery is a data warehouse right?  That seems perfect for 1-3 ... until you have fast changing data and low latency serving needs.  Actually, its perfect for this as well.  Let's proceed and discover together!\n"
   ]
  },
  {
   "cell_type": "markdown",
   "id": "4a01099e-b66a-4f23-b3f0-9e2c7882282c",
   "metadata": {
    "id": "od_UkDpvRmgD",
    "tags": []
   },
   "source": [
    "---\n",
    "## Colab Setup\n",
    "\n",
    "When running this notebook in [Colab](https://colab.google/) or [Colab Enterprise](https://cloud.google.com/colab/docs/introduction), this section will authenticate to GCP (follow prompts in the popup) and set the current project for the session."
   ]
  },
  {
   "cell_type": "code",
   "execution_count": 1,
   "id": "8c0e0441-5bde-467b-91f8-ef1fe433d44a",
   "metadata": {
    "executionInfo": {
     "elapsed": 195,
     "status": "ok",
     "timestamp": 1683726184843,
     "user": {
      "displayName": "Mike Henderson",
      "userId": "07691629187611687318"
     },
     "user_tz": 240
    },
    "id": "8UO9FnqyKBlF",
    "tags": []
   },
   "outputs": [],
   "source": [
    "PROJECT_ID = 'statmike-mlops-349915' # replace with project ID"
   ]
  },
  {
   "cell_type": "code",
   "execution_count": 2,
   "id": "b1c928ce-7830-4edd-b2ae-6c037bedc15d",
   "metadata": {
    "colab": {
     "base_uri": "https://localhost:8080/"
    },
    "executionInfo": {
     "elapsed": 68869,
     "status": "ok",
     "timestamp": 1683726253709,
     "user": {
      "displayName": "Mike Henderson",
      "userId": "07691629187611687318"
     },
     "user_tz": 240
    },
    "id": "N98-KK7LRkjm",
    "outputId": "09ec5008-0def-4e1a-c349-c598ee752f78",
    "tags": []
   },
   "outputs": [
    {
     "name": "stdout",
     "output_type": "stream",
     "text": [
      "Not a Colab Environment\n"
     ]
    }
   ],
   "source": [
    "try:\n",
    "    from google.colab import auth\n",
    "    auth.authenticate_user()\n",
    "    !gcloud config set project {PROJECT_ID}\n",
    "    print('Colab authorized to GCP')\n",
    "except Exception:\n",
    "    print('Not a Colab Environment')\n",
    "    pass"
   ]
  },
  {
   "cell_type": "markdown",
   "id": "820c5a5c-e66e-4d6c-8550-266bb2b2cb29",
   "metadata": {},
   "source": [
    "---\n",
    "## Installs\n",
    "\n",
    "The list `packages` contains tuples of package import names and install names.  If the import name is not found then the install name is used to install quitely for the current user."
   ]
  },
  {
   "cell_type": "code",
   "execution_count": 6,
   "id": "53dd8d8b-996d-4a77-979b-54de0b2c572d",
   "metadata": {
    "tags": []
   },
   "outputs": [],
   "source": [
    "# tuples of (import name, install name, min_version)\n",
    "packages = [\n",
    "    ('google.cloud.bigquery', 'google-cloud-bigquery'),\n",
    "    ('google.cloud.storage', 'google-cloud-storage')\n",
    "]\n",
    "\n",
    "import importlib\n",
    "install = False\n",
    "for package in packages:\n",
    "    if not importlib.util.find_spec(package[0]):\n",
    "        print(f'installing package {package[1]}')\n",
    "        install = True\n",
    "        !pip install {package[1]} -U -q --user\n",
    "    elif len(package) == 3:\n",
    "        if importlib.metadata.version(package[0]) < package[2]:\n",
    "            print(f'updating package {package[1]}')\n",
    "            install = True\n",
    "            !pip install {package[1]} -U -q --user"
   ]
  },
  {
   "cell_type": "markdown",
   "id": "fb4ae0a6-18e5-495c-b062-a518207a0634",
   "metadata": {},
   "source": [
    "### Restart Kernel (If Installs Occured)\n",
    "\n",
    "After a kernel restart the code submission can start with the next cell after this one."
   ]
  },
  {
   "cell_type": "code",
   "execution_count": 7,
   "id": "4fa510b1-b8a9-419a-bddd-9373463f7257",
   "metadata": {
    "tags": []
   },
   "outputs": [],
   "source": [
    "if install:\n",
    "    import IPython\n",
    "    app = IPython.Application.instance()\n",
    "    app.kernel.do_shutdown(True)"
   ]
  },
  {
   "cell_type": "markdown",
   "id": "92b55e5d-4ce4-474d-b777-9d1d80c6588c",
   "metadata": {
    "id": "appt8-yVRtJ1"
   },
   "source": [
    "---\n",
    "## Setup"
   ]
  },
  {
   "cell_type": "markdown",
   "id": "c7528b0d-1752-4473-8f97-f075556f578b",
   "metadata": {
    "id": "63mx2EozRxFP"
   },
   "source": [
    "Inputs"
   ]
  },
  {
   "cell_type": "code",
   "execution_count": 8,
   "id": "5036217c-eadf-4710-90cb-a1aa60463af8",
   "metadata": {
    "colab": {
     "base_uri": "https://localhost:8080/",
     "height": 35
    },
    "executionInfo": {
     "elapsed": 2124,
     "status": "ok",
     "timestamp": 1683726390544,
     "user": {
      "displayName": "Mike Henderson",
      "userId": "07691629187611687318"
     },
     "user_tz": 240
    },
    "id": "xzcoXjM5Rky5",
    "outputId": "b3bdcbc1-70d5-472e-aea2-42c74a42efde",
    "tags": []
   },
   "outputs": [
    {
     "data": {
      "text/plain": [
       "'statmike-mlops-349915'"
      ]
     },
     "execution_count": 8,
     "metadata": {},
     "output_type": "execute_result"
    }
   ],
   "source": [
    "project = !gcloud config get-value project\n",
    "PROJECT_ID = project[0]\n",
    "PROJECT_ID"
   ]
  },
  {
   "cell_type": "code",
   "execution_count": 9,
   "id": "a3d8b543-28ff-45e1-86bd-72154679eb49",
   "metadata": {
    "executionInfo": {
     "elapsed": 2,
     "status": "ok",
     "timestamp": 1683726390712,
     "user": {
      "displayName": "Mike Henderson",
      "userId": "07691629187611687318"
     },
     "user_tz": 240
    },
    "id": "IxWrFtqYMfku",
    "tags": []
   },
   "outputs": [],
   "source": [
    "REGION = 'us-central1'\n",
    "EXPERIMENT = 'architecture'\n",
    "SERIES = 'feature-data-architecture'\n",
    "\n",
    "# BigQuery Parameters\n",
    "BQ_PROJECT = PROJECT_ID\n",
    "BQ_DATASET = SERIES\n",
    "BQ_TABLE = EXPERIMENT\n",
    "BQ_REGION = REGION[0:2]\n",
    "\n",
    "# specify a GCS Bucket\n",
    "GCS_BUCKET = PROJECT_ID"
   ]
  },
  {
   "cell_type": "markdown",
   "id": "a4a81474-6e96-40ab-9ea4-e03895dcf13c",
   "metadata": {
    "id": "LuajVwCiO6Yg"
   },
   "source": [
    "Packages"
   ]
  },
  {
   "cell_type": "code",
   "execution_count": 101,
   "id": "a75d5914-51e6-4a03-9f42-0d0a3be899b7",
   "metadata": {
    "executionInfo": {
     "elapsed": 17761,
     "status": "ok",
     "timestamp": 1683726409304,
     "user": {
      "displayName": "Mike Henderson",
      "userId": "07691629187611687318"
     },
     "user_tz": 240
    },
    "id": "LVC7zzSLRk2C",
    "tags": []
   },
   "outputs": [],
   "source": [
    "import json\n",
    "import pandas as pd\n",
    "from google.cloud import storage\n",
    "from google.cloud import bigquery"
   ]
  },
  {
   "cell_type": "markdown",
   "id": "1eec3dae-268d-4bac-b324-fb7174105bc4",
   "metadata": {
    "id": "EyAVFG9TO9H-"
   },
   "source": [
    "Clients"
   ]
  },
  {
   "cell_type": "code",
   "execution_count": 14,
   "id": "996ed676-a7d7-427d-aaf4-a1ffa7a54400",
   "metadata": {
    "executionInfo": {
     "elapsed": 19,
     "status": "ok",
     "timestamp": 1683726409306,
     "user": {
      "displayName": "Mike Henderson",
      "userId": "07691629187611687318"
     },
     "user_tz": 240
    },
    "id": "L0RPE13LOZce",
    "tags": []
   },
   "outputs": [
    {
     "name": "stdout",
     "output_type": "stream",
     "text": [
      "The google.cloud.bigquery extension is already loaded. To reload it, use:\n",
      "  %reload_ext google.cloud.bigquery\n"
     ]
    }
   ],
   "source": [
    "# gcs client: assumes bucket already exists\n",
    "gcs = storage.Client(project = PROJECT_ID)\n",
    "bucket = gcs.bucket(GCS_BUCKET)\n",
    "\n",
    "# bigquery client\n",
    "bq = bigquery.Client(project = PROJECT_ID)\n",
    "%load_ext google.cloud.bigquery"
   ]
  },
  {
   "cell_type": "markdown",
   "id": "0f7ad778-dc9a-4fad-829c-9dd8b2a8f86b",
   "metadata": {},
   "source": [
    "---\n",
    "## The Idea!\n"
   ]
  },
  {
   "cell_type": "markdown",
   "id": "e5e11272-7e0b-457d-b252-c29abdccdc33",
   "metadata": {},
   "source": [
    "### Create A Dataset\n",
    "\n",
    "Referneces:\n",
    "- [Create datasets](https://cloud.google.com/bigquery/docs/datasets)\n",
    "- [`CREATE SCHEMA` statement](https://cloud.google.com/bigquery/docs/reference/standard-sql/data-definition-language#create_schema_statement)"
   ]
  },
  {
   "cell_type": "code",
   "execution_count": 20,
   "id": "671b33c7-efb8-4b28-97c6-466734c18412",
   "metadata": {
    "tags": []
   },
   "outputs": [
    {
     "data": {
      "application/json": {
       "ascii": false,
       "bar_format": "{l_bar}{bar}|",
       "colour": null,
       "elapsed": 0.005997180938720703,
       "initial": 0,
       "n": 0,
       "ncols": null,
       "nrows": null,
       "postfix": null,
       "prefix": "Query is running",
       "rate": null,
       "total": 1,
       "unit": "query",
       "unit_divisor": 1000,
       "unit_scale": false
      },
      "application/vnd.jupyter.widget-view+json": {
       "model_id": "3b7e6a7a05394354a63a2262c8229ec4",
       "version_major": 2,
       "version_minor": 0
      },
      "text/plain": [
       "Query is running:   0%|          |"
      ]
     },
     "metadata": {},
     "output_type": "display_data"
    },
    {
     "data": {
      "text/html": [
       "<div>\n",
       "<style scoped>\n",
       "    .dataframe tbody tr th:only-of-type {\n",
       "        vertical-align: middle;\n",
       "    }\n",
       "\n",
       "    .dataframe tbody tr th {\n",
       "        vertical-align: top;\n",
       "    }\n",
       "\n",
       "    .dataframe thead th {\n",
       "        text-align: right;\n",
       "    }\n",
       "</style>\n",
       "<table border=\"1\" class=\"dataframe\">\n",
       "  <thead>\n",
       "    <tr style=\"text-align: right;\">\n",
       "      <th></th>\n",
       "    </tr>\n",
       "  </thead>\n",
       "  <tbody>\n",
       "  </tbody>\n",
       "</table>\n",
       "</div>"
      ],
      "text/plain": [
       "Empty DataFrame\n",
       "Columns: []\n",
       "Index: []"
      ]
     },
     "execution_count": 20,
     "metadata": {},
     "output_type": "execute_result"
    }
   ],
   "source": [
    "%%bigquery\n",
    "CREATE SCHEMA IF NOT EXISTS `statmike-mlops-349915.feature_data_architecture`\n",
    "    OPTIONS(\n",
    "        location = 'US'\n",
    "    )"
   ]
  },
  {
   "cell_type": "markdown",
   "id": "dc7982db-3723-4b7d-aba9-a9eac5cbfbfe",
   "metadata": {},
   "source": [
    "### Create Table: `features_example`"
   ]
  },
  {
   "cell_type": "code",
   "execution_count": 26,
   "id": "d6c4fbe3-3964-489a-9503-550afa12a06d",
   "metadata": {
    "tags": []
   },
   "outputs": [
    {
     "data": {
      "application/json": {
       "ascii": false,
       "bar_format": "{l_bar}{bar}|",
       "colour": null,
       "elapsed": 0.006295442581176758,
       "initial": 0,
       "n": 0,
       "ncols": null,
       "nrows": null,
       "postfix": null,
       "prefix": "Query is running",
       "rate": null,
       "total": 1,
       "unit": "query",
       "unit_divisor": 1000,
       "unit_scale": false
      },
      "application/vnd.jupyter.widget-view+json": {
       "model_id": "2a49578832894212a4b67b355e6ce8a6",
       "version_major": 2,
       "version_minor": 0
      },
      "text/plain": [
       "Query is running:   0%|          |"
      ]
     },
     "metadata": {},
     "output_type": "display_data"
    },
    {
     "data": {
      "application/json": {
       "ascii": false,
       "bar_format": "{l_bar}{bar}|",
       "colour": null,
       "elapsed": 0.006409168243408203,
       "initial": 0,
       "n": 0,
       "ncols": null,
       "nrows": null,
       "postfix": null,
       "prefix": "Downloading",
       "rate": null,
       "total": 4,
       "unit": "rows",
       "unit_divisor": 1000,
       "unit_scale": false
      },
      "application/vnd.jupyter.widget-view+json": {
       "model_id": "22f2e8368a294a0d9b2dd8265df667d5",
       "version_major": 2,
       "version_minor": 0
      },
      "text/plain": [
       "Downloading:   0%|          |"
      ]
     },
     "metadata": {},
     "output_type": "display_data"
    },
    {
     "data": {
      "text/html": [
       "<div>\n",
       "<style scoped>\n",
       "    .dataframe tbody tr th:only-of-type {\n",
       "        vertical-align: middle;\n",
       "    }\n",
       "\n",
       "    .dataframe tbody tr th {\n",
       "        vertical-align: top;\n",
       "    }\n",
       "\n",
       "    .dataframe thead th {\n",
       "        text-align: right;\n",
       "    }\n",
       "</style>\n",
       "<table border=\"1\" class=\"dataframe\">\n",
       "  <thead>\n",
       "    <tr style=\"text-align: right;\">\n",
       "      <th></th>\n",
       "      <th>entity_id</th>\n",
       "      <th>feature_1</th>\n",
       "      <th>feature_2</th>\n",
       "      <th>feature_3</th>\n",
       "      <th>feature_4</th>\n",
       "      <th>feature_5</th>\n",
       "      <th>feature_6</th>\n",
       "      <th>feature_timestamp</th>\n",
       "    </tr>\n",
       "  </thead>\n",
       "  <tbody>\n",
       "    <tr>\n",
       "      <th>0</th>\n",
       "      <td>customer_abf</td>\n",
       "      <td>a string 2</td>\n",
       "      <td>120</td>\n",
       "      <td>2024-03-11</td>\n",
       "      <td>None</td>\n",
       "      <td>4</td>\n",
       "      <td>2023-12-31</td>\n",
       "      <td>2024-03-04 07:45:21.070234+00:00</td>\n",
       "    </tr>\n",
       "    <tr>\n",
       "      <th>1</th>\n",
       "      <td>customer_abe</td>\n",
       "      <td>a string 1</td>\n",
       "      <td>121</td>\n",
       "      <td>2024-03-11</td>\n",
       "      <td>some words</td>\n",
       "      <td>&lt;NA&gt;</td>\n",
       "      <td>2024-01-27</td>\n",
       "      <td>2024-03-08 02:45:21.070234+00:00</td>\n",
       "    </tr>\n",
       "    <tr>\n",
       "      <th>2</th>\n",
       "      <td>customer_abc</td>\n",
       "      <td>a string 1</td>\n",
       "      <td>123</td>\n",
       "      <td>2024-03-11</td>\n",
       "      <td>some words</td>\n",
       "      <td>1</td>\n",
       "      <td>2024-01-12</td>\n",
       "      <td>2024-03-06 20:10:21.070234+00:00</td>\n",
       "    </tr>\n",
       "    <tr>\n",
       "      <th>3</th>\n",
       "      <td>customer_abd</td>\n",
       "      <td>a string 2</td>\n",
       "      <td>124</td>\n",
       "      <td>2024-03-11</td>\n",
       "      <td>some words</td>\n",
       "      <td>2</td>\n",
       "      <td>NaT</td>\n",
       "      <td>2024-03-08 05:31:21.070234+00:00</td>\n",
       "    </tr>\n",
       "  </tbody>\n",
       "</table>\n",
       "</div>"
      ],
      "text/plain": [
       "      entity_id   feature_1  feature_2   feature_3   feature_4  feature_5  \\\n",
       "0  customer_abf  a string 2        120  2024-03-11        None          4   \n",
       "1  customer_abe  a string 1        121  2024-03-11  some words       <NA>   \n",
       "2  customer_abc  a string 1        123  2024-03-11  some words          1   \n",
       "3  customer_abd  a string 2        124  2024-03-11  some words          2   \n",
       "\n",
       "    feature_6                feature_timestamp  \n",
       "0  2023-12-31 2024-03-04 07:45:21.070234+00:00  \n",
       "1  2024-01-27 2024-03-08 02:45:21.070234+00:00  \n",
       "2  2024-01-12 2024-03-06 20:10:21.070234+00:00  \n",
       "3         NaT 2024-03-08 05:31:21.070234+00:00  "
      ]
     },
     "execution_count": 26,
     "metadata": {},
     "output_type": "execute_result"
    }
   ],
   "source": [
    "%%bigquery\n",
    "CREATE OR REPLACE TABLE feature_data_architecture.features_example AS\n",
    "    SELECT 'customer_abc' AS entity_id, 'a string 1' AS feature_1, 123 AS feature_2, CURRENT_DATE() AS feature_3,\n",
    "        'some words' AS feature_4, 1 AS feature_5, DATE_SUB(CURRENT_DATE(), INTERVAL CAST(FLOOR(8+100*RAND()) AS INT64) DAY) AS feature_6,\n",
    "        TIMESTAMP_SUB(CURRENT_TIMESTAMP(), INTERVAL CAST(FLOOR(10080*RAND()) AS INT64) MINUTE) AS feature_timestamp\n",
    "    UNION ALL\n",
    "    SELECT 'customer_abd' AS entity_id, 'a string 2' AS feature_1, 124 AS feature_2, CURRENT_DATE() AS feature_3, \n",
    "        'some words' AS feature_4, 2 AS feature_5, NULL as feature_6,\n",
    "        TIMESTAMP_SUB(CURRENT_TIMESTAMP(), INTERVAL CAST(FLOOR(10080*RAND()) AS INT64) MINUTE) AS feature_timestamp\n",
    "    UNION ALL\n",
    "    SELECT 'customer_abe' AS entity_id, 'a string 1' AS feature_1, 121 AS feature_2, CURRENT_DATE() AS feature_3, \n",
    "        'some words' AS feature_4, NULL AS feature_5, DATE_SUB(CURRENT_DATE(), INTERVAL CAST(FLOOR(8+100*RAND()) AS INT64) DAY) AS feature_6,\n",
    "        TIMESTAMP_SUB(CURRENT_TIMESTAMP(), INTERVAL CAST(FLOOR(10080*RAND()) AS INT64) MINUTE) AS feature_timestamp\n",
    "    UNION ALL\n",
    "    SELECT 'customer_abf' AS entity_id, 'a string 2' AS feature_1, 120 AS feature_2, CURRENT_DATE() AS feature_3,\n",
    "        NULL AS feature_4, 4 AS feature_5, DATE_SUB(CURRENT_DATE(), INTERVAL CAST(FLOOR(8+100*RAND()) AS INT64) DAY) AS feature_6,\n",
    "        TIMESTAMP_SUB(CURRENT_TIMESTAMP(), INTERVAL CAST(FLOOR(10080*RAND()) AS INT64) MINUTE) AS feature_timestamp\n",
    ";\n",
    "\n",
    "SELECT * FROM feature_data_architecture.features_example;"
   ]
  },
  {
   "cell_type": "markdown",
   "id": "3f210f72-8abd-4375-81c9-e5794acaee84",
   "metadata": {},
   "source": [
    "### Create Table: `features_eav`"
   ]
  },
  {
   "cell_type": "code",
   "execution_count": 119,
   "id": "e35bb0b5-5370-4d2c-9809-19c4dcd2402c",
   "metadata": {
    "tags": []
   },
   "outputs": [
    {
     "data": {
      "application/json": {
       "ascii": false,
       "bar_format": "{l_bar}{bar}|",
       "colour": null,
       "elapsed": 0.00802469253540039,
       "initial": 0,
       "n": 0,
       "ncols": null,
       "nrows": null,
       "postfix": null,
       "prefix": "Query is running",
       "rate": null,
       "total": 1,
       "unit": "query",
       "unit_divisor": 1000,
       "unit_scale": false
      },
      "application/vnd.jupyter.widget-view+json": {
       "model_id": "efff1237e01f42c5bd0612e8a04c255e",
       "version_major": 2,
       "version_minor": 0
      },
      "text/plain": [
       "Query is running:   0%|          |"
      ]
     },
     "metadata": {},
     "output_type": "display_data"
    },
    {
     "data": {
      "text/html": [
       "<div>\n",
       "<style scoped>\n",
       "    .dataframe tbody tr th:only-of-type {\n",
       "        vertical-align: middle;\n",
       "    }\n",
       "\n",
       "    .dataframe tbody tr th {\n",
       "        vertical-align: top;\n",
       "    }\n",
       "\n",
       "    .dataframe thead th {\n",
       "        text-align: right;\n",
       "    }\n",
       "</style>\n",
       "<table border=\"1\" class=\"dataframe\">\n",
       "  <thead>\n",
       "    <tr style=\"text-align: right;\">\n",
       "      <th></th>\n",
       "    </tr>\n",
       "  </thead>\n",
       "  <tbody>\n",
       "  </tbody>\n",
       "</table>\n",
       "</div>"
      ],
      "text/plain": [
       "Empty DataFrame\n",
       "Columns: []\n",
       "Index: []"
      ]
     },
     "execution_count": 119,
     "metadata": {},
     "output_type": "execute_result"
    }
   ],
   "source": [
    "%%bigquery\n",
    "CREATE OR REPLACE TABLE feature_data_architecture.features_eav (\n",
    "    entity_id STRING,\n",
    "    feature_name STRING,\n",
    "    feature_value STRUCT<STRING_value STRING, INT64_value INT64, DATE_value DATE>,\n",
    "    feature_datatype STRING,\n",
    "    feature_timestamp TIMESTAMP\n",
    ");"
   ]
  },
  {
   "cell_type": "code",
   "execution_count": 120,
   "id": "66496cbf-a081-4ca2-bcb9-81ad5278586c",
   "metadata": {
    "tags": []
   },
   "outputs": [
    {
     "data": {
      "application/json": {
       "ascii": false,
       "bar_format": "{l_bar}{bar}|",
       "colour": null,
       "elapsed": 0.006692647933959961,
       "initial": 0,
       "n": 0,
       "ncols": null,
       "nrows": null,
       "postfix": null,
       "prefix": "Query is running",
       "rate": null,
       "total": 1,
       "unit": "query",
       "unit_divisor": 1000,
       "unit_scale": false
      },
      "application/vnd.jupyter.widget-view+json": {
       "model_id": "e0f7293550ab49d28d8cf0cee388b49c",
       "version_major": 2,
       "version_minor": 0
      },
      "text/plain": [
       "Query is running:   0%|          |"
      ]
     },
     "metadata": {},
     "output_type": "display_data"
    },
    {
     "data": {
      "application/json": {
       "ascii": false,
       "bar_format": "{l_bar}{bar}|",
       "colour": null,
       "elapsed": 0.0062122344970703125,
       "initial": 0,
       "n": 0,
       "ncols": null,
       "nrows": null,
       "postfix": null,
       "prefix": "Downloading",
       "rate": null,
       "total": 5,
       "unit": "rows",
       "unit_divisor": 1000,
       "unit_scale": false
      },
      "application/vnd.jupyter.widget-view+json": {
       "model_id": "d59e79f71f2f4a9b9b43c4009605d482",
       "version_major": 2,
       "version_minor": 0
      },
      "text/plain": [
       "Downloading:   0%|          |"
      ]
     },
     "metadata": {},
     "output_type": "display_data"
    }
   ],
   "source": [
    "%%bigquery features_eav_schema\n",
    "SELECT column_name, data_type\n",
    "FROM feature_data_architecture.INFORMATION_SCHEMA.COLUMNS\n",
    "WHERE table_name = 'features_eav'"
   ]
  },
  {
   "cell_type": "code",
   "execution_count": 121,
   "id": "4c457b2d-9de7-43ff-a494-e51c01444004",
   "metadata": {
    "tags": []
   },
   "outputs": [
    {
     "data": {
      "text/plain": [
       "{'entity_id': 'STRING',\n",
       " 'feature_name': 'STRING',\n",
       " 'feature_value': 'STRUCT<STRING_value STRING, INT64_value INT64, DATE_value DATE>',\n",
       " 'feature_datatype': 'STRING',\n",
       " 'feature_timestamp': 'TIMESTAMP'}"
      ]
     },
     "execution_count": 121,
     "metadata": {},
     "output_type": "execute_result"
    }
   ],
   "source": [
    "features_eav_schema = features_eav_schema.set_index('column_name').to_dict()['data_type']\n",
    "features_eav_schema"
   ]
  },
  {
   "cell_type": "markdown",
   "id": "3c673291-7c50-4b63-9bb1-42b1e18d8571",
   "metadata": {},
   "source": [
    "### Data Source For `features_eav`\n",
    "\n",
    "For the `features_eav` table, features are loaded as individual value.  This has the advantage of managing features separately and handling new features over time without schema updates.\n",
    "\n",
    "To illustrate this, the `features_example` table above is downloaded and converted to the expected `features_eav` schema."
   ]
  },
  {
   "cell_type": "code",
   "execution_count": 71,
   "id": "da1de82c-c361-4fd8-91a4-5d892028c134",
   "metadata": {
    "tags": []
   },
   "outputs": [
    {
     "data": {
      "application/json": {
       "ascii": false,
       "bar_format": "{l_bar}{bar}|",
       "colour": null,
       "elapsed": 0.0063321590423583984,
       "initial": 0,
       "n": 0,
       "ncols": null,
       "nrows": null,
       "postfix": null,
       "prefix": "Query is running",
       "rate": null,
       "total": 1,
       "unit": "query",
       "unit_divisor": 1000,
       "unit_scale": false
      },
      "application/vnd.jupyter.widget-view+json": {
       "model_id": "d781aec0d63b455281eb2f641e8d2317",
       "version_major": 2,
       "version_minor": 0
      },
      "text/plain": [
       "Query is running:   0%|          |"
      ]
     },
     "metadata": {},
     "output_type": "display_data"
    },
    {
     "data": {
      "application/json": {
       "ascii": false,
       "bar_format": "{l_bar}{bar}|",
       "colour": null,
       "elapsed": 0.0054590702056884766,
       "initial": 0,
       "n": 0,
       "ncols": null,
       "nrows": null,
       "postfix": null,
       "prefix": "Downloading",
       "rate": null,
       "total": 4,
       "unit": "rows",
       "unit_divisor": 1000,
       "unit_scale": false
      },
      "application/vnd.jupyter.widget-view+json": {
       "model_id": "d612b94d913f469492f0dc35a0cc2f63",
       "version_major": 2,
       "version_minor": 0
      },
      "text/plain": [
       "Downloading:   0%|          |"
      ]
     },
     "metadata": {},
     "output_type": "display_data"
    }
   ],
   "source": [
    "%%bigquery features_example\n",
    "SELECT * FROM feature_data_architecture.features_example;"
   ]
  },
  {
   "cell_type": "code",
   "execution_count": 72,
   "id": "658ec879-9ffb-4acd-85f7-7933e0cdf918",
   "metadata": {
    "tags": []
   },
   "outputs": [
    {
     "data": {
      "text/html": [
       "<div>\n",
       "<style scoped>\n",
       "    .dataframe tbody tr th:only-of-type {\n",
       "        vertical-align: middle;\n",
       "    }\n",
       "\n",
       "    .dataframe tbody tr th {\n",
       "        vertical-align: top;\n",
       "    }\n",
       "\n",
       "    .dataframe thead th {\n",
       "        text-align: right;\n",
       "    }\n",
       "</style>\n",
       "<table border=\"1\" class=\"dataframe\">\n",
       "  <thead>\n",
       "    <tr style=\"text-align: right;\">\n",
       "      <th></th>\n",
       "      <th>entity_id</th>\n",
       "      <th>feature_1</th>\n",
       "      <th>feature_2</th>\n",
       "      <th>feature_3</th>\n",
       "      <th>feature_4</th>\n",
       "      <th>feature_5</th>\n",
       "      <th>feature_6</th>\n",
       "      <th>feature_timestamp</th>\n",
       "    </tr>\n",
       "  </thead>\n",
       "  <tbody>\n",
       "    <tr>\n",
       "      <th>0</th>\n",
       "      <td>customer_abf</td>\n",
       "      <td>a string 2</td>\n",
       "      <td>120</td>\n",
       "      <td>2024-03-11</td>\n",
       "      <td>None</td>\n",
       "      <td>4</td>\n",
       "      <td>2023-12-31</td>\n",
       "      <td>2024-03-04 07:45:21.070234+00:00</td>\n",
       "    </tr>\n",
       "    <tr>\n",
       "      <th>1</th>\n",
       "      <td>customer_abe</td>\n",
       "      <td>a string 1</td>\n",
       "      <td>121</td>\n",
       "      <td>2024-03-11</td>\n",
       "      <td>some words</td>\n",
       "      <td>&lt;NA&gt;</td>\n",
       "      <td>2024-01-27</td>\n",
       "      <td>2024-03-08 02:45:21.070234+00:00</td>\n",
       "    </tr>\n",
       "    <tr>\n",
       "      <th>2</th>\n",
       "      <td>customer_abc</td>\n",
       "      <td>a string 1</td>\n",
       "      <td>123</td>\n",
       "      <td>2024-03-11</td>\n",
       "      <td>some words</td>\n",
       "      <td>1</td>\n",
       "      <td>2024-01-12</td>\n",
       "      <td>2024-03-06 20:10:21.070234+00:00</td>\n",
       "    </tr>\n",
       "    <tr>\n",
       "      <th>3</th>\n",
       "      <td>customer_abd</td>\n",
       "      <td>a string 2</td>\n",
       "      <td>124</td>\n",
       "      <td>2024-03-11</td>\n",
       "      <td>some words</td>\n",
       "      <td>2</td>\n",
       "      <td>NaT</td>\n",
       "      <td>2024-03-08 05:31:21.070234+00:00</td>\n",
       "    </tr>\n",
       "  </tbody>\n",
       "</table>\n",
       "</div>"
      ],
      "text/plain": [
       "      entity_id   feature_1  feature_2   feature_3   feature_4  feature_5  \\\n",
       "0  customer_abf  a string 2        120  2024-03-11        None          4   \n",
       "1  customer_abe  a string 1        121  2024-03-11  some words       <NA>   \n",
       "2  customer_abc  a string 1        123  2024-03-11  some words          1   \n",
       "3  customer_abd  a string 2        124  2024-03-11  some words          2   \n",
       "\n",
       "    feature_6                feature_timestamp  \n",
       "0  2023-12-31 2024-03-04 07:45:21.070234+00:00  \n",
       "1  2024-01-27 2024-03-08 02:45:21.070234+00:00  \n",
       "2  2024-01-12 2024-03-06 20:10:21.070234+00:00  \n",
       "3         NaT 2024-03-08 05:31:21.070234+00:00  "
      ]
     },
     "execution_count": 72,
     "metadata": {},
     "output_type": "execute_result"
    }
   ],
   "source": [
    "features_example"
   ]
  },
  {
   "cell_type": "code",
   "execution_count": 73,
   "id": "d87266fb-9814-4076-b707-657ff10d8309",
   "metadata": {
    "tags": []
   },
   "outputs": [
    {
     "data": {
      "application/json": {
       "ascii": false,
       "bar_format": "{l_bar}{bar}|",
       "colour": null,
       "elapsed": 0.0064907073974609375,
       "initial": 0,
       "n": 0,
       "ncols": null,
       "nrows": null,
       "postfix": null,
       "prefix": "Query is running",
       "rate": null,
       "total": 1,
       "unit": "query",
       "unit_divisor": 1000,
       "unit_scale": false
      },
      "application/vnd.jupyter.widget-view+json": {
       "model_id": "236faa447f0c406ea0850c555f19e506",
       "version_major": 2,
       "version_minor": 0
      },
      "text/plain": [
       "Query is running:   0%|          |"
      ]
     },
     "metadata": {},
     "output_type": "display_data"
    },
    {
     "data": {
      "application/json": {
       "ascii": false,
       "bar_format": "{l_bar}{bar}|",
       "colour": null,
       "elapsed": 0.0065419673919677734,
       "initial": 0,
       "n": 0,
       "ncols": null,
       "nrows": null,
       "postfix": null,
       "prefix": "Downloading",
       "rate": null,
       "total": 8,
       "unit": "rows",
       "unit_divisor": 1000,
       "unit_scale": false
      },
      "application/vnd.jupyter.widget-view+json": {
       "model_id": "82e86a12428e4cbcac9b758d26a71c83",
       "version_major": 2,
       "version_minor": 0
      },
      "text/plain": [
       "Downloading:   0%|          |"
      ]
     },
     "metadata": {},
     "output_type": "display_data"
    }
   ],
   "source": [
    "%%bigquery features_example_schema\n",
    "SELECT column_name, data_type\n",
    "FROM feature_data_architecture.INFORMATION_SCHEMA.COLUMNS\n",
    "WHERE table_name = 'features_example'"
   ]
  },
  {
   "cell_type": "code",
   "execution_count": 74,
   "id": "2dce5908-267f-477b-9ef0-4036488be5c2",
   "metadata": {
    "tags": []
   },
   "outputs": [
    {
     "data": {
      "text/plain": [
       "{'entity_id': 'STRING',\n",
       " 'feature_1': 'STRING',\n",
       " 'feature_2': 'INT64',\n",
       " 'feature_3': 'DATE',\n",
       " 'feature_4': 'STRING',\n",
       " 'feature_5': 'INT64',\n",
       " 'feature_6': 'DATE',\n",
       " 'feature_timestamp': 'TIMESTAMP'}"
      ]
     },
     "execution_count": 74,
     "metadata": {},
     "output_type": "execute_result"
    }
   ],
   "source": [
    "features_example_schema = features_example_schema.set_index('column_name').to_dict()['data_type']\n",
    "features_example_schema"
   ]
  },
  {
   "cell_type": "code",
   "execution_count": 146,
   "id": "4976627d-1919-48bc-8997-09cb6a654e42",
   "metadata": {
    "tags": []
   },
   "outputs": [],
   "source": [
    "import datetime\n",
    "import random"
   ]
  },
  {
   "cell_type": "code",
   "execution_count": 138,
   "id": "91846479-687b-426f-8af2-7602415b6a34",
   "metadata": {
    "tags": []
   },
   "outputs": [],
   "source": [
    "eav_data = []\n",
    "features = [f for f in features_example.columns if f not in ['entity_id', 'feature_timestamp']]\n",
    "for feature in features:\n",
    "    # get non-null values for current feature\n",
    "    convert = features_example.loc[features_example[feature].notnull(), ['entity_id', feature, 'feature_timestamp']]\n",
    "    # add noise to feature_timestamp and then convert to string:\n",
    "    convert['feature_timestamp'] = convert['feature_timestamp'] + datetime.timedelta(minutes = random.randint(1,10))\n",
    "    convert['feature_timestamp'] = convert['feature_timestamp'].dt.strftime('%Y-%m-%d %H:%M:%S')\n",
    "    if features_example_schema[feature] == 'DATE':\n",
    "        convert[feature] = convert[feature].astype(str)\n",
    "    convert = convert.to_dict(orient = 'records')\n",
    "    for row in convert:\n",
    "        eav_data.append(\n",
    "            dict(\n",
    "                entity_id = row['entity_id'],\n",
    "                feature_name = feature,\n",
    "                feature_value = {f'{features_example_schema[feature]}_value': row[feature]},\n",
    "                feature_datatype = features_example_schema[feature],\n",
    "                feature_timestamp = row['feature_timestamp']\n",
    "            )\n",
    "        )"
   ]
  },
  {
   "cell_type": "code",
   "execution_count": 140,
   "id": "aeb5e8a6-d1ed-4dd4-aac4-492d2505a4a1",
   "metadata": {
    "tags": []
   },
   "outputs": [
    {
     "data": {
      "text/plain": [
       "{'entity_id': 'customer_abf',\n",
       " 'feature_name': 'feature_1',\n",
       " 'feature_value': {'STRING_value': 'a string 2'},\n",
       " 'feature_datatype': 'STRING',\n",
       " 'feature_timestamp': '2024-03-04 07:48:21'}"
      ]
     },
     "execution_count": 140,
     "metadata": {},
     "output_type": "execute_result"
    }
   ],
   "source": [
    "eav_data[0]"
   ]
  },
  {
   "cell_type": "markdown",
   "id": "ca3c4c5d-e4e1-4437-b12b-00a5552b5aa0",
   "metadata": {},
   "source": [
    "### Import `features_eav` Data Source\n",
    "\n",
    "Loading the data in the schema of `features_eav` looks like appends to the table. This could happen from multiple job running as batch or streaming inserts.  Here, the process is illustrated using a batch load from a local JSON file.\n",
    "\n",
    "References:\n",
    "- [Introduction to loading data](https://cloud.google.com/bigquery/docs/loading-data)\n",
    "    - Batch: Load jobs, SQL, BigQuery Data Transfer Service, BigQuery Storage Write API, Managed Services\n",
    "    - Stream: Storage Write API, Dataflow, Datastream, BigQuery Connector for SAP, Pub/Sub\n",
    "    - SQL: queries to append/overwrite\n",
    "    - Third-party applications\n",
    "- [Batch Loading Data](https://cloud.google.com/bigquery/docs/batch-loading-data)\n",
    "- [Loading from local files (with bq cli)](https://cloud.google.com/bigquery/docs/batch-loading-data#loading_data_from_local_files)\n",
    "    - [`bq load` CLI]()\n",
    "- [Load JSON data](https://cloud.google.com/bigquery/docs/loading-data-cloud-storage-json#limitations)"
   ]
  },
  {
   "cell_type": "markdown",
   "id": "0814ab8f-662b-4dd3-90b5-1e4c1328480c",
   "metadata": {},
   "source": [
    "Save as JSON lines:"
   ]
  },
  {
   "cell_type": "code",
   "execution_count": 141,
   "id": "359e7ed7-54aa-46ad-ac91-1f2ce49476a0",
   "metadata": {
    "tags": []
   },
   "outputs": [],
   "source": [
    "with open('eav.json', 'w') as f:\n",
    "    f.write('\\n'.join(map(json.dumps, eav_data)))"
   ]
  },
  {
   "cell_type": "code",
   "execution_count": 150,
   "id": "60ff03f9-2db2-4c07-9652-8611a0ff5b45",
   "metadata": {
    "tags": []
   },
   "outputs": [
    {
     "name": "stdout",
     "output_type": "stream",
     "text": [
      "Upload complete.\n",
      "Waiting on bqjob_r4d9b87a4b5238dd6_0000018e2d9c8d37_1 ... (2s) Current status: DONE   \n"
     ]
    }
   ],
   "source": [
    "!bq load --source_format=NEWLINE_DELIMITED_JSON --autodetect --replace=true statmike-mlops-349915:feature_data_architecture.features_eav ./eav.json"
   ]
  },
  {
   "cell_type": "code",
   "execution_count": 151,
   "id": "1bc5e720-45d4-424e-bb0a-b3e90a2c0de5",
   "metadata": {
    "tags": []
   },
   "outputs": [
    {
     "data": {
      "application/json": {
       "ascii": false,
       "bar_format": "{l_bar}{bar}|",
       "colour": null,
       "elapsed": 0.007704496383666992,
       "initial": 0,
       "n": 0,
       "ncols": null,
       "nrows": null,
       "postfix": null,
       "prefix": "Query is running",
       "rate": null,
       "total": 1,
       "unit": "query",
       "unit_divisor": 1000,
       "unit_scale": false
      },
      "application/vnd.jupyter.widget-view+json": {
       "model_id": "76c0c86e40504aa0b07d63c1e4bbb6c9",
       "version_major": 2,
       "version_minor": 0
      },
      "text/plain": [
       "Query is running:   0%|          |"
      ]
     },
     "metadata": {},
     "output_type": "display_data"
    },
    {
     "data": {
      "application/json": {
       "ascii": false,
       "bar_format": "{l_bar}{bar}|",
       "colour": null,
       "elapsed": 0.005544185638427734,
       "initial": 0,
       "n": 0,
       "ncols": null,
       "nrows": null,
       "postfix": null,
       "prefix": "Downloading",
       "rate": null,
       "total": 10,
       "unit": "rows",
       "unit_divisor": 1000,
       "unit_scale": false
      },
      "application/vnd.jupyter.widget-view+json": {
       "model_id": "d510a30f5bb1477eb218e36b0ca5b32d",
       "version_major": 2,
       "version_minor": 0
      },
      "text/plain": [
       "Downloading:   0%|          |"
      ]
     },
     "metadata": {},
     "output_type": "display_data"
    },
    {
     "data": {
      "text/html": [
       "<div>\n",
       "<style scoped>\n",
       "    .dataframe tbody tr th:only-of-type {\n",
       "        vertical-align: middle;\n",
       "    }\n",
       "\n",
       "    .dataframe tbody tr th {\n",
       "        vertical-align: top;\n",
       "    }\n",
       "\n",
       "    .dataframe thead th {\n",
       "        text-align: right;\n",
       "    }\n",
       "</style>\n",
       "<table border=\"1\" class=\"dataframe\">\n",
       "  <thead>\n",
       "    <tr style=\"text-align: right;\">\n",
       "      <th></th>\n",
       "      <th>feature_datatype</th>\n",
       "      <th>feature_name</th>\n",
       "      <th>feature_timestamp</th>\n",
       "      <th>feature_value</th>\n",
       "      <th>entity_id</th>\n",
       "    </tr>\n",
       "  </thead>\n",
       "  <tbody>\n",
       "    <tr>\n",
       "      <th>0</th>\n",
       "      <td>DATE</td>\n",
       "      <td>feature_3</td>\n",
       "      <td>2024-03-04 07:53:21+00:00</td>\n",
       "      <td>{'DATE_value': 2024-03-11, 'INT64_value': None...</td>\n",
       "      <td>customer_abf</td>\n",
       "    </tr>\n",
       "    <tr>\n",
       "      <th>1</th>\n",
       "      <td>DATE</td>\n",
       "      <td>feature_3</td>\n",
       "      <td>2024-03-08 02:53:21+00:00</td>\n",
       "      <td>{'DATE_value': 2024-03-11, 'INT64_value': None...</td>\n",
       "      <td>customer_abe</td>\n",
       "    </tr>\n",
       "    <tr>\n",
       "      <th>2</th>\n",
       "      <td>DATE</td>\n",
       "      <td>feature_3</td>\n",
       "      <td>2024-03-06 20:18:21+00:00</td>\n",
       "      <td>{'DATE_value': 2024-03-11, 'INT64_value': None...</td>\n",
       "      <td>customer_abc</td>\n",
       "    </tr>\n",
       "    <tr>\n",
       "      <th>3</th>\n",
       "      <td>DATE</td>\n",
       "      <td>feature_3</td>\n",
       "      <td>2024-03-08 05:39:21+00:00</td>\n",
       "      <td>{'DATE_value': 2024-03-11, 'INT64_value': None...</td>\n",
       "      <td>customer_abd</td>\n",
       "    </tr>\n",
       "    <tr>\n",
       "      <th>4</th>\n",
       "      <td>DATE</td>\n",
       "      <td>feature_6</td>\n",
       "      <td>2024-03-04 07:46:21+00:00</td>\n",
       "      <td>{'DATE_value': 2023-12-31, 'INT64_value': None...</td>\n",
       "      <td>customer_abf</td>\n",
       "    </tr>\n",
       "    <tr>\n",
       "      <th>5</th>\n",
       "      <td>DATE</td>\n",
       "      <td>feature_6</td>\n",
       "      <td>2024-03-08 02:46:21+00:00</td>\n",
       "      <td>{'DATE_value': 2024-01-27, 'INT64_value': None...</td>\n",
       "      <td>customer_abe</td>\n",
       "    </tr>\n",
       "    <tr>\n",
       "      <th>6</th>\n",
       "      <td>DATE</td>\n",
       "      <td>feature_6</td>\n",
       "      <td>2024-03-06 20:11:21+00:00</td>\n",
       "      <td>{'DATE_value': 2024-01-12, 'INT64_value': None...</td>\n",
       "      <td>customer_abc</td>\n",
       "    </tr>\n",
       "    <tr>\n",
       "      <th>7</th>\n",
       "      <td>INT64</td>\n",
       "      <td>feature_2</td>\n",
       "      <td>2024-03-04 07:46:21+00:00</td>\n",
       "      <td>{'DATE_value': None, 'INT64_value': 120, 'STRI...</td>\n",
       "      <td>customer_abf</td>\n",
       "    </tr>\n",
       "    <tr>\n",
       "      <th>8</th>\n",
       "      <td>INT64</td>\n",
       "      <td>feature_2</td>\n",
       "      <td>2024-03-08 02:46:21+00:00</td>\n",
       "      <td>{'DATE_value': None, 'INT64_value': 121, 'STRI...</td>\n",
       "      <td>customer_abe</td>\n",
       "    </tr>\n",
       "    <tr>\n",
       "      <th>9</th>\n",
       "      <td>INT64</td>\n",
       "      <td>feature_2</td>\n",
       "      <td>2024-03-06 20:11:21+00:00</td>\n",
       "      <td>{'DATE_value': None, 'INT64_value': 123, 'STRI...</td>\n",
       "      <td>customer_abc</td>\n",
       "    </tr>\n",
       "  </tbody>\n",
       "</table>\n",
       "</div>"
      ],
      "text/plain": [
       "  feature_datatype feature_name         feature_timestamp  \\\n",
       "0             DATE    feature_3 2024-03-04 07:53:21+00:00   \n",
       "1             DATE    feature_3 2024-03-08 02:53:21+00:00   \n",
       "2             DATE    feature_3 2024-03-06 20:18:21+00:00   \n",
       "3             DATE    feature_3 2024-03-08 05:39:21+00:00   \n",
       "4             DATE    feature_6 2024-03-04 07:46:21+00:00   \n",
       "5             DATE    feature_6 2024-03-08 02:46:21+00:00   \n",
       "6             DATE    feature_6 2024-03-06 20:11:21+00:00   \n",
       "7            INT64    feature_2 2024-03-04 07:46:21+00:00   \n",
       "8            INT64    feature_2 2024-03-08 02:46:21+00:00   \n",
       "9            INT64    feature_2 2024-03-06 20:11:21+00:00   \n",
       "\n",
       "                                       feature_value     entity_id  \n",
       "0  {'DATE_value': 2024-03-11, 'INT64_value': None...  customer_abf  \n",
       "1  {'DATE_value': 2024-03-11, 'INT64_value': None...  customer_abe  \n",
       "2  {'DATE_value': 2024-03-11, 'INT64_value': None...  customer_abc  \n",
       "3  {'DATE_value': 2024-03-11, 'INT64_value': None...  customer_abd  \n",
       "4  {'DATE_value': 2023-12-31, 'INT64_value': None...  customer_abf  \n",
       "5  {'DATE_value': 2024-01-27, 'INT64_value': None...  customer_abe  \n",
       "6  {'DATE_value': 2024-01-12, 'INT64_value': None...  customer_abc  \n",
       "7  {'DATE_value': None, 'INT64_value': 120, 'STRI...  customer_abf  \n",
       "8  {'DATE_value': None, 'INT64_value': 121, 'STRI...  customer_abe  \n",
       "9  {'DATE_value': None, 'INT64_value': 123, 'STRI...  customer_abc  "
      ]
     },
     "execution_count": 151,
     "metadata": {},
     "output_type": "execute_result"
    }
   ],
   "source": [
    "%%bigquery\n",
    "SELECT *\n",
    "FROM feature_data_architecture.features_eav\n",
    "LIMIT 10"
   ]
  },
  {
   "cell_type": "markdown",
   "id": "22f7d0c6-42b7-4ab9-9a37-1067e429d7d7",
   "metadata": {
    "tags": []
   },
   "source": [
    "### Create Table: `features_history` From `features_eav` Table\n",
    "\n",
    "Use a stored procedure to create a pivoted version of the `features_eav` table.  While this examples store procedure recreate the full pivot on each call, it could be parameterized to append only new records since a previous time.\n",
    "\n",
    "References:\n",
    "- [Working with SQL stored procedures](https://cloud.google.com/bigquery/docs/procedures)\n",
    "- [Procedural Language](https://cloud.google.com/bigquery/docs/reference/standard-sql/procedural-language)\n",
    "- [PIVOT operator](https://cloud.google.com/bigquery/docs/reference/standard-sql/query-syntax#pivot_operator)"
   ]
  },
  {
   "cell_type": "code",
   "execution_count": 152,
   "id": "9e4bc4ff-5414-4d9b-b303-6efc7e272290",
   "metadata": {
    "tags": []
   },
   "outputs": [
    {
     "data": {
      "application/json": {
       "ascii": false,
       "bar_format": "{l_bar}{bar}|",
       "colour": null,
       "elapsed": 0.00632166862487793,
       "initial": 0,
       "n": 0,
       "ncols": null,
       "nrows": null,
       "postfix": null,
       "prefix": "Query is running",
       "rate": null,
       "total": 1,
       "unit": "query",
       "unit_divisor": 1000,
       "unit_scale": false
      },
      "application/vnd.jupyter.widget-view+json": {
       "model_id": "083c3a81b9204e8380be39c73bf2cc6a",
       "version_major": 2,
       "version_minor": 0
      },
      "text/plain": [
       "Query is running:   0%|          |"
      ]
     },
     "metadata": {},
     "output_type": "display_data"
    },
    {
     "data": {
      "text/html": [
       "<div>\n",
       "<style scoped>\n",
       "    .dataframe tbody tr th:only-of-type {\n",
       "        vertical-align: middle;\n",
       "    }\n",
       "\n",
       "    .dataframe tbody tr th {\n",
       "        vertical-align: top;\n",
       "    }\n",
       "\n",
       "    .dataframe thead th {\n",
       "        text-align: right;\n",
       "    }\n",
       "</style>\n",
       "<table border=\"1\" class=\"dataframe\">\n",
       "  <thead>\n",
       "    <tr style=\"text-align: right;\">\n",
       "      <th></th>\n",
       "    </tr>\n",
       "  </thead>\n",
       "  <tbody>\n",
       "  </tbody>\n",
       "</table>\n",
       "</div>"
      ],
      "text/plain": [
       "Empty DataFrame\n",
       "Columns: []\n",
       "Index: []"
      ]
     },
     "execution_count": 152,
     "metadata": {},
     "output_type": "execute_result"
    }
   ],
   "source": [
    "%%bigquery\n",
    "CREATE OR REPLACE PROCEDURE feature_data_architecture.feature_history()\n",
    "BEGIN\n",
    "    DECLARE counter INT64 DEFAULT 0;\n",
    "    DECLARE querystring STRING;\n",
    "    DECLARE features STRING;\n",
    "\n",
    "    SET querystring = \"\"\"\n",
    "CREATE OR REPLACE TABLE feature_data_architecture.features_from_eav AS\n",
    "SELECT *\n",
    "FROM\n",
    "\"\"\";\n",
    "\n",
    "    FOR datatype IN (SELECT DISTINCT feature_datatype FROM feature_data_architecture.features_eav) DO\n",
    "        SET features = (SELECT STRING_AGG(DISTINCT CONCAT(\"'\", feature_name, \"'\"), ',') FROM feature_data_architecture.features_eav WHERE feature_datatype = datatype.feature_datatype);\n",
    "        SET counter = counter + 1;\n",
    "\n",
    "        IF counter >= 2 THEN SET querystring = CONCAT(querystring, \"\"\" FULL JOIN \"\"\");\n",
    "        END IF;\n",
    "\n",
    "        SET querystring = CONCAT(querystring, \"\"\"(\n",
    "    SELECT *\n",
    "    FROM (SELECT entity_id, feature_timestamp, feature_name, feature_value.\"\"\", datatype.feature_datatype, \"\"\"_value as feature_value FROM feature_data_architecture.features_eav WHERE feature_datatype = '\"\"\", datatype.feature_datatype, \"\"\"')\n",
    "    PIVOT(MAX(feature_value) FOR feature_name IN (\"\"\", features,\"\"\")) \n",
    ")\"\"\");\n",
    "\n",
    "        IF counter >= 2 THEN SET querystring = CONCAT(querystring, \"\"\" USING(entity_id, feature_timestamp) \"\"\");\n",
    "        END IF;\n",
    "\n",
    "    END FOR;\n",
    "    EXECUTE IMMEDIATE querystring;\n",
    "END"
   ]
  },
  {
   "cell_type": "code",
   "execution_count": 153,
   "id": "df39b827-54fa-4a1f-8496-b51d734bb187",
   "metadata": {
    "tags": []
   },
   "outputs": [
    {
     "data": {
      "application/json": {
       "ascii": false,
       "bar_format": "{l_bar}{bar}|",
       "colour": null,
       "elapsed": 0.006333589553833008,
       "initial": 0,
       "n": 0,
       "ncols": null,
       "nrows": null,
       "postfix": null,
       "prefix": "Query is running",
       "rate": null,
       "total": 1,
       "unit": "query",
       "unit_divisor": 1000,
       "unit_scale": false
      },
      "application/vnd.jupyter.widget-view+json": {
       "model_id": "f55a60a265e444c3961651d4226c9419",
       "version_major": 2,
       "version_minor": 0
      },
      "text/plain": [
       "Query is running:   0%|          |"
      ]
     },
     "metadata": {},
     "output_type": "display_data"
    },
    {
     "data": {
      "application/json": {
       "ascii": false,
       "bar_format": "{l_bar}{bar}|",
       "colour": null,
       "elapsed": 0.0054361820220947266,
       "initial": 0,
       "n": 0,
       "ncols": null,
       "nrows": null,
       "postfix": null,
       "prefix": "Downloading",
       "rate": null,
       "total": 18,
       "unit": "rows",
       "unit_divisor": 1000,
       "unit_scale": false
      },
      "application/vnd.jupyter.widget-view+json": {
       "model_id": "a29a9c5d727b492f956abdd19d8a69be",
       "version_major": 2,
       "version_minor": 0
      },
      "text/plain": [
       "Downloading:   0%|          |"
      ]
     },
     "metadata": {},
     "output_type": "display_data"
    },
    {
     "data": {
      "text/html": [
       "<div>\n",
       "<style scoped>\n",
       "    .dataframe tbody tr th:only-of-type {\n",
       "        vertical-align: middle;\n",
       "    }\n",
       "\n",
       "    .dataframe tbody tr th {\n",
       "        vertical-align: top;\n",
       "    }\n",
       "\n",
       "    .dataframe thead th {\n",
       "        text-align: right;\n",
       "    }\n",
       "</style>\n",
       "<table border=\"1\" class=\"dataframe\">\n",
       "  <thead>\n",
       "    <tr style=\"text-align: right;\">\n",
       "      <th></th>\n",
       "      <th>entity_id</th>\n",
       "      <th>feature_timestamp</th>\n",
       "      <th>feature_3</th>\n",
       "      <th>feature_6</th>\n",
       "      <th>feature_2</th>\n",
       "      <th>feature_5</th>\n",
       "      <th>feature_1</th>\n",
       "      <th>feature_4</th>\n",
       "    </tr>\n",
       "  </thead>\n",
       "  <tbody>\n",
       "    <tr>\n",
       "      <th>0</th>\n",
       "      <td>customer_abc</td>\n",
       "      <td>2024-03-06 20:14:21+00:00</td>\n",
       "      <td>NaT</td>\n",
       "      <td>NaT</td>\n",
       "      <td>&lt;NA&gt;</td>\n",
       "      <td>&lt;NA&gt;</td>\n",
       "      <td>None</td>\n",
       "      <td>some words</td>\n",
       "    </tr>\n",
       "    <tr>\n",
       "      <th>1</th>\n",
       "      <td>customer_abc</td>\n",
       "      <td>2024-03-06 20:13:21+00:00</td>\n",
       "      <td>NaT</td>\n",
       "      <td>NaT</td>\n",
       "      <td>&lt;NA&gt;</td>\n",
       "      <td>&lt;NA&gt;</td>\n",
       "      <td>a string 1</td>\n",
       "      <td>None</td>\n",
       "    </tr>\n",
       "    <tr>\n",
       "      <th>2</th>\n",
       "      <td>customer_abc</td>\n",
       "      <td>2024-03-06 20:11:21+00:00</td>\n",
       "      <td>NaT</td>\n",
       "      <td>2024-01-12</td>\n",
       "      <td>123</td>\n",
       "      <td>&lt;NA&gt;</td>\n",
       "      <td>None</td>\n",
       "      <td>None</td>\n",
       "    </tr>\n",
       "    <tr>\n",
       "      <th>3</th>\n",
       "      <td>customer_abc</td>\n",
       "      <td>2024-03-06 20:17:21+00:00</td>\n",
       "      <td>NaT</td>\n",
       "      <td>NaT</td>\n",
       "      <td>&lt;NA&gt;</td>\n",
       "      <td>1</td>\n",
       "      <td>None</td>\n",
       "      <td>None</td>\n",
       "    </tr>\n",
       "    <tr>\n",
       "      <th>4</th>\n",
       "      <td>customer_abd</td>\n",
       "      <td>2024-03-08 05:38:21+00:00</td>\n",
       "      <td>NaT</td>\n",
       "      <td>NaT</td>\n",
       "      <td>&lt;NA&gt;</td>\n",
       "      <td>2</td>\n",
       "      <td>None</td>\n",
       "      <td>None</td>\n",
       "    </tr>\n",
       "    <tr>\n",
       "      <th>5</th>\n",
       "      <td>customer_abd</td>\n",
       "      <td>2024-03-08 05:34:21+00:00</td>\n",
       "      <td>NaT</td>\n",
       "      <td>NaT</td>\n",
       "      <td>&lt;NA&gt;</td>\n",
       "      <td>&lt;NA&gt;</td>\n",
       "      <td>a string 2</td>\n",
       "      <td>None</td>\n",
       "    </tr>\n",
       "    <tr>\n",
       "      <th>6</th>\n",
       "      <td>customer_abd</td>\n",
       "      <td>2024-03-08 05:35:21+00:00</td>\n",
       "      <td>NaT</td>\n",
       "      <td>NaT</td>\n",
       "      <td>&lt;NA&gt;</td>\n",
       "      <td>&lt;NA&gt;</td>\n",
       "      <td>None</td>\n",
       "      <td>some words</td>\n",
       "    </tr>\n",
       "    <tr>\n",
       "      <th>7</th>\n",
       "      <td>customer_abd</td>\n",
       "      <td>2024-03-08 05:32:21+00:00</td>\n",
       "      <td>NaT</td>\n",
       "      <td>NaT</td>\n",
       "      <td>124</td>\n",
       "      <td>&lt;NA&gt;</td>\n",
       "      <td>None</td>\n",
       "      <td>None</td>\n",
       "    </tr>\n",
       "    <tr>\n",
       "      <th>8</th>\n",
       "      <td>customer_abe</td>\n",
       "      <td>2024-03-08 02:46:21+00:00</td>\n",
       "      <td>NaT</td>\n",
       "      <td>2024-01-27</td>\n",
       "      <td>121</td>\n",
       "      <td>&lt;NA&gt;</td>\n",
       "      <td>None</td>\n",
       "      <td>None</td>\n",
       "    </tr>\n",
       "    <tr>\n",
       "      <th>9</th>\n",
       "      <td>customer_abe</td>\n",
       "      <td>2024-03-08 02:49:21+00:00</td>\n",
       "      <td>NaT</td>\n",
       "      <td>NaT</td>\n",
       "      <td>&lt;NA&gt;</td>\n",
       "      <td>&lt;NA&gt;</td>\n",
       "      <td>None</td>\n",
       "      <td>some words</td>\n",
       "    </tr>\n",
       "    <tr>\n",
       "      <th>10</th>\n",
       "      <td>customer_abe</td>\n",
       "      <td>2024-03-08 02:48:21+00:00</td>\n",
       "      <td>NaT</td>\n",
       "      <td>NaT</td>\n",
       "      <td>&lt;NA&gt;</td>\n",
       "      <td>&lt;NA&gt;</td>\n",
       "      <td>a string 1</td>\n",
       "      <td>None</td>\n",
       "    </tr>\n",
       "    <tr>\n",
       "      <th>11</th>\n",
       "      <td>customer_abf</td>\n",
       "      <td>2024-03-04 07:52:21+00:00</td>\n",
       "      <td>NaT</td>\n",
       "      <td>NaT</td>\n",
       "      <td>&lt;NA&gt;</td>\n",
       "      <td>4</td>\n",
       "      <td>None</td>\n",
       "      <td>None</td>\n",
       "    </tr>\n",
       "    <tr>\n",
       "      <th>12</th>\n",
       "      <td>customer_abf</td>\n",
       "      <td>2024-03-04 07:46:21+00:00</td>\n",
       "      <td>NaT</td>\n",
       "      <td>2023-12-31</td>\n",
       "      <td>120</td>\n",
       "      <td>&lt;NA&gt;</td>\n",
       "      <td>None</td>\n",
       "      <td>None</td>\n",
       "    </tr>\n",
       "    <tr>\n",
       "      <th>13</th>\n",
       "      <td>customer_abf</td>\n",
       "      <td>2024-03-04 07:48:21+00:00</td>\n",
       "      <td>NaT</td>\n",
       "      <td>NaT</td>\n",
       "      <td>&lt;NA&gt;</td>\n",
       "      <td>&lt;NA&gt;</td>\n",
       "      <td>a string 2</td>\n",
       "      <td>None</td>\n",
       "    </tr>\n",
       "    <tr>\n",
       "      <th>14</th>\n",
       "      <td>customer_abc</td>\n",
       "      <td>2024-03-06 20:18:21+00:00</td>\n",
       "      <td>2024-03-11</td>\n",
       "      <td>NaT</td>\n",
       "      <td>&lt;NA&gt;</td>\n",
       "      <td>&lt;NA&gt;</td>\n",
       "      <td>None</td>\n",
       "      <td>None</td>\n",
       "    </tr>\n",
       "    <tr>\n",
       "      <th>15</th>\n",
       "      <td>customer_abd</td>\n",
       "      <td>2024-03-08 05:39:21+00:00</td>\n",
       "      <td>2024-03-11</td>\n",
       "      <td>NaT</td>\n",
       "      <td>&lt;NA&gt;</td>\n",
       "      <td>&lt;NA&gt;</td>\n",
       "      <td>None</td>\n",
       "      <td>None</td>\n",
       "    </tr>\n",
       "    <tr>\n",
       "      <th>16</th>\n",
       "      <td>customer_abe</td>\n",
       "      <td>2024-03-08 02:53:21+00:00</td>\n",
       "      <td>2024-03-11</td>\n",
       "      <td>NaT</td>\n",
       "      <td>&lt;NA&gt;</td>\n",
       "      <td>&lt;NA&gt;</td>\n",
       "      <td>None</td>\n",
       "      <td>None</td>\n",
       "    </tr>\n",
       "    <tr>\n",
       "      <th>17</th>\n",
       "      <td>customer_abf</td>\n",
       "      <td>2024-03-04 07:53:21+00:00</td>\n",
       "      <td>2024-03-11</td>\n",
       "      <td>NaT</td>\n",
       "      <td>&lt;NA&gt;</td>\n",
       "      <td>&lt;NA&gt;</td>\n",
       "      <td>None</td>\n",
       "      <td>None</td>\n",
       "    </tr>\n",
       "  </tbody>\n",
       "</table>\n",
       "</div>"
      ],
      "text/plain": [
       "       entity_id         feature_timestamp   feature_3   feature_6  feature_2  \\\n",
       "0   customer_abc 2024-03-06 20:14:21+00:00         NaT         NaT       <NA>   \n",
       "1   customer_abc 2024-03-06 20:13:21+00:00         NaT         NaT       <NA>   \n",
       "2   customer_abc 2024-03-06 20:11:21+00:00         NaT  2024-01-12        123   \n",
       "3   customer_abc 2024-03-06 20:17:21+00:00         NaT         NaT       <NA>   \n",
       "4   customer_abd 2024-03-08 05:38:21+00:00         NaT         NaT       <NA>   \n",
       "5   customer_abd 2024-03-08 05:34:21+00:00         NaT         NaT       <NA>   \n",
       "6   customer_abd 2024-03-08 05:35:21+00:00         NaT         NaT       <NA>   \n",
       "7   customer_abd 2024-03-08 05:32:21+00:00         NaT         NaT        124   \n",
       "8   customer_abe 2024-03-08 02:46:21+00:00         NaT  2024-01-27        121   \n",
       "9   customer_abe 2024-03-08 02:49:21+00:00         NaT         NaT       <NA>   \n",
       "10  customer_abe 2024-03-08 02:48:21+00:00         NaT         NaT       <NA>   \n",
       "11  customer_abf 2024-03-04 07:52:21+00:00         NaT         NaT       <NA>   \n",
       "12  customer_abf 2024-03-04 07:46:21+00:00         NaT  2023-12-31        120   \n",
       "13  customer_abf 2024-03-04 07:48:21+00:00         NaT         NaT       <NA>   \n",
       "14  customer_abc 2024-03-06 20:18:21+00:00  2024-03-11         NaT       <NA>   \n",
       "15  customer_abd 2024-03-08 05:39:21+00:00  2024-03-11         NaT       <NA>   \n",
       "16  customer_abe 2024-03-08 02:53:21+00:00  2024-03-11         NaT       <NA>   \n",
       "17  customer_abf 2024-03-04 07:53:21+00:00  2024-03-11         NaT       <NA>   \n",
       "\n",
       "    feature_5   feature_1   feature_4  \n",
       "0        <NA>        None  some words  \n",
       "1        <NA>  a string 1        None  \n",
       "2        <NA>        None        None  \n",
       "3           1        None        None  \n",
       "4           2        None        None  \n",
       "5        <NA>  a string 2        None  \n",
       "6        <NA>        None  some words  \n",
       "7        <NA>        None        None  \n",
       "8        <NA>        None        None  \n",
       "9        <NA>        None  some words  \n",
       "10       <NA>  a string 1        None  \n",
       "11          4        None        None  \n",
       "12       <NA>        None        None  \n",
       "13       <NA>  a string 2        None  \n",
       "14       <NA>        None        None  \n",
       "15       <NA>        None        None  \n",
       "16       <NA>        None        None  \n",
       "17       <NA>        None        None  "
      ]
     },
     "execution_count": 153,
     "metadata": {},
     "output_type": "execute_result"
    }
   ],
   "source": [
    "%%bigquery\n",
    "CALL feature_data_architecture.feature_history();\n",
    "SELECT *\n",
    "FROM feature_data_architecture.features_from_eav;"
   ]
  },
  {
   "cell_type": "markdown",
   "id": "190362f1-4d32-4c2b-acca-068f3fe6fa23",
   "metadata": {},
   "source": [
    "### Create View: `features` AS Current Point In Time\n",
    "\n",
    "The table `feature_from_eav` is a history of feature values.  Use the `ML.FEATURES_AT_TIME` function to get all feature values for each value of `entity_id` at a specific point-in-time.  This will get the most recent value for each feature as of the the requested point-in-time.\n",
    "\n",
    "Reference:\n",
    "- [ML.FEATURES_AT_TIME function](https://cloud.google.com/bigquery/docs/reference/standard-sql/bigqueryml-syntax-feature-time)"
   ]
  },
  {
   "cell_type": "code",
   "execution_count": 155,
   "id": "fc5bb1e6-307e-4d25-be17-a01bfcfff009",
   "metadata": {
    "tags": []
   },
   "outputs": [
    {
     "data": {
      "application/json": {
       "ascii": false,
       "bar_format": "{l_bar}{bar}|",
       "colour": null,
       "elapsed": 0.006847381591796875,
       "initial": 0,
       "n": 0,
       "ncols": null,
       "nrows": null,
       "postfix": null,
       "prefix": "Query is running",
       "rate": null,
       "total": 1,
       "unit": "query",
       "unit_divisor": 1000,
       "unit_scale": false
      },
      "application/vnd.jupyter.widget-view+json": {
       "model_id": "b1914562a1de4978ae7b61241d13dfc3",
       "version_major": 2,
       "version_minor": 0
      },
      "text/plain": [
       "Query is running:   0%|          |"
      ]
     },
     "metadata": {},
     "output_type": "display_data"
    },
    {
     "data": {
      "text/html": [
       "<div>\n",
       "<style scoped>\n",
       "    .dataframe tbody tr th:only-of-type {\n",
       "        vertical-align: middle;\n",
       "    }\n",
       "\n",
       "    .dataframe tbody tr th {\n",
       "        vertical-align: top;\n",
       "    }\n",
       "\n",
       "    .dataframe thead th {\n",
       "        text-align: right;\n",
       "    }\n",
       "</style>\n",
       "<table border=\"1\" class=\"dataframe\">\n",
       "  <thead>\n",
       "    <tr style=\"text-align: right;\">\n",
       "      <th></th>\n",
       "    </tr>\n",
       "  </thead>\n",
       "  <tbody>\n",
       "  </tbody>\n",
       "</table>\n",
       "</div>"
      ],
      "text/plain": [
       "Empty DataFrame\n",
       "Columns: []\n",
       "Index: []"
      ]
     },
     "execution_count": 155,
     "metadata": {},
     "output_type": "execute_result"
    }
   ],
   "source": [
    "%%bigquery\n",
    "CREATE OR REPLACE VIEW feature_data_architecture.features_current AS\n",
    "    SELECT *\n",
    "    FROM ML.FEATURES_AT_TIME(\n",
    "        TABLE feature_data_architecture.features_from_eav,\n",
    "        time => CURRENT_TIMESTAMP(),\n",
    "        num_rows => 1,\n",
    "        ignore_feature_nulls => TRUE\n",
    "    )"
   ]
  },
  {
   "cell_type": "code",
   "execution_count": 156,
   "id": "84fbeed6-1552-430e-881e-054d321bf688",
   "metadata": {
    "tags": []
   },
   "outputs": [
    {
     "data": {
      "application/json": {
       "ascii": false,
       "bar_format": "{l_bar}{bar}|",
       "colour": null,
       "elapsed": 0.006768703460693359,
       "initial": 0,
       "n": 0,
       "ncols": null,
       "nrows": null,
       "postfix": null,
       "prefix": "Query is running",
       "rate": null,
       "total": 1,
       "unit": "query",
       "unit_divisor": 1000,
       "unit_scale": false
      },
      "application/vnd.jupyter.widget-view+json": {
       "model_id": "a6b38e8359d64ebf8478bdc7bf5267b9",
       "version_major": 2,
       "version_minor": 0
      },
      "text/plain": [
       "Query is running:   0%|          |"
      ]
     },
     "metadata": {},
     "output_type": "display_data"
    },
    {
     "data": {
      "application/json": {
       "ascii": false,
       "bar_format": "{l_bar}{bar}|",
       "colour": null,
       "elapsed": 0.009228706359863281,
       "initial": 0,
       "n": 0,
       "ncols": null,
       "nrows": null,
       "postfix": null,
       "prefix": "Downloading",
       "rate": null,
       "total": 4,
       "unit": "rows",
       "unit_divisor": 1000,
       "unit_scale": false
      },
      "application/vnd.jupyter.widget-view+json": {
       "model_id": "577394e09e1e4f769855c2b3bb6e27c7",
       "version_major": 2,
       "version_minor": 0
      },
      "text/plain": [
       "Downloading:   0%|          |"
      ]
     },
     "metadata": {},
     "output_type": "display_data"
    },
    {
     "data": {
      "text/html": [
       "<div>\n",
       "<style scoped>\n",
       "    .dataframe tbody tr th:only-of-type {\n",
       "        vertical-align: middle;\n",
       "    }\n",
       "\n",
       "    .dataframe tbody tr th {\n",
       "        vertical-align: top;\n",
       "    }\n",
       "\n",
       "    .dataframe thead th {\n",
       "        text-align: right;\n",
       "    }\n",
       "</style>\n",
       "<table border=\"1\" class=\"dataframe\">\n",
       "  <thead>\n",
       "    <tr style=\"text-align: right;\">\n",
       "      <th></th>\n",
       "      <th>entity_id</th>\n",
       "      <th>feature_timestamp</th>\n",
       "      <th>feature_3</th>\n",
       "      <th>feature_6</th>\n",
       "      <th>feature_2</th>\n",
       "      <th>feature_5</th>\n",
       "      <th>feature_1</th>\n",
       "      <th>feature_4</th>\n",
       "    </tr>\n",
       "  </thead>\n",
       "  <tbody>\n",
       "    <tr>\n",
       "      <th>0</th>\n",
       "      <td>customer_abf</td>\n",
       "      <td>2024-03-11 13:13:12.398605+00:00</td>\n",
       "      <td>2024-03-11</td>\n",
       "      <td>2023-12-31</td>\n",
       "      <td>120</td>\n",
       "      <td>4</td>\n",
       "      <td>a string 2</td>\n",
       "      <td>None</td>\n",
       "    </tr>\n",
       "    <tr>\n",
       "      <th>1</th>\n",
       "      <td>customer_abd</td>\n",
       "      <td>2024-03-11 13:13:12.398605+00:00</td>\n",
       "      <td>2024-03-11</td>\n",
       "      <td>NaT</td>\n",
       "      <td>124</td>\n",
       "      <td>2</td>\n",
       "      <td>a string 2</td>\n",
       "      <td>some words</td>\n",
       "    </tr>\n",
       "    <tr>\n",
       "      <th>2</th>\n",
       "      <td>customer_abc</td>\n",
       "      <td>2024-03-11 13:13:12.398605+00:00</td>\n",
       "      <td>2024-03-11</td>\n",
       "      <td>2024-01-12</td>\n",
       "      <td>123</td>\n",
       "      <td>1</td>\n",
       "      <td>a string 1</td>\n",
       "      <td>some words</td>\n",
       "    </tr>\n",
       "    <tr>\n",
       "      <th>3</th>\n",
       "      <td>customer_abe</td>\n",
       "      <td>2024-03-11 13:13:12.398605+00:00</td>\n",
       "      <td>2024-03-11</td>\n",
       "      <td>2024-01-27</td>\n",
       "      <td>121</td>\n",
       "      <td>&lt;NA&gt;</td>\n",
       "      <td>a string 1</td>\n",
       "      <td>some words</td>\n",
       "    </tr>\n",
       "  </tbody>\n",
       "</table>\n",
       "</div>"
      ],
      "text/plain": [
       "      entity_id                feature_timestamp   feature_3   feature_6  \\\n",
       "0  customer_abf 2024-03-11 13:13:12.398605+00:00  2024-03-11  2023-12-31   \n",
       "1  customer_abd 2024-03-11 13:13:12.398605+00:00  2024-03-11         NaT   \n",
       "2  customer_abc 2024-03-11 13:13:12.398605+00:00  2024-03-11  2024-01-12   \n",
       "3  customer_abe 2024-03-11 13:13:12.398605+00:00  2024-03-11  2024-01-27   \n",
       "\n",
       "   feature_2  feature_5   feature_1   feature_4  \n",
       "0        120          4  a string 2        None  \n",
       "1        124          2  a string 2  some words  \n",
       "2        123          1  a string 1  some words  \n",
       "3        121       <NA>  a string 1  some words  "
      ]
     },
     "execution_count": 156,
     "metadata": {},
     "output_type": "execute_result"
    }
   ],
   "source": [
    "%%bigquery\n",
    "SELECT *\n",
    "FROM feature_data_architecture.features_current"
   ]
  },
  {
   "cell_type": "markdown",
   "id": "03a0bc34-05e0-4893-9481-40f18716682a",
   "metadata": {},
   "source": [
    "### Compare: `features_example` To `features`"
   ]
  },
  {
   "cell_type": "code",
   "execution_count": 163,
   "id": "59b33a0d-5b20-4e52-aba2-8ca6f1c2adcd",
   "metadata": {
    "tags": []
   },
   "outputs": [
    {
     "data": {
      "application/json": {
       "ascii": false,
       "bar_format": "{l_bar}{bar}|",
       "colour": null,
       "elapsed": 0.006673336029052734,
       "initial": 0,
       "n": 0,
       "ncols": null,
       "nrows": null,
       "postfix": null,
       "prefix": "Query is running",
       "rate": null,
       "total": 1,
       "unit": "query",
       "unit_divisor": 1000,
       "unit_scale": false
      },
      "application/vnd.jupyter.widget-view+json": {
       "model_id": "67ce2e8580714d118d491ea7ff912ff2",
       "version_major": 2,
       "version_minor": 0
      },
      "text/plain": [
       "Query is running:   0%|          |"
      ]
     },
     "metadata": {},
     "output_type": "display_data"
    },
    {
     "data": {
      "application/json": {
       "ascii": false,
       "bar_format": "{l_bar}{bar}|",
       "colour": null,
       "elapsed": 0.005899906158447266,
       "initial": 0,
       "n": 0,
       "ncols": null,
       "nrows": null,
       "postfix": null,
       "prefix": "Downloading",
       "rate": null,
       "total": 4,
       "unit": "rows",
       "unit_divisor": 1000,
       "unit_scale": false
      },
      "application/vnd.jupyter.widget-view+json": {
       "model_id": "266fec9249d5471996a1ddf8ae9aab86",
       "version_major": 2,
       "version_minor": 0
      },
      "text/plain": [
       "Downloading:   0%|          |"
      ]
     },
     "metadata": {},
     "output_type": "display_data"
    }
   ],
   "source": [
    "%%bigquery temp_a\n",
    "SELECT * EXCEPT(feature_timestamp)\n",
    "FROM feature_data_architecture.features_example\n",
    "ORDER BY entity_id"
   ]
  },
  {
   "cell_type": "code",
   "execution_count": 164,
   "id": "947db982-c05b-4936-9b3e-65c513d2928e",
   "metadata": {
    "tags": []
   },
   "outputs": [
    {
     "data": {
      "application/json": {
       "ascii": false,
       "bar_format": "{l_bar}{bar}|",
       "colour": null,
       "elapsed": 0.006627798080444336,
       "initial": 0,
       "n": 0,
       "ncols": null,
       "nrows": null,
       "postfix": null,
       "prefix": "Query is running",
       "rate": null,
       "total": 1,
       "unit": "query",
       "unit_divisor": 1000,
       "unit_scale": false
      },
      "application/vnd.jupyter.widget-view+json": {
       "model_id": "45476972f5ff4cf3979f499fd1c524b0",
       "version_major": 2,
       "version_minor": 0
      },
      "text/plain": [
       "Query is running:   0%|          |"
      ]
     },
     "metadata": {},
     "output_type": "display_data"
    },
    {
     "data": {
      "application/json": {
       "ascii": false,
       "bar_format": "{l_bar}{bar}|",
       "colour": null,
       "elapsed": 0.005377769470214844,
       "initial": 0,
       "n": 0,
       "ncols": null,
       "nrows": null,
       "postfix": null,
       "prefix": "Downloading",
       "rate": null,
       "total": 4,
       "unit": "rows",
       "unit_divisor": 1000,
       "unit_scale": false
      },
      "application/vnd.jupyter.widget-view+json": {
       "model_id": "85c2e7af2d4a4e2ca49577594a6b2c43",
       "version_major": 2,
       "version_minor": 0
      },
      "text/plain": [
       "Downloading:   0%|          |"
      ]
     },
     "metadata": {},
     "output_type": "display_data"
    }
   ],
   "source": [
    "%%bigquery temp_b\n",
    "SELECT * EXCEPT(feature_timestamp)\n",
    "FROM feature_data_architecture.features_current\n",
    "ORDER BY entity_id"
   ]
  },
  {
   "cell_type": "code",
   "execution_count": 165,
   "id": "8d987535-e888-451a-a555-374662ae8bfa",
   "metadata": {
    "tags": []
   },
   "outputs": [
    {
     "data": {
      "text/html": [
       "<div>\n",
       "<style scoped>\n",
       "    .dataframe tbody tr th:only-of-type {\n",
       "        vertical-align: middle;\n",
       "    }\n",
       "\n",
       "    .dataframe tbody tr th {\n",
       "        vertical-align: top;\n",
       "    }\n",
       "\n",
       "    .dataframe thead tr th {\n",
       "        text-align: left;\n",
       "    }\n",
       "</style>\n",
       "<table border=\"1\" class=\"dataframe\">\n",
       "  <thead>\n",
       "  </thead>\n",
       "  <tbody>\n",
       "  </tbody>\n",
       "</table>\n",
       "</div>"
      ],
      "text/plain": [
       "Empty DataFrame\n",
       "Columns: []\n",
       "Index: []"
      ]
     },
     "execution_count": 165,
     "metadata": {},
     "output_type": "execute_result"
    }
   ],
   "source": [
    "temp_b = temp_b[temp_a.columns]\n",
    "temp_a.compare(temp_b)"
   ]
  },
  {
   "cell_type": "code",
   "execution_count": 166,
   "id": "7bc2172c-9225-46da-bc7b-0c7d02d3bf7b",
   "metadata": {
    "tags": []
   },
   "outputs": [
    {
     "data": {
      "text/plain": [
       "True"
      ]
     },
     "execution_count": 166,
     "metadata": {},
     "output_type": "execute_result"
    }
   ],
   "source": [
    "temp_a.equals(temp_b)"
   ]
  },
  {
   "cell_type": "code",
   "execution_count": null,
   "id": "cad3c818-0da9-4536-abe1-2edd9e7eca37",
   "metadata": {},
   "outputs": [],
   "source": []
  }
 ],
 "metadata": {
  "environment": {
   "kernel": "conda-root-py",
   "name": "workbench-notebooks.m115",
   "type": "gcloud",
   "uri": "gcr.io/deeplearning-platform-release/workbench-notebooks:m115"
  },
  "kernelspec": {
   "display_name": "Python 3 (ipykernel)",
   "language": "python",
   "name": "conda-root-py"
  },
  "language_info": {
   "codemirror_mode": {
    "name": "ipython",
    "version": 3
   },
   "file_extension": ".py",
   "mimetype": "text/x-python",
   "name": "python",
   "nbconvert_exporter": "python",
   "pygments_lexer": "ipython3",
   "version": "3.10.13"
  }
 },
 "nbformat": 4,
 "nbformat_minor": 5
}
