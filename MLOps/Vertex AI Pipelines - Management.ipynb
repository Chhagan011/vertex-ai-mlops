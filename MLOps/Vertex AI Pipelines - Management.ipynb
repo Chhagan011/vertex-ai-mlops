{
 "cells": [
  {
   "cell_type": "markdown",
   "id": "abf24505",
   "metadata": {},
   "source": [
    "![tracker](https://us-central1-vertex-ai-mlops-369716.cloudfunctions.net/pixel-tracking?path=statmike%2Fvertex-ai-mlops%2FMLOps&file=Vertex+AI+Pipelines+-+Management.ipynb)\n",
    "<!--- header table --->\n",
    "<table align=\"left\">\n",
    "  <td style=\"text-align: center\">\n",
    "    <a href=\"https://colab.research.google.com/github/statmike/vertex-ai-mlops/blob/main/MLOps/Vertex%20AI%20Pipelines%20-%20Management.ipynb\">\n",
    "      <img src=\"https://cloud.google.com/ml-engine/images/colab-logo-32px.png\" alt=\"Google Colaboratory logo\">\n",
    "      <br>Run in<br>Colab\n",
    "    </a>\n",
    "  </td>\n",
    "  <td style=\"text-align: center\">\n",
    "    <a href=\"https://console.cloud.google.com/vertex-ai/colab/import/https%3A%2F%2Fraw.githubusercontent.com%2Fstatmike%2Fvertex-ai-mlops%2Fmain%2FMLOps%2FVertex%2520AI%2520Pipelines%2520-%2520Management.ipynb\">\n",
    "      <img width=\"32px\" src=\"https://lh3.googleusercontent.com/JmcxdQi-qOpctIvWKgPtrzZdJJK-J3sWE1RsfjZNwshCFgE_9fULcNpuXYTilIR2hjwN\" alt=\"Google Cloud Colab Enterprise logo\">\n",
    "      <br>Run in<br>Colab Enterprise\n",
    "    </a>\n",
    "  </td>      \n",
    "  <td style=\"text-align: center\">\n",
    "    <a href=\"https://github.com/statmike/vertex-ai-mlops/blob/main/MLOps/Vertex%20AI%20Pipelines%20-%20Management.ipynb\">\n",
    "      <img src=\"https://cloud.google.com/ml-engine/images/github-logo-32px.png\" alt=\"GitHub logo\">\n",
    "      <br>View on<br>GitHub\n",
    "    </a>\n",
    "  </td>\n",
    "  <td style=\"text-align: center\">\n",
    "    <a href=\"https://console.cloud.google.com/vertex-ai/workbench/deploy-notebook?download_url=https://raw.githubusercontent.com/statmike/vertex-ai-mlops/main/MLOps/Vertex%20AI%20Pipelines%20-%20Management.ipynb\">\n",
    "      <img src=\"https://lh3.googleusercontent.com/UiNooY4LUgW_oTvpsNhPpQzsstV5W8F7rYgxgGBD85cWJoLmrOzhVs_ksK_vgx40SHs7jCqkTkCk=e14-rj-sc0xffffff-h130-w32\" alt=\"Vertex AI logo\">\n",
    "      <br>Open in<br>Vertex AI Workbench\n",
    "    </a>\n",
    "  </td>\n",
    "</table>"
   ]
  },
  {
   "cell_type": "markdown",
   "id": "a80d05aa-8c06-4f41-b89e-57a2e156c7ba",
   "metadata": {
    "tags": []
   },
   "source": [
    "---\n",
    "This is part a [series of notebook based workflows](./readme.md) that teach all the ways to use pipelines and experiments within Vertex AI. The suggested order and description/reason is:\n",
    "\n",
    "||Notebook Workflow|Description|\n",
    "|---|---|---|\n",
    "||[Vertex AI Pipelines - Introduction](./Vertex%20AI%20Pipelines%20-%20Introduction.ipynb)|Introduction to pipelines with the console and Vertex AI SDK|\n",
    "||[Vertex AI Pipelines - Components](./Vertex%20AI%20Pipelines%20-%20Components.ipynb)|An introduction to all the ways to create pipeline components from your code|\n",
    "||[Vertex AI Pipelines - IO](./Vertex%20AI%20Pipelines%20-%20IO.ipynb)|An overview of all the type of inputs and outputs for pipeline components|\n",
    "||[Vertex AI Pipelines - Control](./Vertex%20AI%20Pipelines%20-%20Control.ipynb)|An overview of controlling the flow of exectution for pipelines|\n",
    "||[Vertex AI Pipelines - Secret Manager](./Vertex%20AI%20Pipelines%20-%20Secret%20Manager.ipynb)|How to pass sensitive information to pipelines and components|\n",
    "||[Vertex AI Pipelines - Scheduling](./Vertex%20AI%20Pipelines%20-%20Scheduling.ipynb)|How to schedule pipeline execution|\n",
    "|_**This Notebook**_|[Vertex AI Pipelines - Management](./Vertex%20AI%20Pipelines%20-%20Management.ipynb)|Managing, Reusing, and Storing pipelines and components|\n",
    "||[Vertex AI Experiments](./Vertex%20AI%20Experiments.ipynb)|Understanding and using Vertex AI Experiments|\n",
    "\n",
    "To discover these notebooks as part of an introduction to MLOps [start here](./readme.md)!\n",
    "\n",
    "---"
   ]
  },
  {
   "cell_type": "markdown",
   "id": "27e1c6de-8711-4879-b947-ef34ee2dbfd3",
   "metadata": {},
   "source": [
    "# Vertex AI Pipelines - Management\n",
    "\n",
    "Pipeliens are made up of steps which are execution of components.  These components are made up of code, container, and instruction (inputs and outputs).  Managing the artifacts for components and pipelines extends the MLOps practice with with source control.  This notebook based workflow focuses on ways to manage both **components** and **pipelines**.  Managing also enables easier sharing, versioning, and use - with Vertex AI even non-code users can leverage pipelines directly in the console as pipeline template.\n"
   ]
  },
  {
   "cell_type": "markdown",
   "id": "cd7cfdb1-492b-4305-950f-f62921c0de6a",
   "metadata": {
    "id": "od_UkDpvRmgD",
    "tags": []
   },
   "source": [
    "---\n",
    "## Colab Setup\n",
    "\n",
    "To run this notebook in Colab run the cells in this section.  Otherwise, skip this section.\n",
    "\n",
    "This cell will authenticate to GCP (follow prompts in the popup)."
   ]
  },
  {
   "cell_type": "code",
   "execution_count": 1,
   "id": "f39b191a-fccc-44b9-8227-5ab7dfac4bfc",
   "metadata": {
    "executionInfo": {
     "elapsed": 195,
     "status": "ok",
     "timestamp": 1683726184843,
     "user": {
      "displayName": "Mike Henderson",
      "userId": "07691629187611687318"
     },
     "user_tz": 240
    },
    "id": "8UO9FnqyKBlF",
    "tags": []
   },
   "outputs": [],
   "source": [
    "PROJECT_ID = 'statmike-mlops-349915' # replace with project ID"
   ]
  },
  {
   "cell_type": "code",
   "execution_count": 2,
   "id": "a87487bf-80d3-4d20-91ee-2b61bc1bcd94",
   "metadata": {
    "colab": {
     "base_uri": "https://localhost:8080/"
    },
    "executionInfo": {
     "elapsed": 68869,
     "status": "ok",
     "timestamp": 1683726253709,
     "user": {
      "displayName": "Mike Henderson",
      "userId": "07691629187611687318"
     },
     "user_tz": 240
    },
    "id": "N98-KK7LRkjm",
    "outputId": "09ec5008-0def-4e1a-c349-c598ee752f78",
    "tags": []
   },
   "outputs": [
    {
     "name": "stdout",
     "output_type": "stream",
     "text": [
      "Not a Colab Environment\n"
     ]
    }
   ],
   "source": [
    "try:\n",
    "    from google.colab import auth\n",
    "    auth.authenticate_user()\n",
    "    !gcloud config set project {PROJECT_ID}\n",
    "    print('Colab authorized to GCP')\n",
    "except Exception:\n",
    "    print('Not a Colab Environment')\n",
    "    pass"
   ]
  },
  {
   "cell_type": "markdown",
   "id": "0f70017d-4fea-4a92-b0d5-9524a0f5af15",
   "metadata": {},
   "source": [
    "---\n",
    "## Installs\n",
    "\n",
    "The list `packages` contains tuples of package import names and install names.  If the import name is not found then the install name is used to install quitely for the current user."
   ]
  },
  {
   "cell_type": "code",
   "execution_count": 3,
   "id": "7c9f3e4d-8f53-47c8-a529-3e9776d7cac3",
   "metadata": {
    "tags": []
   },
   "outputs": [],
   "source": [
    "# tuples of (import name, install name, min_version)\n",
    "packages = [\n",
    "    ('google.cloud.aiplatform', 'google-cloud-aiplatform'),\n",
    "    ('google.cloud.artifactregistry_v1', 'google-cloud-artifact-registry'),\n",
    "    ('kfp', 'kfp')\n",
    "]\n",
    "\n",
    "import importlib\n",
    "install = False\n",
    "for package in packages:\n",
    "    if not importlib.util.find_spec(package[0]):\n",
    "        print(f'installing package {package[1]}')\n",
    "        install = True\n",
    "        !pip install {package[1]} -U -q --user\n",
    "    elif len(package) == 3:\n",
    "        if importlib.metadata.version(package[0]) < package[2]:\n",
    "            print(f'updating package {package[1]}')\n",
    "            install = True\n",
    "            !pip install {package[1]} -U -q --user"
   ]
  },
  {
   "cell_type": "markdown",
   "id": "76ab5265-45eb-4950-8a8f-c724ce97561c",
   "metadata": {},
   "source": [
    "## API Enablement"
   ]
  },
  {
   "cell_type": "code",
   "execution_count": 4,
   "id": "09015335-5ae4-4f8f-b750-7f1dd2ee4012",
   "metadata": {
    "tags": []
   },
   "outputs": [],
   "source": [
    "!gcloud services enable aiplatform.googleapis.com\n",
    "!gcloud services enable artifactregistry.googleapis.com"
   ]
  },
  {
   "cell_type": "markdown",
   "id": "e4eef55f-8e1f-4cd3-8e95-07b486840ed8",
   "metadata": {},
   "source": [
    "### Restart Kernel (If Installs Occured)\n",
    "\n",
    "After a kernel restart the code submission can start with the next cell after this one."
   ]
  },
  {
   "cell_type": "code",
   "execution_count": 5,
   "id": "3534b6d7-eab1-4d22-bd37-56e91bf386df",
   "metadata": {
    "tags": []
   },
   "outputs": [],
   "source": [
    "if install:\n",
    "    import IPython\n",
    "    app = IPython.Application.instance()\n",
    "    app.kernel.do_shutdown(True)"
   ]
  },
  {
   "cell_type": "markdown",
   "id": "c137f38b-d540-4c41-8bd6-04bf67b7f0ef",
   "metadata": {
    "id": "appt8-yVRtJ1"
   },
   "source": [
    "---\n",
    "## Setup"
   ]
  },
  {
   "cell_type": "markdown",
   "id": "884c877d-1354-40ba-8e04-2454591bb30f",
   "metadata": {
    "id": "63mx2EozRxFP"
   },
   "source": [
    "Inputs"
   ]
  },
  {
   "cell_type": "code",
   "execution_count": 6,
   "id": "7b0a2049-8456-42e9-843f-b15c66c41e9c",
   "metadata": {
    "colab": {
     "base_uri": "https://localhost:8080/",
     "height": 35
    },
    "executionInfo": {
     "elapsed": 2124,
     "status": "ok",
     "timestamp": 1683726390544,
     "user": {
      "displayName": "Mike Henderson",
      "userId": "07691629187611687318"
     },
     "user_tz": 240
    },
    "id": "xzcoXjM5Rky5",
    "outputId": "b3bdcbc1-70d5-472e-aea2-42c74a42efde",
    "tags": []
   },
   "outputs": [
    {
     "data": {
      "text/plain": [
       "'statmike-mlops-349915'"
      ]
     },
     "execution_count": 6,
     "metadata": {},
     "output_type": "execute_result"
    }
   ],
   "source": [
    "project = !gcloud config get-value project\n",
    "PROJECT_ID = project[0]\n",
    "PROJECT_ID"
   ]
  },
  {
   "cell_type": "code",
   "execution_count": 7,
   "id": "c06de0cc-7b33-4698-a48e-9600bf3c4162",
   "metadata": {
    "executionInfo": {
     "elapsed": 2,
     "status": "ok",
     "timestamp": 1683726390712,
     "user": {
      "displayName": "Mike Henderson",
      "userId": "07691629187611687318"
     },
     "user_tz": 240
    },
    "id": "IxWrFtqYMfku",
    "tags": []
   },
   "outputs": [],
   "source": [
    "REGION = 'us-central1'\n",
    "EXPERIMENT = 'pipeline-management'\n",
    "SERIES = 'mlops'\n",
    "\n",
    "# gcs bucket\n",
    "GCS_BUCKET = PROJECT_ID"
   ]
  },
  {
   "cell_type": "markdown",
   "id": "6a8b2578-4f45-4368-955e-f7f05ccffb42",
   "metadata": {
    "id": "LuajVwCiO6Yg"
   },
   "source": [
    "Packages"
   ]
  },
  {
   "cell_type": "code",
   "execution_count": 31,
   "id": "43ccced8-88d7-459d-b063-871e8467b388",
   "metadata": {
    "executionInfo": {
     "elapsed": 17761,
     "status": "ok",
     "timestamp": 1683726409304,
     "user": {
      "displayName": "Mike Henderson",
      "userId": "07691629187611687318"
     },
     "user_tz": 240
    },
    "id": "LVC7zzSLRk2C",
    "tags": []
   },
   "outputs": [],
   "source": [
    "import os\n",
    "import time\n",
    "import importlib\n",
    "from google.cloud import aiplatform\n",
    "from google.cloud import artifactregistry_v1\n",
    "import kfp\n",
    "from typing import NamedTuple\n",
    "from IPython.display import Markdown"
   ]
  },
  {
   "cell_type": "markdown",
   "id": "21c39d38-c2ba-4298-a85f-9b3c15bfba74",
   "metadata": {
    "id": "EyAVFG9TO9H-"
   },
   "source": [
    "Clients"
   ]
  },
  {
   "cell_type": "code",
   "execution_count": 9,
   "id": "a25b1623-e0f3-4040-98bd-8769dc6d2da0",
   "metadata": {
    "executionInfo": {
     "elapsed": 19,
     "status": "ok",
     "timestamp": 1683726409306,
     "user": {
      "displayName": "Mike Henderson",
      "userId": "07691629187611687318"
     },
     "user_tz": 240
    },
    "id": "L0RPE13LOZce",
    "tags": []
   },
   "outputs": [],
   "source": [
    "# vertex ai clients\n",
    "aiplatform.init(project = PROJECT_ID, location = REGION)\n",
    "\n",
    "# artifact registry client\n",
    "ar_client = artifactregistry_v1.ArtifactRegistryClient()"
   ]
  },
  {
   "cell_type": "markdown",
   "id": "555aade2-3b3d-4647-a667-a2d0758595f6",
   "metadata": {},
   "source": [
    "parameters:"
   ]
  },
  {
   "cell_type": "code",
   "execution_count": 10,
   "id": "1897b9a5-beea-4a01-b318-412c462d01e5",
   "metadata": {
    "tags": []
   },
   "outputs": [],
   "source": [
    "DIR = f\"temp/{SERIES}-{EXPERIMENT}\""
   ]
  },
  {
   "cell_type": "code",
   "execution_count": 11,
   "id": "67dc81af-b8f5-4161-be32-98f8edcacab6",
   "metadata": {
    "tags": []
   },
   "outputs": [
    {
     "data": {
      "text/plain": [
       "'1026793852137-compute@developer.gserviceaccount.com'"
      ]
     },
     "execution_count": 11,
     "metadata": {},
     "output_type": "execute_result"
    }
   ],
   "source": [
    "SERVICE_ACCOUNT = !gcloud config list --format='value(core.account)' \n",
    "SERVICE_ACCOUNT = SERVICE_ACCOUNT[0]\n",
    "SERVICE_ACCOUNT"
   ]
  },
  {
   "cell_type": "markdown",
   "id": "8644c358-3b86-4348-b312-7b6447563c4b",
   "metadata": {},
   "source": [
    "environment:"
   ]
  },
  {
   "cell_type": "code",
   "execution_count": 12,
   "id": "06dc1938-00ab-41a1-969e-c52bcd9fe861",
   "metadata": {
    "tags": []
   },
   "outputs": [],
   "source": [
    "if not os.path.exists(DIR):\n",
    "    os.makedirs(DIR)"
   ]
  },
  {
   "cell_type": "markdown",
   "id": "afba9f4a-cf7f-438d-8955-680ce37a64de",
   "metadata": {},
   "source": [
    "---\n",
    "## Setup Artifact Registry\n",
    "\n",
    "[Artifact registry](https://cloud.google.com/artifact-registry/docs) organizes artifacts with repositories.  Each repository contains packages and is designated to hold a partifcular format of package: Docker images, Python Packages and [others](https://cloud.google.com/artifact-registry/docs/supported-formats#package).  There is even a registry type specifically for [Kubeflow pipeline templates](https://cloud.google.com/artifact-registry/docs/kfp?hl=en) which is the focus in this notebooks workflow. It specifically stores and managed `kfp` pipelines files (compiled pipeliens are YAML files)."
   ]
  },
  {
   "cell_type": "markdown",
   "id": "be425c92-ca7a-45fd-9c00-6ea5d456ea3d",
   "metadata": {},
   "source": [
    "### List Repositories\n",
    "\n",
    "This may be empty if no repositories have been created for this project"
   ]
  },
  {
   "cell_type": "code",
   "execution_count": 13,
   "id": "785997b1-559d-4022-9a63-8c6ab016ae68",
   "metadata": {
    "tags": []
   },
   "outputs": [
    {
     "name": "stdout",
     "output_type": "stream",
     "text": [
      "projects/statmike-mlops-349915/locations/us-central1/repositories/gcf-artifacts\n",
      "projects/statmike-mlops-349915/locations/us-central1/repositories/statmike-mlops-349915\n",
      "projects/statmike-mlops-349915/locations/us-central1/repositories/statmike-mlops-349915-docker\n",
      "projects/statmike-mlops-349915/locations/us-central1/repositories/statmike-mlops-349915-python\n"
     ]
    }
   ],
   "source": [
    "for repo in ar_client.list_repositories(parent = f'projects/{PROJECT_ID}/locations/{REGION}'):\n",
    "    print(repo.name)"
   ]
  },
  {
   "cell_type": "markdown",
   "id": "84ef0ccd-e4ed-4d46-9a9c-ebca09a7aafb",
   "metadata": {},
   "source": [
    "### Create/Retrieve KFP Repository\n",
    "\n",
    "Create an Artifact Registry Repository to hold Docker Images created by this notebook.  First, check to see if it is already created by a previous run and retrieve it if it has.  Otherwise, create one named for this project."
   ]
  },
  {
   "cell_type": "code",
   "execution_count": 19,
   "id": "081027cd-6e78-4e4a-baf6-2c204b214bdb",
   "metadata": {
    "tags": []
   },
   "outputs": [],
   "source": [
    "try:\n",
    "    kfp_repo = ar_client.get_repository(name = f'projects/{PROJECT_ID}/locations/{REGION}/repositories/{SERIES}')\n",
    "except Exception:\n",
    "    operation = ar_client.create_repository(\n",
    "        parent = f'projects/{PROJECT_ID}/locations/{REGION}',\n",
    "        repository_id = SERIES,\n",
    "        repository = artifactregistry_v1.Repository(\n",
    "            name = SERIES,\n",
    "            format = artifactregistry_v1.Repository.Format.KFP\n",
    "        )\n",
    "    )\n",
    "    kfp_repo = operation.result()"
   ]
  },
  {
   "cell_type": "code",
   "execution_count": 20,
   "id": "99bf7a50-6c56-4cf1-8366-9c8f00662084",
   "metadata": {
    "tags": []
   },
   "outputs": [
    {
     "data": {
      "text/plain": [
       "('projects/statmike-mlops-349915/locations/us-central1/repositories/mlops',\n",
       " 'KFP')"
      ]
     },
     "execution_count": 20,
     "metadata": {},
     "output_type": "execute_result"
    }
   ],
   "source": [
    "kfp_repo.name, kfp_repo.format_.name"
   ]
  },
  {
   "cell_type": "code",
   "execution_count": 24,
   "id": "28c50d8e-feba-414f-b6f4-f89dadb122c9",
   "metadata": {
    "tags": []
   },
   "outputs": [],
   "source": [
    "REPOSITORY = f\"{REGION}-{kfp_repo.format_.name}.pkg.dev/{PROJECT_ID}/{kfp_repo.name.split('/')[-1]}\""
   ]
  },
  {
   "cell_type": "code",
   "execution_count": 25,
   "id": "6c8e4071-07ac-4de2-bdf6-2a7d355491e4",
   "metadata": {
    "tags": []
   },
   "outputs": [
    {
     "data": {
      "text/plain": [
       "'us-central1-KFP.pkg.dev/statmike-mlops-349915/mlops'"
      ]
     },
     "execution_count": 25,
     "metadata": {},
     "output_type": "execute_result"
    }
   ],
   "source": [
    "REPOSITORY"
   ]
  },
  {
   "cell_type": "markdown",
   "id": "649c234c-0406-4fb4-8cd0-c5242adac520",
   "metadata": {},
   "source": [
    "---\n",
    "## Managing Components\n",
    "\n",
    "Components are the building blocks of pipelines.  There are [multiple ways to construct components](./Vertex%20AI%20Pipelines%20-%20Components.ipynb) including using prebuilt components. For this example a simple lightweight Python component is constructed to show how the mechanics of managing a component. \n",
    "\n",
    "A key to keep in mind is that a component operates a remote function in a container.  The example uses a lightweight Python component and starts with a base image that is built at runtime with the provided Python function.  Another type of function is a container component where the code is already built into the container.  "
   ]
  },
  {
   "cell_type": "markdown",
   "id": "993fa517-c454-41e7-9bff-6c76d95fe2e2",
   "metadata": {},
   "source": [
    "### Create Pipeline Components\n",
    "\n",
    "These are simple Python components, specifically lightweight Python components.  These are the same ones used in the [introduction workflow](./Vertex%20AI%20Pipelines%20-%20Introduction.ipynb)."
   ]
  },
  {
   "cell_type": "markdown",
   "id": "8202d1df-f7bf-4021-91b4-696e90d476c2",
   "metadata": {},
   "source": [
    "Simple component with multiple inputs of different data types and outputs a dictionary."
   ]
  },
  {
   "cell_type": "code",
   "execution_count": 26,
   "id": "ce708db3-7c37-4532-9ccb-d30887f6f923",
   "metadata": {
    "tags": []
   },
   "outputs": [],
   "source": [
    "@kfp.dsl.component(\n",
    "    base_image = \"python:3.11\",\n",
    "    packages_to_install = [\"pandas\"]\n",
    ")\n",
    "def example_parameters(\n",
    "    in_str: str,\n",
    "    in_int: int,\n",
    "    in_float: float,\n",
    "    in_bool: bool,\n",
    "    in_list: list\n",
    ") -> dict:\n",
    "    results = dict(\n",
    "        ex_str = in_str,\n",
    "        ex_int = in_int,\n",
    "        ex_float = in_float,\n",
    "        ex_bool = in_bool,\n",
    "        ex_list = in_list\n",
    "    )\n",
    "    return results"
   ]
  },
  {
   "cell_type": "markdown",
   "id": "afd8b514-953f-4086-87c6-1f5241642d27",
   "metadata": {},
   "source": [
    "Simple component that take input parameters and outputs an artifact."
   ]
  },
  {
   "cell_type": "code",
   "execution_count": 27,
   "id": "6792db44-72f2-4b77-91c4-a097aebcb726",
   "metadata": {
    "tags": []
   },
   "outputs": [],
   "source": [
    "@kfp.dsl.component(\n",
    "    base_image = \"python:3.10\",\n",
    "    packages_to_install = [\"pandas\"]\n",
    ")\n",
    "def example_artifact(\n",
    "    metadata: dict\n",
    ") -> kfp.dsl.Artifact:\n",
    "    ex_artifact = kfp.dsl.Artifact(\n",
    "        metadata = metadata,\n",
    "        uri = 'https://www.kubeflow.org/docs/components/pipelines/v2/data-types/artifacts/#artifact-types'\n",
    "    )\n",
    "    return ex_artifact"
   ]
  },
  {
   "cell_type": "markdown",
   "id": "79f0aa7b-753e-4a62-ad27-fde8f339eeb4",
   "metadata": {},
   "source": [
    "### Compile Components\n",
    "\n",
    "Just as pipelines can be compiled into YAML, so can components.  The following does this compilation for both components created above.\n",
    "- [`kfp.compiler`](https://kubeflow-pipelines.readthedocs.io/en/latest/source/compiler.html)"
   ]
  },
  {
   "cell_type": "code",
   "execution_count": 30,
   "id": "05796d18-dab1-476d-9376-0c3ec5612e7e",
   "metadata": {
    "tags": []
   },
   "outputs": [],
   "source": [
    "kfp.compiler.Compiler().compile(\n",
    "    example_parameters,\n",
    "    package_path = f'{DIR}/example_parameters.yaml'\n",
    ")\n",
    "\n",
    "kfp.compiler.Compiler().compile(\n",
    "    example_artifact,\n",
    "    package_path = f'{DIR}/example_artifact.yaml'\n",
    ")"
   ]
  },
  {
   "cell_type": "markdown",
   "id": "9b636b28-5bff-4718-82cd-f5c80cb27563",
   "metadata": {},
   "source": [
    "### Review Component YAML\n",
    "\n",
    "The cell below print out the contents of one of the YAML files for a compiled component.  Note the following features:\n",
    "- The `components` section has the details of the component including the input and output parameter names a data types\n",
    "- The `deploymentSpec` has the container specified with:\n",
    "    - `image` - the base image to use\n",
    "    - `args` - the argument to run the specified function\n",
    "    - `command` - in this case, a lightweight Python component, this has everything from the pip installs to the writing of the complete function to a file for execution"
   ]
  },
  {
   "cell_type": "code",
   "execution_count": 39,
   "id": "69d3a92c-c989-4561-b7e8-4e422f7fb346",
   "metadata": {
    "tags": []
   },
   "outputs": [
    {
     "data": {
      "text/markdown": [
       "```yaml\n",
       "\n",
       "# PIPELINE DEFINITION\n",
       "# Name: example-parameters\n",
       "# Inputs:\n",
       "#    in_bool: bool\n",
       "#    in_float: float\n",
       "#    in_int: int\n",
       "#    in_list: list\n",
       "#    in_str: str\n",
       "# Outputs:\n",
       "#    Output: dict\n",
       "components:\n",
       "  comp-example-parameters:\n",
       "    executorLabel: exec-example-parameters\n",
       "    inputDefinitions:\n",
       "      parameters:\n",
       "        in_bool:\n",
       "          parameterType: BOOLEAN\n",
       "        in_float:\n",
       "          parameterType: NUMBER_DOUBLE\n",
       "        in_int:\n",
       "          parameterType: NUMBER_INTEGER\n",
       "        in_list:\n",
       "          parameterType: LIST\n",
       "        in_str:\n",
       "          parameterType: STRING\n",
       "    outputDefinitions:\n",
       "      parameters:\n",
       "        Output:\n",
       "          parameterType: STRUCT\n",
       "deploymentSpec:\n",
       "  executors:\n",
       "    exec-example-parameters:\n",
       "      container:\n",
       "        args:\n",
       "        - --executor_input\n",
       "        - '{{$}}'\n",
       "        - --function_to_execute\n",
       "        - example_parameters\n",
       "        command:\n",
       "        - sh\n",
       "        - -c\n",
       "        - \"\\nif ! [ -x \\\"$(command -v pip)\\\" ]; then\\n    python3 -m ensurepip ||\\\n",
       "          \\ python3 -m ensurepip --user || apt-get install python3-pip\\nfi\\n\\nPIP_DISABLE_PIP_VERSION_CHECK=1\\\n",
       "          \\ python3 -m pip install --quiet --no-warn-script-location 'kfp==2.7.0'\\\n",
       "          \\ '--no-deps' 'typing-extensions>=3.7.4,<5; python_version<\\\"3.9\\\"'  &&\\\n",
       "          \\  python3 -m pip install --quiet --no-warn-script-location 'pandas' &&\\\n",
       "          \\ \\\"$0\\\" \\\"$@\\\"\\n\"\n",
       "        - sh\n",
       "        - -ec\n",
       "        - 'program_path=$(mktemp -d)\n",
       "\n",
       "\n",
       "          printf \"%s\" \"$0\" > \"$program_path/ephemeral_component.py\"\n",
       "\n",
       "          _KFP_RUNTIME=true python3 -m kfp.dsl.executor_main                         --component_module_path                         \"$program_path/ephemeral_component.py\"                         \"$@\"\n",
       "\n",
       "          '\n",
       "        - \"\\nimport kfp\\nfrom kfp import dsl\\nfrom kfp.dsl import *\\nfrom typing import\\\n",
       "          \\ *\\n\\ndef example_parameters(\\n    in_str: str,\\n    in_int: int,\\n   \\\n",
       "          \\ in_float: float,\\n    in_bool: bool,\\n    in_list: list\\n) -> dict:\\n\\\n",
       "          \\    results = dict(\\n        ex_str = in_str,\\n        ex_int = in_int,\\n\\\n",
       "          \\        ex_float = in_float,\\n        ex_bool = in_bool,\\n        ex_list\\\n",
       "          \\ = in_list\\n    )\\n    return results\\n\\n\"\n",
       "        image: python:3.11\n",
       "pipelineInfo:\n",
       "  name: example-parameters\n",
       "root:\n",
       "  dag:\n",
       "    outputs:\n",
       "      parameters:\n",
       "        Output:\n",
       "          valueFromParameter:\n",
       "            outputParameterKey: Output\n",
       "            producerSubtask: example-parameters\n",
       "    tasks:\n",
       "      example-parameters:\n",
       "        cachingOptions:\n",
       "          enableCache: true\n",
       "        componentRef:\n",
       "          name: comp-example-parameters\n",
       "        inputs:\n",
       "          parameters:\n",
       "            in_bool:\n",
       "              componentInputParameter: in_bool\n",
       "            in_float:\n",
       "              componentInputParameter: in_float\n",
       "            in_int:\n",
       "              componentInputParameter: in_int\n",
       "            in_list:\n",
       "              componentInputParameter: in_list\n",
       "            in_str:\n",
       "              componentInputParameter: in_str\n",
       "        taskInfo:\n",
       "          name: example-parameters\n",
       "  inputDefinitions:\n",
       "    parameters:\n",
       "      in_bool:\n",
       "        parameterType: BOOLEAN\n",
       "      in_float:\n",
       "        parameterType: NUMBER_DOUBLE\n",
       "      in_int:\n",
       "        parameterType: NUMBER_INTEGER\n",
       "      in_list:\n",
       "        parameterType: LIST\n",
       "      in_str:\n",
       "        parameterType: STRING\n",
       "  outputDefinitions:\n",
       "    parameters:\n",
       "      Output:\n",
       "        parameterType: STRUCT\n",
       "schemaVersion: 2.1.0\n",
       "sdkVersion: kfp-2.7.0\n",
       "\n",
       "```"
      ],
      "text/plain": [
       "<IPython.core.display.Markdown object>"
      ]
     },
     "execution_count": 39,
     "metadata": {},
     "output_type": "execute_result"
    }
   ],
   "source": [
    "with open(f'{DIR}/example_parameters.yaml', 'r') as f:\n",
    "    data = f.read()\n",
    "Markdown(f\"```yaml\\n\\n{data}\\n```\")"
   ]
  },
  {
   "cell_type": "code",
   "execution_count": 41,
   "id": "1c02f1f4-0f1e-46ef-b308-70643a8e5536",
   "metadata": {
    "tags": []
   },
   "outputs": [],
   "source": [
    "#with open(f'{DIR}/example_artifact.yaml', 'r') as f:\n",
    "#    data = f.read()\n",
    "#Markdown(f\"```yaml\\n\\n{data}\\n```\")"
   ]
  },
  {
   "cell_type": "markdown",
   "id": "9b5f80d3-e89b-41e2-8332-5930f55e29e4",
   "metadata": {},
   "source": [
    "### Loading A Compiled Component\n",
    "\n",
    "Managing (saving, reusing, and sharing) a compiled component file is completed by being able to load the component directly for future pipelines.  This is accomplished using the [`kfp.components`](https://kubeflow-pipelines.readthedocs.io/en/latest/source/components.html) module which offers three functions for loading components compiled as YAML from either a file, a url or directly from a string:\n",
    "- [`kfp.components.load_component_from_file`](https://kubeflow-pipelines.readthedocs.io/en/latest/source/components.html#kfp.components.load_component_from_file)\n",
    "- [`kfp.components.load_component_from_url`](https://kubeflow-pipelines.readthedocs.io/en/latest/source/components.html#kfp.components.load_component_from_url)\n",
    "- [`kfp.components.load_component_from_text`](https://kubeflow-pipelines.readthedocs.io/en/latest/source/components.html#kfp.components.load_component_from_text)\n",
    "\n",
    "The following cell load the `example_parameters` component from file and creates a new local component named `imported_example_parameters`."
   ]
  },
  {
   "cell_type": "code",
   "execution_count": 42,
   "id": "d574893b-c85b-4760-8c29-1a3ffed86316",
   "metadata": {
    "tags": []
   },
   "outputs": [],
   "source": [
    "imported_example_parameters = kfp.components.load_component_from_file(f'{DIR}/example_parameters.yaml')"
   ]
  },
  {
   "cell_type": "code",
   "execution_count": 44,
   "id": "ee1fc084-5a96-483b-bf51-6da834cc5000",
   "metadata": {
    "tags": []
   },
   "outputs": [
    {
     "data": {
      "text/plain": [
       "kfp.dsl.yaml_component.YamlComponent"
      ]
     },
     "execution_count": 44,
     "metadata": {},
     "output_type": "execute_result"
    }
   ],
   "source": [
    "type(imported_example_parameters)"
   ]
  },
  {
   "cell_type": "markdown",
   "id": "0938cdfa-d1ae-4b67-8da7-21be3271461e",
   "metadata": {},
   "source": [
    "---\n",
    "## Managing Pipelines"
   ]
  },
  {
   "cell_type": "code",
   "execution_count": null,
   "id": "d316c320-521c-4680-83e6-c8af73f426a5",
   "metadata": {},
   "outputs": [],
   "source": []
  }
 ],
 "metadata": {
  "environment": {
   "kernel": "conda-root-py",
   "name": "workbench-notebooks.m119",
   "type": "gcloud",
   "uri": "us-docker.pkg.dev/deeplearning-platform-release/gcr.io/workbench-notebooks:m119"
  },
  "kernelspec": {
   "display_name": "Python 3 (ipykernel)",
   "language": "python",
   "name": "conda-root-py"
  },
  "language_info": {
   "codemirror_mode": {
    "name": "ipython",
    "version": 3
   },
   "file_extension": ".py",
   "mimetype": "text/x-python",
   "name": "python",
   "nbconvert_exporter": "python",
   "pygments_lexer": "ipython3",
   "version": "3.10.14"
  }
 },
 "nbformat": 4,
 "nbformat_minor": 5
}
