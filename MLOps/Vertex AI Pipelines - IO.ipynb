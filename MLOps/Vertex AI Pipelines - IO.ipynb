{
 "cells": [
  {
   "cell_type": "markdown",
   "id": "30513be7",
   "metadata": {},
   "source": [
    "![tracker](https://us-central1-vertex-ai-mlops-369716.cloudfunctions.net/pixel-tracking?path=statmike%2Fvertex-ai-mlops%2FMLOps&file=Vertex+AI+Pipelines+-+IO.ipynb)\n",
    "<!--- header table --->\n",
    "<table align=\"left\">\n",
    "  <td style=\"text-align: center\">\n",
    "    <a href=\"https://colab.research.google.com/github/statmike/vertex-ai-mlops/blob/main/MLOps/Vertex%20AI%20Pipelines%20-%20IO.ipynb\">\n",
    "      <img src=\"https://cloud.google.com/ml-engine/images/colab-logo-32px.png\" alt=\"Google Colaboratory logo\">\n",
    "      <br>Run in<br>Colab\n",
    "    </a>\n",
    "  </td>\n",
    "  <td style=\"text-align: center\">\n",
    "    <a href=\"https://console.cloud.google.com/vertex-ai/colab/import/https%3A%2F%2Fraw.githubusercontent.com%2Fstatmike%2Fvertex-ai-mlops%2Fmain%2FMLOps%2FVertex%2520AI%2520Pipelines%2520-%2520IO.ipynb\">\n",
    "      <img width=\"32px\" src=\"https://lh3.googleusercontent.com/JmcxdQi-qOpctIvWKgPtrzZdJJK-J3sWE1RsfjZNwshCFgE_9fULcNpuXYTilIR2hjwN\" alt=\"Google Cloud Colab Enterprise logo\">\n",
    "      <br>Run in<br>Colab Enterprise\n",
    "    </a>\n",
    "  </td>      \n",
    "  <td style=\"text-align: center\">\n",
    "    <a href=\"https://github.com/statmike/vertex-ai-mlops/blob/main/MLOps/Vertex%20AI%20Pipelines%20-%20IO.ipynb\">\n",
    "      <img src=\"https://cloud.google.com/ml-engine/images/github-logo-32px.png\" alt=\"GitHub logo\">\n",
    "      <br>View on<br>GitHub\n",
    "    </a>\n",
    "  </td>\n",
    "  <td style=\"text-align: center\">\n",
    "    <a href=\"https://console.cloud.google.com/vertex-ai/workbench/deploy-notebook?download_url=https://raw.githubusercontent.com/statmike/vertex-ai-mlops/main/MLOps/Vertex%20AI%20Pipelines%20-%20IO.ipynb\">\n",
    "      <img src=\"https://lh3.googleusercontent.com/UiNooY4LUgW_oTvpsNhPpQzsstV5W8F7rYgxgGBD85cWJoLmrOzhVs_ksK_vgx40SHs7jCqkTkCk=e14-rj-sc0xffffff-h130-w32\" alt=\"Vertex AI logo\">\n",
    "      <br>Open in<br>Vertex AI Workbench\n",
    "    </a>\n",
    "  </td>\n",
    "</table>"
   ]
  },
  {
   "cell_type": "markdown",
   "id": "d5b7e678-d1ad-42f6-8eb5-9d3ca73c49c6",
   "metadata": {},
   "source": [
    "# Vertex AI Piplines - IO\n",
    "\n",
    "[Vertex AI Pipelines](https://cloud.google.com/vertex-ai/docs/pipelines/introduction) is a serverless  runner for Kubeflow Pipelines [(KFP)](https://www.kubeflow.org/docs/components/pipelines/v2/introduction/) and the [TensorFlow Extended (TFX)](ttps://www.tensorflow.org/tfx/guide/understanding_tfx_pipelines) framework.\n",
    "\n",
    "Components are used to run the steps of a pipelines.  A pipeline task runs the component with inputs and results in the components outputs.  The components execute code on compute with a container image.  And all the inputs and outputs are logged as pipeline metadata - automatically!\n",
    "\n",
    "This notebook will focus on the different data types for inputs and outputs to components.\n",
    "\n",
    "**Parameters** are Python objects like `str`, `int`, `float`, `bool`, `list`, `dict` objects that are defined as inputs to pipelines and components. Components can also return parameters for input into subsequent components. Paramters are excellent for changing the behavior of a pipeline/component through inputs rather than rewriting code.\n",
    "- [KFP Parameters](https://www.kubeflow.org/docs/components/pipelines/v2/data-types/parameters/)\n",
    "\n",
    "**Artifacts** are multi-parameter objects that represent machine learning artifacts and have defined schemas and are stored as metadata with lineage.  The artifact schemas follow the [ML Metadata (MLMD)](https://github.com/google/ml-metadata) client library.  This helps with understanding and analyzing a pipeline.\n",
    "- [KFP Artifacts](https://www.kubeflow.org/docs/components/pipelines/v2/data-types/artifacts/)\n",
    "    - provided [artifact types](https://www.kubeflow.org/docs/components/pipelines/v2/data-types/artifacts/#artifact-types)\n",
    "    - [Google Cloud Artifact Types](https://google-cloud-pipeline-components.readthedocs.io/en/google-cloud-pipeline-components-2.0.0/api/artifact_types.html)"
   ]
  },
  {
   "cell_type": "markdown",
   "id": "71cbd642-b4b6-406d-8686-5c02b3af4ed6",
   "metadata": {
    "id": "od_UkDpvRmgD",
    "tags": []
   },
   "source": [
    "---\n",
    "## Colab Setup\n",
    "\n",
    "To run this notebook in Colab run the cells in this section.  Otherwise, skip this section.\n",
    "\n",
    "This cell will authenticate to GCP (follow prompts in the popup)."
   ]
  },
  {
   "cell_type": "code",
   "execution_count": 1,
   "id": "602eac30-3606-435d-a079-d1b9db688990",
   "metadata": {
    "executionInfo": {
     "elapsed": 195,
     "status": "ok",
     "timestamp": 1683726184843,
     "user": {
      "displayName": "Mike Henderson",
      "userId": "07691629187611687318"
     },
     "user_tz": 240
    },
    "id": "8UO9FnqyKBlF",
    "tags": []
   },
   "outputs": [],
   "source": [
    "PROJECT_ID = 'statmike-mlops-349915' # replace with project ID"
   ]
  },
  {
   "cell_type": "code",
   "execution_count": 2,
   "id": "70d9bea9-1567-4c5e-99c9-dd6caf1c9abc",
   "metadata": {
    "colab": {
     "base_uri": "https://localhost:8080/"
    },
    "executionInfo": {
     "elapsed": 68869,
     "status": "ok",
     "timestamp": 1683726253709,
     "user": {
      "displayName": "Mike Henderson",
      "userId": "07691629187611687318"
     },
     "user_tz": 240
    },
    "id": "N98-KK7LRkjm",
    "outputId": "09ec5008-0def-4e1a-c349-c598ee752f78",
    "tags": []
   },
   "outputs": [
    {
     "name": "stdout",
     "output_type": "stream",
     "text": [
      "Not a Colab Environment\n"
     ]
    }
   ],
   "source": [
    "try:\n",
    "    from google.colab import auth\n",
    "    auth.authenticate_user()\n",
    "    !gcloud config set project {PROJECT_ID}\n",
    "    print('Colab authorized to GCP')\n",
    "except Exception:\n",
    "    print('Not a Colab Environment')\n",
    "    pass"
   ]
  },
  {
   "cell_type": "markdown",
   "id": "7b46f84a-a0b7-49fb-a277-fff79394c0ed",
   "metadata": {},
   "source": [
    "---\n",
    "## Installs\n",
    "\n",
    "The list `packages` contains tuples of package import names and install names.  If the import name is not found then the install name is used to install quitely for the current user."
   ]
  },
  {
   "cell_type": "code",
   "execution_count": 3,
   "id": "fdf619d0-ac63-47d9-8e68-805b9b366b9d",
   "metadata": {
    "tags": []
   },
   "outputs": [],
   "source": [
    "# tuples of (import name, install name, min_version)\n",
    "packages = [\n",
    "    ('google.cloud.aiplatform', 'google-cloud-aiplatform'),\n",
    "    ('kfp', 'kfp'),\n",
    "    ('google_cloud_pipeline_components', 'google-cloud-pipeline-components'),\n",
    "]\n",
    "\n",
    "import importlib\n",
    "install = False\n",
    "for package in packages:\n",
    "    if not importlib.util.find_spec(package[0]):\n",
    "        print(f'installing package {package[1]}')\n",
    "        install = True\n",
    "        !pip install {package[1]} -U -q --user\n",
    "    elif len(package) == 3:\n",
    "        if importlib.metadata.version(package[0]) < package[2]:\n",
    "            print(f'updating package {package[1]}')\n",
    "            install = True\n",
    "            !pip install {package[1]} -U -q --user"
   ]
  },
  {
   "cell_type": "markdown",
   "id": "7766d3aa-8efa-42b7-a355-f4108a089a33",
   "metadata": {},
   "source": [
    "## API Enablement"
   ]
  },
  {
   "cell_type": "code",
   "execution_count": 4,
   "id": "dbac5cbe-87e7-4569-8dac-c74c910a800a",
   "metadata": {
    "tags": []
   },
   "outputs": [],
   "source": [
    "!gcloud services enable aiplatform.googleapis.com"
   ]
  },
  {
   "cell_type": "markdown",
   "id": "ba9e053e-4386-490a-8200-ec0bf060fefc",
   "metadata": {},
   "source": [
    "### Restart Kernel (If Installs Occured)\n",
    "\n",
    "After a kernel restart the code submission can start with the next cell after this one."
   ]
  },
  {
   "cell_type": "code",
   "execution_count": 5,
   "id": "4a4eb5cf-ad4d-4a5f-8e00-a9369b21f5df",
   "metadata": {
    "tags": []
   },
   "outputs": [],
   "source": [
    "if install:\n",
    "    import IPython\n",
    "    app = IPython.Application.instance()\n",
    "    app.kernel.do_shutdown(True)"
   ]
  },
  {
   "cell_type": "markdown",
   "id": "b1829ae7-121e-445c-bb8f-6dc29f69fdf0",
   "metadata": {
    "id": "appt8-yVRtJ1"
   },
   "source": [
    "---\n",
    "## Setup"
   ]
  },
  {
   "cell_type": "markdown",
   "id": "a95d9aed-510f-4a52-ba06-02c18766f4f2",
   "metadata": {
    "id": "63mx2EozRxFP"
   },
   "source": [
    "Inputs"
   ]
  },
  {
   "cell_type": "code",
   "execution_count": 6,
   "id": "50d77108-5ced-43a5-9348-68face53ee99",
   "metadata": {
    "colab": {
     "base_uri": "https://localhost:8080/",
     "height": 35
    },
    "executionInfo": {
     "elapsed": 2124,
     "status": "ok",
     "timestamp": 1683726390544,
     "user": {
      "displayName": "Mike Henderson",
      "userId": "07691629187611687318"
     },
     "user_tz": 240
    },
    "id": "xzcoXjM5Rky5",
    "outputId": "b3bdcbc1-70d5-472e-aea2-42c74a42efde",
    "tags": []
   },
   "outputs": [
    {
     "data": {
      "text/plain": [
       "'statmike-mlops-349915'"
      ]
     },
     "execution_count": 6,
     "metadata": {},
     "output_type": "execute_result"
    }
   ],
   "source": [
    "project = !gcloud config get-value project\n",
    "PROJECT_ID = project[0]\n",
    "PROJECT_ID"
   ]
  },
  {
   "cell_type": "code",
   "execution_count": 7,
   "id": "fd40bff4-7e8c-4520-8246-cccd7783ec86",
   "metadata": {
    "executionInfo": {
     "elapsed": 2,
     "status": "ok",
     "timestamp": 1683726390712,
     "user": {
      "displayName": "Mike Henderson",
      "userId": "07691629187611687318"
     },
     "user_tz": 240
    },
    "id": "IxWrFtqYMfku",
    "tags": []
   },
   "outputs": [],
   "source": [
    "REGION = 'us-central1'\n",
    "EXPERIMENT = 'pipeline-io'\n",
    "SERIES = 'mlops'\n",
    "\n",
    "# gcs bucket\n",
    "GCS_BUCKET = PROJECT_ID"
   ]
  },
  {
   "cell_type": "markdown",
   "id": "632a67ea-fb37-402b-b2d0-43df633a2f7b",
   "metadata": {
    "id": "LuajVwCiO6Yg"
   },
   "source": [
    "Packages"
   ]
  },
  {
   "cell_type": "code",
   "execution_count": 8,
   "id": "c9025f7b-56fe-436c-9827-e959c8639f0f",
   "metadata": {
    "executionInfo": {
     "elapsed": 17761,
     "status": "ok",
     "timestamp": 1683726409304,
     "user": {
      "displayName": "Mike Henderson",
      "userId": "07691629187611687318"
     },
     "user_tz": 240
    },
    "id": "LVC7zzSLRk2C",
    "tags": []
   },
   "outputs": [],
   "source": [
    "import os\n",
    "import time\n",
    "import importlib\n",
    "from google.cloud import aiplatform\n",
    "import kfp\n",
    "from typing import NamedTuple"
   ]
  },
  {
   "cell_type": "code",
   "execution_count": 9,
   "id": "23ee59c4-31a7-4d9b-b62a-1de226650d98",
   "metadata": {
    "tags": []
   },
   "outputs": [
    {
     "data": {
      "text/plain": [
       "'2.7.0'"
      ]
     },
     "execution_count": 9,
     "metadata": {},
     "output_type": "execute_result"
    }
   ],
   "source": [
    "kfp.__version__"
   ]
  },
  {
   "cell_type": "code",
   "execution_count": 10,
   "id": "6ae3d6b8-202f-4df3-a031-72b084b80919",
   "metadata": {
    "tags": []
   },
   "outputs": [
    {
     "data": {
      "text/plain": [
       "'1.50.0'"
      ]
     },
     "execution_count": 10,
     "metadata": {},
     "output_type": "execute_result"
    }
   ],
   "source": [
    "aiplatform.__version__"
   ]
  },
  {
   "cell_type": "markdown",
   "id": "11e563f7-a09c-4746-abf5-a906be394b5b",
   "metadata": {
    "id": "EyAVFG9TO9H-"
   },
   "source": [
    "Clients"
   ]
  },
  {
   "cell_type": "code",
   "execution_count": 11,
   "id": "9c07f984-7130-402d-bb3c-fc400b0283bd",
   "metadata": {
    "executionInfo": {
     "elapsed": 19,
     "status": "ok",
     "timestamp": 1683726409306,
     "user": {
      "displayName": "Mike Henderson",
      "userId": "07691629187611687318"
     },
     "user_tz": 240
    },
    "id": "L0RPE13LOZce",
    "tags": []
   },
   "outputs": [],
   "source": [
    "# vertex ai clients\n",
    "aiplatform.init(project = PROJECT_ID, location = REGION)"
   ]
  },
  {
   "cell_type": "markdown",
   "id": "46c47247-7db0-4ae8-a537-2ebe2add47d2",
   "metadata": {},
   "source": [
    "parameters:"
   ]
  },
  {
   "cell_type": "code",
   "execution_count": 12,
   "id": "5e4bc595-17aa-41e9-9f9b-f91632602671",
   "metadata": {
    "tags": []
   },
   "outputs": [],
   "source": [
    "DIR = f\"temp/{SERIES}-{EXPERIMENT}\""
   ]
  },
  {
   "cell_type": "code",
   "execution_count": 13,
   "id": "42ee51d9-77c8-4771-990e-0a05db6aa968",
   "metadata": {
    "tags": []
   },
   "outputs": [
    {
     "data": {
      "text/plain": [
       "'1026793852137-compute@developer.gserviceaccount.com'"
      ]
     },
     "execution_count": 13,
     "metadata": {},
     "output_type": "execute_result"
    }
   ],
   "source": [
    "SERVICE_ACCOUNT = !gcloud config list --format='value(core.account)' \n",
    "SERVICE_ACCOUNT = SERVICE_ACCOUNT[0]\n",
    "SERVICE_ACCOUNT"
   ]
  },
  {
   "cell_type": "markdown",
   "id": "1c92fa0b-2566-4607-9f3f-fda7a0b01b95",
   "metadata": {},
   "source": [
    "environment:"
   ]
  },
  {
   "cell_type": "code",
   "execution_count": 14,
   "id": "bdc119f6-47d7-48d4-aef2-9681074a4cfa",
   "metadata": {
    "tags": []
   },
   "outputs": [],
   "source": [
    "if not os.path.exists(DIR):\n",
    "    os.makedirs(DIR)"
   ]
  },
  {
   "cell_type": "markdown",
   "id": "8b9189c5-d8d7-4aef-a7a5-c9af2a8e778c",
   "metadata": {},
   "source": [
    "---\n",
    "## Parameters\n",
    "\n",
    "**Parameters** are Python objects like `str`, `int`, `float`, `bool`, `list`, `dict` objects that are defined as inputs to pipelines and components. Components can also return parameters for input into subsequent components. Paramters are excellent for changing the behavior of a pipeline/component through inputs rather than rewriting code.\n",
    "- [KFP Parameters](https://www.kubeflow.org/docs/components/pipelines/v2/data-types/parameters/)"
   ]
  },
  {
   "cell_type": "markdown",
   "id": "6b6b71d8-c1a7-418e-98c4-803c0f47c65f",
   "metadata": {
    "tags": []
   },
   "source": [
    "---\n",
    "### Inputs and Output\n",
    "\n",
    "An example pipeline that has all the types of input parameters and outputs a single parameter:"
   ]
  },
  {
   "cell_type": "markdown",
   "id": "11e1ce3e-ab80-46af-8d8a-4e6121665058",
   "metadata": {},
   "source": [
    "#### Create Pipeline Components\n",
    "\n",
    "These are simple Python components, specifically lightweight Python components and container components.  For more details on the types of components check out this workflow in the same repository:\n",
    "- [Vertex AI Pipelines - Components](./Vertex%20AI%20Pipelines%20-%20Components.ipynb)"
   ]
  },
  {
   "cell_type": "markdown",
   "id": "59ba9066-992b-4294-be7b-2017be63f735",
   "metadata": {},
   "source": [
    "A simple lightweight python component with single input and single output:"
   ]
  },
  {
   "cell_type": "code",
   "execution_count": 130,
   "id": "2d254576-c254-41b7-993a-ea0eefc3eea0",
   "metadata": {
    "tags": []
   },
   "outputs": [],
   "source": [
    "@kfp.dsl.component(\n",
    "    base_image = \"python:3.11\",\n",
    "    packages_to_install = [\"pandas\"]\n",
    ")\n",
    "def single_input(string: str) -> str:\n",
    "    text = string\n",
    "    return text"
   ]
  },
  {
   "cell_type": "markdown",
   "id": "9aa82050-8ec6-4228-81b3-1099bd90b11d",
   "metadata": {},
   "source": [
    "A lightweight python component with multiple inputs and a single output:"
   ]
  },
  {
   "cell_type": "code",
   "execution_count": 131,
   "id": "0c2432a9-69ab-4ade-ac04-3b5d4eaf6b3f",
   "metadata": {
    "tags": []
   },
   "outputs": [],
   "source": [
    "@kfp.dsl.component(\n",
    "    base_image = \"python:3.11\",\n",
    "    packages_to_install = [\"pandas\"]\n",
    ")\n",
    "def multi_input(\n",
    "    a_str: str,\n",
    "    a_int: int,\n",
    "    a_float: float,\n",
    "    a_bool: bool,\n",
    "    a_dict: dict,\n",
    "    a_list: list\n",
    ") -> list:\n",
    "    text = [a_str, a_int, a_float, a_bool, a_dict, a_list]\n",
    "    return [str(t) for t in text]"
   ]
  },
  {
   "cell_type": "markdown",
   "id": "7ea4ea67-66e6-49e4-862c-da3a210be9f5",
   "metadata": {},
   "source": [
    "A container component with a single input and single output.  Note that this type of component using the [`kfp.dsl.OutputPath`](https://kubeflow-pipelines.readthedocs.io/en/latest/source/dsl.html#kfp.dsl.OutputPath) to return the output to an object that looks like an input:\n",
    "- The shell command for `mkdir` is used to create an output loation  with the `kfp.dsl.OutputPath` variable\n",
    "- The `echo` command along with the `>` write to instruction are used to write values to the `kfp.dsl_OutputPath` using the directory created"
   ]
  },
  {
   "cell_type": "code",
   "execution_count": 132,
   "id": "f4e9dfa0-e592-4899-91ab-e70e571526ce",
   "metadata": {
    "tags": []
   },
   "outputs": [],
   "source": [
    "@kfp.dsl.container_component\n",
    "def io_container(\n",
    "    in_str: str,\n",
    "    out_str: kfp.dsl.OutputPath(str)\n",
    "):\n",
    "    return kfp.dsl.ContainerSpec(\n",
    "        image = 'alpine',\n",
    "        command = [\n",
    "            'sh', '-c',  f'''mkdir -p $(dirname {out_str})\\\n",
    "                            && echo \"echoing {in_str}\" > {out_str}'''\n",
    "        ]\n",
    "    )"
   ]
  },
  {
   "cell_type": "markdown",
   "id": "e6b8930d-e632-453e-a66f-20ec53fb76c6",
   "metadata": {},
   "source": [
    "#### Create Pipeline"
   ]
  },
  {
   "cell_type": "code",
   "execution_count": 133,
   "id": "e9e4cb25-a255-4c2e-b24f-945db913a63d",
   "metadata": {
    "tags": []
   },
   "outputs": [],
   "source": [
    "pipeline_name = f'{SERIES}-{EXPERIMENT}-parameter-io'"
   ]
  },
  {
   "cell_type": "code",
   "execution_count": 134,
   "id": "5930c86c-5568-4ac8-b4f5-45892aed5fec",
   "metadata": {
    "tags": []
   },
   "outputs": [],
   "source": [
    "@kfp.dsl.pipeline(\n",
    "    name = pipeline_name,\n",
    "    description = 'A simple pipeline for testing',\n",
    "    pipeline_root = f'gs://{GCS_BUCKET}/{SERIES}/{EXPERIMENT}/pipeline_root'\n",
    ")\n",
    "def example_pipeline(\n",
    "    a_str: str,\n",
    "    a_int: int,\n",
    "    a_float: float,\n",
    "    a_bool: bool,\n",
    "    a_dict: dict,\n",
    "    a_list: list\n",
    ") -> list:\n",
    "    \n",
    "    single_io = single_input(string = a_str)\n",
    "    multi_i = multi_input(\n",
    "        a_str = single_io.output,\n",
    "        a_int= a_int,\n",
    "        a_float= a_float,\n",
    "        a_bool = a_bool,\n",
    "        a_dict = a_dict,\n",
    "        a_list = a_list   \n",
    "    )\n",
    "    container_io = io_container(in_str = single_io.output)\n",
    "    \n",
    "    return multi_i.output"
   ]
  },
  {
   "cell_type": "markdown",
   "id": "1ce2f58e-8485-47ad-9afa-16555926e4c6",
   "metadata": {},
   "source": [
    "#### Compile Pipeline"
   ]
  },
  {
   "cell_type": "code",
   "execution_count": 135,
   "id": "d0f94cc2-61aa-4d36-b333-15af73f3dd9a",
   "metadata": {
    "tags": []
   },
   "outputs": [],
   "source": [
    "kfp.compiler.Compiler().compile(\n",
    "    pipeline_func = example_pipeline,\n",
    "    package_path = f'{DIR}/{pipeline_name}.yaml'\n",
    ")"
   ]
  },
  {
   "cell_type": "markdown",
   "id": "a3843fed-315d-4835-a67e-ffa60c401842",
   "metadata": {},
   "source": [
    "#### Create Pipeline Job"
   ]
  },
  {
   "cell_type": "code",
   "execution_count": 136,
   "id": "99506b8a-6fe7-48d3-af4a-64af87540368",
   "metadata": {
    "tags": []
   },
   "outputs": [],
   "source": [
    "parameters = dict(\n",
    "    a_str = 'test string',\n",
    "    a_int = 1,\n",
    "    a_float = 1.2,\n",
    "    a_bool = True,\n",
    "    a_dict = dict(key = 45),\n",
    "    a_list = [1, 2, 3]\n",
    ")"
   ]
  },
  {
   "cell_type": "code",
   "execution_count": 137,
   "id": "75d77f8d-1a15-4791-b95a-b5ac85986a69",
   "metadata": {
    "tags": []
   },
   "outputs": [],
   "source": [
    "pipeline_job = aiplatform.PipelineJob(\n",
    "    display_name = pipeline_name,\n",
    "    template_path = f\"{DIR}/{pipeline_name}.yaml\",\n",
    "    parameter_values = parameters,\n",
    "    pipeline_root = f'gs://{GCS_BUCKET}/{SERIES}/{EXPERIMENT}/pipeline_root',\n",
    "    enable_caching = None # True (enabled), False (disable), None (defer to component level caching) \n",
    ")"
   ]
  },
  {
   "cell_type": "markdown",
   "id": "bef190bf-35e9-46af-8eff-7283c974a9b0",
   "metadata": {},
   "source": [
    "#### Submit Pipeline Job"
   ]
  },
  {
   "cell_type": "code",
   "execution_count": 138,
   "id": "d85d67f0-4d11-4d03-ae2d-92e3a6a142da",
   "metadata": {
    "tags": []
   },
   "outputs": [
    {
     "name": "stdout",
     "output_type": "stream",
     "text": [
      "Creating PipelineJob\n",
      "PipelineJob created. Resource name: projects/1026793852137/locations/us-central1/pipelineJobs/mlops-pipeline-io-parameter-io-20240507115117\n",
      "To use this PipelineJob in another session:\n",
      "pipeline_job = aiplatform.PipelineJob.get('projects/1026793852137/locations/us-central1/pipelineJobs/mlops-pipeline-io-parameter-io-20240507115117')\n",
      "View Pipeline Job:\n",
      "https://console.cloud.google.com/vertex-ai/locations/us-central1/pipelines/runs/mlops-pipeline-io-parameter-io-20240507115117?project=1026793852137\n"
     ]
    }
   ],
   "source": [
    "response = pipeline_job.submit(\n",
    "    service_account = SERVICE_ACCOUNT\n",
    ")"
   ]
  },
  {
   "cell_type": "code",
   "execution_count": 139,
   "id": "4f54890d-ce67-4012-b8a8-b41fda947d45",
   "metadata": {
    "tags": []
   },
   "outputs": [
    {
     "name": "stdout",
     "output_type": "stream",
     "text": [
      "The Dashboard can be viewed here:\n",
      "https://console.cloud.google.com/vertex-ai/locations/us-central1/pipelines/runs/mlops-pipeline-io-parameter-io-20240507115117?project=1026793852137\n"
     ]
    }
   ],
   "source": [
    "print(f'The Dashboard can be viewed here:\\n{pipeline_job._dashboard_uri()}')"
   ]
  },
  {
   "cell_type": "code",
   "execution_count": 140,
   "id": "32bd4fe7-beb7-4373-b499-c1b90b1a97bb",
   "metadata": {
    "tags": []
   },
   "outputs": [
    {
     "name": "stdout",
     "output_type": "stream",
     "text": [
      "PipelineJob projects/1026793852137/locations/us-central1/pipelineJobs/mlops-pipeline-io-parameter-io-20240507115117 current state:\n",
      "PipelineState.PIPELINE_STATE_RUNNING\n",
      "PipelineJob projects/1026793852137/locations/us-central1/pipelineJobs/mlops-pipeline-io-parameter-io-20240507115117 current state:\n",
      "PipelineState.PIPELINE_STATE_RUNNING\n",
      "PipelineJob projects/1026793852137/locations/us-central1/pipelineJobs/mlops-pipeline-io-parameter-io-20240507115117 current state:\n",
      "PipelineState.PIPELINE_STATE_RUNNING\n",
      "PipelineJob projects/1026793852137/locations/us-central1/pipelineJobs/mlops-pipeline-io-parameter-io-20240507115117 current state:\n",
      "PipelineState.PIPELINE_STATE_RUNNING\n",
      "PipelineJob projects/1026793852137/locations/us-central1/pipelineJobs/mlops-pipeline-io-parameter-io-20240507115117 current state:\n",
      "PipelineState.PIPELINE_STATE_RUNNING\n",
      "PipelineJob run completed. Resource name: projects/1026793852137/locations/us-central1/pipelineJobs/mlops-pipeline-io-parameter-io-20240507115117\n"
     ]
    }
   ],
   "source": [
    "pipeline_job.wait()"
   ]
  },
  {
   "cell_type": "markdown",
   "id": "c9f0e810-ca9a-43b1-bcf7-63e2e5edfbd3",
   "metadata": {},
   "source": [
    "#### Retrieve Pipeline Information"
   ]
  },
  {
   "cell_type": "code",
   "execution_count": 141,
   "id": "127f461e-6d87-4b68-9562-928b7a1e53c6",
   "metadata": {
    "tags": []
   },
   "outputs": [
    {
     "data": {
      "text/html": [
       "<div>\n",
       "<style scoped>\n",
       "    .dataframe tbody tr th:only-of-type {\n",
       "        vertical-align: middle;\n",
       "    }\n",
       "\n",
       "    .dataframe tbody tr th {\n",
       "        vertical-align: top;\n",
       "    }\n",
       "\n",
       "    .dataframe thead th {\n",
       "        text-align: right;\n",
       "    }\n",
       "</style>\n",
       "<table border=\"1\" class=\"dataframe\">\n",
       "  <thead>\n",
       "    <tr style=\"text-align: right;\">\n",
       "      <th></th>\n",
       "      <th>pipeline_name</th>\n",
       "      <th>run_name</th>\n",
       "      <th>param.input:a_dict</th>\n",
       "      <th>param.input:a_list</th>\n",
       "      <th>param.input:a_str</th>\n",
       "      <th>param.input:a_float</th>\n",
       "      <th>param.input:a_bool</th>\n",
       "      <th>param.input:a_int</th>\n",
       "      <th>param.vmlmd_lineage_integration</th>\n",
       "      <th>param.output:Output</th>\n",
       "    </tr>\n",
       "  </thead>\n",
       "  <tbody>\n",
       "    <tr>\n",
       "      <th>0</th>\n",
       "      <td>mlops-pipeline-io-parameter-io</td>\n",
       "      <td>mlops-pipeline-io-parameter-io-20240507115117</td>\n",
       "      <td>{'key': 45.0}</td>\n",
       "      <td>[1.0, 2.0, 3.0]</td>\n",
       "      <td>test string</td>\n",
       "      <td>1.2</td>\n",
       "      <td>True</td>\n",
       "      <td>1.0</td>\n",
       "      <td>{'pipeline_run_component': {'location_id': 'us...</td>\n",
       "      <td>[test string, 1, 1.2, True, {'key': 45}, [1, 2...</td>\n",
       "    </tr>\n",
       "  </tbody>\n",
       "</table>\n",
       "</div>"
      ],
      "text/plain": [
       "                    pipeline_name  \\\n",
       "0  mlops-pipeline-io-parameter-io   \n",
       "\n",
       "                                        run_name param.input:a_dict  \\\n",
       "0  mlops-pipeline-io-parameter-io-20240507115117      {'key': 45.0}   \n",
       "\n",
       "  param.input:a_list param.input:a_str  param.input:a_float  \\\n",
       "0    [1.0, 2.0, 3.0]       test string                  1.2   \n",
       "\n",
       "   param.input:a_bool  param.input:a_int  \\\n",
       "0                True                1.0   \n",
       "\n",
       "                     param.vmlmd_lineage_integration  \\\n",
       "0  {'pipeline_run_component': {'location_id': 'us...   \n",
       "\n",
       "                                 param.output:Output  \n",
       "0  [test string, 1, 1.2, True, {'key': 45}, [1, 2...  "
      ]
     },
     "execution_count": 141,
     "metadata": {},
     "output_type": "execute_result"
    }
   ],
   "source": [
    "aiplatform.get_pipeline_df(pipeline = f'{pipeline_name}')"
   ]
  },
  {
   "cell_type": "code",
   "execution_count": 142,
   "id": "003fd409-0a89-4937-a970-7f6f49f9b0c6",
   "metadata": {
    "tags": []
   },
   "outputs": [],
   "source": [
    "tasks = {task.task_name: task for task in pipeline_job.task_details}"
   ]
  },
  {
   "cell_type": "code",
   "execution_count": 143,
   "id": "9e6e6303-4b9d-4d05-8413-9001ba0cdbf7",
   "metadata": {
    "tags": []
   },
   "outputs": [
    {
     "name": "stdout",
     "output_type": "stream",
     "text": [
      "mlops-pipeline-io-parameter-io-20240507115117 State.SUCCEEDED\n",
      "multi-input State.SUCCEEDED\n",
      "io-container State.SUCCEEDED\n",
      "single-input State.SUCCEEDED\n"
     ]
    }
   ],
   "source": [
    "for task in tasks:\n",
    "  print(task, tasks[task].state)"
   ]
  },
  {
   "cell_type": "code",
   "execution_count": 144,
   "id": "d6c6e5b0-194f-4b54-9181-fe1c33c0eef7",
   "metadata": {
    "tags": []
   },
   "outputs": [],
   "source": [
    "#tasks['io-container']"
   ]
  },
  {
   "cell_type": "markdown",
   "id": "bf9f9629-05c1-4b33-8038-bd86f2682fbd",
   "metadata": {},
   "source": [
    "---\n",
    "### Multiple Outputs\n",
    "\n",
    "How to handle multiple output parameters when there is a single output object?  This is possible in pipelines components by using the [`typing` modules](https://docs.python.org/3/library/typing.html#module-typing) [`NamedTuple`](https://docs.python.org/3/library/typing.html#typing.NamedTuple) implementation.  The are tuples with named fields, meaning, that fields can be accessed by name instead of position indexes."
   ]
  },
  {
   "cell_type": "markdown",
   "id": "2628fd64-0e01-4b98-839a-298f54859b1e",
   "metadata": {},
   "source": [
    "#### Understanding `NamedTuple`"
   ]
  },
  {
   "cell_type": "markdown",
   "id": "2a7254ef-bcd0-4415-b614-943ab85578bd",
   "metadata": {},
   "source": [
    "First, are regular tuple.  The following creates a tuple and then recalls the 3rd element with an index.  At first this might seem like a list in Python but tuples are immutable objects - elements cannot be modified, added, or removed.  "
   ]
  },
  {
   "cell_type": "code",
   "execution_count": 166,
   "id": "81923be9-e0d2-4596-bf3c-9b55ea44b3e2",
   "metadata": {
    "tags": []
   },
   "outputs": [],
   "source": [
    "example_tuple = (1, 'string', 4.5, True)"
   ]
  },
  {
   "cell_type": "code",
   "execution_count": 167,
   "id": "d1e54728-7ef5-46e9-8246-62d81cb8b32a",
   "metadata": {
    "tags": []
   },
   "outputs": [
    {
     "data": {
      "text/plain": [
       "4.5"
      ]
     },
     "execution_count": 167,
     "metadata": {},
     "output_type": "execute_result"
    }
   ],
   "source": [
    "example_tuple[2]"
   ]
  },
  {
   "cell_type": "markdown",
   "id": "5fef5f78-bb04-47d8-873c-980883379229",
   "metadata": {},
   "source": [
    "Now, a named tuple.  "
   ]
  },
  {
   "cell_type": "code",
   "execution_count": 168,
   "id": "0e0ca37c-e159-49b9-845d-5aec91df9769",
   "metadata": {
    "tags": []
   },
   "outputs": [],
   "source": [
    "example_named_tuple = NamedTuple('example', x=int, y=int)"
   ]
  },
  {
   "cell_type": "code",
   "execution_count": 169,
   "id": "c072f0f9-17ad-4968-9765-591c0acd9dd7",
   "metadata": {
    "tags": []
   },
   "outputs": [],
   "source": [
    "test_tuple = example_named_tuple(4, 8)"
   ]
  },
  {
   "cell_type": "code",
   "execution_count": 170,
   "id": "ec151e48-c393-4112-85a3-d968427a505f",
   "metadata": {
    "tags": []
   },
   "outputs": [
    {
     "data": {
      "text/plain": [
       "example(x=4, y=8)"
      ]
     },
     "execution_count": 170,
     "metadata": {},
     "output_type": "execute_result"
    }
   ],
   "source": [
    "test_tuple"
   ]
  },
  {
   "cell_type": "code",
   "execution_count": 171,
   "id": "e73c9c8a-eba0-48f3-a220-750e736c4554",
   "metadata": {
    "tags": []
   },
   "outputs": [
    {
     "data": {
      "text/plain": [
       "4"
      ]
     },
     "execution_count": 171,
     "metadata": {},
     "output_type": "execute_result"
    }
   ],
   "source": [
    "test_tuple.x"
   ]
  },
  {
   "cell_type": "markdown",
   "id": "a8a189bf-3dff-4101-9c7f-25df87ab63e7",
   "metadata": {},
   "source": [
    "Also, define and populate all at once like this:"
   ]
  },
  {
   "cell_type": "code",
   "execution_count": 172,
   "id": "62e6d6e1-224b-46e4-aa0c-200ea033e168",
   "metadata": {
    "tags": []
   },
   "outputs": [
    {
     "data": {
      "text/plain": [
       "example(x=2, y=9)"
      ]
     },
     "execution_count": 172,
     "metadata": {},
     "output_type": "execute_result"
    }
   ],
   "source": [
    "NamedTuple('example', x=int, y=int)(2, 9)"
   ]
  },
  {
   "cell_type": "markdown",
   "id": "9f5eb202-081f-4edd-b067-1f841f3d95ca",
   "metadata": {},
   "source": [
    "#### Create Pipeline Components\n",
    "\n",
    "These are simple Python components, specifically lightweight Python components and container components.  For more details on the types of components check out this workflow in the same repository:\n",
    "- [Vertex AI Pipelines - Components](./Vertex%20AI%20Pipelines%20-%20Components.ipynb)"
   ]
  },
  {
   "cell_type": "markdown",
   "id": "ddeda78c-777e-4cdb-b342-5332005ceaa8",
   "metadata": {},
   "source": [
    "A lightweight python component with multiple inputs and multiple outputs:"
   ]
  },
  {
   "cell_type": "code",
   "execution_count": 182,
   "id": "650b6d9f-8c7e-455c-bf5f-fe7ca2100e49",
   "metadata": {
    "tags": []
   },
   "outputs": [],
   "source": [
    "@kfp.dsl.component(\n",
    "    base_image = \"python:3.11\",\n",
    "    packages_to_install = [\"pandas\"]\n",
    ")\n",
    "def multi_input_output(\n",
    "    a_str: str,\n",
    "    a_int: int,\n",
    "    a_float: float,\n",
    "    a_bool: bool,\n",
    "    a_dict: dict,\n",
    "    a_list: list\n",
    ") -> NamedTuple('multi_output', b_str=str, b_int=int, b_float=float, b_bool=bool, b_dict=dict, b_list=list):\n",
    "    from typing import NamedTuple\n",
    "    output = NamedTuple('multi_output', b_str=str, b_int=int, b_float=float, b_bool=bool, b_dict=dict, b_list=list)\n",
    "    return output(a_str, a_int, a_float, a_bool, a_dict, a_list)"
   ]
  },
  {
   "cell_type": "markdown",
   "id": "11737e06-b7cd-4ddd-9bfa-b1ca2043b37e",
   "metadata": {},
   "source": [
    "#### Compile Pipeline"
   ]
  },
  {
   "cell_type": "code",
   "execution_count": 183,
   "id": "fc3b39d1-f7da-4b79-a6a6-d0ce78b4486a",
   "metadata": {
    "tags": []
   },
   "outputs": [],
   "source": [
    "pipeline_name = f'{SERIES}-{EXPERIMENT}-parameter-multi-io'"
   ]
  },
  {
   "cell_type": "code",
   "execution_count": 184,
   "id": "e4da685b-225e-4600-a3ea-7fe451f4894e",
   "metadata": {
    "tags": []
   },
   "outputs": [],
   "source": [
    "@kfp.dsl.pipeline(\n",
    "    name = pipeline_name,\n",
    "    description = 'A simple pipeline for testing',\n",
    "    pipeline_root = f'gs://{GCS_BUCKET}/{SERIES}/{EXPERIMENT}/pipeline_root'\n",
    ")\n",
    "def example_pipeline(\n",
    "    a_str: str,\n",
    "    a_int: int,\n",
    "    a_float: float,\n",
    "    a_bool: bool,\n",
    "    a_dict: dict,\n",
    "    a_list: list\n",
    ") -> list:\n",
    "    \n",
    "    multi_io = multi_input_output(\n",
    "        a_str = a_str,\n",
    "        a_int= a_int,\n",
    "        a_float= a_float,\n",
    "        a_bool = a_bool,\n",
    "        a_dict = a_dict,\n",
    "        a_list = a_list \n",
    "    )\n",
    "    multi_i = multi_input(\n",
    "        a_str = multi_io.outputs['b_str'],\n",
    "        a_int= multi_io.outputs['b_int'],\n",
    "        a_float= multi_io.outputs['b_float'],\n",
    "        a_bool = multi_io.outputs['b_bool'],\n",
    "        a_dict = multi_io.outputs['b_dict'],\n",
    "        a_list = multi_io.outputs['b_list']   \n",
    "    )\n",
    "    \n",
    "    return multi_i.output"
   ]
  },
  {
   "cell_type": "markdown",
   "id": "65f68190-6495-42a6-b821-f3a9a2a20993",
   "metadata": {},
   "source": [
    "#### Compile Pipeline"
   ]
  },
  {
   "cell_type": "code",
   "execution_count": 185,
   "id": "e7264d29-7548-4a6e-ad29-7e8a005a55a8",
   "metadata": {
    "tags": []
   },
   "outputs": [],
   "source": [
    "kfp.compiler.Compiler().compile(\n",
    "    pipeline_func = example_pipeline,\n",
    "    package_path = f'{DIR}/{pipeline_name}.yaml'\n",
    ")"
   ]
  },
  {
   "cell_type": "markdown",
   "id": "c940e2de-9a83-4165-8079-c16c6fbc226b",
   "metadata": {},
   "source": [
    "#### Create Pipeline Job"
   ]
  },
  {
   "cell_type": "code",
   "execution_count": 186,
   "id": "4f82973d-0f9c-406f-bdf6-07f14b1fa013",
   "metadata": {
    "tags": []
   },
   "outputs": [],
   "source": [
    "parameters = dict(\n",
    "    a_str = 'test string',\n",
    "    a_int = 1,\n",
    "    a_float = 1.2,\n",
    "    a_bool = True,\n",
    "    a_dict = dict(key = 45),\n",
    "    a_list = [1, 2, 3]\n",
    ")"
   ]
  },
  {
   "cell_type": "code",
   "execution_count": 187,
   "id": "a9cb62ed-9e66-40ca-9c74-d4703953f020",
   "metadata": {
    "tags": []
   },
   "outputs": [],
   "source": [
    "pipeline_job = aiplatform.PipelineJob(\n",
    "    display_name = pipeline_name,\n",
    "    template_path = f\"{DIR}/{pipeline_name}.yaml\",\n",
    "    parameter_values = parameters,\n",
    "    pipeline_root = f'gs://{GCS_BUCKET}/{SERIES}/{EXPERIMENT}/pipeline_root',\n",
    "    enable_caching = None # True (enabled), False (disable), None (defer to component level caching) \n",
    ")"
   ]
  },
  {
   "cell_type": "markdown",
   "id": "c35ad519-f9ae-4ced-aab9-cb42964d4bd2",
   "metadata": {},
   "source": [
    "#### Submit Pipeline Job"
   ]
  },
  {
   "cell_type": "code",
   "execution_count": 188,
   "id": "1d9d06fe-ce77-40b0-8eea-8b555982d526",
   "metadata": {
    "tags": []
   },
   "outputs": [
    {
     "name": "stdout",
     "output_type": "stream",
     "text": [
      "Creating PipelineJob\n",
      "PipelineJob created. Resource name: projects/1026793852137/locations/us-central1/pipelineJobs/mlops-pipeline-io-parameter-multi-io-20240507123009\n",
      "To use this PipelineJob in another session:\n",
      "pipeline_job = aiplatform.PipelineJob.get('projects/1026793852137/locations/us-central1/pipelineJobs/mlops-pipeline-io-parameter-multi-io-20240507123009')\n",
      "View Pipeline Job:\n",
      "https://console.cloud.google.com/vertex-ai/locations/us-central1/pipelines/runs/mlops-pipeline-io-parameter-multi-io-20240507123009?project=1026793852137\n"
     ]
    }
   ],
   "source": [
    "response = pipeline_job.submit(\n",
    "    service_account = SERVICE_ACCOUNT\n",
    ")"
   ]
  },
  {
   "cell_type": "code",
   "execution_count": 189,
   "id": "f25fdc8d-d61b-4b0c-a587-aa7493aab440",
   "metadata": {
    "tags": []
   },
   "outputs": [
    {
     "name": "stdout",
     "output_type": "stream",
     "text": [
      "The Dashboard can be viewed here:\n",
      "https://console.cloud.google.com/vertex-ai/locations/us-central1/pipelines/runs/mlops-pipeline-io-parameter-multi-io-20240507123009?project=1026793852137\n"
     ]
    }
   ],
   "source": [
    "print(f'The Dashboard can be viewed here:\\n{pipeline_job._dashboard_uri()}')"
   ]
  },
  {
   "cell_type": "code",
   "execution_count": 190,
   "id": "2250c5e4-40a7-4a5c-9128-988b79394b3c",
   "metadata": {
    "tags": []
   },
   "outputs": [
    {
     "name": "stdout",
     "output_type": "stream",
     "text": [
      "PipelineJob projects/1026793852137/locations/us-central1/pipelineJobs/mlops-pipeline-io-parameter-multi-io-20240507123009 current state:\n",
      "PipelineState.PIPELINE_STATE_RUNNING\n",
      "PipelineJob projects/1026793852137/locations/us-central1/pipelineJobs/mlops-pipeline-io-parameter-multi-io-20240507123009 current state:\n",
      "PipelineState.PIPELINE_STATE_RUNNING\n",
      "PipelineJob projects/1026793852137/locations/us-central1/pipelineJobs/mlops-pipeline-io-parameter-multi-io-20240507123009 current state:\n",
      "PipelineState.PIPELINE_STATE_RUNNING\n",
      "PipelineJob projects/1026793852137/locations/us-central1/pipelineJobs/mlops-pipeline-io-parameter-multi-io-20240507123009 current state:\n",
      "PipelineState.PIPELINE_STATE_RUNNING\n",
      "PipelineJob projects/1026793852137/locations/us-central1/pipelineJobs/mlops-pipeline-io-parameter-multi-io-20240507123009 current state:\n",
      "PipelineState.PIPELINE_STATE_RUNNING\n",
      "PipelineJob run completed. Resource name: projects/1026793852137/locations/us-central1/pipelineJobs/mlops-pipeline-io-parameter-multi-io-20240507123009\n"
     ]
    }
   ],
   "source": [
    "pipeline_job.wait()"
   ]
  },
  {
   "cell_type": "markdown",
   "id": "83b4242c-6113-4409-91b2-2aad6646b0c2",
   "metadata": {},
   "source": [
    "#### Retrieve Pipeline Information"
   ]
  },
  {
   "cell_type": "code",
   "execution_count": 191,
   "id": "744c662c-7a82-424f-8d04-3b05fde07d80",
   "metadata": {
    "tags": []
   },
   "outputs": [
    {
     "data": {
      "text/html": [
       "<div>\n",
       "<style scoped>\n",
       "    .dataframe tbody tr th:only-of-type {\n",
       "        vertical-align: middle;\n",
       "    }\n",
       "\n",
       "    .dataframe tbody tr th {\n",
       "        vertical-align: top;\n",
       "    }\n",
       "\n",
       "    .dataframe thead th {\n",
       "        text-align: right;\n",
       "    }\n",
       "</style>\n",
       "<table border=\"1\" class=\"dataframe\">\n",
       "  <thead>\n",
       "    <tr style=\"text-align: right;\">\n",
       "      <th></th>\n",
       "      <th>pipeline_name</th>\n",
       "      <th>run_name</th>\n",
       "      <th>param.input:a_list</th>\n",
       "      <th>param.input:a_str</th>\n",
       "      <th>param.vmlmd_lineage_integration</th>\n",
       "      <th>param.output:Output</th>\n",
       "      <th>param.input:a_bool</th>\n",
       "      <th>param.input:a_dict</th>\n",
       "      <th>param.input:a_int</th>\n",
       "      <th>param.input:a_float</th>\n",
       "    </tr>\n",
       "  </thead>\n",
       "  <tbody>\n",
       "    <tr>\n",
       "      <th>0</th>\n",
       "      <td>mlops-pipeline-io-parameter-multi-io</td>\n",
       "      <td>mlops-pipeline-io-parameter-multi-io-202405071...</td>\n",
       "      <td>[1.0, 2.0, 3.0]</td>\n",
       "      <td>test string</td>\n",
       "      <td>{'pipeline_run_component': {'parent_task_names...</td>\n",
       "      <td>[test string, 1, 1.2, True, {'key': 45}, [1, 2...</td>\n",
       "      <td>True</td>\n",
       "      <td>{'key': 45.0}</td>\n",
       "      <td>1.0</td>\n",
       "      <td>1.2</td>\n",
       "    </tr>\n",
       "    <tr>\n",
       "      <th>1</th>\n",
       "      <td>mlops-pipeline-io-parameter-multi-io</td>\n",
       "      <td>mlops-pipeline-io-parameter-multi-io-202405071...</td>\n",
       "      <td>[1.0, 2.0, 3.0]</td>\n",
       "      <td>test string</td>\n",
       "      <td>{'pipeline_run_component': {'project_id': 'sta...</td>\n",
       "      <td>NaN</td>\n",
       "      <td>True</td>\n",
       "      <td>{'key': 45.0}</td>\n",
       "      <td>1.0</td>\n",
       "      <td>1.2</td>\n",
       "    </tr>\n",
       "    <tr>\n",
       "      <th>2</th>\n",
       "      <td>mlops-pipeline-io-parameter-multi-io</td>\n",
       "      <td>mlops-pipeline-io-parameter-multi-io-202405071...</td>\n",
       "      <td>[1.0, 2.0, 3.0]</td>\n",
       "      <td>test string</td>\n",
       "      <td>{'pipeline_run_component': {'task_name': 'mlop...</td>\n",
       "      <td>NaN</td>\n",
       "      <td>True</td>\n",
       "      <td>{'key': 45.0}</td>\n",
       "      <td>1.0</td>\n",
       "      <td>1.2</td>\n",
       "    </tr>\n",
       "  </tbody>\n",
       "</table>\n",
       "</div>"
      ],
      "text/plain": [
       "                          pipeline_name  \\\n",
       "0  mlops-pipeline-io-parameter-multi-io   \n",
       "1  mlops-pipeline-io-parameter-multi-io   \n",
       "2  mlops-pipeline-io-parameter-multi-io   \n",
       "\n",
       "                                            run_name param.input:a_list  \\\n",
       "0  mlops-pipeline-io-parameter-multi-io-202405071...    [1.0, 2.0, 3.0]   \n",
       "1  mlops-pipeline-io-parameter-multi-io-202405071...    [1.0, 2.0, 3.0]   \n",
       "2  mlops-pipeline-io-parameter-multi-io-202405071...    [1.0, 2.0, 3.0]   \n",
       "\n",
       "  param.input:a_str                    param.vmlmd_lineage_integration  \\\n",
       "0       test string  {'pipeline_run_component': {'parent_task_names...   \n",
       "1       test string  {'pipeline_run_component': {'project_id': 'sta...   \n",
       "2       test string  {'pipeline_run_component': {'task_name': 'mlop...   \n",
       "\n",
       "                                 param.output:Output  param.input:a_bool  \\\n",
       "0  [test string, 1, 1.2, True, {'key': 45}, [1, 2...                True   \n",
       "1                                                NaN                True   \n",
       "2                                                NaN                True   \n",
       "\n",
       "  param.input:a_dict  param.input:a_int  param.input:a_float  \n",
       "0      {'key': 45.0}                1.0                  1.2  \n",
       "1      {'key': 45.0}                1.0                  1.2  \n",
       "2      {'key': 45.0}                1.0                  1.2  "
      ]
     },
     "execution_count": 191,
     "metadata": {},
     "output_type": "execute_result"
    }
   ],
   "source": [
    "aiplatform.get_pipeline_df(pipeline = f'{pipeline_name}')"
   ]
  },
  {
   "cell_type": "code",
   "execution_count": 192,
   "id": "12c50b08-4a6e-44b9-b5dc-e4d1f3685768",
   "metadata": {
    "tags": []
   },
   "outputs": [],
   "source": [
    "tasks = {task.task_name: task for task in pipeline_job.task_details}"
   ]
  },
  {
   "cell_type": "code",
   "execution_count": 193,
   "id": "d824941f-62ce-41ac-abb0-9ba058daabd6",
   "metadata": {
    "tags": []
   },
   "outputs": [
    {
     "name": "stdout",
     "output_type": "stream",
     "text": [
      "multi-input State.SUCCEEDED\n",
      "multi-input-output State.SUCCEEDED\n",
      "mlops-pipeline-io-parameter-multi-io-20240507123009 State.SUCCEEDED\n"
     ]
    }
   ],
   "source": [
    "for task in tasks:\n",
    "  print(task, tasks[task].state)"
   ]
  },
  {
   "cell_type": "code",
   "execution_count": 196,
   "id": "da07aff4-720f-402c-add5-bf8d0486a439",
   "metadata": {
    "tags": []
   },
   "outputs": [],
   "source": [
    "#tasks['multi-input-output']"
   ]
  },
  {
   "cell_type": "markdown",
   "id": "b8ee04af-71d9-43cf-8cc7-a7d1cb9f9162",
   "metadata": {},
   "source": [
    "---\n",
    "## Artifacts: KFP Artifacts\n",
    "\n",
    "**Artifacts** are multi-parameter objects that represent machine learning artifacts and have defined schemas and are stored as metadata with lineage.  The artifact schemas follow the [ML Metadata (MLMD)](https://github.com/google/ml-metadata) client library.  This helps with understanding and analyzing a pipeline.\n",
    "- [KFP Artifacts](https://www.kubeflow.org/docs/components/pipelines/v2/data-types/artifacts/)\n",
    "    - provided [artifact types](https://www.kubeflow.org/docs/components/pipelines/v2/data-types/artifacts/#artifact-types)\n",
    "    - [Google Cloud Artifact Types](https://google-cloud-pipeline-components.readthedocs.io/en/google-cloud-pipeline-components-2.0.0/api/artifact_types.html)\n",
    "    \n",
    "Artifacts are passed to and from components with input parameters that are defined with wrappers:\n",
    "- `kfp.dsl.Input`\n",
    "- `kfp.dsl.Output`\n",
    "\n",
    "> **NOTE:** There is a more Pythonic apporach in development that removes the need for input/ouput wrappers and allows the usage of artifacts like other parameters.  Check out [this reference](https://www.kubeflow.org/docs/components/pipelines/v2/data-types/artifacts/#artifact-types) for the emerging details.\n",
    "\n",
    "For Example:\n",
    "```Python\n",
    "import kfp\n",
    "\n",
    "@kfp.dsl.component()\n",
    "def new_component(input_artifact: kfp.dsl.Artifact) > kfp.dsl.Artifact:\n",
    "    ...\n",
    "    return kfp.dsl.Artifact\n",
    "```\n",
    "    "
   ]
  },
  {
   "cell_type": "markdown",
   "id": "66accc86-e301-4915-b8e5-83e9761a2d39",
   "metadata": {},
   "source": [
    "### Artifact Type: `kfp.dsl.Artifact`\n",
    "\n",
    "[`kfp.dsl.Artifact`](https://kubeflow-pipelines.readthedocs.io/en/latest/source/dsl.html#kfp.dsl.Artifact) is a generic artifact with parameters:\n",
    "- `name`: str\n",
    "- `uri`: str\n",
    "- `metadata`: dict\n",
    "\n",
    "Example:\n",
    "```Python\n",
    "\n",
    "```"
   ]
  },
  {
   "cell_type": "markdown",
   "id": "8ce7ea5c-0cd6-4171-b565-97ace3b7aeba",
   "metadata": {},
   "source": [
    "### Artifact Type: `kfp.dsl.Dataset`"
   ]
  },
  {
   "cell_type": "markdown",
   "id": "0135bb9b-70de-4c6b-92e4-ba56d5afa249",
   "metadata": {},
   "source": [
    "### Artifact Type: `kfp.dsl.Model`"
   ]
  },
  {
   "cell_type": "markdown",
   "id": "8c58fe6a-ad2f-45b4-903d-4cb98b9c8d0b",
   "metadata": {},
   "source": [
    "### Artifact Type: `kfp.dsl.Metrics`"
   ]
  },
  {
   "cell_type": "markdown",
   "id": "f3e24f12-2730-4bc3-8643-5453c8e85801",
   "metadata": {},
   "source": [
    "### Artifact Type: `kfp.dsl.ClassificationMetrics`"
   ]
  },
  {
   "cell_type": "markdown",
   "id": "92a95ee9-4891-4a34-b46c-0df17b1ea00b",
   "metadata": {},
   "source": [
    "### Artifact Type: `kfp.dsl.SlicedClassificationMetrics`"
   ]
  },
  {
   "cell_type": "markdown",
   "id": "48f0503f-bfb4-42b0-9384-430a0f68536d",
   "metadata": {},
   "source": [
    "### Artifact Type: `kfp.dsl.HTML`"
   ]
  },
  {
   "cell_type": "markdown",
   "id": "e67fdef3-6f12-4a6e-bdcd-1f1612627cec",
   "metadata": {},
   "source": [
    "### Artifact Type: `kfp.dsl.Markdown`"
   ]
  },
  {
   "cell_type": "markdown",
   "id": "4db4ea5a-1468-4415-963c-ba3fe0cd8001",
   "metadata": {},
   "source": [
    "#### Create Pipeline Components\n",
    "\n",
    "These are simple Python components, specifically lightweight Python components and container components.  For more details on the types of components check out this workflow in the same repository:\n",
    "- [Vertex AI Pipelines - Components](./Vertex%20AI%20Pipelines%20-%20Components.ipynb)"
   ]
  },
  {
   "cell_type": "markdown",
   "id": "fd7cb11a-b941-4b04-adc7-ae343b03c8b9",
   "metadata": {},
   "source": [
    "A lightweight python component with multiple inputs and multiple outputs:"
   ]
  },
  {
   "cell_type": "code",
   "execution_count": 15,
   "id": "1c679530-dc58-4f4f-9417-c19c60bafd86",
   "metadata": {
    "tags": []
   },
   "outputs": [],
   "source": [
    "from kfp.dsl import Artifact"
   ]
  },
  {
   "cell_type": "code",
   "execution_count": 39,
   "id": "dae45c15-ff8c-4cc6-9a4a-3e7de61ff229",
   "metadata": {
    "tags": []
   },
   "outputs": [],
   "source": [
    "@kfp.dsl.component(\n",
    "    base_image = \"python:3.11\",\n",
    "    packages_to_install = [\"pandas\"]\n",
    ")\n",
    "def example_component1(\n",
    "    name: str,\n",
    "    uri: str,\n",
    "    a_dict: dict\n",
    ") -> Artifact:\n",
    "    \n",
    "    my_artifact = Artifact(uri = uri, metadata = a_dict)\n",
    "    \n",
    "    return my_artifact\n",
    "\n",
    "@kfp.dsl.component(\n",
    "    base_image = \"python:3.11\",\n",
    "    packages_to_install = [\"pandas\"]\n",
    ")\n",
    "def example_component2(\n",
    "    name: str,\n",
    "    uri: str,\n",
    "    a_dict: dict\n",
    ") -> Artifact:\n",
    "    \n",
    "    my_artifact = Artifact(uri = uri)\n",
    "    \n",
    "    return my_artifact\n",
    "\n",
    "@kfp.dsl.component(\n",
    "    base_image = \"python:3.11\",\n",
    "    packages_to_install = [\"pandas\"]\n",
    ")\n",
    "def example_component3(\n",
    "    name: str,\n",
    "    uri: str,\n",
    "    a_dict: dict\n",
    ") -> Artifact:\n",
    "    \n",
    "    my_artifact = Artifact(metadata = a_dict)\n",
    "    my_artifact.uri = kfp.dsl.get_uri('my_artifact')\n",
    "    \n",
    "    return my_artifact"
   ]
  },
  {
   "cell_type": "markdown",
   "id": "0bc78cbc-d73f-4ce0-8ceb-443ae23c7b11",
   "metadata": {},
   "source": [
    "#### Compile Pipeline"
   ]
  },
  {
   "cell_type": "code",
   "execution_count": 40,
   "id": "9a6b0504-ed77-4f40-acb5-5ed5840763f4",
   "metadata": {
    "tags": []
   },
   "outputs": [],
   "source": [
    "pipeline_name = f'{SERIES}-{EXPERIMENT}-artifacts'"
   ]
  },
  {
   "cell_type": "code",
   "execution_count": 41,
   "id": "c92bc1a8-7ad9-44db-a739-9af90986a8cb",
   "metadata": {
    "tags": []
   },
   "outputs": [],
   "source": [
    "@kfp.dsl.pipeline(\n",
    "    name = pipeline_name,\n",
    "    description = 'A simple pipeline for testing',\n",
    "    pipeline_root = f'gs://{GCS_BUCKET}/{SERIES}/{EXPERIMENT}/pipeline_root'\n",
    ")\n",
    "def example_pipeline(\n",
    "    name: str,\n",
    "    uri: str,\n",
    "    a_dict: dict\n",
    "):# -> Artifact:\n",
    "    \n",
    "    create_artifact1 = example_component1(name = name, uri = uri, a_dict = a_dict)\n",
    "    create_artifact2 = example_component2(name = name, uri = uri, a_dict = a_dict)\n",
    "    create_artifact3 = example_component3(name = name, uri = uri, a_dict = a_dict)\n",
    "    #return create_artifact"
   ]
  },
  {
   "cell_type": "markdown",
   "id": "3f68c5dc-ddb7-480b-9120-dd4641710022",
   "metadata": {},
   "source": [
    "#### Compile Pipeline"
   ]
  },
  {
   "cell_type": "code",
   "execution_count": 42,
   "id": "0ba2cbd8-d8b2-470c-a185-94b3ea3ebbc4",
   "metadata": {
    "tags": []
   },
   "outputs": [],
   "source": [
    "kfp.compiler.Compiler().compile(\n",
    "    pipeline_func = example_pipeline,\n",
    "    package_path = f'{DIR}/{pipeline_name}.yaml'\n",
    ")"
   ]
  },
  {
   "cell_type": "markdown",
   "id": "2c6b6a60-0f23-4598-bb85-b9be320cedb6",
   "metadata": {},
   "source": [
    "#### Create Pipeline Job"
   ]
  },
  {
   "cell_type": "code",
   "execution_count": 43,
   "id": "24d5d01e-7d27-4549-b374-c0ffd30ad5d9",
   "metadata": {
    "tags": []
   },
   "outputs": [],
   "source": [
    "parameters = dict(\n",
    "    name = 'test string',\n",
    "    uri = 'https://www.google.com',\n",
    "    a_dict = dict(key = 45),\n",
    ")"
   ]
  },
  {
   "cell_type": "code",
   "execution_count": 44,
   "id": "a0722235-82e0-4c19-a33b-3b520b678eaa",
   "metadata": {
    "tags": []
   },
   "outputs": [],
   "source": [
    "pipeline_job = aiplatform.PipelineJob(\n",
    "    display_name = pipeline_name,\n",
    "    template_path = f\"{DIR}/{pipeline_name}.yaml\",\n",
    "    parameter_values = parameters,\n",
    "    pipeline_root = f'gs://{GCS_BUCKET}/{SERIES}/{EXPERIMENT}/pipeline_root',\n",
    "    enable_caching = None # True (enabled), False (disable), None (defer to component level caching) \n",
    ")"
   ]
  },
  {
   "cell_type": "markdown",
   "id": "e3dfcb20-5e21-4c31-b40e-aaf6d67e055f",
   "metadata": {},
   "source": [
    "#### Submit Pipeline Job"
   ]
  },
  {
   "cell_type": "code",
   "execution_count": 45,
   "id": "03b44679-3672-4967-8ba2-18984eca5928",
   "metadata": {
    "tags": []
   },
   "outputs": [
    {
     "name": "stdout",
     "output_type": "stream",
     "text": [
      "Creating PipelineJob\n",
      "PipelineJob created. Resource name: projects/1026793852137/locations/us-central1/pipelineJobs/mlops-pipeline-io-artifacts-20240508173548\n",
      "To use this PipelineJob in another session:\n",
      "pipeline_job = aiplatform.PipelineJob.get('projects/1026793852137/locations/us-central1/pipelineJobs/mlops-pipeline-io-artifacts-20240508173548')\n",
      "View Pipeline Job:\n",
      "https://console.cloud.google.com/vertex-ai/locations/us-central1/pipelines/runs/mlops-pipeline-io-artifacts-20240508173548?project=1026793852137\n"
     ]
    }
   ],
   "source": [
    "response = pipeline_job.submit(\n",
    "    service_account = SERVICE_ACCOUNT\n",
    ")"
   ]
  },
  {
   "cell_type": "code",
   "execution_count": 46,
   "id": "30c7c709-fffc-4275-9cb0-fa4afad6e91b",
   "metadata": {
    "tags": []
   },
   "outputs": [
    {
     "name": "stdout",
     "output_type": "stream",
     "text": [
      "The Dashboard can be viewed here:\n",
      "https://console.cloud.google.com/vertex-ai/locations/us-central1/pipelines/runs/mlops-pipeline-io-artifacts-20240508173548?project=1026793852137\n"
     ]
    }
   ],
   "source": [
    "print(f'The Dashboard can be viewed here:\\n{pipeline_job._dashboard_uri()}')"
   ]
  },
  {
   "cell_type": "code",
   "execution_count": 47,
   "id": "44ebbaf9-5829-4656-b051-f8992ad40dab",
   "metadata": {
    "tags": []
   },
   "outputs": [
    {
     "name": "stdout",
     "output_type": "stream",
     "text": [
      "PipelineJob projects/1026793852137/locations/us-central1/pipelineJobs/mlops-pipeline-io-artifacts-20240508173548 current state:\n",
      "PipelineState.PIPELINE_STATE_RUNNING\n",
      "PipelineJob projects/1026793852137/locations/us-central1/pipelineJobs/mlops-pipeline-io-artifacts-20240508173548 current state:\n",
      "PipelineState.PIPELINE_STATE_RUNNING\n",
      "PipelineJob projects/1026793852137/locations/us-central1/pipelineJobs/mlops-pipeline-io-artifacts-20240508173548 current state:\n",
      "PipelineState.PIPELINE_STATE_RUNNING\n",
      "PipelineJob projects/1026793852137/locations/us-central1/pipelineJobs/mlops-pipeline-io-artifacts-20240508173548 current state:\n",
      "PipelineState.PIPELINE_STATE_RUNNING\n",
      "PipelineJob run completed. Resource name: projects/1026793852137/locations/us-central1/pipelineJobs/mlops-pipeline-io-artifacts-20240508173548\n"
     ]
    }
   ],
   "source": [
    "pipeline_job.wait()"
   ]
  },
  {
   "cell_type": "markdown",
   "id": "035f7c5c-7483-4c15-9b7c-bae0d8281592",
   "metadata": {},
   "source": [
    "#### Retrieve Pipeline Information"
   ]
  },
  {
   "cell_type": "code",
   "execution_count": 191,
   "id": "08f56a9f-5def-4c3d-adff-d3c99c788c1d",
   "metadata": {
    "tags": []
   },
   "outputs": [
    {
     "data": {
      "text/html": [
       "<div>\n",
       "<style scoped>\n",
       "    .dataframe tbody tr th:only-of-type {\n",
       "        vertical-align: middle;\n",
       "    }\n",
       "\n",
       "    .dataframe tbody tr th {\n",
       "        vertical-align: top;\n",
       "    }\n",
       "\n",
       "    .dataframe thead th {\n",
       "        text-align: right;\n",
       "    }\n",
       "</style>\n",
       "<table border=\"1\" class=\"dataframe\">\n",
       "  <thead>\n",
       "    <tr style=\"text-align: right;\">\n",
       "      <th></th>\n",
       "      <th>pipeline_name</th>\n",
       "      <th>run_name</th>\n",
       "      <th>param.input:a_list</th>\n",
       "      <th>param.input:a_str</th>\n",
       "      <th>param.vmlmd_lineage_integration</th>\n",
       "      <th>param.output:Output</th>\n",
       "      <th>param.input:a_bool</th>\n",
       "      <th>param.input:a_dict</th>\n",
       "      <th>param.input:a_int</th>\n",
       "      <th>param.input:a_float</th>\n",
       "    </tr>\n",
       "  </thead>\n",
       "  <tbody>\n",
       "    <tr>\n",
       "      <th>0</th>\n",
       "      <td>mlops-pipeline-io-parameter-multi-io</td>\n",
       "      <td>mlops-pipeline-io-parameter-multi-io-202405071...</td>\n",
       "      <td>[1.0, 2.0, 3.0]</td>\n",
       "      <td>test string</td>\n",
       "      <td>{'pipeline_run_component': {'parent_task_names...</td>\n",
       "      <td>[test string, 1, 1.2, True, {'key': 45}, [1, 2...</td>\n",
       "      <td>True</td>\n",
       "      <td>{'key': 45.0}</td>\n",
       "      <td>1.0</td>\n",
       "      <td>1.2</td>\n",
       "    </tr>\n",
       "    <tr>\n",
       "      <th>1</th>\n",
       "      <td>mlops-pipeline-io-parameter-multi-io</td>\n",
       "      <td>mlops-pipeline-io-parameter-multi-io-202405071...</td>\n",
       "      <td>[1.0, 2.0, 3.0]</td>\n",
       "      <td>test string</td>\n",
       "      <td>{'pipeline_run_component': {'project_id': 'sta...</td>\n",
       "      <td>NaN</td>\n",
       "      <td>True</td>\n",
       "      <td>{'key': 45.0}</td>\n",
       "      <td>1.0</td>\n",
       "      <td>1.2</td>\n",
       "    </tr>\n",
       "    <tr>\n",
       "      <th>2</th>\n",
       "      <td>mlops-pipeline-io-parameter-multi-io</td>\n",
       "      <td>mlops-pipeline-io-parameter-multi-io-202405071...</td>\n",
       "      <td>[1.0, 2.0, 3.0]</td>\n",
       "      <td>test string</td>\n",
       "      <td>{'pipeline_run_component': {'task_name': 'mlop...</td>\n",
       "      <td>NaN</td>\n",
       "      <td>True</td>\n",
       "      <td>{'key': 45.0}</td>\n",
       "      <td>1.0</td>\n",
       "      <td>1.2</td>\n",
       "    </tr>\n",
       "  </tbody>\n",
       "</table>\n",
       "</div>"
      ],
      "text/plain": [
       "                          pipeline_name  \\\n",
       "0  mlops-pipeline-io-parameter-multi-io   \n",
       "1  mlops-pipeline-io-parameter-multi-io   \n",
       "2  mlops-pipeline-io-parameter-multi-io   \n",
       "\n",
       "                                            run_name param.input:a_list  \\\n",
       "0  mlops-pipeline-io-parameter-multi-io-202405071...    [1.0, 2.0, 3.0]   \n",
       "1  mlops-pipeline-io-parameter-multi-io-202405071...    [1.0, 2.0, 3.0]   \n",
       "2  mlops-pipeline-io-parameter-multi-io-202405071...    [1.0, 2.0, 3.0]   \n",
       "\n",
       "  param.input:a_str                    param.vmlmd_lineage_integration  \\\n",
       "0       test string  {'pipeline_run_component': {'parent_task_names...   \n",
       "1       test string  {'pipeline_run_component': {'project_id': 'sta...   \n",
       "2       test string  {'pipeline_run_component': {'task_name': 'mlop...   \n",
       "\n",
       "                                 param.output:Output  param.input:a_bool  \\\n",
       "0  [test string, 1, 1.2, True, {'key': 45}, [1, 2...                True   \n",
       "1                                                NaN                True   \n",
       "2                                                NaN                True   \n",
       "\n",
       "  param.input:a_dict  param.input:a_int  param.input:a_float  \n",
       "0      {'key': 45.0}                1.0                  1.2  \n",
       "1      {'key': 45.0}                1.0                  1.2  \n",
       "2      {'key': 45.0}                1.0                  1.2  "
      ]
     },
     "execution_count": 191,
     "metadata": {},
     "output_type": "execute_result"
    }
   ],
   "source": [
    "aiplatform.get_pipeline_df(pipeline = f'{pipeline_name}')"
   ]
  },
  {
   "cell_type": "code",
   "execution_count": 192,
   "id": "501651c2-f303-4195-bcd2-68dfe7570797",
   "metadata": {
    "tags": []
   },
   "outputs": [],
   "source": [
    "tasks = {task.task_name: task for task in pipeline_job.task_details}"
   ]
  },
  {
   "cell_type": "code",
   "execution_count": 193,
   "id": "498e2be4-c003-4a93-9387-81335eeb616f",
   "metadata": {
    "tags": []
   },
   "outputs": [
    {
     "name": "stdout",
     "output_type": "stream",
     "text": [
      "multi-input State.SUCCEEDED\n",
      "multi-input-output State.SUCCEEDED\n",
      "mlops-pipeline-io-parameter-multi-io-20240507123009 State.SUCCEEDED\n"
     ]
    }
   ],
   "source": [
    "for task in tasks:\n",
    "  print(task, tasks[task].state)"
   ]
  },
  {
   "cell_type": "code",
   "execution_count": 196,
   "id": "3c3f1850-3324-4853-a7e3-f007543c0ca8",
   "metadata": {
    "tags": []
   },
   "outputs": [],
   "source": [
    "#tasks['multi-input-output']"
   ]
  },
  {
   "cell_type": "code",
   "execution_count": null,
   "id": "c02719a5-9b14-4355-ac5a-b395c428848d",
   "metadata": {},
   "outputs": [],
   "source": []
  },
  {
   "cell_type": "code",
   "execution_count": null,
   "id": "453632dd-750c-4b29-a508-7ab3eab1bbd3",
   "metadata": {},
   "outputs": [],
   "source": []
  },
  {
   "cell_type": "code",
   "execution_count": null,
   "id": "334a2e81-0b3d-4e3f-b191-253608c13154",
   "metadata": {},
   "outputs": [],
   "source": []
  },
  {
   "cell_type": "code",
   "execution_count": null,
   "id": "b461aa74-0526-47a5-8d2a-0537aef8e55f",
   "metadata": {},
   "outputs": [],
   "source": []
  },
  {
   "cell_type": "code",
   "execution_count": null,
   "id": "20303c29-2132-4d43-926c-38b78b6f42d6",
   "metadata": {},
   "outputs": [],
   "source": []
  },
  {
   "cell_type": "code",
   "execution_count": null,
   "id": "2f969fb9-d638-4f49-ae7d-5576b8602a9a",
   "metadata": {},
   "outputs": [],
   "source": []
  },
  {
   "cell_type": "markdown",
   "id": "b47d768a-af53-4f62-b221-8109c810f0bb",
   "metadata": {},
   "source": [
    "---\n",
    "## Artifacts: Vertex AI ML Metadata\n",
    "\n",
    "- https://cloud.google.com/vertex-ai/docs/pipelines/use-components#consume_or_produce_artifacts_in_your_component\n",
    "- https://cloud.google.com/vertex-ai/docs/pipelines/artifact-types"
   ]
  },
  {
   "cell_type": "code",
   "execution_count": null,
   "id": "5bd0f368-6403-4907-a8e5-cc1d632f61d6",
   "metadata": {},
   "outputs": [],
   "source": []
  },
  {
   "cell_type": "code",
   "execution_count": null,
   "id": "851b6cd3-b58e-4ede-b622-9175b6ba4b09",
   "metadata": {},
   "outputs": [],
   "source": []
  },
  {
   "cell_type": "code",
   "execution_count": null,
   "id": "3206b8f0-ac6c-4967-ae66-2cd952c2f8c3",
   "metadata": {},
   "outputs": [],
   "source": []
  },
  {
   "cell_type": "code",
   "execution_count": null,
   "id": "4fcce696-2158-48a8-9c25-11b70e1426b6",
   "metadata": {},
   "outputs": [],
   "source": []
  },
  {
   "cell_type": "code",
   "execution_count": null,
   "id": "c58effcc-bcdf-4a1b-8181-61769a21d85d",
   "metadata": {},
   "outputs": [],
   "source": []
  }
 ],
 "metadata": {
  "environment": {
   "kernel": "conda-root-py",
   "name": "workbench-notebooks.m119",
   "type": "gcloud",
   "uri": "us-docker.pkg.dev/deeplearning-platform-release/gcr.io/workbench-notebooks:m119"
  },
  "kernelspec": {
   "display_name": "Python 3 (ipykernel)",
   "language": "python",
   "name": "conda-root-py"
  },
  "language_info": {
   "codemirror_mode": {
    "name": "ipython",
    "version": 3
   },
   "file_extension": ".py",
   "mimetype": "text/x-python",
   "name": "python",
   "nbconvert_exporter": "python",
   "pygments_lexer": "ipython3",
   "version": "3.10.14"
  }
 },
 "nbformat": 4,
 "nbformat_minor": 5
}
