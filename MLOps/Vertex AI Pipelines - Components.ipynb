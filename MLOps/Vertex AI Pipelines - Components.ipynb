{
 "cells": [
  {
   "cell_type": "markdown",
   "id": "d299564b",
   "metadata": {},
   "source": [
    "![ga4](https://www.google-analytics.com/collect?v=2&tid=G-6VDTYWLKX6&cid=1&en=page_view&sid=1&dl=statmike%2Fvertex-ai-mlops%2FMLOps&dt=Vertex+AI+Pipelines+-+Components.ipynb)\n",
    "<!--- header table --->\n",
    "<table align=\"left\">\n",
    "  <td style=\"text-align: center\">\n",
    "    <a href=\"https://colab.research.google.com/github/statmike/vertex-ai-mlops/blob/main/MLOps/Vertex%20AI%20Pipelines%20-%20Components.ipynb\">\n",
    "      <img src=\"https://cloud.google.com/ml-engine/images/colab-logo-32px.png\" alt=\"Google Colaboratory logo\">\n",
    "      <br>Run in<br>Colab\n",
    "    </a>\n",
    "  </td>\n",
    "  <td style=\"text-align: center\">\n",
    "    <a href=\"https://console.cloud.google.com/vertex-ai/colab/import/https%3A//raw.githubusercontent.com/statmike/vertex-ai-mlops/main/MLOps/Vertex%20AI%20Pipelines%20-%20Components.ipynb\">\n",
    "      <img width=\"32px\" src=\"https://lh3.googleusercontent.com/JmcxdQi-qOpctIvWKgPtrzZdJJK-J3sWE1RsfjZNwshCFgE_9fULcNpuXYTilIR2hjwN\" alt=\"Google Cloud Colab Enterprise logo\">\n",
    "      <br>Run in<br>Colab Enterprise\n",
    "    </a>\n",
    "  </td>      \n",
    "  <td style=\"text-align: center\">\n",
    "    <a href=\"https://github.com/statmike/vertex-ai-mlops/blob/main/MLOps/Vertex%20AI%20Pipelines%20-%20Components.ipynb\">\n",
    "      <img src=\"https://cloud.google.com/ml-engine/images/github-logo-32px.png\" alt=\"GitHub logo\">\n",
    "      <br>View on<br>GitHub\n",
    "    </a>\n",
    "  </td>\n",
    "  <td style=\"text-align: center\">\n",
    "    <a href=\"https://console.cloud.google.com/vertex-ai/workbench/deploy-notebook?download_url=https%3A//raw.githubusercontent.com/statmike/vertex-ai-mlops/main/MLOps/Vertex%20AI%20Pipelines%20-%20Components.ipynb\">\n",
    "      <img src=\"https://lh3.googleusercontent.com/UiNooY4LUgW_oTvpsNhPpQzsstV5W8F7rYgxgGBD85cWJoLmrOzhVs_ksK_vgx40SHs7jCqkTkCk=e14-rj-sc0xffffff-h130-w32\" alt=\"Vertex AI logo\">\n",
    "      <br>Open in<br>Vertex AI Workbench\n",
    "    </a>\n",
    "  </td>\n",
    "</table>"
   ]
  },
  {
   "cell_type": "markdown",
   "id": "1929c5a0-5d97-4621-8868-671bc916c485",
   "metadata": {},
   "source": [
    "# Vertex AI Pipelines - Components \n",
    "\n",
    "[Vertex AI Pipelines](https://cloud.google.com/vertex-ai/docs/pipelines/introduction) is a serverless  runner for Kubeflow Pipelines [(KFP)](https://www.kubeflow.org/docs/components/pipelines/v2/introduction/) and the [TensorFlow Extended (TFX)](ttps://www.tensorflow.org/tfx/guide/understanding_tfx_pipelines) framework.\n",
    "\n",
    "Components are used to runs the steps of a pipelines.  A pipeline task runs the component with inputs and results in the components outputs.  The components runs code on compute with a container image.\n",
    "\n",
    "This notebook will focus on the different types of component construction:\n",
    "- [Pre-built Google Cloud Pipeline Components](https://cloud.google.com/vertex-ai/docs/pipelines/components-introduction)\n",
    "- [Custom KFP Components](https://www.kubeflow.org/docs/components/pipelines/v2/components/)\n",
    "    - Python Components:\n",
    "        - Lightweight Python Components\n",
    "        - Containerized Python Components\n",
    "    - Arbitrary Containers:\n",
    "        - Container Components\n",
    "    - Importer Components\n",
    "        - A provided importer for artifact created prior to the pipeline"
   ]
  },
  {
   "cell_type": "markdown",
   "id": "5d02fd35-3db1-4b73-a1b8-37c89f304645",
   "metadata": {
    "id": "od_UkDpvRmgD",
    "tags": []
   },
   "source": [
    "---\n",
    "## Colab Setup\n",
    "\n",
    "To run this notebook in Colab run the cells in this section.  Otherwise, skip this section.\n",
    "\n",
    "This cell will authenticate to GCP (follow prompts in the popup)."
   ]
  },
  {
   "cell_type": "code",
   "execution_count": 1,
   "id": "fc575cc2-c70e-47a6-921b-895899795f2d",
   "metadata": {
    "executionInfo": {
     "elapsed": 195,
     "status": "ok",
     "timestamp": 1683726184843,
     "user": {
      "displayName": "Mike Henderson",
      "userId": "07691629187611687318"
     },
     "user_tz": 240
    },
    "id": "8UO9FnqyKBlF",
    "tags": []
   },
   "outputs": [],
   "source": [
    "PROJECT_ID = 'statmike-mlops-349915' # replace with project ID"
   ]
  },
  {
   "cell_type": "code",
   "execution_count": 2,
   "id": "abbc374a-98b8-495a-a9e3-cc9609b5f9b2",
   "metadata": {
    "colab": {
     "base_uri": "https://localhost:8080/"
    },
    "executionInfo": {
     "elapsed": 68869,
     "status": "ok",
     "timestamp": 1683726253709,
     "user": {
      "displayName": "Mike Henderson",
      "userId": "07691629187611687318"
     },
     "user_tz": 240
    },
    "id": "N98-KK7LRkjm",
    "outputId": "09ec5008-0def-4e1a-c349-c598ee752f78",
    "tags": []
   },
   "outputs": [
    {
     "name": "stdout",
     "output_type": "stream",
     "text": [
      "Not a Colab Environment\n"
     ]
    }
   ],
   "source": [
    "try:\n",
    "    from google.colab import auth\n",
    "    auth.authenticate_user()\n",
    "    !gcloud config set project {PROJECT_ID}\n",
    "    print('Colab authorized to GCP')\n",
    "except Exception:\n",
    "    print('Not a Colab Environment')\n",
    "    pass"
   ]
  },
  {
   "cell_type": "markdown",
   "id": "ff344ce5-0d5d-45b5-83b9-977e858ef9ea",
   "metadata": {},
   "source": [
    "---\n",
    "## Installs\n",
    "\n",
    "The list `packages` contains tuples of package import names and install names.  If the import name is not found then the install name is used to install quitely for the current user."
   ]
  },
  {
   "cell_type": "code",
   "execution_count": 5,
   "id": "6f8458ef-b50a-41f4-a6f0-39c9c202f71b",
   "metadata": {
    "tags": []
   },
   "outputs": [],
   "source": [
    "# tuples of (import name, install name, min_version)\n",
    "packages = [\n",
    "    ('google.cloud.aiplatform', 'google-cloud-aiplatform'),\n",
    "    ('google.cloud.storage', 'google-cloud-storage'),\n",
    "    ('google.cloud.artifactregistry_v1', 'google-cloud-artifact-registry'),\n",
    "    ('kfp', 'kfp'),\n",
    "    ('google_cloud_pipeline_components', 'google-cloud-pipeline-components'),\n",
    "    ('docker', 'docker')\n",
    "]\n",
    "\n",
    "import importlib\n",
    "install = False\n",
    "for package in packages:\n",
    "    if not importlib.util.find_spec(package[0]):\n",
    "        print(f'installing package {package[1]}')\n",
    "        install = True\n",
    "        !pip install {package[1]} -U -q --user\n",
    "    elif len(package) == 3:\n",
    "        if importlib.metadata.version(package[0]) < package[2]:\n",
    "            print(f'updating package {package[1]}')\n",
    "            install = True\n",
    "            !pip install {package[1]} -U -q --user"
   ]
  },
  {
   "cell_type": "markdown",
   "id": "786142cf-32b6-4ac3-bbf4-4a58c04f297a",
   "metadata": {},
   "source": [
    "## API Enablement"
   ]
  },
  {
   "cell_type": "code",
   "execution_count": 6,
   "id": "699277a0-dd25-46ba-86f9-b99f17217cac",
   "metadata": {
    "tags": []
   },
   "outputs": [],
   "source": [
    "!gcloud services enable aiplatform.googleapis.com\n",
    "!gcloud services enable artifactregistry.googleapis.com"
   ]
  },
  {
   "cell_type": "markdown",
   "id": "b5f4d728-766d-49c1-bc25-3c85ede7ab02",
   "metadata": {},
   "source": [
    "### Restart Kernel (If Installs Occured)\n",
    "\n",
    "After a kernel restart the code submission can start with the next cell after this one."
   ]
  },
  {
   "cell_type": "code",
   "execution_count": 5,
   "id": "3af76386-9523-42f4-9ec2-a60f1baad867",
   "metadata": {
    "tags": []
   },
   "outputs": [],
   "source": [
    "if install:\n",
    "    import IPython\n",
    "    app = IPython.Application.instance()\n",
    "    app.kernel.do_shutdown(True)"
   ]
  },
  {
   "cell_type": "markdown",
   "id": "af26c69b-e6af-407a-ab7c-2416d6732d3b",
   "metadata": {
    "id": "appt8-yVRtJ1"
   },
   "source": [
    "---\n",
    "## Setup"
   ]
  },
  {
   "cell_type": "markdown",
   "id": "c5b76b7a-7e87-4413-845e-b8a632a76ad1",
   "metadata": {
    "id": "63mx2EozRxFP"
   },
   "source": [
    "Inputs"
   ]
  },
  {
   "cell_type": "code",
   "execution_count": 7,
   "id": "00588e3a-4f48-4e3c-bc94-6625dda5401a",
   "metadata": {
    "colab": {
     "base_uri": "https://localhost:8080/",
     "height": 35
    },
    "executionInfo": {
     "elapsed": 2124,
     "status": "ok",
     "timestamp": 1683726390544,
     "user": {
      "displayName": "Mike Henderson",
      "userId": "07691629187611687318"
     },
     "user_tz": 240
    },
    "id": "xzcoXjM5Rky5",
    "outputId": "b3bdcbc1-70d5-472e-aea2-42c74a42efde",
    "tags": []
   },
   "outputs": [
    {
     "data": {
      "text/plain": [
       "'statmike-mlops-349915'"
      ]
     },
     "execution_count": 7,
     "metadata": {},
     "output_type": "execute_result"
    }
   ],
   "source": [
    "project = !gcloud config get-value project\n",
    "PROJECT_ID = project[0]\n",
    "PROJECT_ID"
   ]
  },
  {
   "cell_type": "code",
   "execution_count": 8,
   "id": "1547b468-991b-4123-8ee9-b91037855450",
   "metadata": {
    "executionInfo": {
     "elapsed": 2,
     "status": "ok",
     "timestamp": 1683726390712,
     "user": {
      "displayName": "Mike Henderson",
      "userId": "07691629187611687318"
     },
     "user_tz": 240
    },
    "id": "IxWrFtqYMfku",
    "tags": []
   },
   "outputs": [],
   "source": [
    "REGION = 'us-central1'\n",
    "EXPERIMENT = 'pipeline-components'\n",
    "SERIES = 'mlops'\n",
    "\n",
    "# gcs bucket\n",
    "GCS_BUCKET = PROJECT_ID"
   ]
  },
  {
   "cell_type": "markdown",
   "id": "663ee568-7d4d-4f16-8ea9-015925765cac",
   "metadata": {
    "id": "LuajVwCiO6Yg"
   },
   "source": [
    "Packages"
   ]
  },
  {
   "cell_type": "code",
   "execution_count": 39,
   "id": "e1aa5728-0bf7-40d9-8e7c-6786c4b9bb26",
   "metadata": {
    "executionInfo": {
     "elapsed": 17761,
     "status": "ok",
     "timestamp": 1683726409304,
     "user": {
      "displayName": "Mike Henderson",
      "userId": "07691629187611687318"
     },
     "user_tz": 240
    },
    "id": "LVC7zzSLRk2C",
    "tags": []
   },
   "outputs": [],
   "source": [
    "import os\n",
    "import time\n",
    "from google.cloud import aiplatform\n",
    "from google.cloud import storage\n",
    "from google.cloud import artifactregistry_v1\n",
    "import kfp\n",
    "from typing import NamedTuple\n",
    "import docker"
   ]
  },
  {
   "cell_type": "markdown",
   "id": "6609a397-bfd4-422e-ac55-9218a5b80e30",
   "metadata": {
    "id": "EyAVFG9TO9H-"
   },
   "source": [
    "Clients"
   ]
  },
  {
   "cell_type": "code",
   "execution_count": 10,
   "id": "6067ea47-5acb-48da-ba36-1e5932b50e21",
   "metadata": {
    "executionInfo": {
     "elapsed": 19,
     "status": "ok",
     "timestamp": 1683726409306,
     "user": {
      "displayName": "Mike Henderson",
      "userId": "07691629187611687318"
     },
     "user_tz": 240
    },
    "id": "L0RPE13LOZce",
    "tags": []
   },
   "outputs": [],
   "source": [
    "# vertex ai clients\n",
    "aiplatform.init(project = PROJECT_ID, location = REGION)\n",
    "\n",
    "# gcs storage client\n",
    "gcs = storage.Client(project = PROJECT_ID)\n",
    "\n",
    "# artifact registry client\n",
    "ar_client = artifactregistry_v1.ArtifactRegistryClient()"
   ]
  },
  {
   "cell_type": "markdown",
   "id": "0aa2bc2f-b99f-4eba-97ec-0e3a807d5413",
   "metadata": {},
   "source": [
    "Docker Check:"
   ]
  },
  {
   "cell_type": "code",
   "execution_count": 18,
   "id": "2381797d-3a61-49cf-aeb1-7eb3eae5f6c7",
   "metadata": {
    "tags": []
   },
   "outputs": [
    {
     "name": "stdout",
     "output_type": "stream",
     "text": [
      "Docker is installed and running. Version: 20.10.17\n"
     ]
    }
   ],
   "source": [
    "docker_client = docker.from_env()\n",
    "\n",
    "if docker_client.ping():\n",
    "    print(f\"Docker is installed and running. Version: {docker_client.version()['Version']}\")\n",
    "else:\n",
    "    print('Docker is either not installed or not running - please fix before proceeding.')"
   ]
  },
  {
   "cell_type": "markdown",
   "id": "28b8c07f-c967-4913-a6cc-ff0e4e29e4c4",
   "metadata": {},
   "source": [
    "parameters:"
   ]
  },
  {
   "cell_type": "code",
   "execution_count": 19,
   "id": "1ef26020-b237-4360-9f1c-4182ee57c35a",
   "metadata": {
    "tags": []
   },
   "outputs": [],
   "source": [
    "DIR = f\"temp/{SERIES}-{EXPERIMENT}\""
   ]
  },
  {
   "cell_type": "code",
   "execution_count": 20,
   "id": "0eb47fe2-2b45-4e49-b1d1-06670fab07fe",
   "metadata": {
    "tags": []
   },
   "outputs": [
    {
     "data": {
      "text/plain": [
       "'1026793852137-compute@developer.gserviceaccount.com'"
      ]
     },
     "execution_count": 20,
     "metadata": {},
     "output_type": "execute_result"
    }
   ],
   "source": [
    "SERVICE_ACCOUNT = !gcloud config list --format='value(core.account)' \n",
    "SERVICE_ACCOUNT = SERVICE_ACCOUNT[0]\n",
    "SERVICE_ACCOUNT"
   ]
  },
  {
   "cell_type": "markdown",
   "id": "d1b9736b-dda0-4415-9280-e099677ef90f",
   "metadata": {},
   "source": [
    "environment:"
   ]
  },
  {
   "cell_type": "code",
   "execution_count": 13,
   "id": "d4630938-bac8-426a-8b3e-56aeac49aba2",
   "metadata": {
    "tags": []
   },
   "outputs": [],
   "source": [
    "if not os.path.exists(DIR):\n",
    "    os.makedirs(DIR)"
   ]
  },
  {
   "cell_type": "markdown",
   "id": "f913cf78-472c-43d4-afec-8dd397a37837",
   "metadata": {},
   "source": [
    "---\n",
    "## Components"
   ]
  },
  {
   "cell_type": "code",
   "execution_count": 74,
   "id": "c24a367f-2982-4683-b28c-cb54b2e36c8a",
   "metadata": {
    "tags": []
   },
   "outputs": [],
   "source": [
    "from google_cloud_pipeline_components.v1.model import ModelGetOp\n",
    "from google_cloud_pipeline_components.types import artifact_types"
   ]
  },
  {
   "cell_type": "markdown",
   "id": "c198e4ba-bd12-4344-b7e6-3f6ceb3ecb14",
   "metadata": {
    "tags": []
   },
   "source": [
    "### Prebuilt Google Cloud Pipeline Components\n",
    "\n",
    "Google Cloud provides a growing list of components covering AutoML, Batch Prediction, BigQuery Ml, .... and MANY more services!  \n",
    "\n",
    "The benefits of a prebuilt components include:\n",
    "- simple debugging\n",
    "- standarized artifact types that are tracked with Vertex AI ML Metadata.  Ths makes lineage easy!\n",
    "- These don't have to launch a container to then launch a service - which is more cost effective!\n",
    "\n",
    "These can be reviewed several ways:\n",
    "- Directly in the documentation: [Google Cloud Pipeline Components List](https://cloud.google.com/vertex-ai/docs/pipelines/gcpc-list)\n",
    "- At their accompanying [API Reference](https://google-cloud-pipeline-components.readthedocs.io/en/google-cloud-pipeline-components-2.10.0/api/index.html)\n",
    "- At their source in the GitHub repository for kubeflow pipeliens: [GitHub/kubeflow/pipelines/components/google-cloud](https://github.com/kubeflow/pipelines/tree/master/components/google-cloud)\n",
    "\n",
    "These prebuilt component also include prebuilt artifact types for Google Cloud Resources:\n",
    "- [Google Cloud Artifact Types](https://google-cloud-pipeline-components.readthedocs.io/en/google-cloud-pipeline-components-2.10.0/api/artifact_types.html)\n",
    "\n",
    "Here, the `ModelGetOp` component is used to retrieve an artifact for a model in the Vertex AI Model Registry.\n",
    "\n",
    "```python\n",
    "from google_cloud_pipeline_components.v1.model import ModelGetOp\n",
    "\n",
    "    vertex_model_1 = ModelGetOp(\n",
    "        model_name = model_name.outputs['model_name'],\n",
    "        project = project,\n",
    "        location = region\n",
    "    ).set_display_name('Prebuilt Component')\n",
    "```"
   ]
  },
  {
   "cell_type": "markdown",
   "id": "fbac2f5a-f4bb-4259-a3e6-1d60e561d0c9",
   "metadata": {},
   "source": [
    "### Lightweight Python Components\n",
    "\n",
    "A simple way to create a component from a Python function.  This will create the container a the runtime of taks from the `base_image` and install the `packages_to_innstall`.\n",
    "\n",
    "References:\n",
    "- [Lightweight Python Components](https://www.kubeflow.org/docs/components/pipelines/v2/components/lightweight-python-components/)\n",
    "\n",
    "Here, a simple function will using the Vertex AI SDK to retrieve a list of all models and pass the the versioned resource name of the first one as an ouput."
   ]
  },
  {
   "cell_type": "code",
   "execution_count": 64,
   "id": "b4ee1f66-6b2a-4844-ba52-651522e35ac9",
   "metadata": {
    "tags": []
   },
   "outputs": [],
   "source": [
    "@kfp.dsl.component(\n",
    "    base_image = 'python:3.10',\n",
    "    packages_to_install = ['google-cloud-aiplatform']\n",
    ")\n",
    "def example_lightweight(\n",
    "    project: str,\n",
    "    region: str\n",
    ") -> NamedTuple('lightweight_outputs', model_name = str, model_resource_name = str, uri = str):\n",
    "    \n",
    "    # vertex ai client\n",
    "    from google.cloud import aiplatform\n",
    "    aiplatform.init(project = project, location = region)\n",
    "    \n",
    "    # list models in region\n",
    "    models = aiplatform.Model.list()\n",
    "    \n",
    "    outputs = NamedTuple('lightweight_outputs', model_name = str, model_resource_name = str, uri = str)\n",
    "    \n",
    "    return outputs(\n",
    "        models[0].versioned_resource_name.split('/')[-1],\n",
    "        models[0].versioned_resource_name,\n",
    "        f\"https://{region}-aiplatform.googleapis.com/v1/{models[0].versioned_resource_name}\"\n",
    "    )"
   ]
  },
  {
   "cell_type": "markdown",
   "id": "b7ed62d0-eef2-4f92-b620-002f3d091c74",
   "metadata": {},
   "source": [
    "### Containerized Python Components\n",
    "\n",
    "This extends the idea of the lightweight Python components.  This will actually build the container for the compoent and install the `packages_to_install` so that they are already installed at the time it runs."
   ]
  },
  {
   "cell_type": "code",
   "execution_count": null,
   "id": "2319abee-dbe8-4c5c-b9e9-bc4723335686",
   "metadata": {},
   "outputs": [],
   "source": []
  },
  {
   "cell_type": "markdown",
   "id": "9b106fbf-76ae-41b4-8dce-10a6555983e8",
   "metadata": {},
   "source": [
    "### Container Components\n",
    "\n",
    "Any container can be a component with [Container Components](https://www.kubeflow.org/docs/components/pipelines/v2/components/container-components/).  \n",
    "\n",
    "This looks a lot like a lightweight Python component but it orchestrates the running of the specified container image with inputs and ouputs.\n",
    "\n",
    "The example below takes the [alpine docker image](https://hub.docker.com/_/alpine) and runs a simple command that take the `model_resource_name` of an artifact created by the Importer Components (below) and print it out as part of a string which is returned as an output.  "
   ]
  },
  {
   "cell_type": "code",
   "execution_count": 76,
   "id": "49332e7c-d65b-4c64-8b18-738d6a0642be",
   "metadata": {
    "tags": []
   },
   "outputs": [],
   "source": [
    "@kfp.dsl.container_component\n",
    "def example_container(\n",
    "    vertex_model_a: kfp.dsl.Input[artifact_types.VertexModel],\n",
    "    note: kfp.dsl.OutputPath(str)\n",
    "):\n",
    "    return kfp.dsl.ContainerSpec(\n",
    "        image = 'alpine',\n",
    "        command = [\n",
    "            'sh', '-c', '''RESPONSE=\"The Model is: $0!\"\\\n",
    "                            && echo $RESPONSE\\\n",
    "                            && mkdir -p $(dirname $1)\\\n",
    "                            && echo $RESPONSE > $1\n",
    "                            '''\n",
    "        ],\n",
    "        args = [vertex_model_a.metadata['model_resource_name'], note]\n",
    "    )"
   ]
  },
  {
   "cell_type": "markdown",
   "id": "0daebbcf-d108-4c96-b476-41e63bcd5aff",
   "metadata": {},
   "source": [
    "### Importer Components\n",
    "\n",
    "Sometime the artifact that is need is created before the pipeline.  The `dsl.importer` component is a quick way to import the artifact. [More on the Importer Component](https://www.kubeflow.org/docs/components/pipelines/v2/components/importer-component/).\n",
    "\n",
    "While the `dsl.importer` component can be used to import [generic artifacts](https://www.kubeflow.org/docs/components/pipelines/v2/data-types/artifacts/) it can also be used to import predefined [Google Cloud Artifact Types](https://google-cloud-pipeline-components.readthedocs.io/en/google-cloud-pipeline-components-2.10.0/api/artifact_types.html) as shown in the Vertex AI documentation page for [Create an ML artifact](https://cloud.google.com/vertex-ai/docs/pipelines/use-components#use_an_importer_node).\n",
    "\n",
    "Here, the `dsl.importer` component is used to load a model in the Vertex AI Model Registry.\n",
    "\n",
    "```python\n",
    "vertex_model_2 = kfp.dsl.importer(\n",
    "        artifact_uri = model_name.outputs['uri'],\n",
    "        artifact_class = artifact_types.VertexModel,\n",
    "        metadata = {'model_resource_name': model_name.outputs['model_resource_name']}\n",
    "    )\n",
    "```"
   ]
  },
  {
   "cell_type": "markdown",
   "id": "7cb3ad5e-534b-4a81-bb89-59dcb1266ae3",
   "metadata": {},
   "source": [
    "---\n",
    "## Vertex AI Pipelines\n",
    "\n",
    "- [Vertex AI Python SDK for Pipeline Jobs](https://cloud.google.com/python/docs/reference/aiplatform/latest/google.cloud.aiplatform.PipelineJob)\n",
    "- [Specify machine configurations for a component](https://cloud.google.com/vertex-ai/docs/pipelines/machine-types)"
   ]
  },
  {
   "cell_type": "markdown",
   "id": "1afd1394-8827-4323-8b79-7ce564e4c1d4",
   "metadata": {},
   "source": [
    "### Create Pipeline"
   ]
  },
  {
   "cell_type": "code",
   "execution_count": 77,
   "id": "7e6f2597-c548-4b6c-96a6-949c7a21f5d4",
   "metadata": {
    "tags": []
   },
   "outputs": [],
   "source": [
    "@kfp.dsl.pipeline(\n",
    "    name = f'{SERIES}-{EXPERIMENT}',\n",
    "    description = 'A simple pipeline for testing',\n",
    "    pipeline_root = f'gs://{GCS_BUCKET}/{SERIES}/{EXPERIMENT}/pipeline_root'\n",
    ")\n",
    "def example_pipeline(\n",
    "    project: str,\n",
    "    region: str,\n",
    "    \n",
    "):\n",
    "    from google_cloud_pipeline_components.types import artifact_types\n",
    "    from google_cloud_pipeline_components.v1.model import ModelGetOp\n",
    "    \n",
    "    # Lightweight Python Components\n",
    "    model_name = example_lightweight(\n",
    "        project = project,\n",
    "        region = region\n",
    "    ).set_display_name('Lightweight Python Component').set_cpu_limit('1')\n",
    "    \n",
    "    # prebuilt Google Cloud Pipeline Component\n",
    "    vertex_model_1 = ModelGetOp(\n",
    "        model_name = model_name.outputs['model_name'],\n",
    "        project = project,\n",
    "        location = region\n",
    "    ).set_display_name('Prebuilt Component')\n",
    "    \n",
    "    # importer component\n",
    "    vertex_model_2 = kfp.dsl.importer(\n",
    "        artifact_uri = model_name.outputs['uri'],\n",
    "        artifact_class = artifact_types.VertexModel,\n",
    "        metadata = {'model_resource_name': model_name.outputs['model_resource_name']}\n",
    "    ).set_display_name('Importer Component')\n",
    "    \n",
    "    # container component\n",
    "    container = example_container(\n",
    "        vertex_model_a = vertex_model_2.outputs['artifact']\n",
    "    )\n",
    "    "
   ]
  },
  {
   "cell_type": "markdown",
   "id": "6cddd264-0a05-4574-910d-4c7c0182ca58",
   "metadata": {},
   "source": [
    "### Compile Pipeline"
   ]
  },
  {
   "cell_type": "code",
   "execution_count": 78,
   "id": "ac0047df-74ed-4c73-9d10-730eb17537c4",
   "metadata": {
    "tags": []
   },
   "outputs": [],
   "source": [
    "kfp.compiler.Compiler().compile(\n",
    "    pipeline_func = example_pipeline,\n",
    "    package_path = f'{DIR}/{SERIES}-{EXPERIMENT}.yaml'\n",
    ")"
   ]
  },
  {
   "cell_type": "markdown",
   "id": "cd2f9526-fc26-4f8e-97dc-051f8f6438e7",
   "metadata": {},
   "source": [
    "### Create Pipeline Job"
   ]
  },
  {
   "cell_type": "code",
   "execution_count": 79,
   "id": "3eb4828f-03bf-409e-a991-784fba1572ab",
   "metadata": {
    "tags": []
   },
   "outputs": [],
   "source": [
    "parameters = dict(\n",
    "    project = PROJECT_ID,\n",
    "    region = REGION,\n",
    ")"
   ]
  },
  {
   "cell_type": "code",
   "execution_count": 80,
   "id": "a47f8ca7-55a0-4f7e-ab2d-39248c108d27",
   "metadata": {
    "tags": []
   },
   "outputs": [],
   "source": [
    "pipeline_job = aiplatform.PipelineJob(\n",
    "    display_name = f\"{SERIES}-{EXPERIMENT}\",\n",
    "    template_path = f\"{DIR}/{SERIES}-{EXPERIMENT}.yaml\",\n",
    "    parameter_values = parameters,\n",
    "    pipeline_root = f'gs://{GCS_BUCKET}/{SERIES}/{EXPERIMENT}/pipeline_root',\n",
    "    enable_caching = None # True (enabled), False (disable), None (defer to component level caching) \n",
    ")"
   ]
  },
  {
   "cell_type": "markdown",
   "id": "26c5a9cd-954b-41c4-8fee-448a4bf1e4d5",
   "metadata": {},
   "source": [
    "### Submit Pipeline Job"
   ]
  },
  {
   "cell_type": "code",
   "execution_count": 81,
   "id": "605953d8-86b5-463a-b1eb-256d31b8acbe",
   "metadata": {
    "tags": []
   },
   "outputs": [
    {
     "name": "stdout",
     "output_type": "stream",
     "text": [
      "Creating PipelineJob\n",
      "PipelineJob created. Resource name: projects/1026793852137/locations/us-central1/pipelineJobs/mlops-pipeline-components-20240316211748\n",
      "To use this PipelineJob in another session:\n",
      "pipeline_job = aiplatform.PipelineJob.get('projects/1026793852137/locations/us-central1/pipelineJobs/mlops-pipeline-components-20240316211748')\n",
      "View Pipeline Job:\n",
      "https://console.cloud.google.com/vertex-ai/locations/us-central1/pipelines/runs/mlops-pipeline-components-20240316211748?project=1026793852137\n"
     ]
    }
   ],
   "source": [
    "response = pipeline_job.submit(\n",
    "    service_account = SERVICE_ACCOUNT\n",
    ")"
   ]
  },
  {
   "cell_type": "code",
   "execution_count": 82,
   "id": "5e4cd403-99ae-4b02-9416-547decff7dd8",
   "metadata": {
    "tags": []
   },
   "outputs": [
    {
     "name": "stdout",
     "output_type": "stream",
     "text": [
      "The Dashboard can be viewed here:\n",
      "https://console.cloud.google.com/vertex-ai/locations/us-central1/pipelines/runs/mlops-pipeline-components-20240316211748?project=1026793852137\n"
     ]
    }
   ],
   "source": [
    "print(f'The Dashboard can be viewed here:\\n{pipeline_job._dashboard_uri()}')"
   ]
  },
  {
   "cell_type": "code",
   "execution_count": 83,
   "id": "dea6308f-9dd2-4e75-9647-71efe4ea8f4b",
   "metadata": {
    "tags": []
   },
   "outputs": [
    {
     "name": "stdout",
     "output_type": "stream",
     "text": [
      "PipelineJob projects/1026793852137/locations/us-central1/pipelineJobs/mlops-pipeline-components-20240316211748 current state:\n",
      "PipelineState.PIPELINE_STATE_RUNNING\n",
      "PipelineJob projects/1026793852137/locations/us-central1/pipelineJobs/mlops-pipeline-components-20240316211748 current state:\n",
      "PipelineState.PIPELINE_STATE_RUNNING\n",
      "PipelineJob run completed. Resource name: projects/1026793852137/locations/us-central1/pipelineJobs/mlops-pipeline-components-20240316211748\n"
     ]
    }
   ],
   "source": [
    "pipeline_job.wait()"
   ]
  },
  {
   "cell_type": "markdown",
   "id": "6497813c-c5c7-4eea-9c1d-fcb780a0ad1d",
   "metadata": {},
   "source": [
    "### Retrieve Pipeline Information"
   ]
  },
  {
   "cell_type": "code",
   "execution_count": null,
   "id": "a01068ac-e0c5-4d4b-9678-e58d49d247e0",
   "metadata": {
    "tags": []
   },
   "outputs": [],
   "source": [
    "aiplatform.get_pipeline_df(pipeline = f'{SERIES}-{EXPERIMENT}')"
   ]
  },
  {
   "cell_type": "code",
   "execution_count": null,
   "id": "8d18fda1-f4d9-4eeb-ae29-33f57eecaf99",
   "metadata": {
    "tags": []
   },
   "outputs": [],
   "source": [
    "tasks = {task.task_name: task for task in pipeline_job.task_details}"
   ]
  },
  {
   "cell_type": "code",
   "execution_count": null,
   "id": "0fcd75fc-819a-4722-a2bc-542790b0425f",
   "metadata": {
    "tags": []
   },
   "outputs": [],
   "source": [
    "for task in tasks:\n",
    "  print(task, tasks[task].state)"
   ]
  },
  {
   "cell_type": "code",
   "execution_count": null,
   "id": "d16c678c-7339-4454-828b-1ce05c003027",
   "metadata": {
    "tags": []
   },
   "outputs": [],
   "source": [
    "for task in tasks:\n",
    "    print(task)"
   ]
  },
  {
   "cell_type": "code",
   "execution_count": 45,
   "id": "14f23660-63fa-482a-8406-2ad0f6ebf4f6",
   "metadata": {
    "tags": []
   },
   "outputs": [
    {
     "data": {
      "text/plain": [
       "task_id: 6698494285479673856\n",
       "task_name: \"example-number\"\n",
       "create_time {\n",
       "  seconds: 1709846982\n",
       "  nanos: 866863000\n",
       "}\n",
       "start_time {\n",
       "  seconds: 1709846983\n",
       "  nanos: 483675000\n",
       "}\n",
       "end_time {\n",
       "  seconds: 1709847085\n",
       "  nanos: 815256000\n",
       "}\n",
       "executor_detail {\n",
       "  container_detail {\n",
       "    main_job: \"projects/1026793852137/locations/us-central1/customJobs/2970989201182425088\"\n",
       "  }\n",
       "}\n",
       "state: SUCCEEDED\n",
       "execution {\n",
       "  name: \"projects/1026793852137/locations/us-central1/metadataStores/default/executions/17843432237847752265\"\n",
       "  display_name: \"example-number\"\n",
       "  state: COMPLETE\n",
       "  etag: \"1709847085771\"\n",
       "  create_time {\n",
       "    seconds: 1709846983\n",
       "    nanos: 143000000\n",
       "  }\n",
       "  update_time {\n",
       "    seconds: 1709847085\n",
       "    nanos: 771000000\n",
       "  }\n",
       "  schema_title: \"system.ContainerExecution\"\n",
       "  schema_version: \"0.0.1\"\n",
       "  metadata {\n",
       "    fields {\n",
       "      key: \"input:number\"\n",
       "      value {\n",
       "        number_value: 34.2\n",
       "      }\n",
       "    }\n",
       "    fields {\n",
       "      key: \"output:Output\"\n",
       "      value {\n",
       "        number_value: 44.2\n",
       "      }\n",
       "    }\n",
       "    fields {\n",
       "      key: \"vmlmd_lineage_integration\"\n",
       "      value {\n",
       "        struct_value {\n",
       "          fields {\n",
       "            key: \"pipeline_run_component\"\n",
       "            value {\n",
       "              struct_value {\n",
       "                fields {\n",
       "                  key: \"location_id\"\n",
       "                  value {\n",
       "                    string_value: \"us-central1\"\n",
       "                  }\n",
       "                }\n",
       "                fields {\n",
       "                  key: \"parent_task_names\"\n",
       "                  value {\n",
       "                    list_value {\n",
       "                      values {\n",
       "                        string_value: \"dev-vertex-pipelines-20240307212937\"\n",
       "                      }\n",
       "                    }\n",
       "                  }\n",
       "                }\n",
       "                fields {\n",
       "                  key: \"pipeline_run_id\"\n",
       "                  value {\n",
       "                    string_value: \"dev-vertex-pipelines-20240307212937\"\n",
       "                  }\n",
       "                }\n",
       "                fields {\n",
       "                  key: \"project_id\"\n",
       "                  value {\n",
       "                    string_value: \"statmike-mlops-349915\"\n",
       "                  }\n",
       "                }\n",
       "                fields {\n",
       "                  key: \"task_name\"\n",
       "                  value {\n",
       "                    string_value: \"example-number\"\n",
       "                  }\n",
       "                }\n",
       "              }\n",
       "            }\n",
       "          }\n",
       "        }\n",
       "      }\n",
       "    }\n",
       "  }\n",
       "}\n",
       "parent_task_id: -68164154644496384\n",
       "pipeline_task_status {\n",
       "  update_time {\n",
       "    seconds: 1709847085\n",
       "    nanos: 648565604\n",
       "  }\n",
       "  state: SUCCEEDED\n",
       "}"
      ]
     },
     "execution_count": 45,
     "metadata": {},
     "output_type": "execute_result"
    }
   ],
   "source": [
    "tasks['example-number']"
   ]
  },
  {
   "cell_type": "markdown",
   "id": "a5256b48-d92b-4f0f-8ef1-4c151a1110ff",
   "metadata": {},
   "source": [
    "---\n",
    "## More!\n",
    "\n",
    "Want to schedule a pipeline like this? Check out this workflow:\n",
    "- [Vertex AI Pipelines - Scheduling](./Vertex%20AI%20Pipelines%20-%20Scheduling.ipynb)"
   ]
  },
  {
   "cell_type": "code",
   "execution_count": null,
   "id": "fc1cd126-ab67-49db-9c6d-da673d7373d1",
   "metadata": {},
   "outputs": [],
   "source": []
  }
 ],
 "metadata": {
  "environment": {
   "kernel": "conda-root-py",
   "name": "workbench-notebooks.m115",
   "type": "gcloud",
   "uri": "gcr.io/deeplearning-platform-release/workbench-notebooks:m115"
  },
  "kernelspec": {
   "display_name": "Python 3 (ipykernel)",
   "language": "python",
   "name": "conda-root-py"
  },
  "language_info": {
   "codemirror_mode": {
    "name": "ipython",
    "version": 3
   },
   "file_extension": ".py",
   "mimetype": "text/x-python",
   "name": "python",
   "nbconvert_exporter": "python",
   "pygments_lexer": "ipython3",
   "version": "3.10.13"
  }
 },
 "nbformat": 4,
 "nbformat_minor": 5
}
