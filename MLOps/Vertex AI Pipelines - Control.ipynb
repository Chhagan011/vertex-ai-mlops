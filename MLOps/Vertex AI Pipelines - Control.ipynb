{
 "cells": [
  {
   "cell_type": "markdown",
   "id": "09062082",
   "metadata": {},
   "source": [
    "![tracker](https://us-central1-statmike-mlops-349915.cloudfunctions.net/tracking-pixel?path=statmike%2Fvertex-ai-mlops%2FMLOps&file=Vertex+AI+Pipelines+-+Control.ipynb)\n",
    "<!--- header table --->\n",
    "<table align=\"left\">\n",
    "  <td style=\"text-align: center\">\n",
    "    <a href=\"https://colab.research.google.com/github/statmike/vertex-ai-mlops/blob/main/MLOps/Vertex%20AI%20Pipelines%20-%20Control.ipynb\">\n",
    "      <img src=\"https://cloud.google.com/ml-engine/images/colab-logo-32px.png\" alt=\"Google Colaboratory logo\">\n",
    "      <br>Run in<br>Colab\n",
    "    </a>\n",
    "  </td>\n",
    "  <td style=\"text-align: center\">\n",
    "    <a href=\"https://console.cloud.google.com/vertex-ai/colab/import/https%3A//raw.githubusercontent.com/statmike/vertex-ai-mlops/main/MLOps/Vertex%20AI%20Pipelines%20-%20Control.ipynb\">\n",
    "      <img width=\"32px\" src=\"https://lh3.googleusercontent.com/JmcxdQi-qOpctIvWKgPtrzZdJJK-J3sWE1RsfjZNwshCFgE_9fULcNpuXYTilIR2hjwN\" alt=\"Google Cloud Colab Enterprise logo\">\n",
    "      <br>Run in<br>Colab Enterprise\n",
    "    </a>\n",
    "  </td>      \n",
    "  <td style=\"text-align: center\">\n",
    "    <a href=\"https://github.com/statmike/vertex-ai-mlops/blob/main/MLOps/Vertex%20AI%20Pipelines%20-%20Control.ipynb\">\n",
    "      <img src=\"https://cloud.google.com/ml-engine/images/github-logo-32px.png\" alt=\"GitHub logo\">\n",
    "      <br>View on<br>GitHub\n",
    "    </a>\n",
    "  </td>\n",
    "  <td style=\"text-align: center\">\n",
    "    <a href=\"https://console.cloud.google.com/vertex-ai/workbench/deploy-notebook?download_url=https%3A//raw.githubusercontent.com/statmike/vertex-ai-mlops/main/MLOps/Vertex%20AI%20Pipelines%20-%20Control.ipynb\">\n",
    "      <img src=\"https://lh3.googleusercontent.com/UiNooY4LUgW_oTvpsNhPpQzsstV5W8F7rYgxgGBD85cWJoLmrOzhVs_ksK_vgx40SHs7jCqkTkCk=e14-rj-sc0xffffff-h130-w32\" alt=\"Vertex AI logo\">\n",
    "      <br>Open in<br>Vertex AI Workbench\n",
    "    </a>\n",
    "  </td>\n",
    "</table>"
   ]
  },
  {
   "cell_type": "markdown",
   "id": "56e4bfa2-f871-4a91-84a0-c1e4630e4436",
   "metadata": {},
   "source": [
    "# Vertex AI Pipelines - Control \n",
    "\n",
    "[Vertex AI Pipelines](https://cloud.google.com/vertex-ai/docs/pipelines/introduction) is a serverless  runner for Kubeflow Pipelines [(KFP)](https://www.kubeflow.org/docs/components/pipelines/v2/introduction/) and the [TensorFlow Extended (TFX)](ttps://www.tensorflow.org/tfx/guide/understanding_tfx_pipelines) framework.\n",
    "\n",
    "Components are used to runs the steps of a pipelines.  A pipeline task runs the component with inputs and results in the components outputs.  The components execute code on compute with a container image.\n",
    "\n",
    "This notebook will focus on controlling the flow of task exectuion within a pipeline:\n",
    "- Order\n",
    "- Conditional Execution: if, elif (else if), and else\n",
    "- Looping\n",
    "- Exit Handling"
   ]
  },
  {
   "cell_type": "markdown",
   "id": "412d7790-dbbf-4d9d-9291-d09d0d826778",
   "metadata": {
    "id": "od_UkDpvRmgD",
    "tags": []
   },
   "source": [
    "---\n",
    "## Colab Setup\n",
    "\n",
    "To run this notebook in Colab run the cells in this section.  Otherwise, skip this section.\n",
    "\n",
    "This cell will authenticate to GCP (follow prompts in the popup)."
   ]
  },
  {
   "cell_type": "code",
   "execution_count": 2,
   "id": "1e767408-69f7-45b3-b6e5-da105c4b2519",
   "metadata": {
    "executionInfo": {
     "elapsed": 195,
     "status": "ok",
     "timestamp": 1683726184843,
     "user": {
      "displayName": "Mike Henderson",
      "userId": "07691629187611687318"
     },
     "user_tz": 240
    },
    "id": "8UO9FnqyKBlF",
    "tags": []
   },
   "outputs": [],
   "source": [
    "PROJECT_ID = 'statmike-mlops-349915' # replace with project ID"
   ]
  },
  {
   "cell_type": "code",
   "execution_count": 3,
   "id": "1e75c429-7a0e-48d7-aa78-64d82a73a864",
   "metadata": {
    "colab": {
     "base_uri": "https://localhost:8080/"
    },
    "executionInfo": {
     "elapsed": 68869,
     "status": "ok",
     "timestamp": 1683726253709,
     "user": {
      "displayName": "Mike Henderson",
      "userId": "07691629187611687318"
     },
     "user_tz": 240
    },
    "id": "N98-KK7LRkjm",
    "outputId": "09ec5008-0def-4e1a-c349-c598ee752f78",
    "tags": []
   },
   "outputs": [
    {
     "name": "stdout",
     "output_type": "stream",
     "text": [
      "Not a Colab Environment\n"
     ]
    }
   ],
   "source": [
    "try:\n",
    "    from google.colab import auth\n",
    "    auth.authenticate_user()\n",
    "    !gcloud config set project {PROJECT_ID}\n",
    "    print('Colab authorized to GCP')\n",
    "except Exception:\n",
    "    print('Not a Colab Environment')\n",
    "    pass"
   ]
  },
  {
   "cell_type": "markdown",
   "id": "eb5249b0-69ab-470f-8c02-5d277cefe1fa",
   "metadata": {},
   "source": [
    "---\n",
    "## Installs\n",
    "\n",
    "The list `packages` contains tuples of package import names and install names.  If the import name is not found then the install name is used to install quitely for the current user."
   ]
  },
  {
   "cell_type": "code",
   "execution_count": 4,
   "id": "0c58f135-2b70-4814-b8e2-4ef3ca37fab5",
   "metadata": {
    "tags": []
   },
   "outputs": [],
   "source": [
    "# tuples of (import name, install name, min_version)\n",
    "packages = [\n",
    "    ('google.cloud.aiplatform', 'google-cloud-aiplatform'),\n",
    "    ('kfp', 'kfp')\n",
    "]\n",
    "\n",
    "import importlib\n",
    "install = False\n",
    "for package in packages:\n",
    "    if not importlib.util.find_spec(package[0]):\n",
    "        print(f'installing package {package[1]}')\n",
    "        install = True\n",
    "        !pip install {package[1]} -U -q --user\n",
    "    elif len(package) == 3:\n",
    "        if importlib.metadata.version(package[0]) < package[2]:\n",
    "            print(f'updating package {package[1]}')\n",
    "            install = True\n",
    "            !pip install {package[1]} -U -q --user"
   ]
  },
  {
   "cell_type": "markdown",
   "id": "b3d1fb44-5f69-40a7-b627-0374c6db6eb4",
   "metadata": {},
   "source": [
    "## API Enablement"
   ]
  },
  {
   "cell_type": "code",
   "execution_count": 5,
   "id": "4e1f5860-3efc-4632-b4c0-ba5b262dec12",
   "metadata": {
    "tags": []
   },
   "outputs": [],
   "source": [
    "!gcloud services enable aiplatform.googleapis.com"
   ]
  },
  {
   "cell_type": "markdown",
   "id": "ec9e5ca2-6d31-4b73-8db2-ac75b7670be4",
   "metadata": {},
   "source": [
    "### Restart Kernel (If Installs Occured)\n",
    "\n",
    "After a kernel restart the code submission can start with the next cell after this one."
   ]
  },
  {
   "cell_type": "code",
   "execution_count": 6,
   "id": "ecee10aa-99b0-4daa-8fb2-38e5646af9ca",
   "metadata": {
    "tags": []
   },
   "outputs": [],
   "source": [
    "if install:\n",
    "    import IPython\n",
    "    app = IPython.Application.instance()\n",
    "    app.kernel.do_shutdown(True)"
   ]
  },
  {
   "cell_type": "markdown",
   "id": "fe566058-b390-484e-980b-d03640d02e77",
   "metadata": {
    "id": "appt8-yVRtJ1"
   },
   "source": [
    "---\n",
    "## Setup"
   ]
  },
  {
   "cell_type": "markdown",
   "id": "70d7364b-699b-4c26-a617-0dbbd9e4c51d",
   "metadata": {
    "id": "63mx2EozRxFP"
   },
   "source": [
    "Inputs"
   ]
  },
  {
   "cell_type": "code",
   "execution_count": 7,
   "id": "e3553bc6-67f5-44bb-a16c-9f43cee51546",
   "metadata": {
    "colab": {
     "base_uri": "https://localhost:8080/",
     "height": 35
    },
    "executionInfo": {
     "elapsed": 2124,
     "status": "ok",
     "timestamp": 1683726390544,
     "user": {
      "displayName": "Mike Henderson",
      "userId": "07691629187611687318"
     },
     "user_tz": 240
    },
    "id": "xzcoXjM5Rky5",
    "outputId": "b3bdcbc1-70d5-472e-aea2-42c74a42efde",
    "tags": []
   },
   "outputs": [
    {
     "data": {
      "text/plain": [
       "'statmike-mlops-349915'"
      ]
     },
     "execution_count": 7,
     "metadata": {},
     "output_type": "execute_result"
    }
   ],
   "source": [
    "project = !gcloud config get-value project\n",
    "PROJECT_ID = project[0]\n",
    "PROJECT_ID"
   ]
  },
  {
   "cell_type": "code",
   "execution_count": 8,
   "id": "7ce46c83-6305-4210-adb9-674047137832",
   "metadata": {
    "executionInfo": {
     "elapsed": 2,
     "status": "ok",
     "timestamp": 1683726390712,
     "user": {
      "displayName": "Mike Henderson",
      "userId": "07691629187611687318"
     },
     "user_tz": 240
    },
    "id": "IxWrFtqYMfku",
    "tags": []
   },
   "outputs": [],
   "source": [
    "REGION = 'us-central1'\n",
    "EXPERIMENT = 'pipeline-control'\n",
    "SERIES = 'mlops'\n",
    "\n",
    "# gcs bucket\n",
    "GCS_BUCKET = PROJECT_ID"
   ]
  },
  {
   "cell_type": "markdown",
   "id": "6fd21676-844f-441f-9dc6-db15dddf9ed2",
   "metadata": {
    "id": "LuajVwCiO6Yg"
   },
   "source": [
    "Packages"
   ]
  },
  {
   "cell_type": "code",
   "execution_count": 9,
   "id": "86cf0800-eb89-4c49-b20e-e752698f501a",
   "metadata": {
    "executionInfo": {
     "elapsed": 17761,
     "status": "ok",
     "timestamp": 1683726409304,
     "user": {
      "displayName": "Mike Henderson",
      "userId": "07691629187611687318"
     },
     "user_tz": 240
    },
    "id": "LVC7zzSLRk2C",
    "tags": []
   },
   "outputs": [],
   "source": [
    "import os\n",
    "import time\n",
    "import importlib\n",
    "from google.cloud import aiplatform\n",
    "import kfp\n",
    "from typing import NamedTuple"
   ]
  },
  {
   "cell_type": "markdown",
   "id": "86c3b756-c6b3-4c0c-9dfb-19a9f2e08388",
   "metadata": {
    "id": "EyAVFG9TO9H-"
   },
   "source": [
    "Clients"
   ]
  },
  {
   "cell_type": "code",
   "execution_count": 10,
   "id": "7b9f0e32-9d71-40ed-bd02-cf8fdfd04863",
   "metadata": {
    "executionInfo": {
     "elapsed": 19,
     "status": "ok",
     "timestamp": 1683726409306,
     "user": {
      "displayName": "Mike Henderson",
      "userId": "07691629187611687318"
     },
     "user_tz": 240
    },
    "id": "L0RPE13LOZce",
    "tags": []
   },
   "outputs": [],
   "source": [
    "# vertex ai clients\n",
    "aiplatform.init(project = PROJECT_ID, location = REGION)"
   ]
  },
  {
   "cell_type": "markdown",
   "id": "7e59e086-017e-42c8-a19d-67c6eac8687d",
   "metadata": {},
   "source": [
    "parameters:"
   ]
  },
  {
   "cell_type": "code",
   "execution_count": 11,
   "id": "7d59e937-5c05-4fc2-9e25-b96937dbd2c0",
   "metadata": {
    "tags": []
   },
   "outputs": [],
   "source": [
    "DIR = f\"temp/{SERIES}-{EXPERIMENT}\""
   ]
  },
  {
   "cell_type": "code",
   "execution_count": 12,
   "id": "7d1eb622-626e-433a-9021-51655e893db0",
   "metadata": {
    "tags": []
   },
   "outputs": [
    {
     "data": {
      "text/plain": [
       "'1026793852137-compute@developer.gserviceaccount.com'"
      ]
     },
     "execution_count": 12,
     "metadata": {},
     "output_type": "execute_result"
    }
   ],
   "source": [
    "SERVICE_ACCOUNT = !gcloud config list --format='value(core.account)' \n",
    "SERVICE_ACCOUNT = SERVICE_ACCOUNT[0]\n",
    "SERVICE_ACCOUNT"
   ]
  },
  {
   "cell_type": "markdown",
   "id": "0d8a42dc-aa9d-4cc9-824c-a708079a7ad5",
   "metadata": {},
   "source": [
    "environment:"
   ]
  },
  {
   "cell_type": "code",
   "execution_count": 13,
   "id": "18bb246b-2641-4d56-a3c2-40b355197590",
   "metadata": {
    "tags": []
   },
   "outputs": [],
   "source": [
    "if not os.path.exists(DIR):\n",
    "    os.makedirs(DIR)"
   ]
  },
  {
   "cell_type": "markdown",
   "id": "1cd167d8-e15d-46d7-9852-da95c687c390",
   "metadata": {},
   "source": [
    "---\n",
    "## Example Components\n",
    "\n",
    "Components that:\n",
    "- turn any integer into a letter (`number_to_letter`)\n",
    "- turn any letter into a number (`letter_to_number`)\n",
    "- generate a random coin flip of 'H' or 'T' (`flip_coin`)"
   ]
  },
  {
   "cell_type": "code",
   "execution_count": 15,
   "id": "95cd7aaa-9c63-4ccd-bdb2-84b1fa39acfb",
   "metadata": {
    "tags": []
   },
   "outputs": [],
   "source": [
    "@kfp.dsl.component(base_image = 'python:3.10')\n",
    "def number_to_letter(number: int) -> str:\n",
    "    alphabet = \"ABCDEFGHIJKLMNOPQRSTUVWXYZ\"\n",
    "    return alphabet[(number-1) % 26]\n",
    "\n",
    "@kfp.dsl.component(base_image = 'python:3.10')\n",
    "def letter_to_number(letter: str) -> int:\n",
    "    alphabet = \"ABCDEFGHIJKLMNOPQRSTUVWXYZ\"\n",
    "    return alphabet.index(letter.upper()) + 1\n",
    "\n",
    "@kfp.dsl.component(base_image = 'python:3.10')\n",
    "def flip_coin() -> str:\n",
    "    import random\n",
    "    flip = random.randint(0, 1)\n",
    "    flipmap = ['T', 'H']\n",
    "    return flipmap[flip]"
   ]
  },
  {
   "cell_type": "markdown",
   "id": "980d79fb-e6ae-4fda-8111-847cbbb90010",
   "metadata": {},
   "source": [
    "## Function To Run Pipeline"
   ]
  },
  {
   "cell_type": "code",
   "execution_count": 16,
   "id": "e0c27612-72fa-49f5-a7b5-ab15abfa9318",
   "metadata": {
    "tags": []
   },
   "outputs": [],
   "source": [
    "def pipeline_runner(pipeline_func, pipeline_name):\n",
    "    \n",
    "    # compile the pipeline\n",
    "    kfp.compiler.Compiler().compile(\n",
    "        pipeline_func = pipeline_func,\n",
    "        package_path = f'{DIR}/{pipeline_name}.yaml'\n",
    "    )\n",
    "    \n",
    "    # create pipeline job\n",
    "    pipeline_job = aiplatform.PipelineJob(\n",
    "        display_name = f\"{pipeline_name}\",\n",
    "        template_path = f\"{DIR}/{pipeline_name}.yaml\",\n",
    "        pipeline_root = f'gs://{GCS_BUCKET}/{SERIES}/{EXPERIMENT}/pipeline_root',\n",
    "    )\n",
    "    \n",
    "    # submit pipeline job\n",
    "    response = pipeline_job.submit(\n",
    "        service_account = SERVICE_ACCOUNT\n",
    "    )\n",
    "    \n",
    "    # wait on pipeline job\n",
    "    pipeline_job.wait()\n",
    "    \n",
    "    # return pipeline job\n",
    "    return pipeline_job"
   ]
  },
  {
   "cell_type": "markdown",
   "id": "62c6b8d7-d74a-4e97-a9aa-f59a42e46046",
   "metadata": {},
   "source": [
    "---\n",
    "## Ordering Tasks: DAG\n",
    "\n",
    "The outputs of components are used as inputs to other components forcing an order of operations.  All of the `task_1*` tasks run at the same time as they have no dependencies."
   ]
  },
  {
   "cell_type": "code",
   "execution_count": 18,
   "id": "f553f6ec-24b8-4b48-9191-d400dc78108c",
   "metadata": {
    "tags": []
   },
   "outputs": [
    {
     "data": {
      "text/plain": [
       "'mlops-pipeline-control-order-dag'"
      ]
     },
     "execution_count": 18,
     "metadata": {},
     "output_type": "execute_result"
    }
   ],
   "source": [
    "pipeline_name = f\"{SERIES}-{EXPERIMENT}-order-dag\"\n",
    "pipeline_name"
   ]
  },
  {
   "cell_type": "code",
   "execution_count": 43,
   "id": "390a21cf-bc2c-4238-9e6b-6f95fda883b5",
   "metadata": {
    "tags": []
   },
   "outputs": [],
   "source": [
    "@kfp.dsl.pipeline(name = pipeline_name)\n",
    "def order_pipeline_dag():\n",
    "    \n",
    "    task_1a = number_to_letter(number = 1)\n",
    "    task_1b = number_to_letter(number = 2)\n",
    "    task_1c = number_to_letter(number = 3)\n",
    "    \n",
    "    task_2a = letter_to_number(letter = task_1a.output)\n",
    "    task_2b = letter_to_number(letter = task_1b.output)\n",
    "    task_2c = letter_to_number(letter = task_1c.output)"
   ]
  },
  {
   "cell_type": "code",
   "execution_count": 44,
   "id": "2fdcef04-91ea-4a6f-b870-58854a821a18",
   "metadata": {
    "tags": []
   },
   "outputs": [
    {
     "name": "stdout",
     "output_type": "stream",
     "text": [
      "Creating PipelineJob\n",
      "PipelineJob created. Resource name: projects/1026793852137/locations/us-central1/pipelineJobs/mlops-pipeline-control-order-dag-20240326231325\n",
      "To use this PipelineJob in another session:\n",
      "pipeline_job = aiplatform.PipelineJob.get('projects/1026793852137/locations/us-central1/pipelineJobs/mlops-pipeline-control-order-dag-20240326231325')\n",
      "View Pipeline Job:\n",
      "https://console.cloud.google.com/vertex-ai/locations/us-central1/pipelines/runs/mlops-pipeline-control-order-dag-20240326231325?project=1026793852137\n",
      "PipelineJob projects/1026793852137/locations/us-central1/pipelineJobs/mlops-pipeline-control-order-dag-20240326231325 current state:\n",
      "PipelineState.PIPELINE_STATE_RUNNING\n",
      "PipelineJob projects/1026793852137/locations/us-central1/pipelineJobs/mlops-pipeline-control-order-dag-20240326231325 current state:\n",
      "PipelineState.PIPELINE_STATE_RUNNING\n",
      "PipelineJob projects/1026793852137/locations/us-central1/pipelineJobs/mlops-pipeline-control-order-dag-20240326231325 current state:\n",
      "PipelineState.PIPELINE_STATE_RUNNING\n",
      "PipelineJob projects/1026793852137/locations/us-central1/pipelineJobs/mlops-pipeline-control-order-dag-20240326231325 current state:\n",
      "PipelineState.PIPELINE_STATE_RUNNING\n",
      "PipelineJob projects/1026793852137/locations/us-central1/pipelineJobs/mlops-pipeline-control-order-dag-20240326231325 current state:\n",
      "PipelineState.PIPELINE_STATE_RUNNING\n",
      "PipelineJob run completed. Resource name: projects/1026793852137/locations/us-central1/pipelineJobs/mlops-pipeline-control-order-dag-20240326231325\n"
     ]
    }
   ],
   "source": [
    "pipeline_job = pipeline_runner(order_pipeline_dag, pipeline_name)"
   ]
  },
  {
   "cell_type": "code",
   "execution_count": 46,
   "id": "072e238a-7a2e-4d57-b264-d1b76b97bf90",
   "metadata": {
    "tags": []
   },
   "outputs": [
    {
     "name": "stdout",
     "output_type": "stream",
     "text": [
      "The Dashboard can be viewed here:\n",
      "https://console.cloud.google.com/vertex-ai/locations/us-central1/pipelines/runs/mlops-pipeline-control-order-dag-20240326231325?project=1026793852137\n"
     ]
    }
   ],
   "source": [
    "print(f'The Dashboard can be viewed here:\\n{pipeline_job._dashboard_uri()}')"
   ]
  },
  {
   "cell_type": "code",
   "execution_count": 19,
   "id": "c8e10030-3954-4a7a-a208-861a3d18ccbb",
   "metadata": {
    "tags": []
   },
   "outputs": [
    {
     "data": {
      "text/html": [
       "<div>\n",
       "<style scoped>\n",
       "    .dataframe tbody tr th:only-of-type {\n",
       "        vertical-align: middle;\n",
       "    }\n",
       "\n",
       "    .dataframe tbody tr th {\n",
       "        vertical-align: top;\n",
       "    }\n",
       "\n",
       "    .dataframe thead th {\n",
       "        text-align: right;\n",
       "    }\n",
       "</style>\n",
       "<table border=\"1\" class=\"dataframe\">\n",
       "  <thead>\n",
       "    <tr style=\"text-align: right;\">\n",
       "      <th></th>\n",
       "      <th>pipeline_name</th>\n",
       "      <th>run_name</th>\n",
       "      <th>param.vmlmd_lineage_integration</th>\n",
       "    </tr>\n",
       "  </thead>\n",
       "  <tbody>\n",
       "    <tr>\n",
       "      <th>0</th>\n",
       "      <td>mlops-pipeline-control-order-dag</td>\n",
       "      <td>mlops-pipeline-control-order-dag-20240326231325</td>\n",
       "      <td>{'pipeline_run_component': {'location_id': 'us...</td>\n",
       "    </tr>\n",
       "  </tbody>\n",
       "</table>\n",
       "</div>"
      ],
      "text/plain": [
       "                      pipeline_name  \\\n",
       "0  mlops-pipeline-control-order-dag   \n",
       "\n",
       "                                          run_name  \\\n",
       "0  mlops-pipeline-control-order-dag-20240326231325   \n",
       "\n",
       "                     param.vmlmd_lineage_integration  \n",
       "0  {'pipeline_run_component': {'location_id': 'us...  "
      ]
     },
     "execution_count": 19,
     "metadata": {},
     "output_type": "execute_result"
    }
   ],
   "source": [
    "aiplatform.get_pipeline_df(pipeline = pipeline_name)"
   ]
  },
  {
   "cell_type": "markdown",
   "id": "ea72913a-643e-476f-8b14-41f0bd043bb8",
   "metadata": {},
   "source": [
    "<p><center>\n",
    "    <img alt=\"Order DAG\" src=\"../architectures/notebooks/mlops/order-dag.png\" width=\"85%\">\n",
    "</center><p>"
   ]
  },
  {
   "cell_type": "markdown",
   "id": "84f6f58f-f9c3-47e9-b71d-124bf96e1a32",
   "metadata": {},
   "source": [
    "---\n",
    "## Ordering Tasks: DAG + Explicit Dependency\n",
    "\n",
    "The outputs of components are used as inputs to other components forcing an order of operations. \n",
    "\n",
    "The `task_1*` component do not have any input dependencies and by default run at the same time - as seen above.  Using the `.after()` method - [reference](https://kubeflow-pipelines.readthedocs.io/en/latest/source/dsl.html#kfp.dsl.PipelineTask.after) - allow sfor explicit depency on another task.  The pipeline below uses `.after()` to force the order of the `task_1a`, then `task_1b`, then `task_1c`."
   ]
  },
  {
   "cell_type": "code",
   "execution_count": 20,
   "id": "98e18c9c-398c-4198-9aa9-82e9fa747080",
   "metadata": {
    "tags": []
   },
   "outputs": [
    {
     "data": {
      "text/plain": [
       "'mlops-pipeline-control-order-dag-explicit'"
      ]
     },
     "execution_count": 20,
     "metadata": {},
     "output_type": "execute_result"
    }
   ],
   "source": [
    "pipeline_name = f\"{SERIES}-{EXPERIMENT}-order-dag-explicit\"\n",
    "pipeline_name"
   ]
  },
  {
   "cell_type": "code",
   "execution_count": 21,
   "id": "248585be-df52-437e-93af-98aa98055cf4",
   "metadata": {
    "tags": []
   },
   "outputs": [],
   "source": [
    "@kfp.dsl.pipeline(name = pipeline_name)\n",
    "def order_pipeline_dag_explicit():\n",
    "    \n",
    "    task_1a = number_to_letter(number = 1)\n",
    "    task_1b = number_to_letter(number = 2).after(task_1a)\n",
    "    task_1c = number_to_letter(number = 3).after(task_1b)\n",
    "    \n",
    "    task_2a = letter_to_number(letter = task_1a.output)\n",
    "    task_2b = letter_to_number(letter = task_1b.output)\n",
    "    task_2c = letter_to_number(letter = task_1c.output)"
   ]
  },
  {
   "cell_type": "code",
   "execution_count": 22,
   "id": "92d9552c-8334-4464-81ec-87d755727d79",
   "metadata": {
    "tags": []
   },
   "outputs": [
    {
     "name": "stdout",
     "output_type": "stream",
     "text": [
      "Creating PipelineJob\n",
      "PipelineJob created. Resource name: projects/1026793852137/locations/us-central1/pipelineJobs/mlops-pipeline-control-order-dag-explicit-20240326235331\n",
      "To use this PipelineJob in another session:\n",
      "pipeline_job = aiplatform.PipelineJob.get('projects/1026793852137/locations/us-central1/pipelineJobs/mlops-pipeline-control-order-dag-explicit-20240326235331')\n",
      "View Pipeline Job:\n",
      "https://console.cloud.google.com/vertex-ai/locations/us-central1/pipelines/runs/mlops-pipeline-control-order-dag-explicit-20240326235331?project=1026793852137\n",
      "PipelineJob projects/1026793852137/locations/us-central1/pipelineJobs/mlops-pipeline-control-order-dag-explicit-20240326235331 current state:\n",
      "PipelineState.PIPELINE_STATE_RUNNING\n",
      "PipelineJob projects/1026793852137/locations/us-central1/pipelineJobs/mlops-pipeline-control-order-dag-explicit-20240326235331 current state:\n",
      "PipelineState.PIPELINE_STATE_RUNNING\n",
      "PipelineJob projects/1026793852137/locations/us-central1/pipelineJobs/mlops-pipeline-control-order-dag-explicit-20240326235331 current state:\n",
      "PipelineState.PIPELINE_STATE_RUNNING\n",
      "PipelineJob projects/1026793852137/locations/us-central1/pipelineJobs/mlops-pipeline-control-order-dag-explicit-20240326235331 current state:\n",
      "PipelineState.PIPELINE_STATE_RUNNING\n",
      "PipelineJob run completed. Resource name: projects/1026793852137/locations/us-central1/pipelineJobs/mlops-pipeline-control-order-dag-explicit-20240326235331\n"
     ]
    }
   ],
   "source": [
    "pipeline_job = pipeline_runner(order_pipeline_dag_explicit, pipeline_name)"
   ]
  },
  {
   "cell_type": "code",
   "execution_count": 23,
   "id": "d7634842-b0a0-4e41-9289-eb94d0d1cb18",
   "metadata": {
    "tags": []
   },
   "outputs": [
    {
     "name": "stdout",
     "output_type": "stream",
     "text": [
      "The Dashboard can be viewed here:\n",
      "https://console.cloud.google.com/vertex-ai/locations/us-central1/pipelines/runs/mlops-pipeline-control-order-dag-explicit-20240326235331?project=1026793852137\n"
     ]
    }
   ],
   "source": [
    "print(f'The Dashboard can be viewed here:\\n{pipeline_job._dashboard_uri()}')"
   ]
  },
  {
   "cell_type": "code",
   "execution_count": 24,
   "id": "06858c7d-a8c5-47f0-b779-db9c7f63f43b",
   "metadata": {
    "tags": []
   },
   "outputs": [
    {
     "data": {
      "text/html": [
       "<div>\n",
       "<style scoped>\n",
       "    .dataframe tbody tr th:only-of-type {\n",
       "        vertical-align: middle;\n",
       "    }\n",
       "\n",
       "    .dataframe tbody tr th {\n",
       "        vertical-align: top;\n",
       "    }\n",
       "\n",
       "    .dataframe thead th {\n",
       "        text-align: right;\n",
       "    }\n",
       "</style>\n",
       "<table border=\"1\" class=\"dataframe\">\n",
       "  <thead>\n",
       "    <tr style=\"text-align: right;\">\n",
       "      <th></th>\n",
       "      <th>pipeline_name</th>\n",
       "      <th>run_name</th>\n",
       "      <th>param.vmlmd_lineage_integration</th>\n",
       "    </tr>\n",
       "  </thead>\n",
       "  <tbody>\n",
       "    <tr>\n",
       "      <th>0</th>\n",
       "      <td>mlops-pipeline-control-order-dag-explicit</td>\n",
       "      <td>mlops-pipeline-control-order-dag-explicit-2024...</td>\n",
       "      <td>{'pipeline_run_component': {'location_id': 'us...</td>\n",
       "    </tr>\n",
       "  </tbody>\n",
       "</table>\n",
       "</div>"
      ],
      "text/plain": [
       "                               pipeline_name  \\\n",
       "0  mlops-pipeline-control-order-dag-explicit   \n",
       "\n",
       "                                            run_name  \\\n",
       "0  mlops-pipeline-control-order-dag-explicit-2024...   \n",
       "\n",
       "                     param.vmlmd_lineage_integration  \n",
       "0  {'pipeline_run_component': {'location_id': 'us...  "
      ]
     },
     "execution_count": 24,
     "metadata": {},
     "output_type": "execute_result"
    }
   ],
   "source": [
    "aiplatform.get_pipeline_df(pipeline = pipeline_name)"
   ]
  },
  {
   "cell_type": "markdown",
   "id": "db14f569-eef5-407f-b547-08c1b6081916",
   "metadata": {},
   "source": [
    "<p><center>\n",
    "    <img alt=\"Order DAG - Explicit\" src=\"../architectures/notebooks/mlops/order-dag-explicit.png\" width=\"85%\">\n",
    "</center><p>"
   ]
  },
  {
   "cell_type": "markdown",
   "id": "dfede210-2358-4fa4-8547-cef3c720b432",
   "metadata": {},
   "source": [
    "## Conditional Execution\n",
    "\n",
    "There are three conditions that can be used to control the flow of pipleines: `kfp.dsl.If`, `kfp.dsl.Elif`, and `kfp.dsl.Else`.  [Reference](https://www.kubeflow.org/docs/components/pipelines/v2/pipelines/control-flow/#conditions-dslif-dslelif-dslelse)\n"
   ]
  },
  {
   "cell_type": "code",
   "execution_count": 25,
   "id": "5c874851-fdb2-4d8c-ae00-28e838db954d",
   "metadata": {
    "tags": []
   },
   "outputs": [
    {
     "data": {
      "text/plain": [
       "'mlops-pipeline-control-order-dag-explicit-condition'"
      ]
     },
     "execution_count": 25,
     "metadata": {},
     "output_type": "execute_result"
    }
   ],
   "source": [
    "pipeline_name = f\"{SERIES}-{EXPERIMENT}-order-dag-explicit-condition\"\n",
    "pipeline_name"
   ]
  },
  {
   "cell_type": "code",
   "execution_count": 41,
   "id": "bb110727-4e4b-4d42-9f47-114c653daded",
   "metadata": {
    "tags": []
   },
   "outputs": [],
   "source": [
    "@kfp.dsl.pipeline(name = pipeline_name)\n",
    "def order_pipeline_dag_explicit_condition():\n",
    "    \n",
    "    task_1a = number_to_letter(number = 1)\n",
    "    task_1b = number_to_letter(number = 2).after(task_1a)\n",
    "    task_1c = number_to_letter(number = 3).after(task_1b)\n",
    "    \n",
    "    flip = flip_coin()\n",
    "    \n",
    "    with kfp.dsl.If(flip.output == 'H', name = 'Heads?'):\n",
    "        with kfp.dsl.If(flip.output == 'H', name = 'Heads?'):\n",
    "            task_2a = letter_to_number(letter = task_1a.output)\n",
    "        with kfp.dsl.Else(name = 'Not Heads'):\n",
    "            task_2b = letter_to_number(letter = task_1b.output)       \n",
    "    with kfp.dsl.Elif(flip.output == 'T', name = 'Tails'):\n",
    "        task_2c = letter_to_number(letter = task_1c.output)"
   ]
  },
  {
   "cell_type": "code",
   "execution_count": 42,
   "id": "c5e9653d-093c-4bdc-bb08-2184e1fac1a8",
   "metadata": {
    "tags": []
   },
   "outputs": [
    {
     "name": "stdout",
     "output_type": "stream",
     "text": [
      "Creating PipelineJob\n",
      "PipelineJob created. Resource name: projects/1026793852137/locations/us-central1/pipelineJobs/mlops-pipeline-control-order-dag-explicit-condition-20240327003324\n",
      "To use this PipelineJob in another session:\n",
      "pipeline_job = aiplatform.PipelineJob.get('projects/1026793852137/locations/us-central1/pipelineJobs/mlops-pipeline-control-order-dag-explicit-condition-20240327003324')\n",
      "View Pipeline Job:\n",
      "https://console.cloud.google.com/vertex-ai/locations/us-central1/pipelines/runs/mlops-pipeline-control-order-dag-explicit-condition-20240327003324?project=1026793852137\n",
      "PipelineJob projects/1026793852137/locations/us-central1/pipelineJobs/mlops-pipeline-control-order-dag-explicit-condition-20240327003324 current state:\n",
      "PipelineState.PIPELINE_STATE_RUNNING\n",
      "PipelineJob run completed. Resource name: projects/1026793852137/locations/us-central1/pipelineJobs/mlops-pipeline-control-order-dag-explicit-condition-20240327003324\n"
     ]
    }
   ],
   "source": [
    "pipeline_job = pipeline_runner(order_pipeline_dag_explicit_condition, pipeline_name)"
   ]
  },
  {
   "cell_type": "code",
   "execution_count": 43,
   "id": "a7083376-9bef-49cd-bb2e-9f85a651f441",
   "metadata": {
    "tags": []
   },
   "outputs": [
    {
     "name": "stdout",
     "output_type": "stream",
     "text": [
      "The Dashboard can be viewed here:\n",
      "https://console.cloud.google.com/vertex-ai/locations/us-central1/pipelines/runs/mlops-pipeline-control-order-dag-explicit-condition-20240327003324?project=1026793852137\n"
     ]
    }
   ],
   "source": [
    "print(f'The Dashboard can be viewed here:\\n{pipeline_job._dashboard_uri()}')"
   ]
  },
  {
   "cell_type": "code",
   "execution_count": 44,
   "id": "da622809-bf94-44ee-b48a-cabbf996f60f",
   "metadata": {
    "tags": []
   },
   "outputs": [
    {
     "data": {
      "text/html": [
       "<div>\n",
       "<style scoped>\n",
       "    .dataframe tbody tr th:only-of-type {\n",
       "        vertical-align: middle;\n",
       "    }\n",
       "\n",
       "    .dataframe tbody tr th {\n",
       "        vertical-align: top;\n",
       "    }\n",
       "\n",
       "    .dataframe thead th {\n",
       "        text-align: right;\n",
       "    }\n",
       "</style>\n",
       "<table border=\"1\" class=\"dataframe\">\n",
       "  <thead>\n",
       "    <tr style=\"text-align: right;\">\n",
       "      <th></th>\n",
       "      <th>pipeline_name</th>\n",
       "      <th>run_name</th>\n",
       "      <th>param.vmlmd_lineage_integration</th>\n",
       "    </tr>\n",
       "  </thead>\n",
       "  <tbody>\n",
       "    <tr>\n",
       "      <th>0</th>\n",
       "      <td>mlops-pipeline-control-order-dag-explicit-cond...</td>\n",
       "      <td>mlops-pipeline-control-order-dag-explicit-cond...</td>\n",
       "      <td>{'pipeline_run_component': {'location_id': 'us...</td>\n",
       "    </tr>\n",
       "    <tr>\n",
       "      <th>1</th>\n",
       "      <td>mlops-pipeline-control-order-dag-explicit-cond...</td>\n",
       "      <td>mlops-pipeline-control-order-dag-explicit-cond...</td>\n",
       "      <td>{'pipeline_run_component': {'project_id': 'sta...</td>\n",
       "    </tr>\n",
       "  </tbody>\n",
       "</table>\n",
       "</div>"
      ],
      "text/plain": [
       "                                       pipeline_name  \\\n",
       "0  mlops-pipeline-control-order-dag-explicit-cond...   \n",
       "1  mlops-pipeline-control-order-dag-explicit-cond...   \n",
       "\n",
       "                                            run_name  \\\n",
       "0  mlops-pipeline-control-order-dag-explicit-cond...   \n",
       "1  mlops-pipeline-control-order-dag-explicit-cond...   \n",
       "\n",
       "                     param.vmlmd_lineage_integration  \n",
       "0  {'pipeline_run_component': {'location_id': 'us...  \n",
       "1  {'pipeline_run_component': {'project_id': 'sta...  "
      ]
     },
     "execution_count": 44,
     "metadata": {},
     "output_type": "execute_result"
    }
   ],
   "source": [
    "aiplatform.get_pipeline_df(pipeline = pipeline_name)"
   ]
  },
  {
   "cell_type": "markdown",
   "id": "798edb0a-6bda-47f9-8d96-62e8850eb607",
   "metadata": {},
   "source": [
    "<p><center>\n",
    "    <img alt=\"Order DAG - Explicit - Conditions\" src=\"../architectures/notebooks/mlops/order-dag-explicit-condition.png\" width=\"85%\">\n",
    "</center><p>"
   ]
  },
  {
   "cell_type": "code",
   "execution_count": null,
   "id": "003c572b-f380-4f06-84e1-a4d70f915221",
   "metadata": {},
   "outputs": [],
   "source": []
  }
 ],
 "metadata": {
  "environment": {
   "kernel": "conda-root-py",
   "name": "workbench-notebooks.m115",
   "type": "gcloud",
   "uri": "gcr.io/deeplearning-platform-release/workbench-notebooks:m115"
  },
  "kernelspec": {
   "display_name": "Python 3 (ipykernel)",
   "language": "python",
   "name": "conda-root-py"
  },
  "language_info": {
   "codemirror_mode": {
    "name": "ipython",
    "version": 3
   },
   "file_extension": ".py",
   "mimetype": "text/x-python",
   "name": "python",
   "nbconvert_exporter": "python",
   "pygments_lexer": "ipython3",
   "version": "3.10.13"
  }
 },
 "nbformat": 4,
 "nbformat_minor": 5
}
