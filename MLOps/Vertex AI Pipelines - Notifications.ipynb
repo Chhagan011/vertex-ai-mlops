{
 "cells": [
  {
   "cell_type": "markdown",
   "id": "1bb21ef9",
   "metadata": {},
   "source": [
    "![tracker](https://us-central1-vertex-ai-mlops-369716.cloudfunctions.net/pixel-tracking?path=statmike%2Fvertex-ai-mlops%2FMLOps&file=Vertex+AI+Pipelines+-+Notifications.ipynb)\n",
    "<!--- header table --->\n",
    "<table align=\"left\">\n",
    "  <td style=\"text-align: center\">\n",
    "    <a href=\"https://colab.research.google.com/github/statmike/vertex-ai-mlops/blob/main/MLOps/Vertex%20AI%20Pipelines%20-%20Notifications.ipynb\">\n",
    "      <img src=\"https://cloud.google.com/ml-engine/images/colab-logo-32px.png\" alt=\"Google Colaboratory logo\">\n",
    "      <br>Run in<br>Colab\n",
    "    </a>\n",
    "  </td>\n",
    "  <td style=\"text-align: center\">\n",
    "    <a href=\"https://console.cloud.google.com/vertex-ai/colab/import/https%3A%2F%2Fraw.githubusercontent.com%2Fstatmike%2Fvertex-ai-mlops%2Fmain%2FMLOps%2FVertex%2520AI%2520Pipelines%2520-%2520Notifications.ipynb\">\n",
    "      <img width=\"32px\" src=\"https://lh3.googleusercontent.com/JmcxdQi-qOpctIvWKgPtrzZdJJK-J3sWE1RsfjZNwshCFgE_9fULcNpuXYTilIR2hjwN\" alt=\"Google Cloud Colab Enterprise logo\">\n",
    "      <br>Run in<br>Colab Enterprise\n",
    "    </a>\n",
    "  </td>      \n",
    "  <td style=\"text-align: center\">\n",
    "    <a href=\"https://github.com/statmike/vertex-ai-mlops/blob/main/MLOps/Vertex%20AI%20Pipelines%20-%20Notifications.ipynb\">\n",
    "      <img src=\"https://cloud.google.com/ml-engine/images/github-logo-32px.png\" alt=\"GitHub logo\">\n",
    "      <br>View on<br>GitHub\n",
    "    </a>\n",
    "  </td>\n",
    "  <td style=\"text-align: center\">\n",
    "    <a href=\"https://console.cloud.google.com/vertex-ai/workbench/deploy-notebook?download_url=https://raw.githubusercontent.com/statmike/vertex-ai-mlops/main/MLOps/Vertex%20AI%20Pipelines%20-%20Notifications.ipynb\">\n",
    "      <img src=\"https://lh3.googleusercontent.com/UiNooY4LUgW_oTvpsNhPpQzsstV5W8F7rYgxgGBD85cWJoLmrOzhVs_ksK_vgx40SHs7jCqkTkCk=e14-rj-sc0xffffff-h130-w32\" alt=\"Vertex AI logo\">\n",
    "      <br>Open in<br>Vertex AI Workbench\n",
    "    </a>\n",
    "  </td>\n",
    "</table>"
   ]
  },
  {
   "cell_type": "markdown",
   "id": "35fc3f49-af20-4c31-b7d7-62b62da89677",
   "metadata": {},
   "source": [
    "# Vertex AI Pipelines - Notifications\n",
    "\n",
    "TEMPLATE IN PROGRESS\n",
    "\n",
    "How to send email notifications based on pipelines execution.\n",
    "- pre-built component to send email notificaitons on completion - any status\n",
    "- how to gather pipeline stastus on exist\n",
    "- custom built component to send email conditional on pipelines status at exist\n",
    "    - complete with errors"
   ]
  },
  {
   "cell_type": "markdown",
   "id": "a9eb31c4-5ad5-48d8-8fee-3906611c7c67",
   "metadata": {
    "id": "od_UkDpvRmgD",
    "tags": []
   },
   "source": [
    "---\n",
    "## Colab Setup\n",
    "\n",
    "To run this notebook in Colab run the cells in this section.  Otherwise, skip this section.\n",
    "\n",
    "This cell will authenticate to GCP (follow prompts in the popup)."
   ]
  },
  {
   "cell_type": "code",
   "execution_count": 33,
   "id": "82fb9f68-0848-45b4-b34a-92a5cf742b47",
   "metadata": {
    "executionInfo": {
     "elapsed": 195,
     "status": "ok",
     "timestamp": 1683726184843,
     "user": {
      "displayName": "Mike Henderson",
      "userId": "07691629187611687318"
     },
     "user_tz": 240
    },
    "id": "8UO9FnqyKBlF",
    "tags": []
   },
   "outputs": [],
   "source": [
    "PROJECT_ID = 'statmike-mlops-349915' # replace with project ID"
   ]
  },
  {
   "cell_type": "code",
   "execution_count": 34,
   "id": "01bc0f83-ee97-4b2c-bdc4-52c5b6de8f89",
   "metadata": {
    "colab": {
     "base_uri": "https://localhost:8080/"
    },
    "executionInfo": {
     "elapsed": 68869,
     "status": "ok",
     "timestamp": 1683726253709,
     "user": {
      "displayName": "Mike Henderson",
      "userId": "07691629187611687318"
     },
     "user_tz": 240
    },
    "id": "N98-KK7LRkjm",
    "outputId": "09ec5008-0def-4e1a-c349-c598ee752f78",
    "tags": []
   },
   "outputs": [
    {
     "name": "stdout",
     "output_type": "stream",
     "text": [
      "Not a Colab Environment\n"
     ]
    }
   ],
   "source": [
    "try:\n",
    "    from google.colab import auth\n",
    "    auth.authenticate_user()\n",
    "    !gcloud config set project {PROJECT_ID}\n",
    "    print('Colab authorized to GCP')\n",
    "except Exception:\n",
    "    print('Not a Colab Environment')\n",
    "    pass"
   ]
  },
  {
   "cell_type": "markdown",
   "id": "2e207b4a-02a4-4954-96c6-c629e544cf52",
   "metadata": {},
   "source": [
    "---\n",
    "## Installs\n",
    "\n",
    "The list `packages` contains tuples of package import names and install names.  If the import name is not found then the install name is used to install quitely for the current user."
   ]
  },
  {
   "cell_type": "code",
   "execution_count": 35,
   "id": "3149d910-2399-43e5-ae4d-6c72b1bd6294",
   "metadata": {
    "tags": []
   },
   "outputs": [],
   "source": [
    "# tuples of (import name, install name, min_version)\n",
    "packages = [\n",
    "    ('google.cloud.aiplatform', 'google-cloud-aiplatform', '1.51.0'),\n",
    "    ('google_cloud_pipeline_components', 'google-cloud-pipeline-components'),\n",
    "    ('kfp', 'kfp'),\n",
    "    ('google.cloud.pubsub', 'google-cloud-pubsub'),\n",
    "]\n",
    "\n",
    "import importlib\n",
    "install = False\n",
    "for package in packages:\n",
    "    if not importlib.util.find_spec(package[0]):\n",
    "        print(f'installing package {package[1]}')\n",
    "        install = True\n",
    "        !pip install {package[1]} -U -q --user\n",
    "    elif len(package) == 3:\n",
    "        if importlib.metadata.version(package[0]) < package[2]:\n",
    "            print(f'updating package {package[1]}')\n",
    "            install = True\n",
    "            !pip install {package[1]} -U -q --user"
   ]
  },
  {
   "cell_type": "markdown",
   "id": "7c106b1a-1e3b-444d-bbda-e97fe12004b0",
   "metadata": {},
   "source": [
    "## API Enablement"
   ]
  },
  {
   "cell_type": "code",
   "execution_count": 36,
   "id": "0ffc453c-53f6-46e2-87bb-ed2a3ea398b6",
   "metadata": {
    "tags": []
   },
   "outputs": [],
   "source": [
    "!gcloud services enable aiplatform.googleapis.com\n",
    "!gcloud services enable pubsub.googleapis.com"
   ]
  },
  {
   "cell_type": "markdown",
   "id": "30153c0e-8c90-4991-bf15-27046f0522f3",
   "metadata": {},
   "source": [
    "### Restart Kernel (If Installs Occured)\n",
    "\n",
    "After a kernel restart the code submission can start with the next cell after this one."
   ]
  },
  {
   "cell_type": "code",
   "execution_count": 37,
   "id": "050ac1c2-17c6-45e8-b144-ff72342a72a0",
   "metadata": {
    "tags": []
   },
   "outputs": [],
   "source": [
    "if install:\n",
    "    import IPython\n",
    "    app = IPython.Application.instance()\n",
    "    app.kernel.do_shutdown(True)"
   ]
  },
  {
   "cell_type": "markdown",
   "id": "76a43222-36e7-455e-9e49-0da5afdc75a9",
   "metadata": {
    "id": "appt8-yVRtJ1"
   },
   "source": [
    "---\n",
    "## Setup"
   ]
  },
  {
   "cell_type": "markdown",
   "id": "6d752b49-d0ae-4a52-ab31-68883f911320",
   "metadata": {
    "id": "63mx2EozRxFP"
   },
   "source": [
    "Inputs"
   ]
  },
  {
   "cell_type": "code",
   "execution_count": 38,
   "id": "f70bb8f2-49f3-43a5-af47-20b14df69ddf",
   "metadata": {
    "colab": {
     "base_uri": "https://localhost:8080/",
     "height": 35
    },
    "executionInfo": {
     "elapsed": 2124,
     "status": "ok",
     "timestamp": 1683726390544,
     "user": {
      "displayName": "Mike Henderson",
      "userId": "07691629187611687318"
     },
     "user_tz": 240
    },
    "id": "xzcoXjM5Rky5",
    "outputId": "b3bdcbc1-70d5-472e-aea2-42c74a42efde",
    "tags": []
   },
   "outputs": [
    {
     "data": {
      "text/plain": [
       "'statmike-mlops-349915'"
      ]
     },
     "execution_count": 38,
     "metadata": {},
     "output_type": "execute_result"
    }
   ],
   "source": [
    "project = !gcloud config get-value project\n",
    "PROJECT_ID = project[0]\n",
    "PROJECT_ID"
   ]
  },
  {
   "cell_type": "code",
   "execution_count": 39,
   "id": "747b9f97-bf67-4d11-ac0d-1227e7cd49ff",
   "metadata": {
    "executionInfo": {
     "elapsed": 2,
     "status": "ok",
     "timestamp": 1683726390712,
     "user": {
      "displayName": "Mike Henderson",
      "userId": "07691629187611687318"
     },
     "user_tz": 240
    },
    "id": "IxWrFtqYMfku",
    "tags": []
   },
   "outputs": [],
   "source": [
    "REGION = 'us-central1'\n",
    "EXPERIMENT = 'pipeline-notifications'\n",
    "SERIES = 'mlops'\n",
    "\n",
    "# gcs bucket\n",
    "GCS_BUCKET = PROJECT_ID"
   ]
  },
  {
   "cell_type": "markdown",
   "id": "ac559644-8a22-4e41-8b9e-c1906f9e3b12",
   "metadata": {
    "id": "LuajVwCiO6Yg"
   },
   "source": [
    "Packages"
   ]
  },
  {
   "cell_type": "code",
   "execution_count": 40,
   "id": "cb368b33-6206-45c9-b924-0a2aed91d986",
   "metadata": {
    "executionInfo": {
     "elapsed": 17761,
     "status": "ok",
     "timestamp": 1683726409304,
     "user": {
      "displayName": "Mike Henderson",
      "userId": "07691629187611687318"
     },
     "user_tz": 240
    },
    "id": "LVC7zzSLRk2C",
    "tags": []
   },
   "outputs": [],
   "source": [
    "import os\n",
    "import time\n",
    "import importlib\n",
    "from google.cloud import aiplatform\n",
    "from google.cloud import pubsub_v1\n",
    "import kfp\n",
    "from typing import NamedTuple"
   ]
  },
  {
   "cell_type": "code",
   "execution_count": 41,
   "id": "f21ae861-f7ac-449f-90c2-0e4dd9426902",
   "metadata": {
    "tags": []
   },
   "outputs": [
    {
     "data": {
      "text/plain": [
       "'2.7.0'"
      ]
     },
     "execution_count": 41,
     "metadata": {},
     "output_type": "execute_result"
    }
   ],
   "source": [
    "kfp.__version__"
   ]
  },
  {
   "cell_type": "code",
   "execution_count": 42,
   "id": "8c6215b3-7623-4eb9-8acd-a0039621df5c",
   "metadata": {
    "tags": []
   },
   "outputs": [
    {
     "data": {
      "text/plain": [
       "'1.51.0'"
      ]
     },
     "execution_count": 42,
     "metadata": {},
     "output_type": "execute_result"
    }
   ],
   "source": [
    "aiplatform.__version__"
   ]
  },
  {
   "cell_type": "markdown",
   "id": "41cba571-1161-4c47-9d59-641bbc92f9e4",
   "metadata": {
    "id": "EyAVFG9TO9H-"
   },
   "source": [
    "Clients"
   ]
  },
  {
   "cell_type": "code",
   "execution_count": 43,
   "id": "f4f561a5-ab73-4d95-abd2-637bc994e672",
   "metadata": {
    "executionInfo": {
     "elapsed": 19,
     "status": "ok",
     "timestamp": 1683726409306,
     "user": {
      "displayName": "Mike Henderson",
      "userId": "07691629187611687318"
     },
     "user_tz": 240
    },
    "id": "L0RPE13LOZce",
    "tags": []
   },
   "outputs": [],
   "source": [
    "# vertex ai clients\n",
    "aiplatform.init(project = PROJECT_ID, location = REGION)\n",
    "\n",
    "# pubsub client\n",
    "pubsub_pubclient = pubsub_v1.PublisherClient()"
   ]
  },
  {
   "cell_type": "markdown",
   "id": "45b5e52e-de6e-48a7-9784-0cd1fe40ff9e",
   "metadata": {},
   "source": [
    "parameters:"
   ]
  },
  {
   "cell_type": "code",
   "execution_count": 44,
   "id": "a3ad3776-8c47-4cf2-9885-02456d0aba43",
   "metadata": {
    "tags": []
   },
   "outputs": [],
   "source": [
    "DIR = f\"temp/{SERIES}-{EXPERIMENT}\""
   ]
  },
  {
   "cell_type": "code",
   "execution_count": 45,
   "id": "041c7d80-736e-49ed-a205-07e79d2bd3b3",
   "metadata": {
    "tags": []
   },
   "outputs": [
    {
     "data": {
      "text/plain": [
       "'1026793852137-compute@developer.gserviceaccount.com'"
      ]
     },
     "execution_count": 45,
     "metadata": {},
     "output_type": "execute_result"
    }
   ],
   "source": [
    "SERVICE_ACCOUNT = !gcloud config list --format='value(core.account)' \n",
    "SERVICE_ACCOUNT = SERVICE_ACCOUNT[0]\n",
    "SERVICE_ACCOUNT"
   ]
  },
  {
   "cell_type": "markdown",
   "id": "82ccd5b6-a445-46fe-ac97-48454fffffbb",
   "metadata": {},
   "source": [
    "environment:"
   ]
  },
  {
   "cell_type": "code",
   "execution_count": 46,
   "id": "a0a31627-b190-4c9b-868e-bd162bb3457a",
   "metadata": {
    "tags": []
   },
   "outputs": [],
   "source": [
    "if not os.path.exists(DIR):\n",
    "    os.makedirs(DIR)"
   ]
  },
  {
   "cell_type": "markdown",
   "id": "2b451f1f-0d58-409e-bf08-25d52321e2d8",
   "metadata": {},
   "source": [
    "---\n",
    "## Example Components\n",
    "\n",
    "Components that:\n",
    "- generate coin flips with `flip_coin`\n",
    "    - by default it returns flip of a single coin as 'H' or 'T'\n",
    "    - optional input parameter of `num_coins` can be set to number of coins to retrive a string of flips, like 2 => 'HT'\n",
    "- generate dice rolls with `roll_dice`\n",
    "    - by default it returns the face number [1, 6] from a single die roll\n",
    "    - optionn input parameter of `num_dice` an be set to number of dice to retrieve a sum of rolls, like 2 => [2, 12]"
   ]
  },
  {
   "cell_type": "code",
   "execution_count": 15,
   "id": "56e31bc5-9a7b-4399-a9ef-d78a5861102c",
   "metadata": {
    "tags": []
   },
   "outputs": [],
   "source": [
    "@kfp.dsl.component(base_image = 'python:3.10')\n",
    "def flip_coins(num_coins: int = 1) -> str:\n",
    "    import random\n",
    "    flipmap = ['T', 'H']\n",
    "    flips = [flipmap[random.randint(0, 1)] for n in range(num_coins)]\n",
    "    return ''.join(flips)\n",
    "\n",
    "@kfp.dsl.component(base_image = 'python:3.10')\n",
    "def roll_dice(num_dice: int = 1) -> int:\n",
    "    import random\n",
    "    result = sum([random.randint(1,6) for n in range(num_dice)])\n",
    "    return result"
   ]
  },
  {
   "cell_type": "markdown",
   "id": "b2734967-9f85-415f-952f-dac2c29380c2",
   "metadata": {},
   "source": [
    "---\n",
    "## Pre-Built Notifications Components\n",
    "\n",
    "- https://cloud.google.com/vertex-ai/docs/pipelines/email-notifications\n",
    "- https://cloud.google.com/vertex-ai/docs/pipelines/gcpc-list#emailnotification_components\n",
    "- https://google-cloud-pipeline-components.readthedocs.io/en/google-cloud-pipeline-components-2.14.1/api/v1/vertex_notification_email.html#v1.vertex_notification_email.VertexNotificationEmailOp"
   ]
  },
  {
   "cell_type": "code",
   "execution_count": 16,
   "id": "16782493-e333-4c36-9dbd-675824852247",
   "metadata": {
    "tags": []
   },
   "outputs": [],
   "source": [
    "from google_cloud_pipeline_components.v1.vertex_notification_email import VertexNotificationEmailOp"
   ]
  },
  {
   "cell_type": "code",
   "execution_count": 17,
   "id": "50cba01c-325e-4dff-b0d1-1eff14f60f09",
   "metadata": {
    "tags": []
   },
   "outputs": [],
   "source": [
    "@kfp.dsl.pipeline(\n",
    "    name = f'{SERIES}-{EXPERIMENT}-notify',\n",
    "    pipeline_root = f'gs://{GCS_BUCKET}/{SERIES}/{EXPERIMENT}/pipeline_root'\n",
    ")\n",
    "def notify_pipeline():\n",
    "    \n",
    "    task_1 = roll_dice()\n",
    "    notify_complete = VertexNotificationEmailOp(recipients = ['statmike@google.com'])\n",
    "    \n",
    "    with kfp.dsl.ExitHandler(exit_task = notify_complete):\n",
    "        task_2 = flip_coins(num_coins = task_1.output)"
   ]
  },
  {
   "cell_type": "markdown",
   "id": "3865bae1-29ff-4955-92b5-6075e09d5ade",
   "metadata": {},
   "source": [
    "### Compile Pipeline"
   ]
  },
  {
   "cell_type": "code",
   "execution_count": 18,
   "id": "c3230c96-5129-4d33-ba2d-ed096f2e72a7",
   "metadata": {
    "tags": []
   },
   "outputs": [],
   "source": [
    "kfp.compiler.Compiler().compile(\n",
    "    pipeline_func = notify_pipeline,\n",
    "    package_path = f'{DIR}/{SERIES}-{EXPERIMENT}-notify.yaml'\n",
    ")"
   ]
  },
  {
   "cell_type": "markdown",
   "id": "6db92649-ea4b-4bd7-a42e-4e7b23f435f9",
   "metadata": {},
   "source": [
    "### Create Pipeline Job (With Vertex AI SDK)\n",
    "\n",
    "The compiled pipeline file can be submitted for running with the console or the SDK (shown here).  Check out the details in the documentation [here](https://cloud.google.com/vertex-ai/docs/pipelines/run-pipeline#create_a_pipeline_run) for an overview with the console.\n"
   ]
  },
  {
   "cell_type": "code",
   "execution_count": 19,
   "id": "cb9514a4-ef8f-4e9c-9a3a-f67dcd2f4d5e",
   "metadata": {
    "tags": []
   },
   "outputs": [],
   "source": [
    "pipeline_job = aiplatform.PipelineJob(\n",
    "    display_name = f\"{SERIES}-{EXPERIMENT}-notify\",\n",
    "    template_path = f\"{DIR}/{SERIES}-{EXPERIMENT}-notify.yaml\",\n",
    "    pipeline_root = f'gs://{GCS_BUCKET}/{SERIES}/{EXPERIMENT}/pipeline_root',\n",
    "    enable_caching = None # True (enabled), False (disable), None (defer to component level caching) \n",
    ")"
   ]
  },
  {
   "cell_type": "markdown",
   "id": "eda6ff5e-1dab-4833-a26f-efc215e4489c",
   "metadata": {},
   "source": [
    "### Submit Pipeline Job (On Vertex AI Pipelines)"
   ]
  },
  {
   "cell_type": "code",
   "execution_count": 20,
   "id": "59475843-859a-4afc-8866-8c350f40c46f",
   "metadata": {
    "tags": []
   },
   "outputs": [
    {
     "name": "stdout",
     "output_type": "stream",
     "text": [
      "Creating PipelineJob\n",
      "PipelineJob created. Resource name: projects/1026793852137/locations/us-central1/pipelineJobs/mlops-pipeline-notifications-notify-20240613182955\n",
      "To use this PipelineJob in another session:\n",
      "pipeline_job = aiplatform.PipelineJob.get('projects/1026793852137/locations/us-central1/pipelineJobs/mlops-pipeline-notifications-notify-20240613182955')\n",
      "View Pipeline Job:\n",
      "https://console.cloud.google.com/vertex-ai/locations/us-central1/pipelines/runs/mlops-pipeline-notifications-notify-20240613182955?project=1026793852137\n"
     ]
    }
   ],
   "source": [
    "response = pipeline_job.submit(\n",
    "    service_account = SERVICE_ACCOUNT\n",
    ")"
   ]
  },
  {
   "cell_type": "code",
   "execution_count": 21,
   "id": "b55ec202-c722-4eeb-afd9-f5dcc34f5c5f",
   "metadata": {
    "tags": []
   },
   "outputs": [
    {
     "name": "stdout",
     "output_type": "stream",
     "text": [
      "The Dashboard can be viewed here:\n",
      "https://console.cloud.google.com/vertex-ai/locations/us-central1/pipelines/runs/mlops-pipeline-notifications-notify-20240613182955?project=1026793852137\n"
     ]
    }
   ],
   "source": [
    "print(f'The Dashboard can be viewed here:\\n{pipeline_job._dashboard_uri()}')"
   ]
  },
  {
   "cell_type": "code",
   "execution_count": 22,
   "id": "c1dc7159-3194-4704-9b6b-aad4188d997a",
   "metadata": {
    "tags": []
   },
   "outputs": [
    {
     "name": "stdout",
     "output_type": "stream",
     "text": [
      "PipelineJob projects/1026793852137/locations/us-central1/pipelineJobs/mlops-pipeline-notifications-notify-20240613182955 current state:\n",
      "PipelineState.PIPELINE_STATE_RUNNING\n",
      "PipelineJob projects/1026793852137/locations/us-central1/pipelineJobs/mlops-pipeline-notifications-notify-20240613182955 current state:\n",
      "PipelineState.PIPELINE_STATE_RUNNING\n",
      "PipelineJob projects/1026793852137/locations/us-central1/pipelineJobs/mlops-pipeline-notifications-notify-20240613182955 current state:\n",
      "PipelineState.PIPELINE_STATE_RUNNING\n",
      "PipelineJob run completed. Resource name: projects/1026793852137/locations/us-central1/pipelineJobs/mlops-pipeline-notifications-notify-20240613182955\n"
     ]
    }
   ],
   "source": [
    "pipeline_job.wait()"
   ]
  },
  {
   "cell_type": "markdown",
   "id": "f489ede8-47d5-4f7d-bf57-079ee2fcbbef",
   "metadata": {},
   "source": [
    "## Get Pipelines Status\n",
    "\n",
    "- https://kubeflow-pipelines.readthedocs.io/en/stable/source/dsl.html#kfp.dsl.PipelineTaskFinalStatus\n",
    "- https://kubeflow-pipelines.readthedocs.io/en/stable/source/dsl.html#kfp.dsl.PipelineTaskFinalStatus"
   ]
  },
  {
   "cell_type": "code",
   "execution_count": 23,
   "id": "430154af-d2fc-4cd9-be3a-7e49ebebace9",
   "metadata": {
    "tags": []
   },
   "outputs": [],
   "source": [
    "@kfp.dsl.component(base_image = 'python:3.10')\n",
    "def exit_op(status: kfp.dsl.PipelineTaskFinalStatus) -> dict:\n",
    "    response = status.__dict__\n",
    "    return response"
   ]
  },
  {
   "cell_type": "code",
   "execution_count": 24,
   "id": "465a5f01-79a5-4e76-875a-62d0b857893b",
   "metadata": {
    "tags": []
   },
   "outputs": [],
   "source": [
    "@kfp.dsl.component(base_image = 'python:3.10')\n",
    "def force_fail():\n",
    "    import sys\n",
    "    sys.exit(1)"
   ]
  },
  {
   "cell_type": "code",
   "execution_count": 25,
   "id": "f87507aa-2b82-4c3e-875e-8d3b15056fa2",
   "metadata": {
    "tags": []
   },
   "outputs": [],
   "source": [
    "@kfp.dsl.pipeline(\n",
    "    name = f'{SERIES}-{EXPERIMENT}-status',\n",
    "    pipeline_root = f'gs://{GCS_BUCKET}/{SERIES}/{EXPERIMENT}/pipeline_root'\n",
    ")\n",
    "def status_pipeline():\n",
    "    \n",
    "    task_status = exit_op()\n",
    "    with kfp.dsl.ExitHandler(exit_task = task_status):\n",
    "        task_1 = roll_dice()\n",
    "        task_fail = force_fail().after(task_1)\n",
    "        task_2 = flip_coins(num_coins = task_1.output)"
   ]
  },
  {
   "cell_type": "markdown",
   "id": "69a958d2-a804-4a4b-a3e9-877c16846d19",
   "metadata": {},
   "source": [
    "### Compile Pipeline"
   ]
  },
  {
   "cell_type": "code",
   "execution_count": 26,
   "id": "b7af3ff4-e42b-457d-b8e1-eccda8ea6ce3",
   "metadata": {
    "tags": []
   },
   "outputs": [],
   "source": [
    "kfp.compiler.Compiler().compile(\n",
    "    pipeline_func = status_pipeline,\n",
    "    package_path = f'{DIR}/{SERIES}-{EXPERIMENT}-status.yaml'\n",
    ")"
   ]
  },
  {
   "cell_type": "markdown",
   "id": "de9891bd-e4a8-469e-99e7-349402bf5855",
   "metadata": {},
   "source": [
    "### Create Pipeline Job (With Vertex AI SDK)\n",
    "\n",
    "The compiled pipeline file can be submitted for running with the console or the SDK (shown here).  Check out the details in the documentation [here](https://cloud.google.com/vertex-ai/docs/pipelines/run-pipeline#create_a_pipeline_run) for an overview with the console.\n"
   ]
  },
  {
   "cell_type": "code",
   "execution_count": 27,
   "id": "bc0350eb-3c6b-4162-98ea-326da22a467a",
   "metadata": {
    "tags": []
   },
   "outputs": [],
   "source": [
    "pipeline_job = aiplatform.PipelineJob(\n",
    "    display_name = f\"{SERIES}-{EXPERIMENT}-status\",\n",
    "    template_path = f\"{DIR}/{SERIES}-{EXPERIMENT}-status.yaml\",\n",
    "    pipeline_root = f'gs://{GCS_BUCKET}/{SERIES}/{EXPERIMENT}/pipeline_root',\n",
    "    enable_caching = None # True (enabled), False (disable), None (defer to component level caching) \n",
    ")"
   ]
  },
  {
   "cell_type": "markdown",
   "id": "37ee4bb2-8495-45d9-8eaf-b71242f225c0",
   "metadata": {},
   "source": [
    "### Submit Pipeline Job (On Vertex AI Pipelines)"
   ]
  },
  {
   "cell_type": "code",
   "execution_count": 28,
   "id": "b1ee99b9-c432-4a9b-8175-638177c67ea2",
   "metadata": {
    "tags": []
   },
   "outputs": [
    {
     "name": "stdout",
     "output_type": "stream",
     "text": [
      "Creating PipelineJob\n",
      "PipelineJob created. Resource name: projects/1026793852137/locations/us-central1/pipelineJobs/mlops-pipeline-notifications-status-20240613183108\n",
      "To use this PipelineJob in another session:\n",
      "pipeline_job = aiplatform.PipelineJob.get('projects/1026793852137/locations/us-central1/pipelineJobs/mlops-pipeline-notifications-status-20240613183108')\n",
      "View Pipeline Job:\n",
      "https://console.cloud.google.com/vertex-ai/locations/us-central1/pipelines/runs/mlops-pipeline-notifications-status-20240613183108?project=1026793852137\n"
     ]
    }
   ],
   "source": [
    "response = pipeline_job.submit(\n",
    "    service_account = SERVICE_ACCOUNT\n",
    ")"
   ]
  },
  {
   "cell_type": "code",
   "execution_count": 29,
   "id": "da7d9d62-986e-4485-9bfa-c5461dc7677c",
   "metadata": {
    "tags": []
   },
   "outputs": [
    {
     "name": "stdout",
     "output_type": "stream",
     "text": [
      "The Dashboard can be viewed here:\n",
      "https://console.cloud.google.com/vertex-ai/locations/us-central1/pipelines/runs/mlops-pipeline-notifications-status-20240613183108?project=1026793852137\n"
     ]
    }
   ],
   "source": [
    "print(f'The Dashboard can be viewed here:\\n{pipeline_job._dashboard_uri()}')"
   ]
  },
  {
   "cell_type": "code",
   "execution_count": 30,
   "id": "bb5de43d-ed73-4b37-916b-afef187670b8",
   "metadata": {
    "tags": []
   },
   "outputs": [
    {
     "name": "stdout",
     "output_type": "stream",
     "text": [
      "PipelineJob projects/1026793852137/locations/us-central1/pipelineJobs/mlops-pipeline-notifications-status-20240613183108 current state:\n",
      "PipelineState.PIPELINE_STATE_RUNNING\n",
      "PipelineJob projects/1026793852137/locations/us-central1/pipelineJobs/mlops-pipeline-notifications-status-20240613183108 current state:\n",
      "PipelineState.PIPELINE_STATE_RUNNING\n",
      "PipelineJob projects/1026793852137/locations/us-central1/pipelineJobs/mlops-pipeline-notifications-status-20240613183108 current state:\n",
      "PipelineState.PIPELINE_STATE_RUNNING\n",
      "PipelineJob projects/1026793852137/locations/us-central1/pipelineJobs/mlops-pipeline-notifications-status-20240613183108 current state:\n",
      "PipelineState.PIPELINE_STATE_RUNNING\n",
      "RuntimeError was raised: Job failed with:\n",
      "code: 9\n",
      "message: \"The DAG failed because some tasks failed. The failed tasks are: [exit-handler-1].; Job (project_id = statmike-mlops-349915, job_id = 1052799151147843584) is failed due to the above error.; Failed to handle the job: {project_number = 1026793852137, job_id = 1052799151147843584}\"\n",
      "\n"
     ]
    }
   ],
   "source": [
    "try:\n",
    "    pipeline_job.wait()\n",
    "except Exception as err:\n",
    "    print(f\"{type(err).__name__} was raised: {err}\")"
   ]
  },
  {
   "cell_type": "markdown",
   "id": "f5e478c5-a0f2-4fa4-94dd-e1bfef4c6fc9",
   "metadata": {},
   "source": [
    "### Retrieve all runs to dataframe:\n",
    "- SDK Refrence: [`aiplatform.get_pipeline_df`](https://cloud.google.com/python/docs/reference/aiplatform/latest/google.cloud.aiplatform#google_cloud_aiplatform_get_pipeline_df)"
   ]
  },
  {
   "cell_type": "code",
   "execution_count": 31,
   "id": "b1f6e3b7-1989-422d-9d01-ea4d31d20479",
   "metadata": {
    "tags": []
   },
   "outputs": [
    {
     "data": {
      "text/html": [
       "<div>\n",
       "<style scoped>\n",
       "    .dataframe tbody tr th:only-of-type {\n",
       "        vertical-align: middle;\n",
       "    }\n",
       "\n",
       "    .dataframe tbody tr th {\n",
       "        vertical-align: top;\n",
       "    }\n",
       "\n",
       "    .dataframe thead th {\n",
       "        text-align: right;\n",
       "    }\n",
       "</style>\n",
       "<table border=\"1\" class=\"dataframe\">\n",
       "  <thead>\n",
       "    <tr style=\"text-align: right;\">\n",
       "      <th></th>\n",
       "      <th>pipeline_name</th>\n",
       "      <th>run_name</th>\n",
       "      <th>param.vmlmd_lineage_integration</th>\n",
       "    </tr>\n",
       "  </thead>\n",
       "  <tbody>\n",
       "    <tr>\n",
       "      <th>0</th>\n",
       "      <td>mlops-pipeline-notifications-status</td>\n",
       "      <td>mlops-pipeline-notifications-status-2024061318...</td>\n",
       "      <td>{'pipeline_run_component': {'location_id': 'us...</td>\n",
       "    </tr>\n",
       "    <tr>\n",
       "      <th>1</th>\n",
       "      <td>mlops-pipeline-notifications-status</td>\n",
       "      <td>mlops-pipeline-notifications-status-2024061318...</td>\n",
       "      <td>{'pipeline_run_component': {'location_id': 'us...</td>\n",
       "    </tr>\n",
       "    <tr>\n",
       "      <th>2</th>\n",
       "      <td>mlops-pipeline-notifications-status</td>\n",
       "      <td>mlops-pipeline-notifications-status-2024061317...</td>\n",
       "      <td>{'pipeline_run_component': {'parent_task_names...</td>\n",
       "    </tr>\n",
       "    <tr>\n",
       "      <th>3</th>\n",
       "      <td>mlops-pipeline-notifications-status</td>\n",
       "      <td>mlops-pipeline-notifications-status-2024061317...</td>\n",
       "      <td>{'pipeline_run_component': {'task_name': 'mlop...</td>\n",
       "    </tr>\n",
       "  </tbody>\n",
       "</table>\n",
       "</div>"
      ],
      "text/plain": [
       "                         pipeline_name  \\\n",
       "0  mlops-pipeline-notifications-status   \n",
       "1  mlops-pipeline-notifications-status   \n",
       "2  mlops-pipeline-notifications-status   \n",
       "3  mlops-pipeline-notifications-status   \n",
       "\n",
       "                                            run_name  \\\n",
       "0  mlops-pipeline-notifications-status-2024061318...   \n",
       "1  mlops-pipeline-notifications-status-2024061318...   \n",
       "2  mlops-pipeline-notifications-status-2024061317...   \n",
       "3  mlops-pipeline-notifications-status-2024061317...   \n",
       "\n",
       "                     param.vmlmd_lineage_integration  \n",
       "0  {'pipeline_run_component': {'location_id': 'us...  \n",
       "1  {'pipeline_run_component': {'location_id': 'us...  \n",
       "2  {'pipeline_run_component': {'parent_task_names...  \n",
       "3  {'pipeline_run_component': {'task_name': 'mlop...  "
      ]
     },
     "execution_count": 31,
     "metadata": {},
     "output_type": "execute_result"
    }
   ],
   "source": [
    "aiplatform.get_pipeline_df(pipeline = f'{SERIES}-{EXPERIMENT}-status')"
   ]
  },
  {
   "cell_type": "code",
   "execution_count": 32,
   "id": "4922d1b5-d995-4809-b868-27453c30b1a6",
   "metadata": {
    "tags": []
   },
   "outputs": [
    {
     "name": "stdout",
     "output_type": "stream",
     "text": [
      "flip-coins State.SKIPPED\n",
      "mlops-pipeline-notifications-status-20240613183108 State.FAILED\n",
      "roll-dice State.SKIPPED\n",
      "exit-op State.SUCCEEDED\n",
      "force-fail State.FAILED\n",
      "exit-handler-1 State.FAILED\n"
     ]
    }
   ],
   "source": [
    "for task in pipeline_job.task_details:\n",
    "    print(task.task_name, task.state)"
   ]
  },
  {
   "cell_type": "markdown",
   "id": "e5694070-dacf-4e70-99c3-d1b10f792ea6",
   "metadata": {},
   "source": [
    "---\n",
    "## Use Pipeline Status To Conditionally Send Email Notifications\n",
    "\n",
    "Idea:\n",
    "- Create Pub/Sub Topic\n",
    "- Create Pipeline Component that sends subject and body to Pub/Sub Topic\n",
    "- Create Application Integration that listens to Pub/Sub Topic and Sends Emails\n",
    "\n",
    "Motivation: https://cloud.google.com/application-integration/docs/listen-pub-sub-topic-send-email"
   ]
  },
  {
   "cell_type": "markdown",
   "id": "e7df42cb-c675-4bd2-8720-b8e8a9bc3fb3",
   "metadata": {
    "tags": []
   },
   "source": [
    "### Create Pub/Sub Topic\n",
    "\n",
    "The main concepts:\n",
    "- Topic - a feed of messages\n",
    "     - Publish - send a new message to a topic\n",
    "     - Subscription - receive messages that arrive on topic\n",
    "          - Push - the subscriber has new messages pushed to it\n",
    "          - Pull - the subscriber request new messages by pulling them\n",
    "          \n",
    "In this example, a topic will be set up for receiving new event entries for the tracking pixel.  Publishing a new message to this topic will trigger a data load to BigQuery by the Cloud Function (setup below).  The Cloud Funtion will have a push subscription to the topic."
   ]
  },
  {
   "cell_type": "code",
   "execution_count": 47,
   "id": "cd6b6658-359b-4d4f-8d2d-c402da54031b",
   "metadata": {
    "tags": []
   },
   "outputs": [
    {
     "data": {
      "text/plain": [
       "'mlops-pipeline-notifications'"
      ]
     },
     "execution_count": 47,
     "metadata": {},
     "output_type": "execute_result"
    }
   ],
   "source": [
    "PUBSUB_TOPIC = f'{SERIES}-{EXPERIMENT}'\n",
    "PUBSUB_TOPIC"
   ]
  },
  {
   "cell_type": "code",
   "execution_count": 48,
   "id": "7cd1f609-deaf-42c9-acde-21ddd1089553",
   "metadata": {
    "tags": []
   },
   "outputs": [
    {
     "name": "stdout",
     "output_type": "stream",
     "text": [
      "projects/statmike-mlops-349915/topics/mlops-pipeline-notifications\n"
     ]
    }
   ],
   "source": [
    "try:\n",
    "    topic = pubsub_pubclient.get_topic(\n",
    "        topic = pubsub_pubclient.topic_path(PROJECT_ID, PUBSUB_TOPIC)\n",
    "    )\n",
    "    print(topic.name)\n",
    "except Exception:\n",
    "    topic = pubsub_pubclient.create_topic(\n",
    "        name = pubsub_pubclient.topic_path(PROJECT_ID, PUBSUB_TOPIC)\n",
    "    )\n",
    "    print(topic.name)   "
   ]
  },
  {
   "cell_type": "markdown",
   "id": "e8bf3050-dfe7-4d32-b02f-149ce840f52a",
   "metadata": {},
   "source": [
    "### Create Pipeline Component For Exit Handling\n",
    "\n",
    "- Needs to receive `fp.dsl.PipelineTaskFinalStatus`\n",
    "- prepare strings for email subject and body\n",
    "- send email content to pub/sub topic"
   ]
  },
  {
   "cell_type": "code",
   "execution_count": 92,
   "id": "8c57b942-581b-44df-ac2e-7ebb738191f7",
   "metadata": {
    "tags": []
   },
   "outputs": [],
   "source": [
    "@kfp.dsl.component(\n",
    "    base_image = 'python:3.10',\n",
    "    packages_to_install = ['google-cloud-pubsub', 'google-cloud-aiplatform']\n",
    ")\n",
    "def email_on_failure(recipients: list, status: kfp.dsl.PipelineTaskFinalStatus) -> dict:\n",
    "    response = status.__dict__\n",
    "\n",
    "    # if failure, send email\n",
    "    if status.state == 'FAILED':\n",
    "\n",
    "        # retrieve pipeline:\n",
    "        from google.cloud import aiplatform\n",
    "        aiplatform.init(\n",
    "            project = status.pipeline_job_resource_name.split('/')[1],\n",
    "            location = status.pipeline_job_resource_name.split('/')[3]\n",
    "        )\n",
    "        pipeline_job = aiplatform.PipelineJob.get(resource_name = status.pipeline_job_resource_name)\n",
    "\n",
    "        # prepare email subject and body:\n",
    "        email = dict(\n",
    "            recipients = recipients,\n",
    "            subject = f'Vertex AI Pipeline Job Failed: {pipeline_job.name}',\n",
    "            body = (\n",
    "f'''Hello Vertex AI Pipelines Reviewer,\n",
    "\n",
    "Vertex AI Pipelines Job \"{pipeline_job.display_name}\" experienced a failure.\n",
    "\n",
    "Additional Details:\n",
    "- Project: {status.pipeline_job_resource_name.split('/')[1]}\n",
    "- Pipeline Name: {pipeline_job.display_name}\n",
    "- Pipeline job ID: {pipeline_job.name}\n",
    "- Start Time: {pipeline_job.create_time.isoformat(timespec='microseconds')}\n",
    "\n",
    "To view this pipeline job in Cloud Console, use the following link:\n",
    "https://console.cloud.google.com/vertex-ai/locations/{status.pipeline_job_resource_name.split('/')[3]}/pipelines/runs/{pipeline_job.name}?project={status.pipeline_job_resource_name.split('/')[1]}\n",
    "\n",
    "Sincerely,\n",
    "The MLOps Team\n",
    "''')\n",
    "        )\n",
    "\n",
    "        # send email details to pub/sub\n",
    "        from google.cloud import pubsub_v1\n",
    "        import json\n",
    "        pubsub_pubclient = pubsub_v1.PublisherClient()\n",
    "        message = json.dumps(email).encode('utf-8')\n",
    "        future = pubsub_pubclient.publish(\n",
    "            'projects/statmike-mlops-349915/topics/mlops-pipeline-notifications', # hardcoded, might be better to parameterize\n",
    "            message,\n",
    "            trigger = 'manual'\n",
    "        )\n",
    "        \n",
    "        # add email and pub/sub future to the component response\n",
    "        response = response | email | dict(future = future.result())\n",
    "    \n",
    "    return response"
   ]
  },
  {
   "cell_type": "markdown",
   "id": "a297b897-670a-4c7a-bfeb-f20a8a3239c5",
   "metadata": {},
   "source": [
    "### Create Application Integration To Send Emails\n",
    "\n",
    "These steps are conducted in the Application Integration Cloud Console Page:\n",
    "- [Go to Application Integration](https://console.cloud.google.com/integrations)\n",
    "    - In the navigation menu, select Overview\n",
    "        - Setup Application Integrations\n",
    "        - Select Region, 'us-central1' for this workflow\n",
    "        - Click 'Quick Setup'\n",
    "    - In the navigation menu, select Integrations\n",
    "        - Select 'Create Integration'\n",
    "        - Enter a name: 'mlops-notifications'\n",
    "        - Click 'Create'\n",
    "    - In the editor, select 'Triggers' then 'Cloud Pub/Sub Trigger'\n",
    "        - Click to place the element on the designer surface\n",
    "        - Configure the Cloud Pub/Sub trigger:\n",
    "            - Click the element on the designer surface\n",
    "            - Enter the Pub/Sub topic name in the right pane\n",
    "            - Select a service account\n",
    "            - Click to grant roles to service account\n",
    "    - In the editor, select 'Tasks' then 'Data Mapping'\n",
    "        - Click to place the element on the designer surface (below the Cloud Pub/Sub Trigger)\n",
    "        - Click the 'Data Mapping' element on the designer surface\n",
    "        - Click 'Open Data Mapping Editor' on the right pane\n",
    "            - Expand the `CloudPubSubMessage` JSON variable in the 'Local Variables' list on the left pane\n",
    "            - Click and drag `CloudPubSUbMessaage.data` to the 'Input' row as the first element\n",
    "            \n",
    "    \n",
    "    "
   ]
  },
  {
   "cell_type": "code",
   "execution_count": null,
   "id": "f2d32f54-831f-4f8d-99ba-57bc464ff556",
   "metadata": {},
   "outputs": [],
   "source": [
    "test = {\"subject\":\"Vertex AI Pipeline Job Failed: mlops-pipeline-notifications-notify-on-failure-20240613222557\",\"recipients\":[\"statmike@google.com\"],\"body\":\"Hello Vertex AI Pipelines Reviewer,\\n\\nVertex AI Pipelines Job \\\"mlops-pipeline-notifications-notify-on_failure\\\" experienced a failure.\\n\\nAdditional Details:\\n- Project: 1026793852137\\n- Pipeline Name: mlops-pipeline-notifications-notify-on_failure\\n- Pipeline job ID: mlops-pipeline-notifications-notify-on-failure-20240613222557\\n- Start Time: 2024-06-13T22:25:57.977590+00:00\\n\\nTo view this pipeline job in Cloud Console, use the following link:\\nhttps://console.cloud.google.com/vertex-ai/locations/us-central1/pipelines/runs/mlops-pipeline-notifications-notify-on-failure-20240613222557?project=1026793852137\\n\\nSincerely,\\nThe MLOps Team\\n\"}"
   ]
  },
  {
   "cell_type": "code",
   "execution_count": null,
   "id": "4be47e3f-f530-4b34-9100-a0e5f5cf6885",
   "metadata": {},
   "outputs": [],
   "source": []
  },
  {
   "cell_type": "code",
   "execution_count": null,
   "id": "7f3e1db5-bc95-47fd-8820-de69e76bf406",
   "metadata": {},
   "outputs": [],
   "source": []
  },
  {
   "cell_type": "markdown",
   "id": "111d3d27-3004-428d-9bcd-061f85c4235f",
   "metadata": {},
   "source": [
    "### Create and Run Pipeline"
   ]
  },
  {
   "cell_type": "code",
   "execution_count": 93,
   "id": "388473c4-080c-42a5-89f1-b75338477170",
   "metadata": {
    "tags": []
   },
   "outputs": [],
   "source": [
    "@kfp.dsl.pipeline(\n",
    "    name = f'{SERIES}-{EXPERIMENT}-notify-on_failure',\n",
    "    pipeline_root = f'gs://{GCS_BUCKET}/{SERIES}/{EXPERIMENT}/pipeline_root'\n",
    ")\n",
    "def email_pipeline(emails: list):\n",
    "    \n",
    "    fail_status = email_on_failure(recipients = emails)\n",
    "    with kfp.dsl.ExitHandler(exit_task = fail_status):\n",
    "        task_1 = roll_dice()\n",
    "        task_fail = force_fail().after(task_1)\n",
    "        task_2 = flip_coins(num_coins = task_1.output)"
   ]
  },
  {
   "cell_type": "markdown",
   "id": "beef7557-3caa-4ddc-b295-f15875cd6084",
   "metadata": {},
   "source": [
    "### Compile Pipeline"
   ]
  },
  {
   "cell_type": "code",
   "execution_count": 94,
   "id": "4b3800d5-616d-4382-ad12-ab8cab826145",
   "metadata": {
    "tags": []
   },
   "outputs": [],
   "source": [
    "kfp.compiler.Compiler().compile(\n",
    "    pipeline_func = email_pipeline,\n",
    "    package_path = f'{DIR}/{SERIES}-{EXPERIMENT}-notify-on_failure.yaml'\n",
    ")"
   ]
  },
  {
   "cell_type": "markdown",
   "id": "9d3173ae-4e69-4726-84f8-7903bff0a284",
   "metadata": {},
   "source": [
    "### Create Pipeline Job (With Vertex AI SDK)\n",
    "\n",
    "The compiled pipeline file can be submitted for running with the console or the SDK (shown here).  Check out the details in the documentation [here](https://cloud.google.com/vertex-ai/docs/pipelines/run-pipeline#create_a_pipeline_run) for an overview with the console.\n"
   ]
  },
  {
   "cell_type": "code",
   "execution_count": 95,
   "id": "00e61670-38e3-4222-a31b-429bba7e07dc",
   "metadata": {
    "tags": []
   },
   "outputs": [],
   "source": [
    "pipeline_job = aiplatform.PipelineJob(\n",
    "    display_name = f\"{SERIES}-{EXPERIMENT}-notify-on_failure\",\n",
    "    template_path = f\"{DIR}/{SERIES}-{EXPERIMENT}-notify-on_failure.yaml\",\n",
    "    parameter_values = dict(\n",
    "        emails = ['statmike@google.com']\n",
    "    ),\n",
    "    pipeline_root = f'gs://{GCS_BUCKET}/{SERIES}/{EXPERIMENT}/pipeline_root',\n",
    "    enable_caching = None # True (enabled), False (disable), None (defer to component level caching) \n",
    ")"
   ]
  },
  {
   "cell_type": "markdown",
   "id": "71bb372d-0e38-4e14-b292-44ed714b6f71",
   "metadata": {},
   "source": [
    "### Submit Pipeline Job (On Vertex AI Pipelines)"
   ]
  },
  {
   "cell_type": "code",
   "execution_count": 96,
   "id": "d1e56b58-1f3d-4e0a-9b89-1359b8f407fb",
   "metadata": {
    "tags": []
   },
   "outputs": [
    {
     "name": "stdout",
     "output_type": "stream",
     "text": [
      "Creating PipelineJob\n",
      "PipelineJob created. Resource name: projects/1026793852137/locations/us-central1/pipelineJobs/mlops-pipeline-notifications-notify-on-failure-20240613222557\n",
      "To use this PipelineJob in another session:\n",
      "pipeline_job = aiplatform.PipelineJob.get('projects/1026793852137/locations/us-central1/pipelineJobs/mlops-pipeline-notifications-notify-on-failure-20240613222557')\n",
      "View Pipeline Job:\n",
      "https://console.cloud.google.com/vertex-ai/locations/us-central1/pipelines/runs/mlops-pipeline-notifications-notify-on-failure-20240613222557?project=1026793852137\n"
     ]
    }
   ],
   "source": [
    "response = pipeline_job.submit(\n",
    "    service_account = SERVICE_ACCOUNT\n",
    ")"
   ]
  },
  {
   "cell_type": "code",
   "execution_count": 97,
   "id": "150620b2-9c0d-4a57-8b59-64b5342de500",
   "metadata": {
    "tags": []
   },
   "outputs": [
    {
     "name": "stdout",
     "output_type": "stream",
     "text": [
      "The Dashboard can be viewed here:\n",
      "https://console.cloud.google.com/vertex-ai/locations/us-central1/pipelines/runs/mlops-pipeline-notifications-notify-on-failure-20240613222557?project=1026793852137\n"
     ]
    }
   ],
   "source": [
    "print(f'The Dashboard can be viewed here:\\n{pipeline_job._dashboard_uri()}')"
   ]
  },
  {
   "cell_type": "code",
   "execution_count": 98,
   "id": "bc878d7a-3a4b-4588-a6c9-26960c4a76d7",
   "metadata": {
    "tags": []
   },
   "outputs": [
    {
     "name": "stdout",
     "output_type": "stream",
     "text": [
      "PipelineJob projects/1026793852137/locations/us-central1/pipelineJobs/mlops-pipeline-notifications-notify-on-failure-20240613222557 current state:\n",
      "PipelineState.PIPELINE_STATE_RUNNING\n",
      "PipelineJob projects/1026793852137/locations/us-central1/pipelineJobs/mlops-pipeline-notifications-notify-on-failure-20240613222557 current state:\n",
      "PipelineState.PIPELINE_STATE_RUNNING\n",
      "PipelineJob projects/1026793852137/locations/us-central1/pipelineJobs/mlops-pipeline-notifications-notify-on-failure-20240613222557 current state:\n",
      "PipelineState.PIPELINE_STATE_RUNNING\n",
      "PipelineJob projects/1026793852137/locations/us-central1/pipelineJobs/mlops-pipeline-notifications-notify-on-failure-20240613222557 current state:\n",
      "PipelineState.PIPELINE_STATE_RUNNING\n",
      "RuntimeError was raised: Job failed with:\n",
      "code: 9\n",
      "message: \"The DAG failed because some tasks failed. The failed tasks are: [exit-handler-1].; Job (project_id = statmike-mlops-349915, job_id = 3959309760662077440) is failed due to the above error.; Failed to handle the job: {project_number = 1026793852137, job_id = 3959309760662077440}\"\n",
      "\n"
     ]
    }
   ],
   "source": [
    "try:\n",
    "    pipeline_job.wait()\n",
    "except Exception as err:\n",
    "    print(f\"{type(err).__name__} was raised: {err}\")"
   ]
  },
  {
   "cell_type": "markdown",
   "id": "8fc4d809-2ab7-4803-9f0b-2cc2d17c51d9",
   "metadata": {},
   "source": [
    "### Retrieve all runs to dataframe:\n",
    "- SDK Refrence: [`aiplatform.get_pipeline_df`](https://cloud.google.com/python/docs/reference/aiplatform/latest/google.cloud.aiplatform#google_cloud_aiplatform_get_pipeline_df)"
   ]
  },
  {
   "cell_type": "code",
   "execution_count": 99,
   "id": "acb4f07e-51d0-403c-8247-3b5d3d4ea6e9",
   "metadata": {
    "tags": []
   },
   "outputs": [
    {
     "ename": "InvalidArgument",
     "evalue": "400 User-specified resource ID must match the regular expression '[a-z0-9][a-z0-9-]{0,127}'",
     "output_type": "error",
     "traceback": [
      "\u001b[0;31m---------------------------------------------------------------------------\u001b[0m",
      "\u001b[0;31mInvalidArgument\u001b[0m                           Traceback (most recent call last)",
      "Cell \u001b[0;32mIn[99], line 1\u001b[0m\n\u001b[0;32m----> 1\u001b[0m \u001b[43maiplatform\u001b[49m\u001b[38;5;241;43m.\u001b[39;49m\u001b[43mget_pipeline_df\u001b[49m\u001b[43m(\u001b[49m\u001b[43mpipeline\u001b[49m\u001b[43m \u001b[49m\u001b[38;5;241;43m=\u001b[39;49m\u001b[43m \u001b[49m\u001b[38;5;124;43mf\u001b[39;49m\u001b[38;5;124;43m'\u001b[39;49m\u001b[38;5;132;43;01m{\u001b[39;49;00m\u001b[43mSERIES\u001b[49m\u001b[38;5;132;43;01m}\u001b[39;49;00m\u001b[38;5;124;43m-\u001b[39;49m\u001b[38;5;132;43;01m{\u001b[39;49;00m\u001b[43mEXPERIMENT\u001b[49m\u001b[38;5;132;43;01m}\u001b[39;49;00m\u001b[38;5;124;43m-notify-on_failure\u001b[39;49m\u001b[38;5;124;43m'\u001b[39;49m\u001b[43m)\u001b[49m\n",
      "File \u001b[0;32m~/.local/lib/python3.10/site-packages/google/cloud/aiplatform/metadata/metadata.py:103\u001b[0m, in \u001b[0;36m_LegacyExperimentService.get_pipeline_df\u001b[0;34m(pipeline)\u001b[0m\n\u001b[1;32m     92\u001b[0m \u001b[38;5;250m\u001b[39m\u001b[38;5;124;03m\"\"\"Returns a Pandas DataFrame of the parameters and metrics associated with one pipeline.\u001b[39;00m\n\u001b[1;32m     93\u001b[0m \n\u001b[1;32m     94\u001b[0m \u001b[38;5;124;03mArgs:\u001b[39;00m\n\u001b[0;32m   (...)\u001b[0m\n\u001b[1;32m     98\u001b[0m \u001b[38;5;124;03m    Pandas Dataframe of Pipeline with metrics and parameters.\u001b[39;00m\n\u001b[1;32m     99\u001b[0m \u001b[38;5;124;03m\"\"\"\u001b[39;00m\n\u001b[1;32m    101\u001b[0m source \u001b[38;5;241m=\u001b[39m \u001b[38;5;124m\"\u001b[39m\u001b[38;5;124mpipeline\u001b[39m\u001b[38;5;124m\"\u001b[39m\n\u001b[1;32m    102\u001b[0m pipeline_resource_name \u001b[38;5;241m=\u001b[39m (\n\u001b[0;32m--> 103\u001b[0m     \u001b[43m_LegacyExperimentService\u001b[49m\u001b[38;5;241;43m.\u001b[39;49m\u001b[43m_get_experiment_or_pipeline_resource_name\u001b[49m\u001b[43m(\u001b[49m\n\u001b[1;32m    104\u001b[0m \u001b[43m        \u001b[49m\u001b[43mname\u001b[49m\u001b[38;5;241;43m=\u001b[39;49m\u001b[43mpipeline\u001b[49m\u001b[43m,\u001b[49m\u001b[43m \u001b[49m\u001b[43msource\u001b[49m\u001b[38;5;241;43m=\u001b[39;49m\u001b[43msource\u001b[49m\u001b[43m,\u001b[49m\u001b[43m \u001b[49m\u001b[43mexpected_schema\u001b[49m\u001b[38;5;241;43m=\u001b[39;49m\u001b[43mconstants\u001b[49m\u001b[38;5;241;43m.\u001b[39;49m\u001b[43mSYSTEM_PIPELINE\u001b[49m\n\u001b[1;32m    105\u001b[0m \u001b[43m    \u001b[49m\u001b[43m)\u001b[49m\n\u001b[1;32m    106\u001b[0m )\n\u001b[1;32m    108\u001b[0m \u001b[38;5;28;01mreturn\u001b[39;00m _LegacyExperimentService\u001b[38;5;241m.\u001b[39m_query_runs_to_data_frame(\n\u001b[1;32m    109\u001b[0m     context_id\u001b[38;5;241m=\u001b[39mpipeline,\n\u001b[1;32m    110\u001b[0m     context_resource_name\u001b[38;5;241m=\u001b[39mpipeline_resource_name,\n\u001b[1;32m    111\u001b[0m     source\u001b[38;5;241m=\u001b[39msource,\n\u001b[1;32m    112\u001b[0m )\n",
      "File \u001b[0;32m~/.local/lib/python3.10/site-packages/google/cloud/aiplatform/metadata/metadata.py:135\u001b[0m, in \u001b[0;36m_LegacyExperimentService._get_experiment_or_pipeline_resource_name\u001b[0;34m(name, source, expected_schema)\u001b[0m\n\u001b[1;32m    114\u001b[0m \u001b[38;5;129m@staticmethod\u001b[39m\n\u001b[1;32m    115\u001b[0m \u001b[38;5;28;01mdef\u001b[39;00m \u001b[38;5;21m_get_experiment_or_pipeline_resource_name\u001b[39m(\n\u001b[1;32m    116\u001b[0m     name: \u001b[38;5;28mstr\u001b[39m, source: \u001b[38;5;28mstr\u001b[39m, expected_schema: \u001b[38;5;28mstr\u001b[39m\n\u001b[1;32m    117\u001b[0m ) \u001b[38;5;241m-\u001b[39m\u001b[38;5;241m>\u001b[39m \u001b[38;5;28mstr\u001b[39m:\n\u001b[1;32m    118\u001b[0m \u001b[38;5;250m    \u001b[39m\u001b[38;5;124;03m\"\"\"Get the full resource name of the Context representing an Experiment or Pipeline.\u001b[39;00m\n\u001b[1;32m    119\u001b[0m \n\u001b[1;32m    120\u001b[0m \u001b[38;5;124;03m    Args:\u001b[39;00m\n\u001b[0;32m   (...)\u001b[0m\n\u001b[1;32m    132\u001b[0m \u001b[38;5;124;03m        NotFound exception if experiment or pipeline does not exist.\u001b[39;00m\n\u001b[1;32m    133\u001b[0m \u001b[38;5;124;03m    \"\"\"\u001b[39;00m\n\u001b[0;32m--> 135\u001b[0m     this_context \u001b[38;5;241m=\u001b[39m \u001b[43mcontext\u001b[49m\u001b[38;5;241;43m.\u001b[39;49m\u001b[43mContext\u001b[49m\u001b[43m(\u001b[49m\u001b[43mresource_name\u001b[49m\u001b[38;5;241;43m=\u001b[39;49m\u001b[43mname\u001b[49m\u001b[43m)\u001b[49m\n\u001b[1;32m    137\u001b[0m     \u001b[38;5;28;01mif\u001b[39;00m this_context\u001b[38;5;241m.\u001b[39mschema_title \u001b[38;5;241m!=\u001b[39m expected_schema:\n\u001b[1;32m    138\u001b[0m         \u001b[38;5;28;01mraise\u001b[39;00m \u001b[38;5;167;01mValueError\u001b[39;00m(\n\u001b[1;32m    139\u001b[0m             \u001b[38;5;124mf\u001b[39m\u001b[38;5;124m\"\u001b[39m\u001b[38;5;124mPlease provide a valid \u001b[39m\u001b[38;5;132;01m{\u001b[39;00msource\u001b[38;5;132;01m}\u001b[39;00m\u001b[38;5;124m name. \u001b[39m\u001b[38;5;132;01m{\u001b[39;00mname\u001b[38;5;132;01m}\u001b[39;00m\u001b[38;5;124m is not a \u001b[39m\u001b[38;5;132;01m{\u001b[39;00msource\u001b[38;5;132;01m}\u001b[39;00m\u001b[38;5;124m.\u001b[39m\u001b[38;5;124m\"\u001b[39m\n\u001b[1;32m    140\u001b[0m         )\n",
      "File \u001b[0;32m~/.local/lib/python3.10/site-packages/google/cloud/aiplatform/metadata/resource.py:102\u001b[0m, in \u001b[0;36m_Resource.__init__\u001b[0;34m(self, resource_name, resource, metadata_store_id, project, location, credentials)\u001b[0m\n\u001b[1;32m     89\u001b[0m \u001b[38;5;28;01melse\u001b[39;00m:\n\u001b[1;32m     90\u001b[0m     full_resource_name \u001b[38;5;241m=\u001b[39m utils\u001b[38;5;241m.\u001b[39mfull_resource_name(\n\u001b[1;32m     91\u001b[0m         resource_name\u001b[38;5;241m=\u001b[39mresource_name,\n\u001b[1;32m     92\u001b[0m         resource_noun\u001b[38;5;241m=\u001b[39m\u001b[38;5;28mself\u001b[39m\u001b[38;5;241m.\u001b[39m_resource_noun,\n\u001b[0;32m   (...)\u001b[0m\n\u001b[1;32m     99\u001b[0m         location\u001b[38;5;241m=\u001b[39m\u001b[38;5;28mself\u001b[39m\u001b[38;5;241m.\u001b[39mlocation,\n\u001b[1;32m    100\u001b[0m     )\n\u001b[0;32m--> 102\u001b[0m     \u001b[38;5;28mself\u001b[39m\u001b[38;5;241m.\u001b[39m_gca_resource \u001b[38;5;241m=\u001b[39m \u001b[38;5;28;43mgetattr\u001b[39;49m\u001b[43m(\u001b[49m\u001b[38;5;28;43mself\u001b[39;49m\u001b[38;5;241;43m.\u001b[39;49m\u001b[43mapi_client\u001b[49m\u001b[43m,\u001b[49m\u001b[43m \u001b[49m\u001b[38;5;28;43mself\u001b[39;49m\u001b[38;5;241;43m.\u001b[39;49m\u001b[43m_getter_method\u001b[49m\u001b[43m)\u001b[49m\u001b[43m(\u001b[49m\n\u001b[1;32m    103\u001b[0m \u001b[43m        \u001b[49m\u001b[43mname\u001b[49m\u001b[38;5;241;43m=\u001b[39;49m\u001b[43mfull_resource_name\u001b[49m\u001b[43m,\u001b[49m\u001b[43m \u001b[49m\u001b[43mretry\u001b[49m\u001b[38;5;241;43m=\u001b[39;49m\u001b[43mbase\u001b[49m\u001b[38;5;241;43m.\u001b[39;49m\u001b[43m_DEFAULT_RETRY\u001b[49m\n\u001b[1;32m    104\u001b[0m \u001b[43m    \u001b[49m\u001b[43m)\u001b[49m\n\u001b[1;32m    106\u001b[0m \u001b[38;5;28mself\u001b[39m\u001b[38;5;241m.\u001b[39m_threading_lock \u001b[38;5;241m=\u001b[39m threading\u001b[38;5;241m.\u001b[39mLock()\n",
      "File \u001b[0;32m~/.local/lib/python3.10/site-packages/google/cloud/aiplatform_v1/services/metadata_service/client.py:2234\u001b[0m, in \u001b[0;36mMetadataServiceClient.get_context\u001b[0;34m(self, request, name, retry, timeout, metadata)\u001b[0m\n\u001b[1;32m   2231\u001b[0m \u001b[38;5;28mself\u001b[39m\u001b[38;5;241m.\u001b[39m_validate_universe_domain()\n\u001b[1;32m   2233\u001b[0m \u001b[38;5;66;03m# Send the request.\u001b[39;00m\n\u001b[0;32m-> 2234\u001b[0m response \u001b[38;5;241m=\u001b[39m \u001b[43mrpc\u001b[49m\u001b[43m(\u001b[49m\n\u001b[1;32m   2235\u001b[0m \u001b[43m    \u001b[49m\u001b[43mrequest\u001b[49m\u001b[43m,\u001b[49m\n\u001b[1;32m   2236\u001b[0m \u001b[43m    \u001b[49m\u001b[43mretry\u001b[49m\u001b[38;5;241;43m=\u001b[39;49m\u001b[43mretry\u001b[49m\u001b[43m,\u001b[49m\n\u001b[1;32m   2237\u001b[0m \u001b[43m    \u001b[49m\u001b[43mtimeout\u001b[49m\u001b[38;5;241;43m=\u001b[39;49m\u001b[43mtimeout\u001b[49m\u001b[43m,\u001b[49m\n\u001b[1;32m   2238\u001b[0m \u001b[43m    \u001b[49m\u001b[43mmetadata\u001b[49m\u001b[38;5;241;43m=\u001b[39;49m\u001b[43mmetadata\u001b[49m\u001b[43m,\u001b[49m\n\u001b[1;32m   2239\u001b[0m \u001b[43m\u001b[49m\u001b[43m)\u001b[49m\n\u001b[1;32m   2241\u001b[0m \u001b[38;5;66;03m# Done; return the response.\u001b[39;00m\n\u001b[1;32m   2242\u001b[0m \u001b[38;5;28;01mreturn\u001b[39;00m response\n",
      "File \u001b[0;32m~/.local/lib/python3.10/site-packages/google/api_core/gapic_v1/method.py:131\u001b[0m, in \u001b[0;36m_GapicCallable.__call__\u001b[0;34m(self, timeout, retry, compression, *args, **kwargs)\u001b[0m\n\u001b[1;32m    128\u001b[0m \u001b[38;5;28;01mif\u001b[39;00m \u001b[38;5;28mself\u001b[39m\u001b[38;5;241m.\u001b[39m_compression \u001b[38;5;129;01mis\u001b[39;00m \u001b[38;5;129;01mnot\u001b[39;00m \u001b[38;5;28;01mNone\u001b[39;00m:\n\u001b[1;32m    129\u001b[0m     kwargs[\u001b[38;5;124m\"\u001b[39m\u001b[38;5;124mcompression\u001b[39m\u001b[38;5;124m\"\u001b[39m] \u001b[38;5;241m=\u001b[39m compression\n\u001b[0;32m--> 131\u001b[0m \u001b[38;5;28;01mreturn\u001b[39;00m \u001b[43mwrapped_func\u001b[49m\u001b[43m(\u001b[49m\u001b[38;5;241;43m*\u001b[39;49m\u001b[43margs\u001b[49m\u001b[43m,\u001b[49m\u001b[43m \u001b[49m\u001b[38;5;241;43m*\u001b[39;49m\u001b[38;5;241;43m*\u001b[39;49m\u001b[43mkwargs\u001b[49m\u001b[43m)\u001b[49m\n",
      "File \u001b[0;32m~/.local/lib/python3.10/site-packages/google/api_core/retry/retry_unary.py:293\u001b[0m, in \u001b[0;36mRetry.__call__.<locals>.retry_wrapped_func\u001b[0;34m(*args, **kwargs)\u001b[0m\n\u001b[1;32m    289\u001b[0m target \u001b[38;5;241m=\u001b[39m functools\u001b[38;5;241m.\u001b[39mpartial(func, \u001b[38;5;241m*\u001b[39margs, \u001b[38;5;241m*\u001b[39m\u001b[38;5;241m*\u001b[39mkwargs)\n\u001b[1;32m    290\u001b[0m sleep_generator \u001b[38;5;241m=\u001b[39m exponential_sleep_generator(\n\u001b[1;32m    291\u001b[0m     \u001b[38;5;28mself\u001b[39m\u001b[38;5;241m.\u001b[39m_initial, \u001b[38;5;28mself\u001b[39m\u001b[38;5;241m.\u001b[39m_maximum, multiplier\u001b[38;5;241m=\u001b[39m\u001b[38;5;28mself\u001b[39m\u001b[38;5;241m.\u001b[39m_multiplier\n\u001b[1;32m    292\u001b[0m )\n\u001b[0;32m--> 293\u001b[0m \u001b[38;5;28;01mreturn\u001b[39;00m \u001b[43mretry_target\u001b[49m\u001b[43m(\u001b[49m\n\u001b[1;32m    294\u001b[0m \u001b[43m    \u001b[49m\u001b[43mtarget\u001b[49m\u001b[43m,\u001b[49m\n\u001b[1;32m    295\u001b[0m \u001b[43m    \u001b[49m\u001b[38;5;28;43mself\u001b[39;49m\u001b[38;5;241;43m.\u001b[39;49m\u001b[43m_predicate\u001b[49m\u001b[43m,\u001b[49m\n\u001b[1;32m    296\u001b[0m \u001b[43m    \u001b[49m\u001b[43msleep_generator\u001b[49m\u001b[43m,\u001b[49m\n\u001b[1;32m    297\u001b[0m \u001b[43m    \u001b[49m\u001b[43mtimeout\u001b[49m\u001b[38;5;241;43m=\u001b[39;49m\u001b[38;5;28;43mself\u001b[39;49m\u001b[38;5;241;43m.\u001b[39;49m\u001b[43m_timeout\u001b[49m\u001b[43m,\u001b[49m\n\u001b[1;32m    298\u001b[0m \u001b[43m    \u001b[49m\u001b[43mon_error\u001b[49m\u001b[38;5;241;43m=\u001b[39;49m\u001b[43mon_error\u001b[49m\u001b[43m,\u001b[49m\n\u001b[1;32m    299\u001b[0m \u001b[43m\u001b[49m\u001b[43m)\u001b[49m\n",
      "File \u001b[0;32m~/.local/lib/python3.10/site-packages/google/api_core/retry/retry_unary.py:153\u001b[0m, in \u001b[0;36mretry_target\u001b[0;34m(target, predicate, sleep_generator, timeout, on_error, exception_factory, **kwargs)\u001b[0m\n\u001b[1;32m    149\u001b[0m \u001b[38;5;66;03m# pylint: disable=broad-except\u001b[39;00m\n\u001b[1;32m    150\u001b[0m \u001b[38;5;66;03m# This function explicitly must deal with broad exceptions.\u001b[39;00m\n\u001b[1;32m    151\u001b[0m \u001b[38;5;28;01mexcept\u001b[39;00m \u001b[38;5;167;01mException\u001b[39;00m \u001b[38;5;28;01mas\u001b[39;00m exc:\n\u001b[1;32m    152\u001b[0m     \u001b[38;5;66;03m# defer to shared logic for handling errors\u001b[39;00m\n\u001b[0;32m--> 153\u001b[0m     \u001b[43m_retry_error_helper\u001b[49m\u001b[43m(\u001b[49m\n\u001b[1;32m    154\u001b[0m \u001b[43m        \u001b[49m\u001b[43mexc\u001b[49m\u001b[43m,\u001b[49m\n\u001b[1;32m    155\u001b[0m \u001b[43m        \u001b[49m\u001b[43mdeadline\u001b[49m\u001b[43m,\u001b[49m\n\u001b[1;32m    156\u001b[0m \u001b[43m        \u001b[49m\u001b[43msleep\u001b[49m\u001b[43m,\u001b[49m\n\u001b[1;32m    157\u001b[0m \u001b[43m        \u001b[49m\u001b[43merror_list\u001b[49m\u001b[43m,\u001b[49m\n\u001b[1;32m    158\u001b[0m \u001b[43m        \u001b[49m\u001b[43mpredicate\u001b[49m\u001b[43m,\u001b[49m\n\u001b[1;32m    159\u001b[0m \u001b[43m        \u001b[49m\u001b[43mon_error\u001b[49m\u001b[43m,\u001b[49m\n\u001b[1;32m    160\u001b[0m \u001b[43m        \u001b[49m\u001b[43mexception_factory\u001b[49m\u001b[43m,\u001b[49m\n\u001b[1;32m    161\u001b[0m \u001b[43m        \u001b[49m\u001b[43mtimeout\u001b[49m\u001b[43m,\u001b[49m\n\u001b[1;32m    162\u001b[0m \u001b[43m    \u001b[49m\u001b[43m)\u001b[49m\n\u001b[1;32m    163\u001b[0m     \u001b[38;5;66;03m# if exception not raised, sleep before next attempt\u001b[39;00m\n\u001b[1;32m    164\u001b[0m     time\u001b[38;5;241m.\u001b[39msleep(sleep)\n",
      "File \u001b[0;32m~/.local/lib/python3.10/site-packages/google/api_core/retry/retry_base.py:212\u001b[0m, in \u001b[0;36m_retry_error_helper\u001b[0;34m(exc, deadline, next_sleep, error_list, predicate_fn, on_error_fn, exc_factory_fn, original_timeout)\u001b[0m\n\u001b[1;32m    206\u001b[0m \u001b[38;5;28;01mif\u001b[39;00m \u001b[38;5;129;01mnot\u001b[39;00m predicate_fn(exc):\n\u001b[1;32m    207\u001b[0m     final_exc, source_exc \u001b[38;5;241m=\u001b[39m exc_factory_fn(\n\u001b[1;32m    208\u001b[0m         error_list,\n\u001b[1;32m    209\u001b[0m         RetryFailureReason\u001b[38;5;241m.\u001b[39mNON_RETRYABLE_ERROR,\n\u001b[1;32m    210\u001b[0m         original_timeout,\n\u001b[1;32m    211\u001b[0m     )\n\u001b[0;32m--> 212\u001b[0m     \u001b[38;5;28;01mraise\u001b[39;00m final_exc \u001b[38;5;28;01mfrom\u001b[39;00m \u001b[38;5;21;01msource_exc\u001b[39;00m\n\u001b[1;32m    213\u001b[0m \u001b[38;5;28;01mif\u001b[39;00m on_error_fn \u001b[38;5;129;01mis\u001b[39;00m \u001b[38;5;129;01mnot\u001b[39;00m \u001b[38;5;28;01mNone\u001b[39;00m:\n\u001b[1;32m    214\u001b[0m     on_error_fn(exc)\n",
      "File \u001b[0;32m~/.local/lib/python3.10/site-packages/google/api_core/retry/retry_unary.py:144\u001b[0m, in \u001b[0;36mretry_target\u001b[0;34m(target, predicate, sleep_generator, timeout, on_error, exception_factory, **kwargs)\u001b[0m\n\u001b[1;32m    142\u001b[0m \u001b[38;5;28;01mfor\u001b[39;00m sleep \u001b[38;5;129;01min\u001b[39;00m sleep_generator:\n\u001b[1;32m    143\u001b[0m     \u001b[38;5;28;01mtry\u001b[39;00m:\n\u001b[0;32m--> 144\u001b[0m         result \u001b[38;5;241m=\u001b[39m \u001b[43mtarget\u001b[49m\u001b[43m(\u001b[49m\u001b[43m)\u001b[49m\n\u001b[1;32m    145\u001b[0m         \u001b[38;5;28;01mif\u001b[39;00m inspect\u001b[38;5;241m.\u001b[39misawaitable(result):\n\u001b[1;32m    146\u001b[0m             warnings\u001b[38;5;241m.\u001b[39mwarn(_ASYNC_RETRY_WARNING)\n",
      "File \u001b[0;32m~/.local/lib/python3.10/site-packages/google/api_core/grpc_helpers.py:78\u001b[0m, in \u001b[0;36m_wrap_unary_errors.<locals>.error_remapped_callable\u001b[0;34m(*args, **kwargs)\u001b[0m\n\u001b[1;32m     76\u001b[0m     \u001b[38;5;28;01mreturn\u001b[39;00m callable_(\u001b[38;5;241m*\u001b[39margs, \u001b[38;5;241m*\u001b[39m\u001b[38;5;241m*\u001b[39mkwargs)\n\u001b[1;32m     77\u001b[0m \u001b[38;5;28;01mexcept\u001b[39;00m grpc\u001b[38;5;241m.\u001b[39mRpcError \u001b[38;5;28;01mas\u001b[39;00m exc:\n\u001b[0;32m---> 78\u001b[0m     \u001b[38;5;28;01mraise\u001b[39;00m exceptions\u001b[38;5;241m.\u001b[39mfrom_grpc_error(exc) \u001b[38;5;28;01mfrom\u001b[39;00m \u001b[38;5;21;01mexc\u001b[39;00m\n",
      "\u001b[0;31mInvalidArgument\u001b[0m: 400 User-specified resource ID must match the regular expression '[a-z0-9][a-z0-9-]{0,127}'"
     ]
    }
   ],
   "source": [
    "aiplatform.get_pipeline_df(pipeline = f'{SERIES}-{EXPERIMENT}-notify-on_failure')"
   ]
  },
  {
   "cell_type": "code",
   "execution_count": null,
   "id": "f40e3911-2b66-44ea-aa0f-d0320c01f703",
   "metadata": {
    "tags": []
   },
   "outputs": [],
   "source": [
    "for task in pipeline_job.task_details:\n",
    "    print(task.task_name, task.state)"
   ]
  },
  {
   "cell_type": "code",
   "execution_count": null,
   "id": "d28eed0b-0b78-4c8d-8dde-a1330855a570",
   "metadata": {},
   "outputs": [],
   "source": []
  },
  {
   "cell_type": "code",
   "execution_count": null,
   "id": "1bfcbd2d-57bd-49c7-8ffa-08d9d89aca0e",
   "metadata": {},
   "outputs": [],
   "source": []
  },
  {
   "cell_type": "code",
   "execution_count": null,
   "id": "821c8a00-da9e-4438-8642-f975cc85e017",
   "metadata": {},
   "outputs": [],
   "source": []
  },
  {
   "cell_type": "code",
   "execution_count": null,
   "id": "ae73aadb-d156-4fcd-9244-4ccecbc64b13",
   "metadata": {},
   "outputs": [],
   "source": []
  },
  {
   "cell_type": "code",
   "execution_count": null,
   "id": "fd7d52a0-0194-4844-b73f-9a71ae19c857",
   "metadata": {},
   "outputs": [],
   "source": []
  },
  {
   "cell_type": "code",
   "execution_count": null,
   "id": "6c060cae-b3bf-4e37-9b7c-8e113a0678e0",
   "metadata": {},
   "outputs": [],
   "source": []
  }
 ],
 "metadata": {
  "environment": {
   "kernel": "conda-root-py",
   "name": "workbench-notebooks.m119",
   "type": "gcloud",
   "uri": "us-docker.pkg.dev/deeplearning-platform-release/gcr.io/workbench-notebooks:m119"
  },
  "kernelspec": {
   "display_name": "Python 3 (ipykernel)",
   "language": "python",
   "name": "conda-root-py"
  },
  "language_info": {
   "codemirror_mode": {
    "name": "ipython",
    "version": 3
   },
   "file_extension": ".py",
   "mimetype": "text/x-python",
   "name": "python",
   "nbconvert_exporter": "python",
   "pygments_lexer": "ipython3",
   "version": "3.10.14"
  }
 },
 "nbformat": 4,
 "nbformat_minor": 5
}
