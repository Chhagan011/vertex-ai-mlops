{
 "cells": [
  {
   "cell_type": "markdown",
   "id": "c7c0a376",
   "metadata": {},
   "source": [
    "![tracker](https://us-central1-vertex-ai-mlops-369716.cloudfunctions.net/pixel-tracking?path=statmike%2Fvertex-ai-mlops%2FFramework+Workflows%2FCatBoost&file=CatBoost+In+Notebook.ipynb)\n",
    "<!--- header table --->\n",
    "<table align=\"left\">\n",
    "  <td style=\"text-align: center\">\n",
    "    <a href=\"https://colab.research.google.com/github/statmike/vertex-ai-mlops/blob/main/Framework%20Workflows/CatBoost/CatBoost%20In%20Notebook.ipynb\">\n",
    "      <img src=\"https://cloud.google.com/ml-engine/images/colab-logo-32px.png\" alt=\"Google Colaboratory logo\">\n",
    "      <br>Run in<br>Colab\n",
    "    </a>\n",
    "  </td>\n",
    "  <td style=\"text-align: center\">\n",
    "    <a href=\"https://console.cloud.google.com/vertex-ai/colab/import/https%3A%2F%2Fraw.githubusercontent.com%2Fstatmike%2Fvertex-ai-mlops%2Fmain%2FFramework%2520Workflows%2FCatBoost%2FCatBoost%2520In%2520Notebook.ipynb\">\n",
    "      <img width=\"32px\" src=\"https://lh3.googleusercontent.com/JmcxdQi-qOpctIvWKgPtrzZdJJK-J3sWE1RsfjZNwshCFgE_9fULcNpuXYTilIR2hjwN\" alt=\"Google Cloud Colab Enterprise logo\">\n",
    "      <br>Run in<br>Colab Enterprise\n",
    "    </a>\n",
    "  </td>      \n",
    "  <td style=\"text-align: center\">\n",
    "    <a href=\"https://github.com/statmike/vertex-ai-mlops/blob/main/Framework%20Workflows/CatBoost/CatBoost%20In%20Notebook.ipynb\">\n",
    "      <img src=\"https://cloud.google.com/ml-engine/images/github-logo-32px.png\" alt=\"GitHub logo\">\n",
    "      <br>View on<br>GitHub\n",
    "    </a>\n",
    "  </td>\n",
    "  <td style=\"text-align: center\">\n",
    "    <a href=\"https://console.cloud.google.com/vertex-ai/workbench/deploy-notebook?download_url=https://raw.githubusercontent.com/statmike/vertex-ai-mlops/main/Framework%20Workflows/CatBoost/CatBoost%20In%20Notebook.ipynb\">\n",
    "      <img src=\"https://lh3.googleusercontent.com/UiNooY4LUgW_oTvpsNhPpQzsstV5W8F7rYgxgGBD85cWJoLmrOzhVs_ksK_vgx40SHs7jCqkTkCk=e14-rj-sc0xffffff-h130-w32\" alt=\"Vertex AI logo\">\n",
    "      <br>Open in<br>Vertex AI Workbench\n",
    "    </a>\n",
    "  </td>\n",
    "</table>"
   ]
  },
  {
   "cell_type": "markdown",
   "id": "c4d2a031-0e0e-4fb7-a86a-a49263373e41",
   "metadata": {},
   "source": [
    "# CatBoost In Notebook"
   ]
  },
  {
   "cell_type": "markdown",
   "id": "82b2856f-6498-4ef6-9695-47dff5c99e66",
   "metadata": {
    "id": "od_UkDpvRmgD",
    "tags": []
   },
   "source": [
    "---\n",
    "## Colab Setup\n",
    "\n",
    "To run this notebook in Colab run the cells in this section.  Otherwise, skip this section.\n",
    "\n",
    "This cell will authenticate to GCP (follow prompts in the popup)."
   ]
  },
  {
   "cell_type": "code",
   "execution_count": 1,
   "id": "ba3a5036-ed89-434e-ba5e-1229876ad1d6",
   "metadata": {
    "executionInfo": {
     "elapsed": 195,
     "status": "ok",
     "timestamp": 1683726184843,
     "user": {
      "displayName": "Mike Henderson",
      "userId": "07691629187611687318"
     },
     "user_tz": 240
    },
    "id": "8UO9FnqyKBlF",
    "tags": []
   },
   "outputs": [],
   "source": [
    "PROJECT_ID = 'statmike-mlops-349915' # replace with project ID"
   ]
  },
  {
   "cell_type": "code",
   "execution_count": 2,
   "id": "4a63386e-66c5-4ecd-adab-a07e81fd75c6",
   "metadata": {
    "colab": {
     "base_uri": "https://localhost:8080/"
    },
    "executionInfo": {
     "elapsed": 68869,
     "status": "ok",
     "timestamp": 1683726253709,
     "user": {
      "displayName": "Mike Henderson",
      "userId": "07691629187611687318"
     },
     "user_tz": 240
    },
    "id": "N98-KK7LRkjm",
    "outputId": "09ec5008-0def-4e1a-c349-c598ee752f78",
    "tags": []
   },
   "outputs": [],
   "source": [
    "try:\n",
    "    import google.colab\n",
    "    from google.colab import auth\n",
    "    auth.authenticate_user()\n",
    "    !gcloud config set project {PROJECT_ID}\n",
    "except Exception:\n",
    "    pass"
   ]
  },
  {
   "cell_type": "markdown",
   "id": "d6f94ec2-4ffd-4050-8954-7fba66280011",
   "metadata": {},
   "source": [
    "---\n",
    "## Installs\n",
    "\n",
    "The list `packages` contains tuples of package import names and install names.  If the import name is not found then the install name is used to install quitely for the current user."
   ]
  },
  {
   "cell_type": "code",
   "execution_count": 63,
   "id": "8d05fa62-17af-4337-aa60-e17303c83d7c",
   "metadata": {
    "tags": []
   },
   "outputs": [],
   "source": [
    "# tuples of (import name, install name, min_version)\n",
    "packages = [\n",
    "    ('catboost', 'catboost'),\n",
    "    ('bigframes', 'bigframes'),\n",
    "    ('sklearn', 'scikit-learn'),\n",
    "    ('google.cloud.aiplatform', 'google-cloud-aiplatform', '1.66.0'),   \n",
    "]\n",
    "\n",
    "import importlib\n",
    "install = False\n",
    "for package in packages:\n",
    "    if not importlib.util.find_spec(package[0]):\n",
    "        print(f'installing package {package[1]}')\n",
    "        install = True\n",
    "        !pip install {package[1]} -U -q --user\n",
    "    elif len(package) == 3:\n",
    "        if importlib.metadata.version(package[0]) < package[2]:\n",
    "            print(f'updating package {package[1]}')\n",
    "            install = True\n",
    "            !pip install {package[1]} -U -q --user"
   ]
  },
  {
   "cell_type": "markdown",
   "id": "4de84e34-6656-44dc-8a32-ff4e0491e48d",
   "metadata": {},
   "source": [
    "### API Enablement"
   ]
  },
  {
   "cell_type": "code",
   "execution_count": 64,
   "id": "745237e7-8623-4972-a096-17d626d5e272",
   "metadata": {
    "tags": []
   },
   "outputs": [],
   "source": [
    "!gcloud services enable aiplatform.googleapis.com"
   ]
  },
  {
   "cell_type": "markdown",
   "id": "3e86272c-b95b-468b-8ad0-92b963a466d0",
   "metadata": {},
   "source": [
    "### Restart Kernel (If Installs Occured)\n",
    "\n",
    "After a kernel restart the code submission can start with the next cell after this one."
   ]
  },
  {
   "cell_type": "code",
   "execution_count": 5,
   "id": "0b7dfee2-189a-4a52-a4a6-e94ae27a2536",
   "metadata": {
    "tags": []
   },
   "outputs": [],
   "source": [
    "if install:\n",
    "    import IPython\n",
    "    app = IPython.Application.instance()\n",
    "    app.kernel.do_shutdown(True)\n",
    "    IPython.display.display(IPython.display.Markdown(\"\"\"<div class=\\\"alert alert-block alert-warning\\\">\n",
    "        <b>⚠️ The kernel is going to restart. Please wait until it is finished before continuing to the next step. The previous cells do not need to be run again⚠️</b>\n",
    "        </div>\"\"\"))"
   ]
  },
  {
   "cell_type": "markdown",
   "id": "b3ef694d-cc80-49d9-8a8f-ecf365649cc5",
   "metadata": {},
   "source": [
    "---\n",
    "## Setup"
   ]
  },
  {
   "cell_type": "markdown",
   "id": "7bccc134-eb08-40cf-8d54-e47d4a73cdee",
   "metadata": {},
   "source": [
    "inputs:"
   ]
  },
  {
   "cell_type": "code",
   "execution_count": 8,
   "id": "0d0b29bd-1891-4858-a145-83ba8fb8b6a0",
   "metadata": {
    "tags": []
   },
   "outputs": [
    {
     "data": {
      "text/plain": [
       "'statmike-mlops-349915'"
      ]
     },
     "execution_count": 8,
     "metadata": {},
     "output_type": "execute_result"
    }
   ],
   "source": [
    "project = !gcloud config get-value project\n",
    "PROJECT_ID = project[0]\n",
    "PROJECT_ID"
   ]
  },
  {
   "cell_type": "code",
   "execution_count": 9,
   "id": "c57f6e53-f561-40f3-b991-c8c202fc9e37",
   "metadata": {
    "tags": []
   },
   "outputs": [],
   "source": [
    "REGION = 'us-central1'\n",
    "SERIES = 'frameworks-catboost'\n",
    "EXPERIMENT = 'notebook'"
   ]
  },
  {
   "cell_type": "markdown",
   "id": "3d8dff2a-8a9d-4ef0-9677-e576fb2f79f9",
   "metadata": {},
   "source": [
    "packages:"
   ]
  },
  {
   "cell_type": "code",
   "execution_count": 66,
   "id": "45413264-d808-4a24-8d70-570fe7c4e02c",
   "metadata": {
    "tags": []
   },
   "outputs": [],
   "source": [
    "import bigframes.pandas as bpd\n",
    "\n",
    "import catboost #from catboost import CatBoostClassifier, Pool, metrics, cv\n",
    "import sklearn.metrics #import accuracy_score\n",
    "\n",
    "from google.cloud import aiplatform"
   ]
  },
  {
   "cell_type": "markdown",
   "id": "781aac78-5994-4f2b-b250-5592b9b88eff",
   "metadata": {},
   "source": [
    "clients:"
   ]
  },
  {
   "cell_type": "code",
   "execution_count": 68,
   "id": "3fa71885-982d-4e4a-b96e-6d37d3f237bc",
   "metadata": {
    "tags": []
   },
   "outputs": [
    {
     "data": {
      "text/html": [
       "\n",
       "        \n",
       "    <link rel=\"stylesheet\" href=\"https://fonts.googleapis.com/icon?family=Material+Icons\">\n",
       "    <style>\n",
       "      .view-vertex-resource,\n",
       "      .view-vertex-resource:hover,\n",
       "      .view-vertex-resource:visited {\n",
       "        position: relative;\n",
       "        display: inline-flex;\n",
       "        flex-direction: row;\n",
       "        height: 32px;\n",
       "        padding: 0 12px;\n",
       "          margin: 4px 18px;\n",
       "        gap: 4px;\n",
       "        border-radius: 4px;\n",
       "\n",
       "        align-items: center;\n",
       "        justify-content: center;\n",
       "        background-color: rgb(255, 255, 255);\n",
       "        color: rgb(51, 103, 214);\n",
       "\n",
       "        font-family: Roboto,\"Helvetica Neue\",sans-serif;\n",
       "        font-size: 13px;\n",
       "        font-weight: 500;\n",
       "        text-transform: uppercase;\n",
       "        text-decoration: none !important;\n",
       "\n",
       "        transition: box-shadow 280ms cubic-bezier(0.4, 0, 0.2, 1) 0s;\n",
       "        box-shadow: 0px 3px 1px -2px rgba(0,0,0,0.2), 0px 2px 2px 0px rgba(0,0,0,0.14), 0px 1px 5px 0px rgba(0,0,0,0.12);\n",
       "      }\n",
       "      .view-vertex-resource:active {\n",
       "        box-shadow: 0px 5px 5px -3px rgba(0,0,0,0.2),0px 8px 10px 1px rgba(0,0,0,0.14),0px 3px 14px 2px rgba(0,0,0,0.12);\n",
       "      }\n",
       "      .view-vertex-resource:active .view-vertex-ripple::before {\n",
       "        position: absolute;\n",
       "        top: 0;\n",
       "        bottom: 0;\n",
       "        left: 0;\n",
       "        right: 0;\n",
       "        border-radius: 4px;\n",
       "        pointer-events: none;\n",
       "\n",
       "        content: '';\n",
       "        background-color: rgb(51, 103, 214);\n",
       "        opacity: 0.12;\n",
       "      }\n",
       "      .view-vertex-icon {\n",
       "        font-size: 18px;\n",
       "      }\n",
       "    </style>\n",
       "  \n",
       "        <a class=\"view-vertex-resource\" id=\"view-vertex-resource-7ed62557-fd19-4b54-9ff7-e3d6f4afba58\" href=\"#view-view-vertex-resource-7ed62557-fd19-4b54-9ff7-e3d6f4afba58\">\n",
       "          <span class=\"material-icons view-vertex-icon\">science</span>\n",
       "          <span>View Experiment</span>\n",
       "        </a>\n",
       "        \n",
       "        <script>\n",
       "          (function () {\n",
       "            const link = document.getElementById('view-vertex-resource-7ed62557-fd19-4b54-9ff7-e3d6f4afba58');\n",
       "            link.addEventListener('click', (e) => {\n",
       "              if (window.google?.colab?.openUrl) {\n",
       "                window.google.colab.openUrl('https://console.cloud.google.com/vertex-ai/experiments/locations/us-central1/experiments/frameworks-catboost-notebook/runs?project=statmike-mlops-349915');\n",
       "              } else {\n",
       "                window.open('https://console.cloud.google.com/vertex-ai/experiments/locations/us-central1/experiments/frameworks-catboost-notebook/runs?project=statmike-mlops-349915', '_blank');\n",
       "              }\n",
       "              e.stopPropagation();\n",
       "              e.preventDefault();\n",
       "            });\n",
       "          })();\n",
       "        </script>\n",
       "    "
      ],
      "text/plain": [
       "<IPython.core.display.HTML object>"
      ]
     },
     "metadata": {},
     "output_type": "display_data"
    }
   ],
   "source": [
    "# BigFrames\n",
    "bpd.options.bigquery.project = PROJECT_ID\n",
    "\n",
    "# vertex ai clients\n",
    "aiplatform.init(project = PROJECT_ID, location = REGION, experiment = f\"{SERIES}-{EXPERIMENT}\")"
   ]
  },
  {
   "cell_type": "markdown",
   "id": "360dcbf7-a606-4b01-bc64-efa2dfe36961",
   "metadata": {},
   "source": [
    "---\n",
    "## Data Source\n",
    "\n",
    "**The Data**\n",
    "\n",
    "The BigQuery source table is `bigquery-public-data.ml_datasets.ulb_fraud_detection`.  This is a table of credit card transactions that are classified as fradulant, `Class = 1`, or normal `Class = 0`.    \n",
    "- The data can be researched further at this [Kaggle link](https://www.kaggle.com/mlg-ulb/creditcardfraud).\n",
    "- Read mode about BigQuery public datasets [here](https://cloud.google.com/bigquery/public-data)\n",
    "\n",
    "**Description of the Data**\n",
    "\n",
    "This is a table of 284,807 credit card transactions classified as fradulant or normal in the column `Class`.  In order protect confidentiality, the original features have been transformed using [principle component analysis (PCA)](https://en.wikipedia.org/wiki/Principal_component_analysis) into 28 features named `V1, V2, ... V28` (float).  Two descriptive features are provided without transformation by PCA:\n",
    "- `Time` (integer) is the seconds elapsed between the transaction and the earliest transaction in the table\n",
    "- `Amount` (float) is the value of the transaction\n",
    ">**Quick Note on PCA**<p>PCA is an unsupervised learning technique: there is not a target variable.  PCA is commonlly used as a variable/feature reduction technique.  If you have 100 features then you could reduce it to a number p (say 10) projected features.  The choice of this number is a balance of how well it can explain the variance of the full feature space and reducing the number of features.  Each projected feature is orthogonal to each other feature, meaning there is no correlation between these new projected features.</p>\n",
    "\n",
    "**Preparation of the Data**\n",
    "\n",
    "Adds columns to the source data:  \n",
    "- `splits` (string) this divided the tranactions into sets for `TRAIN` (80%), `VALIDATE` (10%), and `TEST` (10%)"
   ]
  },
  {
   "cell_type": "code",
   "execution_count": 70,
   "id": "b13e767f-6116-418a-85fc-c043769f6a39",
   "metadata": {
    "tags": []
   },
   "outputs": [],
   "source": [
    "fraud_ds = bpd.read_gbq('bigquery-public-data.ml_datasets.ulb_fraud_detection', use_cache=False)"
   ]
  },
  {
   "cell_type": "code",
   "execution_count": 71,
   "id": "ae71a658-9ac3-4b78-b542-5636fcb011b7",
   "metadata": {
    "tags": []
   },
   "outputs": [
    {
     "data": {
      "text/html": [
       "Query job 323996e0-542c-4ce2-b0fe-97035ecdc7e6 is DONE. 70.6 MB processed. <a target=\"_blank\" href=\"https://console.cloud.google.com/bigquery?project=statmike-mlops-349915&j=bq:US:323996e0-542c-4ce2-b0fe-97035ecdc7e6&page=queryresults\">Open Job</a>"
      ],
      "text/plain": [
       "<IPython.core.display.HTML object>"
      ]
     },
     "metadata": {},
     "output_type": "display_data"
    },
    {
     "data": {
      "text/html": [
       "Query job b40d6035-5c5b-4e7b-90a1-dfb7d6fc0cba is DONE. 0 Bytes processed. <a target=\"_blank\" href=\"https://console.cloud.google.com/bigquery?project=statmike-mlops-349915&j=bq:US:b40d6035-5c5b-4e7b-90a1-dfb7d6fc0cba&page=queryresults\">Open Job</a>"
      ],
      "text/plain": [
       "<IPython.core.display.HTML object>"
      ]
     },
     "metadata": {},
     "output_type": "display_data"
    },
    {
     "data": {
      "text/html": [
       "Query job e8cfe357-7785-4401-a8d5-4e256737e4d8 is DONE. 1.3 kB processed. <a target=\"_blank\" href=\"https://console.cloud.google.com/bigquery?project=statmike-mlops-349915&j=bq:US:e8cfe357-7785-4401-a8d5-4e256737e4d8&page=queryresults\">Open Job</a>"
      ],
      "text/plain": [
       "<IPython.core.display.HTML object>"
      ]
     },
     "metadata": {},
     "output_type": "display_data"
    },
    {
     "data": {
      "text/html": [
       "<div>\n",
       "<style scoped>\n",
       "    .dataframe tbody tr th:only-of-type {\n",
       "        vertical-align: middle;\n",
       "    }\n",
       "\n",
       "    .dataframe tbody tr th {\n",
       "        vertical-align: top;\n",
       "    }\n",
       "\n",
       "    .dataframe thead th {\n",
       "        text-align: right;\n",
       "    }\n",
       "</style>\n",
       "<table border=\"1\" class=\"dataframe\">\n",
       "  <thead>\n",
       "    <tr style=\"text-align: right;\">\n",
       "      <th></th>\n",
       "      <th>Time</th>\n",
       "      <th>V1</th>\n",
       "      <th>V2</th>\n",
       "      <th>V3</th>\n",
       "      <th>V4</th>\n",
       "      <th>V5</th>\n",
       "      <th>V6</th>\n",
       "      <th>V7</th>\n",
       "      <th>V8</th>\n",
       "      <th>V9</th>\n",
       "      <th>...</th>\n",
       "      <th>V21</th>\n",
       "      <th>V22</th>\n",
       "      <th>V23</th>\n",
       "      <th>V24</th>\n",
       "      <th>V25</th>\n",
       "      <th>V26</th>\n",
       "      <th>V27</th>\n",
       "      <th>V28</th>\n",
       "      <th>Amount</th>\n",
       "      <th>Class</th>\n",
       "    </tr>\n",
       "  </thead>\n",
       "  <tbody>\n",
       "    <tr>\n",
       "      <th>0</th>\n",
       "      <td>72890.0</td>\n",
       "      <td>-1.22258</td>\n",
       "      <td>-0.017622</td>\n",
       "      <td>2.317581</td>\n",
       "      <td>-1.547722</td>\n",
       "      <td>-0.958068</td>\n",
       "      <td>-0.370571</td>\n",
       "      <td>-0.583838</td>\n",
       "      <td>0.384328</td>\n",
       "      <td>-0.72238</td>\n",
       "      <td>...</td>\n",
       "      <td>0.430025</td>\n",
       "      <td>1.217131</td>\n",
       "      <td>-0.463494</td>\n",
       "      <td>0.456253</td>\n",
       "      <td>0.385304</td>\n",
       "      <td>-0.104713</td>\n",
       "      <td>-0.303068</td>\n",
       "      <td>-0.300302</td>\n",
       "      <td>5.9</td>\n",
       "      <td>0</td>\n",
       "    </tr>\n",
       "    <tr>\n",
       "      <th>1</th>\n",
       "      <td>131206.0</td>\n",
       "      <td>1.967597</td>\n",
       "      <td>-1.009301</td>\n",
       "      <td>-1.970656</td>\n",
       "      <td>-0.406056</td>\n",
       "      <td>1.614598</td>\n",
       "      <td>3.92548</td>\n",
       "      <td>-1.209586</td>\n",
       "      <td>0.952736</td>\n",
       "      <td>-0.429297</td>\n",
       "      <td>...</td>\n",
       "      <td>-0.288566</td>\n",
       "      <td>-0.420307</td>\n",
       "      <td>0.258054</td>\n",
       "      <td>0.632264</td>\n",
       "      <td>-0.148758</td>\n",
       "      <td>-0.656398</td>\n",
       "      <td>0.077885</td>\n",
       "      <td>-0.027551</td>\n",
       "      <td>59.0</td>\n",
       "      <td>0</td>\n",
       "    </tr>\n",
       "    <tr>\n",
       "      <th>2</th>\n",
       "      <td>122831.0</td>\n",
       "      <td>2.290614</td>\n",
       "      <td>-1.288035</td>\n",
       "      <td>-1.091499</td>\n",
       "      <td>-1.591945</td>\n",
       "      <td>-0.983697</td>\n",
       "      <td>-0.58711</td>\n",
       "      <td>-0.952236</td>\n",
       "      <td>-0.272064</td>\n",
       "      <td>-1.392405</td>\n",
       "      <td>...</td>\n",
       "      <td>-0.161871</td>\n",
       "      <td>0.04143</td>\n",
       "      <td>0.225622</td>\n",
       "      <td>0.672485</td>\n",
       "      <td>-0.105101</td>\n",
       "      <td>-0.194599</td>\n",
       "      <td>0.007488</td>\n",
       "      <td>-0.040725</td>\n",
       "      <td>30.0</td>\n",
       "      <td>0</td>\n",
       "    </tr>\n",
       "    <tr>\n",
       "      <th>3</th>\n",
       "      <td>68397.0</td>\n",
       "      <td>1.258859</td>\n",
       "      <td>0.440981</td>\n",
       "      <td>0.331167</td>\n",
       "      <td>0.681581</td>\n",
       "      <td>-0.267935</td>\n",
       "      <td>-1.046229</td>\n",
       "      <td>0.163925</td>\n",
       "      <td>-0.269223</td>\n",
       "      <td>-0.142249</td>\n",
       "      <td>...</td>\n",
       "      <td>-0.27486</td>\n",
       "      <td>-0.734847</td>\n",
       "      <td>0.116306</td>\n",
       "      <td>0.376938</td>\n",
       "      <td>0.25547</td>\n",
       "      <td>0.090629</td>\n",
       "      <td>-0.015355</td>\n",
       "      <td>0.033149</td>\n",
       "      <td>0.89</td>\n",
       "      <td>0</td>\n",
       "    </tr>\n",
       "    <tr>\n",
       "      <th>4</th>\n",
       "      <td>152137.0</td>\n",
       "      <td>2.023988</td>\n",
       "      <td>-0.351874</td>\n",
       "      <td>-0.494781</td>\n",
       "      <td>0.36047</td>\n",
       "      <td>-0.400929</td>\n",
       "      <td>-0.202362</td>\n",
       "      <td>-0.544039</td>\n",
       "      <td>-0.078031</td>\n",
       "      <td>1.364484</td>\n",
       "      <td>...</td>\n",
       "      <td>0.160192</td>\n",
       "      <td>0.774027</td>\n",
       "      <td>0.021697</td>\n",
       "      <td>-0.601828</td>\n",
       "      <td>0.029147</td>\n",
       "      <td>-0.175735</td>\n",
       "      <td>0.04743</td>\n",
       "      <td>-0.041086</td>\n",
       "      <td>9.99</td>\n",
       "      <td>0</td>\n",
       "    </tr>\n",
       "  </tbody>\n",
       "</table>\n",
       "<p>5 rows × 31 columns</p>\n",
       "</div>[5 rows x 31 columns in total]"
      ],
      "text/plain": [
       "       Time        V1        V2        V3        V4        V5        V6  \\\n",
       "0   72890.0  -1.22258 -0.017622  2.317581 -1.547722 -0.958068 -0.370571   \n",
       "1  131206.0  1.967597 -1.009301 -1.970656 -0.406056  1.614598   3.92548   \n",
       "2  122831.0  2.290614 -1.288035 -1.091499 -1.591945 -0.983697  -0.58711   \n",
       "3   68397.0  1.258859  0.440981  0.331167  0.681581 -0.267935 -1.046229   \n",
       "4  152137.0  2.023988 -0.351874 -0.494781   0.36047 -0.400929 -0.202362   \n",
       "\n",
       "         V7        V8        V9  ...       V21       V22       V23       V24  \\\n",
       "0 -0.583838  0.384328  -0.72238  ...  0.430025  1.217131 -0.463494  0.456253   \n",
       "1 -1.209586  0.952736 -0.429297  ... -0.288566 -0.420307  0.258054  0.632264   \n",
       "2 -0.952236 -0.272064 -1.392405  ... -0.161871   0.04143  0.225622  0.672485   \n",
       "3  0.163925 -0.269223 -0.142249  ...  -0.27486 -0.734847  0.116306  0.376938   \n",
       "4 -0.544039 -0.078031  1.364484  ...  0.160192  0.774027  0.021697 -0.601828   \n",
       "\n",
       "        V25       V26       V27       V28  Amount  Class  \n",
       "0  0.385304 -0.104713 -0.303068 -0.300302     5.9      0  \n",
       "1 -0.148758 -0.656398  0.077885 -0.027551    59.0      0  \n",
       "2 -0.105101 -0.194599  0.007488 -0.040725    30.0      0  \n",
       "3   0.25547  0.090629 -0.015355  0.033149    0.89      0  \n",
       "4  0.029147 -0.175735   0.04743 -0.041086    9.99      0  \n",
       "\n",
       "[5 rows x 31 columns]"
      ]
     },
     "execution_count": 71,
     "metadata": {},
     "output_type": "execute_result"
    }
   ],
   "source": [
    "fraud_ds.head()"
   ]
  },
  {
   "cell_type": "code",
   "execution_count": 72,
   "id": "08620146-c988-4543-862f-d7797ead985b",
   "metadata": {
    "tags": []
   },
   "outputs": [
    {
     "data": {
      "text/html": [
       "Query job d813b497-f902-45e9-89fe-aa6f601e7b7c is DONE. 70.6 MB processed. <a target=\"_blank\" href=\"https://console.cloud.google.com/bigquery?project=statmike-mlops-349915&j=bq:US:d813b497-f902-45e9-89fe-aa6f601e7b7c&page=queryresults\">Open Job</a>"
      ],
      "text/plain": [
       "<IPython.core.display.HTML object>"
      ]
     },
     "metadata": {},
     "output_type": "display_data"
    }
   ],
   "source": [
    "fraud_ds = fraud_ds.to_pandas()"
   ]
  },
  {
   "cell_type": "code",
   "execution_count": 73,
   "id": "d5c9e065-1884-4835-8037-57ec888295c3",
   "metadata": {
    "tags": []
   },
   "outputs": [],
   "source": [
    "shuffle = fraud_ds.sample(frac = 1, random_state = 42)\n",
    "train_pct, val_pct = .8, .1\n",
    "train_end = int(train_pct * len(shuffle))\n",
    "val_end = int((train_pct + val_pct) * len(shuffle))\n",
    "\n",
    "fraud_ds['splits'] = 'None'\n",
    "fraud_ds.loc[shuffle[:train_end].index, 'splits'] = 'TRAIN'\n",
    "fraud_ds.loc[shuffle[train_end:val_end].index, 'splits'] = 'VALIDATE'\n",
    "fraud_ds.loc[shuffle[val_end:].index, 'splits'] = 'TEST'"
   ]
  },
  {
   "cell_type": "code",
   "execution_count": 74,
   "id": "efa35b1e-08f2-46ed-96ce-9ff43671a8a0",
   "metadata": {
    "tags": []
   },
   "outputs": [
    {
     "data": {
      "text/html": [
       "<div>\n",
       "<style scoped>\n",
       "    .dataframe tbody tr th:only-of-type {\n",
       "        vertical-align: middle;\n",
       "    }\n",
       "\n",
       "    .dataframe tbody tr th {\n",
       "        vertical-align: top;\n",
       "    }\n",
       "\n",
       "    .dataframe thead th {\n",
       "        text-align: right;\n",
       "    }\n",
       "</style>\n",
       "<table border=\"1\" class=\"dataframe\">\n",
       "  <thead>\n",
       "    <tr style=\"text-align: right;\">\n",
       "      <th></th>\n",
       "      <th>Time</th>\n",
       "      <th>V1</th>\n",
       "      <th>V2</th>\n",
       "      <th>V3</th>\n",
       "      <th>V4</th>\n",
       "      <th>V5</th>\n",
       "      <th>V6</th>\n",
       "      <th>V7</th>\n",
       "      <th>V8</th>\n",
       "      <th>V9</th>\n",
       "      <th>...</th>\n",
       "      <th>V22</th>\n",
       "      <th>V23</th>\n",
       "      <th>V24</th>\n",
       "      <th>V25</th>\n",
       "      <th>V26</th>\n",
       "      <th>V27</th>\n",
       "      <th>V28</th>\n",
       "      <th>Amount</th>\n",
       "      <th>Class</th>\n",
       "      <th>splits</th>\n",
       "    </tr>\n",
       "  </thead>\n",
       "  <tbody>\n",
       "    <tr>\n",
       "      <th>0</th>\n",
       "      <td>72890.0</td>\n",
       "      <td>-1.22258</td>\n",
       "      <td>-0.017622</td>\n",
       "      <td>2.317581</td>\n",
       "      <td>-1.547722</td>\n",
       "      <td>-0.958068</td>\n",
       "      <td>-0.370571</td>\n",
       "      <td>-0.583838</td>\n",
       "      <td>0.384328</td>\n",
       "      <td>-0.72238</td>\n",
       "      <td>...</td>\n",
       "      <td>1.217131</td>\n",
       "      <td>-0.463494</td>\n",
       "      <td>0.456253</td>\n",
       "      <td>0.385304</td>\n",
       "      <td>-0.104713</td>\n",
       "      <td>-0.303068</td>\n",
       "      <td>-0.300302</td>\n",
       "      <td>5.9</td>\n",
       "      <td>0</td>\n",
       "      <td>TRAIN</td>\n",
       "    </tr>\n",
       "    <tr>\n",
       "      <th>1</th>\n",
       "      <td>131206.0</td>\n",
       "      <td>1.967597</td>\n",
       "      <td>-1.009301</td>\n",
       "      <td>-1.970656</td>\n",
       "      <td>-0.406056</td>\n",
       "      <td>1.614598</td>\n",
       "      <td>3.92548</td>\n",
       "      <td>-1.209586</td>\n",
       "      <td>0.952736</td>\n",
       "      <td>-0.429297</td>\n",
       "      <td>...</td>\n",
       "      <td>-0.420307</td>\n",
       "      <td>0.258054</td>\n",
       "      <td>0.632264</td>\n",
       "      <td>-0.148758</td>\n",
       "      <td>-0.656398</td>\n",
       "      <td>0.077885</td>\n",
       "      <td>-0.027551</td>\n",
       "      <td>59.0</td>\n",
       "      <td>0</td>\n",
       "      <td>TRAIN</td>\n",
       "    </tr>\n",
       "    <tr>\n",
       "      <th>2</th>\n",
       "      <td>122831.0</td>\n",
       "      <td>2.290614</td>\n",
       "      <td>-1.288035</td>\n",
       "      <td>-1.091499</td>\n",
       "      <td>-1.591945</td>\n",
       "      <td>-0.983697</td>\n",
       "      <td>-0.58711</td>\n",
       "      <td>-0.952236</td>\n",
       "      <td>-0.272064</td>\n",
       "      <td>-1.392405</td>\n",
       "      <td>...</td>\n",
       "      <td>0.04143</td>\n",
       "      <td>0.225622</td>\n",
       "      <td>0.672485</td>\n",
       "      <td>-0.105101</td>\n",
       "      <td>-0.194599</td>\n",
       "      <td>0.007488</td>\n",
       "      <td>-0.040725</td>\n",
       "      <td>30.0</td>\n",
       "      <td>0</td>\n",
       "      <td>TRAIN</td>\n",
       "    </tr>\n",
       "    <tr>\n",
       "      <th>3</th>\n",
       "      <td>68397.0</td>\n",
       "      <td>1.258859</td>\n",
       "      <td>0.440981</td>\n",
       "      <td>0.331167</td>\n",
       "      <td>0.681581</td>\n",
       "      <td>-0.267935</td>\n",
       "      <td>-1.046229</td>\n",
       "      <td>0.163925</td>\n",
       "      <td>-0.269223</td>\n",
       "      <td>-0.142249</td>\n",
       "      <td>...</td>\n",
       "      <td>-0.734847</td>\n",
       "      <td>0.116306</td>\n",
       "      <td>0.376938</td>\n",
       "      <td>0.25547</td>\n",
       "      <td>0.090629</td>\n",
       "      <td>-0.015355</td>\n",
       "      <td>0.033149</td>\n",
       "      <td>0.89</td>\n",
       "      <td>0</td>\n",
       "      <td>TRAIN</td>\n",
       "    </tr>\n",
       "    <tr>\n",
       "      <th>4</th>\n",
       "      <td>152137.0</td>\n",
       "      <td>2.023988</td>\n",
       "      <td>-0.351874</td>\n",
       "      <td>-0.494781</td>\n",
       "      <td>0.36047</td>\n",
       "      <td>-0.400929</td>\n",
       "      <td>-0.202362</td>\n",
       "      <td>-0.544039</td>\n",
       "      <td>-0.078031</td>\n",
       "      <td>1.364484</td>\n",
       "      <td>...</td>\n",
       "      <td>0.774027</td>\n",
       "      <td>0.021697</td>\n",
       "      <td>-0.601828</td>\n",
       "      <td>0.029147</td>\n",
       "      <td>-0.175735</td>\n",
       "      <td>0.04743</td>\n",
       "      <td>-0.041086</td>\n",
       "      <td>9.99</td>\n",
       "      <td>0</td>\n",
       "      <td>TRAIN</td>\n",
       "    </tr>\n",
       "  </tbody>\n",
       "</table>\n",
       "<p>5 rows × 32 columns</p>\n",
       "</div>"
      ],
      "text/plain": [
       "       Time        V1        V2        V3        V4        V5        V6  \\\n",
       "0   72890.0  -1.22258 -0.017622  2.317581 -1.547722 -0.958068 -0.370571   \n",
       "1  131206.0  1.967597 -1.009301 -1.970656 -0.406056  1.614598   3.92548   \n",
       "2  122831.0  2.290614 -1.288035 -1.091499 -1.591945 -0.983697  -0.58711   \n",
       "3   68397.0  1.258859  0.440981  0.331167  0.681581 -0.267935 -1.046229   \n",
       "4  152137.0  2.023988 -0.351874 -0.494781   0.36047 -0.400929 -0.202362   \n",
       "\n",
       "         V7        V8        V9  ...       V22       V23       V24       V25  \\\n",
       "0 -0.583838  0.384328  -0.72238  ...  1.217131 -0.463494  0.456253  0.385304   \n",
       "1 -1.209586  0.952736 -0.429297  ... -0.420307  0.258054  0.632264 -0.148758   \n",
       "2 -0.952236 -0.272064 -1.392405  ...   0.04143  0.225622  0.672485 -0.105101   \n",
       "3  0.163925 -0.269223 -0.142249  ... -0.734847  0.116306  0.376938   0.25547   \n",
       "4 -0.544039 -0.078031  1.364484  ...  0.774027  0.021697 -0.601828  0.029147   \n",
       "\n",
       "        V26       V27       V28  Amount  Class  splits  \n",
       "0 -0.104713 -0.303068 -0.300302     5.9      0   TRAIN  \n",
       "1 -0.656398  0.077885 -0.027551    59.0      0   TRAIN  \n",
       "2 -0.194599  0.007488 -0.040725    30.0      0   TRAIN  \n",
       "3  0.090629 -0.015355  0.033149    0.89      0   TRAIN  \n",
       "4 -0.175735   0.04743 -0.041086    9.99      0   TRAIN  \n",
       "\n",
       "[5 rows x 32 columns]"
      ]
     },
     "execution_count": 74,
     "metadata": {},
     "output_type": "execute_result"
    }
   ],
   "source": [
    "fraud_ds.head()"
   ]
  },
  {
   "cell_type": "code",
   "execution_count": 75,
   "id": "3f9509d6-a26c-426c-9c6f-33b0de7bb3e9",
   "metadata": {
    "tags": []
   },
   "outputs": [],
   "source": [
    "X = fraud_ds.drop(['Class', 'splits'], axis = 1)\n",
    "y = fraud_ds.Class\n",
    "splits = fraud_ds.splits"
   ]
  },
  {
   "cell_type": "code",
   "execution_count": 97,
   "id": "0f8110f4-16bc-4a5e-ab96-a1226241db72",
   "metadata": {
    "tags": []
   },
   "outputs": [],
   "source": [
    "train = catboost.Pool(\n",
    "    data = X.loc[splits[splits == 'TRAIN'].index],\n",
    "    label = y.loc[splits[splits == 'TRAIN'].index]\n",
    ")\n",
    "validate = catboost.Pool(\n",
    "    data = X.loc[splits[splits == 'VALIDATE'].index],\n",
    "    label = y.loc[splits[splits == 'VALIDATE'].index]\n",
    ")\n",
    "test = catboost.Pool(\n",
    "    data = X.loc[splits[splits == 'TEST'].index],\n",
    "    label = y.loc[splits[splits == 'TEST'].index]\n",
    ")"
   ]
  },
  {
   "cell_type": "code",
   "execution_count": 106,
   "id": "0185f2db-48a0-44dc-beca-8a13f2f4501e",
   "metadata": {
    "tags": []
   },
   "outputs": [],
   "source": [
    "model = catboost.CatBoostClassifier(\n",
    "    custom_loss = [catboost.metrics.Accuracy()],\n",
    "    random_seed = 42,\n",
    "    iterations = 200,\n",
    "    verbose = False\n",
    ")"
   ]
  },
  {
   "cell_type": "code",
   "execution_count": 107,
   "id": "799f36c8-8845-49b3-9fb7-6affb2292091",
   "metadata": {
    "tags": []
   },
   "outputs": [
    {
     "data": {
      "text/plain": [
       "<catboost.core.CatBoostClassifier at 0x7f4f6ae2e7d0>"
      ]
     },
     "execution_count": 107,
     "metadata": {},
     "output_type": "execute_result"
    }
   ],
   "source": [
    "model.fit(\n",
    "    train,\n",
    "    eval_set = validate\n",
    ")"
   ]
  },
  {
   "cell_type": "code",
   "execution_count": 108,
   "id": "6b5e5ac1-12d3-4068-8042-d6faffdbf48c",
   "metadata": {
    "tags": []
   },
   "outputs": [
    {
     "data": {
      "text/plain": [
       "{'learn': {'Accuracy': 0.9999034431301982, 'Logloss': 0.00043716791558089595},\n",
       " 'validation': {'Accuracy': 0.9995786664794073,\n",
       "  'Logloss': 0.002149552674352494}}"
      ]
     },
     "execution_count": 108,
     "metadata": {},
     "output_type": "execute_result"
    }
   ],
   "source": [
    "model.get_best_score()"
   ]
  },
  {
   "cell_type": "code",
   "execution_count": 109,
   "id": "3b36d33a-b435-4d30-b2f8-4277183e5279",
   "metadata": {
    "tags": []
   },
   "outputs": [
    {
     "data": {
      "text/plain": [
       "69"
      ]
     },
     "execution_count": 109,
     "metadata": {},
     "output_type": "execute_result"
    }
   ],
   "source": [
    "model.get_best_iteration()"
   ]
  },
  {
   "cell_type": "code",
   "execution_count": 110,
   "id": "2ae2bf94-5277-47ff-b45a-dd148903a759",
   "metadata": {
    "tags": []
   },
   "outputs": [
    {
     "data": {
      "text/plain": [
       "{'iterations': 200,\n",
       " 'random_seed': 42,\n",
       " 'verbose': False,\n",
       " 'custom_loss': ['Accuracy']}"
      ]
     },
     "execution_count": 110,
     "metadata": {},
     "output_type": "execute_result"
    }
   ],
   "source": [
    "model.get_params()"
   ]
  },
  {
   "cell_type": "code",
   "execution_count": 111,
   "id": "af877f7d-feb1-4ed9-b94e-8bd77a95d5ae",
   "metadata": {
    "tags": []
   },
   "outputs": [
    {
     "data": {
      "text/plain": [
       "{'nan_mode': 'Min',\n",
       " 'eval_metric': 'Logloss',\n",
       " 'iterations': 200,\n",
       " 'sampling_frequency': 'PerTree',\n",
       " 'leaf_estimation_method': 'Newton',\n",
       " 'random_score_type': 'NormalWithModelSizeDecrease',\n",
       " 'grow_policy': 'SymmetricTree',\n",
       " 'penalties_coefficient': 1,\n",
       " 'boosting_type': 'Plain',\n",
       " 'model_shrink_mode': 'Constant',\n",
       " 'feature_border_type': 'GreedyLogSum',\n",
       " 'bayesian_matrix_reg': 0.10000000149011612,\n",
       " 'eval_fraction': 0,\n",
       " 'force_unit_auto_pair_weights': False,\n",
       " 'l2_leaf_reg': 3,\n",
       " 'random_strength': 1,\n",
       " 'rsm': 1,\n",
       " 'boost_from_average': False,\n",
       " 'model_size_reg': 0.5,\n",
       " 'pool_metainfo_options': {'tags': {}},\n",
       " 'subsample': 0.800000011920929,\n",
       " 'use_best_model': True,\n",
       " 'class_names': [0, 1],\n",
       " 'random_seed': 42,\n",
       " 'depth': 6,\n",
       " 'posterior_sampling': False,\n",
       " 'border_count': 254,\n",
       " 'classes_count': 0,\n",
       " 'auto_class_weights': 'None',\n",
       " 'sparse_features_conflict_fraction': 0,\n",
       " 'custom_metric': ['Accuracy'],\n",
       " 'leaf_estimation_backtracking': 'AnyImprovement',\n",
       " 'best_model_min_trees': 1,\n",
       " 'model_shrink_rate': 0,\n",
       " 'min_data_in_leaf': 1,\n",
       " 'loss_function': 'Logloss',\n",
       " 'learning_rate': 0.24394799768924713,\n",
       " 'score_function': 'Cosine',\n",
       " 'task_type': 'CPU',\n",
       " 'leaf_estimation_iterations': 10,\n",
       " 'bootstrap_type': 'MVS',\n",
       " 'max_leaves': 64}"
      ]
     },
     "execution_count": 111,
     "metadata": {},
     "output_type": "execute_result"
    }
   ],
   "source": [
    "model.get_all_params()"
   ]
  },
  {
   "cell_type": "code",
   "execution_count": 124,
   "id": "763436ec-0239-4191-9045-8466ffe019e9",
   "metadata": {
    "tags": []
   },
   "outputs": [],
   "source": [
    "predictions = model.predict(test.get_features())\n",
    "predictions_probs = model.predict_proba(test.get_features())"
   ]
  },
  {
   "cell_type": "code",
   "execution_count": 125,
   "id": "83580551-6946-4a5e-a731-b464c17c5936",
   "metadata": {
    "tags": []
   },
   "outputs": [
    {
     "data": {
      "text/plain": [
       "array([0, 0, 0, 0, 0, 0, 0, 0, 0, 0])"
      ]
     },
     "execution_count": 125,
     "metadata": {},
     "output_type": "execute_result"
    }
   ],
   "source": [
    "predictions[0:10]"
   ]
  },
  {
   "cell_type": "code",
   "execution_count": 126,
   "id": "6e416ed6-b72e-416f-ba32-8975978ed25a",
   "metadata": {
    "tags": []
   },
   "outputs": [
    {
     "data": {
      "text/plain": [
       "array([[9.99921674e-01, 7.83259909e-05],\n",
       "       [9.89528053e-01, 1.04719474e-02],\n",
       "       [9.99981821e-01, 1.81792276e-05],\n",
       "       [9.99993107e-01, 6.89255259e-06],\n",
       "       [9.99600287e-01, 3.99712633e-04],\n",
       "       [9.99870655e-01, 1.29344732e-04],\n",
       "       [9.99973999e-01, 2.60012740e-05],\n",
       "       [9.99858036e-01, 1.41963930e-04],\n",
       "       [9.99982863e-01, 1.71372976e-05],\n",
       "       [9.99960022e-01, 3.99781716e-05]])"
      ]
     },
     "execution_count": 126,
     "metadata": {},
     "output_type": "execute_result"
    }
   ],
   "source": [
    "predictions_probs[0:10]"
   ]
  },
  {
   "cell_type": "code",
   "execution_count": 129,
   "id": "fb8fce12-c0b7-46fc-a9e5-c7fe75757cbb",
   "metadata": {
    "tags": []
   },
   "outputs": [
    {
     "data": {
      "text/plain": [
       "0.9994733330992591"
      ]
     },
     "execution_count": 129,
     "metadata": {},
     "output_type": "execute_result"
    }
   ],
   "source": [
    "sklearn.metrics.accuracy_score(\n",
    "    test.get_label(),\n",
    "    model.predict(test.get_features())\n",
    ")"
   ]
  },
  {
   "cell_type": "code",
   "execution_count": null,
   "id": "dfe6b6b5-99fe-4b6f-ba29-10444f107c84",
   "metadata": {},
   "outputs": [],
   "source": []
  },
  {
   "cell_type": "code",
   "execution_count": null,
   "id": "c98b5b68-b3df-4833-93d2-919a7b9b2476",
   "metadata": {},
   "outputs": [],
   "source": []
  },
  {
   "cell_type": "code",
   "execution_count": null,
   "id": "6a96361d-f289-48ef-9667-2d400219dcc2",
   "metadata": {},
   "outputs": [],
   "source": []
  }
 ],
 "metadata": {
  "environment": {
   "kernel": "conda-base-py",
   "name": "workbench-notebooks.m124",
   "type": "gcloud",
   "uri": "us-docker.pkg.dev/deeplearning-platform-release/gcr.io/workbench-notebooks:m124"
  },
  "kernelspec": {
   "display_name": "Python 3 (ipykernel)",
   "language": "python",
   "name": "conda-base-py"
  },
  "language_info": {
   "codemirror_mode": {
    "name": "ipython",
    "version": 3
   },
   "file_extension": ".py",
   "mimetype": "text/x-python",
   "name": "python",
   "nbconvert_exporter": "python",
   "pygments_lexer": "ipython3",
   "version": "3.10.14"
  }
 },
 "nbformat": 4,
 "nbformat_minor": 5
}
